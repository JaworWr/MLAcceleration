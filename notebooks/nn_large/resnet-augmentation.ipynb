{
 "cells": [
  {
   "cell_type": "code",
   "execution_count": 1,
   "id": "24bd44cf-136d-48c7-a346-32979949e27d",
   "metadata": {},
   "outputs": [],
   "source": [
    "import sys\n",
    "sys.path.insert(0, \"../..\")"
   ]
  },
  {
   "cell_type": "code",
   "execution_count": 2,
   "id": "anonymous-tackle",
   "metadata": {},
   "outputs": [],
   "source": [
    "import torch\n",
    "from torch import nn\n",
    "from torchvision import models\n",
    "from copy import deepcopy\n",
    "import os\n",
    "\n",
    "from nn_extrapolation import AcceleratedSGD\n",
    "from nn_utils import *"
   ]
  },
  {
   "cell_type": "code",
   "execution_count": 3,
   "id": "18c86948-09d6-4e27-804f-dd415a0c371c",
   "metadata": {},
   "outputs": [
    {
     "data": {
      "text/plain": [
       "True"
      ]
     },
     "execution_count": 3,
     "metadata": {},
     "output_type": "execute_result"
    }
   ],
   "source": [
    "torch.cuda.is_available()"
   ]
  },
  {
   "cell_type": "code",
   "execution_count": 4,
   "id": "through-stopping",
   "metadata": {},
   "outputs": [],
   "source": [
    "trainer = Trainer(\n",
    "    device=\"cuda:0\",\n",
    "    loss_fn=nn.NLLLoss(reduction=\"mean\"),\n",
    "    val_loss_fn=nn.NLLLoss(reduction=\"sum\"),\n",
    ")"
   ]
  },
  {
   "cell_type": "code",
   "execution_count": 5,
   "id": "e1f93199-29a0-45a5-ac52-24e9eafd4c90",
   "metadata": {},
   "outputs": [
    {
     "name": "stdout",
     "output_type": "stream",
     "text": [
      "Files already downloaded and verified\n",
      "Files already downloaded and verified\n"
     ]
    }
   ],
   "source": [
    "dl = load_dataset(\n",
    "    dataset=\"CIFAR10\",\n",
    "    root=os.path.join(\"/tmp\", os.environ[\"USER\"], \"CIFAR\"),\n",
    "    augmentation=transforms.RandomAffine(10, scale=(0.9, 1.1), translate=(0.2, 0.2)),\n",
    "    validation_split=0.2,\n",
    "    batch_size=128,\n",
    "    num_workers=10,\n",
    ")"
   ]
  },
  {
   "cell_type": "code",
   "execution_count": 6,
   "id": "broke-filename",
   "metadata": {
    "collapsed": true,
    "jupyter": {
     "outputs_hidden": true
    },
    "tags": []
   },
   "outputs": [
    {
     "data": {
      "text/plain": [
       "ResNet(\n",
       "  (conv1): Conv2d(3, 64, kernel_size=(7, 7), stride=(2, 2), padding=(3, 3), bias=False)\n",
       "  (bn1): BatchNorm2d(64, eps=1e-05, momentum=0.1, affine=True, track_running_stats=True)\n",
       "  (relu): ReLU(inplace=True)\n",
       "  (maxpool): MaxPool2d(kernel_size=3, stride=2, padding=1, dilation=1, ceil_mode=False)\n",
       "  (layer1): Sequential(\n",
       "    (0): BasicBlock(\n",
       "      (conv1): Conv2d(64, 64, kernel_size=(3, 3), stride=(1, 1), padding=(1, 1), bias=False)\n",
       "      (bn1): BatchNorm2d(64, eps=1e-05, momentum=0.1, affine=True, track_running_stats=True)\n",
       "      (relu): ReLU(inplace=True)\n",
       "      (conv2): Conv2d(64, 64, kernel_size=(3, 3), stride=(1, 1), padding=(1, 1), bias=False)\n",
       "      (bn2): BatchNorm2d(64, eps=1e-05, momentum=0.1, affine=True, track_running_stats=True)\n",
       "    )\n",
       "    (1): BasicBlock(\n",
       "      (conv1): Conv2d(64, 64, kernel_size=(3, 3), stride=(1, 1), padding=(1, 1), bias=False)\n",
       "      (bn1): BatchNorm2d(64, eps=1e-05, momentum=0.1, affine=True, track_running_stats=True)\n",
       "      (relu): ReLU(inplace=True)\n",
       "      (conv2): Conv2d(64, 64, kernel_size=(3, 3), stride=(1, 1), padding=(1, 1), bias=False)\n",
       "      (bn2): BatchNorm2d(64, eps=1e-05, momentum=0.1, affine=True, track_running_stats=True)\n",
       "    )\n",
       "  )\n",
       "  (layer2): Sequential(\n",
       "    (0): BasicBlock(\n",
       "      (conv1): Conv2d(64, 128, kernel_size=(3, 3), stride=(2, 2), padding=(1, 1), bias=False)\n",
       "      (bn1): BatchNorm2d(128, eps=1e-05, momentum=0.1, affine=True, track_running_stats=True)\n",
       "      (relu): ReLU(inplace=True)\n",
       "      (conv2): Conv2d(128, 128, kernel_size=(3, 3), stride=(1, 1), padding=(1, 1), bias=False)\n",
       "      (bn2): BatchNorm2d(128, eps=1e-05, momentum=0.1, affine=True, track_running_stats=True)\n",
       "      (downsample): Sequential(\n",
       "        (0): Conv2d(64, 128, kernel_size=(1, 1), stride=(2, 2), bias=False)\n",
       "        (1): BatchNorm2d(128, eps=1e-05, momentum=0.1, affine=True, track_running_stats=True)\n",
       "      )\n",
       "    )\n",
       "    (1): BasicBlock(\n",
       "      (conv1): Conv2d(128, 128, kernel_size=(3, 3), stride=(1, 1), padding=(1, 1), bias=False)\n",
       "      (bn1): BatchNorm2d(128, eps=1e-05, momentum=0.1, affine=True, track_running_stats=True)\n",
       "      (relu): ReLU(inplace=True)\n",
       "      (conv2): Conv2d(128, 128, kernel_size=(3, 3), stride=(1, 1), padding=(1, 1), bias=False)\n",
       "      (bn2): BatchNorm2d(128, eps=1e-05, momentum=0.1, affine=True, track_running_stats=True)\n",
       "    )\n",
       "  )\n",
       "  (layer3): Sequential(\n",
       "    (0): BasicBlock(\n",
       "      (conv1): Conv2d(128, 256, kernel_size=(3, 3), stride=(2, 2), padding=(1, 1), bias=False)\n",
       "      (bn1): BatchNorm2d(256, eps=1e-05, momentum=0.1, affine=True, track_running_stats=True)\n",
       "      (relu): ReLU(inplace=True)\n",
       "      (conv2): Conv2d(256, 256, kernel_size=(3, 3), stride=(1, 1), padding=(1, 1), bias=False)\n",
       "      (bn2): BatchNorm2d(256, eps=1e-05, momentum=0.1, affine=True, track_running_stats=True)\n",
       "      (downsample): Sequential(\n",
       "        (0): Conv2d(128, 256, kernel_size=(1, 1), stride=(2, 2), bias=False)\n",
       "        (1): BatchNorm2d(256, eps=1e-05, momentum=0.1, affine=True, track_running_stats=True)\n",
       "      )\n",
       "    )\n",
       "    (1): BasicBlock(\n",
       "      (conv1): Conv2d(256, 256, kernel_size=(3, 3), stride=(1, 1), padding=(1, 1), bias=False)\n",
       "      (bn1): BatchNorm2d(256, eps=1e-05, momentum=0.1, affine=True, track_running_stats=True)\n",
       "      (relu): ReLU(inplace=True)\n",
       "      (conv2): Conv2d(256, 256, kernel_size=(3, 3), stride=(1, 1), padding=(1, 1), bias=False)\n",
       "      (bn2): BatchNorm2d(256, eps=1e-05, momentum=0.1, affine=True, track_running_stats=True)\n",
       "    )\n",
       "  )\n",
       "  (layer4): Sequential(\n",
       "    (0): BasicBlock(\n",
       "      (conv1): Conv2d(256, 512, kernel_size=(3, 3), stride=(2, 2), padding=(1, 1), bias=False)\n",
       "      (bn1): BatchNorm2d(512, eps=1e-05, momentum=0.1, affine=True, track_running_stats=True)\n",
       "      (relu): ReLU(inplace=True)\n",
       "      (conv2): Conv2d(512, 512, kernel_size=(3, 3), stride=(1, 1), padding=(1, 1), bias=False)\n",
       "      (bn2): BatchNorm2d(512, eps=1e-05, momentum=0.1, affine=True, track_running_stats=True)\n",
       "      (downsample): Sequential(\n",
       "        (0): Conv2d(256, 512, kernel_size=(1, 1), stride=(2, 2), bias=False)\n",
       "        (1): BatchNorm2d(512, eps=1e-05, momentum=0.1, affine=True, track_running_stats=True)\n",
       "      )\n",
       "    )\n",
       "    (1): BasicBlock(\n",
       "      (conv1): Conv2d(512, 512, kernel_size=(3, 3), stride=(1, 1), padding=(1, 1), bias=False)\n",
       "      (bn1): BatchNorm2d(512, eps=1e-05, momentum=0.1, affine=True, track_running_stats=True)\n",
       "      (relu): ReLU(inplace=True)\n",
       "      (conv2): Conv2d(512, 512, kernel_size=(3, 3), stride=(1, 1), padding=(1, 1), bias=False)\n",
       "      (bn2): BatchNorm2d(512, eps=1e-05, momentum=0.1, affine=True, track_running_stats=True)\n",
       "    )\n",
       "  )\n",
       "  (avgpool): AdaptiveAvgPool2d(output_size=(1, 1))\n",
       "  (fc): Sequential(\n",
       "    (0): Linear(in_features=512, out_features=10, bias=True)\n",
       "    (1): LogSoftmax(dim=-1)\n",
       "  )\n",
       ")"
      ]
     },
     "execution_count": 6,
     "metadata": {},
     "output_type": "execute_result"
    }
   ],
   "source": [
    "model = models.resnet18(pretrained=False)\n",
    "model.fc = nn.Sequential(\n",
    "    nn.Linear(512, 10),\n",
    "    nn.LogSoftmax(-1)\n",
    ")\n",
    "initial_state = deepcopy(model.state_dict())\n",
    "model.to(trainer.device)"
   ]
  },
  {
   "cell_type": "code",
   "execution_count": 7,
   "id": "careful-suspect",
   "metadata": {},
   "outputs": [
    {
     "data": {
      "text/plain": [
       "(0.0973, 2.3487395290374757)"
      ]
     },
     "execution_count": 7,
     "metadata": {},
     "output_type": "execute_result"
    }
   ],
   "source": [
    "trainer.validation(model, dl[\"valid\"])"
   ]
  },
  {
   "cell_type": "markdown",
   "id": "proud-routine",
   "metadata": {},
   "source": [
    "## No momentum"
   ]
  },
  {
   "cell_type": "code",
   "execution_count": 8,
   "id": "employed-tennis",
   "metadata": {},
   "outputs": [
    {
     "data": {
      "text/plain": [
       "<torch._C.Generator at 0x7f991411b250>"
      ]
     },
     "execution_count": 8,
     "metadata": {},
     "output_type": "execute_result"
    }
   ],
   "source": [
    "optimizer = AcceleratedSGD(model.parameters(), 1e-1, k=10, momentum=0, weight_decay=0, lambda_=1e-8)\n",
    "logger = Logger(\"resnet_log_augmentation_no_momentum.txt.no_resizing\")\n",
    "torch.manual_seed(2020)"
   ]
  },
  {
   "cell_type": "code",
   "execution_count": 9,
   "id": "fatty-pendant",
   "metadata": {},
   "outputs": [
    {
     "name": "stdout",
     "output_type": "stream",
     "text": [
      "100%|██████████| 313/313 [00:15<00:00, 20.60it/s, loss=1.9113]\n",
      "Epoch 1 | Training loss: 1.9113, validation accuracy: 0.3912, validation loss: 1.7546\n",
      "100%|██████████| 313/313 [00:15<00:00, 20.65it/s, loss=1.5291]\n",
      "Epoch 2 | Training loss: 1.5291, validation accuracy: 0.4431, validation loss: 1.5080\n",
      "100%|██████████| 313/313 [00:15<00:00, 20.47it/s, loss=1.3856]\n",
      "Epoch 3 | Training loss: 1.3856, validation accuracy: 0.5028, validation loss: 1.3529\n",
      "100%|██████████| 313/313 [00:16<00:00, 19.13it/s, loss=1.2800]\n",
      "Epoch 4 | Training loss: 1.2800, validation accuracy: 0.5057, validation loss: 1.4907\n",
      "100%|██████████| 313/313 [00:16<00:00, 18.85it/s, loss=1.1990]\n",
      "Epoch 5 | Training loss: 1.1990, validation accuracy: 0.5586, validation loss: 1.3170\n",
      "100%|██████████| 313/313 [00:16<00:00, 18.83it/s, loss=1.1340]\n",
      "Epoch 6 | Training loss: 1.1340, validation accuracy: 0.5699, validation loss: 1.2577\n",
      "100%|██████████| 313/313 [00:16<00:00, 18.89it/s, loss=1.0785]\n",
      "Epoch 7 | Training loss: 1.0785, validation accuracy: 0.5829, validation loss: 1.1875\n",
      "100%|██████████| 313/313 [00:16<00:00, 18.78it/s, loss=1.0336]\n",
      "Epoch 8 | Training loss: 1.0336, validation accuracy: 0.6391, validation loss: 1.0328\n",
      "100%|██████████| 313/313 [00:16<00:00, 18.83it/s, loss=0.9838]\n",
      "Epoch 9 | Training loss: 0.9838, validation accuracy: 0.6463, validation loss: 1.0194\n",
      "100%|██████████| 313/313 [00:16<00:00, 18.81it/s, loss=0.9463]\n",
      "Epoch 10 | Training loss: 0.9463, validation accuracy: 0.6381, validation loss: 1.0302\n",
      "100%|██████████| 313/313 [00:16<00:00, 18.66it/s, loss=0.9185]\n",
      "Epoch 11 | Training loss: 0.9185, validation accuracy: 0.6332, validation loss: 1.0477\n",
      "100%|██████████| 313/313 [00:16<00:00, 18.79it/s, loss=0.8961]\n",
      "Epoch 12 | Training loss: 0.8961, validation accuracy: 0.6753, validation loss: 0.9304\n",
      "100%|██████████| 313/313 [00:16<00:00, 18.76it/s, loss=0.8576]\n",
      "Epoch 13 | Training loss: 0.8576, validation accuracy: 0.6845, validation loss: 0.9500\n",
      "100%|██████████| 313/313 [00:16<00:00, 18.76it/s, loss=0.8434]\n",
      "Epoch 14 | Training loss: 0.8434, validation accuracy: 0.6769, validation loss: 0.9498\n",
      "100%|██████████| 313/313 [00:16<00:00, 18.68it/s, loss=0.8158]\n",
      "Epoch 15 | Training loss: 0.8158, validation accuracy: 0.6747, validation loss: 0.9376\n",
      "100%|██████████| 313/313 [00:16<00:00, 18.73it/s, loss=0.7960]\n",
      "Epoch 16 | Training loss: 0.7960, validation accuracy: 0.6746, validation loss: 0.9410\n",
      "100%|██████████| 313/313 [00:16<00:00, 18.66it/s, loss=0.7746]\n",
      "Epoch 17 | Training loss: 0.7746, validation accuracy: 0.7012, validation loss: 0.8555\n",
      "100%|██████████| 313/313 [00:16<00:00, 18.68it/s, loss=0.7592]\n",
      "Epoch 18 | Training loss: 0.7592, validation accuracy: 0.7202, validation loss: 0.8121\n",
      "100%|██████████| 313/313 [00:16<00:00, 18.68it/s, loss=0.7319]\n",
      "Epoch 19 | Training loss: 0.7319, validation accuracy: 0.7352, validation loss: 0.7773\n",
      "100%|██████████| 313/313 [00:16<00:00, 18.75it/s, loss=0.7259]\n",
      "Epoch 20 | Training loss: 0.7259, validation accuracy: 0.7274, validation loss: 0.7970\n",
      "100%|██████████| 313/313 [00:16<00:00, 18.61it/s, loss=0.6976]\n",
      "Epoch 21 | Training loss: 0.6976, validation accuracy: 0.7307, validation loss: 0.8024\n",
      "100%|██████████| 313/313 [00:16<00:00, 18.72it/s, loss=0.6862]\n",
      "Epoch 22 | Training loss: 0.6862, validation accuracy: 0.7368, validation loss: 0.7744\n",
      "100%|██████████| 313/313 [00:16<00:00, 18.52it/s, loss=0.6708]\n",
      "Epoch 23 | Training loss: 0.6708, validation accuracy: 0.7516, validation loss: 0.7445\n",
      "100%|██████████| 313/313 [00:16<00:00, 18.65it/s, loss=0.6586]\n",
      "Epoch 24 | Training loss: 0.6586, validation accuracy: 0.7217, validation loss: 0.8297\n",
      "100%|██████████| 313/313 [00:16<00:00, 18.64it/s, loss=0.6472]\n",
      "Epoch 25 | Training loss: 0.6472, validation accuracy: 0.7530, validation loss: 0.7280\n"
     ]
    }
   ],
   "source": [
    "epochs = 25\n",
    "\n",
    "for epoch in range(epochs):\n",
    "    train_loss = trainer.train_epoch(model, optimizer, dl[\"train\"])\n",
    "    optimizer.finish_epoch()\n",
    "    val_acc, val_loss = trainer.validation(model, dl[\"valid\"])\n",
    "    logger.log(\"Epoch\", epoch+1, \"|\", \n",
    "          f\"Training loss: {train_loss:.4f}, validation accuracy: {val_acc:.4f}, validation loss: {val_loss:.4f}\")"
   ]
  },
  {
   "cell_type": "code",
   "execution_count": 10,
   "id": "metallic-workstation",
   "metadata": {},
   "outputs": [
    {
     "name": "stdout",
     "output_type": "stream",
     "text": [
      "Train: (0.765025, 0.6681581225395202)\n",
      "Valid: (0.753, 0.7279932846069336)\n"
     ]
    }
   ],
   "source": [
    "train_score = trainer.validation(model, dl[\"train\"])\n",
    "valid_score = trainer.validation(model, dl[\"valid\"])\n",
    "logger.log(\"Train:\", train_score)\n",
    "logger.log(\"Valid:\", valid_score)"
   ]
  },
  {
   "cell_type": "code",
   "execution_count": 11,
   "id": "pacific-thirty",
   "metadata": {},
   "outputs": [
    {
     "name": "stdout",
     "output_type": "stream",
     "text": [
      "RNA\n"
     ]
    }
   ],
   "source": [
    "optimizer.param_groups[0][\"method\"] = \"RNA\"\n",
    "logger.log(\"RNA\")\n",
    "model_acc = deepcopy(model)\n",
    "optimizer.accelerate()\n",
    "optimizer.store_parameters([model_acc.parameters()])"
   ]
  },
  {
   "cell_type": "code",
   "execution_count": 12,
   "id": "faced-tribe",
   "metadata": {
    "tags": []
   },
   "outputs": [
    {
     "name": "stdout",
     "output_type": "stream",
     "text": [
      "Train: (0.75865, 0.6773087636947632)\n",
      "Valid: (0.7365, 0.7447814754486084)\n"
     ]
    }
   ],
   "source": [
    "model_acc.to(trainer.device)\n",
    "train_score = trainer.validation(model_acc, dl[\"train\"])\n",
    "valid_score = trainer.validation(model_acc, dl[\"valid\"])\n",
    "logger.log(\"Train:\", train_score)\n",
    "logger.log(\"Valid:\", valid_score)"
   ]
  },
  {
   "cell_type": "code",
   "execution_count": 13,
   "id": "0a99436e-e283-4601-a51b-99ced3943b0b",
   "metadata": {},
   "outputs": [
    {
     "name": "stdout",
     "output_type": "stream",
     "text": [
      "RRE\n"
     ]
    }
   ],
   "source": [
    "optimizer.param_groups[0][\"method\"] = \"RRE\"\n",
    "logger.log(\"RRE\")\n",
    "model_acc = deepcopy(model)\n",
    "optimizer.accelerate()\n",
    "optimizer.store_parameters([model_acc.parameters()])"
   ]
  },
  {
   "cell_type": "code",
   "execution_count": 14,
   "id": "f44305f0-dc05-4bea-b6be-139178f10489",
   "metadata": {
    "tags": []
   },
   "outputs": [
    {
     "name": "stdout",
     "output_type": "stream",
     "text": [
      "Train: (0.759925, 0.6742146611213684)\n",
      "Valid: (0.7365, 0.7447812831878662)\n"
     ]
    }
   ],
   "source": [
    "model_acc.to(trainer.device)\n",
    "train_score = trainer.validation(model_acc, dl[\"train\"])\n",
    "valid_score = trainer.validation(model_acc, dl[\"valid\"])\n",
    "logger.log(\"Train:\", train_score)\n",
    "logger.log(\"Valid:\", valid_score)"
   ]
  },
  {
   "cell_type": "code",
   "execution_count": 15,
   "id": "regulated-globe",
   "metadata": {},
   "outputs": [],
   "source": [
    "optimizer.param_groups[0][\"lr\"] = 1e-2"
   ]
  },
  {
   "cell_type": "code",
   "execution_count": 16,
   "id": "4926f98f-aed8-43dc-9c6a-eb426240eadd",
   "metadata": {},
   "outputs": [
    {
     "name": "stdout",
     "output_type": "stream",
     "text": [
      "100%|██████████| 313/313 [00:16<00:00, 19.38it/s, loss=0.5559]\n",
      "Epoch 1 | Training loss: 0.5559, validation accuracy: 0.7867, validation loss: 0.6287\n",
      "100%|██████████| 313/313 [00:16<00:00, 18.76it/s, loss=0.5310]\n",
      "Epoch 2 | Training loss: 0.5310, validation accuracy: 0.7863, validation loss: 0.6352\n",
      "100%|██████████| 313/313 [00:16<00:00, 18.74it/s, loss=0.5191]\n",
      "Epoch 3 | Training loss: 0.5191, validation accuracy: 0.7887, validation loss: 0.6261\n",
      "100%|██████████| 313/313 [00:16<00:00, 18.61it/s, loss=0.5154]\n",
      "Epoch 4 | Training loss: 0.5154, validation accuracy: 0.7902, validation loss: 0.6352\n",
      "100%|██████████| 313/313 [00:16<00:00, 18.64it/s, loss=0.5062]\n",
      "Epoch 5 | Training loss: 0.5062, validation accuracy: 0.7919, validation loss: 0.6290\n",
      "100%|██████████| 313/313 [00:16<00:00, 18.72it/s, loss=0.5016]\n",
      "Epoch 6 | Training loss: 0.5016, validation accuracy: 0.7935, validation loss: 0.6371\n",
      "100%|██████████| 313/313 [00:16<00:00, 18.74it/s, loss=0.4989]\n",
      "Epoch 7 | Training loss: 0.4989, validation accuracy: 0.7920, validation loss: 0.6342\n",
      "100%|██████████| 313/313 [00:16<00:00, 18.66it/s, loss=0.4954]\n",
      "Epoch 8 | Training loss: 0.4954, validation accuracy: 0.7904, validation loss: 0.6334\n",
      "100%|██████████| 313/313 [00:16<00:00, 18.43it/s, loss=0.4874]\n",
      "Epoch 9 | Training loss: 0.4874, validation accuracy: 0.7911, validation loss: 0.6280\n",
      "100%|██████████| 313/313 [00:16<00:00, 18.75it/s, loss=0.4887]\n",
      "Epoch 10 | Training loss: 0.4887, validation accuracy: 0.7933, validation loss: 0.6256\n",
      "100%|██████████| 313/313 [00:16<00:00, 18.83it/s, loss=0.4863]\n",
      "Epoch 11 | Training loss: 0.4863, validation accuracy: 0.7929, validation loss: 0.6304\n",
      "100%|██████████| 313/313 [00:16<00:00, 18.67it/s, loss=0.4749]\n",
      "Epoch 12 | Training loss: 0.4749, validation accuracy: 0.7929, validation loss: 0.6309\n",
      "100%|██████████| 313/313 [00:16<00:00, 18.81it/s, loss=0.4727]\n",
      "Epoch 13 | Training loss: 0.4727, validation accuracy: 0.7940, validation loss: 0.6316\n",
      "100%|██████████| 313/313 [00:16<00:00, 18.71it/s, loss=0.4677]\n",
      "Epoch 14 | Training loss: 0.4677, validation accuracy: 0.7944, validation loss: 0.6231\n",
      "100%|██████████| 313/313 [00:16<00:00, 18.74it/s, loss=0.4731]\n",
      "Epoch 15 | Training loss: 0.4731, validation accuracy: 0.7936, validation loss: 0.6324\n",
      "100%|██████████| 313/313 [00:16<00:00, 18.73it/s, loss=0.4636]\n",
      "Epoch 16 | Training loss: 0.4636, validation accuracy: 0.7930, validation loss: 0.6339\n",
      "100%|██████████| 313/313 [00:16<00:00, 18.70it/s, loss=0.4576]\n",
      "Epoch 17 | Training loss: 0.4576, validation accuracy: 0.7958, validation loss: 0.6457\n",
      "100%|██████████| 313/313 [00:16<00:00, 18.68it/s, loss=0.4593]\n",
      "Epoch 18 | Training loss: 0.4593, validation accuracy: 0.7957, validation loss: 0.6259\n",
      "100%|██████████| 313/313 [00:16<00:00, 18.79it/s, loss=0.4552]\n",
      "Epoch 19 | Training loss: 0.4552, validation accuracy: 0.7923, validation loss: 0.6454\n",
      "100%|██████████| 313/313 [00:16<00:00, 18.72it/s, loss=0.4493]\n",
      "Epoch 20 | Training loss: 0.4493, validation accuracy: 0.7908, validation loss: 0.6349\n",
      "100%|██████████| 313/313 [00:16<00:00, 18.65it/s, loss=0.4530]\n",
      "Epoch 21 | Training loss: 0.4530, validation accuracy: 0.7972, validation loss: 0.6331\n",
      "100%|██████████| 313/313 [00:16<00:00, 18.85it/s, loss=0.4427]\n",
      "Epoch 22 | Training loss: 0.4427, validation accuracy: 0.7977, validation loss: 0.6377\n",
      "100%|██████████| 313/313 [00:16<00:00, 18.73it/s, loss=0.4474]\n",
      "Epoch 23 | Training loss: 0.4474, validation accuracy: 0.7977, validation loss: 0.6317\n",
      "100%|██████████| 313/313 [00:16<00:00, 18.75it/s, loss=0.4400]\n",
      "Epoch 24 | Training loss: 0.4400, validation accuracy: 0.7966, validation loss: 0.6414\n",
      "100%|██████████| 313/313 [00:16<00:00, 18.82it/s, loss=0.4382]\n",
      "Epoch 25 | Training loss: 0.4382, validation accuracy: 0.7965, validation loss: 0.6374\n"
     ]
    }
   ],
   "source": [
    "epochs = 25\n",
    "\n",
    "for epoch in range(epochs):\n",
    "    train_loss = trainer.train_epoch(model, optimizer, dl[\"train\"])\n",
    "    optimizer.finish_epoch()\n",
    "    val_acc, val_loss = trainer.validation(model, dl[\"valid\"])\n",
    "    logger.log(\"Epoch\", epoch+1, \"|\", \n",
    "          f\"Training loss: {train_loss:.4f}, validation accuracy: {val_acc:.4f}, validation loss: {val_loss:.4f}\")"
   ]
  },
  {
   "cell_type": "code",
   "execution_count": 17,
   "id": "ef0d1930-865b-43a8-9e38-c4d96f0af7b0",
   "metadata": {},
   "outputs": [
    {
     "name": "stdout",
     "output_type": "stream",
     "text": [
      "Train: (0.85675, 0.40390582523345947)\n",
      "Valid: (0.7965, 0.637440034866333)\n"
     ]
    }
   ],
   "source": [
    "train_score = trainer.validation(model, dl[\"train\"])\n",
    "valid_score = trainer.validation(model, dl[\"valid\"])\n",
    "logger.log(\"Train:\", train_score)\n",
    "logger.log(\"Valid:\", valid_score)"
   ]
  },
  {
   "cell_type": "code",
   "execution_count": 18,
   "id": "bdd5482c-7e9e-43e1-8c8e-449ae33b2875",
   "metadata": {},
   "outputs": [
    {
     "name": "stdout",
     "output_type": "stream",
     "text": [
      "RNA\n"
     ]
    }
   ],
   "source": [
    "optimizer.param_groups[0][\"method\"] = \"RNA\"\n",
    "logger.log(\"RNA\")\n",
    "model_acc = deepcopy(model)\n",
    "optimizer.accelerate()\n",
    "optimizer.store_parameters([model_acc.parameters()])"
   ]
  },
  {
   "cell_type": "code",
   "execution_count": 19,
   "id": "d647e197-1782-45e4-84f1-83bc9672b9fd",
   "metadata": {
    "tags": []
   },
   "outputs": [
    {
     "name": "stdout",
     "output_type": "stream",
     "text": [
      "Train: (0.8502, 0.4224253629207611)\n",
      "Valid: (0.7924, 0.6581800193786621)\n"
     ]
    }
   ],
   "source": [
    "model_acc.to(trainer.device)\n",
    "train_score = trainer.validation(model_acc, dl[\"train\"])\n",
    "valid_score = trainer.validation(model_acc, dl[\"valid\"])\n",
    "logger.log(\"Train:\", train_score)\n",
    "logger.log(\"Valid:\", valid_score)"
   ]
  },
  {
   "cell_type": "code",
   "execution_count": 20,
   "id": "896d8044-691c-42a9-91c1-006274b52c2e",
   "metadata": {},
   "outputs": [
    {
     "name": "stdout",
     "output_type": "stream",
     "text": [
      "RRE\n"
     ]
    }
   ],
   "source": [
    "optimizer.param_groups[0][\"method\"] = \"RRE\"\n",
    "logger.log(\"RRE\")\n",
    "model_acc = deepcopy(model)\n",
    "optimizer.accelerate()\n",
    "optimizer.store_parameters([model_acc.parameters()])"
   ]
  },
  {
   "cell_type": "code",
   "execution_count": 21,
   "id": "a9b512a3-5d7f-4d25-9785-681534162bae",
   "metadata": {
    "tags": []
   },
   "outputs": [
    {
     "name": "stdout",
     "output_type": "stream",
     "text": [
      "Train: (0.851275, 0.4192594344139099)\n",
      "Valid: (0.7924, 0.6581800266265869)\n"
     ]
    }
   ],
   "source": [
    "model_acc.to(trainer.device)\n",
    "train_score = trainer.validation(model_acc, dl[\"train\"])\n",
    "valid_score = trainer.validation(model_acc, dl[\"valid\"])\n",
    "logger.log(\"Train:\", train_score)\n",
    "logger.log(\"Valid:\", valid_score)"
   ]
  },
  {
   "cell_type": "code",
   "execution_count": 22,
   "id": "respected-console",
   "metadata": {},
   "outputs": [],
   "source": [
    "optimizer.param_groups[0][\"lr\"] = 1e-3"
   ]
  },
  {
   "cell_type": "code",
   "execution_count": 23,
   "id": "62375dd1-2950-4c7d-94cc-97077713c51b",
   "metadata": {},
   "outputs": [
    {
     "name": "stdout",
     "output_type": "stream",
     "text": [
      "100%|██████████| 313/313 [00:16<00:00, 19.44it/s, loss=0.4261]\n",
      "Epoch 1 | Training loss: 0.4261, validation accuracy: 0.7991, validation loss: 0.6262\n",
      "100%|██████████| 313/313 [00:16<00:00, 18.74it/s, loss=0.4224]\n",
      "Epoch 2 | Training loss: 0.4224, validation accuracy: 0.7988, validation loss: 0.6338\n",
      "100%|██████████| 313/313 [00:16<00:00, 18.80it/s, loss=0.4205]\n",
      "Epoch 3 | Training loss: 0.4205, validation accuracy: 0.7996, validation loss: 0.6265\n",
      "100%|██████████| 313/313 [00:16<00:00, 18.83it/s, loss=0.4170]\n",
      "Epoch 4 | Training loss: 0.4170, validation accuracy: 0.8006, validation loss: 0.6359\n",
      "100%|██████████| 313/313 [00:16<00:00, 18.70it/s, loss=0.4143]\n",
      "Epoch 5 | Training loss: 0.4143, validation accuracy: 0.7994, validation loss: 0.6375\n",
      "100%|██████████| 313/313 [00:16<00:00, 18.64it/s, loss=0.4170]\n",
      "Epoch 6 | Training loss: 0.4170, validation accuracy: 0.7993, validation loss: 0.6370\n",
      "100%|██████████| 313/313 [00:16<00:00, 18.66it/s, loss=0.4236]\n",
      "Epoch 7 | Training loss: 0.4236, validation accuracy: 0.7996, validation loss: 0.6345\n",
      "100%|██████████| 313/313 [00:16<00:00, 18.80it/s, loss=0.4175]\n",
      "Epoch 8 | Training loss: 0.4175, validation accuracy: 0.7985, validation loss: 0.6384\n",
      "100%|██████████| 313/313 [00:16<00:00, 18.82it/s, loss=0.4106]\n",
      "Epoch 9 | Training loss: 0.4106, validation accuracy: 0.7992, validation loss: 0.6356\n",
      "100%|██████████| 313/313 [00:16<00:00, 18.68it/s, loss=0.4140]\n",
      "Epoch 10 | Training loss: 0.4140, validation accuracy: 0.7999, validation loss: 0.6403\n",
      "100%|██████████| 313/313 [00:16<00:00, 18.62it/s, loss=0.4134]\n",
      "Epoch 11 | Training loss: 0.4134, validation accuracy: 0.7979, validation loss: 0.6456\n",
      "100%|██████████| 313/313 [00:16<00:00, 18.76it/s, loss=0.4156]\n",
      "Epoch 12 | Training loss: 0.4156, validation accuracy: 0.7991, validation loss: 0.6435\n",
      "100%|██████████| 313/313 [00:16<00:00, 18.85it/s, loss=0.4157]\n",
      "Epoch 13 | Training loss: 0.4157, validation accuracy: 0.7977, validation loss: 0.6454\n",
      "100%|██████████| 313/313 [00:16<00:00, 18.70it/s, loss=0.4098]\n",
      "Epoch 14 | Training loss: 0.4098, validation accuracy: 0.7990, validation loss: 0.6402\n",
      "100%|██████████| 313/313 [00:16<00:00, 18.76it/s, loss=0.4105]\n",
      "Epoch 15 | Training loss: 0.4105, validation accuracy: 0.7988, validation loss: 0.6441\n",
      "100%|██████████| 313/313 [00:16<00:00, 18.84it/s, loss=0.4153]\n",
      "Epoch 16 | Training loss: 0.4153, validation accuracy: 0.8001, validation loss: 0.6401\n",
      "100%|██████████| 313/313 [00:16<00:00, 18.74it/s, loss=0.4141]\n",
      "Epoch 17 | Training loss: 0.4141, validation accuracy: 0.8007, validation loss: 0.6323\n",
      "100%|██████████| 313/313 [00:16<00:00, 18.72it/s, loss=0.4113]\n",
      "Epoch 18 | Training loss: 0.4113, validation accuracy: 0.7987, validation loss: 0.6428\n",
      "100%|██████████| 313/313 [00:16<00:00, 18.78it/s, loss=0.4131]\n",
      "Epoch 19 | Training loss: 0.4131, validation accuracy: 0.7988, validation loss: 0.6480\n",
      "100%|██████████| 313/313 [00:16<00:00, 18.68it/s, loss=0.4116]\n",
      "Epoch 20 | Training loss: 0.4116, validation accuracy: 0.8010, validation loss: 0.6352\n",
      "100%|██████████| 313/313 [00:16<00:00, 18.74it/s, loss=0.4115]\n",
      "Epoch 21 | Training loss: 0.4115, validation accuracy: 0.8008, validation loss: 0.6405\n",
      "100%|██████████| 313/313 [00:16<00:00, 18.77it/s, loss=0.4144]\n",
      "Epoch 22 | Training loss: 0.4144, validation accuracy: 0.7982, validation loss: 0.6397\n",
      "100%|██████████| 313/313 [00:16<00:00, 18.81it/s, loss=0.4115]\n",
      "Epoch 23 | Training loss: 0.4115, validation accuracy: 0.8006, validation loss: 0.6319\n",
      "100%|██████████| 313/313 [00:16<00:00, 18.72it/s, loss=0.4071]\n",
      "Epoch 24 | Training loss: 0.4071, validation accuracy: 0.7993, validation loss: 0.6389\n",
      "100%|██████████| 313/313 [00:16<00:00, 18.71it/s, loss=0.4151]\n",
      "Epoch 25 | Training loss: 0.4151, validation accuracy: 0.7988, validation loss: 0.6375\n"
     ]
    }
   ],
   "source": [
    "epochs = 25\n",
    "\n",
    "for epoch in range(epochs):\n",
    "    train_loss = trainer.train_epoch(model, optimizer, dl[\"train\"])\n",
    "    optimizer.finish_epoch()\n",
    "    val_acc, val_loss = trainer.validation(model, dl[\"valid\"])\n",
    "    logger.log(\"Epoch\", epoch+1, \"|\", \n",
    "          f\"Training loss: {train_loss:.4f}, validation accuracy: {val_acc:.4f}, validation loss: {val_loss:.4f}\")"
   ]
  },
  {
   "cell_type": "code",
   "execution_count": 24,
   "id": "27806692-f100-465a-bfe8-a4be64e36d88",
   "metadata": {},
   "outputs": [
    {
     "name": "stdout",
     "output_type": "stream",
     "text": [
      "Train: (0.86385, 0.3849111888408661)\n",
      "Valid: (0.7988, 0.6374698726654052)\n"
     ]
    }
   ],
   "source": [
    "train_score = trainer.validation(model, dl[\"train\"])\n",
    "valid_score = trainer.validation(model, dl[\"valid\"])\n",
    "logger.log(\"Train:\", train_score)\n",
    "logger.log(\"Valid:\", valid_score)"
   ]
  },
  {
   "cell_type": "code",
   "execution_count": 25,
   "id": "0830e6e8-7291-495f-9a82-9a02f53004fd",
   "metadata": {},
   "outputs": [
    {
     "name": "stdout",
     "output_type": "stream",
     "text": [
      "RNA\n"
     ]
    }
   ],
   "source": [
    "optimizer.param_groups[0][\"method\"] = \"RNA\"\n",
    "logger.log(\"RNA\")\n",
    "model_acc = deepcopy(model)\n",
    "optimizer.accelerate()\n",
    "optimizer.store_parameters([model_acc.parameters()])"
   ]
  },
  {
   "cell_type": "code",
   "execution_count": 26,
   "id": "f06d768e-5785-4c03-93da-89d45a2c8f6e",
   "metadata": {
    "tags": []
   },
   "outputs": [
    {
     "name": "stdout",
     "output_type": "stream",
     "text": [
      "Train: (0.862175, 0.39002884130477905)\n",
      "Valid: (0.7995, 0.6393859085083008)\n"
     ]
    }
   ],
   "source": [
    "model_acc.to(trainer.device)\n",
    "train_score = trainer.validation(model_acc, dl[\"train\"])\n",
    "valid_score = trainer.validation(model_acc, dl[\"valid\"])\n",
    "logger.log(\"Train:\", train_score)\n",
    "logger.log(\"Valid:\", valid_score)"
   ]
  },
  {
   "cell_type": "code",
   "execution_count": 27,
   "id": "6e2fa71e-2253-470f-9e8f-34904aefe3af",
   "metadata": {},
   "outputs": [
    {
     "name": "stdout",
     "output_type": "stream",
     "text": [
      "RRE\n"
     ]
    }
   ],
   "source": [
    "optimizer.param_groups[0][\"method\"] = \"RRE\"\n",
    "logger.log(\"RRE\")\n",
    "model_acc = deepcopy(model)\n",
    "optimizer.accelerate()\n",
    "optimizer.store_parameters([model_acc.parameters()])"
   ]
  },
  {
   "cell_type": "code",
   "execution_count": 28,
   "id": "03bfdb39-45d6-4d77-9f6a-6885227b9c08",
   "metadata": {
    "tags": []
   },
   "outputs": [
    {
     "name": "stdout",
     "output_type": "stream",
     "text": [
      "Train: (0.8587, 0.39092918934822085)\n",
      "Valid: (0.7995, 0.639385498046875)\n"
     ]
    }
   ],
   "source": [
    "model_acc.to(trainer.device)\n",
    "train_score = trainer.validation(model_acc, dl[\"train\"])\n",
    "valid_score = trainer.validation(model_acc, dl[\"valid\"])\n",
    "logger.log(\"Train:\", train_score)\n",
    "logger.log(\"Valid:\", valid_score)"
   ]
  },
  {
   "cell_type": "markdown",
   "id": "careful-basin",
   "metadata": {},
   "source": [
    "## Momentum"
   ]
  },
  {
   "cell_type": "markdown",
   "id": "1ccc0e74-bad9-4b55-8b0c-70a4e2da61fd",
   "metadata": {},
   "source": [
    "### Lambda = 1e-16"
   ]
  },
  {
   "cell_type": "code",
   "execution_count": 29,
   "id": "29b2e4df-ee09-4a71-9f25-21884d67bba8",
   "metadata": {
    "tags": []
   },
   "outputs": [
    {
     "data": {
      "text/plain": [
       "ResNet(\n",
       "  (conv1): Conv2d(3, 64, kernel_size=(7, 7), stride=(2, 2), padding=(3, 3), bias=False)\n",
       "  (bn1): BatchNorm2d(64, eps=1e-05, momentum=0.1, affine=True, track_running_stats=True)\n",
       "  (relu): ReLU(inplace=True)\n",
       "  (maxpool): MaxPool2d(kernel_size=3, stride=2, padding=1, dilation=1, ceil_mode=False)\n",
       "  (layer1): Sequential(\n",
       "    (0): BasicBlock(\n",
       "      (conv1): Conv2d(64, 64, kernel_size=(3, 3), stride=(1, 1), padding=(1, 1), bias=False)\n",
       "      (bn1): BatchNorm2d(64, eps=1e-05, momentum=0.1, affine=True, track_running_stats=True)\n",
       "      (relu): ReLU(inplace=True)\n",
       "      (conv2): Conv2d(64, 64, kernel_size=(3, 3), stride=(1, 1), padding=(1, 1), bias=False)\n",
       "      (bn2): BatchNorm2d(64, eps=1e-05, momentum=0.1, affine=True, track_running_stats=True)\n",
       "    )\n",
       "    (1): BasicBlock(\n",
       "      (conv1): Conv2d(64, 64, kernel_size=(3, 3), stride=(1, 1), padding=(1, 1), bias=False)\n",
       "      (bn1): BatchNorm2d(64, eps=1e-05, momentum=0.1, affine=True, track_running_stats=True)\n",
       "      (relu): ReLU(inplace=True)\n",
       "      (conv2): Conv2d(64, 64, kernel_size=(3, 3), stride=(1, 1), padding=(1, 1), bias=False)\n",
       "      (bn2): BatchNorm2d(64, eps=1e-05, momentum=0.1, affine=True, track_running_stats=True)\n",
       "    )\n",
       "  )\n",
       "  (layer2): Sequential(\n",
       "    (0): BasicBlock(\n",
       "      (conv1): Conv2d(64, 128, kernel_size=(3, 3), stride=(2, 2), padding=(1, 1), bias=False)\n",
       "      (bn1): BatchNorm2d(128, eps=1e-05, momentum=0.1, affine=True, track_running_stats=True)\n",
       "      (relu): ReLU(inplace=True)\n",
       "      (conv2): Conv2d(128, 128, kernel_size=(3, 3), stride=(1, 1), padding=(1, 1), bias=False)\n",
       "      (bn2): BatchNorm2d(128, eps=1e-05, momentum=0.1, affine=True, track_running_stats=True)\n",
       "      (downsample): Sequential(\n",
       "        (0): Conv2d(64, 128, kernel_size=(1, 1), stride=(2, 2), bias=False)\n",
       "        (1): BatchNorm2d(128, eps=1e-05, momentum=0.1, affine=True, track_running_stats=True)\n",
       "      )\n",
       "    )\n",
       "    (1): BasicBlock(\n",
       "      (conv1): Conv2d(128, 128, kernel_size=(3, 3), stride=(1, 1), padding=(1, 1), bias=False)\n",
       "      (bn1): BatchNorm2d(128, eps=1e-05, momentum=0.1, affine=True, track_running_stats=True)\n",
       "      (relu): ReLU(inplace=True)\n",
       "      (conv2): Conv2d(128, 128, kernel_size=(3, 3), stride=(1, 1), padding=(1, 1), bias=False)\n",
       "      (bn2): BatchNorm2d(128, eps=1e-05, momentum=0.1, affine=True, track_running_stats=True)\n",
       "    )\n",
       "  )\n",
       "  (layer3): Sequential(\n",
       "    (0): BasicBlock(\n",
       "      (conv1): Conv2d(128, 256, kernel_size=(3, 3), stride=(2, 2), padding=(1, 1), bias=False)\n",
       "      (bn1): BatchNorm2d(256, eps=1e-05, momentum=0.1, affine=True, track_running_stats=True)\n",
       "      (relu): ReLU(inplace=True)\n",
       "      (conv2): Conv2d(256, 256, kernel_size=(3, 3), stride=(1, 1), padding=(1, 1), bias=False)\n",
       "      (bn2): BatchNorm2d(256, eps=1e-05, momentum=0.1, affine=True, track_running_stats=True)\n",
       "      (downsample): Sequential(\n",
       "        (0): Conv2d(128, 256, kernel_size=(1, 1), stride=(2, 2), bias=False)\n",
       "        (1): BatchNorm2d(256, eps=1e-05, momentum=0.1, affine=True, track_running_stats=True)\n",
       "      )\n",
       "    )\n",
       "    (1): BasicBlock(\n",
       "      (conv1): Conv2d(256, 256, kernel_size=(3, 3), stride=(1, 1), padding=(1, 1), bias=False)\n",
       "      (bn1): BatchNorm2d(256, eps=1e-05, momentum=0.1, affine=True, track_running_stats=True)\n",
       "      (relu): ReLU(inplace=True)\n",
       "      (conv2): Conv2d(256, 256, kernel_size=(3, 3), stride=(1, 1), padding=(1, 1), bias=False)\n",
       "      (bn2): BatchNorm2d(256, eps=1e-05, momentum=0.1, affine=True, track_running_stats=True)\n",
       "    )\n",
       "  )\n",
       "  (layer4): Sequential(\n",
       "    (0): BasicBlock(\n",
       "      (conv1): Conv2d(256, 512, kernel_size=(3, 3), stride=(2, 2), padding=(1, 1), bias=False)\n",
       "      (bn1): BatchNorm2d(512, eps=1e-05, momentum=0.1, affine=True, track_running_stats=True)\n",
       "      (relu): ReLU(inplace=True)\n",
       "      (conv2): Conv2d(512, 512, kernel_size=(3, 3), stride=(1, 1), padding=(1, 1), bias=False)\n",
       "      (bn2): BatchNorm2d(512, eps=1e-05, momentum=0.1, affine=True, track_running_stats=True)\n",
       "      (downsample): Sequential(\n",
       "        (0): Conv2d(256, 512, kernel_size=(1, 1), stride=(2, 2), bias=False)\n",
       "        (1): BatchNorm2d(512, eps=1e-05, momentum=0.1, affine=True, track_running_stats=True)\n",
       "      )\n",
       "    )\n",
       "    (1): BasicBlock(\n",
       "      (conv1): Conv2d(512, 512, kernel_size=(3, 3), stride=(1, 1), padding=(1, 1), bias=False)\n",
       "      (bn1): BatchNorm2d(512, eps=1e-05, momentum=0.1, affine=True, track_running_stats=True)\n",
       "      (relu): ReLU(inplace=True)\n",
       "      (conv2): Conv2d(512, 512, kernel_size=(3, 3), stride=(1, 1), padding=(1, 1), bias=False)\n",
       "      (bn2): BatchNorm2d(512, eps=1e-05, momentum=0.1, affine=True, track_running_stats=True)\n",
       "    )\n",
       "  )\n",
       "  (avgpool): AdaptiveAvgPool2d(output_size=(1, 1))\n",
       "  (fc): Sequential(\n",
       "    (0): Linear(in_features=512, out_features=10, bias=True)\n",
       "    (1): LogSoftmax(dim=-1)\n",
       "  )\n",
       ")"
      ]
     },
     "execution_count": 29,
     "metadata": {},
     "output_type": "execute_result"
    }
   ],
   "source": [
    "model.load_state_dict(initial_state)\n",
    "model.to(trainer.device)"
   ]
  },
  {
   "cell_type": "code",
   "execution_count": 30,
   "id": "f6bc86a6-3979-470c-a7c8-5b7faaf31066",
   "metadata": {},
   "outputs": [
    {
     "data": {
      "text/plain": [
       "(0.0973, 2.3487395290374757)"
      ]
     },
     "execution_count": 30,
     "metadata": {},
     "output_type": "execute_result"
    }
   ],
   "source": [
    "trainer.validation(model, dl[\"valid\"])"
   ]
  },
  {
   "cell_type": "code",
   "execution_count": 31,
   "id": "969261ce-19cc-41e5-893b-adff4cbe0509",
   "metadata": {},
   "outputs": [
    {
     "data": {
      "text/plain": [
       "<torch._C.Generator at 0x7f991411b250>"
      ]
     },
     "execution_count": 31,
     "metadata": {},
     "output_type": "execute_result"
    }
   ],
   "source": [
    "optimizer = AcceleratedSGD(model.parameters(), 1e-1, k=10, momentum=0.9, weight_decay=1e-5, lambda_=1e-16)\n",
    "logger = Logger(\"resnet_log_augmentation-lambda=1e-16.txt.no_resizing\")\n",
    "torch.manual_seed(2020)"
   ]
  },
  {
   "cell_type": "code",
   "execution_count": 32,
   "id": "b2cf5642-94af-4fc9-9d45-d1e508df3415",
   "metadata": {},
   "outputs": [
    {
     "name": "stdout",
     "output_type": "stream",
     "text": [
      "100%|██████████| 313/313 [00:16<00:00, 19.04it/s, loss=2.3219]\n",
      "Epoch 1 | Training loss: 2.3219, validation accuracy: 0.3290, validation loss: 1.9954\n",
      "100%|██████████| 313/313 [00:17<00:00, 18.24it/s, loss=1.7005]\n",
      "Epoch 2 | Training loss: 1.7005, validation accuracy: 0.4002, validation loss: 1.7723\n",
      "100%|██████████| 313/313 [00:17<00:00, 18.26it/s, loss=1.5392]\n",
      "Epoch 3 | Training loss: 1.5392, validation accuracy: 0.4673, validation loss: 1.4557\n",
      "100%|██████████| 313/313 [00:17<00:00, 18.23it/s, loss=1.4188]\n",
      "Epoch 4 | Training loss: 1.4188, validation accuracy: 0.5098, validation loss: 1.3614\n",
      "100%|██████████| 313/313 [00:17<00:00, 18.26it/s, loss=1.3305]\n",
      "Epoch 5 | Training loss: 1.3305, validation accuracy: 0.5462, validation loss: 1.2381\n",
      "100%|██████████| 313/313 [00:17<00:00, 18.15it/s, loss=1.2491]\n",
      "Epoch 6 | Training loss: 1.2491, validation accuracy: 0.5891, validation loss: 1.1421\n",
      "100%|██████████| 313/313 [00:17<00:00, 18.09it/s, loss=1.1814]\n",
      "Epoch 7 | Training loss: 1.1814, validation accuracy: 0.6143, validation loss: 1.0900\n",
      "100%|██████████| 313/313 [00:17<00:00, 18.27it/s, loss=1.1153]\n",
      "Epoch 8 | Training loss: 1.1153, validation accuracy: 0.6351, validation loss: 1.0301\n",
      "100%|██████████| 313/313 [00:17<00:00, 18.21it/s, loss=1.0751]\n",
      "Epoch 9 | Training loss: 1.0751, validation accuracy: 0.6509, validation loss: 0.9957\n",
      "100%|██████████| 313/313 [00:17<00:00, 18.30it/s, loss=1.0283]\n",
      "Epoch 10 | Training loss: 1.0283, validation accuracy: 0.6532, validation loss: 1.0020\n",
      "100%|██████████| 313/313 [00:17<00:00, 18.14it/s, loss=0.9790]\n",
      "Epoch 11 | Training loss: 0.9790, validation accuracy: 0.6641, validation loss: 0.9600\n",
      "100%|██████████| 313/313 [00:17<00:00, 18.13it/s, loss=0.9488]\n",
      "Epoch 12 | Training loss: 0.9488, validation accuracy: 0.6951, validation loss: 0.8651\n",
      "100%|██████████| 313/313 [00:17<00:00, 18.22it/s, loss=0.9084]\n",
      "Epoch 13 | Training loss: 0.9084, validation accuracy: 0.6949, validation loss: 0.8900\n",
      "100%|██████████| 313/313 [00:17<00:00, 18.22it/s, loss=0.8853]\n",
      "Epoch 14 | Training loss: 0.8853, validation accuracy: 0.7042, validation loss: 0.8578\n",
      "100%|██████████| 313/313 [00:17<00:00, 18.15it/s, loss=0.8556]\n",
      "Epoch 15 | Training loss: 0.8556, validation accuracy: 0.7050, validation loss: 0.8536\n",
      "100%|██████████| 313/313 [00:17<00:00, 18.16it/s, loss=0.8334]\n",
      "Epoch 16 | Training loss: 0.8334, validation accuracy: 0.7232, validation loss: 0.8092\n",
      "100%|██████████| 313/313 [00:17<00:00, 18.01it/s, loss=0.8009]\n",
      "Epoch 17 | Training loss: 0.8009, validation accuracy: 0.7171, validation loss: 0.8306\n",
      "100%|██████████| 313/313 [00:17<00:00, 18.14it/s, loss=0.7758]\n",
      "Epoch 18 | Training loss: 0.7758, validation accuracy: 0.7287, validation loss: 0.7816\n",
      "100%|██████████| 313/313 [00:17<00:00, 18.06it/s, loss=0.7580]\n",
      "Epoch 19 | Training loss: 0.7580, validation accuracy: 0.7332, validation loss: 0.7882\n",
      "100%|██████████| 313/313 [00:17<00:00, 18.12it/s, loss=0.7477]\n",
      "Epoch 20 | Training loss: 0.7477, validation accuracy: 0.7429, validation loss: 0.7414\n",
      "100%|██████████| 313/313 [00:17<00:00, 18.12it/s, loss=0.7226]\n",
      "Epoch 21 | Training loss: 0.7226, validation accuracy: 0.7553, validation loss: 0.7036\n",
      "100%|██████████| 313/313 [00:17<00:00, 18.10it/s, loss=0.6996]\n",
      "Epoch 22 | Training loss: 0.6996, validation accuracy: 0.7326, validation loss: 0.8037\n",
      "100%|██████████| 313/313 [00:17<00:00, 18.11it/s, loss=0.6886]\n",
      "Epoch 23 | Training loss: 0.6886, validation accuracy: 0.7542, validation loss: 0.7142\n",
      "100%|██████████| 313/313 [00:17<00:00, 18.11it/s, loss=0.6741]\n",
      "Epoch 24 | Training loss: 0.6741, validation accuracy: 0.7628, validation loss: 0.6986\n",
      "100%|██████████| 313/313 [00:17<00:00, 18.05it/s, loss=0.6533]\n",
      "Epoch 25 | Training loss: 0.6533, validation accuracy: 0.7684, validation loss: 0.6858\n"
     ]
    }
   ],
   "source": [
    "epochs = 25\n",
    "\n",
    "for epoch in range(epochs):\n",
    "    train_loss = trainer.train_epoch(model, optimizer, dl[\"train\"])\n",
    "    optimizer.finish_epoch()\n",
    "    val_acc, val_loss = trainer.validation(model, dl[\"valid\"])\n",
    "    logger.log(\"Epoch\", epoch+1, \"|\", \n",
    "          f\"Training loss: {train_loss:.4f}, validation accuracy: {val_acc:.4f}, validation loss: {val_loss:.4f}\")"
   ]
  },
  {
   "cell_type": "code",
   "execution_count": 33,
   "id": "ec3e9f21-590a-4271-8095-c77066e2a18a",
   "metadata": {},
   "outputs": [
    {
     "name": "stdout",
     "output_type": "stream",
     "text": [
      "Train: (0.785475, 0.6074533045768737)\n",
      "Valid: (0.7684, 0.6857794876098633)\n"
     ]
    }
   ],
   "source": [
    "train_score = trainer.validation(model, dl[\"train\"])\n",
    "valid_score = trainer.validation(model, dl[\"valid\"])\n",
    "logger.log(\"Train:\", train_score)\n",
    "logger.log(\"Valid:\", valid_score)"
   ]
  },
  {
   "cell_type": "code",
   "execution_count": 34,
   "id": "ac92b41e-a7d1-4192-964e-af97742b9bad",
   "metadata": {},
   "outputs": [
    {
     "name": "stdout",
     "output_type": "stream",
     "text": [
      "RNA\n"
     ]
    }
   ],
   "source": [
    "optimizer.param_groups[0][\"method\"] = \"RNA\"\n",
    "logger.log(\"RNA\")\n",
    "model_acc = deepcopy(model)\n",
    "optimizer.accelerate()\n",
    "optimizer.store_parameters([model_acc.parameters()])"
   ]
  },
  {
   "cell_type": "code",
   "execution_count": 35,
   "id": "2e40a7c3-ee19-4fc7-9389-c4743930625d",
   "metadata": {
    "tags": []
   },
   "outputs": [
    {
     "name": "stdout",
     "output_type": "stream",
     "text": [
      "Train: (0.760175, 0.6804563817024231)\n",
      "Valid: (0.7543, 0.7340531223297119)\n"
     ]
    }
   ],
   "source": [
    "model_acc.to(trainer.device)\n",
    "train_score = trainer.validation(model_acc, dl[\"train\"])\n",
    "valid_score = trainer.validation(model_acc, dl[\"valid\"])\n",
    "logger.log(\"Train:\", train_score)\n",
    "logger.log(\"Valid:\", valid_score)"
   ]
  },
  {
   "cell_type": "code",
   "execution_count": 36,
   "id": "b46794ac-da52-492c-8319-4e40bccd6d1e",
   "metadata": {},
   "outputs": [
    {
     "name": "stdout",
     "output_type": "stream",
     "text": [
      "RRE\n"
     ]
    }
   ],
   "source": [
    "optimizer.param_groups[0][\"method\"] = \"RRE\"\n",
    "logger.log(\"RRE\")\n",
    "model_acc = deepcopy(model)\n",
    "optimizer.accelerate()\n",
    "optimizer.store_parameters([model_acc.parameters()])"
   ]
  },
  {
   "cell_type": "code",
   "execution_count": 37,
   "id": "2951b59f-e8fb-43b3-958e-038bf0e7f3ab",
   "metadata": {
    "tags": []
   },
   "outputs": [
    {
     "name": "stdout",
     "output_type": "stream",
     "text": [
      "Train: (0.763225, 0.6777015210151672)\n",
      "Valid: (0.7543, 0.7340531635284424)\n"
     ]
    }
   ],
   "source": [
    "model_acc.to(trainer.device)\n",
    "train_score = trainer.validation(model_acc, dl[\"train\"])\n",
    "valid_score = trainer.validation(model_acc, dl[\"valid\"])\n",
    "logger.log(\"Train:\", train_score)\n",
    "logger.log(\"Valid:\", valid_score)"
   ]
  },
  {
   "cell_type": "code",
   "execution_count": 38,
   "id": "4119ddb6-ebeb-404b-b439-4061bcda8687",
   "metadata": {},
   "outputs": [],
   "source": [
    "optimizer.param_groups[0][\"lr\"] = 1e-2"
   ]
  },
  {
   "cell_type": "code",
   "execution_count": 39,
   "id": "d24467ee-27c6-42cb-ad10-d78711242ef9",
   "metadata": {},
   "outputs": [
    {
     "name": "stdout",
     "output_type": "stream",
     "text": [
      "100%|██████████| 313/313 [00:16<00:00, 18.90it/s, loss=0.5531]\n",
      "Epoch 1 | Training loss: 0.5531, validation accuracy: 0.7909, validation loss: 0.6157\n",
      "100%|██████████| 313/313 [00:17<00:00, 18.23it/s, loss=0.5213]\n",
      "Epoch 2 | Training loss: 0.5213, validation accuracy: 0.7947, validation loss: 0.6164\n",
      "100%|██████████| 313/313 [00:17<00:00, 18.15it/s, loss=0.5106]\n",
      "Epoch 3 | Training loss: 0.5106, validation accuracy: 0.7959, validation loss: 0.6138\n",
      "100%|██████████| 313/313 [00:17<00:00, 18.09it/s, loss=0.4985]\n",
      "Epoch 4 | Training loss: 0.4985, validation accuracy: 0.7975, validation loss: 0.6159\n",
      "100%|██████████| 313/313 [00:17<00:00, 18.15it/s, loss=0.4899]\n",
      "Epoch 5 | Training loss: 0.4899, validation accuracy: 0.7978, validation loss: 0.6146\n",
      "100%|██████████| 313/313 [00:17<00:00, 18.14it/s, loss=0.4832]\n",
      "Epoch 6 | Training loss: 0.4832, validation accuracy: 0.7960, validation loss: 0.6166\n",
      "100%|██████████| 313/313 [00:17<00:00, 18.04it/s, loss=0.4788]\n",
      "Epoch 7 | Training loss: 0.4788, validation accuracy: 0.7998, validation loss: 0.6155\n",
      "100%|██████████| 313/313 [00:17<00:00, 18.13it/s, loss=0.4654]\n",
      "Epoch 8 | Training loss: 0.4654, validation accuracy: 0.7998, validation loss: 0.6102\n",
      "100%|██████████| 313/313 [00:17<00:00, 18.02it/s, loss=0.4670]\n",
      "Epoch 9 | Training loss: 0.4670, validation accuracy: 0.7991, validation loss: 0.6145\n",
      "100%|██████████| 313/313 [00:17<00:00, 18.03it/s, loss=0.4673]\n",
      "Epoch 10 | Training loss: 0.4673, validation accuracy: 0.7981, validation loss: 0.6166\n",
      "100%|██████████| 313/313 [00:17<00:00, 18.08it/s, loss=0.4544]\n",
      "Epoch 11 | Training loss: 0.4544, validation accuracy: 0.7994, validation loss: 0.6194\n",
      "100%|██████████| 313/313 [00:17<00:00, 18.02it/s, loss=0.4468]\n",
      "Epoch 12 | Training loss: 0.4468, validation accuracy: 0.8004, validation loss: 0.6171\n",
      "100%|██████████| 313/313 [00:17<00:00, 18.10it/s, loss=0.4450]\n",
      "Epoch 13 | Training loss: 0.4450, validation accuracy: 0.7996, validation loss: 0.6181\n",
      "100%|██████████| 313/313 [00:17<00:00, 18.07it/s, loss=0.4387]\n",
      "Epoch 14 | Training loss: 0.4387, validation accuracy: 0.7985, validation loss: 0.6160\n",
      "100%|██████████| 313/313 [00:17<00:00, 18.05it/s, loss=0.4379]\n",
      "Epoch 15 | Training loss: 0.4379, validation accuracy: 0.8015, validation loss: 0.6233\n",
      "100%|██████████| 313/313 [00:17<00:00, 18.11it/s, loss=0.4374]\n",
      "Epoch 16 | Training loss: 0.4374, validation accuracy: 0.8007, validation loss: 0.6215\n",
      "100%|██████████| 313/313 [00:17<00:00, 18.20it/s, loss=0.4275]\n",
      "Epoch 17 | Training loss: 0.4275, validation accuracy: 0.8018, validation loss: 0.6188\n",
      "100%|██████████| 313/313 [00:17<00:00, 18.11it/s, loss=0.4251]\n",
      "Epoch 18 | Training loss: 0.4251, validation accuracy: 0.8015, validation loss: 0.6195\n",
      "100%|██████████| 313/313 [00:17<00:00, 18.00it/s, loss=0.4222]\n",
      "Epoch 19 | Training loss: 0.4222, validation accuracy: 0.8033, validation loss: 0.6176\n",
      "100%|██████████| 313/313 [00:17<00:00, 18.06it/s, loss=0.4167]\n",
      "Epoch 20 | Training loss: 0.4167, validation accuracy: 0.8022, validation loss: 0.6189\n",
      "100%|██████████| 313/313 [00:17<00:00, 18.08it/s, loss=0.4175]\n",
      "Epoch 21 | Training loss: 0.4175, validation accuracy: 0.8015, validation loss: 0.6308\n",
      "100%|██████████| 313/313 [00:17<00:00, 18.18it/s, loss=0.4109]\n",
      "Epoch 22 | Training loss: 0.4109, validation accuracy: 0.8026, validation loss: 0.6219\n",
      "100%|██████████| 313/313 [00:17<00:00, 18.06it/s, loss=0.4020]\n",
      "Epoch 23 | Training loss: 0.4020, validation accuracy: 0.8013, validation loss: 0.6319\n",
      "100%|██████████| 313/313 [00:17<00:00, 18.16it/s, loss=0.4019]\n",
      "Epoch 24 | Training loss: 0.4019, validation accuracy: 0.8004, validation loss: 0.6342\n",
      "100%|██████████| 313/313 [00:17<00:00, 18.09it/s, loss=0.3953]\n",
      "Epoch 25 | Training loss: 0.3953, validation accuracy: 0.8038, validation loss: 0.6344\n"
     ]
    }
   ],
   "source": [
    "epochs = 25\n",
    "\n",
    "for epoch in range(epochs):\n",
    "    train_loss = trainer.train_epoch(model, optimizer, dl[\"train\"])\n",
    "    optimizer.finish_epoch()\n",
    "    val_acc, val_loss = trainer.validation(model, dl[\"valid\"])\n",
    "    logger.log(\"Epoch\", epoch+1, \"|\", \n",
    "          f\"Training loss: {train_loss:.4f}, validation accuracy: {val_acc:.4f}, validation loss: {val_loss:.4f}\")"
   ]
  },
  {
   "cell_type": "code",
   "execution_count": 40,
   "id": "d81d17df-d9bf-4dbe-aec4-1dea832e2aae",
   "metadata": {},
   "outputs": [
    {
     "name": "stdout",
     "output_type": "stream",
     "text": [
      "Train: (0.867925, 0.3674719787597656)\n",
      "Valid: (0.8038, 0.6344386264801025)\n"
     ]
    }
   ],
   "source": [
    "train_score = trainer.validation(model, dl[\"train\"])\n",
    "valid_score = trainer.validation(model, dl[\"valid\"])\n",
    "logger.log(\"Train:\", train_score)\n",
    "logger.log(\"Valid:\", valid_score)"
   ]
  },
  {
   "cell_type": "code",
   "execution_count": 41,
   "id": "6dca9a02-c737-4175-b490-4f680dac0a44",
   "metadata": {},
   "outputs": [
    {
     "name": "stdout",
     "output_type": "stream",
     "text": [
      "RNA\n"
     ]
    }
   ],
   "source": [
    "optimizer.param_groups[0][\"method\"] = \"RNA\"\n",
    "logger.log(\"RNA\")\n",
    "model_acc = deepcopy(model)\n",
    "optimizer.accelerate()\n",
    "optimizer.store_parameters([model_acc.parameters()])"
   ]
  },
  {
   "cell_type": "code",
   "execution_count": 42,
   "id": "23f4fe44-ebe3-44b2-814c-1f66ad0805ca",
   "metadata": {
    "tags": []
   },
   "outputs": [
    {
     "name": "stdout",
     "output_type": "stream",
     "text": [
      "Train: (0.8635, 0.3829957002162933)\n",
      "Valid: (0.7988, 0.653402723121643)\n"
     ]
    }
   ],
   "source": [
    "model_acc.to(trainer.device)\n",
    "train_score = trainer.validation(model_acc, dl[\"train\"])\n",
    "valid_score = trainer.validation(model_acc, dl[\"valid\"])\n",
    "logger.log(\"Train:\", train_score)\n",
    "logger.log(\"Valid:\", valid_score)"
   ]
  },
  {
   "cell_type": "code",
   "execution_count": 43,
   "id": "ca37682a-06ff-4b1d-9186-f3f26073a54f",
   "metadata": {},
   "outputs": [
    {
     "name": "stdout",
     "output_type": "stream",
     "text": [
      "RRE\n"
     ]
    }
   ],
   "source": [
    "optimizer.param_groups[0][\"method\"] = \"RRE\"\n",
    "logger.log(\"RRE\")\n",
    "model_acc = deepcopy(model)\n",
    "optimizer.accelerate()\n",
    "optimizer.store_parameters([model_acc.parameters()])"
   ]
  },
  {
   "cell_type": "code",
   "execution_count": 44,
   "id": "5d6516d7-bdea-4307-afe6-7ad865aac7df",
   "metadata": {
    "tags": []
   },
   "outputs": [
    {
     "name": "stdout",
     "output_type": "stream",
     "text": [
      "Train: (0.864425, 0.38156471071243286)\n",
      "Valid: (0.7988, 0.653402609539032)\n"
     ]
    }
   ],
   "source": [
    "model_acc.to(trainer.device)\n",
    "train_score = trainer.validation(model_acc, dl[\"train\"])\n",
    "valid_score = trainer.validation(model_acc, dl[\"valid\"])\n",
    "logger.log(\"Train:\", train_score)\n",
    "logger.log(\"Valid:\", valid_score)"
   ]
  },
  {
   "cell_type": "code",
   "execution_count": 45,
   "id": "884e5d41-f2ae-4dce-a62b-ddc290beffc6",
   "metadata": {},
   "outputs": [],
   "source": [
    "optimizer.param_groups[0][\"lr\"] = 1e-3"
   ]
  },
  {
   "cell_type": "code",
   "execution_count": 46,
   "id": "f6b9a6b2-ab89-4d39-8e45-322d81e789b6",
   "metadata": {},
   "outputs": [
    {
     "name": "stdout",
     "output_type": "stream",
     "text": [
      "100%|██████████| 313/313 [00:16<00:00, 18.88it/s, loss=0.3850]\n",
      "Epoch 1 | Training loss: 0.3850, validation accuracy: 0.8051, validation loss: 0.6288\n",
      "100%|██████████| 313/313 [00:17<00:00, 18.07it/s, loss=0.3802]\n",
      "Epoch 2 | Training loss: 0.3802, validation accuracy: 0.8041, validation loss: 0.6275\n",
      "100%|██████████| 313/313 [00:17<00:00, 17.98it/s, loss=0.3754]\n",
      "Epoch 3 | Training loss: 0.3754, validation accuracy: 0.8050, validation loss: 0.6231\n",
      "100%|██████████| 313/313 [00:17<00:00, 18.14it/s, loss=0.3745]\n",
      "Epoch 4 | Training loss: 0.3745, validation accuracy: 0.8037, validation loss: 0.6302\n",
      "100%|██████████| 313/313 [00:17<00:00, 18.29it/s, loss=0.3735]\n",
      "Epoch 5 | Training loss: 0.3735, validation accuracy: 0.8053, validation loss: 0.6312\n",
      "100%|██████████| 313/313 [00:17<00:00, 18.22it/s, loss=0.3722]\n",
      "Epoch 6 | Training loss: 0.3722, validation accuracy: 0.8037, validation loss: 0.6308\n",
      "100%|██████████| 313/313 [00:17<00:00, 18.26it/s, loss=0.3704]\n",
      "Epoch 7 | Training loss: 0.3704, validation accuracy: 0.8042, validation loss: 0.6304\n",
      "100%|██████████| 313/313 [00:17<00:00, 18.10it/s, loss=0.3701]\n",
      "Epoch 8 | Training loss: 0.3701, validation accuracy: 0.8042, validation loss: 0.6311\n",
      "100%|██████████| 313/313 [00:17<00:00, 18.29it/s, loss=0.3653]\n",
      "Epoch 9 | Training loss: 0.3653, validation accuracy: 0.8047, validation loss: 0.6330\n",
      "100%|██████████| 313/313 [00:17<00:00, 18.14it/s, loss=0.3668]\n",
      "Epoch 10 | Training loss: 0.3668, validation accuracy: 0.8072, validation loss: 0.6321\n",
      "100%|██████████| 313/313 [00:17<00:00, 18.19it/s, loss=0.3724]\n",
      "Epoch 11 | Training loss: 0.3724, validation accuracy: 0.8037, validation loss: 0.6344\n",
      "100%|██████████| 313/313 [00:17<00:00, 18.14it/s, loss=0.3687]\n",
      "Epoch 12 | Training loss: 0.3687, validation accuracy: 0.8048, validation loss: 0.6335\n",
      "100%|██████████| 313/313 [00:17<00:00, 18.19it/s, loss=0.3634]\n",
      "Epoch 13 | Training loss: 0.3634, validation accuracy: 0.8059, validation loss: 0.6381\n",
      "100%|██████████| 313/313 [00:17<00:00, 18.24it/s, loss=0.3661]\n",
      "Epoch 14 | Training loss: 0.3661, validation accuracy: 0.8041, validation loss: 0.6333\n",
      "100%|██████████| 313/313 [00:17<00:00, 18.15it/s, loss=0.3633]\n",
      "Epoch 15 | Training loss: 0.3633, validation accuracy: 0.8040, validation loss: 0.6410\n",
      "100%|██████████| 313/313 [00:17<00:00, 18.35it/s, loss=0.3643]\n",
      "Epoch 16 | Training loss: 0.3643, validation accuracy: 0.8064, validation loss: 0.6316\n",
      "100%|██████████| 313/313 [00:17<00:00, 18.08it/s, loss=0.3650]\n",
      "Epoch 17 | Training loss: 0.3650, validation accuracy: 0.8052, validation loss: 0.6280\n",
      "100%|██████████| 313/313 [00:17<00:00, 18.23it/s, loss=0.3649]\n",
      "Epoch 18 | Training loss: 0.3649, validation accuracy: 0.8039, validation loss: 0.6451\n",
      "100%|██████████| 313/313 [00:17<00:00, 18.18it/s, loss=0.3628]\n",
      "Epoch 19 | Training loss: 0.3628, validation accuracy: 0.8032, validation loss: 0.6362\n",
      "100%|██████████| 313/313 [00:17<00:00, 18.30it/s, loss=0.3657]\n",
      "Epoch 20 | Training loss: 0.3657, validation accuracy: 0.8034, validation loss: 0.6336\n",
      "100%|██████████| 313/313 [00:17<00:00, 18.15it/s, loss=0.3628]\n",
      "Epoch 21 | Training loss: 0.3628, validation accuracy: 0.8060, validation loss: 0.6352\n",
      "100%|██████████| 313/313 [00:17<00:00, 18.13it/s, loss=0.3624]\n",
      "Epoch 22 | Training loss: 0.3624, validation accuracy: 0.8053, validation loss: 0.6363\n",
      "100%|██████████| 313/313 [00:17<00:00, 18.16it/s, loss=0.3589]\n",
      "Epoch 23 | Training loss: 0.3589, validation accuracy: 0.8053, validation loss: 0.6378\n",
      "100%|██████████| 313/313 [00:17<00:00, 18.20it/s, loss=0.3573]\n",
      "Epoch 24 | Training loss: 0.3573, validation accuracy: 0.8039, validation loss: 0.6329\n",
      "100%|██████████| 313/313 [00:17<00:00, 18.16it/s, loss=0.3600]\n",
      "Epoch 25 | Training loss: 0.3600, validation accuracy: 0.8071, validation loss: 0.6370\n"
     ]
    }
   ],
   "source": [
    "epochs = 25\n",
    "\n",
    "for epoch in range(epochs):\n",
    "    train_loss = trainer.train_epoch(model, optimizer, dl[\"train\"])\n",
    "    optimizer.finish_epoch()\n",
    "    val_acc, val_loss = trainer.validation(model, dl[\"valid\"])\n",
    "    logger.log(\"Epoch\", epoch+1, \"|\", \n",
    "          f\"Training loss: {train_loss:.4f}, validation accuracy: {val_acc:.4f}, validation loss: {val_loss:.4f}\")"
   ]
  },
  {
   "cell_type": "code",
   "execution_count": 47,
   "id": "cd8ac69e-8b58-4f7a-98e5-798eb403422f",
   "metadata": {},
   "outputs": [
    {
     "name": "stdout",
     "output_type": "stream",
     "text": [
      "Train: (0.881025, 0.334426127910614)\n",
      "Valid: (0.8071, 0.6370200693130493)\n"
     ]
    }
   ],
   "source": [
    "train_score = trainer.validation(model, dl[\"train\"])\n",
    "valid_score = trainer.validation(model, dl[\"valid\"])\n",
    "logger.log(\"Train:\", train_score)\n",
    "logger.log(\"Valid:\", valid_score)"
   ]
  },
  {
   "cell_type": "code",
   "execution_count": 48,
   "id": "d9969ade-758c-45f7-85bb-a8f30e51b6dd",
   "metadata": {},
   "outputs": [
    {
     "name": "stdout",
     "output_type": "stream",
     "text": [
      "RNA\n"
     ]
    }
   ],
   "source": [
    "optimizer.param_groups[0][\"method\"] = \"RNA\"\n",
    "logger.log(\"RNA\")\n",
    "model_acc = deepcopy(model)\n",
    "optimizer.accelerate()\n",
    "optimizer.store_parameters([model_acc.parameters()])"
   ]
  },
  {
   "cell_type": "code",
   "execution_count": 49,
   "id": "f0a14d24-5c24-4836-8ea6-d6299fc73674",
   "metadata": {
    "tags": []
   },
   "outputs": [
    {
     "name": "stdout",
     "output_type": "stream",
     "text": [
      "Train: (0.87975, 0.3409732406616211)\n",
      "Valid: (0.8055, 0.6415988466262817)\n"
     ]
    }
   ],
   "source": [
    "model_acc.to(trainer.device)\n",
    "train_score = trainer.validation(model_acc, dl[\"train\"])\n",
    "valid_score = trainer.validation(model_acc, dl[\"valid\"])\n",
    "logger.log(\"Train:\", train_score)\n",
    "logger.log(\"Valid:\", valid_score)"
   ]
  },
  {
   "cell_type": "code",
   "execution_count": 50,
   "id": "4b6f8747-9a7b-4b30-8b91-7275a87fa71a",
   "metadata": {},
   "outputs": [
    {
     "name": "stdout",
     "output_type": "stream",
     "text": [
      "RRE\n"
     ]
    }
   ],
   "source": [
    "optimizer.param_groups[0][\"method\"] = \"RRE\"\n",
    "logger.log(\"RRE\")\n",
    "model_acc = deepcopy(model)\n",
    "optimizer.accelerate()\n",
    "optimizer.store_parameters([model_acc.parameters()])"
   ]
  },
  {
   "cell_type": "code",
   "execution_count": 51,
   "id": "7e530b81-e42b-4a8c-85c4-ec59c8ba6b59",
   "metadata": {
    "tags": []
   },
   "outputs": [
    {
     "name": "stdout",
     "output_type": "stream",
     "text": [
      "Train: (0.878375, 0.34059026198387143)\n",
      "Valid: (0.8055, 0.6415991896629334)\n"
     ]
    }
   ],
   "source": [
    "model_acc.to(trainer.device)\n",
    "train_score = trainer.validation(model_acc, dl[\"train\"])\n",
    "valid_score = trainer.validation(model_acc, dl[\"valid\"])\n",
    "logger.log(\"Train:\", train_score)\n",
    "logger.log(\"Valid:\", valid_score)"
   ]
  },
  {
   "cell_type": "markdown",
   "id": "e916b97d-7012-4b76-8917-5f0999e28367",
   "metadata": {},
   "source": [
    "### Lambda = 1e-8"
   ]
  },
  {
   "cell_type": "code",
   "execution_count": 52,
   "id": "front-train",
   "metadata": {
    "tags": []
   },
   "outputs": [
    {
     "data": {
      "text/plain": [
       "ResNet(\n",
       "  (conv1): Conv2d(3, 64, kernel_size=(7, 7), stride=(2, 2), padding=(3, 3), bias=False)\n",
       "  (bn1): BatchNorm2d(64, eps=1e-05, momentum=0.1, affine=True, track_running_stats=True)\n",
       "  (relu): ReLU(inplace=True)\n",
       "  (maxpool): MaxPool2d(kernel_size=3, stride=2, padding=1, dilation=1, ceil_mode=False)\n",
       "  (layer1): Sequential(\n",
       "    (0): BasicBlock(\n",
       "      (conv1): Conv2d(64, 64, kernel_size=(3, 3), stride=(1, 1), padding=(1, 1), bias=False)\n",
       "      (bn1): BatchNorm2d(64, eps=1e-05, momentum=0.1, affine=True, track_running_stats=True)\n",
       "      (relu): ReLU(inplace=True)\n",
       "      (conv2): Conv2d(64, 64, kernel_size=(3, 3), stride=(1, 1), padding=(1, 1), bias=False)\n",
       "      (bn2): BatchNorm2d(64, eps=1e-05, momentum=0.1, affine=True, track_running_stats=True)\n",
       "    )\n",
       "    (1): BasicBlock(\n",
       "      (conv1): Conv2d(64, 64, kernel_size=(3, 3), stride=(1, 1), padding=(1, 1), bias=False)\n",
       "      (bn1): BatchNorm2d(64, eps=1e-05, momentum=0.1, affine=True, track_running_stats=True)\n",
       "      (relu): ReLU(inplace=True)\n",
       "      (conv2): Conv2d(64, 64, kernel_size=(3, 3), stride=(1, 1), padding=(1, 1), bias=False)\n",
       "      (bn2): BatchNorm2d(64, eps=1e-05, momentum=0.1, affine=True, track_running_stats=True)\n",
       "    )\n",
       "  )\n",
       "  (layer2): Sequential(\n",
       "    (0): BasicBlock(\n",
       "      (conv1): Conv2d(64, 128, kernel_size=(3, 3), stride=(2, 2), padding=(1, 1), bias=False)\n",
       "      (bn1): BatchNorm2d(128, eps=1e-05, momentum=0.1, affine=True, track_running_stats=True)\n",
       "      (relu): ReLU(inplace=True)\n",
       "      (conv2): Conv2d(128, 128, kernel_size=(3, 3), stride=(1, 1), padding=(1, 1), bias=False)\n",
       "      (bn2): BatchNorm2d(128, eps=1e-05, momentum=0.1, affine=True, track_running_stats=True)\n",
       "      (downsample): Sequential(\n",
       "        (0): Conv2d(64, 128, kernel_size=(1, 1), stride=(2, 2), bias=False)\n",
       "        (1): BatchNorm2d(128, eps=1e-05, momentum=0.1, affine=True, track_running_stats=True)\n",
       "      )\n",
       "    )\n",
       "    (1): BasicBlock(\n",
       "      (conv1): Conv2d(128, 128, kernel_size=(3, 3), stride=(1, 1), padding=(1, 1), bias=False)\n",
       "      (bn1): BatchNorm2d(128, eps=1e-05, momentum=0.1, affine=True, track_running_stats=True)\n",
       "      (relu): ReLU(inplace=True)\n",
       "      (conv2): Conv2d(128, 128, kernel_size=(3, 3), stride=(1, 1), padding=(1, 1), bias=False)\n",
       "      (bn2): BatchNorm2d(128, eps=1e-05, momentum=0.1, affine=True, track_running_stats=True)\n",
       "    )\n",
       "  )\n",
       "  (layer3): Sequential(\n",
       "    (0): BasicBlock(\n",
       "      (conv1): Conv2d(128, 256, kernel_size=(3, 3), stride=(2, 2), padding=(1, 1), bias=False)\n",
       "      (bn1): BatchNorm2d(256, eps=1e-05, momentum=0.1, affine=True, track_running_stats=True)\n",
       "      (relu): ReLU(inplace=True)\n",
       "      (conv2): Conv2d(256, 256, kernel_size=(3, 3), stride=(1, 1), padding=(1, 1), bias=False)\n",
       "      (bn2): BatchNorm2d(256, eps=1e-05, momentum=0.1, affine=True, track_running_stats=True)\n",
       "      (downsample): Sequential(\n",
       "        (0): Conv2d(128, 256, kernel_size=(1, 1), stride=(2, 2), bias=False)\n",
       "        (1): BatchNorm2d(256, eps=1e-05, momentum=0.1, affine=True, track_running_stats=True)\n",
       "      )\n",
       "    )\n",
       "    (1): BasicBlock(\n",
       "      (conv1): Conv2d(256, 256, kernel_size=(3, 3), stride=(1, 1), padding=(1, 1), bias=False)\n",
       "      (bn1): BatchNorm2d(256, eps=1e-05, momentum=0.1, affine=True, track_running_stats=True)\n",
       "      (relu): ReLU(inplace=True)\n",
       "      (conv2): Conv2d(256, 256, kernel_size=(3, 3), stride=(1, 1), padding=(1, 1), bias=False)\n",
       "      (bn2): BatchNorm2d(256, eps=1e-05, momentum=0.1, affine=True, track_running_stats=True)\n",
       "    )\n",
       "  )\n",
       "  (layer4): Sequential(\n",
       "    (0): BasicBlock(\n",
       "      (conv1): Conv2d(256, 512, kernel_size=(3, 3), stride=(2, 2), padding=(1, 1), bias=False)\n",
       "      (bn1): BatchNorm2d(512, eps=1e-05, momentum=0.1, affine=True, track_running_stats=True)\n",
       "      (relu): ReLU(inplace=True)\n",
       "      (conv2): Conv2d(512, 512, kernel_size=(3, 3), stride=(1, 1), padding=(1, 1), bias=False)\n",
       "      (bn2): BatchNorm2d(512, eps=1e-05, momentum=0.1, affine=True, track_running_stats=True)\n",
       "      (downsample): Sequential(\n",
       "        (0): Conv2d(256, 512, kernel_size=(1, 1), stride=(2, 2), bias=False)\n",
       "        (1): BatchNorm2d(512, eps=1e-05, momentum=0.1, affine=True, track_running_stats=True)\n",
       "      )\n",
       "    )\n",
       "    (1): BasicBlock(\n",
       "      (conv1): Conv2d(512, 512, kernel_size=(3, 3), stride=(1, 1), padding=(1, 1), bias=False)\n",
       "      (bn1): BatchNorm2d(512, eps=1e-05, momentum=0.1, affine=True, track_running_stats=True)\n",
       "      (relu): ReLU(inplace=True)\n",
       "      (conv2): Conv2d(512, 512, kernel_size=(3, 3), stride=(1, 1), padding=(1, 1), bias=False)\n",
       "      (bn2): BatchNorm2d(512, eps=1e-05, momentum=0.1, affine=True, track_running_stats=True)\n",
       "    )\n",
       "  )\n",
       "  (avgpool): AdaptiveAvgPool2d(output_size=(1, 1))\n",
       "  (fc): Sequential(\n",
       "    (0): Linear(in_features=512, out_features=10, bias=True)\n",
       "    (1): LogSoftmax(dim=-1)\n",
       "  )\n",
       ")"
      ]
     },
     "execution_count": 52,
     "metadata": {},
     "output_type": "execute_result"
    }
   ],
   "source": [
    "model.load_state_dict(initial_state)\n",
    "model.to(trainer.device)"
   ]
  },
  {
   "cell_type": "code",
   "execution_count": 53,
   "id": "ead40ba4-397d-4405-bad5-8348857018a2",
   "metadata": {},
   "outputs": [
    {
     "data": {
      "text/plain": [
       "(0.0973, 2.3487395290374757)"
      ]
     },
     "execution_count": 53,
     "metadata": {},
     "output_type": "execute_result"
    }
   ],
   "source": [
    "trainer.validation(model, dl[\"valid\"])"
   ]
  },
  {
   "cell_type": "code",
   "execution_count": 54,
   "id": "sweet-judge",
   "metadata": {},
   "outputs": [
    {
     "data": {
      "text/plain": [
       "<torch._C.Generator at 0x7f991411b250>"
      ]
     },
     "execution_count": 54,
     "metadata": {},
     "output_type": "execute_result"
    }
   ],
   "source": [
    "optimizer = AcceleratedSGD(model.parameters(), 1e-1, k=10, momentum=0.9, weight_decay=1e-5, lambda_=1e-8)\n",
    "logger = Logger(\"resnet_log_augmentation.txt.no_resizing\")\n",
    "torch.manual_seed(2020)"
   ]
  },
  {
   "cell_type": "code",
   "execution_count": 55,
   "id": "6ccec233-bb10-416e-a52b-f51d1cf7d84f",
   "metadata": {},
   "outputs": [
    {
     "name": "stdout",
     "output_type": "stream",
     "text": [
      "100%|██████████| 313/313 [00:16<00:00, 19.10it/s, loss=2.3113]\n",
      "Epoch 1 | Training loss: 2.3113, validation accuracy: 0.3096, validation loss: 1.8844\n",
      "100%|██████████| 313/313 [00:17<00:00, 18.28it/s, loss=1.7500]\n",
      "Epoch 2 | Training loss: 1.7500, validation accuracy: 0.3652, validation loss: 1.7059\n",
      "100%|██████████| 313/313 [00:17<00:00, 18.14it/s, loss=1.5969]\n",
      "Epoch 3 | Training loss: 1.5969, validation accuracy: 0.4360, validation loss: 1.5107\n",
      "100%|██████████| 313/313 [00:17<00:00, 18.21it/s, loss=1.4858]\n",
      "Epoch 4 | Training loss: 1.4858, validation accuracy: 0.5054, validation loss: 1.3616\n",
      "100%|██████████| 313/313 [00:17<00:00, 18.07it/s, loss=1.3962]\n",
      "Epoch 5 | Training loss: 1.3962, validation accuracy: 0.5429, validation loss: 1.2553\n",
      "100%|██████████| 313/313 [00:17<00:00, 18.25it/s, loss=1.3038]\n",
      "Epoch 6 | Training loss: 1.3038, validation accuracy: 0.5729, validation loss: 1.2011\n",
      "100%|██████████| 313/313 [00:17<00:00, 18.21it/s, loss=1.2409]\n",
      "Epoch 7 | Training loss: 1.2409, validation accuracy: 0.5795, validation loss: 1.1994\n",
      "100%|██████████| 313/313 [00:17<00:00, 18.18it/s, loss=1.1664]\n",
      "Epoch 8 | Training loss: 1.1664, validation accuracy: 0.6161, validation loss: 1.0836\n",
      "100%|██████████| 313/313 [00:17<00:00, 18.20it/s, loss=1.1143]\n",
      "Epoch 9 | Training loss: 1.1143, validation accuracy: 0.6391, validation loss: 1.0127\n",
      "100%|██████████| 313/313 [00:17<00:00, 18.31it/s, loss=1.0627]\n",
      "Epoch 10 | Training loss: 1.0627, validation accuracy: 0.6410, validation loss: 1.0088\n",
      "100%|██████████| 313/313 [00:17<00:00, 18.16it/s, loss=1.0194]\n",
      "Epoch 11 | Training loss: 1.0194, validation accuracy: 0.6663, validation loss: 0.9563\n",
      "100%|██████████| 313/313 [00:17<00:00, 18.21it/s, loss=0.9785]\n",
      "Epoch 12 | Training loss: 0.9785, validation accuracy: 0.6877, validation loss: 0.8973\n",
      "100%|██████████| 313/313 [00:17<00:00, 18.23it/s, loss=0.9424]\n",
      "Epoch 13 | Training loss: 0.9424, validation accuracy: 0.6920, validation loss: 0.8813\n",
      "100%|██████████| 313/313 [00:17<00:00, 18.29it/s, loss=0.9171]\n",
      "Epoch 14 | Training loss: 0.9171, validation accuracy: 0.6973, validation loss: 0.8653\n",
      "100%|██████████| 313/313 [00:17<00:00, 18.31it/s, loss=0.8862]\n",
      "Epoch 15 | Training loss: 0.8862, validation accuracy: 0.6983, validation loss: 0.9222\n",
      "100%|██████████| 313/313 [00:17<00:00, 18.31it/s, loss=0.8674]\n",
      "Epoch 16 | Training loss: 0.8674, validation accuracy: 0.7092, validation loss: 0.8425\n",
      "100%|██████████| 313/313 [00:17<00:00, 18.16it/s, loss=0.8324]\n",
      "Epoch 17 | Training loss: 0.8324, validation accuracy: 0.7233, validation loss: 0.8102\n",
      "100%|██████████| 313/313 [00:17<00:00, 18.16it/s, loss=0.8123]\n",
      "Epoch 18 | Training loss: 0.8123, validation accuracy: 0.7325, validation loss: 0.7722\n",
      "100%|██████████| 313/313 [00:17<00:00, 18.22it/s, loss=0.7861]\n",
      "Epoch 19 | Training loss: 0.7861, validation accuracy: 0.7155, validation loss: 0.8343\n",
      "100%|██████████| 313/313 [00:17<00:00, 18.03it/s, loss=0.7722]\n",
      "Epoch 20 | Training loss: 0.7722, validation accuracy: 0.7295, validation loss: 0.8155\n",
      "100%|██████████| 313/313 [00:17<00:00, 17.99it/s, loss=0.7452]\n",
      "Epoch 21 | Training loss: 0.7452, validation accuracy: 0.7182, validation loss: 0.9305\n",
      "100%|██████████| 313/313 [00:17<00:00, 18.24it/s, loss=0.7289]\n",
      "Epoch 22 | Training loss: 0.7289, validation accuracy: 0.7286, validation loss: 0.8244\n",
      "100%|██████████| 313/313 [00:17<00:00, 18.20it/s, loss=0.7169]\n",
      "Epoch 23 | Training loss: 0.7169, validation accuracy: 0.7623, validation loss: 0.7052\n",
      "100%|██████████| 313/313 [00:17<00:00, 18.09it/s, loss=0.7046]\n",
      "Epoch 24 | Training loss: 0.7046, validation accuracy: 0.7392, validation loss: 0.8191\n",
      "100%|██████████| 313/313 [00:17<00:00, 18.16it/s, loss=0.6832]\n",
      "Epoch 25 | Training loss: 0.6832, validation accuracy: 0.7521, validation loss: 0.7239\n"
     ]
    }
   ],
   "source": [
    "epochs = 25\n",
    "\n",
    "for epoch in range(epochs):\n",
    "    train_loss = trainer.train_epoch(model, optimizer, dl[\"train\"])\n",
    "    optimizer.finish_epoch()\n",
    "    val_acc, val_loss = trainer.validation(model, dl[\"valid\"])\n",
    "    logger.log(\"Epoch\", epoch+1, \"|\", \n",
    "          f\"Training loss: {train_loss:.4f}, validation accuracy: {val_acc:.4f}, validation loss: {val_loss:.4f}\")"
   ]
  },
  {
   "cell_type": "code",
   "execution_count": 56,
   "id": "d7f57b14-1e56-4ecf-91a7-0fe00a7a73b2",
   "metadata": {},
   "outputs": [
    {
     "name": "stdout",
     "output_type": "stream",
     "text": [
      "Train: (0.760675, 0.6755115555763245)\n",
      "Valid: (0.7521, 0.723914382648468)\n"
     ]
    }
   ],
   "source": [
    "train_score = trainer.validation(model, dl[\"train\"])\n",
    "valid_score = trainer.validation(model, dl[\"valid\"])\n",
    "logger.log(\"Train:\", train_score)\n",
    "logger.log(\"Valid:\", valid_score)"
   ]
  },
  {
   "cell_type": "code",
   "execution_count": 57,
   "id": "feaeeebe-6668-4026-b1be-6da4d9428960",
   "metadata": {},
   "outputs": [
    {
     "name": "stdout",
     "output_type": "stream",
     "text": [
      "RNA\n"
     ]
    }
   ],
   "source": [
    "optimizer.param_groups[0][\"method\"] = \"RNA\"\n",
    "logger.log(\"RNA\")\n",
    "model_acc = deepcopy(model)\n",
    "optimizer.accelerate()\n",
    "optimizer.store_parameters([model_acc.parameters()])"
   ]
  },
  {
   "cell_type": "code",
   "execution_count": 58,
   "id": "ecda995e-26e1-48be-b5fb-09c71dc1a5f1",
   "metadata": {
    "tags": []
   },
   "outputs": [
    {
     "name": "stdout",
     "output_type": "stream",
     "text": [
      "Train: (0.7575, 0.708295360660553)\n",
      "Valid: (0.7488, 0.7826698467254639)\n"
     ]
    }
   ],
   "source": [
    "model_acc.to(trainer.device)\n",
    "train_score = trainer.validation(model_acc, dl[\"train\"])\n",
    "valid_score = trainer.validation(model_acc, dl[\"valid\"])\n",
    "logger.log(\"Train:\", train_score)\n",
    "logger.log(\"Valid:\", valid_score)"
   ]
  },
  {
   "cell_type": "code",
   "execution_count": 59,
   "id": "f8fc2877-8ff7-4604-818e-d35af6ab2e2f",
   "metadata": {},
   "outputs": [
    {
     "name": "stdout",
     "output_type": "stream",
     "text": [
      "RRE\n"
     ]
    }
   ],
   "source": [
    "optimizer.param_groups[0][\"method\"] = \"RRE\"\n",
    "logger.log(\"RRE\")\n",
    "model_acc = deepcopy(model)\n",
    "optimizer.accelerate()\n",
    "optimizer.store_parameters([model_acc.parameters()])"
   ]
  },
  {
   "cell_type": "code",
   "execution_count": 60,
   "id": "ce69a19f-e2d5-453d-9a75-744a4a27e17b",
   "metadata": {
    "tags": []
   },
   "outputs": [
    {
     "name": "stdout",
     "output_type": "stream",
     "text": [
      "Train: (0.75705, 0.7037416833877563)\n",
      "Valid: (0.7488, 0.7826688014984131)\n"
     ]
    }
   ],
   "source": [
    "model_acc.to(trainer.device)\n",
    "train_score = trainer.validation(model_acc, dl[\"train\"])\n",
    "valid_score = trainer.validation(model_acc, dl[\"valid\"])\n",
    "logger.log(\"Train:\", train_score)\n",
    "logger.log(\"Valid:\", valid_score)"
   ]
  },
  {
   "cell_type": "code",
   "execution_count": 61,
   "id": "4c30eee8-c114-4233-b421-58123888ebf1",
   "metadata": {},
   "outputs": [],
   "source": [
    "optimizer.param_groups[0][\"lr\"] = 1e-2"
   ]
  },
  {
   "cell_type": "code",
   "execution_count": 62,
   "id": "6baec32a-71fa-45a4-99e0-7f3ff9aca932",
   "metadata": {},
   "outputs": [
    {
     "name": "stdout",
     "output_type": "stream",
     "text": [
      "100%|██████████| 313/313 [00:16<00:00, 18.71it/s, loss=0.5803]\n",
      "Epoch 1 | Training loss: 0.5803, validation accuracy: 0.7849, validation loss: 0.6298\n",
      "100%|██████████| 313/313 [00:17<00:00, 17.94it/s, loss=0.5492]\n",
      "Epoch 2 | Training loss: 0.5492, validation accuracy: 0.7854, validation loss: 0.6556\n",
      "100%|██████████| 313/313 [00:17<00:00, 18.11it/s, loss=0.5355]\n",
      "Epoch 3 | Training loss: 0.5355, validation accuracy: 0.7891, validation loss: 0.6525\n",
      "100%|██████████| 313/313 [00:17<00:00, 18.15it/s, loss=0.5298]\n",
      "Epoch 4 | Training loss: 0.5298, validation accuracy: 0.7893, validation loss: 0.6358\n",
      "100%|██████████| 313/313 [00:17<00:00, 18.04it/s, loss=0.5210]\n",
      "Epoch 5 | Training loss: 0.5210, validation accuracy: 0.7905, validation loss: 0.6450\n",
      "100%|██████████| 313/313 [00:17<00:00, 17.99it/s, loss=0.5128]\n",
      "Epoch 6 | Training loss: 0.5128, validation accuracy: 0.7958, validation loss: 0.6171\n",
      "100%|██████████| 313/313 [00:17<00:00, 18.07it/s, loss=0.5078]\n",
      "Epoch 7 | Training loss: 0.5078, validation accuracy: 0.7955, validation loss: 0.6264\n",
      "100%|██████████| 313/313 [00:17<00:00, 18.13it/s, loss=0.5018]\n",
      "Epoch 8 | Training loss: 0.5018, validation accuracy: 0.7914, validation loss: 0.6414\n",
      "100%|██████████| 313/313 [00:17<00:00, 18.21it/s, loss=0.4967]\n",
      "Epoch 9 | Training loss: 0.4967, validation accuracy: 0.7940, validation loss: 0.6422\n",
      "100%|██████████| 313/313 [00:17<00:00, 18.18it/s, loss=0.4965]\n",
      "Epoch 10 | Training loss: 0.4965, validation accuracy: 0.7941, validation loss: 0.6444\n",
      "100%|██████████| 313/313 [00:17<00:00, 17.98it/s, loss=0.4901]\n",
      "Epoch 11 | Training loss: 0.4901, validation accuracy: 0.7969, validation loss: 0.6338\n",
      "100%|██████████| 313/313 [00:17<00:00, 18.01it/s, loss=0.4808]\n",
      "Epoch 12 | Training loss: 0.4808, validation accuracy: 0.7932, validation loss: 0.6662\n",
      "100%|██████████| 313/313 [00:17<00:00, 18.09it/s, loss=0.4792]\n",
      "Epoch 13 | Training loss: 0.4792, validation accuracy: 0.7947, validation loss: 0.6581\n",
      "100%|██████████| 313/313 [00:17<00:00, 18.06it/s, loss=0.4700]\n",
      "Epoch 14 | Training loss: 0.4700, validation accuracy: 0.7953, validation loss: 0.6388\n",
      "100%|██████████| 313/313 [00:17<00:00, 18.06it/s, loss=0.4684]\n",
      "Epoch 15 | Training loss: 0.4684, validation accuracy: 0.7963, validation loss: 0.6396\n",
      "100%|██████████| 313/313 [00:17<00:00, 18.09it/s, loss=0.4635]\n",
      "Epoch 16 | Training loss: 0.4635, validation accuracy: 0.7974, validation loss: 0.6357\n",
      "100%|██████████| 313/313 [00:17<00:00, 18.11it/s, loss=0.4558]\n",
      "Epoch 17 | Training loss: 0.4558, validation accuracy: 0.7930, validation loss: 0.6634\n",
      "100%|██████████| 313/313 [00:17<00:00, 18.20it/s, loss=0.4568]\n",
      "Epoch 18 | Training loss: 0.4568, validation accuracy: 0.7994, validation loss: 0.6285\n",
      "100%|██████████| 313/313 [00:17<00:00, 18.21it/s, loss=0.4486]\n",
      "Epoch 19 | Training loss: 0.4486, validation accuracy: 0.7943, validation loss: 0.6790\n",
      "100%|██████████| 313/313 [00:17<00:00, 18.24it/s, loss=0.4472]\n",
      "Epoch 20 | Training loss: 0.4472, validation accuracy: 0.7977, validation loss: 0.6331\n",
      "100%|██████████| 313/313 [00:17<00:00, 18.12it/s, loss=0.4483]\n",
      "Epoch 21 | Training loss: 0.4483, validation accuracy: 0.7967, validation loss: 0.6469\n",
      "100%|██████████| 313/313 [00:17<00:00, 18.06it/s, loss=0.4387]\n",
      "Epoch 22 | Training loss: 0.4387, validation accuracy: 0.8010, validation loss: 0.6371\n",
      "100%|██████████| 313/313 [00:17<00:00, 18.17it/s, loss=0.4380]\n",
      "Epoch 23 | Training loss: 0.4380, validation accuracy: 0.7980, validation loss: 0.6336\n",
      "100%|██████████| 313/313 [00:17<00:00, 18.14it/s, loss=0.4336]\n",
      "Epoch 24 | Training loss: 0.4336, validation accuracy: 0.8000, validation loss: 0.6458\n",
      "100%|██████████| 313/313 [00:17<00:00, 18.11it/s, loss=0.4277]\n",
      "Epoch 25 | Training loss: 0.4277, validation accuracy: 0.8007, validation loss: 0.6225\n"
     ]
    }
   ],
   "source": [
    "epochs = 25\n",
    "\n",
    "for epoch in range(epochs):\n",
    "    train_loss = trainer.train_epoch(model, optimizer, dl[\"train\"])\n",
    "    optimizer.finish_epoch()\n",
    "    val_acc, val_loss = trainer.validation(model, dl[\"valid\"])\n",
    "    logger.log(\"Epoch\", epoch+1, \"|\", \n",
    "          f\"Training loss: {train_loss:.4f}, validation accuracy: {val_acc:.4f}, validation loss: {val_loss:.4f}\")"
   ]
  },
  {
   "cell_type": "code",
   "execution_count": 63,
   "id": "8f71a083-9be9-46a6-9171-61738b54e143",
   "metadata": {},
   "outputs": [
    {
     "name": "stdout",
     "output_type": "stream",
     "text": [
      "Train: (0.857825, 0.4000112359523773)\n",
      "Valid: (0.8007, 0.622536738872528)\n"
     ]
    }
   ],
   "source": [
    "train_score = trainer.validation(model, dl[\"train\"])\n",
    "valid_score = trainer.validation(model, dl[\"valid\"])\n",
    "logger.log(\"Train:\", train_score)\n",
    "logger.log(\"Valid:\", valid_score)"
   ]
  },
  {
   "cell_type": "code",
   "execution_count": 64,
   "id": "b47c4321-b1af-4aa9-be43-5d91757bd5d2",
   "metadata": {},
   "outputs": [
    {
     "name": "stdout",
     "output_type": "stream",
     "text": [
      "RNA\n"
     ]
    }
   ],
   "source": [
    "optimizer.param_groups[0][\"method\"] = \"RNA\"\n",
    "logger.log(\"RNA\")\n",
    "model_acc = deepcopy(model)\n",
    "optimizer.accelerate()\n",
    "optimizer.store_parameters([model_acc.parameters()])"
   ]
  },
  {
   "cell_type": "code",
   "execution_count": 65,
   "id": "c6e6d044-79ae-4caa-bf4c-cd50176cd234",
   "metadata": {
    "tags": []
   },
   "outputs": [
    {
     "name": "stdout",
     "output_type": "stream",
     "text": [
      "Train: (0.853325, 0.41404710788726806)\n",
      "Valid: (0.7991, 0.6360378209114075)\n"
     ]
    }
   ],
   "source": [
    "model_acc.to(trainer.device)\n",
    "train_score = trainer.validation(model_acc, dl[\"train\"])\n",
    "valid_score = trainer.validation(model_acc, dl[\"valid\"])\n",
    "logger.log(\"Train:\", train_score)\n",
    "logger.log(\"Valid:\", valid_score)"
   ]
  },
  {
   "cell_type": "code",
   "execution_count": 66,
   "id": "aaad4ad1-0f4e-4514-8e3f-9fd30e09f7e5",
   "metadata": {},
   "outputs": [
    {
     "name": "stdout",
     "output_type": "stream",
     "text": [
      "RRE\n"
     ]
    }
   ],
   "source": [
    "optimizer.param_groups[0][\"method\"] = \"RRE\"\n",
    "logger.log(\"RRE\")\n",
    "model_acc = deepcopy(model)\n",
    "optimizer.accelerate()\n",
    "optimizer.store_parameters([model_acc.parameters()])"
   ]
  },
  {
   "cell_type": "code",
   "execution_count": 67,
   "id": "eba3c71a-ecf9-443f-a993-cd3bc0c06ae4",
   "metadata": {
    "tags": []
   },
   "outputs": [
    {
     "name": "stdout",
     "output_type": "stream",
     "text": [
      "Train: (0.854675, 0.4123635341644287)\n",
      "Valid: (0.7991, 0.6360385458946228)\n"
     ]
    }
   ],
   "source": [
    "model_acc.to(trainer.device)\n",
    "train_score = trainer.validation(model_acc, dl[\"train\"])\n",
    "valid_score = trainer.validation(model_acc, dl[\"valid\"])\n",
    "logger.log(\"Train:\", train_score)\n",
    "logger.log(\"Valid:\", valid_score)"
   ]
  },
  {
   "cell_type": "code",
   "execution_count": 68,
   "id": "82e6b5c4-8c10-49fd-9098-24db99510557",
   "metadata": {},
   "outputs": [],
   "source": [
    "optimizer.param_groups[0][\"lr\"] = 1e-3"
   ]
  },
  {
   "cell_type": "code",
   "execution_count": 69,
   "id": "46d845b2-7f65-4256-bbc1-72dc61087c4c",
   "metadata": {},
   "outputs": [
    {
     "name": "stdout",
     "output_type": "stream",
     "text": [
      "100%|██████████| 313/313 [00:16<00:00, 18.74it/s, loss=0.4175]\n",
      "Epoch 1 | Training loss: 0.4175, validation accuracy: 0.8040, validation loss: 0.6268\n",
      "100%|██████████| 313/313 [00:17<00:00, 18.12it/s, loss=0.4129]\n",
      "Epoch 2 | Training loss: 0.4129, validation accuracy: 0.8044, validation loss: 0.6232\n",
      "100%|██████████| 313/313 [00:17<00:00, 18.12it/s, loss=0.4101]\n",
      "Epoch 3 | Training loss: 0.4101, validation accuracy: 0.8034, validation loss: 0.6224\n",
      "100%|██████████| 313/313 [00:17<00:00, 18.06it/s, loss=0.4070]\n",
      "Epoch 4 | Training loss: 0.4070, validation accuracy: 0.8012, validation loss: 0.6441\n",
      "100%|██████████| 313/313 [00:17<00:00, 18.14it/s, loss=0.4026]\n",
      "Epoch 5 | Training loss: 0.4026, validation accuracy: 0.7981, validation loss: 0.6761\n",
      "100%|██████████| 313/313 [00:17<00:00, 17.99it/s, loss=0.4021]\n",
      "Epoch 6 | Training loss: 0.4021, validation accuracy: 0.8037, validation loss: 0.6283\n",
      "100%|██████████| 313/313 [00:17<00:00, 18.16it/s, loss=0.4066]\n",
      "Epoch 7 | Training loss: 0.4066, validation accuracy: 0.8055, validation loss: 0.6326\n",
      "100%|██████████| 313/313 [00:17<00:00, 18.20it/s, loss=0.4013]\n",
      "Epoch 8 | Training loss: 0.4013, validation accuracy: 0.7996, validation loss: 0.6681\n",
      "100%|██████████| 313/313 [00:17<00:00, 18.09it/s, loss=0.3989]\n",
      "Epoch 9 | Training loss: 0.3989, validation accuracy: 0.8012, validation loss: 0.6418\n",
      "100%|██████████| 313/313 [00:17<00:00, 18.26it/s, loss=0.4009]\n",
      "Epoch 10 | Training loss: 0.4009, validation accuracy: 0.8002, validation loss: 0.6614\n",
      "100%|██████████| 313/313 [00:17<00:00, 18.16it/s, loss=0.3967]\n",
      "Epoch 11 | Training loss: 0.3967, validation accuracy: 0.7994, validation loss: 0.6544\n",
      "100%|██████████| 313/313 [00:17<00:00, 18.20it/s, loss=0.3969]\n",
      "Epoch 12 | Training loss: 0.3969, validation accuracy: 0.8018, validation loss: 0.6385\n",
      "100%|██████████| 313/313 [00:17<00:00, 18.07it/s, loss=0.3950]\n",
      "Epoch 13 | Training loss: 0.3950, validation accuracy: 0.7947, validation loss: 0.6854\n",
      "100%|██████████| 313/313 [00:17<00:00, 18.02it/s, loss=0.3964]\n",
      "Epoch 14 | Training loss: 0.3964, validation accuracy: 0.8024, validation loss: 0.6351\n",
      "100%|██████████| 313/313 [00:17<00:00, 18.23it/s, loss=0.3929]\n",
      "Epoch 15 | Training loss: 0.3929, validation accuracy: 0.7973, validation loss: 0.6805\n",
      "100%|██████████| 313/313 [00:17<00:00, 18.08it/s, loss=0.3932]\n",
      "Epoch 16 | Training loss: 0.3932, validation accuracy: 0.8030, validation loss: 0.6345\n",
      "100%|██████████| 313/313 [00:17<00:00, 18.21it/s, loss=0.3969]\n",
      "Epoch 17 | Training loss: 0.3969, validation accuracy: 0.8024, validation loss: 0.6403\n",
      "100%|██████████| 313/313 [00:17<00:00, 18.15it/s, loss=0.3953]\n",
      "Epoch 18 | Training loss: 0.3953, validation accuracy: 0.8009, validation loss: 0.6467\n",
      "100%|██████████| 313/313 [00:17<00:00, 18.11it/s, loss=0.3936]\n",
      "Epoch 19 | Training loss: 0.3936, validation accuracy: 0.7989, validation loss: 0.6593\n",
      "100%|██████████| 313/313 [00:17<00:00, 18.22it/s, loss=0.3949]\n",
      "Epoch 20 | Training loss: 0.3949, validation accuracy: 0.8027, validation loss: 0.6432\n",
      "100%|██████████| 313/313 [00:17<00:00, 18.03it/s, loss=0.3922]\n",
      "Epoch 21 | Training loss: 0.3922, validation accuracy: 0.8050, validation loss: 0.6328\n",
      "100%|██████████| 313/313 [00:17<00:00, 18.22it/s, loss=0.3918]\n",
      "Epoch 22 | Training loss: 0.3918, validation accuracy: 0.8059, validation loss: 0.6302\n",
      "100%|██████████| 313/313 [00:17<00:00, 17.98it/s, loss=0.3933]\n",
      "Epoch 23 | Training loss: 0.3933, validation accuracy: 0.8064, validation loss: 0.6330\n",
      "100%|██████████| 313/313 [00:17<00:00, 18.09it/s, loss=0.3901]\n",
      "Epoch 24 | Training loss: 0.3901, validation accuracy: 0.8024, validation loss: 0.6441\n",
      "100%|██████████| 313/313 [00:17<00:00, 17.89it/s, loss=0.3886]\n",
      "Epoch 25 | Training loss: 0.3886, validation accuracy: 0.8035, validation loss: 0.6335\n"
     ]
    }
   ],
   "source": [
    "epochs = 25\n",
    "\n",
    "for epoch in range(epochs):\n",
    "    train_loss = trainer.train_epoch(model, optimizer, dl[\"train\"])\n",
    "    optimizer.finish_epoch()\n",
    "    val_acc, val_loss = trainer.validation(model, dl[\"valid\"])\n",
    "    logger.log(\"Epoch\", epoch+1, \"|\", \n",
    "          f\"Training loss: {train_loss:.4f}, validation accuracy: {val_acc:.4f}, validation loss: {val_loss:.4f}\")"
   ]
  },
  {
   "cell_type": "code",
   "execution_count": 70,
   "id": "5bd01370-37cb-40e9-89b9-a28bc00653fc",
   "metadata": {},
   "outputs": [
    {
     "name": "stdout",
     "output_type": "stream",
     "text": [
      "Train: (0.869075, 0.366251750087738)\n",
      "Valid: (0.8035, 0.6334590641975403)\n"
     ]
    }
   ],
   "source": [
    "train_score = trainer.validation(model, dl[\"train\"])\n",
    "valid_score = trainer.validation(model, dl[\"valid\"])\n",
    "logger.log(\"Train:\", train_score)\n",
    "logger.log(\"Valid:\", valid_score)"
   ]
  },
  {
   "cell_type": "code",
   "execution_count": 71,
   "id": "dabe6aef-c3cc-469f-b737-1ac87ff40870",
   "metadata": {},
   "outputs": [
    {
     "name": "stdout",
     "output_type": "stream",
     "text": [
      "RNA\n"
     ]
    }
   ],
   "source": [
    "optimizer.param_groups[0][\"method\"] = \"RNA\"\n",
    "logger.log(\"RNA\")\n",
    "model_acc = deepcopy(model)\n",
    "optimizer.accelerate()\n",
    "optimizer.store_parameters([model_acc.parameters()])"
   ]
  },
  {
   "cell_type": "code",
   "execution_count": 72,
   "id": "78fdcf45-4537-4ff0-89c4-9ee72ca27c5e",
   "metadata": {
    "tags": []
   },
   "outputs": [
    {
     "name": "stdout",
     "output_type": "stream",
     "text": [
      "Train: (0.86805, 0.3686671387195587)\n",
      "Valid: (0.8042, 0.6360383505821228)\n"
     ]
    }
   ],
   "source": [
    "model_acc.to(trainer.device)\n",
    "train_score = trainer.validation(model_acc, dl[\"train\"])\n",
    "valid_score = trainer.validation(model_acc, dl[\"valid\"])\n",
    "logger.log(\"Train:\", train_score)\n",
    "logger.log(\"Valid:\", valid_score)"
   ]
  },
  {
   "cell_type": "code",
   "execution_count": 73,
   "id": "2ff9139d-cfa8-477b-8faa-22d242f92f1f",
   "metadata": {},
   "outputs": [
    {
     "name": "stdout",
     "output_type": "stream",
     "text": [
      "RRE\n"
     ]
    }
   ],
   "source": [
    "optimizer.param_groups[0][\"method\"] = \"RRE\"\n",
    "logger.log(\"RRE\")\n",
    "model_acc = deepcopy(model)\n",
    "optimizer.accelerate()\n",
    "optimizer.store_parameters([model_acc.parameters()])"
   ]
  },
  {
   "cell_type": "code",
   "execution_count": 74,
   "id": "ce348e6b-0a11-4bed-b710-2a56d747a337",
   "metadata": {
    "tags": []
   },
   "outputs": [
    {
     "name": "stdout",
     "output_type": "stream",
     "text": [
      "Train: (0.869825, 0.36821668281555175)\n",
      "Valid: (0.8042, 0.6360386254310608)\n"
     ]
    }
   ],
   "source": [
    "model_acc.to(trainer.device)\n",
    "train_score = trainer.validation(model_acc, dl[\"train\"])\n",
    "valid_score = trainer.validation(model_acc, dl[\"valid\"])\n",
    "logger.log(\"Train:\", train_score)\n",
    "logger.log(\"Valid:\", valid_score)"
   ]
  },
  {
   "cell_type": "markdown",
   "id": "1f01f523-fb49-4009-a08c-f30f0e6bf4f0",
   "metadata": {},
   "source": [
    "### Lambda = 1e-4"
   ]
  },
  {
   "cell_type": "code",
   "execution_count": 75,
   "id": "247bfa34-9c59-4c77-a448-09d4dbd815f2",
   "metadata": {
    "tags": []
   },
   "outputs": [
    {
     "data": {
      "text/plain": [
       "ResNet(\n",
       "  (conv1): Conv2d(3, 64, kernel_size=(7, 7), stride=(2, 2), padding=(3, 3), bias=False)\n",
       "  (bn1): BatchNorm2d(64, eps=1e-05, momentum=0.1, affine=True, track_running_stats=True)\n",
       "  (relu): ReLU(inplace=True)\n",
       "  (maxpool): MaxPool2d(kernel_size=3, stride=2, padding=1, dilation=1, ceil_mode=False)\n",
       "  (layer1): Sequential(\n",
       "    (0): BasicBlock(\n",
       "      (conv1): Conv2d(64, 64, kernel_size=(3, 3), stride=(1, 1), padding=(1, 1), bias=False)\n",
       "      (bn1): BatchNorm2d(64, eps=1e-05, momentum=0.1, affine=True, track_running_stats=True)\n",
       "      (relu): ReLU(inplace=True)\n",
       "      (conv2): Conv2d(64, 64, kernel_size=(3, 3), stride=(1, 1), padding=(1, 1), bias=False)\n",
       "      (bn2): BatchNorm2d(64, eps=1e-05, momentum=0.1, affine=True, track_running_stats=True)\n",
       "    )\n",
       "    (1): BasicBlock(\n",
       "      (conv1): Conv2d(64, 64, kernel_size=(3, 3), stride=(1, 1), padding=(1, 1), bias=False)\n",
       "      (bn1): BatchNorm2d(64, eps=1e-05, momentum=0.1, affine=True, track_running_stats=True)\n",
       "      (relu): ReLU(inplace=True)\n",
       "      (conv2): Conv2d(64, 64, kernel_size=(3, 3), stride=(1, 1), padding=(1, 1), bias=False)\n",
       "      (bn2): BatchNorm2d(64, eps=1e-05, momentum=0.1, affine=True, track_running_stats=True)\n",
       "    )\n",
       "  )\n",
       "  (layer2): Sequential(\n",
       "    (0): BasicBlock(\n",
       "      (conv1): Conv2d(64, 128, kernel_size=(3, 3), stride=(2, 2), padding=(1, 1), bias=False)\n",
       "      (bn1): BatchNorm2d(128, eps=1e-05, momentum=0.1, affine=True, track_running_stats=True)\n",
       "      (relu): ReLU(inplace=True)\n",
       "      (conv2): Conv2d(128, 128, kernel_size=(3, 3), stride=(1, 1), padding=(1, 1), bias=False)\n",
       "      (bn2): BatchNorm2d(128, eps=1e-05, momentum=0.1, affine=True, track_running_stats=True)\n",
       "      (downsample): Sequential(\n",
       "        (0): Conv2d(64, 128, kernel_size=(1, 1), stride=(2, 2), bias=False)\n",
       "        (1): BatchNorm2d(128, eps=1e-05, momentum=0.1, affine=True, track_running_stats=True)\n",
       "      )\n",
       "    )\n",
       "    (1): BasicBlock(\n",
       "      (conv1): Conv2d(128, 128, kernel_size=(3, 3), stride=(1, 1), padding=(1, 1), bias=False)\n",
       "      (bn1): BatchNorm2d(128, eps=1e-05, momentum=0.1, affine=True, track_running_stats=True)\n",
       "      (relu): ReLU(inplace=True)\n",
       "      (conv2): Conv2d(128, 128, kernel_size=(3, 3), stride=(1, 1), padding=(1, 1), bias=False)\n",
       "      (bn2): BatchNorm2d(128, eps=1e-05, momentum=0.1, affine=True, track_running_stats=True)\n",
       "    )\n",
       "  )\n",
       "  (layer3): Sequential(\n",
       "    (0): BasicBlock(\n",
       "      (conv1): Conv2d(128, 256, kernel_size=(3, 3), stride=(2, 2), padding=(1, 1), bias=False)\n",
       "      (bn1): BatchNorm2d(256, eps=1e-05, momentum=0.1, affine=True, track_running_stats=True)\n",
       "      (relu): ReLU(inplace=True)\n",
       "      (conv2): Conv2d(256, 256, kernel_size=(3, 3), stride=(1, 1), padding=(1, 1), bias=False)\n",
       "      (bn2): BatchNorm2d(256, eps=1e-05, momentum=0.1, affine=True, track_running_stats=True)\n",
       "      (downsample): Sequential(\n",
       "        (0): Conv2d(128, 256, kernel_size=(1, 1), stride=(2, 2), bias=False)\n",
       "        (1): BatchNorm2d(256, eps=1e-05, momentum=0.1, affine=True, track_running_stats=True)\n",
       "      )\n",
       "    )\n",
       "    (1): BasicBlock(\n",
       "      (conv1): Conv2d(256, 256, kernel_size=(3, 3), stride=(1, 1), padding=(1, 1), bias=False)\n",
       "      (bn1): BatchNorm2d(256, eps=1e-05, momentum=0.1, affine=True, track_running_stats=True)\n",
       "      (relu): ReLU(inplace=True)\n",
       "      (conv2): Conv2d(256, 256, kernel_size=(3, 3), stride=(1, 1), padding=(1, 1), bias=False)\n",
       "      (bn2): BatchNorm2d(256, eps=1e-05, momentum=0.1, affine=True, track_running_stats=True)\n",
       "    )\n",
       "  )\n",
       "  (layer4): Sequential(\n",
       "    (0): BasicBlock(\n",
       "      (conv1): Conv2d(256, 512, kernel_size=(3, 3), stride=(2, 2), padding=(1, 1), bias=False)\n",
       "      (bn1): BatchNorm2d(512, eps=1e-05, momentum=0.1, affine=True, track_running_stats=True)\n",
       "      (relu): ReLU(inplace=True)\n",
       "      (conv2): Conv2d(512, 512, kernel_size=(3, 3), stride=(1, 1), padding=(1, 1), bias=False)\n",
       "      (bn2): BatchNorm2d(512, eps=1e-05, momentum=0.1, affine=True, track_running_stats=True)\n",
       "      (downsample): Sequential(\n",
       "        (0): Conv2d(256, 512, kernel_size=(1, 1), stride=(2, 2), bias=False)\n",
       "        (1): BatchNorm2d(512, eps=1e-05, momentum=0.1, affine=True, track_running_stats=True)\n",
       "      )\n",
       "    )\n",
       "    (1): BasicBlock(\n",
       "      (conv1): Conv2d(512, 512, kernel_size=(3, 3), stride=(1, 1), padding=(1, 1), bias=False)\n",
       "      (bn1): BatchNorm2d(512, eps=1e-05, momentum=0.1, affine=True, track_running_stats=True)\n",
       "      (relu): ReLU(inplace=True)\n",
       "      (conv2): Conv2d(512, 512, kernel_size=(3, 3), stride=(1, 1), padding=(1, 1), bias=False)\n",
       "      (bn2): BatchNorm2d(512, eps=1e-05, momentum=0.1, affine=True, track_running_stats=True)\n",
       "    )\n",
       "  )\n",
       "  (avgpool): AdaptiveAvgPool2d(output_size=(1, 1))\n",
       "  (fc): Sequential(\n",
       "    (0): Linear(in_features=512, out_features=10, bias=True)\n",
       "    (1): LogSoftmax(dim=-1)\n",
       "  )\n",
       ")"
      ]
     },
     "execution_count": 75,
     "metadata": {},
     "output_type": "execute_result"
    }
   ],
   "source": [
    "model.load_state_dict(initial_state)\n",
    "model.to(trainer.device)"
   ]
  },
  {
   "cell_type": "code",
   "execution_count": 76,
   "id": "d0986a8f-9bfa-4244-a955-63adbb9c8511",
   "metadata": {},
   "outputs": [
    {
     "data": {
      "text/plain": [
       "(0.0973, 2.3487395290374757)"
      ]
     },
     "execution_count": 76,
     "metadata": {},
     "output_type": "execute_result"
    }
   ],
   "source": [
    "trainer.validation(model, dl[\"valid\"])"
   ]
  },
  {
   "cell_type": "code",
   "execution_count": 77,
   "id": "ee97947a-6677-481a-a284-ef5153514240",
   "metadata": {},
   "outputs": [
    {
     "data": {
      "text/plain": [
       "<torch._C.Generator at 0x7f991411b250>"
      ]
     },
     "execution_count": 77,
     "metadata": {},
     "output_type": "execute_result"
    }
   ],
   "source": [
    "optimizer = AcceleratedSGD(model.parameters(), 1e-1, k=10, momentum=0.9, weight_decay=1e-5, lambda_=1e-4)\n",
    "logger = Logger(\"resnet_log_augmentation-lambda=1e-4.txt.no_resizing\")\n",
    "torch.manual_seed(2020)"
   ]
  },
  {
   "cell_type": "code",
   "execution_count": 78,
   "id": "c09368d6-6172-4249-a5fa-f8351f4a101f",
   "metadata": {},
   "outputs": [
    {
     "name": "stdout",
     "output_type": "stream",
     "text": [
      "100%|██████████| 313/313 [00:16<00:00, 18.89it/s, loss=2.3087]\n",
      "Epoch 1 | Training loss: 2.3087, validation accuracy: 0.3071, validation loss: 1.7720\n",
      "100%|██████████| 313/313 [00:17<00:00, 18.13it/s, loss=1.7281]\n",
      "Epoch 2 | Training loss: 1.7281, validation accuracy: 0.4158, validation loss: 1.5458\n",
      "100%|██████████| 313/313 [00:17<00:00, 18.21it/s, loss=1.5676]\n",
      "Epoch 3 | Training loss: 1.5676, validation accuracy: 0.4621, validation loss: 1.4762\n",
      "100%|██████████| 313/313 [00:17<00:00, 18.22it/s, loss=1.4510]\n",
      "Epoch 4 | Training loss: 1.4510, validation accuracy: 0.5209, validation loss: 1.3295\n",
      "100%|██████████| 313/313 [00:17<00:00, 18.09it/s, loss=1.3685]\n",
      "Epoch 5 | Training loss: 1.3685, validation accuracy: 0.5536, validation loss: 1.2403\n",
      "100%|██████████| 313/313 [00:17<00:00, 18.05it/s, loss=1.2706]\n",
      "Epoch 6 | Training loss: 1.2706, validation accuracy: 0.5834, validation loss: 1.1773\n",
      "100%|██████████| 313/313 [00:17<00:00, 18.10it/s, loss=1.1999]\n",
      "Epoch 7 | Training loss: 1.1999, validation accuracy: 0.6032, validation loss: 1.1073\n",
      "100%|██████████| 313/313 [00:17<00:00, 18.24it/s, loss=1.1285]\n",
      "Epoch 8 | Training loss: 1.1285, validation accuracy: 0.6266, validation loss: 1.0492\n",
      "100%|██████████| 313/313 [00:17<00:00, 18.07it/s, loss=1.0717]\n",
      "Epoch 9 | Training loss: 1.0717, validation accuracy: 0.6476, validation loss: 1.0115\n",
      "100%|██████████| 313/313 [00:17<00:00, 18.08it/s, loss=1.0182]\n",
      "Epoch 10 | Training loss: 1.0182, validation accuracy: 0.6587, validation loss: 0.9683\n",
      "100%|██████████| 313/313 [00:17<00:00, 18.01it/s, loss=0.9811]\n",
      "Epoch 11 | Training loss: 0.9811, validation accuracy: 0.6717, validation loss: 0.9219\n",
      "100%|██████████| 313/313 [00:17<00:00, 18.05it/s, loss=0.9472]\n",
      "Epoch 12 | Training loss: 0.9472, validation accuracy: 0.6960, validation loss: 0.8800\n",
      "100%|██████████| 313/313 [00:17<00:00, 18.14it/s, loss=0.9077]\n",
      "Epoch 13 | Training loss: 0.9077, validation accuracy: 0.7057, validation loss: 0.8624\n",
      "100%|██████████| 313/313 [00:17<00:00, 18.03it/s, loss=0.8822]\n",
      "Epoch 14 | Training loss: 0.8822, validation accuracy: 0.7138, validation loss: 0.8243\n",
      "100%|██████████| 313/313 [00:17<00:00, 18.18it/s, loss=0.8544]\n",
      "Epoch 15 | Training loss: 0.8544, validation accuracy: 0.7180, validation loss: 0.8252\n",
      "100%|██████████| 313/313 [00:17<00:00, 18.06it/s, loss=0.8246]\n",
      "Epoch 16 | Training loss: 0.8246, validation accuracy: 0.7226, validation loss: 0.7911\n",
      "100%|██████████| 313/313 [00:17<00:00, 18.15it/s, loss=0.8001]\n",
      "Epoch 17 | Training loss: 0.8001, validation accuracy: 0.7369, validation loss: 0.7639\n",
      "100%|██████████| 313/313 [00:17<00:00, 18.12it/s, loss=0.7740]\n",
      "Epoch 18 | Training loss: 0.7740, validation accuracy: 0.7347, validation loss: 0.7677\n",
      "100%|██████████| 313/313 [00:17<00:00, 18.16it/s, loss=0.7536]\n",
      "Epoch 19 | Training loss: 0.7536, validation accuracy: 0.7317, validation loss: 0.7784\n",
      "100%|██████████| 313/313 [00:17<00:00, 18.19it/s, loss=0.7423]\n",
      "Epoch 20 | Training loss: 0.7423, validation accuracy: 0.7494, validation loss: 0.7347\n",
      "100%|██████████| 313/313 [00:17<00:00, 18.08it/s, loss=0.7111]\n",
      "Epoch 21 | Training loss: 0.7111, validation accuracy: 0.7607, validation loss: 0.6976\n",
      "100%|██████████| 313/313 [00:17<00:00, 18.10it/s, loss=0.6952]\n",
      "Epoch 22 | Training loss: 0.6952, validation accuracy: 0.7373, validation loss: 0.7890\n",
      "100%|██████████| 313/313 [00:17<00:00, 18.04it/s, loss=0.6814]\n",
      "Epoch 23 | Training loss: 0.6814, validation accuracy: 0.7591, validation loss: 0.7043\n",
      "100%|██████████| 313/313 [00:17<00:00, 18.27it/s, loss=0.6685]\n",
      "Epoch 24 | Training loss: 0.6685, validation accuracy: 0.7639, validation loss: 0.6978\n",
      "100%|██████████| 313/313 [00:17<00:00, 18.09it/s, loss=0.6532]\n",
      "Epoch 25 | Training loss: 0.6532, validation accuracy: 0.7648, validation loss: 0.6904\n"
     ]
    }
   ],
   "source": [
    "epochs = 25\n",
    "\n",
    "for epoch in range(epochs):\n",
    "    train_loss = trainer.train_epoch(model, optimizer, dl[\"train\"])\n",
    "    optimizer.finish_epoch()\n",
    "    val_acc, val_loss = trainer.validation(model, dl[\"valid\"])\n",
    "    logger.log(\"Epoch\", epoch+1, \"|\", \n",
    "          f\"Training loss: {train_loss:.4f}, validation accuracy: {val_acc:.4f}, validation loss: {val_loss:.4f}\")"
   ]
  },
  {
   "cell_type": "code",
   "execution_count": 79,
   "id": "4c9ef1f8-2dad-4f78-8181-215cbd1f9a86",
   "metadata": {},
   "outputs": [
    {
     "name": "stdout",
     "output_type": "stream",
     "text": [
      "Train: (0.7876, 0.6074248841762543)\n",
      "Valid: (0.7648, 0.69035461769104)\n"
     ]
    }
   ],
   "source": [
    "train_score = trainer.validation(model, dl[\"train\"])\n",
    "valid_score = trainer.validation(model, dl[\"valid\"])\n",
    "logger.log(\"Train:\", train_score)\n",
    "logger.log(\"Valid:\", valid_score)"
   ]
  },
  {
   "cell_type": "code",
   "execution_count": 80,
   "id": "0edc6e7a-ed98-40c7-b3fb-958c709de365",
   "metadata": {},
   "outputs": [
    {
     "name": "stdout",
     "output_type": "stream",
     "text": [
      "RNA\n"
     ]
    }
   ],
   "source": [
    "optimizer.param_groups[0][\"method\"] = \"RNA\"\n",
    "logger.log(\"RNA\")\n",
    "model_acc = deepcopy(model)\n",
    "optimizer.accelerate()\n",
    "optimizer.store_parameters([model_acc.parameters()])"
   ]
  },
  {
   "cell_type": "code",
   "execution_count": 81,
   "id": "17860cfc-95ce-4272-bfaa-e3adf9b3a0d1",
   "metadata": {
    "tags": []
   },
   "outputs": [
    {
     "name": "stdout",
     "output_type": "stream",
     "text": [
      "Train: (0.7619, 0.6707688877105713)\n",
      "Valid: (0.7521, 0.7154559764862061)\n"
     ]
    }
   ],
   "source": [
    "model_acc.to(trainer.device)\n",
    "train_score = trainer.validation(model_acc, dl[\"train\"])\n",
    "valid_score = trainer.validation(model_acc, dl[\"valid\"])\n",
    "logger.log(\"Train:\", train_score)\n",
    "logger.log(\"Valid:\", valid_score)"
   ]
  },
  {
   "cell_type": "code",
   "execution_count": 82,
   "id": "a1a9ed80-860b-4798-9af4-c4513f3e20a4",
   "metadata": {},
   "outputs": [
    {
     "name": "stdout",
     "output_type": "stream",
     "text": [
      "RRE\n"
     ]
    }
   ],
   "source": [
    "optimizer.param_groups[0][\"method\"] = \"RRE\"\n",
    "logger.log(\"RRE\")\n",
    "model_acc = deepcopy(model)\n",
    "optimizer.accelerate()\n",
    "optimizer.store_parameters([model_acc.parameters()])"
   ]
  },
  {
   "cell_type": "code",
   "execution_count": 83,
   "id": "a1ff62c3-a29d-4eb2-850e-50cbfb839c04",
   "metadata": {
    "tags": []
   },
   "outputs": [
    {
     "name": "stdout",
     "output_type": "stream",
     "text": [
      "Train: (0.7608, 0.6686750583171844)\n",
      "Valid: (0.7521, 0.7154558208465576)\n"
     ]
    }
   ],
   "source": [
    "model_acc.to(trainer.device)\n",
    "train_score = trainer.validation(model_acc, dl[\"train\"])\n",
    "valid_score = trainer.validation(model_acc, dl[\"valid\"])\n",
    "logger.log(\"Train:\", train_score)\n",
    "logger.log(\"Valid:\", valid_score)"
   ]
  },
  {
   "cell_type": "code",
   "execution_count": 84,
   "id": "22fe20ef-a47f-4bfa-9b0a-61dfd8d8cc44",
   "metadata": {},
   "outputs": [],
   "source": [
    "optimizer.param_groups[0][\"lr\"] = 1e-2"
   ]
  },
  {
   "cell_type": "code",
   "execution_count": 85,
   "id": "c55be3b1-b774-43af-95e3-1eaed4c48e68",
   "metadata": {},
   "outputs": [
    {
     "name": "stdout",
     "output_type": "stream",
     "text": [
      "100%|██████████| 313/313 [00:16<00:00, 18.79it/s, loss=0.5434]\n",
      "Epoch 1 | Training loss: 0.5434, validation accuracy: 0.7907, validation loss: 0.6282\n",
      "100%|██████████| 313/313 [00:17<00:00, 17.98it/s, loss=0.5149]\n",
      "Epoch 2 | Training loss: 0.5149, validation accuracy: 0.7920, validation loss: 0.6223\n",
      "100%|██████████| 313/313 [00:17<00:00, 18.16it/s, loss=0.5010]\n",
      "Epoch 3 | Training loss: 0.5010, validation accuracy: 0.7951, validation loss: 0.6233\n",
      "100%|██████████| 313/313 [00:17<00:00, 18.03it/s, loss=0.4886]\n",
      "Epoch 4 | Training loss: 0.4886, validation accuracy: 0.7954, validation loss: 0.6177\n",
      "100%|██████████| 313/313 [00:17<00:00, 17.93it/s, loss=0.4780]\n",
      "Epoch 5 | Training loss: 0.4780, validation accuracy: 0.7988, validation loss: 0.6155\n",
      "100%|██████████| 313/313 [00:17<00:00, 18.13it/s, loss=0.4708]\n",
      "Epoch 6 | Training loss: 0.4708, validation accuracy: 0.7998, validation loss: 0.6143\n",
      "100%|██████████| 313/313 [00:17<00:00, 18.04it/s, loss=0.4718]\n",
      "Epoch 7 | Training loss: 0.4718, validation accuracy: 0.7997, validation loss: 0.6143\n",
      "100%|██████████| 313/313 [00:17<00:00, 18.10it/s, loss=0.4585]\n",
      "Epoch 8 | Training loss: 0.4585, validation accuracy: 0.8012, validation loss: 0.6106\n",
      "100%|██████████| 313/313 [00:17<00:00, 18.10it/s, loss=0.4537]\n",
      "Epoch 9 | Training loss: 0.4537, validation accuracy: 0.8026, validation loss: 0.6143\n",
      "100%|██████████| 313/313 [00:17<00:00, 18.14it/s, loss=0.4563]\n",
      "Epoch 10 | Training loss: 0.4563, validation accuracy: 0.8000, validation loss: 0.6171\n",
      "100%|██████████| 313/313 [00:17<00:00, 18.16it/s, loss=0.4490]\n",
      "Epoch 11 | Training loss: 0.4490, validation accuracy: 0.7990, validation loss: 0.6202\n",
      "100%|██████████| 313/313 [00:17<00:00, 18.21it/s, loss=0.4438]\n",
      "Epoch 12 | Training loss: 0.4438, validation accuracy: 0.7978, validation loss: 0.6175\n",
      "100%|██████████| 313/313 [00:17<00:00, 18.02it/s, loss=0.4355]\n",
      "Epoch 13 | Training loss: 0.4355, validation accuracy: 0.8000, validation loss: 0.6179\n",
      "100%|██████████| 313/313 [00:17<00:00, 18.13it/s, loss=0.4378]\n",
      "Epoch 14 | Training loss: 0.4378, validation accuracy: 0.8023, validation loss: 0.6180\n",
      "100%|██████████| 313/313 [00:17<00:00, 18.22it/s, loss=0.4314]\n",
      "Epoch 15 | Training loss: 0.4314, validation accuracy: 0.8038, validation loss: 0.6229\n",
      "100%|██████████| 313/313 [00:17<00:00, 18.08it/s, loss=0.4238]\n",
      "Epoch 16 | Training loss: 0.4238, validation accuracy: 0.8014, validation loss: 0.6339\n",
      "100%|██████████| 313/313 [00:17<00:00, 18.11it/s, loss=0.4186]\n",
      "Epoch 17 | Training loss: 0.4186, validation accuracy: 0.8024, validation loss: 0.6313\n",
      "100%|██████████| 313/313 [00:17<00:00, 18.23it/s, loss=0.4206]\n",
      "Epoch 18 | Training loss: 0.4206, validation accuracy: 0.7999, validation loss: 0.6307\n",
      "100%|██████████| 313/313 [00:17<00:00, 18.06it/s, loss=0.4144]\n",
      "Epoch 19 | Training loss: 0.4144, validation accuracy: 0.8014, validation loss: 0.6263\n",
      "100%|██████████| 313/313 [00:17<00:00, 18.22it/s, loss=0.4082]\n",
      "Epoch 20 | Training loss: 0.4082, validation accuracy: 0.7997, validation loss: 0.6307\n",
      "100%|██████████| 313/313 [00:17<00:00, 18.11it/s, loss=0.4087]\n",
      "Epoch 21 | Training loss: 0.4087, validation accuracy: 0.8039, validation loss: 0.6319\n",
      "100%|██████████| 313/313 [00:17<00:00, 18.30it/s, loss=0.4051]\n",
      "Epoch 22 | Training loss: 0.4051, validation accuracy: 0.8046, validation loss: 0.6333\n",
      "100%|██████████| 313/313 [00:17<00:00, 18.17it/s, loss=0.3964]\n",
      "Epoch 23 | Training loss: 0.3964, validation accuracy: 0.8017, validation loss: 0.6428\n",
      "100%|██████████| 313/313 [00:17<00:00, 18.16it/s, loss=0.3947]\n",
      "Epoch 24 | Training loss: 0.3947, validation accuracy: 0.8028, validation loss: 0.6397\n",
      "100%|██████████| 313/313 [00:17<00:00, 18.15it/s, loss=0.3900]\n",
      "Epoch 25 | Training loss: 0.3900, validation accuracy: 0.8018, validation loss: 0.6419\n"
     ]
    }
   ],
   "source": [
    "epochs = 25\n",
    "\n",
    "for epoch in range(epochs):\n",
    "    train_loss = trainer.train_epoch(model, optimizer, dl[\"train\"])\n",
    "    optimizer.finish_epoch()\n",
    "    val_acc, val_loss = trainer.validation(model, dl[\"valid\"])\n",
    "    logger.log(\"Epoch\", epoch+1, \"|\", \n",
    "          f\"Training loss: {train_loss:.4f}, validation accuracy: {val_acc:.4f}, validation loss: {val_loss:.4f}\")"
   ]
  },
  {
   "cell_type": "code",
   "execution_count": 86,
   "id": "350d4a40-06ad-4f10-9267-a61c0f1813dc",
   "metadata": {},
   "outputs": [
    {
     "name": "stdout",
     "output_type": "stream",
     "text": [
      "Train: (0.87295, 0.3574689694404602)\n",
      "Valid: (0.8018, 0.6419424867630005)\n"
     ]
    }
   ],
   "source": [
    "train_score = trainer.validation(model, dl[\"train\"])\n",
    "valid_score = trainer.validation(model, dl[\"valid\"])\n",
    "logger.log(\"Train:\", train_score)\n",
    "logger.log(\"Valid:\", valid_score)"
   ]
  },
  {
   "cell_type": "code",
   "execution_count": 87,
   "id": "a4f8ad19-18d4-47b9-a110-2170d7244506",
   "metadata": {},
   "outputs": [
    {
     "name": "stdout",
     "output_type": "stream",
     "text": [
      "RNA\n"
     ]
    }
   ],
   "source": [
    "optimizer.param_groups[0][\"method\"] = \"RNA\"\n",
    "logger.log(\"RNA\")\n",
    "model_acc = deepcopy(model)\n",
    "optimizer.accelerate()\n",
    "optimizer.store_parameters([model_acc.parameters()])"
   ]
  },
  {
   "cell_type": "code",
   "execution_count": 88,
   "id": "4ea3ae44-ac9e-4ffe-9a2b-11536016990f",
   "metadata": {
    "tags": []
   },
   "outputs": [
    {
     "name": "stdout",
     "output_type": "stream",
     "text": [
      "Train: (0.8638, 0.3830557153224945)\n",
      "Valid: (0.7945, 0.6668204811096191)\n"
     ]
    }
   ],
   "source": [
    "model_acc.to(trainer.device)\n",
    "train_score = trainer.validation(model_acc, dl[\"train\"])\n",
    "valid_score = trainer.validation(model_acc, dl[\"valid\"])\n",
    "logger.log(\"Train:\", train_score)\n",
    "logger.log(\"Valid:\", valid_score)"
   ]
  },
  {
   "cell_type": "code",
   "execution_count": 89,
   "id": "fb85579f-d72d-480a-b527-4178d92cde4b",
   "metadata": {},
   "outputs": [
    {
     "name": "stdout",
     "output_type": "stream",
     "text": [
      "RRE\n"
     ]
    }
   ],
   "source": [
    "optimizer.param_groups[0][\"method\"] = \"RRE\"\n",
    "logger.log(\"RRE\")\n",
    "model_acc = deepcopy(model)\n",
    "optimizer.accelerate()\n",
    "optimizer.store_parameters([model_acc.parameters()])"
   ]
  },
  {
   "cell_type": "code",
   "execution_count": 90,
   "id": "fc797e03-cc4f-4b6c-96fb-000c241a2baa",
   "metadata": {
    "tags": []
   },
   "outputs": [
    {
     "name": "stdout",
     "output_type": "stream",
     "text": [
      "Train: (0.86545, 0.3832085563182831)\n",
      "Valid: (0.7945, 0.6668202116012574)\n"
     ]
    }
   ],
   "source": [
    "model_acc.to(trainer.device)\n",
    "train_score = trainer.validation(model_acc, dl[\"train\"])\n",
    "valid_score = trainer.validation(model_acc, dl[\"valid\"])\n",
    "logger.log(\"Train:\", train_score)\n",
    "logger.log(\"Valid:\", valid_score)"
   ]
  },
  {
   "cell_type": "code",
   "execution_count": 91,
   "id": "e4c2d05c-4654-4eb8-ac63-f13453d08d0f",
   "metadata": {},
   "outputs": [],
   "source": [
    "optimizer.param_groups[0][\"lr\"] = 1e-3"
   ]
  },
  {
   "cell_type": "code",
   "execution_count": 92,
   "id": "0a0525ec-812a-4599-b82c-4ecfb6115475",
   "metadata": {},
   "outputs": [
    {
     "name": "stdout",
     "output_type": "stream",
     "text": [
      "100%|██████████| 313/313 [00:16<00:00, 18.66it/s, loss=0.3735]\n",
      "Epoch 1 | Training loss: 0.3735, validation accuracy: 0.8026, validation loss: 0.6315\n",
      "100%|██████████| 313/313 [00:17<00:00, 18.13it/s, loss=0.3723]\n",
      "Epoch 2 | Training loss: 0.3723, validation accuracy: 0.8018, validation loss: 0.6351\n",
      "100%|██████████| 313/313 [00:17<00:00, 18.21it/s, loss=0.3660]\n",
      "Epoch 3 | Training loss: 0.3660, validation accuracy: 0.8029, validation loss: 0.6355\n",
      "100%|██████████| 313/313 [00:17<00:00, 18.18it/s, loss=0.3659]\n",
      "Epoch 4 | Training loss: 0.3659, validation accuracy: 0.8048, validation loss: 0.6394\n",
      "100%|██████████| 313/313 [00:17<00:00, 18.13it/s, loss=0.3656]\n",
      "Epoch 5 | Training loss: 0.3656, validation accuracy: 0.8034, validation loss: 0.6370\n",
      "100%|██████████| 313/313 [00:17<00:00, 18.18it/s, loss=0.3616]\n",
      "Epoch 6 | Training loss: 0.3616, validation accuracy: 0.8065, validation loss: 0.6426\n",
      "100%|██████████| 313/313 [00:17<00:00, 18.04it/s, loss=0.3676]\n",
      "Epoch 7 | Training loss: 0.3676, validation accuracy: 0.8037, validation loss: 0.6415\n",
      "100%|██████████| 313/313 [00:17<00:00, 18.01it/s, loss=0.3604]\n",
      "Epoch 8 | Training loss: 0.3604, validation accuracy: 0.8044, validation loss: 0.6407\n",
      "100%|██████████| 313/313 [00:17<00:00, 18.14it/s, loss=0.3559]\n",
      "Epoch 9 | Training loss: 0.3559, validation accuracy: 0.8029, validation loss: 0.6483\n",
      "100%|██████████| 313/313 [00:17<00:00, 18.07it/s, loss=0.3622]\n",
      "Epoch 10 | Training loss: 0.3622, validation accuracy: 0.8046, validation loss: 0.6437\n",
      "100%|██████████| 313/313 [00:17<00:00, 18.15it/s, loss=0.3623]\n",
      "Epoch 11 | Training loss: 0.3623, validation accuracy: 0.8028, validation loss: 0.6479\n",
      "100%|██████████| 313/313 [00:17<00:00, 17.99it/s, loss=0.3562]\n",
      "Epoch 12 | Training loss: 0.3562, validation accuracy: 0.8052, validation loss: 0.6507\n",
      "100%|██████████| 313/313 [00:17<00:00, 18.07it/s, loss=0.3565]\n",
      "Epoch 13 | Training loss: 0.3565, validation accuracy: 0.8047, validation loss: 0.6452\n",
      "100%|██████████| 313/313 [00:17<00:00, 18.07it/s, loss=0.3555]\n",
      "Epoch 14 | Training loss: 0.3555, validation accuracy: 0.8067, validation loss: 0.6458\n",
      "100%|██████████| 313/313 [00:17<00:00, 18.06it/s, loss=0.3550]\n",
      "Epoch 15 | Training loss: 0.3550, validation accuracy: 0.8046, validation loss: 0.6491\n",
      "100%|██████████| 313/313 [00:17<00:00, 18.16it/s, loss=0.3565]\n",
      "Epoch 16 | Training loss: 0.3565, validation accuracy: 0.8040, validation loss: 0.6405\n",
      "100%|██████████| 313/313 [00:17<00:00, 18.09it/s, loss=0.3560]\n",
      "Epoch 17 | Training loss: 0.3560, validation accuracy: 0.8046, validation loss: 0.6385\n",
      "100%|██████████| 313/313 [00:17<00:00, 18.07it/s, loss=0.3531]\n",
      "Epoch 18 | Training loss: 0.3531, validation accuracy: 0.8028, validation loss: 0.6571\n",
      "100%|██████████| 313/313 [00:17<00:00, 18.16it/s, loss=0.3590]\n",
      "Epoch 19 | Training loss: 0.3590, validation accuracy: 0.8043, validation loss: 0.6489\n",
      "100%|██████████| 313/313 [00:17<00:00, 18.02it/s, loss=0.3531]\n",
      "Epoch 20 | Training loss: 0.3531, validation accuracy: 0.8042, validation loss: 0.6458\n",
      "100%|██████████| 313/313 [00:17<00:00, 18.04it/s, loss=0.3563]\n",
      "Epoch 21 | Training loss: 0.3563, validation accuracy: 0.8046, validation loss: 0.6473\n",
      "100%|██████████| 313/313 [00:17<00:00, 18.09it/s, loss=0.3510]\n",
      "Epoch 22 | Training loss: 0.3510, validation accuracy: 0.8038, validation loss: 0.6473\n",
      "100%|██████████| 313/313 [00:17<00:00, 17.97it/s, loss=0.3532]\n",
      "Epoch 23 | Training loss: 0.3532, validation accuracy: 0.8052, validation loss: 0.6498\n",
      "100%|██████████| 313/313 [00:17<00:00, 18.09it/s, loss=0.3518]\n",
      "Epoch 24 | Training loss: 0.3518, validation accuracy: 0.8043, validation loss: 0.6558\n",
      "100%|██████████| 313/313 [00:17<00:00, 18.05it/s, loss=0.3546]\n",
      "Epoch 25 | Training loss: 0.3546, validation accuracy: 0.8044, validation loss: 0.6537\n"
     ]
    }
   ],
   "source": [
    "epochs = 25\n",
    "\n",
    "for epoch in range(epochs):\n",
    "    train_loss = trainer.train_epoch(model, optimizer, dl[\"train\"])\n",
    "    optimizer.finish_epoch()\n",
    "    val_acc, val_loss = trainer.validation(model, dl[\"valid\"])\n",
    "    logger.log(\"Epoch\", epoch+1, \"|\", \n",
    "          f\"Training loss: {train_loss:.4f}, validation accuracy: {val_acc:.4f}, validation loss: {val_loss:.4f}\")"
   ]
  },
  {
   "cell_type": "code",
   "execution_count": 93,
   "id": "5da88168-34f5-4e6c-b5ab-0450f22cd462",
   "metadata": {},
   "outputs": [
    {
     "name": "stdout",
     "output_type": "stream",
     "text": [
      "Train: (0.88415, 0.32355640783309936)\n",
      "Valid: (0.8044, 0.6536560085296631)\n"
     ]
    }
   ],
   "source": [
    "train_score = trainer.validation(model, dl[\"train\"])\n",
    "valid_score = trainer.validation(model, dl[\"valid\"])\n",
    "logger.log(\"Train:\", train_score)\n",
    "logger.log(\"Valid:\", valid_score)"
   ]
  },
  {
   "cell_type": "code",
   "execution_count": 94,
   "id": "a2385bfe-d836-431c-9e33-bff6413b5829",
   "metadata": {},
   "outputs": [
    {
     "name": "stdout",
     "output_type": "stream",
     "text": [
      "RNA\n"
     ]
    }
   ],
   "source": [
    "optimizer.param_groups[0][\"method\"] = \"RNA\"\n",
    "logger.log(\"RNA\")\n",
    "model_acc = deepcopy(model)\n",
    "optimizer.accelerate()\n",
    "optimizer.store_parameters([model_acc.parameters()])"
   ]
  },
  {
   "cell_type": "code",
   "execution_count": 95,
   "id": "7db96b9a-5534-4c1f-8e2c-0a4074e68c92",
   "metadata": {
    "tags": []
   },
   "outputs": [
    {
     "name": "stdout",
     "output_type": "stream",
     "text": [
      "Train: (0.8824, 0.33033378829956056)\n",
      "Valid: (0.8036, 0.6532367641448975)\n"
     ]
    }
   ],
   "source": [
    "model_acc.to(trainer.device)\n",
    "train_score = trainer.validation(model_acc, dl[\"train\"])\n",
    "valid_score = trainer.validation(model_acc, dl[\"valid\"])\n",
    "logger.log(\"Train:\", train_score)\n",
    "logger.log(\"Valid:\", valid_score)"
   ]
  },
  {
   "cell_type": "code",
   "execution_count": 96,
   "id": "3ba93042-7429-461d-8beb-8dd150a1b9f0",
   "metadata": {},
   "outputs": [
    {
     "name": "stdout",
     "output_type": "stream",
     "text": [
      "RRE\n"
     ]
    }
   ],
   "source": [
    "optimizer.param_groups[0][\"method\"] = \"RRE\"\n",
    "logger.log(\"RRE\")\n",
    "model_acc = deepcopy(model)\n",
    "optimizer.accelerate()\n",
    "optimizer.store_parameters([model_acc.parameters()])"
   ]
  },
  {
   "cell_type": "code",
   "execution_count": 97,
   "id": "5fd508a8-d0bf-4955-90e5-b8e0354afa83",
   "metadata": {
    "tags": []
   },
   "outputs": [
    {
     "name": "stdout",
     "output_type": "stream",
     "text": [
      "Train: (0.88275, 0.3318396638393402)\n",
      "Valid: (0.8036, 0.653237061882019)\n"
     ]
    }
   ],
   "source": [
    "model_acc.to(trainer.device)\n",
    "train_score = trainer.validation(model_acc, dl[\"train\"])\n",
    "valid_score = trainer.validation(model_acc, dl[\"valid\"])\n",
    "logger.log(\"Train:\", train_score)\n",
    "logger.log(\"Valid:\", valid_score)"
   ]
  },
  {
   "cell_type": "markdown",
   "id": "e7ed068f-63d6-4646-9ac8-5590d535e874",
   "metadata": {},
   "source": [
    "## Resizing"
   ]
  },
  {
   "cell_type": "code",
   "execution_count": 98,
   "id": "361743ba-10a6-4099-8fc7-b6ef1628cf6f",
   "metadata": {},
   "outputs": [],
   "source": [
    "trainer = Trainer(\n",
    "    device=\"cuda:0\",\n",
    "    loss_fn=nn.NLLLoss(reduction=\"mean\"),\n",
    "    val_loss_fn=nn.NLLLoss(reduction=\"sum\"),\n",
    ")"
   ]
  },
  {
   "cell_type": "code",
   "execution_count": 99,
   "id": "69b74ab2-fc7a-4b36-b908-0b8d7c710dfa",
   "metadata": {},
   "outputs": [
    {
     "name": "stderr",
     "output_type": "stream",
     "text": [
      "/home/i291318/miniconda3/lib/python3.8/site-packages/torchvision/transforms/transforms.py:257: UserWarning: Argument interpolation should be of type InterpolationMode instead of int. Please, use InterpolationMode enum.\n",
      "  warnings.warn(\n"
     ]
    },
    {
     "name": "stdout",
     "output_type": "stream",
     "text": [
      "Files already downloaded and verified\n",
      "Files already downloaded and verified\n"
     ]
    }
   ],
   "source": [
    "dl = load_dataset(\n",
    "    dataset=\"CIFAR10\",\n",
    "    root=os.path.join(\"/tmp\", os.environ[\"USER\"], \"CIFAR\"),\n",
    "    augmentation=transforms.RandomAffine(10, scale=(0.9, 1.1), translate=(0.2, 0.2)),\n",
    "    validation_split=0.2,\n",
    "    batch_size=128,\n",
    "    num_workers=10,\n",
    "    target_size=(224, 224),\n",
    ")"
   ]
  },
  {
   "cell_type": "code",
   "execution_count": 100,
   "id": "a01504e8-781a-40fe-9cac-7c8fc34ce85d",
   "metadata": {},
   "outputs": [
    {
     "data": {
      "text/plain": [
       "ResNet(\n",
       "  (conv1): Conv2d(3, 64, kernel_size=(7, 7), stride=(2, 2), padding=(3, 3), bias=False)\n",
       "  (bn1): BatchNorm2d(64, eps=1e-05, momentum=0.1, affine=True, track_running_stats=True)\n",
       "  (relu): ReLU(inplace=True)\n",
       "  (maxpool): MaxPool2d(kernel_size=3, stride=2, padding=1, dilation=1, ceil_mode=False)\n",
       "  (layer1): Sequential(\n",
       "    (0): BasicBlock(\n",
       "      (conv1): Conv2d(64, 64, kernel_size=(3, 3), stride=(1, 1), padding=(1, 1), bias=False)\n",
       "      (bn1): BatchNorm2d(64, eps=1e-05, momentum=0.1, affine=True, track_running_stats=True)\n",
       "      (relu): ReLU(inplace=True)\n",
       "      (conv2): Conv2d(64, 64, kernel_size=(3, 3), stride=(1, 1), padding=(1, 1), bias=False)\n",
       "      (bn2): BatchNorm2d(64, eps=1e-05, momentum=0.1, affine=True, track_running_stats=True)\n",
       "    )\n",
       "    (1): BasicBlock(\n",
       "      (conv1): Conv2d(64, 64, kernel_size=(3, 3), stride=(1, 1), padding=(1, 1), bias=False)\n",
       "      (bn1): BatchNorm2d(64, eps=1e-05, momentum=0.1, affine=True, track_running_stats=True)\n",
       "      (relu): ReLU(inplace=True)\n",
       "      (conv2): Conv2d(64, 64, kernel_size=(3, 3), stride=(1, 1), padding=(1, 1), bias=False)\n",
       "      (bn2): BatchNorm2d(64, eps=1e-05, momentum=0.1, affine=True, track_running_stats=True)\n",
       "    )\n",
       "  )\n",
       "  (layer2): Sequential(\n",
       "    (0): BasicBlock(\n",
       "      (conv1): Conv2d(64, 128, kernel_size=(3, 3), stride=(2, 2), padding=(1, 1), bias=False)\n",
       "      (bn1): BatchNorm2d(128, eps=1e-05, momentum=0.1, affine=True, track_running_stats=True)\n",
       "      (relu): ReLU(inplace=True)\n",
       "      (conv2): Conv2d(128, 128, kernel_size=(3, 3), stride=(1, 1), padding=(1, 1), bias=False)\n",
       "      (bn2): BatchNorm2d(128, eps=1e-05, momentum=0.1, affine=True, track_running_stats=True)\n",
       "      (downsample): Sequential(\n",
       "        (0): Conv2d(64, 128, kernel_size=(1, 1), stride=(2, 2), bias=False)\n",
       "        (1): BatchNorm2d(128, eps=1e-05, momentum=0.1, affine=True, track_running_stats=True)\n",
       "      )\n",
       "    )\n",
       "    (1): BasicBlock(\n",
       "      (conv1): Conv2d(128, 128, kernel_size=(3, 3), stride=(1, 1), padding=(1, 1), bias=False)\n",
       "      (bn1): BatchNorm2d(128, eps=1e-05, momentum=0.1, affine=True, track_running_stats=True)\n",
       "      (relu): ReLU(inplace=True)\n",
       "      (conv2): Conv2d(128, 128, kernel_size=(3, 3), stride=(1, 1), padding=(1, 1), bias=False)\n",
       "      (bn2): BatchNorm2d(128, eps=1e-05, momentum=0.1, affine=True, track_running_stats=True)\n",
       "    )\n",
       "  )\n",
       "  (layer3): Sequential(\n",
       "    (0): BasicBlock(\n",
       "      (conv1): Conv2d(128, 256, kernel_size=(3, 3), stride=(2, 2), padding=(1, 1), bias=False)\n",
       "      (bn1): BatchNorm2d(256, eps=1e-05, momentum=0.1, affine=True, track_running_stats=True)\n",
       "      (relu): ReLU(inplace=True)\n",
       "      (conv2): Conv2d(256, 256, kernel_size=(3, 3), stride=(1, 1), padding=(1, 1), bias=False)\n",
       "      (bn2): BatchNorm2d(256, eps=1e-05, momentum=0.1, affine=True, track_running_stats=True)\n",
       "      (downsample): Sequential(\n",
       "        (0): Conv2d(128, 256, kernel_size=(1, 1), stride=(2, 2), bias=False)\n",
       "        (1): BatchNorm2d(256, eps=1e-05, momentum=0.1, affine=True, track_running_stats=True)\n",
       "      )\n",
       "    )\n",
       "    (1): BasicBlock(\n",
       "      (conv1): Conv2d(256, 256, kernel_size=(3, 3), stride=(1, 1), padding=(1, 1), bias=False)\n",
       "      (bn1): BatchNorm2d(256, eps=1e-05, momentum=0.1, affine=True, track_running_stats=True)\n",
       "      (relu): ReLU(inplace=True)\n",
       "      (conv2): Conv2d(256, 256, kernel_size=(3, 3), stride=(1, 1), padding=(1, 1), bias=False)\n",
       "      (bn2): BatchNorm2d(256, eps=1e-05, momentum=0.1, affine=True, track_running_stats=True)\n",
       "    )\n",
       "  )\n",
       "  (layer4): Sequential(\n",
       "    (0): BasicBlock(\n",
       "      (conv1): Conv2d(256, 512, kernel_size=(3, 3), stride=(2, 2), padding=(1, 1), bias=False)\n",
       "      (bn1): BatchNorm2d(512, eps=1e-05, momentum=0.1, affine=True, track_running_stats=True)\n",
       "      (relu): ReLU(inplace=True)\n",
       "      (conv2): Conv2d(512, 512, kernel_size=(3, 3), stride=(1, 1), padding=(1, 1), bias=False)\n",
       "      (bn2): BatchNorm2d(512, eps=1e-05, momentum=0.1, affine=True, track_running_stats=True)\n",
       "      (downsample): Sequential(\n",
       "        (0): Conv2d(256, 512, kernel_size=(1, 1), stride=(2, 2), bias=False)\n",
       "        (1): BatchNorm2d(512, eps=1e-05, momentum=0.1, affine=True, track_running_stats=True)\n",
       "      )\n",
       "    )\n",
       "    (1): BasicBlock(\n",
       "      (conv1): Conv2d(512, 512, kernel_size=(3, 3), stride=(1, 1), padding=(1, 1), bias=False)\n",
       "      (bn1): BatchNorm2d(512, eps=1e-05, momentum=0.1, affine=True, track_running_stats=True)\n",
       "      (relu): ReLU(inplace=True)\n",
       "      (conv2): Conv2d(512, 512, kernel_size=(3, 3), stride=(1, 1), padding=(1, 1), bias=False)\n",
       "      (bn2): BatchNorm2d(512, eps=1e-05, momentum=0.1, affine=True, track_running_stats=True)\n",
       "    )\n",
       "  )\n",
       "  (avgpool): AdaptiveAvgPool2d(output_size=(1, 1))\n",
       "  (fc): Sequential(\n",
       "    (0): Linear(in_features=512, out_features=10, bias=True)\n",
       "    (1): LogSoftmax(dim=-1)\n",
       "  )\n",
       ")"
      ]
     },
     "execution_count": 100,
     "metadata": {},
     "output_type": "execute_result"
    }
   ],
   "source": [
    "model.load_state_dict(initial_state)\n",
    "model.to(trainer.device)"
   ]
  },
  {
   "cell_type": "code",
   "execution_count": 101,
   "id": "32fcdb05-181c-4cdc-a90d-b7563245fd85",
   "metadata": {},
   "outputs": [
    {
     "data": {
      "text/plain": [
       "(0.1113, 2.5140885375976563)"
      ]
     },
     "execution_count": 101,
     "metadata": {},
     "output_type": "execute_result"
    }
   ],
   "source": [
    "trainer.validation(model, dl[\"valid\"])"
   ]
  },
  {
   "cell_type": "code",
   "execution_count": 102,
   "id": "530e430d-24f5-4fde-a34d-bc2d9ac1676d",
   "metadata": {},
   "outputs": [
    {
     "data": {
      "text/plain": [
       "<torch._C.Generator at 0x7f991411b250>"
      ]
     },
     "execution_count": 102,
     "metadata": {},
     "output_type": "execute_result"
    }
   ],
   "source": [
    "optimizer = AcceleratedSGD(model.parameters(), 1e-1, k=10, momentum=0.9, weight_decay=1e-5, lambda_=1e-8)\n",
    "logger = Logger(\"resnet_log_augmentation.txt\")\n",
    "torch.manual_seed(2020)"
   ]
  },
  {
   "cell_type": "code",
   "execution_count": 103,
   "id": "a386bfa8-f1e7-4a66-af4d-86664c67f8c7",
   "metadata": {},
   "outputs": [
    {
     "name": "stdout",
     "output_type": "stream",
     "text": [
      "100%|██████████| 313/313 [02:04<00:00,  2.51it/s, loss=2.2682]\n",
      "Epoch 1 | Training loss: 2.2682, validation accuracy: 0.2751, validation loss: 1.9231\n",
      "100%|██████████| 313/313 [02:05<00:00,  2.49it/s, loss=1.7987]\n",
      "Epoch 2 | Training loss: 1.7987, validation accuracy: 0.3842, validation loss: 1.6462\n",
      "100%|██████████| 313/313 [02:05<00:00,  2.49it/s, loss=1.5382]\n",
      "Epoch 3 | Training loss: 1.5382, validation accuracy: 0.4664, validation loss: 1.4636\n",
      "100%|██████████| 313/313 [02:05<00:00,  2.50it/s, loss=1.3334]\n",
      "Epoch 4 | Training loss: 1.3334, validation accuracy: 0.5451, validation loss: 1.3767\n",
      "100%|██████████| 313/313 [02:03<00:00,  2.52it/s, loss=1.1522]\n",
      "Epoch 5 | Training loss: 1.1522, validation accuracy: 0.6002, validation loss: 1.1925\n",
      "100%|██████████| 313/313 [02:04<00:00,  2.51it/s, loss=0.9976]\n",
      "Epoch 6 | Training loss: 0.9976, validation accuracy: 0.6539, validation loss: 1.0294\n",
      "100%|██████████| 313/313 [02:04<00:00,  2.52it/s, loss=0.8722]\n",
      "Epoch 7 | Training loss: 0.8722, validation accuracy: 0.7083, validation loss: 0.8395\n",
      "100%|██████████| 313/313 [02:05<00:00,  2.49it/s, loss=0.7663]\n",
      "Epoch 8 | Training loss: 0.7663, validation accuracy: 0.7477, validation loss: 0.7641\n",
      "100%|██████████| 313/313 [02:05<00:00,  2.50it/s, loss=0.6880]\n",
      "Epoch 9 | Training loss: 0.6880, validation accuracy: 0.7781, validation loss: 0.6635\n",
      "100%|██████████| 313/313 [02:06<00:00,  2.48it/s, loss=0.6329]\n",
      "Epoch 10 | Training loss: 0.6329, validation accuracy: 0.7748, validation loss: 0.6887\n",
      "100%|██████████| 313/313 [02:04<00:00,  2.52it/s, loss=0.5827]\n",
      "Epoch 11 | Training loss: 0.5827, validation accuracy: 0.7911, validation loss: 0.6204\n",
      "100%|██████████| 313/313 [02:05<00:00,  2.49it/s, loss=0.5353]\n",
      "Epoch 12 | Training loss: 0.5353, validation accuracy: 0.8174, validation loss: 0.5603\n",
      "100%|██████████| 313/313 [02:05<00:00,  2.49it/s, loss=0.4934]\n",
      "Epoch 13 | Training loss: 0.4934, validation accuracy: 0.8126, validation loss: 0.6062\n",
      "100%|██████████| 313/313 [02:04<00:00,  2.52it/s, loss=0.4564]\n",
      "Epoch 14 | Training loss: 0.4564, validation accuracy: 0.8246, validation loss: 0.5386\n",
      "100%|██████████| 313/313 [02:05<00:00,  2.49it/s, loss=0.4288]\n",
      "Epoch 15 | Training loss: 0.4288, validation accuracy: 0.8115, validation loss: 0.5948\n",
      "100%|██████████| 313/313 [02:04<00:00,  2.52it/s, loss=0.4021]\n",
      "Epoch 16 | Training loss: 0.4021, validation accuracy: 0.8287, validation loss: 0.5448\n",
      "100%|██████████| 313/313 [02:03<00:00,  2.53it/s, loss=0.3700]\n",
      "Epoch 17 | Training loss: 0.3700, validation accuracy: 0.8422, validation loss: 0.5029\n",
      "100%|██████████| 313/313 [02:04<00:00,  2.51it/s, loss=0.3424]\n",
      "Epoch 18 | Training loss: 0.3424, validation accuracy: 0.8543, validation loss: 0.4549\n",
      "100%|██████████| 313/313 [02:04<00:00,  2.51it/s, loss=0.3216]\n",
      "Epoch 19 | Training loss: 0.3216, validation accuracy: 0.8440, validation loss: 0.5094\n",
      "100%|██████████| 313/313 [02:04<00:00,  2.51it/s, loss=0.2994]\n",
      "Epoch 20 | Training loss: 0.2994, validation accuracy: 0.8570, validation loss: 0.4873\n",
      "100%|██████████| 313/313 [02:04<00:00,  2.51it/s, loss=0.2765]\n",
      "Epoch 21 | Training loss: 0.2765, validation accuracy: 0.8404, validation loss: 0.5455\n",
      "100%|██████████| 313/313 [02:04<00:00,  2.52it/s, loss=0.2609]\n",
      "Epoch 22 | Training loss: 0.2609, validation accuracy: 0.8541, validation loss: 0.5130\n",
      "100%|██████████| 313/313 [02:04<00:00,  2.51it/s, loss=0.2378]\n",
      "Epoch 23 | Training loss: 0.2378, validation accuracy: 0.8683, validation loss: 0.4375\n",
      "100%|██████████| 313/313 [02:04<00:00,  2.51it/s, loss=0.2266]\n",
      "Epoch 24 | Training loss: 0.2266, validation accuracy: 0.8690, validation loss: 0.4659\n",
      "100%|██████████| 313/313 [02:04<00:00,  2.51it/s, loss=0.2050]\n",
      "Epoch 25 | Training loss: 0.2050, validation accuracy: 0.8638, validation loss: 0.5078\n"
     ]
    }
   ],
   "source": [
    "epochs = 25\n",
    "\n",
    "for epoch in range(epochs):\n",
    "    train_loss = trainer.train_epoch(model, optimizer, dl[\"train\"])\n",
    "    optimizer.finish_epoch()\n",
    "    val_acc, val_loss = trainer.validation(model, dl[\"valid\"])\n",
    "    logger.log(\"Epoch\", epoch+1, \"|\", \n",
    "          f\"Training loss: {train_loss:.4f}, validation accuracy: {val_acc:.4f}, validation loss: {val_loss:.4f}\")"
   ]
  },
  {
   "cell_type": "code",
   "execution_count": 104,
   "id": "3b4901ab-eac9-46b5-bf44-ee1cad7570c4",
   "metadata": {},
   "outputs": [
    {
     "name": "stdout",
     "output_type": "stream",
     "text": [
      "Train: (0.924875, 0.21868382456302643)\n",
      "Valid: (0.8638, 0.5077923046112061)\n"
     ]
    }
   ],
   "source": [
    "train_score = trainer.validation(model, dl[\"train\"])\n",
    "valid_score = trainer.validation(model, dl[\"valid\"])\n",
    "logger.log(\"Train:\", train_score)\n",
    "logger.log(\"Valid:\", valid_score)"
   ]
  },
  {
   "cell_type": "code",
   "execution_count": 105,
   "id": "de503bd3-ce7a-42c7-93d8-8a9f7fd54054",
   "metadata": {},
   "outputs": [
    {
     "name": "stdout",
     "output_type": "stream",
     "text": [
      "RNA\n"
     ]
    }
   ],
   "source": [
    "optimizer.param_groups[0][\"method\"] = \"RNA\"\n",
    "logger.log(\"RNA\")\n",
    "model_acc = deepcopy(model)\n",
    "optimizer.accelerate()\n",
    "optimizer.store_parameters([model_acc.parameters()])"
   ]
  },
  {
   "cell_type": "code",
   "execution_count": 106,
   "id": "35b613a9-bea7-44ef-9501-ed575d38fba6",
   "metadata": {
    "tags": []
   },
   "outputs": [
    {
     "name": "stdout",
     "output_type": "stream",
     "text": [
      "Train: (0.91715, 0.23692127623558046)\n",
      "Valid: (0.8688, 0.4422642339706421)\n"
     ]
    }
   ],
   "source": [
    "model_acc.to(trainer.device)\n",
    "train_score = trainer.validation(model_acc, dl[\"train\"])\n",
    "valid_score = trainer.validation(model_acc, dl[\"valid\"])\n",
    "logger.log(\"Train:\", train_score)\n",
    "logger.log(\"Valid:\", valid_score)"
   ]
  },
  {
   "cell_type": "code",
   "execution_count": 107,
   "id": "a705ac05-b978-4a08-8aa1-22d951245301",
   "metadata": {},
   "outputs": [
    {
     "name": "stdout",
     "output_type": "stream",
     "text": [
      "RRE\n"
     ]
    }
   ],
   "source": [
    "optimizer.param_groups[0][\"method\"] = \"RRE\"\n",
    "logger.log(\"RRE\")\n",
    "model_acc = deepcopy(model)\n",
    "optimizer.accelerate()\n",
    "optimizer.store_parameters([model_acc.parameters()])"
   ]
  },
  {
   "cell_type": "code",
   "execution_count": 108,
   "id": "e8963407-2107-4979-a32c-af24529ffa00",
   "metadata": {
    "tags": []
   },
   "outputs": [
    {
     "name": "stdout",
     "output_type": "stream",
     "text": [
      "Train: (0.917825, 0.23501521935462952)\n",
      "Valid: (0.8688, 0.4422644820213318)\n"
     ]
    }
   ],
   "source": [
    "model_acc.to(trainer.device)\n",
    "train_score = trainer.validation(model_acc, dl[\"train\"])\n",
    "valid_score = trainer.validation(model_acc, dl[\"valid\"])\n",
    "logger.log(\"Train:\", train_score)\n",
    "logger.log(\"Valid:\", valid_score)"
   ]
  },
  {
   "cell_type": "code",
   "execution_count": 109,
   "id": "d76094de-8920-4732-9822-31dbc6f65a39",
   "metadata": {},
   "outputs": [],
   "source": [
    "optimizer.param_groups[0][\"lr\"] = 1e-2"
   ]
  },
  {
   "cell_type": "code",
   "execution_count": 110,
   "id": "cc4c99ca-70bd-4813-a78b-9440458fc558",
   "metadata": {},
   "outputs": [
    {
     "name": "stdout",
     "output_type": "stream",
     "text": [
      "100%|██████████| 313/313 [02:05<00:00,  2.49it/s, loss=0.1235]\n",
      "Epoch 1 | Training loss: 0.1235, validation accuracy: 0.8965, validation loss: 0.3596\n",
      "100%|██████████| 313/313 [02:04<00:00,  2.52it/s, loss=0.0994]\n",
      "Epoch 2 | Training loss: 0.0994, validation accuracy: 0.8943, validation loss: 0.3705\n",
      "100%|██████████| 313/313 [02:05<00:00,  2.49it/s, loss=0.0871]\n",
      "Epoch 3 | Training loss: 0.0871, validation accuracy: 0.8966, validation loss: 0.3676\n",
      "100%|██████████| 313/313 [02:04<00:00,  2.51it/s, loss=0.0798]\n",
      "Epoch 4 | Training loss: 0.0798, validation accuracy: 0.8989, validation loss: 0.3720\n",
      "100%|██████████| 313/313 [02:04<00:00,  2.51it/s, loss=0.0736]\n",
      "Epoch 5 | Training loss: 0.0736, validation accuracy: 0.8989, validation loss: 0.3732\n",
      "100%|██████████| 313/313 [02:05<00:00,  2.49it/s, loss=0.0701]\n",
      "Epoch 6 | Training loss: 0.0701, validation accuracy: 0.8972, validation loss: 0.3815\n",
      "100%|██████████| 313/313 [02:04<00:00,  2.52it/s, loss=0.0657]\n",
      "Epoch 7 | Training loss: 0.0657, validation accuracy: 0.8992, validation loss: 0.3761\n",
      "100%|██████████| 313/313 [02:04<00:00,  2.52it/s, loss=0.0623]\n",
      "Epoch 8 | Training loss: 0.0623, validation accuracy: 0.8985, validation loss: 0.3975\n",
      "100%|██████████| 313/313 [02:05<00:00,  2.49it/s, loss=0.0612]\n",
      "Epoch 9 | Training loss: 0.0612, validation accuracy: 0.8984, validation loss: 0.3954\n",
      "100%|██████████| 313/313 [02:04<00:00,  2.51it/s, loss=0.0587]\n",
      "Epoch 10 | Training loss: 0.0587, validation accuracy: 0.8989, validation loss: 0.4044\n",
      "100%|██████████| 313/313 [02:04<00:00,  2.52it/s, loss=0.0543]\n",
      "Epoch 11 | Training loss: 0.0543, validation accuracy: 0.8973, validation loss: 0.4125\n",
      "100%|██████████| 313/313 [02:04<00:00,  2.52it/s, loss=0.0526]\n",
      "Epoch 12 | Training loss: 0.0526, validation accuracy: 0.8976, validation loss: 0.4078\n",
      "100%|██████████| 313/313 [02:04<00:00,  2.51it/s, loss=0.0514]\n",
      "Epoch 13 | Training loss: 0.0514, validation accuracy: 0.9001, validation loss: 0.4107\n",
      "100%|██████████| 313/313 [02:04<00:00,  2.51it/s, loss=0.0502]\n",
      "Epoch 14 | Training loss: 0.0502, validation accuracy: 0.8996, validation loss: 0.4133\n",
      "100%|██████████| 313/313 [02:04<00:00,  2.52it/s, loss=0.0475]\n",
      "Epoch 15 | Training loss: 0.0475, validation accuracy: 0.9005, validation loss: 0.4183\n",
      "100%|██████████| 313/313 [02:04<00:00,  2.52it/s, loss=0.0459]\n",
      "Epoch 16 | Training loss: 0.0459, validation accuracy: 0.8982, validation loss: 0.4234\n",
      "100%|██████████| 313/313 [02:05<00:00,  2.49it/s, loss=0.0443]\n",
      "Epoch 17 | Training loss: 0.0443, validation accuracy: 0.8997, validation loss: 0.4284\n",
      "100%|██████████| 313/313 [02:03<00:00,  2.53it/s, loss=0.0422]\n",
      "Epoch 18 | Training loss: 0.0422, validation accuracy: 0.9010, validation loss: 0.4215\n",
      "100%|██████████| 313/313 [02:04<00:00,  2.52it/s, loss=0.0393]\n",
      "Epoch 19 | Training loss: 0.0393, validation accuracy: 0.8989, validation loss: 0.4296\n",
      "100%|██████████| 313/313 [02:05<00:00,  2.49it/s, loss=0.0405]\n",
      "Epoch 20 | Training loss: 0.0405, validation accuracy: 0.8998, validation loss: 0.4411\n",
      "100%|██████████| 313/313 [02:06<00:00,  2.48it/s, loss=0.0415]\n",
      "Epoch 21 | Training loss: 0.0415, validation accuracy: 0.8986, validation loss: 0.4383\n",
      "100%|██████████| 313/313 [02:05<00:00,  2.49it/s, loss=0.0372]\n",
      "Epoch 22 | Training loss: 0.0372, validation accuracy: 0.8986, validation loss: 0.4407\n",
      "100%|██████████| 313/313 [02:05<00:00,  2.49it/s, loss=0.0361]\n",
      "Epoch 23 | Training loss: 0.0361, validation accuracy: 0.8965, validation loss: 0.4559\n",
      "100%|██████████| 313/313 [02:05<00:00,  2.49it/s, loss=0.0355]\n",
      "Epoch 24 | Training loss: 0.0355, validation accuracy: 0.8969, validation loss: 0.4544\n",
      "100%|██████████| 313/313 [02:04<00:00,  2.51it/s, loss=0.0331]\n",
      "Epoch 25 | Training loss: 0.0331, validation accuracy: 0.8980, validation loss: 0.4474\n"
     ]
    }
   ],
   "source": [
    "epochs = 25\n",
    "\n",
    "for epoch in range(epochs):\n",
    "    train_loss = trainer.train_epoch(model, optimizer, dl[\"train\"])\n",
    "    optimizer.finish_epoch()\n",
    "    val_acc, val_loss = trainer.validation(model, dl[\"valid\"])\n",
    "    logger.log(\"Epoch\", epoch+1, \"|\", \n",
    "          f\"Training loss: {train_loss:.4f}, validation accuracy: {val_acc:.4f}, validation loss: {val_loss:.4f}\")"
   ]
  },
  {
   "cell_type": "code",
   "execution_count": 111,
   "id": "092a44a2-0978-4a60-bada-305318c57a3c",
   "metadata": {},
   "outputs": [
    {
     "name": "stdout",
     "output_type": "stream",
     "text": [
      "Train: (0.992175, 0.026007969420403242)\n",
      "Valid: (0.898, 0.4474107147216797)\n"
     ]
    }
   ],
   "source": [
    "train_score = trainer.validation(model, dl[\"train\"])\n",
    "valid_score = trainer.validation(model, dl[\"valid\"])\n",
    "logger.log(\"Train:\", train_score)\n",
    "logger.log(\"Valid:\", valid_score)"
   ]
  },
  {
   "cell_type": "code",
   "execution_count": 112,
   "id": "99d53692-e2ae-46cd-b314-6b8182f27a1c",
   "metadata": {},
   "outputs": [
    {
     "name": "stdout",
     "output_type": "stream",
     "text": [
      "RNA\n"
     ]
    }
   ],
   "source": [
    "optimizer.param_groups[0][\"method\"] = \"RNA\"\n",
    "logger.log(\"RNA\")\n",
    "model_acc = deepcopy(model)\n",
    "optimizer.accelerate()\n",
    "optimizer.store_parameters([model_acc.parameters()])"
   ]
  },
  {
   "cell_type": "code",
   "execution_count": 113,
   "id": "d109361e-1213-4c02-8e35-f3dc292f39cf",
   "metadata": {
    "tags": []
   },
   "outputs": [
    {
     "name": "stdout",
     "output_type": "stream",
     "text": [
      "Train: (0.991075, 0.029470107208192348)\n",
      "Valid: (0.8976, 0.45620492362976073)\n"
     ]
    }
   ],
   "source": [
    "model_acc.to(trainer.device)\n",
    "train_score = trainer.validation(model_acc, dl[\"train\"])\n",
    "valid_score = trainer.validation(model_acc, dl[\"valid\"])\n",
    "logger.log(\"Train:\", train_score)\n",
    "logger.log(\"Valid:\", valid_score)"
   ]
  },
  {
   "cell_type": "code",
   "execution_count": 114,
   "id": "8e448e3c-da41-492a-8c57-441d0e235b1d",
   "metadata": {},
   "outputs": [
    {
     "name": "stdout",
     "output_type": "stream",
     "text": [
      "RRE\n"
     ]
    }
   ],
   "source": [
    "optimizer.param_groups[0][\"method\"] = \"RRE\"\n",
    "logger.log(\"RRE\")\n",
    "model_acc = deepcopy(model)\n",
    "optimizer.accelerate()\n",
    "optimizer.store_parameters([model_acc.parameters()])"
   ]
  },
  {
   "cell_type": "code",
   "execution_count": 115,
   "id": "340a7ff4-08ab-46c4-a8dd-88ef49e4b087",
   "metadata": {
    "tags": []
   },
   "outputs": [
    {
     "name": "stdout",
     "output_type": "stream",
     "text": [
      "Train: (0.99135, 0.030331627766788005)\n",
      "Valid: (0.8976, 0.45620513763427734)\n"
     ]
    }
   ],
   "source": [
    "model_acc.to(trainer.device)\n",
    "train_score = trainer.validation(model_acc, dl[\"train\"])\n",
    "valid_score = trainer.validation(model_acc, dl[\"valid\"])\n",
    "logger.log(\"Train:\", train_score)\n",
    "logger.log(\"Valid:\", valid_score)"
   ]
  },
  {
   "cell_type": "code",
   "execution_count": 116,
   "id": "10023006-5655-4b7e-a895-ebed2aac0860",
   "metadata": {},
   "outputs": [],
   "source": [
    "optimizer.param_groups[0][\"lr\"] = 1e-3"
   ]
  },
  {
   "cell_type": "code",
   "execution_count": 117,
   "id": "8e7ea704-33e5-4233-842b-97f13c6fb76d",
   "metadata": {},
   "outputs": [
    {
     "name": "stdout",
     "output_type": "stream",
     "text": [
      "100%|██████████| 313/313 [02:04<00:00,  2.51it/s, loss=0.0314]\n",
      "Epoch 1 | Training loss: 0.0314, validation accuracy: 0.9000, validation loss: 0.4431\n",
      "100%|██████████| 313/313 [02:05<00:00,  2.49it/s, loss=0.0310]\n",
      "Epoch 2 | Training loss: 0.0310, validation accuracy: 0.9005, validation loss: 0.4461\n",
      "100%|██████████| 313/313 [02:04<00:00,  2.52it/s, loss=0.0283]\n",
      "Epoch 3 | Training loss: 0.0283, validation accuracy: 0.8995, validation loss: 0.4445\n",
      "100%|██████████| 313/313 [02:06<00:00,  2.48it/s, loss=0.0276]\n",
      "Epoch 4 | Training loss: 0.0276, validation accuracy: 0.8994, validation loss: 0.4422\n",
      "100%|██████████| 313/313 [02:04<00:00,  2.52it/s, loss=0.0284]\n",
      "Epoch 5 | Training loss: 0.0284, validation accuracy: 0.8994, validation loss: 0.4459\n",
      "100%|██████████| 313/313 [02:04<00:00,  2.52it/s, loss=0.0282]\n",
      "Epoch 6 | Training loss: 0.0282, validation accuracy: 0.8997, validation loss: 0.4456\n",
      "100%|██████████| 313/313 [02:04<00:00,  2.52it/s, loss=0.0272]\n",
      "Epoch 7 | Training loss: 0.0272, validation accuracy: 0.9008, validation loss: 0.4422\n",
      "100%|██████████| 313/313 [02:04<00:00,  2.51it/s, loss=0.0276]\n",
      "Epoch 8 | Training loss: 0.0276, validation accuracy: 0.8990, validation loss: 0.4461\n",
      "100%|██████████| 313/313 [02:04<00:00,  2.51it/s, loss=0.0272]\n",
      "Epoch 9 | Training loss: 0.0272, validation accuracy: 0.9019, validation loss: 0.4445\n",
      "100%|██████████| 313/313 [02:05<00:00,  2.49it/s, loss=0.0265]\n",
      "Epoch 10 | Training loss: 0.0265, validation accuracy: 0.9010, validation loss: 0.4442\n",
      "100%|██████████| 313/313 [02:05<00:00,  2.49it/s, loss=0.0265]\n",
      "Epoch 11 | Training loss: 0.0265, validation accuracy: 0.8990, validation loss: 0.4489\n",
      "100%|██████████| 313/313 [02:05<00:00,  2.49it/s, loss=0.0255]\n",
      "Epoch 12 | Training loss: 0.0255, validation accuracy: 0.9007, validation loss: 0.4439\n",
      "100%|██████████| 313/313 [02:04<00:00,  2.51it/s, loss=0.0262]\n",
      "Epoch 13 | Training loss: 0.0262, validation accuracy: 0.8994, validation loss: 0.4419\n",
      "100%|██████████| 313/313 [02:06<00:00,  2.48it/s, loss=0.0275]\n",
      "Epoch 14 | Training loss: 0.0275, validation accuracy: 0.9007, validation loss: 0.4431\n",
      "100%|██████████| 313/313 [02:04<00:00,  2.51it/s, loss=0.0268]\n",
      "Epoch 15 | Training loss: 0.0268, validation accuracy: 0.9010, validation loss: 0.4434\n",
      "100%|██████████| 313/313 [02:05<00:00,  2.49it/s, loss=0.0273]\n",
      "Epoch 16 | Training loss: 0.0273, validation accuracy: 0.9008, validation loss: 0.4481\n",
      "100%|██████████| 313/313 [02:04<00:00,  2.51it/s, loss=0.0268]\n",
      "Epoch 17 | Training loss: 0.0268, validation accuracy: 0.9003, validation loss: 0.4468\n",
      "100%|██████████| 313/313 [02:04<00:00,  2.51it/s, loss=0.0255]\n",
      "Epoch 18 | Training loss: 0.0255, validation accuracy: 0.9007, validation loss: 0.4472\n",
      "100%|██████████| 313/313 [02:04<00:00,  2.51it/s, loss=0.0256]\n",
      "Epoch 19 | Training loss: 0.0256, validation accuracy: 0.8996, validation loss: 0.4522\n",
      "100%|██████████| 313/313 [02:06<00:00,  2.48it/s, loss=0.0250]\n",
      "Epoch 20 | Training loss: 0.0250, validation accuracy: 0.8994, validation loss: 0.4501\n",
      "100%|██████████| 313/313 [02:04<00:00,  2.52it/s, loss=0.0261]\n",
      "Epoch 21 | Training loss: 0.0261, validation accuracy: 0.8993, validation loss: 0.4471\n",
      "100%|██████████| 313/313 [02:04<00:00,  2.51it/s, loss=0.0258]\n",
      "Epoch 22 | Training loss: 0.0258, validation accuracy: 0.8999, validation loss: 0.4496\n",
      "100%|██████████| 313/313 [02:04<00:00,  2.51it/s, loss=0.0263]\n",
      "Epoch 23 | Training loss: 0.0263, validation accuracy: 0.8994, validation loss: 0.4532\n",
      "100%|██████████| 313/313 [02:04<00:00,  2.51it/s, loss=0.0271]\n",
      "Epoch 24 | Training loss: 0.0271, validation accuracy: 0.9004, validation loss: 0.4464\n",
      "100%|██████████| 313/313 [02:06<00:00,  2.48it/s, loss=0.0250]\n",
      "Epoch 25 | Training loss: 0.0250, validation accuracy: 0.9003, validation loss: 0.4489\n"
     ]
    }
   ],
   "source": [
    "epochs = 25\n",
    "\n",
    "for epoch in range(epochs):\n",
    "    train_loss = trainer.train_epoch(model, optimizer, dl[\"train\"])\n",
    "    optimizer.finish_epoch()\n",
    "    val_acc, val_loss = trainer.validation(model, dl[\"valid\"])\n",
    "    logger.log(\"Epoch\", epoch+1, \"|\", \n",
    "          f\"Training loss: {train_loss:.4f}, validation accuracy: {val_acc:.4f}, validation loss: {val_loss:.4f}\")"
   ]
  },
  {
   "cell_type": "code",
   "execution_count": 118,
   "id": "165a0620-f6da-44ae-97b1-a5de8a18c03c",
   "metadata": {},
   "outputs": [
    {
     "name": "stdout",
     "output_type": "stream",
     "text": [
      "Train: (0.994825, 0.01932948977351189)\n",
      "Valid: (0.9003, 0.44885823802948)\n"
     ]
    }
   ],
   "source": [
    "train_score = trainer.validation(model, dl[\"train\"])\n",
    "valid_score = trainer.validation(model, dl[\"valid\"])\n",
    "logger.log(\"Train:\", train_score)\n",
    "logger.log(\"Valid:\", valid_score)"
   ]
  },
  {
   "cell_type": "code",
   "execution_count": 119,
   "id": "e43ffbb8-8f55-4218-8d1a-1a126a397b17",
   "metadata": {},
   "outputs": [
    {
     "name": "stdout",
     "output_type": "stream",
     "text": [
      "RNA\n"
     ]
    }
   ],
   "source": [
    "optimizer.param_groups[0][\"method\"] = \"RNA\"\n",
    "logger.log(\"RNA\")\n",
    "model_acc = deepcopy(model)\n",
    "optimizer.accelerate()\n",
    "optimizer.store_parameters([model_acc.parameters()])"
   ]
  },
  {
   "cell_type": "code",
   "execution_count": 120,
   "id": "ae47fb8e-88d8-4fc0-a915-b08d4ed2deb7",
   "metadata": {
    "tags": []
   },
   "outputs": [
    {
     "name": "stdout",
     "output_type": "stream",
     "text": [
      "Train: (0.994925, 0.01953197303712368)\n",
      "Valid: (0.8996, 0.44897826642990113)\n"
     ]
    }
   ],
   "source": [
    "model_acc.to(trainer.device)\n",
    "train_score = trainer.validation(model_acc, dl[\"train\"])\n",
    "valid_score = trainer.validation(model_acc, dl[\"valid\"])\n",
    "logger.log(\"Train:\", train_score)\n",
    "logger.log(\"Valid:\", valid_score)"
   ]
  },
  {
   "cell_type": "code",
   "execution_count": 121,
   "id": "06577bcf-716b-427d-aed1-f1f950e3aad6",
   "metadata": {},
   "outputs": [
    {
     "name": "stdout",
     "output_type": "stream",
     "text": [
      "RRE\n"
     ]
    }
   ],
   "source": [
    "optimizer.param_groups[0][\"method\"] = \"RRE\"\n",
    "logger.log(\"RRE\")\n",
    "model_acc = deepcopy(model)\n",
    "optimizer.accelerate()\n",
    "optimizer.store_parameters([model_acc.parameters()])"
   ]
  },
  {
   "cell_type": "code",
   "execution_count": 122,
   "id": "36bb1447-615a-4c47-8d09-0c15ab7c7a29",
   "metadata": {
    "tags": []
   },
   "outputs": [
    {
     "name": "stdout",
     "output_type": "stream",
     "text": [
      "Train: (0.994425, 0.020918183160573246)\n",
      "Valid: (0.8996, 0.44897833452224734)\n"
     ]
    }
   ],
   "source": [
    "model_acc.to(trainer.device)\n",
    "train_score = trainer.validation(model_acc, dl[\"train\"])\n",
    "valid_score = trainer.validation(model_acc, dl[\"valid\"])\n",
    "logger.log(\"Train:\", train_score)\n",
    "logger.log(\"Valid:\", valid_score)"
   ]
  },
  {
   "cell_type": "code",
   "execution_count": 123,
   "id": "66b26f07-1eed-4164-9a30-3dc133b267b1",
   "metadata": {},
   "outputs": [],
   "source": [
    "exit"
   ]
  },
  {
   "cell_type": "code",
   "execution_count": null,
   "id": "e29c8704-4657-4b5c-8ae1-e4dc0ebad12a",
   "metadata": {},
   "outputs": [],
   "source": []
  }
 ],
 "metadata": {
  "kernelspec": {
   "display_name": "Python 3 (ipykernel)",
   "language": "python",
   "name": "python3"
  },
  "language_info": {
   "codemirror_mode": {
    "name": "ipython",
    "version": 3
   },
   "file_extension": ".py",
   "mimetype": "text/x-python",
   "name": "python",
   "nbconvert_exporter": "python",
   "pygments_lexer": "ipython3",
   "version": "3.9.12"
  }
 },
 "nbformat": 4,
 "nbformat_minor": 5
}
