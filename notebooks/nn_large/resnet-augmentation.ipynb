{
 "cells": [
  {
   "cell_type": "code",
   "execution_count": 1,
   "id": "24bd44cf-136d-48c7-a346-32979949e27d",
   "metadata": {},
   "outputs": [],
   "source": [
    "import sys\n",
    "sys.path.insert(0, \"../..\")"
   ]
  },
  {
   "cell_type": "code",
   "execution_count": 2,
   "id": "anonymous-tackle",
   "metadata": {},
   "outputs": [],
   "source": [
    "import torch\n",
    "from torch import nn\n",
    "from torchvision import models\n",
    "from copy import deepcopy\n",
    "import os\n",
    "\n",
    "from nn_extrapolation import AcceleratedSGD\n",
    "from nn_utils import *"
   ]
  },
  {
   "cell_type": "code",
   "execution_count": 3,
   "id": "18c86948-09d6-4e27-804f-dd415a0c371c",
   "metadata": {},
   "outputs": [
    {
     "data": {
      "text/plain": [
       "True"
      ]
     },
     "execution_count": 3,
     "metadata": {},
     "output_type": "execute_result"
    }
   ],
   "source": [
    "torch.cuda.is_available()"
   ]
  },
  {
   "cell_type": "code",
   "execution_count": 5,
   "id": "through-stopping",
   "metadata": {},
   "outputs": [],
   "source": [
    "trainer = Trainer(\n",
    "    device=\"cuda:0\",\n",
    "    loss_fn=nn.NLLLoss(reduction=\"mean\"),\n",
    "    val_loss_fn=nn.NLLLoss(reduction=\"sum\"),\n",
    ")"
   ]
  },
  {
   "cell_type": "code",
   "execution_count": 6,
   "id": "e1f93199-29a0-45a5-ac52-24e9eafd4c90",
   "metadata": {},
   "outputs": [
    {
     "name": "stdout",
     "output_type": "stream",
     "text": [
      "Files already downloaded and verified\n",
      "Files already downloaded and verified\n"
     ]
    }
   ],
   "source": [
    "dl = load_dataset(\n",
    "    dataset=\"CIFAR10\",\n",
    "    root=os.path.join(\"/tmp\", os.environ[\"USER\"], \"CIFAR\"),\n",
    "    augmentation=transforms.RandomAffine(10, scale=(0.9, 1.1), translate=(0.2, 0.2)),\n",
    "    validation_split=0.2,\n",
    "    batch_size=128,\n",
    "    num_workers=10,\n",
    ")"
   ]
  },
  {
   "cell_type": "code",
   "execution_count": 7,
   "id": "broke-filename",
   "metadata": {},
   "outputs": [
    {
     "data": {
      "text/plain": [
       "ResNet(\n",
       "  (conv1): Conv2d(3, 64, kernel_size=(7, 7), stride=(2, 2), padding=(3, 3), bias=False)\n",
       "  (bn1): BatchNorm2d(64, eps=1e-05, momentum=0.1, affine=True, track_running_stats=True)\n",
       "  (relu): ReLU(inplace=True)\n",
       "  (maxpool): MaxPool2d(kernel_size=3, stride=2, padding=1, dilation=1, ceil_mode=False)\n",
       "  (layer1): Sequential(\n",
       "    (0): BasicBlock(\n",
       "      (conv1): Conv2d(64, 64, kernel_size=(3, 3), stride=(1, 1), padding=(1, 1), bias=False)\n",
       "      (bn1): BatchNorm2d(64, eps=1e-05, momentum=0.1, affine=True, track_running_stats=True)\n",
       "      (relu): ReLU(inplace=True)\n",
       "      (conv2): Conv2d(64, 64, kernel_size=(3, 3), stride=(1, 1), padding=(1, 1), bias=False)\n",
       "      (bn2): BatchNorm2d(64, eps=1e-05, momentum=0.1, affine=True, track_running_stats=True)\n",
       "    )\n",
       "    (1): BasicBlock(\n",
       "      (conv1): Conv2d(64, 64, kernel_size=(3, 3), stride=(1, 1), padding=(1, 1), bias=False)\n",
       "      (bn1): BatchNorm2d(64, eps=1e-05, momentum=0.1, affine=True, track_running_stats=True)\n",
       "      (relu): ReLU(inplace=True)\n",
       "      (conv2): Conv2d(64, 64, kernel_size=(3, 3), stride=(1, 1), padding=(1, 1), bias=False)\n",
       "      (bn2): BatchNorm2d(64, eps=1e-05, momentum=0.1, affine=True, track_running_stats=True)\n",
       "    )\n",
       "  )\n",
       "  (layer2): Sequential(\n",
       "    (0): BasicBlock(\n",
       "      (conv1): Conv2d(64, 128, kernel_size=(3, 3), stride=(2, 2), padding=(1, 1), bias=False)\n",
       "      (bn1): BatchNorm2d(128, eps=1e-05, momentum=0.1, affine=True, track_running_stats=True)\n",
       "      (relu): ReLU(inplace=True)\n",
       "      (conv2): Conv2d(128, 128, kernel_size=(3, 3), stride=(1, 1), padding=(1, 1), bias=False)\n",
       "      (bn2): BatchNorm2d(128, eps=1e-05, momentum=0.1, affine=True, track_running_stats=True)\n",
       "      (downsample): Sequential(\n",
       "        (0): Conv2d(64, 128, kernel_size=(1, 1), stride=(2, 2), bias=False)\n",
       "        (1): BatchNorm2d(128, eps=1e-05, momentum=0.1, affine=True, track_running_stats=True)\n",
       "      )\n",
       "    )\n",
       "    (1): BasicBlock(\n",
       "      (conv1): Conv2d(128, 128, kernel_size=(3, 3), stride=(1, 1), padding=(1, 1), bias=False)\n",
       "      (bn1): BatchNorm2d(128, eps=1e-05, momentum=0.1, affine=True, track_running_stats=True)\n",
       "      (relu): ReLU(inplace=True)\n",
       "      (conv2): Conv2d(128, 128, kernel_size=(3, 3), stride=(1, 1), padding=(1, 1), bias=False)\n",
       "      (bn2): BatchNorm2d(128, eps=1e-05, momentum=0.1, affine=True, track_running_stats=True)\n",
       "    )\n",
       "  )\n",
       "  (layer3): Sequential(\n",
       "    (0): BasicBlock(\n",
       "      (conv1): Conv2d(128, 256, kernel_size=(3, 3), stride=(2, 2), padding=(1, 1), bias=False)\n",
       "      (bn1): BatchNorm2d(256, eps=1e-05, momentum=0.1, affine=True, track_running_stats=True)\n",
       "      (relu): ReLU(inplace=True)\n",
       "      (conv2): Conv2d(256, 256, kernel_size=(3, 3), stride=(1, 1), padding=(1, 1), bias=False)\n",
       "      (bn2): BatchNorm2d(256, eps=1e-05, momentum=0.1, affine=True, track_running_stats=True)\n",
       "      (downsample): Sequential(\n",
       "        (0): Conv2d(128, 256, kernel_size=(1, 1), stride=(2, 2), bias=False)\n",
       "        (1): BatchNorm2d(256, eps=1e-05, momentum=0.1, affine=True, track_running_stats=True)\n",
       "      )\n",
       "    )\n",
       "    (1): BasicBlock(\n",
       "      (conv1): Conv2d(256, 256, kernel_size=(3, 3), stride=(1, 1), padding=(1, 1), bias=False)\n",
       "      (bn1): BatchNorm2d(256, eps=1e-05, momentum=0.1, affine=True, track_running_stats=True)\n",
       "      (relu): ReLU(inplace=True)\n",
       "      (conv2): Conv2d(256, 256, kernel_size=(3, 3), stride=(1, 1), padding=(1, 1), bias=False)\n",
       "      (bn2): BatchNorm2d(256, eps=1e-05, momentum=0.1, affine=True, track_running_stats=True)\n",
       "    )\n",
       "  )\n",
       "  (layer4): Sequential(\n",
       "    (0): BasicBlock(\n",
       "      (conv1): Conv2d(256, 512, kernel_size=(3, 3), stride=(2, 2), padding=(1, 1), bias=False)\n",
       "      (bn1): BatchNorm2d(512, eps=1e-05, momentum=0.1, affine=True, track_running_stats=True)\n",
       "      (relu): ReLU(inplace=True)\n",
       "      (conv2): Conv2d(512, 512, kernel_size=(3, 3), stride=(1, 1), padding=(1, 1), bias=False)\n",
       "      (bn2): BatchNorm2d(512, eps=1e-05, momentum=0.1, affine=True, track_running_stats=True)\n",
       "      (downsample): Sequential(\n",
       "        (0): Conv2d(256, 512, kernel_size=(1, 1), stride=(2, 2), bias=False)\n",
       "        (1): BatchNorm2d(512, eps=1e-05, momentum=0.1, affine=True, track_running_stats=True)\n",
       "      )\n",
       "    )\n",
       "    (1): BasicBlock(\n",
       "      (conv1): Conv2d(512, 512, kernel_size=(3, 3), stride=(1, 1), padding=(1, 1), bias=False)\n",
       "      (bn1): BatchNorm2d(512, eps=1e-05, momentum=0.1, affine=True, track_running_stats=True)\n",
       "      (relu): ReLU(inplace=True)\n",
       "      (conv2): Conv2d(512, 512, kernel_size=(3, 3), stride=(1, 1), padding=(1, 1), bias=False)\n",
       "      (bn2): BatchNorm2d(512, eps=1e-05, momentum=0.1, affine=True, track_running_stats=True)\n",
       "    )\n",
       "  )\n",
       "  (avgpool): AdaptiveAvgPool2d(output_size=(1, 1))\n",
       "  (fc): Sequential(\n",
       "    (0): Linear(in_features=512, out_features=10, bias=True)\n",
       "    (1): LogSoftmax(dim=-1)\n",
       "  )\n",
       ")"
      ]
     },
     "execution_count": 7,
     "metadata": {},
     "output_type": "execute_result"
    }
   ],
   "source": [
    "model = models.resnet18(pretrained=False)\n",
    "model.fc = nn.Sequential(\n",
    "    nn.Linear(512, 10),\n",
    "    nn.LogSoftmax(-1)\n",
    ")\n",
    "model.to(trainer.device)"
   ]
  },
  {
   "cell_type": "code",
   "execution_count": 8,
   "id": "careful-suspect",
   "metadata": {},
   "outputs": [
    {
     "data": {
      "text/plain": [
       "(0.1016, 2.3978807399749758)"
      ]
     },
     "execution_count": 8,
     "metadata": {},
     "output_type": "execute_result"
    }
   ],
   "source": [
    "trainer.validation(model, dl[\"valid\"])"
   ]
  },
  {
   "cell_type": "markdown",
   "id": "proud-routine",
   "metadata": {},
   "source": [
    "## No momentum"
   ]
  },
  {
   "cell_type": "code",
   "execution_count": 8,
   "id": "employed-tennis",
   "metadata": {},
   "outputs": [],
   "source": [
    "optimizer = AcceleratedSGD(model.parameters(), 1e-1, k=10, momentum=0, weight_decay=0, lambda_=1e-8)\n",
    "logger = Logger(\"resnet_log_augmentation_no_momentum.txt.no_resizing\")"
   ]
  },
  {
   "cell_type": "code",
   "execution_count": 9,
   "id": "fatty-pendant",
   "metadata": {},
   "outputs": [
    {
     "name": "stdout",
     "output_type": "stream",
     "text": [
      "100%|██████████| 313/313 [00:15<00:00, 20.08it/s, loss=1.9728]\n",
      "Epoch 1 | Training loss: 1.9728, validation accuracy: 0.3371, validation loss: 2.0809\n",
      "100%|██████████| 313/313 [00:15<00:00, 20.15it/s, loss=1.5676]\n",
      "Epoch 2 | Training loss: 1.5676, validation accuracy: 0.4210, validation loss: 1.6793\n",
      "100%|██████████| 313/313 [00:15<00:00, 20.24it/s, loss=1.4200]\n",
      "Epoch 3 | Training loss: 1.4200, validation accuracy: 0.2880, validation loss: 17.0430\n",
      "100%|██████████| 313/313 [00:15<00:00, 19.92it/s, loss=1.3180]\n",
      "Epoch 4 | Training loss: 1.3180, validation accuracy: 0.5294, validation loss: 1.3956\n",
      "100%|██████████| 313/313 [00:15<00:00, 19.87it/s, loss=1.2365]\n",
      "Epoch 5 | Training loss: 1.2365, validation accuracy: 0.5612, validation loss: 1.2363\n",
      "100%|██████████| 313/313 [00:16<00:00, 18.47it/s, loss=1.1589]\n",
      "Epoch 6 | Training loss: 1.1589, validation accuracy: 0.5830, validation loss: 1.2227\n",
      "100%|██████████| 313/313 [00:16<00:00, 18.81it/s, loss=1.1012]\n",
      "Epoch 7 | Training loss: 1.1012, validation accuracy: 0.5938, validation loss: 1.1797\n",
      "100%|██████████| 313/313 [00:16<00:00, 19.00it/s, loss=1.0597]\n",
      "Epoch 8 | Training loss: 1.0597, validation accuracy: 0.6492, validation loss: 0.9947\n",
      "100%|██████████| 313/313 [00:16<00:00, 18.65it/s, loss=1.0120]\n",
      "Epoch 9 | Training loss: 1.0120, validation accuracy: 0.6420, validation loss: 1.0444\n",
      "100%|██████████| 313/313 [00:16<00:00, 18.58it/s, loss=0.9762]\n",
      "Epoch 10 | Training loss: 0.9762, validation accuracy: 0.6498, validation loss: 1.0270\n",
      "100%|██████████| 313/313 [00:16<00:00, 18.58it/s, loss=0.9462]\n",
      "Epoch 11 | Training loss: 0.9462, validation accuracy: 0.6315, validation loss: 1.0874\n",
      "100%|██████████| 313/313 [00:16<00:00, 18.51it/s, loss=0.9078]\n",
      "Epoch 12 | Training loss: 0.9078, validation accuracy: 0.6935, validation loss: 0.8876\n",
      "100%|██████████| 313/313 [00:16<00:00, 18.90it/s, loss=0.8814]\n",
      "Epoch 13 | Training loss: 0.8814, validation accuracy: 0.6427, validation loss: 1.0593\n",
      "100%|██████████| 313/313 [00:16<00:00, 18.89it/s, loss=0.8597]\n",
      "Epoch 14 | Training loss: 0.8597, validation accuracy: 0.6905, validation loss: 0.9107\n",
      "100%|██████████| 313/313 [00:16<00:00, 18.73it/s, loss=0.8328]\n",
      "Epoch 15 | Training loss: 0.8328, validation accuracy: 0.6818, validation loss: 0.9690\n",
      "100%|██████████| 313/313 [00:16<00:00, 18.76it/s, loss=0.8168]\n",
      "Epoch 16 | Training loss: 0.8168, validation accuracy: 0.6927, validation loss: 0.9093\n",
      "100%|██████████| 313/313 [00:16<00:00, 18.77it/s, loss=0.7907]\n",
      "Epoch 17 | Training loss: 0.7907, validation accuracy: 0.7011, validation loss: 0.8623\n",
      "100%|██████████| 313/313 [00:16<00:00, 18.85it/s, loss=0.7744]\n",
      "Epoch 18 | Training loss: 0.7744, validation accuracy: 0.7209, validation loss: 0.8249\n",
      "100%|██████████| 313/313 [00:16<00:00, 18.97it/s, loss=0.7497]\n",
      "Epoch 19 | Training loss: 0.7497, validation accuracy: 0.7293, validation loss: 0.8038\n",
      "100%|██████████| 313/313 [00:16<00:00, 18.94it/s, loss=0.7336]\n",
      "Epoch 20 | Training loss: 0.7336, validation accuracy: 0.7232, validation loss: 0.8193\n",
      "100%|██████████| 313/313 [00:16<00:00, 18.92it/s, loss=0.7226]\n",
      "Epoch 21 | Training loss: 0.7226, validation accuracy: 0.6913, validation loss: 0.9320\n",
      "100%|██████████| 313/313 [00:16<00:00, 18.98it/s, loss=0.7027]\n",
      "Epoch 22 | Training loss: 0.7027, validation accuracy: 0.6920, validation loss: 0.9287\n",
      "100%|██████████| 313/313 [00:16<00:00, 18.99it/s, loss=0.6858]\n",
      "Epoch 23 | Training loss: 0.6858, validation accuracy: 0.5678, validation loss: 1.8665\n",
      "100%|██████████| 313/313 [00:16<00:00, 19.14it/s, loss=0.6781]\n",
      "Epoch 24 | Training loss: 0.6781, validation accuracy: 0.7339, validation loss: 0.8002\n",
      "100%|██████████| 313/313 [00:16<00:00, 19.16it/s, loss=0.6565]\n",
      "Epoch 25 | Training loss: 0.6565, validation accuracy: 0.7365, validation loss: 0.7837\n"
     ]
    }
   ],
   "source": [
    "epochs = 25\n",
    "\n",
    "for epoch in range(epochs):\n",
    "    train_loss = trainer.train_epoch(model, optimizer, dl[\"train\"])\n",
    "    optimizer.finish_epoch()\n",
    "    val_acc, val_loss = trainer.validation(model, dl[\"valid\"])\n",
    "    logger.log(\"Epoch\", epoch+1, \"|\", \n",
    "          f\"Training loss: {train_loss:.4f}, validation accuracy: {val_acc:.4f}, validation loss: {val_loss:.4f}\")"
   ]
  },
  {
   "cell_type": "code",
   "execution_count": 10,
   "id": "metallic-workstation",
   "metadata": {},
   "outputs": [
    {
     "name": "stdout",
     "output_type": "stream",
     "text": [
      "Train: (0.749, 0.7053908762931824)\n",
      "Valid: (0.7365, 0.783669065284729)\n"
     ]
    }
   ],
   "source": [
    "train_score = trainer.validation(model, dl[\"train\"])\n",
    "valid_score = trainer.validation(model, dl[\"valid\"])\n",
    "logger.log(\"Train:\", train_score)\n",
    "logger.log(\"Valid:\", valid_score)"
   ]
  },
  {
   "cell_type": "code",
   "execution_count": 11,
   "id": "pacific-thirty",
   "metadata": {},
   "outputs": [
    {
     "name": "stdout",
     "output_type": "stream",
     "text": [
      "RNA\n"
     ]
    }
   ],
   "source": [
    "optimizer.param_groups[0][\"method\"] = \"RNA\"\n",
    "logger.log(\"RNA\")\n",
    "model_acc = deepcopy(model)\n",
    "optimizer.accelerate()\n",
    "optimizer.store_parameters([model_acc.parameters()])"
   ]
  },
  {
   "cell_type": "code",
   "execution_count": 12,
   "id": "faced-tribe",
   "metadata": {
    "tags": []
   },
   "outputs": [
    {
     "name": "stdout",
     "output_type": "stream",
     "text": [
      "Train: (0.76385, 0.667782802772522)\n",
      "Valid: (0.7438, 0.7377233875274658)\n"
     ]
    }
   ],
   "source": [
    "model_acc.to(trainer.device)\n",
    "train_score = trainer.validation(model_acc, dl[\"train\"])\n",
    "valid_score = trainer.validation(model_acc, dl[\"valid\"])\n",
    "logger.log(\"Train:\", train_score)\n",
    "logger.log(\"Valid:\", valid_score)"
   ]
  },
  {
   "cell_type": "code",
   "execution_count": 13,
   "id": "0a99436e-e283-4601-a51b-99ced3943b0b",
   "metadata": {},
   "outputs": [
    {
     "name": "stdout",
     "output_type": "stream",
     "text": [
      "RRE\n"
     ]
    }
   ],
   "source": [
    "optimizer.param_groups[0][\"method\"] = \"RRE\"\n",
    "logger.log(\"RRE\")\n",
    "model_acc = deepcopy(model)\n",
    "optimizer.accelerate()\n",
    "optimizer.store_parameters([model_acc.parameters()])"
   ]
  },
  {
   "cell_type": "code",
   "execution_count": 14,
   "id": "f44305f0-dc05-4bea-b6be-139178f10489",
   "metadata": {
    "tags": []
   },
   "outputs": [
    {
     "name": "stdout",
     "output_type": "stream",
     "text": [
      "Train: (0.76435, 0.6702670343399048)\n",
      "Valid: (0.7438, 0.737723217010498)\n"
     ]
    }
   ],
   "source": [
    "model_acc.to(trainer.device)\n",
    "train_score = trainer.validation(model_acc, dl[\"train\"])\n",
    "valid_score = trainer.validation(model_acc, dl[\"valid\"])\n",
    "logger.log(\"Train:\", train_score)\n",
    "logger.log(\"Valid:\", valid_score)"
   ]
  },
  {
   "cell_type": "code",
   "execution_count": 15,
   "id": "regulated-globe",
   "metadata": {},
   "outputs": [],
   "source": [
    "optimizer.param_groups[0][\"lr\"] = 1e-2"
   ]
  },
  {
   "cell_type": "code",
   "execution_count": 16,
   "id": "4926f98f-aed8-43dc-9c6a-eb426240eadd",
   "metadata": {},
   "outputs": [
    {
     "name": "stdout",
     "output_type": "stream",
     "text": [
      "100%|██████████| 313/313 [00:15<00:00, 19.98it/s, loss=0.5692]\n",
      "Epoch 1 | Training loss: 0.5692, validation accuracy: 0.7871, validation loss: 0.6320\n",
      "100%|██████████| 313/313 [00:16<00:00, 19.50it/s, loss=0.5473]\n",
      "Epoch 2 | Training loss: 0.5473, validation accuracy: 0.7873, validation loss: 0.6365\n",
      "100%|██████████| 313/313 [00:16<00:00, 18.61it/s, loss=0.5356]\n",
      "Epoch 3 | Training loss: 0.5356, validation accuracy: 0.7913, validation loss: 0.6223\n",
      "100%|██████████| 313/313 [00:17<00:00, 18.29it/s, loss=0.5277]\n",
      "Epoch 4 | Training loss: 0.5277, validation accuracy: 0.7914, validation loss: 0.6272\n",
      "100%|██████████| 313/313 [00:16<00:00, 18.83it/s, loss=0.5252]\n",
      "Epoch 5 | Training loss: 0.5252, validation accuracy: 0.7896, validation loss: 0.6259\n",
      "100%|██████████| 313/313 [00:16<00:00, 18.86it/s, loss=0.5145]\n",
      "Epoch 6 | Training loss: 0.5145, validation accuracy: 0.7943, validation loss: 0.6232\n",
      "100%|██████████| 313/313 [00:16<00:00, 19.01it/s, loss=0.5090]\n",
      "Epoch 7 | Training loss: 0.5090, validation accuracy: 0.7908, validation loss: 0.6360\n",
      "100%|██████████| 313/313 [00:16<00:00, 19.03it/s, loss=0.5063]\n",
      "Epoch 8 | Training loss: 0.5063, validation accuracy: 0.7918, validation loss: 0.6304\n",
      "100%|██████████| 313/313 [00:16<00:00, 19.03it/s, loss=0.4987]\n",
      "Epoch 9 | Training loss: 0.4987, validation accuracy: 0.7867, validation loss: 0.6312\n",
      "100%|██████████| 313/313 [00:16<00:00, 19.01it/s, loss=0.4966]\n",
      "Epoch 10 | Training loss: 0.4966, validation accuracy: 0.7933, validation loss: 0.6211\n",
      "100%|██████████| 313/313 [00:16<00:00, 19.12it/s, loss=0.4938]\n",
      "Epoch 11 | Training loss: 0.4938, validation accuracy: 0.7945, validation loss: 0.6263\n",
      "100%|██████████| 313/313 [00:16<00:00, 19.18it/s, loss=0.4898]\n",
      "Epoch 12 | Training loss: 0.4898, validation accuracy: 0.7931, validation loss: 0.6249\n",
      "100%|██████████| 313/313 [00:16<00:00, 19.22it/s, loss=0.4871]\n",
      "Epoch 13 | Training loss: 0.4871, validation accuracy: 0.7924, validation loss: 0.6327\n",
      "100%|██████████| 313/313 [00:16<00:00, 19.15it/s, loss=0.4815]\n",
      "Epoch 14 | Training loss: 0.4815, validation accuracy: 0.7920, validation loss: 0.6383\n",
      "100%|██████████| 313/313 [00:16<00:00, 19.04it/s, loss=0.4797]\n",
      "Epoch 15 | Training loss: 0.4797, validation accuracy: 0.7933, validation loss: 0.6301\n",
      "100%|██████████| 313/313 [00:16<00:00, 19.17it/s, loss=0.4792]\n",
      "Epoch 16 | Training loss: 0.4792, validation accuracy: 0.7907, validation loss: 0.6344\n",
      "100%|██████████| 313/313 [00:16<00:00, 19.26it/s, loss=0.4711]\n",
      "Epoch 17 | Training loss: 0.4711, validation accuracy: 0.7915, validation loss: 0.6373\n",
      "100%|██████████| 313/313 [00:16<00:00, 18.93it/s, loss=0.4679]\n",
      "Epoch 18 | Training loss: 0.4679, validation accuracy: 0.7948, validation loss: 0.6294\n",
      "100%|██████████| 313/313 [00:16<00:00, 18.97it/s, loss=0.4640]\n",
      "Epoch 19 | Training loss: 0.4640, validation accuracy: 0.7947, validation loss: 0.6348\n",
      "100%|██████████| 313/313 [00:16<00:00, 19.08it/s, loss=0.4623]\n",
      "Epoch 20 | Training loss: 0.4623, validation accuracy: 0.7978, validation loss: 0.6370\n",
      "100%|██████████| 313/313 [00:16<00:00, 19.26it/s, loss=0.4611]\n",
      "Epoch 21 | Training loss: 0.4611, validation accuracy: 0.7869, validation loss: 0.6505\n",
      "100%|██████████| 313/313 [00:16<00:00, 19.25it/s, loss=0.4556]\n",
      "Epoch 22 | Training loss: 0.4556, validation accuracy: 0.7952, validation loss: 0.6453\n",
      "100%|██████████| 313/313 [00:16<00:00, 19.25it/s, loss=0.4515]\n",
      "Epoch 23 | Training loss: 0.4515, validation accuracy: 0.7902, validation loss: 0.6518\n",
      "100%|██████████| 313/313 [00:16<00:00, 19.27it/s, loss=0.4542]\n",
      "Epoch 24 | Training loss: 0.4542, validation accuracy: 0.7933, validation loss: 0.6399\n",
      "100%|██████████| 313/313 [00:16<00:00, 19.19it/s, loss=0.4493]\n",
      "Epoch 25 | Training loss: 0.4493, validation accuracy: 0.7902, validation loss: 0.6467\n"
     ]
    }
   ],
   "source": [
    "epochs = 25\n",
    "\n",
    "for epoch in range(epochs):\n",
    "    train_loss = trainer.train_epoch(model, optimizer, dl[\"train\"])\n",
    "    optimizer.finish_epoch()\n",
    "    val_acc, val_loss = trainer.validation(model, dl[\"valid\"])\n",
    "    logger.log(\"Epoch\", epoch+1, \"|\", \n",
    "          f\"Training loss: {train_loss:.4f}, validation accuracy: {val_acc:.4f}, validation loss: {val_loss:.4f}\")"
   ]
  },
  {
   "cell_type": "code",
   "execution_count": 17,
   "id": "ef0d1930-865b-43a8-9e38-c4d96f0af7b0",
   "metadata": {},
   "outputs": [
    {
     "name": "stdout",
     "output_type": "stream",
     "text": [
      "Train: (0.851125, 0.4204368348121643)\n",
      "Valid: (0.7902, 0.6467131391525268)\n"
     ]
    }
   ],
   "source": [
    "train_score = trainer.validation(model, dl[\"train\"])\n",
    "valid_score = trainer.validation(model, dl[\"valid\"])\n",
    "logger.log(\"Train:\", train_score)\n",
    "logger.log(\"Valid:\", valid_score)"
   ]
  },
  {
   "cell_type": "code",
   "execution_count": 18,
   "id": "bdd5482c-7e9e-43e1-8c8e-449ae33b2875",
   "metadata": {},
   "outputs": [
    {
     "name": "stdout",
     "output_type": "stream",
     "text": [
      "RNA\n"
     ]
    }
   ],
   "source": [
    "optimizer.param_groups[0][\"method\"] = \"RNA\"\n",
    "logger.log(\"RNA\")\n",
    "model_acc = deepcopy(model)\n",
    "optimizer.accelerate()\n",
    "optimizer.store_parameters([model_acc.parameters()])"
   ]
  },
  {
   "cell_type": "code",
   "execution_count": 19,
   "id": "d647e197-1782-45e4-84f1-83bc9672b9fd",
   "metadata": {
    "tags": []
   },
   "outputs": [
    {
     "name": "stdout",
     "output_type": "stream",
     "text": [
      "Train: (0.847475, 0.42944177560806274)\n",
      "Valid: (0.794, 0.6401141977310181)\n"
     ]
    }
   ],
   "source": [
    "model_acc.to(trainer.device)\n",
    "train_score = trainer.validation(model_acc, dl[\"train\"])\n",
    "valid_score = trainer.validation(model_acc, dl[\"valid\"])\n",
    "logger.log(\"Train:\", train_score)\n",
    "logger.log(\"Valid:\", valid_score)"
   ]
  },
  {
   "cell_type": "code",
   "execution_count": 20,
   "id": "896d8044-691c-42a9-91c1-006274b52c2e",
   "metadata": {},
   "outputs": [
    {
     "name": "stdout",
     "output_type": "stream",
     "text": [
      "RRE\n"
     ]
    }
   ],
   "source": [
    "optimizer.param_groups[0][\"method\"] = \"RRE\"\n",
    "logger.log(\"RRE\")\n",
    "model_acc = deepcopy(model)\n",
    "optimizer.accelerate()\n",
    "optimizer.store_parameters([model_acc.parameters()])"
   ]
  },
  {
   "cell_type": "code",
   "execution_count": 21,
   "id": "a9b512a3-5d7f-4d25-9785-681534162bae",
   "metadata": {
    "tags": []
   },
   "outputs": [
    {
     "name": "stdout",
     "output_type": "stream",
     "text": [
      "Train: (0.845625, 0.4281534000873566)\n",
      "Valid: (0.794, 0.6401142517089844)\n"
     ]
    }
   ],
   "source": [
    "model_acc.to(trainer.device)\n",
    "train_score = trainer.validation(model_acc, dl[\"train\"])\n",
    "valid_score = trainer.validation(model_acc, dl[\"valid\"])\n",
    "logger.log(\"Train:\", train_score)\n",
    "logger.log(\"Valid:\", valid_score)"
   ]
  },
  {
   "cell_type": "code",
   "execution_count": 22,
   "id": "respected-console",
   "metadata": {},
   "outputs": [],
   "source": [
    "optimizer.param_groups[0][\"lr\"] = 1e-3"
   ]
  },
  {
   "cell_type": "code",
   "execution_count": 23,
   "id": "62375dd1-2950-4c7d-94cc-97077713c51b",
   "metadata": {},
   "outputs": [
    {
     "name": "stdout",
     "output_type": "stream",
     "text": [
      "100%|██████████| 313/313 [00:15<00:00, 19.60it/s, loss=0.4405]\n",
      "Epoch 1 | Training loss: 0.4405, validation accuracy: 0.7940, validation loss: 0.6423\n",
      "100%|██████████| 313/313 [00:16<00:00, 19.49it/s, loss=0.4425]\n",
      "Epoch 2 | Training loss: 0.4425, validation accuracy: 0.7944, validation loss: 0.6417\n",
      "100%|██████████| 313/313 [00:16<00:00, 18.82it/s, loss=0.4348]\n",
      "Epoch 3 | Training loss: 0.4348, validation accuracy: 0.7948, validation loss: 0.6376\n",
      "100%|██████████| 313/313 [00:16<00:00, 18.61it/s, loss=0.4305]\n",
      "Epoch 4 | Training loss: 0.4305, validation accuracy: 0.7942, validation loss: 0.6453\n",
      "100%|██████████| 313/313 [00:16<00:00, 18.67it/s, loss=0.4302]\n",
      "Epoch 5 | Training loss: 0.4302, validation accuracy: 0.7942, validation loss: 0.6378\n",
      "100%|██████████| 313/313 [00:16<00:00, 18.99it/s, loss=0.4263]\n",
      "Epoch 6 | Training loss: 0.4263, validation accuracy: 0.7948, validation loss: 0.6390\n",
      "100%|██████████| 313/313 [00:16<00:00, 19.06it/s, loss=0.4272]\n",
      "Epoch 7 | Training loss: 0.4272, validation accuracy: 0.7952, validation loss: 0.6409\n",
      "100%|██████████| 313/313 [00:16<00:00, 19.01it/s, loss=0.4329]\n",
      "Epoch 8 | Training loss: 0.4329, validation accuracy: 0.7950, validation loss: 0.6402\n",
      "100%|██████████| 313/313 [00:16<00:00, 19.11it/s, loss=0.4274]\n",
      "Epoch 9 | Training loss: 0.4274, validation accuracy: 0.7940, validation loss: 0.6399\n",
      "100%|██████████| 313/313 [00:16<00:00, 19.03it/s, loss=0.4320]\n",
      "Epoch 10 | Training loss: 0.4320, validation accuracy: 0.7944, validation loss: 0.6395\n",
      "100%|██████████| 313/313 [00:16<00:00, 18.95it/s, loss=0.4327]\n",
      "Epoch 11 | Training loss: 0.4327, validation accuracy: 0.7924, validation loss: 0.6471\n",
      "100%|██████████| 313/313 [00:16<00:00, 19.07it/s, loss=0.4260]\n",
      "Epoch 12 | Training loss: 0.4260, validation accuracy: 0.7950, validation loss: 0.6383\n",
      "100%|██████████| 313/313 [00:16<00:00, 19.14it/s, loss=0.4270]\n",
      "Epoch 13 | Training loss: 0.4270, validation accuracy: 0.7957, validation loss: 0.6406\n",
      "100%|██████████| 313/313 [00:16<00:00, 19.05it/s, loss=0.4239]\n",
      "Epoch 14 | Training loss: 0.4239, validation accuracy: 0.7947, validation loss: 0.6381\n",
      "100%|██████████| 313/313 [00:16<00:00, 19.20it/s, loss=0.4208]\n",
      "Epoch 15 | Training loss: 0.4208, validation accuracy: 0.7954, validation loss: 0.6353\n",
      "100%|██████████| 313/313 [00:16<00:00, 19.08it/s, loss=0.4246]\n",
      "Epoch 16 | Training loss: 0.4246, validation accuracy: 0.7935, validation loss: 0.6409\n",
      "100%|██████████| 313/313 [00:16<00:00, 19.16it/s, loss=0.4207]\n",
      "Epoch 17 | Training loss: 0.4207, validation accuracy: 0.7944, validation loss: 0.6458\n",
      "100%|██████████| 313/313 [00:16<00:00, 19.10it/s, loss=0.4260]\n",
      "Epoch 18 | Training loss: 0.4260, validation accuracy: 0.7939, validation loss: 0.6445\n",
      "100%|██████████| 313/313 [00:16<00:00, 19.24it/s, loss=0.4282]\n",
      "Epoch 19 | Training loss: 0.4282, validation accuracy: 0.7928, validation loss: 0.6442\n",
      "100%|██████████| 313/313 [00:16<00:00, 19.13it/s, loss=0.4203]\n",
      "Epoch 20 | Training loss: 0.4203, validation accuracy: 0.7932, validation loss: 0.6453\n",
      "100%|██████████| 313/313 [00:16<00:00, 19.20it/s, loss=0.4225]\n",
      "Epoch 21 | Training loss: 0.4225, validation accuracy: 0.7960, validation loss: 0.6493\n",
      "100%|██████████| 313/313 [00:16<00:00, 19.08it/s, loss=0.4195]\n",
      "Epoch 22 | Training loss: 0.4195, validation accuracy: 0.7945, validation loss: 0.6459\n",
      "100%|██████████| 313/313 [00:16<00:00, 19.31it/s, loss=0.4221]\n",
      "Epoch 23 | Training loss: 0.4221, validation accuracy: 0.7957, validation loss: 0.6436\n",
      "100%|██████████| 313/313 [00:16<00:00, 19.27it/s, loss=0.4185]\n",
      "Epoch 24 | Training loss: 0.4185, validation accuracy: 0.7939, validation loss: 0.6437\n",
      "100%|██████████| 313/313 [00:16<00:00, 19.18it/s, loss=0.4228]\n",
      "Epoch 25 | Training loss: 0.4228, validation accuracy: 0.7946, validation loss: 0.6484\n"
     ]
    }
   ],
   "source": [
    "epochs = 25\n",
    "\n",
    "for epoch in range(epochs):\n",
    "    train_loss = trainer.train_epoch(model, optimizer, dl[\"train\"])\n",
    "    optimizer.finish_epoch()\n",
    "    val_acc, val_loss = trainer.validation(model, dl[\"valid\"])\n",
    "    logger.log(\"Epoch\", epoch+1, \"|\", \n",
    "          f\"Training loss: {train_loss:.4f}, validation accuracy: {val_acc:.4f}, validation loss: {val_loss:.4f}\")"
   ]
  },
  {
   "cell_type": "code",
   "execution_count": 24,
   "id": "27806692-f100-465a-bfe8-a4be64e36d88",
   "metadata": {},
   "outputs": [
    {
     "name": "stdout",
     "output_type": "stream",
     "text": [
      "Train: (0.85995, 0.3970328094959259)\n",
      "Valid: (0.7946, 0.648416905784607)\n"
     ]
    }
   ],
   "source": [
    "train_score = trainer.validation(model, dl[\"train\"])\n",
    "valid_score = trainer.validation(model, dl[\"valid\"])\n",
    "logger.log(\"Train:\", train_score)\n",
    "logger.log(\"Valid:\", valid_score)"
   ]
  },
  {
   "cell_type": "code",
   "execution_count": 25,
   "id": "0830e6e8-7291-495f-9a82-9a02f53004fd",
   "metadata": {},
   "outputs": [
    {
     "name": "stdout",
     "output_type": "stream",
     "text": [
      "RNA\n"
     ]
    }
   ],
   "source": [
    "optimizer.param_groups[0][\"method\"] = \"RNA\"\n",
    "logger.log(\"RNA\")\n",
    "model_acc = deepcopy(model)\n",
    "optimizer.accelerate()\n",
    "optimizer.store_parameters([model_acc.parameters()])"
   ]
  },
  {
   "cell_type": "code",
   "execution_count": 26,
   "id": "f06d768e-5785-4c03-93da-89d45a2c8f6e",
   "metadata": {
    "tags": []
   },
   "outputs": [
    {
     "name": "stdout",
     "output_type": "stream",
     "text": [
      "Train: (0.858975, 0.3964641182422638)\n",
      "Valid: (0.7931, 0.6520758222579957)\n"
     ]
    }
   ],
   "source": [
    "model_acc.to(trainer.device)\n",
    "train_score = trainer.validation(model_acc, dl[\"train\"])\n",
    "valid_score = trainer.validation(model_acc, dl[\"valid\"])\n",
    "logger.log(\"Train:\", train_score)\n",
    "logger.log(\"Valid:\", valid_score)"
   ]
  },
  {
   "cell_type": "code",
   "execution_count": 27,
   "id": "6e2fa71e-2253-470f-9e8f-34904aefe3af",
   "metadata": {},
   "outputs": [
    {
     "name": "stdout",
     "output_type": "stream",
     "text": [
      "RRE\n"
     ]
    }
   ],
   "source": [
    "optimizer.param_groups[0][\"method\"] = \"RRE\"\n",
    "logger.log(\"RRE\")\n",
    "model_acc = deepcopy(model)\n",
    "optimizer.accelerate()\n",
    "optimizer.store_parameters([model_acc.parameters()])"
   ]
  },
  {
   "cell_type": "code",
   "execution_count": 28,
   "id": "03bfdb39-45d6-4d77-9f6a-6885227b9c08",
   "metadata": {
    "tags": []
   },
   "outputs": [
    {
     "name": "stdout",
     "output_type": "stream",
     "text": [
      "Train: (0.8588, 0.4000325141429901)\n",
      "Valid: (0.7931, 0.6520759426116943)\n"
     ]
    }
   ],
   "source": [
    "model_acc.to(trainer.device)\n",
    "train_score = trainer.validation(model_acc, dl[\"train\"])\n",
    "valid_score = trainer.validation(model_acc, dl[\"valid\"])\n",
    "logger.log(\"Train:\", train_score)\n",
    "logger.log(\"Valid:\", valid_score)"
   ]
  },
  {
   "cell_type": "markdown",
   "id": "careful-basin",
   "metadata": {},
   "source": [
    "## Momentum"
   ]
  },
  {
   "cell_type": "markdown",
   "id": "1ccc0e74-bad9-4b55-8b0c-70a4e2da61fd",
   "metadata": {},
   "source": [
    "### Lambda = 1e-16"
   ]
  },
  {
   "cell_type": "code",
   "execution_count": 11,
   "id": "29b2e4df-ee09-4a71-9f25-21884d67bba8",
   "metadata": {
    "tags": []
   },
   "outputs": [
    {
     "data": {
      "text/plain": [
       "ResNet(\n",
       "  (conv1): Conv2d(3, 64, kernel_size=(7, 7), stride=(2, 2), padding=(3, 3), bias=False)\n",
       "  (bn1): BatchNorm2d(64, eps=1e-05, momentum=0.1, affine=True, track_running_stats=True)\n",
       "  (relu): ReLU(inplace=True)\n",
       "  (maxpool): MaxPool2d(kernel_size=3, stride=2, padding=1, dilation=1, ceil_mode=False)\n",
       "  (layer1): Sequential(\n",
       "    (0): BasicBlock(\n",
       "      (conv1): Conv2d(64, 64, kernel_size=(3, 3), stride=(1, 1), padding=(1, 1), bias=False)\n",
       "      (bn1): BatchNorm2d(64, eps=1e-05, momentum=0.1, affine=True, track_running_stats=True)\n",
       "      (relu): ReLU(inplace=True)\n",
       "      (conv2): Conv2d(64, 64, kernel_size=(3, 3), stride=(1, 1), padding=(1, 1), bias=False)\n",
       "      (bn2): BatchNorm2d(64, eps=1e-05, momentum=0.1, affine=True, track_running_stats=True)\n",
       "    )\n",
       "    (1): BasicBlock(\n",
       "      (conv1): Conv2d(64, 64, kernel_size=(3, 3), stride=(1, 1), padding=(1, 1), bias=False)\n",
       "      (bn1): BatchNorm2d(64, eps=1e-05, momentum=0.1, affine=True, track_running_stats=True)\n",
       "      (relu): ReLU(inplace=True)\n",
       "      (conv2): Conv2d(64, 64, kernel_size=(3, 3), stride=(1, 1), padding=(1, 1), bias=False)\n",
       "      (bn2): BatchNorm2d(64, eps=1e-05, momentum=0.1, affine=True, track_running_stats=True)\n",
       "    )\n",
       "  )\n",
       "  (layer2): Sequential(\n",
       "    (0): BasicBlock(\n",
       "      (conv1): Conv2d(64, 128, kernel_size=(3, 3), stride=(2, 2), padding=(1, 1), bias=False)\n",
       "      (bn1): BatchNorm2d(128, eps=1e-05, momentum=0.1, affine=True, track_running_stats=True)\n",
       "      (relu): ReLU(inplace=True)\n",
       "      (conv2): Conv2d(128, 128, kernel_size=(3, 3), stride=(1, 1), padding=(1, 1), bias=False)\n",
       "      (bn2): BatchNorm2d(128, eps=1e-05, momentum=0.1, affine=True, track_running_stats=True)\n",
       "      (downsample): Sequential(\n",
       "        (0): Conv2d(64, 128, kernel_size=(1, 1), stride=(2, 2), bias=False)\n",
       "        (1): BatchNorm2d(128, eps=1e-05, momentum=0.1, affine=True, track_running_stats=True)\n",
       "      )\n",
       "    )\n",
       "    (1): BasicBlock(\n",
       "      (conv1): Conv2d(128, 128, kernel_size=(3, 3), stride=(1, 1), padding=(1, 1), bias=False)\n",
       "      (bn1): BatchNorm2d(128, eps=1e-05, momentum=0.1, affine=True, track_running_stats=True)\n",
       "      (relu): ReLU(inplace=True)\n",
       "      (conv2): Conv2d(128, 128, kernel_size=(3, 3), stride=(1, 1), padding=(1, 1), bias=False)\n",
       "      (bn2): BatchNorm2d(128, eps=1e-05, momentum=0.1, affine=True, track_running_stats=True)\n",
       "    )\n",
       "  )\n",
       "  (layer3): Sequential(\n",
       "    (0): BasicBlock(\n",
       "      (conv1): Conv2d(128, 256, kernel_size=(3, 3), stride=(2, 2), padding=(1, 1), bias=False)\n",
       "      (bn1): BatchNorm2d(256, eps=1e-05, momentum=0.1, affine=True, track_running_stats=True)\n",
       "      (relu): ReLU(inplace=True)\n",
       "      (conv2): Conv2d(256, 256, kernel_size=(3, 3), stride=(1, 1), padding=(1, 1), bias=False)\n",
       "      (bn2): BatchNorm2d(256, eps=1e-05, momentum=0.1, affine=True, track_running_stats=True)\n",
       "      (downsample): Sequential(\n",
       "        (0): Conv2d(128, 256, kernel_size=(1, 1), stride=(2, 2), bias=False)\n",
       "        (1): BatchNorm2d(256, eps=1e-05, momentum=0.1, affine=True, track_running_stats=True)\n",
       "      )\n",
       "    )\n",
       "    (1): BasicBlock(\n",
       "      (conv1): Conv2d(256, 256, kernel_size=(3, 3), stride=(1, 1), padding=(1, 1), bias=False)\n",
       "      (bn1): BatchNorm2d(256, eps=1e-05, momentum=0.1, affine=True, track_running_stats=True)\n",
       "      (relu): ReLU(inplace=True)\n",
       "      (conv2): Conv2d(256, 256, kernel_size=(3, 3), stride=(1, 1), padding=(1, 1), bias=False)\n",
       "      (bn2): BatchNorm2d(256, eps=1e-05, momentum=0.1, affine=True, track_running_stats=True)\n",
       "    )\n",
       "  )\n",
       "  (layer4): Sequential(\n",
       "    (0): BasicBlock(\n",
       "      (conv1): Conv2d(256, 512, kernel_size=(3, 3), stride=(2, 2), padding=(1, 1), bias=False)\n",
       "      (bn1): BatchNorm2d(512, eps=1e-05, momentum=0.1, affine=True, track_running_stats=True)\n",
       "      (relu): ReLU(inplace=True)\n",
       "      (conv2): Conv2d(512, 512, kernel_size=(3, 3), stride=(1, 1), padding=(1, 1), bias=False)\n",
       "      (bn2): BatchNorm2d(512, eps=1e-05, momentum=0.1, affine=True, track_running_stats=True)\n",
       "      (downsample): Sequential(\n",
       "        (0): Conv2d(256, 512, kernel_size=(1, 1), stride=(2, 2), bias=False)\n",
       "        (1): BatchNorm2d(512, eps=1e-05, momentum=0.1, affine=True, track_running_stats=True)\n",
       "      )\n",
       "    )\n",
       "    (1): BasicBlock(\n",
       "      (conv1): Conv2d(512, 512, kernel_size=(3, 3), stride=(1, 1), padding=(1, 1), bias=False)\n",
       "      (bn1): BatchNorm2d(512, eps=1e-05, momentum=0.1, affine=True, track_running_stats=True)\n",
       "      (relu): ReLU(inplace=True)\n",
       "      (conv2): Conv2d(512, 512, kernel_size=(3, 3), stride=(1, 1), padding=(1, 1), bias=False)\n",
       "      (bn2): BatchNorm2d(512, eps=1e-05, momentum=0.1, affine=True, track_running_stats=True)\n",
       "    )\n",
       "  )\n",
       "  (avgpool): AdaptiveAvgPool2d(output_size=(1, 1))\n",
       "  (fc): Sequential(\n",
       "    (0): Linear(in_features=512, out_features=10, bias=True)\n",
       "    (1): LogSoftmax(dim=-1)\n",
       "  )\n",
       ")"
      ]
     },
     "execution_count": 11,
     "metadata": {},
     "output_type": "execute_result"
    }
   ],
   "source": [
    "model = models.resnet18(pretrained=False)\n",
    "model.fc = nn.Sequential(\n",
    "    nn.Linear(512, 10),\n",
    "    nn.LogSoftmax(-1)\n",
    ")\n",
    "model.to(trainer.device)"
   ]
  },
  {
   "cell_type": "code",
   "execution_count": 12,
   "id": "f6bc86a6-3979-470c-a7c8-5b7faaf31066",
   "metadata": {},
   "outputs": [
    {
     "data": {
      "text/plain": [
       "(0.1017, 2.340233335876465)"
      ]
     },
     "execution_count": 12,
     "metadata": {},
     "output_type": "execute_result"
    }
   ],
   "source": [
    "trainer.validation(model, dl[\"valid\"])"
   ]
  },
  {
   "cell_type": "code",
   "execution_count": 13,
   "id": "969261ce-19cc-41e5-893b-adff4cbe0509",
   "metadata": {},
   "outputs": [],
   "source": [
    "optimizer = AcceleratedSGD(model.parameters(), 1e-1, k=10, momentum=0.9, weight_decay=1e-5, lambda_=1e-16)\n",
    "logger = Logger(\"resnet_log_augmentation-lambda=1e-16.txt.no_resizing\")"
   ]
  },
  {
   "cell_type": "code",
   "execution_count": 14,
   "id": "b2cf5642-94af-4fc9-9d45-d1e508df3415",
   "metadata": {},
   "outputs": [
    {
     "name": "stdout",
     "output_type": "stream",
     "text": [
      "100%|██████████| 313/313 [00:16<00:00, 19.47it/s, loss=2.3607]\n",
      "Epoch 1 | Training loss: 2.3607, validation accuracy: 0.3195, validation loss: 2.1705\n",
      "100%|██████████| 313/313 [00:16<00:00, 19.56it/s, loss=1.7182]\n",
      "Epoch 2 | Training loss: 1.7182, validation accuracy: 0.4297, validation loss: 1.6448\n",
      "100%|██████████| 313/313 [00:17<00:00, 18.09it/s, loss=1.5549]\n",
      "Epoch 3 | Training loss: 1.5549, validation accuracy: 0.4716, validation loss: 1.4730\n",
      "100%|██████████| 313/313 [00:17<00:00, 17.93it/s, loss=1.4547]\n",
      "Epoch 4 | Training loss: 1.4547, validation accuracy: 0.5128, validation loss: 1.3396\n",
      "100%|██████████| 313/313 [00:17<00:00, 17.95it/s, loss=1.3554]\n",
      "Epoch 5 | Training loss: 1.3554, validation accuracy: 0.5280, validation loss: 1.3136\n",
      "100%|██████████| 313/313 [00:17<00:00, 18.14it/s, loss=1.2867]\n",
      "Epoch 6 | Training loss: 1.2867, validation accuracy: 0.5811, validation loss: 1.1799\n",
      "100%|██████████| 313/313 [00:17<00:00, 18.01it/s, loss=1.2153]\n",
      "Epoch 7 | Training loss: 1.2153, validation accuracy: 0.5833, validation loss: 1.1991\n",
      "100%|██████████| 313/313 [00:17<00:00, 18.03it/s, loss=1.1494]\n",
      "Epoch 8 | Training loss: 1.1494, validation accuracy: 0.6281, validation loss: 1.0581\n",
      "100%|██████████| 313/313 [00:17<00:00, 17.91it/s, loss=1.1057]\n",
      "Epoch 9 | Training loss: 1.1057, validation accuracy: 0.6269, validation loss: 1.0684\n",
      "100%|██████████| 313/313 [00:17<00:00, 18.04it/s, loss=1.0514]\n",
      "Epoch 10 | Training loss: 1.0514, validation accuracy: 0.6401, validation loss: 1.0164\n",
      "100%|██████████| 313/313 [00:17<00:00, 18.14it/s, loss=1.0059]\n",
      "Epoch 11 | Training loss: 1.0059, validation accuracy: 0.6399, validation loss: 1.0341\n",
      "100%|██████████| 313/313 [00:17<00:00, 17.99it/s, loss=0.9735]\n",
      "Epoch 12 | Training loss: 0.9735, validation accuracy: 0.6824, validation loss: 0.9139\n",
      "100%|██████████| 313/313 [00:17<00:00, 18.03it/s, loss=0.9366]\n",
      "Epoch 13 | Training loss: 0.9366, validation accuracy: 0.7017, validation loss: 0.8816\n",
      "100%|██████████| 313/313 [00:17<00:00, 18.06it/s, loss=0.9166]\n",
      "Epoch 14 | Training loss: 0.9166, validation accuracy: 0.7101, validation loss: 0.8367\n",
      "100%|██████████| 313/313 [00:17<00:00, 17.95it/s, loss=0.8804]\n",
      "Epoch 15 | Training loss: 0.8804, validation accuracy: 0.7040, validation loss: 0.8843\n",
      "100%|██████████| 313/313 [00:17<00:00, 18.11it/s, loss=0.8519]\n",
      "Epoch 16 | Training loss: 0.8519, validation accuracy: 0.7351, validation loss: 0.7648\n",
      "100%|██████████| 313/313 [00:17<00:00, 17.98it/s, loss=0.8281]\n",
      "Epoch 17 | Training loss: 0.8281, validation accuracy: 0.7166, validation loss: 0.8231\n",
      "100%|██████████| 313/313 [00:17<00:00, 18.06it/s, loss=0.7929]\n",
      "Epoch 18 | Training loss: 0.7929, validation accuracy: 0.7439, validation loss: 0.7563\n",
      "100%|██████████| 313/313 [00:17<00:00, 18.14it/s, loss=0.7918]\n",
      "Epoch 19 | Training loss: 0.7918, validation accuracy: 0.7287, validation loss: 0.7825\n",
      "100%|██████████| 313/313 [00:17<00:00, 18.10it/s, loss=0.7670]\n",
      "Epoch 20 | Training loss: 0.7670, validation accuracy: 0.7292, validation loss: 0.8281\n",
      "100%|██████████| 313/313 [00:17<00:00, 18.15it/s, loss=0.7459]\n",
      "Epoch 21 | Training loss: 0.7459, validation accuracy: 0.7549, validation loss: 0.7305\n",
      "100%|██████████| 313/313 [00:17<00:00, 17.79it/s, loss=0.7264]\n",
      "Epoch 22 | Training loss: 0.7264, validation accuracy: 0.7595, validation loss: 0.7019\n",
      "100%|██████████| 313/313 [00:17<00:00, 17.88it/s, loss=0.7079]\n",
      "Epoch 23 | Training loss: 0.7079, validation accuracy: 0.7509, validation loss: 0.7332\n",
      "100%|██████████| 313/313 [00:17<00:00, 18.00it/s, loss=0.6923]\n",
      "Epoch 24 | Training loss: 0.6923, validation accuracy: 0.7516, validation loss: 0.7450\n",
      "100%|██████████| 313/313 [00:17<00:00, 17.97it/s, loss=0.6859]\n",
      "Epoch 25 | Training loss: 0.6859, validation accuracy: 0.7644, validation loss: 0.6907\n"
     ]
    }
   ],
   "source": [
    "epochs = 25\n",
    "\n",
    "for epoch in range(epochs):\n",
    "    train_loss = trainer.train_epoch(model, optimizer, dl[\"train\"])\n",
    "    optimizer.finish_epoch()\n",
    "    val_acc, val_loss = trainer.validation(model, dl[\"valid\"])\n",
    "    logger.log(\"Epoch\", epoch+1, \"|\", \n",
    "          f\"Training loss: {train_loss:.4f}, validation accuracy: {val_acc:.4f}, validation loss: {val_loss:.4f}\")"
   ]
  },
  {
   "cell_type": "code",
   "execution_count": 15,
   "id": "ec3e9f21-590a-4271-8095-c77066e2a18a",
   "metadata": {},
   "outputs": [
    {
     "name": "stdout",
     "output_type": "stream",
     "text": [
      "Train: (0.776725, 0.6370520796775818)\n",
      "Valid: (0.7644, 0.6906800968170166)\n"
     ]
    }
   ],
   "source": [
    "train_score = trainer.validation(model, dl[\"train\"])\n",
    "valid_score = trainer.validation(model, dl[\"valid\"])\n",
    "logger.log(\"Train:\", train_score)\n",
    "logger.log(\"Valid:\", valid_score)"
   ]
  },
  {
   "cell_type": "code",
   "execution_count": 16,
   "id": "ac92b41e-a7d1-4192-964e-af97742b9bad",
   "metadata": {},
   "outputs": [
    {
     "name": "stdout",
     "output_type": "stream",
     "text": [
      "RNA\n"
     ]
    }
   ],
   "source": [
    "optimizer.param_groups[0][\"method\"] = \"RNA\"\n",
    "logger.log(\"RNA\")\n",
    "model_acc = deepcopy(model)\n",
    "optimizer.accelerate()\n",
    "optimizer.store_parameters([model_acc.parameters()])"
   ]
  },
  {
   "cell_type": "code",
   "execution_count": 17,
   "id": "2e40a7c3-ee19-4fc7-9389-c4743930625d",
   "metadata": {
    "tags": []
   },
   "outputs": [
    {
     "name": "stdout",
     "output_type": "stream",
     "text": [
      "Train: (0.73805, 0.742580450630188)\n",
      "Valid: (0.733, 0.773661747932434)\n"
     ]
    }
   ],
   "source": [
    "model_acc.to(trainer.device)\n",
    "train_score = trainer.validation(model_acc, dl[\"train\"])\n",
    "valid_score = trainer.validation(model_acc, dl[\"valid\"])\n",
    "logger.log(\"Train:\", train_score)\n",
    "logger.log(\"Valid:\", valid_score)"
   ]
  },
  {
   "cell_type": "code",
   "execution_count": 18,
   "id": "b46794ac-da52-492c-8319-4e40bccd6d1e",
   "metadata": {},
   "outputs": [
    {
     "name": "stdout",
     "output_type": "stream",
     "text": [
      "RRE\n"
     ]
    }
   ],
   "source": [
    "optimizer.param_groups[0][\"method\"] = \"RRE\"\n",
    "logger.log(\"RRE\")\n",
    "model_acc = deepcopy(model)\n",
    "optimizer.accelerate()\n",
    "optimizer.store_parameters([model_acc.parameters()])"
   ]
  },
  {
   "cell_type": "code",
   "execution_count": 19,
   "id": "2951b59f-e8fb-43b3-958e-038bf0e7f3ab",
   "metadata": {
    "tags": []
   },
   "outputs": [
    {
     "name": "stdout",
     "output_type": "stream",
     "text": [
      "Train: (0.7324, 0.7466310064315795)\n",
      "Valid: (0.733, 0.7736619314193726)\n"
     ]
    }
   ],
   "source": [
    "model_acc.to(trainer.device)\n",
    "train_score = trainer.validation(model_acc, dl[\"train\"])\n",
    "valid_score = trainer.validation(model_acc, dl[\"valid\"])\n",
    "logger.log(\"Train:\", train_score)\n",
    "logger.log(\"Valid:\", valid_score)"
   ]
  },
  {
   "cell_type": "code",
   "execution_count": 20,
   "id": "4119ddb6-ebeb-404b-b439-4061bcda8687",
   "metadata": {},
   "outputs": [],
   "source": [
    "optimizer.param_groups[0][\"lr\"] = 1e-2"
   ]
  },
  {
   "cell_type": "code",
   "execution_count": 21,
   "id": "d24467ee-27c6-42cb-ad10-d78711242ef9",
   "metadata": {},
   "outputs": [
    {
     "name": "stdout",
     "output_type": "stream",
     "text": [
      "100%|██████████| 313/313 [00:16<00:00, 18.63it/s, loss=0.5788]\n",
      "Epoch 1 | Training loss: 0.5788, validation accuracy: 0.7860, validation loss: 0.6313\n",
      "100%|██████████| 313/313 [00:17<00:00, 17.84it/s, loss=0.5424]\n",
      "Epoch 2 | Training loss: 0.5424, validation accuracy: 0.7891, validation loss: 0.6211\n",
      "100%|██████████| 313/313 [00:17<00:00, 17.79it/s, loss=0.5308]\n",
      "Epoch 3 | Training loss: 0.5308, validation accuracy: 0.7925, validation loss: 0.6231\n",
      "100%|██████████| 313/313 [00:17<00:00, 17.80it/s, loss=0.5224]\n",
      "Epoch 4 | Training loss: 0.5224, validation accuracy: 0.7920, validation loss: 0.6219\n",
      "100%|██████████| 313/313 [00:17<00:00, 17.85it/s, loss=0.5170]\n",
      "Epoch 5 | Training loss: 0.5170, validation accuracy: 0.7955, validation loss: 0.6164\n",
      "100%|██████████| 313/313 [00:17<00:00, 18.08it/s, loss=0.5077]\n",
      "Epoch 6 | Training loss: 0.5077, validation accuracy: 0.7949, validation loss: 0.6133\n",
      "100%|██████████| 313/313 [00:17<00:00, 17.84it/s, loss=0.5046]\n",
      "Epoch 7 | Training loss: 0.5046, validation accuracy: 0.7948, validation loss: 0.6216\n",
      "100%|██████████| 313/313 [00:17<00:00, 17.83it/s, loss=0.4969]\n",
      "Epoch 8 | Training loss: 0.4969, validation accuracy: 0.7944, validation loss: 0.6183\n",
      "100%|██████████| 313/313 [00:17<00:00, 17.75it/s, loss=0.4879]\n",
      "Epoch 9 | Training loss: 0.4879, validation accuracy: 0.7989, validation loss: 0.6209\n",
      "100%|██████████| 313/313 [00:17<00:00, 17.79it/s, loss=0.4846]\n",
      "Epoch 10 | Training loss: 0.4846, validation accuracy: 0.7994, validation loss: 0.6100\n",
      "100%|██████████| 313/313 [00:17<00:00, 17.88it/s, loss=0.4805]\n",
      "Epoch 11 | Training loss: 0.4805, validation accuracy: 0.7992, validation loss: 0.6124\n",
      "100%|██████████| 313/313 [00:17<00:00, 17.78it/s, loss=0.4756]\n",
      "Epoch 12 | Training loss: 0.4756, validation accuracy: 0.7991, validation loss: 0.6064\n",
      "100%|██████████| 313/313 [00:17<00:00, 17.99it/s, loss=0.4696]\n",
      "Epoch 13 | Training loss: 0.4696, validation accuracy: 0.7942, validation loss: 0.6235\n",
      "100%|██████████| 313/313 [00:17<00:00, 17.86it/s, loss=0.4679]\n",
      "Epoch 14 | Training loss: 0.4679, validation accuracy: 0.7986, validation loss: 0.6191\n",
      "100%|██████████| 313/313 [00:17<00:00, 17.84it/s, loss=0.4619]\n",
      "Epoch 15 | Training loss: 0.4619, validation accuracy: 0.8007, validation loss: 0.6151\n",
      "100%|██████████| 313/313 [00:17<00:00, 17.92it/s, loss=0.4574]\n",
      "Epoch 16 | Training loss: 0.4574, validation accuracy: 0.8017, validation loss: 0.6135\n",
      "100%|██████████| 313/313 [00:17<00:00, 17.86it/s, loss=0.4574]\n",
      "Epoch 17 | Training loss: 0.4574, validation accuracy: 0.7956, validation loss: 0.6167\n",
      "100%|██████████| 313/313 [00:17<00:00, 17.88it/s, loss=0.4507]\n",
      "Epoch 18 | Training loss: 0.4507, validation accuracy: 0.7948, validation loss: 0.6340\n",
      "100%|██████████| 313/313 [00:17<00:00, 17.79it/s, loss=0.4503]\n",
      "Epoch 19 | Training loss: 0.4503, validation accuracy: 0.8004, validation loss: 0.6235\n",
      "100%|██████████| 313/313 [00:17<00:00, 17.89it/s, loss=0.4440]\n",
      "Epoch 20 | Training loss: 0.4440, validation accuracy: 0.7981, validation loss: 0.6257\n",
      "100%|██████████| 313/313 [00:17<00:00, 17.78it/s, loss=0.4396]\n",
      "Epoch 21 | Training loss: 0.4396, validation accuracy: 0.7978, validation loss: 0.6280\n",
      "100%|██████████| 313/313 [00:17<00:00, 17.92it/s, loss=0.4378]\n",
      "Epoch 22 | Training loss: 0.4378, validation accuracy: 0.7988, validation loss: 0.6290\n",
      "100%|██████████| 313/313 [00:17<00:00, 17.90it/s, loss=0.4284]\n",
      "Epoch 23 | Training loss: 0.4284, validation accuracy: 0.7993, validation loss: 0.6276\n",
      "100%|██████████| 313/313 [00:17<00:00, 17.82it/s, loss=0.4268]\n",
      "Epoch 24 | Training loss: 0.4268, validation accuracy: 0.7962, validation loss: 0.6280\n",
      "100%|██████████| 313/313 [00:17<00:00, 17.85it/s, loss=0.4220]\n",
      "Epoch 25 | Training loss: 0.4220, validation accuracy: 0.8001, validation loss: 0.6248\n"
     ]
    }
   ],
   "source": [
    "epochs = 25\n",
    "\n",
    "for epoch in range(epochs):\n",
    "    train_loss = trainer.train_epoch(model, optimizer, dl[\"train\"])\n",
    "    optimizer.finish_epoch()\n",
    "    val_acc, val_loss = trainer.validation(model, dl[\"valid\"])\n",
    "    logger.log(\"Epoch\", epoch+1, \"|\", \n",
    "          f\"Training loss: {train_loss:.4f}, validation accuracy: {val_acc:.4f}, validation loss: {val_loss:.4f}\")"
   ]
  },
  {
   "cell_type": "code",
   "execution_count": 22,
   "id": "d81d17df-d9bf-4dbe-aec4-1dea832e2aae",
   "metadata": {},
   "outputs": [
    {
     "name": "stdout",
     "output_type": "stream",
     "text": [
      "Train: (0.859475, 0.3942956305027008)\n",
      "Valid: (0.8001, 0.6247870438575744)\n"
     ]
    }
   ],
   "source": [
    "train_score = trainer.validation(model, dl[\"train\"])\n",
    "valid_score = trainer.validation(model, dl[\"valid\"])\n",
    "logger.log(\"Train:\", train_score)\n",
    "logger.log(\"Valid:\", valid_score)"
   ]
  },
  {
   "cell_type": "code",
   "execution_count": 23,
   "id": "6dca9a02-c737-4175-b490-4f680dac0a44",
   "metadata": {},
   "outputs": [
    {
     "name": "stdout",
     "output_type": "stream",
     "text": [
      "RNA\n"
     ]
    }
   ],
   "source": [
    "optimizer.param_groups[0][\"method\"] = \"RNA\"\n",
    "logger.log(\"RNA\")\n",
    "model_acc = deepcopy(model)\n",
    "optimizer.accelerate()\n",
    "optimizer.store_parameters([model_acc.parameters()])"
   ]
  },
  {
   "cell_type": "code",
   "execution_count": 24,
   "id": "23f4fe44-ebe3-44b2-814c-1f66ad0805ca",
   "metadata": {
    "tags": []
   },
   "outputs": [
    {
     "name": "stdout",
     "output_type": "stream",
     "text": [
      "Train: (0.8527, 0.41214668016433714)\n",
      "Valid: (0.792, 0.6594156237602233)\n"
     ]
    }
   ],
   "source": [
    "model_acc.to(trainer.device)\n",
    "train_score = trainer.validation(model_acc, dl[\"train\"])\n",
    "valid_score = trainer.validation(model_acc, dl[\"valid\"])\n",
    "logger.log(\"Train:\", train_score)\n",
    "logger.log(\"Valid:\", valid_score)"
   ]
  },
  {
   "cell_type": "code",
   "execution_count": 25,
   "id": "ca37682a-06ff-4b1d-9186-f3f26073a54f",
   "metadata": {},
   "outputs": [
    {
     "name": "stdout",
     "output_type": "stream",
     "text": [
      "RRE\n"
     ]
    }
   ],
   "source": [
    "optimizer.param_groups[0][\"method\"] = \"RRE\"\n",
    "logger.log(\"RRE\")\n",
    "model_acc = deepcopy(model)\n",
    "optimizer.accelerate()\n",
    "optimizer.store_parameters([model_acc.parameters()])"
   ]
  },
  {
   "cell_type": "code",
   "execution_count": 26,
   "id": "5d6516d7-bdea-4307-afe6-7ad865aac7df",
   "metadata": {
    "tags": []
   },
   "outputs": [
    {
     "name": "stdout",
     "output_type": "stream",
     "text": [
      "Train: (0.85335, 0.4100594160556793)\n",
      "Valid: (0.792, 0.6594154459953309)\n"
     ]
    }
   ],
   "source": [
    "model_acc.to(trainer.device)\n",
    "train_score = trainer.validation(model_acc, dl[\"train\"])\n",
    "valid_score = trainer.validation(model_acc, dl[\"valid\"])\n",
    "logger.log(\"Train:\", train_score)\n",
    "logger.log(\"Valid:\", valid_score)"
   ]
  },
  {
   "cell_type": "code",
   "execution_count": 27,
   "id": "884e5d41-f2ae-4dce-a62b-ddc290beffc6",
   "metadata": {},
   "outputs": [],
   "source": [
    "optimizer.param_groups[0][\"lr\"] = 1e-3"
   ]
  },
  {
   "cell_type": "code",
   "execution_count": 28,
   "id": "f6b9a6b2-ab89-4d39-8e45-322d81e789b6",
   "metadata": {},
   "outputs": [
    {
     "name": "stdout",
     "output_type": "stream",
     "text": [
      "100%|██████████| 313/313 [00:16<00:00, 18.58it/s, loss=0.4129]\n",
      "Epoch 1 | Training loss: 0.4129, validation accuracy: 0.8031, validation loss: 0.6178\n",
      "100%|██████████| 313/313 [00:17<00:00, 17.76it/s, loss=0.4033]\n",
      "Epoch 2 | Training loss: 0.4033, validation accuracy: 0.8033, validation loss: 0.6205\n",
      "100%|██████████| 313/313 [00:17<00:00, 18.01it/s, loss=0.4028]\n",
      "Epoch 3 | Training loss: 0.4028, validation accuracy: 0.8061, validation loss: 0.6192\n",
      "100%|██████████| 313/313 [00:17<00:00, 17.97it/s, loss=0.4028]\n",
      "Epoch 4 | Training loss: 0.4028, validation accuracy: 0.8044, validation loss: 0.6194\n",
      "100%|██████████| 313/313 [00:17<00:00, 17.90it/s, loss=0.4016]\n",
      "Epoch 5 | Training loss: 0.4016, validation accuracy: 0.8022, validation loss: 0.6227\n",
      "100%|██████████| 313/313 [00:17<00:00, 17.81it/s, loss=0.4004]\n",
      "Epoch 6 | Training loss: 0.4004, validation accuracy: 0.8015, validation loss: 0.6289\n",
      "100%|██████████| 313/313 [00:17<00:00, 17.78it/s, loss=0.3984]\n",
      "Epoch 7 | Training loss: 0.3984, validation accuracy: 0.8025, validation loss: 0.6307\n",
      "100%|██████████| 313/313 [00:17<00:00, 17.94it/s, loss=0.3949]\n",
      "Epoch 8 | Training loss: 0.3949, validation accuracy: 0.8047, validation loss: 0.6221\n",
      "100%|██████████| 313/313 [00:17<00:00, 17.87it/s, loss=0.3940]\n",
      "Epoch 9 | Training loss: 0.3940, validation accuracy: 0.8037, validation loss: 0.6240\n",
      "100%|██████████| 313/313 [00:17<00:00, 18.11it/s, loss=0.3950]\n",
      "Epoch 10 | Training loss: 0.3950, validation accuracy: 0.8032, validation loss: 0.6264\n",
      "100%|██████████| 313/313 [00:17<00:00, 17.94it/s, loss=0.3967]\n",
      "Epoch 11 | Training loss: 0.3967, validation accuracy: 0.8032, validation loss: 0.6354\n",
      "100%|██████████| 313/313 [00:17<00:00, 17.95it/s, loss=0.3920]\n",
      "Epoch 12 | Training loss: 0.3920, validation accuracy: 0.8025, validation loss: 0.6229\n",
      "100%|██████████| 313/313 [00:17<00:00, 17.80it/s, loss=0.3908]\n",
      "Epoch 13 | Training loss: 0.3908, validation accuracy: 0.8027, validation loss: 0.6307\n",
      "100%|██████████| 313/313 [00:17<00:00, 17.87it/s, loss=0.3938]\n",
      "Epoch 14 | Training loss: 0.3938, validation accuracy: 0.8023, validation loss: 0.6235\n",
      "100%|██████████| 313/313 [00:17<00:00, 17.95it/s, loss=0.3923]\n",
      "Epoch 15 | Training loss: 0.3923, validation accuracy: 0.8050, validation loss: 0.6233\n",
      "100%|██████████| 313/313 [00:17<00:00, 17.92it/s, loss=0.3945]\n",
      "Epoch 16 | Training loss: 0.3945, validation accuracy: 0.8040, validation loss: 0.6328\n",
      "100%|██████████| 313/313 [00:17<00:00, 17.92it/s, loss=0.3843]\n",
      "Epoch 17 | Training loss: 0.3843, validation accuracy: 0.8052, validation loss: 0.6215\n",
      "100%|██████████| 313/313 [00:17<00:00, 18.04it/s, loss=0.3965]\n",
      "Epoch 18 | Training loss: 0.3965, validation accuracy: 0.8033, validation loss: 0.6247\n",
      "100%|██████████| 313/313 [00:17<00:00, 17.87it/s, loss=0.3924]\n",
      "Epoch 19 | Training loss: 0.3924, validation accuracy: 0.8023, validation loss: 0.6296\n",
      "100%|██████████| 313/313 [00:17<00:00, 18.01it/s, loss=0.3867]\n",
      "Epoch 20 | Training loss: 0.3867, validation accuracy: 0.8054, validation loss: 0.6194\n",
      "100%|██████████| 313/313 [00:17<00:00, 18.11it/s, loss=0.3836]\n",
      "Epoch 21 | Training loss: 0.3836, validation accuracy: 0.8043, validation loss: 0.6225\n",
      "100%|██████████| 313/313 [00:17<00:00, 17.77it/s, loss=0.3931]\n",
      "Epoch 22 | Training loss: 0.3931, validation accuracy: 0.8028, validation loss: 0.6299\n",
      "100%|██████████| 313/313 [00:17<00:00, 18.08it/s, loss=0.3855]\n",
      "Epoch 23 | Training loss: 0.3855, validation accuracy: 0.8037, validation loss: 0.6353\n",
      "100%|██████████| 313/313 [00:17<00:00, 17.90it/s, loss=0.3908]\n",
      "Epoch 24 | Training loss: 0.3908, validation accuracy: 0.8046, validation loss: 0.6280\n",
      "100%|██████████| 313/313 [00:17<00:00, 18.15it/s, loss=0.3890]\n",
      "Epoch 25 | Training loss: 0.3890, validation accuracy: 0.8033, validation loss: 0.6221\n"
     ]
    }
   ],
   "source": [
    "epochs = 25\n",
    "\n",
    "for epoch in range(epochs):\n",
    "    train_loss = trainer.train_epoch(model, optimizer, dl[\"train\"])\n",
    "    optimizer.finish_epoch()\n",
    "    val_acc, val_loss = trainer.validation(model, dl[\"valid\"])\n",
    "    logger.log(\"Epoch\", epoch+1, \"|\", \n",
    "          f\"Training loss: {train_loss:.4f}, validation accuracy: {val_acc:.4f}, validation loss: {val_loss:.4f}\")"
   ]
  },
  {
   "cell_type": "code",
   "execution_count": 29,
   "id": "cd8ac69e-8b58-4f7a-98e5-798eb403422f",
   "metadata": {},
   "outputs": [
    {
     "name": "stdout",
     "output_type": "stream",
     "text": [
      "Train: (0.86865, 0.3670455973625183)\n",
      "Valid: (0.8033, 0.6220910687446595)\n"
     ]
    }
   ],
   "source": [
    "train_score = trainer.validation(model, dl[\"train\"])\n",
    "valid_score = trainer.validation(model, dl[\"valid\"])\n",
    "logger.log(\"Train:\", train_score)\n",
    "logger.log(\"Valid:\", valid_score)"
   ]
  },
  {
   "cell_type": "code",
   "execution_count": 30,
   "id": "d9969ade-758c-45f7-85bb-a8f30e51b6dd",
   "metadata": {},
   "outputs": [
    {
     "name": "stdout",
     "output_type": "stream",
     "text": [
      "RNA\n"
     ]
    }
   ],
   "source": [
    "optimizer.param_groups[0][\"method\"] = \"RNA\"\n",
    "logger.log(\"RNA\")\n",
    "model_acc = deepcopy(model)\n",
    "optimizer.accelerate()\n",
    "optimizer.store_parameters([model_acc.parameters()])"
   ]
  },
  {
   "cell_type": "code",
   "execution_count": 31,
   "id": "f0a14d24-5c24-4836-8ea6-d6299fc73674",
   "metadata": {
    "tags": []
   },
   "outputs": [
    {
     "name": "stdout",
     "output_type": "stream",
     "text": [
      "Train: (0.868525, 0.3694327432155609)\n",
      "Valid: (0.8031, 0.6231676832199097)\n"
     ]
    }
   ],
   "source": [
    "model_acc.to(trainer.device)\n",
    "train_score = trainer.validation(model_acc, dl[\"train\"])\n",
    "valid_score = trainer.validation(model_acc, dl[\"valid\"])\n",
    "logger.log(\"Train:\", train_score)\n",
    "logger.log(\"Valid:\", valid_score)"
   ]
  },
  {
   "cell_type": "code",
   "execution_count": 32,
   "id": "4b6f8747-9a7b-4b30-8b91-7275a87fa71a",
   "metadata": {},
   "outputs": [
    {
     "name": "stdout",
     "output_type": "stream",
     "text": [
      "RRE\n"
     ]
    }
   ],
   "source": [
    "optimizer.param_groups[0][\"method\"] = \"RRE\"\n",
    "logger.log(\"RRE\")\n",
    "model_acc = deepcopy(model)\n",
    "optimizer.accelerate()\n",
    "optimizer.store_parameters([model_acc.parameters()])"
   ]
  },
  {
   "cell_type": "code",
   "execution_count": 33,
   "id": "7e530b81-e42b-4a8c-85c4-ec59c8ba6b59",
   "metadata": {
    "tags": []
   },
   "outputs": [
    {
     "name": "stdout",
     "output_type": "stream",
     "text": [
      "Train: (0.8683, 0.36543705358505246)\n",
      "Valid: (0.8031, 0.6231674530029296)\n"
     ]
    }
   ],
   "source": [
    "model_acc.to(trainer.device)\n",
    "train_score = trainer.validation(model_acc, dl[\"train\"])\n",
    "valid_score = trainer.validation(model_acc, dl[\"valid\"])\n",
    "logger.log(\"Train:\", train_score)\n",
    "logger.log(\"Valid:\", valid_score)"
   ]
  },
  {
   "cell_type": "markdown",
   "id": "e916b97d-7012-4b76-8917-5f0999e28367",
   "metadata": {},
   "source": [
    "### Lambda = 1e-8"
   ]
  },
  {
   "cell_type": "code",
   "execution_count": 29,
   "id": "front-train",
   "metadata": {
    "collapsed": true,
    "jupyter": {
     "outputs_hidden": true
    },
    "tags": []
   },
   "outputs": [
    {
     "data": {
      "text/plain": [
       "ResNet(\n",
       "  (conv1): Conv2d(3, 64, kernel_size=(7, 7), stride=(2, 2), padding=(3, 3), bias=False)\n",
       "  (bn1): BatchNorm2d(64, eps=1e-05, momentum=0.1, affine=True, track_running_stats=True)\n",
       "  (relu): ReLU(inplace=True)\n",
       "  (maxpool): MaxPool2d(kernel_size=3, stride=2, padding=1, dilation=1, ceil_mode=False)\n",
       "  (layer1): Sequential(\n",
       "    (0): BasicBlock(\n",
       "      (conv1): Conv2d(64, 64, kernel_size=(3, 3), stride=(1, 1), padding=(1, 1), bias=False)\n",
       "      (bn1): BatchNorm2d(64, eps=1e-05, momentum=0.1, affine=True, track_running_stats=True)\n",
       "      (relu): ReLU(inplace=True)\n",
       "      (conv2): Conv2d(64, 64, kernel_size=(3, 3), stride=(1, 1), padding=(1, 1), bias=False)\n",
       "      (bn2): BatchNorm2d(64, eps=1e-05, momentum=0.1, affine=True, track_running_stats=True)\n",
       "    )\n",
       "    (1): BasicBlock(\n",
       "      (conv1): Conv2d(64, 64, kernel_size=(3, 3), stride=(1, 1), padding=(1, 1), bias=False)\n",
       "      (bn1): BatchNorm2d(64, eps=1e-05, momentum=0.1, affine=True, track_running_stats=True)\n",
       "      (relu): ReLU(inplace=True)\n",
       "      (conv2): Conv2d(64, 64, kernel_size=(3, 3), stride=(1, 1), padding=(1, 1), bias=False)\n",
       "      (bn2): BatchNorm2d(64, eps=1e-05, momentum=0.1, affine=True, track_running_stats=True)\n",
       "    )\n",
       "  )\n",
       "  (layer2): Sequential(\n",
       "    (0): BasicBlock(\n",
       "      (conv1): Conv2d(64, 128, kernel_size=(3, 3), stride=(2, 2), padding=(1, 1), bias=False)\n",
       "      (bn1): BatchNorm2d(128, eps=1e-05, momentum=0.1, affine=True, track_running_stats=True)\n",
       "      (relu): ReLU(inplace=True)\n",
       "      (conv2): Conv2d(128, 128, kernel_size=(3, 3), stride=(1, 1), padding=(1, 1), bias=False)\n",
       "      (bn2): BatchNorm2d(128, eps=1e-05, momentum=0.1, affine=True, track_running_stats=True)\n",
       "      (downsample): Sequential(\n",
       "        (0): Conv2d(64, 128, kernel_size=(1, 1), stride=(2, 2), bias=False)\n",
       "        (1): BatchNorm2d(128, eps=1e-05, momentum=0.1, affine=True, track_running_stats=True)\n",
       "      )\n",
       "    )\n",
       "    (1): BasicBlock(\n",
       "      (conv1): Conv2d(128, 128, kernel_size=(3, 3), stride=(1, 1), padding=(1, 1), bias=False)\n",
       "      (bn1): BatchNorm2d(128, eps=1e-05, momentum=0.1, affine=True, track_running_stats=True)\n",
       "      (relu): ReLU(inplace=True)\n",
       "      (conv2): Conv2d(128, 128, kernel_size=(3, 3), stride=(1, 1), padding=(1, 1), bias=False)\n",
       "      (bn2): BatchNorm2d(128, eps=1e-05, momentum=0.1, affine=True, track_running_stats=True)\n",
       "    )\n",
       "  )\n",
       "  (layer3): Sequential(\n",
       "    (0): BasicBlock(\n",
       "      (conv1): Conv2d(128, 256, kernel_size=(3, 3), stride=(2, 2), padding=(1, 1), bias=False)\n",
       "      (bn1): BatchNorm2d(256, eps=1e-05, momentum=0.1, affine=True, track_running_stats=True)\n",
       "      (relu): ReLU(inplace=True)\n",
       "      (conv2): Conv2d(256, 256, kernel_size=(3, 3), stride=(1, 1), padding=(1, 1), bias=False)\n",
       "      (bn2): BatchNorm2d(256, eps=1e-05, momentum=0.1, affine=True, track_running_stats=True)\n",
       "      (downsample): Sequential(\n",
       "        (0): Conv2d(128, 256, kernel_size=(1, 1), stride=(2, 2), bias=False)\n",
       "        (1): BatchNorm2d(256, eps=1e-05, momentum=0.1, affine=True, track_running_stats=True)\n",
       "      )\n",
       "    )\n",
       "    (1): BasicBlock(\n",
       "      (conv1): Conv2d(256, 256, kernel_size=(3, 3), stride=(1, 1), padding=(1, 1), bias=False)\n",
       "      (bn1): BatchNorm2d(256, eps=1e-05, momentum=0.1, affine=True, track_running_stats=True)\n",
       "      (relu): ReLU(inplace=True)\n",
       "      (conv2): Conv2d(256, 256, kernel_size=(3, 3), stride=(1, 1), padding=(1, 1), bias=False)\n",
       "      (bn2): BatchNorm2d(256, eps=1e-05, momentum=0.1, affine=True, track_running_stats=True)\n",
       "    )\n",
       "  )\n",
       "  (layer4): Sequential(\n",
       "    (0): BasicBlock(\n",
       "      (conv1): Conv2d(256, 512, kernel_size=(3, 3), stride=(2, 2), padding=(1, 1), bias=False)\n",
       "      (bn1): BatchNorm2d(512, eps=1e-05, momentum=0.1, affine=True, track_running_stats=True)\n",
       "      (relu): ReLU(inplace=True)\n",
       "      (conv2): Conv2d(512, 512, kernel_size=(3, 3), stride=(1, 1), padding=(1, 1), bias=False)\n",
       "      (bn2): BatchNorm2d(512, eps=1e-05, momentum=0.1, affine=True, track_running_stats=True)\n",
       "      (downsample): Sequential(\n",
       "        (0): Conv2d(256, 512, kernel_size=(1, 1), stride=(2, 2), bias=False)\n",
       "        (1): BatchNorm2d(512, eps=1e-05, momentum=0.1, affine=True, track_running_stats=True)\n",
       "      )\n",
       "    )\n",
       "    (1): BasicBlock(\n",
       "      (conv1): Conv2d(512, 512, kernel_size=(3, 3), stride=(1, 1), padding=(1, 1), bias=False)\n",
       "      (bn1): BatchNorm2d(512, eps=1e-05, momentum=0.1, affine=True, track_running_stats=True)\n",
       "      (relu): ReLU(inplace=True)\n",
       "      (conv2): Conv2d(512, 512, kernel_size=(3, 3), stride=(1, 1), padding=(1, 1), bias=False)\n",
       "      (bn2): BatchNorm2d(512, eps=1e-05, momentum=0.1, affine=True, track_running_stats=True)\n",
       "    )\n",
       "  )\n",
       "  (avgpool): AdaptiveAvgPool2d(output_size=(1, 1))\n",
       "  (fc): Sequential(\n",
       "    (0): Linear(in_features=512, out_features=10, bias=True)\n",
       "    (1): LogSoftmax(dim=-1)\n",
       "  )\n",
       ")"
      ]
     },
     "execution_count": 29,
     "metadata": {},
     "output_type": "execute_result"
    }
   ],
   "source": [
    "model = models.resnet18(pretrained=False)\n",
    "model.fc = nn.Sequential(\n",
    "    nn.Linear(512, 10),\n",
    "    nn.LogSoftmax(-1)\n",
    ")\n",
    "model.to(trainer.device)"
   ]
  },
  {
   "cell_type": "code",
   "execution_count": 30,
   "id": "ead40ba4-397d-4405-bad5-8348857018a2",
   "metadata": {},
   "outputs": [
    {
     "data": {
      "text/plain": [
       "(0.1034, 2.329251049041748)"
      ]
     },
     "execution_count": 30,
     "metadata": {},
     "output_type": "execute_result"
    }
   ],
   "source": [
    "trainer.validation(model, dl[\"valid\"])"
   ]
  },
  {
   "cell_type": "code",
   "execution_count": 31,
   "id": "sweet-judge",
   "metadata": {},
   "outputs": [],
   "source": [
    "optimizer = AcceleratedSGD(model.parameters(), 1e-1, k=10, momentum=0.9, weight_decay=1e-5, lambda_=1e-8)\n",
    "logger = Logger(\"resnet_log_augmentation.txt.no_resizing\")"
   ]
  },
  {
   "cell_type": "code",
   "execution_count": 32,
   "id": "6ccec233-bb10-416e-a52b-f51d1cf7d84f",
   "metadata": {},
   "outputs": [
    {
     "name": "stdout",
     "output_type": "stream",
     "text": [
      "100%|██████████| 313/313 [00:16<00:00, 19.25it/s, loss=2.1537]\n",
      "Epoch 1 | Training loss: 2.1537, validation accuracy: 0.3719, validation loss: 1.6579\n",
      "100%|██████████| 313/313 [00:16<00:00, 19.17it/s, loss=1.6446]\n",
      "Epoch 2 | Training loss: 1.6446, validation accuracy: 0.4567, validation loss: 1.4957\n",
      "100%|██████████| 313/313 [00:17<00:00, 18.14it/s, loss=1.4941]\n",
      "Epoch 3 | Training loss: 1.4941, validation accuracy: 0.5202, validation loss: 1.3188\n",
      "100%|██████████| 313/313 [00:17<00:00, 18.15it/s, loss=1.3914]\n",
      "Epoch 4 | Training loss: 1.3914, validation accuracy: 0.5409, validation loss: 1.2601\n",
      "100%|██████████| 313/313 [00:17<00:00, 18.06it/s, loss=1.3214]\n",
      "Epoch 5 | Training loss: 1.3214, validation accuracy: 0.5516, validation loss: 1.2529\n",
      "100%|██████████| 313/313 [00:17<00:00, 18.31it/s, loss=1.2366]\n",
      "Epoch 6 | Training loss: 1.2366, validation accuracy: 0.5984, validation loss: 1.1251\n",
      "100%|██████████| 313/313 [00:17<00:00, 18.37it/s, loss=1.1640]\n",
      "Epoch 7 | Training loss: 1.1640, validation accuracy: 0.5447, validation loss: 1.3447\n",
      "100%|██████████| 313/313 [00:16<00:00, 18.53it/s, loss=1.1129]\n",
      "Epoch 8 | Training loss: 1.1129, validation accuracy: 0.5928, validation loss: 1.1616\n",
      "100%|██████████| 313/313 [00:16<00:00, 18.50it/s, loss=1.0519]\n",
      "Epoch 9 | Training loss: 1.0519, validation accuracy: 0.6477, validation loss: 0.9959\n",
      "100%|██████████| 313/313 [00:16<00:00, 18.48it/s, loss=1.0064]\n",
      "Epoch 10 | Training loss: 1.0064, validation accuracy: 0.6628, validation loss: 0.9575\n",
      "100%|██████████| 313/313 [00:16<00:00, 18.63it/s, loss=0.9664]\n",
      "Epoch 11 | Training loss: 0.9664, validation accuracy: 0.7007, validation loss: 0.8599\n",
      "100%|██████████| 313/313 [00:16<00:00, 18.53it/s, loss=0.9247]\n",
      "Epoch 12 | Training loss: 0.9247, validation accuracy: 0.6765, validation loss: 0.9462\n",
      "100%|██████████| 313/313 [00:16<00:00, 18.47it/s, loss=0.8940]\n",
      "Epoch 13 | Training loss: 0.8940, validation accuracy: 0.6855, validation loss: 0.9278\n",
      "100%|██████████| 313/313 [00:16<00:00, 18.55it/s, loss=0.8526]\n",
      "Epoch 14 | Training loss: 0.8526, validation accuracy: 0.7254, validation loss: 0.7920\n",
      "100%|██████████| 313/313 [00:16<00:00, 18.55it/s, loss=0.8274]\n",
      "Epoch 15 | Training loss: 0.8274, validation accuracy: 0.7131, validation loss: 0.8620\n",
      "100%|██████████| 313/313 [00:16<00:00, 18.67it/s, loss=0.8032]\n",
      "Epoch 16 | Training loss: 0.8032, validation accuracy: 0.7290, validation loss: 0.7965\n",
      "100%|██████████| 313/313 [00:16<00:00, 18.59it/s, loss=0.7859]\n",
      "Epoch 17 | Training loss: 0.7859, validation accuracy: 0.7335, validation loss: 0.7870\n",
      "100%|██████████| 313/313 [00:16<00:00, 18.54it/s, loss=0.7509]\n",
      "Epoch 18 | Training loss: 0.7509, validation accuracy: 0.7370, validation loss: 0.7682\n",
      "100%|██████████| 313/313 [00:16<00:00, 18.58it/s, loss=0.7382]\n",
      "Epoch 19 | Training loss: 0.7382, validation accuracy: 0.7412, validation loss: 0.7751\n",
      "100%|██████████| 313/313 [00:16<00:00, 18.62it/s, loss=0.7129]\n",
      "Epoch 20 | Training loss: 0.7129, validation accuracy: 0.7658, validation loss: 0.6926\n",
      "100%|██████████| 313/313 [00:16<00:00, 18.58it/s, loss=0.6925]\n",
      "Epoch 21 | Training loss: 0.6925, validation accuracy: 0.7531, validation loss: 0.7382\n",
      "100%|██████████| 313/313 [00:16<00:00, 18.64it/s, loss=0.6743]\n",
      "Epoch 22 | Training loss: 0.6743, validation accuracy: 0.7574, validation loss: 0.7209\n",
      "100%|██████████| 313/313 [00:16<00:00, 18.60it/s, loss=0.6659]\n",
      "Epoch 23 | Training loss: 0.6659, validation accuracy: 0.7558, validation loss: 0.7396\n",
      "100%|██████████| 313/313 [00:16<00:00, 18.70it/s, loss=0.6478]\n",
      "Epoch 24 | Training loss: 0.6478, validation accuracy: 0.7695, validation loss: 0.7171\n",
      "100%|██████████| 313/313 [00:16<00:00, 18.70it/s, loss=0.6398]\n",
      "Epoch 25 | Training loss: 0.6398, validation accuracy: 0.7761, validation loss: 0.6910\n"
     ]
    }
   ],
   "source": [
    "epochs = 25\n",
    "\n",
    "for epoch in range(epochs):\n",
    "    train_loss = trainer.train_epoch(model, optimizer, dl[\"train\"])\n",
    "    optimizer.finish_epoch()\n",
    "    val_acc, val_loss = trainer.validation(model, dl[\"valid\"])\n",
    "    logger.log(\"Epoch\", epoch+1, \"|\", \n",
    "          f\"Training loss: {train_loss:.4f}, validation accuracy: {val_acc:.4f}, validation loss: {val_loss:.4f}\")"
   ]
  },
  {
   "cell_type": "code",
   "execution_count": 33,
   "id": "d7f57b14-1e56-4ecf-91a7-0fe00a7a73b2",
   "metadata": {},
   "outputs": [
    {
     "name": "stdout",
     "output_type": "stream",
     "text": [
      "Train: (0.788175, 0.598724176979065)\n",
      "Valid: (0.7761, 0.6909784210205078)\n"
     ]
    }
   ],
   "source": [
    "train_score = trainer.validation(model, dl[\"train\"])\n",
    "valid_score = trainer.validation(model, dl[\"valid\"])\n",
    "logger.log(\"Train:\", train_score)\n",
    "logger.log(\"Valid:\", valid_score)"
   ]
  },
  {
   "cell_type": "code",
   "execution_count": 34,
   "id": "feaeeebe-6668-4026-b1be-6da4d9428960",
   "metadata": {},
   "outputs": [
    {
     "name": "stdout",
     "output_type": "stream",
     "text": [
      "RNA\n"
     ]
    }
   ],
   "source": [
    "optimizer.param_groups[0][\"method\"] = \"RNA\"\n",
    "logger.log(\"RNA\")\n",
    "model_acc = deepcopy(model)\n",
    "optimizer.accelerate()\n",
    "optimizer.store_parameters([model_acc.parameters()])"
   ]
  },
  {
   "cell_type": "code",
   "execution_count": 35,
   "id": "ecda995e-26e1-48be-b5fb-09c71dc1a5f1",
   "metadata": {
    "tags": []
   },
   "outputs": [
    {
     "name": "stdout",
     "output_type": "stream",
     "text": [
      "Train: (0.751275, 0.6853015835285187)\n",
      "Valid: (0.7527, 0.732500690460205)\n"
     ]
    }
   ],
   "source": [
    "model_acc.to(trainer.device)\n",
    "train_score = trainer.validation(model_acc, dl[\"train\"])\n",
    "valid_score = trainer.validation(model_acc, dl[\"valid\"])\n",
    "logger.log(\"Train:\", train_score)\n",
    "logger.log(\"Valid:\", valid_score)"
   ]
  },
  {
   "cell_type": "code",
   "execution_count": 36,
   "id": "f8fc2877-8ff7-4604-818e-d35af6ab2e2f",
   "metadata": {},
   "outputs": [
    {
     "name": "stdout",
     "output_type": "stream",
     "text": [
      "RRE\n"
     ]
    }
   ],
   "source": [
    "optimizer.param_groups[0][\"method\"] = \"RRE\"\n",
    "logger.log(\"RRE\")\n",
    "model_acc = deepcopy(model)\n",
    "optimizer.accelerate()\n",
    "optimizer.store_parameters([model_acc.parameters()])"
   ]
  },
  {
   "cell_type": "code",
   "execution_count": 37,
   "id": "ce69a19f-e2d5-453d-9a75-744a4a27e17b",
   "metadata": {
    "tags": []
   },
   "outputs": [
    {
     "name": "stdout",
     "output_type": "stream",
     "text": [
      "Train: (0.7518, 0.6865542938232422)\n",
      "Valid: (0.7527, 0.732499766921997)\n"
     ]
    }
   ],
   "source": [
    "model_acc.to(trainer.device)\n",
    "train_score = trainer.validation(model_acc, dl[\"train\"])\n",
    "valid_score = trainer.validation(model_acc, dl[\"valid\"])\n",
    "logger.log(\"Train:\", train_score)\n",
    "logger.log(\"Valid:\", valid_score)"
   ]
  },
  {
   "cell_type": "code",
   "execution_count": 38,
   "id": "4c30eee8-c114-4233-b421-58123888ebf1",
   "metadata": {},
   "outputs": [],
   "source": [
    "optimizer.param_groups[0][\"lr\"] = 1e-2"
   ]
  },
  {
   "cell_type": "code",
   "execution_count": 39,
   "id": "6baec32a-71fa-45a4-99e0-7f3ff9aca932",
   "metadata": {},
   "outputs": [
    {
     "name": "stdout",
     "output_type": "stream",
     "text": [
      "100%|██████████| 313/313 [00:16<00:00, 19.03it/s, loss=0.5266]\n",
      "Epoch 1 | Training loss: 0.5266, validation accuracy: 0.7982, validation loss: 0.6189\n",
      "100%|██████████| 313/313 [00:16<00:00, 18.93it/s, loss=0.4928]\n",
      "Epoch 2 | Training loss: 0.4928, validation accuracy: 0.8053, validation loss: 0.6048\n",
      "100%|██████████| 313/313 [00:17<00:00, 18.04it/s, loss=0.4811]\n",
      "Epoch 3 | Training loss: 0.4811, validation accuracy: 0.8067, validation loss: 0.6067\n",
      "100%|██████████| 313/313 [00:17<00:00, 18.27it/s, loss=0.4727]\n",
      "Epoch 4 | Training loss: 0.4727, validation accuracy: 0.8091, validation loss: 0.5968\n",
      "100%|██████████| 313/313 [00:17<00:00, 17.87it/s, loss=0.4598]\n",
      "Epoch 5 | Training loss: 0.4598, validation accuracy: 0.8031, validation loss: 0.6186\n",
      "100%|██████████| 313/313 [00:17<00:00, 18.37it/s, loss=0.4572]\n",
      "Epoch 6 | Training loss: 0.4572, validation accuracy: 0.8095, validation loss: 0.5945\n",
      "100%|██████████| 313/313 [00:17<00:00, 18.40it/s, loss=0.4482]\n",
      "Epoch 7 | Training loss: 0.4482, validation accuracy: 0.8091, validation loss: 0.6006\n",
      "100%|██████████| 313/313 [00:16<00:00, 18.50it/s, loss=0.4438]\n",
      "Epoch 8 | Training loss: 0.4438, validation accuracy: 0.8037, validation loss: 0.6184\n",
      "100%|██████████| 313/313 [00:16<00:00, 18.55it/s, loss=0.4416]\n",
      "Epoch 9 | Training loss: 0.4416, validation accuracy: 0.8089, validation loss: 0.5974\n",
      "100%|██████████| 313/313 [00:16<00:00, 18.53it/s, loss=0.4338]\n",
      "Epoch 10 | Training loss: 0.4338, validation accuracy: 0.8036, validation loss: 0.6159\n",
      "100%|██████████| 313/313 [00:16<00:00, 18.65it/s, loss=0.4296]\n",
      "Epoch 11 | Training loss: 0.4296, validation accuracy: 0.8064, validation loss: 0.6029\n",
      "100%|██████████| 313/313 [00:16<00:00, 18.61it/s, loss=0.4273]\n",
      "Epoch 12 | Training loss: 0.4273, validation accuracy: 0.8073, validation loss: 0.6097\n",
      "100%|██████████| 313/313 [00:16<00:00, 18.49it/s, loss=0.4195]\n",
      "Epoch 13 | Training loss: 0.4195, validation accuracy: 0.8062, validation loss: 0.6159\n",
      "100%|██████████| 313/313 [00:16<00:00, 18.55it/s, loss=0.4215]\n",
      "Epoch 14 | Training loss: 0.4215, validation accuracy: 0.8059, validation loss: 0.6186\n",
      "100%|██████████| 313/313 [00:16<00:00, 18.59it/s, loss=0.4146]\n",
      "Epoch 15 | Training loss: 0.4146, validation accuracy: 0.8048, validation loss: 0.6298\n",
      "100%|██████████| 313/313 [00:16<00:00, 18.59it/s, loss=0.4113]\n",
      "Epoch 16 | Training loss: 0.4113, validation accuracy: 0.8114, validation loss: 0.5934\n",
      "100%|██████████| 313/313 [00:16<00:00, 18.59it/s, loss=0.4022]\n",
      "Epoch 17 | Training loss: 0.4022, validation accuracy: 0.8050, validation loss: 0.6171\n",
      "100%|██████████| 313/313 [00:16<00:00, 18.59it/s, loss=0.4008]\n",
      "Epoch 18 | Training loss: 0.4008, validation accuracy: 0.8060, validation loss: 0.6074\n",
      "100%|██████████| 313/313 [00:16<00:00, 18.49it/s, loss=0.3936]\n",
      "Epoch 19 | Training loss: 0.3936, validation accuracy: 0.8044, validation loss: 0.6261\n",
      "100%|██████████| 313/313 [00:16<00:00, 18.57it/s, loss=0.3902]\n",
      "Epoch 20 | Training loss: 0.3902, validation accuracy: 0.8042, validation loss: 0.6210\n",
      "100%|██████████| 313/313 [00:16<00:00, 18.65it/s, loss=0.3916]\n",
      "Epoch 21 | Training loss: 0.3916, validation accuracy: 0.8073, validation loss: 0.6282\n",
      "100%|██████████| 313/313 [00:16<00:00, 18.53it/s, loss=0.3802]\n",
      "Epoch 22 | Training loss: 0.3802, validation accuracy: 0.8053, validation loss: 0.6272\n",
      "100%|██████████| 313/313 [00:16<00:00, 18.61it/s, loss=0.3802]\n",
      "Epoch 23 | Training loss: 0.3802, validation accuracy: 0.8099, validation loss: 0.6126\n",
      "100%|██████████| 313/313 [00:16<00:00, 18.55it/s, loss=0.3785]\n",
      "Epoch 24 | Training loss: 0.3785, validation accuracy: 0.8129, validation loss: 0.6100\n",
      "100%|██████████| 313/313 [00:16<00:00, 18.67it/s, loss=0.3766]\n",
      "Epoch 25 | Training loss: 0.3766, validation accuracy: 0.8098, validation loss: 0.6122\n"
     ]
    }
   ],
   "source": [
    "epochs = 25\n",
    "\n",
    "for epoch in range(epochs):\n",
    "    train_loss = trainer.train_epoch(model, optimizer, dl[\"train\"])\n",
    "    optimizer.finish_epoch()\n",
    "    val_acc, val_loss = trainer.validation(model, dl[\"valid\"])\n",
    "    logger.log(\"Epoch\", epoch+1, \"|\", \n",
    "          f\"Training loss: {train_loss:.4f}, validation accuracy: {val_acc:.4f}, validation loss: {val_loss:.4f}\")"
   ]
  },
  {
   "cell_type": "code",
   "execution_count": 40,
   "id": "8f71a083-9be9-46a6-9171-61738b54e143",
   "metadata": {},
   "outputs": [
    {
     "name": "stdout",
     "output_type": "stream",
     "text": [
      "Train: (0.876525, 0.3425853633403778)\n",
      "Valid: (0.8098, 0.6122154071807862)\n"
     ]
    }
   ],
   "source": [
    "train_score = trainer.validation(model, dl[\"train\"])\n",
    "valid_score = trainer.validation(model, dl[\"valid\"])\n",
    "logger.log(\"Train:\", train_score)\n",
    "logger.log(\"Valid:\", valid_score)"
   ]
  },
  {
   "cell_type": "code",
   "execution_count": 41,
   "id": "b47c4321-b1af-4aa9-be43-5d91757bd5d2",
   "metadata": {},
   "outputs": [
    {
     "name": "stdout",
     "output_type": "stream",
     "text": [
      "RNA\n"
     ]
    }
   ],
   "source": [
    "optimizer.param_groups[0][\"method\"] = \"RNA\"\n",
    "logger.log(\"RNA\")\n",
    "model_acc = deepcopy(model)\n",
    "optimizer.accelerate()\n",
    "optimizer.store_parameters([model_acc.parameters()])"
   ]
  },
  {
   "cell_type": "code",
   "execution_count": 42,
   "id": "c6e6d044-79ae-4caa-bf4c-cd50176cd234",
   "metadata": {
    "tags": []
   },
   "outputs": [
    {
     "name": "stdout",
     "output_type": "stream",
     "text": [
      "Train: (0.87355, 0.36096229751110076)\n",
      "Valid: (0.8034, 0.6426097635269165)\n"
     ]
    }
   ],
   "source": [
    "model_acc.to(trainer.device)\n",
    "train_score = trainer.validation(model_acc, dl[\"train\"])\n",
    "valid_score = trainer.validation(model_acc, dl[\"valid\"])\n",
    "logger.log(\"Train:\", train_score)\n",
    "logger.log(\"Valid:\", valid_score)"
   ]
  },
  {
   "cell_type": "code",
   "execution_count": 43,
   "id": "aaad4ad1-0f4e-4514-8e3f-9fd30e09f7e5",
   "metadata": {},
   "outputs": [
    {
     "name": "stdout",
     "output_type": "stream",
     "text": [
      "RRE\n"
     ]
    }
   ],
   "source": [
    "optimizer.param_groups[0][\"method\"] = \"RRE\"\n",
    "logger.log(\"RRE\")\n",
    "model_acc = deepcopy(model)\n",
    "optimizer.accelerate()\n",
    "optimizer.store_parameters([model_acc.parameters()])"
   ]
  },
  {
   "cell_type": "code",
   "execution_count": 44,
   "id": "eba3c71a-ecf9-443f-a993-cd3bc0c06ae4",
   "metadata": {
    "tags": []
   },
   "outputs": [
    {
     "name": "stdout",
     "output_type": "stream",
     "text": [
      "Train: (0.86925, 0.3699721306800842)\n",
      "Valid: (0.8034, 0.6426091287612915)\n"
     ]
    }
   ],
   "source": [
    "model_acc.to(trainer.device)\n",
    "train_score = trainer.validation(model_acc, dl[\"train\"])\n",
    "valid_score = trainer.validation(model_acc, dl[\"valid\"])\n",
    "logger.log(\"Train:\", train_score)\n",
    "logger.log(\"Valid:\", valid_score)"
   ]
  },
  {
   "cell_type": "code",
   "execution_count": 45,
   "id": "82e6b5c4-8c10-49fd-9098-24db99510557",
   "metadata": {},
   "outputs": [],
   "source": [
    "optimizer.param_groups[0][\"lr\"] = 1e-3"
   ]
  },
  {
   "cell_type": "code",
   "execution_count": null,
   "id": "46d845b2-7f65-4256-bbc1-72dc61087c4c",
   "metadata": {},
   "outputs": [
    {
     "name": "stdout",
     "output_type": "stream",
     "text": [
      "100%|██████████| 313/313 [00:16<00:00, 18.89it/s, loss=0.3606]\n",
      "Epoch 1 | Training loss: 0.3606, validation accuracy: 0.8096, validation loss: 0.6133\n",
      "100%|██████████| 313/313 [00:16<00:00, 18.81it/s, loss=0.3525]\n",
      "Epoch 2 | Training loss: 0.3525, validation accuracy: 0.8102, validation loss: 0.6112\n",
      "100%|██████████| 313/313 [00:17<00:00, 18.06it/s, loss=0.3561]\n",
      "Epoch 3 | Training loss: 0.3561, validation accuracy: 0.8122, validation loss: 0.6078\n",
      " 44%|████▍     | 139/313 [00:07<00:08, 19.51it/s, loss=0.3539]"
     ]
    }
   ],
   "source": [
    "epochs = 25\n",
    "\n",
    "for epoch in range(epochs):\n",
    "    train_loss = trainer.train_epoch(model, optimizer, dl[\"train\"])\n",
    "    optimizer.finish_epoch()\n",
    "    val_acc, val_loss = trainer.validation(model, dl[\"valid\"])\n",
    "    logger.log(\"Epoch\", epoch+1, \"|\", \n",
    "          f\"Training loss: {train_loss:.4f}, validation accuracy: {val_acc:.4f}, validation loss: {val_loss:.4f}\")"
   ]
  },
  {
   "cell_type": "code",
   "execution_count": null,
   "id": "5bd01370-37cb-40e9-89b9-a28bc00653fc",
   "metadata": {},
   "outputs": [],
   "source": [
    "train_score = trainer.validation(model, dl[\"train\"])\n",
    "valid_score = trainer.validation(model, dl[\"valid\"])\n",
    "logger.log(\"Train:\", train_score)\n",
    "logger.log(\"Valid:\", valid_score)"
   ]
  },
  {
   "cell_type": "code",
   "execution_count": null,
   "id": "dabe6aef-c3cc-469f-b737-1ac87ff40870",
   "metadata": {},
   "outputs": [],
   "source": [
    "optimizer.param_groups[0][\"method\"] = \"RNA\"\n",
    "logger.log(\"RNA\")\n",
    "model_acc = deepcopy(model)\n",
    "optimizer.accelerate()\n",
    "optimizer.store_parameters([model_acc.parameters()])"
   ]
  },
  {
   "cell_type": "code",
   "execution_count": null,
   "id": "78fdcf45-4537-4ff0-89c4-9ee72ca27c5e",
   "metadata": {
    "tags": []
   },
   "outputs": [],
   "source": [
    "model_acc.to(trainer.device)\n",
    "train_score = trainer.validation(model_acc, dl[\"train\"])\n",
    "valid_score = trainer.validation(model_acc, dl[\"valid\"])\n",
    "logger.log(\"Train:\", train_score)\n",
    "logger.log(\"Valid:\", valid_score)"
   ]
  },
  {
   "cell_type": "code",
   "execution_count": null,
   "id": "2ff9139d-cfa8-477b-8faa-22d242f92f1f",
   "metadata": {},
   "outputs": [],
   "source": [
    "optimizer.param_groups[0][\"method\"] = \"RRE\"\n",
    "logger.log(\"RRE\")\n",
    "model_acc = deepcopy(model)\n",
    "optimizer.accelerate()\n",
    "optimizer.store_parameters([model_acc.parameters()])"
   ]
  },
  {
   "cell_type": "code",
   "execution_count": null,
   "id": "ce348e6b-0a11-4bed-b710-2a56d747a337",
   "metadata": {
    "tags": []
   },
   "outputs": [],
   "source": [
    "model_acc.to(trainer.device)\n",
    "train_score = trainer.validation(model_acc, dl[\"train\"])\n",
    "valid_score = trainer.validation(model_acc, dl[\"valid\"])\n",
    "logger.log(\"Train:\", train_score)\n",
    "logger.log(\"Valid:\", valid_score)"
   ]
  },
  {
   "cell_type": "markdown",
   "id": "1f01f523-fb49-4009-a08c-f30f0e6bf4f0",
   "metadata": {},
   "source": [
    "### Lambda = 1e-4"
   ]
  },
  {
   "cell_type": "code",
   "execution_count": 34,
   "id": "247bfa34-9c59-4c77-a448-09d4dbd815f2",
   "metadata": {
    "tags": []
   },
   "outputs": [
    {
     "data": {
      "text/plain": [
       "ResNet(\n",
       "  (conv1): Conv2d(3, 64, kernel_size=(7, 7), stride=(2, 2), padding=(3, 3), bias=False)\n",
       "  (bn1): BatchNorm2d(64, eps=1e-05, momentum=0.1, affine=True, track_running_stats=True)\n",
       "  (relu): ReLU(inplace=True)\n",
       "  (maxpool): MaxPool2d(kernel_size=3, stride=2, padding=1, dilation=1, ceil_mode=False)\n",
       "  (layer1): Sequential(\n",
       "    (0): BasicBlock(\n",
       "      (conv1): Conv2d(64, 64, kernel_size=(3, 3), stride=(1, 1), padding=(1, 1), bias=False)\n",
       "      (bn1): BatchNorm2d(64, eps=1e-05, momentum=0.1, affine=True, track_running_stats=True)\n",
       "      (relu): ReLU(inplace=True)\n",
       "      (conv2): Conv2d(64, 64, kernel_size=(3, 3), stride=(1, 1), padding=(1, 1), bias=False)\n",
       "      (bn2): BatchNorm2d(64, eps=1e-05, momentum=0.1, affine=True, track_running_stats=True)\n",
       "    )\n",
       "    (1): BasicBlock(\n",
       "      (conv1): Conv2d(64, 64, kernel_size=(3, 3), stride=(1, 1), padding=(1, 1), bias=False)\n",
       "      (bn1): BatchNorm2d(64, eps=1e-05, momentum=0.1, affine=True, track_running_stats=True)\n",
       "      (relu): ReLU(inplace=True)\n",
       "      (conv2): Conv2d(64, 64, kernel_size=(3, 3), stride=(1, 1), padding=(1, 1), bias=False)\n",
       "      (bn2): BatchNorm2d(64, eps=1e-05, momentum=0.1, affine=True, track_running_stats=True)\n",
       "    )\n",
       "  )\n",
       "  (layer2): Sequential(\n",
       "    (0): BasicBlock(\n",
       "      (conv1): Conv2d(64, 128, kernel_size=(3, 3), stride=(2, 2), padding=(1, 1), bias=False)\n",
       "      (bn1): BatchNorm2d(128, eps=1e-05, momentum=0.1, affine=True, track_running_stats=True)\n",
       "      (relu): ReLU(inplace=True)\n",
       "      (conv2): Conv2d(128, 128, kernel_size=(3, 3), stride=(1, 1), padding=(1, 1), bias=False)\n",
       "      (bn2): BatchNorm2d(128, eps=1e-05, momentum=0.1, affine=True, track_running_stats=True)\n",
       "      (downsample): Sequential(\n",
       "        (0): Conv2d(64, 128, kernel_size=(1, 1), stride=(2, 2), bias=False)\n",
       "        (1): BatchNorm2d(128, eps=1e-05, momentum=0.1, affine=True, track_running_stats=True)\n",
       "      )\n",
       "    )\n",
       "    (1): BasicBlock(\n",
       "      (conv1): Conv2d(128, 128, kernel_size=(3, 3), stride=(1, 1), padding=(1, 1), bias=False)\n",
       "      (bn1): BatchNorm2d(128, eps=1e-05, momentum=0.1, affine=True, track_running_stats=True)\n",
       "      (relu): ReLU(inplace=True)\n",
       "      (conv2): Conv2d(128, 128, kernel_size=(3, 3), stride=(1, 1), padding=(1, 1), bias=False)\n",
       "      (bn2): BatchNorm2d(128, eps=1e-05, momentum=0.1, affine=True, track_running_stats=True)\n",
       "    )\n",
       "  )\n",
       "  (layer3): Sequential(\n",
       "    (0): BasicBlock(\n",
       "      (conv1): Conv2d(128, 256, kernel_size=(3, 3), stride=(2, 2), padding=(1, 1), bias=False)\n",
       "      (bn1): BatchNorm2d(256, eps=1e-05, momentum=0.1, affine=True, track_running_stats=True)\n",
       "      (relu): ReLU(inplace=True)\n",
       "      (conv2): Conv2d(256, 256, kernel_size=(3, 3), stride=(1, 1), padding=(1, 1), bias=False)\n",
       "      (bn2): BatchNorm2d(256, eps=1e-05, momentum=0.1, affine=True, track_running_stats=True)\n",
       "      (downsample): Sequential(\n",
       "        (0): Conv2d(128, 256, kernel_size=(1, 1), stride=(2, 2), bias=False)\n",
       "        (1): BatchNorm2d(256, eps=1e-05, momentum=0.1, affine=True, track_running_stats=True)\n",
       "      )\n",
       "    )\n",
       "    (1): BasicBlock(\n",
       "      (conv1): Conv2d(256, 256, kernel_size=(3, 3), stride=(1, 1), padding=(1, 1), bias=False)\n",
       "      (bn1): BatchNorm2d(256, eps=1e-05, momentum=0.1, affine=True, track_running_stats=True)\n",
       "      (relu): ReLU(inplace=True)\n",
       "      (conv2): Conv2d(256, 256, kernel_size=(3, 3), stride=(1, 1), padding=(1, 1), bias=False)\n",
       "      (bn2): BatchNorm2d(256, eps=1e-05, momentum=0.1, affine=True, track_running_stats=True)\n",
       "    )\n",
       "  )\n",
       "  (layer4): Sequential(\n",
       "    (0): BasicBlock(\n",
       "      (conv1): Conv2d(256, 512, kernel_size=(3, 3), stride=(2, 2), padding=(1, 1), bias=False)\n",
       "      (bn1): BatchNorm2d(512, eps=1e-05, momentum=0.1, affine=True, track_running_stats=True)\n",
       "      (relu): ReLU(inplace=True)\n",
       "      (conv2): Conv2d(512, 512, kernel_size=(3, 3), stride=(1, 1), padding=(1, 1), bias=False)\n",
       "      (bn2): BatchNorm2d(512, eps=1e-05, momentum=0.1, affine=True, track_running_stats=True)\n",
       "      (downsample): Sequential(\n",
       "        (0): Conv2d(256, 512, kernel_size=(1, 1), stride=(2, 2), bias=False)\n",
       "        (1): BatchNorm2d(512, eps=1e-05, momentum=0.1, affine=True, track_running_stats=True)\n",
       "      )\n",
       "    )\n",
       "    (1): BasicBlock(\n",
       "      (conv1): Conv2d(512, 512, kernel_size=(3, 3), stride=(1, 1), padding=(1, 1), bias=False)\n",
       "      (bn1): BatchNorm2d(512, eps=1e-05, momentum=0.1, affine=True, track_running_stats=True)\n",
       "      (relu): ReLU(inplace=True)\n",
       "      (conv2): Conv2d(512, 512, kernel_size=(3, 3), stride=(1, 1), padding=(1, 1), bias=False)\n",
       "      (bn2): BatchNorm2d(512, eps=1e-05, momentum=0.1, affine=True, track_running_stats=True)\n",
       "    )\n",
       "  )\n",
       "  (avgpool): AdaptiveAvgPool2d(output_size=(1, 1))\n",
       "  (fc): Sequential(\n",
       "    (0): Linear(in_features=512, out_features=10, bias=True)\n",
       "    (1): LogSoftmax(dim=-1)\n",
       "  )\n",
       ")"
      ]
     },
     "execution_count": 34,
     "metadata": {},
     "output_type": "execute_result"
    }
   ],
   "source": [
    "model = models.resnet18(pretrained=False)\n",
    "model.fc = nn.Sequential(\n",
    "    nn.Linear(512, 10),\n",
    "    nn.LogSoftmax(-1)\n",
    ")\n",
    "model.to(trainer.device)"
   ]
  },
  {
   "cell_type": "code",
   "execution_count": 35,
   "id": "d0986a8f-9bfa-4244-a955-63adbb9c8511",
   "metadata": {},
   "outputs": [
    {
     "data": {
      "text/plain": [
       "(0.0926, 2.4124791320800782)"
      ]
     },
     "execution_count": 35,
     "metadata": {},
     "output_type": "execute_result"
    }
   ],
   "source": [
    "trainer.validation(model, dl[\"valid\"])"
   ]
  },
  {
   "cell_type": "code",
   "execution_count": 36,
   "id": "ee97947a-6677-481a-a284-ef5153514240",
   "metadata": {},
   "outputs": [],
   "source": [
    "optimizer = AcceleratedSGD(model.parameters(), 1e-1, k=10, momentum=0.9, weight_decay=1e-5, lambda_=1e-4)\n",
    "logger = Logger(\"resnet_log_augmentation-lambda=1e-4.txt.no_resizing\")"
   ]
  },
  {
   "cell_type": "code",
   "execution_count": 37,
   "id": "c09368d6-6172-4249-a5fa-f8351f4a101f",
   "metadata": {},
   "outputs": [
    {
     "name": "stdout",
     "output_type": "stream",
     "text": [
      "100%|██████████| 313/313 [00:16<00:00, 19.12it/s, loss=2.4585]\n",
      "Epoch 1 | Training loss: 2.4585, validation accuracy: 0.2589, validation loss: 1.9851\n",
      "100%|██████████| 313/313 [00:17<00:00, 18.01it/s, loss=1.8320]\n",
      "Epoch 2 | Training loss: 1.8320, validation accuracy: 0.3763, validation loss: 1.6695\n",
      "100%|██████████| 313/313 [00:17<00:00, 18.00it/s, loss=1.6610]\n",
      "Epoch 3 | Training loss: 1.6610, validation accuracy: 0.3866, validation loss: 1.6440\n",
      "100%|██████████| 313/313 [00:17<00:00, 17.89it/s, loss=1.5471]\n",
      "Epoch 4 | Training loss: 1.5471, validation accuracy: 0.4735, validation loss: 1.4281\n",
      "100%|██████████| 313/313 [00:17<00:00, 17.92it/s, loss=1.4628]\n",
      "Epoch 5 | Training loss: 1.4628, validation accuracy: 0.5042, validation loss: 1.3557\n",
      "100%|██████████| 313/313 [00:17<00:00, 17.96it/s, loss=1.3773]\n",
      "Epoch 6 | Training loss: 1.3773, validation accuracy: 0.5391, validation loss: 1.2812\n",
      "100%|██████████| 313/313 [00:17<00:00, 18.00it/s, loss=1.3083]\n",
      "Epoch 7 | Training loss: 1.3083, validation accuracy: 0.5451, validation loss: 1.2901\n",
      "100%|██████████| 313/313 [00:17<00:00, 17.88it/s, loss=1.2429]\n",
      "Epoch 8 | Training loss: 1.2429, validation accuracy: 0.5768, validation loss: 1.2261\n",
      "100%|██████████| 313/313 [00:17<00:00, 18.06it/s, loss=1.1857]\n",
      "Epoch 9 | Training loss: 1.1857, validation accuracy: 0.6312, validation loss: 1.0580\n",
      "100%|██████████| 313/313 [00:17<00:00, 17.90it/s, loss=1.1333]\n",
      "Epoch 10 | Training loss: 1.1333, validation accuracy: 0.6167, validation loss: 1.1301\n",
      "100%|██████████| 313/313 [00:17<00:00, 18.12it/s, loss=1.0863]\n",
      "Epoch 11 | Training loss: 1.0863, validation accuracy: 0.6447, validation loss: 1.0081\n",
      "100%|██████████| 313/313 [00:17<00:00, 17.88it/s, loss=1.0550]\n",
      "Epoch 12 | Training loss: 1.0550, validation accuracy: 0.6549, validation loss: 1.0035\n",
      "100%|██████████| 313/313 [00:17<00:00, 17.99it/s, loss=1.0046]\n",
      "Epoch 13 | Training loss: 1.0046, validation accuracy: 0.6844, validation loss: 0.8947\n",
      "100%|██████████| 313/313 [00:17<00:00, 17.92it/s, loss=0.9761]\n",
      "Epoch 14 | Training loss: 0.9761, validation accuracy: 0.6629, validation loss: 0.9664\n",
      "100%|██████████| 313/313 [00:17<00:00, 17.79it/s, loss=0.9441]\n",
      "Epoch 15 | Training loss: 0.9441, validation accuracy: 0.6460, validation loss: 1.2869\n",
      "100%|██████████| 313/313 [00:17<00:00, 17.89it/s, loss=0.9196]\n",
      "Epoch 16 | Training loss: 0.9196, validation accuracy: 0.6994, validation loss: 0.8939\n",
      "100%|██████████| 313/313 [00:17<00:00, 18.17it/s, loss=0.8881]\n",
      "Epoch 17 | Training loss: 0.8881, validation accuracy: 0.7039, validation loss: 0.8661\n",
      "100%|██████████| 313/313 [00:17<00:00, 17.84it/s, loss=0.8591]\n",
      "Epoch 18 | Training loss: 0.8591, validation accuracy: 0.7062, validation loss: 0.8469\n",
      "100%|██████████| 313/313 [00:17<00:00, 17.96it/s, loss=0.8392]\n",
      "Epoch 19 | Training loss: 0.8392, validation accuracy: 0.7275, validation loss: 0.8119\n",
      "100%|██████████| 313/313 [00:17<00:00, 17.86it/s, loss=0.8151]\n",
      "Epoch 20 | Training loss: 0.8151, validation accuracy: 0.7351, validation loss: 0.7799\n",
      "100%|██████████| 313/313 [00:17<00:00, 17.92it/s, loss=0.8009]\n",
      "Epoch 21 | Training loss: 0.8009, validation accuracy: 0.7139, validation loss: 0.8651\n",
      "100%|██████████| 313/313 [00:17<00:00, 17.90it/s, loss=0.7806]\n",
      "Epoch 22 | Training loss: 0.7806, validation accuracy: 0.7423, validation loss: 0.7973\n",
      "100%|██████████| 313/313 [00:17<00:00, 17.98it/s, loss=0.7574]\n",
      "Epoch 23 | Training loss: 0.7574, validation accuracy: 0.7333, validation loss: 0.8107\n",
      "100%|██████████| 313/313 [00:17<00:00, 18.02it/s, loss=0.7417]\n",
      "Epoch 24 | Training loss: 0.7417, validation accuracy: 0.7372, validation loss: 0.7691\n",
      "100%|██████████| 313/313 [00:17<00:00, 18.05it/s, loss=0.7225]\n",
      "Epoch 25 | Training loss: 0.7225, validation accuracy: 0.7284, validation loss: 0.9212\n"
     ]
    }
   ],
   "source": [
    "epochs = 25\n",
    "\n",
    "for epoch in range(epochs):\n",
    "    train_loss = trainer.train_epoch(model, optimizer, dl[\"train\"])\n",
    "    optimizer.finish_epoch()\n",
    "    val_acc, val_loss = trainer.validation(model, dl[\"valid\"])\n",
    "    logger.log(\"Epoch\", epoch+1, \"|\", \n",
    "          f\"Training loss: {train_loss:.4f}, validation accuracy: {val_acc:.4f}, validation loss: {val_loss:.4f}\")"
   ]
  },
  {
   "cell_type": "code",
   "execution_count": 38,
   "id": "4c9ef1f8-2dad-4f78-8181-215cbd1f9a86",
   "metadata": {},
   "outputs": [
    {
     "name": "stdout",
     "output_type": "stream",
     "text": [
      "Train: (0.749175, 0.7415159961700439)\n",
      "Valid: (0.7284, 0.9212337493896484)\n"
     ]
    }
   ],
   "source": [
    "train_score = trainer.validation(model, dl[\"train\"])\n",
    "valid_score = trainer.validation(model, dl[\"valid\"])\n",
    "logger.log(\"Train:\", train_score)\n",
    "logger.log(\"Valid:\", valid_score)"
   ]
  },
  {
   "cell_type": "code",
   "execution_count": 39,
   "id": "0edc6e7a-ed98-40c7-b3fb-958c709de365",
   "metadata": {},
   "outputs": [
    {
     "name": "stdout",
     "output_type": "stream",
     "text": [
      "RNA\n"
     ]
    }
   ],
   "source": [
    "optimizer.param_groups[0][\"method\"] = \"RNA\"\n",
    "logger.log(\"RNA\")\n",
    "model_acc = deepcopy(model)\n",
    "optimizer.accelerate()\n",
    "optimizer.store_parameters([model_acc.parameters()])"
   ]
  },
  {
   "cell_type": "code",
   "execution_count": 40,
   "id": "17860cfc-95ce-4272-bfaa-e3adf9b3a0d1",
   "metadata": {
    "tags": []
   },
   "outputs": [
    {
     "name": "stdout",
     "output_type": "stream",
     "text": [
      "Train: (0.708325, 0.874676494216919)\n",
      "Valid: (0.72, 0.9155681607246399)\n"
     ]
    }
   ],
   "source": [
    "model_acc.to(trainer.device)\n",
    "train_score = trainer.validation(model_acc, dl[\"train\"])\n",
    "valid_score = trainer.validation(model_acc, dl[\"valid\"])\n",
    "logger.log(\"Train:\", train_score)\n",
    "logger.log(\"Valid:\", valid_score)"
   ]
  },
  {
   "cell_type": "code",
   "execution_count": 41,
   "id": "a1a9ed80-860b-4798-9af4-c4513f3e20a4",
   "metadata": {},
   "outputs": [
    {
     "name": "stdout",
     "output_type": "stream",
     "text": [
      "RRE\n"
     ]
    }
   ],
   "source": [
    "optimizer.param_groups[0][\"method\"] = \"RRE\"\n",
    "logger.log(\"RRE\")\n",
    "model_acc = deepcopy(model)\n",
    "optimizer.accelerate()\n",
    "optimizer.store_parameters([model_acc.parameters()])"
   ]
  },
  {
   "cell_type": "code",
   "execution_count": 42,
   "id": "a1ff62c3-a29d-4eb2-850e-50cbfb839c04",
   "metadata": {
    "tags": []
   },
   "outputs": [
    {
     "name": "stdout",
     "output_type": "stream",
     "text": [
      "Train: (0.713425, 0.867805164527893)\n",
      "Valid: (0.72, 0.9155656856536866)\n"
     ]
    }
   ],
   "source": [
    "model_acc.to(trainer.device)\n",
    "train_score = trainer.validation(model_acc, dl[\"train\"])\n",
    "valid_score = trainer.validation(model_acc, dl[\"valid\"])\n",
    "logger.log(\"Train:\", train_score)\n",
    "logger.log(\"Valid:\", valid_score)"
   ]
  },
  {
   "cell_type": "code",
   "execution_count": 43,
   "id": "22fe20ef-a47f-4bfa-9b0a-61dfd8d8cc44",
   "metadata": {},
   "outputs": [],
   "source": [
    "optimizer.param_groups[0][\"lr\"] = 1e-2"
   ]
  },
  {
   "cell_type": "code",
   "execution_count": 44,
   "id": "c55be3b1-b774-43af-95e3-1eaed4c48e68",
   "metadata": {},
   "outputs": [
    {
     "name": "stdout",
     "output_type": "stream",
     "text": [
      "100%|██████████| 313/313 [00:16<00:00, 18.97it/s, loss=0.6196]\n",
      "Epoch 1 | Training loss: 0.6196, validation accuracy: 0.7785, validation loss: 0.6631\n",
      "100%|██████████| 313/313 [00:17<00:00, 17.82it/s, loss=0.5959]\n",
      "Epoch 2 | Training loss: 0.5959, validation accuracy: 0.7776, validation loss: 0.6848\n",
      "100%|██████████| 313/313 [00:17<00:00, 18.07it/s, loss=0.5718]\n",
      "Epoch 3 | Training loss: 0.5718, validation accuracy: 0.7799, validation loss: 0.6855\n",
      "100%|██████████| 313/313 [00:17<00:00, 17.79it/s, loss=0.5625]\n",
      "Epoch 4 | Training loss: 0.5625, validation accuracy: 0.7809, validation loss: 0.6901\n",
      "100%|██████████| 313/313 [00:17<00:00, 17.86it/s, loss=0.5589]\n",
      "Epoch 5 | Training loss: 0.5589, validation accuracy: 0.7822, validation loss: 0.6691\n",
      "100%|██████████| 313/313 [00:17<00:00, 17.86it/s, loss=0.5485]\n",
      "Epoch 6 | Training loss: 0.5485, validation accuracy: 0.7773, validation loss: 0.7085\n",
      "100%|██████████| 313/313 [00:17<00:00, 17.79it/s, loss=0.5438]\n",
      "Epoch 7 | Training loss: 0.5438, validation accuracy: 0.7792, validation loss: 0.7151\n",
      "100%|██████████| 313/313 [00:17<00:00, 17.74it/s, loss=0.5374]\n",
      "Epoch 8 | Training loss: 0.5374, validation accuracy: 0.7746, validation loss: 0.8337\n",
      "100%|██████████| 313/313 [00:17<00:00, 17.84it/s, loss=0.5274]\n",
      "Epoch 9 | Training loss: 0.5274, validation accuracy: 0.7809, validation loss: 0.6972\n",
      "100%|██████████| 313/313 [00:17<00:00, 18.19it/s, loss=0.5288]\n",
      "Epoch 10 | Training loss: 0.5288, validation accuracy: 0.7828, validation loss: 0.6722\n",
      "100%|██████████| 313/313 [00:17<00:00, 17.67it/s, loss=0.5268]\n",
      "Epoch 11 | Training loss: 0.5268, validation accuracy: 0.7785, validation loss: 0.8181\n",
      "100%|██████████| 313/313 [00:17<00:00, 17.79it/s, loss=0.5169]\n",
      "Epoch 12 | Training loss: 0.5169, validation accuracy: 0.7794, validation loss: 0.7811\n",
      "100%|██████████| 313/313 [00:17<00:00, 17.88it/s, loss=0.5160]\n",
      "Epoch 13 | Training loss: 0.5160, validation accuracy: 0.7791, validation loss: 0.7082\n",
      "100%|██████████| 313/313 [00:17<00:00, 17.97it/s, loss=0.5051]\n",
      "Epoch 14 | Training loss: 0.5051, validation accuracy: 0.7831, validation loss: 0.6790\n",
      "100%|██████████| 313/313 [00:17<00:00, 17.90it/s, loss=0.5033]\n",
      "Epoch 15 | Training loss: 0.5033, validation accuracy: 0.7885, validation loss: 0.6536\n",
      "100%|██████████| 313/313 [00:17<00:00, 17.84it/s, loss=0.4961]\n",
      "Epoch 16 | Training loss: 0.4961, validation accuracy: 0.7839, validation loss: 0.6805\n",
      "100%|██████████| 313/313 [00:17<00:00, 18.02it/s, loss=0.4968]\n",
      "Epoch 17 | Training loss: 0.4968, validation accuracy: 0.7911, validation loss: 0.6528\n",
      "100%|██████████| 313/313 [00:17<00:00, 17.92it/s, loss=0.4912]\n",
      "Epoch 18 | Training loss: 0.4912, validation accuracy: 0.7846, validation loss: 0.7327\n",
      "100%|██████████| 313/313 [00:17<00:00, 17.90it/s, loss=0.4854]\n",
      "Epoch 19 | Training loss: 0.4854, validation accuracy: 0.7846, validation loss: 0.6965\n",
      "100%|██████████| 313/313 [00:17<00:00, 17.92it/s, loss=0.4863]\n",
      "Epoch 20 | Training loss: 0.4863, validation accuracy: 0.7854, validation loss: 0.7077\n",
      "100%|██████████| 313/313 [00:17<00:00, 17.91it/s, loss=0.4755]\n",
      "Epoch 21 | Training loss: 0.4755, validation accuracy: 0.7880, validation loss: 0.7186\n",
      "100%|██████████| 313/313 [00:17<00:00, 17.85it/s, loss=0.4757]\n",
      "Epoch 22 | Training loss: 0.4757, validation accuracy: 0.7882, validation loss: 0.6760\n",
      "100%|██████████| 313/313 [00:17<00:00, 17.92it/s, loss=0.4707]\n",
      "Epoch 23 | Training loss: 0.4707, validation accuracy: 0.7867, validation loss: 0.6853\n",
      "100%|██████████| 313/313 [00:17<00:00, 18.17it/s, loss=0.4683]\n",
      "Epoch 24 | Training loss: 0.4683, validation accuracy: 0.7879, validation loss: 0.6834\n",
      "100%|██████████| 313/313 [00:17<00:00, 17.81it/s, loss=0.4606]\n",
      "Epoch 25 | Training loss: 0.4606, validation accuracy: 0.7850, validation loss: 0.7300\n"
     ]
    }
   ],
   "source": [
    "epochs = 25\n",
    "\n",
    "for epoch in range(epochs):\n",
    "    train_loss = trainer.train_epoch(model, optimizer, dl[\"train\"])\n",
    "    optimizer.finish_epoch()\n",
    "    val_acc, val_loss = trainer.validation(model, dl[\"valid\"])\n",
    "    logger.log(\"Epoch\", epoch+1, \"|\", \n",
    "          f\"Training loss: {train_loss:.4f}, validation accuracy: {val_acc:.4f}, validation loss: {val_loss:.4f}\")"
   ]
  },
  {
   "cell_type": "code",
   "execution_count": 45,
   "id": "350d4a40-06ad-4f10-9267-a61c0f1813dc",
   "metadata": {},
   "outputs": [
    {
     "name": "stdout",
     "output_type": "stream",
     "text": [
      "Train: (0.8439, 0.45212881507873537)\n",
      "Valid: (0.785, 0.7299662733078003)\n"
     ]
    }
   ],
   "source": [
    "train_score = trainer.validation(model, dl[\"train\"])\n",
    "valid_score = trainer.validation(model, dl[\"valid\"])\n",
    "logger.log(\"Train:\", train_score)\n",
    "logger.log(\"Valid:\", valid_score)"
   ]
  },
  {
   "cell_type": "code",
   "execution_count": 46,
   "id": "a4f8ad19-18d4-47b9-a110-2170d7244506",
   "metadata": {},
   "outputs": [
    {
     "name": "stdout",
     "output_type": "stream",
     "text": [
      "RNA\n"
     ]
    }
   ],
   "source": [
    "optimizer.param_groups[0][\"method\"] = \"RNA\"\n",
    "logger.log(\"RNA\")\n",
    "model_acc = deepcopy(model)\n",
    "optimizer.accelerate()\n",
    "optimizer.store_parameters([model_acc.parameters()])"
   ]
  },
  {
   "cell_type": "code",
   "execution_count": 47,
   "id": "4ea3ae44-ac9e-4ffe-9a2b-11536016990f",
   "metadata": {
    "tags": []
   },
   "outputs": [
    {
     "name": "stdout",
     "output_type": "stream",
     "text": [
      "Train: (0.836975, 0.5067905898094177)\n",
      "Valid: (0.7757, 0.8614907432556153)\n"
     ]
    }
   ],
   "source": [
    "model_acc.to(trainer.device)\n",
    "train_score = trainer.validation(model_acc, dl[\"train\"])\n",
    "valid_score = trainer.validation(model_acc, dl[\"valid\"])\n",
    "logger.log(\"Train:\", train_score)\n",
    "logger.log(\"Valid:\", valid_score)"
   ]
  },
  {
   "cell_type": "code",
   "execution_count": 48,
   "id": "fb85579f-d72d-480a-b527-4178d92cde4b",
   "metadata": {},
   "outputs": [
    {
     "name": "stdout",
     "output_type": "stream",
     "text": [
      "RRE\n"
     ]
    }
   ],
   "source": [
    "optimizer.param_groups[0][\"method\"] = \"RRE\"\n",
    "logger.log(\"RRE\")\n",
    "model_acc = deepcopy(model)\n",
    "optimizer.accelerate()\n",
    "optimizer.store_parameters([model_acc.parameters()])"
   ]
  },
  {
   "cell_type": "code",
   "execution_count": 49,
   "id": "fc797e03-cc4f-4b6c-96fb-000c241a2baa",
   "metadata": {
    "tags": []
   },
   "outputs": [
    {
     "name": "stdout",
     "output_type": "stream",
     "text": [
      "Train: (0.837075, 0.5038022541046142)\n",
      "Valid: (0.7757, 0.861493316745758)\n"
     ]
    }
   ],
   "source": [
    "model_acc.to(trainer.device)\n",
    "train_score = trainer.validation(model_acc, dl[\"train\"])\n",
    "valid_score = trainer.validation(model_acc, dl[\"valid\"])\n",
    "logger.log(\"Train:\", train_score)\n",
    "logger.log(\"Valid:\", valid_score)"
   ]
  },
  {
   "cell_type": "code",
   "execution_count": 50,
   "id": "e4c2d05c-4654-4eb8-ac63-f13453d08d0f",
   "metadata": {},
   "outputs": [],
   "source": [
    "optimizer.param_groups[0][\"lr\"] = 1e-3"
   ]
  },
  {
   "cell_type": "code",
   "execution_count": 51,
   "id": "0a0525ec-812a-4599-b82c-4ecfb6115475",
   "metadata": {},
   "outputs": [
    {
     "name": "stdout",
     "output_type": "stream",
     "text": [
      "100%|██████████| 313/313 [00:16<00:00, 18.84it/s, loss=0.4483]\n",
      "Epoch 1 | Training loss: 0.4483, validation accuracy: 0.7882, validation loss: 0.6949\n",
      "100%|██████████| 313/313 [00:17<00:00, 17.73it/s, loss=0.4398]\n",
      "Epoch 2 | Training loss: 0.4398, validation accuracy: 0.7881, validation loss: 0.6837\n",
      "100%|██████████| 313/313 [00:17<00:00, 17.83it/s, loss=0.4377]\n",
      "Epoch 3 | Training loss: 0.4377, validation accuracy: 0.7904, validation loss: 0.6825\n",
      "100%|██████████| 313/313 [00:17<00:00, 18.06it/s, loss=0.4391]\n",
      "Epoch 4 | Training loss: 0.4391, validation accuracy: 0.7901, validation loss: 0.7223\n",
      "100%|██████████| 313/313 [00:17<00:00, 17.82it/s, loss=0.4426]\n",
      "Epoch 5 | Training loss: 0.4426, validation accuracy: 0.7901, validation loss: 0.7064\n",
      "100%|██████████| 313/313 [00:17<00:00, 17.84it/s, loss=0.4338]\n",
      "Epoch 6 | Training loss: 0.4338, validation accuracy: 0.7896, validation loss: 0.7120\n",
      "100%|██████████| 313/313 [00:17<00:00, 17.89it/s, loss=0.4334]\n",
      "Epoch 7 | Training loss: 0.4334, validation accuracy: 0.7908, validation loss: 0.6821\n",
      "100%|██████████| 313/313 [00:17<00:00, 17.82it/s, loss=0.4336]\n",
      "Epoch 8 | Training loss: 0.4336, validation accuracy: 0.7926, validation loss: 0.6964\n",
      "100%|██████████| 313/313 [00:17<00:00, 17.85it/s, loss=0.4319]\n",
      "Epoch 9 | Training loss: 0.4319, validation accuracy: 0.7896, validation loss: 0.6950\n",
      "100%|██████████| 313/313 [00:17<00:00, 18.11it/s, loss=0.4351]\n",
      "Epoch 10 | Training loss: 0.4351, validation accuracy: 0.7876, validation loss: 0.7221\n",
      "100%|██████████| 313/313 [00:17<00:00, 18.10it/s, loss=0.4340]\n",
      "Epoch 11 | Training loss: 0.4340, validation accuracy: 0.7915, validation loss: 0.6777\n",
      "100%|██████████| 313/313 [00:17<00:00, 18.13it/s, loss=0.4286]\n",
      "Epoch 12 | Training loss: 0.4286, validation accuracy: 0.7912, validation loss: 0.7137\n",
      "100%|██████████| 313/313 [00:17<00:00, 17.98it/s, loss=0.4274]\n",
      "Epoch 13 | Training loss: 0.4274, validation accuracy: 0.7905, validation loss: 0.6943\n",
      "100%|██████████| 313/313 [00:17<00:00, 17.82it/s, loss=0.4246]\n",
      "Epoch 14 | Training loss: 0.4246, validation accuracy: 0.7902, validation loss: 0.6915\n",
      "100%|██████████| 313/313 [00:17<00:00, 18.13it/s, loss=0.4279]\n",
      "Epoch 15 | Training loss: 0.4279, validation accuracy: 0.7859, validation loss: 0.7316\n",
      "100%|██████████| 313/313 [00:17<00:00, 17.89it/s, loss=0.4266]\n",
      "Epoch 16 | Training loss: 0.4266, validation accuracy: 0.7905, validation loss: 0.6918\n",
      "100%|██████████| 313/313 [00:17<00:00, 18.01it/s, loss=0.4250]\n",
      "Epoch 17 | Training loss: 0.4250, validation accuracy: 0.7875, validation loss: 0.7374\n",
      "100%|██████████| 313/313 [00:17<00:00, 17.97it/s, loss=0.4222]\n",
      "Epoch 18 | Training loss: 0.4222, validation accuracy: 0.7905, validation loss: 0.6978\n",
      "100%|██████████| 313/313 [00:17<00:00, 18.14it/s, loss=0.4231]\n",
      "Epoch 19 | Training loss: 0.4231, validation accuracy: 0.7893, validation loss: 0.7101\n",
      "100%|██████████| 313/313 [00:17<00:00, 17.84it/s, loss=0.4251]\n",
      "Epoch 20 | Training loss: 0.4251, validation accuracy: 0.7892, validation loss: 0.7083\n",
      "100%|██████████| 313/313 [00:17<00:00, 17.89it/s, loss=0.4227]\n",
      "Epoch 21 | Training loss: 0.4227, validation accuracy: 0.7872, validation loss: 0.6885\n",
      "100%|██████████| 313/313 [00:17<00:00, 18.19it/s, loss=0.4197]\n",
      "Epoch 22 | Training loss: 0.4197, validation accuracy: 0.7852, validation loss: 0.7888\n",
      "100%|██████████| 313/313 [00:17<00:00, 18.09it/s, loss=0.4226]\n",
      "Epoch 23 | Training loss: 0.4226, validation accuracy: 0.7892, validation loss: 0.7405\n",
      "100%|██████████| 313/313 [00:17<00:00, 18.00it/s, loss=0.4192]\n",
      "Epoch 24 | Training loss: 0.4192, validation accuracy: 0.7906, validation loss: 0.6716\n",
      "100%|██████████| 313/313 [00:17<00:00, 17.81it/s, loss=0.4220]\n",
      "Epoch 25 | Training loss: 0.4220, validation accuracy: 0.7918, validation loss: 0.6782\n"
     ]
    }
   ],
   "source": [
    "epochs = 25\n",
    "\n",
    "for epoch in range(epochs):\n",
    "    train_loss = trainer.train_epoch(model, optimizer, dl[\"train\"])\n",
    "    optimizer.finish_epoch()\n",
    "    val_acc, val_loss = trainer.validation(model, dl[\"valid\"])\n",
    "    logger.log(\"Epoch\", epoch+1, \"|\", \n",
    "          f\"Training loss: {train_loss:.4f}, validation accuracy: {val_acc:.4f}, validation loss: {val_loss:.4f}\")"
   ]
  },
  {
   "cell_type": "code",
   "execution_count": 52,
   "id": "5da88168-34f5-4e6c-b5ab-0450f22cd462",
   "metadata": {},
   "outputs": [
    {
     "name": "stdout",
     "output_type": "stream",
     "text": [
      "Train: (0.85815, 0.3986394860267639)\n",
      "Valid: (0.7918, 0.6781787811279297)\n"
     ]
    }
   ],
   "source": [
    "train_score = trainer.validation(model, dl[\"train\"])\n",
    "valid_score = trainer.validation(model, dl[\"valid\"])\n",
    "logger.log(\"Train:\", train_score)\n",
    "logger.log(\"Valid:\", valid_score)"
   ]
  },
  {
   "cell_type": "code",
   "execution_count": 53,
   "id": "a2385bfe-d836-431c-9e33-bff6413b5829",
   "metadata": {},
   "outputs": [
    {
     "name": "stdout",
     "output_type": "stream",
     "text": [
      "RNA\n"
     ]
    }
   ],
   "source": [
    "optimizer.param_groups[0][\"method\"] = \"RNA\"\n",
    "logger.log(\"RNA\")\n",
    "model_acc = deepcopy(model)\n",
    "optimizer.accelerate()\n",
    "optimizer.store_parameters([model_acc.parameters()])"
   ]
  },
  {
   "cell_type": "code",
   "execution_count": 54,
   "id": "7db96b9a-5534-4c1f-8e2c-0a4074e68c92",
   "metadata": {
    "tags": []
   },
   "outputs": [
    {
     "name": "stdout",
     "output_type": "stream",
     "text": [
      "Train: (0.85645, 0.4044085391044617)\n",
      "Valid: (0.7904, 0.6768853179931641)\n"
     ]
    }
   ],
   "source": [
    "model_acc.to(trainer.device)\n",
    "train_score = trainer.validation(model_acc, dl[\"train\"])\n",
    "valid_score = trainer.validation(model_acc, dl[\"valid\"])\n",
    "logger.log(\"Train:\", train_score)\n",
    "logger.log(\"Valid:\", valid_score)"
   ]
  },
  {
   "cell_type": "code",
   "execution_count": 55,
   "id": "3ba93042-7429-461d-8beb-8dd150a1b9f0",
   "metadata": {},
   "outputs": [
    {
     "name": "stdout",
     "output_type": "stream",
     "text": [
      "RRE\n"
     ]
    }
   ],
   "source": [
    "optimizer.param_groups[0][\"method\"] = \"RRE\"\n",
    "logger.log(\"RRE\")\n",
    "model_acc = deepcopy(model)\n",
    "optimizer.accelerate()\n",
    "optimizer.store_parameters([model_acc.parameters()])"
   ]
  },
  {
   "cell_type": "code",
   "execution_count": 56,
   "id": "5fd508a8-d0bf-4955-90e5-b8e0354afa83",
   "metadata": {
    "tags": []
   },
   "outputs": [
    {
     "name": "stdout",
     "output_type": "stream",
     "text": [
      "Train: (0.8578, 0.39985331292152404)\n",
      "Valid: (0.7904, 0.676885511302948)\n"
     ]
    }
   ],
   "source": [
    "model_acc.to(trainer.device)\n",
    "train_score = trainer.validation(model_acc, dl[\"train\"])\n",
    "valid_score = trainer.validation(model_acc, dl[\"valid\"])\n",
    "logger.log(\"Train:\", train_score)\n",
    "logger.log(\"Valid:\", valid_score)"
   ]
  },
  {
   "cell_type": "markdown",
   "id": "e7ed068f-63d6-4646-9ac8-5590d535e874",
   "metadata": {},
   "source": [
    "## Resizing"
   ]
  },
  {
   "cell_type": "code",
   "execution_count": 4,
   "id": "361743ba-10a6-4099-8fc7-b6ef1628cf6f",
   "metadata": {},
   "outputs": [],
   "source": [
    "trainer = Trainer(\n",
    "    device=\"cuda:0\",\n",
    "    loss_fn=nn.NLLLoss(reduction=\"mean\"),\n",
    "    val_loss_fn=nn.NLLLoss(reduction=\"sum\"),\n",
    ")"
   ]
  },
  {
   "cell_type": "code",
   "execution_count": 5,
   "id": "69b74ab2-fc7a-4b36-b908-0b8d7c710dfa",
   "metadata": {},
   "outputs": [
    {
     "name": "stderr",
     "output_type": "stream",
     "text": [
      "/home/i291318/miniconda3/lib/python3.8/site-packages/torchvision/transforms/transforms.py:257: UserWarning: Argument interpolation should be of type InterpolationMode instead of int. Please, use InterpolationMode enum.\n",
      "  warnings.warn(\n"
     ]
    },
    {
     "name": "stdout",
     "output_type": "stream",
     "text": [
      "Files already downloaded and verified\n",
      "Files already downloaded and verified\n"
     ]
    }
   ],
   "source": [
    "dl = load_dataset(\n",
    "    dataset=\"CIFAR10\",\n",
    "    root=os.path.join(\"/tmp\", os.environ[\"USER\"], \"CIFAR\"),\n",
    "    augmentation=transforms.RandomAffine(10, scale=(0.9, 1.1), translate=(0.2, 0.2)),\n",
    "    validation_split=0.2,\n",
    "    batch_size=128,\n",
    "    num_workers=10,\n",
    "    target_size=(224, 224),\n",
    ")"
   ]
  },
  {
   "cell_type": "code",
   "execution_count": 6,
   "id": "a01504e8-781a-40fe-9cac-7c8fc34ce85d",
   "metadata": {},
   "outputs": [
    {
     "data": {
      "text/plain": [
       "ResNet(\n",
       "  (conv1): Conv2d(3, 64, kernel_size=(7, 7), stride=(2, 2), padding=(3, 3), bias=False)\n",
       "  (bn1): BatchNorm2d(64, eps=1e-05, momentum=0.1, affine=True, track_running_stats=True)\n",
       "  (relu): ReLU(inplace=True)\n",
       "  (maxpool): MaxPool2d(kernel_size=3, stride=2, padding=1, dilation=1, ceil_mode=False)\n",
       "  (layer1): Sequential(\n",
       "    (0): BasicBlock(\n",
       "      (conv1): Conv2d(64, 64, kernel_size=(3, 3), stride=(1, 1), padding=(1, 1), bias=False)\n",
       "      (bn1): BatchNorm2d(64, eps=1e-05, momentum=0.1, affine=True, track_running_stats=True)\n",
       "      (relu): ReLU(inplace=True)\n",
       "      (conv2): Conv2d(64, 64, kernel_size=(3, 3), stride=(1, 1), padding=(1, 1), bias=False)\n",
       "      (bn2): BatchNorm2d(64, eps=1e-05, momentum=0.1, affine=True, track_running_stats=True)\n",
       "    )\n",
       "    (1): BasicBlock(\n",
       "      (conv1): Conv2d(64, 64, kernel_size=(3, 3), stride=(1, 1), padding=(1, 1), bias=False)\n",
       "      (bn1): BatchNorm2d(64, eps=1e-05, momentum=0.1, affine=True, track_running_stats=True)\n",
       "      (relu): ReLU(inplace=True)\n",
       "      (conv2): Conv2d(64, 64, kernel_size=(3, 3), stride=(1, 1), padding=(1, 1), bias=False)\n",
       "      (bn2): BatchNorm2d(64, eps=1e-05, momentum=0.1, affine=True, track_running_stats=True)\n",
       "    )\n",
       "  )\n",
       "  (layer2): Sequential(\n",
       "    (0): BasicBlock(\n",
       "      (conv1): Conv2d(64, 128, kernel_size=(3, 3), stride=(2, 2), padding=(1, 1), bias=False)\n",
       "      (bn1): BatchNorm2d(128, eps=1e-05, momentum=0.1, affine=True, track_running_stats=True)\n",
       "      (relu): ReLU(inplace=True)\n",
       "      (conv2): Conv2d(128, 128, kernel_size=(3, 3), stride=(1, 1), padding=(1, 1), bias=False)\n",
       "      (bn2): BatchNorm2d(128, eps=1e-05, momentum=0.1, affine=True, track_running_stats=True)\n",
       "      (downsample): Sequential(\n",
       "        (0): Conv2d(64, 128, kernel_size=(1, 1), stride=(2, 2), bias=False)\n",
       "        (1): BatchNorm2d(128, eps=1e-05, momentum=0.1, affine=True, track_running_stats=True)\n",
       "      )\n",
       "    )\n",
       "    (1): BasicBlock(\n",
       "      (conv1): Conv2d(128, 128, kernel_size=(3, 3), stride=(1, 1), padding=(1, 1), bias=False)\n",
       "      (bn1): BatchNorm2d(128, eps=1e-05, momentum=0.1, affine=True, track_running_stats=True)\n",
       "      (relu): ReLU(inplace=True)\n",
       "      (conv2): Conv2d(128, 128, kernel_size=(3, 3), stride=(1, 1), padding=(1, 1), bias=False)\n",
       "      (bn2): BatchNorm2d(128, eps=1e-05, momentum=0.1, affine=True, track_running_stats=True)\n",
       "    )\n",
       "  )\n",
       "  (layer3): Sequential(\n",
       "    (0): BasicBlock(\n",
       "      (conv1): Conv2d(128, 256, kernel_size=(3, 3), stride=(2, 2), padding=(1, 1), bias=False)\n",
       "      (bn1): BatchNorm2d(256, eps=1e-05, momentum=0.1, affine=True, track_running_stats=True)\n",
       "      (relu): ReLU(inplace=True)\n",
       "      (conv2): Conv2d(256, 256, kernel_size=(3, 3), stride=(1, 1), padding=(1, 1), bias=False)\n",
       "      (bn2): BatchNorm2d(256, eps=1e-05, momentum=0.1, affine=True, track_running_stats=True)\n",
       "      (downsample): Sequential(\n",
       "        (0): Conv2d(128, 256, kernel_size=(1, 1), stride=(2, 2), bias=False)\n",
       "        (1): BatchNorm2d(256, eps=1e-05, momentum=0.1, affine=True, track_running_stats=True)\n",
       "      )\n",
       "    )\n",
       "    (1): BasicBlock(\n",
       "      (conv1): Conv2d(256, 256, kernel_size=(3, 3), stride=(1, 1), padding=(1, 1), bias=False)\n",
       "      (bn1): BatchNorm2d(256, eps=1e-05, momentum=0.1, affine=True, track_running_stats=True)\n",
       "      (relu): ReLU(inplace=True)\n",
       "      (conv2): Conv2d(256, 256, kernel_size=(3, 3), stride=(1, 1), padding=(1, 1), bias=False)\n",
       "      (bn2): BatchNorm2d(256, eps=1e-05, momentum=0.1, affine=True, track_running_stats=True)\n",
       "    )\n",
       "  )\n",
       "  (layer4): Sequential(\n",
       "    (0): BasicBlock(\n",
       "      (conv1): Conv2d(256, 512, kernel_size=(3, 3), stride=(2, 2), padding=(1, 1), bias=False)\n",
       "      (bn1): BatchNorm2d(512, eps=1e-05, momentum=0.1, affine=True, track_running_stats=True)\n",
       "      (relu): ReLU(inplace=True)\n",
       "      (conv2): Conv2d(512, 512, kernel_size=(3, 3), stride=(1, 1), padding=(1, 1), bias=False)\n",
       "      (bn2): BatchNorm2d(512, eps=1e-05, momentum=0.1, affine=True, track_running_stats=True)\n",
       "      (downsample): Sequential(\n",
       "        (0): Conv2d(256, 512, kernel_size=(1, 1), stride=(2, 2), bias=False)\n",
       "        (1): BatchNorm2d(512, eps=1e-05, momentum=0.1, affine=True, track_running_stats=True)\n",
       "      )\n",
       "    )\n",
       "    (1): BasicBlock(\n",
       "      (conv1): Conv2d(512, 512, kernel_size=(3, 3), stride=(1, 1), padding=(1, 1), bias=False)\n",
       "      (bn1): BatchNorm2d(512, eps=1e-05, momentum=0.1, affine=True, track_running_stats=True)\n",
       "      (relu): ReLU(inplace=True)\n",
       "      (conv2): Conv2d(512, 512, kernel_size=(3, 3), stride=(1, 1), padding=(1, 1), bias=False)\n",
       "      (bn2): BatchNorm2d(512, eps=1e-05, momentum=0.1, affine=True, track_running_stats=True)\n",
       "    )\n",
       "  )\n",
       "  (avgpool): AdaptiveAvgPool2d(output_size=(1, 1))\n",
       "  (fc): Sequential(\n",
       "    (0): Linear(in_features=512, out_features=10, bias=True)\n",
       "    (1): LogSoftmax(dim=-1)\n",
       "  )\n",
       ")"
      ]
     },
     "execution_count": 6,
     "metadata": {},
     "output_type": "execute_result"
    }
   ],
   "source": [
    "model = models.resnet18(pretrained=False)\n",
    "model.fc = nn.Sequential(\n",
    "    nn.Linear(512, 10),\n",
    "    nn.LogSoftmax(-1)\n",
    ")\n",
    "model.to(trainer.device)"
   ]
  },
  {
   "cell_type": "code",
   "execution_count": 9,
   "id": "32fcdb05-181c-4cdc-a90d-b7563245fd85",
   "metadata": {},
   "outputs": [
    {
     "data": {
      "text/plain": [
       "(0.098, 2.5040012901306152)"
      ]
     },
     "execution_count": 9,
     "metadata": {},
     "output_type": "execute_result"
    }
   ],
   "source": [
    "trainer.validation(model, dl[\"valid\"])"
   ]
  },
  {
   "cell_type": "code",
   "execution_count": 10,
   "id": "530e430d-24f5-4fde-a34d-bc2d9ac1676d",
   "metadata": {},
   "outputs": [],
   "source": [
    "optimizer = AcceleratedSGD(model.parameters(), 1e-1, k=10, momentum=0.9, weight_decay=1e-5, lambda_=1e-8)\n",
    "logger = Logger(\"resnet_log_augmentation.txt\")"
   ]
  },
  {
   "cell_type": "code",
   "execution_count": null,
   "id": "a386bfa8-f1e7-4a66-af4d-86664c67f8c7",
   "metadata": {},
   "outputs": [
    {
     "name": "stdout",
     "output_type": "stream",
     "text": [
      "100%|██████████| 313/313 [02:02<00:00,  2.55it/s, loss=1.9874]\n",
      "Epoch 1 | Training loss: 1.9874, validation accuracy: 0.3737, validation loss: 1.6887\n",
      "100%|██████████| 313/313 [02:04<00:00,  2.52it/s, loss=1.5377]\n",
      "Epoch 2 | Training loss: 1.5377, validation accuracy: 0.4882, validation loss: 1.4083\n",
      "100%|██████████| 313/313 [02:03<00:00,  2.53it/s, loss=1.2829]\n",
      "Epoch 3 | Training loss: 1.2829, validation accuracy: 0.5515, validation loss: 1.2565\n",
      " 61%|██████▏   | 192/313 [01:13<00:45,  2.67it/s, loss=1.0968]"
     ]
    }
   ],
   "source": [
    "epochs = 25\n",
    "\n",
    "for epoch in range(epochs):\n",
    "    train_loss = trainer.train_epoch(model, optimizer, dl[\"train\"])\n",
    "    optimizer.finish_epoch()\n",
    "    val_acc, val_loss = trainer.validation(model, dl[\"valid\"])\n",
    "    logger.log(\"Epoch\", epoch+1, \"|\", \n",
    "          f\"Training loss: {train_loss:.4f}, validation accuracy: {val_acc:.4f}, validation loss: {val_loss:.4f}\")"
   ]
  },
  {
   "cell_type": "code",
   "execution_count": null,
   "id": "3b4901ab-eac9-46b5-bf44-ee1cad7570c4",
   "metadata": {},
   "outputs": [],
   "source": [
    "train_score = trainer.validation(model, dl[\"train\"])\n",
    "valid_score = trainer.validation(model, dl[\"valid\"])\n",
    "logger.log(\"Train:\", train_score)\n",
    "logger.log(\"Valid:\", valid_score)"
   ]
  },
  {
   "cell_type": "code",
   "execution_count": null,
   "id": "de503bd3-ce7a-42c7-93d8-8a9f7fd54054",
   "metadata": {},
   "outputs": [],
   "source": [
    "optimizer.param_groups[0][\"method\"] = \"RNA\"\n",
    "logger.log(\"RNA\")\n",
    "model_acc = deepcopy(model)\n",
    "optimizer.accelerate()\n",
    "optimizer.store_parameters([model_acc.parameters()])"
   ]
  },
  {
   "cell_type": "code",
   "execution_count": null,
   "id": "35b613a9-bea7-44ef-9501-ed575d38fba6",
   "metadata": {
    "tags": []
   },
   "outputs": [],
   "source": [
    "model_acc.to(trainer.device)\n",
    "train_score = trainer.validation(model_acc, dl[\"train\"])\n",
    "valid_score = trainer.validation(model_acc, dl[\"valid\"])\n",
    "logger.log(\"Train:\", train_score)\n",
    "logger.log(\"Valid:\", valid_score)"
   ]
  },
  {
   "cell_type": "code",
   "execution_count": null,
   "id": "a705ac05-b978-4a08-8aa1-22d951245301",
   "metadata": {},
   "outputs": [],
   "source": [
    "optimizer.param_groups[0][\"method\"] = \"RRE\"\n",
    "logger.log(\"RRE\")\n",
    "model_acc = deepcopy(model)\n",
    "optimizer.accelerate()\n",
    "optimizer.store_parameters([model_acc.parameters()])"
   ]
  },
  {
   "cell_type": "code",
   "execution_count": null,
   "id": "e8963407-2107-4979-a32c-af24529ffa00",
   "metadata": {
    "tags": []
   },
   "outputs": [],
   "source": [
    "model_acc.to(trainer.device)\n",
    "train_score = trainer.validation(model_acc, dl[\"train\"])\n",
    "valid_score = trainer.validation(model_acc, dl[\"valid\"])\n",
    "logger.log(\"Train:\", train_score)\n",
    "logger.log(\"Valid:\", valid_score)"
   ]
  },
  {
   "cell_type": "code",
   "execution_count": null,
   "id": "d76094de-8920-4732-9822-31dbc6f65a39",
   "metadata": {},
   "outputs": [],
   "source": [
    "optimizer.param_groups[0][\"lr\"] = 1e-2"
   ]
  },
  {
   "cell_type": "code",
   "execution_count": null,
   "id": "cc4c99ca-70bd-4813-a78b-9440458fc558",
   "metadata": {},
   "outputs": [],
   "source": [
    "epochs = 25\n",
    "\n",
    "for epoch in range(epochs):\n",
    "    train_loss = trainer.train_epoch(model, optimizer, dl[\"train\"])\n",
    "    optimizer.finish_epoch()\n",
    "    val_acc, val_loss = trainer.validation(model, dl[\"valid\"])\n",
    "    logger.log(\"Epoch\", epoch+1, \"|\", \n",
    "          f\"Training loss: {train_loss:.4f}, validation accuracy: {val_acc:.4f}, validation loss: {val_loss:.4f}\")"
   ]
  },
  {
   "cell_type": "code",
   "execution_count": null,
   "id": "092a44a2-0978-4a60-bada-305318c57a3c",
   "metadata": {},
   "outputs": [],
   "source": [
    "train_score = trainer.validation(model, dl[\"train\"])\n",
    "valid_score = trainer.validation(model, dl[\"valid\"])\n",
    "logger.log(\"Train:\", train_score)\n",
    "logger.log(\"Valid:\", valid_score)"
   ]
  },
  {
   "cell_type": "code",
   "execution_count": null,
   "id": "99d53692-e2ae-46cd-b314-6b8182f27a1c",
   "metadata": {},
   "outputs": [],
   "source": [
    "optimizer.param_groups[0][\"method\"] = \"RNA\"\n",
    "logger.log(\"RNA\")\n",
    "model_acc = deepcopy(model)\n",
    "optimizer.accelerate()\n",
    "optimizer.store_parameters([model_acc.parameters()])"
   ]
  },
  {
   "cell_type": "code",
   "execution_count": null,
   "id": "d109361e-1213-4c02-8e35-f3dc292f39cf",
   "metadata": {
    "tags": []
   },
   "outputs": [],
   "source": [
    "model_acc.to(trainer.device)\n",
    "train_score = trainer.validation(model_acc, dl[\"train\"])\n",
    "valid_score = trainer.validation(model_acc, dl[\"valid\"])\n",
    "logger.log(\"Train:\", train_score)\n",
    "logger.log(\"Valid:\", valid_score)"
   ]
  },
  {
   "cell_type": "code",
   "execution_count": null,
   "id": "8e448e3c-da41-492a-8c57-441d0e235b1d",
   "metadata": {},
   "outputs": [],
   "source": [
    "optimizer.param_groups[0][\"method\"] = \"RRE\"\n",
    "logger.log(\"RRE\")\n",
    "model_acc = deepcopy(model)\n",
    "optimizer.accelerate()\n",
    "optimizer.store_parameters([model_acc.parameters()])"
   ]
  },
  {
   "cell_type": "code",
   "execution_count": null,
   "id": "340a7ff4-08ab-46c4-a8dd-88ef49e4b087",
   "metadata": {
    "tags": []
   },
   "outputs": [],
   "source": [
    "model_acc.to(trainer.device)\n",
    "train_score = trainer.validation(model_acc, dl[\"train\"])\n",
    "valid_score = trainer.validation(model_acc, dl[\"valid\"])\n",
    "logger.log(\"Train:\", train_score)\n",
    "logger.log(\"Valid:\", valid_score)"
   ]
  },
  {
   "cell_type": "code",
   "execution_count": null,
   "id": "10023006-5655-4b7e-a895-ebed2aac0860",
   "metadata": {},
   "outputs": [],
   "source": [
    "optimizer.param_groups[0][\"lr\"] = 1e-3"
   ]
  },
  {
   "cell_type": "code",
   "execution_count": null,
   "id": "8e7ea704-33e5-4233-842b-97f13c6fb76d",
   "metadata": {},
   "outputs": [],
   "source": [
    "epochs = 25\n",
    "\n",
    "for epoch in range(epochs):\n",
    "    train_loss = trainer.train_epoch(model, optimizer, dl[\"train\"])\n",
    "    optimizer.finish_epoch()\n",
    "    val_acc, val_loss = trainer.validation(model, dl[\"valid\"])\n",
    "    logger.log(\"Epoch\", epoch+1, \"|\", \n",
    "          f\"Training loss: {train_loss:.4f}, validation accuracy: {val_acc:.4f}, validation loss: {val_loss:.4f}\")"
   ]
  },
  {
   "cell_type": "code",
   "execution_count": null,
   "id": "165a0620-f6da-44ae-97b1-a5de8a18c03c",
   "metadata": {},
   "outputs": [],
   "source": [
    "train_score = trainer.validation(model, dl[\"train\"])\n",
    "valid_score = trainer.validation(model, dl[\"valid\"])\n",
    "logger.log(\"Train:\", train_score)\n",
    "logger.log(\"Valid:\", valid_score)"
   ]
  },
  {
   "cell_type": "code",
   "execution_count": null,
   "id": "e43ffbb8-8f55-4218-8d1a-1a126a397b17",
   "metadata": {},
   "outputs": [],
   "source": [
    "optimizer.param_groups[0][\"method\"] = \"RNA\"\n",
    "logger.log(\"RNA\")\n",
    "model_acc = deepcopy(model)\n",
    "optimizer.accelerate()\n",
    "optimizer.store_parameters([model_acc.parameters()])"
   ]
  },
  {
   "cell_type": "code",
   "execution_count": null,
   "id": "ae47fb8e-88d8-4fc0-a915-b08d4ed2deb7",
   "metadata": {
    "tags": []
   },
   "outputs": [],
   "source": [
    "model_acc.to(trainer.device)\n",
    "train_score = trainer.validation(model_acc, dl[\"train\"])\n",
    "valid_score = trainer.validation(model_acc, dl[\"valid\"])\n",
    "logger.log(\"Train:\", train_score)\n",
    "logger.log(\"Valid:\", valid_score)"
   ]
  },
  {
   "cell_type": "code",
   "execution_count": null,
   "id": "06577bcf-716b-427d-aed1-f1f950e3aad6",
   "metadata": {},
   "outputs": [],
   "source": [
    "optimizer.param_groups[0][\"method\"] = \"RRE\"\n",
    "logger.log(\"RRE\")\n",
    "model_acc = deepcopy(model)\n",
    "optimizer.accelerate()\n",
    "optimizer.store_parameters([model_acc.parameters()])"
   ]
  },
  {
   "cell_type": "code",
   "execution_count": null,
   "id": "36bb1447-615a-4c47-8d09-0c15ab7c7a29",
   "metadata": {
    "tags": []
   },
   "outputs": [],
   "source": [
    "model_acc.to(trainer.device)\n",
    "train_score = trainer.validation(model_acc, dl[\"train\"])\n",
    "valid_score = trainer.validation(model_acc, dl[\"valid\"])\n",
    "logger.log(\"Train:\", train_score)\n",
    "logger.log(\"Valid:\", valid_score)"
   ]
  },
  {
   "cell_type": "code",
   "execution_count": null,
   "id": "66b26f07-1eed-4164-9a30-3dc133b267b1",
   "metadata": {},
   "outputs": [],
   "source": [
    "exit"
   ]
  },
  {
   "cell_type": "code",
   "execution_count": null,
   "id": "e29c8704-4657-4b5c-8ae1-e4dc0ebad12a",
   "metadata": {},
   "outputs": [],
   "source": []
  }
 ],
 "metadata": {
  "kernelspec": {
   "display_name": "Python 3",
   "language": "python",
   "name": "python3"
  },
  "language_info": {
   "codemirror_mode": {
    "name": "ipython",
    "version": 3
   },
   "file_extension": ".py",
   "mimetype": "text/x-python",
   "name": "python",
   "nbconvert_exporter": "python",
   "pygments_lexer": "ipython3",
   "version": "3.8.5"
  }
 },
 "nbformat": 4,
 "nbformat_minor": 5
}
