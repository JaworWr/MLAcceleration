{
 "cells": [
  {
   "cell_type": "code",
   "execution_count": 1,
   "id": "24bd44cf-136d-48c7-a346-32979949e27d",
   "metadata": {},
   "outputs": [],
   "source": [
    "import sys\n",
    "sys.path.insert(0, \"../..\")"
   ]
  },
  {
   "cell_type": "code",
   "execution_count": 2,
   "id": "anonymous-tackle",
   "metadata": {},
   "outputs": [],
   "source": [
    "import torch\n",
    "from torch import nn\n",
    "from torchvision import models\n",
    "from copy import deepcopy\n",
    "import os\n",
    "\n",
    "from nn_extrapolation import AcceleratedSGD\n",
    "from nn_utils import *"
   ]
  },
  {
   "cell_type": "code",
   "execution_count": 3,
   "id": "18c86948-09d6-4e27-804f-dd415a0c371c",
   "metadata": {},
   "outputs": [
    {
     "data": {
      "text/plain": [
       "True"
      ]
     },
     "execution_count": 3,
     "metadata": {},
     "output_type": "execute_result"
    }
   ],
   "source": [
    "torch.cuda.is_available()"
   ]
  },
  {
   "cell_type": "code",
   "execution_count": 4,
   "id": "through-stopping",
   "metadata": {},
   "outputs": [],
   "source": [
    "trainer = Trainer(\n",
    "    device=\"cuda:0\",\n",
    "    loss_fn=nn.NLLLoss(reduction=\"mean\"),\n",
    "    val_loss_fn=nn.NLLLoss(reduction=\"sum\"),\n",
    ")"
   ]
  },
  {
   "cell_type": "code",
   "execution_count": 5,
   "id": "e1f93199-29a0-45a5-ac52-24e9eafd4c90",
   "metadata": {},
   "outputs": [
    {
     "name": "stdout",
     "output_type": "stream",
     "text": [
      "Files already downloaded and verified\n",
      "Files already downloaded and verified\n"
     ]
    }
   ],
   "source": [
    "dl = load_dataset(\n",
    "    dataset=\"CIFAR10\",\n",
    "    root=os.path.join(\"/tmp\", os.environ[\"USER\"], \"CIFAR\"),\n",
    "    augmentation=transforms.RandomAffine(10, scale=(0.9, 1.1), translate=(0.2, 0.2)),\n",
    "    validation_split=0.2,\n",
    "    batch_size=128,\n",
    "    num_workers=10,\n",
    ")"
   ]
  },
  {
   "cell_type": "code",
   "execution_count": 6,
   "id": "broke-filename",
   "metadata": {
    "tags": []
   },
   "outputs": [
    {
     "data": {
      "text/plain": [
       "ResNet(\n",
       "  (conv1): Conv2d(3, 64, kernel_size=(7, 7), stride=(2, 2), padding=(3, 3), bias=False)\n",
       "  (bn1): BatchNorm2d(64, eps=1e-05, momentum=0.1, affine=True, track_running_stats=True)\n",
       "  (relu): ReLU(inplace=True)\n",
       "  (maxpool): MaxPool2d(kernel_size=3, stride=2, padding=1, dilation=1, ceil_mode=False)\n",
       "  (layer1): Sequential(\n",
       "    (0): BasicBlock(\n",
       "      (conv1): Conv2d(64, 64, kernel_size=(3, 3), stride=(1, 1), padding=(1, 1), bias=False)\n",
       "      (bn1): BatchNorm2d(64, eps=1e-05, momentum=0.1, affine=True, track_running_stats=True)\n",
       "      (relu): ReLU(inplace=True)\n",
       "      (conv2): Conv2d(64, 64, kernel_size=(3, 3), stride=(1, 1), padding=(1, 1), bias=False)\n",
       "      (bn2): BatchNorm2d(64, eps=1e-05, momentum=0.1, affine=True, track_running_stats=True)\n",
       "    )\n",
       "    (1): BasicBlock(\n",
       "      (conv1): Conv2d(64, 64, kernel_size=(3, 3), stride=(1, 1), padding=(1, 1), bias=False)\n",
       "      (bn1): BatchNorm2d(64, eps=1e-05, momentum=0.1, affine=True, track_running_stats=True)\n",
       "      (relu): ReLU(inplace=True)\n",
       "      (conv2): Conv2d(64, 64, kernel_size=(3, 3), stride=(1, 1), padding=(1, 1), bias=False)\n",
       "      (bn2): BatchNorm2d(64, eps=1e-05, momentum=0.1, affine=True, track_running_stats=True)\n",
       "    )\n",
       "  )\n",
       "  (layer2): Sequential(\n",
       "    (0): BasicBlock(\n",
       "      (conv1): Conv2d(64, 128, kernel_size=(3, 3), stride=(2, 2), padding=(1, 1), bias=False)\n",
       "      (bn1): BatchNorm2d(128, eps=1e-05, momentum=0.1, affine=True, track_running_stats=True)\n",
       "      (relu): ReLU(inplace=True)\n",
       "      (conv2): Conv2d(128, 128, kernel_size=(3, 3), stride=(1, 1), padding=(1, 1), bias=False)\n",
       "      (bn2): BatchNorm2d(128, eps=1e-05, momentum=0.1, affine=True, track_running_stats=True)\n",
       "      (downsample): Sequential(\n",
       "        (0): Conv2d(64, 128, kernel_size=(1, 1), stride=(2, 2), bias=False)\n",
       "        (1): BatchNorm2d(128, eps=1e-05, momentum=0.1, affine=True, track_running_stats=True)\n",
       "      )\n",
       "    )\n",
       "    (1): BasicBlock(\n",
       "      (conv1): Conv2d(128, 128, kernel_size=(3, 3), stride=(1, 1), padding=(1, 1), bias=False)\n",
       "      (bn1): BatchNorm2d(128, eps=1e-05, momentum=0.1, affine=True, track_running_stats=True)\n",
       "      (relu): ReLU(inplace=True)\n",
       "      (conv2): Conv2d(128, 128, kernel_size=(3, 3), stride=(1, 1), padding=(1, 1), bias=False)\n",
       "      (bn2): BatchNorm2d(128, eps=1e-05, momentum=0.1, affine=True, track_running_stats=True)\n",
       "    )\n",
       "  )\n",
       "  (layer3): Sequential(\n",
       "    (0): BasicBlock(\n",
       "      (conv1): Conv2d(128, 256, kernel_size=(3, 3), stride=(2, 2), padding=(1, 1), bias=False)\n",
       "      (bn1): BatchNorm2d(256, eps=1e-05, momentum=0.1, affine=True, track_running_stats=True)\n",
       "      (relu): ReLU(inplace=True)\n",
       "      (conv2): Conv2d(256, 256, kernel_size=(3, 3), stride=(1, 1), padding=(1, 1), bias=False)\n",
       "      (bn2): BatchNorm2d(256, eps=1e-05, momentum=0.1, affine=True, track_running_stats=True)\n",
       "      (downsample): Sequential(\n",
       "        (0): Conv2d(128, 256, kernel_size=(1, 1), stride=(2, 2), bias=False)\n",
       "        (1): BatchNorm2d(256, eps=1e-05, momentum=0.1, affine=True, track_running_stats=True)\n",
       "      )\n",
       "    )\n",
       "    (1): BasicBlock(\n",
       "      (conv1): Conv2d(256, 256, kernel_size=(3, 3), stride=(1, 1), padding=(1, 1), bias=False)\n",
       "      (bn1): BatchNorm2d(256, eps=1e-05, momentum=0.1, affine=True, track_running_stats=True)\n",
       "      (relu): ReLU(inplace=True)\n",
       "      (conv2): Conv2d(256, 256, kernel_size=(3, 3), stride=(1, 1), padding=(1, 1), bias=False)\n",
       "      (bn2): BatchNorm2d(256, eps=1e-05, momentum=0.1, affine=True, track_running_stats=True)\n",
       "    )\n",
       "  )\n",
       "  (layer4): Sequential(\n",
       "    (0): BasicBlock(\n",
       "      (conv1): Conv2d(256, 512, kernel_size=(3, 3), stride=(2, 2), padding=(1, 1), bias=False)\n",
       "      (bn1): BatchNorm2d(512, eps=1e-05, momentum=0.1, affine=True, track_running_stats=True)\n",
       "      (relu): ReLU(inplace=True)\n",
       "      (conv2): Conv2d(512, 512, kernel_size=(3, 3), stride=(1, 1), padding=(1, 1), bias=False)\n",
       "      (bn2): BatchNorm2d(512, eps=1e-05, momentum=0.1, affine=True, track_running_stats=True)\n",
       "      (downsample): Sequential(\n",
       "        (0): Conv2d(256, 512, kernel_size=(1, 1), stride=(2, 2), bias=False)\n",
       "        (1): BatchNorm2d(512, eps=1e-05, momentum=0.1, affine=True, track_running_stats=True)\n",
       "      )\n",
       "    )\n",
       "    (1): BasicBlock(\n",
       "      (conv1): Conv2d(512, 512, kernel_size=(3, 3), stride=(1, 1), padding=(1, 1), bias=False)\n",
       "      (bn1): BatchNorm2d(512, eps=1e-05, momentum=0.1, affine=True, track_running_stats=True)\n",
       "      (relu): ReLU(inplace=True)\n",
       "      (conv2): Conv2d(512, 512, kernel_size=(3, 3), stride=(1, 1), padding=(1, 1), bias=False)\n",
       "      (bn2): BatchNorm2d(512, eps=1e-05, momentum=0.1, affine=True, track_running_stats=True)\n",
       "    )\n",
       "  )\n",
       "  (avgpool): AdaptiveAvgPool2d(output_size=(1, 1))\n",
       "  (fc): Sequential(\n",
       "    (0): Linear(in_features=512, out_features=10, bias=True)\n",
       "    (1): LogSoftmax(dim=-1)\n",
       "  )\n",
       ")"
      ]
     },
     "execution_count": 6,
     "metadata": {},
     "output_type": "execute_result"
    }
   ],
   "source": [
    "model = models.resnet18(pretrained=False)\n",
    "model.fc = nn.Sequential(\n",
    "    nn.Linear(512, 10),\n",
    "    nn.LogSoftmax(-1)\n",
    ")\n",
    "initial_state = deepcopy(model.state_dict())\n",
    "model.to(trainer.device)"
   ]
  },
  {
   "cell_type": "code",
   "execution_count": 7,
   "id": "ae667f87-be10-4323-b0df-6d3e3d42fe5e",
   "metadata": {},
   "outputs": [],
   "source": [
    "state_path = \"resnet_initial_state.pth\"\n",
    "if os.path.exists(state_path):\n",
    "    initial_state = torch.load(state_path)\n",
    "    model.load_state_dict(initial_state)\n",
    "    model.to(trainer.device)\n",
    "else:\n",
    "    torch.save(initial_state, state_path)"
   ]
  },
  {
   "cell_type": "code",
   "execution_count": 8,
   "id": "careful-suspect",
   "metadata": {},
   "outputs": [
    {
     "data": {
      "text/plain": [
       "(0.1024, 2.3916895107269287)"
      ]
     },
     "execution_count": 8,
     "metadata": {},
     "output_type": "execute_result"
    }
   ],
   "source": [
    "trainer.validation(model, dl[\"valid\"])"
   ]
  },
  {
   "cell_type": "markdown",
   "id": "proud-routine",
   "metadata": {},
   "source": [
    "## No momentum"
   ]
  },
  {
   "cell_type": "code",
   "execution_count": 10,
   "id": "employed-tennis",
   "metadata": {},
   "outputs": [
    {
     "data": {
      "text/plain": [
       "<torch._C.Generator at 0x7f0654071110>"
      ]
     },
     "execution_count": 10,
     "metadata": {},
     "output_type": "execute_result"
    }
   ],
   "source": [
    "optimizer = AcceleratedSGD(model.parameters(), 1e-1, k=10, momentum=0, weight_decay=0, lambda_=1e-8)\n",
    "logger = Logger(\"resnet_log_augmentation_no_momentum.txt.no_resizing\")\n",
    "torch.manual_seed(2020)"
   ]
  },
  {
   "cell_type": "code",
   "execution_count": 11,
   "id": "fatty-pendant",
   "metadata": {},
   "outputs": [
    {
     "name": "stdout",
     "output_type": "stream",
     "text": [
      "100%|██████████████████████████████████████████████████████████| 313/313 [00:05<00:00, 55.69it/s, loss=1.9005]\n",
      "Epoch 1 | Training loss: 1.9005, validation accuracy: 0.3473, validation loss: 2.1367\n",
      "100%|██████████████████████████████████████████████████████████| 313/313 [00:05<00:00, 55.81it/s, loss=1.5258]\n",
      "Epoch 2 | Training loss: 1.5258, validation accuracy: 0.3476, validation loss: 1.9506\n",
      "100%|██████████████████████████████████████████████████████████| 313/313 [00:05<00:00, 54.82it/s, loss=1.3823]\n",
      "Epoch 3 | Training loss: 1.3823, validation accuracy: 0.4380, validation loss: 1.9812\n",
      "100%|██████████████████████████████████████████████████████████| 313/313 [00:05<00:00, 55.15it/s, loss=1.2835]\n",
      "Epoch 4 | Training loss: 1.2835, validation accuracy: 0.5254, validation loss: 1.3274\n",
      "100%|██████████████████████████████████████████████████████████| 313/313 [00:05<00:00, 55.11it/s, loss=1.1959]\n",
      "Epoch 5 | Training loss: 1.1959, validation accuracy: 0.5035, validation loss: 1.5389\n",
      "100%|██████████████████████████████████████████████████████████| 313/313 [00:05<00:00, 54.43it/s, loss=1.1281]\n",
      "Epoch 6 | Training loss: 1.1281, validation accuracy: 0.5969, validation loss: 1.1479\n",
      "100%|██████████████████████████████████████████████████████████| 313/313 [00:05<00:00, 54.08it/s, loss=1.0777]\n",
      "Epoch 7 | Training loss: 1.0777, validation accuracy: 0.6339, validation loss: 1.0580\n",
      "100%|██████████████████████████████████████████████████████████| 313/313 [00:05<00:00, 53.40it/s, loss=1.0331]\n",
      "Epoch 8 | Training loss: 1.0331, validation accuracy: 0.6314, validation loss: 1.0549\n",
      "100%|██████████████████████████████████████████████████████████| 313/313 [00:05<00:00, 52.47it/s, loss=0.9872]\n",
      "Epoch 9 | Training loss: 0.9872, validation accuracy: 0.6671, validation loss: 0.9531\n",
      "100%|██████████████████████████████████████████████████████████| 313/313 [00:05<00:00, 53.45it/s, loss=0.9494]\n",
      "Epoch 10 | Training loss: 0.9494, validation accuracy: 0.6414, validation loss: 1.0093\n",
      "100%|██████████████████████████████████████████████████████████| 313/313 [00:05<00:00, 53.40it/s, loss=0.9205]\n",
      "Epoch 11 | Training loss: 0.9205, validation accuracy: 0.6469, validation loss: 1.0485\n",
      "100%|██████████████████████████████████████████████████████████| 313/313 [00:05<00:00, 54.14it/s, loss=0.8956]\n",
      "Epoch 12 | Training loss: 0.8956, validation accuracy: 0.6811, validation loss: 0.9184\n",
      "100%|██████████████████████████████████████████████████████████| 313/313 [00:05<00:00, 53.44it/s, loss=0.8586]\n",
      "Epoch 13 | Training loss: 0.8586, validation accuracy: 0.6396, validation loss: 1.1404\n",
      "100%|██████████████████████████████████████████████████████████| 313/313 [00:06<00:00, 51.18it/s, loss=0.8409]\n",
      "Epoch 14 | Training loss: 0.8409, validation accuracy: 0.6713, validation loss: 0.9553\n",
      "100%|██████████████████████████████████████████████████████████| 313/313 [00:05<00:00, 53.17it/s, loss=0.8155]\n",
      "Epoch 15 | Training loss: 0.8155, validation accuracy: 0.6954, validation loss: 0.8945\n",
      "100%|██████████████████████████████████████████████████████████| 313/313 [00:05<00:00, 54.65it/s, loss=0.7959]\n",
      "Epoch 16 | Training loss: 0.7959, validation accuracy: 0.7072, validation loss: 0.8538\n",
      "100%|██████████████████████████████████████████████████████████| 313/313 [00:05<00:00, 54.69it/s, loss=0.7748]\n",
      "Epoch 17 | Training loss: 0.7748, validation accuracy: 0.7198, validation loss: 0.7955\n",
      "100%|██████████████████████████████████████████████████████████| 313/313 [00:05<00:00, 54.61it/s, loss=0.7585]\n",
      "Epoch 18 | Training loss: 0.7585, validation accuracy: 0.7143, validation loss: 0.8723\n",
      "100%|██████████████████████████████████████████████████████████| 313/313 [00:05<00:00, 54.59it/s, loss=0.7363]\n",
      "Epoch 19 | Training loss: 0.7363, validation accuracy: 0.7312, validation loss: 0.7770\n",
      "100%|██████████████████████████████████████████████████████████| 313/313 [00:05<00:00, 55.12it/s, loss=0.7233]\n",
      "Epoch 20 | Training loss: 0.7233, validation accuracy: 0.7025, validation loss: 0.8835\n",
      "100%|██████████████████████████████████████████████████████████| 313/313 [00:05<00:00, 54.71it/s, loss=0.7006]\n",
      "Epoch 21 | Training loss: 0.7006, validation accuracy: 0.7280, validation loss: 0.7900\n",
      "100%|██████████████████████████████████████████████████████████| 313/313 [00:05<00:00, 54.79it/s, loss=0.6902]\n",
      "Epoch 22 | Training loss: 0.6902, validation accuracy: 0.7161, validation loss: 0.8394\n",
      "100%|██████████████████████████████████████████████████████████| 313/313 [00:05<00:00, 55.05it/s, loss=0.6767]\n",
      "Epoch 23 | Training loss: 0.6767, validation accuracy: 0.7491, validation loss: 0.7362\n",
      "100%|██████████████████████████████████████████████████████████| 313/313 [00:05<00:00, 55.14it/s, loss=0.6638]\n",
      "Epoch 24 | Training loss: 0.6638, validation accuracy: 0.7299, validation loss: 0.8007\n",
      "100%|██████████████████████████████████████████████████████████| 313/313 [00:05<00:00, 55.15it/s, loss=0.6499]\n",
      "Epoch 25 | Training loss: 0.6499, validation accuracy: 0.7601, validation loss: 0.7077\n",
      "100%|██████████████████████████████████████████████████████████| 313/313 [00:05<00:00, 54.79it/s, loss=0.6353]\n",
      "Epoch 26 | Training loss: 0.6353, validation accuracy: 0.7431, validation loss: 0.7699\n",
      "100%|██████████████████████████████████████████████████████████| 313/313 [00:05<00:00, 55.28it/s, loss=0.6295]\n",
      "Epoch 27 | Training loss: 0.6295, validation accuracy: 0.7489, validation loss: 0.7579\n",
      "100%|██████████████████████████████████████████████████████████| 313/313 [00:05<00:00, 54.70it/s, loss=0.6149]\n",
      "Epoch 28 | Training loss: 0.6149, validation accuracy: 0.7581, validation loss: 0.7151\n",
      "100%|██████████████████████████████████████████████████████████| 313/313 [00:05<00:00, 53.86it/s, loss=0.5996]\n",
      "Epoch 29 | Training loss: 0.5996, validation accuracy: 0.7552, validation loss: 0.7551\n",
      "100%|██████████████████████████████████████████████████████████| 313/313 [00:05<00:00, 53.64it/s, loss=0.5926]\n",
      "Epoch 30 | Training loss: 0.5926, validation accuracy: 0.7431, validation loss: 0.7959\n",
      "100%|██████████████████████████████████████████████████████████| 313/313 [00:06<00:00, 51.62it/s, loss=0.5801]\n",
      "Epoch 31 | Training loss: 0.5801, validation accuracy: 0.7535, validation loss: 0.7552\n",
      "100%|██████████████████████████████████████████████████████████| 313/313 [00:05<00:00, 53.63it/s, loss=0.5716]\n",
      "Epoch 32 | Training loss: 0.5716, validation accuracy: 0.7545, validation loss: 0.7426\n",
      "100%|██████████████████████████████████████████████████████████| 313/313 [00:05<00:00, 53.37it/s, loss=0.5575]\n",
      "Epoch 33 | Training loss: 0.5575, validation accuracy: 0.7550, validation loss: 0.7610\n",
      "100%|██████████████████████████████████████████████████████████| 313/313 [00:05<00:00, 53.84it/s, loss=0.5528]\n",
      "Epoch 34 | Training loss: 0.5528, validation accuracy: 0.7541, validation loss: 0.7519\n",
      "100%|██████████████████████████████████████████████████████████| 313/313 [00:05<00:00, 53.43it/s, loss=0.5432]\n",
      "Epoch 35 | Training loss: 0.5432, validation accuracy: 0.7127, validation loss: 0.9676\n",
      "100%|██████████████████████████████████████████████████████████| 313/313 [00:05<00:00, 53.05it/s, loss=0.5276]\n",
      "Epoch 36 | Training loss: 0.5276, validation accuracy: 0.7639, validation loss: 0.7270\n",
      "100%|██████████████████████████████████████████████████████████| 313/313 [00:06<00:00, 51.66it/s, loss=0.5256]\n",
      "Epoch 37 | Training loss: 0.5256, validation accuracy: 0.7483, validation loss: 0.8022\n",
      "100%|██████████████████████████████████████████████████████████| 313/313 [00:05<00:00, 53.11it/s, loss=0.5165]\n",
      "Epoch 38 | Training loss: 0.5165, validation accuracy: 0.7690, validation loss: 0.7031\n",
      "100%|██████████████████████████████████████████████████████████| 313/313 [00:05<00:00, 53.04it/s, loss=0.5033]\n",
      "Epoch 39 | Training loss: 0.5033, validation accuracy: 0.7495, validation loss: 0.8115\n",
      "100%|██████████████████████████████████████████████████████████| 313/313 [00:05<00:00, 52.95it/s, loss=0.4987]\n",
      "Epoch 40 | Training loss: 0.4987, validation accuracy: 0.7672, validation loss: 0.7299\n",
      "100%|██████████████████████████████████████████████████████████| 313/313 [00:05<00:00, 53.25it/s, loss=0.4905]\n",
      "Epoch 41 | Training loss: 0.4905, validation accuracy: 0.7699, validation loss: 0.6958\n",
      "100%|██████████████████████████████████████████████████████████| 313/313 [00:05<00:00, 53.32it/s, loss=0.4786]\n",
      "Epoch 42 | Training loss: 0.4786, validation accuracy: 0.7793, validation loss: 0.6973\n",
      "100%|██████████████████████████████████████████████████████████| 313/313 [00:05<00:00, 52.77it/s, loss=0.4754]\n",
      "Epoch 43 | Training loss: 0.4754, validation accuracy: 0.7725, validation loss: 0.7345\n",
      "100%|██████████████████████████████████████████████████████████| 313/313 [00:05<00:00, 53.54it/s, loss=0.4638]\n",
      "Epoch 44 | Training loss: 0.4638, validation accuracy: 0.7740, validation loss: 0.7050\n",
      "100%|██████████████████████████████████████████████████████████| 313/313 [00:05<00:00, 53.61it/s, loss=0.4542]\n",
      "Epoch 45 | Training loss: 0.4542, validation accuracy: 0.7818, validation loss: 0.7197\n"
     ]
    }
   ],
   "source": [
    "epochs = 45\n",
    "\n",
    "for epoch in range(epochs):\n",
    "    train_loss = trainer.train_epoch(model, optimizer, dl[\"train\"])\n",
    "    optimizer.finish_epoch()\n",
    "    val_acc, val_loss = trainer.validation(model, dl[\"valid\"])\n",
    "    logger.log(\"Epoch\", epoch+1, \"|\", \n",
    "          f\"Training loss: {train_loss:.4f}, validation accuracy: {val_acc:.4f}, validation loss: {val_loss:.4f}\")"
   ]
  },
  {
   "cell_type": "code",
   "execution_count": 12,
   "id": "metallic-workstation",
   "metadata": {},
   "outputs": [
    {
     "name": "stdout",
     "output_type": "stream",
     "text": [
      "Train: (0.841075, 0.4407322925567627)\n",
      "Valid: (0.7818, 0.7197161993026734)\n"
     ]
    }
   ],
   "source": [
    "train_score = trainer.validation(model, dl[\"train\"])\n",
    "valid_score = trainer.validation(model, dl[\"valid\"])\n",
    "logger.log(\"Train:\", train_score)\n",
    "logger.log(\"Valid:\", valid_score)"
   ]
  },
  {
   "cell_type": "code",
   "execution_count": 13,
   "id": "pacific-thirty",
   "metadata": {},
   "outputs": [
    {
     "name": "stdout",
     "output_type": "stream",
     "text": [
      "RNA\n"
     ]
    }
   ],
   "source": [
    "optimizer.param_groups[0][\"method\"] = \"RNA\"\n",
    "logger.log(\"RNA\")\n",
    "model_acc = deepcopy(model)\n",
    "optimizer.accelerate()\n",
    "optimizer.store_parameters([model_acc.parameters()])"
   ]
  },
  {
   "cell_type": "code",
   "execution_count": 14,
   "id": "faced-tribe",
   "metadata": {
    "tags": []
   },
   "outputs": [
    {
     "name": "stdout",
     "output_type": "stream",
     "text": [
      "Train: (0.8447, 0.43828747572898863)\n",
      "Valid: (0.7999, 0.620662706565857)\n"
     ]
    }
   ],
   "source": [
    "model_acc.to(trainer.device)\n",
    "train_score = trainer.validation(model_acc, dl[\"train\"])\n",
    "valid_score = trainer.validation(model_acc, dl[\"valid\"])\n",
    "logger.log(\"Train:\", train_score)\n",
    "logger.log(\"Valid:\", valid_score)"
   ]
  },
  {
   "cell_type": "code",
   "execution_count": 15,
   "id": "0a99436e-e283-4601-a51b-99ced3943b0b",
   "metadata": {},
   "outputs": [
    {
     "name": "stdout",
     "output_type": "stream",
     "text": [
      "RRE\n"
     ]
    }
   ],
   "source": [
    "optimizer.param_groups[0][\"method\"] = \"RRE\"\n",
    "logger.log(\"RRE\")\n",
    "model_acc = deepcopy(model)\n",
    "optimizer.accelerate()\n",
    "optimizer.store_parameters([model_acc.parameters()])"
   ]
  },
  {
   "cell_type": "code",
   "execution_count": 16,
   "id": "f44305f0-dc05-4bea-b6be-139178f10489",
   "metadata": {
    "tags": []
   },
   "outputs": [
    {
     "name": "stdout",
     "output_type": "stream",
     "text": [
      "Train: (0.84675, 0.4382346224784851)\n",
      "Valid: (0.7999, 0.6206391641616821)\n"
     ]
    }
   ],
   "source": [
    "model_acc.to(trainer.device)\n",
    "train_score = trainer.validation(model_acc, dl[\"train\"])\n",
    "valid_score = trainer.validation(model_acc, dl[\"valid\"])\n",
    "logger.log(\"Train:\", train_score)\n",
    "logger.log(\"Valid:\", valid_score)"
   ]
  },
  {
   "cell_type": "code",
   "execution_count": 17,
   "id": "regulated-globe",
   "metadata": {},
   "outputs": [],
   "source": [
    "optimizer.param_groups[0][\"lr\"] = 1e-2"
   ]
  },
  {
   "cell_type": "code",
   "execution_count": 18,
   "id": "4926f98f-aed8-43dc-9c6a-eb426240eadd",
   "metadata": {},
   "outputs": [
    {
     "name": "stdout",
     "output_type": "stream",
     "text": [
      "100%|██████████████████████████████████████████████████████████| 313/313 [00:05<00:00, 54.34it/s, loss=0.3787]\n",
      "Epoch 1 | Training loss: 0.3787, validation accuracy: 0.8047, validation loss: 0.6223\n",
      "100%|██████████████████████████████████████████████████████████| 313/313 [00:05<00:00, 53.73it/s, loss=0.3520]\n",
      "Epoch 2 | Training loss: 0.3520, validation accuracy: 0.8095, validation loss: 0.6253\n",
      "100%|██████████████████████████████████████████████████████████| 313/313 [00:05<00:00, 54.73it/s, loss=0.3389]\n",
      "Epoch 3 | Training loss: 0.3389, validation accuracy: 0.8090, validation loss: 0.6298\n",
      "100%|██████████████████████████████████████████████████████████| 313/313 [00:05<00:00, 54.16it/s, loss=0.3321]\n",
      "Epoch 4 | Training loss: 0.3321, validation accuracy: 0.8101, validation loss: 0.6292\n",
      "100%|██████████████████████████████████████████████████████████| 313/313 [00:05<00:00, 54.32it/s, loss=0.3288]\n",
      "Epoch 5 | Training loss: 0.3288, validation accuracy: 0.8132, validation loss: 0.6317\n",
      "100%|██████████████████████████████████████████████████████████| 313/313 [00:05<00:00, 54.09it/s, loss=0.3196]\n",
      "Epoch 6 | Training loss: 0.3196, validation accuracy: 0.8131, validation loss: 0.6369\n",
      "100%|██████████████████████████████████████████████████████████| 313/313 [00:05<00:00, 53.81it/s, loss=0.3209]\n",
      "Epoch 7 | Training loss: 0.3209, validation accuracy: 0.8118, validation loss: 0.6453\n",
      "100%|██████████████████████████████████████████████████████████| 313/313 [00:05<00:00, 53.94it/s, loss=0.3118]\n",
      "Epoch 8 | Training loss: 0.3118, validation accuracy: 0.8098, validation loss: 0.6521\n",
      "100%|██████████████████████████████████████████████████████████| 313/313 [00:05<00:00, 53.92it/s, loss=0.3106]\n",
      "Epoch 9 | Training loss: 0.3106, validation accuracy: 0.8079, validation loss: 0.6473\n",
      "100%|██████████████████████████████████████████████████████████| 313/313 [00:06<00:00, 49.75it/s, loss=0.3071]\n",
      "Epoch 10 | Training loss: 0.3071, validation accuracy: 0.8091, validation loss: 0.6490\n",
      "100%|██████████████████████████████████████████████████████████| 313/313 [00:05<00:00, 53.39it/s, loss=0.3003]\n",
      "Epoch 11 | Training loss: 0.3003, validation accuracy: 0.8114, validation loss: 0.6406\n",
      "100%|██████████████████████████████████████████████████████████| 313/313 [00:05<00:00, 53.30it/s, loss=0.3006]\n",
      "Epoch 12 | Training loss: 0.3006, validation accuracy: 0.8108, validation loss: 0.6518\n",
      "100%|██████████████████████████████████████████████████████████| 313/313 [00:05<00:00, 53.28it/s, loss=0.3000]\n",
      "Epoch 13 | Training loss: 0.3000, validation accuracy: 0.8086, validation loss: 0.6601\n",
      "100%|██████████████████████████████████████████████████████████| 313/313 [00:05<00:00, 52.96it/s, loss=0.2991]\n",
      "Epoch 14 | Training loss: 0.2991, validation accuracy: 0.8104, validation loss: 0.6627\n",
      "100%|██████████████████████████████████████████████████████████| 313/313 [00:05<00:00, 52.32it/s, loss=0.2970]\n",
      "Epoch 15 | Training loss: 0.2970, validation accuracy: 0.8088, validation loss: 0.6584\n",
      "100%|██████████████████████████████████████████████████████████| 313/313 [00:05<00:00, 53.23it/s, loss=0.2901]\n",
      "Epoch 16 | Training loss: 0.2901, validation accuracy: 0.8088, validation loss: 0.6690\n",
      "100%|██████████████████████████████████████████████████████████| 313/313 [00:05<00:00, 53.71it/s, loss=0.2831]\n",
      "Epoch 17 | Training loss: 0.2831, validation accuracy: 0.8095, validation loss: 0.6700\n",
      "100%|██████████████████████████████████████████████████████████| 313/313 [00:05<00:00, 53.56it/s, loss=0.2861]\n",
      "Epoch 18 | Training loss: 0.2861, validation accuracy: 0.8074, validation loss: 0.6781\n",
      "100%|███████████████████████████████████████████████████████████████████████████████████████████████████████████████████████████████████████████████| 313/313 [00:05<00:00, 52.61it/s, loss=0.2856]\n",
      "Epoch 19 | Training loss: 0.2856, validation accuracy: 0.8073, validation loss: 0.6877\n",
      "100%|███████████████████████████████████████████████████████████████████████████████████████████████████████████████████████████████████████████████| 313/313 [00:05<00:00, 53.41it/s, loss=0.2804]\n",
      "Epoch 20 | Training loss: 0.2804, validation accuracy: 0.8081, validation loss: 0.6799\n"
     ]
    }
   ],
   "source": [
    "epochs = 20\n",
    "\n",
    "for epoch in range(epochs):\n",
    "    train_loss = trainer.train_epoch(model, optimizer, dl[\"train\"])\n",
    "    optimizer.finish_epoch()\n",
    "    val_acc, val_loss = trainer.validation(model, dl[\"valid\"])\n",
    "    logger.log(\"Epoch\", epoch+1, \"|\", \n",
    "          f\"Training loss: {train_loss:.4f}, validation accuracy: {val_acc:.4f}, validation loss: {val_loss:.4f}\")"
   ]
  },
  {
   "cell_type": "code",
   "execution_count": 19,
   "id": "ef0d1930-865b-43a8-9e38-c4d96f0af7b0",
   "metadata": {},
   "outputs": [
    {
     "name": "stdout",
     "output_type": "stream",
     "text": [
      "Train: (0.91115, 0.25244254360198976)\n",
      "Valid: (0.8081, 0.6798822336196899)\n"
     ]
    }
   ],
   "source": [
    "train_score = trainer.validation(model, dl[\"train\"])\n",
    "valid_score = trainer.validation(model, dl[\"valid\"])\n",
    "logger.log(\"Train:\", train_score)\n",
    "logger.log(\"Valid:\", valid_score)"
   ]
  },
  {
   "cell_type": "code",
   "execution_count": 20,
   "id": "bdd5482c-7e9e-43e1-8c8e-449ae33b2875",
   "metadata": {},
   "outputs": [
    {
     "name": "stdout",
     "output_type": "stream",
     "text": [
      "RNA\n"
     ]
    }
   ],
   "source": [
    "optimizer.param_groups[0][\"method\"] = \"RNA\"\n",
    "logger.log(\"RNA\")\n",
    "model_acc = deepcopy(model)\n",
    "optimizer.accelerate()\n",
    "optimizer.store_parameters([model_acc.parameters()])"
   ]
  },
  {
   "cell_type": "code",
   "execution_count": 21,
   "id": "d647e197-1782-45e4-84f1-83bc9672b9fd",
   "metadata": {
    "tags": []
   },
   "outputs": [
    {
     "name": "stdout",
     "output_type": "stream",
     "text": [
      "Train: (0.9034, 0.26764912447929384)\n",
      "Valid: (0.8078, 0.6828980052947998)\n"
     ]
    }
   ],
   "source": [
    "model_acc.to(trainer.device)\n",
    "train_score = trainer.validation(model_acc, dl[\"train\"])\n",
    "valid_score = trainer.validation(model_acc, dl[\"valid\"])\n",
    "logger.log(\"Train:\", train_score)\n",
    "logger.log(\"Valid:\", valid_score)"
   ]
  },
  {
   "cell_type": "code",
   "execution_count": 22,
   "id": "896d8044-691c-42a9-91c1-006274b52c2e",
   "metadata": {},
   "outputs": [
    {
     "name": "stdout",
     "output_type": "stream",
     "text": [
      "RRE\n"
     ]
    }
   ],
   "source": [
    "optimizer.param_groups[0][\"method\"] = \"RRE\"\n",
    "logger.log(\"RRE\")\n",
    "model_acc = deepcopy(model)\n",
    "optimizer.accelerate()\n",
    "optimizer.store_parameters([model_acc.parameters()])"
   ]
  },
  {
   "cell_type": "code",
   "execution_count": 23,
   "id": "a9b512a3-5d7f-4d25-9785-681534162bae",
   "metadata": {
    "tags": []
   },
   "outputs": [
    {
     "name": "stdout",
     "output_type": "stream",
     "text": [
      "Train: (0.901525, 0.2732176531076431)\n",
      "Valid: (0.8078, 0.6828953104019165)\n"
     ]
    }
   ],
   "source": [
    "model_acc.to(trainer.device)\n",
    "train_score = trainer.validation(model_acc, dl[\"train\"])\n",
    "valid_score = trainer.validation(model_acc, dl[\"valid\"])\n",
    "logger.log(\"Train:\", train_score)\n",
    "logger.log(\"Valid:\", valid_score)"
   ]
  },
  {
   "cell_type": "code",
   "execution_count": 24,
   "id": "respected-console",
   "metadata": {},
   "outputs": [],
   "source": [
    "optimizer.param_groups[0][\"lr\"] = 1e-3"
   ]
  },
  {
   "cell_type": "code",
   "execution_count": 25,
   "id": "62375dd1-2950-4c7d-94cc-97077713c51b",
   "metadata": {},
   "outputs": [
    {
     "name": "stdout",
     "output_type": "stream",
     "text": [
      "100%|███████████████████████████████████████████████████████████████████████████████████████████████████████████████████████████████████████████████| 313/313 [00:05<00:00, 53.92it/s, loss=0.2765]\n",
      "Epoch 1 | Training loss: 0.2765, validation accuracy: 0.8088, validation loss: 0.6718\n",
      "100%|███████████████████████████████████████████████████████████████████████████████████████████████████████████████████████████████████████████████| 313/313 [00:05<00:00, 52.82it/s, loss=0.2707]\n",
      "Epoch 2 | Training loss: 0.2707, validation accuracy: 0.8106, validation loss: 0.6690\n",
      "100%|███████████████████████████████████████████████████████████████████████████████████████████████████████████████████████████████████████████████| 313/313 [00:05<00:00, 53.08it/s, loss=0.2686]\n",
      "Epoch 3 | Training loss: 0.2686, validation accuracy: 0.8076, validation loss: 0.6730\n",
      "100%|███████████████████████████████████████████████████████████████████████████████████████████████████████████████████████████████████████████████| 313/313 [00:06<00:00, 51.64it/s, loss=0.2679]\n",
      "Epoch 4 | Training loss: 0.2679, validation accuracy: 0.8066, validation loss: 0.6717\n",
      "100%|███████████████████████████████████████████████████████████████████████████████████████████████████████████████████████████████████████████████| 313/313 [00:05<00:00, 53.15it/s, loss=0.2658]\n",
      "Epoch 5 | Training loss: 0.2658, validation accuracy: 0.8099, validation loss: 0.6772\n",
      "100%|███████████████████████████████████████████████████████████████████████████████████████████████████████████████████████████████████████████████| 313/313 [00:05<00:00, 53.16it/s, loss=0.2702]\n",
      "Epoch 6 | Training loss: 0.2702, validation accuracy: 0.8107, validation loss: 0.6713\n",
      "100%|███████████████████████████████████████████████████████████████████████████████████████████████████████████████████████████████████████████████| 313/313 [00:05<00:00, 53.42it/s, loss=0.2628]\n",
      "Epoch 7 | Training loss: 0.2628, validation accuracy: 0.8105, validation loss: 0.6742\n",
      "100%|███████████████████████████████████████████████████████████████████████████████████████████████████████████████████████████████████████████████| 313/313 [00:05<00:00, 52.97it/s, loss=0.2610]\n",
      "Epoch 8 | Training loss: 0.2610, validation accuracy: 0.8118, validation loss: 0.6603\n",
      "100%|███████████████████████████████████████████████████████████████████████████████████████████████████████████████████████████████████████████████| 313/313 [00:05<00:00, 53.56it/s, loss=0.2631]\n",
      "Epoch 9 | Training loss: 0.2631, validation accuracy: 0.8111, validation loss: 0.6706\n",
      "100%|███████████████████████████████████████████████████████████████████████████████████████████████████████████████████████████████████████████████| 313/313 [00:05<00:00, 53.55it/s, loss=0.2671]\n",
      "Epoch 10 | Training loss: 0.2671, validation accuracy: 0.8107, validation loss: 0.6744\n",
      "100%|███████████████████████████████████████████████████████████████████████████████████████████████████████████████████████████████████████████████| 313/313 [00:05<00:00, 52.56it/s, loss=0.2665]\n",
      "Epoch 11 | Training loss: 0.2665, validation accuracy: 0.8104, validation loss: 0.6830\n",
      "100%|███████████████████████████████████████████████████████████████████████████████████████████████████████████████████████████████████████████████| 313/313 [00:05<00:00, 53.03it/s, loss=0.2614]\n",
      "Epoch 12 | Training loss: 0.2614, validation accuracy: 0.8093, validation loss: 0.6849\n",
      "100%|███████████████████████████████████████████████████████████████████████████████████████████████████████████████████████████████████████████████| 313/313 [00:05<00:00, 53.20it/s, loss=0.2660]\n",
      "Epoch 13 | Training loss: 0.2660, validation accuracy: 0.8108, validation loss: 0.6734\n",
      "100%|███████████████████████████████████████████████████████████████████████████████████████████████████████████████████████████████████████████████| 313/313 [00:05<00:00, 52.82it/s, loss=0.2676]\n",
      "Epoch 14 | Training loss: 0.2676, validation accuracy: 0.8101, validation loss: 0.6727\n",
      "100%|███████████████████████████████████████████████████████████████████████████████████████████████████████████████████████████████████████████████| 313/313 [00:05<00:00, 53.28it/s, loss=0.2642]\n",
      "Epoch 15 | Training loss: 0.2642, validation accuracy: 0.8089, validation loss: 0.6671\n",
      "100%|███████████████████████████████████████████████████████████████████████████████████████████████████████████████████████████████████████████████| 313/313 [00:05<00:00, 53.20it/s, loss=0.2664]\n",
      "Epoch 16 | Training loss: 0.2664, validation accuracy: 0.8124, validation loss: 0.6720\n",
      "100%|███████████████████████████████████████████████████████████████████████████████████████████████████████████████████████████████████████████████| 313/313 [00:05<00:00, 53.41it/s, loss=0.2659]\n",
      "Epoch 17 | Training loss: 0.2659, validation accuracy: 0.8114, validation loss: 0.6791\n",
      "100%|███████████████████████████████████████████████████████████████████████████████████████████████████████████████████████████████████████████████| 313/313 [00:05<00:00, 53.15it/s, loss=0.2643]\n",
      "Epoch 18 | Training loss: 0.2643, validation accuracy: 0.8094, validation loss: 0.6851\n",
      "100%|███████████████████████████████████████████████████████████████████████████████████████████████████████████████████████████████████████████████| 313/313 [00:05<00:00, 53.22it/s, loss=0.2636]\n",
      "Epoch 19 | Training loss: 0.2636, validation accuracy: 0.8111, validation loss: 0.6785\n",
      "100%|███████████████████████████████████████████████████████████████████████████████████████████████████████████████████████████████████████████████| 313/313 [00:05<00:00, 53.92it/s, loss=0.2609]\n",
      "Epoch 20 | Training loss: 0.2609, validation accuracy: 0.8111, validation loss: 0.6787\n"
     ]
    }
   ],
   "source": [
    "epochs = 20\n",
    "\n",
    "for epoch in range(epochs):\n",
    "    train_loss = trainer.train_epoch(model, optimizer, dl[\"train\"])\n",
    "    optimizer.finish_epoch()\n",
    "    val_acc, val_loss = trainer.validation(model, dl[\"valid\"])\n",
    "    logger.log(\"Epoch\", epoch+1, \"|\", \n",
    "          f\"Training loss: {train_loss:.4f}, validation accuracy: {val_acc:.4f}, validation loss: {val_loss:.4f}\")"
   ]
  },
  {
   "cell_type": "code",
   "execution_count": 26,
   "id": "27806692-f100-465a-bfe8-a4be64e36d88",
   "metadata": {},
   "outputs": [
    {
     "name": "stdout",
     "output_type": "stream",
     "text": [
      "Train: (0.915525, 0.2366906145811081)\n",
      "Valid: (0.8111, 0.6787169399261475)\n"
     ]
    }
   ],
   "source": [
    "train_score = trainer.validation(model, dl[\"train\"])\n",
    "valid_score = trainer.validation(model, dl[\"valid\"])\n",
    "logger.log(\"Train:\", train_score)\n",
    "logger.log(\"Valid:\", valid_score)"
   ]
  },
  {
   "cell_type": "code",
   "execution_count": 27,
   "id": "0830e6e8-7291-495f-9a82-9a02f53004fd",
   "metadata": {},
   "outputs": [
    {
     "name": "stdout",
     "output_type": "stream",
     "text": [
      "RNA\n"
     ]
    }
   ],
   "source": [
    "optimizer.param_groups[0][\"method\"] = \"RNA\"\n",
    "logger.log(\"RNA\")\n",
    "model_acc = deepcopy(model)\n",
    "optimizer.accelerate()\n",
    "optimizer.store_parameters([model_acc.parameters()])"
   ]
  },
  {
   "cell_type": "code",
   "execution_count": 28,
   "id": "f06d768e-5785-4c03-93da-89d45a2c8f6e",
   "metadata": {
    "tags": []
   },
   "outputs": [
    {
     "name": "stdout",
     "output_type": "stream",
     "text": [
      "Train: (0.915125, 0.23779242656230926)\n",
      "Valid: (0.8104, 0.6793488918304443)\n"
     ]
    }
   ],
   "source": [
    "model_acc.to(trainer.device)\n",
    "train_score = trainer.validation(model_acc, dl[\"train\"])\n",
    "valid_score = trainer.validation(model_acc, dl[\"valid\"])\n",
    "logger.log(\"Train:\", train_score)\n",
    "logger.log(\"Valid:\", valid_score)"
   ]
  },
  {
   "cell_type": "code",
   "execution_count": 29,
   "id": "6e2fa71e-2253-470f-9e8f-34904aefe3af",
   "metadata": {},
   "outputs": [
    {
     "name": "stdout",
     "output_type": "stream",
     "text": [
      "RRE\n"
     ]
    }
   ],
   "source": [
    "optimizer.param_groups[0][\"method\"] = \"RRE\"\n",
    "logger.log(\"RRE\")\n",
    "model_acc = deepcopy(model)\n",
    "optimizer.accelerate()\n",
    "optimizer.store_parameters([model_acc.parameters()])"
   ]
  },
  {
   "cell_type": "code",
   "execution_count": 30,
   "id": "03bfdb39-45d6-4d77-9f6a-6885227b9c08",
   "metadata": {
    "tags": []
   },
   "outputs": [
    {
     "name": "stdout",
     "output_type": "stream",
     "text": [
      "Train: (0.91425, 0.2407463965654373)\n",
      "Valid: (0.8104, 0.6793475513458251)\n"
     ]
    }
   ],
   "source": [
    "model_acc.to(trainer.device)\n",
    "train_score = trainer.validation(model_acc, dl[\"train\"])\n",
    "valid_score = trainer.validation(model_acc, dl[\"valid\"])\n",
    "logger.log(\"Train:\", train_score)\n",
    "logger.log(\"Valid:\", valid_score)"
   ]
  },
  {
   "cell_type": "markdown",
   "id": "careful-basin",
   "metadata": {},
   "source": [
    "## Momentum"
   ]
  },
  {
   "cell_type": "markdown",
   "id": "1ccc0e74-bad9-4b55-8b0c-70a4e2da61fd",
   "metadata": {},
   "source": [
    "### Lambda = 1e-16"
   ]
  },
  {
   "cell_type": "code",
   "execution_count": 31,
   "id": "29b2e4df-ee09-4a71-9f25-21884d67bba8",
   "metadata": {
    "tags": []
   },
   "outputs": [
    {
     "data": {
      "text/plain": [
       "ResNet(\n",
       "  (conv1): Conv2d(3, 64, kernel_size=(7, 7), stride=(2, 2), padding=(3, 3), bias=False)\n",
       "  (bn1): BatchNorm2d(64, eps=1e-05, momentum=0.1, affine=True, track_running_stats=True)\n",
       "  (relu): ReLU(inplace=True)\n",
       "  (maxpool): MaxPool2d(kernel_size=3, stride=2, padding=1, dilation=1, ceil_mode=False)\n",
       "  (layer1): Sequential(\n",
       "    (0): BasicBlock(\n",
       "      (conv1): Conv2d(64, 64, kernel_size=(3, 3), stride=(1, 1), padding=(1, 1), bias=False)\n",
       "      (bn1): BatchNorm2d(64, eps=1e-05, momentum=0.1, affine=True, track_running_stats=True)\n",
       "      (relu): ReLU(inplace=True)\n",
       "      (conv2): Conv2d(64, 64, kernel_size=(3, 3), stride=(1, 1), padding=(1, 1), bias=False)\n",
       "      (bn2): BatchNorm2d(64, eps=1e-05, momentum=0.1, affine=True, track_running_stats=True)\n",
       "    )\n",
       "    (1): BasicBlock(\n",
       "      (conv1): Conv2d(64, 64, kernel_size=(3, 3), stride=(1, 1), padding=(1, 1), bias=False)\n",
       "      (bn1): BatchNorm2d(64, eps=1e-05, momentum=0.1, affine=True, track_running_stats=True)\n",
       "      (relu): ReLU(inplace=True)\n",
       "      (conv2): Conv2d(64, 64, kernel_size=(3, 3), stride=(1, 1), padding=(1, 1), bias=False)\n",
       "      (bn2): BatchNorm2d(64, eps=1e-05, momentum=0.1, affine=True, track_running_stats=True)\n",
       "    )\n",
       "  )\n",
       "  (layer2): Sequential(\n",
       "    (0): BasicBlock(\n",
       "      (conv1): Conv2d(64, 128, kernel_size=(3, 3), stride=(2, 2), padding=(1, 1), bias=False)\n",
       "      (bn1): BatchNorm2d(128, eps=1e-05, momentum=0.1, affine=True, track_running_stats=True)\n",
       "      (relu): ReLU(inplace=True)\n",
       "      (conv2): Conv2d(128, 128, kernel_size=(3, 3), stride=(1, 1), padding=(1, 1), bias=False)\n",
       "      (bn2): BatchNorm2d(128, eps=1e-05, momentum=0.1, affine=True, track_running_stats=True)\n",
       "      (downsample): Sequential(\n",
       "        (0): Conv2d(64, 128, kernel_size=(1, 1), stride=(2, 2), bias=False)\n",
       "        (1): BatchNorm2d(128, eps=1e-05, momentum=0.1, affine=True, track_running_stats=True)\n",
       "      )\n",
       "    )\n",
       "    (1): BasicBlock(\n",
       "      (conv1): Conv2d(128, 128, kernel_size=(3, 3), stride=(1, 1), padding=(1, 1), bias=False)\n",
       "      (bn1): BatchNorm2d(128, eps=1e-05, momentum=0.1, affine=True, track_running_stats=True)\n",
       "      (relu): ReLU(inplace=True)\n",
       "      (conv2): Conv2d(128, 128, kernel_size=(3, 3), stride=(1, 1), padding=(1, 1), bias=False)\n",
       "      (bn2): BatchNorm2d(128, eps=1e-05, momentum=0.1, affine=True, track_running_stats=True)\n",
       "    )\n",
       "  )\n",
       "  (layer3): Sequential(\n",
       "    (0): BasicBlock(\n",
       "      (conv1): Conv2d(128, 256, kernel_size=(3, 3), stride=(2, 2), padding=(1, 1), bias=False)\n",
       "      (bn1): BatchNorm2d(256, eps=1e-05, momentum=0.1, affine=True, track_running_stats=True)\n",
       "      (relu): ReLU(inplace=True)\n",
       "      (conv2): Conv2d(256, 256, kernel_size=(3, 3), stride=(1, 1), padding=(1, 1), bias=False)\n",
       "      (bn2): BatchNorm2d(256, eps=1e-05, momentum=0.1, affine=True, track_running_stats=True)\n",
       "      (downsample): Sequential(\n",
       "        (0): Conv2d(128, 256, kernel_size=(1, 1), stride=(2, 2), bias=False)\n",
       "        (1): BatchNorm2d(256, eps=1e-05, momentum=0.1, affine=True, track_running_stats=True)\n",
       "      )\n",
       "    )\n",
       "    (1): BasicBlock(\n",
       "      (conv1): Conv2d(256, 256, kernel_size=(3, 3), stride=(1, 1), padding=(1, 1), bias=False)\n",
       "      (bn1): BatchNorm2d(256, eps=1e-05, momentum=0.1, affine=True, track_running_stats=True)\n",
       "      (relu): ReLU(inplace=True)\n",
       "      (conv2): Conv2d(256, 256, kernel_size=(3, 3), stride=(1, 1), padding=(1, 1), bias=False)\n",
       "      (bn2): BatchNorm2d(256, eps=1e-05, momentum=0.1, affine=True, track_running_stats=True)\n",
       "    )\n",
       "  )\n",
       "  (layer4): Sequential(\n",
       "    (0): BasicBlock(\n",
       "      (conv1): Conv2d(256, 512, kernel_size=(3, 3), stride=(2, 2), padding=(1, 1), bias=False)\n",
       "      (bn1): BatchNorm2d(512, eps=1e-05, momentum=0.1, affine=True, track_running_stats=True)\n",
       "      (relu): ReLU(inplace=True)\n",
       "      (conv2): Conv2d(512, 512, kernel_size=(3, 3), stride=(1, 1), padding=(1, 1), bias=False)\n",
       "      (bn2): BatchNorm2d(512, eps=1e-05, momentum=0.1, affine=True, track_running_stats=True)\n",
       "      (downsample): Sequential(\n",
       "        (0): Conv2d(256, 512, kernel_size=(1, 1), stride=(2, 2), bias=False)\n",
       "        (1): BatchNorm2d(512, eps=1e-05, momentum=0.1, affine=True, track_running_stats=True)\n",
       "      )\n",
       "    )\n",
       "    (1): BasicBlock(\n",
       "      (conv1): Conv2d(512, 512, kernel_size=(3, 3), stride=(1, 1), padding=(1, 1), bias=False)\n",
       "      (bn1): BatchNorm2d(512, eps=1e-05, momentum=0.1, affine=True, track_running_stats=True)\n",
       "      (relu): ReLU(inplace=True)\n",
       "      (conv2): Conv2d(512, 512, kernel_size=(3, 3), stride=(1, 1), padding=(1, 1), bias=False)\n",
       "      (bn2): BatchNorm2d(512, eps=1e-05, momentum=0.1, affine=True, track_running_stats=True)\n",
       "    )\n",
       "  )\n",
       "  (avgpool): AdaptiveAvgPool2d(output_size=(1, 1))\n",
       "  (fc): Sequential(\n",
       "    (0): Linear(in_features=512, out_features=10, bias=True)\n",
       "    (1): LogSoftmax(dim=-1)\n",
       "  )\n",
       ")"
      ]
     },
     "execution_count": 31,
     "metadata": {},
     "output_type": "execute_result"
    }
   ],
   "source": [
    "model.load_state_dict(initial_state)\n",
    "model.to(trainer.device)"
   ]
  },
  {
   "cell_type": "code",
   "execution_count": 32,
   "id": "f6bc86a6-3979-470c-a7c8-5b7faaf31066",
   "metadata": {},
   "outputs": [
    {
     "data": {
      "text/plain": [
       "(0.1024, 2.3916895107269287)"
      ]
     },
     "execution_count": 32,
     "metadata": {},
     "output_type": "execute_result"
    }
   ],
   "source": [
    "trainer.validation(model, dl[\"valid\"])"
   ]
  },
  {
   "cell_type": "code",
   "execution_count": 33,
   "id": "969261ce-19cc-41e5-893b-adff4cbe0509",
   "metadata": {},
   "outputs": [
    {
     "data": {
      "text/plain": [
       "<torch._C.Generator at 0x7f0654071110>"
      ]
     },
     "execution_count": 33,
     "metadata": {},
     "output_type": "execute_result"
    }
   ],
   "source": [
    "optimizer = AcceleratedSGD(model.parameters(), 1e-1, k=10, momentum=0.9, weight_decay=1e-5, lambda_=1e-16)\n",
    "logger = Logger(\"resnet_log_augmentation-lambda=1e-16.txt.no_resizing\")\n",
    "torch.manual_seed(2020)"
   ]
  },
  {
   "cell_type": "code",
   "execution_count": 34,
   "id": "b2cf5642-94af-4fc9-9d45-d1e508df3415",
   "metadata": {},
   "outputs": [
    {
     "name": "stdout",
     "output_type": "stream",
     "text": [
      "100%|███████████████████████████████████████████████████████████████████████████████████████████████████████████████████████████████████████████████| 313/313 [00:06<00:00, 50.88it/s, loss=2.2130]\n",
      "Epoch 1 | Training loss: 2.2130, validation accuracy: 0.3482, validation loss: 1.8887\n",
      "100%|███████████████████████████████████████████████████████████████████████████████████████████████████████████████████████████████████████████████| 313/313 [00:06<00:00, 51.29it/s, loss=1.6590]\n",
      "Epoch 2 | Training loss: 1.6590, validation accuracy: 0.4302, validation loss: 1.5467\n",
      "100%|███████████████████████████████████████████████████████████████████████████████████████████████████████████████████████████████████████████████| 313/313 [00:06<00:00, 50.86it/s, loss=1.5189]\n",
      "Epoch 3 | Training loss: 1.5189, validation accuracy: 0.4832, validation loss: 1.4076\n",
      "100%|███████████████████████████████████████████████████████████████████████████████████████████████████████████████████████████████████████████████| 313/313 [00:06<00:00, 50.74it/s, loss=1.4095]\n",
      "Epoch 4 | Training loss: 1.4095, validation accuracy: 0.5197, validation loss: 1.3269\n",
      "100%|███████████████████████████████████████████████████████████████████████████████████████████████████████████████████████████████████████████████| 313/313 [00:06<00:00, 50.99it/s, loss=1.3350]\n",
      "Epoch 5 | Training loss: 1.3350, validation accuracy: 0.5590, validation loss: 1.2238\n",
      "100%|███████████████████████████████████████████████████████████████████████████████████████████████████████████████████████████████████████████████| 313/313 [00:06<00:00, 50.70it/s, loss=1.2451]\n",
      "Epoch 6 | Training loss: 1.2451, validation accuracy: 0.5942, validation loss: 1.1457\n",
      "100%|███████████████████████████████████████████████████████████████████████████████████████████████████████████████████████████████████████████████| 313/313 [00:06<00:00, 51.16it/s, loss=1.1730]\n",
      "Epoch 7 | Training loss: 1.1730, validation accuracy: 0.6142, validation loss: 1.1211\n",
      "100%|███████████████████████████████████████████████████████████████████████████████████████████████████████████████████████████████████████████████| 313/313 [00:06<00:00, 50.77it/s, loss=1.1196]\n",
      "Epoch 8 | Training loss: 1.1196, validation accuracy: 0.6429, validation loss: 0.9952\n",
      "100%|███████████████████████████████████████████████████████████████████████████████████████████████████████████████████████████████████████████████| 313/313 [00:06<00:00, 51.43it/s, loss=1.0541]\n",
      "Epoch 9 | Training loss: 1.0541, validation accuracy: 0.6650, validation loss: 0.9557\n",
      "100%|███████████████████████████████████████████████████████████████████████████████████████████████████████████████████████████████████████████████| 313/313 [00:06<00:00, 51.27it/s, loss=0.9995]\n",
      "Epoch 10 | Training loss: 0.9995, validation accuracy: 0.6543, validation loss: 0.9711\n",
      "100%|███████████████████████████████████████████████████████████████████████████████████████████████████████████████████████████████████████████████| 313/313 [00:06<00:00, 50.63it/s, loss=0.9673]\n",
      "Epoch 11 | Training loss: 0.9673, validation accuracy: 0.6756, validation loss: 0.9528\n",
      "100%|███████████████████████████████████████████████████████████████████████████████████████████████████████████████████████████████████████████████| 313/313 [00:06<00:00, 51.40it/s, loss=0.9291]\n",
      "Epoch 12 | Training loss: 0.9291, validation accuracy: 0.7085, validation loss: 0.8416\n",
      "100%|███████████████████████████████████████████████████████████████████████████████████████████████████████████████████████████████████████████████| 313/313 [00:06<00:00, 51.07it/s, loss=0.8924]\n",
      "Epoch 13 | Training loss: 0.8924, validation accuracy: 0.6889, validation loss: 0.8981\n",
      "100%|███████████████████████████████████████████████████████████████████████████████████████████████████████████████████████████████████████████████| 313/313 [00:06<00:00, 50.04it/s, loss=0.8662]\n",
      "Epoch 14 | Training loss: 0.8662, validation accuracy: 0.6975, validation loss: 0.8738\n",
      "100%|███████████████████████████████████████████████████████████████████████████████████████████████████████████████████████████████████████████████| 313/313 [00:06<00:00, 48.47it/s, loss=0.8501]\n",
      "Epoch 15 | Training loss: 0.8501, validation accuracy: 0.7129, validation loss: 0.8248\n",
      "100%|███████████████████████████████████████████████████████████████████████████████████████████████████████████████████████████████████████████████| 313/313 [00:06<00:00, 48.91it/s, loss=0.8172]\n",
      "Epoch 16 | Training loss: 0.8172, validation accuracy: 0.7392, validation loss: 0.7577\n",
      "100%|███████████████████████████████████████████████████████████████████████████████████████████████████████████████████████████████████████████████| 313/313 [00:06<00:00, 49.45it/s, loss=0.7926]\n",
      "Epoch 17 | Training loss: 0.7926, validation accuracy: 0.7344, validation loss: 0.7666\n",
      "100%|███████████████████████████████████████████████████████████████████████████████████████████████████████████████████████████████████████████████| 313/313 [00:06<00:00, 50.78it/s, loss=0.7678]\n",
      "Epoch 18 | Training loss: 0.7678, validation accuracy: 0.7500, validation loss: 0.7202\n",
      "100%|███████████████████████████████████████████████████████████████████████████████████████████████████████████████████████████████████████████████| 313/313 [00:06<00:00, 50.04it/s, loss=0.7496]\n",
      "Epoch 19 | Training loss: 0.7496, validation accuracy: 0.7337, validation loss: 0.7959\n",
      "100%|███████████████████████████████████████████████████████████████████████████████████████████████████████████████████████████████████████████████| 313/313 [00:06<00:00, 49.90it/s, loss=0.7327]\n",
      "Epoch 20 | Training loss: 0.7327, validation accuracy: 0.7472, validation loss: 0.7520\n",
      "100%|███████████████████████████████████████████████████████████████████████████████████████████████████████████████████████████████████████████████| 313/313 [00:06<00:00, 49.69it/s, loss=0.7078]\n",
      "Epoch 21 | Training loss: 0.7078, validation accuracy: 0.7446, validation loss: 0.7460\n",
      "100%|███████████████████████████████████████████████████████████████████████████████████████████████████████████████████████████████████████████████| 313/313 [00:06<00:00, 49.88it/s, loss=0.6899]\n",
      "Epoch 22 | Training loss: 0.6899, validation accuracy: 0.7444, validation loss: 0.7881\n",
      "100%|███████████████████████████████████████████████████████████████████████████████████████████████████████████████████████████████████████████████| 313/313 [00:06<00:00, 49.32it/s, loss=0.6836]\n",
      "Epoch 23 | Training loss: 0.6836, validation accuracy: 0.7670, validation loss: 0.7068\n",
      "100%|███████████████████████████████████████████████████████████████████████████████████████████████████████████████████████████████████████████████| 313/313 [00:06<00:00, 49.44it/s, loss=0.6681]\n",
      "Epoch 24 | Training loss: 0.6681, validation accuracy: 0.7639, validation loss: 0.7035\n",
      "100%|███████████████████████████████████████████████████████████████████████████████████████████████████████████████████████████████████████████████| 313/313 [00:06<00:00, 49.85it/s, loss=0.6467]\n",
      "Epoch 25 | Training loss: 0.6467, validation accuracy: 0.7661, validation loss: 0.6973\n",
      "100%|███████████████████████████████████████████████████████████████████████████████████████████████████████████████████████████████████████████████| 313/313 [00:06<00:00, 50.25it/s, loss=0.6404]\n",
      "Epoch 26 | Training loss: 0.6404, validation accuracy: 0.7727, validation loss: 0.6878\n",
      "100%|███████████████████████████████████████████████████████████████████████████████████████████████████████████████████████████████████████████████| 313/313 [00:06<00:00, 50.93it/s, loss=0.6255]\n",
      "Epoch 27 | Training loss: 0.6255, validation accuracy: 0.7659, validation loss: 0.6928\n",
      "100%|███████████████████████████████████████████████████████████████████████████████████████████████████████████████████████████████████████████████| 313/313 [00:06<00:00, 50.08it/s, loss=0.6080]\n",
      "Epoch 28 | Training loss: 0.6080, validation accuracy: 0.7730, validation loss: 0.6676\n",
      "100%|███████████████████████████████████████████████████████████████████████████████████████████████████████████████████████████████████████████████| 313/313 [00:06<00:00, 50.18it/s, loss=0.5987]\n",
      "Epoch 29 | Training loss: 0.5987, validation accuracy: 0.7773, validation loss: 0.6709\n",
      "100%|███████████████████████████████████████████████████████████████████████████████████████████████████████████████████████████████████████████████| 313/313 [00:06<00:00, 50.10it/s, loss=0.5831]\n",
      "Epoch 30 | Training loss: 0.5831, validation accuracy: 0.7653, validation loss: 0.7108\n",
      "100%|███████████████████████████████████████████████████████████████████████████████████████████████████████████████████████████████████████████████| 313/313 [00:06<00:00, 50.41it/s, loss=0.5728]\n",
      "Epoch 31 | Training loss: 0.5728, validation accuracy: 0.7803, validation loss: 0.6612\n",
      "100%|███████████████████████████████████████████████████████████████████████████████████████████████████████████████████████████████████████████████| 313/313 [00:06<00:00, 50.50it/s, loss=0.5679]\n",
      "Epoch 32 | Training loss: 0.5679, validation accuracy: 0.7780, validation loss: 0.6809\n",
      "100%|███████████████████████████████████████████████████████████████████████████████████████████████████████████████████████████████████████████████| 313/313 [00:06<00:00, 50.47it/s, loss=0.5541]\n",
      "Epoch 33 | Training loss: 0.5541, validation accuracy: 0.7820, validation loss: 0.6580\n",
      "100%|███████████████████████████████████████████████████████████████████████████████████████████████████████████████████████████████████████████████| 313/313 [00:06<00:00, 50.13it/s, loss=0.5513]\n",
      "Epoch 34 | Training loss: 0.5513, validation accuracy: 0.7816, validation loss: 0.6625\n",
      "100%|███████████████████████████████████████████████████████████████████████████████████████████████████████████████████████████████████████████████| 313/313 [00:06<00:00, 50.23it/s, loss=0.5359]\n",
      "Epoch 35 | Training loss: 0.5359, validation accuracy: 0.7721, validation loss: 0.6852\n",
      "100%|███████████████████████████████████████████████████████████████████████████████████████████████████████████████████████████████████████████████| 313/313 [00:06<00:00, 50.10it/s, loss=0.5299]\n",
      "Epoch 36 | Training loss: 0.5299, validation accuracy: 0.7833, validation loss: 0.6692\n",
      "100%|███████████████████████████████████████████████████████████████████████████████████████████████████████████████████████████████████████████████| 313/313 [00:06<00:00, 50.48it/s, loss=0.5152]\n",
      "Epoch 37 | Training loss: 0.5152, validation accuracy: 0.7904, validation loss: 0.6492\n",
      "100%|███████████████████████████████████████████████████████████████████████████████████████████████████████████████████████████████████████████████| 313/313 [00:06<00:00, 50.05it/s, loss=0.5136]\n",
      "Epoch 38 | Training loss: 0.5136, validation accuracy: 0.7886, validation loss: 0.6477\n",
      "100%|███████████████████████████████████████████████████████████████████████████████████████████████████████████████████████████████████████████████| 313/313 [00:06<00:00, 51.41it/s, loss=0.5030]\n",
      "Epoch 39 | Training loss: 0.5030, validation accuracy: 0.7773, validation loss: 0.6824\n",
      "100%|███████████████████████████████████████████████████████████████████████████████████████████████████████████████████████████████████████████████| 313/313 [00:06<00:00, 51.27it/s, loss=0.4955]\n",
      "Epoch 40 | Training loss: 0.4955, validation accuracy: 0.7873, validation loss: 0.6414\n",
      "100%|███████████████████████████████████████████████████████████████████████████████████████████████████████████████████████████████████████████████| 313/313 [00:06<00:00, 50.74it/s, loss=0.4839]\n",
      "Epoch 41 | Training loss: 0.4839, validation accuracy: 0.7844, validation loss: 0.6823\n",
      "100%|███████████████████████████████████████████████████████████████████████████████████████████████████████████████████████████████████████████████| 313/313 [00:06<00:00, 51.76it/s, loss=0.4719]\n",
      "Epoch 42 | Training loss: 0.4719, validation accuracy: 0.7792, validation loss: 0.6718\n",
      "100%|███████████████████████████████████████████████████████████████████████████████████████████████████████████████████████████████████████████████| 313/313 [00:06<00:00, 51.73it/s, loss=0.4726]\n",
      "Epoch 43 | Training loss: 0.4726, validation accuracy: 0.7917, validation loss: 0.6764\n",
      "100%|███████████████████████████████████████████████████████████████████████████████████████████████████████████████████████████████████████████████| 313/313 [00:06<00:00, 52.04it/s, loss=0.4630]\n",
      "Epoch 44 | Training loss: 0.4630, validation accuracy: 0.8022, validation loss: 0.6241\n",
      "100%|███████████████████████████████████████████████████████████████████████████████████████████████████████████████████████████████████████████████| 313/313 [00:05<00:00, 52.52it/s, loss=0.4513]\n",
      "Epoch 45 | Training loss: 0.4513, validation accuracy: 0.7918, validation loss: 0.6765\n"
     ]
    }
   ],
   "source": [
    "epochs = 45\n",
    "\n",
    "for epoch in range(epochs):\n",
    "    train_loss = trainer.train_epoch(model, optimizer, dl[\"train\"])\n",
    "    optimizer.finish_epoch()\n",
    "    val_acc, val_loss = trainer.validation(model, dl[\"valid\"])\n",
    "    logger.log(\"Epoch\", epoch+1, \"|\", \n",
    "          f\"Training loss: {train_loss:.4f}, validation accuracy: {val_acc:.4f}, validation loss: {val_loss:.4f}\")"
   ]
  },
  {
   "cell_type": "code",
   "execution_count": 35,
   "id": "ec3e9f21-590a-4271-8095-c77066e2a18a",
   "metadata": {},
   "outputs": [
    {
     "name": "stdout",
     "output_type": "stream",
     "text": [
      "Train: (0.845825, 0.436823532295227)\n",
      "Valid: (0.7918, 0.6765367492675781)\n"
     ]
    }
   ],
   "source": [
    "train_score = trainer.validation(model, dl[\"train\"])\n",
    "valid_score = trainer.validation(model, dl[\"valid\"])\n",
    "logger.log(\"Train:\", train_score)\n",
    "logger.log(\"Valid:\", valid_score)"
   ]
  },
  {
   "cell_type": "code",
   "execution_count": 36,
   "id": "ac92b41e-a7d1-4192-964e-af97742b9bad",
   "metadata": {},
   "outputs": [
    {
     "name": "stdout",
     "output_type": "stream",
     "text": [
      "RNA\n"
     ]
    }
   ],
   "source": [
    "optimizer.param_groups[0][\"method\"] = \"RNA\"\n",
    "logger.log(\"RNA\")\n",
    "model_acc = deepcopy(model)\n",
    "optimizer.accelerate()\n",
    "optimizer.store_parameters([model_acc.parameters()])"
   ]
  },
  {
   "cell_type": "code",
   "execution_count": 37,
   "id": "2e40a7c3-ee19-4fc7-9389-c4743930625d",
   "metadata": {
    "tags": []
   },
   "outputs": [
    {
     "name": "stdout",
     "output_type": "stream",
     "text": [
      "Train: (0.84085, 0.4385167631149292)\n",
      "Valid: (0.7971, 0.6236986894607544)\n"
     ]
    }
   ],
   "source": [
    "model_acc.to(trainer.device)\n",
    "train_score = trainer.validation(model_acc, dl[\"train\"])\n",
    "valid_score = trainer.validation(model_acc, dl[\"valid\"])\n",
    "logger.log(\"Train:\", train_score)\n",
    "logger.log(\"Valid:\", valid_score)"
   ]
  },
  {
   "cell_type": "code",
   "execution_count": 38,
   "id": "b46794ac-da52-492c-8319-4e40bccd6d1e",
   "metadata": {},
   "outputs": [
    {
     "name": "stdout",
     "output_type": "stream",
     "text": [
      "RRE\n"
     ]
    }
   ],
   "source": [
    "optimizer.param_groups[0][\"method\"] = \"RRE\"\n",
    "logger.log(\"RRE\")\n",
    "model_acc = deepcopy(model)\n",
    "optimizer.accelerate()\n",
    "optimizer.store_parameters([model_acc.parameters()])"
   ]
  },
  {
   "cell_type": "code",
   "execution_count": 39,
   "id": "2951b59f-e8fb-43b3-958e-038bf0e7f3ab",
   "metadata": {
    "tags": []
   },
   "outputs": [
    {
     "name": "stdout",
     "output_type": "stream",
     "text": [
      "Train: (0.839775, 0.4405800078868866)\n",
      "Valid: (0.7971, 0.6236781562805176)\n"
     ]
    }
   ],
   "source": [
    "model_acc.to(trainer.device)\n",
    "train_score = trainer.validation(model_acc, dl[\"train\"])\n",
    "valid_score = trainer.validation(model_acc, dl[\"valid\"])\n",
    "logger.log(\"Train:\", train_score)\n",
    "logger.log(\"Valid:\", valid_score)"
   ]
  },
  {
   "cell_type": "code",
   "execution_count": 40,
   "id": "4119ddb6-ebeb-404b-b439-4061bcda8687",
   "metadata": {},
   "outputs": [],
   "source": [
    "optimizer.param_groups[0][\"lr\"] = 1e-2"
   ]
  },
  {
   "cell_type": "code",
   "execution_count": 41,
   "id": "d24467ee-27c6-42cb-ad10-d78711242ef9",
   "metadata": {},
   "outputs": [
    {
     "name": "stdout",
     "output_type": "stream",
     "text": [
      "100%|███████████████████████████████████████████████████████████████████████████████████████████████████████████████████████████████████████████████| 313/313 [00:06<00:00, 50.77it/s, loss=0.3618]\n",
      "Epoch 1 | Training loss: 0.3618, validation accuracy: 0.8211, validation loss: 0.6006\n",
      "100%|███████████████████████████████████████████████████████████████████████████████████████████████████████████████████████████████████████████████| 313/313 [00:06<00:00, 50.55it/s, loss=0.3285]\n",
      "Epoch 2 | Training loss: 0.3285, validation accuracy: 0.8204, validation loss: 0.5971\n",
      "100%|███████████████████████████████████████████████████████████████████████████████████████████████████████████████████████████████████████████████| 313/313 [00:06<00:00, 52.01it/s, loss=0.3190]\n",
      "Epoch 3 | Training loss: 0.3190, validation accuracy: 0.8209, validation loss: 0.6138\n",
      "100%|███████████████████████████████████████████████████████████████████████████████████████████████████████████████████████████████████████████████| 313/313 [00:05<00:00, 53.29it/s, loss=0.3051]\n",
      "Epoch 4 | Training loss: 0.3051, validation accuracy: 0.8178, validation loss: 0.6164\n",
      "100%|███████████████████████████████████████████████████████████████████████████████████████████████████████████████████████████████████████████████| 313/313 [00:05<00:00, 53.05it/s, loss=0.3038]\n",
      "Epoch 5 | Training loss: 0.3038, validation accuracy: 0.8181, validation loss: 0.6192\n",
      "100%|███████████████████████████████████████████████████████████████████████████████████████████████████████████████████████████████████████████████| 313/313 [00:05<00:00, 52.58it/s, loss=0.2936]\n",
      "Epoch 6 | Training loss: 0.2936, validation accuracy: 0.8210, validation loss: 0.6088\n",
      "100%|███████████████████████████████████████████████████████████████████████████████████████████████████████████████████████████████████████████████| 313/313 [00:05<00:00, 52.36it/s, loss=0.2950]\n",
      "Epoch 7 | Training loss: 0.2950, validation accuracy: 0.8207, validation loss: 0.6087\n",
      "100%|███████████████████████████████████████████████████████████████████████████████████████████████████████████████████████████████████████████████| 313/313 [00:05<00:00, 53.16it/s, loss=0.2927]\n",
      "Epoch 8 | Training loss: 0.2927, validation accuracy: 0.8226, validation loss: 0.6123\n",
      "100%|███████████████████████████████████████████████████████████████████████████████████████████████████████████████████████████████████████████████| 313/313 [00:05<00:00, 53.15it/s, loss=0.2844]\n",
      "Epoch 9 | Training loss: 0.2844, validation accuracy: 0.8206, validation loss: 0.6205\n",
      "100%|███████████████████████████████████████████████████████████████████████████████████████████████████████████████████████████████████████████████| 313/313 [00:05<00:00, 53.08it/s, loss=0.2806]\n",
      "Epoch 10 | Training loss: 0.2806, validation accuracy: 0.8175, validation loss: 0.6476\n",
      "100%|███████████████████████████████████████████████████████████████████████████████████████████████████████████████████████████████████████████████| 313/313 [00:06<00:00, 51.35it/s, loss=0.2742]\n",
      "Epoch 11 | Training loss: 0.2742, validation accuracy: 0.8211, validation loss: 0.6221\n",
      "100%|███████████████████████████████████████████████████████████████████████████████████████████████████████████████████████████████████████████████| 313/313 [00:06<00:00, 50.04it/s, loss=0.2706]\n",
      "Epoch 12 | Training loss: 0.2706, validation accuracy: 0.8198, validation loss: 0.6371\n",
      "100%|███████████████████████████████████████████████████████████████████████████████████████████████████████████████████████████████████████████████| 313/313 [00:06<00:00, 49.93it/s, loss=0.2682]\n",
      "Epoch 13 | Training loss: 0.2682, validation accuracy: 0.8210, validation loss: 0.6275\n",
      "100%|███████████████████████████████████████████████████████████████████████████████████████████████████████████████████████████████████████████████| 313/313 [00:05<00:00, 52.84it/s, loss=0.2695]\n",
      "Epoch 14 | Training loss: 0.2695, validation accuracy: 0.8199, validation loss: 0.6415\n",
      "100%|███████████████████████████████████████████████████████████████████████████████████████████████████████████████████████████████████████████████| 313/313 [00:05<00:00, 52.19it/s, loss=0.2659]\n",
      "Epoch 15 | Training loss: 0.2659, validation accuracy: 0.8201, validation loss: 0.6453\n",
      "100%|███████████████████████████████████████████████████████████████████████████████████████████████████████████████████████████████████████████████| 313/313 [00:05<00:00, 52.19it/s, loss=0.2564]\n",
      "Epoch 16 | Training loss: 0.2564, validation accuracy: 0.8172, validation loss: 0.6475\n",
      "100%|███████████████████████████████████████████████████████████████████████████████████████████████████████████████████████████████████████████████| 313/313 [00:05<00:00, 53.22it/s, loss=0.2507]\n",
      "Epoch 17 | Training loss: 0.2507, validation accuracy: 0.8190, validation loss: 0.6447\n",
      "100%|███████████████████████████████████████████████████████████████████████████████████████████████████████████████████████████████████████████████| 313/313 [00:06<00:00, 51.74it/s, loss=0.2517]\n",
      "Epoch 18 | Training loss: 0.2517, validation accuracy: 0.8209, validation loss: 0.6372\n",
      "100%|███████████████████████████████████████████████████████████████████████████████████████████████████████████████████████████████████████████████| 313/313 [00:06<00:00, 50.36it/s, loss=0.2526]\n",
      "Epoch 19 | Training loss: 0.2526, validation accuracy: 0.8168, validation loss: 0.6502\n",
      "100%|███████████████████████████████████████████████████████████████████████████████████████████████████████████████████████████████████████████████| 313/313 [00:06<00:00, 49.86it/s, loss=0.2506]\n",
      "Epoch 20 | Training loss: 0.2506, validation accuracy: 0.8178, validation loss: 0.6601\n"
     ]
    }
   ],
   "source": [
    "epochs = 20\n",
    "\n",
    "for epoch in range(epochs):\n",
    "    train_loss = trainer.train_epoch(model, optimizer, dl[\"train\"])\n",
    "    optimizer.finish_epoch()\n",
    "    val_acc, val_loss = trainer.validation(model, dl[\"valid\"])\n",
    "    logger.log(\"Epoch\", epoch+1, \"|\", \n",
    "          f\"Training loss: {train_loss:.4f}, validation accuracy: {val_acc:.4f}, validation loss: {val_loss:.4f}\")"
   ]
  },
  {
   "cell_type": "code",
   "execution_count": 42,
   "id": "d81d17df-d9bf-4dbe-aec4-1dea832e2aae",
   "metadata": {},
   "outputs": [
    {
     "name": "stdout",
     "output_type": "stream",
     "text": [
      "Train: (0.919425, 0.22524109711647033)\n",
      "Valid: (0.8178, 0.6600747977256775)\n"
     ]
    }
   ],
   "source": [
    "train_score = trainer.validation(model, dl[\"train\"])\n",
    "valid_score = trainer.validation(model, dl[\"valid\"])\n",
    "logger.log(\"Train:\", train_score)\n",
    "logger.log(\"Valid:\", valid_score)"
   ]
  },
  {
   "cell_type": "code",
   "execution_count": 43,
   "id": "6dca9a02-c737-4175-b490-4f680dac0a44",
   "metadata": {},
   "outputs": [
    {
     "name": "stdout",
     "output_type": "stream",
     "text": [
      "RNA\n"
     ]
    }
   ],
   "source": [
    "optimizer.param_groups[0][\"method\"] = \"RNA\"\n",
    "logger.log(\"RNA\")\n",
    "model_acc = deepcopy(model)\n",
    "optimizer.accelerate()\n",
    "optimizer.store_parameters([model_acc.parameters()])"
   ]
  },
  {
   "cell_type": "code",
   "execution_count": 44,
   "id": "23f4fe44-ebe3-44b2-814c-1f66ad0805ca",
   "metadata": {
    "tags": []
   },
   "outputs": [
    {
     "name": "stdout",
     "output_type": "stream",
     "text": [
      "Train: (0.9185, 0.2258700907945633)\n",
      "Valid: (0.8187, 0.6608206221580505)\n"
     ]
    }
   ],
   "source": [
    "model_acc.to(trainer.device)\n",
    "train_score = trainer.validation(model_acc, dl[\"train\"])\n",
    "valid_score = trainer.validation(model_acc, dl[\"valid\"])\n",
    "logger.log(\"Train:\", train_score)\n",
    "logger.log(\"Valid:\", valid_score)"
   ]
  },
  {
   "cell_type": "code",
   "execution_count": 45,
   "id": "ca37682a-06ff-4b1d-9186-f3f26073a54f",
   "metadata": {},
   "outputs": [
    {
     "name": "stdout",
     "output_type": "stream",
     "text": [
      "RRE\n"
     ]
    }
   ],
   "source": [
    "optimizer.param_groups[0][\"method\"] = \"RRE\"\n",
    "logger.log(\"RRE\")\n",
    "model_acc = deepcopy(model)\n",
    "optimizer.accelerate()\n",
    "optimizer.store_parameters([model_acc.parameters()])"
   ]
  },
  {
   "cell_type": "code",
   "execution_count": 46,
   "id": "5d6516d7-bdea-4307-afe6-7ad865aac7df",
   "metadata": {
    "tags": []
   },
   "outputs": [
    {
     "name": "stdout",
     "output_type": "stream",
     "text": [
      "Train: (0.916575, 0.230946377491951)\n",
      "Valid: (0.8187, 0.66081487159729)\n"
     ]
    }
   ],
   "source": [
    "model_acc.to(trainer.device)\n",
    "train_score = trainer.validation(model_acc, dl[\"train\"])\n",
    "valid_score = trainer.validation(model_acc, dl[\"valid\"])\n",
    "logger.log(\"Train:\", train_score)\n",
    "logger.log(\"Valid:\", valid_score)"
   ]
  },
  {
   "cell_type": "code",
   "execution_count": 47,
   "id": "884e5d41-f2ae-4dce-a62b-ddc290beffc6",
   "metadata": {},
   "outputs": [],
   "source": [
    "optimizer.param_groups[0][\"lr\"] = 1e-3"
   ]
  },
  {
   "cell_type": "code",
   "execution_count": 48,
   "id": "f6b9a6b2-ab89-4d39-8e45-322d81e789b6",
   "metadata": {},
   "outputs": [
    {
     "name": "stdout",
     "output_type": "stream",
     "text": [
      "100%|███████████████████████████████████████████████████████████████████████████████████████████████████████████████████████████████████████████████| 313/313 [00:06<00:00, 50.53it/s, loss=0.2417]\n",
      "Epoch 1 | Training loss: 0.2417, validation accuracy: 0.8227, validation loss: 0.6364\n",
      "100%|███████████████████████████████████████████████████████████████████████████████████████████████████████████████████████████████████████████████| 313/313 [00:06<00:00, 51.53it/s, loss=0.2388]\n",
      "Epoch 2 | Training loss: 0.2388, validation accuracy: 0.8212, validation loss: 0.6331\n",
      "100%|███████████████████████████████████████████████████████████████████████████████████████████████████████████████████████████████████████████████| 313/313 [00:06<00:00, 51.04it/s, loss=0.2376]\n",
      "Epoch 3 | Training loss: 0.2376, validation accuracy: 0.8205, validation loss: 0.6503\n",
      "100%|███████████████████████████████████████████████████████████████████████████████████████████████████████████████████████████████████████████████| 313/313 [00:06<00:00, 50.93it/s, loss=0.2340]\n",
      "Epoch 4 | Training loss: 0.2340, validation accuracy: 0.8210, validation loss: 0.6429\n",
      "100%|███████████████████████████████████████████████████████████████████████████████████████████████████████████████████████████████████████████████| 313/313 [00:06<00:00, 51.77it/s, loss=0.2344]\n",
      "Epoch 5 | Training loss: 0.2344, validation accuracy: 0.8229, validation loss: 0.6449\n",
      "100%|███████████████████████████████████████████████████████████████████████████████████████████████████████████████████████████████████████████████| 313/313 [00:05<00:00, 52.34it/s, loss=0.2384]\n",
      "Epoch 6 | Training loss: 0.2384, validation accuracy: 0.8230, validation loss: 0.6449\n",
      "100%|███████████████████████████████████████████████████████████████████████████████████████████████████████████████████████████████████████████████| 313/313 [00:06<00:00, 51.42it/s, loss=0.2336]\n",
      "Epoch 7 | Training loss: 0.2336, validation accuracy: 0.8221, validation loss: 0.6434\n",
      "100%|███████████████████████████████████████████████████████████████████████████████████████████████████████████████████████████████████████████████| 313/313 [00:06<00:00, 50.81it/s, loss=0.2310]\n",
      "Epoch 8 | Training loss: 0.2310, validation accuracy: 0.8222, validation loss: 0.6450\n",
      "100%|███████████████████████████████████████████████████████████████████████████████████████████████████████████████████████████████████████████████| 313/313 [00:06<00:00, 50.58it/s, loss=0.2312]\n",
      "Epoch 9 | Training loss: 0.2312, validation accuracy: 0.8221, validation loss: 0.6455\n",
      "100%|███████████████████████████████████████████████████████████████████████████████████████████████████████████████████████████████████████████████| 313/313 [00:05<00:00, 52.50it/s, loss=0.2302]\n",
      "Epoch 10 | Training loss: 0.2302, validation accuracy: 0.8233, validation loss: 0.6447\n",
      "100%|███████████████████████████████████████████████████████████████████████████████████████████████████████████████████████████████████████████████| 313/313 [00:05<00:00, 52.28it/s, loss=0.2295]\n",
      "Epoch 11 | Training loss: 0.2295, validation accuracy: 0.8233, validation loss: 0.6528\n",
      "100%|███████████████████████████████████████████████████████████████████████████████████████████████████████████████████████████████████████████████| 313/313 [00:06<00:00, 50.55it/s, loss=0.2304]\n",
      "Epoch 12 | Training loss: 0.2304, validation accuracy: 0.8224, validation loss: 0.6535\n",
      "100%|███████████████████████████████████████████████████████████████████████████████████████████████████████████████████████████████████████████████| 313/313 [00:06<00:00, 50.91it/s, loss=0.2311]\n",
      "Epoch 13 | Training loss: 0.2311, validation accuracy: 0.8224, validation loss: 0.6588\n",
      "100%|███████████████████████████████████████████████████████████████████████████████████████████████████████████████████████████████████████████████| 313/313 [00:06<00:00, 51.70it/s, loss=0.2299]\n",
      "Epoch 14 | Training loss: 0.2299, validation accuracy: 0.8233, validation loss: 0.6460\n",
      "100%|███████████████████████████████████████████████████████████████████████████████████████████████████████████████████████████████████████████████| 313/313 [00:06<00:00, 51.32it/s, loss=0.2296]\n",
      "Epoch 15 | Training loss: 0.2296, validation accuracy: 0.8245, validation loss: 0.6530\n",
      "100%|███████████████████████████████████████████████████████████████████████████████████████████████████████████████████████████████████████████████| 313/313 [00:06<00:00, 50.38it/s, loss=0.2300]\n",
      "Epoch 16 | Training loss: 0.2300, validation accuracy: 0.8232, validation loss: 0.6481\n",
      "100%|███████████████████████████████████████████████████████████████████████████████████████████████████████████████████████████████████████████████| 313/313 [00:06<00:00, 51.29it/s, loss=0.2324]\n",
      "Epoch 17 | Training loss: 0.2324, validation accuracy: 0.8252, validation loss: 0.6479\n",
      "100%|███████████████████████████████████████████████████████████████████████████████████████████████████████████████████████████████████████████████| 313/313 [00:06<00:00, 49.68it/s, loss=0.2260]\n",
      "Epoch 18 | Training loss: 0.2260, validation accuracy: 0.8201, validation loss: 0.6596\n",
      "100%|███████████████████████████████████████████████████████████████████████████████████████████████████████████████████████████████████████████████| 313/313 [00:05<00:00, 52.53it/s, loss=0.2236]\n",
      "Epoch 19 | Training loss: 0.2236, validation accuracy: 0.8220, validation loss: 0.6582\n",
      "100%|███████████████████████████████████████████████████████████████████████████████████████████████████████████████████████████████████████████████| 313/313 [00:06<00:00, 51.08it/s, loss=0.2258]\n",
      "Epoch 20 | Training loss: 0.2258, validation accuracy: 0.8243, validation loss: 0.6578\n"
     ]
    }
   ],
   "source": [
    "epochs = 20\n",
    "\n",
    "for epoch in range(epochs):\n",
    "    train_loss = trainer.train_epoch(model, optimizer, dl[\"train\"])\n",
    "    optimizer.finish_epoch()\n",
    "    val_acc, val_loss = trainer.validation(model, dl[\"valid\"])\n",
    "    logger.log(\"Epoch\", epoch+1, \"|\", \n",
    "          f\"Training loss: {train_loss:.4f}, validation accuracy: {val_acc:.4f}, validation loss: {val_loss:.4f}\")"
   ]
  },
  {
   "cell_type": "code",
   "execution_count": 49,
   "id": "cd8ac69e-8b58-4f7a-98e5-798eb403422f",
   "metadata": {},
   "outputs": [
    {
     "name": "stdout",
     "output_type": "stream",
     "text": [
      "Train: (0.926475, 0.20447875607013702)\n",
      "Valid: (0.8243, 0.6578270555496216)\n"
     ]
    }
   ],
   "source": [
    "train_score = trainer.validation(model, dl[\"train\"])\n",
    "valid_score = trainer.validation(model, dl[\"valid\"])\n",
    "logger.log(\"Train:\", train_score)\n",
    "logger.log(\"Valid:\", valid_score)"
   ]
  },
  {
   "cell_type": "code",
   "execution_count": 50,
   "id": "d9969ade-758c-45f7-85bb-a8f30e51b6dd",
   "metadata": {},
   "outputs": [
    {
     "name": "stdout",
     "output_type": "stream",
     "text": [
      "RNA\n"
     ]
    }
   ],
   "source": [
    "optimizer.param_groups[0][\"method\"] = \"RNA\"\n",
    "logger.log(\"RNA\")\n",
    "model_acc = deepcopy(model)\n",
    "optimizer.accelerate()\n",
    "optimizer.store_parameters([model_acc.parameters()])"
   ]
  },
  {
   "cell_type": "code",
   "execution_count": 51,
   "id": "f0a14d24-5c24-4836-8ea6-d6299fc73674",
   "metadata": {
    "tags": []
   },
   "outputs": [
    {
     "name": "stdout",
     "output_type": "stream",
     "text": [
      "Train: (0.925775, 0.2063621623277664)\n",
      "Valid: (0.8244, 0.6589616132736206)\n"
     ]
    }
   ],
   "source": [
    "model_acc.to(trainer.device)\n",
    "train_score = trainer.validation(model_acc, dl[\"train\"])\n",
    "valid_score = trainer.validation(model_acc, dl[\"valid\"])\n",
    "logger.log(\"Train:\", train_score)\n",
    "logger.log(\"Valid:\", valid_score)"
   ]
  },
  {
   "cell_type": "code",
   "execution_count": 52,
   "id": "4b6f8747-9a7b-4b30-8b91-7275a87fa71a",
   "metadata": {},
   "outputs": [
    {
     "name": "stdout",
     "output_type": "stream",
     "text": [
      "RRE\n"
     ]
    }
   ],
   "source": [
    "optimizer.param_groups[0][\"method\"] = \"RRE\"\n",
    "logger.log(\"RRE\")\n",
    "model_acc = deepcopy(model)\n",
    "optimizer.accelerate()\n",
    "optimizer.store_parameters([model_acc.parameters()])"
   ]
  },
  {
   "cell_type": "code",
   "execution_count": 53,
   "id": "7e530b81-e42b-4a8c-85c4-ec59c8ba6b59",
   "metadata": {
    "tags": []
   },
   "outputs": [
    {
     "name": "stdout",
     "output_type": "stream",
     "text": [
      "Train: (0.92445, 0.21053753056526184)\n",
      "Valid: (0.8244, 0.6589605768203736)\n"
     ]
    }
   ],
   "source": [
    "model_acc.to(trainer.device)\n",
    "train_score = trainer.validation(model_acc, dl[\"train\"])\n",
    "valid_score = trainer.validation(model_acc, dl[\"valid\"])\n",
    "logger.log(\"Train:\", train_score)\n",
    "logger.log(\"Valid:\", valid_score)"
   ]
  },
  {
   "cell_type": "markdown",
   "id": "e916b97d-7012-4b76-8917-5f0999e28367",
   "metadata": {},
   "source": [
    "### Lambda = 1e-8"
   ]
  },
  {
   "cell_type": "code",
   "execution_count": 54,
   "id": "front-train",
   "metadata": {
    "tags": []
   },
   "outputs": [
    {
     "data": {
      "text/plain": [
       "ResNet(\n",
       "  (conv1): Conv2d(3, 64, kernel_size=(7, 7), stride=(2, 2), padding=(3, 3), bias=False)\n",
       "  (bn1): BatchNorm2d(64, eps=1e-05, momentum=0.1, affine=True, track_running_stats=True)\n",
       "  (relu): ReLU(inplace=True)\n",
       "  (maxpool): MaxPool2d(kernel_size=3, stride=2, padding=1, dilation=1, ceil_mode=False)\n",
       "  (layer1): Sequential(\n",
       "    (0): BasicBlock(\n",
       "      (conv1): Conv2d(64, 64, kernel_size=(3, 3), stride=(1, 1), padding=(1, 1), bias=False)\n",
       "      (bn1): BatchNorm2d(64, eps=1e-05, momentum=0.1, affine=True, track_running_stats=True)\n",
       "      (relu): ReLU(inplace=True)\n",
       "      (conv2): Conv2d(64, 64, kernel_size=(3, 3), stride=(1, 1), padding=(1, 1), bias=False)\n",
       "      (bn2): BatchNorm2d(64, eps=1e-05, momentum=0.1, affine=True, track_running_stats=True)\n",
       "    )\n",
       "    (1): BasicBlock(\n",
       "      (conv1): Conv2d(64, 64, kernel_size=(3, 3), stride=(1, 1), padding=(1, 1), bias=False)\n",
       "      (bn1): BatchNorm2d(64, eps=1e-05, momentum=0.1, affine=True, track_running_stats=True)\n",
       "      (relu): ReLU(inplace=True)\n",
       "      (conv2): Conv2d(64, 64, kernel_size=(3, 3), stride=(1, 1), padding=(1, 1), bias=False)\n",
       "      (bn2): BatchNorm2d(64, eps=1e-05, momentum=0.1, affine=True, track_running_stats=True)\n",
       "    )\n",
       "  )\n",
       "  (layer2): Sequential(\n",
       "    (0): BasicBlock(\n",
       "      (conv1): Conv2d(64, 128, kernel_size=(3, 3), stride=(2, 2), padding=(1, 1), bias=False)\n",
       "      (bn1): BatchNorm2d(128, eps=1e-05, momentum=0.1, affine=True, track_running_stats=True)\n",
       "      (relu): ReLU(inplace=True)\n",
       "      (conv2): Conv2d(128, 128, kernel_size=(3, 3), stride=(1, 1), padding=(1, 1), bias=False)\n",
       "      (bn2): BatchNorm2d(128, eps=1e-05, momentum=0.1, affine=True, track_running_stats=True)\n",
       "      (downsample): Sequential(\n",
       "        (0): Conv2d(64, 128, kernel_size=(1, 1), stride=(2, 2), bias=False)\n",
       "        (1): BatchNorm2d(128, eps=1e-05, momentum=0.1, affine=True, track_running_stats=True)\n",
       "      )\n",
       "    )\n",
       "    (1): BasicBlock(\n",
       "      (conv1): Conv2d(128, 128, kernel_size=(3, 3), stride=(1, 1), padding=(1, 1), bias=False)\n",
       "      (bn1): BatchNorm2d(128, eps=1e-05, momentum=0.1, affine=True, track_running_stats=True)\n",
       "      (relu): ReLU(inplace=True)\n",
       "      (conv2): Conv2d(128, 128, kernel_size=(3, 3), stride=(1, 1), padding=(1, 1), bias=False)\n",
       "      (bn2): BatchNorm2d(128, eps=1e-05, momentum=0.1, affine=True, track_running_stats=True)\n",
       "    )\n",
       "  )\n",
       "  (layer3): Sequential(\n",
       "    (0): BasicBlock(\n",
       "      (conv1): Conv2d(128, 256, kernel_size=(3, 3), stride=(2, 2), padding=(1, 1), bias=False)\n",
       "      (bn1): BatchNorm2d(256, eps=1e-05, momentum=0.1, affine=True, track_running_stats=True)\n",
       "      (relu): ReLU(inplace=True)\n",
       "      (conv2): Conv2d(256, 256, kernel_size=(3, 3), stride=(1, 1), padding=(1, 1), bias=False)\n",
       "      (bn2): BatchNorm2d(256, eps=1e-05, momentum=0.1, affine=True, track_running_stats=True)\n",
       "      (downsample): Sequential(\n",
       "        (0): Conv2d(128, 256, kernel_size=(1, 1), stride=(2, 2), bias=False)\n",
       "        (1): BatchNorm2d(256, eps=1e-05, momentum=0.1, affine=True, track_running_stats=True)\n",
       "      )\n",
       "    )\n",
       "    (1): BasicBlock(\n",
       "      (conv1): Conv2d(256, 256, kernel_size=(3, 3), stride=(1, 1), padding=(1, 1), bias=False)\n",
       "      (bn1): BatchNorm2d(256, eps=1e-05, momentum=0.1, affine=True, track_running_stats=True)\n",
       "      (relu): ReLU(inplace=True)\n",
       "      (conv2): Conv2d(256, 256, kernel_size=(3, 3), stride=(1, 1), padding=(1, 1), bias=False)\n",
       "      (bn2): BatchNorm2d(256, eps=1e-05, momentum=0.1, affine=True, track_running_stats=True)\n",
       "    )\n",
       "  )\n",
       "  (layer4): Sequential(\n",
       "    (0): BasicBlock(\n",
       "      (conv1): Conv2d(256, 512, kernel_size=(3, 3), stride=(2, 2), padding=(1, 1), bias=False)\n",
       "      (bn1): BatchNorm2d(512, eps=1e-05, momentum=0.1, affine=True, track_running_stats=True)\n",
       "      (relu): ReLU(inplace=True)\n",
       "      (conv2): Conv2d(512, 512, kernel_size=(3, 3), stride=(1, 1), padding=(1, 1), bias=False)\n",
       "      (bn2): BatchNorm2d(512, eps=1e-05, momentum=0.1, affine=True, track_running_stats=True)\n",
       "      (downsample): Sequential(\n",
       "        (0): Conv2d(256, 512, kernel_size=(1, 1), stride=(2, 2), bias=False)\n",
       "        (1): BatchNorm2d(512, eps=1e-05, momentum=0.1, affine=True, track_running_stats=True)\n",
       "      )\n",
       "    )\n",
       "    (1): BasicBlock(\n",
       "      (conv1): Conv2d(512, 512, kernel_size=(3, 3), stride=(1, 1), padding=(1, 1), bias=False)\n",
       "      (bn1): BatchNorm2d(512, eps=1e-05, momentum=0.1, affine=True, track_running_stats=True)\n",
       "      (relu): ReLU(inplace=True)\n",
       "      (conv2): Conv2d(512, 512, kernel_size=(3, 3), stride=(1, 1), padding=(1, 1), bias=False)\n",
       "      (bn2): BatchNorm2d(512, eps=1e-05, momentum=0.1, affine=True, track_running_stats=True)\n",
       "    )\n",
       "  )\n",
       "  (avgpool): AdaptiveAvgPool2d(output_size=(1, 1))\n",
       "  (fc): Sequential(\n",
       "    (0): Linear(in_features=512, out_features=10, bias=True)\n",
       "    (1): LogSoftmax(dim=-1)\n",
       "  )\n",
       ")"
      ]
     },
     "execution_count": 54,
     "metadata": {},
     "output_type": "execute_result"
    }
   ],
   "source": [
    "model.load_state_dict(initial_state)\n",
    "model.to(trainer.device)"
   ]
  },
  {
   "cell_type": "code",
   "execution_count": 55,
   "id": "ead40ba4-397d-4405-bad5-8348857018a2",
   "metadata": {},
   "outputs": [
    {
     "data": {
      "text/plain": [
       "(0.1024, 2.3916895107269287)"
      ]
     },
     "execution_count": 55,
     "metadata": {},
     "output_type": "execute_result"
    }
   ],
   "source": [
    "trainer.validation(model, dl[\"valid\"])"
   ]
  },
  {
   "cell_type": "code",
   "execution_count": 56,
   "id": "sweet-judge",
   "metadata": {},
   "outputs": [
    {
     "data": {
      "text/plain": [
       "<torch._C.Generator at 0x7f0654071110>"
      ]
     },
     "execution_count": 56,
     "metadata": {},
     "output_type": "execute_result"
    }
   ],
   "source": [
    "optimizer = AcceleratedSGD(model.parameters(), 1e-1, k=10, momentum=0.9, weight_decay=1e-5, lambda_=1e-8)\n",
    "logger = Logger(\"resnet_log_augmentation.txt.no_resizing\")\n",
    "torch.manual_seed(2020)"
   ]
  },
  {
   "cell_type": "code",
   "execution_count": 57,
   "id": "6ccec233-bb10-416e-a52b-f51d1cf7d84f",
   "metadata": {},
   "outputs": [
    {
     "name": "stdout",
     "output_type": "stream",
     "text": [
      "100%|███████████████████████████████████████████████████████████████████████████████████████████████████████████████████████████████████████████████| 313/313 [00:05<00:00, 53.04it/s, loss=2.2067]\n",
      "Epoch 1 | Training loss: 2.2067, validation accuracy: 0.3481, validation loss: 1.8675\n",
      "100%|███████████████████████████████████████████████████████████████████████████████████████████████████████████████████████████████████████████████| 313/313 [00:06<00:00, 52.00it/s, loss=1.6652]\n",
      "Epoch 2 | Training loss: 1.6652, validation accuracy: 0.4037, validation loss: 1.5892\n",
      "100%|███████████████████████████████████████████████████████████████████████████████████████████████████████████████████████████████████████████████| 313/313 [00:05<00:00, 53.55it/s, loss=1.5062]\n",
      "Epoch 3 | Training loss: 1.5062, validation accuracy: 0.4608, validation loss: 1.4587\n",
      "100%|███████████████████████████████████████████████████████████████████████████████████████████████████████████████████████████████████████████████| 313/313 [00:05<00:00, 53.62it/s, loss=1.3866]\n",
      "Epoch 4 | Training loss: 1.3866, validation accuracy: 0.5228, validation loss: 1.3398\n",
      "100%|███████████████████████████████████████████████████████████████████████████████████████████████████████████████████████████████████████████████| 313/313 [00:05<00:00, 52.63it/s, loss=1.3125]\n",
      "Epoch 5 | Training loss: 1.3125, validation accuracy: 0.5542, validation loss: 1.2291\n",
      "100%|███████████████████████████████████████████████████████████████████████████████████████████████████████████████████████████████████████████████| 313/313 [00:05<00:00, 53.16it/s, loss=1.2232]\n",
      "Epoch 6 | Training loss: 1.2232, validation accuracy: 0.5999, validation loss: 1.1450\n",
      "100%|███████████████████████████████████████████████████████████████████████████████████████████████████████████████████████████████████████████████| 313/313 [00:05<00:00, 52.95it/s, loss=1.1832]\n",
      "Epoch 7 | Training loss: 1.1832, validation accuracy: 0.6085, validation loss: 1.1079\n",
      "100%|███████████████████████████████████████████████████████████████████████████████████████████████████████████████████████████████████████████████| 313/313 [00:05<00:00, 53.15it/s, loss=1.0937]\n",
      "Epoch 8 | Training loss: 1.0937, validation accuracy: 0.6444, validation loss: 1.0181\n",
      "100%|███████████████████████████████████████████████████████████████████████████████████████████████████████████████████████████████████████████████| 313/313 [00:05<00:00, 52.78it/s, loss=1.0423]\n",
      "Epoch 9 | Training loss: 1.0423, validation accuracy: 0.6629, validation loss: 0.9641\n",
      "100%|███████████████████████████████████████████████████████████████████████████████████████████████████████████████████████████████████████████████| 313/313 [00:05<00:00, 52.91it/s, loss=0.9915]\n",
      "Epoch 10 | Training loss: 0.9915, validation accuracy: 0.6533, validation loss: 0.9794\n",
      "100%|███████████████████████████████████████████████████████████████████████████████████████████████████████████████████████████████████████████████| 313/313 [00:05<00:00, 52.44it/s, loss=0.9528]\n",
      "Epoch 11 | Training loss: 0.9528, validation accuracy: 0.6859, validation loss: 0.9035\n",
      "100%|███████████████████████████████████████████████████████████████████████████████████████████████████████████████████████████████████████████████| 313/313 [00:05<00:00, 52.30it/s, loss=0.9201]\n",
      "Epoch 12 | Training loss: 0.9201, validation accuracy: 0.7139, validation loss: 0.8222\n",
      "100%|███████████████████████████████████████████████████████████████████████████████████████████████████████████████████████████████████████████████| 313/313 [00:05<00:00, 52.93it/s, loss=0.8858]\n",
      "Epoch 13 | Training loss: 0.8858, validation accuracy: 0.6956, validation loss: 0.8809\n",
      "100%|███████████████████████████████████████████████████████████████████████████████████████████████████████████████████████████████████████████████| 313/313 [00:05<00:00, 53.05it/s, loss=0.8567]\n",
      "Epoch 14 | Training loss: 0.8567, validation accuracy: 0.7319, validation loss: 0.7888\n",
      "100%|███████████████████████████████████████████████████████████████████████████████████████████████████████████████████████████████████████████████| 313/313 [00:05<00:00, 52.92it/s, loss=0.8365]\n",
      "Epoch 15 | Training loss: 0.8365, validation accuracy: 0.6990, validation loss: 0.8728\n",
      "100%|███████████████████████████████████████████████████████████████████████████████████████████████████████████████████████████████████████████████| 313/313 [00:05<00:00, 52.97it/s, loss=0.8073]\n",
      "Epoch 16 | Training loss: 0.8073, validation accuracy: 0.7303, validation loss: 0.8012\n",
      "100%|███████████████████████████████████████████████████████████████████████████████████████████████████████████████████████████████████████████████| 313/313 [00:05<00:00, 52.95it/s, loss=0.7793]\n",
      "Epoch 17 | Training loss: 0.7793, validation accuracy: 0.7108, validation loss: 0.8509\n",
      "100%|███████████████████████████████████████████████████████████████████████████████████████████████████████████████████████████████████████████████| 313/313 [00:06<00:00, 51.96it/s, loss=0.7660]\n",
      "Epoch 18 | Training loss: 0.7660, validation accuracy: 0.7304, validation loss: 0.7851\n",
      "100%|███████████████████████████████████████████████████████████████████████████████████████████████████████████████████████████████████████████████| 313/313 [00:06<00:00, 51.31it/s, loss=0.7460]\n",
      "Epoch 19 | Training loss: 0.7460, validation accuracy: 0.7396, validation loss: 0.7602\n",
      "100%|███████████████████████████████████████████████████████████████████████████████████████████████████████████████████████████████████████████████| 313/313 [00:06<00:00, 51.77it/s, loss=0.7264]\n",
      "Epoch 20 | Training loss: 0.7264, validation accuracy: 0.7502, validation loss: 0.7402\n",
      "100%|███████████████████████████████████████████████████████████████████████████████████████████████████████████████████████████████████████████████| 313/313 [00:06<00:00, 52.13it/s, loss=0.7048]\n",
      "Epoch 21 | Training loss: 0.7048, validation accuracy: 0.7486, validation loss: 0.7302\n",
      "100%|███████████████████████████████████████████████████████████████████████████████████████████████████████████████████████████████████████████████| 313/313 [00:05<00:00, 52.30it/s, loss=0.6905]\n",
      "Epoch 22 | Training loss: 0.6905, validation accuracy: 0.7345, validation loss: 0.8065\n",
      "100%|███████████████████████████████████████████████████████████████████████████████████████████████████████████████████████████████████████████████| 313/313 [00:06<00:00, 51.89it/s, loss=0.6768]\n",
      "Epoch 23 | Training loss: 0.6768, validation accuracy: 0.7675, validation loss: 0.6888\n",
      "100%|███████████████████████████████████████████████████████████████████████████████████████████████████████████████████████████████████████████████| 313/313 [00:06<00:00, 51.01it/s, loss=0.6620]\n",
      "Epoch 24 | Training loss: 0.6620, validation accuracy: 0.7646, validation loss: 0.6941\n",
      "100%|███████████████████████████████████████████████████████████████████████████████████████████████████████████████████████████████████████████████| 313/313 [00:06<00:00, 50.97it/s, loss=0.6451]\n",
      "Epoch 25 | Training loss: 0.6451, validation accuracy: 0.7538, validation loss: 0.7731\n",
      "100%|███████████████████████████████████████████████████████████████████████████████████████████████████████████████████████████████████████████████| 313/313 [00:06<00:00, 51.49it/s, loss=0.6356]\n",
      "Epoch 26 | Training loss: 0.6356, validation accuracy: 0.7644, validation loss: 0.7040\n",
      "100%|███████████████████████████████████████████████████████████████████████████████████████████████████████████████████████████████████████████████| 313/313 [00:06<00:00, 51.90it/s, loss=0.6282]\n",
      "Epoch 27 | Training loss: 0.6282, validation accuracy: 0.7749, validation loss: 0.6774\n",
      "100%|███████████████████████████████████████████████████████████████████████████████████████████████████████████████████████████████████████████████| 313/313 [00:06<00:00, 52.02it/s, loss=0.6067]\n",
      "Epoch 28 | Training loss: 0.6067, validation accuracy: 0.7702, validation loss: 0.6899\n",
      "100%|███████████████████████████████████████████████████████████████████████████████████████████████████████████████████████████████████████████████| 313/313 [00:06<00:00, 51.30it/s, loss=0.5919]\n",
      "Epoch 29 | Training loss: 0.5919, validation accuracy: 0.7880, validation loss: 0.6312\n",
      "100%|███████████████████████████████████████████████████████████████████████████████████████████████████████████████████████████████████████████████| 313/313 [00:06<00:00, 49.22it/s, loss=0.5780]\n",
      "Epoch 30 | Training loss: 0.5780, validation accuracy: 0.7702, validation loss: 0.7124\n",
      "100%|███████████████████████████████████████████████████████████████████████████████████████████████████████████████████████████████████████████████| 313/313 [00:06<00:00, 49.84it/s, loss=0.5725]\n",
      "Epoch 31 | Training loss: 0.5725, validation accuracy: 0.7848, validation loss: 0.6310\n",
      "100%|███████████████████████████████████████████████████████████████████████████████████████████████████████████████████████████████████████████████| 313/313 [00:06<00:00, 51.15it/s, loss=0.5607]\n",
      "Epoch 32 | Training loss: 0.5607, validation accuracy: 0.7867, validation loss: 0.6787\n",
      "100%|███████████████████████████████████████████████████████████████████████████████████████████████████████████████████████████████████████████████| 313/313 [00:06<00:00, 50.42it/s, loss=0.5527]\n",
      "Epoch 33 | Training loss: 0.5527, validation accuracy: 0.7961, validation loss: 0.6295\n",
      "100%|███████████████████████████████████████████████████████████████████████████████████████████████████████████████████████████████████████████████| 313/313 [00:06<00:00, 51.35it/s, loss=0.5451]\n",
      "Epoch 34 | Training loss: 0.5451, validation accuracy: 0.7898, validation loss: 0.6337\n",
      "100%|███████████████████████████████████████████████████████████████████████████████████████████████████████████████████████████████████████████████| 313/313 [00:06<00:00, 51.87it/s, loss=0.5357]\n",
      "Epoch 35 | Training loss: 0.5357, validation accuracy: 0.7849, validation loss: 0.6601\n",
      "100%|███████████████████████████████████████████████████████████████████████████████████████████████████████████████████████████████████████████████| 313/313 [00:06<00:00, 51.71it/s, loss=0.5217]\n",
      "Epoch 36 | Training loss: 0.5217, validation accuracy: 0.7813, validation loss: 0.6575\n",
      "100%|███████████████████████████████████████████████████████████████████████████████████████████████████████████████████████████████████████████████| 313/313 [00:05<00:00, 52.23it/s, loss=0.5124]\n",
      "Epoch 37 | Training loss: 0.5124, validation accuracy: 0.7899, validation loss: 0.6447\n",
      "100%|███████████████████████████████████████████████████████████████████████████████████████████████████████████████████████████████████████████████| 313/313 [00:06<00:00, 52.01it/s, loss=0.5054]\n",
      "Epoch 38 | Training loss: 0.5054, validation accuracy: 0.7870, validation loss: 0.6446\n",
      "100%|███████████████████████████████████████████████████████████████████████████████████████████████████████████████████████████████████████████████| 313/313 [00:05<00:00, 52.78it/s, loss=0.4941]\n",
      "Epoch 39 | Training loss: 0.4941, validation accuracy: 0.7834, validation loss: 0.6782\n",
      "100%|███████████████████████████████████████████████████████████████████████████████████████████████████████████████████████████████████████████████| 313/313 [00:05<00:00, 52.41it/s, loss=0.4924]\n",
      "Epoch 40 | Training loss: 0.4924, validation accuracy: 0.7958, validation loss: 0.6295\n",
      "100%|███████████████████████████████████████████████████████████████████████████████████████████████████████████████████████████████████████████████| 313/313 [00:06<00:00, 52.00it/s, loss=0.4801]\n",
      "Epoch 41 | Training loss: 0.4801, validation accuracy: 0.7839, validation loss: 0.6730\n",
      "100%|███████████████████████████████████████████████████████████████████████████████████████████████████████████████████████████████████████████████| 313/313 [00:06<00:00, 51.58it/s, loss=0.4712]\n",
      "Epoch 42 | Training loss: 0.4712, validation accuracy: 0.7915, validation loss: 0.6663\n",
      "100%|███████████████████████████████████████████████████████████████████████████████████████████████████████████████████████████████████████████████| 313/313 [00:05<00:00, 52.22it/s, loss=0.4672]\n",
      "Epoch 43 | Training loss: 0.4672, validation accuracy: 0.7993, validation loss: 0.6554\n",
      "100%|███████████████████████████████████████████████████████████████████████████████████████████████████████████████████████████████████████████████| 313/313 [00:05<00:00, 52.44it/s, loss=0.4596]\n",
      "Epoch 44 | Training loss: 0.4596, validation accuracy: 0.7978, validation loss: 0.6287\n",
      "100%|███████████████████████████████████████████████████████████████████████████████████████████████████████████████████████████████████████████████| 313/313 [00:05<00:00, 53.04it/s, loss=0.4488]\n",
      "Epoch 45 | Training loss: 0.4488, validation accuracy: 0.7967, validation loss: 0.6372\n"
     ]
    }
   ],
   "source": [
    "epochs = 45\n",
    "\n",
    "for epoch in range(epochs):\n",
    "    train_loss = trainer.train_epoch(model, optimizer, dl[\"train\"])\n",
    "    optimizer.finish_epoch()\n",
    "    val_acc, val_loss = trainer.validation(model, dl[\"valid\"])\n",
    "    logger.log(\"Epoch\", epoch+1, \"|\", \n",
    "          f\"Training loss: {train_loss:.4f}, validation accuracy: {val_acc:.4f}, validation loss: {val_loss:.4f}\")"
   ]
  },
  {
   "cell_type": "code",
   "execution_count": 58,
   "id": "d7f57b14-1e56-4ecf-91a7-0fe00a7a73b2",
   "metadata": {},
   "outputs": [
    {
     "name": "stdout",
     "output_type": "stream",
     "text": [
      "Train: (0.857775, 0.4060311490058899)\n",
      "Valid: (0.7967, 0.6371520111083985)\n"
     ]
    }
   ],
   "source": [
    "train_score = trainer.validation(model, dl[\"train\"])\n",
    "valid_score = trainer.validation(model, dl[\"valid\"])\n",
    "logger.log(\"Train:\", train_score)\n",
    "logger.log(\"Valid:\", valid_score)"
   ]
  },
  {
   "cell_type": "code",
   "execution_count": 59,
   "id": "feaeeebe-6668-4026-b1be-6da4d9428960",
   "metadata": {},
   "outputs": [
    {
     "name": "stdout",
     "output_type": "stream",
     "text": [
      "RNA\n"
     ]
    }
   ],
   "source": [
    "optimizer.param_groups[0][\"method\"] = \"RNA\"\n",
    "logger.log(\"RNA\")\n",
    "model_acc = deepcopy(model)\n",
    "optimizer.accelerate()\n",
    "optimizer.store_parameters([model_acc.parameters()])"
   ]
  },
  {
   "cell_type": "code",
   "execution_count": 60,
   "id": "ecda995e-26e1-48be-b5fb-09c71dc1a5f1",
   "metadata": {
    "tags": []
   },
   "outputs": [
    {
     "name": "stdout",
     "output_type": "stream",
     "text": [
      "Train: (0.856825, 0.4043162042379379)\n",
      "Valid: (0.8034, 0.6193351472854615)\n"
     ]
    }
   ],
   "source": [
    "model_acc.to(trainer.device)\n",
    "train_score = trainer.validation(model_acc, dl[\"train\"])\n",
    "valid_score = trainer.validation(model_acc, dl[\"valid\"])\n",
    "logger.log(\"Train:\", train_score)\n",
    "logger.log(\"Valid:\", valid_score)"
   ]
  },
  {
   "cell_type": "code",
   "execution_count": 61,
   "id": "f8fc2877-8ff7-4604-818e-d35af6ab2e2f",
   "metadata": {},
   "outputs": [
    {
     "name": "stdout",
     "output_type": "stream",
     "text": [
      "RRE\n"
     ]
    }
   ],
   "source": [
    "optimizer.param_groups[0][\"method\"] = \"RRE\"\n",
    "logger.log(\"RRE\")\n",
    "model_acc = deepcopy(model)\n",
    "optimizer.accelerate()\n",
    "optimizer.store_parameters([model_acc.parameters()])"
   ]
  },
  {
   "cell_type": "code",
   "execution_count": 62,
   "id": "ce69a19f-e2d5-453d-9a75-744a4a27e17b",
   "metadata": {
    "tags": []
   },
   "outputs": [
    {
     "name": "stdout",
     "output_type": "stream",
     "text": [
      "Train: (0.85975, 0.4040320307254791)\n",
      "Valid: (0.8034, 0.6193838153839112)\n"
     ]
    }
   ],
   "source": [
    "model_acc.to(trainer.device)\n",
    "train_score = trainer.validation(model_acc, dl[\"train\"])\n",
    "valid_score = trainer.validation(model_acc, dl[\"valid\"])\n",
    "logger.log(\"Train:\", train_score)\n",
    "logger.log(\"Valid:\", valid_score)"
   ]
  },
  {
   "cell_type": "code",
   "execution_count": 63,
   "id": "4c30eee8-c114-4233-b421-58123888ebf1",
   "metadata": {},
   "outputs": [],
   "source": [
    "optimizer.param_groups[0][\"lr\"] = 1e-2"
   ]
  },
  {
   "cell_type": "code",
   "execution_count": 64,
   "id": "6baec32a-71fa-45a4-99e0-7f3ff9aca932",
   "metadata": {},
   "outputs": [
    {
     "name": "stdout",
     "output_type": "stream",
     "text": [
      "100%|███████████████████████████████████████████████████████████████████████████████████████████████████████████████████████████████████████████████| 313/313 [00:06<00:00, 51.95it/s, loss=0.3581]\n",
      "Epoch 1 | Training loss: 0.3581, validation accuracy: 0.8186, validation loss: 0.5834\n",
      "100%|███████████████████████████████████████████████████████████████████████████████████████████████████████████████████████████████████████████████| 313/313 [00:05<00:00, 52.30it/s, loss=0.3269]\n",
      "Epoch 2 | Training loss: 0.3269, validation accuracy: 0.8209, validation loss: 0.5844\n",
      "100%|███████████████████████████████████████████████████████████████████████████████████████████████████████████████████████████████████████████████| 313/313 [00:06<00:00, 51.99it/s, loss=0.3152]\n",
      "Epoch 3 | Training loss: 0.3152, validation accuracy: 0.8217, validation loss: 0.5968\n",
      "100%|███████████████████████████████████████████████████████████████████████████████████████████████████████████████████████████████████████████████| 313/313 [00:05<00:00, 52.57it/s, loss=0.3059]\n",
      "Epoch 4 | Training loss: 0.3059, validation accuracy: 0.8237, validation loss: 0.5940\n",
      "100%|███████████████████████████████████████████████████████████████████████████████████████████████████████████████████████████████████████████████| 313/313 [00:06<00:00, 51.19it/s, loss=0.2994]\n",
      "Epoch 5 | Training loss: 0.2994, validation accuracy: 0.8213, validation loss: 0.5940\n",
      "100%|███████████████████████████████████████████████████████████████████████████████████████████████████████████████████████████████████████████████| 313/313 [00:06<00:00, 50.61it/s, loss=0.2987]\n",
      "Epoch 6 | Training loss: 0.2987, validation accuracy: 0.8202, validation loss: 0.5924\n",
      "100%|███████████████████████████████████████████████████████████████████████████████████████████████████████████████████████████████████████████████| 313/313 [00:05<00:00, 52.74it/s, loss=0.2939]\n",
      "Epoch 7 | Training loss: 0.2939, validation accuracy: 0.8209, validation loss: 0.6027\n",
      "100%|███████████████████████████████████████████████████████████████████████████████████████████████████████████████████████████████████████████████| 313/313 [00:05<00:00, 52.63it/s, loss=0.2854]\n",
      "Epoch 8 | Training loss: 0.2854, validation accuracy: 0.8226, validation loss: 0.6020\n",
      "100%|███████████████████████████████████████████████████████████████████████████████████████████████████████████████████████████████████████████████| 313/313 [00:05<00:00, 52.84it/s, loss=0.2826]\n",
      "Epoch 9 | Training loss: 0.2826, validation accuracy: 0.8206, validation loss: 0.6145\n",
      "100%|███████████████████████████████████████████████████████████████████████████████████████████████████████████████████████████████████████████████| 313/313 [00:05<00:00, 52.88it/s, loss=0.2786]\n",
      "Epoch 10 | Training loss: 0.2786, validation accuracy: 0.8195, validation loss: 0.6182\n",
      "100%|███████████████████████████████████████████████████████████████████████████████████████████████████████████████████████████████████████████████| 313/313 [00:05<00:00, 52.52it/s, loss=0.2726]\n",
      "Epoch 11 | Training loss: 0.2726, validation accuracy: 0.8242, validation loss: 0.6009\n",
      "100%|███████████████████████████████████████████████████████████████████████████████████████████████████████████████████████████████████████████████| 313/313 [00:05<00:00, 52.36it/s, loss=0.2694]\n",
      "Epoch 12 | Training loss: 0.2694, validation accuracy: 0.8195, validation loss: 0.6105\n",
      "100%|███████████████████████████████████████████████████████████████████████████████████████████████████████████████████████████████████████████████| 313/313 [00:05<00:00, 52.86it/s, loss=0.2677]\n",
      "Epoch 13 | Training loss: 0.2677, validation accuracy: 0.8215, validation loss: 0.6226\n",
      "100%|███████████████████████████████████████████████████████████████████████████████████████████████████████████████████████████████████████████████| 313/313 [00:06<00:00, 50.23it/s, loss=0.2689]\n",
      "Epoch 14 | Training loss: 0.2689, validation accuracy: 0.8213, validation loss: 0.6165\n",
      "100%|███████████████████████████████████████████████████████████████████████████████████████████████████████████████████████████████████████████████| 313/313 [00:05<00:00, 52.97it/s, loss=0.2655]\n",
      "Epoch 15 | Training loss: 0.2655, validation accuracy: 0.8215, validation loss: 0.6127\n",
      "100%|███████████████████████████████████████████████████████████████████████████████████████████████████████████████████████████████████████████████| 313/313 [00:05<00:00, 52.74it/s, loss=0.2565]\n",
      "Epoch 16 | Training loss: 0.2565, validation accuracy: 0.8236, validation loss: 0.6366\n",
      "100%|███████████████████████████████████████████████████████████████████████████████████████████████████████████████████████████████████████████████| 313/313 [00:05<00:00, 52.41it/s, loss=0.2537]\n",
      "Epoch 17 | Training loss: 0.2537, validation accuracy: 0.8232, validation loss: 0.6323\n",
      "100%|███████████████████████████████████████████████████████████████████████████████████████████████████████████████████████████████████████████████| 313/313 [00:05<00:00, 53.12it/s, loss=0.2548]\n",
      "Epoch 18 | Training loss: 0.2548, validation accuracy: 0.8205, validation loss: 0.6226\n",
      "100%|███████████████████████████████████████████████████████████████████████████████████████████████████████████████████████████████████████████████| 313/313 [00:05<00:00, 52.62it/s, loss=0.2523]\n",
      "Epoch 19 | Training loss: 0.2523, validation accuracy: 0.8219, validation loss: 0.6344\n",
      "100%|███████████████████████████████████████████████████████████████████████████████████████████████████████████████████████████████████████████████| 313/313 [00:05<00:00, 53.12it/s, loss=0.2509]\n",
      "Epoch 20 | Training loss: 0.2509, validation accuracy: 0.8227, validation loss: 0.6296\n"
     ]
    }
   ],
   "source": [
    "epochs = 20\n",
    "\n",
    "for epoch in range(epochs):\n",
    "    train_loss = trainer.train_epoch(model, optimizer, dl[\"train\"])\n",
    "    optimizer.finish_epoch()\n",
    "    val_acc, val_loss = trainer.validation(model, dl[\"valid\"])\n",
    "    logger.log(\"Epoch\", epoch+1, \"|\", \n",
    "          f\"Training loss: {train_loss:.4f}, validation accuracy: {val_acc:.4f}, validation loss: {val_loss:.4f}\")"
   ]
  },
  {
   "cell_type": "code",
   "execution_count": 65,
   "id": "8f71a083-9be9-46a6-9171-61738b54e143",
   "metadata": {},
   "outputs": [
    {
     "name": "stdout",
     "output_type": "stream",
     "text": [
      "Train: (0.920725, 0.2241452866077423)\n",
      "Valid: (0.8227, 0.6296474899291992)\n"
     ]
    }
   ],
   "source": [
    "train_score = trainer.validation(model, dl[\"train\"])\n",
    "valid_score = trainer.validation(model, dl[\"valid\"])\n",
    "logger.log(\"Train:\", train_score)\n",
    "logger.log(\"Valid:\", valid_score)"
   ]
  },
  {
   "cell_type": "code",
   "execution_count": 66,
   "id": "b47c4321-b1af-4aa9-be43-5d91757bd5d2",
   "metadata": {},
   "outputs": [
    {
     "name": "stdout",
     "output_type": "stream",
     "text": [
      "RNA\n"
     ]
    }
   ],
   "source": [
    "optimizer.param_groups[0][\"method\"] = \"RNA\"\n",
    "logger.log(\"RNA\")\n",
    "model_acc = deepcopy(model)\n",
    "optimizer.accelerate()\n",
    "optimizer.store_parameters([model_acc.parameters()])"
   ]
  },
  {
   "cell_type": "code",
   "execution_count": 67,
   "id": "c6e6d044-79ae-4caa-bf4c-cd50176cd234",
   "metadata": {
    "tags": []
   },
   "outputs": [
    {
     "name": "stdout",
     "output_type": "stream",
     "text": [
      "Train: (0.915925, 0.2331008595943451)\n",
      "Valid: (0.8195, 0.6519404945373535)\n"
     ]
    }
   ],
   "source": [
    "model_acc.to(trainer.device)\n",
    "train_score = trainer.validation(model_acc, dl[\"train\"])\n",
    "valid_score = trainer.validation(model_acc, dl[\"valid\"])\n",
    "logger.log(\"Train:\", train_score)\n",
    "logger.log(\"Valid:\", valid_score)"
   ]
  },
  {
   "cell_type": "code",
   "execution_count": 68,
   "id": "aaad4ad1-0f4e-4514-8e3f-9fd30e09f7e5",
   "metadata": {},
   "outputs": [
    {
     "name": "stdout",
     "output_type": "stream",
     "text": [
      "RRE\n"
     ]
    }
   ],
   "source": [
    "optimizer.param_groups[0][\"method\"] = \"RRE\"\n",
    "logger.log(\"RRE\")\n",
    "model_acc = deepcopy(model)\n",
    "optimizer.accelerate()\n",
    "optimizer.store_parameters([model_acc.parameters()])"
   ]
  },
  {
   "cell_type": "code",
   "execution_count": 69,
   "id": "eba3c71a-ecf9-443f-a993-cd3bc0c06ae4",
   "metadata": {
    "tags": []
   },
   "outputs": [
    {
     "name": "stdout",
     "output_type": "stream",
     "text": [
      "Train: (0.915675, 0.2386408855199814)\n",
      "Valid: (0.8195, 0.6519443071365356)\n"
     ]
    }
   ],
   "source": [
    "model_acc.to(trainer.device)\n",
    "train_score = trainer.validation(model_acc, dl[\"train\"])\n",
    "valid_score = trainer.validation(model_acc, dl[\"valid\"])\n",
    "logger.log(\"Train:\", train_score)\n",
    "logger.log(\"Valid:\", valid_score)"
   ]
  },
  {
   "cell_type": "code",
   "execution_count": 70,
   "id": "82e6b5c4-8c10-49fd-9098-24db99510557",
   "metadata": {},
   "outputs": [],
   "source": [
    "optimizer.param_groups[0][\"lr\"] = 1e-3"
   ]
  },
  {
   "cell_type": "code",
   "execution_count": 71,
   "id": "46d845b2-7f65-4256-bbc1-72dc61087c4c",
   "metadata": {},
   "outputs": [
    {
     "name": "stdout",
     "output_type": "stream",
     "text": [
      "100%|███████████████████████████████████████████████████████████████████████████████████████████████████████████████████████████████████████████████| 313/313 [00:05<00:00, 52.58it/s, loss=0.2453]\n",
      "Epoch 1 | Training loss: 0.2453, validation accuracy: 0.8224, validation loss: 0.6194\n",
      "100%|███████████████████████████████████████████████████████████████████████████████████████████████████████████████████████████████████████████████| 313/313 [00:05<00:00, 52.62it/s, loss=0.2362]\n",
      "Epoch 2 | Training loss: 0.2362, validation accuracy: 0.8228, validation loss: 0.6214\n",
      "100%|███████████████████████████████████████████████████████████████████████████████████████████████████████████████████████████████████████████████| 313/313 [00:05<00:00, 52.40it/s, loss=0.2356]\n",
      "Epoch 3 | Training loss: 0.2356, validation accuracy: 0.8222, validation loss: 0.6391\n",
      "100%|███████████████████████████████████████████████████████████████████████████████████████████████████████████████████████████████████████████████| 313/313 [00:05<00:00, 52.70it/s, loss=0.2360]\n",
      "Epoch 4 | Training loss: 0.2360, validation accuracy: 0.8220, validation loss: 0.6377\n",
      "100%|███████████████████████████████████████████████████████████████████████████████████████████████████████████████████████████████████████████████| 313/313 [00:05<00:00, 52.35it/s, loss=0.2331]\n",
      "Epoch 5 | Training loss: 0.2331, validation accuracy: 0.8220, validation loss: 0.6373\n",
      "100%|███████████████████████████████████████████████████████████████████████████████████████████████████████████████████████████████████████████████| 313/313 [00:05<00:00, 52.91it/s, loss=0.2348]\n",
      "Epoch 6 | Training loss: 0.2348, validation accuracy: 0.8234, validation loss: 0.6265\n",
      "100%|███████████████████████████████████████████████████████████████████████████████████████████████████████████████████████████████████████████████| 313/313 [00:06<00:00, 51.02it/s, loss=0.2317]\n",
      "Epoch 7 | Training loss: 0.2317, validation accuracy: 0.8232, validation loss: 0.6385\n",
      "100%|███████████████████████████████████████████████████████████████████████████████████████████████████████████████████████████████████████████████| 313/313 [00:06<00:00, 51.40it/s, loss=0.2315]\n",
      "Epoch 8 | Training loss: 0.2315, validation accuracy: 0.8250, validation loss: 0.6361\n",
      "100%|███████████████████████████████████████████████████████████████████████████████████████████████████████████████████████████████████████████████| 313/313 [00:06<00:00, 51.69it/s, loss=0.2287]\n",
      "Epoch 9 | Training loss: 0.2287, validation accuracy: 0.8217, validation loss: 0.6346\n",
      "100%|███████████████████████████████████████████████████████████████████████████████████████████████████████████████████████████████████████████████| 313/313 [00:06<00:00, 51.96it/s, loss=0.2371]\n",
      "Epoch 10 | Training loss: 0.2371, validation accuracy: 0.8227, validation loss: 0.6391\n",
      "100%|███████████████████████████████████████████████████████████████████████████████████████████████████████████████████████████████████████████████| 313/313 [00:06<00:00, 51.91it/s, loss=0.2322]\n",
      "Epoch 11 | Training loss: 0.2322, validation accuracy: 0.8219, validation loss: 0.6409\n",
      "100%|███████████████████████████████████████████████████████████████████████████████████████████████████████████████████████████████████████████████| 313/313 [00:05<00:00, 53.35it/s, loss=0.2294]\n",
      "Epoch 12 | Training loss: 0.2294, validation accuracy: 0.8229, validation loss: 0.6411\n",
      "100%|███████████████████████████████████████████████████████████████████████████████████████████████████████████████████████████████████████████████| 313/313 [00:05<00:00, 52.55it/s, loss=0.2302]\n",
      "Epoch 13 | Training loss: 0.2302, validation accuracy: 0.8215, validation loss: 0.6374\n",
      "100%|███████████████████████████████████████████████████████████████████████████████████████████████████████████████████████████████████████████████| 313/313 [00:06<00:00, 50.71it/s, loss=0.2260]\n",
      "Epoch 14 | Training loss: 0.2260, validation accuracy: 0.8242, validation loss: 0.6395\n",
      "100%|███████████████████████████████████████████████████████████████████████████████████████████████████████████████████████████████████████████████| 313/313 [00:06<00:00, 51.01it/s, loss=0.2268]\n",
      "Epoch 15 | Training loss: 0.2268, validation accuracy: 0.8225, validation loss: 0.6453\n",
      "100%|███████████████████████████████████████████████████████████████████████████████████████████████████████████████████████████████████████████████| 313/313 [00:06<00:00, 51.77it/s, loss=0.2307]\n",
      "Epoch 16 | Training loss: 0.2307, validation accuracy: 0.8218, validation loss: 0.6420\n",
      "100%|███████████████████████████████████████████████████████████████████████████████████████████████████████████████████████████████████████████████| 313/313 [00:05<00:00, 52.64it/s, loss=0.2327]\n",
      "Epoch 17 | Training loss: 0.2327, validation accuracy: 0.8236, validation loss: 0.6401\n",
      "100%|███████████████████████████████████████████████████████████████████████████████████████████████████████████████████████████████████████████████| 313/313 [00:06<00:00, 52.00it/s, loss=0.2267]\n",
      "Epoch 18 | Training loss: 0.2267, validation accuracy: 0.8223, validation loss: 0.6454\n",
      "100%|███████████████████████████████████████████████████████████████████████████████████████████████████████████████████████████████████████████████| 313/313 [00:05<00:00, 53.80it/s, loss=0.2275]\n",
      "Epoch 19 | Training loss: 0.2275, validation accuracy: 0.8239, validation loss: 0.6411\n",
      "100%|███████████████████████████████████████████████████████████████████████████████████████████████████████████████████████████████████████████████| 313/313 [00:05<00:00, 52.48it/s, loss=0.2226]\n",
      "Epoch 20 | Training loss: 0.2226, validation accuracy: 0.8227, validation loss: 0.6430\n"
     ]
    }
   ],
   "source": [
    "epochs = 20\n",
    "\n",
    "for epoch in range(epochs):\n",
    "    train_loss = trainer.train_epoch(model, optimizer, dl[\"train\"])\n",
    "    optimizer.finish_epoch()\n",
    "    val_acc, val_loss = trainer.validation(model, dl[\"valid\"])\n",
    "    logger.log(\"Epoch\", epoch+1, \"|\", \n",
    "          f\"Training loss: {train_loss:.4f}, validation accuracy: {val_acc:.4f}, validation loss: {val_loss:.4f}\")"
   ]
  },
  {
   "cell_type": "code",
   "execution_count": 72,
   "id": "5bd01370-37cb-40e9-89b9-a28bc00653fc",
   "metadata": {},
   "outputs": [
    {
     "name": "stdout",
     "output_type": "stream",
     "text": [
      "Train: (0.926625, 0.20792481157779694)\n",
      "Valid: (0.8227, 0.6430280235290528)\n"
     ]
    }
   ],
   "source": [
    "train_score = trainer.validation(model, dl[\"train\"])\n",
    "valid_score = trainer.validation(model, dl[\"valid\"])\n",
    "logger.log(\"Train:\", train_score)\n",
    "logger.log(\"Valid:\", valid_score)"
   ]
  },
  {
   "cell_type": "code",
   "execution_count": 73,
   "id": "dabe6aef-c3cc-469f-b737-1ac87ff40870",
   "metadata": {},
   "outputs": [
    {
     "name": "stdout",
     "output_type": "stream",
     "text": [
      "RNA\n"
     ]
    }
   ],
   "source": [
    "optimizer.param_groups[0][\"method\"] = \"RNA\"\n",
    "logger.log(\"RNA\")\n",
    "model_acc = deepcopy(model)\n",
    "optimizer.accelerate()\n",
    "optimizer.store_parameters([model_acc.parameters()])"
   ]
  },
  {
   "cell_type": "code",
   "execution_count": 74,
   "id": "78fdcf45-4537-4ff0-89c4-9ee72ca27c5e",
   "metadata": {
    "tags": []
   },
   "outputs": [
    {
     "name": "stdout",
     "output_type": "stream",
     "text": [
      "Train: (0.926375, 0.2061994443178177)\n",
      "Valid: (0.8215, 0.6464300540924073)\n"
     ]
    }
   ],
   "source": [
    "model_acc.to(trainer.device)\n",
    "train_score = trainer.validation(model_acc, dl[\"train\"])\n",
    "valid_score = trainer.validation(model_acc, dl[\"valid\"])\n",
    "logger.log(\"Train:\", train_score)\n",
    "logger.log(\"Valid:\", valid_score)"
   ]
  },
  {
   "cell_type": "code",
   "execution_count": 75,
   "id": "2ff9139d-cfa8-477b-8faa-22d242f92f1f",
   "metadata": {},
   "outputs": [
    {
     "name": "stdout",
     "output_type": "stream",
     "text": [
      "RRE\n"
     ]
    }
   ],
   "source": [
    "optimizer.param_groups[0][\"method\"] = \"RRE\"\n",
    "logger.log(\"RRE\")\n",
    "model_acc = deepcopy(model)\n",
    "optimizer.accelerate()\n",
    "optimizer.store_parameters([model_acc.parameters()])"
   ]
  },
  {
   "cell_type": "code",
   "execution_count": 76,
   "id": "ce348e6b-0a11-4bed-b710-2a56d747a337",
   "metadata": {
    "tags": []
   },
   "outputs": [
    {
     "name": "stdout",
     "output_type": "stream",
     "text": [
      "Train: (0.9254, 0.20871990084648132)\n",
      "Valid: (0.8215, 0.6464307264328003)\n"
     ]
    }
   ],
   "source": [
    "model_acc.to(trainer.device)\n",
    "train_score = trainer.validation(model_acc, dl[\"train\"])\n",
    "valid_score = trainer.validation(model_acc, dl[\"valid\"])\n",
    "logger.log(\"Train:\", train_score)\n",
    "logger.log(\"Valid:\", valid_score)"
   ]
  },
  {
   "cell_type": "markdown",
   "id": "1f01f523-fb49-4009-a08c-f30f0e6bf4f0",
   "metadata": {},
   "source": [
    "### Lambda = 1e-4"
   ]
  },
  {
   "cell_type": "code",
   "execution_count": 77,
   "id": "247bfa34-9c59-4c77-a448-09d4dbd815f2",
   "metadata": {
    "tags": []
   },
   "outputs": [
    {
     "data": {
      "text/plain": [
       "ResNet(\n",
       "  (conv1): Conv2d(3, 64, kernel_size=(7, 7), stride=(2, 2), padding=(3, 3), bias=False)\n",
       "  (bn1): BatchNorm2d(64, eps=1e-05, momentum=0.1, affine=True, track_running_stats=True)\n",
       "  (relu): ReLU(inplace=True)\n",
       "  (maxpool): MaxPool2d(kernel_size=3, stride=2, padding=1, dilation=1, ceil_mode=False)\n",
       "  (layer1): Sequential(\n",
       "    (0): BasicBlock(\n",
       "      (conv1): Conv2d(64, 64, kernel_size=(3, 3), stride=(1, 1), padding=(1, 1), bias=False)\n",
       "      (bn1): BatchNorm2d(64, eps=1e-05, momentum=0.1, affine=True, track_running_stats=True)\n",
       "      (relu): ReLU(inplace=True)\n",
       "      (conv2): Conv2d(64, 64, kernel_size=(3, 3), stride=(1, 1), padding=(1, 1), bias=False)\n",
       "      (bn2): BatchNorm2d(64, eps=1e-05, momentum=0.1, affine=True, track_running_stats=True)\n",
       "    )\n",
       "    (1): BasicBlock(\n",
       "      (conv1): Conv2d(64, 64, kernel_size=(3, 3), stride=(1, 1), padding=(1, 1), bias=False)\n",
       "      (bn1): BatchNorm2d(64, eps=1e-05, momentum=0.1, affine=True, track_running_stats=True)\n",
       "      (relu): ReLU(inplace=True)\n",
       "      (conv2): Conv2d(64, 64, kernel_size=(3, 3), stride=(1, 1), padding=(1, 1), bias=False)\n",
       "      (bn2): BatchNorm2d(64, eps=1e-05, momentum=0.1, affine=True, track_running_stats=True)\n",
       "    )\n",
       "  )\n",
       "  (layer2): Sequential(\n",
       "    (0): BasicBlock(\n",
       "      (conv1): Conv2d(64, 128, kernel_size=(3, 3), stride=(2, 2), padding=(1, 1), bias=False)\n",
       "      (bn1): BatchNorm2d(128, eps=1e-05, momentum=0.1, affine=True, track_running_stats=True)\n",
       "      (relu): ReLU(inplace=True)\n",
       "      (conv2): Conv2d(128, 128, kernel_size=(3, 3), stride=(1, 1), padding=(1, 1), bias=False)\n",
       "      (bn2): BatchNorm2d(128, eps=1e-05, momentum=0.1, affine=True, track_running_stats=True)\n",
       "      (downsample): Sequential(\n",
       "        (0): Conv2d(64, 128, kernel_size=(1, 1), stride=(2, 2), bias=False)\n",
       "        (1): BatchNorm2d(128, eps=1e-05, momentum=0.1, affine=True, track_running_stats=True)\n",
       "      )\n",
       "    )\n",
       "    (1): BasicBlock(\n",
       "      (conv1): Conv2d(128, 128, kernel_size=(3, 3), stride=(1, 1), padding=(1, 1), bias=False)\n",
       "      (bn1): BatchNorm2d(128, eps=1e-05, momentum=0.1, affine=True, track_running_stats=True)\n",
       "      (relu): ReLU(inplace=True)\n",
       "      (conv2): Conv2d(128, 128, kernel_size=(3, 3), stride=(1, 1), padding=(1, 1), bias=False)\n",
       "      (bn2): BatchNorm2d(128, eps=1e-05, momentum=0.1, affine=True, track_running_stats=True)\n",
       "    )\n",
       "  )\n",
       "  (layer3): Sequential(\n",
       "    (0): BasicBlock(\n",
       "      (conv1): Conv2d(128, 256, kernel_size=(3, 3), stride=(2, 2), padding=(1, 1), bias=False)\n",
       "      (bn1): BatchNorm2d(256, eps=1e-05, momentum=0.1, affine=True, track_running_stats=True)\n",
       "      (relu): ReLU(inplace=True)\n",
       "      (conv2): Conv2d(256, 256, kernel_size=(3, 3), stride=(1, 1), padding=(1, 1), bias=False)\n",
       "      (bn2): BatchNorm2d(256, eps=1e-05, momentum=0.1, affine=True, track_running_stats=True)\n",
       "      (downsample): Sequential(\n",
       "        (0): Conv2d(128, 256, kernel_size=(1, 1), stride=(2, 2), bias=False)\n",
       "        (1): BatchNorm2d(256, eps=1e-05, momentum=0.1, affine=True, track_running_stats=True)\n",
       "      )\n",
       "    )\n",
       "    (1): BasicBlock(\n",
       "      (conv1): Conv2d(256, 256, kernel_size=(3, 3), stride=(1, 1), padding=(1, 1), bias=False)\n",
       "      (bn1): BatchNorm2d(256, eps=1e-05, momentum=0.1, affine=True, track_running_stats=True)\n",
       "      (relu): ReLU(inplace=True)\n",
       "      (conv2): Conv2d(256, 256, kernel_size=(3, 3), stride=(1, 1), padding=(1, 1), bias=False)\n",
       "      (bn2): BatchNorm2d(256, eps=1e-05, momentum=0.1, affine=True, track_running_stats=True)\n",
       "    )\n",
       "  )\n",
       "  (layer4): Sequential(\n",
       "    (0): BasicBlock(\n",
       "      (conv1): Conv2d(256, 512, kernel_size=(3, 3), stride=(2, 2), padding=(1, 1), bias=False)\n",
       "      (bn1): BatchNorm2d(512, eps=1e-05, momentum=0.1, affine=True, track_running_stats=True)\n",
       "      (relu): ReLU(inplace=True)\n",
       "      (conv2): Conv2d(512, 512, kernel_size=(3, 3), stride=(1, 1), padding=(1, 1), bias=False)\n",
       "      (bn2): BatchNorm2d(512, eps=1e-05, momentum=0.1, affine=True, track_running_stats=True)\n",
       "      (downsample): Sequential(\n",
       "        (0): Conv2d(256, 512, kernel_size=(1, 1), stride=(2, 2), bias=False)\n",
       "        (1): BatchNorm2d(512, eps=1e-05, momentum=0.1, affine=True, track_running_stats=True)\n",
       "      )\n",
       "    )\n",
       "    (1): BasicBlock(\n",
       "      (conv1): Conv2d(512, 512, kernel_size=(3, 3), stride=(1, 1), padding=(1, 1), bias=False)\n",
       "      (bn1): BatchNorm2d(512, eps=1e-05, momentum=0.1, affine=True, track_running_stats=True)\n",
       "      (relu): ReLU(inplace=True)\n",
       "      (conv2): Conv2d(512, 512, kernel_size=(3, 3), stride=(1, 1), padding=(1, 1), bias=False)\n",
       "      (bn2): BatchNorm2d(512, eps=1e-05, momentum=0.1, affine=True, track_running_stats=True)\n",
       "    )\n",
       "  )\n",
       "  (avgpool): AdaptiveAvgPool2d(output_size=(1, 1))\n",
       "  (fc): Sequential(\n",
       "    (0): Linear(in_features=512, out_features=10, bias=True)\n",
       "    (1): LogSoftmax(dim=-1)\n",
       "  )\n",
       ")"
      ]
     },
     "execution_count": 77,
     "metadata": {},
     "output_type": "execute_result"
    }
   ],
   "source": [
    "model.load_state_dict(initial_state)\n",
    "model.to(trainer.device)"
   ]
  },
  {
   "cell_type": "code",
   "execution_count": 78,
   "id": "d0986a8f-9bfa-4244-a955-63adbb9c8511",
   "metadata": {},
   "outputs": [
    {
     "data": {
      "text/plain": [
       "(0.1024, 2.3916895107269287)"
      ]
     },
     "execution_count": 78,
     "metadata": {},
     "output_type": "execute_result"
    }
   ],
   "source": [
    "trainer.validation(model, dl[\"valid\"])"
   ]
  },
  {
   "cell_type": "code",
   "execution_count": 79,
   "id": "ee97947a-6677-481a-a284-ef5153514240",
   "metadata": {},
   "outputs": [
    {
     "data": {
      "text/plain": [
       "<torch._C.Generator at 0x7f0654071110>"
      ]
     },
     "execution_count": 79,
     "metadata": {},
     "output_type": "execute_result"
    }
   ],
   "source": [
    "optimizer = AcceleratedSGD(model.parameters(), 1e-1, k=10, momentum=0.9, weight_decay=1e-5, lambda_=1e-4)\n",
    "logger = Logger(\"resnet_log_augmentation-lambda=1e-4.txt.no_resizing\")\n",
    "torch.manual_seed(2020)"
   ]
  },
  {
   "cell_type": "code",
   "execution_count": 80,
   "id": "c09368d6-6172-4249-a5fa-f8351f4a101f",
   "metadata": {},
   "outputs": [
    {
     "name": "stdout",
     "output_type": "stream",
     "text": [
      "100%|███████████████████████████████████████████████████████████████████████████████████████████████████████████████████████████████████████████████| 313/313 [00:05<00:00, 53.46it/s, loss=2.2129]\n",
      "Epoch 1 | Training loss: 2.2129, validation accuracy: 0.3309, validation loss: 1.7766\n",
      "100%|███████████████████████████████████████████████████████████████████████████████████████████████████████████████████████████████████████████████| 313/313 [00:05<00:00, 53.10it/s, loss=1.6514]\n",
      "Epoch 2 | Training loss: 1.6514, validation accuracy: 0.4517, validation loss: 1.4797\n",
      "100%|███████████████████████████████████████████████████████████████████████████████████████████████████████████████████████████████████████████████| 313/313 [00:05<00:00, 52.76it/s, loss=1.5141]\n",
      "Epoch 3 | Training loss: 1.5141, validation accuracy: 0.5028, validation loss: 1.3573\n",
      "100%|███████████████████████████████████████████████████████████████████████████████████████████████████████████████████████████████████████████████| 313/313 [00:05<00:00, 53.88it/s, loss=1.3951]\n",
      "Epoch 4 | Training loss: 1.3951, validation accuracy: 0.5093, validation loss: 1.3928\n",
      "100%|███████████████████████████████████████████████████████████████████████████████████████████████████████████████████████████████████████████████| 313/313 [00:05<00:00, 52.93it/s, loss=1.3131]\n",
      "Epoch 5 | Training loss: 1.3131, validation accuracy: 0.5813, validation loss: 1.1788\n",
      "100%|███████████████████████████████████████████████████████████████████████████████████████████████████████████████████████████████████████████████| 313/313 [00:05<00:00, 53.68it/s, loss=1.2368]\n",
      "Epoch 6 | Training loss: 1.2368, validation accuracy: 0.6031, validation loss: 1.1193\n",
      "100%|███████████████████████████████████████████████████████████████████████████████████████████████████████████████████████████████████████████████| 313/313 [00:05<00:00, 52.56it/s, loss=1.1686]\n",
      "Epoch 7 | Training loss: 1.1686, validation accuracy: 0.4874, validation loss: 2.6768\n",
      "100%|███████████████████████████████████████████████████████████████████████████████████████████████████████████████████████████████████████████████| 313/313 [00:05<00:00, 53.22it/s, loss=1.1753]\n",
      "Epoch 8 | Training loss: 1.1753, validation accuracy: 0.6390, validation loss: 1.0334\n",
      "100%|███████████████████████████████████████████████████████████████████████████████████████████████████████████████████████████████████████████████| 313/313 [00:05<00:00, 53.20it/s, loss=1.0697]\n",
      "Epoch 9 | Training loss: 1.0697, validation accuracy: 0.6578, validation loss: 0.9711\n",
      "100%|███████████████████████████████████████████████████████████████████████████████████████████████████████████████████████████████████████████████| 313/313 [00:05<00:00, 53.87it/s, loss=1.0174]\n",
      "Epoch 10 | Training loss: 1.0174, validation accuracy: 0.6584, validation loss: 0.9829\n",
      "100%|███████████████████████████████████████████████████████████████████████████████████████████████████████████████████████████████████████████████| 313/313 [00:05<00:00, 53.64it/s, loss=0.9852]\n",
      "Epoch 11 | Training loss: 0.9852, validation accuracy: 0.6804, validation loss: 0.9083\n",
      "100%|███████████████████████████████████████████████████████████████████████████████████████████████████████████████████████████████████████████████| 313/313 [00:05<00:00, 53.20it/s, loss=0.9441]\n",
      "Epoch 12 | Training loss: 0.9441, validation accuracy: 0.7087, validation loss: 0.8310\n",
      "100%|███████████████████████████████████████████████████████████████████████████████████████████████████████████████████████████████████████████████| 313/313 [00:05<00:00, 53.70it/s, loss=0.9044]\n",
      "Epoch 13 | Training loss: 0.9044, validation accuracy: 0.7062, validation loss: 0.8383\n",
      "100%|███████████████████████████████████████████████████████████████████████████████████████████████████████████████████████████████████████████████| 313/313 [00:05<00:00, 53.99it/s, loss=0.8820]\n",
      "Epoch 14 | Training loss: 0.8820, validation accuracy: 0.7135, validation loss: 0.8146\n",
      "100%|███████████████████████████████████████████████████████████████████████████████████████████████████████████████████████████████████████████████| 313/313 [00:05<00:00, 53.56it/s, loss=0.8571]\n",
      "Epoch 15 | Training loss: 0.8571, validation accuracy: 0.7189, validation loss: 0.8122\n",
      "100%|███████████████████████████████████████████████████████████████████████████████████████████████████████████████████████████████████████████████| 313/313 [00:05<00:00, 53.18it/s, loss=0.8281]\n",
      "Epoch 16 | Training loss: 0.8281, validation accuracy: 0.7271, validation loss: 0.7957\n",
      "100%|███████████████████████████████████████████████████████████████████████████████████████████████████████████████████████████████████████████████| 313/313 [00:05<00:00, 53.91it/s, loss=0.7965]\n",
      "Epoch 17 | Training loss: 0.7965, validation accuracy: 0.7189, validation loss: 0.8432\n",
      "100%|███████████████████████████████████████████████████████████████████████████████████████████████████████████████████████████████████████████████| 313/313 [00:05<00:00, 53.24it/s, loss=0.7805]\n",
      "Epoch 18 | Training loss: 0.7805, validation accuracy: 0.7419, validation loss: 0.7430\n",
      "100%|███████████████████████████████████████████████████████████████████████████████████████████████████████████████████████████████████████████████| 313/313 [00:05<00:00, 53.82it/s, loss=0.7620]\n",
      "Epoch 19 | Training loss: 0.7620, validation accuracy: 0.7336, validation loss: 0.7919\n",
      "100%|███████████████████████████████████████████████████████████████████████████████████████████████████████████████████████████████████████████████| 313/313 [00:05<00:00, 53.54it/s, loss=0.7406]\n",
      "Epoch 20 | Training loss: 0.7406, validation accuracy: 0.7469, validation loss: 0.7550\n",
      "100%|███████████████████████████████████████████████████████████████████████████████████████████████████████████████████████████████████████████████| 313/313 [00:05<00:00, 53.75it/s, loss=0.7177]\n",
      "Epoch 21 | Training loss: 0.7177, validation accuracy: 0.7420, validation loss: 0.7512\n",
      "100%|███████████████████████████████████████████████████████████████████████████████████████████████████████████████████████████████████████████████| 313/313 [00:05<00:00, 53.60it/s, loss=0.7053]\n",
      "Epoch 22 | Training loss: 0.7053, validation accuracy: 0.7259, validation loss: 0.8455\n",
      "100%|███████████████████████████████████████████████████████████████████████████████████████████████████████████████████████████████████████████████| 313/313 [00:05<00:00, 53.56it/s, loss=0.6859]\n",
      "Epoch 23 | Training loss: 0.6859, validation accuracy: 0.7595, validation loss: 0.7157\n",
      "100%|███████████████████████████████████████████████████████████████████████████████████████████████████████████████████████████████████████████████| 313/313 [00:05<00:00, 53.20it/s, loss=0.6776]\n",
      "Epoch 24 | Training loss: 0.6776, validation accuracy: 0.7637, validation loss: 0.7052\n",
      "100%|███████████████████████████████████████████████████████████████████████████████████████████████████████████████████████████████████████████████| 313/313 [00:05<00:00, 53.75it/s, loss=0.6541]\n",
      "Epoch 25 | Training loss: 0.6541, validation accuracy: 0.7617, validation loss: 0.7136\n",
      "100%|███████████████████████████████████████████████████████████████████████████████████████████████████████████████████████████████████████████████| 313/313 [00:05<00:00, 53.12it/s, loss=0.6463]\n",
      "Epoch 26 | Training loss: 0.6463, validation accuracy: 0.7559, validation loss: 0.7354\n",
      "100%|███████████████████████████████████████████████████████████████████████████████████████████████████████████████████████████████████████████████| 313/313 [00:05<00:00, 53.38it/s, loss=0.6383]\n",
      "Epoch 27 | Training loss: 0.6383, validation accuracy: 0.7676, validation loss: 0.6995\n",
      "100%|███████████████████████████████████████████████████████████████████████████████████████████████████████████████████████████████████████████████| 313/313 [00:05<00:00, 53.15it/s, loss=0.6121]\n",
      "Epoch 28 | Training loss: 0.6121, validation accuracy: 0.7713, validation loss: 0.6721\n",
      "100%|███████████████████████████████████████████████████████████████████████████████████████████████████████████████████████████████████████████████| 313/313 [00:05<00:00, 53.29it/s, loss=0.6041]\n",
      "Epoch 29 | Training loss: 0.6041, validation accuracy: 0.7719, validation loss: 0.6804\n",
      "100%|███████████████████████████████████████████████████████████████████████████████████████████████████████████████████████████████████████████████| 313/313 [00:05<00:00, 53.55it/s, loss=0.5916]\n",
      "Epoch 30 | Training loss: 0.5916, validation accuracy: 0.7734, validation loss: 0.6879\n",
      "100%|███████████████████████████████████████████████████████████████████████████████████████████████████████████████████████████████████████████████| 313/313 [00:05<00:00, 53.49it/s, loss=0.5783]\n",
      "Epoch 31 | Training loss: 0.5783, validation accuracy: 0.7828, validation loss: 0.6626\n",
      "100%|███████████████████████████████████████████████████████████████████████████████████████████████████████████████████████████████████████████████| 313/313 [00:05<00:00, 53.22it/s, loss=0.5624]\n",
      "Epoch 32 | Training loss: 0.5624, validation accuracy: 0.7696, validation loss: 0.7192\n",
      "100%|███████████████████████████████████████████████████████████████████████████████████████████████████████████████████████████████████████████████| 313/313 [00:05<00:00, 53.15it/s, loss=0.5563]\n",
      "Epoch 33 | Training loss: 0.5563, validation accuracy: 0.7753, validation loss: 0.6804\n",
      "100%|███████████████████████████████████████████████████████████████████████████████████████████████████████████████████████████████████████████████| 313/313 [00:05<00:00, 52.95it/s, loss=0.5507]\n",
      "Epoch 34 | Training loss: 0.5507, validation accuracy: 0.7863, validation loss: 0.6455\n",
      "100%|███████████████████████████████████████████████████████████████████████████████████████████████████████████████████████████████████████████████| 313/313 [00:05<00:00, 52.59it/s, loss=0.5360]\n",
      "Epoch 35 | Training loss: 0.5360, validation accuracy: 0.7737, validation loss: 0.6875\n",
      "100%|███████████████████████████████████████████████████████████████████████████████████████████████████████████████████████████████████████████████| 313/313 [00:05<00:00, 52.94it/s, loss=0.5349]\n",
      "Epoch 36 | Training loss: 0.5349, validation accuracy: 0.7755, validation loss: 0.6939\n",
      "100%|███████████████████████████████████████████████████████████████████████████████████████████████████████████████████████████████████████████████| 313/313 [00:05<00:00, 53.62it/s, loss=0.5278]\n",
      "Epoch 37 | Training loss: 0.5278, validation accuracy: 0.7647, validation loss: 0.7543\n",
      "100%|███████████████████████████████████████████████████████████████████████████████████████████████████████████████████████████████████████████████| 313/313 [00:05<00:00, 52.62it/s, loss=0.5198]\n",
      "Epoch 38 | Training loss: 0.5198, validation accuracy: 0.7874, validation loss: 0.6408\n",
      "100%|███████████████████████████████████████████████████████████████████████████████████████████████████████████████████████████████████████████████| 313/313 [00:05<00:00, 52.87it/s, loss=0.5013]\n",
      "Epoch 39 | Training loss: 0.5013, validation accuracy: 0.7855, validation loss: 0.6735\n",
      "100%|███████████████████████████████████████████████████████████████████████████████████████████████████████████████████████████████████████████████| 313/313 [00:05<00:00, 53.44it/s, loss=0.4897]\n",
      "Epoch 40 | Training loss: 0.4897, validation accuracy: 0.7777, validation loss: 0.6806\n",
      "100%|███████████████████████████████████████████████████████████████████████████████████████████████████████████████████████████████████████████████| 313/313 [00:05<00:00, 52.95it/s, loss=0.4834]\n",
      "Epoch 41 | Training loss: 0.4834, validation accuracy: 0.7685, validation loss: 0.7249\n",
      "100%|███████████████████████████████████████████████████████████████████████████████████████████████████████████████████████████████████████████████| 313/313 [00:05<00:00, 53.07it/s, loss=0.4751]\n",
      "Epoch 42 | Training loss: 0.4751, validation accuracy: 0.7783, validation loss: 0.6989\n",
      "100%|███████████████████████████████████████████████████████████████████████████████████████████████████████████████████████████████████████████████| 313/313 [00:05<00:00, 52.98it/s, loss=0.4727]\n",
      "Epoch 43 | Training loss: 0.4727, validation accuracy: 0.7900, validation loss: 0.6655\n",
      "100%|███████████████████████████████████████████████████████████████████████████████████████████████████████████████████████████████████████████████| 313/313 [00:05<00:00, 53.39it/s, loss=0.4657]\n",
      "Epoch 44 | Training loss: 0.4657, validation accuracy: 0.7930, validation loss: 0.6448\n",
      "100%|███████████████████████████████████████████████████████████████████████████████████████████████████████████████████████████████████████████████| 313/313 [00:05<00:00, 53.14it/s, loss=0.4469]\n",
      "Epoch 45 | Training loss: 0.4469, validation accuracy: 0.7949, validation loss: 0.6472\n"
     ]
    }
   ],
   "source": [
    "epochs = 45\n",
    "\n",
    "for epoch in range(epochs):\n",
    "    train_loss = trainer.train_epoch(model, optimizer, dl[\"train\"])\n",
    "    optimizer.finish_epoch()\n",
    "    val_acc, val_loss = trainer.validation(model, dl[\"valid\"])\n",
    "    logger.log(\"Epoch\", epoch+1, \"|\", \n",
    "          f\"Training loss: {train_loss:.4f}, validation accuracy: {val_acc:.4f}, validation loss: {val_loss:.4f}\")"
   ]
  },
  {
   "cell_type": "code",
   "execution_count": 81,
   "id": "4c9ef1f8-2dad-4f78-8181-215cbd1f9a86",
   "metadata": {},
   "outputs": [
    {
     "name": "stdout",
     "output_type": "stream",
     "text": [
      "Train: (0.8513, 0.4179581168651581)\n",
      "Valid: (0.7949, 0.6471888906478882)\n"
     ]
    }
   ],
   "source": [
    "train_score = trainer.validation(model, dl[\"train\"])\n",
    "valid_score = trainer.validation(model, dl[\"valid\"])\n",
    "logger.log(\"Train:\", train_score)\n",
    "logger.log(\"Valid:\", valid_score)"
   ]
  },
  {
   "cell_type": "code",
   "execution_count": 82,
   "id": "0edc6e7a-ed98-40c7-b3fb-958c709de365",
   "metadata": {},
   "outputs": [
    {
     "name": "stdout",
     "output_type": "stream",
     "text": [
      "RNA\n"
     ]
    }
   ],
   "source": [
    "optimizer.param_groups[0][\"method\"] = \"RNA\"\n",
    "logger.log(\"RNA\")\n",
    "model_acc = deepcopy(model)\n",
    "optimizer.accelerate()\n",
    "optimizer.store_parameters([model_acc.parameters()])"
   ]
  },
  {
   "cell_type": "code",
   "execution_count": 83,
   "id": "17860cfc-95ce-4272-bfaa-e3adf9b3a0d1",
   "metadata": {
    "tags": []
   },
   "outputs": [
    {
     "name": "stdout",
     "output_type": "stream",
     "text": [
      "Train: (0.861475, 0.38991186656951904)\n",
      "Valid: (0.8023, 0.6106670978546143)\n"
     ]
    }
   ],
   "source": [
    "model_acc.to(trainer.device)\n",
    "train_score = trainer.validation(model_acc, dl[\"train\"])\n",
    "valid_score = trainer.validation(model_acc, dl[\"valid\"])\n",
    "logger.log(\"Train:\", train_score)\n",
    "logger.log(\"Valid:\", valid_score)"
   ]
  },
  {
   "cell_type": "code",
   "execution_count": 84,
   "id": "a1a9ed80-860b-4798-9af4-c4513f3e20a4",
   "metadata": {},
   "outputs": [
    {
     "name": "stdout",
     "output_type": "stream",
     "text": [
      "RRE\n"
     ]
    }
   ],
   "source": [
    "optimizer.param_groups[0][\"method\"] = \"RRE\"\n",
    "logger.log(\"RRE\")\n",
    "model_acc = deepcopy(model)\n",
    "optimizer.accelerate()\n",
    "optimizer.store_parameters([model_acc.parameters()])"
   ]
  },
  {
   "cell_type": "code",
   "execution_count": 85,
   "id": "a1ff62c3-a29d-4eb2-850e-50cbfb839c04",
   "metadata": {
    "tags": []
   },
   "outputs": [
    {
     "name": "stdout",
     "output_type": "stream",
     "text": [
      "Train: (0.864325, 0.3861743935585022)\n",
      "Valid: (0.8025, 0.610670313167572)\n"
     ]
    }
   ],
   "source": [
    "model_acc.to(trainer.device)\n",
    "train_score = trainer.validation(model_acc, dl[\"train\"])\n",
    "valid_score = trainer.validation(model_acc, dl[\"valid\"])\n",
    "logger.log(\"Train:\", train_score)\n",
    "logger.log(\"Valid:\", valid_score)"
   ]
  },
  {
   "cell_type": "code",
   "execution_count": 86,
   "id": "22fe20ef-a47f-4bfa-9b0a-61dfd8d8cc44",
   "metadata": {},
   "outputs": [],
   "source": [
    "optimizer.param_groups[0][\"lr\"] = 1e-2"
   ]
  },
  {
   "cell_type": "code",
   "execution_count": 87,
   "id": "c55be3b1-b774-43af-95e3-1eaed4c48e68",
   "metadata": {},
   "outputs": [
    {
     "name": "stdout",
     "output_type": "stream",
     "text": [
      "100%|███████████████████████████████████████████████████████████████████████████████████████████████████████████████████████████████████████████████| 313/313 [00:05<00:00, 54.08it/s, loss=0.3663]\n",
      "Epoch 1 | Training loss: 0.3663, validation accuracy: 0.8119, validation loss: 0.6035\n",
      "100%|███████████████████████████████████████████████████████████████████████████████████████████████████████████████████████████████████████████████| 313/313 [00:05<00:00, 53.35it/s, loss=0.3282]\n",
      "Epoch 2 | Training loss: 0.3282, validation accuracy: 0.8136, validation loss: 0.6090\n",
      "100%|███████████████████████████████████████████████████████████████████████████████████████████████████████████████████████████████████████████████| 313/313 [00:05<00:00, 53.67it/s, loss=0.3156]\n",
      "Epoch 3 | Training loss: 0.3156, validation accuracy: 0.8191, validation loss: 0.6138\n",
      "100%|███████████████████████████████████████████████████████████████████████████████████████████████████████████████████████████████████████████████| 313/313 [00:05<00:00, 52.48it/s, loss=0.3123]\n",
      "Epoch 4 | Training loss: 0.3123, validation accuracy: 0.8184, validation loss: 0.6084\n",
      "100%|███████████████████████████████████████████████████████████████████████████████████████████████████████████████████████████████████████████████| 313/313 [00:05<00:00, 53.28it/s, loss=0.2992]\n",
      "Epoch 5 | Training loss: 0.2992, validation accuracy: 0.8179, validation loss: 0.6157\n",
      "100%|███████████████████████████████████████████████████████████████████████████████████████████████████████████████████████████████████████████████| 313/313 [00:05<00:00, 52.71it/s, loss=0.2944]\n",
      "Epoch 6 | Training loss: 0.2944, validation accuracy: 0.8187, validation loss: 0.6148\n",
      "100%|███████████████████████████████████████████████████████████████████████████████████████████████████████████████████████████████████████████████| 313/313 [00:05<00:00, 52.99it/s, loss=0.2943]\n",
      "Epoch 7 | Training loss: 0.2943, validation accuracy: 0.8181, validation loss: 0.6279\n",
      "100%|███████████████████████████████████████████████████████████████████████████████████████████████████████████████████████████████████████████████| 313/313 [00:05<00:00, 53.13it/s, loss=0.2860]\n",
      "Epoch 8 | Training loss: 0.2860, validation accuracy: 0.8169, validation loss: 0.6182\n",
      "100%|███████████████████████████████████████████████████████████████████████████████████████████████████████████████████████████████████████████████| 313/313 [00:05<00:00, 53.56it/s, loss=0.2794]\n",
      "Epoch 9 | Training loss: 0.2794, validation accuracy: 0.8182, validation loss: 0.6299\n",
      "100%|███████████████████████████████████████████████████████████████████████████████████████████████████████████████████████████████████████████████| 313/313 [00:05<00:00, 53.10it/s, loss=0.2795]\n",
      "Epoch 10 | Training loss: 0.2795, validation accuracy: 0.8192, validation loss: 0.6471\n",
      "100%|███████████████████████████████████████████████████████████████████████████████████████████████████████████████████████████████████████████████| 313/313 [00:05<00:00, 53.11it/s, loss=0.2738]\n",
      "Epoch 11 | Training loss: 0.2738, validation accuracy: 0.8195, validation loss: 0.6259\n",
      "100%|███████████████████████████████████████████████████████████████████████████████████████████████████████████████████████████████████████████████| 313/313 [00:05<00:00, 53.70it/s, loss=0.2704]\n",
      "Epoch 12 | Training loss: 0.2704, validation accuracy: 0.8167, validation loss: 0.6370\n",
      "100%|███████████████████████████████████████████████████████████████████████████████████████████████████████████████████████████████████████████████| 313/313 [00:05<00:00, 52.91it/s, loss=0.2697]\n",
      "Epoch 13 | Training loss: 0.2697, validation accuracy: 0.8172, validation loss: 0.6366\n",
      "100%|███████████████████████████████████████████████████████████████████████████████████████████████████████████████████████████████████████████████| 313/313 [00:06<00:00, 51.47it/s, loss=0.2700]\n",
      "Epoch 14 | Training loss: 0.2700, validation accuracy: 0.8150, validation loss: 0.6424\n",
      "100%|███████████████████████████████████████████████████████████████████████████████████████████████████████████████████████████████████████████████| 313/313 [00:05<00:00, 52.93it/s, loss=0.2618]\n",
      "Epoch 15 | Training loss: 0.2618, validation accuracy: 0.8173, validation loss: 0.6466\n",
      "100%|███████████████████████████████████████████████████████████████████████████████████████████████████████████████████████████████████████████████| 313/313 [00:06<00:00, 51.93it/s, loss=0.2607]\n",
      "Epoch 16 | Training loss: 0.2607, validation accuracy: 0.8174, validation loss: 0.6541\n",
      "100%|███████████████████████████████████████████████████████████████████████████████████████████████████████████████████████████████████████████████| 313/313 [00:06<00:00, 51.15it/s, loss=0.2515]\n",
      "Epoch 17 | Training loss: 0.2515, validation accuracy: 0.8200, validation loss: 0.6437\n",
      "100%|███████████████████████████████████████████████████████████████████████████████████████████████████████████████████████████████████████████████| 313/313 [00:05<00:00, 52.29it/s, loss=0.2542]\n",
      "Epoch 18 | Training loss: 0.2542, validation accuracy: 0.8177, validation loss: 0.6557\n",
      "100%|███████████████████████████████████████████████████████████████████████████████████████████████████████████████████████████████████████████████| 313/313 [00:06<00:00, 51.98it/s, loss=0.2507]\n",
      "Epoch 19 | Training loss: 0.2507, validation accuracy: 0.8166, validation loss: 0.6554\n",
      "100%|███████████████████████████████████████████████████████████████████████████████████████████████████████████████████████████████████████████████| 313/313 [00:06<00:00, 49.23it/s, loss=0.2467]\n",
      "Epoch 20 | Training loss: 0.2467, validation accuracy: 0.8161, validation loss: 0.6669\n"
     ]
    }
   ],
   "source": [
    "epochs = 20\n",
    "\n",
    "for epoch in range(epochs):\n",
    "    train_loss = trainer.train_epoch(model, optimizer, dl[\"train\"])\n",
    "    optimizer.finish_epoch()\n",
    "    val_acc, val_loss = trainer.validation(model, dl[\"valid\"])\n",
    "    logger.log(\"Epoch\", epoch+1, \"|\", \n",
    "          f\"Training loss: {train_loss:.4f}, validation accuracy: {val_acc:.4f}, validation loss: {val_loss:.4f}\")"
   ]
  },
  {
   "cell_type": "code",
   "execution_count": 88,
   "id": "350d4a40-06ad-4f10-9267-a61c0f1813dc",
   "metadata": {},
   "outputs": [
    {
     "name": "stdout",
     "output_type": "stream",
     "text": [
      "Train: (0.9208, 0.22460987005233765)\n",
      "Valid: (0.8161, 0.6668506631851197)\n"
     ]
    }
   ],
   "source": [
    "train_score = trainer.validation(model, dl[\"train\"])\n",
    "valid_score = trainer.validation(model, dl[\"valid\"])\n",
    "logger.log(\"Train:\", train_score)\n",
    "logger.log(\"Valid:\", valid_score)"
   ]
  },
  {
   "cell_type": "code",
   "execution_count": 89,
   "id": "a4f8ad19-18d4-47b9-a110-2170d7244506",
   "metadata": {},
   "outputs": [
    {
     "name": "stdout",
     "output_type": "stream",
     "text": [
      "RNA\n"
     ]
    }
   ],
   "source": [
    "optimizer.param_groups[0][\"method\"] = \"RNA\"\n",
    "logger.log(\"RNA\")\n",
    "model_acc = deepcopy(model)\n",
    "optimizer.accelerate()\n",
    "optimizer.store_parameters([model_acc.parameters()])"
   ]
  },
  {
   "cell_type": "code",
   "execution_count": 90,
   "id": "4ea3ae44-ac9e-4ffe-9a2b-11536016990f",
   "metadata": {
    "tags": []
   },
   "outputs": [
    {
     "name": "stdout",
     "output_type": "stream",
     "text": [
      "Train: (0.917475, 0.23080288746356964)\n",
      "Valid: (0.812, 0.6697820486068725)\n"
     ]
    }
   ],
   "source": [
    "model_acc.to(trainer.device)\n",
    "train_score = trainer.validation(model_acc, dl[\"train\"])\n",
    "valid_score = trainer.validation(model_acc, dl[\"valid\"])\n",
    "logger.log(\"Train:\", train_score)\n",
    "logger.log(\"Valid:\", valid_score)"
   ]
  },
  {
   "cell_type": "code",
   "execution_count": 91,
   "id": "fb85579f-d72d-480a-b527-4178d92cde4b",
   "metadata": {},
   "outputs": [
    {
     "name": "stdout",
     "output_type": "stream",
     "text": [
      "RRE\n"
     ]
    }
   ],
   "source": [
    "optimizer.param_groups[0][\"method\"] = \"RRE\"\n",
    "logger.log(\"RRE\")\n",
    "model_acc = deepcopy(model)\n",
    "optimizer.accelerate()\n",
    "optimizer.store_parameters([model_acc.parameters()])"
   ]
  },
  {
   "cell_type": "code",
   "execution_count": 92,
   "id": "fc797e03-cc4f-4b6c-96fb-000c241a2baa",
   "metadata": {
    "tags": []
   },
   "outputs": [
    {
     "name": "stdout",
     "output_type": "stream",
     "text": [
      "Train: (0.914825, 0.2378620442390442)\n",
      "Valid: (0.8119, 0.6697914031982422)\n"
     ]
    }
   ],
   "source": [
    "model_acc.to(trainer.device)\n",
    "train_score = trainer.validation(model_acc, dl[\"train\"])\n",
    "valid_score = trainer.validation(model_acc, dl[\"valid\"])\n",
    "logger.log(\"Train:\", train_score)\n",
    "logger.log(\"Valid:\", valid_score)"
   ]
  },
  {
   "cell_type": "code",
   "execution_count": 93,
   "id": "e4c2d05c-4654-4eb8-ac63-f13453d08d0f",
   "metadata": {},
   "outputs": [],
   "source": [
    "optimizer.param_groups[0][\"lr\"] = 1e-3"
   ]
  },
  {
   "cell_type": "code",
   "execution_count": 94,
   "id": "0a0525ec-812a-4599-b82c-4ecfb6115475",
   "metadata": {},
   "outputs": [
    {
     "name": "stdout",
     "output_type": "stream",
     "text": [
      "100%|███████████████████████████████████████████████████████████████████████████████████████████████████████████████████████████████████████████████| 313/313 [00:05<00:00, 52.75it/s, loss=0.2390]\n",
      "Epoch 1 | Training loss: 0.2390, validation accuracy: 0.8186, validation loss: 0.6527\n",
      "100%|███████████████████████████████████████████████████████████████████████████████████████████████████████████████████████████████████████████████| 313/313 [00:06<00:00, 51.64it/s, loss=0.2391]\n",
      "Epoch 2 | Training loss: 0.2391, validation accuracy: 0.8184, validation loss: 0.6510\n",
      "100%|███████████████████████████████████████████████████████████████████████████████████████████████████████████████████████████████████████████████| 313/313 [00:06<00:00, 51.56it/s, loss=0.2340]\n",
      "Epoch 3 | Training loss: 0.2340, validation accuracy: 0.8170, validation loss: 0.6671\n",
      "100%|███████████████████████████████████████████████████████████████████████████████████████████████████████████████████████████████████████████████| 313/313 [00:06<00:00, 51.23it/s, loss=0.2324]\n",
      "Epoch 4 | Training loss: 0.2324, validation accuracy: 0.8169, validation loss: 0.6555\n",
      "100%|███████████████████████████████████████████████████████████████████████████████████████████████████████████████████████████████████████████████| 313/313 [00:06<00:00, 51.74it/s, loss=0.2358]\n",
      "Epoch 5 | Training loss: 0.2358, validation accuracy: 0.8188, validation loss: 0.6586\n",
      "100%|███████████████████████████████████████████████████████████████████████████████████████████████████████████████████████████████████████████████| 313/313 [00:06<00:00, 51.68it/s, loss=0.2357]\n",
      "Epoch 6 | Training loss: 0.2357, validation accuracy: 0.8182, validation loss: 0.6537\n",
      "100%|███████████████████████████████████████████████████████████████████████████████████████████████████████████████████████████████████████████████| 313/313 [00:06<00:00, 52.10it/s, loss=0.2319]\n",
      "Epoch 7 | Training loss: 0.2319, validation accuracy: 0.8162, validation loss: 0.6589\n",
      "100%|███████████████████████████████████████████████████████████████████████████████████████████████████████████████████████████████████████████████| 313/313 [00:05<00:00, 52.30it/s, loss=0.2306]\n",
      "Epoch 8 | Training loss: 0.2306, validation accuracy: 0.8185, validation loss: 0.6588\n",
      "100%|███████████████████████████████████████████████████████████████████████████████████████████████████████████████████████████████████████████████| 313/313 [00:06<00:00, 51.94it/s, loss=0.2290]\n",
      "Epoch 9 | Training loss: 0.2290, validation accuracy: 0.8181, validation loss: 0.6661\n",
      "100%|███████████████████████████████████████████████████████████████████████████████████████████████████████████████████████████████████████████████| 313/313 [00:05<00:00, 52.80it/s, loss=0.2291]\n",
      "Epoch 10 | Training loss: 0.2291, validation accuracy: 0.8174, validation loss: 0.6579\n",
      "100%|███████████████████████████████████████████████████████████████████████████████████████████████████████████████████████████████████████████████| 313/313 [00:06<00:00, 51.60it/s, loss=0.2305]\n",
      "Epoch 11 | Training loss: 0.2305, validation accuracy: 0.8174, validation loss: 0.6611\n",
      "100%|███████████████████████████████████████████████████████████████████████████████████████████████████████████████████████████████████████████████| 313/313 [00:06<00:00, 52.05it/s, loss=0.2310]\n",
      "Epoch 12 | Training loss: 0.2310, validation accuracy: 0.8172, validation loss: 0.6668\n",
      "100%|███████████████████████████████████████████████████████████████████████████████████████████████████████████████████████████████████████████████| 313/313 [00:05<00:00, 52.71it/s, loss=0.2319]\n",
      "Epoch 13 | Training loss: 0.2319, validation accuracy: 0.8163, validation loss: 0.6633\n",
      "100%|███████████████████████████████████████████████████████████████████████████████████████████████████████████████████████████████████████████████| 313/313 [00:06<00:00, 52.04it/s, loss=0.2292]\n",
      "Epoch 14 | Training loss: 0.2292, validation accuracy: 0.8175, validation loss: 0.6611\n",
      "100%|███████████████████████████████████████████████████████████████████████████████████████████████████████████████████████████████████████████████| 313/313 [00:06<00:00, 52.13it/s, loss=0.2309]\n",
      "Epoch 15 | Training loss: 0.2309, validation accuracy: 0.8186, validation loss: 0.6682\n",
      "100%|███████████████████████████████████████████████████████████████████████████████████████████████████████████████████████████████████████████████| 313/313 [00:05<00:00, 52.64it/s, loss=0.2268]\n",
      "Epoch 16 | Training loss: 0.2268, validation accuracy: 0.8187, validation loss: 0.6577\n",
      "100%|███████████████████████████████████████████████████████████████████████████████████████████████████████████████████████████████████████████████| 313/313 [00:05<00:00, 52.61it/s, loss=0.2332]\n",
      "Epoch 17 | Training loss: 0.2332, validation accuracy: 0.8184, validation loss: 0.6623\n",
      "100%|███████████████████████████████████████████████████████████████████████████████████████████████████████████████████████████████████████████████| 313/313 [00:05<00:00, 52.50it/s, loss=0.2282]\n",
      "Epoch 18 | Training loss: 0.2282, validation accuracy: 0.8163, validation loss: 0.6700\n",
      "100%|███████████████████████████████████████████████████████████████████████████████████████████████████████████████████████████████████████████████| 313/313 [00:06<00:00, 51.29it/s, loss=0.2247]\n",
      "Epoch 19 | Training loss: 0.2247, validation accuracy: 0.8174, validation loss: 0.6564\n",
      "100%|███████████████████████████████████████████████████████████████████████████████████████████████████████████████████████████████████████████████| 313/313 [00:06<00:00, 51.81it/s, loss=0.2169]\n",
      "Epoch 20 | Training loss: 0.2169, validation accuracy: 0.8183, validation loss: 0.6668\n"
     ]
    }
   ],
   "source": [
    "epochs = 20\n",
    "\n",
    "for epoch in range(epochs):\n",
    "    train_loss = trainer.train_epoch(model, optimizer, dl[\"train\"])\n",
    "    optimizer.finish_epoch()\n",
    "    val_acc, val_loss = trainer.validation(model, dl[\"valid\"])\n",
    "    logger.log(\"Epoch\", epoch+1, \"|\", \n",
    "          f\"Training loss: {train_loss:.4f}, validation accuracy: {val_acc:.4f}, validation loss: {val_loss:.4f}\")"
   ]
  },
  {
   "cell_type": "code",
   "execution_count": 95,
   "id": "5da88168-34f5-4e6c-b5ab-0450f22cd462",
   "metadata": {},
   "outputs": [
    {
     "name": "stdout",
     "output_type": "stream",
     "text": [
      "Train: (0.92775, 0.20241926593780518)\n",
      "Valid: (0.8183, 0.6668149614334107)\n"
     ]
    }
   ],
   "source": [
    "train_score = trainer.validation(model, dl[\"train\"])\n",
    "valid_score = trainer.validation(model, dl[\"valid\"])\n",
    "logger.log(\"Train:\", train_score)\n",
    "logger.log(\"Valid:\", valid_score)"
   ]
  },
  {
   "cell_type": "code",
   "execution_count": 96,
   "id": "a2385bfe-d836-431c-9e33-bff6413b5829",
   "metadata": {},
   "outputs": [
    {
     "name": "stdout",
     "output_type": "stream",
     "text": [
      "RNA\n"
     ]
    }
   ],
   "source": [
    "optimizer.param_groups[0][\"method\"] = \"RNA\"\n",
    "logger.log(\"RNA\")\n",
    "model_acc = deepcopy(model)\n",
    "optimizer.accelerate()\n",
    "optimizer.store_parameters([model_acc.parameters()])"
   ]
  },
  {
   "cell_type": "code",
   "execution_count": 97,
   "id": "7db96b9a-5534-4c1f-8e2c-0a4074e68c92",
   "metadata": {
    "tags": []
   },
   "outputs": [
    {
     "name": "stdout",
     "output_type": "stream",
     "text": [
      "Train: (0.925525, 0.2059572431564331)\n",
      "Valid: (0.8172, 0.669610499382019)\n"
     ]
    }
   ],
   "source": [
    "model_acc.to(trainer.device)\n",
    "train_score = trainer.validation(model_acc, dl[\"train\"])\n",
    "valid_score = trainer.validation(model_acc, dl[\"valid\"])\n",
    "logger.log(\"Train:\", train_score)\n",
    "logger.log(\"Valid:\", valid_score)"
   ]
  },
  {
   "cell_type": "code",
   "execution_count": 98,
   "id": "3ba93042-7429-461d-8beb-8dd150a1b9f0",
   "metadata": {},
   "outputs": [
    {
     "name": "stdout",
     "output_type": "stream",
     "text": [
      "RRE\n"
     ]
    }
   ],
   "source": [
    "optimizer.param_groups[0][\"method\"] = \"RRE\"\n",
    "logger.log(\"RRE\")\n",
    "model_acc = deepcopy(model)\n",
    "optimizer.accelerate()\n",
    "optimizer.store_parameters([model_acc.parameters()])"
   ]
  },
  {
   "cell_type": "code",
   "execution_count": 99,
   "id": "5fd508a8-d0bf-4955-90e5-b8e0354afa83",
   "metadata": {
    "tags": []
   },
   "outputs": [
    {
     "name": "stdout",
     "output_type": "stream",
     "text": [
      "Train: (0.926675, 0.20393958277702331)\n",
      "Valid: (0.8172, 0.6696112274169922)\n"
     ]
    }
   ],
   "source": [
    "model_acc.to(trainer.device)\n",
    "train_score = trainer.validation(model_acc, dl[\"train\"])\n",
    "valid_score = trainer.validation(model_acc, dl[\"valid\"])\n",
    "logger.log(\"Train:\", train_score)\n",
    "logger.log(\"Valid:\", valid_score)"
   ]
  },
  {
   "cell_type": "markdown",
   "id": "ac217be8-f63f-47ff-a239-83fc06b8a265",
   "metadata": {},
   "source": [
    "## Exponential moving average, span = 10"
   ]
  },
  {
   "cell_type": "code",
   "execution_count": 102,
   "id": "551bdaf9-4d59-4b41-b73d-96610f0f0b95",
   "metadata": {
    "tags": []
   },
   "outputs": [
    {
     "data": {
      "text/plain": [
       "ResNet(\n",
       "  (conv1): Conv2d(3, 64, kernel_size=(7, 7), stride=(2, 2), padding=(3, 3), bias=False)\n",
       "  (bn1): BatchNorm2d(64, eps=1e-05, momentum=0.1, affine=True, track_running_stats=True)\n",
       "  (relu): ReLU(inplace=True)\n",
       "  (maxpool): MaxPool2d(kernel_size=3, stride=2, padding=1, dilation=1, ceil_mode=False)\n",
       "  (layer1): Sequential(\n",
       "    (0): BasicBlock(\n",
       "      (conv1): Conv2d(64, 64, kernel_size=(3, 3), stride=(1, 1), padding=(1, 1), bias=False)\n",
       "      (bn1): BatchNorm2d(64, eps=1e-05, momentum=0.1, affine=True, track_running_stats=True)\n",
       "      (relu): ReLU(inplace=True)\n",
       "      (conv2): Conv2d(64, 64, kernel_size=(3, 3), stride=(1, 1), padding=(1, 1), bias=False)\n",
       "      (bn2): BatchNorm2d(64, eps=1e-05, momentum=0.1, affine=True, track_running_stats=True)\n",
       "    )\n",
       "    (1): BasicBlock(\n",
       "      (conv1): Conv2d(64, 64, kernel_size=(3, 3), stride=(1, 1), padding=(1, 1), bias=False)\n",
       "      (bn1): BatchNorm2d(64, eps=1e-05, momentum=0.1, affine=True, track_running_stats=True)\n",
       "      (relu): ReLU(inplace=True)\n",
       "      (conv2): Conv2d(64, 64, kernel_size=(3, 3), stride=(1, 1), padding=(1, 1), bias=False)\n",
       "      (bn2): BatchNorm2d(64, eps=1e-05, momentum=0.1, affine=True, track_running_stats=True)\n",
       "    )\n",
       "  )\n",
       "  (layer2): Sequential(\n",
       "    (0): BasicBlock(\n",
       "      (conv1): Conv2d(64, 128, kernel_size=(3, 3), stride=(2, 2), padding=(1, 1), bias=False)\n",
       "      (bn1): BatchNorm2d(128, eps=1e-05, momentum=0.1, affine=True, track_running_stats=True)\n",
       "      (relu): ReLU(inplace=True)\n",
       "      (conv2): Conv2d(128, 128, kernel_size=(3, 3), stride=(1, 1), padding=(1, 1), bias=False)\n",
       "      (bn2): BatchNorm2d(128, eps=1e-05, momentum=0.1, affine=True, track_running_stats=True)\n",
       "      (downsample): Sequential(\n",
       "        (0): Conv2d(64, 128, kernel_size=(1, 1), stride=(2, 2), bias=False)\n",
       "        (1): BatchNorm2d(128, eps=1e-05, momentum=0.1, affine=True, track_running_stats=True)\n",
       "      )\n",
       "    )\n",
       "    (1): BasicBlock(\n",
       "      (conv1): Conv2d(128, 128, kernel_size=(3, 3), stride=(1, 1), padding=(1, 1), bias=False)\n",
       "      (bn1): BatchNorm2d(128, eps=1e-05, momentum=0.1, affine=True, track_running_stats=True)\n",
       "      (relu): ReLU(inplace=True)\n",
       "      (conv2): Conv2d(128, 128, kernel_size=(3, 3), stride=(1, 1), padding=(1, 1), bias=False)\n",
       "      (bn2): BatchNorm2d(128, eps=1e-05, momentum=0.1, affine=True, track_running_stats=True)\n",
       "    )\n",
       "  )\n",
       "  (layer3): Sequential(\n",
       "    (0): BasicBlock(\n",
       "      (conv1): Conv2d(128, 256, kernel_size=(3, 3), stride=(2, 2), padding=(1, 1), bias=False)\n",
       "      (bn1): BatchNorm2d(256, eps=1e-05, momentum=0.1, affine=True, track_running_stats=True)\n",
       "      (relu): ReLU(inplace=True)\n",
       "      (conv2): Conv2d(256, 256, kernel_size=(3, 3), stride=(1, 1), padding=(1, 1), bias=False)\n",
       "      (bn2): BatchNorm2d(256, eps=1e-05, momentum=0.1, affine=True, track_running_stats=True)\n",
       "      (downsample): Sequential(\n",
       "        (0): Conv2d(128, 256, kernel_size=(1, 1), stride=(2, 2), bias=False)\n",
       "        (1): BatchNorm2d(256, eps=1e-05, momentum=0.1, affine=True, track_running_stats=True)\n",
       "      )\n",
       "    )\n",
       "    (1): BasicBlock(\n",
       "      (conv1): Conv2d(256, 256, kernel_size=(3, 3), stride=(1, 1), padding=(1, 1), bias=False)\n",
       "      (bn1): BatchNorm2d(256, eps=1e-05, momentum=0.1, affine=True, track_running_stats=True)\n",
       "      (relu): ReLU(inplace=True)\n",
       "      (conv2): Conv2d(256, 256, kernel_size=(3, 3), stride=(1, 1), padding=(1, 1), bias=False)\n",
       "      (bn2): BatchNorm2d(256, eps=1e-05, momentum=0.1, affine=True, track_running_stats=True)\n",
       "    )\n",
       "  )\n",
       "  (layer4): Sequential(\n",
       "    (0): BasicBlock(\n",
       "      (conv1): Conv2d(256, 512, kernel_size=(3, 3), stride=(2, 2), padding=(1, 1), bias=False)\n",
       "      (bn1): BatchNorm2d(512, eps=1e-05, momentum=0.1, affine=True, track_running_stats=True)\n",
       "      (relu): ReLU(inplace=True)\n",
       "      (conv2): Conv2d(512, 512, kernel_size=(3, 3), stride=(1, 1), padding=(1, 1), bias=False)\n",
       "      (bn2): BatchNorm2d(512, eps=1e-05, momentum=0.1, affine=True, track_running_stats=True)\n",
       "      (downsample): Sequential(\n",
       "        (0): Conv2d(256, 512, kernel_size=(1, 1), stride=(2, 2), bias=False)\n",
       "        (1): BatchNorm2d(512, eps=1e-05, momentum=0.1, affine=True, track_running_stats=True)\n",
       "      )\n",
       "    )\n",
       "    (1): BasicBlock(\n",
       "      (conv1): Conv2d(512, 512, kernel_size=(3, 3), stride=(1, 1), padding=(1, 1), bias=False)\n",
       "      (bn1): BatchNorm2d(512, eps=1e-05, momentum=0.1, affine=True, track_running_stats=True)\n",
       "      (relu): ReLU(inplace=True)\n",
       "      (conv2): Conv2d(512, 512, kernel_size=(3, 3), stride=(1, 1), padding=(1, 1), bias=False)\n",
       "      (bn2): BatchNorm2d(512, eps=1e-05, momentum=0.1, affine=True, track_running_stats=True)\n",
       "    )\n",
       "  )\n",
       "  (avgpool): AdaptiveAvgPool2d(output_size=(1, 1))\n",
       "  (fc): Sequential(\n",
       "    (0): Linear(in_features=512, out_features=10, bias=True)\n",
       "    (1): LogSoftmax(dim=-1)\n",
       "  )\n",
       ")"
      ]
     },
     "execution_count": 102,
     "metadata": {},
     "output_type": "execute_result"
    }
   ],
   "source": [
    "model.load_state_dict(initial_state)\n",
    "model.to(trainer.device)"
   ]
  },
  {
   "cell_type": "code",
   "execution_count": 103,
   "id": "55fb36a9-6e98-4aab-8ac7-a392d2d3e2f1",
   "metadata": {},
   "outputs": [
    {
     "data": {
      "text/plain": [
       "(0.1024, 2.3916895107269287)"
      ]
     },
     "execution_count": 103,
     "metadata": {},
     "output_type": "execute_result"
    }
   ],
   "source": [
    "trainer.validation(model, dl[\"valid\"])"
   ]
  },
  {
   "cell_type": "code",
   "execution_count": 104,
   "id": "9499ef90-9794-4359-9e03-7bf0058d3569",
   "metadata": {},
   "outputs": [
    {
     "data": {
      "text/plain": [
       "<torch._C.Generator at 0x7f0654071110>"
      ]
     },
     "execution_count": 104,
     "metadata": {},
     "output_type": "execute_result"
    }
   ],
   "source": [
    "optimizer = AcceleratedSGD(model.parameters(), 1e-2, k=10, momentum=0.9, weight_decay=1e-5, lambda_=1e-8, \n",
    "                           mode=\"epoch_avg\", avg_alpha=2 / (10 + 1))\n",
    "logger = Logger(\"resnet_log_augmentation_span=10.txt.no_resizing\")\n",
    "torch.manual_seed(2020)"
   ]
  },
  {
   "cell_type": "code",
   "execution_count": 105,
   "id": "2a85d154-b635-4d28-9cc4-fde41c8b4568",
   "metadata": {},
   "outputs": [
    {
     "name": "stdout",
     "output_type": "stream",
     "text": [
      "100%|███████████████████████████████████████████████████████████████████████████████████████████████████████████████████████████████████████████████| 313/313 [00:06<00:00, 50.10it/s, loss=1.8369]\n",
      "Epoch 1 | Training loss: 1.8369, validation accuracy: 0.4214, validation loss: 1.5839\n",
      "100%|███████████████████████████████████████████████████████████████████████████████████████████████████████████████████████████████████████████████| 313/313 [00:06<00:00, 50.41it/s, loss=1.5349]\n",
      "Epoch 2 | Training loss: 1.5349, validation accuracy: 0.4904, validation loss: 1.4088\n",
      "100%|███████████████████████████████████████████████████████████████████████████████████████████████████████████████████████████████████████████████| 313/313 [00:06<00:00, 50.75it/s, loss=1.4009]\n",
      "Epoch 3 | Training loss: 1.4009, validation accuracy: 0.5555, validation loss: 1.2691\n",
      "100%|███████████████████████████████████████████████████████████████████████████████████████████████████████████████████████████████████████████████| 313/313 [00:06<00:00, 51.18it/s, loss=1.3022]\n",
      "Epoch 4 | Training loss: 1.3022, validation accuracy: 0.5704, validation loss: 1.2825\n",
      "100%|███████████████████████████████████████████████████████████████████████████████████████████████████████████████████████████████████████████████| 313/313 [00:06<00:00, 49.36it/s, loss=1.2305]\n",
      "Epoch 5 | Training loss: 1.2305, validation accuracy: 0.6136, validation loss: 1.0994\n",
      "100%|███████████████████████████████████████████████████████████████████████████████████████████████████████████████████████████████████████████████| 313/313 [00:06<00:00, 50.28it/s, loss=1.1629]\n",
      "Epoch 6 | Training loss: 1.1629, validation accuracy: 0.6220, validation loss: 1.1436\n",
      "100%|███████████████████████████████████████████████████████████████████████████████████████████████████████████████████████████████████████████████| 313/313 [00:06<00:00, 49.79it/s, loss=1.0997]\n",
      "Epoch 7 | Training loss: 1.0997, validation accuracy: 0.6480, validation loss: 1.0384\n",
      "100%|███████████████████████████████████████████████████████████████████████████████████████████████████████████████████████████████████████████████| 313/313 [00:06<00:00, 50.27it/s, loss=1.0471]\n",
      "Epoch 8 | Training loss: 1.0471, validation accuracy: 0.6770, validation loss: 0.9191\n",
      "100%|███████████████████████████████████████████████████████████████████████████████████████████████████████████████████████████████████████████████| 313/313 [00:06<00:00, 50.28it/s, loss=1.0000]\n",
      "Epoch 9 | Training loss: 1.0000, validation accuracy: 0.6866, validation loss: 0.8914\n",
      "100%|███████████████████████████████████████████████████████████████████████████████████████████████████████████████████████████████████████████████| 313/313 [00:06<00:00, 50.36it/s, loss=0.9675]\n",
      "Epoch 10 | Training loss: 0.9675, validation accuracy: 0.6701, validation loss: 0.9401\n",
      "100%|███████████████████████████████████████████████████████████████████████████████████████████████████████████████████████████████████████████████| 313/313 [00:06<00:00, 50.77it/s, loss=0.9356]\n",
      "Epoch 11 | Training loss: 0.9356, validation accuracy: 0.6995, validation loss: 0.8691\n",
      "100%|███████████████████████████████████████████████████████████████████████████████████████████████████████████████████████████████████████████████| 313/313 [00:06<00:00, 50.35it/s, loss=0.9032]\n",
      "Epoch 12 | Training loss: 0.9032, validation accuracy: 0.7145, validation loss: 0.8265\n",
      "100%|███████████████████████████████████████████████████████████████████████████████████████████████████████████████████████████████████████████████| 313/313 [00:06<00:00, 51.28it/s, loss=0.8742]\n",
      "Epoch 13 | Training loss: 0.8742, validation accuracy: 0.7152, validation loss: 0.8267\n",
      "100%|███████████████████████████████████████████████████████████████████████████████████████████████████████████████████████████████████████████████| 313/313 [00:06<00:00, 50.76it/s, loss=0.8534]\n",
      "Epoch 14 | Training loss: 0.8534, validation accuracy: 0.7218, validation loss: 0.8005\n",
      "100%|███████████████████████████████████████████████████████████████████████████████████████████████████████████████████████████████████████████████| 313/313 [00:06<00:00, 50.26it/s, loss=0.8378]\n",
      "Epoch 15 | Training loss: 0.8378, validation accuracy: 0.7206, validation loss: 0.7974\n",
      "100%|███████████████████████████████████████████████████████████████████████████████████████████████████████████████████████████████████████████████| 313/313 [00:06<00:00, 51.03it/s, loss=0.8067]\n",
      "Epoch 16 | Training loss: 0.8067, validation accuracy: 0.6986, validation loss: 0.8879\n",
      "100%|███████████████████████████████████████████████████████████████████████████████████████████████████████████████████████████████████████████████| 313/313 [00:06<00:00, 50.63it/s, loss=0.7835]\n",
      "Epoch 17 | Training loss: 0.7835, validation accuracy: 0.7480, validation loss: 0.7453\n",
      "100%|███████████████████████████████████████████████████████████████████████████████████████████████████████████████████████████████████████████████| 313/313 [00:06<00:00, 49.77it/s, loss=0.7657]\n",
      "Epoch 18 | Training loss: 0.7657, validation accuracy: 0.7485, validation loss: 0.7370\n",
      "100%|███████████████████████████████████████████████████████████████████████████████████████████████████████████████████████████████████████████████| 313/313 [00:06<00:00, 50.62it/s, loss=0.7464]\n",
      "Epoch 19 | Training loss: 0.7464, validation accuracy: 0.7460, validation loss: 0.7396\n",
      "100%|███████████████████████████████████████████████████████████████████████████████████████████████████████████████████████████████████████████████| 313/313 [00:06<00:00, 50.10it/s, loss=0.7289]\n",
      "Epoch 20 | Training loss: 0.7289, validation accuracy: 0.7472, validation loss: 0.7578\n",
      "100%|███████████████████████████████████████████████████████████████████████████████████████████████████████████████████████████████████████████████| 313/313 [00:06<00:00, 50.04it/s, loss=0.7166]\n",
      "Epoch 21 | Training loss: 0.7166, validation accuracy: 0.7641, validation loss: 0.6868\n",
      "100%|███████████████████████████████████████████████████████████████████████████████████████████████████████████████████████████████████████████████| 313/313 [00:06<00:00, 50.32it/s, loss=0.7009]\n",
      "Epoch 22 | Training loss: 0.7009, validation accuracy: 0.7561, validation loss: 0.7411\n",
      "100%|███████████████████████████████████████████████████████████████████████████████████████████████████████████████████████████████████████████████| 313/313 [00:06<00:00, 50.30it/s, loss=0.6831]\n",
      "Epoch 23 | Training loss: 0.6831, validation accuracy: 0.7554, validation loss: 0.7286\n",
      "100%|███████████████████████████████████████████████████████████████████████████████████████████████████████████████████████████████████████████████| 313/313 [00:06<00:00, 50.44it/s, loss=0.6722]\n",
      "Epoch 24 | Training loss: 0.6722, validation accuracy: 0.7532, validation loss: 0.7527\n",
      "100%|███████████████████████████████████████████████████████████████████████████████████████████████████████████████████████████████████████████████| 313/313 [00:06<00:00, 50.71it/s, loss=0.6522]\n",
      "Epoch 25 | Training loss: 0.6522, validation accuracy: 0.7610, validation loss: 0.7083\n",
      "100%|███████████████████████████████████████████████████████████████████████████████████████████████████████████████████████████████████████████████| 313/313 [00:06<00:00, 50.08it/s, loss=0.6424]\n",
      "Epoch 26 | Training loss: 0.6424, validation accuracy: 0.7667, validation loss: 0.6978\n",
      "100%|███████████████████████████████████████████████████████████████████████████████████████████████████████████████████████████████████████████████| 313/313 [00:06<00:00, 49.92it/s, loss=0.6334]\n",
      "Epoch 27 | Training loss: 0.6334, validation accuracy: 0.7525, validation loss: 0.7215\n",
      "100%|███████████████████████████████████████████████████████████████████████████████████████████████████████████████████████████████████████████████| 313/313 [00:06<00:00, 50.53it/s, loss=0.6216]\n",
      "Epoch 28 | Training loss: 0.6216, validation accuracy: 0.7701, validation loss: 0.6771\n",
      "100%|███████████████████████████████████████████████████████████████████████████████████████████████████████████████████████████████████████████████| 313/313 [00:06<00:00, 49.68it/s, loss=0.6025]\n",
      "Epoch 29 | Training loss: 0.6025, validation accuracy: 0.7753, validation loss: 0.6722\n",
      "100%|███████████████████████████████████████████████████████████████████████████████████████████████████████████████████████████████████████████████| 313/313 [00:06<00:00, 50.05it/s, loss=0.5886]\n",
      "Epoch 30 | Training loss: 0.5886, validation accuracy: 0.7669, validation loss: 0.7055\n",
      "100%|███████████████████████████████████████████████████████████████████████████████████████████████████████████████████████████████████████████████| 313/313 [00:06<00:00, 50.18it/s, loss=0.5886]\n",
      "Epoch 31 | Training loss: 0.5886, validation accuracy: 0.7707, validation loss: 0.6710\n",
      "100%|███████████████████████████████████████████████████████████████████████████████████████████████████████████████████████████████████████████████| 313/313 [00:06<00:00, 48.91it/s, loss=0.5741]\n",
      "Epoch 32 | Training loss: 0.5741, validation accuracy: 0.7617, validation loss: 0.7268\n",
      "100%|███████████████████████████████████████████████████████████████████████████████████████████████████████████████████████████████████████████████| 313/313 [00:06<00:00, 50.21it/s, loss=0.5650]\n",
      "Epoch 33 | Training loss: 0.5650, validation accuracy: 0.7781, validation loss: 0.6733\n",
      "100%|███████████████████████████████████████████████████████████████████████████████████████████████████████████████████████████████████████████████| 313/313 [00:06<00:00, 50.16it/s, loss=0.5563]\n",
      "Epoch 34 | Training loss: 0.5563, validation accuracy: 0.7749, validation loss: 0.6861\n",
      "100%|███████████████████████████████████████████████████████████████████████████████████████████████████████████████████████████████████████████████| 313/313 [00:06<00:00, 50.68it/s, loss=0.5444]\n",
      "Epoch 35 | Training loss: 0.5444, validation accuracy: 0.7768, validation loss: 0.6945\n",
      "100%|███████████████████████████████████████████████████████████████████████████████████████████████████████████████████████████████████████████████| 313/313 [00:06<00:00, 50.28it/s, loss=0.5302]\n",
      "Epoch 36 | Training loss: 0.5302, validation accuracy: 0.7757, validation loss: 0.6966\n",
      "100%|███████████████████████████████████████████████████████████████████████████████████████████████████████████████████████████████████████████████| 313/313 [00:06<00:00, 50.09it/s, loss=0.5229]\n",
      "Epoch 37 | Training loss: 0.5229, validation accuracy: 0.7803, validation loss: 0.6753\n",
      "100%|███████████████████████████████████████████████████████████████████████████████████████████████████████████████████████████████████████████████| 313/313 [00:06<00:00, 50.83it/s, loss=0.5155]\n",
      "Epoch 38 | Training loss: 0.5155, validation accuracy: 0.7844, validation loss: 0.6562\n",
      "100%|███████████████████████████████████████████████████████████████████████████████████████████████████████████████████████████████████████████████| 313/313 [00:06<00:00, 50.23it/s, loss=0.5016]\n",
      "Epoch 39 | Training loss: 0.5016, validation accuracy: 0.7850, validation loss: 0.6849\n",
      "100%|███████████████████████████████████████████████████████████████████████████████████████████████████████████████████████████████████████████████| 313/313 [00:06<00:00, 50.48it/s, loss=0.5014]\n",
      "Epoch 40 | Training loss: 0.5014, validation accuracy: 0.7855, validation loss: 0.6681\n",
      "100%|███████████████████████████████████████████████████████████████████████████████████████████████████████████████████████████████████████████████| 313/313 [00:06<00:00, 50.02it/s, loss=0.4845]\n",
      "Epoch 41 | Training loss: 0.4845, validation accuracy: 0.7741, validation loss: 0.7200\n",
      "100%|███████████████████████████████████████████████████████████████████████████████████████████████████████████████████████████████████████████████| 313/313 [00:06<00:00, 50.21it/s, loss=0.4749]\n",
      "Epoch 42 | Training loss: 0.4749, validation accuracy: 0.7823, validation loss: 0.6918\n",
      "100%|███████████████████████████████████████████████████████████████████████████████████████████████████████████████████████████████████████████████| 313/313 [00:06<00:00, 49.03it/s, loss=0.4764]\n",
      "Epoch 43 | Training loss: 0.4764, validation accuracy: 0.7807, validation loss: 0.6914\n",
      "100%|███████████████████████████████████████████████████████████████████████████████████████████████████████████████████████████████████████████████| 313/313 [00:06<00:00, 50.21it/s, loss=0.4651]\n",
      "Epoch 44 | Training loss: 0.4651, validation accuracy: 0.7804, validation loss: 0.6981\n",
      "100%|███████████████████████████████████████████████████████████████████████████████████████████████████████████████████████████████████████████████| 313/313 [00:06<00:00, 49.27it/s, loss=0.4539]\n",
      "Epoch 45 | Training loss: 0.4539, validation accuracy: 0.7906, validation loss: 0.6813\n"
     ]
    }
   ],
   "source": [
    "epochs = 45\n",
    "\n",
    "for epoch in range(epochs):\n",
    "    train_loss = trainer.train_epoch(model, optimizer, dl[\"train\"])\n",
    "    optimizer.finish_epoch()\n",
    "    val_acc, val_loss = trainer.validation(model, dl[\"valid\"])\n",
    "    logger.log(\"Epoch\", epoch+1, \"|\", \n",
    "          f\"Training loss: {train_loss:.4f}, validation accuracy: {val_acc:.4f}, validation loss: {val_loss:.4f}\")"
   ]
  },
  {
   "cell_type": "code",
   "execution_count": 106,
   "id": "14b12f86-a2b8-4d6b-a3ba-c19b530fbeff",
   "metadata": {},
   "outputs": [
    {
     "name": "stdout",
     "output_type": "stream",
     "text": [
      "Train: (0.844175, 0.4342851956367493)\n",
      "Valid: (0.7906, 0.681303299331665)\n"
     ]
    }
   ],
   "source": [
    "train_score = trainer.validation(model, dl[\"train\"])\n",
    "valid_score = trainer.validation(model, dl[\"valid\"])\n",
    "logger.log(\"Train:\", train_score)\n",
    "logger.log(\"Valid:\", valid_score)"
   ]
  },
  {
   "cell_type": "code",
   "execution_count": 107,
   "id": "fe5e2ef0-e1f8-48be-bb39-5d969d2838f5",
   "metadata": {},
   "outputs": [
    {
     "name": "stdout",
     "output_type": "stream",
     "text": [
      "RNA\n"
     ]
    }
   ],
   "source": [
    "optimizer.param_groups[0][\"method\"] = \"RNA\"\n",
    "logger.log(\"RNA\")\n",
    "model_acc = deepcopy(model)\n",
    "optimizer.accelerate()\n",
    "optimizer.store_parameters([model_acc.parameters()])"
   ]
  },
  {
   "cell_type": "code",
   "execution_count": 108,
   "id": "53c987a1-15a7-4de3-90c4-bb8bc49be040",
   "metadata": {
    "tags": []
   },
   "outputs": [
    {
     "name": "stdout",
     "output_type": "stream",
     "text": [
      "Train: (0.851525, 0.41859201264381407)\n",
      "Valid: (0.7958, 0.620941765499115)\n"
     ]
    }
   ],
   "source": [
    "model_acc.to(trainer.device)\n",
    "train_score = trainer.validation(model_acc, dl[\"train\"])\n",
    "valid_score = trainer.validation(model_acc, dl[\"valid\"])\n",
    "logger.log(\"Train:\", train_score)\n",
    "logger.log(\"Valid:\", valid_score)"
   ]
  },
  {
   "cell_type": "code",
   "execution_count": 109,
   "id": "eaf8b24c-1f4f-4ddb-b04d-c4ede7b6ae0d",
   "metadata": {},
   "outputs": [
    {
     "name": "stdout",
     "output_type": "stream",
     "text": [
      "RRE\n"
     ]
    }
   ],
   "source": [
    "optimizer.param_groups[0][\"method\"] = \"RRE\"\n",
    "logger.log(\"RRE\")\n",
    "model_acc = deepcopy(model)\n",
    "optimizer.accelerate()\n",
    "optimizer.store_parameters([model_acc.parameters()])"
   ]
  },
  {
   "cell_type": "code",
   "execution_count": 110,
   "id": "ecc36488-ae32-4775-ae13-3b6840d307f2",
   "metadata": {
    "tags": []
   },
   "outputs": [
    {
     "name": "stdout",
     "output_type": "stream",
     "text": [
      "Train: (0.851625, 0.41888185758590696)\n",
      "Valid: (0.7958, 0.6209063492774963)\n"
     ]
    }
   ],
   "source": [
    "model_acc.to(trainer.device)\n",
    "train_score = trainer.validation(model_acc, dl[\"train\"])\n",
    "valid_score = trainer.validation(model_acc, dl[\"valid\"])\n",
    "logger.log(\"Train:\", train_score)\n",
    "logger.log(\"Valid:\", valid_score)"
   ]
  },
  {
   "cell_type": "code",
   "execution_count": 111,
   "id": "3a36caa2-f8f7-4fb0-a797-e5299fdddff6",
   "metadata": {},
   "outputs": [],
   "source": [
    "optimizer.param_groups[0][\"lr\"] = 1e-2"
   ]
  },
  {
   "cell_type": "code",
   "execution_count": 112,
   "id": "b0e29814-b9e3-4cb0-bf4f-2acfeb629634",
   "metadata": {},
   "outputs": [
    {
     "name": "stdout",
     "output_type": "stream",
     "text": [
      "100%|███████████████████████████████████████████████████████████████████████████████████████████████████████████████████████████████████████████████| 313/313 [00:06<00:00, 49.27it/s, loss=0.4466]\n",
      "Epoch 1 | Training loss: 0.4466, validation accuracy: 0.7960, validation loss: 0.6625\n",
      "100%|███████████████████████████████████████████████████████████████████████████████████████████████████████████████████████████████████████████████| 313/313 [00:06<00:00, 47.39it/s, loss=0.4417]\n",
      "Epoch 2 | Training loss: 0.4417, validation accuracy: 0.7864, validation loss: 0.6928\n",
      "100%|███████████████████████████████████████████████████████████████████████████████████████████████████████████████████████████████████████████████| 313/313 [00:06<00:00, 47.75it/s, loss=0.4369]\n",
      "Epoch 3 | Training loss: 0.4369, validation accuracy: 0.7907, validation loss: 0.6741\n",
      "100%|███████████████████████████████████████████████████████████████████████████████████████████████████████████████████████████████████████████████| 313/313 [00:06<00:00, 48.25it/s, loss=0.4260]\n",
      "Epoch 4 | Training loss: 0.4260, validation accuracy: 0.7882, validation loss: 0.6951\n",
      "100%|███████████████████████████████████████████████████████████████████████████████████████████████████████████████████████████████████████████████| 313/313 [00:06<00:00, 49.08it/s, loss=0.4251]\n",
      "Epoch 5 | Training loss: 0.4251, validation accuracy: 0.7935, validation loss: 0.6574\n",
      "100%|███████████████████████████████████████████████████████████████████████████████████████████████████████████████████████████████████████████████| 313/313 [00:06<00:00, 49.02it/s, loss=0.4102]\n",
      "Epoch 6 | Training loss: 0.4102, validation accuracy: 0.7857, validation loss: 0.7224\n",
      "100%|███████████████████████████████████████████████████████████████████████████████████████████████████████████████████████████████████████████████| 313/313 [00:06<00:00, 49.62it/s, loss=0.4085]\n",
      "Epoch 7 | Training loss: 0.4085, validation accuracy: 0.7972, validation loss: 0.6625\n",
      "100%|███████████████████████████████████████████████████████████████████████████████████████████████████████████████████████████████████████████████| 313/313 [00:06<00:00, 49.41it/s, loss=0.4039]\n",
      "Epoch 8 | Training loss: 0.4039, validation accuracy: 0.7877, validation loss: 0.7111\n",
      "100%|███████████████████████████████████████████████████████████████████████████████████████████████████████████████████████████████████████████████| 313/313 [00:06<00:00, 49.46it/s, loss=0.3927]\n",
      "Epoch 9 | Training loss: 0.3927, validation accuracy: 0.7815, validation loss: 0.7271\n",
      "100%|███████████████████████████████████████████████████████████████████████████████████████████████████████████████████████████████████████████████| 313/313 [00:06<00:00, 49.20it/s, loss=0.3883]\n",
      "Epoch 10 | Training loss: 0.3883, validation accuracy: 0.7968, validation loss: 0.6878\n",
      "100%|███████████████████████████████████████████████████████████████████████████████████████████████████████████████████████████████████████████████| 313/313 [00:06<00:00, 49.36it/s, loss=0.3797]\n",
      "Epoch 11 | Training loss: 0.3797, validation accuracy: 0.8007, validation loss: 0.6650\n",
      "100%|███████████████████████████████████████████████████████████████████████████████████████████████████████████████████████████████████████████████| 313/313 [00:06<00:00, 49.35it/s, loss=0.3722]\n",
      "Epoch 12 | Training loss: 0.3722, validation accuracy: 0.7938, validation loss: 0.7206\n",
      "100%|███████████████████████████████████████████████████████████████████████████████████████████████████████████████████████████████████████████████| 313/313 [00:06<00:00, 49.41it/s, loss=0.3708]\n",
      "Epoch 13 | Training loss: 0.3708, validation accuracy: 0.8007, validation loss: 0.7017\n",
      "100%|███████████████████████████████████████████████████████████████████████████████████████████████████████████████████████████████████████████████| 313/313 [00:06<00:00, 49.39it/s, loss=0.3687]\n",
      "Epoch 14 | Training loss: 0.3687, validation accuracy: 0.7905, validation loss: 0.7332\n",
      "100%|███████████████████████████████████████████████████████████████████████████████████████████████████████████████████████████████████████████████| 313/313 [00:06<00:00, 49.56it/s, loss=0.3592]\n",
      "Epoch 15 | Training loss: 0.3592, validation accuracy: 0.7900, validation loss: 0.7160\n",
      "100%|███████████████████████████████████████████████████████████████████████████████████████████████████████████████████████████████████████████████| 313/313 [00:06<00:00, 49.61it/s, loss=0.3519]\n",
      "Epoch 16 | Training loss: 0.3519, validation accuracy: 0.7985, validation loss: 0.7152\n",
      "100%|███████████████████████████████████████████████████████████████████████████████████████████████████████████████████████████████████████████████| 313/313 [00:06<00:00, 49.50it/s, loss=0.3417]\n",
      "Epoch 17 | Training loss: 0.3417, validation accuracy: 0.7963, validation loss: 0.7328\n",
      "100%|███████████████████████████████████████████████████████████████████████████████████████████████████████████████████████████████████████████████| 313/313 [00:06<00:00, 49.57it/s, loss=0.3477]\n",
      "Epoch 18 | Training loss: 0.3477, validation accuracy: 0.7829, validation loss: 0.7846\n",
      "100%|███████████████████████████████████████████████████████████████████████████████████████████████████████████████████████████████████████████████| 313/313 [00:06<00:00, 49.51it/s, loss=0.3372]\n",
      "Epoch 19 | Training loss: 0.3372, validation accuracy: 0.7922, validation loss: 0.7255\n",
      "100%|███████████████████████████████████████████████████████████████████████████████████████████████████████████████████████████████████████████████| 313/313 [00:06<00:00, 48.41it/s, loss=0.3268]\n",
      "Epoch 20 | Training loss: 0.3268, validation accuracy: 0.7908, validation loss: 0.7440\n"
     ]
    }
   ],
   "source": [
    "epochs = 20\n",
    "\n",
    "for epoch in range(epochs):\n",
    "    train_loss = trainer.train_epoch(model, optimizer, dl[\"train\"])\n",
    "    optimizer.finish_epoch()\n",
    "    val_acc, val_loss = trainer.validation(model, dl[\"valid\"])\n",
    "    logger.log(\"Epoch\", epoch+1, \"|\", \n",
    "          f\"Training loss: {train_loss:.4f}, validation accuracy: {val_acc:.4f}, validation loss: {val_loss:.4f}\")"
   ]
  },
  {
   "cell_type": "code",
   "execution_count": 113,
   "id": "df2fe37e-bfcb-4371-a977-d51ece9c5ebe",
   "metadata": {},
   "outputs": [
    {
     "name": "stdout",
     "output_type": "stream",
     "text": [
      "Train: (0.8917, 0.30008010478019714)\n",
      "Valid: (0.7908, 0.744043511390686)\n"
     ]
    }
   ],
   "source": [
    "train_score = trainer.validation(model, dl[\"train\"])\n",
    "valid_score = trainer.validation(model, dl[\"valid\"])\n",
    "logger.log(\"Train:\", train_score)\n",
    "logger.log(\"Valid:\", valid_score)"
   ]
  },
  {
   "cell_type": "code",
   "execution_count": 114,
   "id": "9df3912a-2b85-474a-a823-c8d0194de25c",
   "metadata": {},
   "outputs": [
    {
     "name": "stdout",
     "output_type": "stream",
     "text": [
      "RNA\n"
     ]
    }
   ],
   "source": [
    "optimizer.param_groups[0][\"method\"] = \"RNA\"\n",
    "logger.log(\"RNA\")\n",
    "model_acc = deepcopy(model)\n",
    "optimizer.accelerate()\n",
    "optimizer.store_parameters([model_acc.parameters()])"
   ]
  },
  {
   "cell_type": "code",
   "execution_count": 115,
   "id": "3024bfaa-0823-4081-ab7d-3dcdeb10b3b6",
   "metadata": {
    "tags": []
   },
   "outputs": [
    {
     "name": "stdout",
     "output_type": "stream",
     "text": [
      "Train: (0.90705, 0.26277397770881655)\n",
      "Valid: (0.8132, 0.6498286313056946)\n"
     ]
    }
   ],
   "source": [
    "model_acc.to(trainer.device)\n",
    "train_score = trainer.validation(model_acc, dl[\"train\"])\n",
    "valid_score = trainer.validation(model_acc, dl[\"valid\"])\n",
    "logger.log(\"Train:\", train_score)\n",
    "logger.log(\"Valid:\", valid_score)"
   ]
  },
  {
   "cell_type": "code",
   "execution_count": 116,
   "id": "aa26c011-b835-40cc-9560-7ab926cb5a4a",
   "metadata": {},
   "outputs": [
    {
     "name": "stdout",
     "output_type": "stream",
     "text": [
      "RRE\n"
     ]
    }
   ],
   "source": [
    "optimizer.param_groups[0][\"method\"] = \"RRE\"\n",
    "logger.log(\"RRE\")\n",
    "model_acc = deepcopy(model)\n",
    "optimizer.accelerate()\n",
    "optimizer.store_parameters([model_acc.parameters()])"
   ]
  },
  {
   "cell_type": "code",
   "execution_count": 117,
   "id": "ede8c15a-c85d-4873-a87a-3f396999f985",
   "metadata": {
    "tags": []
   },
   "outputs": [
    {
     "name": "stdout",
     "output_type": "stream",
     "text": [
      "Train: (0.9081, 0.2623101516246796)\n",
      "Valid: (0.8133, 0.6498181837081909)\n"
     ]
    }
   ],
   "source": [
    "model_acc.to(trainer.device)\n",
    "train_score = trainer.validation(model_acc, dl[\"train\"])\n",
    "valid_score = trainer.validation(model_acc, dl[\"valid\"])\n",
    "logger.log(\"Train:\", train_score)\n",
    "logger.log(\"Valid:\", valid_score)"
   ]
  },
  {
   "cell_type": "code",
   "execution_count": 118,
   "id": "340d58fb-6ade-4801-828f-8a8e14de7de9",
   "metadata": {},
   "outputs": [],
   "source": [
    "optimizer.param_groups[0][\"lr\"] = 1e-3"
   ]
  },
  {
   "cell_type": "code",
   "execution_count": 119,
   "id": "486564eb-b682-4976-9e76-d3d6d8b286e4",
   "metadata": {},
   "outputs": [
    {
     "name": "stdout",
     "output_type": "stream",
     "text": [
      "100%|███████████████████████████████████████████████████████████████████████████████████████████████████████████████████████████████████████████████| 313/313 [00:06<00:00, 49.64it/s, loss=0.2590]\n",
      "Epoch 1 | Training loss: 0.2590, validation accuracy: 0.8139, validation loss: 0.6633\n",
      "100%|███████████████████████████████████████████████████████████████████████████████████████████████████████████████████████████████████████████████| 313/313 [00:06<00:00, 49.36it/s, loss=0.2349]\n",
      "Epoch 2 | Training loss: 0.2349, validation accuracy: 0.8172, validation loss: 0.6681\n",
      "100%|███████████████████████████████████████████████████████████████████████████████████████████████████████████████████████████████████████████████| 313/313 [00:06<00:00, 49.25it/s, loss=0.2233]\n",
      "Epoch 3 | Training loss: 0.2233, validation accuracy: 0.8155, validation loss: 0.6839\n",
      "100%|███████████████████████████████████████████████████████████████████████████████████████████████████████████████████████████████████████████████| 313/313 [00:06<00:00, 49.55it/s, loss=0.2175]\n",
      "Epoch 4 | Training loss: 0.2175, validation accuracy: 0.8132, validation loss: 0.6951\n",
      "100%|███████████████████████████████████████████████████████████████████████████████████████████████████████████████████████████████████████████████| 313/313 [00:06<00:00, 49.30it/s, loss=0.2139]\n",
      "Epoch 5 | Training loss: 0.2139, validation accuracy: 0.8149, validation loss: 0.6957\n",
      "100%|███████████████████████████████████████████████████████████████████████████████████████████████████████████████████████████████████████████████| 313/313 [00:06<00:00, 48.80it/s, loss=0.2067]\n",
      "Epoch 6 | Training loss: 0.2067, validation accuracy: 0.8164, validation loss: 0.6944\n",
      "100%|███████████████████████████████████████████████████████████████████████████████████████████████████████████████████████████████████████████████| 313/313 [00:06<00:00, 49.41it/s, loss=0.2022]\n",
      "Epoch 7 | Training loss: 0.2022, validation accuracy: 0.8149, validation loss: 0.7099\n",
      "100%|███████████████████████████████████████████████████████████████████████████████████████████████████████████████████████████████████████████████| 313/313 [00:06<00:00, 49.62it/s, loss=0.1990]\n",
      "Epoch 8 | Training loss: 0.1990, validation accuracy: 0.8165, validation loss: 0.7043\n",
      "100%|███████████████████████████████████████████████████████████████████████████████████████████████████████████████████████████████████████████████| 313/313 [00:06<00:00, 50.11it/s, loss=0.1950]\n",
      "Epoch 9 | Training loss: 0.1950, validation accuracy: 0.8157, validation loss: 0.7220\n",
      "100%|███████████████████████████████████████████████████████████████████████████████████████████████████████████████████████████████████████████████| 313/313 [00:06<00:00, 49.70it/s, loss=0.1960]\n",
      "Epoch 10 | Training loss: 0.1960, validation accuracy: 0.8171, validation loss: 0.7197\n",
      "100%|███████████████████████████████████████████████████████████████████████████████████████████████████████████████████████████████████████████████| 313/313 [00:06<00:00, 50.02it/s, loss=0.1885]\n",
      "Epoch 11 | Training loss: 0.1885, validation accuracy: 0.8139, validation loss: 0.7405\n",
      "100%|███████████████████████████████████████████████████████████████████████████████████████████████████████████████████████████████████████████████| 313/313 [00:06<00:00, 48.82it/s, loss=0.1870]\n",
      "Epoch 12 | Training loss: 0.1870, validation accuracy: 0.8149, validation loss: 0.7298\n",
      "100%|███████████████████████████████████████████████████████████████████████████████████████████████████████████████████████████████████████████████| 313/313 [00:06<00:00, 48.91it/s, loss=0.1909]\n",
      "Epoch 13 | Training loss: 0.1909, validation accuracy: 0.8171, validation loss: 0.7330\n",
      "100%|███████████████████████████████████████████████████████████████████████████████████████████████████████████████████████████████████████████████| 313/313 [00:06<00:00, 49.14it/s, loss=0.1880]\n",
      "Epoch 14 | Training loss: 0.1880, validation accuracy: 0.8155, validation loss: 0.7368\n",
      "100%|███████████████████████████████████████████████████████████████████████████████████████████████████████████████████████████████████████████████| 313/313 [00:06<00:00, 48.10it/s, loss=0.1838]\n",
      "Epoch 15 | Training loss: 0.1838, validation accuracy: 0.8181, validation loss: 0.7373\n",
      "100%|███████████████████████████████████████████████████████████████████████████████████████████████████████████████████████████████████████████████| 313/313 [00:06<00:00, 48.44it/s, loss=0.1846]\n",
      "Epoch 16 | Training loss: 0.1846, validation accuracy: 0.8176, validation loss: 0.7370\n",
      "100%|███████████████████████████████████████████████████████████████████████████████████████████████████████████████████████████████████████████████| 313/313 [00:06<00:00, 49.47it/s, loss=0.1765]\n",
      "Epoch 17 | Training loss: 0.1765, validation accuracy: 0.8171, validation loss: 0.7545\n",
      "100%|███████████████████████████████████████████████████████████████████████████████████████████████████████████████████████████████████████████████| 313/313 [00:06<00:00, 49.57it/s, loss=0.1773]\n",
      "Epoch 18 | Training loss: 0.1773, validation accuracy: 0.8174, validation loss: 0.7543\n",
      "100%|███████████████████████████████████████████████████████████████████████████████████████████████████████████████████████████████████████████████| 313/313 [00:06<00:00, 49.39it/s, loss=0.1771]\n",
      "Epoch 19 | Training loss: 0.1771, validation accuracy: 0.8169, validation loss: 0.7561\n",
      "100%|███████████████████████████████████████████████████████████████████████████████████████████████████████████████████████████████████████████████| 313/313 [00:06<00:00, 49.34it/s, loss=0.1690]\n",
      "Epoch 20 | Training loss: 0.1690, validation accuracy: 0.8188, validation loss: 0.7444\n"
     ]
    }
   ],
   "source": [
    "epochs = 20\n",
    "\n",
    "for epoch in range(epochs):\n",
    "    train_loss = trainer.train_epoch(model, optimizer, dl[\"train\"])\n",
    "    optimizer.finish_epoch()\n",
    "    val_acc, val_loss = trainer.validation(model, dl[\"valid\"])\n",
    "    logger.log(\"Epoch\", epoch+1, \"|\", \n",
    "          f\"Training loss: {train_loss:.4f}, validation accuracy: {val_acc:.4f}, validation loss: {val_loss:.4f}\")"
   ]
  },
  {
   "cell_type": "code",
   "execution_count": 120,
   "id": "b195e944-29bb-4191-9360-f1388e8569bc",
   "metadata": {},
   "outputs": [
    {
     "name": "stdout",
     "output_type": "stream",
     "text": [
      "Train: (0.94865, 0.14897416538000108)\n",
      "Valid: (0.8188, 0.7443863039016724)\n"
     ]
    }
   ],
   "source": [
    "train_score = trainer.validation(model, dl[\"train\"])\n",
    "valid_score = trainer.validation(model, dl[\"valid\"])\n",
    "logger.log(\"Train:\", train_score)\n",
    "logger.log(\"Valid:\", valid_score)"
   ]
  },
  {
   "cell_type": "code",
   "execution_count": 121,
   "id": "b1ade17d-a729-42cd-b6aa-bdaa11052fb0",
   "metadata": {},
   "outputs": [
    {
     "name": "stdout",
     "output_type": "stream",
     "text": [
      "RNA\n"
     ]
    }
   ],
   "source": [
    "optimizer.param_groups[0][\"method\"] = \"RNA\"\n",
    "logger.log(\"RNA\")\n",
    "model_acc = deepcopy(model)\n",
    "optimizer.accelerate()\n",
    "optimizer.store_parameters([model_acc.parameters()])"
   ]
  },
  {
   "cell_type": "code",
   "execution_count": 122,
   "id": "31768d79-9a66-43a8-b7cd-c13e85f141f8",
   "metadata": {
    "tags": []
   },
   "outputs": [
    {
     "name": "stdout",
     "output_type": "stream",
     "text": [
      "Train: (0.941725, 0.1626715887069702)\n",
      "Valid: (0.8156, 0.7739826675415039)\n"
     ]
    }
   ],
   "source": [
    "model_acc.to(trainer.device)\n",
    "train_score = trainer.validation(model_acc, dl[\"train\"])\n",
    "valid_score = trainer.validation(model_acc, dl[\"valid\"])\n",
    "logger.log(\"Train:\", train_score)\n",
    "logger.log(\"Valid:\", valid_score)"
   ]
  },
  {
   "cell_type": "code",
   "execution_count": 123,
   "id": "91f6a0e7-e99e-4b09-91d8-f6050f39dcd2",
   "metadata": {},
   "outputs": [
    {
     "name": "stdout",
     "output_type": "stream",
     "text": [
      "RRE\n"
     ]
    }
   ],
   "source": [
    "optimizer.param_groups[0][\"method\"] = \"RRE\"\n",
    "logger.log(\"RRE\")\n",
    "model_acc = deepcopy(model)\n",
    "optimizer.accelerate()\n",
    "optimizer.store_parameters([model_acc.parameters()])"
   ]
  },
  {
   "cell_type": "code",
   "execution_count": 124,
   "id": "328a804e-e72e-4e1d-8375-befddeb03cad",
   "metadata": {
    "tags": []
   },
   "outputs": [
    {
     "name": "stdout",
     "output_type": "stream",
     "text": [
      "Train: (0.94445, 0.15734280723333358)\n",
      "Valid: (0.8156, 0.7739893617630005)\n"
     ]
    }
   ],
   "source": [
    "model_acc.to(trainer.device)\n",
    "train_score = trainer.validation(model_acc, dl[\"train\"])\n",
    "valid_score = trainer.validation(model_acc, dl[\"valid\"])\n",
    "logger.log(\"Train:\", train_score)\n",
    "logger.log(\"Valid:\", valid_score)"
   ]
  },
  {
   "cell_type": "markdown",
   "id": "e7ed068f-63d6-4646-9ac8-5590d535e874",
   "metadata": {
    "jp-MarkdownHeadingCollapsed": true,
    "tags": []
   },
   "source": [
    "## Resizing"
   ]
  },
  {
   "cell_type": "code",
   "execution_count": 98,
   "id": "361743ba-10a6-4099-8fc7-b6ef1628cf6f",
   "metadata": {},
   "outputs": [],
   "source": [
    "trainer = Trainer(\n",
    "    device=\"cuda:0\",\n",
    "    loss_fn=nn.NLLLoss(reduction=\"mean\"),\n",
    "    val_loss_fn=nn.NLLLoss(reduction=\"sum\"),\n",
    ")"
   ]
  },
  {
   "cell_type": "code",
   "execution_count": 99,
   "id": "69b74ab2-fc7a-4b36-b908-0b8d7c710dfa",
   "metadata": {},
   "outputs": [
    {
     "name": "stderr",
     "output_type": "stream",
     "text": [
      "/home/i291318/miniconda3/lib/python3.8/site-packages/torchvision/transforms/transforms.py:257: UserWarning: Argument interpolation should be of type InterpolationMode instead of int. Please, use InterpolationMode enum.\n",
      "  warnings.warn(\n"
     ]
    },
    {
     "name": "stdout",
     "output_type": "stream",
     "text": [
      "Files already downloaded and verified\n",
      "Files already downloaded and verified\n"
     ]
    }
   ],
   "source": [
    "dl = load_dataset(\n",
    "    dataset=\"CIFAR10\",\n",
    "    root=os.path.join(\"/tmp\", os.environ[\"USER\"], \"CIFAR\"),\n",
    "    augmentation=transforms.RandomAffine(10, scale=(0.9, 1.1), translate=(0.2, 0.2)),\n",
    "    validation_split=0.2,\n",
    "    batch_size=128,\n",
    "    num_workers=10,\n",
    "    target_size=(224, 224),\n",
    ")"
   ]
  },
  {
   "cell_type": "code",
   "execution_count": 100,
   "id": "a01504e8-781a-40fe-9cac-7c8fc34ce85d",
   "metadata": {},
   "outputs": [
    {
     "data": {
      "text/plain": [
       "ResNet(\n",
       "  (conv1): Conv2d(3, 64, kernel_size=(7, 7), stride=(2, 2), padding=(3, 3), bias=False)\n",
       "  (bn1): BatchNorm2d(64, eps=1e-05, momentum=0.1, affine=True, track_running_stats=True)\n",
       "  (relu): ReLU(inplace=True)\n",
       "  (maxpool): MaxPool2d(kernel_size=3, stride=2, padding=1, dilation=1, ceil_mode=False)\n",
       "  (layer1): Sequential(\n",
       "    (0): BasicBlock(\n",
       "      (conv1): Conv2d(64, 64, kernel_size=(3, 3), stride=(1, 1), padding=(1, 1), bias=False)\n",
       "      (bn1): BatchNorm2d(64, eps=1e-05, momentum=0.1, affine=True, track_running_stats=True)\n",
       "      (relu): ReLU(inplace=True)\n",
       "      (conv2): Conv2d(64, 64, kernel_size=(3, 3), stride=(1, 1), padding=(1, 1), bias=False)\n",
       "      (bn2): BatchNorm2d(64, eps=1e-05, momentum=0.1, affine=True, track_running_stats=True)\n",
       "    )\n",
       "    (1): BasicBlock(\n",
       "      (conv1): Conv2d(64, 64, kernel_size=(3, 3), stride=(1, 1), padding=(1, 1), bias=False)\n",
       "      (bn1): BatchNorm2d(64, eps=1e-05, momentum=0.1, affine=True, track_running_stats=True)\n",
       "      (relu): ReLU(inplace=True)\n",
       "      (conv2): Conv2d(64, 64, kernel_size=(3, 3), stride=(1, 1), padding=(1, 1), bias=False)\n",
       "      (bn2): BatchNorm2d(64, eps=1e-05, momentum=0.1, affine=True, track_running_stats=True)\n",
       "    )\n",
       "  )\n",
       "  (layer2): Sequential(\n",
       "    (0): BasicBlock(\n",
       "      (conv1): Conv2d(64, 128, kernel_size=(3, 3), stride=(2, 2), padding=(1, 1), bias=False)\n",
       "      (bn1): BatchNorm2d(128, eps=1e-05, momentum=0.1, affine=True, track_running_stats=True)\n",
       "      (relu): ReLU(inplace=True)\n",
       "      (conv2): Conv2d(128, 128, kernel_size=(3, 3), stride=(1, 1), padding=(1, 1), bias=False)\n",
       "      (bn2): BatchNorm2d(128, eps=1e-05, momentum=0.1, affine=True, track_running_stats=True)\n",
       "      (downsample): Sequential(\n",
       "        (0): Conv2d(64, 128, kernel_size=(1, 1), stride=(2, 2), bias=False)\n",
       "        (1): BatchNorm2d(128, eps=1e-05, momentum=0.1, affine=True, track_running_stats=True)\n",
       "      )\n",
       "    )\n",
       "    (1): BasicBlock(\n",
       "      (conv1): Conv2d(128, 128, kernel_size=(3, 3), stride=(1, 1), padding=(1, 1), bias=False)\n",
       "      (bn1): BatchNorm2d(128, eps=1e-05, momentum=0.1, affine=True, track_running_stats=True)\n",
       "      (relu): ReLU(inplace=True)\n",
       "      (conv2): Conv2d(128, 128, kernel_size=(3, 3), stride=(1, 1), padding=(1, 1), bias=False)\n",
       "      (bn2): BatchNorm2d(128, eps=1e-05, momentum=0.1, affine=True, track_running_stats=True)\n",
       "    )\n",
       "  )\n",
       "  (layer3): Sequential(\n",
       "    (0): BasicBlock(\n",
       "      (conv1): Conv2d(128, 256, kernel_size=(3, 3), stride=(2, 2), padding=(1, 1), bias=False)\n",
       "      (bn1): BatchNorm2d(256, eps=1e-05, momentum=0.1, affine=True, track_running_stats=True)\n",
       "      (relu): ReLU(inplace=True)\n",
       "      (conv2): Conv2d(256, 256, kernel_size=(3, 3), stride=(1, 1), padding=(1, 1), bias=False)\n",
       "      (bn2): BatchNorm2d(256, eps=1e-05, momentum=0.1, affine=True, track_running_stats=True)\n",
       "      (downsample): Sequential(\n",
       "        (0): Conv2d(128, 256, kernel_size=(1, 1), stride=(2, 2), bias=False)\n",
       "        (1): BatchNorm2d(256, eps=1e-05, momentum=0.1, affine=True, track_running_stats=True)\n",
       "      )\n",
       "    )\n",
       "    (1): BasicBlock(\n",
       "      (conv1): Conv2d(256, 256, kernel_size=(3, 3), stride=(1, 1), padding=(1, 1), bias=False)\n",
       "      (bn1): BatchNorm2d(256, eps=1e-05, momentum=0.1, affine=True, track_running_stats=True)\n",
       "      (relu): ReLU(inplace=True)\n",
       "      (conv2): Conv2d(256, 256, kernel_size=(3, 3), stride=(1, 1), padding=(1, 1), bias=False)\n",
       "      (bn2): BatchNorm2d(256, eps=1e-05, momentum=0.1, affine=True, track_running_stats=True)\n",
       "    )\n",
       "  )\n",
       "  (layer4): Sequential(\n",
       "    (0): BasicBlock(\n",
       "      (conv1): Conv2d(256, 512, kernel_size=(3, 3), stride=(2, 2), padding=(1, 1), bias=False)\n",
       "      (bn1): BatchNorm2d(512, eps=1e-05, momentum=0.1, affine=True, track_running_stats=True)\n",
       "      (relu): ReLU(inplace=True)\n",
       "      (conv2): Conv2d(512, 512, kernel_size=(3, 3), stride=(1, 1), padding=(1, 1), bias=False)\n",
       "      (bn2): BatchNorm2d(512, eps=1e-05, momentum=0.1, affine=True, track_running_stats=True)\n",
       "      (downsample): Sequential(\n",
       "        (0): Conv2d(256, 512, kernel_size=(1, 1), stride=(2, 2), bias=False)\n",
       "        (1): BatchNorm2d(512, eps=1e-05, momentum=0.1, affine=True, track_running_stats=True)\n",
       "      )\n",
       "    )\n",
       "    (1): BasicBlock(\n",
       "      (conv1): Conv2d(512, 512, kernel_size=(3, 3), stride=(1, 1), padding=(1, 1), bias=False)\n",
       "      (bn1): BatchNorm2d(512, eps=1e-05, momentum=0.1, affine=True, track_running_stats=True)\n",
       "      (relu): ReLU(inplace=True)\n",
       "      (conv2): Conv2d(512, 512, kernel_size=(3, 3), stride=(1, 1), padding=(1, 1), bias=False)\n",
       "      (bn2): BatchNorm2d(512, eps=1e-05, momentum=0.1, affine=True, track_running_stats=True)\n",
       "    )\n",
       "  )\n",
       "  (avgpool): AdaptiveAvgPool2d(output_size=(1, 1))\n",
       "  (fc): Sequential(\n",
       "    (0): Linear(in_features=512, out_features=10, bias=True)\n",
       "    (1): LogSoftmax(dim=-1)\n",
       "  )\n",
       ")"
      ]
     },
     "execution_count": 100,
     "metadata": {},
     "output_type": "execute_result"
    }
   ],
   "source": [
    "model.load_state_dict(initial_state)\n",
    "model.to(trainer.device)"
   ]
  },
  {
   "cell_type": "code",
   "execution_count": 101,
   "id": "32fcdb05-181c-4cdc-a90d-b7563245fd85",
   "metadata": {},
   "outputs": [
    {
     "data": {
      "text/plain": [
       "(0.1113, 2.5140885375976563)"
      ]
     },
     "execution_count": 101,
     "metadata": {},
     "output_type": "execute_result"
    }
   ],
   "source": [
    "trainer.validation(model, dl[\"valid\"])"
   ]
  },
  {
   "cell_type": "code",
   "execution_count": 102,
   "id": "530e430d-24f5-4fde-a34d-bc2d9ac1676d",
   "metadata": {},
   "outputs": [
    {
     "data": {
      "text/plain": [
       "<torch._C.Generator at 0x7f991411b250>"
      ]
     },
     "execution_count": 102,
     "metadata": {},
     "output_type": "execute_result"
    }
   ],
   "source": [
    "optimizer = AcceleratedSGD(model.parameters(), 1e-1, k=10, momentum=0.9, weight_decay=1e-5, lambda_=1e-8)\n",
    "logger = Logger(\"resnet_log_augmentation.txt\")\n",
    "torch.manual_seed(2020)"
   ]
  },
  {
   "cell_type": "code",
   "execution_count": 103,
   "id": "a386bfa8-f1e7-4a66-af4d-86664c67f8c7",
   "metadata": {},
   "outputs": [
    {
     "name": "stdout",
     "output_type": "stream",
     "text": [
      "100%|██████████| 313/313 [02:04<00:00,  2.51it/s, loss=2.2682]\n",
      "Epoch 1 | Training loss: 2.2682, validation accuracy: 0.2751, validation loss: 1.9231\n",
      "100%|██████████| 313/313 [02:05<00:00,  2.49it/s, loss=1.7987]\n",
      "Epoch 2 | Training loss: 1.7987, validation accuracy: 0.3842, validation loss: 1.6462\n",
      "100%|██████████| 313/313 [02:05<00:00,  2.49it/s, loss=1.5382]\n",
      "Epoch 3 | Training loss: 1.5382, validation accuracy: 0.4664, validation loss: 1.4636\n",
      "100%|██████████| 313/313 [02:05<00:00,  2.50it/s, loss=1.3334]\n",
      "Epoch 4 | Training loss: 1.3334, validation accuracy: 0.5451, validation loss: 1.3767\n",
      "100%|██████████| 313/313 [02:03<00:00,  2.52it/s, loss=1.1522]\n",
      "Epoch 5 | Training loss: 1.1522, validation accuracy: 0.6002, validation loss: 1.1925\n",
      "100%|██████████| 313/313 [02:04<00:00,  2.51it/s, loss=0.9976]\n",
      "Epoch 6 | Training loss: 0.9976, validation accuracy: 0.6539, validation loss: 1.0294\n",
      "100%|██████████| 313/313 [02:04<00:00,  2.52it/s, loss=0.8722]\n",
      "Epoch 7 | Training loss: 0.8722, validation accuracy: 0.7083, validation loss: 0.8395\n",
      "100%|██████████| 313/313 [02:05<00:00,  2.49it/s, loss=0.7663]\n",
      "Epoch 8 | Training loss: 0.7663, validation accuracy: 0.7477, validation loss: 0.7641\n",
      "100%|██████████| 313/313 [02:05<00:00,  2.50it/s, loss=0.6880]\n",
      "Epoch 9 | Training loss: 0.6880, validation accuracy: 0.7781, validation loss: 0.6635\n",
      "100%|██████████| 313/313 [02:06<00:00,  2.48it/s, loss=0.6329]\n",
      "Epoch 10 | Training loss: 0.6329, validation accuracy: 0.7748, validation loss: 0.6887\n",
      "100%|██████████| 313/313 [02:04<00:00,  2.52it/s, loss=0.5827]\n",
      "Epoch 11 | Training loss: 0.5827, validation accuracy: 0.7911, validation loss: 0.6204\n",
      "100%|██████████| 313/313 [02:05<00:00,  2.49it/s, loss=0.5353]\n",
      "Epoch 12 | Training loss: 0.5353, validation accuracy: 0.8174, validation loss: 0.5603\n",
      "100%|██████████| 313/313 [02:05<00:00,  2.49it/s, loss=0.4934]\n",
      "Epoch 13 | Training loss: 0.4934, validation accuracy: 0.8126, validation loss: 0.6062\n",
      "100%|██████████| 313/313 [02:04<00:00,  2.52it/s, loss=0.4564]\n",
      "Epoch 14 | Training loss: 0.4564, validation accuracy: 0.8246, validation loss: 0.5386\n",
      "100%|██████████| 313/313 [02:05<00:00,  2.49it/s, loss=0.4288]\n",
      "Epoch 15 | Training loss: 0.4288, validation accuracy: 0.8115, validation loss: 0.5948\n",
      "100%|██████████| 313/313 [02:04<00:00,  2.52it/s, loss=0.4021]\n",
      "Epoch 16 | Training loss: 0.4021, validation accuracy: 0.8287, validation loss: 0.5448\n",
      "100%|██████████| 313/313 [02:03<00:00,  2.53it/s, loss=0.3700]\n",
      "Epoch 17 | Training loss: 0.3700, validation accuracy: 0.8422, validation loss: 0.5029\n",
      "100%|██████████| 313/313 [02:04<00:00,  2.51it/s, loss=0.3424]\n",
      "Epoch 18 | Training loss: 0.3424, validation accuracy: 0.8543, validation loss: 0.4549\n",
      "100%|██████████| 313/313 [02:04<00:00,  2.51it/s, loss=0.3216]\n",
      "Epoch 19 | Training loss: 0.3216, validation accuracy: 0.8440, validation loss: 0.5094\n",
      "100%|██████████| 313/313 [02:04<00:00,  2.51it/s, loss=0.2994]\n",
      "Epoch 20 | Training loss: 0.2994, validation accuracy: 0.8570, validation loss: 0.4873\n",
      "100%|██████████| 313/313 [02:04<00:00,  2.51it/s, loss=0.2765]\n",
      "Epoch 21 | Training loss: 0.2765, validation accuracy: 0.8404, validation loss: 0.5455\n",
      "100%|██████████| 313/313 [02:04<00:00,  2.52it/s, loss=0.2609]\n",
      "Epoch 22 | Training loss: 0.2609, validation accuracy: 0.8541, validation loss: 0.5130\n",
      "100%|██████████| 313/313 [02:04<00:00,  2.51it/s, loss=0.2378]\n",
      "Epoch 23 | Training loss: 0.2378, validation accuracy: 0.8683, validation loss: 0.4375\n",
      "100%|██████████| 313/313 [02:04<00:00,  2.51it/s, loss=0.2266]\n",
      "Epoch 24 | Training loss: 0.2266, validation accuracy: 0.8690, validation loss: 0.4659\n",
      "100%|██████████| 313/313 [02:04<00:00,  2.51it/s, loss=0.2050]\n",
      "Epoch 25 | Training loss: 0.2050, validation accuracy: 0.8638, validation loss: 0.5078\n"
     ]
    }
   ],
   "source": [
    "epochs = 25\n",
    "\n",
    "for epoch in range(epochs):\n",
    "    train_loss = trainer.train_epoch(model, optimizer, dl[\"train\"])\n",
    "    optimizer.finish_epoch()\n",
    "    val_acc, val_loss = trainer.validation(model, dl[\"valid\"])\n",
    "    logger.log(\"Epoch\", epoch+1, \"|\", \n",
    "          f\"Training loss: {train_loss:.4f}, validation accuracy: {val_acc:.4f}, validation loss: {val_loss:.4f}\")"
   ]
  },
  {
   "cell_type": "code",
   "execution_count": 104,
   "id": "3b4901ab-eac9-46b5-bf44-ee1cad7570c4",
   "metadata": {},
   "outputs": [
    {
     "name": "stdout",
     "output_type": "stream",
     "text": [
      "Train: (0.924875, 0.21868382456302643)\n",
      "Valid: (0.8638, 0.5077923046112061)\n"
     ]
    }
   ],
   "source": [
    "train_score = trainer.validation(model, dl[\"train\"])\n",
    "valid_score = trainer.validation(model, dl[\"valid\"])\n",
    "logger.log(\"Train:\", train_score)\n",
    "logger.log(\"Valid:\", valid_score)"
   ]
  },
  {
   "cell_type": "code",
   "execution_count": 105,
   "id": "de503bd3-ce7a-42c7-93d8-8a9f7fd54054",
   "metadata": {},
   "outputs": [
    {
     "name": "stdout",
     "output_type": "stream",
     "text": [
      "RNA\n"
     ]
    }
   ],
   "source": [
    "optimizer.param_groups[0][\"method\"] = \"RNA\"\n",
    "logger.log(\"RNA\")\n",
    "model_acc = deepcopy(model)\n",
    "optimizer.accelerate()\n",
    "optimizer.store_parameters([model_acc.parameters()])"
   ]
  },
  {
   "cell_type": "code",
   "execution_count": 106,
   "id": "35b613a9-bea7-44ef-9501-ed575d38fba6",
   "metadata": {
    "tags": []
   },
   "outputs": [
    {
     "name": "stdout",
     "output_type": "stream",
     "text": [
      "Train: (0.91715, 0.23692127623558046)\n",
      "Valid: (0.8688, 0.4422642339706421)\n"
     ]
    }
   ],
   "source": [
    "model_acc.to(trainer.device)\n",
    "train_score = trainer.validation(model_acc, dl[\"train\"])\n",
    "valid_score = trainer.validation(model_acc, dl[\"valid\"])\n",
    "logger.log(\"Train:\", train_score)\n",
    "logger.log(\"Valid:\", valid_score)"
   ]
  },
  {
   "cell_type": "code",
   "execution_count": 107,
   "id": "a705ac05-b978-4a08-8aa1-22d951245301",
   "metadata": {},
   "outputs": [
    {
     "name": "stdout",
     "output_type": "stream",
     "text": [
      "RRE\n"
     ]
    }
   ],
   "source": [
    "optimizer.param_groups[0][\"method\"] = \"RRE\"\n",
    "logger.log(\"RRE\")\n",
    "model_acc = deepcopy(model)\n",
    "optimizer.accelerate()\n",
    "optimizer.store_parameters([model_acc.parameters()])"
   ]
  },
  {
   "cell_type": "code",
   "execution_count": 108,
   "id": "e8963407-2107-4979-a32c-af24529ffa00",
   "metadata": {
    "tags": []
   },
   "outputs": [
    {
     "name": "stdout",
     "output_type": "stream",
     "text": [
      "Train: (0.917825, 0.23501521935462952)\n",
      "Valid: (0.8688, 0.4422644820213318)\n"
     ]
    }
   ],
   "source": [
    "model_acc.to(trainer.device)\n",
    "train_score = trainer.validation(model_acc, dl[\"train\"])\n",
    "valid_score = trainer.validation(model_acc, dl[\"valid\"])\n",
    "logger.log(\"Train:\", train_score)\n",
    "logger.log(\"Valid:\", valid_score)"
   ]
  },
  {
   "cell_type": "code",
   "execution_count": 109,
   "id": "d76094de-8920-4732-9822-31dbc6f65a39",
   "metadata": {},
   "outputs": [],
   "source": [
    "optimizer.param_groups[0][\"lr\"] = 1e-2"
   ]
  },
  {
   "cell_type": "code",
   "execution_count": 110,
   "id": "cc4c99ca-70bd-4813-a78b-9440458fc558",
   "metadata": {},
   "outputs": [
    {
     "name": "stdout",
     "output_type": "stream",
     "text": [
      "100%|██████████| 313/313 [02:05<00:00,  2.49it/s, loss=0.1235]\n",
      "Epoch 1 | Training loss: 0.1235, validation accuracy: 0.8965, validation loss: 0.3596\n",
      "100%|██████████| 313/313 [02:04<00:00,  2.52it/s, loss=0.0994]\n",
      "Epoch 2 | Training loss: 0.0994, validation accuracy: 0.8943, validation loss: 0.3705\n",
      "100%|██████████| 313/313 [02:05<00:00,  2.49it/s, loss=0.0871]\n",
      "Epoch 3 | Training loss: 0.0871, validation accuracy: 0.8966, validation loss: 0.3676\n",
      "100%|██████████| 313/313 [02:04<00:00,  2.51it/s, loss=0.0798]\n",
      "Epoch 4 | Training loss: 0.0798, validation accuracy: 0.8989, validation loss: 0.3720\n",
      "100%|██████████| 313/313 [02:04<00:00,  2.51it/s, loss=0.0736]\n",
      "Epoch 5 | Training loss: 0.0736, validation accuracy: 0.8989, validation loss: 0.3732\n",
      "100%|██████████| 313/313 [02:05<00:00,  2.49it/s, loss=0.0701]\n",
      "Epoch 6 | Training loss: 0.0701, validation accuracy: 0.8972, validation loss: 0.3815\n",
      "100%|██████████| 313/313 [02:04<00:00,  2.52it/s, loss=0.0657]\n",
      "Epoch 7 | Training loss: 0.0657, validation accuracy: 0.8992, validation loss: 0.3761\n",
      "100%|██████████| 313/313 [02:04<00:00,  2.52it/s, loss=0.0623]\n",
      "Epoch 8 | Training loss: 0.0623, validation accuracy: 0.8985, validation loss: 0.3975\n",
      "100%|██████████| 313/313 [02:05<00:00,  2.49it/s, loss=0.0612]\n",
      "Epoch 9 | Training loss: 0.0612, validation accuracy: 0.8984, validation loss: 0.3954\n",
      "100%|██████████| 313/313 [02:04<00:00,  2.51it/s, loss=0.0587]\n",
      "Epoch 10 | Training loss: 0.0587, validation accuracy: 0.8989, validation loss: 0.4044\n",
      "100%|██████████| 313/313 [02:04<00:00,  2.52it/s, loss=0.0543]\n",
      "Epoch 11 | Training loss: 0.0543, validation accuracy: 0.8973, validation loss: 0.4125\n",
      "100%|██████████| 313/313 [02:04<00:00,  2.52it/s, loss=0.0526]\n",
      "Epoch 12 | Training loss: 0.0526, validation accuracy: 0.8976, validation loss: 0.4078\n",
      "100%|██████████| 313/313 [02:04<00:00,  2.51it/s, loss=0.0514]\n",
      "Epoch 13 | Training loss: 0.0514, validation accuracy: 0.9001, validation loss: 0.4107\n",
      "100%|██████████| 313/313 [02:04<00:00,  2.51it/s, loss=0.0502]\n",
      "Epoch 14 | Training loss: 0.0502, validation accuracy: 0.8996, validation loss: 0.4133\n",
      "100%|██████████| 313/313 [02:04<00:00,  2.52it/s, loss=0.0475]\n",
      "Epoch 15 | Training loss: 0.0475, validation accuracy: 0.9005, validation loss: 0.4183\n",
      "100%|██████████| 313/313 [02:04<00:00,  2.52it/s, loss=0.0459]\n",
      "Epoch 16 | Training loss: 0.0459, validation accuracy: 0.8982, validation loss: 0.4234\n",
      "100%|██████████| 313/313 [02:05<00:00,  2.49it/s, loss=0.0443]\n",
      "Epoch 17 | Training loss: 0.0443, validation accuracy: 0.8997, validation loss: 0.4284\n",
      "100%|██████████| 313/313 [02:03<00:00,  2.53it/s, loss=0.0422]\n",
      "Epoch 18 | Training loss: 0.0422, validation accuracy: 0.9010, validation loss: 0.4215\n",
      "100%|██████████| 313/313 [02:04<00:00,  2.52it/s, loss=0.0393]\n",
      "Epoch 19 | Training loss: 0.0393, validation accuracy: 0.8989, validation loss: 0.4296\n",
      "100%|██████████| 313/313 [02:05<00:00,  2.49it/s, loss=0.0405]\n",
      "Epoch 20 | Training loss: 0.0405, validation accuracy: 0.8998, validation loss: 0.4411\n",
      "100%|██████████| 313/313 [02:06<00:00,  2.48it/s, loss=0.0415]\n",
      "Epoch 21 | Training loss: 0.0415, validation accuracy: 0.8986, validation loss: 0.4383\n",
      "100%|██████████| 313/313 [02:05<00:00,  2.49it/s, loss=0.0372]\n",
      "Epoch 22 | Training loss: 0.0372, validation accuracy: 0.8986, validation loss: 0.4407\n",
      "100%|██████████| 313/313 [02:05<00:00,  2.49it/s, loss=0.0361]\n",
      "Epoch 23 | Training loss: 0.0361, validation accuracy: 0.8965, validation loss: 0.4559\n",
      "100%|██████████| 313/313 [02:05<00:00,  2.49it/s, loss=0.0355]\n",
      "Epoch 24 | Training loss: 0.0355, validation accuracy: 0.8969, validation loss: 0.4544\n",
      "100%|██████████| 313/313 [02:04<00:00,  2.51it/s, loss=0.0331]\n",
      "Epoch 25 | Training loss: 0.0331, validation accuracy: 0.8980, validation loss: 0.4474\n"
     ]
    }
   ],
   "source": [
    "epochs = 25\n",
    "\n",
    "for epoch in range(epochs):\n",
    "    train_loss = trainer.train_epoch(model, optimizer, dl[\"train\"])\n",
    "    optimizer.finish_epoch()\n",
    "    val_acc, val_loss = trainer.validation(model, dl[\"valid\"])\n",
    "    logger.log(\"Epoch\", epoch+1, \"|\", \n",
    "          f\"Training loss: {train_loss:.4f}, validation accuracy: {val_acc:.4f}, validation loss: {val_loss:.4f}\")"
   ]
  },
  {
   "cell_type": "code",
   "execution_count": 111,
   "id": "092a44a2-0978-4a60-bada-305318c57a3c",
   "metadata": {},
   "outputs": [
    {
     "name": "stdout",
     "output_type": "stream",
     "text": [
      "Train: (0.992175, 0.026007969420403242)\n",
      "Valid: (0.898, 0.4474107147216797)\n"
     ]
    }
   ],
   "source": [
    "train_score = trainer.validation(model, dl[\"train\"])\n",
    "valid_score = trainer.validation(model, dl[\"valid\"])\n",
    "logger.log(\"Train:\", train_score)\n",
    "logger.log(\"Valid:\", valid_score)"
   ]
  },
  {
   "cell_type": "code",
   "execution_count": 112,
   "id": "99d53692-e2ae-46cd-b314-6b8182f27a1c",
   "metadata": {},
   "outputs": [
    {
     "name": "stdout",
     "output_type": "stream",
     "text": [
      "RNA\n"
     ]
    }
   ],
   "source": [
    "optimizer.param_groups[0][\"method\"] = \"RNA\"\n",
    "logger.log(\"RNA\")\n",
    "model_acc = deepcopy(model)\n",
    "optimizer.accelerate()\n",
    "optimizer.store_parameters([model_acc.parameters()])"
   ]
  },
  {
   "cell_type": "code",
   "execution_count": 113,
   "id": "d109361e-1213-4c02-8e35-f3dc292f39cf",
   "metadata": {
    "tags": []
   },
   "outputs": [
    {
     "name": "stdout",
     "output_type": "stream",
     "text": [
      "Train: (0.991075, 0.029470107208192348)\n",
      "Valid: (0.8976, 0.45620492362976073)\n"
     ]
    }
   ],
   "source": [
    "model_acc.to(trainer.device)\n",
    "train_score = trainer.validation(model_acc, dl[\"train\"])\n",
    "valid_score = trainer.validation(model_acc, dl[\"valid\"])\n",
    "logger.log(\"Train:\", train_score)\n",
    "logger.log(\"Valid:\", valid_score)"
   ]
  },
  {
   "cell_type": "code",
   "execution_count": 114,
   "id": "8e448e3c-da41-492a-8c57-441d0e235b1d",
   "metadata": {},
   "outputs": [
    {
     "name": "stdout",
     "output_type": "stream",
     "text": [
      "RRE\n"
     ]
    }
   ],
   "source": [
    "optimizer.param_groups[0][\"method\"] = \"RRE\"\n",
    "logger.log(\"RRE\")\n",
    "model_acc = deepcopy(model)\n",
    "optimizer.accelerate()\n",
    "optimizer.store_parameters([model_acc.parameters()])"
   ]
  },
  {
   "cell_type": "code",
   "execution_count": 115,
   "id": "340a7ff4-08ab-46c4-a8dd-88ef49e4b087",
   "metadata": {
    "tags": []
   },
   "outputs": [
    {
     "name": "stdout",
     "output_type": "stream",
     "text": [
      "Train: (0.99135, 0.030331627766788005)\n",
      "Valid: (0.8976, 0.45620513763427734)\n"
     ]
    }
   ],
   "source": [
    "model_acc.to(trainer.device)\n",
    "train_score = trainer.validation(model_acc, dl[\"train\"])\n",
    "valid_score = trainer.validation(model_acc, dl[\"valid\"])\n",
    "logger.log(\"Train:\", train_score)\n",
    "logger.log(\"Valid:\", valid_score)"
   ]
  },
  {
   "cell_type": "code",
   "execution_count": 116,
   "id": "10023006-5655-4b7e-a895-ebed2aac0860",
   "metadata": {},
   "outputs": [],
   "source": [
    "optimizer.param_groups[0][\"lr\"] = 1e-3"
   ]
  },
  {
   "cell_type": "code",
   "execution_count": 117,
   "id": "8e7ea704-33e5-4233-842b-97f13c6fb76d",
   "metadata": {},
   "outputs": [
    {
     "name": "stdout",
     "output_type": "stream",
     "text": [
      "100%|██████████| 313/313 [02:04<00:00,  2.51it/s, loss=0.0314]\n",
      "Epoch 1 | Training loss: 0.0314, validation accuracy: 0.9000, validation loss: 0.4431\n",
      "100%|██████████| 313/313 [02:05<00:00,  2.49it/s, loss=0.0310]\n",
      "Epoch 2 | Training loss: 0.0310, validation accuracy: 0.9005, validation loss: 0.4461\n",
      "100%|██████████| 313/313 [02:04<00:00,  2.52it/s, loss=0.0283]\n",
      "Epoch 3 | Training loss: 0.0283, validation accuracy: 0.8995, validation loss: 0.4445\n",
      "100%|██████████| 313/313 [02:06<00:00,  2.48it/s, loss=0.0276]\n",
      "Epoch 4 | Training loss: 0.0276, validation accuracy: 0.8994, validation loss: 0.4422\n",
      "100%|██████████| 313/313 [02:04<00:00,  2.52it/s, loss=0.0284]\n",
      "Epoch 5 | Training loss: 0.0284, validation accuracy: 0.8994, validation loss: 0.4459\n",
      "100%|██████████| 313/313 [02:04<00:00,  2.52it/s, loss=0.0282]\n",
      "Epoch 6 | Training loss: 0.0282, validation accuracy: 0.8997, validation loss: 0.4456\n",
      "100%|██████████| 313/313 [02:04<00:00,  2.52it/s, loss=0.0272]\n",
      "Epoch 7 | Training loss: 0.0272, validation accuracy: 0.9008, validation loss: 0.4422\n",
      "100%|██████████| 313/313 [02:04<00:00,  2.51it/s, loss=0.0276]\n",
      "Epoch 8 | Training loss: 0.0276, validation accuracy: 0.8990, validation loss: 0.4461\n",
      "100%|██████████| 313/313 [02:04<00:00,  2.51it/s, loss=0.0272]\n",
      "Epoch 9 | Training loss: 0.0272, validation accuracy: 0.9019, validation loss: 0.4445\n",
      "100%|██████████| 313/313 [02:05<00:00,  2.49it/s, loss=0.0265]\n",
      "Epoch 10 | Training loss: 0.0265, validation accuracy: 0.9010, validation loss: 0.4442\n",
      "100%|██████████| 313/313 [02:05<00:00,  2.49it/s, loss=0.0265]\n",
      "Epoch 11 | Training loss: 0.0265, validation accuracy: 0.8990, validation loss: 0.4489\n",
      "100%|██████████| 313/313 [02:05<00:00,  2.49it/s, loss=0.0255]\n",
      "Epoch 12 | Training loss: 0.0255, validation accuracy: 0.9007, validation loss: 0.4439\n",
      "100%|██████████| 313/313 [02:04<00:00,  2.51it/s, loss=0.0262]\n",
      "Epoch 13 | Training loss: 0.0262, validation accuracy: 0.8994, validation loss: 0.4419\n",
      "100%|██████████| 313/313 [02:06<00:00,  2.48it/s, loss=0.0275]\n",
      "Epoch 14 | Training loss: 0.0275, validation accuracy: 0.9007, validation loss: 0.4431\n",
      "100%|██████████| 313/313 [02:04<00:00,  2.51it/s, loss=0.0268]\n",
      "Epoch 15 | Training loss: 0.0268, validation accuracy: 0.9010, validation loss: 0.4434\n",
      "100%|██████████| 313/313 [02:05<00:00,  2.49it/s, loss=0.0273]\n",
      "Epoch 16 | Training loss: 0.0273, validation accuracy: 0.9008, validation loss: 0.4481\n",
      "100%|██████████| 313/313 [02:04<00:00,  2.51it/s, loss=0.0268]\n",
      "Epoch 17 | Training loss: 0.0268, validation accuracy: 0.9003, validation loss: 0.4468\n",
      "100%|██████████| 313/313 [02:04<00:00,  2.51it/s, loss=0.0255]\n",
      "Epoch 18 | Training loss: 0.0255, validation accuracy: 0.9007, validation loss: 0.4472\n",
      "100%|██████████| 313/313 [02:04<00:00,  2.51it/s, loss=0.0256]\n",
      "Epoch 19 | Training loss: 0.0256, validation accuracy: 0.8996, validation loss: 0.4522\n",
      "100%|██████████| 313/313 [02:06<00:00,  2.48it/s, loss=0.0250]\n",
      "Epoch 20 | Training loss: 0.0250, validation accuracy: 0.8994, validation loss: 0.4501\n",
      "100%|██████████| 313/313 [02:04<00:00,  2.52it/s, loss=0.0261]\n",
      "Epoch 21 | Training loss: 0.0261, validation accuracy: 0.8993, validation loss: 0.4471\n",
      "100%|██████████| 313/313 [02:04<00:00,  2.51it/s, loss=0.0258]\n",
      "Epoch 22 | Training loss: 0.0258, validation accuracy: 0.8999, validation loss: 0.4496\n",
      "100%|██████████| 313/313 [02:04<00:00,  2.51it/s, loss=0.0263]\n",
      "Epoch 23 | Training loss: 0.0263, validation accuracy: 0.8994, validation loss: 0.4532\n",
      "100%|██████████| 313/313 [02:04<00:00,  2.51it/s, loss=0.0271]\n",
      "Epoch 24 | Training loss: 0.0271, validation accuracy: 0.9004, validation loss: 0.4464\n",
      "100%|██████████| 313/313 [02:06<00:00,  2.48it/s, loss=0.0250]\n",
      "Epoch 25 | Training loss: 0.0250, validation accuracy: 0.9003, validation loss: 0.4489\n"
     ]
    }
   ],
   "source": [
    "epochs = 25\n",
    "\n",
    "for epoch in range(epochs):\n",
    "    train_loss = trainer.train_epoch(model, optimizer, dl[\"train\"])\n",
    "    optimizer.finish_epoch()\n",
    "    val_acc, val_loss = trainer.validation(model, dl[\"valid\"])\n",
    "    logger.log(\"Epoch\", epoch+1, \"|\", \n",
    "          f\"Training loss: {train_loss:.4f}, validation accuracy: {val_acc:.4f}, validation loss: {val_loss:.4f}\")"
   ]
  },
  {
   "cell_type": "code",
   "execution_count": 118,
   "id": "165a0620-f6da-44ae-97b1-a5de8a18c03c",
   "metadata": {},
   "outputs": [
    {
     "name": "stdout",
     "output_type": "stream",
     "text": [
      "Train: (0.994825, 0.01932948977351189)\n",
      "Valid: (0.9003, 0.44885823802948)\n"
     ]
    }
   ],
   "source": [
    "train_score = trainer.validation(model, dl[\"train\"])\n",
    "valid_score = trainer.validation(model, dl[\"valid\"])\n",
    "logger.log(\"Train:\", train_score)\n",
    "logger.log(\"Valid:\", valid_score)"
   ]
  },
  {
   "cell_type": "code",
   "execution_count": 119,
   "id": "e43ffbb8-8f55-4218-8d1a-1a126a397b17",
   "metadata": {},
   "outputs": [
    {
     "name": "stdout",
     "output_type": "stream",
     "text": [
      "RNA\n"
     ]
    }
   ],
   "source": [
    "optimizer.param_groups[0][\"method\"] = \"RNA\"\n",
    "logger.log(\"RNA\")\n",
    "model_acc = deepcopy(model)\n",
    "optimizer.accelerate()\n",
    "optimizer.store_parameters([model_acc.parameters()])"
   ]
  },
  {
   "cell_type": "code",
   "execution_count": 120,
   "id": "ae47fb8e-88d8-4fc0-a915-b08d4ed2deb7",
   "metadata": {
    "tags": []
   },
   "outputs": [
    {
     "name": "stdout",
     "output_type": "stream",
     "text": [
      "Train: (0.994925, 0.01953197303712368)\n",
      "Valid: (0.8996, 0.44897826642990113)\n"
     ]
    }
   ],
   "source": [
    "model_acc.to(trainer.device)\n",
    "train_score = trainer.validation(model_acc, dl[\"train\"])\n",
    "valid_score = trainer.validation(model_acc, dl[\"valid\"])\n",
    "logger.log(\"Train:\", train_score)\n",
    "logger.log(\"Valid:\", valid_score)"
   ]
  },
  {
   "cell_type": "code",
   "execution_count": 121,
   "id": "06577bcf-716b-427d-aed1-f1f950e3aad6",
   "metadata": {},
   "outputs": [
    {
     "name": "stdout",
     "output_type": "stream",
     "text": [
      "RRE\n"
     ]
    }
   ],
   "source": [
    "optimizer.param_groups[0][\"method\"] = \"RRE\"\n",
    "logger.log(\"RRE\")\n",
    "model_acc = deepcopy(model)\n",
    "optimizer.accelerate()\n",
    "optimizer.store_parameters([model_acc.parameters()])"
   ]
  },
  {
   "cell_type": "code",
   "execution_count": 122,
   "id": "36bb1447-615a-4c47-8d09-0c15ab7c7a29",
   "metadata": {
    "tags": []
   },
   "outputs": [
    {
     "name": "stdout",
     "output_type": "stream",
     "text": [
      "Train: (0.994425, 0.020918183160573246)\n",
      "Valid: (0.8996, 0.44897833452224734)\n"
     ]
    }
   ],
   "source": [
    "model_acc.to(trainer.device)\n",
    "train_score = trainer.validation(model_acc, dl[\"train\"])\n",
    "valid_score = trainer.validation(model_acc, dl[\"valid\"])\n",
    "logger.log(\"Train:\", train_score)\n",
    "logger.log(\"Valid:\", valid_score)"
   ]
  },
  {
   "cell_type": "code",
   "execution_count": 123,
   "id": "66b26f07-1eed-4164-9a30-3dc133b267b1",
   "metadata": {},
   "outputs": [],
   "source": [
    "exit"
   ]
  },
  {
   "cell_type": "code",
   "execution_count": null,
   "id": "e29c8704-4657-4b5c-8ae1-e4dc0ebad12a",
   "metadata": {},
   "outputs": [],
   "source": []
  }
 ],
 "metadata": {
  "kernelspec": {
   "display_name": "Python 3 (magister)",
   "language": "python",
   "name": "mgr"
  },
  "language_info": {
   "codemirror_mode": {
    "name": "ipython",
    "version": 3
   },
   "file_extension": ".py",
   "mimetype": "text/x-python",
   "name": "python",
   "nbconvert_exporter": "python",
   "pygments_lexer": "ipython3",
   "version": "3.8.13"
  }
 },
 "nbformat": 4,
 "nbformat_minor": 5
}
