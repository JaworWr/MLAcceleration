{
 "cells": [
  {
   "cell_type": "code",
   "execution_count": 1,
   "id": "anonymous-tackle",
   "metadata": {},
   "outputs": [],
   "source": [
    "import torch\n",
    "from torch import nn\n",
    "from torchvision import models\n",
    "from copy import deepcopy\n",
    "import os\n",
    "\n",
    "from nn_extrapolation import AcceleratedSGD\n",
    "from nn_utils import *"
   ]
  },
  {
   "cell_type": "code",
   "execution_count": 2,
   "id": "18c86948-09d6-4e27-804f-dd415a0c371c",
   "metadata": {},
   "outputs": [
    {
     "data": {
      "text/plain": [
       "True"
      ]
     },
     "execution_count": 2,
     "metadata": {},
     "output_type": "execute_result"
    }
   ],
   "source": [
    "torch.cuda.is_available()"
   ]
  },
  {
   "cell_type": "code",
   "execution_count": 3,
   "id": "through-stopping",
   "metadata": {},
   "outputs": [],
   "source": [
    "trainer = Trainer(\n",
    "    device=\"cuda:1\",\n",
    "    loss_fn=nn.NLLLoss(reduction=\"mean\"),\n",
    "    val_loss_fn=nn.NLLLoss(reduction=\"sum\"),\n",
    ")"
   ]
  },
  {
   "cell_type": "code",
   "execution_count": 4,
   "id": "e1f93199-29a0-45a5-ac52-24e9eafd4c90",
   "metadata": {},
   "outputs": [
    {
     "name": "stdout",
     "output_type": "stream",
     "text": [
      "Downloading https://www.cs.toronto.edu/~kriz/cifar-10-python.tar.gz to /tmp/i291318/CIFAR/cifar-10-python.tar.gz\n"
     ]
    },
    {
     "data": {
      "application/vnd.jupyter.widget-view+json": {
       "model_id": "d5063dc2278d4a5a90df5e0e9e8e69a1",
       "version_major": 2,
       "version_minor": 0
      },
      "text/plain": [
       "HBox(children=(HTML(value=''), FloatProgress(value=0.0, max=170498071.0), HTML(value='')))"
      ]
     },
     "metadata": {},
     "output_type": "display_data"
    },
    {
     "name": "stdout",
     "output_type": "stream",
     "text": [
      "\n",
      "Extracting /tmp/i291318/CIFAR/cifar-10-python.tar.gz to /tmp/i291318/CIFAR\n",
      "Files already downloaded and verified\n"
     ]
    }
   ],
   "source": [
    "dl = load_dataset(\n",
    "    dataset=\"CIFAR10\",\n",
    "    root=os.path.join(\"/tmp\", os.environ[\"USER\"], \"CIFAR\"),\n",
    "    augmentation=transforms.RandomAffine(10, scale=(0.9, 1.1), translate=(0.2, 0.2)),\n",
    "    validation_split=0.2,\n",
    "    batch_size=128,\n",
    "    num_workers=10,\n",
    ")"
   ]
  },
  {
   "cell_type": "code",
   "execution_count": 5,
   "id": "broke-filename",
   "metadata": {},
   "outputs": [
    {
     "data": {
      "text/plain": [
       "ResNet(\n",
       "  (conv1): Conv2d(3, 64, kernel_size=(7, 7), stride=(2, 2), padding=(3, 3), bias=False)\n",
       "  (bn1): BatchNorm2d(64, eps=1e-05, momentum=0.1, affine=True, track_running_stats=True)\n",
       "  (relu): ReLU(inplace=True)\n",
       "  (maxpool): MaxPool2d(kernel_size=3, stride=2, padding=1, dilation=1, ceil_mode=False)\n",
       "  (layer1): Sequential(\n",
       "    (0): BasicBlock(\n",
       "      (conv1): Conv2d(64, 64, kernel_size=(3, 3), stride=(1, 1), padding=(1, 1), bias=False)\n",
       "      (bn1): BatchNorm2d(64, eps=1e-05, momentum=0.1, affine=True, track_running_stats=True)\n",
       "      (relu): ReLU(inplace=True)\n",
       "      (conv2): Conv2d(64, 64, kernel_size=(3, 3), stride=(1, 1), padding=(1, 1), bias=False)\n",
       "      (bn2): BatchNorm2d(64, eps=1e-05, momentum=0.1, affine=True, track_running_stats=True)\n",
       "    )\n",
       "    (1): BasicBlock(\n",
       "      (conv1): Conv2d(64, 64, kernel_size=(3, 3), stride=(1, 1), padding=(1, 1), bias=False)\n",
       "      (bn1): BatchNorm2d(64, eps=1e-05, momentum=0.1, affine=True, track_running_stats=True)\n",
       "      (relu): ReLU(inplace=True)\n",
       "      (conv2): Conv2d(64, 64, kernel_size=(3, 3), stride=(1, 1), padding=(1, 1), bias=False)\n",
       "      (bn2): BatchNorm2d(64, eps=1e-05, momentum=0.1, affine=True, track_running_stats=True)\n",
       "    )\n",
       "  )\n",
       "  (layer2): Sequential(\n",
       "    (0): BasicBlock(\n",
       "      (conv1): Conv2d(64, 128, kernel_size=(3, 3), stride=(2, 2), padding=(1, 1), bias=False)\n",
       "      (bn1): BatchNorm2d(128, eps=1e-05, momentum=0.1, affine=True, track_running_stats=True)\n",
       "      (relu): ReLU(inplace=True)\n",
       "      (conv2): Conv2d(128, 128, kernel_size=(3, 3), stride=(1, 1), padding=(1, 1), bias=False)\n",
       "      (bn2): BatchNorm2d(128, eps=1e-05, momentum=0.1, affine=True, track_running_stats=True)\n",
       "      (downsample): Sequential(\n",
       "        (0): Conv2d(64, 128, kernel_size=(1, 1), stride=(2, 2), bias=False)\n",
       "        (1): BatchNorm2d(128, eps=1e-05, momentum=0.1, affine=True, track_running_stats=True)\n",
       "      )\n",
       "    )\n",
       "    (1): BasicBlock(\n",
       "      (conv1): Conv2d(128, 128, kernel_size=(3, 3), stride=(1, 1), padding=(1, 1), bias=False)\n",
       "      (bn1): BatchNorm2d(128, eps=1e-05, momentum=0.1, affine=True, track_running_stats=True)\n",
       "      (relu): ReLU(inplace=True)\n",
       "      (conv2): Conv2d(128, 128, kernel_size=(3, 3), stride=(1, 1), padding=(1, 1), bias=False)\n",
       "      (bn2): BatchNorm2d(128, eps=1e-05, momentum=0.1, affine=True, track_running_stats=True)\n",
       "    )\n",
       "  )\n",
       "  (layer3): Sequential(\n",
       "    (0): BasicBlock(\n",
       "      (conv1): Conv2d(128, 256, kernel_size=(3, 3), stride=(2, 2), padding=(1, 1), bias=False)\n",
       "      (bn1): BatchNorm2d(256, eps=1e-05, momentum=0.1, affine=True, track_running_stats=True)\n",
       "      (relu): ReLU(inplace=True)\n",
       "      (conv2): Conv2d(256, 256, kernel_size=(3, 3), stride=(1, 1), padding=(1, 1), bias=False)\n",
       "      (bn2): BatchNorm2d(256, eps=1e-05, momentum=0.1, affine=True, track_running_stats=True)\n",
       "      (downsample): Sequential(\n",
       "        (0): Conv2d(128, 256, kernel_size=(1, 1), stride=(2, 2), bias=False)\n",
       "        (1): BatchNorm2d(256, eps=1e-05, momentum=0.1, affine=True, track_running_stats=True)\n",
       "      )\n",
       "    )\n",
       "    (1): BasicBlock(\n",
       "      (conv1): Conv2d(256, 256, kernel_size=(3, 3), stride=(1, 1), padding=(1, 1), bias=False)\n",
       "      (bn1): BatchNorm2d(256, eps=1e-05, momentum=0.1, affine=True, track_running_stats=True)\n",
       "      (relu): ReLU(inplace=True)\n",
       "      (conv2): Conv2d(256, 256, kernel_size=(3, 3), stride=(1, 1), padding=(1, 1), bias=False)\n",
       "      (bn2): BatchNorm2d(256, eps=1e-05, momentum=0.1, affine=True, track_running_stats=True)\n",
       "    )\n",
       "  )\n",
       "  (layer4): Sequential(\n",
       "    (0): BasicBlock(\n",
       "      (conv1): Conv2d(256, 512, kernel_size=(3, 3), stride=(2, 2), padding=(1, 1), bias=False)\n",
       "      (bn1): BatchNorm2d(512, eps=1e-05, momentum=0.1, affine=True, track_running_stats=True)\n",
       "      (relu): ReLU(inplace=True)\n",
       "      (conv2): Conv2d(512, 512, kernel_size=(3, 3), stride=(1, 1), padding=(1, 1), bias=False)\n",
       "      (bn2): BatchNorm2d(512, eps=1e-05, momentum=0.1, affine=True, track_running_stats=True)\n",
       "      (downsample): Sequential(\n",
       "        (0): Conv2d(256, 512, kernel_size=(1, 1), stride=(2, 2), bias=False)\n",
       "        (1): BatchNorm2d(512, eps=1e-05, momentum=0.1, affine=True, track_running_stats=True)\n",
       "      )\n",
       "    )\n",
       "    (1): BasicBlock(\n",
       "      (conv1): Conv2d(512, 512, kernel_size=(3, 3), stride=(1, 1), padding=(1, 1), bias=False)\n",
       "      (bn1): BatchNorm2d(512, eps=1e-05, momentum=0.1, affine=True, track_running_stats=True)\n",
       "      (relu): ReLU(inplace=True)\n",
       "      (conv2): Conv2d(512, 512, kernel_size=(3, 3), stride=(1, 1), padding=(1, 1), bias=False)\n",
       "      (bn2): BatchNorm2d(512, eps=1e-05, momentum=0.1, affine=True, track_running_stats=True)\n",
       "    )\n",
       "  )\n",
       "  (avgpool): AdaptiveAvgPool2d(output_size=(1, 1))\n",
       "  (fc): Sequential(\n",
       "    (0): Linear(in_features=512, out_features=10, bias=True)\n",
       "    (1): LogSoftmax(dim=-1)\n",
       "  )\n",
       ")"
      ]
     },
     "execution_count": 5,
     "metadata": {},
     "output_type": "execute_result"
    }
   ],
   "source": [
    "model = models.resnet18(pretrained=False)\n",
    "model.fc = nn.Sequential(\n",
    "    nn.Linear(512, 10),\n",
    "    nn.LogSoftmax(-1)\n",
    ")\n",
    "model.to(trainer.device)"
   ]
  },
  {
   "cell_type": "code",
   "execution_count": 6,
   "id": "careful-suspect",
   "metadata": {},
   "outputs": [
    {
     "data": {
      "text/plain": [
       "(0.1037, 2.3724672771453856)"
      ]
     },
     "execution_count": 6,
     "metadata": {},
     "output_type": "execute_result"
    }
   ],
   "source": [
    "trainer.validation(model, dl[\"valid\"])"
   ]
  },
  {
   "cell_type": "markdown",
   "id": "proud-routine",
   "metadata": {},
   "source": [
    "## No momentum"
   ]
  },
  {
   "cell_type": "code",
   "execution_count": 8,
   "id": "employed-tennis",
   "metadata": {},
   "outputs": [],
   "source": [
    "optimizer = AcceleratedSGD(model.parameters(), 1e-1, k=10, momentum=0, weight_decay=0, lambda_=1e-8)\n",
    "logger = Logger(\"resnet_log_augmentation_no_momentum.txt.no_resizing\")"
   ]
  },
  {
   "cell_type": "code",
   "execution_count": 9,
   "id": "fatty-pendant",
   "metadata": {},
   "outputs": [
    {
     "name": "stdout",
     "output_type": "stream",
     "text": [
      "100%|██████████| 313/313 [00:15<00:00, 20.08it/s, loss=1.9728]\n",
      "Epoch 1 | Training loss: 1.9728, validation accuracy: 0.3371, validation loss: 2.0809\n",
      "100%|██████████| 313/313 [00:15<00:00, 20.15it/s, loss=1.5676]\n",
      "Epoch 2 | Training loss: 1.5676, validation accuracy: 0.4210, validation loss: 1.6793\n",
      "100%|██████████| 313/313 [00:15<00:00, 20.24it/s, loss=1.4200]\n",
      "Epoch 3 | Training loss: 1.4200, validation accuracy: 0.2880, validation loss: 17.0430\n",
      "100%|██████████| 313/313 [00:15<00:00, 19.92it/s, loss=1.3180]\n",
      "Epoch 4 | Training loss: 1.3180, validation accuracy: 0.5294, validation loss: 1.3956\n",
      "100%|██████████| 313/313 [00:15<00:00, 19.87it/s, loss=1.2365]\n",
      "Epoch 5 | Training loss: 1.2365, validation accuracy: 0.5612, validation loss: 1.2363\n",
      "100%|██████████| 313/313 [00:16<00:00, 18.47it/s, loss=1.1589]\n",
      "Epoch 6 | Training loss: 1.1589, validation accuracy: 0.5830, validation loss: 1.2227\n",
      "100%|██████████| 313/313 [00:16<00:00, 18.81it/s, loss=1.1012]\n",
      "Epoch 7 | Training loss: 1.1012, validation accuracy: 0.5938, validation loss: 1.1797\n",
      "100%|██████████| 313/313 [00:16<00:00, 19.00it/s, loss=1.0597]\n",
      "Epoch 8 | Training loss: 1.0597, validation accuracy: 0.6492, validation loss: 0.9947\n",
      "100%|██████████| 313/313 [00:16<00:00, 18.65it/s, loss=1.0120]\n",
      "Epoch 9 | Training loss: 1.0120, validation accuracy: 0.6420, validation loss: 1.0444\n",
      "100%|██████████| 313/313 [00:16<00:00, 18.58it/s, loss=0.9762]\n",
      "Epoch 10 | Training loss: 0.9762, validation accuracy: 0.6498, validation loss: 1.0270\n",
      "100%|██████████| 313/313 [00:16<00:00, 18.58it/s, loss=0.9462]\n",
      "Epoch 11 | Training loss: 0.9462, validation accuracy: 0.6315, validation loss: 1.0874\n",
      "100%|██████████| 313/313 [00:16<00:00, 18.51it/s, loss=0.9078]\n",
      "Epoch 12 | Training loss: 0.9078, validation accuracy: 0.6935, validation loss: 0.8876\n",
      "100%|██████████| 313/313 [00:16<00:00, 18.90it/s, loss=0.8814]\n",
      "Epoch 13 | Training loss: 0.8814, validation accuracy: 0.6427, validation loss: 1.0593\n",
      "100%|██████████| 313/313 [00:16<00:00, 18.89it/s, loss=0.8597]\n",
      "Epoch 14 | Training loss: 0.8597, validation accuracy: 0.6905, validation loss: 0.9107\n",
      "100%|██████████| 313/313 [00:16<00:00, 18.73it/s, loss=0.8328]\n",
      "Epoch 15 | Training loss: 0.8328, validation accuracy: 0.6818, validation loss: 0.9690\n",
      "100%|██████████| 313/313 [00:16<00:00, 18.76it/s, loss=0.8168]\n",
      "Epoch 16 | Training loss: 0.8168, validation accuracy: 0.6927, validation loss: 0.9093\n",
      "100%|██████████| 313/313 [00:16<00:00, 18.77it/s, loss=0.7907]\n",
      "Epoch 17 | Training loss: 0.7907, validation accuracy: 0.7011, validation loss: 0.8623\n",
      "100%|██████████| 313/313 [00:16<00:00, 18.85it/s, loss=0.7744]\n",
      "Epoch 18 | Training loss: 0.7744, validation accuracy: 0.7209, validation loss: 0.8249\n",
      "100%|██████████| 313/313 [00:16<00:00, 18.97it/s, loss=0.7497]\n",
      "Epoch 19 | Training loss: 0.7497, validation accuracy: 0.7293, validation loss: 0.8038\n",
      "100%|██████████| 313/313 [00:16<00:00, 18.94it/s, loss=0.7336]\n",
      "Epoch 20 | Training loss: 0.7336, validation accuracy: 0.7232, validation loss: 0.8193\n",
      "100%|██████████| 313/313 [00:16<00:00, 18.92it/s, loss=0.7226]\n",
      "Epoch 21 | Training loss: 0.7226, validation accuracy: 0.6913, validation loss: 0.9320\n",
      "100%|██████████| 313/313 [00:16<00:00, 18.98it/s, loss=0.7027]\n",
      "Epoch 22 | Training loss: 0.7027, validation accuracy: 0.6920, validation loss: 0.9287\n",
      "100%|██████████| 313/313 [00:16<00:00, 18.99it/s, loss=0.6858]\n",
      "Epoch 23 | Training loss: 0.6858, validation accuracy: 0.5678, validation loss: 1.8665\n",
      "100%|██████████| 313/313 [00:16<00:00, 19.14it/s, loss=0.6781]\n",
      "Epoch 24 | Training loss: 0.6781, validation accuracy: 0.7339, validation loss: 0.8002\n",
      "100%|██████████| 313/313 [00:16<00:00, 19.16it/s, loss=0.6565]\n",
      "Epoch 25 | Training loss: 0.6565, validation accuracy: 0.7365, validation loss: 0.7837\n"
     ]
    }
   ],
   "source": [
    "epochs = 25\n",
    "\n",
    "for epoch in range(epochs):\n",
    "    train_loss = trainer.train_epoch(model, optimizer, dl[\"train\"])\n",
    "    optimizer.finish_epoch()\n",
    "    val_acc, val_loss = trainer.validation(model, dl[\"valid\"])\n",
    "    logger.log(\"Epoch\", epoch+1, \"|\", \n",
    "          f\"Training loss: {train_loss:.4f}, validation accuracy: {val_acc:.4f}, validation loss: {val_loss:.4f}\")"
   ]
  },
  {
   "cell_type": "code",
   "execution_count": 10,
   "id": "metallic-workstation",
   "metadata": {},
   "outputs": [
    {
     "name": "stdout",
     "output_type": "stream",
     "text": [
      "Train: (0.749, 0.7053908762931824)\n",
      "Valid: (0.7365, 0.783669065284729)\n"
     ]
    }
   ],
   "source": [
    "train_score = trainer.validation(model, dl[\"train\"])\n",
    "valid_score = trainer.validation(model, dl[\"valid\"])\n",
    "logger.log(\"Train:\", train_score)\n",
    "logger.log(\"Valid:\", valid_score)"
   ]
  },
  {
   "cell_type": "code",
   "execution_count": 11,
   "id": "pacific-thirty",
   "metadata": {},
   "outputs": [
    {
     "name": "stdout",
     "output_type": "stream",
     "text": [
      "RNA\n"
     ]
    }
   ],
   "source": [
    "optimizer.param_groups[0][\"method\"] = \"RNA\"\n",
    "logger.log(\"RNA\")\n",
    "model_acc = deepcopy(model)\n",
    "optimizer.accelerate()\n",
    "optimizer.store_parameters([model_acc.parameters()])"
   ]
  },
  {
   "cell_type": "code",
   "execution_count": 12,
   "id": "faced-tribe",
   "metadata": {
    "tags": []
   },
   "outputs": [
    {
     "name": "stdout",
     "output_type": "stream",
     "text": [
      "Train: (0.76385, 0.667782802772522)\n",
      "Valid: (0.7438, 0.7377233875274658)\n"
     ]
    }
   ],
   "source": [
    "model_acc.to(trainer.device)\n",
    "train_score = trainer.validation(model_acc, dl[\"train\"])\n",
    "valid_score = trainer.validation(model_acc, dl[\"valid\"])\n",
    "logger.log(\"Train:\", train_score)\n",
    "logger.log(\"Valid:\", valid_score)"
   ]
  },
  {
   "cell_type": "code",
   "execution_count": 13,
   "id": "0a99436e-e283-4601-a51b-99ced3943b0b",
   "metadata": {},
   "outputs": [
    {
     "name": "stdout",
     "output_type": "stream",
     "text": [
      "RRE\n"
     ]
    }
   ],
   "source": [
    "optimizer.param_groups[0][\"method\"] = \"RRE\"\n",
    "logger.log(\"RRE\")\n",
    "model_acc = deepcopy(model)\n",
    "optimizer.accelerate()\n",
    "optimizer.store_parameters([model_acc.parameters()])"
   ]
  },
  {
   "cell_type": "code",
   "execution_count": 14,
   "id": "f44305f0-dc05-4bea-b6be-139178f10489",
   "metadata": {
    "tags": []
   },
   "outputs": [
    {
     "name": "stdout",
     "output_type": "stream",
     "text": [
      "Train: (0.76435, 0.6702670343399048)\n",
      "Valid: (0.7438, 0.737723217010498)\n"
     ]
    }
   ],
   "source": [
    "model_acc.to(trainer.device)\n",
    "train_score = trainer.validation(model_acc, dl[\"train\"])\n",
    "valid_score = trainer.validation(model_acc, dl[\"valid\"])\n",
    "logger.log(\"Train:\", train_score)\n",
    "logger.log(\"Valid:\", valid_score)"
   ]
  },
  {
   "cell_type": "code",
   "execution_count": 15,
   "id": "regulated-globe",
   "metadata": {},
   "outputs": [],
   "source": [
    "optimizer.param_groups[0][\"lr\"] = 1e-2"
   ]
  },
  {
   "cell_type": "code",
   "execution_count": 16,
   "id": "4926f98f-aed8-43dc-9c6a-eb426240eadd",
   "metadata": {},
   "outputs": [
    {
     "name": "stdout",
     "output_type": "stream",
     "text": [
      "100%|██████████| 313/313 [00:15<00:00, 19.98it/s, loss=0.5692]\n",
      "Epoch 1 | Training loss: 0.5692, validation accuracy: 0.7871, validation loss: 0.6320\n",
      "100%|██████████| 313/313 [00:16<00:00, 19.50it/s, loss=0.5473]\n",
      "Epoch 2 | Training loss: 0.5473, validation accuracy: 0.7873, validation loss: 0.6365\n",
      "100%|██████████| 313/313 [00:16<00:00, 18.61it/s, loss=0.5356]\n",
      "Epoch 3 | Training loss: 0.5356, validation accuracy: 0.7913, validation loss: 0.6223\n",
      "100%|██████████| 313/313 [00:17<00:00, 18.29it/s, loss=0.5277]\n",
      "Epoch 4 | Training loss: 0.5277, validation accuracy: 0.7914, validation loss: 0.6272\n",
      "100%|██████████| 313/313 [00:16<00:00, 18.83it/s, loss=0.5252]\n",
      "Epoch 5 | Training loss: 0.5252, validation accuracy: 0.7896, validation loss: 0.6259\n",
      "100%|██████████| 313/313 [00:16<00:00, 18.86it/s, loss=0.5145]\n",
      "Epoch 6 | Training loss: 0.5145, validation accuracy: 0.7943, validation loss: 0.6232\n",
      "100%|██████████| 313/313 [00:16<00:00, 19.01it/s, loss=0.5090]\n",
      "Epoch 7 | Training loss: 0.5090, validation accuracy: 0.7908, validation loss: 0.6360\n",
      "100%|██████████| 313/313 [00:16<00:00, 19.03it/s, loss=0.5063]\n",
      "Epoch 8 | Training loss: 0.5063, validation accuracy: 0.7918, validation loss: 0.6304\n",
      "100%|██████████| 313/313 [00:16<00:00, 19.03it/s, loss=0.4987]\n",
      "Epoch 9 | Training loss: 0.4987, validation accuracy: 0.7867, validation loss: 0.6312\n",
      "100%|██████████| 313/313 [00:16<00:00, 19.01it/s, loss=0.4966]\n",
      "Epoch 10 | Training loss: 0.4966, validation accuracy: 0.7933, validation loss: 0.6211\n",
      "100%|██████████| 313/313 [00:16<00:00, 19.12it/s, loss=0.4938]\n",
      "Epoch 11 | Training loss: 0.4938, validation accuracy: 0.7945, validation loss: 0.6263\n",
      "100%|██████████| 313/313 [00:16<00:00, 19.18it/s, loss=0.4898]\n",
      "Epoch 12 | Training loss: 0.4898, validation accuracy: 0.7931, validation loss: 0.6249\n",
      "100%|██████████| 313/313 [00:16<00:00, 19.22it/s, loss=0.4871]\n",
      "Epoch 13 | Training loss: 0.4871, validation accuracy: 0.7924, validation loss: 0.6327\n",
      "100%|██████████| 313/313 [00:16<00:00, 19.15it/s, loss=0.4815]\n",
      "Epoch 14 | Training loss: 0.4815, validation accuracy: 0.7920, validation loss: 0.6383\n",
      "100%|██████████| 313/313 [00:16<00:00, 19.04it/s, loss=0.4797]\n",
      "Epoch 15 | Training loss: 0.4797, validation accuracy: 0.7933, validation loss: 0.6301\n",
      "100%|██████████| 313/313 [00:16<00:00, 19.17it/s, loss=0.4792]\n",
      "Epoch 16 | Training loss: 0.4792, validation accuracy: 0.7907, validation loss: 0.6344\n",
      "100%|██████████| 313/313 [00:16<00:00, 19.26it/s, loss=0.4711]\n",
      "Epoch 17 | Training loss: 0.4711, validation accuracy: 0.7915, validation loss: 0.6373\n",
      "100%|██████████| 313/313 [00:16<00:00, 18.93it/s, loss=0.4679]\n",
      "Epoch 18 | Training loss: 0.4679, validation accuracy: 0.7948, validation loss: 0.6294\n",
      "100%|██████████| 313/313 [00:16<00:00, 18.97it/s, loss=0.4640]\n",
      "Epoch 19 | Training loss: 0.4640, validation accuracy: 0.7947, validation loss: 0.6348\n",
      "100%|██████████| 313/313 [00:16<00:00, 19.08it/s, loss=0.4623]\n",
      "Epoch 20 | Training loss: 0.4623, validation accuracy: 0.7978, validation loss: 0.6370\n",
      "100%|██████████| 313/313 [00:16<00:00, 19.26it/s, loss=0.4611]\n",
      "Epoch 21 | Training loss: 0.4611, validation accuracy: 0.7869, validation loss: 0.6505\n",
      "100%|██████████| 313/313 [00:16<00:00, 19.25it/s, loss=0.4556]\n",
      "Epoch 22 | Training loss: 0.4556, validation accuracy: 0.7952, validation loss: 0.6453\n",
      "100%|██████████| 313/313 [00:16<00:00, 19.25it/s, loss=0.4515]\n",
      "Epoch 23 | Training loss: 0.4515, validation accuracy: 0.7902, validation loss: 0.6518\n",
      "100%|██████████| 313/313 [00:16<00:00, 19.27it/s, loss=0.4542]\n",
      "Epoch 24 | Training loss: 0.4542, validation accuracy: 0.7933, validation loss: 0.6399\n",
      "100%|██████████| 313/313 [00:16<00:00, 19.19it/s, loss=0.4493]\n",
      "Epoch 25 | Training loss: 0.4493, validation accuracy: 0.7902, validation loss: 0.6467\n"
     ]
    }
   ],
   "source": [
    "epochs = 25\n",
    "\n",
    "for epoch in range(epochs):\n",
    "    train_loss = trainer.train_epoch(model, optimizer, dl[\"train\"])\n",
    "    optimizer.finish_epoch()\n",
    "    val_acc, val_loss = trainer.validation(model, dl[\"valid\"])\n",
    "    logger.log(\"Epoch\", epoch+1, \"|\", \n",
    "          f\"Training loss: {train_loss:.4f}, validation accuracy: {val_acc:.4f}, validation loss: {val_loss:.4f}\")"
   ]
  },
  {
   "cell_type": "code",
   "execution_count": 17,
   "id": "ef0d1930-865b-43a8-9e38-c4d96f0af7b0",
   "metadata": {},
   "outputs": [
    {
     "name": "stdout",
     "output_type": "stream",
     "text": [
      "Train: (0.851125, 0.4204368348121643)\n",
      "Valid: (0.7902, 0.6467131391525268)\n"
     ]
    }
   ],
   "source": [
    "train_score = trainer.validation(model, dl[\"train\"])\n",
    "valid_score = trainer.validation(model, dl[\"valid\"])\n",
    "logger.log(\"Train:\", train_score)\n",
    "logger.log(\"Valid:\", valid_score)"
   ]
  },
  {
   "cell_type": "code",
   "execution_count": 18,
   "id": "bdd5482c-7e9e-43e1-8c8e-449ae33b2875",
   "metadata": {},
   "outputs": [
    {
     "name": "stdout",
     "output_type": "stream",
     "text": [
      "RNA\n"
     ]
    }
   ],
   "source": [
    "optimizer.param_groups[0][\"method\"] = \"RNA\"\n",
    "logger.log(\"RNA\")\n",
    "model_acc = deepcopy(model)\n",
    "optimizer.accelerate()\n",
    "optimizer.store_parameters([model_acc.parameters()])"
   ]
  },
  {
   "cell_type": "code",
   "execution_count": 19,
   "id": "d647e197-1782-45e4-84f1-83bc9672b9fd",
   "metadata": {
    "tags": []
   },
   "outputs": [
    {
     "name": "stdout",
     "output_type": "stream",
     "text": [
      "Train: (0.847475, 0.42944177560806274)\n",
      "Valid: (0.794, 0.6401141977310181)\n"
     ]
    }
   ],
   "source": [
    "model_acc.to(trainer.device)\n",
    "train_score = trainer.validation(model_acc, dl[\"train\"])\n",
    "valid_score = trainer.validation(model_acc, dl[\"valid\"])\n",
    "logger.log(\"Train:\", train_score)\n",
    "logger.log(\"Valid:\", valid_score)"
   ]
  },
  {
   "cell_type": "code",
   "execution_count": 20,
   "id": "896d8044-691c-42a9-91c1-006274b52c2e",
   "metadata": {},
   "outputs": [
    {
     "name": "stdout",
     "output_type": "stream",
     "text": [
      "RRE\n"
     ]
    }
   ],
   "source": [
    "optimizer.param_groups[0][\"method\"] = \"RRE\"\n",
    "logger.log(\"RRE\")\n",
    "model_acc = deepcopy(model)\n",
    "optimizer.accelerate()\n",
    "optimizer.store_parameters([model_acc.parameters()])"
   ]
  },
  {
   "cell_type": "code",
   "execution_count": 21,
   "id": "a9b512a3-5d7f-4d25-9785-681534162bae",
   "metadata": {
    "tags": []
   },
   "outputs": [
    {
     "name": "stdout",
     "output_type": "stream",
     "text": [
      "Train: (0.845625, 0.4281534000873566)\n",
      "Valid: (0.794, 0.6401142517089844)\n"
     ]
    }
   ],
   "source": [
    "model_acc.to(trainer.device)\n",
    "train_score = trainer.validation(model_acc, dl[\"train\"])\n",
    "valid_score = trainer.validation(model_acc, dl[\"valid\"])\n",
    "logger.log(\"Train:\", train_score)\n",
    "logger.log(\"Valid:\", valid_score)"
   ]
  },
  {
   "cell_type": "code",
   "execution_count": 22,
   "id": "respected-console",
   "metadata": {},
   "outputs": [],
   "source": [
    "optimizer.param_groups[0][\"lr\"] = 1e-3"
   ]
  },
  {
   "cell_type": "code",
   "execution_count": 23,
   "id": "62375dd1-2950-4c7d-94cc-97077713c51b",
   "metadata": {},
   "outputs": [
    {
     "name": "stdout",
     "output_type": "stream",
     "text": [
      "100%|██████████| 313/313 [00:15<00:00, 19.60it/s, loss=0.4405]\n",
      "Epoch 1 | Training loss: 0.4405, validation accuracy: 0.7940, validation loss: 0.6423\n",
      "100%|██████████| 313/313 [00:16<00:00, 19.49it/s, loss=0.4425]\n",
      "Epoch 2 | Training loss: 0.4425, validation accuracy: 0.7944, validation loss: 0.6417\n",
      "100%|██████████| 313/313 [00:16<00:00, 18.82it/s, loss=0.4348]\n",
      "Epoch 3 | Training loss: 0.4348, validation accuracy: 0.7948, validation loss: 0.6376\n",
      "100%|██████████| 313/313 [00:16<00:00, 18.61it/s, loss=0.4305]\n",
      "Epoch 4 | Training loss: 0.4305, validation accuracy: 0.7942, validation loss: 0.6453\n",
      "100%|██████████| 313/313 [00:16<00:00, 18.67it/s, loss=0.4302]\n",
      "Epoch 5 | Training loss: 0.4302, validation accuracy: 0.7942, validation loss: 0.6378\n",
      "100%|██████████| 313/313 [00:16<00:00, 18.99it/s, loss=0.4263]\n",
      "Epoch 6 | Training loss: 0.4263, validation accuracy: 0.7948, validation loss: 0.6390\n",
      "100%|██████████| 313/313 [00:16<00:00, 19.06it/s, loss=0.4272]\n",
      "Epoch 7 | Training loss: 0.4272, validation accuracy: 0.7952, validation loss: 0.6409\n",
      "100%|██████████| 313/313 [00:16<00:00, 19.01it/s, loss=0.4329]\n",
      "Epoch 8 | Training loss: 0.4329, validation accuracy: 0.7950, validation loss: 0.6402\n",
      "100%|██████████| 313/313 [00:16<00:00, 19.11it/s, loss=0.4274]\n",
      "Epoch 9 | Training loss: 0.4274, validation accuracy: 0.7940, validation loss: 0.6399\n",
      "100%|██████████| 313/313 [00:16<00:00, 19.03it/s, loss=0.4320]\n",
      "Epoch 10 | Training loss: 0.4320, validation accuracy: 0.7944, validation loss: 0.6395\n",
      "100%|██████████| 313/313 [00:16<00:00, 18.95it/s, loss=0.4327]\n",
      "Epoch 11 | Training loss: 0.4327, validation accuracy: 0.7924, validation loss: 0.6471\n",
      "100%|██████████| 313/313 [00:16<00:00, 19.07it/s, loss=0.4260]\n",
      "Epoch 12 | Training loss: 0.4260, validation accuracy: 0.7950, validation loss: 0.6383\n",
      "100%|██████████| 313/313 [00:16<00:00, 19.14it/s, loss=0.4270]\n",
      "Epoch 13 | Training loss: 0.4270, validation accuracy: 0.7957, validation loss: 0.6406\n",
      "100%|██████████| 313/313 [00:16<00:00, 19.05it/s, loss=0.4239]\n",
      "Epoch 14 | Training loss: 0.4239, validation accuracy: 0.7947, validation loss: 0.6381\n",
      "100%|██████████| 313/313 [00:16<00:00, 19.20it/s, loss=0.4208]\n",
      "Epoch 15 | Training loss: 0.4208, validation accuracy: 0.7954, validation loss: 0.6353\n",
      "100%|██████████| 313/313 [00:16<00:00, 19.08it/s, loss=0.4246]\n",
      "Epoch 16 | Training loss: 0.4246, validation accuracy: 0.7935, validation loss: 0.6409\n",
      "100%|██████████| 313/313 [00:16<00:00, 19.16it/s, loss=0.4207]\n",
      "Epoch 17 | Training loss: 0.4207, validation accuracy: 0.7944, validation loss: 0.6458\n",
      "100%|██████████| 313/313 [00:16<00:00, 19.10it/s, loss=0.4260]\n",
      "Epoch 18 | Training loss: 0.4260, validation accuracy: 0.7939, validation loss: 0.6445\n",
      "100%|██████████| 313/313 [00:16<00:00, 19.24it/s, loss=0.4282]\n",
      "Epoch 19 | Training loss: 0.4282, validation accuracy: 0.7928, validation loss: 0.6442\n",
      "100%|██████████| 313/313 [00:16<00:00, 19.13it/s, loss=0.4203]\n",
      "Epoch 20 | Training loss: 0.4203, validation accuracy: 0.7932, validation loss: 0.6453\n",
      "100%|██████████| 313/313 [00:16<00:00, 19.20it/s, loss=0.4225]\n",
      "Epoch 21 | Training loss: 0.4225, validation accuracy: 0.7960, validation loss: 0.6493\n",
      "100%|██████████| 313/313 [00:16<00:00, 19.08it/s, loss=0.4195]\n",
      "Epoch 22 | Training loss: 0.4195, validation accuracy: 0.7945, validation loss: 0.6459\n",
      "100%|██████████| 313/313 [00:16<00:00, 19.31it/s, loss=0.4221]\n",
      "Epoch 23 | Training loss: 0.4221, validation accuracy: 0.7957, validation loss: 0.6436\n",
      "100%|██████████| 313/313 [00:16<00:00, 19.27it/s, loss=0.4185]\n",
      "Epoch 24 | Training loss: 0.4185, validation accuracy: 0.7939, validation loss: 0.6437\n",
      "100%|██████████| 313/313 [00:16<00:00, 19.18it/s, loss=0.4228]\n",
      "Epoch 25 | Training loss: 0.4228, validation accuracy: 0.7946, validation loss: 0.6484\n"
     ]
    }
   ],
   "source": [
    "epochs = 25\n",
    "\n",
    "for epoch in range(epochs):\n",
    "    train_loss = trainer.train_epoch(model, optimizer, dl[\"train\"])\n",
    "    optimizer.finish_epoch()\n",
    "    val_acc, val_loss = trainer.validation(model, dl[\"valid\"])\n",
    "    logger.log(\"Epoch\", epoch+1, \"|\", \n",
    "          f\"Training loss: {train_loss:.4f}, validation accuracy: {val_acc:.4f}, validation loss: {val_loss:.4f}\")"
   ]
  },
  {
   "cell_type": "code",
   "execution_count": 24,
   "id": "27806692-f100-465a-bfe8-a4be64e36d88",
   "metadata": {},
   "outputs": [
    {
     "name": "stdout",
     "output_type": "stream",
     "text": [
      "Train: (0.85995, 0.3970328094959259)\n",
      "Valid: (0.7946, 0.648416905784607)\n"
     ]
    }
   ],
   "source": [
    "train_score = trainer.validation(model, dl[\"train\"])\n",
    "valid_score = trainer.validation(model, dl[\"valid\"])\n",
    "logger.log(\"Train:\", train_score)\n",
    "logger.log(\"Valid:\", valid_score)"
   ]
  },
  {
   "cell_type": "code",
   "execution_count": 25,
   "id": "0830e6e8-7291-495f-9a82-9a02f53004fd",
   "metadata": {},
   "outputs": [
    {
     "name": "stdout",
     "output_type": "stream",
     "text": [
      "RNA\n"
     ]
    }
   ],
   "source": [
    "optimizer.param_groups[0][\"method\"] = \"RNA\"\n",
    "logger.log(\"RNA\")\n",
    "model_acc = deepcopy(model)\n",
    "optimizer.accelerate()\n",
    "optimizer.store_parameters([model_acc.parameters()])"
   ]
  },
  {
   "cell_type": "code",
   "execution_count": 26,
   "id": "f06d768e-5785-4c03-93da-89d45a2c8f6e",
   "metadata": {
    "tags": []
   },
   "outputs": [
    {
     "name": "stdout",
     "output_type": "stream",
     "text": [
      "Train: (0.858975, 0.3964641182422638)\n",
      "Valid: (0.7931, 0.6520758222579957)\n"
     ]
    }
   ],
   "source": [
    "model_acc.to(trainer.device)\n",
    "train_score = trainer.validation(model_acc, dl[\"train\"])\n",
    "valid_score = trainer.validation(model_acc, dl[\"valid\"])\n",
    "logger.log(\"Train:\", train_score)\n",
    "logger.log(\"Valid:\", valid_score)"
   ]
  },
  {
   "cell_type": "code",
   "execution_count": 27,
   "id": "6e2fa71e-2253-470f-9e8f-34904aefe3af",
   "metadata": {},
   "outputs": [
    {
     "name": "stdout",
     "output_type": "stream",
     "text": [
      "RRE\n"
     ]
    }
   ],
   "source": [
    "optimizer.param_groups[0][\"method\"] = \"RRE\"\n",
    "logger.log(\"RRE\")\n",
    "model_acc = deepcopy(model)\n",
    "optimizer.accelerate()\n",
    "optimizer.store_parameters([model_acc.parameters()])"
   ]
  },
  {
   "cell_type": "code",
   "execution_count": 28,
   "id": "03bfdb39-45d6-4d77-9f6a-6885227b9c08",
   "metadata": {
    "tags": []
   },
   "outputs": [
    {
     "name": "stdout",
     "output_type": "stream",
     "text": [
      "Train: (0.8588, 0.4000325141429901)\n",
      "Valid: (0.7931, 0.6520759426116943)\n"
     ]
    }
   ],
   "source": [
    "model_acc.to(trainer.device)\n",
    "train_score = trainer.validation(model_acc, dl[\"train\"])\n",
    "valid_score = trainer.validation(model_acc, dl[\"valid\"])\n",
    "logger.log(\"Train:\", train_score)\n",
    "logger.log(\"Valid:\", valid_score)"
   ]
  },
  {
   "cell_type": "markdown",
   "id": "careful-basin",
   "metadata": {},
   "source": [
    "## Momentum"
   ]
  },
  {
   "cell_type": "code",
   "execution_count": 29,
   "id": "front-train",
   "metadata": {},
   "outputs": [
    {
     "data": {
      "text/plain": [
       "ResNet(\n",
       "  (conv1): Conv2d(3, 64, kernel_size=(7, 7), stride=(2, 2), padding=(3, 3), bias=False)\n",
       "  (bn1): BatchNorm2d(64, eps=1e-05, momentum=0.1, affine=True, track_running_stats=True)\n",
       "  (relu): ReLU(inplace=True)\n",
       "  (maxpool): MaxPool2d(kernel_size=3, stride=2, padding=1, dilation=1, ceil_mode=False)\n",
       "  (layer1): Sequential(\n",
       "    (0): BasicBlock(\n",
       "      (conv1): Conv2d(64, 64, kernel_size=(3, 3), stride=(1, 1), padding=(1, 1), bias=False)\n",
       "      (bn1): BatchNorm2d(64, eps=1e-05, momentum=0.1, affine=True, track_running_stats=True)\n",
       "      (relu): ReLU(inplace=True)\n",
       "      (conv2): Conv2d(64, 64, kernel_size=(3, 3), stride=(1, 1), padding=(1, 1), bias=False)\n",
       "      (bn2): BatchNorm2d(64, eps=1e-05, momentum=0.1, affine=True, track_running_stats=True)\n",
       "    )\n",
       "    (1): BasicBlock(\n",
       "      (conv1): Conv2d(64, 64, kernel_size=(3, 3), stride=(1, 1), padding=(1, 1), bias=False)\n",
       "      (bn1): BatchNorm2d(64, eps=1e-05, momentum=0.1, affine=True, track_running_stats=True)\n",
       "      (relu): ReLU(inplace=True)\n",
       "      (conv2): Conv2d(64, 64, kernel_size=(3, 3), stride=(1, 1), padding=(1, 1), bias=False)\n",
       "      (bn2): BatchNorm2d(64, eps=1e-05, momentum=0.1, affine=True, track_running_stats=True)\n",
       "    )\n",
       "  )\n",
       "  (layer2): Sequential(\n",
       "    (0): BasicBlock(\n",
       "      (conv1): Conv2d(64, 128, kernel_size=(3, 3), stride=(2, 2), padding=(1, 1), bias=False)\n",
       "      (bn1): BatchNorm2d(128, eps=1e-05, momentum=0.1, affine=True, track_running_stats=True)\n",
       "      (relu): ReLU(inplace=True)\n",
       "      (conv2): Conv2d(128, 128, kernel_size=(3, 3), stride=(1, 1), padding=(1, 1), bias=False)\n",
       "      (bn2): BatchNorm2d(128, eps=1e-05, momentum=0.1, affine=True, track_running_stats=True)\n",
       "      (downsample): Sequential(\n",
       "        (0): Conv2d(64, 128, kernel_size=(1, 1), stride=(2, 2), bias=False)\n",
       "        (1): BatchNorm2d(128, eps=1e-05, momentum=0.1, affine=True, track_running_stats=True)\n",
       "      )\n",
       "    )\n",
       "    (1): BasicBlock(\n",
       "      (conv1): Conv2d(128, 128, kernel_size=(3, 3), stride=(1, 1), padding=(1, 1), bias=False)\n",
       "      (bn1): BatchNorm2d(128, eps=1e-05, momentum=0.1, affine=True, track_running_stats=True)\n",
       "      (relu): ReLU(inplace=True)\n",
       "      (conv2): Conv2d(128, 128, kernel_size=(3, 3), stride=(1, 1), padding=(1, 1), bias=False)\n",
       "      (bn2): BatchNorm2d(128, eps=1e-05, momentum=0.1, affine=True, track_running_stats=True)\n",
       "    )\n",
       "  )\n",
       "  (layer3): Sequential(\n",
       "    (0): BasicBlock(\n",
       "      (conv1): Conv2d(128, 256, kernel_size=(3, 3), stride=(2, 2), padding=(1, 1), bias=False)\n",
       "      (bn1): BatchNorm2d(256, eps=1e-05, momentum=0.1, affine=True, track_running_stats=True)\n",
       "      (relu): ReLU(inplace=True)\n",
       "      (conv2): Conv2d(256, 256, kernel_size=(3, 3), stride=(1, 1), padding=(1, 1), bias=False)\n",
       "      (bn2): BatchNorm2d(256, eps=1e-05, momentum=0.1, affine=True, track_running_stats=True)\n",
       "      (downsample): Sequential(\n",
       "        (0): Conv2d(128, 256, kernel_size=(1, 1), stride=(2, 2), bias=False)\n",
       "        (1): BatchNorm2d(256, eps=1e-05, momentum=0.1, affine=True, track_running_stats=True)\n",
       "      )\n",
       "    )\n",
       "    (1): BasicBlock(\n",
       "      (conv1): Conv2d(256, 256, kernel_size=(3, 3), stride=(1, 1), padding=(1, 1), bias=False)\n",
       "      (bn1): BatchNorm2d(256, eps=1e-05, momentum=0.1, affine=True, track_running_stats=True)\n",
       "      (relu): ReLU(inplace=True)\n",
       "      (conv2): Conv2d(256, 256, kernel_size=(3, 3), stride=(1, 1), padding=(1, 1), bias=False)\n",
       "      (bn2): BatchNorm2d(256, eps=1e-05, momentum=0.1, affine=True, track_running_stats=True)\n",
       "    )\n",
       "  )\n",
       "  (layer4): Sequential(\n",
       "    (0): BasicBlock(\n",
       "      (conv1): Conv2d(256, 512, kernel_size=(3, 3), stride=(2, 2), padding=(1, 1), bias=False)\n",
       "      (bn1): BatchNorm2d(512, eps=1e-05, momentum=0.1, affine=True, track_running_stats=True)\n",
       "      (relu): ReLU(inplace=True)\n",
       "      (conv2): Conv2d(512, 512, kernel_size=(3, 3), stride=(1, 1), padding=(1, 1), bias=False)\n",
       "      (bn2): BatchNorm2d(512, eps=1e-05, momentum=0.1, affine=True, track_running_stats=True)\n",
       "      (downsample): Sequential(\n",
       "        (0): Conv2d(256, 512, kernel_size=(1, 1), stride=(2, 2), bias=False)\n",
       "        (1): BatchNorm2d(512, eps=1e-05, momentum=0.1, affine=True, track_running_stats=True)\n",
       "      )\n",
       "    )\n",
       "    (1): BasicBlock(\n",
       "      (conv1): Conv2d(512, 512, kernel_size=(3, 3), stride=(1, 1), padding=(1, 1), bias=False)\n",
       "      (bn1): BatchNorm2d(512, eps=1e-05, momentum=0.1, affine=True, track_running_stats=True)\n",
       "      (relu): ReLU(inplace=True)\n",
       "      (conv2): Conv2d(512, 512, kernel_size=(3, 3), stride=(1, 1), padding=(1, 1), bias=False)\n",
       "      (bn2): BatchNorm2d(512, eps=1e-05, momentum=0.1, affine=True, track_running_stats=True)\n",
       "    )\n",
       "  )\n",
       "  (avgpool): AdaptiveAvgPool2d(output_size=(1, 1))\n",
       "  (fc): Sequential(\n",
       "    (0): Linear(in_features=512, out_features=10, bias=True)\n",
       "    (1): LogSoftmax(dim=-1)\n",
       "  )\n",
       ")"
      ]
     },
     "execution_count": 29,
     "metadata": {},
     "output_type": "execute_result"
    }
   ],
   "source": [
    "model = models.resnet18(pretrained=False)\n",
    "model.fc = nn.Sequential(\n",
    "    nn.Linear(512, 10),\n",
    "    nn.LogSoftmax(-1)\n",
    ")\n",
    "model.to(trainer.device)"
   ]
  },
  {
   "cell_type": "code",
   "execution_count": 30,
   "id": "ead40ba4-397d-4405-bad5-8348857018a2",
   "metadata": {},
   "outputs": [
    {
     "data": {
      "text/plain": [
       "(0.1034, 2.329251049041748)"
      ]
     },
     "execution_count": 30,
     "metadata": {},
     "output_type": "execute_result"
    }
   ],
   "source": [
    "trainer.validation(model, dl[\"valid\"])"
   ]
  },
  {
   "cell_type": "code",
   "execution_count": 31,
   "id": "sweet-judge",
   "metadata": {},
   "outputs": [],
   "source": [
    "optimizer = AcceleratedSGD(model.parameters(), 1e-1, k=10, momentum=0.9, weight_decay=1e-5, lambda_=1e-8)\n",
    "logger = Logger(\"resnet_log_augmentation.txt.no_resizing\")"
   ]
  },
  {
   "cell_type": "code",
   "execution_count": 32,
   "id": "6ccec233-bb10-416e-a52b-f51d1cf7d84f",
   "metadata": {},
   "outputs": [
    {
     "name": "stdout",
     "output_type": "stream",
     "text": [
      "100%|██████████| 313/313 [00:16<00:00, 19.25it/s, loss=2.1537]\n",
      "Epoch 1 | Training loss: 2.1537, validation accuracy: 0.3719, validation loss: 1.6579\n",
      "100%|██████████| 313/313 [00:16<00:00, 19.17it/s, loss=1.6446]\n",
      "Epoch 2 | Training loss: 1.6446, validation accuracy: 0.4567, validation loss: 1.4957\n",
      "100%|██████████| 313/313 [00:17<00:00, 18.14it/s, loss=1.4941]\n",
      "Epoch 3 | Training loss: 1.4941, validation accuracy: 0.5202, validation loss: 1.3188\n",
      "100%|██████████| 313/313 [00:17<00:00, 18.15it/s, loss=1.3914]\n",
      "Epoch 4 | Training loss: 1.3914, validation accuracy: 0.5409, validation loss: 1.2601\n",
      "100%|██████████| 313/313 [00:17<00:00, 18.06it/s, loss=1.3214]\n",
      "Epoch 5 | Training loss: 1.3214, validation accuracy: 0.5516, validation loss: 1.2529\n",
      "100%|██████████| 313/313 [00:17<00:00, 18.31it/s, loss=1.2366]\n",
      "Epoch 6 | Training loss: 1.2366, validation accuracy: 0.5984, validation loss: 1.1251\n",
      "100%|██████████| 313/313 [00:17<00:00, 18.37it/s, loss=1.1640]\n",
      "Epoch 7 | Training loss: 1.1640, validation accuracy: 0.5447, validation loss: 1.3447\n",
      "100%|██████████| 313/313 [00:16<00:00, 18.53it/s, loss=1.1129]\n",
      "Epoch 8 | Training loss: 1.1129, validation accuracy: 0.5928, validation loss: 1.1616\n",
      "100%|██████████| 313/313 [00:16<00:00, 18.50it/s, loss=1.0519]\n",
      "Epoch 9 | Training loss: 1.0519, validation accuracy: 0.6477, validation loss: 0.9959\n",
      "100%|██████████| 313/313 [00:16<00:00, 18.48it/s, loss=1.0064]\n",
      "Epoch 10 | Training loss: 1.0064, validation accuracy: 0.6628, validation loss: 0.9575\n",
      "100%|██████████| 313/313 [00:16<00:00, 18.63it/s, loss=0.9664]\n",
      "Epoch 11 | Training loss: 0.9664, validation accuracy: 0.7007, validation loss: 0.8599\n",
      "100%|██████████| 313/313 [00:16<00:00, 18.53it/s, loss=0.9247]\n",
      "Epoch 12 | Training loss: 0.9247, validation accuracy: 0.6765, validation loss: 0.9462\n",
      "100%|██████████| 313/313 [00:16<00:00, 18.47it/s, loss=0.8940]\n",
      "Epoch 13 | Training loss: 0.8940, validation accuracy: 0.6855, validation loss: 0.9278\n",
      "100%|██████████| 313/313 [00:16<00:00, 18.55it/s, loss=0.8526]\n",
      "Epoch 14 | Training loss: 0.8526, validation accuracy: 0.7254, validation loss: 0.7920\n",
      "100%|██████████| 313/313 [00:16<00:00, 18.55it/s, loss=0.8274]\n",
      "Epoch 15 | Training loss: 0.8274, validation accuracy: 0.7131, validation loss: 0.8620\n",
      "100%|██████████| 313/313 [00:16<00:00, 18.67it/s, loss=0.8032]\n",
      "Epoch 16 | Training loss: 0.8032, validation accuracy: 0.7290, validation loss: 0.7965\n",
      "100%|██████████| 313/313 [00:16<00:00, 18.59it/s, loss=0.7859]\n",
      "Epoch 17 | Training loss: 0.7859, validation accuracy: 0.7335, validation loss: 0.7870\n",
      "100%|██████████| 313/313 [00:16<00:00, 18.54it/s, loss=0.7509]\n",
      "Epoch 18 | Training loss: 0.7509, validation accuracy: 0.7370, validation loss: 0.7682\n",
      "100%|██████████| 313/313 [00:16<00:00, 18.58it/s, loss=0.7382]\n",
      "Epoch 19 | Training loss: 0.7382, validation accuracy: 0.7412, validation loss: 0.7751\n",
      "100%|██████████| 313/313 [00:16<00:00, 18.62it/s, loss=0.7129]\n",
      "Epoch 20 | Training loss: 0.7129, validation accuracy: 0.7658, validation loss: 0.6926\n",
      "100%|██████████| 313/313 [00:16<00:00, 18.58it/s, loss=0.6925]\n",
      "Epoch 21 | Training loss: 0.6925, validation accuracy: 0.7531, validation loss: 0.7382\n",
      "100%|██████████| 313/313 [00:16<00:00, 18.64it/s, loss=0.6743]\n",
      "Epoch 22 | Training loss: 0.6743, validation accuracy: 0.7574, validation loss: 0.7209\n",
      "100%|██████████| 313/313 [00:16<00:00, 18.60it/s, loss=0.6659]\n",
      "Epoch 23 | Training loss: 0.6659, validation accuracy: 0.7558, validation loss: 0.7396\n",
      "100%|██████████| 313/313 [00:16<00:00, 18.70it/s, loss=0.6478]\n",
      "Epoch 24 | Training loss: 0.6478, validation accuracy: 0.7695, validation loss: 0.7171\n",
      "100%|██████████| 313/313 [00:16<00:00, 18.70it/s, loss=0.6398]\n",
      "Epoch 25 | Training loss: 0.6398, validation accuracy: 0.7761, validation loss: 0.6910\n"
     ]
    }
   ],
   "source": [
    "epochs = 25\n",
    "\n",
    "for epoch in range(epochs):\n",
    "    train_loss = trainer.train_epoch(model, optimizer, dl[\"train\"])\n",
    "    optimizer.finish_epoch()\n",
    "    val_acc, val_loss = trainer.validation(model, dl[\"valid\"])\n",
    "    logger.log(\"Epoch\", epoch+1, \"|\", \n",
    "          f\"Training loss: {train_loss:.4f}, validation accuracy: {val_acc:.4f}, validation loss: {val_loss:.4f}\")"
   ]
  },
  {
   "cell_type": "code",
   "execution_count": 33,
   "id": "d7f57b14-1e56-4ecf-91a7-0fe00a7a73b2",
   "metadata": {},
   "outputs": [
    {
     "name": "stdout",
     "output_type": "stream",
     "text": [
      "Train: (0.788175, 0.598724176979065)\n",
      "Valid: (0.7761, 0.6909784210205078)\n"
     ]
    }
   ],
   "source": [
    "train_score = trainer.validation(model, dl[\"train\"])\n",
    "valid_score = trainer.validation(model, dl[\"valid\"])\n",
    "logger.log(\"Train:\", train_score)\n",
    "logger.log(\"Valid:\", valid_score)"
   ]
  },
  {
   "cell_type": "code",
   "execution_count": 34,
   "id": "feaeeebe-6668-4026-b1be-6da4d9428960",
   "metadata": {},
   "outputs": [
    {
     "name": "stdout",
     "output_type": "stream",
     "text": [
      "RNA\n"
     ]
    }
   ],
   "source": [
    "optimizer.param_groups[0][\"method\"] = \"RNA\"\n",
    "logger.log(\"RNA\")\n",
    "model_acc = deepcopy(model)\n",
    "optimizer.accelerate()\n",
    "optimizer.store_parameters([model_acc.parameters()])"
   ]
  },
  {
   "cell_type": "code",
   "execution_count": 35,
   "id": "ecda995e-26e1-48be-b5fb-09c71dc1a5f1",
   "metadata": {
    "tags": []
   },
   "outputs": [
    {
     "name": "stdout",
     "output_type": "stream",
     "text": [
      "Train: (0.751275, 0.6853015835285187)\n",
      "Valid: (0.7527, 0.732500690460205)\n"
     ]
    }
   ],
   "source": [
    "model_acc.to(trainer.device)\n",
    "train_score = trainer.validation(model_acc, dl[\"train\"])\n",
    "valid_score = trainer.validation(model_acc, dl[\"valid\"])\n",
    "logger.log(\"Train:\", train_score)\n",
    "logger.log(\"Valid:\", valid_score)"
   ]
  },
  {
   "cell_type": "code",
   "execution_count": 36,
   "id": "f8fc2877-8ff7-4604-818e-d35af6ab2e2f",
   "metadata": {},
   "outputs": [
    {
     "name": "stdout",
     "output_type": "stream",
     "text": [
      "RRE\n"
     ]
    }
   ],
   "source": [
    "optimizer.param_groups[0][\"method\"] = \"RRE\"\n",
    "logger.log(\"RRE\")\n",
    "model_acc = deepcopy(model)\n",
    "optimizer.accelerate()\n",
    "optimizer.store_parameters([model_acc.parameters()])"
   ]
  },
  {
   "cell_type": "code",
   "execution_count": 37,
   "id": "ce69a19f-e2d5-453d-9a75-744a4a27e17b",
   "metadata": {
    "tags": []
   },
   "outputs": [
    {
     "name": "stdout",
     "output_type": "stream",
     "text": [
      "Train: (0.7518, 0.6865542938232422)\n",
      "Valid: (0.7527, 0.732499766921997)\n"
     ]
    }
   ],
   "source": [
    "model_acc.to(trainer.device)\n",
    "train_score = trainer.validation(model_acc, dl[\"train\"])\n",
    "valid_score = trainer.validation(model_acc, dl[\"valid\"])\n",
    "logger.log(\"Train:\", train_score)\n",
    "logger.log(\"Valid:\", valid_score)"
   ]
  },
  {
   "cell_type": "code",
   "execution_count": 38,
   "id": "4c30eee8-c114-4233-b421-58123888ebf1",
   "metadata": {},
   "outputs": [],
   "source": [
    "optimizer.param_groups[0][\"lr\"] = 1e-2"
   ]
  },
  {
   "cell_type": "code",
   "execution_count": 39,
   "id": "6baec32a-71fa-45a4-99e0-7f3ff9aca932",
   "metadata": {},
   "outputs": [
    {
     "name": "stdout",
     "output_type": "stream",
     "text": [
      "100%|██████████| 313/313 [00:16<00:00, 19.03it/s, loss=0.5266]\n",
      "Epoch 1 | Training loss: 0.5266, validation accuracy: 0.7982, validation loss: 0.6189\n",
      "100%|██████████| 313/313 [00:16<00:00, 18.93it/s, loss=0.4928]\n",
      "Epoch 2 | Training loss: 0.4928, validation accuracy: 0.8053, validation loss: 0.6048\n",
      "100%|██████████| 313/313 [00:17<00:00, 18.04it/s, loss=0.4811]\n",
      "Epoch 3 | Training loss: 0.4811, validation accuracy: 0.8067, validation loss: 0.6067\n",
      "100%|██████████| 313/313 [00:17<00:00, 18.27it/s, loss=0.4727]\n",
      "Epoch 4 | Training loss: 0.4727, validation accuracy: 0.8091, validation loss: 0.5968\n",
      "100%|██████████| 313/313 [00:17<00:00, 17.87it/s, loss=0.4598]\n",
      "Epoch 5 | Training loss: 0.4598, validation accuracy: 0.8031, validation loss: 0.6186\n",
      "100%|██████████| 313/313 [00:17<00:00, 18.37it/s, loss=0.4572]\n",
      "Epoch 6 | Training loss: 0.4572, validation accuracy: 0.8095, validation loss: 0.5945\n",
      "100%|██████████| 313/313 [00:17<00:00, 18.40it/s, loss=0.4482]\n",
      "Epoch 7 | Training loss: 0.4482, validation accuracy: 0.8091, validation loss: 0.6006\n",
      "100%|██████████| 313/313 [00:16<00:00, 18.50it/s, loss=0.4438]\n",
      "Epoch 8 | Training loss: 0.4438, validation accuracy: 0.8037, validation loss: 0.6184\n",
      "100%|██████████| 313/313 [00:16<00:00, 18.55it/s, loss=0.4416]\n",
      "Epoch 9 | Training loss: 0.4416, validation accuracy: 0.8089, validation loss: 0.5974\n",
      "100%|██████████| 313/313 [00:16<00:00, 18.53it/s, loss=0.4338]\n",
      "Epoch 10 | Training loss: 0.4338, validation accuracy: 0.8036, validation loss: 0.6159\n",
      "100%|██████████| 313/313 [00:16<00:00, 18.65it/s, loss=0.4296]\n",
      "Epoch 11 | Training loss: 0.4296, validation accuracy: 0.8064, validation loss: 0.6029\n",
      "100%|██████████| 313/313 [00:16<00:00, 18.61it/s, loss=0.4273]\n",
      "Epoch 12 | Training loss: 0.4273, validation accuracy: 0.8073, validation loss: 0.6097\n",
      "100%|██████████| 313/313 [00:16<00:00, 18.49it/s, loss=0.4195]\n",
      "Epoch 13 | Training loss: 0.4195, validation accuracy: 0.8062, validation loss: 0.6159\n",
      "100%|██████████| 313/313 [00:16<00:00, 18.55it/s, loss=0.4215]\n",
      "Epoch 14 | Training loss: 0.4215, validation accuracy: 0.8059, validation loss: 0.6186\n",
      "100%|██████████| 313/313 [00:16<00:00, 18.59it/s, loss=0.4146]\n",
      "Epoch 15 | Training loss: 0.4146, validation accuracy: 0.8048, validation loss: 0.6298\n",
      "100%|██████████| 313/313 [00:16<00:00, 18.59it/s, loss=0.4113]\n",
      "Epoch 16 | Training loss: 0.4113, validation accuracy: 0.8114, validation loss: 0.5934\n",
      "100%|██████████| 313/313 [00:16<00:00, 18.59it/s, loss=0.4022]\n",
      "Epoch 17 | Training loss: 0.4022, validation accuracy: 0.8050, validation loss: 0.6171\n",
      "100%|██████████| 313/313 [00:16<00:00, 18.59it/s, loss=0.4008]\n",
      "Epoch 18 | Training loss: 0.4008, validation accuracy: 0.8060, validation loss: 0.6074\n",
      "100%|██████████| 313/313 [00:16<00:00, 18.49it/s, loss=0.3936]\n",
      "Epoch 19 | Training loss: 0.3936, validation accuracy: 0.8044, validation loss: 0.6261\n",
      "100%|██████████| 313/313 [00:16<00:00, 18.57it/s, loss=0.3902]\n",
      "Epoch 20 | Training loss: 0.3902, validation accuracy: 0.8042, validation loss: 0.6210\n",
      "100%|██████████| 313/313 [00:16<00:00, 18.65it/s, loss=0.3916]\n",
      "Epoch 21 | Training loss: 0.3916, validation accuracy: 0.8073, validation loss: 0.6282\n",
      "100%|██████████| 313/313 [00:16<00:00, 18.53it/s, loss=0.3802]\n",
      "Epoch 22 | Training loss: 0.3802, validation accuracy: 0.8053, validation loss: 0.6272\n",
      "100%|██████████| 313/313 [00:16<00:00, 18.61it/s, loss=0.3802]\n",
      "Epoch 23 | Training loss: 0.3802, validation accuracy: 0.8099, validation loss: 0.6126\n",
      "100%|██████████| 313/313 [00:16<00:00, 18.55it/s, loss=0.3785]\n",
      "Epoch 24 | Training loss: 0.3785, validation accuracy: 0.8129, validation loss: 0.6100\n",
      "100%|██████████| 313/313 [00:16<00:00, 18.67it/s, loss=0.3766]\n",
      "Epoch 25 | Training loss: 0.3766, validation accuracy: 0.8098, validation loss: 0.6122\n"
     ]
    }
   ],
   "source": [
    "epochs = 25\n",
    "\n",
    "for epoch in range(epochs):\n",
    "    train_loss = trainer.train_epoch(model, optimizer, dl[\"train\"])\n",
    "    optimizer.finish_epoch()\n",
    "    val_acc, val_loss = trainer.validation(model, dl[\"valid\"])\n",
    "    logger.log(\"Epoch\", epoch+1, \"|\", \n",
    "          f\"Training loss: {train_loss:.4f}, validation accuracy: {val_acc:.4f}, validation loss: {val_loss:.4f}\")"
   ]
  },
  {
   "cell_type": "code",
   "execution_count": 40,
   "id": "8f71a083-9be9-46a6-9171-61738b54e143",
   "metadata": {},
   "outputs": [
    {
     "name": "stdout",
     "output_type": "stream",
     "text": [
      "Train: (0.876525, 0.3425853633403778)\n",
      "Valid: (0.8098, 0.6122154071807862)\n"
     ]
    }
   ],
   "source": [
    "train_score = trainer.validation(model, dl[\"train\"])\n",
    "valid_score = trainer.validation(model, dl[\"valid\"])\n",
    "logger.log(\"Train:\", train_score)\n",
    "logger.log(\"Valid:\", valid_score)"
   ]
  },
  {
   "cell_type": "code",
   "execution_count": 41,
   "id": "b47c4321-b1af-4aa9-be43-5d91757bd5d2",
   "metadata": {},
   "outputs": [
    {
     "name": "stdout",
     "output_type": "stream",
     "text": [
      "RNA\n"
     ]
    }
   ],
   "source": [
    "optimizer.param_groups[0][\"method\"] = \"RNA\"\n",
    "logger.log(\"RNA\")\n",
    "model_acc = deepcopy(model)\n",
    "optimizer.accelerate()\n",
    "optimizer.store_parameters([model_acc.parameters()])"
   ]
  },
  {
   "cell_type": "code",
   "execution_count": 42,
   "id": "c6e6d044-79ae-4caa-bf4c-cd50176cd234",
   "metadata": {
    "tags": []
   },
   "outputs": [
    {
     "name": "stdout",
     "output_type": "stream",
     "text": [
      "Train: (0.87355, 0.36096229751110076)\n",
      "Valid: (0.8034, 0.6426097635269165)\n"
     ]
    }
   ],
   "source": [
    "model_acc.to(trainer.device)\n",
    "train_score = trainer.validation(model_acc, dl[\"train\"])\n",
    "valid_score = trainer.validation(model_acc, dl[\"valid\"])\n",
    "logger.log(\"Train:\", train_score)\n",
    "logger.log(\"Valid:\", valid_score)"
   ]
  },
  {
   "cell_type": "code",
   "execution_count": 43,
   "id": "aaad4ad1-0f4e-4514-8e3f-9fd30e09f7e5",
   "metadata": {},
   "outputs": [
    {
     "name": "stdout",
     "output_type": "stream",
     "text": [
      "RRE\n"
     ]
    }
   ],
   "source": [
    "optimizer.param_groups[0][\"method\"] = \"RRE\"\n",
    "logger.log(\"RRE\")\n",
    "model_acc = deepcopy(model)\n",
    "optimizer.accelerate()\n",
    "optimizer.store_parameters([model_acc.parameters()])"
   ]
  },
  {
   "cell_type": "code",
   "execution_count": 44,
   "id": "eba3c71a-ecf9-443f-a993-cd3bc0c06ae4",
   "metadata": {
    "tags": []
   },
   "outputs": [
    {
     "name": "stdout",
     "output_type": "stream",
     "text": [
      "Train: (0.86925, 0.3699721306800842)\n",
      "Valid: (0.8034, 0.6426091287612915)\n"
     ]
    }
   ],
   "source": [
    "model_acc.to(trainer.device)\n",
    "train_score = trainer.validation(model_acc, dl[\"train\"])\n",
    "valid_score = trainer.validation(model_acc, dl[\"valid\"])\n",
    "logger.log(\"Train:\", train_score)\n",
    "logger.log(\"Valid:\", valid_score)"
   ]
  },
  {
   "cell_type": "code",
   "execution_count": 45,
   "id": "82e6b5c4-8c10-49fd-9098-24db99510557",
   "metadata": {},
   "outputs": [],
   "source": [
    "optimizer.param_groups[0][\"lr\"] = 1e-3"
   ]
  },
  {
   "cell_type": "code",
   "execution_count": null,
   "id": "46d845b2-7f65-4256-bbc1-72dc61087c4c",
   "metadata": {},
   "outputs": [
    {
     "name": "stdout",
     "output_type": "stream",
     "text": [
      "100%|██████████| 313/313 [00:16<00:00, 18.89it/s, loss=0.3606]\n",
      "Epoch 1 | Training loss: 0.3606, validation accuracy: 0.8096, validation loss: 0.6133\n",
      "100%|██████████| 313/313 [00:16<00:00, 18.81it/s, loss=0.3525]\n",
      "Epoch 2 | Training loss: 0.3525, validation accuracy: 0.8102, validation loss: 0.6112\n",
      "100%|██████████| 313/313 [00:17<00:00, 18.06it/s, loss=0.3561]\n",
      "Epoch 3 | Training loss: 0.3561, validation accuracy: 0.8122, validation loss: 0.6078\n",
      " 44%|████▍     | 139/313 [00:07<00:08, 19.51it/s, loss=0.3539]"
     ]
    }
   ],
   "source": [
    "epochs = 25\n",
    "\n",
    "for epoch in range(epochs):\n",
    "    train_loss = trainer.train_epoch(model, optimizer, dl[\"train\"])\n",
    "    optimizer.finish_epoch()\n",
    "    val_acc, val_loss = trainer.validation(model, dl[\"valid\"])\n",
    "    logger.log(\"Epoch\", epoch+1, \"|\", \n",
    "          f\"Training loss: {train_loss:.4f}, validation accuracy: {val_acc:.4f}, validation loss: {val_loss:.4f}\")"
   ]
  },
  {
   "cell_type": "code",
   "execution_count": null,
   "id": "5bd01370-37cb-40e9-89b9-a28bc00653fc",
   "metadata": {},
   "outputs": [],
   "source": [
    "train_score = trainer.validation(model, dl[\"train\"])\n",
    "valid_score = trainer.validation(model, dl[\"valid\"])\n",
    "logger.log(\"Train:\", train_score)\n",
    "logger.log(\"Valid:\", valid_score)"
   ]
  },
  {
   "cell_type": "code",
   "execution_count": null,
   "id": "dabe6aef-c3cc-469f-b737-1ac87ff40870",
   "metadata": {},
   "outputs": [],
   "source": [
    "optimizer.param_groups[0][\"method\"] = \"RNA\"\n",
    "logger.log(\"RNA\")\n",
    "model_acc = deepcopy(model)\n",
    "optimizer.accelerate()\n",
    "optimizer.store_parameters([model_acc.parameters()])"
   ]
  },
  {
   "cell_type": "code",
   "execution_count": null,
   "id": "78fdcf45-4537-4ff0-89c4-9ee72ca27c5e",
   "metadata": {
    "tags": []
   },
   "outputs": [],
   "source": [
    "model_acc.to(trainer.device)\n",
    "train_score = trainer.validation(model_acc, dl[\"train\"])\n",
    "valid_score = trainer.validation(model_acc, dl[\"valid\"])\n",
    "logger.log(\"Train:\", train_score)\n",
    "logger.log(\"Valid:\", valid_score)"
   ]
  },
  {
   "cell_type": "code",
   "execution_count": null,
   "id": "2ff9139d-cfa8-477b-8faa-22d242f92f1f",
   "metadata": {},
   "outputs": [],
   "source": [
    "optimizer.param_groups[0][\"method\"] = \"RRE\"\n",
    "logger.log(\"RRE\")\n",
    "model_acc = deepcopy(model)\n",
    "optimizer.accelerate()\n",
    "optimizer.store_parameters([model_acc.parameters()])"
   ]
  },
  {
   "cell_type": "code",
   "execution_count": null,
   "id": "ce348e6b-0a11-4bed-b710-2a56d747a337",
   "metadata": {
    "tags": []
   },
   "outputs": [],
   "source": [
    "model_acc.to(trainer.device)\n",
    "train_score = trainer.validation(model_acc, dl[\"train\"])\n",
    "valid_score = trainer.validation(model_acc, dl[\"valid\"])\n",
    "logger.log(\"Train:\", train_score)\n",
    "logger.log(\"Valid:\", valid_score)"
   ]
  },
  {
   "cell_type": "code",
   "execution_count": null,
   "id": "d981e76f-b8e1-429d-9557-077f795e9f39",
   "metadata": {},
   "outputs": [],
   "source": []
  }
 ],
 "metadata": {
  "kernelspec": {
   "display_name": "Python 3",
   "language": "python",
   "name": "python3"
  },
  "language_info": {
   "codemirror_mode": {
    "name": "ipython",
    "version": 3
   },
   "file_extension": ".py",
   "mimetype": "text/x-python",
   "name": "python",
   "nbconvert_exporter": "python",
   "pygments_lexer": "ipython3",
   "version": "3.8.5"
  }
 },
 "nbformat": 4,
 "nbformat_minor": 5
}
