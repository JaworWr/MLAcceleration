{
 "cells": [
  {
   "cell_type": "code",
   "execution_count": 1,
   "id": "anonymous-tackle",
   "metadata": {},
   "outputs": [],
   "source": [
    "import torch\n",
    "from torch import nn\n",
    "from torchvision import models\n",
    "from copy import deepcopy\n",
    "import os\n",
    "\n",
    "from nn_extrapolation import AcceleratedSGD\n",
    "from nn_utils import *"
   ]
  },
  {
   "cell_type": "code",
   "execution_count": 2,
   "id": "through-stopping",
   "metadata": {},
   "outputs": [],
   "source": [
    "trainer = Trainer(\n",
    "    device=\"cuda:2\",\n",
    "    loss_fn=nn.NLLLoss(reduction=\"mean\"),\n",
    "    val_loss_fn=nn.NLLLoss(reduction=\"sum\"),\n",
    ")"
   ]
  },
  {
   "cell_type": "code",
   "execution_count": 3,
   "id": "suited-athletics",
   "metadata": {},
   "outputs": [
    {
     "name": "stdout",
     "output_type": "stream",
     "text": [
      "Files already downloaded and verified\n",
      "Files already downloaded and verified\n"
     ]
    }
   ],
   "source": [
    "dl = load_dataset(\n",
    "    dataset=\"CIFAR10\",\n",
    "    root=os.path.join(\"/tmp\", os.environ[\"USER\"], \"CIFAR\"),\n",
    "    augmentation=transforms.RandomAffine(10, scale=(0.9, 1.1), translate=(0.2, 0.2)),\n",
    "    validation_split=0.2,\n",
    "    batch_size=128,\n",
    "    num_workers=10,\n",
    ")"
   ]
  },
  {
   "cell_type": "code",
   "execution_count": 4,
   "id": "broke-filename",
   "metadata": {},
   "outputs": [
    {
     "data": {
      "text/plain": [
       "ResNet(\n",
       "  (conv1): Conv2d(3, 64, kernel_size=(7, 7), stride=(2, 2), padding=(3, 3), bias=False)\n",
       "  (bn1): BatchNorm2d(64, eps=1e-05, momentum=0.1, affine=True, track_running_stats=True)\n",
       "  (relu): ReLU(inplace=True)\n",
       "  (maxpool): MaxPool2d(kernel_size=3, stride=2, padding=1, dilation=1, ceil_mode=False)\n",
       "  (layer1): Sequential(\n",
       "    (0): BasicBlock(\n",
       "      (conv1): Conv2d(64, 64, kernel_size=(3, 3), stride=(1, 1), padding=(1, 1), bias=False)\n",
       "      (bn1): BatchNorm2d(64, eps=1e-05, momentum=0.1, affine=True, track_running_stats=True)\n",
       "      (relu): ReLU(inplace=True)\n",
       "      (conv2): Conv2d(64, 64, kernel_size=(3, 3), stride=(1, 1), padding=(1, 1), bias=False)\n",
       "      (bn2): BatchNorm2d(64, eps=1e-05, momentum=0.1, affine=True, track_running_stats=True)\n",
       "    )\n",
       "    (1): BasicBlock(\n",
       "      (conv1): Conv2d(64, 64, kernel_size=(3, 3), stride=(1, 1), padding=(1, 1), bias=False)\n",
       "      (bn1): BatchNorm2d(64, eps=1e-05, momentum=0.1, affine=True, track_running_stats=True)\n",
       "      (relu): ReLU(inplace=True)\n",
       "      (conv2): Conv2d(64, 64, kernel_size=(3, 3), stride=(1, 1), padding=(1, 1), bias=False)\n",
       "      (bn2): BatchNorm2d(64, eps=1e-05, momentum=0.1, affine=True, track_running_stats=True)\n",
       "    )\n",
       "  )\n",
       "  (layer2): Sequential(\n",
       "    (0): BasicBlock(\n",
       "      (conv1): Conv2d(64, 128, kernel_size=(3, 3), stride=(2, 2), padding=(1, 1), bias=False)\n",
       "      (bn1): BatchNorm2d(128, eps=1e-05, momentum=0.1, affine=True, track_running_stats=True)\n",
       "      (relu): ReLU(inplace=True)\n",
       "      (conv2): Conv2d(128, 128, kernel_size=(3, 3), stride=(1, 1), padding=(1, 1), bias=False)\n",
       "      (bn2): BatchNorm2d(128, eps=1e-05, momentum=0.1, affine=True, track_running_stats=True)\n",
       "      (downsample): Sequential(\n",
       "        (0): Conv2d(64, 128, kernel_size=(1, 1), stride=(2, 2), bias=False)\n",
       "        (1): BatchNorm2d(128, eps=1e-05, momentum=0.1, affine=True, track_running_stats=True)\n",
       "      )\n",
       "    )\n",
       "    (1): BasicBlock(\n",
       "      (conv1): Conv2d(128, 128, kernel_size=(3, 3), stride=(1, 1), padding=(1, 1), bias=False)\n",
       "      (bn1): BatchNorm2d(128, eps=1e-05, momentum=0.1, affine=True, track_running_stats=True)\n",
       "      (relu): ReLU(inplace=True)\n",
       "      (conv2): Conv2d(128, 128, kernel_size=(3, 3), stride=(1, 1), padding=(1, 1), bias=False)\n",
       "      (bn2): BatchNorm2d(128, eps=1e-05, momentum=0.1, affine=True, track_running_stats=True)\n",
       "    )\n",
       "  )\n",
       "  (layer3): Sequential(\n",
       "    (0): BasicBlock(\n",
       "      (conv1): Conv2d(128, 256, kernel_size=(3, 3), stride=(2, 2), padding=(1, 1), bias=False)\n",
       "      (bn1): BatchNorm2d(256, eps=1e-05, momentum=0.1, affine=True, track_running_stats=True)\n",
       "      (relu): ReLU(inplace=True)\n",
       "      (conv2): Conv2d(256, 256, kernel_size=(3, 3), stride=(1, 1), padding=(1, 1), bias=False)\n",
       "      (bn2): BatchNorm2d(256, eps=1e-05, momentum=0.1, affine=True, track_running_stats=True)\n",
       "      (downsample): Sequential(\n",
       "        (0): Conv2d(128, 256, kernel_size=(1, 1), stride=(2, 2), bias=False)\n",
       "        (1): BatchNorm2d(256, eps=1e-05, momentum=0.1, affine=True, track_running_stats=True)\n",
       "      )\n",
       "    )\n",
       "    (1): BasicBlock(\n",
       "      (conv1): Conv2d(256, 256, kernel_size=(3, 3), stride=(1, 1), padding=(1, 1), bias=False)\n",
       "      (bn1): BatchNorm2d(256, eps=1e-05, momentum=0.1, affine=True, track_running_stats=True)\n",
       "      (relu): ReLU(inplace=True)\n",
       "      (conv2): Conv2d(256, 256, kernel_size=(3, 3), stride=(1, 1), padding=(1, 1), bias=False)\n",
       "      (bn2): BatchNorm2d(256, eps=1e-05, momentum=0.1, affine=True, track_running_stats=True)\n",
       "    )\n",
       "  )\n",
       "  (layer4): Sequential(\n",
       "    (0): BasicBlock(\n",
       "      (conv1): Conv2d(256, 512, kernel_size=(3, 3), stride=(2, 2), padding=(1, 1), bias=False)\n",
       "      (bn1): BatchNorm2d(512, eps=1e-05, momentum=0.1, affine=True, track_running_stats=True)\n",
       "      (relu): ReLU(inplace=True)\n",
       "      (conv2): Conv2d(512, 512, kernel_size=(3, 3), stride=(1, 1), padding=(1, 1), bias=False)\n",
       "      (bn2): BatchNorm2d(512, eps=1e-05, momentum=0.1, affine=True, track_running_stats=True)\n",
       "      (downsample): Sequential(\n",
       "        (0): Conv2d(256, 512, kernel_size=(1, 1), stride=(2, 2), bias=False)\n",
       "        (1): BatchNorm2d(512, eps=1e-05, momentum=0.1, affine=True, track_running_stats=True)\n",
       "      )\n",
       "    )\n",
       "    (1): BasicBlock(\n",
       "      (conv1): Conv2d(512, 512, kernel_size=(3, 3), stride=(1, 1), padding=(1, 1), bias=False)\n",
       "      (bn1): BatchNorm2d(512, eps=1e-05, momentum=0.1, affine=True, track_running_stats=True)\n",
       "      (relu): ReLU(inplace=True)\n",
       "      (conv2): Conv2d(512, 512, kernel_size=(3, 3), stride=(1, 1), padding=(1, 1), bias=False)\n",
       "      (bn2): BatchNorm2d(512, eps=1e-05, momentum=0.1, affine=True, track_running_stats=True)\n",
       "    )\n",
       "  )\n",
       "  (avgpool): AdaptiveAvgPool2d(output_size=(1, 1))\n",
       "  (fc): Sequential(\n",
       "    (0): Linear(in_features=512, out_features=10, bias=True)\n",
       "    (1): LogSoftmax(dim=-1)\n",
       "  )\n",
       ")"
      ]
     },
     "execution_count": 4,
     "metadata": {},
     "output_type": "execute_result"
    }
   ],
   "source": [
    "model = models.resnet18(pretrained=False)\n",
    "model.fc = nn.Sequential(\n",
    "    nn.Linear(512, 10),\n",
    "    nn.LogSoftmax(-1)\n",
    ")\n",
    "model.to(trainer.device)"
   ]
  },
  {
   "cell_type": "code",
   "execution_count": 5,
   "id": "careful-suspect",
   "metadata": {},
   "outputs": [
    {
     "data": {
      "text/plain": [
       "(0.1021, 2.308509880065918)"
      ]
     },
     "execution_count": 5,
     "metadata": {},
     "output_type": "execute_result"
    }
   ],
   "source": [
    "trainer.validation(model, dl[\"valid\"])"
   ]
  },
  {
   "cell_type": "markdown",
   "id": "proud-routine",
   "metadata": {},
   "source": [
    "## No momentum"
   ]
  },
  {
   "cell_type": "code",
   "execution_count": 6,
   "id": "employed-tennis",
   "metadata": {},
   "outputs": [],
   "source": [
    "optimizer = AcceleratedSGD(model.parameters(), 1e-1, k=5, momentum=0, weight_decay=0, lambda_=1e-8)\n",
    "logger = Logger(\"resnet_log_augmentation_no_momentum-k=5.txt.no_resizing\")"
   ]
  },
  {
   "cell_type": "code",
   "execution_count": 7,
   "id": "fatty-pendant",
   "metadata": {},
   "outputs": [
    {
     "name": "stdout",
     "output_type": "stream",
     "text": [
      "100%|██████████| 313/313 [00:15<00:00, 19.79it/s, loss=1.9727]\n",
      "Epoch 1 | Training loss: 1.9727, validation accuracy: 0.4042, validation loss: 1.7272\n",
      "100%|██████████| 313/313 [00:15<00:00, 19.75it/s, loss=1.5302]\n",
      "Epoch 2 | Training loss: 1.5302, validation accuracy: 0.4483, validation loss: 1.6383\n",
      "100%|██████████| 313/313 [00:16<00:00, 19.54it/s, loss=1.3817]\n",
      "Epoch 3 | Training loss: 1.3817, validation accuracy: 0.4814, validation loss: 1.5466\n",
      "100%|██████████| 313/313 [00:16<00:00, 19.44it/s, loss=1.2727]\n",
      "Epoch 4 | Training loss: 1.2727, validation accuracy: 0.5681, validation loss: 1.2354\n",
      "100%|██████████| 313/313 [00:16<00:00, 19.56it/s, loss=1.1858]\n",
      "Epoch 5 | Training loss: 1.1858, validation accuracy: 0.5325, validation loss: 1.3798\n",
      "100%|██████████| 313/313 [00:16<00:00, 18.64it/s, loss=1.1245]\n",
      "Epoch 6 | Training loss: 1.1245, validation accuracy: 0.6204, validation loss: 1.0743\n",
      "100%|██████████| 313/313 [00:16<00:00, 18.58it/s, loss=1.0724]\n",
      "Epoch 7 | Training loss: 1.0724, validation accuracy: 0.6283, validation loss: 1.0727\n",
      "100%|██████████| 313/313 [00:16<00:00, 18.69it/s, loss=1.0298]\n",
      "Epoch 8 | Training loss: 1.0298, validation accuracy: 0.6297, validation loss: 1.0286\n",
      "100%|██████████| 313/313 [00:16<00:00, 18.78it/s, loss=0.9849]\n",
      "Epoch 9 | Training loss: 0.9849, validation accuracy: 0.6840, validation loss: 0.9014\n",
      "100%|██████████| 313/313 [00:16<00:00, 18.66it/s, loss=0.9495]\n",
      "Epoch 10 | Training loss: 0.9495, validation accuracy: 0.6805, validation loss: 0.9138\n",
      "100%|██████████| 313/313 [00:16<00:00, 18.53it/s, loss=0.9211]\n",
      "Epoch 11 | Training loss: 0.9211, validation accuracy: 0.6658, validation loss: 0.9634\n",
      "100%|██████████| 313/313 [00:16<00:00, 18.67it/s, loss=0.8920]\n",
      "Epoch 12 | Training loss: 0.8920, validation accuracy: 0.6772, validation loss: 0.9270\n",
      "100%|██████████| 313/313 [00:16<00:00, 18.63it/s, loss=0.8685]\n",
      "Epoch 13 | Training loss: 0.8685, validation accuracy: 0.6781, validation loss: 0.9399\n",
      "100%|██████████| 313/313 [00:16<00:00, 18.56it/s, loss=0.8383]\n",
      "Epoch 14 | Training loss: 0.8383, validation accuracy: 0.7165, validation loss: 0.8174\n",
      "100%|██████████| 313/313 [00:16<00:00, 18.77it/s, loss=0.8154]\n",
      "Epoch 15 | Training loss: 0.8154, validation accuracy: 0.7342, validation loss: 0.7678\n",
      "100%|██████████| 313/313 [00:16<00:00, 18.66it/s, loss=0.7893]\n",
      "Epoch 16 | Training loss: 0.7893, validation accuracy: 0.6815, validation loss: 0.9471\n",
      "100%|██████████| 313/313 [00:16<00:00, 18.73it/s, loss=0.7779]\n",
      "Epoch 17 | Training loss: 0.7779, validation accuracy: 0.7100, validation loss: 0.8506\n",
      "100%|██████████| 313/313 [00:16<00:00, 18.72it/s, loss=0.7538]\n",
      "Epoch 18 | Training loss: 0.7538, validation accuracy: 0.7158, validation loss: 0.8186\n",
      "100%|██████████| 313/313 [00:16<00:00, 18.86it/s, loss=0.7364]\n",
      "Epoch 19 | Training loss: 0.7364, validation accuracy: 0.6888, validation loss: 0.9451\n",
      "100%|██████████| 313/313 [00:16<00:00, 18.71it/s, loss=0.7230]\n",
      "Epoch 20 | Training loss: 0.7230, validation accuracy: 0.7323, validation loss: 0.7780\n",
      "100%|██████████| 313/313 [00:16<00:00, 18.82it/s, loss=0.7086]\n",
      "Epoch 21 | Training loss: 0.7086, validation accuracy: 0.7318, validation loss: 0.8227\n",
      "100%|██████████| 313/313 [00:17<00:00, 18.08it/s, loss=0.6930]\n",
      "Epoch 22 | Training loss: 0.6930, validation accuracy: 0.7248, validation loss: 0.8250\n",
      "100%|██████████| 313/313 [00:16<00:00, 18.87it/s, loss=0.6822]\n",
      "Epoch 23 | Training loss: 0.6822, validation accuracy: 0.7025, validation loss: 0.9034\n",
      "100%|██████████| 313/313 [00:16<00:00, 18.91it/s, loss=0.6632]\n",
      "Epoch 24 | Training loss: 0.6632, validation accuracy: 0.7479, validation loss: 0.7320\n",
      "100%|██████████| 313/313 [00:16<00:00, 18.93it/s, loss=0.6470]\n",
      "Epoch 25 | Training loss: 0.6470, validation accuracy: 0.7326, validation loss: 0.8145\n"
     ]
    }
   ],
   "source": [
    "epochs = 25\n",
    "\n",
    "for epoch in range(epochs):\n",
    "    train_loss = trainer.train_epoch(model, optimizer, dl[\"train\"])\n",
    "    optimizer.finish_epoch()\n",
    "    val_acc, val_loss = trainer.validation(model, dl[\"valid\"])\n",
    "    logger.log(\"Epoch\", epoch+1, \"|\", \n",
    "          f\"Training loss: {train_loss:.4f}, validation accuracy: {val_acc:.4f}, validation loss: {val_loss:.4f}\")"
   ]
  },
  {
   "cell_type": "code",
   "execution_count": 8,
   "id": "metallic-workstation",
   "metadata": {},
   "outputs": [
    {
     "name": "stdout",
     "output_type": "stream",
     "text": [
      "Train: (0.74585, 0.7224090738296509)\n",
      "Valid: (0.7326, 0.8144819259643554)\n"
     ]
    }
   ],
   "source": [
    "train_score = trainer.validation(model, dl[\"train\"])\n",
    "valid_score = trainer.validation(model, dl[\"valid\"])\n",
    "logger.log(\"Train:\", train_score)\n",
    "logger.log(\"Valid:\", valid_score)"
   ]
  },
  {
   "cell_type": "code",
   "execution_count": 9,
   "id": "pacific-thirty",
   "metadata": {},
   "outputs": [
    {
     "name": "stdout",
     "output_type": "stream",
     "text": [
      "RNA\n"
     ]
    }
   ],
   "source": [
    "optimizer.param_groups[0][\"method\"] = \"RNA\"\n",
    "logger.log(\"RNA\")\n",
    "model_acc = deepcopy(model)\n",
    "optimizer.accelerate()\n",
    "optimizer.store_parameters([model_acc.parameters()])"
   ]
  },
  {
   "cell_type": "code",
   "execution_count": 10,
   "id": "faced-tribe",
   "metadata": {
    "tags": []
   },
   "outputs": [
    {
     "name": "stdout",
     "output_type": "stream",
     "text": [
      "Train: (0.752675, 0.6807467199325562)\n",
      "Valid: (0.7387, 0.7605802110671998)\n"
     ]
    }
   ],
   "source": [
    "model_acc.to(trainer.device)\n",
    "train_score = trainer.validation(model_acc, dl[\"train\"])\n",
    "valid_score = trainer.validation(model_acc, dl[\"valid\"])\n",
    "logger.log(\"Train:\", train_score)\n",
    "logger.log(\"Valid:\", valid_score)"
   ]
  },
  {
   "cell_type": "code",
   "execution_count": 11,
   "id": "0a99436e-e283-4601-a51b-99ced3943b0b",
   "metadata": {},
   "outputs": [
    {
     "name": "stdout",
     "output_type": "stream",
     "text": [
      "RRE\n"
     ]
    }
   ],
   "source": [
    "optimizer.param_groups[0][\"method\"] = \"RRE\"\n",
    "logger.log(\"RRE\")\n",
    "model_acc = deepcopy(model)\n",
    "optimizer.accelerate()\n",
    "optimizer.store_parameters([model_acc.parameters()])"
   ]
  },
  {
   "cell_type": "code",
   "execution_count": 12,
   "id": "f44305f0-dc05-4bea-b6be-139178f10489",
   "metadata": {
    "tags": []
   },
   "outputs": [
    {
     "name": "stdout",
     "output_type": "stream",
     "text": [
      "Train: (0.752725, 0.6802547610282897)\n",
      "Valid: (0.7386, 0.7605391750335694)\n"
     ]
    }
   ],
   "source": [
    "model_acc.to(trainer.device)\n",
    "train_score = trainer.validation(model_acc, dl[\"train\"])\n",
    "valid_score = trainer.validation(model_acc, dl[\"valid\"])\n",
    "logger.log(\"Train:\", train_score)\n",
    "logger.log(\"Valid:\", valid_score)"
   ]
  },
  {
   "cell_type": "code",
   "execution_count": 13,
   "id": "regulated-globe",
   "metadata": {},
   "outputs": [],
   "source": [
    "optimizer.param_groups[0][\"lr\"] = 1e-2"
   ]
  },
  {
   "cell_type": "code",
   "execution_count": 14,
   "id": "4926f98f-aed8-43dc-9c6a-eb426240eadd",
   "metadata": {},
   "outputs": [
    {
     "name": "stdout",
     "output_type": "stream",
     "text": [
      "100%|██████████| 313/313 [00:16<00:00, 19.31it/s, loss=0.5646]\n",
      "Epoch 1 | Training loss: 0.5646, validation accuracy: 0.7816, validation loss: 0.6313\n",
      "100%|██████████| 313/313 [00:16<00:00, 19.29it/s, loss=0.5370]\n",
      "Epoch 2 | Training loss: 0.5370, validation accuracy: 0.7861, validation loss: 0.6241\n",
      "100%|██████████| 313/313 [00:17<00:00, 18.41it/s, loss=0.5222]\n",
      "Epoch 3 | Training loss: 0.5222, validation accuracy: 0.7860, validation loss: 0.6261\n",
      "100%|██████████| 313/313 [00:16<00:00, 18.73it/s, loss=0.5172]\n",
      "Epoch 4 | Training loss: 0.5172, validation accuracy: 0.7854, validation loss: 0.6284\n",
      "100%|██████████| 313/313 [00:16<00:00, 18.65it/s, loss=0.5074]\n",
      "Epoch 5 | Training loss: 0.5074, validation accuracy: 0.7876, validation loss: 0.6267\n",
      "100%|██████████| 313/313 [00:16<00:00, 18.83it/s, loss=0.5021]\n",
      "Epoch 6 | Training loss: 0.5021, validation accuracy: 0.7875, validation loss: 0.6294\n",
      "100%|██████████| 313/313 [00:16<00:00, 18.77it/s, loss=0.4979]\n",
      "Epoch 7 | Training loss: 0.4979, validation accuracy: 0.7894, validation loss: 0.6304\n",
      "100%|██████████| 313/313 [00:16<00:00, 18.86it/s, loss=0.4931]\n",
      "Epoch 8 | Training loss: 0.4931, validation accuracy: 0.7847, validation loss: 0.6361\n",
      "100%|██████████| 313/313 [00:16<00:00, 18.70it/s, loss=0.4884]\n",
      "Epoch 9 | Training loss: 0.4884, validation accuracy: 0.7873, validation loss: 0.6428\n",
      "100%|██████████| 313/313 [00:16<00:00, 18.89it/s, loss=0.4851]\n",
      "Epoch 10 | Training loss: 0.4851, validation accuracy: 0.7860, validation loss: 0.6371\n",
      "100%|██████████| 313/313 [00:16<00:00, 18.88it/s, loss=0.4798]\n",
      "Epoch 11 | Training loss: 0.4798, validation accuracy: 0.7876, validation loss: 0.6324\n",
      "100%|██████████| 313/313 [00:16<00:00, 18.88it/s, loss=0.4789]\n",
      "Epoch 12 | Training loss: 0.4789, validation accuracy: 0.7899, validation loss: 0.6304\n",
      "100%|██████████| 313/313 [00:16<00:00, 18.98it/s, loss=0.4720]\n",
      "Epoch 13 | Training loss: 0.4720, validation accuracy: 0.7878, validation loss: 0.6339\n",
      "100%|██████████| 313/313 [00:16<00:00, 19.02it/s, loss=0.4720]\n",
      "Epoch 14 | Training loss: 0.4720, validation accuracy: 0.7858, validation loss: 0.6380\n",
      "100%|██████████| 313/313 [00:16<00:00, 18.89it/s, loss=0.4644]\n",
      "Epoch 15 | Training loss: 0.4644, validation accuracy: 0.7917, validation loss: 0.6362\n",
      "100%|██████████| 313/313 [00:16<00:00, 18.95it/s, loss=0.4629]\n",
      "Epoch 16 | Training loss: 0.4629, validation accuracy: 0.7897, validation loss: 0.6324\n",
      "100%|██████████| 313/313 [00:16<00:00, 18.94it/s, loss=0.4609]\n",
      "Epoch 17 | Training loss: 0.4609, validation accuracy: 0.7867, validation loss: 0.6480\n",
      "100%|██████████| 313/313 [00:16<00:00, 18.88it/s, loss=0.4566]\n",
      "Epoch 18 | Training loss: 0.4566, validation accuracy: 0.7896, validation loss: 0.6427\n",
      "100%|██████████| 313/313 [00:16<00:00, 18.98it/s, loss=0.4519]\n",
      "Epoch 19 | Training loss: 0.4519, validation accuracy: 0.7876, validation loss: 0.6572\n",
      "100%|██████████| 313/313 [00:16<00:00, 18.93it/s, loss=0.4479]\n",
      "Epoch 20 | Training loss: 0.4479, validation accuracy: 0.7879, validation loss: 0.6568\n",
      "100%|██████████| 313/313 [00:16<00:00, 18.79it/s, loss=0.4479]\n",
      "Epoch 21 | Training loss: 0.4479, validation accuracy: 0.7918, validation loss: 0.6457\n",
      "100%|██████████| 313/313 [00:17<00:00, 18.35it/s, loss=0.4426]\n",
      "Epoch 22 | Training loss: 0.4426, validation accuracy: 0.7910, validation loss: 0.6477\n",
      "100%|██████████| 313/313 [00:16<00:00, 18.96it/s, loss=0.4407]\n",
      "Epoch 23 | Training loss: 0.4407, validation accuracy: 0.7914, validation loss: 0.6448\n",
      "100%|██████████| 313/313 [00:16<00:00, 19.03it/s, loss=0.4394]\n",
      "Epoch 24 | Training loss: 0.4394, validation accuracy: 0.7906, validation loss: 0.6608\n",
      "100%|██████████| 313/313 [00:16<00:00, 18.89it/s, loss=0.4332]\n",
      "Epoch 25 | Training loss: 0.4332, validation accuracy: 0.7869, validation loss: 0.6547\n"
     ]
    }
   ],
   "source": [
    "epochs = 25\n",
    "\n",
    "for epoch in range(epochs):\n",
    "    train_loss = trainer.train_epoch(model, optimizer, dl[\"train\"])\n",
    "    optimizer.finish_epoch()\n",
    "    val_acc, val_loss = trainer.validation(model, dl[\"valid\"])\n",
    "    logger.log(\"Epoch\", epoch+1, \"|\", \n",
    "          f\"Training loss: {train_loss:.4f}, validation accuracy: {val_acc:.4f}, validation loss: {val_loss:.4f}\")"
   ]
  },
  {
   "cell_type": "code",
   "execution_count": 15,
   "id": "ef0d1930-865b-43a8-9e38-c4d96f0af7b0",
   "metadata": {},
   "outputs": [
    {
     "name": "stdout",
     "output_type": "stream",
     "text": [
      "Train: (0.8543, 0.40428740539550784)\n",
      "Valid: (0.7869, 0.6547213036537171)\n"
     ]
    }
   ],
   "source": [
    "train_score = trainer.validation(model, dl[\"train\"])\n",
    "valid_score = trainer.validation(model, dl[\"valid\"])\n",
    "logger.log(\"Train:\", train_score)\n",
    "logger.log(\"Valid:\", valid_score)"
   ]
  },
  {
   "cell_type": "code",
   "execution_count": 16,
   "id": "bdd5482c-7e9e-43e1-8c8e-449ae33b2875",
   "metadata": {},
   "outputs": [
    {
     "name": "stdout",
     "output_type": "stream",
     "text": [
      "RNA\n"
     ]
    }
   ],
   "source": [
    "optimizer.param_groups[0][\"method\"] = \"RNA\"\n",
    "logger.log(\"RNA\")\n",
    "model_acc = deepcopy(model)\n",
    "optimizer.accelerate()\n",
    "optimizer.store_parameters([model_acc.parameters()])"
   ]
  },
  {
   "cell_type": "code",
   "execution_count": 17,
   "id": "d647e197-1782-45e4-84f1-83bc9672b9fd",
   "metadata": {
    "tags": []
   },
   "outputs": [
    {
     "name": "stdout",
     "output_type": "stream",
     "text": [
      "Train: (0.8566, 0.40107156543731687)\n",
      "Valid: (0.7912, 0.6553733768463135)\n"
     ]
    }
   ],
   "source": [
    "model_acc.to(trainer.device)\n",
    "train_score = trainer.validation(model_acc, dl[\"train\"])\n",
    "valid_score = trainer.validation(model_acc, dl[\"valid\"])\n",
    "logger.log(\"Train:\", train_score)\n",
    "logger.log(\"Valid:\", valid_score)"
   ]
  },
  {
   "cell_type": "code",
   "execution_count": 18,
   "id": "896d8044-691c-42a9-91c1-006274b52c2e",
   "metadata": {},
   "outputs": [
    {
     "name": "stdout",
     "output_type": "stream",
     "text": [
      "RRE\n"
     ]
    }
   ],
   "source": [
    "optimizer.param_groups[0][\"method\"] = \"RRE\"\n",
    "logger.log(\"RRE\")\n",
    "model_acc = deepcopy(model)\n",
    "optimizer.accelerate()\n",
    "optimizer.store_parameters([model_acc.parameters()])"
   ]
  },
  {
   "cell_type": "code",
   "execution_count": 19,
   "id": "a9b512a3-5d7f-4d25-9785-681534162bae",
   "metadata": {
    "tags": []
   },
   "outputs": [
    {
     "name": "stdout",
     "output_type": "stream",
     "text": [
      "Train: (0.85745, 0.3997431619167328)\n",
      "Valid: (0.7912, 0.655369130897522)\n"
     ]
    }
   ],
   "source": [
    "model_acc.to(trainer.device)\n",
    "train_score = trainer.validation(model_acc, dl[\"train\"])\n",
    "valid_score = trainer.validation(model_acc, dl[\"valid\"])\n",
    "logger.log(\"Train:\", train_score)\n",
    "logger.log(\"Valid:\", valid_score)"
   ]
  },
  {
   "cell_type": "code",
   "execution_count": 20,
   "id": "respected-console",
   "metadata": {},
   "outputs": [],
   "source": [
    "optimizer.param_groups[0][\"lr\"] = 1e-3"
   ]
  },
  {
   "cell_type": "code",
   "execution_count": 21,
   "id": "62375dd1-2950-4c7d-94cc-97077713c51b",
   "metadata": {},
   "outputs": [
    {
     "name": "stdout",
     "output_type": "stream",
     "text": [
      "100%|██████████| 313/313 [00:16<00:00, 19.49it/s, loss=0.4252]\n",
      "Epoch 1 | Training loss: 0.4252, validation accuracy: 0.7927, validation loss: 0.6420\n",
      "100%|██████████| 313/313 [00:16<00:00, 19.46it/s, loss=0.4226]\n",
      "Epoch 2 | Training loss: 0.4226, validation accuracy: 0.7920, validation loss: 0.6523\n",
      "100%|██████████| 313/313 [00:16<00:00, 18.45it/s, loss=0.4178]\n",
      "Epoch 3 | Training loss: 0.4178, validation accuracy: 0.7928, validation loss: 0.6475\n",
      "100%|██████████| 313/313 [00:16<00:00, 18.71it/s, loss=0.4178]\n",
      "Epoch 4 | Training loss: 0.4178, validation accuracy: 0.7936, validation loss: 0.6506\n",
      "100%|██████████| 313/313 [00:16<00:00, 18.89it/s, loss=0.4149]\n",
      "Epoch 5 | Training loss: 0.4149, validation accuracy: 0.7918, validation loss: 0.6502\n",
      "100%|██████████| 313/313 [00:16<00:00, 18.76it/s, loss=0.4171]\n",
      "Epoch 6 | Training loss: 0.4171, validation accuracy: 0.7939, validation loss: 0.6434\n",
      "100%|██████████| 313/313 [00:16<00:00, 18.75it/s, loss=0.4116]\n",
      "Epoch 7 | Training loss: 0.4116, validation accuracy: 0.7928, validation loss: 0.6493\n",
      "100%|██████████| 313/313 [00:16<00:00, 18.92it/s, loss=0.4099]\n",
      "Epoch 8 | Training loss: 0.4099, validation accuracy: 0.7950, validation loss: 0.6437\n",
      "100%|██████████| 313/313 [00:16<00:00, 18.77it/s, loss=0.4123]\n",
      "Epoch 9 | Training loss: 0.4123, validation accuracy: 0.7939, validation loss: 0.6494\n",
      "100%|██████████| 313/313 [00:16<00:00, 18.84it/s, loss=0.4196]\n",
      "Epoch 10 | Training loss: 0.4196, validation accuracy: 0.7938, validation loss: 0.6448\n",
      "100%|██████████| 313/313 [00:16<00:00, 18.93it/s, loss=0.4090]\n",
      "Epoch 11 | Training loss: 0.4090, validation accuracy: 0.7950, validation loss: 0.6446\n",
      "100%|██████████| 313/313 [00:16<00:00, 18.77it/s, loss=0.4124]\n",
      "Epoch 12 | Training loss: 0.4124, validation accuracy: 0.7928, validation loss: 0.6478\n",
      "100%|██████████| 313/313 [00:16<00:00, 18.95it/s, loss=0.4079]\n",
      "Epoch 13 | Training loss: 0.4079, validation accuracy: 0.7946, validation loss: 0.6497\n",
      "100%|██████████| 313/313 [00:16<00:00, 18.92it/s, loss=0.4157]\n",
      "Epoch 14 | Training loss: 0.4157, validation accuracy: 0.7944, validation loss: 0.6448\n",
      "100%|██████████| 313/313 [00:16<00:00, 18.90it/s, loss=0.4107]\n",
      "Epoch 15 | Training loss: 0.4107, validation accuracy: 0.7930, validation loss: 0.6525\n",
      "100%|██████████| 313/313 [00:16<00:00, 18.95it/s, loss=0.4093]\n",
      "Epoch 16 | Training loss: 0.4093, validation accuracy: 0.7943, validation loss: 0.6470\n",
      "100%|██████████| 313/313 [00:16<00:00, 18.95it/s, loss=0.4094]\n",
      "Epoch 17 | Training loss: 0.4094, validation accuracy: 0.7932, validation loss: 0.6483\n",
      "100%|██████████| 313/313 [00:16<00:00, 18.90it/s, loss=0.4089]\n",
      "Epoch 18 | Training loss: 0.4089, validation accuracy: 0.7936, validation loss: 0.6528\n",
      "100%|██████████| 313/313 [00:16<00:00, 18.99it/s, loss=0.4094]\n",
      "Epoch 19 | Training loss: 0.4094, validation accuracy: 0.7947, validation loss: 0.6484\n",
      "100%|██████████| 313/313 [00:16<00:00, 19.03it/s, loss=0.4077]\n",
      "Epoch 20 | Training loss: 0.4077, validation accuracy: 0.7944, validation loss: 0.6505\n",
      "100%|██████████| 313/313 [00:16<00:00, 18.55it/s, loss=0.4058]\n",
      "Epoch 21 | Training loss: 0.4058, validation accuracy: 0.7939, validation loss: 0.6513\n",
      "100%|██████████| 313/313 [00:16<00:00, 18.51it/s, loss=0.4096]\n",
      "Epoch 22 | Training loss: 0.4096, validation accuracy: 0.7933, validation loss: 0.6513\n",
      "100%|██████████| 313/313 [00:16<00:00, 18.92it/s, loss=0.4066]\n",
      "Epoch 23 | Training loss: 0.4066, validation accuracy: 0.7937, validation loss: 0.6508\n",
      "100%|██████████| 313/313 [00:16<00:00, 18.95it/s, loss=0.4060]\n",
      "Epoch 24 | Training loss: 0.4060, validation accuracy: 0.7937, validation loss: 0.6558\n",
      "100%|██████████| 313/313 [00:16<00:00, 19.11it/s, loss=0.4101]\n",
      "Epoch 25 | Training loss: 0.4101, validation accuracy: 0.7941, validation loss: 0.6516\n"
     ]
    }
   ],
   "source": [
    "epochs = 25\n",
    "\n",
    "for epoch in range(epochs):\n",
    "    train_loss = trainer.train_epoch(model, optimizer, dl[\"train\"])\n",
    "    optimizer.finish_epoch()\n",
    "    val_acc, val_loss = trainer.validation(model, dl[\"valid\"])\n",
    "    logger.log(\"Epoch\", epoch+1, \"|\", \n",
    "          f\"Training loss: {train_loss:.4f}, validation accuracy: {val_acc:.4f}, validation loss: {val_loss:.4f}\")"
   ]
  },
  {
   "cell_type": "code",
   "execution_count": 22,
   "id": "27806692-f100-465a-bfe8-a4be64e36d88",
   "metadata": {},
   "outputs": [
    {
     "name": "stdout",
     "output_type": "stream",
     "text": [
      "Train: (0.864625, 0.37954831800460814)\n",
      "Valid: (0.7941, 0.6516498949050903)\n"
     ]
    }
   ],
   "source": [
    "train_score = trainer.validation(model, dl[\"train\"])\n",
    "valid_score = trainer.validation(model, dl[\"valid\"])\n",
    "logger.log(\"Train:\", train_score)\n",
    "logger.log(\"Valid:\", valid_score)"
   ]
  },
  {
   "cell_type": "code",
   "execution_count": 23,
   "id": "0830e6e8-7291-495f-9a82-9a02f53004fd",
   "metadata": {},
   "outputs": [
    {
     "name": "stdout",
     "output_type": "stream",
     "text": [
      "RNA\n"
     ]
    }
   ],
   "source": [
    "optimizer.param_groups[0][\"method\"] = \"RNA\"\n",
    "logger.log(\"RNA\")\n",
    "model_acc = deepcopy(model)\n",
    "optimizer.accelerate()\n",
    "optimizer.store_parameters([model_acc.parameters()])"
   ]
  },
  {
   "cell_type": "code",
   "execution_count": 24,
   "id": "f06d768e-5785-4c03-93da-89d45a2c8f6e",
   "metadata": {
    "tags": []
   },
   "outputs": [
    {
     "name": "stdout",
     "output_type": "stream",
     "text": [
      "Train: (0.862875, 0.3849262727737427)\n",
      "Valid: (0.7937, 0.6520042837142944)\n"
     ]
    }
   ],
   "source": [
    "model_acc.to(trainer.device)\n",
    "train_score = trainer.validation(model_acc, dl[\"train\"])\n",
    "valid_score = trainer.validation(model_acc, dl[\"valid\"])\n",
    "logger.log(\"Train:\", train_score)\n",
    "logger.log(\"Valid:\", valid_score)"
   ]
  },
  {
   "cell_type": "code",
   "execution_count": 25,
   "id": "6e2fa71e-2253-470f-9e8f-34904aefe3af",
   "metadata": {},
   "outputs": [
    {
     "name": "stdout",
     "output_type": "stream",
     "text": [
      "RRE\n"
     ]
    }
   ],
   "source": [
    "optimizer.param_groups[0][\"method\"] = \"RRE\"\n",
    "logger.log(\"RRE\")\n",
    "model_acc = deepcopy(model)\n",
    "optimizer.accelerate()\n",
    "optimizer.store_parameters([model_acc.parameters()])"
   ]
  },
  {
   "cell_type": "code",
   "execution_count": 26,
   "id": "03bfdb39-45d6-4d77-9f6a-6885227b9c08",
   "metadata": {
    "tags": []
   },
   "outputs": [
    {
     "name": "stdout",
     "output_type": "stream",
     "text": [
      "Train: (0.86555, 0.3789937041282654)\n",
      "Valid: (0.7937, 0.6520039552688599)\n"
     ]
    }
   ],
   "source": [
    "model_acc.to(trainer.device)\n",
    "train_score = trainer.validation(model_acc, dl[\"train\"])\n",
    "valid_score = trainer.validation(model_acc, dl[\"valid\"])\n",
    "logger.log(\"Train:\", train_score)\n",
    "logger.log(\"Valid:\", valid_score)"
   ]
  },
  {
   "cell_type": "markdown",
   "id": "careful-basin",
   "metadata": {},
   "source": [
    "## Momentum"
   ]
  },
  {
   "cell_type": "code",
   "execution_count": 27,
   "id": "front-train",
   "metadata": {},
   "outputs": [
    {
     "data": {
      "text/plain": [
       "ResNet(\n",
       "  (conv1): Conv2d(3, 64, kernel_size=(7, 7), stride=(2, 2), padding=(3, 3), bias=False)\n",
       "  (bn1): BatchNorm2d(64, eps=1e-05, momentum=0.1, affine=True, track_running_stats=True)\n",
       "  (relu): ReLU(inplace=True)\n",
       "  (maxpool): MaxPool2d(kernel_size=3, stride=2, padding=1, dilation=1, ceil_mode=False)\n",
       "  (layer1): Sequential(\n",
       "    (0): BasicBlock(\n",
       "      (conv1): Conv2d(64, 64, kernel_size=(3, 3), stride=(1, 1), padding=(1, 1), bias=False)\n",
       "      (bn1): BatchNorm2d(64, eps=1e-05, momentum=0.1, affine=True, track_running_stats=True)\n",
       "      (relu): ReLU(inplace=True)\n",
       "      (conv2): Conv2d(64, 64, kernel_size=(3, 3), stride=(1, 1), padding=(1, 1), bias=False)\n",
       "      (bn2): BatchNorm2d(64, eps=1e-05, momentum=0.1, affine=True, track_running_stats=True)\n",
       "    )\n",
       "    (1): BasicBlock(\n",
       "      (conv1): Conv2d(64, 64, kernel_size=(3, 3), stride=(1, 1), padding=(1, 1), bias=False)\n",
       "      (bn1): BatchNorm2d(64, eps=1e-05, momentum=0.1, affine=True, track_running_stats=True)\n",
       "      (relu): ReLU(inplace=True)\n",
       "      (conv2): Conv2d(64, 64, kernel_size=(3, 3), stride=(1, 1), padding=(1, 1), bias=False)\n",
       "      (bn2): BatchNorm2d(64, eps=1e-05, momentum=0.1, affine=True, track_running_stats=True)\n",
       "    )\n",
       "  )\n",
       "  (layer2): Sequential(\n",
       "    (0): BasicBlock(\n",
       "      (conv1): Conv2d(64, 128, kernel_size=(3, 3), stride=(2, 2), padding=(1, 1), bias=False)\n",
       "      (bn1): BatchNorm2d(128, eps=1e-05, momentum=0.1, affine=True, track_running_stats=True)\n",
       "      (relu): ReLU(inplace=True)\n",
       "      (conv2): Conv2d(128, 128, kernel_size=(3, 3), stride=(1, 1), padding=(1, 1), bias=False)\n",
       "      (bn2): BatchNorm2d(128, eps=1e-05, momentum=0.1, affine=True, track_running_stats=True)\n",
       "      (downsample): Sequential(\n",
       "        (0): Conv2d(64, 128, kernel_size=(1, 1), stride=(2, 2), bias=False)\n",
       "        (1): BatchNorm2d(128, eps=1e-05, momentum=0.1, affine=True, track_running_stats=True)\n",
       "      )\n",
       "    )\n",
       "    (1): BasicBlock(\n",
       "      (conv1): Conv2d(128, 128, kernel_size=(3, 3), stride=(1, 1), padding=(1, 1), bias=False)\n",
       "      (bn1): BatchNorm2d(128, eps=1e-05, momentum=0.1, affine=True, track_running_stats=True)\n",
       "      (relu): ReLU(inplace=True)\n",
       "      (conv2): Conv2d(128, 128, kernel_size=(3, 3), stride=(1, 1), padding=(1, 1), bias=False)\n",
       "      (bn2): BatchNorm2d(128, eps=1e-05, momentum=0.1, affine=True, track_running_stats=True)\n",
       "    )\n",
       "  )\n",
       "  (layer3): Sequential(\n",
       "    (0): BasicBlock(\n",
       "      (conv1): Conv2d(128, 256, kernel_size=(3, 3), stride=(2, 2), padding=(1, 1), bias=False)\n",
       "      (bn1): BatchNorm2d(256, eps=1e-05, momentum=0.1, affine=True, track_running_stats=True)\n",
       "      (relu): ReLU(inplace=True)\n",
       "      (conv2): Conv2d(256, 256, kernel_size=(3, 3), stride=(1, 1), padding=(1, 1), bias=False)\n",
       "      (bn2): BatchNorm2d(256, eps=1e-05, momentum=0.1, affine=True, track_running_stats=True)\n",
       "      (downsample): Sequential(\n",
       "        (0): Conv2d(128, 256, kernel_size=(1, 1), stride=(2, 2), bias=False)\n",
       "        (1): BatchNorm2d(256, eps=1e-05, momentum=0.1, affine=True, track_running_stats=True)\n",
       "      )\n",
       "    )\n",
       "    (1): BasicBlock(\n",
       "      (conv1): Conv2d(256, 256, kernel_size=(3, 3), stride=(1, 1), padding=(1, 1), bias=False)\n",
       "      (bn1): BatchNorm2d(256, eps=1e-05, momentum=0.1, affine=True, track_running_stats=True)\n",
       "      (relu): ReLU(inplace=True)\n",
       "      (conv2): Conv2d(256, 256, kernel_size=(3, 3), stride=(1, 1), padding=(1, 1), bias=False)\n",
       "      (bn2): BatchNorm2d(256, eps=1e-05, momentum=0.1, affine=True, track_running_stats=True)\n",
       "    )\n",
       "  )\n",
       "  (layer4): Sequential(\n",
       "    (0): BasicBlock(\n",
       "      (conv1): Conv2d(256, 512, kernel_size=(3, 3), stride=(2, 2), padding=(1, 1), bias=False)\n",
       "      (bn1): BatchNorm2d(512, eps=1e-05, momentum=0.1, affine=True, track_running_stats=True)\n",
       "      (relu): ReLU(inplace=True)\n",
       "      (conv2): Conv2d(512, 512, kernel_size=(3, 3), stride=(1, 1), padding=(1, 1), bias=False)\n",
       "      (bn2): BatchNorm2d(512, eps=1e-05, momentum=0.1, affine=True, track_running_stats=True)\n",
       "      (downsample): Sequential(\n",
       "        (0): Conv2d(256, 512, kernel_size=(1, 1), stride=(2, 2), bias=False)\n",
       "        (1): BatchNorm2d(512, eps=1e-05, momentum=0.1, affine=True, track_running_stats=True)\n",
       "      )\n",
       "    )\n",
       "    (1): BasicBlock(\n",
       "      (conv1): Conv2d(512, 512, kernel_size=(3, 3), stride=(1, 1), padding=(1, 1), bias=False)\n",
       "      (bn1): BatchNorm2d(512, eps=1e-05, momentum=0.1, affine=True, track_running_stats=True)\n",
       "      (relu): ReLU(inplace=True)\n",
       "      (conv2): Conv2d(512, 512, kernel_size=(3, 3), stride=(1, 1), padding=(1, 1), bias=False)\n",
       "      (bn2): BatchNorm2d(512, eps=1e-05, momentum=0.1, affine=True, track_running_stats=True)\n",
       "    )\n",
       "  )\n",
       "  (avgpool): AdaptiveAvgPool2d(output_size=(1, 1))\n",
       "  (fc): Sequential(\n",
       "    (0): Linear(in_features=512, out_features=10, bias=True)\n",
       "    (1): LogSoftmax(dim=-1)\n",
       "  )\n",
       ")"
      ]
     },
     "execution_count": 27,
     "metadata": {},
     "output_type": "execute_result"
    }
   ],
   "source": [
    "model = models.resnet18(pretrained=False)\n",
    "model.fc = nn.Sequential(\n",
    "    nn.Linear(512, 10),\n",
    "    nn.LogSoftmax(-1)\n",
    ")\n",
    "model.to(trainer.device)"
   ]
  },
  {
   "cell_type": "code",
   "execution_count": 28,
   "id": "ead40ba4-397d-4405-bad5-8348857018a2",
   "metadata": {},
   "outputs": [
    {
     "data": {
      "text/plain": [
       "(0.1023, 2.3524650859832765)"
      ]
     },
     "execution_count": 28,
     "metadata": {},
     "output_type": "execute_result"
    }
   ],
   "source": [
    "trainer.validation(model, dl[\"valid\"])"
   ]
  },
  {
   "cell_type": "code",
   "execution_count": 29,
   "id": "sweet-judge",
   "metadata": {},
   "outputs": [],
   "source": [
    "optimizer = AcceleratedSGD(model.parameters(), 1e-1, k=5, momentum=0.9, weight_decay=1e-5, lambda_=1e-8)\n",
    "logger = Logger(\"resnet_log_augmentation-k=5.txt.no_resizing\")"
   ]
  },
  {
   "cell_type": "code",
   "execution_count": 30,
   "id": "6ccec233-bb10-416e-a52b-f51d1cf7d84f",
   "metadata": {},
   "outputs": [
    {
     "name": "stdout",
     "output_type": "stream",
     "text": [
      "100%|██████████| 313/313 [00:16<00:00, 19.08it/s, loss=2.2447]\n",
      "Epoch 1 | Training loss: 2.2447, validation accuracy: 0.3455, validation loss: 1.8584\n",
      "100%|██████████| 313/313 [00:16<00:00, 18.98it/s, loss=1.6953]\n",
      "Epoch 2 | Training loss: 1.6953, validation accuracy: 0.4205, validation loss: 1.5827\n",
      "100%|██████████| 313/313 [00:17<00:00, 18.04it/s, loss=1.5429]\n",
      "Epoch 3 | Training loss: 1.5429, validation accuracy: 0.4701, validation loss: 1.4255\n",
      "100%|██████████| 313/313 [00:17<00:00, 18.20it/s, loss=1.4211]\n",
      "Epoch 4 | Training loss: 1.4211, validation accuracy: 0.5176, validation loss: 1.3484\n",
      "100%|██████████| 313/313 [00:17<00:00, 18.18it/s, loss=1.3248]\n",
      "Epoch 5 | Training loss: 1.3248, validation accuracy: 0.5567, validation loss: 1.2389\n",
      "100%|██████████| 313/313 [00:17<00:00, 18.13it/s, loss=1.2586]\n",
      "Epoch 6 | Training loss: 1.2586, validation accuracy: 0.5738, validation loss: 1.1959\n",
      "100%|██████████| 313/313 [00:17<00:00, 18.03it/s, loss=1.2068]\n",
      "Epoch 7 | Training loss: 1.2068, validation accuracy: 0.5808, validation loss: 1.1697\n",
      "100%|██████████| 313/313 [00:17<00:00, 18.23it/s, loss=1.1337]\n",
      "Epoch 8 | Training loss: 1.1337, validation accuracy: 0.6263, validation loss: 1.0652\n",
      "100%|██████████| 313/313 [00:17<00:00, 18.28it/s, loss=1.0798]\n",
      "Epoch 9 | Training loss: 1.0798, validation accuracy: 0.6187, validation loss: 1.0813\n",
      "100%|██████████| 313/313 [00:17<00:00, 18.32it/s, loss=1.0298]\n",
      "Epoch 10 | Training loss: 1.0298, validation accuracy: 0.6476, validation loss: 1.0637\n",
      "100%|██████████| 313/313 [00:17<00:00, 18.39it/s, loss=0.9898]\n",
      "Epoch 11 | Training loss: 0.9898, validation accuracy: 0.6609, validation loss: 0.9815\n",
      "100%|██████████| 313/313 [00:17<00:00, 18.17it/s, loss=0.9466]\n",
      "Epoch 12 | Training loss: 0.9466, validation accuracy: 0.6897, validation loss: 0.8983\n",
      "100%|██████████| 313/313 [00:17<00:00, 18.38it/s, loss=0.9143]\n",
      "Epoch 13 | Training loss: 0.9143, validation accuracy: 0.7125, validation loss: 0.8402\n",
      "100%|██████████| 313/313 [00:16<00:00, 18.49it/s, loss=0.8841]\n",
      "Epoch 14 | Training loss: 0.8841, validation accuracy: 0.6840, validation loss: 0.9328\n",
      "100%|██████████| 313/313 [00:17<00:00, 18.31it/s, loss=0.8590]\n",
      "Epoch 15 | Training loss: 0.8590, validation accuracy: 0.7068, validation loss: 0.8528\n",
      "100%|██████████| 313/313 [00:16<00:00, 18.51it/s, loss=0.8331]\n",
      "Epoch 16 | Training loss: 0.8331, validation accuracy: 0.7319, validation loss: 0.7864\n",
      "100%|██████████| 313/313 [00:17<00:00, 18.30it/s, loss=0.8054]\n",
      "Epoch 17 | Training loss: 0.8054, validation accuracy: 0.7314, validation loss: 0.8225\n",
      "100%|██████████| 313/313 [00:16<00:00, 18.48it/s, loss=0.7824]\n",
      "Epoch 18 | Training loss: 0.7824, validation accuracy: 0.7473, validation loss: 0.7490\n",
      "100%|██████████| 313/313 [00:16<00:00, 18.50it/s, loss=0.7672]\n",
      "Epoch 19 | Training loss: 0.7672, validation accuracy: 0.7293, validation loss: 0.7989\n",
      "100%|██████████| 313/313 [00:17<00:00, 18.31it/s, loss=0.7506]\n",
      "Epoch 20 | Training loss: 0.7506, validation accuracy: 0.7534, validation loss: 0.7514\n",
      "100%|██████████| 313/313 [00:17<00:00, 17.86it/s, loss=0.7228]\n",
      "Epoch 21 | Training loss: 0.7228, validation accuracy: 0.7339, validation loss: 0.7744\n",
      "100%|██████████| 313/313 [00:17<00:00, 18.34it/s, loss=0.7037]\n",
      "Epoch 22 | Training loss: 0.7037, validation accuracy: 0.7635, validation loss: 0.6964\n",
      "100%|██████████| 313/313 [00:16<00:00, 18.42it/s, loss=0.6888]\n",
      "Epoch 23 | Training loss: 0.6888, validation accuracy: 0.7676, validation loss: 0.6913\n",
      "100%|██████████| 313/313 [00:16<00:00, 18.48it/s, loss=0.6765]\n",
      "Epoch 24 | Training loss: 0.6765, validation accuracy: 0.7641, validation loss: 0.7125\n",
      "100%|██████████| 313/313 [00:16<00:00, 18.42it/s, loss=0.6561]\n",
      "Epoch 25 | Training loss: 0.6561, validation accuracy: 0.7534, validation loss: 0.7248\n"
     ]
    }
   ],
   "source": [
    "epochs = 25\n",
    "\n",
    "for epoch in range(epochs):\n",
    "    train_loss = trainer.train_epoch(model, optimizer, dl[\"train\"])\n",
    "    optimizer.finish_epoch()\n",
    "    val_acc, val_loss = trainer.validation(model, dl[\"valid\"])\n",
    "    logger.log(\"Epoch\", epoch+1, \"|\", \n",
    "          f\"Training loss: {train_loss:.4f}, validation accuracy: {val_acc:.4f}, validation loss: {val_loss:.4f}\")"
   ]
  },
  {
   "cell_type": "code",
   "execution_count": 31,
   "id": "d7f57b14-1e56-4ecf-91a7-0fe00a7a73b2",
   "metadata": {},
   "outputs": [
    {
     "name": "stdout",
     "output_type": "stream",
     "text": [
      "Train: (0.773775, 0.6439791312694549)\n",
      "Valid: (0.7534, 0.7247883583068848)\n"
     ]
    }
   ],
   "source": [
    "train_score = trainer.validation(model, dl[\"train\"])\n",
    "valid_score = trainer.validation(model, dl[\"valid\"])\n",
    "logger.log(\"Train:\", train_score)\n",
    "logger.log(\"Valid:\", valid_score)"
   ]
  },
  {
   "cell_type": "code",
   "execution_count": 32,
   "id": "feaeeebe-6668-4026-b1be-6da4d9428960",
   "metadata": {},
   "outputs": [
    {
     "name": "stdout",
     "output_type": "stream",
     "text": [
      "RNA\n"
     ]
    }
   ],
   "source": [
    "optimizer.param_groups[0][\"method\"] = \"RNA\"\n",
    "logger.log(\"RNA\")\n",
    "model_acc = deepcopy(model)\n",
    "optimizer.accelerate()\n",
    "optimizer.store_parameters([model_acc.parameters()])"
   ]
  },
  {
   "cell_type": "code",
   "execution_count": 33,
   "id": "ecda995e-26e1-48be-b5fb-09c71dc1a5f1",
   "metadata": {
    "tags": []
   },
   "outputs": [
    {
     "name": "stdout",
     "output_type": "stream",
     "text": [
      "Train: (0.778025, 0.6237394191741943)\n",
      "Valid: (0.7702, 0.6659030452728272)\n"
     ]
    }
   ],
   "source": [
    "model_acc.to(trainer.device)\n",
    "train_score = trainer.validation(model_acc, dl[\"train\"])\n",
    "valid_score = trainer.validation(model_acc, dl[\"valid\"])\n",
    "logger.log(\"Train:\", train_score)\n",
    "logger.log(\"Valid:\", valid_score)"
   ]
  },
  {
   "cell_type": "code",
   "execution_count": 34,
   "id": "f8fc2877-8ff7-4604-818e-d35af6ab2e2f",
   "metadata": {},
   "outputs": [
    {
     "name": "stdout",
     "output_type": "stream",
     "text": [
      "RRE\n"
     ]
    }
   ],
   "source": [
    "optimizer.param_groups[0][\"method\"] = \"RRE\"\n",
    "logger.log(\"RRE\")\n",
    "model_acc = deepcopy(model)\n",
    "optimizer.accelerate()\n",
    "optimizer.store_parameters([model_acc.parameters()])"
   ]
  },
  {
   "cell_type": "code",
   "execution_count": 35,
   "id": "ce69a19f-e2d5-453d-9a75-744a4a27e17b",
   "metadata": {
    "tags": []
   },
   "outputs": [
    {
     "name": "stdout",
     "output_type": "stream",
     "text": [
      "Train: (0.780625, 0.6175967395305634)\n",
      "Valid: (0.7702, 0.6658548971176147)\n"
     ]
    }
   ],
   "source": [
    "model_acc.to(trainer.device)\n",
    "train_score = trainer.validation(model_acc, dl[\"train\"])\n",
    "valid_score = trainer.validation(model_acc, dl[\"valid\"])\n",
    "logger.log(\"Train:\", train_score)\n",
    "logger.log(\"Valid:\", valid_score)"
   ]
  },
  {
   "cell_type": "code",
   "execution_count": 36,
   "id": "4c30eee8-c114-4233-b421-58123888ebf1",
   "metadata": {},
   "outputs": [],
   "source": [
    "optimizer.param_groups[0][\"lr\"] = 1e-2"
   ]
  },
  {
   "cell_type": "code",
   "execution_count": null,
   "id": "6baec32a-71fa-45a4-99e0-7f3ff9aca932",
   "metadata": {},
   "outputs": [
    {
     "name": "stdout",
     "output_type": "stream",
     "text": [
      "100%|██████████| 313/313 [00:16<00:00, 18.62it/s, loss=0.5521]\n",
      "Epoch 1 | Training loss: 0.5521, validation accuracy: 0.7948, validation loss: 0.6214\n",
      "100%|██████████| 313/313 [00:16<00:00, 18.77it/s, loss=0.5223]\n",
      "Epoch 2 | Training loss: 0.5223, validation accuracy: 0.7976, validation loss: 0.6180\n",
      "100%|██████████| 313/313 [00:17<00:00, 18.02it/s, loss=0.5073]\n",
      "Epoch 3 | Training loss: 0.5073, validation accuracy: 0.7972, validation loss: 0.6190\n",
      "100%|██████████| 313/313 [00:17<00:00, 18.20it/s, loss=0.4956]\n",
      "Epoch 4 | Training loss: 0.4956, validation accuracy: 0.7974, validation loss: 0.6171\n",
      "100%|██████████| 313/313 [00:17<00:00, 18.17it/s, loss=0.4866]\n",
      "Epoch 5 | Training loss: 0.4866, validation accuracy: 0.7974, validation loss: 0.6254\n",
      "100%|██████████| 313/313 [00:17<00:00, 18.26it/s, loss=0.4864]\n",
      "Epoch 6 | Training loss: 0.4864, validation accuracy: 0.7992, validation loss: 0.6174\n",
      "100%|██████████| 313/313 [00:17<00:00, 18.20it/s, loss=0.4770]\n",
      "Epoch 7 | Training loss: 0.4770, validation accuracy: 0.7999, validation loss: 0.6194\n",
      "100%|██████████| 313/313 [00:17<00:00, 18.36it/s, loss=0.4714]\n",
      "Epoch 8 | Training loss: 0.4714, validation accuracy: 0.8007, validation loss: 0.6226\n",
      "100%|██████████| 313/313 [00:17<00:00, 18.28it/s, loss=0.4666]\n",
      "Epoch 9 | Training loss: 0.4666, validation accuracy: 0.8011, validation loss: 0.6081\n",
      "100%|██████████| 313/313 [00:17<00:00, 18.33it/s, loss=0.4571]\n",
      "Epoch 10 | Training loss: 0.4571, validation accuracy: 0.8006, validation loss: 0.6270\n",
      "100%|██████████| 313/313 [00:17<00:00, 18.29it/s, loss=0.4576]\n",
      "Epoch 11 | Training loss: 0.4576, validation accuracy: 0.7992, validation loss: 0.6205\n",
      "100%|██████████| 313/313 [00:16<00:00, 18.47it/s, loss=0.4536]\n",
      "Epoch 12 | Training loss: 0.4536, validation accuracy: 0.7998, validation loss: 0.6159\n",
      "100%|██████████| 313/313 [00:17<00:00, 18.10it/s, loss=0.4473]\n",
      "Epoch 13 | Training loss: 0.4473, validation accuracy: 0.8022, validation loss: 0.6273\n",
      "100%|██████████| 313/313 [00:17<00:00, 18.38it/s, loss=0.4414]\n",
      "Epoch 14 | Training loss: 0.4414, validation accuracy: 0.7988, validation loss: 0.6335\n",
      "100%|██████████| 313/313 [00:17<00:00, 18.39it/s, loss=0.4403]\n",
      "Epoch 15 | Training loss: 0.4403, validation accuracy: 0.8004, validation loss: 0.6236\n",
      "100%|██████████| 313/313 [00:16<00:00, 18.50it/s, loss=0.4311]\n",
      "Epoch 16 | Training loss: 0.4311, validation accuracy: 0.8000, validation loss: 0.6323\n",
      "100%|██████████| 313/313 [00:17<00:00, 18.38it/s, loss=0.4288]\n",
      "Epoch 17 | Training loss: 0.4288, validation accuracy: 0.7999, validation loss: 0.6294\n",
      "100%|██████████| 313/313 [00:16<00:00, 18.45it/s, loss=0.4244]\n",
      "Epoch 18 | Training loss: 0.4244, validation accuracy: 0.8017, validation loss: 0.6391\n",
      "100%|██████████| 313/313 [00:16<00:00, 18.49it/s, loss=0.4269]\n",
      "Epoch 19 | Training loss: 0.4269, validation accuracy: 0.8042, validation loss: 0.6298\n",
      "100%|██████████| 313/313 [00:16<00:00, 18.43it/s, loss=0.4243]\n",
      "Epoch 20 | Training loss: 0.4243, validation accuracy: 0.8056, validation loss: 0.6224\n",
      "100%|██████████| 313/313 [00:17<00:00, 17.74it/s, loss=0.4167]\n",
      "Epoch 21 | Training loss: 0.4167, validation accuracy: 0.8020, validation loss: 0.6375\n",
      "100%|██████████| 313/313 [00:17<00:00, 18.28it/s, loss=0.4114]\n",
      "Epoch 22 | Training loss: 0.4114, validation accuracy: 0.8036, validation loss: 0.6321\n",
      "100%|██████████| 313/313 [00:16<00:00, 18.51it/s, loss=0.4054]\n",
      "Epoch 23 | Training loss: 0.4054, validation accuracy: 0.8029, validation loss: 0.6387\n",
      "100%|██████████| 313/313 [00:16<00:00, 18.44it/s, loss=0.4031]\n",
      "Epoch 24 | Training loss: 0.4031, validation accuracy: 0.8002, validation loss: 0.6619\n",
      " 58%|█████▊    | 180/313 [00:09<00:06, 20.35it/s, loss=0.4005]"
     ]
    }
   ],
   "source": [
    "epochs = 25\n",
    "\n",
    "for epoch in range(epochs):\n",
    "    train_loss = trainer.train_epoch(model, optimizer, dl[\"train\"])\n",
    "    optimizer.finish_epoch()\n",
    "    val_acc, val_loss = trainer.validation(model, dl[\"valid\"])\n",
    "    logger.log(\"Epoch\", epoch+1, \"|\", \n",
    "          f\"Training loss: {train_loss:.4f}, validation accuracy: {val_acc:.4f}, validation loss: {val_loss:.4f}\")"
   ]
  },
  {
   "cell_type": "code",
   "execution_count": null,
   "id": "8f71a083-9be9-46a6-9171-61738b54e143",
   "metadata": {},
   "outputs": [],
   "source": [
    "train_score = trainer.validation(model, dl[\"train\"])\n",
    "valid_score = trainer.validation(model, dl[\"valid\"])\n",
    "logger.log(\"Train:\", train_score)\n",
    "logger.log(\"Valid:\", valid_score)"
   ]
  },
  {
   "cell_type": "code",
   "execution_count": null,
   "id": "b47c4321-b1af-4aa9-be43-5d91757bd5d2",
   "metadata": {},
   "outputs": [],
   "source": [
    "optimizer.param_groups[0][\"method\"] = \"RNA\"\n",
    "logger.log(\"RNA\")\n",
    "model_acc = deepcopy(model)\n",
    "optimizer.accelerate()\n",
    "optimizer.store_parameters([model_acc.parameters()])"
   ]
  },
  {
   "cell_type": "code",
   "execution_count": null,
   "id": "c6e6d044-79ae-4caa-bf4c-cd50176cd234",
   "metadata": {
    "tags": []
   },
   "outputs": [],
   "source": [
    "model_acc.to(trainer.device)\n",
    "train_score = trainer.validation(model_acc, dl[\"train\"])\n",
    "valid_score = trainer.validation(model_acc, dl[\"valid\"])\n",
    "logger.log(\"Train:\", train_score)\n",
    "logger.log(\"Valid:\", valid_score)"
   ]
  },
  {
   "cell_type": "code",
   "execution_count": null,
   "id": "aaad4ad1-0f4e-4514-8e3f-9fd30e09f7e5",
   "metadata": {},
   "outputs": [],
   "source": [
    "optimizer.param_groups[0][\"method\"] = \"RRE\"\n",
    "logger.log(\"RRE\")\n",
    "model_acc = deepcopy(model)\n",
    "optimizer.accelerate()\n",
    "optimizer.store_parameters([model_acc.parameters()])"
   ]
  },
  {
   "cell_type": "code",
   "execution_count": null,
   "id": "eba3c71a-ecf9-443f-a993-cd3bc0c06ae4",
   "metadata": {
    "tags": []
   },
   "outputs": [],
   "source": [
    "model_acc.to(trainer.device)\n",
    "train_score = trainer.validation(model_acc, dl[\"train\"])\n",
    "valid_score = trainer.validation(model_acc, dl[\"valid\"])\n",
    "logger.log(\"Train:\", train_score)\n",
    "logger.log(\"Valid:\", valid_score)"
   ]
  },
  {
   "cell_type": "code",
   "execution_count": null,
   "id": "82e6b5c4-8c10-49fd-9098-24db99510557",
   "metadata": {},
   "outputs": [],
   "source": [
    "optimizer.param_groups[0][\"lr\"] = 1e-3"
   ]
  },
  {
   "cell_type": "code",
   "execution_count": null,
   "id": "46d845b2-7f65-4256-bbc1-72dc61087c4c",
   "metadata": {},
   "outputs": [],
   "source": [
    "epochs = 25\n",
    "\n",
    "for epoch in range(epochs):\n",
    "    train_loss = trainer.train_epoch(model, optimizer, dl[\"train\"])\n",
    "    optimizer.finish_epoch()\n",
    "    val_acc, val_loss = trainer.validation(model, dl[\"valid\"])\n",
    "    logger.log(\"Epoch\", epoch+1, \"|\", \n",
    "          f\"Training loss: {train_loss:.4f}, validation accuracy: {val_acc:.4f}, validation loss: {val_loss:.4f}\")"
   ]
  },
  {
   "cell_type": "code",
   "execution_count": null,
   "id": "5bd01370-37cb-40e9-89b9-a28bc00653fc",
   "metadata": {},
   "outputs": [],
   "source": [
    "train_score = trainer.validation(model, dl[\"train\"])\n",
    "valid_score = trainer.validation(model, dl[\"valid\"])\n",
    "logger.log(\"Train:\", train_score)\n",
    "logger.log(\"Valid:\", valid_score)"
   ]
  },
  {
   "cell_type": "code",
   "execution_count": null,
   "id": "dabe6aef-c3cc-469f-b737-1ac87ff40870",
   "metadata": {},
   "outputs": [],
   "source": [
    "optimizer.param_groups[0][\"method\"] = \"RNA\"\n",
    "logger.log(\"RNA\")\n",
    "model_acc = deepcopy(model)\n",
    "optimizer.accelerate()\n",
    "optimizer.store_parameters([model_acc.parameters()])"
   ]
  },
  {
   "cell_type": "code",
   "execution_count": null,
   "id": "78fdcf45-4537-4ff0-89c4-9ee72ca27c5e",
   "metadata": {
    "tags": []
   },
   "outputs": [],
   "source": [
    "model_acc.to(trainer.device)\n",
    "train_score = trainer.validation(model_acc, dl[\"train\"])\n",
    "valid_score = trainer.validation(model_acc, dl[\"valid\"])\n",
    "logger.log(\"Train:\", train_score)\n",
    "logger.log(\"Valid:\", valid_score)"
   ]
  },
  {
   "cell_type": "code",
   "execution_count": null,
   "id": "2ff9139d-cfa8-477b-8faa-22d242f92f1f",
   "metadata": {},
   "outputs": [],
   "source": [
    "optimizer.param_groups[0][\"method\"] = \"RRE\"\n",
    "logger.log(\"RRE\")\n",
    "model_acc = deepcopy(model)\n",
    "optimizer.accelerate()\n",
    "optimizer.store_parameters([model_acc.parameters()])"
   ]
  },
  {
   "cell_type": "code",
   "execution_count": null,
   "id": "ce348e6b-0a11-4bed-b710-2a56d747a337",
   "metadata": {
    "tags": []
   },
   "outputs": [],
   "source": [
    "model_acc.to(trainer.device)\n",
    "train_score = trainer.validation(model_acc, dl[\"train\"])\n",
    "valid_score = trainer.validation(model_acc, dl[\"valid\"])\n",
    "logger.log(\"Train:\", train_score)\n",
    "logger.log(\"Valid:\", valid_score)"
   ]
  },
  {
   "cell_type": "code",
   "execution_count": null,
   "id": "turned-squad",
   "metadata": {},
   "outputs": [],
   "source": []
  }
 ],
 "metadata": {
  "kernelspec": {
   "display_name": "Python 3",
   "language": "python",
   "name": "python3"
  },
  "language_info": {
   "codemirror_mode": {
    "name": "ipython",
    "version": 3
   },
   "file_extension": ".py",
   "mimetype": "text/x-python",
   "name": "python",
   "nbconvert_exporter": "python",
   "pygments_lexer": "ipython3",
   "version": "3.8.5"
  }
 },
 "nbformat": 4,
 "nbformat_minor": 5
}
