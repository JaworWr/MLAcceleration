{
 "cells": [
  {
   "cell_type": "code",
   "execution_count": 1,
   "id": "anonymous-tackle",
   "metadata": {},
   "outputs": [],
   "source": [
    "import torch\n",
    "from torch import nn\n",
    "from torchvision import models\n",
    "from copy import deepcopy\n",
    "import os\n",
    "\n",
    "from nn_extrapolation import AcceleratedSGD\n",
    "from nn_utils import *"
   ]
  },
  {
   "cell_type": "code",
   "execution_count": 2,
   "id": "18c86948-09d6-4e27-804f-dd415a0c371c",
   "metadata": {},
   "outputs": [
    {
     "data": {
      "text/plain": [
       "True"
      ]
     },
     "execution_count": 2,
     "metadata": {},
     "output_type": "execute_result"
    }
   ],
   "source": [
    "torch.cuda.is_available()"
   ]
  },
  {
   "cell_type": "code",
   "execution_count": 3,
   "id": "through-stopping",
   "metadata": {},
   "outputs": [],
   "source": [
    "trainer = Trainer(\n",
    "    device=\"cuda:2\",\n",
    "    loss_fn=nn.NLLLoss(reduction=\"mean\"),\n",
    "    val_loss_fn=nn.NLLLoss(reduction=\"sum\"),\n",
    ")"
   ]
  },
  {
   "cell_type": "code",
   "execution_count": 4,
   "id": "e1f93199-29a0-45a5-ac52-24e9eafd4c90",
   "metadata": {},
   "outputs": [
    {
     "name": "stdout",
     "output_type": "stream",
     "text": [
      "Files already downloaded and verified\n",
      "Files already downloaded and verified\n"
     ]
    }
   ],
   "source": [
    "dl = load_dataset(\n",
    "    dataset=\"CIFAR10\",\n",
    "    root=os.path.join(\"/tmp\", os.environ[\"USER\"], \"CIFAR\"),\n",
    "    augmentation=transforms.RandomAffine(10, scale=(0.9, 1.1), translate=(0.2, 0.2)),\n",
    "    validation_split=0.2,\n",
    "    batch_size=128,\n",
    "    num_workers=10,\n",
    ")"
   ]
  },
  {
   "cell_type": "code",
   "execution_count": 5,
   "id": "broke-filename",
   "metadata": {},
   "outputs": [
    {
     "data": {
      "text/plain": [
       "ResNet(\n",
       "  (conv1): Conv2d(3, 64, kernel_size=(7, 7), stride=(2, 2), padding=(3, 3), bias=False)\n",
       "  (bn1): BatchNorm2d(64, eps=1e-05, momentum=0.1, affine=True, track_running_stats=True)\n",
       "  (relu): ReLU(inplace=True)\n",
       "  (maxpool): MaxPool2d(kernel_size=3, stride=2, padding=1, dilation=1, ceil_mode=False)\n",
       "  (layer1): Sequential(\n",
       "    (0): BasicBlock(\n",
       "      (conv1): Conv2d(64, 64, kernel_size=(3, 3), stride=(1, 1), padding=(1, 1), bias=False)\n",
       "      (bn1): BatchNorm2d(64, eps=1e-05, momentum=0.1, affine=True, track_running_stats=True)\n",
       "      (relu): ReLU(inplace=True)\n",
       "      (conv2): Conv2d(64, 64, kernel_size=(3, 3), stride=(1, 1), padding=(1, 1), bias=False)\n",
       "      (bn2): BatchNorm2d(64, eps=1e-05, momentum=0.1, affine=True, track_running_stats=True)\n",
       "    )\n",
       "    (1): BasicBlock(\n",
       "      (conv1): Conv2d(64, 64, kernel_size=(3, 3), stride=(1, 1), padding=(1, 1), bias=False)\n",
       "      (bn1): BatchNorm2d(64, eps=1e-05, momentum=0.1, affine=True, track_running_stats=True)\n",
       "      (relu): ReLU(inplace=True)\n",
       "      (conv2): Conv2d(64, 64, kernel_size=(3, 3), stride=(1, 1), padding=(1, 1), bias=False)\n",
       "      (bn2): BatchNorm2d(64, eps=1e-05, momentum=0.1, affine=True, track_running_stats=True)\n",
       "    )\n",
       "  )\n",
       "  (layer2): Sequential(\n",
       "    (0): BasicBlock(\n",
       "      (conv1): Conv2d(64, 128, kernel_size=(3, 3), stride=(2, 2), padding=(1, 1), bias=False)\n",
       "      (bn1): BatchNorm2d(128, eps=1e-05, momentum=0.1, affine=True, track_running_stats=True)\n",
       "      (relu): ReLU(inplace=True)\n",
       "      (conv2): Conv2d(128, 128, kernel_size=(3, 3), stride=(1, 1), padding=(1, 1), bias=False)\n",
       "      (bn2): BatchNorm2d(128, eps=1e-05, momentum=0.1, affine=True, track_running_stats=True)\n",
       "      (downsample): Sequential(\n",
       "        (0): Conv2d(64, 128, kernel_size=(1, 1), stride=(2, 2), bias=False)\n",
       "        (1): BatchNorm2d(128, eps=1e-05, momentum=0.1, affine=True, track_running_stats=True)\n",
       "      )\n",
       "    )\n",
       "    (1): BasicBlock(\n",
       "      (conv1): Conv2d(128, 128, kernel_size=(3, 3), stride=(1, 1), padding=(1, 1), bias=False)\n",
       "      (bn1): BatchNorm2d(128, eps=1e-05, momentum=0.1, affine=True, track_running_stats=True)\n",
       "      (relu): ReLU(inplace=True)\n",
       "      (conv2): Conv2d(128, 128, kernel_size=(3, 3), stride=(1, 1), padding=(1, 1), bias=False)\n",
       "      (bn2): BatchNorm2d(128, eps=1e-05, momentum=0.1, affine=True, track_running_stats=True)\n",
       "    )\n",
       "  )\n",
       "  (layer3): Sequential(\n",
       "    (0): BasicBlock(\n",
       "      (conv1): Conv2d(128, 256, kernel_size=(3, 3), stride=(2, 2), padding=(1, 1), bias=False)\n",
       "      (bn1): BatchNorm2d(256, eps=1e-05, momentum=0.1, affine=True, track_running_stats=True)\n",
       "      (relu): ReLU(inplace=True)\n",
       "      (conv2): Conv2d(256, 256, kernel_size=(3, 3), stride=(1, 1), padding=(1, 1), bias=False)\n",
       "      (bn2): BatchNorm2d(256, eps=1e-05, momentum=0.1, affine=True, track_running_stats=True)\n",
       "      (downsample): Sequential(\n",
       "        (0): Conv2d(128, 256, kernel_size=(1, 1), stride=(2, 2), bias=False)\n",
       "        (1): BatchNorm2d(256, eps=1e-05, momentum=0.1, affine=True, track_running_stats=True)\n",
       "      )\n",
       "    )\n",
       "    (1): BasicBlock(\n",
       "      (conv1): Conv2d(256, 256, kernel_size=(3, 3), stride=(1, 1), padding=(1, 1), bias=False)\n",
       "      (bn1): BatchNorm2d(256, eps=1e-05, momentum=0.1, affine=True, track_running_stats=True)\n",
       "      (relu): ReLU(inplace=True)\n",
       "      (conv2): Conv2d(256, 256, kernel_size=(3, 3), stride=(1, 1), padding=(1, 1), bias=False)\n",
       "      (bn2): BatchNorm2d(256, eps=1e-05, momentum=0.1, affine=True, track_running_stats=True)\n",
       "    )\n",
       "  )\n",
       "  (layer4): Sequential(\n",
       "    (0): BasicBlock(\n",
       "      (conv1): Conv2d(256, 512, kernel_size=(3, 3), stride=(2, 2), padding=(1, 1), bias=False)\n",
       "      (bn1): BatchNorm2d(512, eps=1e-05, momentum=0.1, affine=True, track_running_stats=True)\n",
       "      (relu): ReLU(inplace=True)\n",
       "      (conv2): Conv2d(512, 512, kernel_size=(3, 3), stride=(1, 1), padding=(1, 1), bias=False)\n",
       "      (bn2): BatchNorm2d(512, eps=1e-05, momentum=0.1, affine=True, track_running_stats=True)\n",
       "      (downsample): Sequential(\n",
       "        (0): Conv2d(256, 512, kernel_size=(1, 1), stride=(2, 2), bias=False)\n",
       "        (1): BatchNorm2d(512, eps=1e-05, momentum=0.1, affine=True, track_running_stats=True)\n",
       "      )\n",
       "    )\n",
       "    (1): BasicBlock(\n",
       "      (conv1): Conv2d(512, 512, kernel_size=(3, 3), stride=(1, 1), padding=(1, 1), bias=False)\n",
       "      (bn1): BatchNorm2d(512, eps=1e-05, momentum=0.1, affine=True, track_running_stats=True)\n",
       "      (relu): ReLU(inplace=True)\n",
       "      (conv2): Conv2d(512, 512, kernel_size=(3, 3), stride=(1, 1), padding=(1, 1), bias=False)\n",
       "      (bn2): BatchNorm2d(512, eps=1e-05, momentum=0.1, affine=True, track_running_stats=True)\n",
       "    )\n",
       "  )\n",
       "  (avgpool): AdaptiveAvgPool2d(output_size=(1, 1))\n",
       "  (fc): Sequential(\n",
       "    (0): Linear(in_features=512, out_features=10, bias=True)\n",
       "    (1): LogSoftmax(dim=-1)\n",
       "  )\n",
       ")"
      ]
     },
     "execution_count": 5,
     "metadata": {},
     "output_type": "execute_result"
    }
   ],
   "source": [
    "model = models.resnet18(pretrained=False)\n",
    "model.fc = nn.Sequential(\n",
    "    nn.Linear(512, 10),\n",
    "    nn.LogSoftmax(-1)\n",
    ")\n",
    "model.to(trainer.device)"
   ]
  },
  {
   "cell_type": "code",
   "execution_count": 6,
   "id": "careful-suspect",
   "metadata": {},
   "outputs": [
    {
     "data": {
      "text/plain": [
       "(0.1011, 2.362632771682739)"
      ]
     },
     "execution_count": 6,
     "metadata": {},
     "output_type": "execute_result"
    }
   ],
   "source": [
    "trainer.validation(model, dl[\"valid\"])"
   ]
  },
  {
   "cell_type": "markdown",
   "id": "careful-basin",
   "metadata": {},
   "source": [
    "## Momentum"
   ]
  },
  {
   "cell_type": "code",
   "execution_count": 7,
   "id": "ead40ba4-397d-4405-bad5-8348857018a2",
   "metadata": {},
   "outputs": [
    {
     "data": {
      "text/plain": [
       "(0.1011, 2.362632771682739)"
      ]
     },
     "execution_count": 7,
     "metadata": {},
     "output_type": "execute_result"
    }
   ],
   "source": [
    "trainer.validation(model, dl[\"valid\"])"
   ]
  },
  {
   "cell_type": "code",
   "execution_count": 8,
   "id": "sweet-judge",
   "metadata": {},
   "outputs": [],
   "source": [
    "optimizer = AcceleratedSGD(model.parameters(), 1e-1, k=10, momentum=0.9, weight_decay=1e-5, lambda_=1e-8)\n",
    "logger = Logger(\"resnet_log_augmentation-Levin.txt.no_resizing\")"
   ]
  },
  {
   "cell_type": "code",
   "execution_count": 9,
   "id": "6ccec233-bb10-416e-a52b-f51d1cf7d84f",
   "metadata": {},
   "outputs": [
    {
     "name": "stdout",
     "output_type": "stream",
     "text": [
      "100%|██████████| 313/313 [00:16<00:00, 19.22it/s, loss=2.3289]\n",
      "Epoch 1 | Training loss: 2.3289, validation accuracy: 0.3279, validation loss: 1.8093\n",
      "100%|██████████| 313/313 [00:16<00:00, 18.85it/s, loss=1.7030]\n",
      "Epoch 2 | Training loss: 1.7030, validation accuracy: 0.4034, validation loss: 1.6126\n",
      "100%|██████████| 313/313 [00:16<00:00, 18.90it/s, loss=1.5559]\n",
      "Epoch 3 | Training loss: 1.5559, validation accuracy: 0.4533, validation loss: 1.4690\n",
      "100%|██████████| 313/313 [00:16<00:00, 18.68it/s, loss=1.4419]\n",
      "Epoch 4 | Training loss: 1.4419, validation accuracy: 0.5197, validation loss: 1.3347\n",
      "100%|██████████| 313/313 [00:16<00:00, 18.64it/s, loss=1.3487]\n",
      "Epoch 5 | Training loss: 1.3487, validation accuracy: 0.5348, validation loss: 1.3002\n",
      "100%|██████████| 313/313 [00:17<00:00, 17.98it/s, loss=1.2752]\n",
      "Epoch 6 | Training loss: 1.2752, validation accuracy: 0.5674, validation loss: 1.2280\n",
      "100%|██████████| 313/313 [00:17<00:00, 18.19it/s, loss=1.1946]\n",
      "Epoch 7 | Training loss: 1.1946, validation accuracy: 0.6144, validation loss: 1.0920\n",
      "100%|██████████| 313/313 [00:17<00:00, 17.99it/s, loss=1.1316]\n",
      "Epoch 8 | Training loss: 1.1316, validation accuracy: 0.6191, validation loss: 1.0821\n",
      "100%|██████████| 313/313 [00:17<00:00, 17.92it/s, loss=1.0808]\n",
      "Epoch 9 | Training loss: 1.0808, validation accuracy: 0.6631, validation loss: 0.9635\n",
      "100%|██████████| 313/313 [00:17<00:00, 18.05it/s, loss=1.0236]\n",
      "Epoch 10 | Training loss: 1.0236, validation accuracy: 0.6642, validation loss: 0.9632\n",
      "100%|██████████| 313/313 [00:17<00:00, 18.07it/s, loss=0.9931]\n",
      "Epoch 11 | Training loss: 0.9931, validation accuracy: 0.6592, validation loss: 0.9687\n",
      "100%|██████████| 313/313 [00:17<00:00, 18.00it/s, loss=0.9546]\n",
      "Epoch 12 | Training loss: 0.9546, validation accuracy: 0.6776, validation loss: 0.9335\n",
      "100%|██████████| 313/313 [00:17<00:00, 18.07it/s, loss=0.9142]\n",
      "Epoch 13 | Training loss: 0.9142, validation accuracy: 0.6851, validation loss: 0.9160\n",
      "100%|██████████| 313/313 [00:17<00:00, 17.96it/s, loss=0.8840]\n",
      "Epoch 14 | Training loss: 0.8840, validation accuracy: 0.7038, validation loss: 0.8804\n",
      "100%|██████████| 313/313 [00:17<00:00, 18.23it/s, loss=0.8558]\n",
      "Epoch 15 | Training loss: 0.8558, validation accuracy: 0.7161, validation loss: 0.8181\n",
      "100%|██████████| 313/313 [00:17<00:00, 18.11it/s, loss=0.8354]\n",
      "Epoch 16 | Training loss: 0.8354, validation accuracy: 0.7230, validation loss: 0.8298\n",
      "100%|██████████| 313/313 [00:17<00:00, 17.96it/s, loss=0.8210]\n",
      "Epoch 17 | Training loss: 0.8210, validation accuracy: 0.7263, validation loss: 0.8199\n",
      "100%|██████████| 313/313 [00:17<00:00, 18.17it/s, loss=0.7896]\n",
      "Epoch 18 | Training loss: 0.7896, validation accuracy: 0.7359, validation loss: 0.7449\n",
      "100%|██████████| 313/313 [00:17<00:00, 18.23it/s, loss=0.7654]\n",
      "Epoch 19 | Training loss: 0.7654, validation accuracy: 0.7455, validation loss: 0.7470\n",
      "100%|██████████| 313/313 [00:17<00:00, 18.09it/s, loss=0.7467]\n",
      "Epoch 20 | Training loss: 0.7467, validation accuracy: 0.7416, validation loss: 0.7460\n",
      "100%|██████████| 313/313 [00:17<00:00, 18.33it/s, loss=0.7251]\n",
      "Epoch 21 | Training loss: 0.7251, validation accuracy: 0.7462, validation loss: 0.7466\n",
      "100%|██████████| 313/313 [00:17<00:00, 18.24it/s, loss=0.7194]\n",
      "Epoch 22 | Training loss: 0.7194, validation accuracy: 0.7627, validation loss: 0.7121\n",
      "100%|██████████| 313/313 [00:17<00:00, 18.33it/s, loss=0.6958]\n",
      "Epoch 23 | Training loss: 0.6958, validation accuracy: 0.7418, validation loss: 0.7941\n",
      "100%|██████████| 313/313 [00:17<00:00, 18.26it/s, loss=0.7013]\n",
      "Epoch 24 | Training loss: 0.7013, validation accuracy: 0.7442, validation loss: 0.7574\n",
      "100%|██████████| 313/313 [00:17<00:00, 18.35it/s, loss=0.6659]\n",
      "Epoch 25 | Training loss: 0.6659, validation accuracy: 0.7685, validation loss: 0.6864\n"
     ]
    }
   ],
   "source": [
    "epochs = 25\n",
    "\n",
    "for epoch in range(epochs):\n",
    "    train_loss = trainer.train_epoch(model, optimizer, dl[\"train\"])\n",
    "    optimizer.finish_epoch()\n",
    "    val_acc, val_loss = trainer.validation(model, dl[\"valid\"])\n",
    "    logger.log(\"Epoch\", epoch+1, \"|\", \n",
    "          f\"Training loss: {train_loss:.4f}, validation accuracy: {val_acc:.4f}, validation loss: {val_loss:.4f}\")"
   ]
  },
  {
   "cell_type": "code",
   "execution_count": 10,
   "id": "d7f57b14-1e56-4ecf-91a7-0fe00a7a73b2",
   "metadata": {},
   "outputs": [
    {
     "name": "stdout",
     "output_type": "stream",
     "text": [
      "Train: (0.783175, 0.6164686933517456)\n",
      "Valid: (0.7685, 0.6864338821411132)\n"
     ]
    }
   ],
   "source": [
    "train_score = trainer.validation(model, dl[\"train\"])\n",
    "valid_score = trainer.validation(model, dl[\"valid\"])\n",
    "logger.log(\"Train:\", train_score)\n",
    "logger.log(\"Valid:\", valid_score)"
   ]
  },
  {
   "cell_type": "code",
   "execution_count": 11,
   "id": "feaeeebe-6668-4026-b1be-6da4d9428960",
   "metadata": {},
   "outputs": [
    {
     "name": "stdout",
     "output_type": "stream",
     "text": [
      "Levin:t\n"
     ]
    }
   ],
   "source": [
    "optimizer.param_groups[0][\"method\"] = \"Levin:t\"\n",
    "logger.log(\"Levin:t\")\n",
    "model_acc = deepcopy(model)\n",
    "optimizer.accelerate()\n",
    "optimizer.store_parameters([model_acc.parameters()])"
   ]
  },
  {
   "cell_type": "code",
   "execution_count": 12,
   "id": "ecda995e-26e1-48be-b5fb-09c71dc1a5f1",
   "metadata": {
    "tags": []
   },
   "outputs": [
    {
     "name": "stdout",
     "output_type": "stream",
     "text": [
      "Train: (0.682125, 0.9185433156013488)\n",
      "Valid: (0.6863, 0.9745683364868164)\n"
     ]
    }
   ],
   "source": [
    "model_acc.to(trainer.device)\n",
    "train_score = trainer.validation(model_acc, dl[\"train\"])\n",
    "valid_score = trainer.validation(model_acc, dl[\"valid\"])\n",
    "logger.log(\"Train:\", train_score)\n",
    "logger.log(\"Valid:\", valid_score)"
   ]
  },
  {
   "cell_type": "code",
   "execution_count": 13,
   "id": "3c259a32-0c14-4c52-a7f0-19e7406c15f2",
   "metadata": {},
   "outputs": [
    {
     "name": "stdout",
     "output_type": "stream",
     "text": [
      "Levin:u\n"
     ]
    }
   ],
   "source": [
    "optimizer.param_groups[0][\"method\"] = \"Levin:u\"\n",
    "logger.log(\"Levin:u\")\n",
    "model_acc = deepcopy(model)\n",
    "optimizer.accelerate()\n",
    "optimizer.store_parameters([model_acc.parameters()])"
   ]
  },
  {
   "cell_type": "code",
   "execution_count": 14,
   "id": "fbc44901-8442-47da-aee2-a5c3b3c1ec5d",
   "metadata": {
    "tags": []
   },
   "outputs": [
    {
     "name": "stdout",
     "output_type": "stream",
     "text": [
      "Train: (0.665175, 0.9735346799850464)\n",
      "Valid: (0.6696, 1.0341466751098634)\n"
     ]
    }
   ],
   "source": [
    "model_acc.to(trainer.device)\n",
    "train_score = trainer.validation(model_acc, dl[\"train\"])\n",
    "valid_score = trainer.validation(model_acc, dl[\"valid\"])\n",
    "logger.log(\"Train:\", train_score)\n",
    "logger.log(\"Valid:\", valid_score)"
   ]
  },
  {
   "cell_type": "code",
   "execution_count": 15,
   "id": "27912daf-3db5-4124-a3e6-a8aced51c689",
   "metadata": {},
   "outputs": [
    {
     "name": "stdout",
     "output_type": "stream",
     "text": [
      "Levin:v\n"
     ]
    }
   ],
   "source": [
    "optimizer.param_groups[0][\"method\"] = \"Levin:v\"\n",
    "logger.log(\"Levin:v\")\n",
    "model_acc = deepcopy(model)\n",
    "optimizer.accelerate()\n",
    "optimizer.store_parameters([model_acc.parameters()])"
   ]
  },
  {
   "cell_type": "code",
   "execution_count": 16,
   "id": "68b6d39d-de53-4443-8570-ab8abe4bcbd9",
   "metadata": {
    "tags": []
   },
   "outputs": [
    {
     "name": "stdout",
     "output_type": "stream",
     "text": [
      "Train: (0.691575, 0.8899491945266723)\n",
      "Valid: (0.7084, 0.8646075942993164)\n"
     ]
    }
   ],
   "source": [
    "model_acc.to(trainer.device)\n",
    "train_score = trainer.validation(model_acc, dl[\"train\"])\n",
    "valid_score = trainer.validation(model_acc, dl[\"valid\"])\n",
    "logger.log(\"Train:\", train_score)\n",
    "logger.log(\"Valid:\", valid_score)"
   ]
  },
  {
   "cell_type": "code",
   "execution_count": 17,
   "id": "4c30eee8-c114-4233-b421-58123888ebf1",
   "metadata": {},
   "outputs": [],
   "source": [
    "optimizer.param_groups[0][\"lr\"] = 1e-2"
   ]
  },
  {
   "cell_type": "code",
   "execution_count": 18,
   "id": "6baec32a-71fa-45a4-99e0-7f3ff9aca932",
   "metadata": {},
   "outputs": [
    {
     "name": "stdout",
     "output_type": "stream",
     "text": [
      "100%|██████████| 313/313 [00:16<00:00, 18.48it/s, loss=0.5527]\n",
      "Epoch 1 | Training loss: 0.5527, validation accuracy: 0.7915, validation loss: 0.6249\n",
      "100%|██████████| 313/313 [00:16<00:00, 18.47it/s, loss=0.5282]\n",
      "Epoch 2 | Training loss: 0.5282, validation accuracy: 0.7943, validation loss: 0.6112\n",
      "100%|██████████| 313/313 [00:18<00:00, 17.23it/s, loss=0.5205]\n",
      "Epoch 3 | Training loss: 0.5205, validation accuracy: 0.7947, validation loss: 0.6125\n",
      "100%|██████████| 313/313 [00:17<00:00, 17.45it/s, loss=0.5064]\n",
      "Epoch 4 | Training loss: 0.5064, validation accuracy: 0.7920, validation loss: 0.6161\n",
      "100%|██████████| 313/313 [00:17<00:00, 17.85it/s, loss=0.5046]\n",
      "Epoch 5 | Training loss: 0.5046, validation accuracy: 0.7934, validation loss: 0.6174\n",
      "100%|██████████| 313/313 [00:17<00:00, 17.76it/s, loss=0.4989]\n",
      "Epoch 6 | Training loss: 0.4989, validation accuracy: 0.7921, validation loss: 0.6119\n",
      "100%|██████████| 313/313 [00:17<00:00, 17.86it/s, loss=0.4862]\n",
      "Epoch 7 | Training loss: 0.4862, validation accuracy: 0.7939, validation loss: 0.6114\n",
      "100%|██████████| 313/313 [00:17<00:00, 17.94it/s, loss=0.4837]\n",
      "Epoch 8 | Training loss: 0.4837, validation accuracy: 0.7953, validation loss: 0.6116\n",
      "100%|██████████| 313/313 [00:17<00:00, 17.94it/s, loss=0.4796]\n",
      "Epoch 9 | Training loss: 0.4796, validation accuracy: 0.7997, validation loss: 0.6101\n",
      "100%|██████████| 313/313 [00:17<00:00, 17.93it/s, loss=0.4695]\n",
      "Epoch 10 | Training loss: 0.4695, validation accuracy: 0.7955, validation loss: 0.6080\n",
      "100%|██████████| 313/313 [00:17<00:00, 18.05it/s, loss=0.4704]\n",
      "Epoch 11 | Training loss: 0.4704, validation accuracy: 0.7963, validation loss: 0.6143\n",
      "100%|██████████| 313/313 [00:17<00:00, 18.09it/s, loss=0.4608]\n",
      "Epoch 12 | Training loss: 0.4608, validation accuracy: 0.7995, validation loss: 0.6048\n",
      "100%|██████████| 313/313 [00:17<00:00, 18.07it/s, loss=0.4556]\n",
      "Epoch 13 | Training loss: 0.4556, validation accuracy: 0.7964, validation loss: 0.6072\n",
      "100%|██████████| 313/313 [00:17<00:00, 17.93it/s, loss=0.4519]\n",
      "Epoch 14 | Training loss: 0.4519, validation accuracy: 0.8016, validation loss: 0.6075\n",
      "100%|██████████| 313/313 [00:17<00:00, 18.06it/s, loss=0.4571]\n",
      "Epoch 15 | Training loss: 0.4571, validation accuracy: 0.7990, validation loss: 0.6155\n",
      "100%|██████████| 313/313 [00:17<00:00, 17.98it/s, loss=0.4545]\n",
      "Epoch 16 | Training loss: 0.4545, validation accuracy: 0.8000, validation loss: 0.6049\n",
      "100%|██████████| 313/313 [00:17<00:00, 18.10it/s, loss=0.4460]\n",
      "Epoch 17 | Training loss: 0.4460, validation accuracy: 0.8007, validation loss: 0.6032\n",
      "100%|██████████| 313/313 [00:17<00:00, 18.02it/s, loss=0.4390]\n",
      "Epoch 18 | Training loss: 0.4390, validation accuracy: 0.7948, validation loss: 0.6345\n",
      "100%|██████████| 313/313 [00:17<00:00, 18.08it/s, loss=0.4442]\n",
      "Epoch 19 | Training loss: 0.4442, validation accuracy: 0.8002, validation loss: 0.6121\n",
      "100%|██████████| 313/313 [00:17<00:00, 18.27it/s, loss=0.4327]\n",
      "Epoch 20 | Training loss: 0.4327, validation accuracy: 0.7943, validation loss: 0.6284\n",
      "100%|██████████| 313/313 [00:17<00:00, 17.91it/s, loss=0.4330]\n",
      "Epoch 21 | Training loss: 0.4330, validation accuracy: 0.7982, validation loss: 0.6186\n",
      "100%|██████████| 313/313 [00:17<00:00, 18.08it/s, loss=0.4325]\n",
      "Epoch 22 | Training loss: 0.4325, validation accuracy: 0.8002, validation loss: 0.6133\n",
      "100%|██████████| 313/313 [00:17<00:00, 17.96it/s, loss=0.4217]\n",
      "Epoch 23 | Training loss: 0.4217, validation accuracy: 0.8015, validation loss: 0.6078\n",
      "100%|██████████| 313/313 [00:17<00:00, 18.02it/s, loss=0.4195]\n",
      "Epoch 24 | Training loss: 0.4195, validation accuracy: 0.7946, validation loss: 0.6338\n",
      "100%|██████████| 313/313 [00:17<00:00, 17.95it/s, loss=0.4127]\n",
      "Epoch 25 | Training loss: 0.4127, validation accuracy: 0.8043, validation loss: 0.6181\n"
     ]
    }
   ],
   "source": [
    "epochs = 25\n",
    "\n",
    "for epoch in range(epochs):\n",
    "    train_loss = trainer.train_epoch(model, optimizer, dl[\"train\"])\n",
    "    optimizer.finish_epoch()\n",
    "    val_acc, val_loss = trainer.validation(model, dl[\"valid\"])\n",
    "    logger.log(\"Epoch\", epoch+1, \"|\", \n",
    "          f\"Training loss: {train_loss:.4f}, validation accuracy: {val_acc:.4f}, validation loss: {val_loss:.4f}\")"
   ]
  },
  {
   "cell_type": "code",
   "execution_count": 19,
   "id": "fca1126e-8f95-439e-ac66-1437b8663967",
   "metadata": {},
   "outputs": [
    {
     "name": "stdout",
     "output_type": "stream",
     "text": [
      "Train: (0.86205, 0.387502751159668)\n",
      "Valid: (0.8043, 0.6181156715393067)\n"
     ]
    }
   ],
   "source": [
    "train_score = trainer.validation(model, dl[\"train\"])\n",
    "valid_score = trainer.validation(model, dl[\"valid\"])\n",
    "logger.log(\"Train:\", train_score)\n",
    "logger.log(\"Valid:\", valid_score)"
   ]
  },
  {
   "cell_type": "code",
   "execution_count": 20,
   "id": "0ff0f9bf-176a-4e6b-b5d9-9b612da3b7d3",
   "metadata": {},
   "outputs": [
    {
     "name": "stdout",
     "output_type": "stream",
     "text": [
      "Levin:t\n"
     ]
    }
   ],
   "source": [
    "optimizer.param_groups[0][\"method\"] = \"Levin:t\"\n",
    "logger.log(\"Levin:t\")\n",
    "model_acc = deepcopy(model)\n",
    "optimizer.accelerate()\n",
    "optimizer.store_parameters([model_acc.parameters()])"
   ]
  },
  {
   "cell_type": "code",
   "execution_count": 21,
   "id": "3e5b5309-afa5-4668-b892-5da1366e1e1b",
   "metadata": {
    "tags": []
   },
   "outputs": [
    {
     "name": "stdout",
     "output_type": "stream",
     "text": [
      "Train: (0.84955, 0.4213036576271057)\n",
      "Valid: (0.7926, 0.6668689551353455)\n"
     ]
    }
   ],
   "source": [
    "model_acc.to(trainer.device)\n",
    "train_score = trainer.validation(model_acc, dl[\"train\"])\n",
    "valid_score = trainer.validation(model_acc, dl[\"valid\"])\n",
    "logger.log(\"Train:\", train_score)\n",
    "logger.log(\"Valid:\", valid_score)"
   ]
  },
  {
   "cell_type": "code",
   "execution_count": 22,
   "id": "adb00db4-2199-4395-bfa7-fb340fe9a89e",
   "metadata": {},
   "outputs": [
    {
     "name": "stdout",
     "output_type": "stream",
     "text": [
      "Levin:u\n"
     ]
    }
   ],
   "source": [
    "optimizer.param_groups[0][\"method\"] = \"Levin:u\"\n",
    "logger.log(\"Levin:u\")\n",
    "model_acc = deepcopy(model)\n",
    "optimizer.accelerate()\n",
    "optimizer.store_parameters([model_acc.parameters()])"
   ]
  },
  {
   "cell_type": "code",
   "execution_count": 23,
   "id": "d7eec593-71a2-4e16-add4-df0876a7e682",
   "metadata": {
    "tags": []
   },
   "outputs": [
    {
     "name": "stdout",
     "output_type": "stream",
     "text": [
      "Train: (0.846425, 0.4293213541507721)\n",
      "Valid: (0.7895, 0.6737623242378235)\n"
     ]
    }
   ],
   "source": [
    "model_acc.to(trainer.device)\n",
    "train_score = trainer.validation(model_acc, dl[\"train\"])\n",
    "valid_score = trainer.validation(model_acc, dl[\"valid\"])\n",
    "logger.log(\"Train:\", train_score)\n",
    "logger.log(\"Valid:\", valid_score)"
   ]
  },
  {
   "cell_type": "code",
   "execution_count": 24,
   "id": "bace9ef0-5c68-42b8-a94e-35b90d82d7da",
   "metadata": {},
   "outputs": [
    {
     "name": "stdout",
     "output_type": "stream",
     "text": [
      "Levin:v\n"
     ]
    }
   ],
   "source": [
    "optimizer.param_groups[0][\"method\"] = \"Levin:v\"\n",
    "logger.log(\"Levin:v\")\n",
    "model_acc = deepcopy(model)\n",
    "optimizer.accelerate()\n",
    "optimizer.store_parameters([model_acc.parameters()])"
   ]
  },
  {
   "cell_type": "code",
   "execution_count": 25,
   "id": "38c63b8d-9b37-4ab2-ae37-992c25ad5295",
   "metadata": {
    "tags": []
   },
   "outputs": [
    {
     "name": "stdout",
     "output_type": "stream",
     "text": [
      "Train: (0.82605, 0.4924284327507019)\n",
      "Valid: (0.7803, 0.7121404245376587)\n"
     ]
    }
   ],
   "source": [
    "model_acc.to(trainer.device)\n",
    "train_score = trainer.validation(model_acc, dl[\"train\"])\n",
    "valid_score = trainer.validation(model_acc, dl[\"valid\"])\n",
    "logger.log(\"Train:\", train_score)\n",
    "logger.log(\"Valid:\", valid_score)"
   ]
  },
  {
   "cell_type": "code",
   "execution_count": 26,
   "id": "82e6b5c4-8c10-49fd-9098-24db99510557",
   "metadata": {},
   "outputs": [],
   "source": [
    "optimizer.param_groups[0][\"lr\"] = 1e-3"
   ]
  },
  {
   "cell_type": "code",
   "execution_count": 27,
   "id": "46d845b2-7f65-4256-bbc1-72dc61087c4c",
   "metadata": {},
   "outputs": [
    {
     "name": "stdout",
     "output_type": "stream",
     "text": [
      "100%|██████████| 313/313 [00:16<00:00, 18.43it/s, loss=0.3987]\n",
      "Epoch 1 | Training loss: 0.3987, validation accuracy: 0.7993, validation loss: 0.6134\n",
      "100%|██████████| 313/313 [00:17<00:00, 18.09it/s, loss=0.3940]\n",
      "Epoch 2 | Training loss: 0.3940, validation accuracy: 0.8022, validation loss: 0.6113\n",
      "100%|██████████| 313/313 [00:18<00:00, 17.13it/s, loss=0.3913]\n",
      "Epoch 3 | Training loss: 0.3913, validation accuracy: 0.8026, validation loss: 0.6111\n",
      "100%|██████████| 313/313 [00:18<00:00, 17.21it/s, loss=0.3881]\n",
      "Epoch 4 | Training loss: 0.3881, validation accuracy: 0.8020, validation loss: 0.6149\n",
      "100%|██████████| 313/313 [00:18<00:00, 17.20it/s, loss=0.3881]\n",
      "Epoch 5 | Training loss: 0.3881, validation accuracy: 0.8035, validation loss: 0.6139\n",
      "100%|██████████| 313/313 [00:18<00:00, 17.34it/s, loss=0.3878]\n",
      "Epoch 6 | Training loss: 0.3878, validation accuracy: 0.8031, validation loss: 0.6196\n",
      "100%|██████████| 313/313 [00:17<00:00, 17.41it/s, loss=0.3891]\n",
      "Epoch 7 | Training loss: 0.3891, validation accuracy: 0.8043, validation loss: 0.6196\n",
      "100%|██████████| 313/313 [00:18<00:00, 17.37it/s, loss=0.3871]\n",
      "Epoch 8 | Training loss: 0.3871, validation accuracy: 0.8033, validation loss: 0.6155\n",
      "100%|██████████| 313/313 [00:17<00:00, 17.52it/s, loss=0.3904]\n",
      "Epoch 9 | Training loss: 0.3904, validation accuracy: 0.8009, validation loss: 0.6222\n",
      "100%|██████████| 313/313 [00:17<00:00, 17.42it/s, loss=0.3871]\n",
      "Epoch 10 | Training loss: 0.3871, validation accuracy: 0.8026, validation loss: 0.6208\n",
      "100%|██████████| 313/313 [00:17<00:00, 17.61it/s, loss=0.3859]\n",
      "Epoch 11 | Training loss: 0.3859, validation accuracy: 0.8041, validation loss: 0.6115\n",
      "100%|██████████| 313/313 [00:17<00:00, 17.52it/s, loss=0.3860]\n",
      "Epoch 12 | Training loss: 0.3860, validation accuracy: 0.8032, validation loss: 0.6183\n",
      "100%|██████████| 313/313 [00:17<00:00, 17.57it/s, loss=0.3904]\n",
      "Epoch 13 | Training loss: 0.3904, validation accuracy: 0.8035, validation loss: 0.6157\n",
      "100%|██████████| 313/313 [00:17<00:00, 17.72it/s, loss=0.3845]\n",
      "Epoch 14 | Training loss: 0.3845, validation accuracy: 0.8002, validation loss: 0.6241\n",
      "100%|██████████| 313/313 [00:17<00:00, 17.79it/s, loss=0.3837]\n",
      "Epoch 15 | Training loss: 0.3837, validation accuracy: 0.8034, validation loss: 0.6223\n",
      "100%|██████████| 313/313 [00:17<00:00, 17.88it/s, loss=0.3789]\n",
      "Epoch 16 | Training loss: 0.3789, validation accuracy: 0.8038, validation loss: 0.6162\n",
      "100%|██████████| 313/313 [00:17<00:00, 17.68it/s, loss=0.3822]\n",
      "Epoch 17 | Training loss: 0.3822, validation accuracy: 0.8035, validation loss: 0.6156\n",
      "100%|██████████| 313/313 [00:17<00:00, 17.72it/s, loss=0.3855]\n",
      "Epoch 18 | Training loss: 0.3855, validation accuracy: 0.8030, validation loss: 0.6204\n",
      "100%|██████████| 313/313 [00:17<00:00, 17.74it/s, loss=0.3800]\n",
      "Epoch 19 | Training loss: 0.3800, validation accuracy: 0.8035, validation loss: 0.6226\n",
      "100%|██████████| 313/313 [00:17<00:00, 17.75it/s, loss=0.3846]\n",
      "Epoch 20 | Training loss: 0.3846, validation accuracy: 0.8011, validation loss: 0.6222\n",
      "100%|██████████| 313/313 [00:17<00:00, 17.99it/s, loss=0.3841]\n",
      "Epoch 21 | Training loss: 0.3841, validation accuracy: 0.8016, validation loss: 0.6244\n",
      "100%|██████████| 313/313 [00:17<00:00, 17.87it/s, loss=0.3790]\n",
      "Epoch 22 | Training loss: 0.3790, validation accuracy: 0.8032, validation loss: 0.6309\n",
      "100%|██████████| 313/313 [00:17<00:00, 17.79it/s, loss=0.3751]\n",
      "Epoch 23 | Training loss: 0.3751, validation accuracy: 0.8036, validation loss: 0.6224\n",
      "100%|██████████| 313/313 [00:17<00:00, 17.88it/s, loss=0.3788]\n",
      "Epoch 24 | Training loss: 0.3788, validation accuracy: 0.8025, validation loss: 0.6245\n",
      "100%|██████████| 313/313 [00:17<00:00, 17.96it/s, loss=0.3751]\n",
      "Epoch 25 | Training loss: 0.3751, validation accuracy: 0.8021, validation loss: 0.6185\n"
     ]
    }
   ],
   "source": [
    "epochs = 25\n",
    "\n",
    "for epoch in range(epochs):\n",
    "    train_loss = trainer.train_epoch(model, optimizer, dl[\"train\"])\n",
    "    optimizer.finish_epoch()\n",
    "    val_acc, val_loss = trainer.validation(model, dl[\"valid\"])\n",
    "    logger.log(\"Epoch\", epoch+1, \"|\", \n",
    "          f\"Training loss: {train_loss:.4f}, validation accuracy: {val_acc:.4f}, validation loss: {val_loss:.4f}\")"
   ]
  },
  {
   "cell_type": "code",
   "execution_count": 28,
   "id": "258515de-2fb4-4264-9c02-c124d9acda97",
   "metadata": {},
   "outputs": [
    {
     "name": "stdout",
     "output_type": "stream",
     "text": [
      "Train: (0.873375, 0.35541710109710695)\n",
      "Valid: (0.8021, 0.6185395000457764)\n"
     ]
    }
   ],
   "source": [
    "train_score = trainer.validation(model, dl[\"train\"])\n",
    "valid_score = trainer.validation(model, dl[\"valid\"])\n",
    "logger.log(\"Train:\", train_score)\n",
    "logger.log(\"Valid:\", valid_score)"
   ]
  },
  {
   "cell_type": "code",
   "execution_count": 29,
   "id": "95ed82ed-e0a4-4bf8-8d65-7aeabcc14947",
   "metadata": {},
   "outputs": [
    {
     "name": "stdout",
     "output_type": "stream",
     "text": [
      "Levin:t\n"
     ]
    }
   ],
   "source": [
    "optimizer.param_groups[0][\"method\"] = \"Levin:t\"\n",
    "logger.log(\"Levin:t\")\n",
    "model_acc = deepcopy(model)\n",
    "optimizer.accelerate()\n",
    "optimizer.store_parameters([model_acc.parameters()])"
   ]
  },
  {
   "cell_type": "code",
   "execution_count": 30,
   "id": "69727f45-725c-4eca-b2d0-a11a1ba796a6",
   "metadata": {
    "tags": []
   },
   "outputs": [
    {
     "name": "stdout",
     "output_type": "stream",
     "text": [
      "Train: (0.852425, 0.42726387667655946)\n",
      "Valid: (0.783, 0.6935818186759949)\n"
     ]
    }
   ],
   "source": [
    "model_acc.to(trainer.device)\n",
    "train_score = trainer.validation(model_acc, dl[\"train\"])\n",
    "valid_score = trainer.validation(model_acc, dl[\"valid\"])\n",
    "logger.log(\"Train:\", train_score)\n",
    "logger.log(\"Valid:\", valid_score)"
   ]
  },
  {
   "cell_type": "code",
   "execution_count": 31,
   "id": "928a6efa-42b7-4437-9a93-dd353c135ab5",
   "metadata": {},
   "outputs": [
    {
     "name": "stdout",
     "output_type": "stream",
     "text": [
      "Levin:u\n"
     ]
    }
   ],
   "source": [
    "optimizer.param_groups[0][\"method\"] = \"Levin:u\"\n",
    "logger.log(\"Levin:u\")\n",
    "model_acc = deepcopy(model)\n",
    "optimizer.accelerate()\n",
    "optimizer.store_parameters([model_acc.parameters()])"
   ]
  },
  {
   "cell_type": "code",
   "execution_count": 32,
   "id": "b6ae3048-1975-4a12-9538-8217cee53022",
   "metadata": {
    "tags": []
   },
   "outputs": [
    {
     "name": "stdout",
     "output_type": "stream",
     "text": [
      "Train: (0.84935, 0.4336830590724945)\n",
      "Valid: (0.782, 0.699140240573883)\n"
     ]
    }
   ],
   "source": [
    "model_acc.to(trainer.device)\n",
    "train_score = trainer.validation(model_acc, dl[\"train\"])\n",
    "valid_score = trainer.validation(model_acc, dl[\"valid\"])\n",
    "logger.log(\"Train:\", train_score)\n",
    "logger.log(\"Valid:\", valid_score)"
   ]
  },
  {
   "cell_type": "code",
   "execution_count": 33,
   "id": "60138f22-aaaf-445a-aea6-2dc82311975d",
   "metadata": {},
   "outputs": [
    {
     "name": "stdout",
     "output_type": "stream",
     "text": [
      "Levin:v\n"
     ]
    }
   ],
   "source": [
    "optimizer.param_groups[0][\"method\"] = \"Levin:v\"\n",
    "logger.log(\"Levin:v\")\n",
    "model_acc = deepcopy(model)\n",
    "optimizer.accelerate()\n",
    "optimizer.store_parameters([model_acc.parameters()])"
   ]
  },
  {
   "cell_type": "code",
   "execution_count": 34,
   "id": "ae06477e-0829-43d8-8e94-d638894b2038",
   "metadata": {
    "tags": []
   },
   "outputs": [
    {
     "name": "stdout",
     "output_type": "stream",
     "text": [
      "Train: (0.87265, 0.35981161918640137)\n",
      "Valid: (0.802, 0.62165378408432)\n"
     ]
    }
   ],
   "source": [
    "model_acc.to(trainer.device)\n",
    "train_score = trainer.validation(model_acc, dl[\"train\"])\n",
    "valid_score = trainer.validation(model_acc, dl[\"valid\"])\n",
    "logger.log(\"Train:\", train_score)\n",
    "logger.log(\"Valid:\", valid_score)"
   ]
  },
  {
   "cell_type": "code",
   "execution_count": null,
   "id": "d981e76f-b8e1-429d-9557-077f795e9f39",
   "metadata": {},
   "outputs": [],
   "source": []
  }
 ],
 "metadata": {
  "kernelspec": {
   "display_name": "Python 3",
   "language": "python",
   "name": "python3"
  },
  "language_info": {
   "codemirror_mode": {
    "name": "ipython",
    "version": 3
   },
   "file_extension": ".py",
   "mimetype": "text/x-python",
   "name": "python",
   "nbconvert_exporter": "python",
   "pygments_lexer": "ipython3",
   "version": "3.8.5"
  }
 },
 "nbformat": 4,
 "nbformat_minor": 5
}
