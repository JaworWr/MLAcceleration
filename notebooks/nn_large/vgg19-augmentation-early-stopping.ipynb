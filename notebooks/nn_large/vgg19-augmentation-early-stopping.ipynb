{
 "cells": [
  {
   "cell_type": "code",
   "execution_count": 1,
   "id": "9fd8ddb3-ccd1-43ea-8ba2-6de8b690d2cb",
   "metadata": {},
   "outputs": [],
   "source": [
    "import sys\n",
    "sys.path.insert(0, \"../..\")"
   ]
  },
  {
   "cell_type": "code",
   "execution_count": 2,
   "id": "reported-belle",
   "metadata": {},
   "outputs": [],
   "source": [
    "import torch\n",
    "from torch import nn\n",
    "from torchvision import models\n",
    "from copy import deepcopy\n",
    "import os\n",
    "\n",
    "from nn_extrapolation import AcceleratedSGD\n",
    "from nn_utils import *"
   ]
  },
  {
   "cell_type": "code",
   "execution_count": 3,
   "id": "visible-lawyer",
   "metadata": {},
   "outputs": [],
   "source": [
    "trainer = Trainer(\n",
    "    device=\"cuda\",\n",
    "    loss_fn=nn.NLLLoss(reduction=\"mean\"),\n",
    "    val_loss_fn=nn.NLLLoss(reduction=\"sum\"),\n",
    ")"
   ]
  },
  {
   "cell_type": "code",
   "execution_count": 4,
   "id": "constitutional-groove",
   "metadata": {},
   "outputs": [
    {
     "name": "stdout",
     "output_type": "stream",
     "text": [
      "Downloading https://www.cs.toronto.edu/~kriz/cifar-10-python.tar.gz to /tmp/michal/CIFAR/cifar-10-python.tar.gz\n"
     ]
    },
    {
     "data": {
      "application/vnd.jupyter.widget-view+json": {
       "model_id": "1f14133308d041af8c02574f728bf1a8",
       "version_major": 2,
       "version_minor": 0
      },
      "text/plain": [
       "  0%|          | 0/170498071 [00:00<?, ?it/s]"
      ]
     },
     "metadata": {},
     "output_type": "display_data"
    },
    {
     "name": "stdout",
     "output_type": "stream",
     "text": [
      "Extracting /tmp/michal/CIFAR/cifar-10-python.tar.gz to /tmp/michal/CIFAR\n",
      "Files already downloaded and verified\n"
     ]
    }
   ],
   "source": [
    "dl = load_dataset(\n",
    "    dataset=\"CIFAR10\",\n",
    "    root=os.path.join(\"/tmp\", os.environ[\"USER\"], \"CIFAR\"),\n",
    "    augmentation=transforms.RandomAffine(10, scale=(0.9, 1.1), translate=(0.2, 0.2)),\n",
    "    validation_split=0.2,\n",
    "    batch_size=128,\n",
    "    num_workers=10,\n",
    ")"
   ]
  },
  {
   "cell_type": "code",
   "execution_count": 5,
   "id": "frozen-motivation",
   "metadata": {},
   "outputs": [
    {
     "data": {
      "text/plain": [
       "VGG(\n",
       "  (features): Sequential(\n",
       "    (0): Conv2d(3, 64, kernel_size=(3, 3), stride=(1, 1), padding=(1, 1))\n",
       "    (1): ReLU(inplace=True)\n",
       "    (2): Conv2d(64, 64, kernel_size=(3, 3), stride=(1, 1), padding=(1, 1))\n",
       "    (3): ReLU(inplace=True)\n",
       "    (4): MaxPool2d(kernel_size=2, stride=2, padding=0, dilation=1, ceil_mode=False)\n",
       "    (5): Conv2d(64, 128, kernel_size=(3, 3), stride=(1, 1), padding=(1, 1))\n",
       "    (6): ReLU(inplace=True)\n",
       "    (7): Conv2d(128, 128, kernel_size=(3, 3), stride=(1, 1), padding=(1, 1))\n",
       "    (8): ReLU(inplace=True)\n",
       "    (9): MaxPool2d(kernel_size=2, stride=2, padding=0, dilation=1, ceil_mode=False)\n",
       "    (10): Conv2d(128, 256, kernel_size=(3, 3), stride=(1, 1), padding=(1, 1))\n",
       "    (11): ReLU(inplace=True)\n",
       "    (12): Conv2d(256, 256, kernel_size=(3, 3), stride=(1, 1), padding=(1, 1))\n",
       "    (13): ReLU(inplace=True)\n",
       "    (14): Conv2d(256, 256, kernel_size=(3, 3), stride=(1, 1), padding=(1, 1))\n",
       "    (15): ReLU(inplace=True)\n",
       "    (16): Conv2d(256, 256, kernel_size=(3, 3), stride=(1, 1), padding=(1, 1))\n",
       "    (17): ReLU(inplace=True)\n",
       "    (18): MaxPool2d(kernel_size=2, stride=2, padding=0, dilation=1, ceil_mode=False)\n",
       "    (19): Conv2d(256, 512, kernel_size=(3, 3), stride=(1, 1), padding=(1, 1))\n",
       "    (20): ReLU(inplace=True)\n",
       "    (21): Conv2d(512, 512, kernel_size=(3, 3), stride=(1, 1), padding=(1, 1))\n",
       "    (22): ReLU(inplace=True)\n",
       "    (23): Conv2d(512, 512, kernel_size=(3, 3), stride=(1, 1), padding=(1, 1))\n",
       "    (24): ReLU(inplace=True)\n",
       "    (25): Conv2d(512, 512, kernel_size=(3, 3), stride=(1, 1), padding=(1, 1))\n",
       "    (26): ReLU(inplace=True)\n",
       "    (27): MaxPool2d(kernel_size=2, stride=2, padding=0, dilation=1, ceil_mode=False)\n",
       "    (28): Conv2d(512, 512, kernel_size=(3, 3), stride=(1, 1), padding=(1, 1))\n",
       "    (29): ReLU(inplace=True)\n",
       "    (30): Conv2d(512, 512, kernel_size=(3, 3), stride=(1, 1), padding=(1, 1))\n",
       "    (31): ReLU(inplace=True)\n",
       "    (32): Conv2d(512, 512, kernel_size=(3, 3), stride=(1, 1), padding=(1, 1))\n",
       "    (33): ReLU(inplace=True)\n",
       "    (34): Conv2d(512, 512, kernel_size=(3, 3), stride=(1, 1), padding=(1, 1))\n",
       "    (35): ReLU(inplace=True)\n",
       "    (36): MaxPool2d(kernel_size=2, stride=2, padding=0, dilation=1, ceil_mode=False)\n",
       "  )\n",
       "  (avgpool): AdaptiveAvgPool2d(output_size=(7, 7))\n",
       "  (classifier): Sequential(\n",
       "    (0): Linear(in_features=25088, out_features=4096, bias=True)\n",
       "    (1): ReLU(inplace=True)\n",
       "    (2): Dropout(p=0.5, inplace=False)\n",
       "    (3): Linear(in_features=4096, out_features=4096, bias=True)\n",
       "    (4): ReLU(inplace=True)\n",
       "    (5): Dropout(p=0.5, inplace=False)\n",
       "    (6): Linear(in_features=4096, out_features=10, bias=True)\n",
       "    (7): LogSoftmax(dim=-1)\n",
       "  )\n",
       ")"
      ]
     },
     "execution_count": 5,
     "metadata": {},
     "output_type": "execute_result"
    }
   ],
   "source": [
    "model = models.vgg19(pretrained=False)\n",
    "model.classifier[6] = nn.Linear(4096, 10)\n",
    "model.classifier.add_module(\"7\", nn.LogSoftmax(-1))\n",
    "initial_state = deepcopy(model.state_dict())\n",
    "model.to(trainer.device)"
   ]
  },
  {
   "cell_type": "code",
   "execution_count": 6,
   "id": "7758f66d-5f5b-42b1-9c44-1def0b22baff",
   "metadata": {},
   "outputs": [
    {
     "data": {
      "text/plain": [
       "139611210"
      ]
     },
     "execution_count": 6,
     "metadata": {},
     "output_type": "execute_result"
    }
   ],
   "source": [
    "sum(param.numel() for param in model.parameters())"
   ]
  },
  {
   "cell_type": "code",
   "execution_count": 7,
   "id": "a060c907-9f50-4e46-ab21-d4e04994fffe",
   "metadata": {},
   "outputs": [],
   "source": [
    "state_path = \"vgg19_initial_state.pth\"\n",
    "if os.path.exists(state_path):\n",
    "    initial_state = torch.load(state_path)\n",
    "    model.load_state_dict(initial_state)\n",
    "    model.to(trainer.device)\n",
    "else:\n",
    "    torch.save(initial_state, state_path)"
   ]
  },
  {
   "cell_type": "code",
   "execution_count": 8,
   "id": "diverse-dutch",
   "metadata": {},
   "outputs": [
    {
     "data": {
      "text/plain": [
       "(0.1043, 2.302760050201416)"
      ]
     },
     "execution_count": 8,
     "metadata": {},
     "output_type": "execute_result"
    }
   ],
   "source": [
    "trainer.validation(model, dl[\"valid\"])"
   ]
  },
  {
   "cell_type": "markdown",
   "id": "wound-russell",
   "metadata": {},
   "source": [
    "## Momentum"
   ]
  },
  {
   "cell_type": "code",
   "execution_count": 9,
   "id": "attended-awareness",
   "metadata": {},
   "outputs": [],
   "source": [
    "optimizer = AcceleratedSGD(model.parameters(), 1e-2, k=10, momentum=0.9, weight_decay=1e-5, lambda_=1e-16)\n",
    "logger = Logger(\"vgg19_log_augmentation-early_stopping.txt.no_resizing\")"
   ]
  },
  {
   "cell_type": "code",
   "execution_count": 10,
   "id": "informed-macedonia",
   "metadata": {},
   "outputs": [
    {
     "name": "stdout",
     "output_type": "stream",
     "text": [
      "100%|██████████████████████████████████████████████████████████| 313/313 [00:23<00:00, 13.24it/s, loss=2.1611]\n",
      "Epoch 1 | Training loss: 2.1611, validation accuracy: 0.2535, validation loss: 1.9201\n",
      "100%|██████████████████████████████████████████████████████████| 313/313 [00:23<00:00, 13.18it/s, loss=1.8354]\n",
      "Epoch 2 | Training loss: 1.8354, validation accuracy: 0.3438, validation loss: 1.6752\n",
      "100%|██████████████████████████████████████████████████████████| 313/313 [00:23<00:00, 13.13it/s, loss=1.6278]\n",
      "Epoch 3 | Training loss: 1.6278, validation accuracy: 0.4493, validation loss: 1.4668\n",
      "100%|██████████████████████████████████████████████████████████| 313/313 [00:23<00:00, 13.07it/s, loss=1.4521]\n",
      "Epoch 4 | Training loss: 1.4521, validation accuracy: 0.5288, validation loss: 1.2978\n",
      "100%|██████████████████████████████████████████████████████████| 313/313 [00:23<00:00, 13.05it/s, loss=1.3332]\n",
      "Epoch 5 | Training loss: 1.3332, validation accuracy: 0.5430, validation loss: 1.2779\n",
      "100%|██████████████████████████████████████████████████████████| 313/313 [00:24<00:00, 13.04it/s, loss=1.2010]\n",
      "Epoch 6 | Training loss: 1.2010, validation accuracy: 0.6093, validation loss: 1.1024\n",
      "100%|██████████████████████████████████████████████████████████| 313/313 [00:23<00:00, 13.06it/s, loss=1.0864]\n",
      "Epoch 7 | Training loss: 1.0864, validation accuracy: 0.6552, validation loss: 0.9860\n",
      "100%|██████████████████████████████████████████████████████████| 313/313 [00:23<00:00, 13.05it/s, loss=1.0011]\n",
      "Epoch 8 | Training loss: 1.0011, validation accuracy: 0.6755, validation loss: 0.9379\n",
      "100%|██████████████████████████████████████████████████████████| 313/313 [00:24<00:00, 13.03it/s, loss=0.9288]\n",
      "Epoch 9 | Training loss: 0.9288, validation accuracy: 0.7010, validation loss: 0.8445\n",
      "100%|██████████████████████████████████████████████████████████| 313/313 [00:23<00:00, 13.05it/s, loss=0.8731]\n",
      "Epoch 10 | Training loss: 0.8731, validation accuracy: 0.7109, validation loss: 0.8577\n",
      "100%|██████████████████████████████████████████████████████████| 313/313 [00:23<00:00, 13.06it/s, loss=0.8325]\n",
      "Epoch 11 | Training loss: 0.8325, validation accuracy: 0.7481, validation loss: 0.7485\n",
      "100%|██████████████████████████████████████████████████████████| 313/313 [00:23<00:00, 13.06it/s, loss=0.7645]\n",
      "Epoch 12 | Training loss: 0.7645, validation accuracy: 0.7614, validation loss: 0.6775\n",
      "100%|██████████████████████████████████████████████████████████| 313/313 [00:23<00:00, 13.06it/s, loss=0.7350]\n",
      "Epoch 13 | Training loss: 0.7350, validation accuracy: 0.7747, validation loss: 0.6775\n",
      "100%|██████████████████████████████████████████████████████████| 313/313 [00:23<00:00, 13.05it/s, loss=0.6887]\n",
      "Epoch 14 | Training loss: 0.6887, validation accuracy: 0.7841, validation loss: 0.6295\n",
      "100%|██████████████████████████████████████████████████████████| 313/313 [00:24<00:00, 13.03it/s, loss=0.6582]\n",
      "Epoch 15 | Training loss: 0.6582, validation accuracy: 0.7961, validation loss: 0.6218\n",
      "100%|██████████████████████████████████████████████████████████| 313/313 [00:24<00:00, 13.03it/s, loss=0.6291]\n",
      "Epoch 16 | Training loss: 0.6291, validation accuracy: 0.8061, validation loss: 0.5919\n",
      "100%|██████████████████████████████████████████████████████████| 313/313 [00:23<00:00, 13.04it/s, loss=0.5944]\n",
      "Epoch 17 | Training loss: 0.5944, validation accuracy: 0.8100, validation loss: 0.5835\n",
      "100%|██████████████████████████████████████████████████████████| 313/313 [00:24<00:00, 13.03it/s, loss=0.5640]\n",
      "Epoch 18 | Training loss: 0.5640, validation accuracy: 0.8094, validation loss: 0.5618\n",
      "100%|██████████████████████████████████████████████████████████| 313/313 [00:23<00:00, 13.04it/s, loss=0.5427]\n",
      "Epoch 19 | Training loss: 0.5427, validation accuracy: 0.8210, validation loss: 0.5406\n",
      "100%|██████████████████████████████████████████████████████████| 313/313 [00:24<00:00, 13.03it/s, loss=0.5215]\n",
      "Epoch 20 | Training loss: 0.5215, validation accuracy: 0.8284, validation loss: 0.5227\n",
      "100%|██████████████████████████████████████████████████████████| 313/313 [00:23<00:00, 13.05it/s, loss=0.4889]\n",
      "Epoch 21 | Training loss: 0.4889, validation accuracy: 0.8213, validation loss: 0.5623\n",
      "100%|██████████████████████████████████████████████████████████| 313/313 [00:24<00:00, 13.04it/s, loss=0.4770]\n",
      "Epoch 22 | Training loss: 0.4770, validation accuracy: 0.8221, validation loss: 0.5552\n",
      "100%|██████████████████████████████████████████████████████████| 313/313 [00:24<00:00, 12.99it/s, loss=0.4468]\n",
      "Epoch 23 | Training loss: 0.4468, validation accuracy: 0.8359, validation loss: 0.5054\n",
      "100%|██████████████████████████████████████████████████████████| 313/313 [00:24<00:00, 12.99it/s, loss=0.4417]\n",
      "Epoch 24 | Training loss: 0.4417, validation accuracy: 0.8410, validation loss: 0.4886\n",
      "100%|██████████████████████████████████████████████████████████| 313/313 [00:24<00:00, 13.03it/s, loss=0.4173]\n",
      "Epoch 25 | Training loss: 0.4173, validation accuracy: 0.8259, validation loss: 0.5387\n",
      "100%|██████████████████████████████████████████████████████████| 313/313 [00:24<00:00, 13.02it/s, loss=0.4100]\n",
      "Epoch 26 | Training loss: 0.4100, validation accuracy: 0.8220, validation loss: 0.5741\n",
      "100%|██████████████████████████████████████████████████████████| 313/313 [00:24<00:00, 13.04it/s, loss=0.3801]\n",
      "Epoch 27 | Training loss: 0.3801, validation accuracy: 0.8370, validation loss: 0.5203\n",
      "100%|██████████████████████████████████████████████████████████| 313/313 [00:23<00:00, 13.04it/s, loss=0.3736]\n",
      "Epoch 28 | Training loss: 0.3736, validation accuracy: 0.8468, validation loss: 0.4968\n",
      "100%|██████████████████████████████████████████████████████████| 313/313 [00:24<00:00, 13.04it/s, loss=0.3511]\n",
      "Epoch 29 | Training loss: 0.3511, validation accuracy: 0.8320, validation loss: 0.5464\n",
      "100%|██████████████████████████████████████████████████████████| 313/313 [00:23<00:00, 13.05it/s, loss=0.3428]\n",
      "Epoch 30 | Training loss: 0.3428, validation accuracy: 0.8399, validation loss: 0.5391\n",
      "100%|██████████████████████████████████████████████████████████| 313/313 [00:24<00:00, 13.04it/s, loss=0.3269]\n",
      "Epoch 31 | Training loss: 0.3269, validation accuracy: 0.8422, validation loss: 0.5142\n",
      "100%|██████████████████████████████████████████████████████████| 313/313 [00:23<00:00, 13.05it/s, loss=0.3140]\n",
      "Epoch 32 | Training loss: 0.3140, validation accuracy: 0.8384, validation loss: 0.5390\n",
      "100%|██████████████████████████████████████████████████████████| 313/313 [00:23<00:00, 13.05it/s, loss=0.3011]\n",
      "Epoch 33 | Training loss: 0.3011, validation accuracy: 0.8458, validation loss: 0.5095\n",
      "100%|██████████████████████████████████████████████████████████| 313/313 [00:23<00:00, 13.04it/s, loss=0.2915]\n",
      "Epoch 34 | Training loss: 0.2915, validation accuracy: 0.8467, validation loss: 0.5307\n"
     ]
    }
   ],
   "source": [
    "torch.manual_seed(2020)\n",
    "max_epochs = 300\n",
    "early_stopping = EarlyStopping(10)\n",
    "\n",
    "for epoch in range(max_epochs):\n",
    "    train_loss = trainer.train_epoch(model, optimizer, dl[\"train\"])\n",
    "    optimizer.finish_epoch()\n",
    "    val_acc, val_loss = trainer.validation(model, dl[\"valid\"])\n",
    "    logger.log(\"Epoch\", epoch+1, \"|\", \n",
    "          f\"Training loss: {train_loss:.4f}, validation accuracy: {val_acc:.4f}, validation loss: {val_loss:.4f}\")\n",
    "    if early_stopping.should_stop(val_loss):\n",
    "        break"
   ]
  },
  {
   "cell_type": "code",
   "execution_count": 11,
   "id": "unable-error",
   "metadata": {},
   "outputs": [
    {
     "name": "stdout",
     "output_type": "stream",
     "text": [
      "Train: (0.909975, 0.26392972049713137)\n",
      "Valid: (0.8467, 0.5307384500980378)\n"
     ]
    }
   ],
   "source": [
    "train_score = trainer.validation(model, dl[\"train\"])\n",
    "valid_score = trainer.validation(model, dl[\"valid\"])\n",
    "logger.log(\"Train:\", train_score)\n",
    "logger.log(\"Valid:\", valid_score)"
   ]
  },
  {
   "cell_type": "code",
   "execution_count": 12,
   "id": "hungarian-japanese",
   "metadata": {},
   "outputs": [
    {
     "data": {
      "text/plain": [
       "VGG(\n",
       "  (features): Sequential(\n",
       "    (0): Conv2d(3, 64, kernel_size=(3, 3), stride=(1, 1), padding=(1, 1))\n",
       "    (1): ReLU(inplace=True)\n",
       "    (2): Conv2d(64, 64, kernel_size=(3, 3), stride=(1, 1), padding=(1, 1))\n",
       "    (3): ReLU(inplace=True)\n",
       "    (4): MaxPool2d(kernel_size=2, stride=2, padding=0, dilation=1, ceil_mode=False)\n",
       "    (5): Conv2d(64, 128, kernel_size=(3, 3), stride=(1, 1), padding=(1, 1))\n",
       "    (6): ReLU(inplace=True)\n",
       "    (7): Conv2d(128, 128, kernel_size=(3, 3), stride=(1, 1), padding=(1, 1))\n",
       "    (8): ReLU(inplace=True)\n",
       "    (9): MaxPool2d(kernel_size=2, stride=2, padding=0, dilation=1, ceil_mode=False)\n",
       "    (10): Conv2d(128, 256, kernel_size=(3, 3), stride=(1, 1), padding=(1, 1))\n",
       "    (11): ReLU(inplace=True)\n",
       "    (12): Conv2d(256, 256, kernel_size=(3, 3), stride=(1, 1), padding=(1, 1))\n",
       "    (13): ReLU(inplace=True)\n",
       "    (14): Conv2d(256, 256, kernel_size=(3, 3), stride=(1, 1), padding=(1, 1))\n",
       "    (15): ReLU(inplace=True)\n",
       "    (16): Conv2d(256, 256, kernel_size=(3, 3), stride=(1, 1), padding=(1, 1))\n",
       "    (17): ReLU(inplace=True)\n",
       "    (18): MaxPool2d(kernel_size=2, stride=2, padding=0, dilation=1, ceil_mode=False)\n",
       "    (19): Conv2d(256, 512, kernel_size=(3, 3), stride=(1, 1), padding=(1, 1))\n",
       "    (20): ReLU(inplace=True)\n",
       "    (21): Conv2d(512, 512, kernel_size=(3, 3), stride=(1, 1), padding=(1, 1))\n",
       "    (22): ReLU(inplace=True)\n",
       "    (23): Conv2d(512, 512, kernel_size=(3, 3), stride=(1, 1), padding=(1, 1))\n",
       "    (24): ReLU(inplace=True)\n",
       "    (25): Conv2d(512, 512, kernel_size=(3, 3), stride=(1, 1), padding=(1, 1))\n",
       "    (26): ReLU(inplace=True)\n",
       "    (27): MaxPool2d(kernel_size=2, stride=2, padding=0, dilation=1, ceil_mode=False)\n",
       "    (28): Conv2d(512, 512, kernel_size=(3, 3), stride=(1, 1), padding=(1, 1))\n",
       "    (29): ReLU(inplace=True)\n",
       "    (30): Conv2d(512, 512, kernel_size=(3, 3), stride=(1, 1), padding=(1, 1))\n",
       "    (31): ReLU(inplace=True)\n",
       "    (32): Conv2d(512, 512, kernel_size=(3, 3), stride=(1, 1), padding=(1, 1))\n",
       "    (33): ReLU(inplace=True)\n",
       "    (34): Conv2d(512, 512, kernel_size=(3, 3), stride=(1, 1), padding=(1, 1))\n",
       "    (35): ReLU(inplace=True)\n",
       "    (36): MaxPool2d(kernel_size=2, stride=2, padding=0, dilation=1, ceil_mode=False)\n",
       "  )\n",
       "  (avgpool): AdaptiveAvgPool2d(output_size=(7, 7))\n",
       "  (classifier): Sequential(\n",
       "    (0): Linear(in_features=25088, out_features=4096, bias=True)\n",
       "    (1): ReLU(inplace=True)\n",
       "    (2): Dropout(p=0.5, inplace=False)\n",
       "    (3): Linear(in_features=4096, out_features=4096, bias=True)\n",
       "    (4): ReLU(inplace=True)\n",
       "    (5): Dropout(p=0.5, inplace=False)\n",
       "    (6): Linear(in_features=4096, out_features=10, bias=True)\n",
       "    (7): LogSoftmax(dim=-1)\n",
       "  )\n",
       ")"
      ]
     },
     "execution_count": 12,
     "metadata": {},
     "output_type": "execute_result"
    }
   ],
   "source": [
    "model_acc = deepcopy(model)\n",
    "optimizer.accelerate()\n",
    "optimizer.store_parameters([model_acc.parameters()])\n",
    "model_acc.to(trainer.device)"
   ]
  },
  {
   "cell_type": "code",
   "execution_count": 13,
   "id": "exciting-quilt",
   "metadata": {},
   "outputs": [
    {
     "name": "stdout",
     "output_type": "stream",
     "text": [
      "Train: (0.9393, 0.18326329290866852)\n",
      "Valid: (0.8705, 0.4170723099708557)\n"
     ]
    }
   ],
   "source": [
    "train_score = trainer.validation(model_acc, dl[\"train\"])\n",
    "valid_score = trainer.validation(model_acc, dl[\"valid\"])\n",
    "logger.log(\"Train:\", train_score)\n",
    "logger.log(\"Valid:\", valid_score)"
   ]
  },
  {
   "cell_type": "code",
   "execution_count": 14,
   "id": "sought-enforcement",
   "metadata": {},
   "outputs": [],
   "source": [
    "optimizer.param_groups[0][\"lr\"] = 1e-3"
   ]
  },
  {
   "cell_type": "code",
   "execution_count": 15,
   "id": "specialized-glossary",
   "metadata": {},
   "outputs": [
    {
     "name": "stdout",
     "output_type": "stream",
     "text": [
      "100%|██████████████████████████████████████████████████████████| 313/313 [00:23<00:00, 13.05it/s, loss=0.1859]\n",
      "Epoch 1 | Training loss: 0.1859, validation accuracy: 0.8698, validation loss: 0.4737\n",
      "100%|██████████████████████████████████████████████████████████| 313/313 [00:24<00:00, 13.03it/s, loss=0.1586]\n",
      "Epoch 2 | Training loss: 0.1586, validation accuracy: 0.8713, validation loss: 0.4825\n",
      "100%|██████████████████████████████████████████████████████████| 313/313 [00:24<00:00, 13.04it/s, loss=0.1485]\n",
      "Epoch 3 | Training loss: 0.1485, validation accuracy: 0.8713, validation loss: 0.4949\n",
      "100%|██████████████████████████████████████████████████████████| 313/313 [00:24<00:00, 13.04it/s, loss=0.1405]\n",
      "Epoch 4 | Training loss: 0.1405, validation accuracy: 0.8723, validation loss: 0.4902\n",
      "100%|██████████████████████████████████████████████████████████| 313/313 [00:24<00:00, 13.04it/s, loss=0.1363]\n",
      "Epoch 5 | Training loss: 0.1363, validation accuracy: 0.8736, validation loss: 0.4927\n",
      "100%|██████████████████████████████████████████████████████████| 313/313 [00:24<00:00, 13.03it/s, loss=0.1313]\n",
      "Epoch 6 | Training loss: 0.1313, validation accuracy: 0.8722, validation loss: 0.5017\n",
      "100%|██████████████████████████████████████████████████████████| 313/313 [00:24<00:00, 13.02it/s, loss=0.1234]\n",
      "Epoch 7 | Training loss: 0.1234, validation accuracy: 0.8727, validation loss: 0.5079\n",
      "100%|██████████████████████████████████████████████████████████| 313/313 [00:24<00:00, 13.02it/s, loss=0.1227]\n",
      "Epoch 8 | Training loss: 0.1227, validation accuracy: 0.8751, validation loss: 0.4951\n",
      "100%|██████████████████████████████████████████████████████████| 313/313 [00:24<00:00, 13.04it/s, loss=0.1198]\n",
      "Epoch 9 | Training loss: 0.1198, validation accuracy: 0.8736, validation loss: 0.4988\n",
      "100%|██████████████████████████████████████████████████████████| 313/313 [00:24<00:00, 13.03it/s, loss=0.1187]\n",
      "Epoch 10 | Training loss: 0.1187, validation accuracy: 0.8746, validation loss: 0.5054\n",
      "100%|██████████████████████████████████████████████████████████| 313/313 [00:24<00:00, 13.00it/s, loss=0.1147]\n",
      "Epoch 11 | Training loss: 0.1147, validation accuracy: 0.8733, validation loss: 0.5109\n"
     ]
    }
   ],
   "source": [
    "max_epochs = 300\n",
    "early_stopping = EarlyStopping(10)\n",
    "\n",
    "for epoch in range(max_epochs):\n",
    "    train_loss = trainer.train_epoch(model, optimizer, dl[\"train\"])\n",
    "    optimizer.finish_epoch()\n",
    "    val_acc, val_loss = trainer.validation(model, dl[\"valid\"])\n",
    "    logger.log(\"Epoch\", epoch+1, \"|\", \n",
    "          f\"Training loss: {train_loss:.4f}, validation accuracy: {val_acc:.4f}, validation loss: {val_loss:.4f}\")\n",
    "    if early_stopping.should_stop(val_loss):\n",
    "        break"
   ]
  },
  {
   "cell_type": "code",
   "execution_count": 16,
   "id": "significant-player",
   "metadata": {},
   "outputs": [
    {
     "name": "stdout",
     "output_type": "stream",
     "text": [
      "Train: (0.963725, 0.1060615211367607)\n",
      "Valid: (0.8733, 0.5109335117340088)\n"
     ]
    }
   ],
   "source": [
    "train_score = trainer.validation(model, dl[\"train\"])\n",
    "valid_score = trainer.validation(model, dl[\"valid\"])\n",
    "logger.log(\"Train:\", train_score)\n",
    "logger.log(\"Valid:\", valid_score)"
   ]
  },
  {
   "cell_type": "code",
   "execution_count": 17,
   "id": "printable-spare",
   "metadata": {},
   "outputs": [
    {
     "data": {
      "text/plain": [
       "VGG(\n",
       "  (features): Sequential(\n",
       "    (0): Conv2d(3, 64, kernel_size=(3, 3), stride=(1, 1), padding=(1, 1))\n",
       "    (1): ReLU(inplace=True)\n",
       "    (2): Conv2d(64, 64, kernel_size=(3, 3), stride=(1, 1), padding=(1, 1))\n",
       "    (3): ReLU(inplace=True)\n",
       "    (4): MaxPool2d(kernel_size=2, stride=2, padding=0, dilation=1, ceil_mode=False)\n",
       "    (5): Conv2d(64, 128, kernel_size=(3, 3), stride=(1, 1), padding=(1, 1))\n",
       "    (6): ReLU(inplace=True)\n",
       "    (7): Conv2d(128, 128, kernel_size=(3, 3), stride=(1, 1), padding=(1, 1))\n",
       "    (8): ReLU(inplace=True)\n",
       "    (9): MaxPool2d(kernel_size=2, stride=2, padding=0, dilation=1, ceil_mode=False)\n",
       "    (10): Conv2d(128, 256, kernel_size=(3, 3), stride=(1, 1), padding=(1, 1))\n",
       "    (11): ReLU(inplace=True)\n",
       "    (12): Conv2d(256, 256, kernel_size=(3, 3), stride=(1, 1), padding=(1, 1))\n",
       "    (13): ReLU(inplace=True)\n",
       "    (14): Conv2d(256, 256, kernel_size=(3, 3), stride=(1, 1), padding=(1, 1))\n",
       "    (15): ReLU(inplace=True)\n",
       "    (16): Conv2d(256, 256, kernel_size=(3, 3), stride=(1, 1), padding=(1, 1))\n",
       "    (17): ReLU(inplace=True)\n",
       "    (18): MaxPool2d(kernel_size=2, stride=2, padding=0, dilation=1, ceil_mode=False)\n",
       "    (19): Conv2d(256, 512, kernel_size=(3, 3), stride=(1, 1), padding=(1, 1))\n",
       "    (20): ReLU(inplace=True)\n",
       "    (21): Conv2d(512, 512, kernel_size=(3, 3), stride=(1, 1), padding=(1, 1))\n",
       "    (22): ReLU(inplace=True)\n",
       "    (23): Conv2d(512, 512, kernel_size=(3, 3), stride=(1, 1), padding=(1, 1))\n",
       "    (24): ReLU(inplace=True)\n",
       "    (25): Conv2d(512, 512, kernel_size=(3, 3), stride=(1, 1), padding=(1, 1))\n",
       "    (26): ReLU(inplace=True)\n",
       "    (27): MaxPool2d(kernel_size=2, stride=2, padding=0, dilation=1, ceil_mode=False)\n",
       "    (28): Conv2d(512, 512, kernel_size=(3, 3), stride=(1, 1), padding=(1, 1))\n",
       "    (29): ReLU(inplace=True)\n",
       "    (30): Conv2d(512, 512, kernel_size=(3, 3), stride=(1, 1), padding=(1, 1))\n",
       "    (31): ReLU(inplace=True)\n",
       "    (32): Conv2d(512, 512, kernel_size=(3, 3), stride=(1, 1), padding=(1, 1))\n",
       "    (33): ReLU(inplace=True)\n",
       "    (34): Conv2d(512, 512, kernel_size=(3, 3), stride=(1, 1), padding=(1, 1))\n",
       "    (35): ReLU(inplace=True)\n",
       "    (36): MaxPool2d(kernel_size=2, stride=2, padding=0, dilation=1, ceil_mode=False)\n",
       "  )\n",
       "  (avgpool): AdaptiveAvgPool2d(output_size=(7, 7))\n",
       "  (classifier): Sequential(\n",
       "    (0): Linear(in_features=25088, out_features=4096, bias=True)\n",
       "    (1): ReLU(inplace=True)\n",
       "    (2): Dropout(p=0.5, inplace=False)\n",
       "    (3): Linear(in_features=4096, out_features=4096, bias=True)\n",
       "    (4): ReLU(inplace=True)\n",
       "    (5): Dropout(p=0.5, inplace=False)\n",
       "    (6): Linear(in_features=4096, out_features=10, bias=True)\n",
       "    (7): LogSoftmax(dim=-1)\n",
       "  )\n",
       ")"
      ]
     },
     "execution_count": 17,
     "metadata": {},
     "output_type": "execute_result"
    }
   ],
   "source": [
    "model_acc = deepcopy(model)\n",
    "optimizer.accelerate()\n",
    "optimizer.store_parameters([model_acc.parameters()])\n",
    "model_acc.to(trainer.device)"
   ]
  },
  {
   "cell_type": "code",
   "execution_count": 18,
   "id": "north-causing",
   "metadata": {},
   "outputs": [
    {
     "name": "stdout",
     "output_type": "stream",
     "text": [
      "Train: (0.961975, 0.1120340293765068)\n",
      "Valid: (0.875, 0.4917816843032837)\n"
     ]
    }
   ],
   "source": [
    "train_score = trainer.validation(model_acc, dl[\"train\"])\n",
    "valid_score = trainer.validation(model_acc, dl[\"valid\"])\n",
    "logger.log(\"Train:\", train_score)\n",
    "logger.log(\"Valid:\", valid_score)"
   ]
  },
  {
   "cell_type": "markdown",
   "id": "consecutive-point",
   "metadata": {},
   "source": [
    "## Epoch average, span = 10"
   ]
  },
  {
   "cell_type": "code",
   "execution_count": 22,
   "id": "acute-latest",
   "metadata": {},
   "outputs": [
    {
     "data": {
      "text/plain": [
       "VGG(\n",
       "  (features): Sequential(\n",
       "    (0): Conv2d(3, 64, kernel_size=(3, 3), stride=(1, 1), padding=(1, 1))\n",
       "    (1): ReLU(inplace=True)\n",
       "    (2): Conv2d(64, 64, kernel_size=(3, 3), stride=(1, 1), padding=(1, 1))\n",
       "    (3): ReLU(inplace=True)\n",
       "    (4): MaxPool2d(kernel_size=2, stride=2, padding=0, dilation=1, ceil_mode=False)\n",
       "    (5): Conv2d(64, 128, kernel_size=(3, 3), stride=(1, 1), padding=(1, 1))\n",
       "    (6): ReLU(inplace=True)\n",
       "    (7): Conv2d(128, 128, kernel_size=(3, 3), stride=(1, 1), padding=(1, 1))\n",
       "    (8): ReLU(inplace=True)\n",
       "    (9): MaxPool2d(kernel_size=2, stride=2, padding=0, dilation=1, ceil_mode=False)\n",
       "    (10): Conv2d(128, 256, kernel_size=(3, 3), stride=(1, 1), padding=(1, 1))\n",
       "    (11): ReLU(inplace=True)\n",
       "    (12): Conv2d(256, 256, kernel_size=(3, 3), stride=(1, 1), padding=(1, 1))\n",
       "    (13): ReLU(inplace=True)\n",
       "    (14): Conv2d(256, 256, kernel_size=(3, 3), stride=(1, 1), padding=(1, 1))\n",
       "    (15): ReLU(inplace=True)\n",
       "    (16): Conv2d(256, 256, kernel_size=(3, 3), stride=(1, 1), padding=(1, 1))\n",
       "    (17): ReLU(inplace=True)\n",
       "    (18): MaxPool2d(kernel_size=2, stride=2, padding=0, dilation=1, ceil_mode=False)\n",
       "    (19): Conv2d(256, 512, kernel_size=(3, 3), stride=(1, 1), padding=(1, 1))\n",
       "    (20): ReLU(inplace=True)\n",
       "    (21): Conv2d(512, 512, kernel_size=(3, 3), stride=(1, 1), padding=(1, 1))\n",
       "    (22): ReLU(inplace=True)\n",
       "    (23): Conv2d(512, 512, kernel_size=(3, 3), stride=(1, 1), padding=(1, 1))\n",
       "    (24): ReLU(inplace=True)\n",
       "    (25): Conv2d(512, 512, kernel_size=(3, 3), stride=(1, 1), padding=(1, 1))\n",
       "    (26): ReLU(inplace=True)\n",
       "    (27): MaxPool2d(kernel_size=2, stride=2, padding=0, dilation=1, ceil_mode=False)\n",
       "    (28): Conv2d(512, 512, kernel_size=(3, 3), stride=(1, 1), padding=(1, 1))\n",
       "    (29): ReLU(inplace=True)\n",
       "    (30): Conv2d(512, 512, kernel_size=(3, 3), stride=(1, 1), padding=(1, 1))\n",
       "    (31): ReLU(inplace=True)\n",
       "    (32): Conv2d(512, 512, kernel_size=(3, 3), stride=(1, 1), padding=(1, 1))\n",
       "    (33): ReLU(inplace=True)\n",
       "    (34): Conv2d(512, 512, kernel_size=(3, 3), stride=(1, 1), padding=(1, 1))\n",
       "    (35): ReLU(inplace=True)\n",
       "    (36): MaxPool2d(kernel_size=2, stride=2, padding=0, dilation=1, ceil_mode=False)\n",
       "  )\n",
       "  (avgpool): AdaptiveAvgPool2d(output_size=(7, 7))\n",
       "  (classifier): Sequential(\n",
       "    (0): Linear(in_features=25088, out_features=4096, bias=True)\n",
       "    (1): ReLU(inplace=True)\n",
       "    (2): Dropout(p=0.5, inplace=False)\n",
       "    (3): Linear(in_features=4096, out_features=4096, bias=True)\n",
       "    (4): ReLU(inplace=True)\n",
       "    (5): Dropout(p=0.5, inplace=False)\n",
       "    (6): Linear(in_features=4096, out_features=10, bias=True)\n",
       "    (7): LogSoftmax(dim=-1)\n",
       "  )\n",
       ")"
      ]
     },
     "execution_count": 22,
     "metadata": {},
     "output_type": "execute_result"
    }
   ],
   "source": [
    "model.load_state_dict(initial_state)\n",
    "model.to(trainer.device)"
   ]
  },
  {
   "cell_type": "code",
   "execution_count": 23,
   "id": "ambient-respondent",
   "metadata": {},
   "outputs": [
    {
     "data": {
      "text/plain": [
       "(0.1043, 2.302760050201416)"
      ]
     },
     "execution_count": 23,
     "metadata": {},
     "output_type": "execute_result"
    }
   ],
   "source": [
    "trainer.validation(model, dl[\"valid\"])"
   ]
  },
  {
   "cell_type": "code",
   "execution_count": 24,
   "id": "unusual-memorial",
   "metadata": {},
   "outputs": [],
   "source": [
    "optimizer = AcceleratedSGD(model.parameters(), 1e-2, k=10, momentum=0.9, weight_decay=1e-5, lambda_=1e-8, mode=\"epoch_avg\", avg_alpha=2 / (10 + 1))\n",
    "logger = Logger(\"vgg19_log_augmentation_averaging_span10-early_stopping.txt\")"
   ]
  },
  {
   "cell_type": "code",
   "execution_count": 25,
   "id": "3711d25f-5966-48ce-ae41-96751de8893f",
   "metadata": {},
   "outputs": [
    {
     "name": "stdout",
     "output_type": "stream",
     "text": [
      "100%|██████████████████████████████████████████████████████████| 313/313 [00:27<00:00, 11.44it/s, loss=2.1627]\n",
      "Epoch 1 | Training loss: 2.1627, validation accuracy: 0.2518, validation loss: 1.9156\n",
      "100%|██████████████████████████████████████████████████████████| 313/313 [00:27<00:00, 11.42it/s, loss=1.8265]\n",
      "Epoch 2 | Training loss: 1.8265, validation accuracy: 0.3027, validation loss: 1.7506\n",
      "100%|██████████████████████████████████████████████████████████| 313/313 [00:27<00:00, 11.37it/s, loss=1.6314]\n",
      "Epoch 3 | Training loss: 1.6314, validation accuracy: 0.4537, validation loss: 1.4516\n",
      "100%|██████████████████████████████████████████████████████████| 313/313 [00:27<00:00, 11.31it/s, loss=1.4606]\n",
      "Epoch 4 | Training loss: 1.4606, validation accuracy: 0.5385, validation loss: 1.2868\n",
      "100%|██████████████████████████████████████████████████████████| 313/313 [00:27<00:00, 11.32it/s, loss=1.3261]\n",
      "Epoch 5 | Training loss: 1.3261, validation accuracy: 0.5249, validation loss: 1.3137\n",
      "100%|██████████████████████████████████████████████████████████| 313/313 [00:27<00:00, 11.32it/s, loss=1.2028]\n",
      "Epoch 6 | Training loss: 1.2028, validation accuracy: 0.6060, validation loss: 1.0741\n",
      "100%|██████████████████████████████████████████████████████████| 313/313 [00:27<00:00, 11.31it/s, loss=1.0973]\n",
      "Epoch 7 | Training loss: 1.0973, validation accuracy: 0.6665, validation loss: 0.9326\n",
      "100%|██████████████████████████████████████████████████████████| 313/313 [00:27<00:00, 11.31it/s, loss=1.0000]\n",
      "Epoch 8 | Training loss: 1.0000, validation accuracy: 0.6821, validation loss: 0.9118\n",
      "100%|██████████████████████████████████████████████████████████| 313/313 [00:27<00:00, 11.31it/s, loss=0.9283]\n",
      "Epoch 9 | Training loss: 0.9283, validation accuracy: 0.7105, validation loss: 0.8244\n",
      "100%|██████████████████████████████████████████████████████████| 313/313 [00:27<00:00, 11.32it/s, loss=0.8701]\n",
      "Epoch 10 | Training loss: 0.8701, validation accuracy: 0.7324, validation loss: 0.7739\n",
      "100%|██████████████████████████████████████████████████████████| 313/313 [00:27<00:00, 11.31it/s, loss=0.8288]\n",
      "Epoch 11 | Training loss: 0.8288, validation accuracy: 0.7413, validation loss: 0.7543\n",
      "100%|██████████████████████████████████████████████████████████| 313/313 [00:27<00:00, 11.30it/s, loss=0.7632]\n",
      "Epoch 12 | Training loss: 0.7632, validation accuracy: 0.7628, validation loss: 0.6902\n",
      "100%|██████████████████████████████████████████████████████████| 313/313 [00:27<00:00, 11.28it/s, loss=0.7248]\n",
      "Epoch 13 | Training loss: 0.7248, validation accuracy: 0.7744, validation loss: 0.6727\n",
      "100%|██████████████████████████████████████████████████████████| 313/313 [00:27<00:00, 11.29it/s, loss=0.6860]\n",
      "Epoch 14 | Training loss: 0.6860, validation accuracy: 0.7842, validation loss: 0.6291\n",
      "100%|██████████████████████████████████████████████████████████| 313/313 [00:27<00:00, 11.30it/s, loss=0.6506]\n",
      "Epoch 15 | Training loss: 0.6506, validation accuracy: 0.7962, validation loss: 0.6207\n",
      "100%|██████████████████████████████████████████████████████████| 313/313 [00:27<00:00, 11.30it/s, loss=0.6273]\n",
      "Epoch 16 | Training loss: 0.6273, validation accuracy: 0.8024, validation loss: 0.5973\n",
      "100%|██████████████████████████████████████████████████████████| 313/313 [00:27<00:00, 11.30it/s, loss=0.5920]\n",
      "Epoch 17 | Training loss: 0.5920, validation accuracy: 0.8043, validation loss: 0.6122\n",
      "100%|██████████████████████████████████████████████████████████| 313/313 [00:27<00:00, 11.30it/s, loss=0.5628]\n",
      "Epoch 18 | Training loss: 0.5628, validation accuracy: 0.8003, validation loss: 0.5953\n",
      "100%|██████████████████████████████████████████████████████████| 313/313 [00:27<00:00, 11.30it/s, loss=0.5339]\n",
      "Epoch 19 | Training loss: 0.5339, validation accuracy: 0.8124, validation loss: 0.5623\n",
      "100%|██████████████████████████████████████████████████████████| 313/313 [00:27<00:00, 11.31it/s, loss=0.5254]\n",
      "Epoch 20 | Training loss: 0.5254, validation accuracy: 0.8190, validation loss: 0.5731\n",
      "100%|██████████████████████████████████████████████████████████| 313/313 [00:27<00:00, 11.30it/s, loss=0.4906]\n",
      "Epoch 21 | Training loss: 0.4906, validation accuracy: 0.8268, validation loss: 0.5409\n",
      "100%|██████████████████████████████████████████████████████████| 313/313 [00:27<00:00, 11.29it/s, loss=0.4678]\n",
      "Epoch 22 | Training loss: 0.4678, validation accuracy: 0.8357, validation loss: 0.5119\n",
      "100%|██████████████████████████████████████████████████████████| 313/313 [00:27<00:00, 11.30it/s, loss=0.4531]\n",
      "Epoch 23 | Training loss: 0.4531, validation accuracy: 0.8317, validation loss: 0.5159\n",
      "100%|██████████████████████████████████████████████████████████| 313/313 [00:27<00:00, 11.30it/s, loss=0.4384]\n",
      "Epoch 24 | Training loss: 0.4384, validation accuracy: 0.8391, validation loss: 0.4889\n",
      "100%|██████████████████████████████████████████████████████████| 313/313 [00:27<00:00, 11.31it/s, loss=0.4072]\n",
      "Epoch 25 | Training loss: 0.4072, validation accuracy: 0.8248, validation loss: 0.5391\n",
      "100%|██████████████████████████████████████████████████████████| 313/313 [00:27<00:00, 11.29it/s, loss=0.4005]\n",
      "Epoch 26 | Training loss: 0.4005, validation accuracy: 0.8398, validation loss: 0.4964\n",
      "100%|██████████████████████████████████████████████████████████| 313/313 [00:27<00:00, 11.30it/s, loss=0.3842]\n",
      "Epoch 27 | Training loss: 0.3842, validation accuracy: 0.8358, validation loss: 0.5035\n",
      "100%|██████████████████████████████████████████████████████████| 313/313 [00:27<00:00, 11.29it/s, loss=0.3630]\n",
      "Epoch 28 | Training loss: 0.3630, validation accuracy: 0.8396, validation loss: 0.5100\n",
      "100%|██████████████████████████████████████████████████████████| 313/313 [00:27<00:00, 11.29it/s, loss=0.3539]\n",
      "Epoch 29 | Training loss: 0.3539, validation accuracy: 0.8357, validation loss: 0.5101\n",
      "100%|██████████████████████████████████████████████████████████| 313/313 [00:27<00:00, 11.29it/s, loss=0.3433]\n",
      "Epoch 30 | Training loss: 0.3433, validation accuracy: 0.8408, validation loss: 0.5117\n",
      "100%|██████████████████████████████████████████████████████████| 313/313 [00:27<00:00, 11.28it/s, loss=0.3338]\n",
      "Epoch 31 | Training loss: 0.3338, validation accuracy: 0.8307, validation loss: 0.5386\n",
      "100%|██████████████████████████████████████████████████████████| 313/313 [00:27<00:00, 11.28it/s, loss=0.3238]\n",
      "Epoch 32 | Training loss: 0.3238, validation accuracy: 0.8532, validation loss: 0.4996\n",
      "100%|██████████████████████████████████████████████████████████| 313/313 [00:27<00:00, 11.29it/s, loss=0.3010]\n",
      "Epoch 33 | Training loss: 0.3010, validation accuracy: 0.8439, validation loss: 0.5170\n",
      "100%|██████████████████████████████████████████████████████████| 313/313 [00:27<00:00, 11.28it/s, loss=0.2985]\n",
      "Epoch 34 | Training loss: 0.2985, validation accuracy: 0.8466, validation loss: 0.5284\n"
     ]
    }
   ],
   "source": [
    "torch.manual_seed(2020)\n",
    "max_epochs = 300\n",
    "early_stopping = EarlyStopping(10)\n",
    "\n",
    "for epoch in range(max_epochs):\n",
    "    train_loss = trainer.train_epoch(model, optimizer, dl[\"train\"])\n",
    "    optimizer.finish_epoch()\n",
    "    val_acc, val_loss = trainer.validation(model, dl[\"valid\"])\n",
    "    logger.log(\"Epoch\", epoch+1, \"|\", \n",
    "          f\"Training loss: {train_loss:.4f}, validation accuracy: {val_acc:.4f}, validation loss: {val_loss:.4f}\")\n",
    "    if early_stopping.should_stop(val_loss):\n",
    "        break"
   ]
  },
  {
   "cell_type": "code",
   "execution_count": 26,
   "id": "6b053fd6-15e5-49d7-87ca-2a1023c8ec24",
   "metadata": {},
   "outputs": [
    {
     "name": "stdout",
     "output_type": "stream",
     "text": [
      "Train: (0.911825, 0.2559004005908966)\n",
      "Valid: (0.8466, 0.5284058502197265)\n"
     ]
    }
   ],
   "source": [
    "train_score = trainer.validation(model, dl[\"train\"])\n",
    "valid_score = trainer.validation(model, dl[\"valid\"])\n",
    "logger.log(\"Train:\", train_score)\n",
    "logger.log(\"Valid:\", valid_score)"
   ]
  },
  {
   "cell_type": "code",
   "execution_count": 27,
   "id": "71344759-1865-489b-bbc5-618a7476aab3",
   "metadata": {},
   "outputs": [
    {
     "data": {
      "text/plain": [
       "VGG(\n",
       "  (features): Sequential(\n",
       "    (0): Conv2d(3, 64, kernel_size=(3, 3), stride=(1, 1), padding=(1, 1))\n",
       "    (1): ReLU(inplace=True)\n",
       "    (2): Conv2d(64, 64, kernel_size=(3, 3), stride=(1, 1), padding=(1, 1))\n",
       "    (3): ReLU(inplace=True)\n",
       "    (4): MaxPool2d(kernel_size=2, stride=2, padding=0, dilation=1, ceil_mode=False)\n",
       "    (5): Conv2d(64, 128, kernel_size=(3, 3), stride=(1, 1), padding=(1, 1))\n",
       "    (6): ReLU(inplace=True)\n",
       "    (7): Conv2d(128, 128, kernel_size=(3, 3), stride=(1, 1), padding=(1, 1))\n",
       "    (8): ReLU(inplace=True)\n",
       "    (9): MaxPool2d(kernel_size=2, stride=2, padding=0, dilation=1, ceil_mode=False)\n",
       "    (10): Conv2d(128, 256, kernel_size=(3, 3), stride=(1, 1), padding=(1, 1))\n",
       "    (11): ReLU(inplace=True)\n",
       "    (12): Conv2d(256, 256, kernel_size=(3, 3), stride=(1, 1), padding=(1, 1))\n",
       "    (13): ReLU(inplace=True)\n",
       "    (14): Conv2d(256, 256, kernel_size=(3, 3), stride=(1, 1), padding=(1, 1))\n",
       "    (15): ReLU(inplace=True)\n",
       "    (16): Conv2d(256, 256, kernel_size=(3, 3), stride=(1, 1), padding=(1, 1))\n",
       "    (17): ReLU(inplace=True)\n",
       "    (18): MaxPool2d(kernel_size=2, stride=2, padding=0, dilation=1, ceil_mode=False)\n",
       "    (19): Conv2d(256, 512, kernel_size=(3, 3), stride=(1, 1), padding=(1, 1))\n",
       "    (20): ReLU(inplace=True)\n",
       "    (21): Conv2d(512, 512, kernel_size=(3, 3), stride=(1, 1), padding=(1, 1))\n",
       "    (22): ReLU(inplace=True)\n",
       "    (23): Conv2d(512, 512, kernel_size=(3, 3), stride=(1, 1), padding=(1, 1))\n",
       "    (24): ReLU(inplace=True)\n",
       "    (25): Conv2d(512, 512, kernel_size=(3, 3), stride=(1, 1), padding=(1, 1))\n",
       "    (26): ReLU(inplace=True)\n",
       "    (27): MaxPool2d(kernel_size=2, stride=2, padding=0, dilation=1, ceil_mode=False)\n",
       "    (28): Conv2d(512, 512, kernel_size=(3, 3), stride=(1, 1), padding=(1, 1))\n",
       "    (29): ReLU(inplace=True)\n",
       "    (30): Conv2d(512, 512, kernel_size=(3, 3), stride=(1, 1), padding=(1, 1))\n",
       "    (31): ReLU(inplace=True)\n",
       "    (32): Conv2d(512, 512, kernel_size=(3, 3), stride=(1, 1), padding=(1, 1))\n",
       "    (33): ReLU(inplace=True)\n",
       "    (34): Conv2d(512, 512, kernel_size=(3, 3), stride=(1, 1), padding=(1, 1))\n",
       "    (35): ReLU(inplace=True)\n",
       "    (36): MaxPool2d(kernel_size=2, stride=2, padding=0, dilation=1, ceil_mode=False)\n",
       "  )\n",
       "  (avgpool): AdaptiveAvgPool2d(output_size=(7, 7))\n",
       "  (classifier): Sequential(\n",
       "    (0): Linear(in_features=25088, out_features=4096, bias=True)\n",
       "    (1): ReLU(inplace=True)\n",
       "    (2): Dropout(p=0.5, inplace=False)\n",
       "    (3): Linear(in_features=4096, out_features=4096, bias=True)\n",
       "    (4): ReLU(inplace=True)\n",
       "    (5): Dropout(p=0.5, inplace=False)\n",
       "    (6): Linear(in_features=4096, out_features=10, bias=True)\n",
       "    (7): LogSoftmax(dim=-1)\n",
       "  )\n",
       ")"
      ]
     },
     "execution_count": 27,
     "metadata": {},
     "output_type": "execute_result"
    }
   ],
   "source": [
    "model_acc = deepcopy(model)\n",
    "optimizer.accelerate()\n",
    "optimizer.store_parameters([model_acc.parameters()])\n",
    "model_acc.to(trainer.device)"
   ]
  },
  {
   "cell_type": "code",
   "execution_count": 28,
   "id": "e3dad2ae-5b73-4191-98e5-dcf4d2960125",
   "metadata": {},
   "outputs": [
    {
     "name": "stdout",
     "output_type": "stream",
     "text": [
      "Train: (0.937825, 0.18623180618286134)\n",
      "Valid: (0.873, 0.40214862213134767)\n"
     ]
    }
   ],
   "source": [
    "train_score = trainer.validation(model_acc, dl[\"train\"])\n",
    "valid_score = trainer.validation(model_acc, dl[\"valid\"])\n",
    "logger.log(\"Train:\", train_score)\n",
    "logger.log(\"Valid:\", valid_score)"
   ]
  },
  {
   "cell_type": "code",
   "execution_count": 29,
   "id": "f5a7d34c-9d4a-45f0-b225-521d31b3f499",
   "metadata": {},
   "outputs": [],
   "source": [
    "optimizer.param_groups[0][\"lr\"] = 1e-3"
   ]
  },
  {
   "cell_type": "code",
   "execution_count": 30,
   "id": "1d059d18-8801-4bb9-b12d-b654068d1599",
   "metadata": {},
   "outputs": [
    {
     "name": "stdout",
     "output_type": "stream",
     "text": [
      "100%|██████████████████████████████████████████████████████████| 313/313 [00:27<00:00, 11.27it/s, loss=0.1900]\n",
      "Epoch 1 | Training loss: 0.1900, validation accuracy: 0.8698, validation loss: 0.4631\n",
      "100%|██████████████████████████████████████████████████████████| 313/313 [00:27<00:00, 11.28it/s, loss=0.1589]\n",
      "Epoch 2 | Training loss: 0.1589, validation accuracy: 0.8725, validation loss: 0.4685\n",
      "100%|██████████████████████████████████████████████████████████| 313/313 [00:27<00:00, 11.28it/s, loss=0.1512]\n",
      "Epoch 3 | Training loss: 0.1512, validation accuracy: 0.8742, validation loss: 0.4785\n",
      "100%|██████████████████████████████████████████████████████████| 313/313 [00:27<00:00, 11.28it/s, loss=0.1425]\n",
      "Epoch 4 | Training loss: 0.1425, validation accuracy: 0.8717, validation loss: 0.4819\n",
      "100%|██████████████████████████████████████████████████████████| 313/313 [00:27<00:00, 11.27it/s, loss=0.1406]\n",
      "Epoch 5 | Training loss: 0.1406, validation accuracy: 0.8715, validation loss: 0.4883\n",
      "100%|██████████████████████████████████████████████████████████| 313/313 [00:27<00:00, 11.27it/s, loss=0.1306]\n",
      "Epoch 6 | Training loss: 0.1306, validation accuracy: 0.8700, validation loss: 0.4916\n",
      "100%|██████████████████████████████████████████████████████████| 313/313 [00:27<00:00, 11.27it/s, loss=0.1284]\n",
      "Epoch 7 | Training loss: 0.1284, validation accuracy: 0.8720, validation loss: 0.4921\n",
      "100%|██████████████████████████████████████████████████████████| 313/313 [00:27<00:00, 11.27it/s, loss=0.1241]\n",
      "Epoch 8 | Training loss: 0.1241, validation accuracy: 0.8757, validation loss: 0.4887\n",
      "100%|██████████████████████████████████████████████████████████| 313/313 [00:27<00:00, 11.27it/s, loss=0.1202]\n",
      "Epoch 9 | Training loss: 0.1202, validation accuracy: 0.8742, validation loss: 0.4955\n",
      "100%|██████████████████████████████████████████████████████████| 313/313 [00:27<00:00, 11.27it/s, loss=0.1197]\n",
      "Epoch 10 | Training loss: 0.1197, validation accuracy: 0.8722, validation loss: 0.5042\n",
      "100%|██████████████████████████████████████████████████████████| 313/313 [00:27<00:00, 11.28it/s, loss=0.1154]\n",
      "Epoch 11 | Training loss: 0.1154, validation accuracy: 0.8720, validation loss: 0.5027\n"
     ]
    }
   ],
   "source": [
    "max_epochs = 300\n",
    "early_stopping = EarlyStopping(10)\n",
    "\n",
    "for epoch in range(max_epochs):\n",
    "    train_loss = trainer.train_epoch(model, optimizer, dl[\"train\"])\n",
    "    optimizer.finish_epoch()\n",
    "    val_acc, val_loss = trainer.validation(model, dl[\"valid\"])\n",
    "    logger.log(\"Epoch\", epoch+1, \"|\", \n",
    "          f\"Training loss: {train_loss:.4f}, validation accuracy: {val_acc:.4f}, validation loss: {val_loss:.4f}\")\n",
    "    if early_stopping.should_stop(val_loss):\n",
    "        break    "
   ]
  },
  {
   "cell_type": "code",
   "execution_count": 31,
   "id": "fa2aa8b6-cfb9-494f-b79a-2d9c4a687f10",
   "metadata": {},
   "outputs": [
    {
     "name": "stdout",
     "output_type": "stream",
     "text": [
      "Train: (0.96395, 0.10519717630147934)\n",
      "Valid: (0.872, 0.5027237926483155)\n"
     ]
    }
   ],
   "source": [
    "train_score = trainer.validation(model, dl[\"train\"])\n",
    "valid_score = trainer.validation(model, dl[\"valid\"])\n",
    "logger.log(\"Train:\", train_score)\n",
    "logger.log(\"Valid:\", valid_score)"
   ]
  },
  {
   "cell_type": "code",
   "execution_count": 32,
   "id": "d0fdaf65-6323-4968-af2d-bba9abd63275",
   "metadata": {},
   "outputs": [
    {
     "data": {
      "text/plain": [
       "VGG(\n",
       "  (features): Sequential(\n",
       "    (0): Conv2d(3, 64, kernel_size=(3, 3), stride=(1, 1), padding=(1, 1))\n",
       "    (1): ReLU(inplace=True)\n",
       "    (2): Conv2d(64, 64, kernel_size=(3, 3), stride=(1, 1), padding=(1, 1))\n",
       "    (3): ReLU(inplace=True)\n",
       "    (4): MaxPool2d(kernel_size=2, stride=2, padding=0, dilation=1, ceil_mode=False)\n",
       "    (5): Conv2d(64, 128, kernel_size=(3, 3), stride=(1, 1), padding=(1, 1))\n",
       "    (6): ReLU(inplace=True)\n",
       "    (7): Conv2d(128, 128, kernel_size=(3, 3), stride=(1, 1), padding=(1, 1))\n",
       "    (8): ReLU(inplace=True)\n",
       "    (9): MaxPool2d(kernel_size=2, stride=2, padding=0, dilation=1, ceil_mode=False)\n",
       "    (10): Conv2d(128, 256, kernel_size=(3, 3), stride=(1, 1), padding=(1, 1))\n",
       "    (11): ReLU(inplace=True)\n",
       "    (12): Conv2d(256, 256, kernel_size=(3, 3), stride=(1, 1), padding=(1, 1))\n",
       "    (13): ReLU(inplace=True)\n",
       "    (14): Conv2d(256, 256, kernel_size=(3, 3), stride=(1, 1), padding=(1, 1))\n",
       "    (15): ReLU(inplace=True)\n",
       "    (16): Conv2d(256, 256, kernel_size=(3, 3), stride=(1, 1), padding=(1, 1))\n",
       "    (17): ReLU(inplace=True)\n",
       "    (18): MaxPool2d(kernel_size=2, stride=2, padding=0, dilation=1, ceil_mode=False)\n",
       "    (19): Conv2d(256, 512, kernel_size=(3, 3), stride=(1, 1), padding=(1, 1))\n",
       "    (20): ReLU(inplace=True)\n",
       "    (21): Conv2d(512, 512, kernel_size=(3, 3), stride=(1, 1), padding=(1, 1))\n",
       "    (22): ReLU(inplace=True)\n",
       "    (23): Conv2d(512, 512, kernel_size=(3, 3), stride=(1, 1), padding=(1, 1))\n",
       "    (24): ReLU(inplace=True)\n",
       "    (25): Conv2d(512, 512, kernel_size=(3, 3), stride=(1, 1), padding=(1, 1))\n",
       "    (26): ReLU(inplace=True)\n",
       "    (27): MaxPool2d(kernel_size=2, stride=2, padding=0, dilation=1, ceil_mode=False)\n",
       "    (28): Conv2d(512, 512, kernel_size=(3, 3), stride=(1, 1), padding=(1, 1))\n",
       "    (29): ReLU(inplace=True)\n",
       "    (30): Conv2d(512, 512, kernel_size=(3, 3), stride=(1, 1), padding=(1, 1))\n",
       "    (31): ReLU(inplace=True)\n",
       "    (32): Conv2d(512, 512, kernel_size=(3, 3), stride=(1, 1), padding=(1, 1))\n",
       "    (33): ReLU(inplace=True)\n",
       "    (34): Conv2d(512, 512, kernel_size=(3, 3), stride=(1, 1), padding=(1, 1))\n",
       "    (35): ReLU(inplace=True)\n",
       "    (36): MaxPool2d(kernel_size=2, stride=2, padding=0, dilation=1, ceil_mode=False)\n",
       "  )\n",
       "  (avgpool): AdaptiveAvgPool2d(output_size=(7, 7))\n",
       "  (classifier): Sequential(\n",
       "    (0): Linear(in_features=25088, out_features=4096, bias=True)\n",
       "    (1): ReLU(inplace=True)\n",
       "    (2): Dropout(p=0.5, inplace=False)\n",
       "    (3): Linear(in_features=4096, out_features=4096, bias=True)\n",
       "    (4): ReLU(inplace=True)\n",
       "    (5): Dropout(p=0.5, inplace=False)\n",
       "    (6): Linear(in_features=4096, out_features=10, bias=True)\n",
       "    (7): LogSoftmax(dim=-1)\n",
       "  )\n",
       ")"
      ]
     },
     "execution_count": 32,
     "metadata": {},
     "output_type": "execute_result"
    }
   ],
   "source": [
    "model_acc = deepcopy(model)\n",
    "optimizer.accelerate()\n",
    "optimizer.store_parameters([model_acc.parameters()])\n",
    "model_acc.to(trainer.device)"
   ]
  },
  {
   "cell_type": "code",
   "execution_count": 33,
   "id": "97aba27a-35fd-4549-b0fe-8a320866e0a1",
   "metadata": {},
   "outputs": [
    {
     "name": "stdout",
     "output_type": "stream",
     "text": [
      "Train: (0.96125, 0.1131628319323063)\n",
      "Valid: (0.8744, 0.48371202144622805)\n"
     ]
    }
   ],
   "source": [
    "train_score = trainer.validation(model_acc, dl[\"train\"])\n",
    "valid_score = trainer.validation(model_acc, dl[\"valid\"])\n",
    "logger.log(\"Train:\", train_score)\n",
    "logger.log(\"Valid:\", valid_score)"
   ]
  },
  {
   "cell_type": "code",
   "execution_count": null,
   "id": "bf99c4a7-c4b9-4baa-a4b9-68865d783543",
   "metadata": {},
   "outputs": [],
   "source": []
  }
 ],
 "metadata": {
  "kernelspec": {
   "display_name": "Python 3 (magister)",
   "language": "python",
   "name": "mgr"
  },
  "language_info": {
   "codemirror_mode": {
    "name": "ipython",
    "version": 3
   },
   "file_extension": ".py",
   "mimetype": "text/x-python",
   "name": "python",
   "nbconvert_exporter": "python",
   "pygments_lexer": "ipython3",
   "version": "3.8.13"
  }
 },
 "nbformat": 4,
 "nbformat_minor": 5
}
