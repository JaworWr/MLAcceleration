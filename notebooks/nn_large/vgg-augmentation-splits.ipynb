{
 "cells": [
  {
   "cell_type": "code",
   "execution_count": 1,
   "id": "345219e1-d84b-4ff5-bca4-edd913fe338a",
   "metadata": {},
   "outputs": [],
   "source": [
    "import sys\n",
    "sys.path.insert(0, \"../..\")"
   ]
  },
  {
   "cell_type": "code",
   "execution_count": 2,
   "id": "noticed-jimmy",
   "metadata": {
    "tags": []
   },
   "outputs": [],
   "source": [
    "import torch\n",
    "from torch import nn\n",
    "from torchvision import models\n",
    "from copy import deepcopy\n",
    "import os\n",
    "\n",
    "from nn_extrapolation import AcceleratedSGD\n",
    "from nn_utils import *"
   ]
  },
  {
   "cell_type": "code",
   "execution_count": 3,
   "id": "increasing-alignment",
   "metadata": {},
   "outputs": [],
   "source": [
    "trainer = Trainer(\n",
    "    device=\"cuda:1\",\n",
    "    loss_fn=nn.NLLLoss(reduction=\"mean\"),\n",
    "    val_loss_fn=nn.NLLLoss(reduction=\"sum\"),\n",
    ")"
   ]
  },
  {
   "cell_type": "code",
   "execution_count": 4,
   "id": "willing-bathroom",
   "metadata": {},
   "outputs": [
    {
     "name": "stdout",
     "output_type": "stream",
     "text": [
      "Files already downloaded and verified\n",
      "Files already downloaded and verified\n"
     ]
    }
   ],
   "source": [
    "dl = load_dataset(\n",
    "    dataset=\"CIFAR10\",\n",
    "    root=os.path.join(\"/tmp\", os.environ[\"USER\"], \"CIFAR\"),\n",
    "    augmentation=transforms.RandomAffine(10, scale=(0.9, 1.1), translate=(0.2, 0.2)),\n",
    "    validation_split=0.2,\n",
    "    batch_size=128,\n",
    "    num_workers=10,\n",
    ")"
   ]
  },
  {
   "cell_type": "markdown",
   "id": "expired-award",
   "metadata": {},
   "source": [
    "## All layers separate"
   ]
  },
  {
   "cell_type": "code",
   "execution_count": 5,
   "id": "3d0d2c55-47ff-4b34-9dd6-e8d773101f2a",
   "metadata": {},
   "outputs": [
    {
     "data": {
      "text/plain": [
       "VGG(\n",
       "  (features): Sequential(\n",
       "    (0): Conv2d(3, 64, kernel_size=(3, 3), stride=(1, 1), padding=(1, 1))\n",
       "    (1): ReLU(inplace=True)\n",
       "    (2): Conv2d(64, 64, kernel_size=(3, 3), stride=(1, 1), padding=(1, 1))\n",
       "    (3): ReLU(inplace=True)\n",
       "    (4): MaxPool2d(kernel_size=2, stride=2, padding=0, dilation=1, ceil_mode=False)\n",
       "    (5): Conv2d(64, 128, kernel_size=(3, 3), stride=(1, 1), padding=(1, 1))\n",
       "    (6): ReLU(inplace=True)\n",
       "    (7): Conv2d(128, 128, kernel_size=(3, 3), stride=(1, 1), padding=(1, 1))\n",
       "    (8): ReLU(inplace=True)\n",
       "    (9): MaxPool2d(kernel_size=2, stride=2, padding=0, dilation=1, ceil_mode=False)\n",
       "    (10): Conv2d(128, 256, kernel_size=(3, 3), stride=(1, 1), padding=(1, 1))\n",
       "    (11): ReLU(inplace=True)\n",
       "    (12): Conv2d(256, 256, kernel_size=(3, 3), stride=(1, 1), padding=(1, 1))\n",
       "    (13): ReLU(inplace=True)\n",
       "    (14): Conv2d(256, 256, kernel_size=(3, 3), stride=(1, 1), padding=(1, 1))\n",
       "    (15): ReLU(inplace=True)\n",
       "    (16): MaxPool2d(kernel_size=2, stride=2, padding=0, dilation=1, ceil_mode=False)\n",
       "    (17): Conv2d(256, 512, kernel_size=(3, 3), stride=(1, 1), padding=(1, 1))\n",
       "    (18): ReLU(inplace=True)\n",
       "    (19): Conv2d(512, 512, kernel_size=(3, 3), stride=(1, 1), padding=(1, 1))\n",
       "    (20): ReLU(inplace=True)\n",
       "    (21): Conv2d(512, 512, kernel_size=(3, 3), stride=(1, 1), padding=(1, 1))\n",
       "    (22): ReLU(inplace=True)\n",
       "    (23): MaxPool2d(kernel_size=2, stride=2, padding=0, dilation=1, ceil_mode=False)\n",
       "    (24): Conv2d(512, 512, kernel_size=(3, 3), stride=(1, 1), padding=(1, 1))\n",
       "    (25): ReLU(inplace=True)\n",
       "    (26): Conv2d(512, 512, kernel_size=(3, 3), stride=(1, 1), padding=(1, 1))\n",
       "    (27): ReLU(inplace=True)\n",
       "    (28): Conv2d(512, 512, kernel_size=(3, 3), stride=(1, 1), padding=(1, 1))\n",
       "    (29): ReLU(inplace=True)\n",
       "    (30): MaxPool2d(kernel_size=2, stride=2, padding=0, dilation=1, ceil_mode=False)\n",
       "  )\n",
       "  (avgpool): AdaptiveAvgPool2d(output_size=(7, 7))\n",
       "  (classifier): Sequential(\n",
       "    (0): Linear(in_features=25088, out_features=4096, bias=True)\n",
       "    (1): ReLU(inplace=True)\n",
       "    (2): Dropout(p=0.5, inplace=False)\n",
       "    (3): Linear(in_features=4096, out_features=4096, bias=True)\n",
       "    (4): ReLU(inplace=True)\n",
       "    (5): Dropout(p=0.5, inplace=False)\n",
       "    (6): Linear(in_features=4096, out_features=10, bias=True)\n",
       "    (7): LogSoftmax(dim=-1)\n",
       "  )\n",
       ")"
      ]
     },
     "execution_count": 5,
     "metadata": {},
     "output_type": "execute_result"
    }
   ],
   "source": [
    "model = models.vgg16(pretrained=False)\n",
    "model.classifier[6] = nn.Linear(4096, 10)\n",
    "model.classifier.add_module(\"7\", nn.LogSoftmax(-1))\n",
    "\n",
    "model.to(trainer.device)"
   ]
  },
  {
   "cell_type": "code",
   "execution_count": 6,
   "id": "7520a67d-5fe2-48a5-97a8-8491df74a509",
   "metadata": {},
   "outputs": [
    {
     "data": {
      "text/plain": [
       "(0.1011, 2.3026913608551025)"
      ]
     },
     "execution_count": 6,
     "metadata": {},
     "output_type": "execute_result"
    }
   ],
   "source": [
    "trainer.validation(model, dl[\"valid\"])"
   ]
  },
  {
   "cell_type": "code",
   "execution_count": 7,
   "id": "23df7be3-768f-4dce-ba01-c0bf58c46257",
   "metadata": {},
   "outputs": [],
   "source": [
    "groups = [{\"params\": [param]} for param in model.parameters()]\n",
    "optimizer = AcceleratedSGD(groups, 1e-2, k=10, momentum=0.9, weight_decay=1e-5, lambda_=1e-8)\n",
    "logger = Logger(\"vgg_log_augmentation-split.txt.no_resizing\")"
   ]
  },
  {
   "cell_type": "code",
   "execution_count": 8,
   "id": "9de2fbf5-6fb6-4ca2-9011-7804d98ee754",
   "metadata": {},
   "outputs": [
    {
     "name": "stdout",
     "output_type": "stream",
     "text": [
      "100%|██████████| 313/313 [00:39<00:00,  7.93it/s, loss=2.1235]\n",
      "Epoch 1 | Training loss: 2.1235, validation accuracy: 0.2703, validation loss: 1.9072\n",
      "100%|██████████| 313/313 [00:40<00:00,  7.73it/s, loss=1.7648]\n",
      "Epoch 2 | Training loss: 1.7648, validation accuracy: 0.4009, validation loss: 1.5813\n",
      "100%|██████████| 313/313 [00:40<00:00,  7.72it/s, loss=1.5661]\n",
      "Epoch 3 | Training loss: 1.5661, validation accuracy: 0.4442, validation loss: 1.4963\n",
      "100%|██████████| 313/313 [00:40<00:00,  7.74it/s, loss=1.4134]\n",
      "Epoch 4 | Training loss: 1.4134, validation accuracy: 0.5631, validation loss: 1.2067\n",
      "100%|██████████| 313/313 [00:40<00:00,  7.77it/s, loss=1.2669]\n",
      "Epoch 5 | Training loss: 1.2669, validation accuracy: 0.5854, validation loss: 1.1578\n",
      "100%|██████████| 313/313 [00:40<00:00,  7.81it/s, loss=1.1422]\n",
      "Epoch 6 | Training loss: 1.1422, validation accuracy: 0.6363, validation loss: 1.0416\n",
      "100%|██████████| 313/313 [00:40<00:00,  7.82it/s, loss=1.0410]\n",
      "Epoch 7 | Training loss: 1.0410, validation accuracy: 0.6422, validation loss: 1.0217\n",
      "100%|██████████| 313/313 [00:40<00:00,  7.76it/s, loss=0.9835]\n",
      "Epoch 8 | Training loss: 0.9835, validation accuracy: 0.6706, validation loss: 0.9326\n",
      "100%|██████████| 313/313 [00:40<00:00,  7.82it/s, loss=0.8941]\n",
      "Epoch 9 | Training loss: 0.8941, validation accuracy: 0.7008, validation loss: 0.8549\n",
      "100%|██████████| 313/313 [00:40<00:00,  7.76it/s, loss=0.8468]\n",
      "Epoch 10 | Training loss: 0.8468, validation accuracy: 0.7444, validation loss: 0.7403\n",
      "100%|██████████| 313/313 [00:40<00:00,  7.81it/s, loss=0.7878]\n",
      "Epoch 11 | Training loss: 0.7878, validation accuracy: 0.7542, validation loss: 0.7100\n",
      "100%|██████████| 313/313 [00:40<00:00,  7.78it/s, loss=0.7506]\n",
      "Epoch 12 | Training loss: 0.7506, validation accuracy: 0.7613, validation loss: 0.7066\n",
      "100%|██████████| 313/313 [00:39<00:00,  7.83it/s, loss=0.7138]\n",
      "Epoch 13 | Training loss: 0.7138, validation accuracy: 0.7862, validation loss: 0.6154\n",
      "100%|██████████| 313/313 [00:39<00:00,  7.83it/s, loss=0.6651]\n",
      "Epoch 14 | Training loss: 0.6651, validation accuracy: 0.7816, validation loss: 0.6484\n",
      "100%|██████████| 313/313 [00:40<00:00,  7.79it/s, loss=0.6176]\n",
      "Epoch 15 | Training loss: 0.6176, validation accuracy: 0.7951, validation loss: 0.5935\n",
      "100%|██████████| 313/313 [00:40<00:00,  7.81it/s, loss=0.5973]\n",
      "Epoch 16 | Training loss: 0.5973, validation accuracy: 0.8018, validation loss: 0.5814\n",
      "100%|██████████| 313/313 [00:40<00:00,  7.80it/s, loss=0.5704]\n",
      "Epoch 17 | Training loss: 0.5704, validation accuracy: 0.8013, validation loss: 0.5996\n",
      "100%|██████████| 313/313 [00:40<00:00,  7.81it/s, loss=0.5469]\n",
      "Epoch 18 | Training loss: 0.5469, validation accuracy: 0.8204, validation loss: 0.5443\n",
      "100%|██████████| 313/313 [00:40<00:00,  7.78it/s, loss=0.5163]\n",
      "Epoch 19 | Training loss: 0.5163, validation accuracy: 0.8208, validation loss: 0.5399\n",
      "100%|██████████| 313/313 [00:41<00:00,  7.62it/s, loss=0.5040]\n",
      "Epoch 20 | Training loss: 0.5040, validation accuracy: 0.8283, validation loss: 0.5202\n",
      "100%|██████████| 313/313 [00:41<00:00,  7.49it/s, loss=0.4698]\n",
      "Epoch 21 | Training loss: 0.4698, validation accuracy: 0.8252, validation loss: 0.5376\n",
      "100%|██████████| 313/313 [00:40<00:00,  7.73it/s, loss=0.4550]\n",
      "Epoch 22 | Training loss: 0.4550, validation accuracy: 0.8263, validation loss: 0.5244\n",
      "100%|██████████| 313/313 [00:40<00:00,  7.79it/s, loss=0.4353]\n",
      "Epoch 23 | Training loss: 0.4353, validation accuracy: 0.8357, validation loss: 0.5028\n",
      "100%|██████████| 313/313 [00:40<00:00,  7.79it/s, loss=0.4231]\n",
      "Epoch 24 | Training loss: 0.4231, validation accuracy: 0.8313, validation loss: 0.5239\n",
      "100%|██████████| 313/313 [00:40<00:00,  7.76it/s, loss=0.4036]\n",
      "Epoch 25 | Training loss: 0.4036, validation accuracy: 0.8196, validation loss: 0.5709\n",
      "100%|██████████| 313/313 [00:40<00:00,  7.78it/s, loss=0.3789]\n",
      "Epoch 26 | Training loss: 0.3789, validation accuracy: 0.8283, validation loss: 0.5486\n",
      "100%|██████████| 313/313 [00:40<00:00,  7.75it/s, loss=0.3727]\n",
      "Epoch 27 | Training loss: 0.3727, validation accuracy: 0.8381, validation loss: 0.4977\n",
      "100%|██████████| 313/313 [00:40<00:00,  7.74it/s, loss=0.3523]\n",
      "Epoch 28 | Training loss: 0.3523, validation accuracy: 0.8490, validation loss: 0.4749\n",
      "100%|██████████| 313/313 [00:40<00:00,  7.77it/s, loss=0.3367]\n",
      "Epoch 29 | Training loss: 0.3367, validation accuracy: 0.8320, validation loss: 0.5338\n",
      "100%|██████████| 313/313 [00:40<00:00,  7.74it/s, loss=0.3344]\n",
      "Epoch 30 | Training loss: 0.3344, validation accuracy: 0.8367, validation loss: 0.5285\n"
     ]
    }
   ],
   "source": [
    "epochs = 30\n",
    "\n",
    "for epoch in range(epochs):\n",
    "    train_loss = trainer.train_epoch(model, optimizer, dl[\"train\"])\n",
    "    optimizer.finish_epoch()\n",
    "    val_acc, val_loss = trainer.validation(model, dl[\"valid\"])\n",
    "    logger.log(\"Epoch\", epoch+1, \"|\", \n",
    "          f\"Training loss: {train_loss:.4f}, validation accuracy: {val_acc:.4f}, validation loss: {val_loss:.4f}\")"
   ]
  },
  {
   "cell_type": "code",
   "execution_count": 9,
   "id": "d7433fda-4808-40e3-96b2-a43aa5e837ce",
   "metadata": {},
   "outputs": [
    {
     "name": "stdout",
     "output_type": "stream",
     "text": [
      "Train: (0.89215, 0.31207365999221803)\n",
      "Valid: (0.8367, 0.528479273223877)\n"
     ]
    }
   ],
   "source": [
    "train_score = trainer.validation(model, dl[\"train\"])\n",
    "valid_score = trainer.validation(model, dl[\"valid\"])\n",
    "logger.log(\"Train:\", train_score)\n",
    "logger.log(\"Valid:\", valid_score)"
   ]
  },
  {
   "cell_type": "code",
   "execution_count": 10,
   "id": "c6e438bb-6b97-4d5b-ba36-8ef0fab9d4df",
   "metadata": {},
   "outputs": [],
   "source": [
    "model_acc = deepcopy(model)\n",
    "optimizer.accelerate()\n",
    "target_groups = [[param] for param in model_acc.parameters()]\n",
    "optimizer.store_parameters(target_groups)"
   ]
  },
  {
   "cell_type": "code",
   "execution_count": 11,
   "id": "6938976c-0987-4c4b-8938-ce89cad326d3",
   "metadata": {
    "tags": []
   },
   "outputs": [
    {
     "name": "stdout",
     "output_type": "stream",
     "text": [
      "Train: (0.9241, 0.2236853707075119)\n",
      "Valid: (0.8637, 0.4217224886894226)\n"
     ]
    }
   ],
   "source": [
    "model_acc.to(trainer.device)\n",
    "train_score = trainer.validation(model_acc, dl[\"train\"])\n",
    "valid_score = trainer.validation(model_acc, dl[\"valid\"])\n",
    "logger.log(\"Train:\", train_score)\n",
    "logger.log(\"Valid:\", valid_score)"
   ]
  },
  {
   "cell_type": "code",
   "execution_count": 12,
   "id": "721310fd-c55d-4a7c-9560-eba8f2abf869",
   "metadata": {},
   "outputs": [],
   "source": [
    "for group in optimizer.param_groups:\n",
    "    group[\"lr\"] = 1e-3"
   ]
  },
  {
   "cell_type": "code",
   "execution_count": 13,
   "id": "eeaaa0f6-1a14-48b2-b2b0-442818fbe16c",
   "metadata": {},
   "outputs": [
    {
     "name": "stdout",
     "output_type": "stream",
     "text": [
      "100%|██████████| 313/313 [00:40<00:00,  7.71it/s, loss=0.2217]\n",
      "Epoch 1 | Training loss: 0.2217, validation accuracy: 0.8595, validation loss: 0.4645\n",
      "100%|██████████| 313/313 [00:41<00:00,  7.57it/s, loss=0.1898]\n",
      "Epoch 2 | Training loss: 0.1898, validation accuracy: 0.8629, validation loss: 0.4621\n",
      "100%|██████████| 313/313 [00:41<00:00,  7.62it/s, loss=0.1766]\n",
      "Epoch 3 | Training loss: 0.1766, validation accuracy: 0.8627, validation loss: 0.4764\n",
      "100%|██████████| 313/313 [00:41<00:00,  7.63it/s, loss=0.1741]\n",
      "Epoch 4 | Training loss: 0.1741, validation accuracy: 0.8643, validation loss: 0.4738\n",
      "100%|██████████| 313/313 [00:40<00:00,  7.69it/s, loss=0.1664]\n",
      "Epoch 5 | Training loss: 0.1664, validation accuracy: 0.8606, validation loss: 0.4858\n",
      "100%|██████████| 313/313 [00:40<00:00,  7.67it/s, loss=0.1607]\n",
      "Epoch 6 | Training loss: 0.1607, validation accuracy: 0.8598, validation loss: 0.4937\n",
      "100%|██████████| 313/313 [00:40<00:00,  7.71it/s, loss=0.1550]\n",
      "Epoch 7 | Training loss: 0.1550, validation accuracy: 0.8643, validation loss: 0.4767\n",
      "100%|██████████| 313/313 [00:40<00:00,  7.71it/s, loss=0.1492]\n",
      "Epoch 8 | Training loss: 0.1492, validation accuracy: 0.8643, validation loss: 0.4843\n",
      "100%|██████████| 313/313 [00:40<00:00,  7.73it/s, loss=0.1453]\n",
      "Epoch 9 | Training loss: 0.1453, validation accuracy: 0.8643, validation loss: 0.4907\n",
      "100%|██████████| 313/313 [00:40<00:00,  7.73it/s, loss=0.1445]\n",
      "Epoch 10 | Training loss: 0.1445, validation accuracy: 0.8624, validation loss: 0.5036\n",
      "100%|██████████| 313/313 [00:40<00:00,  7.74it/s, loss=0.1419]\n",
      "Epoch 11 | Training loss: 0.1419, validation accuracy: 0.8678, validation loss: 0.4890\n",
      "100%|██████████| 313/313 [00:40<00:00,  7.72it/s, loss=0.1374]\n",
      "Epoch 12 | Training loss: 0.1374, validation accuracy: 0.8651, validation loss: 0.4984\n",
      "100%|██████████| 313/313 [00:40<00:00,  7.76it/s, loss=0.1354]\n",
      "Epoch 13 | Training loss: 0.1354, validation accuracy: 0.8631, validation loss: 0.5059\n",
      "100%|██████████| 313/313 [00:40<00:00,  7.68it/s, loss=0.1298]\n",
      "Epoch 14 | Training loss: 0.1298, validation accuracy: 0.8672, validation loss: 0.4996\n",
      "100%|██████████| 313/313 [00:40<00:00,  7.70it/s, loss=0.1306]\n",
      "Epoch 15 | Training loss: 0.1306, validation accuracy: 0.8643, validation loss: 0.5016\n",
      "100%|██████████| 313/313 [00:40<00:00,  7.71it/s, loss=0.1219]\n",
      "Epoch 16 | Training loss: 0.1219, validation accuracy: 0.8628, validation loss: 0.5069\n",
      "100%|██████████| 313/313 [00:40<00:00,  7.74it/s, loss=0.1215]\n",
      "Epoch 17 | Training loss: 0.1215, validation accuracy: 0.8642, validation loss: 0.5144\n",
      "100%|██████████| 313/313 [00:40<00:00,  7.74it/s, loss=0.1206]\n",
      "Epoch 18 | Training loss: 0.1206, validation accuracy: 0.8668, validation loss: 0.5140\n",
      "100%|██████████| 313/313 [00:40<00:00,  7.71it/s, loss=0.1172]\n",
      "Epoch 19 | Training loss: 0.1172, validation accuracy: 0.8652, validation loss: 0.5314\n",
      "100%|██████████| 313/313 [00:40<00:00,  7.75it/s, loss=0.1126]\n",
      "Epoch 20 | Training loss: 0.1126, validation accuracy: 0.8632, validation loss: 0.5329\n",
      "100%|██████████| 313/313 [00:40<00:00,  7.72it/s, loss=0.1139]\n",
      "Epoch 21 | Training loss: 0.1139, validation accuracy: 0.8633, validation loss: 0.5360\n",
      "100%|██████████| 313/313 [00:40<00:00,  7.65it/s, loss=0.1090]\n",
      "Epoch 22 | Training loss: 0.1090, validation accuracy: 0.8635, validation loss: 0.5371\n",
      "100%|██████████| 313/313 [00:40<00:00,  7.69it/s, loss=0.1106]\n",
      "Epoch 23 | Training loss: 0.1106, validation accuracy: 0.8632, validation loss: 0.5378\n",
      "100%|██████████| 313/313 [00:40<00:00,  7.74it/s, loss=0.1080]\n",
      "Epoch 24 | Training loss: 0.1080, validation accuracy: 0.8636, validation loss: 0.5342\n",
      "100%|██████████| 313/313 [00:41<00:00,  7.50it/s, loss=0.1034]\n",
      "Epoch 25 | Training loss: 0.1034, validation accuracy: 0.8664, validation loss: 0.5317\n",
      "100%|██████████| 313/313 [00:41<00:00,  7.59it/s, loss=0.1044]\n",
      "Epoch 26 | Training loss: 0.1044, validation accuracy: 0.8646, validation loss: 0.5347\n",
      "100%|██████████| 313/313 [00:40<00:00,  7.66it/s, loss=0.0997]\n",
      "Epoch 27 | Training loss: 0.0997, validation accuracy: 0.8663, validation loss: 0.5297\n",
      "100%|██████████| 313/313 [00:40<00:00,  7.70it/s, loss=0.0981]\n",
      "Epoch 28 | Training loss: 0.0981, validation accuracy: 0.8659, validation loss: 0.5458\n",
      "100%|██████████| 313/313 [00:40<00:00,  7.71it/s, loss=0.0966]\n",
      "Epoch 29 | Training loss: 0.0966, validation accuracy: 0.8640, validation loss: 0.5454\n",
      "100%|██████████| 313/313 [00:40<00:00,  7.72it/s, loss=0.0992]\n",
      "Epoch 30 | Training loss: 0.0992, validation accuracy: 0.8623, validation loss: 0.5579\n"
     ]
    }
   ],
   "source": [
    "epochs = 30\n",
    "\n",
    "for epoch in range(epochs):\n",
    "    train_loss = trainer.train_epoch(model, optimizer, dl[\"train\"])\n",
    "    optimizer.finish_epoch()\n",
    "    val_acc, val_loss = trainer.validation(model, dl[\"valid\"])\n",
    "    logger.log(\"Epoch\", epoch+1, \"|\", \n",
    "          f\"Training loss: {train_loss:.4f}, validation accuracy: {val_acc:.4f}, validation loss: {val_loss:.4f}\")"
   ]
  },
  {
   "cell_type": "code",
   "execution_count": 14,
   "id": "72c13c5b-3672-440e-9112-6bfbede0a604",
   "metadata": {},
   "outputs": [
    {
     "name": "stdout",
     "output_type": "stream",
     "text": [
      "Train: (0.966625, 0.09466175615787506)\n",
      "Valid: (0.8623, 0.5578842914581299)\n"
     ]
    }
   ],
   "source": [
    "train_score = trainer.validation(model, dl[\"train\"])\n",
    "valid_score = trainer.validation(model, dl[\"valid\"])\n",
    "logger.log(\"Train:\", train_score)\n",
    "logger.log(\"Valid:\", valid_score)"
   ]
  },
  {
   "cell_type": "code",
   "execution_count": 15,
   "id": "19d01024-6cb2-47e5-84a1-99ab89b76966",
   "metadata": {},
   "outputs": [],
   "source": [
    "model_acc = deepcopy(model)\n",
    "optimizer.accelerate()\n",
    "target_groups = [[param] for param in model_acc.parameters()]\n",
    "optimizer.store_parameters(target_groups)"
   ]
  },
  {
   "cell_type": "code",
   "execution_count": 16,
   "id": "2212d611-2549-4eaf-9db1-badb5c06fc0b",
   "metadata": {
    "tags": []
   },
   "outputs": [
    {
     "name": "stdout",
     "output_type": "stream",
     "text": [
      "Train: (0.971025, 0.08556011869311332)\n",
      "Valid: (0.8669, 0.5273814085006714)\n"
     ]
    }
   ],
   "source": [
    "model_acc.to(trainer.device)\n",
    "train_score = trainer.validation(model_acc, dl[\"train\"])\n",
    "valid_score = trainer.validation(model_acc, dl[\"valid\"])\n",
    "logger.log(\"Train:\", train_score)\n",
    "logger.log(\"Valid:\", valid_score)"
   ]
  },
  {
   "cell_type": "markdown",
   "id": "e20b62fc-8656-4fd0-a590-a99fc106ccdb",
   "metadata": {},
   "source": [
    "## Linear only"
   ]
  },
  {
   "cell_type": "code",
   "execution_count": 17,
   "id": "e0c07b1b-09ac-41c9-a6e7-17ac3e1a7299",
   "metadata": {},
   "outputs": [
    {
     "data": {
      "text/plain": [
       "VGG(\n",
       "  (features): Sequential(\n",
       "    (0): Conv2d(3, 64, kernel_size=(3, 3), stride=(1, 1), padding=(1, 1))\n",
       "    (1): ReLU(inplace=True)\n",
       "    (2): Conv2d(64, 64, kernel_size=(3, 3), stride=(1, 1), padding=(1, 1))\n",
       "    (3): ReLU(inplace=True)\n",
       "    (4): MaxPool2d(kernel_size=2, stride=2, padding=0, dilation=1, ceil_mode=False)\n",
       "    (5): Conv2d(64, 128, kernel_size=(3, 3), stride=(1, 1), padding=(1, 1))\n",
       "    (6): ReLU(inplace=True)\n",
       "    (7): Conv2d(128, 128, kernel_size=(3, 3), stride=(1, 1), padding=(1, 1))\n",
       "    (8): ReLU(inplace=True)\n",
       "    (9): MaxPool2d(kernel_size=2, stride=2, padding=0, dilation=1, ceil_mode=False)\n",
       "    (10): Conv2d(128, 256, kernel_size=(3, 3), stride=(1, 1), padding=(1, 1))\n",
       "    (11): ReLU(inplace=True)\n",
       "    (12): Conv2d(256, 256, kernel_size=(3, 3), stride=(1, 1), padding=(1, 1))\n",
       "    (13): ReLU(inplace=True)\n",
       "    (14): Conv2d(256, 256, kernel_size=(3, 3), stride=(1, 1), padding=(1, 1))\n",
       "    (15): ReLU(inplace=True)\n",
       "    (16): MaxPool2d(kernel_size=2, stride=2, padding=0, dilation=1, ceil_mode=False)\n",
       "    (17): Conv2d(256, 512, kernel_size=(3, 3), stride=(1, 1), padding=(1, 1))\n",
       "    (18): ReLU(inplace=True)\n",
       "    (19): Conv2d(512, 512, kernel_size=(3, 3), stride=(1, 1), padding=(1, 1))\n",
       "    (20): ReLU(inplace=True)\n",
       "    (21): Conv2d(512, 512, kernel_size=(3, 3), stride=(1, 1), padding=(1, 1))\n",
       "    (22): ReLU(inplace=True)\n",
       "    (23): MaxPool2d(kernel_size=2, stride=2, padding=0, dilation=1, ceil_mode=False)\n",
       "    (24): Conv2d(512, 512, kernel_size=(3, 3), stride=(1, 1), padding=(1, 1))\n",
       "    (25): ReLU(inplace=True)\n",
       "    (26): Conv2d(512, 512, kernel_size=(3, 3), stride=(1, 1), padding=(1, 1))\n",
       "    (27): ReLU(inplace=True)\n",
       "    (28): Conv2d(512, 512, kernel_size=(3, 3), stride=(1, 1), padding=(1, 1))\n",
       "    (29): ReLU(inplace=True)\n",
       "    (30): MaxPool2d(kernel_size=2, stride=2, padding=0, dilation=1, ceil_mode=False)\n",
       "  )\n",
       "  (avgpool): AdaptiveAvgPool2d(output_size=(7, 7))\n",
       "  (classifier): Sequential(\n",
       "    (0): Linear(in_features=25088, out_features=4096, bias=True)\n",
       "    (1): ReLU(inplace=True)\n",
       "    (2): Dropout(p=0.5, inplace=False)\n",
       "    (3): Linear(in_features=4096, out_features=4096, bias=True)\n",
       "    (4): ReLU(inplace=True)\n",
       "    (5): Dropout(p=0.5, inplace=False)\n",
       "    (6): Linear(in_features=4096, out_features=10, bias=True)\n",
       "    (7): LogSoftmax(dim=-1)\n",
       "  )\n",
       ")"
      ]
     },
     "execution_count": 17,
     "metadata": {},
     "output_type": "execute_result"
    }
   ],
   "source": [
    "model = models.vgg16(pretrained=False)\n",
    "model.classifier[6] = nn.Linear(4096, 10)\n",
    "model.classifier.add_module(\"7\", nn.LogSoftmax(-1))\n",
    "\n",
    "model.to(trainer.device)"
   ]
  },
  {
   "cell_type": "code",
   "execution_count": 18,
   "id": "4cdfa9ce-26ab-4b65-a48c-c676838728df",
   "metadata": {},
   "outputs": [
    {
     "data": {
      "text/plain": [
       "(0.1008, 2.302828458404541)"
      ]
     },
     "execution_count": 18,
     "metadata": {},
     "output_type": "execute_result"
    }
   ],
   "source": [
    "trainer.validation(model, dl[\"valid\"])"
   ]
  },
  {
   "cell_type": "code",
   "execution_count": 19,
   "id": "2d0ebd3b-4674-4050-863b-4d4e95736d7a",
   "metadata": {},
   "outputs": [],
   "source": [
    "conv_group = {\n",
    "    \"params\": list(model.features.parameters()),\n",
    "    \"method\": None\n",
    "}\n",
    "fc_group = {\n",
    "    \"params\": list(model.classifier.parameters())\n",
    "}\n",
    "groups = [conv_group, fc_group]\n",
    "optimizer = AcceleratedSGD(groups, 1e-2, k=10, momentum=0.9, weight_decay=1e-5, lambda_=1e-8)\n",
    "logger = Logger(\"vgg_log_augmentation-linear_only.txt.no_resizing\")"
   ]
  },
  {
   "cell_type": "code",
   "execution_count": 20,
   "id": "97a7ab55-fca2-4189-8d8e-f88b78a1cbea",
   "metadata": {},
   "outputs": [
    {
     "name": "stdout",
     "output_type": "stream",
     "text": [
      "100%|██████████| 313/313 [00:39<00:00,  7.91it/s, loss=2.0662]\n",
      "Epoch 1 | Training loss: 2.0662, validation accuracy: 0.2911, validation loss: 1.8024\n",
      "100%|██████████| 313/313 [00:40<00:00,  7.64it/s, loss=1.7103]\n",
      "Epoch 2 | Training loss: 1.7103, validation accuracy: 0.4021, validation loss: 1.5752\n",
      "100%|██████████| 313/313 [00:40<00:00,  7.64it/s, loss=1.5356]\n",
      "Epoch 3 | Training loss: 1.5356, validation accuracy: 0.4817, validation loss: 1.3911\n",
      "100%|██████████| 313/313 [00:40<00:00,  7.71it/s, loss=1.3609]\n",
      "Epoch 4 | Training loss: 1.3609, validation accuracy: 0.5973, validation loss: 1.1243\n",
      "100%|██████████| 313/313 [00:40<00:00,  7.72it/s, loss=1.2414]\n",
      "Epoch 5 | Training loss: 1.2414, validation accuracy: 0.6053, validation loss: 1.1064\n",
      "100%|██████████| 313/313 [00:40<00:00,  7.71it/s, loss=1.1120]\n",
      "Epoch 6 | Training loss: 1.1120, validation accuracy: 0.6475, validation loss: 0.9919\n",
      "100%|██████████| 313/313 [00:40<00:00,  7.79it/s, loss=1.0314]\n",
      "Epoch 7 | Training loss: 1.0314, validation accuracy: 0.6645, validation loss: 0.9489\n",
      "100%|██████████| 313/313 [00:40<00:00,  7.71it/s, loss=0.9367]\n",
      "Epoch 8 | Training loss: 0.9367, validation accuracy: 0.7011, validation loss: 0.8506\n",
      "100%|██████████| 313/313 [00:40<00:00,  7.74it/s, loss=0.8909]\n",
      "Epoch 9 | Training loss: 0.8909, validation accuracy: 0.7100, validation loss: 0.8413\n",
      "100%|██████████| 313/313 [00:40<00:00,  7.73it/s, loss=0.8224]\n",
      "Epoch 10 | Training loss: 0.8224, validation accuracy: 0.7418, validation loss: 0.7407\n",
      "100%|██████████| 313/313 [00:40<00:00,  7.73it/s, loss=0.7707]\n",
      "Epoch 11 | Training loss: 0.7707, validation accuracy: 0.7540, validation loss: 0.7257\n",
      "100%|██████████| 313/313 [00:40<00:00,  7.76it/s, loss=0.7382]\n",
      "Epoch 12 | Training loss: 0.7382, validation accuracy: 0.7556, validation loss: 0.7067\n",
      "100%|██████████| 313/313 [00:40<00:00,  7.72it/s, loss=0.6878]\n",
      "Epoch 13 | Training loss: 0.6878, validation accuracy: 0.7877, validation loss: 0.6268\n",
      "100%|██████████| 313/313 [00:40<00:00,  7.75it/s, loss=0.6532]\n",
      "Epoch 14 | Training loss: 0.6532, validation accuracy: 0.7968, validation loss: 0.5958\n",
      "100%|██████████| 313/313 [00:40<00:00,  7.75it/s, loss=0.6229]\n",
      "Epoch 15 | Training loss: 0.6229, validation accuracy: 0.7810, validation loss: 0.6391\n",
      "100%|██████████| 313/313 [00:40<00:00,  7.73it/s, loss=0.5946]\n",
      "Epoch 16 | Training loss: 0.5946, validation accuracy: 0.8091, validation loss: 0.5668\n",
      "100%|██████████| 313/313 [00:40<00:00,  7.73it/s, loss=0.5597]\n",
      "Epoch 17 | Training loss: 0.5597, validation accuracy: 0.8040, validation loss: 0.5883\n",
      "100%|██████████| 313/313 [00:40<00:00,  7.71it/s, loss=0.5442]\n",
      "Epoch 18 | Training loss: 0.5442, validation accuracy: 0.8034, validation loss: 0.5803\n",
      "100%|██████████| 313/313 [00:40<00:00,  7.72it/s, loss=0.5171]\n",
      "Epoch 19 | Training loss: 0.5171, validation accuracy: 0.8083, validation loss: 0.5736\n",
      "100%|██████████| 313/313 [00:40<00:00,  7.72it/s, loss=0.4932]\n",
      "Epoch 20 | Training loss: 0.4932, validation accuracy: 0.8314, validation loss: 0.5084\n",
      "100%|██████████| 313/313 [00:40<00:00,  7.71it/s, loss=0.4812]\n",
      "Epoch 21 | Training loss: 0.4812, validation accuracy: 0.8240, validation loss: 0.5271\n",
      "100%|██████████| 313/313 [00:40<00:00,  7.72it/s, loss=0.4610]\n",
      "Epoch 22 | Training loss: 0.4610, validation accuracy: 0.8237, validation loss: 0.5333\n",
      "100%|██████████| 313/313 [00:40<00:00,  7.74it/s, loss=0.4386]\n",
      "Epoch 23 | Training loss: 0.4386, validation accuracy: 0.8257, validation loss: 0.5365\n",
      "100%|██████████| 313/313 [00:40<00:00,  7.73it/s, loss=0.4189]\n",
      "Epoch 24 | Training loss: 0.4189, validation accuracy: 0.8163, validation loss: 0.5879\n",
      "100%|██████████| 313/313 [00:40<00:00,  7.73it/s, loss=0.3973]\n",
      "Epoch 25 | Training loss: 0.3973, validation accuracy: 0.8290, validation loss: 0.5191\n",
      "100%|██████████| 313/313 [00:40<00:00,  7.72it/s, loss=0.3832]\n",
      "Epoch 26 | Training loss: 0.3832, validation accuracy: 0.8297, validation loss: 0.5297\n",
      "100%|██████████| 313/313 [00:40<00:00,  7.72it/s, loss=0.3645]\n",
      "Epoch 27 | Training loss: 0.3645, validation accuracy: 0.8349, validation loss: 0.5208\n",
      "100%|██████████| 313/313 [00:40<00:00,  7.72it/s, loss=0.3599]\n",
      "Epoch 28 | Training loss: 0.3599, validation accuracy: 0.8421, validation loss: 0.4870\n",
      "100%|██████████| 313/313 [00:40<00:00,  7.71it/s, loss=0.3435]\n",
      "Epoch 29 | Training loss: 0.3435, validation accuracy: 0.8457, validation loss: 0.5085\n",
      "100%|██████████| 313/313 [00:40<00:00,  7.69it/s, loss=0.3252]\n",
      "Epoch 30 | Training loss: 0.3252, validation accuracy: 0.8279, validation loss: 0.5698\n"
     ]
    }
   ],
   "source": [
    "epochs = 30\n",
    "\n",
    "for epoch in range(epochs):\n",
    "    train_loss = trainer.train_epoch(model, optimizer, dl[\"train\"])\n",
    "    optimizer.finish_epoch()\n",
    "    val_acc, val_loss = trainer.validation(model, dl[\"valid\"])\n",
    "    logger.log(\"Epoch\", epoch+1, \"|\", \n",
    "          f\"Training loss: {train_loss:.4f}, validation accuracy: {val_acc:.4f}, validation loss: {val_loss:.4f}\")"
   ]
  },
  {
   "cell_type": "code",
   "execution_count": 21,
   "id": "0d0369a6-5a35-4bbc-941f-815f90ad2697",
   "metadata": {},
   "outputs": [
    {
     "name": "stdout",
     "output_type": "stream",
     "text": [
      "Train: (0.880025, 0.3454588752031326)\n",
      "Valid: (0.8279, 0.5698312043190003)\n"
     ]
    }
   ],
   "source": [
    "train_score = trainer.validation(model, dl[\"train\"])\n",
    "valid_score = trainer.validation(model, dl[\"valid\"])\n",
    "logger.log(\"Train:\", train_score)\n",
    "logger.log(\"Valid:\", valid_score)"
   ]
  },
  {
   "cell_type": "code",
   "execution_count": 22,
   "id": "279ea749-6580-4fd4-bb21-74e46ed3e851",
   "metadata": {},
   "outputs": [],
   "source": [
    "model_acc = deepcopy(model)\n",
    "optimizer.accelerate()\n",
    "target_groups = [list(model_acc.features.parameters()), list(model_acc.classifier.parameters())]\n",
    "optimizer.store_parameters(target_groups)"
   ]
  },
  {
   "cell_type": "code",
   "execution_count": 23,
   "id": "5ffd95e7-174d-4f78-9219-f4df82f15b82",
   "metadata": {
    "tags": []
   },
   "outputs": [
    {
     "name": "stdout",
     "output_type": "stream",
     "text": [
      "Train: (0.879075, 0.3530905436992645)\n",
      "Valid: (0.8269, 0.5610731469154357)\n"
     ]
    }
   ],
   "source": [
    "model_acc.to(trainer.device)\n",
    "train_score = trainer.validation(model_acc, dl[\"train\"])\n",
    "valid_score = trainer.validation(model_acc, dl[\"valid\"])\n",
    "logger.log(\"Train:\", train_score)\n",
    "logger.log(\"Valid:\", valid_score)"
   ]
  },
  {
   "cell_type": "code",
   "execution_count": 24,
   "id": "28429b06-6f8f-48ef-95c7-e864300d2f48",
   "metadata": {},
   "outputs": [],
   "source": [
    "for group in optimizer.param_groups:\n",
    "    group[\"lr\"] = 1e-3"
   ]
  },
  {
   "cell_type": "code",
   "execution_count": 25,
   "id": "7d08e554-4f4a-40b4-92aa-2cc4d9ef5fa3",
   "metadata": {},
   "outputs": [
    {
     "name": "stdout",
     "output_type": "stream",
     "text": [
      "100%|██████████| 313/313 [00:40<00:00,  7.73it/s, loss=0.2233]\n",
      "Epoch 1 | Training loss: 0.2233, validation accuracy: 0.8661, validation loss: 0.4487\n",
      "100%|██████████| 313/313 [00:41<00:00,  7.60it/s, loss=0.1982]\n",
      "Epoch 2 | Training loss: 0.1982, validation accuracy: 0.8692, validation loss: 0.4406\n",
      "100%|██████████| 313/313 [00:41<00:00,  7.58it/s, loss=0.1783]\n",
      "Epoch 3 | Training loss: 0.1783, validation accuracy: 0.8713, validation loss: 0.4547\n",
      "100%|██████████| 313/313 [00:41<00:00,  7.60it/s, loss=0.1771]\n",
      "Epoch 4 | Training loss: 0.1771, validation accuracy: 0.8683, validation loss: 0.4518\n",
      "100%|██████████| 313/313 [00:41<00:00,  7.62it/s, loss=0.1711]\n",
      "Epoch 5 | Training loss: 0.1711, validation accuracy: 0.8714, validation loss: 0.4518\n",
      "100%|██████████| 313/313 [00:40<00:00,  7.70it/s, loss=0.1635]\n",
      "Epoch 6 | Training loss: 0.1635, validation accuracy: 0.8689, validation loss: 0.4634\n",
      "100%|██████████| 313/313 [00:40<00:00,  7.71it/s, loss=0.1583]\n",
      "Epoch 7 | Training loss: 0.1583, validation accuracy: 0.8689, validation loss: 0.4638\n",
      "100%|██████████| 313/313 [00:40<00:00,  7.68it/s, loss=0.1529]\n",
      "Epoch 8 | Training loss: 0.1529, validation accuracy: 0.8702, validation loss: 0.4706\n",
      "100%|██████████| 313/313 [00:40<00:00,  7.72it/s, loss=0.1497]\n",
      "Epoch 9 | Training loss: 0.1497, validation accuracy: 0.8733, validation loss: 0.4609\n",
      "100%|██████████| 313/313 [00:40<00:00,  7.70it/s, loss=0.1472]\n",
      "Epoch 10 | Training loss: 0.1472, validation accuracy: 0.8719, validation loss: 0.4647\n",
      "100%|██████████| 313/313 [00:40<00:00,  7.72it/s, loss=0.1477]\n",
      "Epoch 11 | Training loss: 0.1477, validation accuracy: 0.8725, validation loss: 0.4650\n",
      "100%|██████████| 313/313 [00:40<00:00,  7.70it/s, loss=0.1413]\n",
      "Epoch 12 | Training loss: 0.1413, validation accuracy: 0.8709, validation loss: 0.4715\n",
      "100%|██████████| 313/313 [00:40<00:00,  7.72it/s, loss=0.1357]\n",
      "Epoch 13 | Training loss: 0.1357, validation accuracy: 0.8704, validation loss: 0.4842\n",
      "100%|██████████| 313/313 [00:40<00:00,  7.75it/s, loss=0.1328]\n",
      "Epoch 14 | Training loss: 0.1328, validation accuracy: 0.8711, validation loss: 0.4836\n",
      "100%|██████████| 313/313 [00:40<00:00,  7.69it/s, loss=0.1317]\n",
      "Epoch 15 | Training loss: 0.1317, validation accuracy: 0.8708, validation loss: 0.4905\n",
      "100%|██████████| 313/313 [00:41<00:00,  7.62it/s, loss=0.1250]\n",
      "Epoch 16 | Training loss: 0.1250, validation accuracy: 0.8732, validation loss: 0.4901\n",
      "100%|██████████| 313/313 [00:40<00:00,  7.66it/s, loss=0.1256]\n",
      "Epoch 17 | Training loss: 0.1256, validation accuracy: 0.8709, validation loss: 0.4949\n",
      "100%|██████████| 313/313 [00:41<00:00,  7.62it/s, loss=0.1230]\n",
      "Epoch 18 | Training loss: 0.1230, validation accuracy: 0.8727, validation loss: 0.4993\n",
      "100%|██████████| 313/313 [00:41<00:00,  7.58it/s, loss=0.1191]\n",
      "Epoch 19 | Training loss: 0.1191, validation accuracy: 0.8733, validation loss: 0.4936\n",
      "100%|██████████| 313/313 [00:40<00:00,  7.67it/s, loss=0.1202]\n",
      "Epoch 20 | Training loss: 0.1202, validation accuracy: 0.8717, validation loss: 0.4943\n",
      "100%|██████████| 313/313 [00:41<00:00,  7.59it/s, loss=0.1159]\n",
      "Epoch 21 | Training loss: 0.1159, validation accuracy: 0.8709, validation loss: 0.5098\n",
      "100%|██████████| 313/313 [00:41<00:00,  7.60it/s, loss=0.1145]\n",
      "Epoch 22 | Training loss: 0.1145, validation accuracy: 0.8687, validation loss: 0.5077\n",
      "100%|██████████| 313/313 [00:41<00:00,  7.56it/s, loss=0.1105]\n",
      "Epoch 23 | Training loss: 0.1105, validation accuracy: 0.8722, validation loss: 0.5045\n",
      "100%|██████████| 313/313 [00:41<00:00,  7.55it/s, loss=0.1096]\n",
      "Epoch 24 | Training loss: 0.1096, validation accuracy: 0.8720, validation loss: 0.5078\n",
      "100%|██████████| 313/313 [00:41<00:00,  7.60it/s, loss=0.1073]\n",
      "Epoch 25 | Training loss: 0.1073, validation accuracy: 0.8719, validation loss: 0.5046\n",
      "100%|██████████| 313/313 [00:40<00:00,  7.66it/s, loss=0.1040]\n",
      "Epoch 26 | Training loss: 0.1040, validation accuracy: 0.8704, validation loss: 0.5133\n",
      "100%|██████████| 313/313 [00:41<00:00,  7.58it/s, loss=0.1015]\n",
      "Epoch 27 | Training loss: 0.1015, validation accuracy: 0.8718, validation loss: 0.5159\n",
      "100%|██████████| 313/313 [00:40<00:00,  7.68it/s, loss=0.1041]\n",
      "Epoch 28 | Training loss: 0.1041, validation accuracy: 0.8689, validation loss: 0.5258\n",
      "100%|██████████| 313/313 [00:41<00:00,  7.59it/s, loss=0.0998]\n",
      "Epoch 29 | Training loss: 0.0998, validation accuracy: 0.8702, validation loss: 0.5464\n",
      "100%|██████████| 313/313 [00:40<00:00,  7.65it/s, loss=0.0949]\n",
      "Epoch 30 | Training loss: 0.0949, validation accuracy: 0.8770, validation loss: 0.5131\n"
     ]
    }
   ],
   "source": [
    "epochs = 30\n",
    "\n",
    "for epoch in range(epochs):\n",
    "    train_loss = trainer.train_epoch(model, optimizer, dl[\"train\"])\n",
    "    optimizer.finish_epoch()\n",
    "    val_acc, val_loss = trainer.validation(model, dl[\"valid\"])\n",
    "    logger.log(\"Epoch\", epoch+1, \"|\", \n",
    "          f\"Training loss: {train_loss:.4f}, validation accuracy: {val_acc:.4f}, validation loss: {val_loss:.4f}\")"
   ]
  },
  {
   "cell_type": "code",
   "execution_count": 26,
   "id": "8be6c739-7c37-4c52-a360-161cc3f70bd6",
   "metadata": {},
   "outputs": [
    {
     "name": "stdout",
     "output_type": "stream",
     "text": [
      "Train: (0.96905, 0.08890548278093338)\n",
      "Valid: (0.877, 0.513082452583313)\n"
     ]
    }
   ],
   "source": [
    "train_score = trainer.validation(model, dl[\"train\"])\n",
    "valid_score = trainer.validation(model, dl[\"valid\"])\n",
    "logger.log(\"Train:\", train_score)\n",
    "logger.log(\"Valid:\", valid_score)"
   ]
  },
  {
   "cell_type": "code",
   "execution_count": 27,
   "id": "b5748d72-eb24-463a-9ec2-cd9ae358160f",
   "metadata": {},
   "outputs": [],
   "source": [
    "model_acc = deepcopy(model)\n",
    "optimizer.accelerate()\n",
    "target_groups = [list(model_acc.features.parameters()), list(model_acc.classifier.parameters())]\n",
    "optimizer.store_parameters(target_groups)"
   ]
  },
  {
   "cell_type": "code",
   "execution_count": 28,
   "id": "02d511a2-19e1-45f6-be49-d9f598c9c3b5",
   "metadata": {
    "tags": []
   },
   "outputs": [
    {
     "name": "stdout",
     "output_type": "stream",
     "text": [
      "Train: (0.9692, 0.09143368145674467)\n",
      "Valid: (0.8761, 0.5049447832107544)\n"
     ]
    }
   ],
   "source": [
    "model_acc.to(trainer.device)\n",
    "train_score = trainer.validation(model_acc, dl[\"train\"])\n",
    "valid_score = trainer.validation(model_acc, dl[\"valid\"])\n",
    "logger.log(\"Train:\", train_score)\n",
    "logger.log(\"Valid:\", valid_score)"
   ]
  },
  {
   "cell_type": "markdown",
   "id": "1fe17b18-c415-45f4-b274-9b30c581ddd2",
   "metadata": {},
   "source": [
    "## Linear and conv separate"
   ]
  },
  {
   "cell_type": "code",
   "execution_count": 29,
   "id": "6b45acf8-ce43-4366-95cc-7cde2aa71fa9",
   "metadata": {},
   "outputs": [
    {
     "data": {
      "text/plain": [
       "VGG(\n",
       "  (features): Sequential(\n",
       "    (0): Conv2d(3, 64, kernel_size=(3, 3), stride=(1, 1), padding=(1, 1))\n",
       "    (1): ReLU(inplace=True)\n",
       "    (2): Conv2d(64, 64, kernel_size=(3, 3), stride=(1, 1), padding=(1, 1))\n",
       "    (3): ReLU(inplace=True)\n",
       "    (4): MaxPool2d(kernel_size=2, stride=2, padding=0, dilation=1, ceil_mode=False)\n",
       "    (5): Conv2d(64, 128, kernel_size=(3, 3), stride=(1, 1), padding=(1, 1))\n",
       "    (6): ReLU(inplace=True)\n",
       "    (7): Conv2d(128, 128, kernel_size=(3, 3), stride=(1, 1), padding=(1, 1))\n",
       "    (8): ReLU(inplace=True)\n",
       "    (9): MaxPool2d(kernel_size=2, stride=2, padding=0, dilation=1, ceil_mode=False)\n",
       "    (10): Conv2d(128, 256, kernel_size=(3, 3), stride=(1, 1), padding=(1, 1))\n",
       "    (11): ReLU(inplace=True)\n",
       "    (12): Conv2d(256, 256, kernel_size=(3, 3), stride=(1, 1), padding=(1, 1))\n",
       "    (13): ReLU(inplace=True)\n",
       "    (14): Conv2d(256, 256, kernel_size=(3, 3), stride=(1, 1), padding=(1, 1))\n",
       "    (15): ReLU(inplace=True)\n",
       "    (16): MaxPool2d(kernel_size=2, stride=2, padding=0, dilation=1, ceil_mode=False)\n",
       "    (17): Conv2d(256, 512, kernel_size=(3, 3), stride=(1, 1), padding=(1, 1))\n",
       "    (18): ReLU(inplace=True)\n",
       "    (19): Conv2d(512, 512, kernel_size=(3, 3), stride=(1, 1), padding=(1, 1))\n",
       "    (20): ReLU(inplace=True)\n",
       "    (21): Conv2d(512, 512, kernel_size=(3, 3), stride=(1, 1), padding=(1, 1))\n",
       "    (22): ReLU(inplace=True)\n",
       "    (23): MaxPool2d(kernel_size=2, stride=2, padding=0, dilation=1, ceil_mode=False)\n",
       "    (24): Conv2d(512, 512, kernel_size=(3, 3), stride=(1, 1), padding=(1, 1))\n",
       "    (25): ReLU(inplace=True)\n",
       "    (26): Conv2d(512, 512, kernel_size=(3, 3), stride=(1, 1), padding=(1, 1))\n",
       "    (27): ReLU(inplace=True)\n",
       "    (28): Conv2d(512, 512, kernel_size=(3, 3), stride=(1, 1), padding=(1, 1))\n",
       "    (29): ReLU(inplace=True)\n",
       "    (30): MaxPool2d(kernel_size=2, stride=2, padding=0, dilation=1, ceil_mode=False)\n",
       "  )\n",
       "  (avgpool): AdaptiveAvgPool2d(output_size=(7, 7))\n",
       "  (classifier): Sequential(\n",
       "    (0): Linear(in_features=25088, out_features=4096, bias=True)\n",
       "    (1): ReLU(inplace=True)\n",
       "    (2): Dropout(p=0.5, inplace=False)\n",
       "    (3): Linear(in_features=4096, out_features=4096, bias=True)\n",
       "    (4): ReLU(inplace=True)\n",
       "    (5): Dropout(p=0.5, inplace=False)\n",
       "    (6): Linear(in_features=4096, out_features=10, bias=True)\n",
       "    (7): LogSoftmax(dim=-1)\n",
       "  )\n",
       ")"
      ]
     },
     "execution_count": 29,
     "metadata": {},
     "output_type": "execute_result"
    }
   ],
   "source": [
    "model = models.vgg16(pretrained=False)\n",
    "model.classifier[6] = nn.Linear(4096, 10)\n",
    "model.classifier.add_module(\"7\", nn.LogSoftmax(-1))\n",
    "\n",
    "model.to(trainer.device)"
   ]
  },
  {
   "cell_type": "code",
   "execution_count": 30,
   "id": "f0f89a70-57fc-4f24-8b9e-2bcd6c4ee174",
   "metadata": {},
   "outputs": [
    {
     "data": {
      "text/plain": [
       "(0.1004, 2.3031337482452394)"
      ]
     },
     "execution_count": 30,
     "metadata": {},
     "output_type": "execute_result"
    }
   ],
   "source": [
    "trainer.validation(model, dl[\"valid\"])"
   ]
  },
  {
   "cell_type": "code",
   "execution_count": 31,
   "id": "4dbe1b6f-2138-4770-a881-c5cb85484783",
   "metadata": {},
   "outputs": [],
   "source": [
    "conv_group = {\n",
    "    \"params\": list(model.features.parameters()),\n",
    "}\n",
    "fc_group = {\n",
    "    \"params\": list(model.classifier.parameters())\n",
    "}\n",
    "groups = [conv_group, fc_group]\n",
    "optimizer = AcceleratedSGD(groups, 1e-2, k=10, momentum=0.9, weight_decay=1e-5, lambda_=1e-8)\n",
    "logger = Logger(\"vgg_log_augmentation-conv_linear_splits.txt.no_resizing\")"
   ]
  },
  {
   "cell_type": "code",
   "execution_count": 32,
   "id": "7c1486b9-a277-46a4-ac78-4698e29c54d4",
   "metadata": {},
   "outputs": [
    {
     "name": "stdout",
     "output_type": "stream",
     "text": [
      "100%|██████████| 313/313 [00:40<00:00,  7.66it/s, loss=2.0948]\n",
      "Epoch 1 | Training loss: 2.0948, validation accuracy: 0.2827, validation loss: 1.8539\n",
      "100%|██████████| 313/313 [00:41<00:00,  7.51it/s, loss=1.7338]\n",
      "Epoch 2 | Training loss: 1.7338, validation accuracy: 0.4168, validation loss: 1.5119\n",
      "100%|██████████| 313/313 [00:42<00:00,  7.42it/s, loss=1.5295]\n",
      "Epoch 3 | Training loss: 1.5295, validation accuracy: 0.4960, validation loss: 1.3821\n",
      "100%|██████████| 313/313 [00:41<00:00,  7.51it/s, loss=1.3694]\n",
      "Epoch 4 | Training loss: 1.3694, validation accuracy: 0.5525, validation loss: 1.2337\n",
      "100%|██████████| 313/313 [00:41<00:00,  7.54it/s, loss=1.2270]\n",
      "Epoch 5 | Training loss: 1.2270, validation accuracy: 0.6050, validation loss: 1.0831\n",
      "100%|██████████| 313/313 [00:41<00:00,  7.53it/s, loss=1.1128]\n",
      "Epoch 6 | Training loss: 1.1128, validation accuracy: 0.6604, validation loss: 0.9749\n",
      "100%|██████████| 313/313 [00:41<00:00,  7.58it/s, loss=1.0203]\n",
      "Epoch 7 | Training loss: 1.0203, validation accuracy: 0.6769, validation loss: 0.8977\n",
      "100%|██████████| 313/313 [00:41<00:00,  7.49it/s, loss=0.9302]\n",
      "Epoch 8 | Training loss: 0.9302, validation accuracy: 0.7091, validation loss: 0.8347\n",
      "100%|██████████| 313/313 [00:41<00:00,  7.54it/s, loss=0.8791]\n",
      "Epoch 9 | Training loss: 0.8791, validation accuracy: 0.7134, validation loss: 0.7986\n",
      "100%|██████████| 313/313 [00:41<00:00,  7.47it/s, loss=0.8087]\n",
      "Epoch 10 | Training loss: 0.8087, validation accuracy: 0.7398, validation loss: 0.7449\n",
      "100%|██████████| 313/313 [00:42<00:00,  7.42it/s, loss=0.7702]\n",
      "Epoch 11 | Training loss: 0.7702, validation accuracy: 0.7603, validation loss: 0.6903\n",
      "100%|██████████| 313/313 [00:42<00:00,  7.41it/s, loss=0.7251]\n",
      "Epoch 12 | Training loss: 0.7251, validation accuracy: 0.7703, validation loss: 0.6683\n",
      "100%|██████████| 313/313 [00:42<00:00,  7.29it/s, loss=0.6774]\n",
      "Epoch 13 | Training loss: 0.6774, validation accuracy: 0.7773, validation loss: 0.6593\n",
      "100%|██████████| 313/313 [00:42<00:00,  7.35it/s, loss=0.6361]\n",
      "Epoch 14 | Training loss: 0.6361, validation accuracy: 0.7915, validation loss: 0.6104\n",
      "100%|██████████| 313/313 [00:42<00:00,  7.34it/s, loss=0.6157]\n",
      "Epoch 15 | Training loss: 0.6157, validation accuracy: 0.8005, validation loss: 0.5890\n",
      "100%|██████████| 313/313 [00:42<00:00,  7.31it/s, loss=0.5831]\n",
      "Epoch 16 | Training loss: 0.5831, validation accuracy: 0.7882, validation loss: 0.6082\n",
      "100%|██████████| 313/313 [00:42<00:00,  7.41it/s, loss=0.5658]\n",
      "Epoch 17 | Training loss: 0.5658, validation accuracy: 0.8072, validation loss: 0.5645\n",
      "100%|██████████| 313/313 [00:42<00:00,  7.37it/s, loss=0.5406]\n",
      "Epoch 18 | Training loss: 0.5406, validation accuracy: 0.8183, validation loss: 0.5428\n",
      "100%|██████████| 313/313 [00:42<00:00,  7.37it/s, loss=0.5056]\n",
      "Epoch 19 | Training loss: 0.5056, validation accuracy: 0.7921, validation loss: 0.6490\n",
      "100%|██████████| 313/313 [00:42<00:00,  7.39it/s, loss=0.4766]\n",
      "Epoch 20 | Training loss: 0.4766, validation accuracy: 0.8263, validation loss: 0.5268\n",
      "100%|██████████| 313/313 [00:42<00:00,  7.40it/s, loss=0.4635]\n",
      "Epoch 21 | Training loss: 0.4635, validation accuracy: 0.8354, validation loss: 0.5040\n",
      "100%|██████████| 313/313 [00:42<00:00,  7.34it/s, loss=0.4465]\n",
      "Epoch 22 | Training loss: 0.4465, validation accuracy: 0.8174, validation loss: 0.5709\n",
      "100%|██████████| 313/313 [00:42<00:00,  7.38it/s, loss=0.4320]\n",
      "Epoch 23 | Training loss: 0.4320, validation accuracy: 0.8285, validation loss: 0.5248\n",
      "100%|██████████| 313/313 [00:42<00:00,  7.33it/s, loss=0.4072]\n",
      "Epoch 24 | Training loss: 0.4072, validation accuracy: 0.8404, validation loss: 0.4857\n",
      "100%|██████████| 313/313 [00:42<00:00,  7.40it/s, loss=0.3865]\n",
      "Epoch 25 | Training loss: 0.3865, validation accuracy: 0.8243, validation loss: 0.5392\n",
      "100%|██████████| 313/313 [00:42<00:00,  7.43it/s, loss=0.3791]\n",
      "Epoch 26 | Training loss: 0.3791, validation accuracy: 0.8320, validation loss: 0.5422\n",
      "100%|██████████| 313/313 [00:42<00:00,  7.40it/s, loss=0.3662]\n",
      "Epoch 27 | Training loss: 0.3662, validation accuracy: 0.8506, validation loss: 0.4748\n",
      "100%|██████████| 313/313 [00:42<00:00,  7.39it/s, loss=0.3387]\n",
      "Epoch 28 | Training loss: 0.3387, validation accuracy: 0.8434, validation loss: 0.4828\n",
      "100%|██████████| 313/313 [00:42<00:00,  7.42it/s, loss=0.3393]\n",
      "Epoch 29 | Training loss: 0.3393, validation accuracy: 0.8391, validation loss: 0.4985\n",
      "100%|██████████| 313/313 [00:42<00:00,  7.36it/s, loss=0.3212]\n",
      "Epoch 30 | Training loss: 0.3212, validation accuracy: 0.8373, validation loss: 0.5215\n"
     ]
    }
   ],
   "source": [
    "epochs = 30\n",
    "\n",
    "for epoch in range(epochs):\n",
    "    train_loss = trainer.train_epoch(model, optimizer, dl[\"train\"])\n",
    "    optimizer.finish_epoch()\n",
    "    val_acc, val_loss = trainer.validation(model, dl[\"valid\"])\n",
    "    logger.log(\"Epoch\", epoch+1, \"|\", \n",
    "          f\"Training loss: {train_loss:.4f}, validation accuracy: {val_acc:.4f}, validation loss: {val_loss:.4f}\")"
   ]
  },
  {
   "cell_type": "code",
   "execution_count": 33,
   "id": "b8fd4d90-459c-40b8-9882-76f4e910101a",
   "metadata": {},
   "outputs": [
    {
     "name": "stdout",
     "output_type": "stream",
     "text": [
      "Train: (0.890925, 0.30734144163131716)\n",
      "Valid: (0.8373, 0.5214660457611084)\n"
     ]
    }
   ],
   "source": [
    "train_score = trainer.validation(model, dl[\"train\"])\n",
    "valid_score = trainer.validation(model, dl[\"valid\"])\n",
    "logger.log(\"Train:\", train_score)\n",
    "logger.log(\"Valid:\", valid_score)"
   ]
  },
  {
   "cell_type": "code",
   "execution_count": 34,
   "id": "809e58a0-025d-4176-8f55-d0cd09cce69e",
   "metadata": {},
   "outputs": [],
   "source": [
    "model_acc = deepcopy(model)\n",
    "optimizer.accelerate()\n",
    "target_groups = [list(model_acc.features.parameters()), list(model_acc.classifier.parameters())]\n",
    "optimizer.store_parameters(target_groups)"
   ]
  },
  {
   "cell_type": "code",
   "execution_count": 35,
   "id": "67fe1cf4-9fc8-4191-b53e-92ebcd594aae",
   "metadata": {
    "tags": []
   },
   "outputs": [
    {
     "name": "stdout",
     "output_type": "stream",
     "text": [
      "Train: (0.92505, 0.22132562918663026)\n",
      "Valid: (0.8647, 0.4144107507705688)\n"
     ]
    }
   ],
   "source": [
    "model_acc.to(trainer.device)\n",
    "train_score = trainer.validation(model_acc, dl[\"train\"])\n",
    "valid_score = trainer.validation(model_acc, dl[\"valid\"])\n",
    "logger.log(\"Train:\", train_score)\n",
    "logger.log(\"Valid:\", valid_score)"
   ]
  },
  {
   "cell_type": "code",
   "execution_count": 36,
   "id": "2ae94bae-e285-462b-8f6d-9713bbe00cd0",
   "metadata": {},
   "outputs": [],
   "source": [
    "for group in optimizer.param_groups:\n",
    "    group[\"lr\"] = 1e-3"
   ]
  },
  {
   "cell_type": "code",
   "execution_count": 37,
   "id": "e60e7b84-3938-43e0-9782-cb8071da3bfe",
   "metadata": {},
   "outputs": [
    {
     "name": "stdout",
     "output_type": "stream",
     "text": [
      "100%|██████████| 313/313 [00:41<00:00,  7.52it/s, loss=0.2177]\n",
      "Epoch 1 | Training loss: 0.2177, validation accuracy: 0.8616, validation loss: 0.4688\n",
      "100%|██████████| 313/313 [00:42<00:00,  7.42it/s, loss=0.1871]\n",
      "Epoch 2 | Training loss: 0.1871, validation accuracy: 0.8646, validation loss: 0.4621\n",
      "100%|██████████| 313/313 [00:41<00:00,  7.52it/s, loss=0.1800]\n",
      "Epoch 3 | Training loss: 0.1800, validation accuracy: 0.8666, validation loss: 0.4637\n",
      "100%|██████████| 313/313 [00:41<00:00,  7.48it/s, loss=0.1686]\n",
      "Epoch 4 | Training loss: 0.1686, validation accuracy: 0.8666, validation loss: 0.4665\n",
      "100%|██████████| 313/313 [00:41<00:00,  7.54it/s, loss=0.1611]\n",
      "Epoch 5 | Training loss: 0.1611, validation accuracy: 0.8673, validation loss: 0.4675\n",
      "100%|██████████| 313/313 [00:41<00:00,  7.55it/s, loss=0.1553]\n",
      "Epoch 6 | Training loss: 0.1553, validation accuracy: 0.8696, validation loss: 0.4717\n",
      "100%|██████████| 313/313 [00:41<00:00,  7.52it/s, loss=0.1507]\n",
      "Epoch 7 | Training loss: 0.1507, validation accuracy: 0.8689, validation loss: 0.4782\n",
      "100%|██████████| 313/313 [00:41<00:00,  7.54it/s, loss=0.1490]\n",
      "Epoch 8 | Training loss: 0.1490, validation accuracy: 0.8690, validation loss: 0.4782\n",
      "100%|██████████| 313/313 [00:41<00:00,  7.51it/s, loss=0.1416]\n",
      "Epoch 9 | Training loss: 0.1416, validation accuracy: 0.8674, validation loss: 0.4911\n",
      "100%|██████████| 313/313 [00:41<00:00,  7.49it/s, loss=0.1409]\n",
      "Epoch 10 | Training loss: 0.1409, validation accuracy: 0.8682, validation loss: 0.4890\n",
      "100%|██████████| 313/313 [00:41<00:00,  7.58it/s, loss=0.1390]\n",
      "Epoch 11 | Training loss: 0.1390, validation accuracy: 0.8717, validation loss: 0.4854\n",
      "100%|██████████| 313/313 [00:41<00:00,  7.52it/s, loss=0.1313]\n",
      "Epoch 12 | Training loss: 0.1313, validation accuracy: 0.8699, validation loss: 0.4970\n",
      "100%|██████████| 313/313 [00:41<00:00,  7.59it/s, loss=0.1341]\n",
      "Epoch 13 | Training loss: 0.1341, validation accuracy: 0.8672, validation loss: 0.4931\n",
      "100%|██████████| 313/313 [00:41<00:00,  7.56it/s, loss=0.1311]\n",
      "Epoch 14 | Training loss: 0.1311, validation accuracy: 0.8709, validation loss: 0.5003\n",
      "100%|██████████| 313/313 [00:41<00:00,  7.62it/s, loss=0.1268]\n",
      "Epoch 15 | Training loss: 0.1268, validation accuracy: 0.8702, validation loss: 0.4951\n",
      "100%|██████████| 313/313 [00:41<00:00,  7.59it/s, loss=0.1265]\n",
      "Epoch 16 | Training loss: 0.1265, validation accuracy: 0.8677, validation loss: 0.5039\n",
      "100%|██████████| 313/313 [00:41<00:00,  7.58it/s, loss=0.1155]\n",
      "Epoch 17 | Training loss: 0.1155, validation accuracy: 0.8712, validation loss: 0.5071\n",
      "100%|██████████| 313/313 [00:41<00:00,  7.58it/s, loss=0.1226]\n",
      "Epoch 18 | Training loss: 0.1226, validation accuracy: 0.8660, validation loss: 0.5125\n",
      "100%|██████████| 313/313 [00:40<00:00,  7.64it/s, loss=0.1171]\n",
      "Epoch 19 | Training loss: 0.1171, validation accuracy: 0.8712, validation loss: 0.5044\n",
      "100%|██████████| 313/313 [00:41<00:00,  7.54it/s, loss=0.1120]\n",
      "Epoch 20 | Training loss: 0.1120, validation accuracy: 0.8703, validation loss: 0.5247\n",
      "100%|██████████| 313/313 [00:40<00:00,  7.67it/s, loss=0.1115]\n",
      "Epoch 21 | Training loss: 0.1115, validation accuracy: 0.8692, validation loss: 0.5213\n",
      "100%|██████████| 313/313 [00:41<00:00,  7.62it/s, loss=0.1098]\n",
      "Epoch 22 | Training loss: 0.1098, validation accuracy: 0.8682, validation loss: 0.5317\n",
      "100%|██████████| 313/313 [00:41<00:00,  7.60it/s, loss=0.1115]\n",
      "Epoch 23 | Training loss: 0.1115, validation accuracy: 0.8660, validation loss: 0.5356\n",
      "100%|██████████| 313/313 [00:41<00:00,  7.58it/s, loss=0.1035]\n",
      "Epoch 24 | Training loss: 0.1035, validation accuracy: 0.8683, validation loss: 0.5340\n",
      "100%|██████████| 313/313 [00:41<00:00,  7.62it/s, loss=0.1049]\n",
      "Epoch 25 | Training loss: 0.1049, validation accuracy: 0.8691, validation loss: 0.5392\n",
      "100%|██████████| 313/313 [00:41<00:00,  7.60it/s, loss=0.0981]\n",
      "Epoch 26 | Training loss: 0.0981, validation accuracy: 0.8697, validation loss: 0.5293\n",
      "100%|██████████| 313/313 [00:40<00:00,  7.66it/s, loss=0.0999]\n",
      "Epoch 27 | Training loss: 0.0999, validation accuracy: 0.8714, validation loss: 0.5337\n",
      "100%|██████████| 313/313 [00:41<00:00,  7.59it/s, loss=0.0991]\n",
      "Epoch 28 | Training loss: 0.0991, validation accuracy: 0.8677, validation loss: 0.5461\n",
      "100%|██████████| 313/313 [00:40<00:00,  7.65it/s, loss=0.0953]\n",
      "Epoch 29 | Training loss: 0.0953, validation accuracy: 0.8704, validation loss: 0.5431\n",
      "100%|██████████| 313/313 [00:41<00:00,  7.61it/s, loss=0.0918]\n",
      "Epoch 30 | Training loss: 0.0918, validation accuracy: 0.8692, validation loss: 0.5477\n"
     ]
    }
   ],
   "source": [
    "epochs = 30\n",
    "\n",
    "for epoch in range(epochs):\n",
    "    train_loss = trainer.train_epoch(model, optimizer, dl[\"train\"])\n",
    "    optimizer.finish_epoch()\n",
    "    val_acc, val_loss = trainer.validation(model, dl[\"valid\"])\n",
    "    logger.log(\"Epoch\", epoch+1, \"|\", \n",
    "          f\"Training loss: {train_loss:.4f}, validation accuracy: {val_acc:.4f}, validation loss: {val_loss:.4f}\")"
   ]
  },
  {
   "cell_type": "code",
   "execution_count": 38,
   "id": "f6f3cbe5-a80a-4ce9-ab6b-ef411f740a79",
   "metadata": {},
   "outputs": [
    {
     "name": "stdout",
     "output_type": "stream",
     "text": [
      "Train: (0.968475, 0.09036123336553574)\n",
      "Valid: (0.8692, 0.5477062431335449)\n"
     ]
    }
   ],
   "source": [
    "train_score = trainer.validation(model, dl[\"train\"])\n",
    "valid_score = trainer.validation(model, dl[\"valid\"])\n",
    "logger.log(\"Train:\", train_score)\n",
    "logger.log(\"Valid:\", valid_score)"
   ]
  },
  {
   "cell_type": "code",
   "execution_count": 39,
   "id": "27b2bf1c-553c-4c4d-ac68-d23ecfdd860d",
   "metadata": {},
   "outputs": [],
   "source": [
    "model_acc = deepcopy(model)\n",
    "optimizer.accelerate()\n",
    "target_groups = [list(model_acc.features.parameters()), list(model_acc.classifier.parameters())]\n",
    "optimizer.store_parameters(target_groups)"
   ]
  },
  {
   "cell_type": "code",
   "execution_count": 40,
   "id": "741f9c86-a936-452f-bc10-104fe36aa76e",
   "metadata": {
    "tags": []
   },
   "outputs": [
    {
     "name": "stdout",
     "output_type": "stream",
     "text": [
      "Train: (0.97175, 0.08393800009787082)\n",
      "Valid: (0.872, 0.5277702535629273)\n"
     ]
    }
   ],
   "source": [
    "model_acc.to(trainer.device)\n",
    "train_score = trainer.validation(model_acc, dl[\"train\"])\n",
    "valid_score = trainer.validation(model_acc, dl[\"valid\"])\n",
    "logger.log(\"Train:\", train_score)\n",
    "logger.log(\"Valid:\", valid_score)"
   ]
  },
  {
   "cell_type": "code",
   "execution_count": 41,
   "id": "53707878-b1fc-47ed-ba02-b60644d82e2a",
   "metadata": {},
   "outputs": [],
   "source": [
    "exit"
   ]
  },
  {
   "cell_type": "code",
   "execution_count": null,
   "id": "18720bd5-25d9-48dc-ad2d-c1a360d740f0",
   "metadata": {},
   "outputs": [],
   "source": []
  }
 ],
 "metadata": {
  "kernelspec": {
   "display_name": "Python 3",
   "language": "python",
   "name": "python3"
  },
  "language_info": {
   "codemirror_mode": {
    "name": "ipython",
    "version": 3
   },
   "file_extension": ".py",
   "mimetype": "text/x-python",
   "name": "python",
   "nbconvert_exporter": "python",
   "pygments_lexer": "ipython3",
   "version": "3.8.5"
  }
 },
 "nbformat": 4,
 "nbformat_minor": 5
}
