{
 "cells": [
  {
   "cell_type": "code",
   "execution_count": 1,
   "id": "9fd8ddb3-ccd1-43ea-8ba2-6de8b690d2cb",
   "metadata": {},
   "outputs": [],
   "source": [
    "import sys\n",
    "sys.path.insert(0, \"../..\")"
   ]
  },
  {
   "cell_type": "code",
   "execution_count": 2,
   "id": "reported-belle",
   "metadata": {},
   "outputs": [],
   "source": [
    "import torch\n",
    "from torch import nn\n",
    "from torchvision import models\n",
    "from copy import deepcopy\n",
    "import os\n",
    "\n",
    "from nn_extrapolation import AcceleratedSGD\n",
    "from nn_utils import *"
   ]
  },
  {
   "cell_type": "code",
   "execution_count": 3,
   "id": "visible-lawyer",
   "metadata": {},
   "outputs": [],
   "source": [
    "trainer = Trainer(\n",
    "    device=\"cuda:2\",\n",
    "    loss_fn=nn.NLLLoss(reduction=\"mean\"),\n",
    "    val_loss_fn=nn.NLLLoss(reduction=\"sum\"),\n",
    ")"
   ]
  },
  {
   "cell_type": "code",
   "execution_count": 4,
   "id": "constitutional-groove",
   "metadata": {},
   "outputs": [
    {
     "name": "stdout",
     "output_type": "stream",
     "text": [
      "Files already downloaded and verified\n",
      "Files already downloaded and verified\n"
     ]
    }
   ],
   "source": [
    "dl = load_dataset(\n",
    "    dataset=\"CIFAR10\",\n",
    "    root=os.path.join(\"/tmp\", os.environ[\"USER\"], \"CIFAR\"),\n",
    "    augmentation=transforms.RandomAffine(10, scale=(0.9, 1.1), translate=(0.2, 0.2)),\n",
    "    validation_split=0.2,\n",
    "    batch_size=128,\n",
    "    num_workers=10,\n",
    ")"
   ]
  },
  {
   "cell_type": "code",
   "execution_count": 5,
   "id": "frozen-motivation",
   "metadata": {},
   "outputs": [
    {
     "data": {
      "text/plain": [
       "VGG(\n",
       "  (features): Sequential(\n",
       "    (0): Conv2d(3, 64, kernel_size=(3, 3), stride=(1, 1), padding=(1, 1))\n",
       "    (1): ReLU(inplace=True)\n",
       "    (2): Conv2d(64, 64, kernel_size=(3, 3), stride=(1, 1), padding=(1, 1))\n",
       "    (3): ReLU(inplace=True)\n",
       "    (4): MaxPool2d(kernel_size=2, stride=2, padding=0, dilation=1, ceil_mode=False)\n",
       "    (5): Conv2d(64, 128, kernel_size=(3, 3), stride=(1, 1), padding=(1, 1))\n",
       "    (6): ReLU(inplace=True)\n",
       "    (7): Conv2d(128, 128, kernel_size=(3, 3), stride=(1, 1), padding=(1, 1))\n",
       "    (8): ReLU(inplace=True)\n",
       "    (9): MaxPool2d(kernel_size=2, stride=2, padding=0, dilation=1, ceil_mode=False)\n",
       "    (10): Conv2d(128, 256, kernel_size=(3, 3), stride=(1, 1), padding=(1, 1))\n",
       "    (11): ReLU(inplace=True)\n",
       "    (12): Conv2d(256, 256, kernel_size=(3, 3), stride=(1, 1), padding=(1, 1))\n",
       "    (13): ReLU(inplace=True)\n",
       "    (14): Conv2d(256, 256, kernel_size=(3, 3), stride=(1, 1), padding=(1, 1))\n",
       "    (15): ReLU(inplace=True)\n",
       "    (16): Conv2d(256, 256, kernel_size=(3, 3), stride=(1, 1), padding=(1, 1))\n",
       "    (17): ReLU(inplace=True)\n",
       "    (18): MaxPool2d(kernel_size=2, stride=2, padding=0, dilation=1, ceil_mode=False)\n",
       "    (19): Conv2d(256, 512, kernel_size=(3, 3), stride=(1, 1), padding=(1, 1))\n",
       "    (20): ReLU(inplace=True)\n",
       "    (21): Conv2d(512, 512, kernel_size=(3, 3), stride=(1, 1), padding=(1, 1))\n",
       "    (22): ReLU(inplace=True)\n",
       "    (23): Conv2d(512, 512, kernel_size=(3, 3), stride=(1, 1), padding=(1, 1))\n",
       "    (24): ReLU(inplace=True)\n",
       "    (25): Conv2d(512, 512, kernel_size=(3, 3), stride=(1, 1), padding=(1, 1))\n",
       "    (26): ReLU(inplace=True)\n",
       "    (27): MaxPool2d(kernel_size=2, stride=2, padding=0, dilation=1, ceil_mode=False)\n",
       "    (28): Conv2d(512, 512, kernel_size=(3, 3), stride=(1, 1), padding=(1, 1))\n",
       "    (29): ReLU(inplace=True)\n",
       "    (30): Conv2d(512, 512, kernel_size=(3, 3), stride=(1, 1), padding=(1, 1))\n",
       "    (31): ReLU(inplace=True)\n",
       "    (32): Conv2d(512, 512, kernel_size=(3, 3), stride=(1, 1), padding=(1, 1))\n",
       "    (33): ReLU(inplace=True)\n",
       "    (34): Conv2d(512, 512, kernel_size=(3, 3), stride=(1, 1), padding=(1, 1))\n",
       "    (35): ReLU(inplace=True)\n",
       "    (36): MaxPool2d(kernel_size=2, stride=2, padding=0, dilation=1, ceil_mode=False)\n",
       "  )\n",
       "  (avgpool): AdaptiveAvgPool2d(output_size=(7, 7))\n",
       "  (classifier): Sequential(\n",
       "    (0): Linear(in_features=25088, out_features=4096, bias=True)\n",
       "    (1): ReLU(inplace=True)\n",
       "    (2): Dropout(p=0.5, inplace=False)\n",
       "    (3): Linear(in_features=4096, out_features=4096, bias=True)\n",
       "    (4): ReLU(inplace=True)\n",
       "    (5): Dropout(p=0.5, inplace=False)\n",
       "    (6): Linear(in_features=4096, out_features=10, bias=True)\n",
       "    (7): LogSoftmax(dim=-1)\n",
       "  )\n",
       ")"
      ]
     },
     "execution_count": 5,
     "metadata": {},
     "output_type": "execute_result"
    }
   ],
   "source": [
    "model = models.vgg19(pretrained=False)\n",
    "model.classifier[6] = nn.Linear(4096, 10)\n",
    "model.classifier.add_module(\"7\", nn.LogSoftmax(-1))\n",
    "initial_state = deepcopy(model.state_dict())\n",
    "model.to(trainer.device)"
   ]
  },
  {
   "cell_type": "code",
   "execution_count": 6,
   "id": "7758f66d-5f5b-42b1-9c44-1def0b22baff",
   "metadata": {},
   "outputs": [
    {
     "data": {
      "text/plain": [
       "139611210"
      ]
     },
     "execution_count": 6,
     "metadata": {},
     "output_type": "execute_result"
    }
   ],
   "source": [
    "sum(param.numel() for param in model.parameters())"
   ]
  },
  {
   "cell_type": "code",
   "execution_count": 7,
   "id": "diverse-dutch",
   "metadata": {},
   "outputs": [
    {
     "data": {
      "text/plain": [
       "(0.0761, 2.302834475326538)"
      ]
     },
     "execution_count": 7,
     "metadata": {},
     "output_type": "execute_result"
    }
   ],
   "source": [
    "trainer.validation(model, dl[\"valid\"])"
   ]
  },
  {
   "cell_type": "markdown",
   "id": "wound-russell",
   "metadata": {},
   "source": [
    "## Momentum"
   ]
  },
  {
   "cell_type": "code",
   "execution_count": 8,
   "id": "attended-awareness",
   "metadata": {},
   "outputs": [],
   "source": [
    "optimizer = AcceleratedSGD(model.parameters(), 1e-2, k=10, momentum=0.9, weight_decay=1e-5, lambda_=1e-16)\n",
    "logger = Logger(\"vgg19_log_augmentation.txt.no_resizing\")"
   ]
  },
  {
   "cell_type": "code",
   "execution_count": 9,
   "id": "informed-macedonia",
   "metadata": {},
   "outputs": [
    {
     "name": "stdout",
     "output_type": "stream",
     "text": [
      "100%|██████████| 313/313 [00:43<00:00,  7.14it/s, loss=2.1130]\n",
      "Epoch 1 | Training loss: 2.1130, validation accuracy: 0.2508, validation loss: 2.0050\n",
      "100%|██████████| 313/313 [00:44<00:00,  6.96it/s, loss=1.8014]\n",
      "Epoch 2 | Training loss: 1.8014, validation accuracy: 0.3681, validation loss: 1.6286\n",
      "100%|██████████| 313/313 [00:45<00:00,  6.88it/s, loss=1.6287]\n",
      "Epoch 3 | Training loss: 1.6287, validation accuracy: 0.3984, validation loss: 1.5733\n",
      "100%|██████████| 313/313 [00:45<00:00,  6.85it/s, loss=1.4886]\n",
      "Epoch 4 | Training loss: 1.4886, validation accuracy: 0.4939, validation loss: 1.3859\n",
      "100%|██████████| 313/313 [00:45<00:00,  6.82it/s, loss=1.3514]\n",
      "Epoch 5 | Training loss: 1.3514, validation accuracy: 0.5440, validation loss: 1.2273\n",
      "100%|██████████| 313/313 [00:45<00:00,  6.81it/s, loss=1.2042]\n",
      "Epoch 6 | Training loss: 1.2042, validation accuracy: 0.5651, validation loss: 1.2094\n",
      "100%|██████████| 313/313 [00:45<00:00,  6.84it/s, loss=1.1040]\n",
      "Epoch 7 | Training loss: 1.1040, validation accuracy: 0.6802, validation loss: 0.9285\n",
      "100%|██████████| 313/313 [00:45<00:00,  6.86it/s, loss=1.0061]\n",
      "Epoch 8 | Training loss: 1.0061, validation accuracy: 0.6928, validation loss: 0.8890\n",
      "100%|██████████| 313/313 [00:45<00:00,  6.85it/s, loss=0.9409]\n",
      "Epoch 9 | Training loss: 0.9409, validation accuracy: 0.7137, validation loss: 0.8633\n",
      "100%|██████████| 313/313 [00:45<00:00,  6.83it/s, loss=0.8692]\n",
      "Epoch 10 | Training loss: 0.8692, validation accuracy: 0.7343, validation loss: 0.7744\n",
      "100%|██████████| 313/313 [00:45<00:00,  6.82it/s, loss=0.8246]\n",
      "Epoch 11 | Training loss: 0.8246, validation accuracy: 0.7504, validation loss: 0.7523\n",
      "100%|██████████| 313/313 [00:45<00:00,  6.81it/s, loss=0.7645]\n",
      "Epoch 12 | Training loss: 0.7645, validation accuracy: 0.7580, validation loss: 0.7170\n",
      "100%|██████████| 313/313 [00:45<00:00,  6.82it/s, loss=0.7287]\n",
      "Epoch 13 | Training loss: 0.7287, validation accuracy: 0.7828, validation loss: 0.6376\n",
      "100%|██████████| 313/313 [00:45<00:00,  6.81it/s, loss=0.6899]\n",
      "Epoch 14 | Training loss: 0.6899, validation accuracy: 0.7758, validation loss: 0.6524\n",
      "100%|██████████| 313/313 [00:45<00:00,  6.82it/s, loss=0.6646]\n",
      "Epoch 15 | Training loss: 0.6646, validation accuracy: 0.7910, validation loss: 0.6407\n",
      "100%|██████████| 313/313 [00:46<00:00,  6.80it/s, loss=0.6235]\n",
      "Epoch 16 | Training loss: 0.6235, validation accuracy: 0.7909, validation loss: 0.6440\n",
      "100%|██████████| 313/313 [00:46<00:00,  6.78it/s, loss=0.5975]\n",
      "Epoch 17 | Training loss: 0.5975, validation accuracy: 0.8132, validation loss: 0.5643\n",
      "100%|██████████| 313/313 [00:46<00:00,  6.79it/s, loss=0.5717]\n",
      "Epoch 18 | Training loss: 0.5717, validation accuracy: 0.8199, validation loss: 0.5478\n",
      "100%|██████████| 313/313 [00:46<00:00,  6.80it/s, loss=0.5411]\n",
      "Epoch 19 | Training loss: 0.5411, validation accuracy: 0.8229, validation loss: 0.5372\n",
      "100%|██████████| 313/313 [00:45<00:00,  6.86it/s, loss=0.5190]\n",
      "Epoch 20 | Training loss: 0.5190, validation accuracy: 0.8221, validation loss: 0.5304\n",
      "100%|██████████| 313/313 [00:45<00:00,  6.86it/s, loss=0.5010]\n",
      "Epoch 21 | Training loss: 0.5010, validation accuracy: 0.8232, validation loss: 0.5584\n",
      "100%|██████████| 313/313 [00:45<00:00,  6.87it/s, loss=0.4745]\n",
      "Epoch 22 | Training loss: 0.4745, validation accuracy: 0.8287, validation loss: 0.5296\n",
      "100%|██████████| 313/313 [00:45<00:00,  6.83it/s, loss=0.4472]\n",
      "Epoch 23 | Training loss: 0.4472, validation accuracy: 0.8351, validation loss: 0.4999\n",
      "100%|██████████| 313/313 [00:45<00:00,  6.83it/s, loss=0.4518]\n",
      "Epoch 24 | Training loss: 0.4518, validation accuracy: 0.8344, validation loss: 0.5175\n",
      "100%|██████████| 313/313 [00:46<00:00,  6.79it/s, loss=0.4157]\n",
      "Epoch 25 | Training loss: 0.4157, validation accuracy: 0.8242, validation loss: 0.5402\n",
      "100%|██████████| 313/313 [00:46<00:00,  6.76it/s, loss=0.4023]\n",
      "Epoch 26 | Training loss: 0.4023, validation accuracy: 0.8233, validation loss: 0.5549\n",
      "100%|██████████| 313/313 [00:46<00:00,  6.77it/s, loss=0.3880]\n",
      "Epoch 27 | Training loss: 0.3880, validation accuracy: 0.8398, validation loss: 0.5102\n",
      "100%|██████████| 313/313 [00:46<00:00,  6.77it/s, loss=0.3675]\n",
      "Epoch 28 | Training loss: 0.3675, validation accuracy: 0.8378, validation loss: 0.5107\n",
      "100%|██████████| 313/313 [00:46<00:00,  6.75it/s, loss=0.3548]\n",
      "Epoch 29 | Training loss: 0.3548, validation accuracy: 0.8279, validation loss: 0.5505\n",
      "100%|██████████| 313/313 [00:46<00:00,  6.76it/s, loss=0.3402]\n",
      "Epoch 30 | Training loss: 0.3402, validation accuracy: 0.8496, validation loss: 0.4956\n"
     ]
    }
   ],
   "source": [
    "torch.manual_seed(2020)\n",
    "epochs = 30\n",
    "\n",
    "for epoch in range(epochs):\n",
    "    train_loss = trainer.train_epoch(model, optimizer, dl[\"train\"])\n",
    "    optimizer.finish_epoch()\n",
    "    val_acc, val_loss = trainer.validation(model, dl[\"valid\"])\n",
    "    logger.log(\"Epoch\", epoch+1, \"|\", \n",
    "          f\"Training loss: {train_loss:.4f}, validation accuracy: {val_acc:.4f}, validation loss: {val_loss:.4f}\")"
   ]
  },
  {
   "cell_type": "code",
   "execution_count": 10,
   "id": "unable-error",
   "metadata": {},
   "outputs": [
    {
     "name": "stdout",
     "output_type": "stream",
     "text": [
      "Train: (0.902625, 0.2894450357437134)\n",
      "Valid: (0.8496, 0.4955637317657471)\n"
     ]
    }
   ],
   "source": [
    "train_score = trainer.validation(model, dl[\"train\"])\n",
    "valid_score = trainer.validation(model, dl[\"valid\"])\n",
    "logger.log(\"Train:\", train_score)\n",
    "logger.log(\"Valid:\", valid_score)"
   ]
  },
  {
   "cell_type": "code",
   "execution_count": 11,
   "id": "hungarian-japanese",
   "metadata": {},
   "outputs": [],
   "source": [
    "model_acc = deepcopy(model)\n",
    "optimizer.accelerate()\n",
    "optimizer.store_parameters([model_acc.parameters()])"
   ]
  },
  {
   "cell_type": "code",
   "execution_count": 12,
   "id": "exciting-quilt",
   "metadata": {},
   "outputs": [
    {
     "name": "stdout",
     "output_type": "stream",
     "text": [
      "Train: (0.903575, 0.2882868586063385)\n",
      "Valid: (0.8496, 0.4955637317657471)\n"
     ]
    }
   ],
   "source": [
    "train_score = trainer.validation(model, dl[\"train\"])\n",
    "valid_score = trainer.validation(model, dl[\"valid\"])\n",
    "logger.log(\"Train:\", train_score)\n",
    "logger.log(\"Valid:\", valid_score)"
   ]
  },
  {
   "cell_type": "code",
   "execution_count": 13,
   "id": "sought-enforcement",
   "metadata": {},
   "outputs": [],
   "source": [
    "optimizer.param_groups[0][\"lr\"] = 1e-3"
   ]
  },
  {
   "cell_type": "code",
   "execution_count": null,
   "id": "specialized-glossary",
   "metadata": {},
   "outputs": [
    {
     "name": "stdout",
     "output_type": "stream",
     "text": [
      "100%|██████████| 313/313 [00:46<00:00,  6.66it/s, loss=0.2255]\n",
      "Epoch 1 | Training loss: 0.2255, validation accuracy: 0.8652, validation loss: 0.4607\n",
      "100%|██████████| 313/313 [00:47<00:00,  6.59it/s, loss=0.1984]\n",
      "Epoch 2 | Training loss: 0.1984, validation accuracy: 0.8651, validation loss: 0.4606\n",
      "100%|██████████| 313/313 [00:47<00:00,  6.57it/s, loss=0.1868]\n",
      "Epoch 3 | Training loss: 0.1868, validation accuracy: 0.8664, validation loss: 0.4614\n",
      "100%|██████████| 313/313 [00:47<00:00,  6.58it/s, loss=0.1774]\n",
      "Epoch 4 | Training loss: 0.1774, validation accuracy: 0.8675, validation loss: 0.4678\n",
      "100%|██████████| 313/313 [00:47<00:00,  6.56it/s, loss=0.1746]\n",
      "Epoch 5 | Training loss: 0.1746, validation accuracy: 0.8682, validation loss: 0.4652\n",
      "100%|██████████| 313/313 [00:47<00:00,  6.54it/s, loss=0.1667]\n",
      "Epoch 6 | Training loss: 0.1667, validation accuracy: 0.8701, validation loss: 0.4708\n",
      "100%|██████████| 313/313 [00:47<00:00,  6.63it/s, loss=0.1591]\n",
      "Epoch 7 | Training loss: 0.1591, validation accuracy: 0.8654, validation loss: 0.4857\n",
      "100%|██████████| 313/313 [00:47<00:00,  6.52it/s, loss=0.1550]\n",
      "Epoch 8 | Training loss: 0.1550, validation accuracy: 0.8669, validation loss: 0.4910\n",
      "100%|██████████| 313/313 [00:47<00:00,  6.60it/s, loss=0.1518]\n",
      "Epoch 9 | Training loss: 0.1518, validation accuracy: 0.8690, validation loss: 0.4893\n",
      "100%|██████████| 313/313 [00:47<00:00,  6.63it/s, loss=0.1458]\n",
      "Epoch 10 | Training loss: 0.1458, validation accuracy: 0.8671, validation loss: 0.4959\n",
      "100%|██████████| 313/313 [00:59<00:00,  5.27it/s, loss=0.1430]\n"
     ]
    }
   ],
   "source": [
    "epochs = 30\n",
    "\n",
    "for epoch in range(epochs):\n",
    "    train_loss = trainer.train_epoch(model, optimizer, dl[\"train\"])\n",
    "    optimizer.finish_epoch()\n",
    "    val_acc, val_loss = trainer.validation(model, dl[\"valid\"])\n",
    "    logger.log(\"Epoch\", epoch+1, \"|\", \n",
    "          f\"Training loss: {train_loss:.4f}, validation accuracy: {val_acc:.4f}, validation loss: {val_loss:.4f}\")"
   ]
  },
  {
   "cell_type": "code",
   "execution_count": null,
   "id": "significant-player",
   "metadata": {},
   "outputs": [],
   "source": [
    "train_score = trainer.validation(model, dl[\"train\"])\n",
    "valid_score = trainer.validation(model, dl[\"valid\"])\n",
    "logger.log(\"Train:\", train_score)\n",
    "logger.log(\"Valid:\", valid_score)"
   ]
  },
  {
   "cell_type": "code",
   "execution_count": null,
   "id": "printable-spare",
   "metadata": {},
   "outputs": [],
   "source": [
    "model_acc = deepcopy(model)\n",
    "optimizer.accelerate()\n",
    "optimizer.store_parameters([model_acc.parameters()])"
   ]
  },
  {
   "cell_type": "code",
   "execution_count": null,
   "id": "north-causing",
   "metadata": {},
   "outputs": [],
   "source": [
    "train_score = trainer.validation(model, dl[\"train\"])\n",
    "valid_score = trainer.validation(model, dl[\"valid\"])\n",
    "logger.log(\"Train:\", train_score)\n",
    "logger.log(\"Valid:\", valid_score)"
   ]
  },
  {
   "cell_type": "markdown",
   "id": "anticipated-budget",
   "metadata": {},
   "source": [
    "## Epoch average"
   ]
  },
  {
   "cell_type": "code",
   "execution_count": null,
   "id": "foster-application",
   "metadata": {},
   "outputs": [],
   "source": [
    "model.load_state_dict(initial_state)\n",
    "model.to(trainer.device)"
   ]
  },
  {
   "cell_type": "code",
   "execution_count": null,
   "id": "magnetic-replica",
   "metadata": {},
   "outputs": [],
   "source": [
    "trainer.validation(model, dl[\"valid\"])"
   ]
  },
  {
   "cell_type": "code",
   "execution_count": null,
   "id": "royal-marking",
   "metadata": {},
   "outputs": [],
   "source": [
    "optimizer = AcceleratedSGD(model.parameters(), 1e-2, k=10, momentum=0.9, weight_decay=1e-5, lambda_=1e-8)\n",
    "logger = Logger(\"vgg19_log_augmentation_averaging.txt\")"
   ]
  },
  {
   "cell_type": "code",
   "execution_count": null,
   "id": "a9f4ba49-14ba-4ca1-8b58-78d82c486ca3",
   "metadata": {},
   "outputs": [],
   "source": [
    "torch.manual_seed(2020)\n",
    "epochs = 30\n",
    "\n",
    "for epoch in range(epochs):\n",
    "    train_loss = trainer.train_epoch(model, optimizer, dl[\"train\"])\n",
    "    optimizer.finish_epoch()\n",
    "    val_acc, val_loss = trainer.validation(model, dl[\"valid\"])\n",
    "    logger.log(\"Epoch\", epoch+1, \"|\", \n",
    "          f\"Training loss: {train_loss:.4f}, validation accuracy: {val_acc:.4f}, validation loss: {val_loss:.4f}\")"
   ]
  },
  {
   "cell_type": "code",
   "execution_count": null,
   "id": "72c7d412-e176-429d-9030-0c8b47471820",
   "metadata": {},
   "outputs": [],
   "source": [
    "train_score = trainer.validation(model, dl[\"train\"])\n",
    "valid_score = trainer.validation(model, dl[\"valid\"])\n",
    "logger.log(\"Train:\", train_score)\n",
    "logger.log(\"Valid:\", valid_score)"
   ]
  },
  {
   "cell_type": "code",
   "execution_count": null,
   "id": "4546f0eb-04e2-473b-9bad-1c7accb0266e",
   "metadata": {},
   "outputs": [],
   "source": [
    "model_acc = deepcopy(model)\n",
    "optimizer.accelerate()\n",
    "optimizer.store_parameters([model_acc.parameters()])"
   ]
  },
  {
   "cell_type": "code",
   "execution_count": null,
   "id": "cc8d7491-26ef-4e28-9f76-d67d1598b0e8",
   "metadata": {},
   "outputs": [],
   "source": [
    "train_score = trainer.validation(model, dl[\"train\"])\n",
    "valid_score = trainer.validation(model, dl[\"valid\"])\n",
    "logger.log(\"Train:\", train_score)\n",
    "logger.log(\"Valid:\", valid_score)"
   ]
  },
  {
   "cell_type": "code",
   "execution_count": null,
   "id": "1bd2820c-8d43-483a-a1d4-8d74bd13ca09",
   "metadata": {},
   "outputs": [],
   "source": [
    "optimizer.param_groups[0][\"lr\"] = 1e-3"
   ]
  },
  {
   "cell_type": "code",
   "execution_count": null,
   "id": "f62dfca0-432b-40de-82bc-a4bf2c9ef61f",
   "metadata": {},
   "outputs": [],
   "source": [
    "epochs = 30\n",
    "\n",
    "for epoch in range(epochs):\n",
    "    train_loss = trainer.train_epoch(model, optimizer, dl[\"train\"])\n",
    "    optimizer.finish_epoch()\n",
    "    val_acc, val_loss = trainer.validation(model, dl[\"valid\"])\n",
    "    logger.log(\"Epoch\", epoch+1, \"|\", \n",
    "          f\"Training loss: {train_loss:.4f}, validation accuracy: {val_acc:.4f}, validation loss: {val_loss:.4f}\")"
   ]
  },
  {
   "cell_type": "code",
   "execution_count": null,
   "id": "ae6d604f-e8d1-4dd6-992a-6e0fb8a75bb1",
   "metadata": {},
   "outputs": [],
   "source": [
    "train_score = trainer.validation(model, dl[\"train\"])\n",
    "valid_score = trainer.validation(model, dl[\"valid\"])\n",
    "logger.log(\"Train:\", train_score)\n",
    "logger.log(\"Valid:\", valid_score)"
   ]
  },
  {
   "cell_type": "code",
   "execution_count": null,
   "id": "d052f047-82b9-43af-8aec-28fcc76e39e2",
   "metadata": {},
   "outputs": [],
   "source": [
    "model_acc = deepcopy(model)\n",
    "optimizer.accelerate()\n",
    "optimizer.store_parameters([model_acc.parameters()])"
   ]
  },
  {
   "cell_type": "code",
   "execution_count": null,
   "id": "789cc016-e5d3-46f3-8f29-4e3a5353a7b9",
   "metadata": {},
   "outputs": [],
   "source": [
    "train_score = trainer.validation(model, dl[\"train\"])\n",
    "valid_score = trainer.validation(model, dl[\"valid\"])\n",
    "logger.log(\"Train:\", train_score)\n",
    "logger.log(\"Valid:\", valid_score)"
   ]
  },
  {
   "cell_type": "markdown",
   "id": "consecutive-point",
   "metadata": {},
   "source": [
    "## Epoch average, span = 10"
   ]
  },
  {
   "cell_type": "code",
   "execution_count": null,
   "id": "acute-latest",
   "metadata": {},
   "outputs": [],
   "source": [
    "model.load_state_dict(initial_state)\n",
    "model.to(trainer.device)"
   ]
  },
  {
   "cell_type": "code",
   "execution_count": null,
   "id": "ambient-respondent",
   "metadata": {},
   "outputs": [],
   "source": [
    "trainer.validation(model, dl[\"valid\"])"
   ]
  },
  {
   "cell_type": "code",
   "execution_count": null,
   "id": "unusual-memorial",
   "metadata": {},
   "outputs": [],
   "source": [
    "optimizer = AcceleratedSGD(model.parameters(), 1e-2, k=10, momentum=0.9, weight_decay=1e-5, lambda_=1e-8)\n",
    "logger = Logger(\"vgg19_log_augmentation_averaging_span10.txt\")"
   ]
  },
  {
   "cell_type": "code",
   "execution_count": null,
   "id": "3711d25f-5966-48ce-ae41-96751de8893f",
   "metadata": {},
   "outputs": [],
   "source": [
    "torch.manual_seed(2020)\n",
    "epochs = 30\n",
    "\n",
    "for epoch in range(epochs):\n",
    "    train_loss = trainer.train_epoch(model, optimizer, dl[\"train\"])\n",
    "    optimizer.finish_epoch()\n",
    "    val_acc, val_loss = trainer.validation(model, dl[\"valid\"])\n",
    "    logger.log(\"Epoch\", epoch+1, \"|\", \n",
    "          f\"Training loss: {train_loss:.4f}, validation accuracy: {val_acc:.4f}, validation loss: {val_loss:.4f}\")"
   ]
  },
  {
   "cell_type": "code",
   "execution_count": null,
   "id": "6b053fd6-15e5-49d7-87ca-2a1023c8ec24",
   "metadata": {},
   "outputs": [],
   "source": [
    "train_score = trainer.validation(model, dl[\"train\"])\n",
    "valid_score = trainer.validation(model, dl[\"valid\"])\n",
    "logger.log(\"Train:\", train_score)\n",
    "logger.log(\"Valid:\", valid_score)"
   ]
  },
  {
   "cell_type": "code",
   "execution_count": null,
   "id": "71344759-1865-489b-bbc5-618a7476aab3",
   "metadata": {},
   "outputs": [],
   "source": [
    "model_acc = deepcopy(model)\n",
    "optimizer.accelerate()\n",
    "optimizer.store_parameters([model_acc.parameters()])"
   ]
  },
  {
   "cell_type": "code",
   "execution_count": null,
   "id": "e3dad2ae-5b73-4191-98e5-dcf4d2960125",
   "metadata": {},
   "outputs": [],
   "source": [
    "train_score = trainer.validation(model, dl[\"train\"])\n",
    "valid_score = trainer.validation(model, dl[\"valid\"])\n",
    "logger.log(\"Train:\", train_score)\n",
    "logger.log(\"Valid:\", valid_score)"
   ]
  },
  {
   "cell_type": "code",
   "execution_count": null,
   "id": "f5a7d34c-9d4a-45f0-b225-521d31b3f499",
   "metadata": {},
   "outputs": [],
   "source": [
    "optimizer.param_groups[0][\"lr\"] = 1e-3"
   ]
  },
  {
   "cell_type": "code",
   "execution_count": null,
   "id": "1d059d18-8801-4bb9-b12d-b654068d1599",
   "metadata": {},
   "outputs": [],
   "source": [
    "epochs = 30\n",
    "\n",
    "for epoch in range(epochs):\n",
    "    train_loss = trainer.train_epoch(model, optimizer, dl[\"train\"])\n",
    "    optimizer.finish_epoch()\n",
    "    val_acc, val_loss = trainer.validation(model, dl[\"valid\"])\n",
    "    logger.log(\"Epoch\", epoch+1, \"|\", \n",
    "          f\"Training loss: {train_loss:.4f}, validation accuracy: {val_acc:.4f}, validation loss: {val_loss:.4f}\")"
   ]
  },
  {
   "cell_type": "code",
   "execution_count": null,
   "id": "fa2aa8b6-cfb9-494f-b79a-2d9c4a687f10",
   "metadata": {},
   "outputs": [],
   "source": [
    "train_score = trainer.validation(model, dl[\"train\"])\n",
    "valid_score = trainer.validation(model, dl[\"valid\"])\n",
    "logger.log(\"Train:\", train_score)\n",
    "logger.log(\"Valid:\", valid_score)"
   ]
  },
  {
   "cell_type": "code",
   "execution_count": null,
   "id": "d0fdaf65-6323-4968-af2d-bba9abd63275",
   "metadata": {},
   "outputs": [],
   "source": [
    "model_acc = deepcopy(model)\n",
    "optimizer.accelerate()\n",
    "optimizer.store_parameters([model_acc.parameters()])"
   ]
  },
  {
   "cell_type": "code",
   "execution_count": null,
   "id": "97aba27a-35fd-4549-b0fe-8a320866e0a1",
   "metadata": {},
   "outputs": [],
   "source": [
    "train_score = trainer.validation(model, dl[\"train\"])\n",
    "valid_score = trainer.validation(model, dl[\"valid\"])\n",
    "logger.log(\"Train:\", train_score)\n",
    "logger.log(\"Valid:\", valid_score)"
   ]
  },
  {
   "cell_type": "markdown",
   "id": "secondary-royalty",
   "metadata": {},
   "source": [
    "## Epoch average, alpha = 0.9"
   ]
  },
  {
   "cell_type": "code",
   "execution_count": null,
   "id": "6ac2d5ba-09a5-4eb3-9541-3a47f204338d",
   "metadata": {},
   "outputs": [],
   "source": [
    "model.load_state_dict(initial_state)\n",
    "model.to(trainer.device)"
   ]
  },
  {
   "cell_type": "code",
   "execution_count": null,
   "id": "58467c99-34e1-4d69-93db-e5938ba032d8",
   "metadata": {},
   "outputs": [],
   "source": [
    "trainer.validation(model, dl[\"valid\"])"
   ]
  },
  {
   "cell_type": "code",
   "execution_count": null,
   "id": "pressing-transportation",
   "metadata": {},
   "outputs": [],
   "source": [
    "optimizer = AcceleratedSGD(model.parameters(), 1e-2, k=10, momentum=0.9, weight_decay=1e-5, lambda_=1e-8)\n",
    "logger = Logger(\"vgg19_log_augmentation_averaging_exp09.txt\")"
   ]
  },
  {
   "cell_type": "code",
   "execution_count": null,
   "id": "8414a004-465e-4c9e-ade7-33715dbfcaa3",
   "metadata": {},
   "outputs": [],
   "source": [
    "torch.manual_seed(2020)\n",
    "epochs = 30\n",
    "\n",
    "for epoch in range(epochs):\n",
    "    train_loss = trainer.train_epoch(model, optimizer, dl[\"train\"])\n",
    "    optimizer.finish_epoch()\n",
    "    val_acc, val_loss = trainer.validation(model, dl[\"valid\"])\n",
    "    logger.log(\"Epoch\", epoch+1, \"|\", \n",
    "          f\"Training loss: {train_loss:.4f}, validation accuracy: {val_acc:.4f}, validation loss: {val_loss:.4f}\")"
   ]
  },
  {
   "cell_type": "code",
   "execution_count": null,
   "id": "a0d09588-b59e-4ad0-b394-eefa4054f717",
   "metadata": {},
   "outputs": [],
   "source": [
    "train_score = trainer.validation(model, dl[\"train\"])\n",
    "valid_score = trainer.validation(model, dl[\"valid\"])\n",
    "logger.log(\"Train:\", train_score)\n",
    "logger.log(\"Valid:\", valid_score)"
   ]
  },
  {
   "cell_type": "code",
   "execution_count": null,
   "id": "d543c7bc-5fe8-4f0e-b3b0-f266acfc279c",
   "metadata": {},
   "outputs": [],
   "source": [
    "model_acc = deepcopy(model)\n",
    "optimizer.accelerate()\n",
    "optimizer.store_parameters([model_acc.parameters()])"
   ]
  },
  {
   "cell_type": "code",
   "execution_count": null,
   "id": "41f1db2e-c666-4237-b95e-621574138c7f",
   "metadata": {},
   "outputs": [],
   "source": [
    "train_score = trainer.validation(model, dl[\"train\"])\n",
    "valid_score = trainer.validation(model, dl[\"valid\"])\n",
    "logger.log(\"Train:\", train_score)\n",
    "logger.log(\"Valid:\", valid_score)"
   ]
  },
  {
   "cell_type": "code",
   "execution_count": null,
   "id": "8115266c-334e-4f1b-ae98-7ff699985dbc",
   "metadata": {},
   "outputs": [],
   "source": [
    "optimizer.param_groups[0][\"lr\"] = 1e-3"
   ]
  },
  {
   "cell_type": "code",
   "execution_count": null,
   "id": "11456f57-599a-4b4a-866d-f34d3fda1b9b",
   "metadata": {},
   "outputs": [],
   "source": [
    "epochs = 30\n",
    "\n",
    "for epoch in range(epochs):\n",
    "    train_loss = trainer.train_epoch(model, optimizer, dl[\"train\"])\n",
    "    optimizer.finish_epoch()\n",
    "    val_acc, val_loss = trainer.validation(model, dl[\"valid\"])\n",
    "    logger.log(\"Epoch\", epoch+1, \"|\", \n",
    "          f\"Training loss: {train_loss:.4f}, validation accuracy: {val_acc:.4f}, validation loss: {val_loss:.4f}\")"
   ]
  },
  {
   "cell_type": "code",
   "execution_count": null,
   "id": "75d52daa-aa00-4334-87eb-32e00b1de2f0",
   "metadata": {},
   "outputs": [],
   "source": [
    "train_score = trainer.validation(model, dl[\"train\"])\n",
    "valid_score = trainer.validation(model, dl[\"valid\"])\n",
    "logger.log(\"Train:\", train_score)\n",
    "logger.log(\"Valid:\", valid_score)"
   ]
  },
  {
   "cell_type": "code",
   "execution_count": null,
   "id": "03213734-ed5a-42c0-b9fc-35f75d508c5a",
   "metadata": {},
   "outputs": [],
   "source": [
    "model_acc = deepcopy(model)\n",
    "optimizer.accelerate()\n",
    "optimizer.store_parameters([model_acc.parameters()])"
   ]
  },
  {
   "cell_type": "code",
   "execution_count": null,
   "id": "6eeb0e53-8a65-45b8-bb5e-66cf993c60d9",
   "metadata": {},
   "outputs": [],
   "source": [
    "train_score = trainer.validation(model, dl[\"train\"])\n",
    "valid_score = trainer.validation(model, dl[\"valid\"])\n",
    "logger.log(\"Train:\", train_score)\n",
    "logger.log(\"Valid:\", valid_score)"
   ]
  },
  {
   "cell_type": "code",
   "execution_count": null,
   "id": "dressed-numbers",
   "metadata": {},
   "outputs": [],
   "source": [
    "exit"
   ]
  },
  {
   "cell_type": "code",
   "execution_count": null,
   "id": "b877054e-58b7-47c5-abff-8bf49e7cf989",
   "metadata": {},
   "outputs": [],
   "source": []
  }
 ],
 "metadata": {
  "kernelspec": {
   "display_name": "Python 3",
   "language": "python",
   "name": "python3"
  },
  "language_info": {
   "codemirror_mode": {
    "name": "ipython",
    "version": 3
   },
   "file_extension": ".py",
   "mimetype": "text/x-python",
   "name": "python",
   "nbconvert_exporter": "python",
   "pygments_lexer": "ipython3",
   "version": "3.8.13"
  }
 },
 "nbformat": 4,
 "nbformat_minor": 5
}
