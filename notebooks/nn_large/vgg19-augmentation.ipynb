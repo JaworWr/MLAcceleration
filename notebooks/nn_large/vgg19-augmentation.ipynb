{
 "cells": [
  {
   "cell_type": "code",
   "execution_count": 1,
   "id": "9fd8ddb3-ccd1-43ea-8ba2-6de8b690d2cb",
   "metadata": {},
   "outputs": [],
   "source": [
    "import sys\n",
    "sys.path.insert(0, \"../..\")"
   ]
  },
  {
   "cell_type": "code",
   "execution_count": 2,
   "id": "reported-belle",
   "metadata": {},
   "outputs": [],
   "source": [
    "import torch\n",
    "from torch import nn\n",
    "from torchvision import models\n",
    "from copy import deepcopy\n",
    "import os\n",
    "\n",
    "from nn_extrapolation import AcceleratedSGD\n",
    "from nn_utils import *"
   ]
  },
  {
   "cell_type": "code",
   "execution_count": 3,
   "id": "visible-lawyer",
   "metadata": {},
   "outputs": [],
   "source": [
    "trainer = Trainer(\n",
    "    device=\"cuda\",\n",
    "    loss_fn=nn.NLLLoss(reduction=\"mean\"),\n",
    "    val_loss_fn=nn.NLLLoss(reduction=\"sum\"),\n",
    ")"
   ]
  },
  {
   "cell_type": "code",
   "execution_count": 4,
   "id": "constitutional-groove",
   "metadata": {},
   "outputs": [
    {
     "name": "stdout",
     "output_type": "stream",
     "text": [
      "Files already downloaded and verified\n",
      "Files already downloaded and verified\n"
     ]
    }
   ],
   "source": [
    "dl = load_dataset(\n",
    "    dataset=\"CIFAR10\",\n",
    "    root=os.path.join(\"/tmp\", os.environ[\"USER\"], \"CIFAR\"),\n",
    "    augmentation=transforms.RandomAffine(10, scale=(0.9, 1.1), translate=(0.2, 0.2)),\n",
    "    validation_split=0.2,\n",
    "    batch_size=128,\n",
    "    num_workers=10,\n",
    ")"
   ]
  },
  {
   "cell_type": "code",
   "execution_count": 5,
   "id": "frozen-motivation",
   "metadata": {},
   "outputs": [
    {
     "data": {
      "text/plain": [
       "VGG(\n",
       "  (features): Sequential(\n",
       "    (0): Conv2d(3, 64, kernel_size=(3, 3), stride=(1, 1), padding=(1, 1))\n",
       "    (1): ReLU(inplace=True)\n",
       "    (2): Conv2d(64, 64, kernel_size=(3, 3), stride=(1, 1), padding=(1, 1))\n",
       "    (3): ReLU(inplace=True)\n",
       "    (4): MaxPool2d(kernel_size=2, stride=2, padding=0, dilation=1, ceil_mode=False)\n",
       "    (5): Conv2d(64, 128, kernel_size=(3, 3), stride=(1, 1), padding=(1, 1))\n",
       "    (6): ReLU(inplace=True)\n",
       "    (7): Conv2d(128, 128, kernel_size=(3, 3), stride=(1, 1), padding=(1, 1))\n",
       "    (8): ReLU(inplace=True)\n",
       "    (9): MaxPool2d(kernel_size=2, stride=2, padding=0, dilation=1, ceil_mode=False)\n",
       "    (10): Conv2d(128, 256, kernel_size=(3, 3), stride=(1, 1), padding=(1, 1))\n",
       "    (11): ReLU(inplace=True)\n",
       "    (12): Conv2d(256, 256, kernel_size=(3, 3), stride=(1, 1), padding=(1, 1))\n",
       "    (13): ReLU(inplace=True)\n",
       "    (14): Conv2d(256, 256, kernel_size=(3, 3), stride=(1, 1), padding=(1, 1))\n",
       "    (15): ReLU(inplace=True)\n",
       "    (16): Conv2d(256, 256, kernel_size=(3, 3), stride=(1, 1), padding=(1, 1))\n",
       "    (17): ReLU(inplace=True)\n",
       "    (18): MaxPool2d(kernel_size=2, stride=2, padding=0, dilation=1, ceil_mode=False)\n",
       "    (19): Conv2d(256, 512, kernel_size=(3, 3), stride=(1, 1), padding=(1, 1))\n",
       "    (20): ReLU(inplace=True)\n",
       "    (21): Conv2d(512, 512, kernel_size=(3, 3), stride=(1, 1), padding=(1, 1))\n",
       "    (22): ReLU(inplace=True)\n",
       "    (23): Conv2d(512, 512, kernel_size=(3, 3), stride=(1, 1), padding=(1, 1))\n",
       "    (24): ReLU(inplace=True)\n",
       "    (25): Conv2d(512, 512, kernel_size=(3, 3), stride=(1, 1), padding=(1, 1))\n",
       "    (26): ReLU(inplace=True)\n",
       "    (27): MaxPool2d(kernel_size=2, stride=2, padding=0, dilation=1, ceil_mode=False)\n",
       "    (28): Conv2d(512, 512, kernel_size=(3, 3), stride=(1, 1), padding=(1, 1))\n",
       "    (29): ReLU(inplace=True)\n",
       "    (30): Conv2d(512, 512, kernel_size=(3, 3), stride=(1, 1), padding=(1, 1))\n",
       "    (31): ReLU(inplace=True)\n",
       "    (32): Conv2d(512, 512, kernel_size=(3, 3), stride=(1, 1), padding=(1, 1))\n",
       "    (33): ReLU(inplace=True)\n",
       "    (34): Conv2d(512, 512, kernel_size=(3, 3), stride=(1, 1), padding=(1, 1))\n",
       "    (35): ReLU(inplace=True)\n",
       "    (36): MaxPool2d(kernel_size=2, stride=2, padding=0, dilation=1, ceil_mode=False)\n",
       "  )\n",
       "  (avgpool): AdaptiveAvgPool2d(output_size=(7, 7))\n",
       "  (classifier): Sequential(\n",
       "    (0): Linear(in_features=25088, out_features=4096, bias=True)\n",
       "    (1): ReLU(inplace=True)\n",
       "    (2): Dropout(p=0.5, inplace=False)\n",
       "    (3): Linear(in_features=4096, out_features=4096, bias=True)\n",
       "    (4): ReLU(inplace=True)\n",
       "    (5): Dropout(p=0.5, inplace=False)\n",
       "    (6): Linear(in_features=4096, out_features=10, bias=True)\n",
       "    (7): LogSoftmax(dim=-1)\n",
       "  )\n",
       ")"
      ]
     },
     "execution_count": 5,
     "metadata": {},
     "output_type": "execute_result"
    }
   ],
   "source": [
    "model = models.vgg19(pretrained=False)\n",
    "model.classifier[6] = nn.Linear(4096, 10)\n",
    "model.classifier.add_module(\"7\", nn.LogSoftmax(-1))\n",
    "initial_state = deepcopy(model.state_dict())\n",
    "model.to(trainer.device)"
   ]
  },
  {
   "cell_type": "code",
   "execution_count": 6,
   "id": "7758f66d-5f5b-42b1-9c44-1def0b22baff",
   "metadata": {},
   "outputs": [
    {
     "data": {
      "text/plain": [
       "139611210"
      ]
     },
     "execution_count": 6,
     "metadata": {},
     "output_type": "execute_result"
    }
   ],
   "source": [
    "sum(param.numel() for param in model.parameters())"
   ]
  },
  {
   "cell_type": "code",
   "execution_count": 7,
   "id": "96d63695-9c93-4b63-9822-30c07b2cd25c",
   "metadata": {},
   "outputs": [],
   "source": [
    "state_path = \"vgg19_initial_state.pth\"\n",
    "if os.path.exists(state_path):\n",
    "    initial_state = torch.load(state_path)\n",
    "    model.load_state_dict(initial_state)\n",
    "    model.to(trainer.device)\n",
    "else:\n",
    "    torch.save(initial_state, state_path)"
   ]
  },
  {
   "cell_type": "code",
   "execution_count": 8,
   "id": "diverse-dutch",
   "metadata": {},
   "outputs": [
    {
     "data": {
      "text/plain": [
       "(0.1043, 2.302760050201416)"
      ]
     },
     "execution_count": 8,
     "metadata": {},
     "output_type": "execute_result"
    }
   ],
   "source": [
    "trainer.validation(model, dl[\"valid\"])"
   ]
  },
  {
   "cell_type": "markdown",
   "id": "wound-russell",
   "metadata": {},
   "source": [
    "## Momentum"
   ]
  },
  {
   "cell_type": "code",
   "execution_count": 9,
   "id": "attended-awareness",
   "metadata": {},
   "outputs": [],
   "source": [
    "optimizer = AcceleratedSGD(model.parameters(), 1e-2, k=10, momentum=0.9, weight_decay=1e-5, lambda_=1e-16)\n",
    "logger = Logger(\"vgg19_log_augmentation.txt.no_resizing\")"
   ]
  },
  {
   "cell_type": "code",
   "execution_count": 10,
   "id": "informed-macedonia",
   "metadata": {},
   "outputs": [
    {
     "name": "stdout",
     "output_type": "stream",
     "text": [
      "100%|██████████████████████████████████████████████████████████| 313/313 [00:23<00:00, 13.14it/s, loss=2.1581]\n",
      "Epoch 1 | Training loss: 2.1581, validation accuracy: 0.2607, validation loss: 1.8690\n",
      "100%|██████████████████████████████████████████████████████████| 313/313 [00:23<00:00, 13.04it/s, loss=1.8156]\n",
      "Epoch 2 | Training loss: 1.8156, validation accuracy: 0.3518, validation loss: 1.6514\n",
      "100%|██████████████████████████████████████████████████████████| 313/313 [00:24<00:00, 13.00it/s, loss=1.6262]\n",
      "Epoch 3 | Training loss: 1.6262, validation accuracy: 0.4122, validation loss: 1.5652\n",
      "100%|██████████████████████████████████████████████████████████| 313/313 [00:24<00:00, 13.02it/s, loss=1.4571]\n",
      "Epoch 4 | Training loss: 1.4571, validation accuracy: 0.5369, validation loss: 1.2735\n",
      "100%|██████████████████████████████████████████████████████████| 313/313 [00:24<00:00, 13.00it/s, loss=1.3112]\n",
      "Epoch 5 | Training loss: 1.3112, validation accuracy: 0.5353, validation loss: 1.2947\n",
      "100%|██████████████████████████████████████████████████████████| 313/313 [00:24<00:00, 12.99it/s, loss=1.1893]\n",
      "Epoch 6 | Training loss: 1.1893, validation accuracy: 0.6176, validation loss: 1.0599\n",
      "100%|██████████████████████████████████████████████████████████| 313/313 [00:24<00:00, 12.97it/s, loss=1.0814]\n",
      "Epoch 7 | Training loss: 1.0814, validation accuracy: 0.6562, validation loss: 0.9731\n",
      "100%|██████████████████████████████████████████████████████████| 313/313 [00:24<00:00, 12.98it/s, loss=0.9922]\n",
      "Epoch 8 | Training loss: 0.9922, validation accuracy: 0.6723, validation loss: 0.9135\n",
      "100%|██████████████████████████████████████████████████████████| 313/313 [00:24<00:00, 12.97it/s, loss=0.9235]\n",
      "Epoch 9 | Training loss: 0.9235, validation accuracy: 0.6887, validation loss: 0.8841\n",
      "100%|██████████████████████████████████████████████████████████| 313/313 [00:24<00:00, 12.97it/s, loss=0.8736]\n",
      "Epoch 10 | Training loss: 0.8736, validation accuracy: 0.7165, validation loss: 0.8271\n",
      "100%|██████████████████████████████████████████████████████████| 313/313 [00:24<00:00, 12.96it/s, loss=0.8290]\n",
      "Epoch 11 | Training loss: 0.8290, validation accuracy: 0.7255, validation loss: 0.8060\n",
      "100%|██████████████████████████████████████████████████████████| 313/313 [00:24<00:00, 12.97it/s, loss=0.7682]\n",
      "Epoch 12 | Training loss: 0.7682, validation accuracy: 0.7567, validation loss: 0.7161\n",
      "100%|██████████████████████████████████████████████████████████| 313/313 [00:24<00:00, 12.97it/s, loss=0.7336]\n",
      "Epoch 13 | Training loss: 0.7336, validation accuracy: 0.7752, validation loss: 0.6797\n",
      "100%|██████████████████████████████████████████████████████████| 313/313 [00:24<00:00, 12.97it/s, loss=0.6912]\n",
      "Epoch 14 | Training loss: 0.6912, validation accuracy: 0.7611, validation loss: 0.6715\n",
      "100%|██████████████████████████████████████████████████████████| 313/313 [00:24<00:00, 12.97it/s, loss=0.6485]\n",
      "Epoch 15 | Training loss: 0.6485, validation accuracy: 0.7861, validation loss: 0.6514\n",
      "100%|██████████████████████████████████████████████████████████| 313/313 [00:24<00:00, 12.98it/s, loss=0.6339]\n",
      "Epoch 16 | Training loss: 0.6339, validation accuracy: 0.7907, validation loss: 0.6470\n",
      "100%|██████████████████████████████████████████████████████████| 313/313 [00:24<00:00, 12.99it/s, loss=0.5919]\n",
      "Epoch 17 | Training loss: 0.5919, validation accuracy: 0.8148, validation loss: 0.5537\n",
      "100%|██████████████████████████████████████████████████████████| 313/313 [00:24<00:00, 12.98it/s, loss=0.5677]\n",
      "Epoch 18 | Training loss: 0.5677, validation accuracy: 0.8055, validation loss: 0.5980\n",
      "100%|██████████████████████████████████████████████████████████| 313/313 [00:24<00:00, 12.98it/s, loss=0.5432]\n",
      "Epoch 19 | Training loss: 0.5432, validation accuracy: 0.8274, validation loss: 0.5250\n",
      "100%|██████████████████████████████████████████████████████████| 313/313 [00:24<00:00, 12.97it/s, loss=0.5204]\n",
      "Epoch 20 | Training loss: 0.5204, validation accuracy: 0.8257, validation loss: 0.5254\n",
      "100%|██████████████████████████████████████████████████████████| 313/313 [00:24<00:00, 12.97it/s, loss=0.4984]\n",
      "Epoch 21 | Training loss: 0.4984, validation accuracy: 0.8178, validation loss: 0.5760\n",
      "100%|██████████████████████████████████████████████████████████| 313/313 [00:24<00:00, 12.97it/s, loss=0.4760]\n",
      "Epoch 22 | Training loss: 0.4760, validation accuracy: 0.8287, validation loss: 0.5309\n",
      "100%|██████████████████████████████████████████████████████████| 313/313 [00:24<00:00, 12.97it/s, loss=0.4506]\n",
      "Epoch 23 | Training loss: 0.4506, validation accuracy: 0.8321, validation loss: 0.5209\n",
      "100%|██████████████████████████████████████████████████████████| 313/313 [00:24<00:00, 12.99it/s, loss=0.4329]\n",
      "Epoch 24 | Training loss: 0.4329, validation accuracy: 0.8385, validation loss: 0.5010\n",
      "100%|██████████████████████████████████████████████████████████| 313/313 [00:24<00:00, 13.00it/s, loss=0.4170]\n",
      "Epoch 25 | Training loss: 0.4170, validation accuracy: 0.8366, validation loss: 0.5074\n",
      "100%|██████████████████████████████████████████████████████████| 313/313 [00:24<00:00, 13.00it/s, loss=0.3951]\n",
      "Epoch 26 | Training loss: 0.3951, validation accuracy: 0.8275, validation loss: 0.5579\n",
      "100%|██████████████████████████████████████████████████████████| 313/313 [00:24<00:00, 13.00it/s, loss=0.3854]\n",
      "Epoch 27 | Training loss: 0.3854, validation accuracy: 0.8286, validation loss: 0.5262\n",
      "100%|██████████████████████████████████████████████████████████| 313/313 [00:24<00:00, 13.00it/s, loss=0.3740]\n",
      "Epoch 28 | Training loss: 0.3740, validation accuracy: 0.8393, validation loss: 0.5093\n",
      "100%|██████████████████████████████████████████████████████████| 313/313 [00:24<00:00, 13.01it/s, loss=0.3526]\n",
      "Epoch 29 | Training loss: 0.3526, validation accuracy: 0.8304, validation loss: 0.5467\n",
      "100%|██████████████████████████████████████████████████████████| 313/313 [00:24<00:00, 13.01it/s, loss=0.3389]\n",
      "Epoch 30 | Training loss: 0.3389, validation accuracy: 0.8473, validation loss: 0.5097\n"
     ]
    }
   ],
   "source": [
    "torch.manual_seed(2020)\n",
    "epochs = 30\n",
    "\n",
    "for epoch in range(epochs):\n",
    "    train_loss = trainer.train_epoch(model, optimizer, dl[\"train\"])\n",
    "    optimizer.finish_epoch()\n",
    "    val_acc, val_loss = trainer.validation(model, dl[\"valid\"])\n",
    "    logger.log(\"Epoch\", epoch+1, \"|\", \n",
    "          f\"Training loss: {train_loss:.4f}, validation accuracy: {val_acc:.4f}, validation loss: {val_loss:.4f}\")"
   ]
  },
  {
   "cell_type": "code",
   "execution_count": 11,
   "id": "unable-error",
   "metadata": {},
   "outputs": [
    {
     "name": "stdout",
     "output_type": "stream",
     "text": [
      "Train: (0.90055, 0.29043524913787844)\n",
      "Valid: (0.8473, 0.5097128377914428)\n"
     ]
    }
   ],
   "source": [
    "train_score = trainer.validation(model, dl[\"train\"])\n",
    "valid_score = trainer.validation(model, dl[\"valid\"])\n",
    "logger.log(\"Train:\", train_score)\n",
    "logger.log(\"Valid:\", valid_score)"
   ]
  },
  {
   "cell_type": "code",
   "execution_count": 12,
   "id": "hungarian-japanese",
   "metadata": {},
   "outputs": [
    {
     "data": {
      "text/plain": [
       "VGG(\n",
       "  (features): Sequential(\n",
       "    (0): Conv2d(3, 64, kernel_size=(3, 3), stride=(1, 1), padding=(1, 1))\n",
       "    (1): ReLU(inplace=True)\n",
       "    (2): Conv2d(64, 64, kernel_size=(3, 3), stride=(1, 1), padding=(1, 1))\n",
       "    (3): ReLU(inplace=True)\n",
       "    (4): MaxPool2d(kernel_size=2, stride=2, padding=0, dilation=1, ceil_mode=False)\n",
       "    (5): Conv2d(64, 128, kernel_size=(3, 3), stride=(1, 1), padding=(1, 1))\n",
       "    (6): ReLU(inplace=True)\n",
       "    (7): Conv2d(128, 128, kernel_size=(3, 3), stride=(1, 1), padding=(1, 1))\n",
       "    (8): ReLU(inplace=True)\n",
       "    (9): MaxPool2d(kernel_size=2, stride=2, padding=0, dilation=1, ceil_mode=False)\n",
       "    (10): Conv2d(128, 256, kernel_size=(3, 3), stride=(1, 1), padding=(1, 1))\n",
       "    (11): ReLU(inplace=True)\n",
       "    (12): Conv2d(256, 256, kernel_size=(3, 3), stride=(1, 1), padding=(1, 1))\n",
       "    (13): ReLU(inplace=True)\n",
       "    (14): Conv2d(256, 256, kernel_size=(3, 3), stride=(1, 1), padding=(1, 1))\n",
       "    (15): ReLU(inplace=True)\n",
       "    (16): Conv2d(256, 256, kernel_size=(3, 3), stride=(1, 1), padding=(1, 1))\n",
       "    (17): ReLU(inplace=True)\n",
       "    (18): MaxPool2d(kernel_size=2, stride=2, padding=0, dilation=1, ceil_mode=False)\n",
       "    (19): Conv2d(256, 512, kernel_size=(3, 3), stride=(1, 1), padding=(1, 1))\n",
       "    (20): ReLU(inplace=True)\n",
       "    (21): Conv2d(512, 512, kernel_size=(3, 3), stride=(1, 1), padding=(1, 1))\n",
       "    (22): ReLU(inplace=True)\n",
       "    (23): Conv2d(512, 512, kernel_size=(3, 3), stride=(1, 1), padding=(1, 1))\n",
       "    (24): ReLU(inplace=True)\n",
       "    (25): Conv2d(512, 512, kernel_size=(3, 3), stride=(1, 1), padding=(1, 1))\n",
       "    (26): ReLU(inplace=True)\n",
       "    (27): MaxPool2d(kernel_size=2, stride=2, padding=0, dilation=1, ceil_mode=False)\n",
       "    (28): Conv2d(512, 512, kernel_size=(3, 3), stride=(1, 1), padding=(1, 1))\n",
       "    (29): ReLU(inplace=True)\n",
       "    (30): Conv2d(512, 512, kernel_size=(3, 3), stride=(1, 1), padding=(1, 1))\n",
       "    (31): ReLU(inplace=True)\n",
       "    (32): Conv2d(512, 512, kernel_size=(3, 3), stride=(1, 1), padding=(1, 1))\n",
       "    (33): ReLU(inplace=True)\n",
       "    (34): Conv2d(512, 512, kernel_size=(3, 3), stride=(1, 1), padding=(1, 1))\n",
       "    (35): ReLU(inplace=True)\n",
       "    (36): MaxPool2d(kernel_size=2, stride=2, padding=0, dilation=1, ceil_mode=False)\n",
       "  )\n",
       "  (avgpool): AdaptiveAvgPool2d(output_size=(7, 7))\n",
       "  (classifier): Sequential(\n",
       "    (0): Linear(in_features=25088, out_features=4096, bias=True)\n",
       "    (1): ReLU(inplace=True)\n",
       "    (2): Dropout(p=0.5, inplace=False)\n",
       "    (3): Linear(in_features=4096, out_features=4096, bias=True)\n",
       "    (4): ReLU(inplace=True)\n",
       "    (5): Dropout(p=0.5, inplace=False)\n",
       "    (6): Linear(in_features=4096, out_features=10, bias=True)\n",
       "    (7): LogSoftmax(dim=-1)\n",
       "  )\n",
       ")"
      ]
     },
     "execution_count": 12,
     "metadata": {},
     "output_type": "execute_result"
    }
   ],
   "source": [
    "model_acc = deepcopy(model)\n",
    "optimizer.accelerate()\n",
    "optimizer.store_parameters([model_acc.parameters()])\n",
    "model_acc.to(trainer.device)"
   ]
  },
  {
   "cell_type": "code",
   "execution_count": 13,
   "id": "exciting-quilt",
   "metadata": {},
   "outputs": [
    {
     "name": "stdout",
     "output_type": "stream",
     "text": [
      "Train: (0.921175, 0.2374023758649826)\n",
      "Valid: (0.8612, 0.4318892604827881)\n"
     ]
    }
   ],
   "source": [
    "train_score = trainer.validation(model_acc, dl[\"train\"])\n",
    "valid_score = trainer.validation(model_acc, dl[\"valid\"])\n",
    "logger.log(\"Train:\", train_score)\n",
    "logger.log(\"Valid:\", valid_score)"
   ]
  },
  {
   "cell_type": "code",
   "execution_count": 14,
   "id": "sought-enforcement",
   "metadata": {},
   "outputs": [],
   "source": [
    "optimizer.param_groups[0][\"lr\"] = 1e-3"
   ]
  },
  {
   "cell_type": "code",
   "execution_count": 15,
   "id": "specialized-glossary",
   "metadata": {},
   "outputs": [
    {
     "name": "stdout",
     "output_type": "stream",
     "text": [
      "100%|██████████████████████████████████████████████████████████| 313/313 [00:24<00:00, 12.98it/s, loss=0.2212]\n",
      "Epoch 1 | Training loss: 0.2212, validation accuracy: 0.8644, validation loss: 0.4681\n",
      "100%|██████████████████████████████████████████████████████████| 313/313 [00:24<00:00, 12.96it/s, loss=0.1975]\n",
      "Epoch 2 | Training loss: 0.1975, validation accuracy: 0.8688, validation loss: 0.4674\n",
      "100%|██████████████████████████████████████████████████████████| 313/313 [00:24<00:00, 12.96it/s, loss=0.1848]\n",
      "Epoch 3 | Training loss: 0.1848, validation accuracy: 0.8667, validation loss: 0.4718\n",
      "100%|██████████████████████████████████████████████████████████| 313/313 [00:24<00:00, 12.95it/s, loss=0.1762]\n",
      "Epoch 4 | Training loss: 0.1762, validation accuracy: 0.8674, validation loss: 0.4825\n",
      "100%|██████████████████████████████████████████████████████████| 313/313 [00:24<00:00, 12.94it/s, loss=0.1723]\n",
      "Epoch 5 | Training loss: 0.1723, validation accuracy: 0.8687, validation loss: 0.4799\n",
      "100%|██████████████████████████████████████████████████████████| 313/313 [00:24<00:00, 12.94it/s, loss=0.1665]\n",
      "Epoch 6 | Training loss: 0.1665, validation accuracy: 0.8683, validation loss: 0.4805\n",
      "100%|██████████████████████████████████████████████████████████| 313/313 [00:24<00:00, 12.94it/s, loss=0.1611]\n",
      "Epoch 7 | Training loss: 0.1611, validation accuracy: 0.8685, validation loss: 0.4918\n",
      "100%|██████████████████████████████████████████████████████████| 313/313 [00:24<00:00, 12.95it/s, loss=0.1589]\n",
      "Epoch 8 | Training loss: 0.1589, validation accuracy: 0.8685, validation loss: 0.4832\n",
      "100%|██████████████████████████████████████████████████████████| 313/313 [00:24<00:00, 12.95it/s, loss=0.1541]\n",
      "Epoch 9 | Training loss: 0.1541, validation accuracy: 0.8678, validation loss: 0.5003\n",
      "100%|██████████████████████████████████████████████████████████| 313/313 [00:24<00:00, 12.95it/s, loss=0.1518]\n",
      "Epoch 10 | Training loss: 0.1518, validation accuracy: 0.8683, validation loss: 0.4946\n",
      "100%|██████████████████████████████████████████████████████████| 313/313 [00:24<00:00, 12.97it/s, loss=0.1462]\n",
      "Epoch 11 | Training loss: 0.1462, validation accuracy: 0.8719, validation loss: 0.4991\n",
      "100%|██████████████████████████████████████████████████████████| 313/313 [00:24<00:00, 12.96it/s, loss=0.1427]\n",
      "Epoch 12 | Training loss: 0.1427, validation accuracy: 0.8654, validation loss: 0.5073\n",
      "100%|██████████████████████████████████████████████████████████| 313/313 [00:24<00:00, 12.97it/s, loss=0.1397]\n",
      "Epoch 13 | Training loss: 0.1397, validation accuracy: 0.8666, validation loss: 0.5049\n",
      "100%|██████████████████████████████████████████████████████████| 313/313 [00:24<00:00, 12.97it/s, loss=0.1362]\n",
      "Epoch 14 | Training loss: 0.1362, validation accuracy: 0.8685, validation loss: 0.5090\n",
      "100%|██████████████████████████████████████████████████████████| 313/313 [00:24<00:00, 12.97it/s, loss=0.1343]\n",
      "Epoch 15 | Training loss: 0.1343, validation accuracy: 0.8658, validation loss: 0.5114\n",
      "100%|██████████████████████████████████████████████████████████| 313/313 [00:24<00:00, 12.97it/s, loss=0.1255]\n",
      "Epoch 16 | Training loss: 0.1255, validation accuracy: 0.8674, validation loss: 0.5219\n",
      "100%|██████████████████████████████████████████████████████████| 313/313 [00:24<00:00, 12.98it/s, loss=0.1276]\n",
      "Epoch 17 | Training loss: 0.1276, validation accuracy: 0.8691, validation loss: 0.5204\n",
      "100%|██████████████████████████████████████████████████████████| 313/313 [00:24<00:00, 12.97it/s, loss=0.1263]\n",
      "Epoch 18 | Training loss: 0.1263, validation accuracy: 0.8703, validation loss: 0.5050\n",
      "100%|██████████████████████████████████████████████████████████| 313/313 [00:24<00:00, 12.97it/s, loss=0.1208]\n",
      "Epoch 19 | Training loss: 0.1208, validation accuracy: 0.8667, validation loss: 0.5282\n",
      "100%|██████████████████████████████████████████████████████████| 313/313 [00:24<00:00, 12.97it/s, loss=0.1186]\n",
      "Epoch 20 | Training loss: 0.1186, validation accuracy: 0.8693, validation loss: 0.5271\n",
      "100%|██████████████████████████████████████████████████████████| 313/313 [00:24<00:00, 12.96it/s, loss=0.1163]\n",
      "Epoch 21 | Training loss: 0.1163, validation accuracy: 0.8689, validation loss: 0.5387\n",
      "100%|██████████████████████████████████████████████████████████| 313/313 [00:24<00:00, 12.96it/s, loss=0.1120]\n",
      "Epoch 22 | Training loss: 0.1120, validation accuracy: 0.8704, validation loss: 0.5301\n",
      "100%|██████████████████████████████████████████████████████████| 313/313 [00:24<00:00, 12.96it/s, loss=0.1128]\n",
      "Epoch 23 | Training loss: 0.1128, validation accuracy: 0.8676, validation loss: 0.5488\n",
      "100%|██████████████████████████████████████████████████████████| 313/313 [00:24<00:00, 12.95it/s, loss=0.1139]\n",
      "Epoch 24 | Training loss: 0.1139, validation accuracy: 0.8695, validation loss: 0.5399\n",
      "100%|██████████████████████████████████████████████████████████| 313/313 [00:24<00:00, 12.96it/s, loss=0.1092]\n",
      "Epoch 25 | Training loss: 0.1092, validation accuracy: 0.8692, validation loss: 0.5352\n",
      "100%|██████████████████████████████████████████████████████████| 313/313 [00:24<00:00, 12.96it/s, loss=0.1066]\n",
      "Epoch 26 | Training loss: 0.1066, validation accuracy: 0.8673, validation loss: 0.5364\n",
      "100%|██████████████████████████████████████████████████████████| 313/313 [00:24<00:00, 12.97it/s, loss=0.1046]\n",
      "Epoch 27 | Training loss: 0.1046, validation accuracy: 0.8690, validation loss: 0.5407\n",
      "100%|██████████████████████████████████████████████████████████| 313/313 [00:24<00:00, 12.96it/s, loss=0.1025]\n",
      "Epoch 28 | Training loss: 0.1025, validation accuracy: 0.8673, validation loss: 0.5627\n",
      "100%|██████████████████████████████████████████████████████████| 313/313 [00:24<00:00, 12.95it/s, loss=0.1004]\n",
      "Epoch 29 | Training loss: 0.1004, validation accuracy: 0.8647, validation loss: 0.5685\n",
      "100%|██████████████████████████████████████████████████████████| 313/313 [00:24<00:00, 12.96it/s, loss=0.0989]\n",
      "Epoch 30 | Training loss: 0.0989, validation accuracy: 0.8677, validation loss: 0.5588\n"
     ]
    }
   ],
   "source": [
    "epochs = 30\n",
    "\n",
    "for epoch in range(epochs):\n",
    "    train_loss = trainer.train_epoch(model, optimizer, dl[\"train\"])\n",
    "    optimizer.finish_epoch()\n",
    "    val_acc, val_loss = trainer.validation(model, dl[\"valid\"])\n",
    "    logger.log(\"Epoch\", epoch+1, \"|\", \n",
    "          f\"Training loss: {train_loss:.4f}, validation accuracy: {val_acc:.4f}, validation loss: {val_loss:.4f}\")"
   ]
  },
  {
   "cell_type": "code",
   "execution_count": 16,
   "id": "significant-player",
   "metadata": {},
   "outputs": [
    {
     "name": "stdout",
     "output_type": "stream",
     "text": [
      "Train: (0.967225, 0.0931658944427967)\n",
      "Valid: (0.8677, 0.5588255859375)\n"
     ]
    }
   ],
   "source": [
    "train_score = trainer.validation(model, dl[\"train\"])\n",
    "valid_score = trainer.validation(model, dl[\"valid\"])\n",
    "logger.log(\"Train:\", train_score)\n",
    "logger.log(\"Valid:\", valid_score)"
   ]
  },
  {
   "cell_type": "code",
   "execution_count": 17,
   "id": "printable-spare",
   "metadata": {},
   "outputs": [
    {
     "data": {
      "text/plain": [
       "VGG(\n",
       "  (features): Sequential(\n",
       "    (0): Conv2d(3, 64, kernel_size=(3, 3), stride=(1, 1), padding=(1, 1))\n",
       "    (1): ReLU(inplace=True)\n",
       "    (2): Conv2d(64, 64, kernel_size=(3, 3), stride=(1, 1), padding=(1, 1))\n",
       "    (3): ReLU(inplace=True)\n",
       "    (4): MaxPool2d(kernel_size=2, stride=2, padding=0, dilation=1, ceil_mode=False)\n",
       "    (5): Conv2d(64, 128, kernel_size=(3, 3), stride=(1, 1), padding=(1, 1))\n",
       "    (6): ReLU(inplace=True)\n",
       "    (7): Conv2d(128, 128, kernel_size=(3, 3), stride=(1, 1), padding=(1, 1))\n",
       "    (8): ReLU(inplace=True)\n",
       "    (9): MaxPool2d(kernel_size=2, stride=2, padding=0, dilation=1, ceil_mode=False)\n",
       "    (10): Conv2d(128, 256, kernel_size=(3, 3), stride=(1, 1), padding=(1, 1))\n",
       "    (11): ReLU(inplace=True)\n",
       "    (12): Conv2d(256, 256, kernel_size=(3, 3), stride=(1, 1), padding=(1, 1))\n",
       "    (13): ReLU(inplace=True)\n",
       "    (14): Conv2d(256, 256, kernel_size=(3, 3), stride=(1, 1), padding=(1, 1))\n",
       "    (15): ReLU(inplace=True)\n",
       "    (16): Conv2d(256, 256, kernel_size=(3, 3), stride=(1, 1), padding=(1, 1))\n",
       "    (17): ReLU(inplace=True)\n",
       "    (18): MaxPool2d(kernel_size=2, stride=2, padding=0, dilation=1, ceil_mode=False)\n",
       "    (19): Conv2d(256, 512, kernel_size=(3, 3), stride=(1, 1), padding=(1, 1))\n",
       "    (20): ReLU(inplace=True)\n",
       "    (21): Conv2d(512, 512, kernel_size=(3, 3), stride=(1, 1), padding=(1, 1))\n",
       "    (22): ReLU(inplace=True)\n",
       "    (23): Conv2d(512, 512, kernel_size=(3, 3), stride=(1, 1), padding=(1, 1))\n",
       "    (24): ReLU(inplace=True)\n",
       "    (25): Conv2d(512, 512, kernel_size=(3, 3), stride=(1, 1), padding=(1, 1))\n",
       "    (26): ReLU(inplace=True)\n",
       "    (27): MaxPool2d(kernel_size=2, stride=2, padding=0, dilation=1, ceil_mode=False)\n",
       "    (28): Conv2d(512, 512, kernel_size=(3, 3), stride=(1, 1), padding=(1, 1))\n",
       "    (29): ReLU(inplace=True)\n",
       "    (30): Conv2d(512, 512, kernel_size=(3, 3), stride=(1, 1), padding=(1, 1))\n",
       "    (31): ReLU(inplace=True)\n",
       "    (32): Conv2d(512, 512, kernel_size=(3, 3), stride=(1, 1), padding=(1, 1))\n",
       "    (33): ReLU(inplace=True)\n",
       "    (34): Conv2d(512, 512, kernel_size=(3, 3), stride=(1, 1), padding=(1, 1))\n",
       "    (35): ReLU(inplace=True)\n",
       "    (36): MaxPool2d(kernel_size=2, stride=2, padding=0, dilation=1, ceil_mode=False)\n",
       "  )\n",
       "  (avgpool): AdaptiveAvgPool2d(output_size=(7, 7))\n",
       "  (classifier): Sequential(\n",
       "    (0): Linear(in_features=25088, out_features=4096, bias=True)\n",
       "    (1): ReLU(inplace=True)\n",
       "    (2): Dropout(p=0.5, inplace=False)\n",
       "    (3): Linear(in_features=4096, out_features=4096, bias=True)\n",
       "    (4): ReLU(inplace=True)\n",
       "    (5): Dropout(p=0.5, inplace=False)\n",
       "    (6): Linear(in_features=4096, out_features=10, bias=True)\n",
       "    (7): LogSoftmax(dim=-1)\n",
       "  )\n",
       ")"
      ]
     },
     "execution_count": 17,
     "metadata": {},
     "output_type": "execute_result"
    }
   ],
   "source": [
    "model_acc = deepcopy(model)\n",
    "optimizer.accelerate()\n",
    "optimizer.store_parameters([model_acc.parameters()])\n",
    "model_acc.to(trainer.device)"
   ]
  },
  {
   "cell_type": "code",
   "execution_count": 18,
   "id": "north-causing",
   "metadata": {},
   "outputs": [
    {
     "name": "stdout",
     "output_type": "stream",
     "text": [
      "Train: (0.9698, 0.08657128766775131)\n",
      "Valid: (0.872, 0.5348740166664123)\n"
     ]
    }
   ],
   "source": [
    "train_score = trainer.validation(model_acc, dl[\"train\"])\n",
    "valid_score = trainer.validation(model_acc, dl[\"valid\"])\n",
    "logger.log(\"Train:\", train_score)\n",
    "logger.log(\"Valid:\", valid_score)"
   ]
  },
  {
   "cell_type": "markdown",
   "id": "anticipated-budget",
   "metadata": {},
   "source": [
    "## Epoch average"
   ]
  },
  {
   "cell_type": "code",
   "execution_count": 19,
   "id": "foster-application",
   "metadata": {},
   "outputs": [
    {
     "data": {
      "text/plain": [
       "VGG(\n",
       "  (features): Sequential(\n",
       "    (0): Conv2d(3, 64, kernel_size=(3, 3), stride=(1, 1), padding=(1, 1))\n",
       "    (1): ReLU(inplace=True)\n",
       "    (2): Conv2d(64, 64, kernel_size=(3, 3), stride=(1, 1), padding=(1, 1))\n",
       "    (3): ReLU(inplace=True)\n",
       "    (4): MaxPool2d(kernel_size=2, stride=2, padding=0, dilation=1, ceil_mode=False)\n",
       "    (5): Conv2d(64, 128, kernel_size=(3, 3), stride=(1, 1), padding=(1, 1))\n",
       "    (6): ReLU(inplace=True)\n",
       "    (7): Conv2d(128, 128, kernel_size=(3, 3), stride=(1, 1), padding=(1, 1))\n",
       "    (8): ReLU(inplace=True)\n",
       "    (9): MaxPool2d(kernel_size=2, stride=2, padding=0, dilation=1, ceil_mode=False)\n",
       "    (10): Conv2d(128, 256, kernel_size=(3, 3), stride=(1, 1), padding=(1, 1))\n",
       "    (11): ReLU(inplace=True)\n",
       "    (12): Conv2d(256, 256, kernel_size=(3, 3), stride=(1, 1), padding=(1, 1))\n",
       "    (13): ReLU(inplace=True)\n",
       "    (14): Conv2d(256, 256, kernel_size=(3, 3), stride=(1, 1), padding=(1, 1))\n",
       "    (15): ReLU(inplace=True)\n",
       "    (16): Conv2d(256, 256, kernel_size=(3, 3), stride=(1, 1), padding=(1, 1))\n",
       "    (17): ReLU(inplace=True)\n",
       "    (18): MaxPool2d(kernel_size=2, stride=2, padding=0, dilation=1, ceil_mode=False)\n",
       "    (19): Conv2d(256, 512, kernel_size=(3, 3), stride=(1, 1), padding=(1, 1))\n",
       "    (20): ReLU(inplace=True)\n",
       "    (21): Conv2d(512, 512, kernel_size=(3, 3), stride=(1, 1), padding=(1, 1))\n",
       "    (22): ReLU(inplace=True)\n",
       "    (23): Conv2d(512, 512, kernel_size=(3, 3), stride=(1, 1), padding=(1, 1))\n",
       "    (24): ReLU(inplace=True)\n",
       "    (25): Conv2d(512, 512, kernel_size=(3, 3), stride=(1, 1), padding=(1, 1))\n",
       "    (26): ReLU(inplace=True)\n",
       "    (27): MaxPool2d(kernel_size=2, stride=2, padding=0, dilation=1, ceil_mode=False)\n",
       "    (28): Conv2d(512, 512, kernel_size=(3, 3), stride=(1, 1), padding=(1, 1))\n",
       "    (29): ReLU(inplace=True)\n",
       "    (30): Conv2d(512, 512, kernel_size=(3, 3), stride=(1, 1), padding=(1, 1))\n",
       "    (31): ReLU(inplace=True)\n",
       "    (32): Conv2d(512, 512, kernel_size=(3, 3), stride=(1, 1), padding=(1, 1))\n",
       "    (33): ReLU(inplace=True)\n",
       "    (34): Conv2d(512, 512, kernel_size=(3, 3), stride=(1, 1), padding=(1, 1))\n",
       "    (35): ReLU(inplace=True)\n",
       "    (36): MaxPool2d(kernel_size=2, stride=2, padding=0, dilation=1, ceil_mode=False)\n",
       "  )\n",
       "  (avgpool): AdaptiveAvgPool2d(output_size=(7, 7))\n",
       "  (classifier): Sequential(\n",
       "    (0): Linear(in_features=25088, out_features=4096, bias=True)\n",
       "    (1): ReLU(inplace=True)\n",
       "    (2): Dropout(p=0.5, inplace=False)\n",
       "    (3): Linear(in_features=4096, out_features=4096, bias=True)\n",
       "    (4): ReLU(inplace=True)\n",
       "    (5): Dropout(p=0.5, inplace=False)\n",
       "    (6): Linear(in_features=4096, out_features=10, bias=True)\n",
       "    (7): LogSoftmax(dim=-1)\n",
       "  )\n",
       ")"
      ]
     },
     "execution_count": 19,
     "metadata": {},
     "output_type": "execute_result"
    }
   ],
   "source": [
    "model.load_state_dict(initial_state)\n",
    "model.to(trainer.device)"
   ]
  },
  {
   "cell_type": "code",
   "execution_count": 20,
   "id": "magnetic-replica",
   "metadata": {},
   "outputs": [
    {
     "data": {
      "text/plain": [
       "(0.1043, 2.302760050201416)"
      ]
     },
     "execution_count": 20,
     "metadata": {},
     "output_type": "execute_result"
    }
   ],
   "source": [
    "trainer.validation(model, dl[\"valid\"])"
   ]
  },
  {
   "cell_type": "code",
   "execution_count": 21,
   "id": "royal-marking",
   "metadata": {},
   "outputs": [],
   "source": [
    "optimizer = AcceleratedSGD(model.parameters(), 1e-2, k=10, momentum=0.9, weight_decay=1e-5, lambda_=1e-8, mode=\"epoch_avg\")\n",
    "logger = Logger(\"vgg19_log_augmentation_averaging.txt\")"
   ]
  },
  {
   "cell_type": "code",
   "execution_count": 22,
   "id": "a9f4ba49-14ba-4ca1-8b58-78d82c486ca3",
   "metadata": {},
   "outputs": [
    {
     "name": "stdout",
     "output_type": "stream",
     "text": [
      "100%|██████████████████████████████████████████████████████████| 313/313 [00:27<00:00, 11.25it/s, loss=2.1603]\n",
      "Epoch 1 | Training loss: 2.1603, validation accuracy: 0.2356, validation loss: 2.0151\n",
      "100%|██████████████████████████████████████████████████████████| 313/313 [00:27<00:00, 11.25it/s, loss=1.8539]\n",
      "Epoch 2 | Training loss: 1.8539, validation accuracy: 0.3711, validation loss: 1.6104\n",
      "100%|██████████████████████████████████████████████████████████| 313/313 [00:27<00:00, 11.27it/s, loss=1.6423]\n",
      "Epoch 3 | Training loss: 1.6423, validation accuracy: 0.4204, validation loss: 1.5605\n",
      "100%|██████████████████████████████████████████████████████████| 313/313 [00:27<00:00, 11.28it/s, loss=1.4735]\n",
      "Epoch 4 | Training loss: 1.4735, validation accuracy: 0.5045, validation loss: 1.3389\n",
      "100%|██████████████████████████████████████████████████████████| 313/313 [00:27<00:00, 11.29it/s, loss=1.3426]\n",
      "Epoch 5 | Training loss: 1.3426, validation accuracy: 0.5247, validation loss: 1.3229\n",
      "100%|██████████████████████████████████████████████████████████| 313/313 [00:27<00:00, 11.30it/s, loss=1.2043]\n",
      "Epoch 6 | Training loss: 1.2043, validation accuracy: 0.5984, validation loss: 1.1081\n",
      "100%|██████████████████████████████████████████████████████████| 313/313 [00:27<00:00, 11.31it/s, loss=1.1010]\n",
      "Epoch 7 | Training loss: 1.1010, validation accuracy: 0.6766, validation loss: 0.9050\n",
      "100%|██████████████████████████████████████████████████████████| 313/313 [00:27<00:00, 11.31it/s, loss=0.9960]\n",
      "Epoch 8 | Training loss: 0.9960, validation accuracy: 0.6892, validation loss: 0.8725\n",
      "100%|██████████████████████████████████████████████████████████| 313/313 [00:27<00:00, 11.32it/s, loss=0.9270]\n",
      "Epoch 9 | Training loss: 0.9270, validation accuracy: 0.7006, validation loss: 0.8503\n",
      "100%|██████████████████████████████████████████████████████████| 313/313 [00:27<00:00, 11.30it/s, loss=0.8761]\n",
      "Epoch 10 | Training loss: 0.8761, validation accuracy: 0.7111, validation loss: 0.8404\n",
      "100%|██████████████████████████████████████████████████████████| 313/313 [00:27<00:00, 11.30it/s, loss=0.8315]\n",
      "Epoch 11 | Training loss: 0.8315, validation accuracy: 0.7325, validation loss: 0.7894\n",
      "100%|██████████████████████████████████████████████████████████| 313/313 [00:27<00:00, 11.30it/s, loss=0.7657]\n",
      "Epoch 12 | Training loss: 0.7657, validation accuracy: 0.7644, validation loss: 0.6907\n",
      "100%|██████████████████████████████████████████████████████████| 313/313 [00:27<00:00, 11.30it/s, loss=0.7274]\n",
      "Epoch 13 | Training loss: 0.7274, validation accuracy: 0.7759, validation loss: 0.6699\n",
      "100%|██████████████████████████████████████████████████████████| 313/313 [00:27<00:00, 11.30it/s, loss=0.7061]\n",
      "Epoch 14 | Training loss: 0.7061, validation accuracy: 0.7754, validation loss: 0.6645\n",
      "100%|██████████████████████████████████████████████████████████| 313/313 [00:27<00:00, 11.29it/s, loss=0.6625]\n",
      "Epoch 15 | Training loss: 0.6625, validation accuracy: 0.7878, validation loss: 0.6339\n",
      "100%|██████████████████████████████████████████████████████████| 313/313 [00:27<00:00, 11.29it/s, loss=0.6367]\n",
      "Epoch 16 | Training loss: 0.6367, validation accuracy: 0.7953, validation loss: 0.6109\n",
      "100%|██████████████████████████████████████████████████████████| 313/313 [00:27<00:00, 11.30it/s, loss=0.5908]\n",
      "Epoch 17 | Training loss: 0.5908, validation accuracy: 0.8139, validation loss: 0.5746\n",
      "100%|██████████████████████████████████████████████████████████| 313/313 [00:27<00:00, 11.30it/s, loss=0.5674]\n",
      "Epoch 18 | Training loss: 0.5674, validation accuracy: 0.8166, validation loss: 0.5531\n",
      "100%|██████████████████████████████████████████████████████████| 313/313 [00:27<00:00, 11.30it/s, loss=0.5499]\n",
      "Epoch 19 | Training loss: 0.5499, validation accuracy: 0.8187, validation loss: 0.5398\n",
      "100%|██████████████████████████████████████████████████████████| 313/313 [00:27<00:00, 11.30it/s, loss=0.5156]\n",
      "Epoch 20 | Training loss: 0.5156, validation accuracy: 0.8142, validation loss: 0.5725\n",
      "100%|██████████████████████████████████████████████████████████| 313/313 [00:27<00:00, 11.30it/s, loss=0.4915]\n",
      "Epoch 21 | Training loss: 0.4915, validation accuracy: 0.8343, validation loss: 0.5107\n",
      "100%|██████████████████████████████████████████████████████████| 313/313 [00:27<00:00, 11.31it/s, loss=0.4745]\n",
      "Epoch 22 | Training loss: 0.4745, validation accuracy: 0.8260, validation loss: 0.5339\n",
      "100%|██████████████████████████████████████████████████████████| 313/313 [00:27<00:00, 11.31it/s, loss=0.4438]\n",
      "Epoch 23 | Training loss: 0.4438, validation accuracy: 0.8220, validation loss: 0.5637\n",
      "100%|██████████████████████████████████████████████████████████| 313/313 [00:27<00:00, 11.31it/s, loss=0.4393]\n",
      "Epoch 24 | Training loss: 0.4393, validation accuracy: 0.8413, validation loss: 0.4850\n",
      "100%|██████████████████████████████████████████████████████████| 313/313 [00:27<00:00, 11.32it/s, loss=0.4153]\n",
      "Epoch 25 | Training loss: 0.4153, validation accuracy: 0.8420, validation loss: 0.4939\n",
      "100%|██████████████████████████████████████████████████████████| 313/313 [00:27<00:00, 11.33it/s, loss=0.4026]\n",
      "Epoch 26 | Training loss: 0.4026, validation accuracy: 0.8307, validation loss: 0.5122\n",
      "100%|██████████████████████████████████████████████████████████| 313/313 [00:27<00:00, 11.32it/s, loss=0.3884]\n",
      "Epoch 27 | Training loss: 0.3884, validation accuracy: 0.8271, validation loss: 0.5328\n",
      "100%|██████████████████████████████████████████████████████████| 313/313 [00:27<00:00, 11.32it/s, loss=0.3671]\n",
      "Epoch 28 | Training loss: 0.3671, validation accuracy: 0.8297, validation loss: 0.5514\n",
      "100%|██████████████████████████████████████████████████████████| 313/313 [00:27<00:00, 11.33it/s, loss=0.3573]\n",
      "Epoch 29 | Training loss: 0.3573, validation accuracy: 0.8331, validation loss: 0.5356\n",
      "100%|██████████████████████████████████████████████████████████| 313/313 [00:27<00:00, 11.33it/s, loss=0.3424]\n",
      "Epoch 30 | Training loss: 0.3424, validation accuracy: 0.8329, validation loss: 0.5513\n"
     ]
    }
   ],
   "source": [
    "torch.manual_seed(2020)\n",
    "epochs = 30\n",
    "\n",
    "for epoch in range(epochs):\n",
    "    train_loss = trainer.train_epoch(model, optimizer, dl[\"train\"])\n",
    "    optimizer.finish_epoch()\n",
    "    val_acc, val_loss = trainer.validation(model, dl[\"valid\"])\n",
    "    logger.log(\"Epoch\", epoch+1, \"|\", \n",
    "          f\"Training loss: {train_loss:.4f}, validation accuracy: {val_acc:.4f}, validation loss: {val_loss:.4f}\")"
   ]
  },
  {
   "cell_type": "code",
   "execution_count": 23,
   "id": "72c7d412-e176-429d-9030-0c8b47471820",
   "metadata": {},
   "outputs": [
    {
     "name": "stdout",
     "output_type": "stream",
     "text": [
      "Train: (0.8793, 0.37251731624603274)\n",
      "Valid: (0.8329, 0.5513193576812744)\n"
     ]
    }
   ],
   "source": [
    "train_score = trainer.validation(model, dl[\"train\"])\n",
    "valid_score = trainer.validation(model, dl[\"valid\"])\n",
    "logger.log(\"Train:\", train_score)\n",
    "logger.log(\"Valid:\", valid_score)"
   ]
  },
  {
   "cell_type": "code",
   "execution_count": 24,
   "id": "4546f0eb-04e2-473b-9bad-1c7accb0266e",
   "metadata": {},
   "outputs": [
    {
     "data": {
      "text/plain": [
       "VGG(\n",
       "  (features): Sequential(\n",
       "    (0): Conv2d(3, 64, kernel_size=(3, 3), stride=(1, 1), padding=(1, 1))\n",
       "    (1): ReLU(inplace=True)\n",
       "    (2): Conv2d(64, 64, kernel_size=(3, 3), stride=(1, 1), padding=(1, 1))\n",
       "    (3): ReLU(inplace=True)\n",
       "    (4): MaxPool2d(kernel_size=2, stride=2, padding=0, dilation=1, ceil_mode=False)\n",
       "    (5): Conv2d(64, 128, kernel_size=(3, 3), stride=(1, 1), padding=(1, 1))\n",
       "    (6): ReLU(inplace=True)\n",
       "    (7): Conv2d(128, 128, kernel_size=(3, 3), stride=(1, 1), padding=(1, 1))\n",
       "    (8): ReLU(inplace=True)\n",
       "    (9): MaxPool2d(kernel_size=2, stride=2, padding=0, dilation=1, ceil_mode=False)\n",
       "    (10): Conv2d(128, 256, kernel_size=(3, 3), stride=(1, 1), padding=(1, 1))\n",
       "    (11): ReLU(inplace=True)\n",
       "    (12): Conv2d(256, 256, kernel_size=(3, 3), stride=(1, 1), padding=(1, 1))\n",
       "    (13): ReLU(inplace=True)\n",
       "    (14): Conv2d(256, 256, kernel_size=(3, 3), stride=(1, 1), padding=(1, 1))\n",
       "    (15): ReLU(inplace=True)\n",
       "    (16): Conv2d(256, 256, kernel_size=(3, 3), stride=(1, 1), padding=(1, 1))\n",
       "    (17): ReLU(inplace=True)\n",
       "    (18): MaxPool2d(kernel_size=2, stride=2, padding=0, dilation=1, ceil_mode=False)\n",
       "    (19): Conv2d(256, 512, kernel_size=(3, 3), stride=(1, 1), padding=(1, 1))\n",
       "    (20): ReLU(inplace=True)\n",
       "    (21): Conv2d(512, 512, kernel_size=(3, 3), stride=(1, 1), padding=(1, 1))\n",
       "    (22): ReLU(inplace=True)\n",
       "    (23): Conv2d(512, 512, kernel_size=(3, 3), stride=(1, 1), padding=(1, 1))\n",
       "    (24): ReLU(inplace=True)\n",
       "    (25): Conv2d(512, 512, kernel_size=(3, 3), stride=(1, 1), padding=(1, 1))\n",
       "    (26): ReLU(inplace=True)\n",
       "    (27): MaxPool2d(kernel_size=2, stride=2, padding=0, dilation=1, ceil_mode=False)\n",
       "    (28): Conv2d(512, 512, kernel_size=(3, 3), stride=(1, 1), padding=(1, 1))\n",
       "    (29): ReLU(inplace=True)\n",
       "    (30): Conv2d(512, 512, kernel_size=(3, 3), stride=(1, 1), padding=(1, 1))\n",
       "    (31): ReLU(inplace=True)\n",
       "    (32): Conv2d(512, 512, kernel_size=(3, 3), stride=(1, 1), padding=(1, 1))\n",
       "    (33): ReLU(inplace=True)\n",
       "    (34): Conv2d(512, 512, kernel_size=(3, 3), stride=(1, 1), padding=(1, 1))\n",
       "    (35): ReLU(inplace=True)\n",
       "    (36): MaxPool2d(kernel_size=2, stride=2, padding=0, dilation=1, ceil_mode=False)\n",
       "  )\n",
       "  (avgpool): AdaptiveAvgPool2d(output_size=(7, 7))\n",
       "  (classifier): Sequential(\n",
       "    (0): Linear(in_features=25088, out_features=4096, bias=True)\n",
       "    (1): ReLU(inplace=True)\n",
       "    (2): Dropout(p=0.5, inplace=False)\n",
       "    (3): Linear(in_features=4096, out_features=4096, bias=True)\n",
       "    (4): ReLU(inplace=True)\n",
       "    (5): Dropout(p=0.5, inplace=False)\n",
       "    (6): Linear(in_features=4096, out_features=10, bias=True)\n",
       "    (7): LogSoftmax(dim=-1)\n",
       "  )\n",
       ")"
      ]
     },
     "execution_count": 24,
     "metadata": {},
     "output_type": "execute_result"
    }
   ],
   "source": [
    "model_acc = deepcopy(model)\n",
    "optimizer.accelerate()\n",
    "optimizer.store_parameters([model_acc.parameters()])\n",
    "model_acc.to(trainer.device)"
   ]
  },
  {
   "cell_type": "code",
   "execution_count": 25,
   "id": "cc8d7491-26ef-4e28-9f76-d67d1598b0e8",
   "metadata": {},
   "outputs": [
    {
     "name": "stdout",
     "output_type": "stream",
     "text": [
      "Train: (0.7666, 0.7863286228179932)\n",
      "Valid: (0.7675, 0.7459545360565185)\n"
     ]
    }
   ],
   "source": [
    "train_score = trainer.validation(model_acc, dl[\"train\"])\n",
    "valid_score = trainer.validation(model_acc, dl[\"valid\"])\n",
    "logger.log(\"Train:\", train_score)\n",
    "logger.log(\"Valid:\", valid_score)"
   ]
  },
  {
   "cell_type": "code",
   "execution_count": 26,
   "id": "1bd2820c-8d43-483a-a1d4-8d74bd13ca09",
   "metadata": {},
   "outputs": [],
   "source": [
    "optimizer.param_groups[0][\"lr\"] = 1e-3"
   ]
  },
  {
   "cell_type": "code",
   "execution_count": 27,
   "id": "f62dfca0-432b-40de-82bc-a4bf2c9ef61f",
   "metadata": {},
   "outputs": [
    {
     "name": "stdout",
     "output_type": "stream",
     "text": [
      "100%|██████████████████████████████████████████████████████████| 313/313 [00:27<00:00, 11.31it/s, loss=0.2295]\n",
      "Epoch 1 | Training loss: 0.2295, validation accuracy: 0.8650, validation loss: 0.4513\n",
      "100%|██████████████████████████████████████████████████████████| 313/313 [00:27<00:00, 11.32it/s, loss=0.2052]\n",
      "Epoch 2 | Training loss: 0.2052, validation accuracy: 0.8638, validation loss: 0.4576\n",
      "100%|██████████████████████████████████████████████████████████| 313/313 [00:27<00:00, 11.31it/s, loss=0.1912]\n",
      "Epoch 3 | Training loss: 0.1912, validation accuracy: 0.8671, validation loss: 0.4484\n",
      "100%|██████████████████████████████████████████████████████████| 313/313 [00:27<00:00, 11.32it/s, loss=0.1849]\n",
      "Epoch 4 | Training loss: 0.1849, validation accuracy: 0.8667, validation loss: 0.4588\n",
      "100%|██████████████████████████████████████████████████████████| 313/313 [00:27<00:00, 11.32it/s, loss=0.1783]\n",
      "Epoch 5 | Training loss: 0.1783, validation accuracy: 0.8683, validation loss: 0.4611\n",
      "100%|██████████████████████████████████████████████████████████| 313/313 [00:27<00:00, 11.32it/s, loss=0.1747]\n",
      "Epoch 6 | Training loss: 0.1747, validation accuracy: 0.8687, validation loss: 0.4600\n",
      "100%|██████████████████████████████████████████████████████████| 313/313 [00:27<00:00, 11.32it/s, loss=0.1658]\n",
      "Epoch 7 | Training loss: 0.1658, validation accuracy: 0.8687, validation loss: 0.4715\n",
      "100%|██████████████████████████████████████████████████████████| 313/313 [00:27<00:00, 11.31it/s, loss=0.1608]\n",
      "Epoch 8 | Training loss: 0.1608, validation accuracy: 0.8662, validation loss: 0.4718\n",
      "100%|██████████████████████████████████████████████████████████| 313/313 [00:27<00:00, 11.32it/s, loss=0.1582]\n",
      "Epoch 9 | Training loss: 0.1582, validation accuracy: 0.8664, validation loss: 0.4834\n",
      "100%|██████████████████████████████████████████████████████████| 313/313 [00:27<00:00, 11.31it/s, loss=0.1522]\n",
      "Epoch 10 | Training loss: 0.1522, validation accuracy: 0.8687, validation loss: 0.4813\n",
      "100%|██████████████████████████████████████████████████████████| 313/313 [00:27<00:00, 11.32it/s, loss=0.1529]\n",
      "Epoch 11 | Training loss: 0.1529, validation accuracy: 0.8688, validation loss: 0.4762\n",
      "100%|██████████████████████████████████████████████████████████| 313/313 [00:27<00:00, 11.30it/s, loss=0.1502]\n",
      "Epoch 12 | Training loss: 0.1502, validation accuracy: 0.8659, validation loss: 0.4942\n",
      "100%|██████████████████████████████████████████████████████████| 313/313 [00:27<00:00, 11.32it/s, loss=0.1414]\n",
      "Epoch 13 | Training loss: 0.1414, validation accuracy: 0.8689, validation loss: 0.4936\n",
      "100%|██████████████████████████████████████████████████████████| 313/313 [00:27<00:00, 11.31it/s, loss=0.1401]\n",
      "Epoch 14 | Training loss: 0.1401, validation accuracy: 0.8655, validation loss: 0.4961\n",
      "100%|██████████████████████████████████████████████████████████| 313/313 [00:27<00:00, 11.31it/s, loss=0.1372]\n",
      "Epoch 15 | Training loss: 0.1372, validation accuracy: 0.8693, validation loss: 0.4951\n",
      "100%|██████████████████████████████████████████████████████████| 313/313 [00:27<00:00, 11.32it/s, loss=0.1306]\n",
      "Epoch 16 | Training loss: 0.1306, validation accuracy: 0.8686, validation loss: 0.4950\n",
      "100%|██████████████████████████████████████████████████████████| 313/313 [00:27<00:00, 11.32it/s, loss=0.1320]\n",
      "Epoch 17 | Training loss: 0.1320, validation accuracy: 0.8686, validation loss: 0.5061\n",
      "100%|██████████████████████████████████████████████████████████| 313/313 [00:27<00:00, 11.31it/s, loss=0.1312]\n",
      "Epoch 18 | Training loss: 0.1312, validation accuracy: 0.8689, validation loss: 0.5094\n",
      "100%|██████████████████████████████████████████████████████████| 313/313 [00:27<00:00, 11.32it/s, loss=0.1260]\n",
      "Epoch 19 | Training loss: 0.1260, validation accuracy: 0.8683, validation loss: 0.5053\n",
      "100%|██████████████████████████████████████████████████████████| 313/313 [00:27<00:00, 11.31it/s, loss=0.1266]\n",
      "Epoch 20 | Training loss: 0.1266, validation accuracy: 0.8677, validation loss: 0.5153\n",
      "100%|██████████████████████████████████████████████████████████| 313/313 [00:27<00:00, 11.31it/s, loss=0.1214]\n",
      "Epoch 21 | Training loss: 0.1214, validation accuracy: 0.8696, validation loss: 0.5142\n",
      "100%|██████████████████████████████████████████████████████████| 313/313 [00:27<00:00, 11.32it/s, loss=0.1184]\n",
      "Epoch 22 | Training loss: 0.1184, validation accuracy: 0.8692, validation loss: 0.5195\n",
      "100%|██████████████████████████████████████████████████████████| 313/313 [00:27<00:00, 11.32it/s, loss=0.1176]\n",
      "Epoch 23 | Training loss: 0.1176, validation accuracy: 0.8689, validation loss: 0.5093\n",
      "100%|██████████████████████████████████████████████████████████| 313/313 [00:27<00:00, 11.31it/s, loss=0.1152]\n",
      "Epoch 24 | Training loss: 0.1152, validation accuracy: 0.8714, validation loss: 0.5248\n",
      "100%|██████████████████████████████████████████████████████████| 313/313 [00:27<00:00, 11.32it/s, loss=0.1143]\n",
      "Epoch 25 | Training loss: 0.1143, validation accuracy: 0.8691, validation loss: 0.5287\n",
      "100%|██████████████████████████████████████████████████████████| 313/313 [00:27<00:00, 11.31it/s, loss=0.1128]\n",
      "Epoch 26 | Training loss: 0.1128, validation accuracy: 0.8703, validation loss: 0.5250\n",
      "100%|██████████████████████████████████████████████████████████| 313/313 [00:27<00:00, 11.29it/s, loss=0.1111]\n",
      "Epoch 27 | Training loss: 0.1111, validation accuracy: 0.8678, validation loss: 0.5373\n",
      "100%|██████████████████████████████████████████████████████████| 313/313 [00:27<00:00, 11.30it/s, loss=0.1075]\n",
      "Epoch 28 | Training loss: 0.1075, validation accuracy: 0.8664, validation loss: 0.5459\n",
      "100%|██████████████████████████████████████████████████████████| 313/313 [00:27<00:00, 11.29it/s, loss=0.1065]\n",
      "Epoch 29 | Training loss: 0.1065, validation accuracy: 0.8687, validation loss: 0.5326\n",
      "100%|██████████████████████████████████████████████████████████| 313/313 [00:27<00:00, 11.30it/s, loss=0.1024]\n",
      "Epoch 30 | Training loss: 0.1024, validation accuracy: 0.8708, validation loss: 0.5355\n"
     ]
    }
   ],
   "source": [
    "epochs = 30\n",
    "\n",
    "for epoch in range(epochs):\n",
    "    train_loss = trainer.train_epoch(model, optimizer, dl[\"train\"])\n",
    "    optimizer.finish_epoch()\n",
    "    val_acc, val_loss = trainer.validation(model, dl[\"valid\"])\n",
    "    logger.log(\"Epoch\", epoch+1, \"|\", \n",
    "          f\"Training loss: {train_loss:.4f}, validation accuracy: {val_acc:.4f}, validation loss: {val_loss:.4f}\")"
   ]
  },
  {
   "cell_type": "code",
   "execution_count": 28,
   "id": "ae6d604f-e8d1-4dd6-992a-6e0fb8a75bb1",
   "metadata": {},
   "outputs": [
    {
     "name": "stdout",
     "output_type": "stream",
     "text": [
      "Train: (0.967225, 0.0944846766114235)\n",
      "Valid: (0.8708, 0.53550360622406)\n"
     ]
    }
   ],
   "source": [
    "train_score = trainer.validation(model, dl[\"train\"])\n",
    "valid_score = trainer.validation(model, dl[\"valid\"])\n",
    "logger.log(\"Train:\", train_score)\n",
    "logger.log(\"Valid:\", valid_score)"
   ]
  },
  {
   "cell_type": "code",
   "execution_count": 29,
   "id": "d052f047-82b9-43af-8aec-28fcc76e39e2",
   "metadata": {},
   "outputs": [
    {
     "data": {
      "text/plain": [
       "VGG(\n",
       "  (features): Sequential(\n",
       "    (0): Conv2d(3, 64, kernel_size=(3, 3), stride=(1, 1), padding=(1, 1))\n",
       "    (1): ReLU(inplace=True)\n",
       "    (2): Conv2d(64, 64, kernel_size=(3, 3), stride=(1, 1), padding=(1, 1))\n",
       "    (3): ReLU(inplace=True)\n",
       "    (4): MaxPool2d(kernel_size=2, stride=2, padding=0, dilation=1, ceil_mode=False)\n",
       "    (5): Conv2d(64, 128, kernel_size=(3, 3), stride=(1, 1), padding=(1, 1))\n",
       "    (6): ReLU(inplace=True)\n",
       "    (7): Conv2d(128, 128, kernel_size=(3, 3), stride=(1, 1), padding=(1, 1))\n",
       "    (8): ReLU(inplace=True)\n",
       "    (9): MaxPool2d(kernel_size=2, stride=2, padding=0, dilation=1, ceil_mode=False)\n",
       "    (10): Conv2d(128, 256, kernel_size=(3, 3), stride=(1, 1), padding=(1, 1))\n",
       "    (11): ReLU(inplace=True)\n",
       "    (12): Conv2d(256, 256, kernel_size=(3, 3), stride=(1, 1), padding=(1, 1))\n",
       "    (13): ReLU(inplace=True)\n",
       "    (14): Conv2d(256, 256, kernel_size=(3, 3), stride=(1, 1), padding=(1, 1))\n",
       "    (15): ReLU(inplace=True)\n",
       "    (16): Conv2d(256, 256, kernel_size=(3, 3), stride=(1, 1), padding=(1, 1))\n",
       "    (17): ReLU(inplace=True)\n",
       "    (18): MaxPool2d(kernel_size=2, stride=2, padding=0, dilation=1, ceil_mode=False)\n",
       "    (19): Conv2d(256, 512, kernel_size=(3, 3), stride=(1, 1), padding=(1, 1))\n",
       "    (20): ReLU(inplace=True)\n",
       "    (21): Conv2d(512, 512, kernel_size=(3, 3), stride=(1, 1), padding=(1, 1))\n",
       "    (22): ReLU(inplace=True)\n",
       "    (23): Conv2d(512, 512, kernel_size=(3, 3), stride=(1, 1), padding=(1, 1))\n",
       "    (24): ReLU(inplace=True)\n",
       "    (25): Conv2d(512, 512, kernel_size=(3, 3), stride=(1, 1), padding=(1, 1))\n",
       "    (26): ReLU(inplace=True)\n",
       "    (27): MaxPool2d(kernel_size=2, stride=2, padding=0, dilation=1, ceil_mode=False)\n",
       "    (28): Conv2d(512, 512, kernel_size=(3, 3), stride=(1, 1), padding=(1, 1))\n",
       "    (29): ReLU(inplace=True)\n",
       "    (30): Conv2d(512, 512, kernel_size=(3, 3), stride=(1, 1), padding=(1, 1))\n",
       "    (31): ReLU(inplace=True)\n",
       "    (32): Conv2d(512, 512, kernel_size=(3, 3), stride=(1, 1), padding=(1, 1))\n",
       "    (33): ReLU(inplace=True)\n",
       "    (34): Conv2d(512, 512, kernel_size=(3, 3), stride=(1, 1), padding=(1, 1))\n",
       "    (35): ReLU(inplace=True)\n",
       "    (36): MaxPool2d(kernel_size=2, stride=2, padding=0, dilation=1, ceil_mode=False)\n",
       "  )\n",
       "  (avgpool): AdaptiveAvgPool2d(output_size=(7, 7))\n",
       "  (classifier): Sequential(\n",
       "    (0): Linear(in_features=25088, out_features=4096, bias=True)\n",
       "    (1): ReLU(inplace=True)\n",
       "    (2): Dropout(p=0.5, inplace=False)\n",
       "    (3): Linear(in_features=4096, out_features=4096, bias=True)\n",
       "    (4): ReLU(inplace=True)\n",
       "    (5): Dropout(p=0.5, inplace=False)\n",
       "    (6): Linear(in_features=4096, out_features=10, bias=True)\n",
       "    (7): LogSoftmax(dim=-1)\n",
       "  )\n",
       ")"
      ]
     },
     "execution_count": 29,
     "metadata": {},
     "output_type": "execute_result"
    }
   ],
   "source": [
    "model_acc = deepcopy(model)\n",
    "optimizer.accelerate()\n",
    "optimizer.store_parameters([model_acc.parameters()])\n",
    "model_acc.to(trainer.device)"
   ]
  },
  {
   "cell_type": "code",
   "execution_count": 30,
   "id": "789cc016-e5d3-46f3-8f29-4e3a5353a7b9",
   "metadata": {},
   "outputs": [
    {
     "name": "stdout",
     "output_type": "stream",
     "text": [
      "Train: (0.933925, 0.20556061109304427)\n",
      "Valid: (0.8611, 0.42290406703948974)\n"
     ]
    }
   ],
   "source": [
    "train_score = trainer.validation(model_acc, dl[\"train\"])\n",
    "valid_score = trainer.validation(model_acc, dl[\"valid\"])\n",
    "logger.log(\"Train:\", train_score)\n",
    "logger.log(\"Valid:\", valid_score)"
   ]
  },
  {
   "cell_type": "markdown",
   "id": "consecutive-point",
   "metadata": {},
   "source": [
    "## Epoch average, span = 10"
   ]
  },
  {
   "cell_type": "code",
   "execution_count": 9,
   "id": "acute-latest",
   "metadata": {},
   "outputs": [
    {
     "data": {
      "text/plain": [
       "VGG(\n",
       "  (features): Sequential(\n",
       "    (0): Conv2d(3, 64, kernel_size=(3, 3), stride=(1, 1), padding=(1, 1))\n",
       "    (1): ReLU(inplace=True)\n",
       "    (2): Conv2d(64, 64, kernel_size=(3, 3), stride=(1, 1), padding=(1, 1))\n",
       "    (3): ReLU(inplace=True)\n",
       "    (4): MaxPool2d(kernel_size=2, stride=2, padding=0, dilation=1, ceil_mode=False)\n",
       "    (5): Conv2d(64, 128, kernel_size=(3, 3), stride=(1, 1), padding=(1, 1))\n",
       "    (6): ReLU(inplace=True)\n",
       "    (7): Conv2d(128, 128, kernel_size=(3, 3), stride=(1, 1), padding=(1, 1))\n",
       "    (8): ReLU(inplace=True)\n",
       "    (9): MaxPool2d(kernel_size=2, stride=2, padding=0, dilation=1, ceil_mode=False)\n",
       "    (10): Conv2d(128, 256, kernel_size=(3, 3), stride=(1, 1), padding=(1, 1))\n",
       "    (11): ReLU(inplace=True)\n",
       "    (12): Conv2d(256, 256, kernel_size=(3, 3), stride=(1, 1), padding=(1, 1))\n",
       "    (13): ReLU(inplace=True)\n",
       "    (14): Conv2d(256, 256, kernel_size=(3, 3), stride=(1, 1), padding=(1, 1))\n",
       "    (15): ReLU(inplace=True)\n",
       "    (16): Conv2d(256, 256, kernel_size=(3, 3), stride=(1, 1), padding=(1, 1))\n",
       "    (17): ReLU(inplace=True)\n",
       "    (18): MaxPool2d(kernel_size=2, stride=2, padding=0, dilation=1, ceil_mode=False)\n",
       "    (19): Conv2d(256, 512, kernel_size=(3, 3), stride=(1, 1), padding=(1, 1))\n",
       "    (20): ReLU(inplace=True)\n",
       "    (21): Conv2d(512, 512, kernel_size=(3, 3), stride=(1, 1), padding=(1, 1))\n",
       "    (22): ReLU(inplace=True)\n",
       "    (23): Conv2d(512, 512, kernel_size=(3, 3), stride=(1, 1), padding=(1, 1))\n",
       "    (24): ReLU(inplace=True)\n",
       "    (25): Conv2d(512, 512, kernel_size=(3, 3), stride=(1, 1), padding=(1, 1))\n",
       "    (26): ReLU(inplace=True)\n",
       "    (27): MaxPool2d(kernel_size=2, stride=2, padding=0, dilation=1, ceil_mode=False)\n",
       "    (28): Conv2d(512, 512, kernel_size=(3, 3), stride=(1, 1), padding=(1, 1))\n",
       "    (29): ReLU(inplace=True)\n",
       "    (30): Conv2d(512, 512, kernel_size=(3, 3), stride=(1, 1), padding=(1, 1))\n",
       "    (31): ReLU(inplace=True)\n",
       "    (32): Conv2d(512, 512, kernel_size=(3, 3), stride=(1, 1), padding=(1, 1))\n",
       "    (33): ReLU(inplace=True)\n",
       "    (34): Conv2d(512, 512, kernel_size=(3, 3), stride=(1, 1), padding=(1, 1))\n",
       "    (35): ReLU(inplace=True)\n",
       "    (36): MaxPool2d(kernel_size=2, stride=2, padding=0, dilation=1, ceil_mode=False)\n",
       "  )\n",
       "  (avgpool): AdaptiveAvgPool2d(output_size=(7, 7))\n",
       "  (classifier): Sequential(\n",
       "    (0): Linear(in_features=25088, out_features=4096, bias=True)\n",
       "    (1): ReLU(inplace=True)\n",
       "    (2): Dropout(p=0.5, inplace=False)\n",
       "    (3): Linear(in_features=4096, out_features=4096, bias=True)\n",
       "    (4): ReLU(inplace=True)\n",
       "    (5): Dropout(p=0.5, inplace=False)\n",
       "    (6): Linear(in_features=4096, out_features=10, bias=True)\n",
       "    (7): LogSoftmax(dim=-1)\n",
       "  )\n",
       ")"
      ]
     },
     "execution_count": 9,
     "metadata": {},
     "output_type": "execute_result"
    }
   ],
   "source": [
    "model.load_state_dict(initial_state)\n",
    "model.to(trainer.device)"
   ]
  },
  {
   "cell_type": "code",
   "execution_count": 10,
   "id": "ambient-respondent",
   "metadata": {},
   "outputs": [
    {
     "data": {
      "text/plain": [
       "(0.1043, 2.302760050201416)"
      ]
     },
     "execution_count": 10,
     "metadata": {},
     "output_type": "execute_result"
    }
   ],
   "source": [
    "trainer.validation(model, dl[\"valid\"])"
   ]
  },
  {
   "cell_type": "code",
   "execution_count": 11,
   "id": "unusual-memorial",
   "metadata": {},
   "outputs": [],
   "source": [
    "optimizer = AcceleratedSGD(model.parameters(), 1e-2, k=10, momentum=0.9, weight_decay=1e-5, lambda_=1e-8, mode=\"epoch_avg\", avg_alpha=2 / (10 + 1))\n",
    "logger = Logger(\"vgg19_log_augmentation_averaging_span10.txt\")"
   ]
  },
  {
   "cell_type": "code",
   "execution_count": 12,
   "id": "3711d25f-5966-48ce-ae41-96751de8893f",
   "metadata": {},
   "outputs": [
    {
     "name": "stdout",
     "output_type": "stream",
     "text": [
      "100%|██████████████████████████████████████████████████████████| 313/313 [00:27<00:00, 11.44it/s, loss=2.1706]\n",
      "Epoch 1 | Training loss: 2.1706, validation accuracy: 0.2560, validation loss: 1.9420\n",
      "100%|██████████████████████████████████████████████████████████| 313/313 [00:27<00:00, 11.41it/s, loss=1.8320]\n",
      "Epoch 2 | Training loss: 1.8320, validation accuracy: 0.3525, validation loss: 1.6695\n",
      "100%|██████████████████████████████████████████████████████████| 313/313 [00:27<00:00, 11.36it/s, loss=1.6395]\n",
      "Epoch 3 | Training loss: 1.6395, validation accuracy: 0.4333, validation loss: 1.4827\n",
      "100%|██████████████████████████████████████████████████████████| 313/313 [00:27<00:00, 11.31it/s, loss=1.4762]\n",
      "Epoch 4 | Training loss: 1.4762, validation accuracy: 0.5280, validation loss: 1.3015\n",
      "100%|██████████████████████████████████████████████████████████| 313/313 [00:27<00:00, 11.31it/s, loss=1.3411]\n",
      "Epoch 5 | Training loss: 1.3411, validation accuracy: 0.5597, validation loss: 1.2226\n",
      "100%|██████████████████████████████████████████████████████████| 313/313 [00:27<00:00, 11.33it/s, loss=1.2168]\n",
      "Epoch 6 | Training loss: 1.2168, validation accuracy: 0.6264, validation loss: 1.0327\n",
      "100%|██████████████████████████████████████████████████████████| 313/313 [00:27<00:00, 11.32it/s, loss=1.0968]\n",
      "Epoch 7 | Training loss: 1.0968, validation accuracy: 0.6730, validation loss: 0.9188\n",
      "100%|██████████████████████████████████████████████████████████| 313/313 [00:27<00:00, 11.33it/s, loss=1.0026]\n",
      "Epoch 8 | Training loss: 1.0026, validation accuracy: 0.6835, validation loss: 0.9119\n",
      "100%|██████████████████████████████████████████████████████████| 313/313 [00:27<00:00, 11.33it/s, loss=0.9283]\n",
      "Epoch 9 | Training loss: 0.9283, validation accuracy: 0.7171, validation loss: 0.8095\n",
      "100%|██████████████████████████████████████████████████████████| 313/313 [00:27<00:00, 11.32it/s, loss=0.8756]\n",
      "Epoch 10 | Training loss: 0.8756, validation accuracy: 0.7250, validation loss: 0.8145\n",
      "100%|██████████████████████████████████████████████████████████| 313/313 [00:27<00:00, 11.32it/s, loss=0.8198]\n",
      "Epoch 11 | Training loss: 0.8198, validation accuracy: 0.7458, validation loss: 0.7507\n",
      "100%|██████████████████████████████████████████████████████████| 313/313 [00:27<00:00, 11.32it/s, loss=0.7608]\n",
      "Epoch 12 | Training loss: 0.7608, validation accuracy: 0.7671, validation loss: 0.6794\n",
      "100%|██████████████████████████████████████████████████████████| 313/313 [00:27<00:00, 11.32it/s, loss=0.7225]\n",
      "Epoch 13 | Training loss: 0.7225, validation accuracy: 0.7818, validation loss: 0.6393\n",
      "100%|██████████████████████████████████████████████████████████| 313/313 [00:27<00:00, 11.32it/s, loss=0.6914]\n",
      "Epoch 14 | Training loss: 0.6914, validation accuracy: 0.7865, validation loss: 0.6253\n",
      "100%|██████████████████████████████████████████████████████████| 313/313 [00:27<00:00, 11.30it/s, loss=0.6550]\n",
      "Epoch 15 | Training loss: 0.6550, validation accuracy: 0.7888, validation loss: 0.6643\n",
      "100%|██████████████████████████████████████████████████████████| 313/313 [00:27<00:00, 11.30it/s, loss=0.6285]\n",
      "Epoch 16 | Training loss: 0.6285, validation accuracy: 0.7997, validation loss: 0.6053\n",
      "100%|██████████████████████████████████████████████████████████| 313/313 [00:27<00:00, 11.32it/s, loss=0.5929]\n",
      "Epoch 17 | Training loss: 0.5929, validation accuracy: 0.8126, validation loss: 0.5699\n",
      "100%|██████████████████████████████████████████████████████████| 313/313 [00:27<00:00, 11.32it/s, loss=0.5668]\n",
      "Epoch 18 | Training loss: 0.5668, validation accuracy: 0.8126, validation loss: 0.5878\n",
      "100%|██████████████████████████████████████████████████████████| 313/313 [00:27<00:00, 11.31it/s, loss=0.5390]\n",
      "Epoch 19 | Training loss: 0.5390, validation accuracy: 0.8135, validation loss: 0.5626\n",
      "100%|██████████████████████████████████████████████████████████| 313/313 [00:27<00:00, 11.31it/s, loss=0.5130]\n",
      "Epoch 20 | Training loss: 0.5130, validation accuracy: 0.8253, validation loss: 0.5346\n",
      "100%|██████████████████████████████████████████████████████████| 313/313 [00:27<00:00, 11.31it/s, loss=0.4915]\n",
      "Epoch 21 | Training loss: 0.4915, validation accuracy: 0.8205, validation loss: 0.5718\n",
      "100%|██████████████████████████████████████████████████████████| 313/313 [00:27<00:00, 11.31it/s, loss=0.4714]\n",
      "Epoch 22 | Training loss: 0.4714, validation accuracy: 0.8256, validation loss: 0.5300\n",
      "100%|██████████████████████████████████████████████████████████| 313/313 [00:27<00:00, 11.32it/s, loss=0.4477]\n",
      "Epoch 23 | Training loss: 0.4477, validation accuracy: 0.8238, validation loss: 0.5497\n",
      "100%|██████████████████████████████████████████████████████████| 313/313 [00:27<00:00, 11.31it/s, loss=0.4304]\n",
      "Epoch 24 | Training loss: 0.4304, validation accuracy: 0.8210, validation loss: 0.5559\n",
      "100%|██████████████████████████████████████████████████████████| 313/313 [00:27<00:00, 11.31it/s, loss=0.4066]\n",
      "Epoch 25 | Training loss: 0.4066, validation accuracy: 0.8398, validation loss: 0.4999\n",
      "100%|██████████████████████████████████████████████████████████| 313/313 [00:27<00:00, 11.31it/s, loss=0.4005]\n",
      "Epoch 26 | Training loss: 0.4005, validation accuracy: 0.8402, validation loss: 0.5195\n",
      "100%|██████████████████████████████████████████████████████████| 313/313 [00:27<00:00, 11.32it/s, loss=0.3852]\n",
      "Epoch 27 | Training loss: 0.3852, validation accuracy: 0.8339, validation loss: 0.5143\n",
      "100%|██████████████████████████████████████████████████████████| 313/313 [00:27<00:00, 11.31it/s, loss=0.3667]\n",
      "Epoch 28 | Training loss: 0.3667, validation accuracy: 0.8400, validation loss: 0.4862\n",
      "100%|██████████████████████████████████████████████████████████| 313/313 [00:27<00:00, 11.31it/s, loss=0.3558]\n",
      "Epoch 29 | Training loss: 0.3558, validation accuracy: 0.8349, validation loss: 0.5238\n",
      "100%|██████████████████████████████████████████████████████████| 313/313 [00:27<00:00, 11.31it/s, loss=0.3332]\n",
      "Epoch 30 | Training loss: 0.3332, validation accuracy: 0.8327, validation loss: 0.5609\n"
     ]
    }
   ],
   "source": [
    "torch.manual_seed(2020)\n",
    "epochs = 30\n",
    "\n",
    "for epoch in range(epochs):\n",
    "    train_loss = trainer.train_epoch(model, optimizer, dl[\"train\"])\n",
    "    optimizer.finish_epoch()\n",
    "    val_acc, val_loss = trainer.validation(model, dl[\"valid\"])\n",
    "    logger.log(\"Epoch\", epoch+1, \"|\", \n",
    "          f\"Training loss: {train_loss:.4f}, validation accuracy: {val_acc:.4f}, validation loss: {val_loss:.4f}\")"
   ]
  },
  {
   "cell_type": "code",
   "execution_count": 13,
   "id": "6b053fd6-15e5-49d7-87ca-2a1023c8ec24",
   "metadata": {},
   "outputs": [
    {
     "name": "stdout",
     "output_type": "stream",
     "text": [
      "Train: (0.88835, 0.33212430019378664)\n",
      "Valid: (0.8327, 0.5609132087707519)\n"
     ]
    }
   ],
   "source": [
    "train_score = trainer.validation(model, dl[\"train\"])\n",
    "valid_score = trainer.validation(model, dl[\"valid\"])\n",
    "logger.log(\"Train:\", train_score)\n",
    "logger.log(\"Valid:\", valid_score)"
   ]
  },
  {
   "cell_type": "code",
   "execution_count": 14,
   "id": "71344759-1865-489b-bbc5-618a7476aab3",
   "metadata": {},
   "outputs": [
    {
     "data": {
      "text/plain": [
       "VGG(\n",
       "  (features): Sequential(\n",
       "    (0): Conv2d(3, 64, kernel_size=(3, 3), stride=(1, 1), padding=(1, 1))\n",
       "    (1): ReLU(inplace=True)\n",
       "    (2): Conv2d(64, 64, kernel_size=(3, 3), stride=(1, 1), padding=(1, 1))\n",
       "    (3): ReLU(inplace=True)\n",
       "    (4): MaxPool2d(kernel_size=2, stride=2, padding=0, dilation=1, ceil_mode=False)\n",
       "    (5): Conv2d(64, 128, kernel_size=(3, 3), stride=(1, 1), padding=(1, 1))\n",
       "    (6): ReLU(inplace=True)\n",
       "    (7): Conv2d(128, 128, kernel_size=(3, 3), stride=(1, 1), padding=(1, 1))\n",
       "    (8): ReLU(inplace=True)\n",
       "    (9): MaxPool2d(kernel_size=2, stride=2, padding=0, dilation=1, ceil_mode=False)\n",
       "    (10): Conv2d(128, 256, kernel_size=(3, 3), stride=(1, 1), padding=(1, 1))\n",
       "    (11): ReLU(inplace=True)\n",
       "    (12): Conv2d(256, 256, kernel_size=(3, 3), stride=(1, 1), padding=(1, 1))\n",
       "    (13): ReLU(inplace=True)\n",
       "    (14): Conv2d(256, 256, kernel_size=(3, 3), stride=(1, 1), padding=(1, 1))\n",
       "    (15): ReLU(inplace=True)\n",
       "    (16): Conv2d(256, 256, kernel_size=(3, 3), stride=(1, 1), padding=(1, 1))\n",
       "    (17): ReLU(inplace=True)\n",
       "    (18): MaxPool2d(kernel_size=2, stride=2, padding=0, dilation=1, ceil_mode=False)\n",
       "    (19): Conv2d(256, 512, kernel_size=(3, 3), stride=(1, 1), padding=(1, 1))\n",
       "    (20): ReLU(inplace=True)\n",
       "    (21): Conv2d(512, 512, kernel_size=(3, 3), stride=(1, 1), padding=(1, 1))\n",
       "    (22): ReLU(inplace=True)\n",
       "    (23): Conv2d(512, 512, kernel_size=(3, 3), stride=(1, 1), padding=(1, 1))\n",
       "    (24): ReLU(inplace=True)\n",
       "    (25): Conv2d(512, 512, kernel_size=(3, 3), stride=(1, 1), padding=(1, 1))\n",
       "    (26): ReLU(inplace=True)\n",
       "    (27): MaxPool2d(kernel_size=2, stride=2, padding=0, dilation=1, ceil_mode=False)\n",
       "    (28): Conv2d(512, 512, kernel_size=(3, 3), stride=(1, 1), padding=(1, 1))\n",
       "    (29): ReLU(inplace=True)\n",
       "    (30): Conv2d(512, 512, kernel_size=(3, 3), stride=(1, 1), padding=(1, 1))\n",
       "    (31): ReLU(inplace=True)\n",
       "    (32): Conv2d(512, 512, kernel_size=(3, 3), stride=(1, 1), padding=(1, 1))\n",
       "    (33): ReLU(inplace=True)\n",
       "    (34): Conv2d(512, 512, kernel_size=(3, 3), stride=(1, 1), padding=(1, 1))\n",
       "    (35): ReLU(inplace=True)\n",
       "    (36): MaxPool2d(kernel_size=2, stride=2, padding=0, dilation=1, ceil_mode=False)\n",
       "  )\n",
       "  (avgpool): AdaptiveAvgPool2d(output_size=(7, 7))\n",
       "  (classifier): Sequential(\n",
       "    (0): Linear(in_features=25088, out_features=4096, bias=True)\n",
       "    (1): ReLU(inplace=True)\n",
       "    (2): Dropout(p=0.5, inplace=False)\n",
       "    (3): Linear(in_features=4096, out_features=4096, bias=True)\n",
       "    (4): ReLU(inplace=True)\n",
       "    (5): Dropout(p=0.5, inplace=False)\n",
       "    (6): Linear(in_features=4096, out_features=10, bias=True)\n",
       "    (7): LogSoftmax(dim=-1)\n",
       "  )\n",
       ")"
      ]
     },
     "execution_count": 14,
     "metadata": {},
     "output_type": "execute_result"
    }
   ],
   "source": [
    "model_acc = deepcopy(model)\n",
    "optimizer.accelerate()\n",
    "optimizer.store_parameters([model_acc.parameters()])\n",
    "model_acc.to(trainer.device)"
   ]
  },
  {
   "cell_type": "code",
   "execution_count": 15,
   "id": "e3dad2ae-5b73-4191-98e5-dcf4d2960125",
   "metadata": {},
   "outputs": [
    {
     "name": "stdout",
     "output_type": "stream",
     "text": [
      "Train: (0.922725, 0.23121466193199158)\n",
      "Valid: (0.8666, 0.4086621653556824)\n"
     ]
    }
   ],
   "source": [
    "train_score = trainer.validation(model_acc, dl[\"train\"])\n",
    "valid_score = trainer.validation(model_acc, dl[\"valid\"])\n",
    "logger.log(\"Train:\", train_score)\n",
    "logger.log(\"Valid:\", valid_score)"
   ]
  },
  {
   "cell_type": "code",
   "execution_count": 16,
   "id": "f5a7d34c-9d4a-45f0-b225-521d31b3f499",
   "metadata": {},
   "outputs": [],
   "source": [
    "optimizer.param_groups[0][\"lr\"] = 1e-3"
   ]
  },
  {
   "cell_type": "code",
   "execution_count": 17,
   "id": "1d059d18-8801-4bb9-b12d-b654068d1599",
   "metadata": {},
   "outputs": [
    {
     "name": "stdout",
     "output_type": "stream",
     "text": [
      "100%|██████████████████████████████████████████████████████████| 313/313 [00:27<00:00, 11.29it/s, loss=0.2220]\n",
      "Epoch 1 | Training loss: 0.2220, validation accuracy: 0.8669, validation loss: 0.4585\n",
      "100%|██████████████████████████████████████████████████████████| 313/313 [00:27<00:00, 11.29it/s, loss=0.1960]\n",
      "Epoch 2 | Training loss: 0.1960, validation accuracy: 0.8669, validation loss: 0.4579\n",
      "100%|██████████████████████████████████████████████████████████| 313/313 [00:27<00:00, 11.29it/s, loss=0.1841]\n",
      "Epoch 3 | Training loss: 0.1841, validation accuracy: 0.8668, validation loss: 0.4567\n",
      "100%|██████████████████████████████████████████████████████████| 313/313 [00:27<00:00, 11.30it/s, loss=0.1752]\n",
      "Epoch 4 | Training loss: 0.1752, validation accuracy: 0.8682, validation loss: 0.4570\n",
      "100%|██████████████████████████████████████████████████████████| 313/313 [00:27<00:00, 11.30it/s, loss=0.1712]\n",
      "Epoch 5 | Training loss: 0.1712, validation accuracy: 0.8680, validation loss: 0.4616\n",
      "100%|██████████████████████████████████████████████████████████| 313/313 [00:27<00:00, 11.29it/s, loss=0.1644]\n",
      "Epoch 6 | Training loss: 0.1644, validation accuracy: 0.8663, validation loss: 0.4666\n",
      "100%|██████████████████████████████████████████████████████████| 313/313 [00:27<00:00, 11.30it/s, loss=0.1548]\n",
      "Epoch 7 | Training loss: 0.1548, validation accuracy: 0.8696, validation loss: 0.4813\n",
      "100%|██████████████████████████████████████████████████████████| 313/313 [00:27<00:00, 11.28it/s, loss=0.1549]\n",
      "Epoch 8 | Training loss: 0.1549, validation accuracy: 0.8639, validation loss: 0.4856\n",
      "100%|██████████████████████████████████████████████████████████| 313/313 [00:27<00:00, 11.29it/s, loss=0.1535]\n",
      "Epoch 9 | Training loss: 0.1535, validation accuracy: 0.8613, validation loss: 0.4930\n",
      "100%|██████████████████████████████████████████████████████████| 313/313 [00:27<00:00, 11.28it/s, loss=0.1438]\n",
      "Epoch 10 | Training loss: 0.1438, validation accuracy: 0.8665, validation loss: 0.4951\n",
      "100%|██████████████████████████████████████████████████████████| 313/313 [00:27<00:00, 11.28it/s, loss=0.1411]\n",
      "Epoch 11 | Training loss: 0.1411, validation accuracy: 0.8680, validation loss: 0.4870\n",
      "100%|██████████████████████████████████████████████████████████| 313/313 [00:27<00:00, 11.28it/s, loss=0.1393]\n",
      "Epoch 12 | Training loss: 0.1393, validation accuracy: 0.8699, validation loss: 0.4813\n",
      "100%|██████████████████████████████████████████████████████████| 313/313 [00:27<00:00, 11.28it/s, loss=0.1375]\n",
      "Epoch 13 | Training loss: 0.1375, validation accuracy: 0.8686, validation loss: 0.4929\n",
      "100%|██████████████████████████████████████████████████████████| 313/313 [00:27<00:00, 11.28it/s, loss=0.1371]\n",
      "Epoch 14 | Training loss: 0.1371, validation accuracy: 0.8686, validation loss: 0.4897\n",
      "100%|██████████████████████████████████████████████████████████| 313/313 [00:27<00:00, 11.27it/s, loss=0.1305]\n",
      "Epoch 15 | Training loss: 0.1305, validation accuracy: 0.8677, validation loss: 0.4885\n",
      "100%|██████████████████████████████████████████████████████████| 313/313 [00:27<00:00, 11.28it/s, loss=0.1266]\n",
      "Epoch 16 | Training loss: 0.1266, validation accuracy: 0.8665, validation loss: 0.5048\n",
      "100%|██████████████████████████████████████████████████████████| 313/313 [00:27<00:00, 11.27it/s, loss=0.1267]\n",
      "Epoch 17 | Training loss: 0.1267, validation accuracy: 0.8660, validation loss: 0.5095\n",
      "100%|██████████████████████████████████████████████████████████| 313/313 [00:27<00:00, 11.27it/s, loss=0.1234]\n",
      "Epoch 18 | Training loss: 0.1234, validation accuracy: 0.8689, validation loss: 0.4970\n",
      "100%|██████████████████████████████████████████████████████████| 313/313 [00:27<00:00, 11.27it/s, loss=0.1198]\n",
      "Epoch 19 | Training loss: 0.1198, validation accuracy: 0.8686, validation loss: 0.5091\n",
      "100%|██████████████████████████████████████████████████████████| 313/313 [00:27<00:00, 11.26it/s, loss=0.1225]\n",
      "Epoch 20 | Training loss: 0.1225, validation accuracy: 0.8697, validation loss: 0.5121\n",
      "100%|██████████████████████████████████████████████████████████| 313/313 [00:27<00:00, 11.27it/s, loss=0.1134]\n",
      "Epoch 21 | Training loss: 0.1134, validation accuracy: 0.8691, validation loss: 0.5229\n",
      "100%|██████████████████████████████████████████████████████████| 313/313 [00:27<00:00, 11.27it/s, loss=0.1129]\n",
      "Epoch 22 | Training loss: 0.1129, validation accuracy: 0.8698, validation loss: 0.5201\n",
      "100%|██████████████████████████████████████████████████████████| 313/313 [00:27<00:00, 11.26it/s, loss=0.1140]\n",
      "Epoch 23 | Training loss: 0.1140, validation accuracy: 0.8690, validation loss: 0.5019\n",
      "100%|██████████████████████████████████████████████████████████| 313/313 [00:27<00:00, 11.27it/s, loss=0.1127]\n",
      "Epoch 24 | Training loss: 0.1127, validation accuracy: 0.8693, validation loss: 0.5151\n",
      "100%|██████████████████████████████████████████████████████████| 313/313 [00:27<00:00, 11.27it/s, loss=0.1108]\n",
      "Epoch 25 | Training loss: 0.1108, validation accuracy: 0.8698, validation loss: 0.5199\n",
      "100%|██████████████████████████████████████████████████████████| 313/313 [00:27<00:00, 11.27it/s, loss=0.1074]\n",
      "Epoch 26 | Training loss: 0.1074, validation accuracy: 0.8694, validation loss: 0.5179\n",
      "100%|██████████████████████████████████████████████████████████| 313/313 [00:27<00:00, 11.27it/s, loss=0.1031]\n",
      "Epoch 27 | Training loss: 0.1031, validation accuracy: 0.8657, validation loss: 0.5328\n",
      "100%|██████████████████████████████████████████████████████████| 313/313 [00:27<00:00, 11.27it/s, loss=0.1030]\n",
      "Epoch 28 | Training loss: 0.1030, validation accuracy: 0.8671, validation loss: 0.5497\n",
      "100%|██████████████████████████████████████████████████████████| 313/313 [00:27<00:00, 11.27it/s, loss=0.1020]\n",
      "Epoch 29 | Training loss: 0.1020, validation accuracy: 0.8646, validation loss: 0.5501\n",
      "100%|██████████████████████████████████████████████████████████| 313/313 [00:27<00:00, 11.26it/s, loss=0.1000]\n",
      "Epoch 30 | Training loss: 0.1000, validation accuracy: 0.8661, validation loss: 0.5400\n"
     ]
    }
   ],
   "source": [
    "epochs = 30\n",
    "\n",
    "for epoch in range(epochs):\n",
    "    train_loss = trainer.train_epoch(model, optimizer, dl[\"train\"])\n",
    "    optimizer.finish_epoch()\n",
    "    val_acc, val_loss = trainer.validation(model, dl[\"valid\"])\n",
    "    logger.log(\"Epoch\", epoch+1, \"|\", \n",
    "          f\"Training loss: {train_loss:.4f}, validation accuracy: {val_acc:.4f}, validation loss: {val_loss:.4f}\")"
   ]
  },
  {
   "cell_type": "code",
   "execution_count": 18,
   "id": "fa2aa8b6-cfb9-494f-b79a-2d9c4a687f10",
   "metadata": {},
   "outputs": [
    {
     "name": "stdout",
     "output_type": "stream",
     "text": [
      "Train: (0.969525, 0.09006820015907288)\n",
      "Valid: (0.8661, 0.5400399757385254)\n"
     ]
    }
   ],
   "source": [
    "train_score = trainer.validation(model, dl[\"train\"])\n",
    "valid_score = trainer.validation(model, dl[\"valid\"])\n",
    "logger.log(\"Train:\", train_score)\n",
    "logger.log(\"Valid:\", valid_score)"
   ]
  },
  {
   "cell_type": "code",
   "execution_count": 19,
   "id": "d0fdaf65-6323-4968-af2d-bba9abd63275",
   "metadata": {},
   "outputs": [
    {
     "data": {
      "text/plain": [
       "VGG(\n",
       "  (features): Sequential(\n",
       "    (0): Conv2d(3, 64, kernel_size=(3, 3), stride=(1, 1), padding=(1, 1))\n",
       "    (1): ReLU(inplace=True)\n",
       "    (2): Conv2d(64, 64, kernel_size=(3, 3), stride=(1, 1), padding=(1, 1))\n",
       "    (3): ReLU(inplace=True)\n",
       "    (4): MaxPool2d(kernel_size=2, stride=2, padding=0, dilation=1, ceil_mode=False)\n",
       "    (5): Conv2d(64, 128, kernel_size=(3, 3), stride=(1, 1), padding=(1, 1))\n",
       "    (6): ReLU(inplace=True)\n",
       "    (7): Conv2d(128, 128, kernel_size=(3, 3), stride=(1, 1), padding=(1, 1))\n",
       "    (8): ReLU(inplace=True)\n",
       "    (9): MaxPool2d(kernel_size=2, stride=2, padding=0, dilation=1, ceil_mode=False)\n",
       "    (10): Conv2d(128, 256, kernel_size=(3, 3), stride=(1, 1), padding=(1, 1))\n",
       "    (11): ReLU(inplace=True)\n",
       "    (12): Conv2d(256, 256, kernel_size=(3, 3), stride=(1, 1), padding=(1, 1))\n",
       "    (13): ReLU(inplace=True)\n",
       "    (14): Conv2d(256, 256, kernel_size=(3, 3), stride=(1, 1), padding=(1, 1))\n",
       "    (15): ReLU(inplace=True)\n",
       "    (16): Conv2d(256, 256, kernel_size=(3, 3), stride=(1, 1), padding=(1, 1))\n",
       "    (17): ReLU(inplace=True)\n",
       "    (18): MaxPool2d(kernel_size=2, stride=2, padding=0, dilation=1, ceil_mode=False)\n",
       "    (19): Conv2d(256, 512, kernel_size=(3, 3), stride=(1, 1), padding=(1, 1))\n",
       "    (20): ReLU(inplace=True)\n",
       "    (21): Conv2d(512, 512, kernel_size=(3, 3), stride=(1, 1), padding=(1, 1))\n",
       "    (22): ReLU(inplace=True)\n",
       "    (23): Conv2d(512, 512, kernel_size=(3, 3), stride=(1, 1), padding=(1, 1))\n",
       "    (24): ReLU(inplace=True)\n",
       "    (25): Conv2d(512, 512, kernel_size=(3, 3), stride=(1, 1), padding=(1, 1))\n",
       "    (26): ReLU(inplace=True)\n",
       "    (27): MaxPool2d(kernel_size=2, stride=2, padding=0, dilation=1, ceil_mode=False)\n",
       "    (28): Conv2d(512, 512, kernel_size=(3, 3), stride=(1, 1), padding=(1, 1))\n",
       "    (29): ReLU(inplace=True)\n",
       "    (30): Conv2d(512, 512, kernel_size=(3, 3), stride=(1, 1), padding=(1, 1))\n",
       "    (31): ReLU(inplace=True)\n",
       "    (32): Conv2d(512, 512, kernel_size=(3, 3), stride=(1, 1), padding=(1, 1))\n",
       "    (33): ReLU(inplace=True)\n",
       "    (34): Conv2d(512, 512, kernel_size=(3, 3), stride=(1, 1), padding=(1, 1))\n",
       "    (35): ReLU(inplace=True)\n",
       "    (36): MaxPool2d(kernel_size=2, stride=2, padding=0, dilation=1, ceil_mode=False)\n",
       "  )\n",
       "  (avgpool): AdaptiveAvgPool2d(output_size=(7, 7))\n",
       "  (classifier): Sequential(\n",
       "    (0): Linear(in_features=25088, out_features=4096, bias=True)\n",
       "    (1): ReLU(inplace=True)\n",
       "    (2): Dropout(p=0.5, inplace=False)\n",
       "    (3): Linear(in_features=4096, out_features=4096, bias=True)\n",
       "    (4): ReLU(inplace=True)\n",
       "    (5): Dropout(p=0.5, inplace=False)\n",
       "    (6): Linear(in_features=4096, out_features=10, bias=True)\n",
       "    (7): LogSoftmax(dim=-1)\n",
       "  )\n",
       ")"
      ]
     },
     "execution_count": 19,
     "metadata": {},
     "output_type": "execute_result"
    }
   ],
   "source": [
    "model_acc = deepcopy(model)\n",
    "optimizer.accelerate()\n",
    "optimizer.store_parameters([model_acc.parameters()])\n",
    "model_acc.to(trainer.device)"
   ]
  },
  {
   "cell_type": "code",
   "execution_count": 20,
   "id": "97aba27a-35fd-4549-b0fe-8a320866e0a1",
   "metadata": {},
   "outputs": [
    {
     "name": "stdout",
     "output_type": "stream",
     "text": [
      "Train: (0.970475, 0.0864874561548233)\n",
      "Valid: (0.8693, 0.5135772533416748)\n"
     ]
    }
   ],
   "source": [
    "train_score = trainer.validation(model_acc, dl[\"train\"])\n",
    "valid_score = trainer.validation(model_acc, dl[\"valid\"])\n",
    "logger.log(\"Train:\", train_score)\n",
    "logger.log(\"Valid:\", valid_score)"
   ]
  },
  {
   "cell_type": "markdown",
   "id": "secondary-royalty",
   "metadata": {},
   "source": [
    "## Epoch average, alpha = 0.9"
   ]
  },
  {
   "cell_type": "code",
   "execution_count": 21,
   "id": "6ac2d5ba-09a5-4eb3-9541-3a47f204338d",
   "metadata": {},
   "outputs": [
    {
     "data": {
      "text/plain": [
       "VGG(\n",
       "  (features): Sequential(\n",
       "    (0): Conv2d(3, 64, kernel_size=(3, 3), stride=(1, 1), padding=(1, 1))\n",
       "    (1): ReLU(inplace=True)\n",
       "    (2): Conv2d(64, 64, kernel_size=(3, 3), stride=(1, 1), padding=(1, 1))\n",
       "    (3): ReLU(inplace=True)\n",
       "    (4): MaxPool2d(kernel_size=2, stride=2, padding=0, dilation=1, ceil_mode=False)\n",
       "    (5): Conv2d(64, 128, kernel_size=(3, 3), stride=(1, 1), padding=(1, 1))\n",
       "    (6): ReLU(inplace=True)\n",
       "    (7): Conv2d(128, 128, kernel_size=(3, 3), stride=(1, 1), padding=(1, 1))\n",
       "    (8): ReLU(inplace=True)\n",
       "    (9): MaxPool2d(kernel_size=2, stride=2, padding=0, dilation=1, ceil_mode=False)\n",
       "    (10): Conv2d(128, 256, kernel_size=(3, 3), stride=(1, 1), padding=(1, 1))\n",
       "    (11): ReLU(inplace=True)\n",
       "    (12): Conv2d(256, 256, kernel_size=(3, 3), stride=(1, 1), padding=(1, 1))\n",
       "    (13): ReLU(inplace=True)\n",
       "    (14): Conv2d(256, 256, kernel_size=(3, 3), stride=(1, 1), padding=(1, 1))\n",
       "    (15): ReLU(inplace=True)\n",
       "    (16): Conv2d(256, 256, kernel_size=(3, 3), stride=(1, 1), padding=(1, 1))\n",
       "    (17): ReLU(inplace=True)\n",
       "    (18): MaxPool2d(kernel_size=2, stride=2, padding=0, dilation=1, ceil_mode=False)\n",
       "    (19): Conv2d(256, 512, kernel_size=(3, 3), stride=(1, 1), padding=(1, 1))\n",
       "    (20): ReLU(inplace=True)\n",
       "    (21): Conv2d(512, 512, kernel_size=(3, 3), stride=(1, 1), padding=(1, 1))\n",
       "    (22): ReLU(inplace=True)\n",
       "    (23): Conv2d(512, 512, kernel_size=(3, 3), stride=(1, 1), padding=(1, 1))\n",
       "    (24): ReLU(inplace=True)\n",
       "    (25): Conv2d(512, 512, kernel_size=(3, 3), stride=(1, 1), padding=(1, 1))\n",
       "    (26): ReLU(inplace=True)\n",
       "    (27): MaxPool2d(kernel_size=2, stride=2, padding=0, dilation=1, ceil_mode=False)\n",
       "    (28): Conv2d(512, 512, kernel_size=(3, 3), stride=(1, 1), padding=(1, 1))\n",
       "    (29): ReLU(inplace=True)\n",
       "    (30): Conv2d(512, 512, kernel_size=(3, 3), stride=(1, 1), padding=(1, 1))\n",
       "    (31): ReLU(inplace=True)\n",
       "    (32): Conv2d(512, 512, kernel_size=(3, 3), stride=(1, 1), padding=(1, 1))\n",
       "    (33): ReLU(inplace=True)\n",
       "    (34): Conv2d(512, 512, kernel_size=(3, 3), stride=(1, 1), padding=(1, 1))\n",
       "    (35): ReLU(inplace=True)\n",
       "    (36): MaxPool2d(kernel_size=2, stride=2, padding=0, dilation=1, ceil_mode=False)\n",
       "  )\n",
       "  (avgpool): AdaptiveAvgPool2d(output_size=(7, 7))\n",
       "  (classifier): Sequential(\n",
       "    (0): Linear(in_features=25088, out_features=4096, bias=True)\n",
       "    (1): ReLU(inplace=True)\n",
       "    (2): Dropout(p=0.5, inplace=False)\n",
       "    (3): Linear(in_features=4096, out_features=4096, bias=True)\n",
       "    (4): ReLU(inplace=True)\n",
       "    (5): Dropout(p=0.5, inplace=False)\n",
       "    (6): Linear(in_features=4096, out_features=10, bias=True)\n",
       "    (7): LogSoftmax(dim=-1)\n",
       "  )\n",
       ")"
      ]
     },
     "execution_count": 21,
     "metadata": {},
     "output_type": "execute_result"
    }
   ],
   "source": [
    "model.load_state_dict(initial_state)\n",
    "model.to(trainer.device)"
   ]
  },
  {
   "cell_type": "code",
   "execution_count": 22,
   "id": "58467c99-34e1-4d69-93db-e5938ba032d8",
   "metadata": {},
   "outputs": [
    {
     "data": {
      "text/plain": [
       "(0.1043, 2.302760050201416)"
      ]
     },
     "execution_count": 22,
     "metadata": {},
     "output_type": "execute_result"
    }
   ],
   "source": [
    "trainer.validation(model, dl[\"valid\"])"
   ]
  },
  {
   "cell_type": "code",
   "execution_count": 23,
   "id": "pressing-transportation",
   "metadata": {},
   "outputs": [],
   "source": [
    "optimizer = AcceleratedSGD(model.parameters(), 1e-2, k=10, momentum=0.9, weight_decay=1e-5, lambda_=1e-8, mode=\"epoch_avg\", avg_alpha=0.9)\n",
    "logger = Logger(\"vgg19_log_augmentation_averaging_exp09.txt\")"
   ]
  },
  {
   "cell_type": "code",
   "execution_count": 24,
   "id": "8414a004-465e-4c9e-ade7-33715dbfcaa3",
   "metadata": {},
   "outputs": [
    {
     "name": "stdout",
     "output_type": "stream",
     "text": [
      "100%|██████████████████████████████████████████████████████████| 313/313 [00:27<00:00, 11.30it/s, loss=2.1632]\n",
      "Epoch 1 | Training loss: 2.1632, validation accuracy: 0.2577, validation loss: 1.9082\n",
      "100%|██████████████████████████████████████████████████████████| 313/313 [00:27<00:00, 11.29it/s, loss=1.8213]\n",
      "Epoch 2 | Training loss: 1.8213, validation accuracy: 0.3578, validation loss: 1.6476\n",
      "100%|██████████████████████████████████████████████████████████| 313/313 [00:27<00:00, 11.28it/s, loss=1.6168]\n",
      "Epoch 3 | Training loss: 1.6168, validation accuracy: 0.4345, validation loss: 1.4737\n",
      "100%|██████████████████████████████████████████████████████████| 313/313 [00:27<00:00, 11.29it/s, loss=1.4615]\n",
      "Epoch 4 | Training loss: 1.4615, validation accuracy: 0.5441, validation loss: 1.2535\n",
      "100%|██████████████████████████████████████████████████████████| 313/313 [00:27<00:00, 11.28it/s, loss=1.3174]\n",
      "Epoch 5 | Training loss: 1.3174, validation accuracy: 0.5536, validation loss: 1.2526\n",
      "100%|██████████████████████████████████████████████████████████| 313/313 [00:27<00:00, 11.29it/s, loss=1.1798]\n",
      "Epoch 6 | Training loss: 1.1798, validation accuracy: 0.6506, validation loss: 0.9823\n",
      "100%|██████████████████████████████████████████████████████████| 313/313 [00:27<00:00, 11.28it/s, loss=1.0802]\n",
      "Epoch 7 | Training loss: 1.0802, validation accuracy: 0.6844, validation loss: 0.8706\n",
      "100%|██████████████████████████████████████████████████████████| 313/313 [00:27<00:00, 11.28it/s, loss=0.9838]\n",
      "Epoch 8 | Training loss: 0.9838, validation accuracy: 0.6891, validation loss: 0.9025\n",
      "100%|██████████████████████████████████████████████████████████| 313/313 [00:27<00:00, 11.27it/s, loss=0.9174]\n",
      "Epoch 9 | Training loss: 0.9174, validation accuracy: 0.7278, validation loss: 0.7907\n",
      "100%|██████████████████████████████████████████████████████████| 313/313 [00:27<00:00, 11.29it/s, loss=0.8656]\n",
      "Epoch 10 | Training loss: 0.8656, validation accuracy: 0.6943, validation loss: 0.8782\n",
      "100%|██████████████████████████████████████████████████████████| 313/313 [00:27<00:00, 11.28it/s, loss=0.8144]\n",
      "Epoch 11 | Training loss: 0.8144, validation accuracy: 0.7497, validation loss: 0.7329\n",
      "100%|██████████████████████████████████████████████████████████| 313/313 [00:27<00:00, 11.28it/s, loss=0.7645]\n",
      "Epoch 12 | Training loss: 0.7645, validation accuracy: 0.7700, validation loss: 0.6898\n",
      "100%|██████████████████████████████████████████████████████████| 313/313 [00:27<00:00, 11.28it/s, loss=0.7156]\n",
      "Epoch 13 | Training loss: 0.7156, validation accuracy: 0.7763, validation loss: 0.6498\n",
      "100%|██████████████████████████████████████████████████████████| 313/313 [00:27<00:00, 11.28it/s, loss=0.6867]\n",
      "Epoch 14 | Training loss: 0.6867, validation accuracy: 0.7748, validation loss: 0.6781\n",
      "100%|██████████████████████████████████████████████████████████| 313/313 [00:27<00:00, 11.28it/s, loss=0.6490]\n",
      "Epoch 15 | Training loss: 0.6490, validation accuracy: 0.7919, validation loss: 0.6413\n",
      "100%|██████████████████████████████████████████████████████████| 313/313 [00:27<00:00, 11.28it/s, loss=0.6264]\n",
      "Epoch 16 | Training loss: 0.6264, validation accuracy: 0.8068, validation loss: 0.5965\n",
      "100%|██████████████████████████████████████████████████████████| 313/313 [00:27<00:00, 11.28it/s, loss=0.5890]\n",
      "Epoch 17 | Training loss: 0.5890, validation accuracy: 0.8055, validation loss: 0.5857\n",
      "100%|██████████████████████████████████████████████████████████| 313/313 [00:27<00:00, 11.29it/s, loss=0.5612]\n",
      "Epoch 18 | Training loss: 0.5612, validation accuracy: 0.8054, validation loss: 0.5873\n",
      "100%|██████████████████████████████████████████████████████████| 313/313 [00:27<00:00, 11.28it/s, loss=0.5340]\n",
      "Epoch 19 | Training loss: 0.5340, validation accuracy: 0.8182, validation loss: 0.5549\n",
      "100%|██████████████████████████████████████████████████████████| 313/313 [00:27<00:00, 11.28it/s, loss=0.5162]\n",
      "Epoch 20 | Training loss: 0.5162, validation accuracy: 0.8176, validation loss: 0.5573\n",
      "100%|██████████████████████████████████████████████████████████| 313/313 [00:27<00:00, 11.28it/s, loss=0.4855]\n",
      "Epoch 21 | Training loss: 0.4855, validation accuracy: 0.8297, validation loss: 0.5582\n",
      "100%|██████████████████████████████████████████████████████████| 313/313 [00:27<00:00, 11.28it/s, loss=0.4632]\n",
      "Epoch 22 | Training loss: 0.4632, validation accuracy: 0.8221, validation loss: 0.5455\n",
      "100%|██████████████████████████████████████████████████████████| 313/313 [00:27<00:00, 11.29it/s, loss=0.4536]\n",
      "Epoch 23 | Training loss: 0.4536, validation accuracy: 0.8161, validation loss: 0.5961\n",
      "100%|██████████████████████████████████████████████████████████| 313/313 [00:27<00:00, 11.28it/s, loss=0.4329]\n",
      "Epoch 24 | Training loss: 0.4329, validation accuracy: 0.8377, validation loss: 0.5047\n",
      "100%|██████████████████████████████████████████████████████████| 313/313 [00:27<00:00, 11.29it/s, loss=0.4076]\n",
      "Epoch 25 | Training loss: 0.4076, validation accuracy: 0.8245, validation loss: 0.5437\n",
      "100%|██████████████████████████████████████████████████████████| 313/313 [00:27<00:00, 11.29it/s, loss=0.4001]\n",
      "Epoch 26 | Training loss: 0.4001, validation accuracy: 0.8251, validation loss: 0.5367\n",
      "100%|██████████████████████████████████████████████████████████| 313/313 [00:27<00:00, 11.27it/s, loss=0.3883]\n",
      "Epoch 27 | Training loss: 0.3883, validation accuracy: 0.8322, validation loss: 0.5310\n",
      "100%|██████████████████████████████████████████████████████████| 313/313 [00:27<00:00, 11.28it/s, loss=0.3686]\n",
      "Epoch 28 | Training loss: 0.3686, validation accuracy: 0.8340, validation loss: 0.5268\n",
      "100%|██████████████████████████████████████████████████████████| 313/313 [00:27<00:00, 11.29it/s, loss=0.3454]\n",
      "Epoch 29 | Training loss: 0.3454, validation accuracy: 0.8307, validation loss: 0.5367\n",
      "100%|██████████████████████████████████████████████████████████| 313/313 [00:27<00:00, 11.29it/s, loss=0.3360]\n",
      "Epoch 30 | Training loss: 0.3360, validation accuracy: 0.8391, validation loss: 0.5289\n"
     ]
    }
   ],
   "source": [
    "torch.manual_seed(2020)\n",
    "epochs = 30\n",
    "\n",
    "for epoch in range(epochs):\n",
    "    train_loss = trainer.train_epoch(model, optimizer, dl[\"train\"])\n",
    "    optimizer.finish_epoch()\n",
    "    val_acc, val_loss = trainer.validation(model, dl[\"valid\"])\n",
    "    logger.log(\"Epoch\", epoch+1, \"|\", \n",
    "          f\"Training loss: {train_loss:.4f}, validation accuracy: {val_acc:.4f}, validation loss: {val_loss:.4f}\")"
   ]
  },
  {
   "cell_type": "code",
   "execution_count": 25,
   "id": "a0d09588-b59e-4ad0-b394-eefa4054f717",
   "metadata": {},
   "outputs": [
    {
     "name": "stdout",
     "output_type": "stream",
     "text": [
      "Train: (0.88865, 0.3337964326858521)\n",
      "Valid: (0.8391, 0.528892395401001)\n"
     ]
    }
   ],
   "source": [
    "train_score = trainer.validation(model, dl[\"train\"])\n",
    "valid_score = trainer.validation(model, dl[\"valid\"])\n",
    "logger.log(\"Train:\", train_score)\n",
    "logger.log(\"Valid:\", valid_score)"
   ]
  },
  {
   "cell_type": "code",
   "execution_count": 26,
   "id": "d543c7bc-5fe8-4f0e-b3b0-f266acfc279c",
   "metadata": {},
   "outputs": [
    {
     "data": {
      "text/plain": [
       "VGG(\n",
       "  (features): Sequential(\n",
       "    (0): Conv2d(3, 64, kernel_size=(3, 3), stride=(1, 1), padding=(1, 1))\n",
       "    (1): ReLU(inplace=True)\n",
       "    (2): Conv2d(64, 64, kernel_size=(3, 3), stride=(1, 1), padding=(1, 1))\n",
       "    (3): ReLU(inplace=True)\n",
       "    (4): MaxPool2d(kernel_size=2, stride=2, padding=0, dilation=1, ceil_mode=False)\n",
       "    (5): Conv2d(64, 128, kernel_size=(3, 3), stride=(1, 1), padding=(1, 1))\n",
       "    (6): ReLU(inplace=True)\n",
       "    (7): Conv2d(128, 128, kernel_size=(3, 3), stride=(1, 1), padding=(1, 1))\n",
       "    (8): ReLU(inplace=True)\n",
       "    (9): MaxPool2d(kernel_size=2, stride=2, padding=0, dilation=1, ceil_mode=False)\n",
       "    (10): Conv2d(128, 256, kernel_size=(3, 3), stride=(1, 1), padding=(1, 1))\n",
       "    (11): ReLU(inplace=True)\n",
       "    (12): Conv2d(256, 256, kernel_size=(3, 3), stride=(1, 1), padding=(1, 1))\n",
       "    (13): ReLU(inplace=True)\n",
       "    (14): Conv2d(256, 256, kernel_size=(3, 3), stride=(1, 1), padding=(1, 1))\n",
       "    (15): ReLU(inplace=True)\n",
       "    (16): Conv2d(256, 256, kernel_size=(3, 3), stride=(1, 1), padding=(1, 1))\n",
       "    (17): ReLU(inplace=True)\n",
       "    (18): MaxPool2d(kernel_size=2, stride=2, padding=0, dilation=1, ceil_mode=False)\n",
       "    (19): Conv2d(256, 512, kernel_size=(3, 3), stride=(1, 1), padding=(1, 1))\n",
       "    (20): ReLU(inplace=True)\n",
       "    (21): Conv2d(512, 512, kernel_size=(3, 3), stride=(1, 1), padding=(1, 1))\n",
       "    (22): ReLU(inplace=True)\n",
       "    (23): Conv2d(512, 512, kernel_size=(3, 3), stride=(1, 1), padding=(1, 1))\n",
       "    (24): ReLU(inplace=True)\n",
       "    (25): Conv2d(512, 512, kernel_size=(3, 3), stride=(1, 1), padding=(1, 1))\n",
       "    (26): ReLU(inplace=True)\n",
       "    (27): MaxPool2d(kernel_size=2, stride=2, padding=0, dilation=1, ceil_mode=False)\n",
       "    (28): Conv2d(512, 512, kernel_size=(3, 3), stride=(1, 1), padding=(1, 1))\n",
       "    (29): ReLU(inplace=True)\n",
       "    (30): Conv2d(512, 512, kernel_size=(3, 3), stride=(1, 1), padding=(1, 1))\n",
       "    (31): ReLU(inplace=True)\n",
       "    (32): Conv2d(512, 512, kernel_size=(3, 3), stride=(1, 1), padding=(1, 1))\n",
       "    (33): ReLU(inplace=True)\n",
       "    (34): Conv2d(512, 512, kernel_size=(3, 3), stride=(1, 1), padding=(1, 1))\n",
       "    (35): ReLU(inplace=True)\n",
       "    (36): MaxPool2d(kernel_size=2, stride=2, padding=0, dilation=1, ceil_mode=False)\n",
       "  )\n",
       "  (avgpool): AdaptiveAvgPool2d(output_size=(7, 7))\n",
       "  (classifier): Sequential(\n",
       "    (0): Linear(in_features=25088, out_features=4096, bias=True)\n",
       "    (1): ReLU(inplace=True)\n",
       "    (2): Dropout(p=0.5, inplace=False)\n",
       "    (3): Linear(in_features=4096, out_features=4096, bias=True)\n",
       "    (4): ReLU(inplace=True)\n",
       "    (5): Dropout(p=0.5, inplace=False)\n",
       "    (6): Linear(in_features=4096, out_features=10, bias=True)\n",
       "    (7): LogSoftmax(dim=-1)\n",
       "  )\n",
       ")"
      ]
     },
     "execution_count": 26,
     "metadata": {},
     "output_type": "execute_result"
    }
   ],
   "source": [
    "model_acc = deepcopy(model)\n",
    "optimizer.accelerate()\n",
    "optimizer.store_parameters([model_acc.parameters()])\n",
    "model_acc.to(trainer.device)"
   ]
  },
  {
   "cell_type": "code",
   "execution_count": 27,
   "id": "41f1db2e-c666-4237-b95e-621574138c7f",
   "metadata": {},
   "outputs": [
    {
     "name": "stdout",
     "output_type": "stream",
     "text": [
      "Train: (0.92125, 0.23343262457847594)\n",
      "Valid: (0.8607, 0.42399153881073)\n"
     ]
    }
   ],
   "source": [
    "train_score = trainer.validation(model_acc, dl[\"train\"])\n",
    "valid_score = trainer.validation(model_acc, dl[\"valid\"])\n",
    "logger.log(\"Train:\", train_score)\n",
    "logger.log(\"Valid:\", valid_score)"
   ]
  },
  {
   "cell_type": "code",
   "execution_count": 28,
   "id": "8115266c-334e-4f1b-ae98-7ff699985dbc",
   "metadata": {},
   "outputs": [],
   "source": [
    "optimizer.param_groups[0][\"lr\"] = 1e-3"
   ]
  },
  {
   "cell_type": "code",
   "execution_count": 29,
   "id": "11456f57-599a-4b4a-866d-f34d3fda1b9b",
   "metadata": {},
   "outputs": [
    {
     "name": "stdout",
     "output_type": "stream",
     "text": [
      "100%|██████████████████████████████████████████████████████████| 313/313 [00:27<00:00, 11.29it/s, loss=0.2262]\n",
      "Epoch 1 | Training loss: 0.2262, validation accuracy: 0.8628, validation loss: 0.4695\n",
      "100%|██████████████████████████████████████████████████████████| 313/313 [00:27<00:00, 11.29it/s, loss=0.1957]\n",
      "Epoch 2 | Training loss: 0.1957, validation accuracy: 0.8639, validation loss: 0.4678\n",
      "100%|██████████████████████████████████████████████████████████| 313/313 [00:27<00:00, 11.30it/s, loss=0.1856]\n",
      "Epoch 3 | Training loss: 0.1856, validation accuracy: 0.8649, validation loss: 0.4617\n",
      "100%|██████████████████████████████████████████████████████████| 313/313 [00:27<00:00, 11.29it/s, loss=0.1799]\n",
      "Epoch 4 | Training loss: 0.1799, validation accuracy: 0.8676, validation loss: 0.4651\n",
      "100%|██████████████████████████████████████████████████████████| 313/313 [00:27<00:00, 11.29it/s, loss=0.1732]\n",
      "Epoch 5 | Training loss: 0.1732, validation accuracy: 0.8676, validation loss: 0.4752\n",
      "100%|██████████████████████████████████████████████████████████| 313/313 [00:27<00:00, 11.28it/s, loss=0.1668]\n",
      "Epoch 6 | Training loss: 0.1668, validation accuracy: 0.8678, validation loss: 0.4730\n",
      "100%|██████████████████████████████████████████████████████████| 313/313 [00:27<00:00, 11.29it/s, loss=0.1598]\n",
      "Epoch 7 | Training loss: 0.1598, validation accuracy: 0.8660, validation loss: 0.4859\n",
      "100%|██████████████████████████████████████████████████████████| 313/313 [00:27<00:00, 11.28it/s, loss=0.1561]\n",
      "Epoch 8 | Training loss: 0.1561, validation accuracy: 0.8678, validation loss: 0.4829\n",
      "100%|██████████████████████████████████████████████████████████| 313/313 [00:27<00:00, 11.28it/s, loss=0.1549]\n",
      "Epoch 9 | Training loss: 0.1549, validation accuracy: 0.8670, validation loss: 0.5040\n",
      "100%|██████████████████████████████████████████████████████████| 313/313 [00:27<00:00, 11.28it/s, loss=0.1487]\n",
      "Epoch 10 | Training loss: 0.1487, validation accuracy: 0.8658, validation loss: 0.4921\n",
      "100%|██████████████████████████████████████████████████████████| 313/313 [00:27<00:00, 11.28it/s, loss=0.1452]\n",
      "Epoch 11 | Training loss: 0.1452, validation accuracy: 0.8668, validation loss: 0.4838\n",
      "100%|██████████████████████████████████████████████████████████| 313/313 [00:27<00:00, 11.28it/s, loss=0.1415]\n",
      "Epoch 12 | Training loss: 0.1415, validation accuracy: 0.8673, validation loss: 0.5048\n",
      "100%|██████████████████████████████████████████████████████████| 313/313 [00:27<00:00, 11.28it/s, loss=0.1398]\n",
      "Epoch 13 | Training loss: 0.1398, validation accuracy: 0.8665, validation loss: 0.4960\n",
      "100%|██████████████████████████████████████████████████████████| 313/313 [00:27<00:00, 11.28it/s, loss=0.1403]\n",
      "Epoch 14 | Training loss: 0.1403, validation accuracy: 0.8674, validation loss: 0.4904\n",
      "100%|██████████████████████████████████████████████████████████| 313/313 [00:27<00:00, 11.28it/s, loss=0.1316]\n",
      "Epoch 15 | Training loss: 0.1316, validation accuracy: 0.8684, validation loss: 0.4976\n",
      "100%|██████████████████████████████████████████████████████████| 313/313 [00:27<00:00, 11.28it/s, loss=0.1279]\n",
      "Epoch 16 | Training loss: 0.1279, validation accuracy: 0.8670, validation loss: 0.5055\n",
      "100%|██████████████████████████████████████████████████████████| 313/313 [00:27<00:00, 11.27it/s, loss=0.1269]\n",
      "Epoch 17 | Training loss: 0.1269, validation accuracy: 0.8663, validation loss: 0.5121\n",
      "100%|██████████████████████████████████████████████████████████| 313/313 [00:27<00:00, 11.27it/s, loss=0.1246]\n",
      "Epoch 18 | Training loss: 0.1246, validation accuracy: 0.8677, validation loss: 0.5032\n",
      "100%|██████████████████████████████████████████████████████████| 313/313 [00:27<00:00, 11.27it/s, loss=0.1226]\n",
      "Epoch 19 | Training loss: 0.1226, validation accuracy: 0.8674, validation loss: 0.5118\n",
      "100%|██████████████████████████████████████████████████████████| 313/313 [00:27<00:00, 11.27it/s, loss=0.1220]\n",
      "Epoch 20 | Training loss: 0.1220, validation accuracy: 0.8682, validation loss: 0.5175\n",
      "100%|██████████████████████████████████████████████████████████| 313/313 [00:27<00:00, 11.27it/s, loss=0.1158]\n",
      "Epoch 21 | Training loss: 0.1158, validation accuracy: 0.8686, validation loss: 0.5174\n",
      "100%|██████████████████████████████████████████████████████████| 313/313 [00:27<00:00, 11.27it/s, loss=0.1140]\n",
      "Epoch 22 | Training loss: 0.1140, validation accuracy: 0.8698, validation loss: 0.5264\n",
      "100%|██████████████████████████████████████████████████████████| 313/313 [00:27<00:00, 11.27it/s, loss=0.1128]\n",
      "Epoch 23 | Training loss: 0.1128, validation accuracy: 0.8701, validation loss: 0.5193\n",
      "100%|██████████████████████████████████████████████████████████| 313/313 [00:27<00:00, 11.28it/s, loss=0.1141]\n",
      "Epoch 24 | Training loss: 0.1141, validation accuracy: 0.8691, validation loss: 0.5314\n",
      "100%|██████████████████████████████████████████████████████████| 313/313 [00:27<00:00, 11.27it/s, loss=0.1113]\n",
      "Epoch 25 | Training loss: 0.1113, validation accuracy: 0.8681, validation loss: 0.5291\n",
      "100%|██████████████████████████████████████████████████████████| 313/313 [00:27<00:00, 11.28it/s, loss=0.1094]\n",
      "Epoch 26 | Training loss: 0.1094, validation accuracy: 0.8696, validation loss: 0.5363\n",
      "100%|██████████████████████████████████████████████████████████| 313/313 [00:27<00:00, 11.28it/s, loss=0.1042]\n",
      "Epoch 27 | Training loss: 0.1042, validation accuracy: 0.8687, validation loss: 0.5271\n",
      "100%|██████████████████████████████████████████████████████████| 313/313 [00:27<00:00, 11.28it/s, loss=0.1028]\n",
      "Epoch 28 | Training loss: 0.1028, validation accuracy: 0.8680, validation loss: 0.5488\n",
      "100%|██████████████████████████████████████████████████████████| 313/313 [00:27<00:00, 11.29it/s, loss=0.1002]\n",
      "Epoch 29 | Training loss: 0.1002, validation accuracy: 0.8682, validation loss: 0.5461\n",
      "100%|██████████████████████████████████████████████████████████| 313/313 [00:27<00:00, 11.29it/s, loss=0.0981]\n",
      "Epoch 30 | Training loss: 0.0981, validation accuracy: 0.8709, validation loss: 0.5482\n"
     ]
    }
   ],
   "source": [
    "epochs = 30\n",
    "\n",
    "for epoch in range(epochs):\n",
    "    train_loss = trainer.train_epoch(model, optimizer, dl[\"train\"])\n",
    "    optimizer.finish_epoch()\n",
    "    val_acc, val_loss = trainer.validation(model, dl[\"valid\"])\n",
    "    logger.log(\"Epoch\", epoch+1, \"|\", \n",
    "          f\"Training loss: {train_loss:.4f}, validation accuracy: {val_acc:.4f}, validation loss: {val_loss:.4f}\")"
   ]
  },
  {
   "cell_type": "code",
   "execution_count": 30,
   "id": "75d52daa-aa00-4334-87eb-32e00b1de2f0",
   "metadata": {},
   "outputs": [
    {
     "name": "stdout",
     "output_type": "stream",
     "text": [
      "Train: (0.970425, 0.0891860221505165)\n",
      "Valid: (0.8709, 0.5481557329177856)\n"
     ]
    }
   ],
   "source": [
    "train_score = trainer.validation(model, dl[\"train\"])\n",
    "valid_score = trainer.validation(model, dl[\"valid\"])\n",
    "logger.log(\"Train:\", train_score)\n",
    "logger.log(\"Valid:\", valid_score)"
   ]
  },
  {
   "cell_type": "code",
   "execution_count": 31,
   "id": "03213734-ed5a-42c0-b9fc-35f75d508c5a",
   "metadata": {},
   "outputs": [
    {
     "data": {
      "text/plain": [
       "VGG(\n",
       "  (features): Sequential(\n",
       "    (0): Conv2d(3, 64, kernel_size=(3, 3), stride=(1, 1), padding=(1, 1))\n",
       "    (1): ReLU(inplace=True)\n",
       "    (2): Conv2d(64, 64, kernel_size=(3, 3), stride=(1, 1), padding=(1, 1))\n",
       "    (3): ReLU(inplace=True)\n",
       "    (4): MaxPool2d(kernel_size=2, stride=2, padding=0, dilation=1, ceil_mode=False)\n",
       "    (5): Conv2d(64, 128, kernel_size=(3, 3), stride=(1, 1), padding=(1, 1))\n",
       "    (6): ReLU(inplace=True)\n",
       "    (7): Conv2d(128, 128, kernel_size=(3, 3), stride=(1, 1), padding=(1, 1))\n",
       "    (8): ReLU(inplace=True)\n",
       "    (9): MaxPool2d(kernel_size=2, stride=2, padding=0, dilation=1, ceil_mode=False)\n",
       "    (10): Conv2d(128, 256, kernel_size=(3, 3), stride=(1, 1), padding=(1, 1))\n",
       "    (11): ReLU(inplace=True)\n",
       "    (12): Conv2d(256, 256, kernel_size=(3, 3), stride=(1, 1), padding=(1, 1))\n",
       "    (13): ReLU(inplace=True)\n",
       "    (14): Conv2d(256, 256, kernel_size=(3, 3), stride=(1, 1), padding=(1, 1))\n",
       "    (15): ReLU(inplace=True)\n",
       "    (16): Conv2d(256, 256, kernel_size=(3, 3), stride=(1, 1), padding=(1, 1))\n",
       "    (17): ReLU(inplace=True)\n",
       "    (18): MaxPool2d(kernel_size=2, stride=2, padding=0, dilation=1, ceil_mode=False)\n",
       "    (19): Conv2d(256, 512, kernel_size=(3, 3), stride=(1, 1), padding=(1, 1))\n",
       "    (20): ReLU(inplace=True)\n",
       "    (21): Conv2d(512, 512, kernel_size=(3, 3), stride=(1, 1), padding=(1, 1))\n",
       "    (22): ReLU(inplace=True)\n",
       "    (23): Conv2d(512, 512, kernel_size=(3, 3), stride=(1, 1), padding=(1, 1))\n",
       "    (24): ReLU(inplace=True)\n",
       "    (25): Conv2d(512, 512, kernel_size=(3, 3), stride=(1, 1), padding=(1, 1))\n",
       "    (26): ReLU(inplace=True)\n",
       "    (27): MaxPool2d(kernel_size=2, stride=2, padding=0, dilation=1, ceil_mode=False)\n",
       "    (28): Conv2d(512, 512, kernel_size=(3, 3), stride=(1, 1), padding=(1, 1))\n",
       "    (29): ReLU(inplace=True)\n",
       "    (30): Conv2d(512, 512, kernel_size=(3, 3), stride=(1, 1), padding=(1, 1))\n",
       "    (31): ReLU(inplace=True)\n",
       "    (32): Conv2d(512, 512, kernel_size=(3, 3), stride=(1, 1), padding=(1, 1))\n",
       "    (33): ReLU(inplace=True)\n",
       "    (34): Conv2d(512, 512, kernel_size=(3, 3), stride=(1, 1), padding=(1, 1))\n",
       "    (35): ReLU(inplace=True)\n",
       "    (36): MaxPool2d(kernel_size=2, stride=2, padding=0, dilation=1, ceil_mode=False)\n",
       "  )\n",
       "  (avgpool): AdaptiveAvgPool2d(output_size=(7, 7))\n",
       "  (classifier): Sequential(\n",
       "    (0): Linear(in_features=25088, out_features=4096, bias=True)\n",
       "    (1): ReLU(inplace=True)\n",
       "    (2): Dropout(p=0.5, inplace=False)\n",
       "    (3): Linear(in_features=4096, out_features=4096, bias=True)\n",
       "    (4): ReLU(inplace=True)\n",
       "    (5): Dropout(p=0.5, inplace=False)\n",
       "    (6): Linear(in_features=4096, out_features=10, bias=True)\n",
       "    (7): LogSoftmax(dim=-1)\n",
       "  )\n",
       ")"
      ]
     },
     "execution_count": 31,
     "metadata": {},
     "output_type": "execute_result"
    }
   ],
   "source": [
    "model_acc = deepcopy(model)\n",
    "optimizer.accelerate()\n",
    "optimizer.store_parameters([model_acc.parameters()])\n",
    "model_acc.to(trainer.device)"
   ]
  },
  {
   "cell_type": "code",
   "execution_count": 32,
   "id": "6eeb0e53-8a65-45b8-bb5e-66cf993c60d9",
   "metadata": {},
   "outputs": [
    {
     "name": "stdout",
     "output_type": "stream",
     "text": [
      "Train: (0.96985, 0.08826465769410133)\n",
      "Valid: (0.8716, 0.5232996897697448)\n"
     ]
    }
   ],
   "source": [
    "train_score = trainer.validation(model_acc, dl[\"train\"])\n",
    "valid_score = trainer.validation(model_acc, dl[\"valid\"])\n",
    "logger.log(\"Train:\", train_score)\n",
    "logger.log(\"Valid:\", valid_score)"
   ]
  },
  {
   "cell_type": "raw",
   "id": "2748af06-a3df-4c36-88d4-9d0a219dbc7c",
   "metadata": {},
   "source": []
  }
 ],
 "metadata": {
  "kernelspec": {
   "display_name": "Python 3 (magister)",
   "language": "python",
   "name": "mgr"
  },
  "language_info": {
   "codemirror_mode": {
    "name": "ipython",
    "version": 3
   },
   "file_extension": ".py",
   "mimetype": "text/x-python",
   "name": "python",
   "nbconvert_exporter": "python",
   "pygments_lexer": "ipython3",
   "version": "3.8.13"
  }
 },
 "nbformat": 4,
 "nbformat_minor": 5
}
