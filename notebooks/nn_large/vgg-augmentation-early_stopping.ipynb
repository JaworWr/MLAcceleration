{
 "cells": [
  {
   "cell_type": "code",
   "execution_count": 1,
   "id": "noticed-jimmy",
   "metadata": {},
   "outputs": [],
   "source": [
    "import torch\n",
    "from torch import nn\n",
    "from torchvision import models\n",
    "from copy import deepcopy\n",
    "import os\n",
    "\n",
    "from nn_extrapolation import AcceleratedSGD\n",
    "from nn_utils import *"
   ]
  },
  {
   "cell_type": "code",
   "execution_count": 2,
   "id": "increasing-alignment",
   "metadata": {},
   "outputs": [],
   "source": [
    "trainer = Trainer(\n",
    "    device=\"cuda:3\",\n",
    "    loss_fn=nn.NLLLoss(reduction=\"mean\"),\n",
    "    val_loss_fn=nn.NLLLoss(reduction=\"sum\"),\n",
    ")"
   ]
  },
  {
   "cell_type": "code",
   "execution_count": 3,
   "id": "willing-bathroom",
   "metadata": {},
   "outputs": [
    {
     "name": "stdout",
     "output_type": "stream",
     "text": [
      "Files already downloaded and verified\n",
      "Files already downloaded and verified\n"
     ]
    }
   ],
   "source": [
    "dl = load_dataset(\n",
    "    dataset=\"CIFAR10\",\n",
    "    root=os.path.join(\"/tmp\", os.environ[\"USER\"], \"CIFAR\"),\n",
    "    augmentation=transforms.RandomAffine(10, scale=(0.9, 1.1), translate=(0.2, 0.2)),\n",
    "    validation_split=0.2,\n",
    "    batch_size=128,\n",
    "    num_workers=10,\n",
    ")"
   ]
  },
  {
   "cell_type": "code",
   "execution_count": 4,
   "id": "numeric-injury",
   "metadata": {},
   "outputs": [],
   "source": [
    "def make_model():\n",
    "    model = models.vgg16(pretrained=False)\n",
    "    model.classifier[6] = nn.Linear(4096, 10)\n",
    "    model.classifier.add_module(\"7\", nn.LogSoftmax(-1))\n",
    "    return model"
   ]
  },
  {
   "cell_type": "markdown",
   "id": "expired-award",
   "metadata": {},
   "source": [
    "## Momentum"
   ]
  },
  {
   "cell_type": "markdown",
   "id": "bfb3bf8f-b8a5-4811-98db-57ed5f710343",
   "metadata": {},
   "source": [
    "### k = 10"
   ]
  },
  {
   "cell_type": "code",
   "execution_count": 5,
   "id": "0c678bcc-edfc-4d5a-a42f-675cf8e70660",
   "metadata": {},
   "outputs": [
    {
     "data": {
      "text/plain": [
       "VGG(\n",
       "  (features): Sequential(\n",
       "    (0): Conv2d(3, 64, kernel_size=(3, 3), stride=(1, 1), padding=(1, 1))\n",
       "    (1): ReLU(inplace=True)\n",
       "    (2): Conv2d(64, 64, kernel_size=(3, 3), stride=(1, 1), padding=(1, 1))\n",
       "    (3): ReLU(inplace=True)\n",
       "    (4): MaxPool2d(kernel_size=2, stride=2, padding=0, dilation=1, ceil_mode=False)\n",
       "    (5): Conv2d(64, 128, kernel_size=(3, 3), stride=(1, 1), padding=(1, 1))\n",
       "    (6): ReLU(inplace=True)\n",
       "    (7): Conv2d(128, 128, kernel_size=(3, 3), stride=(1, 1), padding=(1, 1))\n",
       "    (8): ReLU(inplace=True)\n",
       "    (9): MaxPool2d(kernel_size=2, stride=2, padding=0, dilation=1, ceil_mode=False)\n",
       "    (10): Conv2d(128, 256, kernel_size=(3, 3), stride=(1, 1), padding=(1, 1))\n",
       "    (11): ReLU(inplace=True)\n",
       "    (12): Conv2d(256, 256, kernel_size=(3, 3), stride=(1, 1), padding=(1, 1))\n",
       "    (13): ReLU(inplace=True)\n",
       "    (14): Conv2d(256, 256, kernel_size=(3, 3), stride=(1, 1), padding=(1, 1))\n",
       "    (15): ReLU(inplace=True)\n",
       "    (16): MaxPool2d(kernel_size=2, stride=2, padding=0, dilation=1, ceil_mode=False)\n",
       "    (17): Conv2d(256, 512, kernel_size=(3, 3), stride=(1, 1), padding=(1, 1))\n",
       "    (18): ReLU(inplace=True)\n",
       "    (19): Conv2d(512, 512, kernel_size=(3, 3), stride=(1, 1), padding=(1, 1))\n",
       "    (20): ReLU(inplace=True)\n",
       "    (21): Conv2d(512, 512, kernel_size=(3, 3), stride=(1, 1), padding=(1, 1))\n",
       "    (22): ReLU(inplace=True)\n",
       "    (23): MaxPool2d(kernel_size=2, stride=2, padding=0, dilation=1, ceil_mode=False)\n",
       "    (24): Conv2d(512, 512, kernel_size=(3, 3), stride=(1, 1), padding=(1, 1))\n",
       "    (25): ReLU(inplace=True)\n",
       "    (26): Conv2d(512, 512, kernel_size=(3, 3), stride=(1, 1), padding=(1, 1))\n",
       "    (27): ReLU(inplace=True)\n",
       "    (28): Conv2d(512, 512, kernel_size=(3, 3), stride=(1, 1), padding=(1, 1))\n",
       "    (29): ReLU(inplace=True)\n",
       "    (30): MaxPool2d(kernel_size=2, stride=2, padding=0, dilation=1, ceil_mode=False)\n",
       "  )\n",
       "  (avgpool): AdaptiveAvgPool2d(output_size=(7, 7))\n",
       "  (classifier): Sequential(\n",
       "    (0): Linear(in_features=25088, out_features=4096, bias=True)\n",
       "    (1): ReLU(inplace=True)\n",
       "    (2): Dropout(p=0.5, inplace=False)\n",
       "    (3): Linear(in_features=4096, out_features=4096, bias=True)\n",
       "    (4): ReLU(inplace=True)\n",
       "    (5): Dropout(p=0.5, inplace=False)\n",
       "    (6): Linear(in_features=4096, out_features=10, bias=True)\n",
       "    (7): LogSoftmax(dim=-1)\n",
       "  )\n",
       ")"
      ]
     },
     "execution_count": 5,
     "metadata": {},
     "output_type": "execute_result"
    }
   ],
   "source": [
    "model = make_model()\n",
    "model.to(trainer.device)"
   ]
  },
  {
   "cell_type": "code",
   "execution_count": 6,
   "id": "crazy-connectivity",
   "metadata": {},
   "outputs": [],
   "source": [
    "optimizer = AcceleratedSGD(model.parameters(), 1e-2, k=10, momentum=0.9, weight_decay=1e-5, lambda_=1e-8)\n",
    "loss_fn = nn.NLLLoss()\n",
    "logger = Logger(\"vgg_log_augmentation-early_stopping.txt.no_resizing\")"
   ]
  },
  {
   "cell_type": "code",
   "execution_count": 7,
   "id": "forced-prisoner",
   "metadata": {},
   "outputs": [
    {
     "name": "stdout",
     "output_type": "stream",
     "text": [
      "100%|██████████| 313/313 [00:38<00:00,  8.19it/s, loss=2.1387]\n",
      "Epoch 1 | Training loss: 2.1387, validation accuracy: 0.2612, validation loss: 1.8824\n",
      "100%|██████████| 313/313 [00:40<00:00,  7.65it/s, loss=1.7732]\n",
      "Epoch 2 | Training loss: 1.7732, validation accuracy: 0.3634, validation loss: 1.6652\n",
      "100%|██████████| 313/313 [00:40<00:00,  7.65it/s, loss=1.5721]\n",
      "Epoch 3 | Training loss: 1.5721, validation accuracy: 0.4611, validation loss: 1.4284\n",
      "100%|██████████| 313/313 [00:41<00:00,  7.57it/s, loss=1.4057]\n",
      "Epoch 4 | Training loss: 1.4057, validation accuracy: 0.5345, validation loss: 1.2588\n",
      "100%|██████████| 313/313 [00:41<00:00,  7.58it/s, loss=1.2655]\n",
      "Epoch 5 | Training loss: 1.2655, validation accuracy: 0.6087, validation loss: 1.0851\n",
      "100%|██████████| 313/313 [00:41<00:00,  7.53it/s, loss=1.1579]\n",
      "Epoch 6 | Training loss: 1.1579, validation accuracy: 0.6664, validation loss: 0.9315\n",
      "100%|██████████| 313/313 [00:41<00:00,  7.53it/s, loss=1.0544]\n",
      "Epoch 7 | Training loss: 1.0544, validation accuracy: 0.6706, validation loss: 0.9293\n",
      "100%|██████████| 313/313 [00:41<00:00,  7.50it/s, loss=0.9770]\n",
      "Epoch 8 | Training loss: 0.9770, validation accuracy: 0.6920, validation loss: 0.8745\n",
      "100%|██████████| 313/313 [00:41<00:00,  7.50it/s, loss=0.9114]\n",
      "Epoch 9 | Training loss: 0.9114, validation accuracy: 0.7101, validation loss: 0.8358\n",
      "100%|██████████| 313/313 [00:41<00:00,  7.49it/s, loss=0.8537]\n",
      "Epoch 10 | Training loss: 0.8537, validation accuracy: 0.7303, validation loss: 0.7760\n",
      "100%|██████████| 313/313 [00:41<00:00,  7.48it/s, loss=0.7979]\n",
      "Epoch 11 | Training loss: 0.7979, validation accuracy: 0.7532, validation loss: 0.7205\n",
      "100%|██████████| 313/313 [00:41<00:00,  7.48it/s, loss=0.7437]\n",
      "Epoch 12 | Training loss: 0.7437, validation accuracy: 0.7692, validation loss: 0.6886\n",
      "100%|██████████| 313/313 [00:41<00:00,  7.46it/s, loss=0.7013]\n",
      "Epoch 13 | Training loss: 0.7013, validation accuracy: 0.7832, validation loss: 0.6467\n",
      "100%|██████████| 313/313 [00:41<00:00,  7.48it/s, loss=0.6631]\n",
      "Epoch 14 | Training loss: 0.6631, validation accuracy: 0.7902, validation loss: 0.6194\n",
      "100%|██████████| 313/313 [00:41<00:00,  7.48it/s, loss=0.6358]\n",
      "Epoch 15 | Training loss: 0.6358, validation accuracy: 0.7770, validation loss: 0.6685\n",
      "100%|██████████| 313/313 [00:41<00:00,  7.50it/s, loss=0.6029]\n",
      "Epoch 16 | Training loss: 0.6029, validation accuracy: 0.8128, validation loss: 0.5529\n",
      "100%|██████████| 313/313 [00:41<00:00,  7.47it/s, loss=0.5679]\n",
      "Epoch 17 | Training loss: 0.5679, validation accuracy: 0.8079, validation loss: 0.5731\n",
      "100%|██████████| 313/313 [00:41<00:00,  7.49it/s, loss=0.5418]\n",
      "Epoch 18 | Training loss: 0.5418, validation accuracy: 0.8145, validation loss: 0.5546\n",
      "100%|██████████| 313/313 [00:41<00:00,  7.48it/s, loss=0.5233]\n",
      "Epoch 19 | Training loss: 0.5233, validation accuracy: 0.8036, validation loss: 0.6059\n",
      "100%|██████████| 313/313 [00:41<00:00,  7.48it/s, loss=0.4949]\n",
      "Epoch 20 | Training loss: 0.4949, validation accuracy: 0.8279, validation loss: 0.5189\n",
      "100%|██████████| 313/313 [00:41<00:00,  7.49it/s, loss=0.4713]\n",
      "Epoch 21 | Training loss: 0.4713, validation accuracy: 0.8300, validation loss: 0.5331\n",
      "100%|██████████| 313/313 [00:41<00:00,  7.46it/s, loss=0.4459]\n",
      "Epoch 22 | Training loss: 0.4459, validation accuracy: 0.8279, validation loss: 0.5249\n",
      "100%|██████████| 313/313 [00:41<00:00,  7.48it/s, loss=0.4304]\n",
      "Epoch 23 | Training loss: 0.4304, validation accuracy: 0.8248, validation loss: 0.5339\n",
      "100%|██████████| 313/313 [00:41<00:00,  7.47it/s, loss=0.4098]\n",
      "Epoch 24 | Training loss: 0.4098, validation accuracy: 0.8345, validation loss: 0.5065\n",
      "100%|██████████| 313/313 [00:41<00:00,  7.48it/s, loss=0.3967]\n",
      "Epoch 25 | Training loss: 0.3967, validation accuracy: 0.8316, validation loss: 0.5041\n",
      "100%|██████████| 313/313 [00:41<00:00,  7.56it/s, loss=0.3819]\n",
      "Epoch 26 | Training loss: 0.3819, validation accuracy: 0.8434, validation loss: 0.4898\n",
      "100%|██████████| 313/313 [00:41<00:00,  7.52it/s, loss=0.3696]\n",
      "Epoch 27 | Training loss: 0.3696, validation accuracy: 0.8380, validation loss: 0.4837\n",
      "100%|██████████| 313/313 [00:41<00:00,  7.56it/s, loss=0.3551]\n",
      "Epoch 28 | Training loss: 0.3551, validation accuracy: 0.8401, validation loss: 0.5065\n",
      "100%|██████████| 313/313 [00:41<00:00,  7.54it/s, loss=0.3451]\n",
      "Epoch 29 | Training loss: 0.3451, validation accuracy: 0.8389, validation loss: 0.5164\n",
      "100%|██████████| 313/313 [00:41<00:00,  7.50it/s, loss=0.3255]\n",
      "Epoch 30 | Training loss: 0.3255, validation accuracy: 0.8462, validation loss: 0.4775\n",
      "100%|██████████| 313/313 [00:41<00:00,  7.55it/s, loss=0.3163]\n",
      "Epoch 31 | Training loss: 0.3163, validation accuracy: 0.8460, validation loss: 0.4936\n",
      "100%|██████████| 313/313 [00:41<00:00,  7.47it/s, loss=0.3021]\n",
      "Epoch 32 | Training loss: 0.3021, validation accuracy: 0.8526, validation loss: 0.4625\n",
      "100%|██████████| 313/313 [00:41<00:00,  7.55it/s, loss=0.2752]\n",
      "Epoch 33 | Training loss: 0.2752, validation accuracy: 0.8435, validation loss: 0.5254\n",
      "100%|██████████| 313/313 [00:41<00:00,  7.52it/s, loss=0.2757]\n",
      "Epoch 34 | Training loss: 0.2757, validation accuracy: 0.8466, validation loss: 0.4907\n",
      "100%|██████████| 313/313 [00:41<00:00,  7.58it/s, loss=0.2673]\n",
      "Epoch 35 | Training loss: 0.2673, validation accuracy: 0.8494, validation loss: 0.4930\n",
      "100%|██████████| 313/313 [00:41<00:00,  7.56it/s, loss=0.2518]\n",
      "Epoch 36 | Training loss: 0.2518, validation accuracy: 0.8497, validation loss: 0.5184\n",
      "100%|██████████| 313/313 [00:41<00:00,  7.55it/s, loss=0.2448]\n",
      "Epoch 37 | Training loss: 0.2448, validation accuracy: 0.8456, validation loss: 0.5184\n",
      "100%|██████████| 313/313 [00:41<00:00,  7.54it/s, loss=0.2395]\n",
      "Epoch 38 | Training loss: 0.2395, validation accuracy: 0.8528, validation loss: 0.4877\n",
      "100%|██████████| 313/313 [00:41<00:00,  7.54it/s, loss=0.2389]\n",
      "Epoch 39 | Training loss: 0.2389, validation accuracy: 0.8568, validation loss: 0.4802\n",
      "100%|██████████| 313/313 [00:41<00:00,  7.54it/s, loss=0.2230]\n",
      "Epoch 40 | Training loss: 0.2230, validation accuracy: 0.8548, validation loss: 0.4746\n",
      "100%|██████████| 313/313 [00:41<00:00,  7.51it/s, loss=0.2197]\n",
      "Epoch 41 | Training loss: 0.2197, validation accuracy: 0.8506, validation loss: 0.4794\n",
      "100%|██████████| 313/313 [00:41<00:00,  7.54it/s, loss=0.2055]\n",
      "Epoch 42 | Training loss: 0.2055, validation accuracy: 0.8592, validation loss: 0.4711\n",
      "100%|██████████| 313/313 [00:41<00:00,  7.57it/s, loss=0.2046]\n",
      "Epoch 43 | Training loss: 0.2046, validation accuracy: 0.8485, validation loss: 0.5304\n",
      "100%|██████████| 313/313 [00:40<00:00,  7.67it/s, loss=0.1994]\n",
      "Epoch 44 | Training loss: 0.1994, validation accuracy: 0.8531, validation loss: 0.5036\n",
      "100%|██████████| 313/313 [00:40<00:00,  7.70it/s, loss=0.1865]\n",
      "Epoch 45 | Training loss: 0.1865, validation accuracy: 0.8605, validation loss: 0.4941\n",
      "100%|██████████| 313/313 [00:40<00:00,  7.75it/s, loss=0.1807]\n",
      "Epoch 46 | Training loss: 0.1807, validation accuracy: 0.8555, validation loss: 0.5195\n",
      "100%|██████████| 313/313 [00:40<00:00,  7.77it/s, loss=0.1731]\n",
      "Epoch 47 | Training loss: 0.1731, validation accuracy: 0.8526, validation loss: 0.5124\n"
     ]
    }
   ],
   "source": [
    "max_epochs = 300\n",
    "early_stopping = EarlyStopping(15)\n",
    "\n",
    "for epoch in range(max_epochs):\n",
    "    train_loss = trainer.train_epoch(model, optimizer, dl[\"train\"])\n",
    "    optimizer.finish_epoch()\n",
    "    val_acc, val_loss = trainer.validation(model, dl[\"valid\"])\n",
    "    logger.log(\"Epoch\", epoch+1, \"|\", \n",
    "          f\"Training loss: {train_loss:.4f}, validation accuracy: {val_acc:.4f}, validation loss: {val_loss:.4f}\")\n",
    "    if early_stopping.should_stop(val_loss):\n",
    "        break"
   ]
  },
  {
   "cell_type": "code",
   "execution_count": 8,
   "id": "visible-curtis",
   "metadata": {},
   "outputs": [
    {
     "name": "stdout",
     "output_type": "stream",
     "text": [
      "Train: (0.943925, 0.1638738555431366)\n",
      "Valid: (0.8526, 0.5123599355697632)\n"
     ]
    }
   ],
   "source": [
    "train_score = trainer.validation(model, dl[\"train\"])\n",
    "valid_score = trainer.validation(model, dl[\"valid\"])\n",
    "logger.log(\"Train:\", train_score)\n",
    "logger.log(\"Valid:\", valid_score)"
   ]
  },
  {
   "cell_type": "code",
   "execution_count": 9,
   "id": "together-community",
   "metadata": {},
   "outputs": [],
   "source": [
    "model_acc = deepcopy(model)\n",
    "optimizer.accelerate()\n",
    "optimizer.store_parameters([model_acc.parameters()])"
   ]
  },
  {
   "cell_type": "code",
   "execution_count": 11,
   "id": "rapid-trustee",
   "metadata": {
    "tags": []
   },
   "outputs": [
    {
     "name": "stdout",
     "output_type": "stream",
     "text": [
      "Train: (0.9749, 0.08244056740403176)\n",
      "Valid: (0.8773, 0.4064589352607727)\n"
     ]
    },
    {
     "data": {
      "text/plain": [
       "VGG(\n",
       "  (features): Sequential(\n",
       "    (0): Conv2d(3, 64, kernel_size=(3, 3), stride=(1, 1), padding=(1, 1))\n",
       "    (1): ReLU(inplace=True)\n",
       "    (2): Conv2d(64, 64, kernel_size=(3, 3), stride=(1, 1), padding=(1, 1))\n",
       "    (3): ReLU(inplace=True)\n",
       "    (4): MaxPool2d(kernel_size=2, stride=2, padding=0, dilation=1, ceil_mode=False)\n",
       "    (5): Conv2d(64, 128, kernel_size=(3, 3), stride=(1, 1), padding=(1, 1))\n",
       "    (6): ReLU(inplace=True)\n",
       "    (7): Conv2d(128, 128, kernel_size=(3, 3), stride=(1, 1), padding=(1, 1))\n",
       "    (8): ReLU(inplace=True)\n",
       "    (9): MaxPool2d(kernel_size=2, stride=2, padding=0, dilation=1, ceil_mode=False)\n",
       "    (10): Conv2d(128, 256, kernel_size=(3, 3), stride=(1, 1), padding=(1, 1))\n",
       "    (11): ReLU(inplace=True)\n",
       "    (12): Conv2d(256, 256, kernel_size=(3, 3), stride=(1, 1), padding=(1, 1))\n",
       "    (13): ReLU(inplace=True)\n",
       "    (14): Conv2d(256, 256, kernel_size=(3, 3), stride=(1, 1), padding=(1, 1))\n",
       "    (15): ReLU(inplace=True)\n",
       "    (16): MaxPool2d(kernel_size=2, stride=2, padding=0, dilation=1, ceil_mode=False)\n",
       "    (17): Conv2d(256, 512, kernel_size=(3, 3), stride=(1, 1), padding=(1, 1))\n",
       "    (18): ReLU(inplace=True)\n",
       "    (19): Conv2d(512, 512, kernel_size=(3, 3), stride=(1, 1), padding=(1, 1))\n",
       "    (20): ReLU(inplace=True)\n",
       "    (21): Conv2d(512, 512, kernel_size=(3, 3), stride=(1, 1), padding=(1, 1))\n",
       "    (22): ReLU(inplace=True)\n",
       "    (23): MaxPool2d(kernel_size=2, stride=2, padding=0, dilation=1, ceil_mode=False)\n",
       "    (24): Conv2d(512, 512, kernel_size=(3, 3), stride=(1, 1), padding=(1, 1))\n",
       "    (25): ReLU(inplace=True)\n",
       "    (26): Conv2d(512, 512, kernel_size=(3, 3), stride=(1, 1), padding=(1, 1))\n",
       "    (27): ReLU(inplace=True)\n",
       "    (28): Conv2d(512, 512, kernel_size=(3, 3), stride=(1, 1), padding=(1, 1))\n",
       "    (29): ReLU(inplace=True)\n",
       "    (30): MaxPool2d(kernel_size=2, stride=2, padding=0, dilation=1, ceil_mode=False)\n",
       "  )\n",
       "  (avgpool): AdaptiveAvgPool2d(output_size=(7, 7))\n",
       "  (classifier): Sequential(\n",
       "    (0): Linear(in_features=25088, out_features=4096, bias=True)\n",
       "    (1): ReLU(inplace=True)\n",
       "    (2): Dropout(p=0.5, inplace=False)\n",
       "    (3): Linear(in_features=4096, out_features=4096, bias=True)\n",
       "    (4): ReLU(inplace=True)\n",
       "    (5): Dropout(p=0.5, inplace=False)\n",
       "    (6): Linear(in_features=4096, out_features=10, bias=True)\n",
       "    (7): LogSoftmax(dim=-1)\n",
       "  )\n",
       ")"
      ]
     },
     "execution_count": 11,
     "metadata": {},
     "output_type": "execute_result"
    }
   ],
   "source": [
    "model_acc.to(trainer.device)\n",
    "train_score = trainer.validation(model_acc, dl[\"train\"])\n",
    "valid_score = trainer.validation(model_acc, dl[\"valid\"])\n",
    "logger.log(\"Train:\", train_score)\n",
    "logger.log(\"Valid:\", valid_score)\n",
    "model_acc.cpu()"
   ]
  },
  {
   "cell_type": "code",
   "execution_count": 12,
   "id": "deadly-charleston",
   "metadata": {},
   "outputs": [],
   "source": [
    "optimizer.param_groups[0][\"lr\"] = 1e-3"
   ]
  },
  {
   "cell_type": "code",
   "execution_count": 13,
   "id": "unable-cologne",
   "metadata": {
    "tags": []
   },
   "outputs": [
    {
     "name": "stdout",
     "output_type": "stream",
     "text": [
      "100%|██████████| 313/313 [00:40<00:00,  7.77it/s, loss=0.1085]\n",
      "Epoch 1 | Training loss: 0.1085, validation accuracy: 0.8704, validation loss: 0.4927\n",
      "100%|██████████| 313/313 [00:40<00:00,  7.64it/s, loss=0.0811]\n",
      "Epoch 2 | Training loss: 0.0811, validation accuracy: 0.8731, validation loss: 0.5133\n",
      "100%|██████████| 313/313 [00:40<00:00,  7.68it/s, loss=0.0739]\n",
      "Epoch 3 | Training loss: 0.0739, validation accuracy: 0.8733, validation loss: 0.5249\n",
      "100%|██████████| 313/313 [00:40<00:00,  7.71it/s, loss=0.0704]\n",
      "Epoch 4 | Training loss: 0.0704, validation accuracy: 0.8736, validation loss: 0.5259\n",
      "100%|██████████| 313/313 [00:40<00:00,  7.75it/s, loss=0.0669]\n",
      "Epoch 5 | Training loss: 0.0669, validation accuracy: 0.8745, validation loss: 0.5268\n",
      "100%|██████████| 313/313 [00:40<00:00,  7.74it/s, loss=0.0638]\n",
      "Epoch 6 | Training loss: 0.0638, validation accuracy: 0.8763, validation loss: 0.5392\n",
      "100%|██████████| 313/313 [00:40<00:00,  7.77it/s, loss=0.0605]\n",
      "Epoch 7 | Training loss: 0.0605, validation accuracy: 0.8741, validation loss: 0.5449\n",
      "100%|██████████| 313/313 [00:40<00:00,  7.78it/s, loss=0.0594]\n",
      "Epoch 8 | Training loss: 0.0594, validation accuracy: 0.8757, validation loss: 0.5416\n",
      "100%|██████████| 313/313 [00:40<00:00,  7.79it/s, loss=0.0570]\n",
      "Epoch 9 | Training loss: 0.0570, validation accuracy: 0.8745, validation loss: 0.5598\n",
      "100%|██████████| 313/313 [00:40<00:00,  7.77it/s, loss=0.0550]\n",
      "Epoch 10 | Training loss: 0.0550, validation accuracy: 0.8749, validation loss: 0.5633\n",
      "100%|██████████| 313/313 [00:40<00:00,  7.77it/s, loss=0.0553]\n",
      "Epoch 11 | Training loss: 0.0553, validation accuracy: 0.8753, validation loss: 0.5424\n",
      "100%|██████████| 313/313 [00:40<00:00,  7.70it/s, loss=0.0529]\n",
      "Epoch 12 | Training loss: 0.0529, validation accuracy: 0.8746, validation loss: 0.5566\n",
      "100%|██████████| 313/313 [00:40<00:00,  7.80it/s, loss=0.0514]\n",
      "Epoch 13 | Training loss: 0.0514, validation accuracy: 0.8757, validation loss: 0.5590\n",
      "100%|██████████| 313/313 [00:40<00:00,  7.79it/s, loss=0.0499]\n",
      "Epoch 14 | Training loss: 0.0499, validation accuracy: 0.8748, validation loss: 0.5628\n",
      "100%|██████████| 313/313 [00:40<00:00,  7.78it/s, loss=0.0487]\n",
      "Epoch 15 | Training loss: 0.0487, validation accuracy: 0.8744, validation loss: 0.5638\n",
      "100%|██████████| 313/313 [00:40<00:00,  7.81it/s, loss=0.0478]\n",
      "Epoch 16 | Training loss: 0.0478, validation accuracy: 0.8749, validation loss: 0.5791\n"
     ]
    }
   ],
   "source": [
    "max_epochs = 300\n",
    "early_stopping = EarlyStopping(15)\n",
    "\n",
    "for epoch in range(max_epochs):\n",
    "    train_loss = trainer.train_epoch(model, optimizer, dl[\"train\"])\n",
    "    optimizer.finish_epoch()\n",
    "    val_acc, val_loss = trainer.validation(model, dl[\"valid\"])\n",
    "    logger.log(\"Epoch\", epoch+1, \"|\", \n",
    "          f\"Training loss: {train_loss:.4f}, validation accuracy: {val_acc:.4f}, validation loss: {val_loss:.4f}\")\n",
    "    if early_stopping.should_stop(val_loss):\n",
    "        break"
   ]
  },
  {
   "cell_type": "code",
   "execution_count": 14,
   "id": "7c37dca0-e109-4b8d-871c-832d506e97fb",
   "metadata": {},
   "outputs": [
    {
     "name": "stdout",
     "output_type": "stream",
     "text": [
      "Train: (0.984375, 0.045997010950744155)\n",
      "Valid: (0.8749, 0.5790577341079712)\n"
     ]
    }
   ],
   "source": [
    "train_score = trainer.validation(model, dl[\"train\"])\n",
    "valid_score = trainer.validation(model, dl[\"valid\"])\n",
    "logger.log(\"Train:\", train_score)\n",
    "logger.log(\"Valid:\", valid_score)"
   ]
  },
  {
   "cell_type": "code",
   "execution_count": 15,
   "id": "cbaa00d4-af71-443e-8bc7-94c801047441",
   "metadata": {},
   "outputs": [],
   "source": [
    "model_acc = deepcopy(model)\n",
    "optimizer.accelerate()\n",
    "optimizer.store_parameters([model_acc.parameters()])"
   ]
  },
  {
   "cell_type": "code",
   "execution_count": 16,
   "id": "87ce324c-3893-4e25-bf02-72d83b208d70",
   "metadata": {},
   "outputs": [
    {
     "name": "stdout",
     "output_type": "stream",
     "text": [
      "Train: (0.98495, 0.0459450534760952)\n",
      "Valid: (0.8763, 0.5519839563369751)\n"
     ]
    },
    {
     "data": {
      "text/plain": [
       "VGG(\n",
       "  (features): Sequential(\n",
       "    (0): Conv2d(3, 64, kernel_size=(3, 3), stride=(1, 1), padding=(1, 1))\n",
       "    (1): ReLU(inplace=True)\n",
       "    (2): Conv2d(64, 64, kernel_size=(3, 3), stride=(1, 1), padding=(1, 1))\n",
       "    (3): ReLU(inplace=True)\n",
       "    (4): MaxPool2d(kernel_size=2, stride=2, padding=0, dilation=1, ceil_mode=False)\n",
       "    (5): Conv2d(64, 128, kernel_size=(3, 3), stride=(1, 1), padding=(1, 1))\n",
       "    (6): ReLU(inplace=True)\n",
       "    (7): Conv2d(128, 128, kernel_size=(3, 3), stride=(1, 1), padding=(1, 1))\n",
       "    (8): ReLU(inplace=True)\n",
       "    (9): MaxPool2d(kernel_size=2, stride=2, padding=0, dilation=1, ceil_mode=False)\n",
       "    (10): Conv2d(128, 256, kernel_size=(3, 3), stride=(1, 1), padding=(1, 1))\n",
       "    (11): ReLU(inplace=True)\n",
       "    (12): Conv2d(256, 256, kernel_size=(3, 3), stride=(1, 1), padding=(1, 1))\n",
       "    (13): ReLU(inplace=True)\n",
       "    (14): Conv2d(256, 256, kernel_size=(3, 3), stride=(1, 1), padding=(1, 1))\n",
       "    (15): ReLU(inplace=True)\n",
       "    (16): MaxPool2d(kernel_size=2, stride=2, padding=0, dilation=1, ceil_mode=False)\n",
       "    (17): Conv2d(256, 512, kernel_size=(3, 3), stride=(1, 1), padding=(1, 1))\n",
       "    (18): ReLU(inplace=True)\n",
       "    (19): Conv2d(512, 512, kernel_size=(3, 3), stride=(1, 1), padding=(1, 1))\n",
       "    (20): ReLU(inplace=True)\n",
       "    (21): Conv2d(512, 512, kernel_size=(3, 3), stride=(1, 1), padding=(1, 1))\n",
       "    (22): ReLU(inplace=True)\n",
       "    (23): MaxPool2d(kernel_size=2, stride=2, padding=0, dilation=1, ceil_mode=False)\n",
       "    (24): Conv2d(512, 512, kernel_size=(3, 3), stride=(1, 1), padding=(1, 1))\n",
       "    (25): ReLU(inplace=True)\n",
       "    (26): Conv2d(512, 512, kernel_size=(3, 3), stride=(1, 1), padding=(1, 1))\n",
       "    (27): ReLU(inplace=True)\n",
       "    (28): Conv2d(512, 512, kernel_size=(3, 3), stride=(1, 1), padding=(1, 1))\n",
       "    (29): ReLU(inplace=True)\n",
       "    (30): MaxPool2d(kernel_size=2, stride=2, padding=0, dilation=1, ceil_mode=False)\n",
       "  )\n",
       "  (avgpool): AdaptiveAvgPool2d(output_size=(7, 7))\n",
       "  (classifier): Sequential(\n",
       "    (0): Linear(in_features=25088, out_features=4096, bias=True)\n",
       "    (1): ReLU(inplace=True)\n",
       "    (2): Dropout(p=0.5, inplace=False)\n",
       "    (3): Linear(in_features=4096, out_features=4096, bias=True)\n",
       "    (4): ReLU(inplace=True)\n",
       "    (5): Dropout(p=0.5, inplace=False)\n",
       "    (6): Linear(in_features=4096, out_features=10, bias=True)\n",
       "    (7): LogSoftmax(dim=-1)\n",
       "  )\n",
       ")"
      ]
     },
     "execution_count": 16,
     "metadata": {},
     "output_type": "execute_result"
    }
   ],
   "source": [
    "model_acc.to(trainer.device)\n",
    "train_score = trainer.validation(model_acc, dl[\"train\"])\n",
    "valid_score = trainer.validation(model_acc, dl[\"valid\"])\n",
    "logger.log(\"Train:\", train_score)\n",
    "logger.log(\"Valid:\", valid_score)\n",
    "model_acc.cpu()"
   ]
  },
  {
   "cell_type": "code",
   "execution_count": 17,
   "id": "df5e577c-16f5-4523-828e-8094692d5c3c",
   "metadata": {},
   "outputs": [],
   "source": [
    "optimizer.param_groups[0][\"lr\"] = 1e-4"
   ]
  },
  {
   "cell_type": "code",
   "execution_count": 18,
   "id": "02345e50-f2df-4713-b93f-564cedbbf3f2",
   "metadata": {},
   "outputs": [
    {
     "name": "stdout",
     "output_type": "stream",
     "text": [
      "100%|██████████| 313/313 [00:40<00:00,  7.72it/s, loss=0.0471]\n",
      "Epoch 1 | Training loss: 0.0471, validation accuracy: 0.8744, validation loss: 0.5774\n",
      "100%|██████████| 313/313 [00:40<00:00,  7.71it/s, loss=0.0422]\n",
      "Epoch 2 | Training loss: 0.0422, validation accuracy: 0.8747, validation loss: 0.5780\n",
      "100%|██████████| 313/313 [00:40<00:00,  7.75it/s, loss=0.0441]\n",
      "Epoch 3 | Training loss: 0.0441, validation accuracy: 0.8752, validation loss: 0.5766\n",
      "100%|██████████| 313/313 [00:40<00:00,  7.75it/s, loss=0.0448]\n",
      "Epoch 4 | Training loss: 0.0448, validation accuracy: 0.8755, validation loss: 0.5780\n",
      "100%|██████████| 313/313 [00:40<00:00,  7.77it/s, loss=0.0414]\n",
      "Epoch 5 | Training loss: 0.0414, validation accuracy: 0.8757, validation loss: 0.5777\n",
      "100%|██████████| 313/313 [00:40<00:00,  7.75it/s, loss=0.0414]\n",
      "Epoch 6 | Training loss: 0.0414, validation accuracy: 0.8753, validation loss: 0.5788\n",
      "100%|██████████| 313/313 [00:40<00:00,  7.79it/s, loss=0.0419]\n",
      "Epoch 7 | Training loss: 0.0419, validation accuracy: 0.8758, validation loss: 0.5783\n",
      "100%|██████████| 313/313 [00:40<00:00,  7.79it/s, loss=0.0424]\n",
      "Epoch 8 | Training loss: 0.0424, validation accuracy: 0.8751, validation loss: 0.5821\n",
      "100%|██████████| 313/313 [00:40<00:00,  7.77it/s, loss=0.0427]\n",
      "Epoch 9 | Training loss: 0.0427, validation accuracy: 0.8750, validation loss: 0.5810\n",
      "100%|██████████| 313/313 [00:40<00:00,  7.77it/s, loss=0.0425]\n",
      "Epoch 10 | Training loss: 0.0425, validation accuracy: 0.8756, validation loss: 0.5782\n",
      "100%|██████████| 313/313 [00:40<00:00,  7.79it/s, loss=0.0414]\n",
      "Epoch 11 | Training loss: 0.0414, validation accuracy: 0.8748, validation loss: 0.5821\n",
      "100%|██████████| 313/313 [00:40<00:00,  7.81it/s, loss=0.0404]\n",
      "Epoch 12 | Training loss: 0.0404, validation accuracy: 0.8748, validation loss: 0.5811\n",
      "100%|██████████| 313/313 [00:40<00:00,  7.82it/s, loss=0.0414]\n",
      "Epoch 13 | Training loss: 0.0414, validation accuracy: 0.8758, validation loss: 0.5816\n",
      "100%|██████████| 313/313 [00:40<00:00,  7.80it/s, loss=0.0383]\n",
      "Epoch 14 | Training loss: 0.0383, validation accuracy: 0.8752, validation loss: 0.5813\n",
      "100%|██████████| 313/313 [00:40<00:00,  7.82it/s, loss=0.0419]\n",
      "Epoch 15 | Training loss: 0.0419, validation accuracy: 0.8761, validation loss: 0.5761\n",
      "100%|██████████| 313/313 [00:40<00:00,  7.81it/s, loss=0.0442]\n",
      "Epoch 16 | Training loss: 0.0442, validation accuracy: 0.8757, validation loss: 0.5787\n",
      "100%|██████████| 313/313 [00:40<00:00,  7.82it/s, loss=0.0421]\n",
      "Epoch 17 | Training loss: 0.0421, validation accuracy: 0.8761, validation loss: 0.5776\n",
      "100%|██████████| 313/313 [00:40<00:00,  7.82it/s, loss=0.0399]\n",
      "Epoch 18 | Training loss: 0.0399, validation accuracy: 0.8754, validation loss: 0.5827\n",
      "100%|██████████| 313/313 [00:40<00:00,  7.80it/s, loss=0.0415]\n",
      "Epoch 19 | Training loss: 0.0415, validation accuracy: 0.8759, validation loss: 0.5812\n",
      "100%|██████████| 313/313 [00:40<00:00,  7.81it/s, loss=0.0418]\n",
      "Epoch 20 | Training loss: 0.0418, validation accuracy: 0.8757, validation loss: 0.5814\n",
      "100%|██████████| 313/313 [00:40<00:00,  7.81it/s, loss=0.0390]\n",
      "Epoch 21 | Training loss: 0.0390, validation accuracy: 0.8767, validation loss: 0.5801\n",
      "100%|██████████| 313/313 [00:40<00:00,  7.81it/s, loss=0.0410]\n",
      "Epoch 22 | Training loss: 0.0410, validation accuracy: 0.8761, validation loss: 0.5783\n",
      "100%|██████████| 313/313 [00:40<00:00,  7.80it/s, loss=0.0397]\n",
      "Epoch 23 | Training loss: 0.0397, validation accuracy: 0.8770, validation loss: 0.5773\n",
      "100%|██████████| 313/313 [00:40<00:00,  7.81it/s, loss=0.0372]\n",
      "Epoch 24 | Training loss: 0.0372, validation accuracy: 0.8755, validation loss: 0.5804\n",
      "100%|██████████| 313/313 [00:40<00:00,  7.81it/s, loss=0.0389]\n",
      "Epoch 25 | Training loss: 0.0389, validation accuracy: 0.8762, validation loss: 0.5794\n",
      "100%|██████████| 313/313 [00:40<00:00,  7.80it/s, loss=0.0377]\n",
      "Epoch 26 | Training loss: 0.0377, validation accuracy: 0.8759, validation loss: 0.5841\n",
      "100%|██████████| 313/313 [00:40<00:00,  7.80it/s, loss=0.0407]\n",
      "Epoch 27 | Training loss: 0.0407, validation accuracy: 0.8756, validation loss: 0.5849\n",
      "100%|██████████| 313/313 [00:40<00:00,  7.79it/s, loss=0.0392]\n",
      "Epoch 28 | Training loss: 0.0392, validation accuracy: 0.8767, validation loss: 0.5839\n",
      "100%|██████████| 313/313 [00:40<00:00,  7.79it/s, loss=0.0383]\n",
      "Epoch 29 | Training loss: 0.0383, validation accuracy: 0.8761, validation loss: 0.5840\n",
      "100%|██████████| 313/313 [00:40<00:00,  7.82it/s, loss=0.0406]\n",
      "Epoch 30 | Training loss: 0.0406, validation accuracy: 0.8763, validation loss: 0.5884\n"
     ]
    }
   ],
   "source": [
    "max_epochs = 300\n",
    "early_stopping = EarlyStopping(15)\n",
    "\n",
    "for epoch in range(max_epochs):\n",
    "    train_loss = trainer.train_epoch(model, optimizer, dl[\"train\"])\n",
    "    optimizer.finish_epoch()\n",
    "    val_acc, val_loss = trainer.validation(model, dl[\"valid\"])\n",
    "    logger.log(\"Epoch\", epoch+1, \"|\", \n",
    "          f\"Training loss: {train_loss:.4f}, validation accuracy: {val_acc:.4f}, validation loss: {val_loss:.4f}\")\n",
    "    if early_stopping.should_stop(val_loss):\n",
    "        break"
   ]
  },
  {
   "cell_type": "code",
   "execution_count": 19,
   "id": "baead0d6-5c6f-4941-bd69-a56fea40dab1",
   "metadata": {},
   "outputs": [
    {
     "name": "stdout",
     "output_type": "stream",
     "text": [
      "Train: (0.987675, 0.03698642331808805)\n",
      "Valid: (0.8763, 0.5884119760513306)\n"
     ]
    }
   ],
   "source": [
    "train_score = trainer.validation(model, dl[\"train\"])\n",
    "valid_score = trainer.validation(model, dl[\"valid\"])\n",
    "logger.log(\"Train:\", train_score)\n",
    "logger.log(\"Valid:\", valid_score)"
   ]
  },
  {
   "cell_type": "code",
   "execution_count": 20,
   "id": "6ad4379e-5c55-4d8f-ac1c-b02184a5fa17",
   "metadata": {},
   "outputs": [],
   "source": [
    "model_acc = deepcopy(model)\n",
    "optimizer.accelerate()\n",
    "optimizer.store_parameters([model_acc.parameters()])"
   ]
  },
  {
   "cell_type": "code",
   "execution_count": 21,
   "id": "527ec57b-b99f-4825-b88f-0760f435c6a5",
   "metadata": {},
   "outputs": [
    {
     "name": "stdout",
     "output_type": "stream",
     "text": [
      "Train: (0.9879, 0.036089356358349325)\n",
      "Valid: (0.8759, 0.5817425794601441)\n"
     ]
    },
    {
     "data": {
      "text/plain": [
       "VGG(\n",
       "  (features): Sequential(\n",
       "    (0): Conv2d(3, 64, kernel_size=(3, 3), stride=(1, 1), padding=(1, 1))\n",
       "    (1): ReLU(inplace=True)\n",
       "    (2): Conv2d(64, 64, kernel_size=(3, 3), stride=(1, 1), padding=(1, 1))\n",
       "    (3): ReLU(inplace=True)\n",
       "    (4): MaxPool2d(kernel_size=2, stride=2, padding=0, dilation=1, ceil_mode=False)\n",
       "    (5): Conv2d(64, 128, kernel_size=(3, 3), stride=(1, 1), padding=(1, 1))\n",
       "    (6): ReLU(inplace=True)\n",
       "    (7): Conv2d(128, 128, kernel_size=(3, 3), stride=(1, 1), padding=(1, 1))\n",
       "    (8): ReLU(inplace=True)\n",
       "    (9): MaxPool2d(kernel_size=2, stride=2, padding=0, dilation=1, ceil_mode=False)\n",
       "    (10): Conv2d(128, 256, kernel_size=(3, 3), stride=(1, 1), padding=(1, 1))\n",
       "    (11): ReLU(inplace=True)\n",
       "    (12): Conv2d(256, 256, kernel_size=(3, 3), stride=(1, 1), padding=(1, 1))\n",
       "    (13): ReLU(inplace=True)\n",
       "    (14): Conv2d(256, 256, kernel_size=(3, 3), stride=(1, 1), padding=(1, 1))\n",
       "    (15): ReLU(inplace=True)\n",
       "    (16): MaxPool2d(kernel_size=2, stride=2, padding=0, dilation=1, ceil_mode=False)\n",
       "    (17): Conv2d(256, 512, kernel_size=(3, 3), stride=(1, 1), padding=(1, 1))\n",
       "    (18): ReLU(inplace=True)\n",
       "    (19): Conv2d(512, 512, kernel_size=(3, 3), stride=(1, 1), padding=(1, 1))\n",
       "    (20): ReLU(inplace=True)\n",
       "    (21): Conv2d(512, 512, kernel_size=(3, 3), stride=(1, 1), padding=(1, 1))\n",
       "    (22): ReLU(inplace=True)\n",
       "    (23): MaxPool2d(kernel_size=2, stride=2, padding=0, dilation=1, ceil_mode=False)\n",
       "    (24): Conv2d(512, 512, kernel_size=(3, 3), stride=(1, 1), padding=(1, 1))\n",
       "    (25): ReLU(inplace=True)\n",
       "    (26): Conv2d(512, 512, kernel_size=(3, 3), stride=(1, 1), padding=(1, 1))\n",
       "    (27): ReLU(inplace=True)\n",
       "    (28): Conv2d(512, 512, kernel_size=(3, 3), stride=(1, 1), padding=(1, 1))\n",
       "    (29): ReLU(inplace=True)\n",
       "    (30): MaxPool2d(kernel_size=2, stride=2, padding=0, dilation=1, ceil_mode=False)\n",
       "  )\n",
       "  (avgpool): AdaptiveAvgPool2d(output_size=(7, 7))\n",
       "  (classifier): Sequential(\n",
       "    (0): Linear(in_features=25088, out_features=4096, bias=True)\n",
       "    (1): ReLU(inplace=True)\n",
       "    (2): Dropout(p=0.5, inplace=False)\n",
       "    (3): Linear(in_features=4096, out_features=4096, bias=True)\n",
       "    (4): ReLU(inplace=True)\n",
       "    (5): Dropout(p=0.5, inplace=False)\n",
       "    (6): Linear(in_features=4096, out_features=10, bias=True)\n",
       "    (7): LogSoftmax(dim=-1)\n",
       "  )\n",
       ")"
      ]
     },
     "execution_count": 21,
     "metadata": {},
     "output_type": "execute_result"
    }
   ],
   "source": [
    "model_acc.to(trainer.device)\n",
    "train_score = trainer.validation(model_acc, dl[\"train\"])\n",
    "valid_score = trainer.validation(model_acc, dl[\"valid\"])\n",
    "logger.log(\"Train:\", train_score)\n",
    "logger.log(\"Valid:\", valid_score)\n",
    "model_acc.cpu()"
   ]
  },
  {
   "cell_type": "markdown",
   "id": "2e07751a-e644-464f-b938-b0303656c320",
   "metadata": {},
   "source": [
    "### k = 5"
   ]
  },
  {
   "cell_type": "code",
   "execution_count": 5,
   "id": "6e2d93ab-5a83-4110-8be2-8ad1f263b768",
   "metadata": {
    "collapsed": true,
    "jupyter": {
     "outputs_hidden": true
    },
    "tags": []
   },
   "outputs": [
    {
     "data": {
      "text/plain": [
       "VGG(\n",
       "  (features): Sequential(\n",
       "    (0): Conv2d(3, 64, kernel_size=(3, 3), stride=(1, 1), padding=(1, 1))\n",
       "    (1): ReLU(inplace=True)\n",
       "    (2): Conv2d(64, 64, kernel_size=(3, 3), stride=(1, 1), padding=(1, 1))\n",
       "    (3): ReLU(inplace=True)\n",
       "    (4): MaxPool2d(kernel_size=2, stride=2, padding=0, dilation=1, ceil_mode=False)\n",
       "    (5): Conv2d(64, 128, kernel_size=(3, 3), stride=(1, 1), padding=(1, 1))\n",
       "    (6): ReLU(inplace=True)\n",
       "    (7): Conv2d(128, 128, kernel_size=(3, 3), stride=(1, 1), padding=(1, 1))\n",
       "    (8): ReLU(inplace=True)\n",
       "    (9): MaxPool2d(kernel_size=2, stride=2, padding=0, dilation=1, ceil_mode=False)\n",
       "    (10): Conv2d(128, 256, kernel_size=(3, 3), stride=(1, 1), padding=(1, 1))\n",
       "    (11): ReLU(inplace=True)\n",
       "    (12): Conv2d(256, 256, kernel_size=(3, 3), stride=(1, 1), padding=(1, 1))\n",
       "    (13): ReLU(inplace=True)\n",
       "    (14): Conv2d(256, 256, kernel_size=(3, 3), stride=(1, 1), padding=(1, 1))\n",
       "    (15): ReLU(inplace=True)\n",
       "    (16): MaxPool2d(kernel_size=2, stride=2, padding=0, dilation=1, ceil_mode=False)\n",
       "    (17): Conv2d(256, 512, kernel_size=(3, 3), stride=(1, 1), padding=(1, 1))\n",
       "    (18): ReLU(inplace=True)\n",
       "    (19): Conv2d(512, 512, kernel_size=(3, 3), stride=(1, 1), padding=(1, 1))\n",
       "    (20): ReLU(inplace=True)\n",
       "    (21): Conv2d(512, 512, kernel_size=(3, 3), stride=(1, 1), padding=(1, 1))\n",
       "    (22): ReLU(inplace=True)\n",
       "    (23): MaxPool2d(kernel_size=2, stride=2, padding=0, dilation=1, ceil_mode=False)\n",
       "    (24): Conv2d(512, 512, kernel_size=(3, 3), stride=(1, 1), padding=(1, 1))\n",
       "    (25): ReLU(inplace=True)\n",
       "    (26): Conv2d(512, 512, kernel_size=(3, 3), stride=(1, 1), padding=(1, 1))\n",
       "    (27): ReLU(inplace=True)\n",
       "    (28): Conv2d(512, 512, kernel_size=(3, 3), stride=(1, 1), padding=(1, 1))\n",
       "    (29): ReLU(inplace=True)\n",
       "    (30): MaxPool2d(kernel_size=2, stride=2, padding=0, dilation=1, ceil_mode=False)\n",
       "  )\n",
       "  (avgpool): AdaptiveAvgPool2d(output_size=(7, 7))\n",
       "  (classifier): Sequential(\n",
       "    (0): Linear(in_features=25088, out_features=4096, bias=True)\n",
       "    (1): ReLU(inplace=True)\n",
       "    (2): Dropout(p=0.5, inplace=False)\n",
       "    (3): Linear(in_features=4096, out_features=4096, bias=True)\n",
       "    (4): ReLU(inplace=True)\n",
       "    (5): Dropout(p=0.5, inplace=False)\n",
       "    (6): Linear(in_features=4096, out_features=10, bias=True)\n",
       "    (7): LogSoftmax(dim=-1)\n",
       "  )\n",
       ")"
      ]
     },
     "execution_count": 5,
     "metadata": {},
     "output_type": "execute_result"
    }
   ],
   "source": [
    "model = make_model()\n",
    "model.to(trainer.device)"
   ]
  },
  {
   "cell_type": "code",
   "execution_count": 6,
   "id": "f00d204f-dec4-4dc1-8e99-00a8dda60c66",
   "metadata": {},
   "outputs": [],
   "source": [
    "optimizer = AcceleratedSGD(model.parameters(), 1e-2, k=5, momentum=0.9, weight_decay=1e-5, lambda_=1e-8)\n",
    "loss_fn = nn.NLLLoss()\n",
    "logger = Logger(\"vgg_log_augmentation-early_stopping-k=5.txt.no_resizing\")"
   ]
  },
  {
   "cell_type": "code",
   "execution_count": 7,
   "id": "749709d4-7b1b-4506-8cb6-93382f479e9a",
   "metadata": {},
   "outputs": [
    {
     "name": "stdout",
     "output_type": "stream",
     "text": [
      "100%|██████████| 313/313 [00:39<00:00,  7.93it/s, loss=2.0934]\n",
      "Epoch 1 | Training loss: 2.0934, validation accuracy: 0.2971, validation loss: 1.8501\n",
      "100%|██████████| 313/313 [00:41<00:00,  7.59it/s, loss=1.7694]\n",
      "Epoch 2 | Training loss: 1.7694, validation accuracy: 0.3995, validation loss: 1.5711\n",
      "100%|██████████| 313/313 [00:41<00:00,  7.50it/s, loss=1.5754]\n",
      "Epoch 3 | Training loss: 1.5754, validation accuracy: 0.4543, validation loss: 1.5082\n",
      "100%|██████████| 313/313 [00:41<00:00,  7.50it/s, loss=1.4168]\n",
      "Epoch 4 | Training loss: 1.4168, validation accuracy: 0.5308, validation loss: 1.2675\n",
      "100%|██████████| 313/313 [00:41<00:00,  7.49it/s, loss=1.2777]\n",
      "Epoch 5 | Training loss: 1.2777, validation accuracy: 0.5652, validation loss: 1.2029\n",
      "100%|██████████| 313/313 [00:41<00:00,  7.46it/s, loss=1.1473]\n",
      "Epoch 6 | Training loss: 1.1473, validation accuracy: 0.6262, validation loss: 1.0277\n",
      "100%|██████████| 313/313 [00:41<00:00,  7.46it/s, loss=1.0495]\n",
      "Epoch 7 | Training loss: 1.0495, validation accuracy: 0.6642, validation loss: 0.9697\n",
      "100%|██████████| 313/313 [00:41<00:00,  7.47it/s, loss=0.9589]\n",
      "Epoch 8 | Training loss: 0.9589, validation accuracy: 0.7032, validation loss: 0.8539\n",
      "100%|██████████| 313/313 [00:41<00:00,  7.47it/s, loss=0.9050]\n",
      "Epoch 9 | Training loss: 0.9050, validation accuracy: 0.7103, validation loss: 0.8433\n",
      "100%|██████████| 313/313 [00:41<00:00,  7.47it/s, loss=0.8371]\n",
      "Epoch 10 | Training loss: 0.8371, validation accuracy: 0.7403, validation loss: 0.7656\n",
      "100%|██████████| 313/313 [00:41<00:00,  7.46it/s, loss=0.7840]\n",
      "Epoch 11 | Training loss: 0.7840, validation accuracy: 0.7576, validation loss: 0.7055\n",
      "100%|██████████| 313/313 [00:41<00:00,  7.47it/s, loss=0.7281]\n",
      "Epoch 12 | Training loss: 0.7281, validation accuracy: 0.7600, validation loss: 0.6787\n",
      "100%|██████████| 313/313 [00:41<00:00,  7.48it/s, loss=0.7052]\n",
      "Epoch 13 | Training loss: 0.7052, validation accuracy: 0.7778, validation loss: 0.6658\n",
      "100%|██████████| 313/313 [00:41<00:00,  7.48it/s, loss=0.6618]\n",
      "Epoch 14 | Training loss: 0.6618, validation accuracy: 0.7937, validation loss: 0.6179\n",
      "100%|██████████| 313/313 [00:41<00:00,  7.47it/s, loss=0.6354]\n",
      "Epoch 15 | Training loss: 0.6354, validation accuracy: 0.7741, validation loss: 0.6532\n",
      "100%|██████████| 313/313 [00:41<00:00,  7.46it/s, loss=0.5931]\n",
      "Epoch 16 | Training loss: 0.5931, validation accuracy: 0.7922, validation loss: 0.6187\n",
      "100%|██████████| 313/313 [00:41<00:00,  7.47it/s, loss=0.5700]\n",
      "Epoch 17 | Training loss: 0.5700, validation accuracy: 0.7949, validation loss: 0.6155\n",
      "100%|██████████| 313/313 [00:41<00:00,  7.47it/s, loss=0.5417]\n",
      "Epoch 18 | Training loss: 0.5417, validation accuracy: 0.8160, validation loss: 0.5517\n",
      "100%|██████████| 313/313 [00:41<00:00,  7.47it/s, loss=0.5202]\n",
      "Epoch 19 | Training loss: 0.5202, validation accuracy: 0.8247, validation loss: 0.5273\n",
      "100%|██████████| 313/313 [00:41<00:00,  7.49it/s, loss=0.4927]\n",
      "Epoch 20 | Training loss: 0.4927, validation accuracy: 0.8179, validation loss: 0.5594\n",
      "100%|██████████| 313/313 [00:41<00:00,  7.49it/s, loss=0.4680]\n",
      "Epoch 21 | Training loss: 0.4680, validation accuracy: 0.8119, validation loss: 0.5817\n",
      "100%|██████████| 313/313 [00:41<00:00,  7.49it/s, loss=0.4514]\n",
      "Epoch 22 | Training loss: 0.4514, validation accuracy: 0.8143, validation loss: 0.5492\n",
      "100%|██████████| 313/313 [00:41<00:00,  7.50it/s, loss=0.4306]\n",
      "Epoch 23 | Training loss: 0.4306, validation accuracy: 0.8221, validation loss: 0.5513\n",
      "100%|██████████| 313/313 [00:41<00:00,  7.50it/s, loss=0.4193]\n",
      "Epoch 24 | Training loss: 0.4193, validation accuracy: 0.8320, validation loss: 0.5260\n",
      "100%|██████████| 313/313 [00:41<00:00,  7.50it/s, loss=0.3984]\n",
      "Epoch 25 | Training loss: 0.3984, validation accuracy: 0.8278, validation loss: 0.5268\n",
      "100%|██████████| 313/313 [00:41<00:00,  7.52it/s, loss=0.3849]\n",
      "Epoch 26 | Training loss: 0.3849, validation accuracy: 0.8357, validation loss: 0.5101\n",
      "100%|██████████| 313/313 [00:41<00:00,  7.50it/s, loss=0.3725]\n",
      "Epoch 27 | Training loss: 0.3725, validation accuracy: 0.8436, validation loss: 0.4947\n",
      "100%|██████████| 313/313 [00:41<00:00,  7.49it/s, loss=0.3485]\n",
      "Epoch 28 | Training loss: 0.3485, validation accuracy: 0.8479, validation loss: 0.4838\n",
      "100%|██████████| 313/313 [00:41<00:00,  7.48it/s, loss=0.3422]\n",
      "Epoch 29 | Training loss: 0.3422, validation accuracy: 0.8396, validation loss: 0.5044\n",
      "100%|██████████| 313/313 [00:41<00:00,  7.47it/s, loss=0.3231]\n",
      "Epoch 30 | Training loss: 0.3231, validation accuracy: 0.8402, validation loss: 0.5300\n",
      "100%|██████████| 313/313 [00:41<00:00,  7.46it/s, loss=0.3080]\n",
      "Epoch 31 | Training loss: 0.3080, validation accuracy: 0.8522, validation loss: 0.5099\n",
      "100%|██████████| 313/313 [00:41<00:00,  7.47it/s, loss=0.2957]\n",
      "Epoch 32 | Training loss: 0.2957, validation accuracy: 0.8513, validation loss: 0.4834\n",
      "100%|██████████| 313/313 [00:41<00:00,  7.46it/s, loss=0.2930]\n",
      "Epoch 33 | Training loss: 0.2930, validation accuracy: 0.8519, validation loss: 0.4901\n",
      "100%|██████████| 313/313 [00:41<00:00,  7.50it/s, loss=0.2784]\n",
      "Epoch 34 | Training loss: 0.2784, validation accuracy: 0.8525, validation loss: 0.4960\n",
      "100%|██████████| 313/313 [00:41<00:00,  7.52it/s, loss=0.2767]\n",
      "Epoch 35 | Training loss: 0.2767, validation accuracy: 0.8417, validation loss: 0.5585\n",
      "100%|██████████| 313/313 [00:41<00:00,  7.52it/s, loss=0.2521]\n",
      "Epoch 36 | Training loss: 0.2521, validation accuracy: 0.8496, validation loss: 0.5268\n",
      "100%|██████████| 313/313 [00:41<00:00,  7.49it/s, loss=0.2524]\n",
      "Epoch 37 | Training loss: 0.2524, validation accuracy: 0.8520, validation loss: 0.5262\n",
      "100%|██████████| 313/313 [00:41<00:00,  7.51it/s, loss=0.2417]\n",
      "Epoch 38 | Training loss: 0.2417, validation accuracy: 0.8364, validation loss: 0.5468\n",
      "100%|██████████| 313/313 [00:41<00:00,  7.52it/s, loss=0.2430]\n",
      "Epoch 39 | Training loss: 0.2430, validation accuracy: 0.8556, validation loss: 0.5109\n",
      "100%|██████████| 313/313 [00:41<00:00,  7.51it/s, loss=0.2153]\n",
      "Epoch 40 | Training loss: 0.2153, validation accuracy: 0.8325, validation loss: 0.5763\n",
      "100%|██████████| 313/313 [00:41<00:00,  7.51it/s, loss=0.2225]\n",
      "Epoch 41 | Training loss: 0.2225, validation accuracy: 0.8362, validation loss: 0.5483\n",
      "100%|██████████| 313/313 [00:41<00:00,  7.47it/s, loss=0.2027]\n",
      "Epoch 42 | Training loss: 0.2027, validation accuracy: 0.8513, validation loss: 0.5127\n",
      "100%|██████████| 313/313 [00:41<00:00,  7.48it/s, loss=0.2014]\n",
      "Epoch 43 | Training loss: 0.2014, validation accuracy: 0.8510, validation loss: 0.5156\n",
      "100%|██████████| 313/313 [00:41<00:00,  7.51it/s, loss=0.1940]\n",
      "Epoch 44 | Training loss: 0.1940, validation accuracy: 0.8617, validation loss: 0.4885\n",
      "100%|██████████| 313/313 [00:41<00:00,  7.50it/s, loss=0.1920]\n",
      "Epoch 45 | Training loss: 0.1920, validation accuracy: 0.8544, validation loss: 0.5267\n",
      "100%|██████████| 313/313 [00:41<00:00,  7.47it/s, loss=0.1856]\n",
      "Epoch 46 | Training loss: 0.1856, validation accuracy: 0.8566, validation loss: 0.5211\n",
      "100%|██████████| 313/313 [00:41<00:00,  7.50it/s, loss=0.1623]\n",
      "Epoch 47 | Training loss: 0.1623, validation accuracy: 0.8522, validation loss: 0.5540\n"
     ]
    }
   ],
   "source": [
    "max_epochs = 300\n",
    "early_stopping = EarlyStopping(15)\n",
    "\n",
    "for epoch in range(max_epochs):\n",
    "    train_loss = trainer.train_epoch(model, optimizer, dl[\"train\"])\n",
    "    optimizer.finish_epoch()\n",
    "    val_acc, val_loss = trainer.validation(model, dl[\"valid\"])\n",
    "    logger.log(\"Epoch\", epoch+1, \"|\", \n",
    "          f\"Training loss: {train_loss:.4f}, validation accuracy: {val_acc:.4f}, validation loss: {val_loss:.4f}\")\n",
    "    if early_stopping.should_stop(val_loss):\n",
    "        break"
   ]
  },
  {
   "cell_type": "code",
   "execution_count": 8,
   "id": "9f3e2b5a-94d3-41e2-8508-b0f893e1e818",
   "metadata": {},
   "outputs": [
    {
     "name": "stdout",
     "output_type": "stream",
     "text": [
      "Train: (0.9398, 0.17853410050868987)\n",
      "Valid: (0.8522, 0.5539824739456177)\n"
     ]
    }
   ],
   "source": [
    "train_score = trainer.validation(model, dl[\"train\"])\n",
    "valid_score = trainer.validation(model, dl[\"valid\"])\n",
    "logger.log(\"Train:\", train_score)\n",
    "logger.log(\"Valid:\", valid_score)"
   ]
  },
  {
   "cell_type": "code",
   "execution_count": 9,
   "id": "b8e577bf-580e-4337-9e4c-4b31826138d2",
   "metadata": {},
   "outputs": [],
   "source": [
    "model_acc = deepcopy(model)\n",
    "optimizer.accelerate()\n",
    "optimizer.store_parameters([model_acc.parameters()])"
   ]
  },
  {
   "cell_type": "code",
   "execution_count": 10,
   "id": "cb2c8200-bd2e-42aa-bc40-ca7b5c6993c7",
   "metadata": {
    "tags": []
   },
   "outputs": [
    {
     "name": "stdout",
     "output_type": "stream",
     "text": [
      "Train: (0.969075, 0.09283070743083954)\n",
      "Valid: (0.875, 0.4566187557220459)\n"
     ]
    },
    {
     "data": {
      "text/plain": [
       "VGG(\n",
       "  (features): Sequential(\n",
       "    (0): Conv2d(3, 64, kernel_size=(3, 3), stride=(1, 1), padding=(1, 1))\n",
       "    (1): ReLU(inplace=True)\n",
       "    (2): Conv2d(64, 64, kernel_size=(3, 3), stride=(1, 1), padding=(1, 1))\n",
       "    (3): ReLU(inplace=True)\n",
       "    (4): MaxPool2d(kernel_size=2, stride=2, padding=0, dilation=1, ceil_mode=False)\n",
       "    (5): Conv2d(64, 128, kernel_size=(3, 3), stride=(1, 1), padding=(1, 1))\n",
       "    (6): ReLU(inplace=True)\n",
       "    (7): Conv2d(128, 128, kernel_size=(3, 3), stride=(1, 1), padding=(1, 1))\n",
       "    (8): ReLU(inplace=True)\n",
       "    (9): MaxPool2d(kernel_size=2, stride=2, padding=0, dilation=1, ceil_mode=False)\n",
       "    (10): Conv2d(128, 256, kernel_size=(3, 3), stride=(1, 1), padding=(1, 1))\n",
       "    (11): ReLU(inplace=True)\n",
       "    (12): Conv2d(256, 256, kernel_size=(3, 3), stride=(1, 1), padding=(1, 1))\n",
       "    (13): ReLU(inplace=True)\n",
       "    (14): Conv2d(256, 256, kernel_size=(3, 3), stride=(1, 1), padding=(1, 1))\n",
       "    (15): ReLU(inplace=True)\n",
       "    (16): MaxPool2d(kernel_size=2, stride=2, padding=0, dilation=1, ceil_mode=False)\n",
       "    (17): Conv2d(256, 512, kernel_size=(3, 3), stride=(1, 1), padding=(1, 1))\n",
       "    (18): ReLU(inplace=True)\n",
       "    (19): Conv2d(512, 512, kernel_size=(3, 3), stride=(1, 1), padding=(1, 1))\n",
       "    (20): ReLU(inplace=True)\n",
       "    (21): Conv2d(512, 512, kernel_size=(3, 3), stride=(1, 1), padding=(1, 1))\n",
       "    (22): ReLU(inplace=True)\n",
       "    (23): MaxPool2d(kernel_size=2, stride=2, padding=0, dilation=1, ceil_mode=False)\n",
       "    (24): Conv2d(512, 512, kernel_size=(3, 3), stride=(1, 1), padding=(1, 1))\n",
       "    (25): ReLU(inplace=True)\n",
       "    (26): Conv2d(512, 512, kernel_size=(3, 3), stride=(1, 1), padding=(1, 1))\n",
       "    (27): ReLU(inplace=True)\n",
       "    (28): Conv2d(512, 512, kernel_size=(3, 3), stride=(1, 1), padding=(1, 1))\n",
       "    (29): ReLU(inplace=True)\n",
       "    (30): MaxPool2d(kernel_size=2, stride=2, padding=0, dilation=1, ceil_mode=False)\n",
       "  )\n",
       "  (avgpool): AdaptiveAvgPool2d(output_size=(7, 7))\n",
       "  (classifier): Sequential(\n",
       "    (0): Linear(in_features=25088, out_features=4096, bias=True)\n",
       "    (1): ReLU(inplace=True)\n",
       "    (2): Dropout(p=0.5, inplace=False)\n",
       "    (3): Linear(in_features=4096, out_features=4096, bias=True)\n",
       "    (4): ReLU(inplace=True)\n",
       "    (5): Dropout(p=0.5, inplace=False)\n",
       "    (6): Linear(in_features=4096, out_features=10, bias=True)\n",
       "    (7): LogSoftmax(dim=-1)\n",
       "  )\n",
       ")"
      ]
     },
     "execution_count": 10,
     "metadata": {},
     "output_type": "execute_result"
    }
   ],
   "source": [
    "model_acc.to(trainer.device)\n",
    "train_score = trainer.validation(model_acc, dl[\"train\"])\n",
    "valid_score = trainer.validation(model_acc, dl[\"valid\"])\n",
    "logger.log(\"Train:\", train_score)\n",
    "logger.log(\"Valid:\", valid_score)\n",
    "model_acc.cpu()\n",
    "None"
   ]
  },
  {
   "cell_type": "code",
   "execution_count": 11,
   "id": "784810bb-ba06-4765-8f1e-757d71532fab",
   "metadata": {},
   "outputs": [],
   "source": [
    "optimizer.param_groups[0][\"lr\"] = 1e-3"
   ]
  },
  {
   "cell_type": "code",
   "execution_count": 12,
   "id": "7bb83ea2-4acd-4211-b3de-44f33410c56f",
   "metadata": {
    "tags": []
   },
   "outputs": [
    {
     "name": "stdout",
     "output_type": "stream",
     "text": [
      "100%|██████████| 313/313 [00:42<00:00,  7.45it/s, loss=0.1055]\n",
      "Epoch 1 | Training loss: 0.1055, validation accuracy: 0.8744, validation loss: 0.5145\n",
      "100%|██████████| 313/313 [00:42<00:00,  7.42it/s, loss=0.0825]\n",
      "Epoch 2 | Training loss: 0.0825, validation accuracy: 0.8729, validation loss: 0.5198\n",
      "100%|██████████| 313/313 [00:42<00:00,  7.43it/s, loss=0.0765]\n",
      "Epoch 3 | Training loss: 0.0765, validation accuracy: 0.8748, validation loss: 0.5279\n",
      "100%|██████████| 313/313 [00:42<00:00,  7.44it/s, loss=0.0730]\n",
      "Epoch 4 | Training loss: 0.0730, validation accuracy: 0.8724, validation loss: 0.5431\n",
      "100%|██████████| 313/313 [00:41<00:00,  7.49it/s, loss=0.0653]\n",
      "Epoch 5 | Training loss: 0.0653, validation accuracy: 0.8740, validation loss: 0.5584\n",
      "100%|██████████| 313/313 [00:41<00:00,  7.50it/s, loss=0.0630]\n",
      "Epoch 6 | Training loss: 0.0630, validation accuracy: 0.8745, validation loss: 0.5520\n",
      "100%|██████████| 313/313 [00:42<00:00,  7.44it/s, loss=0.0615]\n",
      "Epoch 7 | Training loss: 0.0615, validation accuracy: 0.8744, validation loss: 0.5636\n",
      "100%|██████████| 313/313 [00:42<00:00,  7.44it/s, loss=0.0600]\n",
      "Epoch 8 | Training loss: 0.0600, validation accuracy: 0.8754, validation loss: 0.5637\n",
      "100%|██████████| 313/313 [00:42<00:00,  7.42it/s, loss=0.0583]\n",
      "Epoch 9 | Training loss: 0.0583, validation accuracy: 0.8751, validation loss: 0.5664\n",
      "100%|██████████| 313/313 [00:42<00:00,  7.45it/s, loss=0.0590]\n",
      "Epoch 10 | Training loss: 0.0590, validation accuracy: 0.8748, validation loss: 0.5656\n",
      "100%|██████████| 313/313 [00:42<00:00,  7.42it/s, loss=0.0524]\n",
      "Epoch 11 | Training loss: 0.0524, validation accuracy: 0.8745, validation loss: 0.5766\n",
      "100%|██████████| 313/313 [00:42<00:00,  7.40it/s, loss=0.0521]\n",
      "Epoch 12 | Training loss: 0.0521, validation accuracy: 0.8725, validation loss: 0.5842\n",
      "100%|██████████| 313/313 [00:41<00:00,  7.46it/s, loss=0.0514]\n",
      "Epoch 13 | Training loss: 0.0514, validation accuracy: 0.8740, validation loss: 0.5925\n",
      "100%|██████████| 313/313 [00:42<00:00,  7.43it/s, loss=0.0498]\n",
      "Epoch 14 | Training loss: 0.0498, validation accuracy: 0.8745, validation loss: 0.6029\n",
      "100%|██████████| 313/313 [00:42<00:00,  7.44it/s, loss=0.0497]\n",
      "Epoch 15 | Training loss: 0.0497, validation accuracy: 0.8759, validation loss: 0.5953\n",
      "100%|██████████| 313/313 [00:42<00:00,  7.44it/s, loss=0.0482]\n",
      "Epoch 16 | Training loss: 0.0482, validation accuracy: 0.8755, validation loss: 0.5897\n"
     ]
    }
   ],
   "source": [
    "max_epochs = 300\n",
    "early_stopping = EarlyStopping(15)\n",
    "\n",
    "for epoch in range(max_epochs):\n",
    "    train_loss = trainer.train_epoch(model, optimizer, dl[\"train\"])\n",
    "    optimizer.finish_epoch()\n",
    "    val_acc, val_loss = trainer.validation(model, dl[\"valid\"])\n",
    "    logger.log(\"Epoch\", epoch+1, \"|\", \n",
    "          f\"Training loss: {train_loss:.4f}, validation accuracy: {val_acc:.4f}, validation loss: {val_loss:.4f}\")\n",
    "    if early_stopping.should_stop(val_loss):\n",
    "        break"
   ]
  },
  {
   "cell_type": "code",
   "execution_count": 13,
   "id": "3dbd02dd-7c94-4a23-868a-63273d662923",
   "metadata": {},
   "outputs": [
    {
     "name": "stdout",
     "output_type": "stream",
     "text": [
      "Train: (0.984925, 0.044134528724104165)\n",
      "Valid: (0.8755, 0.5896578651428223)\n"
     ]
    }
   ],
   "source": [
    "train_score = trainer.validation(model, dl[\"train\"])\n",
    "valid_score = trainer.validation(model, dl[\"valid\"])\n",
    "logger.log(\"Train:\", train_score)\n",
    "logger.log(\"Valid:\", valid_score)"
   ]
  },
  {
   "cell_type": "code",
   "execution_count": 14,
   "id": "5f846bcc-fc53-472e-aec5-177008b82e28",
   "metadata": {},
   "outputs": [],
   "source": [
    "model_acc = deepcopy(model)\n",
    "optimizer.accelerate()\n",
    "optimizer.store_parameters([model_acc.parameters()])"
   ]
  },
  {
   "cell_type": "code",
   "execution_count": 15,
   "id": "80198b28-efa9-4623-8f4d-cd1d7c697dab",
   "metadata": {},
   "outputs": [
    {
     "name": "stdout",
     "output_type": "stream",
     "text": [
      "Train: (0.984525, 0.04439684483408928)\n",
      "Valid: (0.8764, 0.588962692451477)\n"
     ]
    },
    {
     "data": {
      "text/plain": [
       "VGG(\n",
       "  (features): Sequential(\n",
       "    (0): Conv2d(3, 64, kernel_size=(3, 3), stride=(1, 1), padding=(1, 1))\n",
       "    (1): ReLU(inplace=True)\n",
       "    (2): Conv2d(64, 64, kernel_size=(3, 3), stride=(1, 1), padding=(1, 1))\n",
       "    (3): ReLU(inplace=True)\n",
       "    (4): MaxPool2d(kernel_size=2, stride=2, padding=0, dilation=1, ceil_mode=False)\n",
       "    (5): Conv2d(64, 128, kernel_size=(3, 3), stride=(1, 1), padding=(1, 1))\n",
       "    (6): ReLU(inplace=True)\n",
       "    (7): Conv2d(128, 128, kernel_size=(3, 3), stride=(1, 1), padding=(1, 1))\n",
       "    (8): ReLU(inplace=True)\n",
       "    (9): MaxPool2d(kernel_size=2, stride=2, padding=0, dilation=1, ceil_mode=False)\n",
       "    (10): Conv2d(128, 256, kernel_size=(3, 3), stride=(1, 1), padding=(1, 1))\n",
       "    (11): ReLU(inplace=True)\n",
       "    (12): Conv2d(256, 256, kernel_size=(3, 3), stride=(1, 1), padding=(1, 1))\n",
       "    (13): ReLU(inplace=True)\n",
       "    (14): Conv2d(256, 256, kernel_size=(3, 3), stride=(1, 1), padding=(1, 1))\n",
       "    (15): ReLU(inplace=True)\n",
       "    (16): MaxPool2d(kernel_size=2, stride=2, padding=0, dilation=1, ceil_mode=False)\n",
       "    (17): Conv2d(256, 512, kernel_size=(3, 3), stride=(1, 1), padding=(1, 1))\n",
       "    (18): ReLU(inplace=True)\n",
       "    (19): Conv2d(512, 512, kernel_size=(3, 3), stride=(1, 1), padding=(1, 1))\n",
       "    (20): ReLU(inplace=True)\n",
       "    (21): Conv2d(512, 512, kernel_size=(3, 3), stride=(1, 1), padding=(1, 1))\n",
       "    (22): ReLU(inplace=True)\n",
       "    (23): MaxPool2d(kernel_size=2, stride=2, padding=0, dilation=1, ceil_mode=False)\n",
       "    (24): Conv2d(512, 512, kernel_size=(3, 3), stride=(1, 1), padding=(1, 1))\n",
       "    (25): ReLU(inplace=True)\n",
       "    (26): Conv2d(512, 512, kernel_size=(3, 3), stride=(1, 1), padding=(1, 1))\n",
       "    (27): ReLU(inplace=True)\n",
       "    (28): Conv2d(512, 512, kernel_size=(3, 3), stride=(1, 1), padding=(1, 1))\n",
       "    (29): ReLU(inplace=True)\n",
       "    (30): MaxPool2d(kernel_size=2, stride=2, padding=0, dilation=1, ceil_mode=False)\n",
       "  )\n",
       "  (avgpool): AdaptiveAvgPool2d(output_size=(7, 7))\n",
       "  (classifier): Sequential(\n",
       "    (0): Linear(in_features=25088, out_features=4096, bias=True)\n",
       "    (1): ReLU(inplace=True)\n",
       "    (2): Dropout(p=0.5, inplace=False)\n",
       "    (3): Linear(in_features=4096, out_features=4096, bias=True)\n",
       "    (4): ReLU(inplace=True)\n",
       "    (5): Dropout(p=0.5, inplace=False)\n",
       "    (6): Linear(in_features=4096, out_features=10, bias=True)\n",
       "    (7): LogSoftmax(dim=-1)\n",
       "  )\n",
       ")"
      ]
     },
     "execution_count": 15,
     "metadata": {},
     "output_type": "execute_result"
    }
   ],
   "source": [
    "model_acc.to(trainer.device)\n",
    "train_score = trainer.validation(model_acc, dl[\"train\"])\n",
    "valid_score = trainer.validation(model_acc, dl[\"valid\"])\n",
    "logger.log(\"Train:\", train_score)\n",
    "logger.log(\"Valid:\", valid_score)\n",
    "model_acc.cpu()"
   ]
  },
  {
   "cell_type": "code",
   "execution_count": 16,
   "id": "1a381b83-4257-4805-a3da-d1d550c441cf",
   "metadata": {},
   "outputs": [],
   "source": [
    "optimizer.param_groups[0][\"lr\"] = 1e-4"
   ]
  },
  {
   "cell_type": "code",
   "execution_count": 17,
   "id": "641ff5fe-5c9a-4064-b41d-73375b28a513",
   "metadata": {},
   "outputs": [
    {
     "name": "stdout",
     "output_type": "stream",
     "text": [
      "100%|██████████| 313/313 [00:42<00:00,  7.41it/s, loss=0.0465]\n",
      "Epoch 1 | Training loss: 0.0465, validation accuracy: 0.8766, validation loss: 0.5856\n",
      "100%|██████████| 313/313 [00:42<00:00,  7.38it/s, loss=0.0446]\n",
      "Epoch 2 | Training loss: 0.0446, validation accuracy: 0.8755, validation loss: 0.5887\n",
      "100%|██████████| 313/313 [00:42<00:00,  7.38it/s, loss=0.0422]\n",
      "Epoch 3 | Training loss: 0.0422, validation accuracy: 0.8760, validation loss: 0.5898\n",
      "100%|██████████| 313/313 [00:42<00:00,  7.40it/s, loss=0.0419]\n",
      "Epoch 4 | Training loss: 0.0419, validation accuracy: 0.8766, validation loss: 0.5896\n",
      "100%|██████████| 313/313 [00:42<00:00,  7.38it/s, loss=0.0424]\n",
      "Epoch 5 | Training loss: 0.0424, validation accuracy: 0.8768, validation loss: 0.5904\n",
      "100%|██████████| 313/313 [00:42<00:00,  7.39it/s, loss=0.0434]\n",
      "Epoch 6 | Training loss: 0.0434, validation accuracy: 0.8761, validation loss: 0.5901\n",
      "100%|██████████| 313/313 [00:42<00:00,  7.40it/s, loss=0.0435]\n",
      "Epoch 7 | Training loss: 0.0435, validation accuracy: 0.8765, validation loss: 0.5880\n",
      "100%|██████████| 313/313 [00:42<00:00,  7.41it/s, loss=0.0415]\n",
      "Epoch 8 | Training loss: 0.0415, validation accuracy: 0.8767, validation loss: 0.5882\n",
      "100%|██████████| 313/313 [00:42<00:00,  7.37it/s, loss=0.0439]\n",
      "Epoch 9 | Training loss: 0.0439, validation accuracy: 0.8763, validation loss: 0.5920\n",
      "100%|██████████| 313/313 [00:42<00:00,  7.41it/s, loss=0.0441]\n",
      "Epoch 10 | Training loss: 0.0441, validation accuracy: 0.8763, validation loss: 0.5924\n",
      "100%|██████████| 313/313 [00:42<00:00,  7.40it/s, loss=0.0428]\n",
      "Epoch 11 | Training loss: 0.0428, validation accuracy: 0.8765, validation loss: 0.5906\n",
      "100%|██████████| 313/313 [00:42<00:00,  7.41it/s, loss=0.0409]\n",
      "Epoch 12 | Training loss: 0.0409, validation accuracy: 0.8771, validation loss: 0.5914\n",
      "100%|██████████| 313/313 [00:42<00:00,  7.40it/s, loss=0.0416]\n",
      "Epoch 13 | Training loss: 0.0416, validation accuracy: 0.8765, validation loss: 0.5926\n",
      "100%|██████████| 313/313 [00:42<00:00,  7.40it/s, loss=0.0416]\n",
      "Epoch 14 | Training loss: 0.0416, validation accuracy: 0.8772, validation loss: 0.5916\n",
      "100%|██████████| 313/313 [00:42<00:00,  7.41it/s, loss=0.0403]\n",
      "Epoch 15 | Training loss: 0.0403, validation accuracy: 0.8765, validation loss: 0.5952\n",
      "100%|██████████| 313/313 [00:42<00:00,  7.38it/s, loss=0.0403]\n",
      "Epoch 16 | Training loss: 0.0403, validation accuracy: 0.8772, validation loss: 0.5956\n"
     ]
    }
   ],
   "source": [
    "max_epochs = 300\n",
    "early_stopping = EarlyStopping(15)\n",
    "\n",
    "for epoch in range(max_epochs):\n",
    "    train_loss = trainer.train_epoch(model, optimizer, dl[\"train\"])\n",
    "    optimizer.finish_epoch()\n",
    "    val_acc, val_loss = trainer.validation(model, dl[\"valid\"])\n",
    "    logger.log(\"Epoch\", epoch+1, \"|\", \n",
    "          f\"Training loss: {train_loss:.4f}, validation accuracy: {val_acc:.4f}, validation loss: {val_loss:.4f}\")\n",
    "    if early_stopping.should_stop(val_loss):\n",
    "        break"
   ]
  },
  {
   "cell_type": "code",
   "execution_count": 18,
   "id": "7d6d8a30-97ea-4e05-90fa-46902ef7ad33",
   "metadata": {},
   "outputs": [
    {
     "name": "stdout",
     "output_type": "stream",
     "text": [
      "Train: (0.987025, 0.03983512137830257)\n",
      "Valid: (0.8772, 0.5955881801605225)\n"
     ]
    }
   ],
   "source": [
    "train_score = trainer.validation(model, dl[\"train\"])\n",
    "valid_score = trainer.validation(model, dl[\"valid\"])\n",
    "logger.log(\"Train:\", train_score)\n",
    "logger.log(\"Valid:\", valid_score)"
   ]
  },
  {
   "cell_type": "code",
   "execution_count": 19,
   "id": "aa3faafb-97c5-4e9e-ba1e-286e64b82550",
   "metadata": {},
   "outputs": [],
   "source": [
    "model_acc = deepcopy(model)\n",
    "optimizer.accelerate()\n",
    "optimizer.store_parameters([model_acc.parameters()])"
   ]
  },
  {
   "cell_type": "code",
   "execution_count": 20,
   "id": "d4e616f0-2b78-4e06-82ba-6c82b0387448",
   "metadata": {},
   "outputs": [
    {
     "name": "stdout",
     "output_type": "stream",
     "text": [
      "Train: (0.985925, 0.04124355467408895)\n",
      "Valid: (0.8765, 0.5935525712966919)\n"
     ]
    },
    {
     "data": {
      "text/plain": [
       "VGG(\n",
       "  (features): Sequential(\n",
       "    (0): Conv2d(3, 64, kernel_size=(3, 3), stride=(1, 1), padding=(1, 1))\n",
       "    (1): ReLU(inplace=True)\n",
       "    (2): Conv2d(64, 64, kernel_size=(3, 3), stride=(1, 1), padding=(1, 1))\n",
       "    (3): ReLU(inplace=True)\n",
       "    (4): MaxPool2d(kernel_size=2, stride=2, padding=0, dilation=1, ceil_mode=False)\n",
       "    (5): Conv2d(64, 128, kernel_size=(3, 3), stride=(1, 1), padding=(1, 1))\n",
       "    (6): ReLU(inplace=True)\n",
       "    (7): Conv2d(128, 128, kernel_size=(3, 3), stride=(1, 1), padding=(1, 1))\n",
       "    (8): ReLU(inplace=True)\n",
       "    (9): MaxPool2d(kernel_size=2, stride=2, padding=0, dilation=1, ceil_mode=False)\n",
       "    (10): Conv2d(128, 256, kernel_size=(3, 3), stride=(1, 1), padding=(1, 1))\n",
       "    (11): ReLU(inplace=True)\n",
       "    (12): Conv2d(256, 256, kernel_size=(3, 3), stride=(1, 1), padding=(1, 1))\n",
       "    (13): ReLU(inplace=True)\n",
       "    (14): Conv2d(256, 256, kernel_size=(3, 3), stride=(1, 1), padding=(1, 1))\n",
       "    (15): ReLU(inplace=True)\n",
       "    (16): MaxPool2d(kernel_size=2, stride=2, padding=0, dilation=1, ceil_mode=False)\n",
       "    (17): Conv2d(256, 512, kernel_size=(3, 3), stride=(1, 1), padding=(1, 1))\n",
       "    (18): ReLU(inplace=True)\n",
       "    (19): Conv2d(512, 512, kernel_size=(3, 3), stride=(1, 1), padding=(1, 1))\n",
       "    (20): ReLU(inplace=True)\n",
       "    (21): Conv2d(512, 512, kernel_size=(3, 3), stride=(1, 1), padding=(1, 1))\n",
       "    (22): ReLU(inplace=True)\n",
       "    (23): MaxPool2d(kernel_size=2, stride=2, padding=0, dilation=1, ceil_mode=False)\n",
       "    (24): Conv2d(512, 512, kernel_size=(3, 3), stride=(1, 1), padding=(1, 1))\n",
       "    (25): ReLU(inplace=True)\n",
       "    (26): Conv2d(512, 512, kernel_size=(3, 3), stride=(1, 1), padding=(1, 1))\n",
       "    (27): ReLU(inplace=True)\n",
       "    (28): Conv2d(512, 512, kernel_size=(3, 3), stride=(1, 1), padding=(1, 1))\n",
       "    (29): ReLU(inplace=True)\n",
       "    (30): MaxPool2d(kernel_size=2, stride=2, padding=0, dilation=1, ceil_mode=False)\n",
       "  )\n",
       "  (avgpool): AdaptiveAvgPool2d(output_size=(7, 7))\n",
       "  (classifier): Sequential(\n",
       "    (0): Linear(in_features=25088, out_features=4096, bias=True)\n",
       "    (1): ReLU(inplace=True)\n",
       "    (2): Dropout(p=0.5, inplace=False)\n",
       "    (3): Linear(in_features=4096, out_features=4096, bias=True)\n",
       "    (4): ReLU(inplace=True)\n",
       "    (5): Dropout(p=0.5, inplace=False)\n",
       "    (6): Linear(in_features=4096, out_features=10, bias=True)\n",
       "    (7): LogSoftmax(dim=-1)\n",
       "  )\n",
       ")"
      ]
     },
     "execution_count": 20,
     "metadata": {},
     "output_type": "execute_result"
    }
   ],
   "source": [
    "model_acc.to(trainer.device)\n",
    "train_score = trainer.validation(model_acc, dl[\"train\"])\n",
    "valid_score = trainer.validation(model_acc, dl[\"valid\"])\n",
    "logger.log(\"Train:\", train_score)\n",
    "logger.log(\"Valid:\", valid_score)\n",
    "model_acc.cpu()\n",
    "None"
   ]
  },
  {
   "cell_type": "code",
   "execution_count": null,
   "id": "9c208445-ca87-4655-ae6f-6fc3cad76d59",
   "metadata": {},
   "outputs": [],
   "source": []
  }
 ],
 "metadata": {
  "kernelspec": {
   "display_name": "Python 3",
   "language": "python",
   "name": "python3"
  },
  "language_info": {
   "codemirror_mode": {
    "name": "ipython",
    "version": 3
   },
   "file_extension": ".py",
   "mimetype": "text/x-python",
   "name": "python",
   "nbconvert_exporter": "python",
   "pygments_lexer": "ipython3",
   "version": "3.8.5"
  }
 },
 "nbformat": 4,
 "nbformat_minor": 5
}
