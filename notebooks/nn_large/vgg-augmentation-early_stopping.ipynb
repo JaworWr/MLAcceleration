{
 "cells": [
  {
   "cell_type": "code",
   "execution_count": 1,
   "id": "0526fa72-75e2-473e-9874-ad26d773923f",
   "metadata": {},
   "outputs": [],
   "source": [
    "import sys\n",
    "sys.path.insert(0, \"../..\")"
   ]
  },
  {
   "cell_type": "code",
   "execution_count": 2,
   "id": "noticed-jimmy",
   "metadata": {},
   "outputs": [],
   "source": [
    "import torch\n",
    "from torch import nn\n",
    "from torchvision import models\n",
    "from copy import deepcopy\n",
    "import os\n",
    "\n",
    "from nn_extrapolation import AcceleratedSGD\n",
    "from nn_utils import *"
   ]
  },
  {
   "cell_type": "code",
   "execution_count": 3,
   "id": "b6cf3da9-b60e-4c8e-a4c7-b3b70554bf61",
   "metadata": {},
   "outputs": [
    {
     "data": {
      "text/plain": [
       "True"
      ]
     },
     "execution_count": 3,
     "metadata": {},
     "output_type": "execute_result"
    }
   ],
   "source": [
    "torch.cuda.is_available()"
   ]
  },
  {
   "cell_type": "code",
   "execution_count": 4,
   "id": "increasing-alignment",
   "metadata": {},
   "outputs": [],
   "source": [
    "trainer = Trainer(\n",
    "    device=\"cuda\",\n",
    "    loss_fn=nn.NLLLoss(reduction=\"mean\"),\n",
    "    val_loss_fn=nn.NLLLoss(reduction=\"sum\"),\n",
    ")"
   ]
  },
  {
   "cell_type": "code",
   "execution_count": null,
   "id": "willing-bathroom",
   "metadata": {},
   "outputs": [
    {
     "name": "stdout",
     "output_type": "stream",
     "text": [
      "Downloading https://www.cs.toronto.edu/~kriz/cifar-10-python.tar.gz to /tmp/michal/CIFAR/cifar-10-python.tar.gz\n"
     ]
    }
   ],
   "source": [
    "dl = load_dataset(\n",
    "    dataset=\"CIFAR10\",\n",
    "    root=os.path.join(\"/tmp\", os.environ[\"USER\"], \"CIFAR\"),\n",
    "    augmentation=transforms.RandomAffine(10, scale=(0.9, 1.1), translate=(0.2, 0.2)),\n",
    "    validation_split=0.2,\n",
    "    batch_size=128,\n",
    "    num_workers=10,\n",
    ")"
   ]
  },
  {
   "cell_type": "code",
   "execution_count": 6,
   "id": "numeric-injury",
   "metadata": {},
   "outputs": [
    {
     "data": {
      "text/plain": [
       "VGG(\n",
       "  (features): Sequential(\n",
       "    (0): Conv2d(3, 64, kernel_size=(3, 3), stride=(1, 1), padding=(1, 1))\n",
       "    (1): ReLU(inplace=True)\n",
       "    (2): Conv2d(64, 64, kernel_size=(3, 3), stride=(1, 1), padding=(1, 1))\n",
       "    (3): ReLU(inplace=True)\n",
       "    (4): MaxPool2d(kernel_size=2, stride=2, padding=0, dilation=1, ceil_mode=False)\n",
       "    (5): Conv2d(64, 128, kernel_size=(3, 3), stride=(1, 1), padding=(1, 1))\n",
       "    (6): ReLU(inplace=True)\n",
       "    (7): Conv2d(128, 128, kernel_size=(3, 3), stride=(1, 1), padding=(1, 1))\n",
       "    (8): ReLU(inplace=True)\n",
       "    (9): MaxPool2d(kernel_size=2, stride=2, padding=0, dilation=1, ceil_mode=False)\n",
       "    (10): Conv2d(128, 256, kernel_size=(3, 3), stride=(1, 1), padding=(1, 1))\n",
       "    (11): ReLU(inplace=True)\n",
       "    (12): Conv2d(256, 256, kernel_size=(3, 3), stride=(1, 1), padding=(1, 1))\n",
       "    (13): ReLU(inplace=True)\n",
       "    (14): Conv2d(256, 256, kernel_size=(3, 3), stride=(1, 1), padding=(1, 1))\n",
       "    (15): ReLU(inplace=True)\n",
       "    (16): MaxPool2d(kernel_size=2, stride=2, padding=0, dilation=1, ceil_mode=False)\n",
       "    (17): Conv2d(256, 512, kernel_size=(3, 3), stride=(1, 1), padding=(1, 1))\n",
       "    (18): ReLU(inplace=True)\n",
       "    (19): Conv2d(512, 512, kernel_size=(3, 3), stride=(1, 1), padding=(1, 1))\n",
       "    (20): ReLU(inplace=True)\n",
       "    (21): Conv2d(512, 512, kernel_size=(3, 3), stride=(1, 1), padding=(1, 1))\n",
       "    (22): ReLU(inplace=True)\n",
       "    (23): MaxPool2d(kernel_size=2, stride=2, padding=0, dilation=1, ceil_mode=False)\n",
       "    (24): Conv2d(512, 512, kernel_size=(3, 3), stride=(1, 1), padding=(1, 1))\n",
       "    (25): ReLU(inplace=True)\n",
       "    (26): Conv2d(512, 512, kernel_size=(3, 3), stride=(1, 1), padding=(1, 1))\n",
       "    (27): ReLU(inplace=True)\n",
       "    (28): Conv2d(512, 512, kernel_size=(3, 3), stride=(1, 1), padding=(1, 1))\n",
       "    (29): ReLU(inplace=True)\n",
       "    (30): MaxPool2d(kernel_size=2, stride=2, padding=0, dilation=1, ceil_mode=False)\n",
       "  )\n",
       "  (avgpool): AdaptiveAvgPool2d(output_size=(7, 7))\n",
       "  (classifier): Sequential(\n",
       "    (0): Linear(in_features=25088, out_features=4096, bias=True)\n",
       "    (1): ReLU(inplace=True)\n",
       "    (2): Dropout(p=0.5, inplace=False)\n",
       "    (3): Linear(in_features=4096, out_features=4096, bias=True)\n",
       "    (4): ReLU(inplace=True)\n",
       "    (5): Dropout(p=0.5, inplace=False)\n",
       "    (6): Linear(in_features=4096, out_features=10, bias=True)\n",
       "    (7): LogSoftmax(dim=-1)\n",
       "  )\n",
       ")"
      ]
     },
     "execution_count": 6,
     "metadata": {},
     "output_type": "execute_result"
    }
   ],
   "source": [
    "model = models.vgg16(pretrained=False)\n",
    "model.classifier[6] = nn.Linear(4096, 10)\n",
    "model.classifier.add_module(\"7\", nn.LogSoftmax(-1))\n",
    "initial_state = deepcopy(model.state_dict())\n",
    "model.to(trainer.device)"
   ]
  },
  {
   "cell_type": "markdown",
   "id": "expired-award",
   "metadata": {},
   "source": [
    "## Momentum"
   ]
  },
  {
   "cell_type": "code",
   "execution_count": 7,
   "id": "8205186b-2be5-495c-aed6-0c36e21d5e00",
   "metadata": {},
   "outputs": [],
   "source": [
    "ks = [20, 10, 5]\n",
    "optimizer = AcceleratedSGD(model.parameters(), 1e-2, k=max(ks), momentum=0.9, weight_decay=1e-5, lambda_=1e-8)\n",
    "loss_fn = nn.NLLLoss()\n",
    "k_loggers = {k: Logger(f\"vgg_log_augmentation-early_stopping-10-k={k}.txt.no_resizing\") for k in ks}\n",
    "logger = Logger(\"vgg_log_augmentation-early_stopping-10.txt.no_resizing\")"
   ]
  },
  {
   "cell_type": "code",
   "execution_count": 8,
   "id": "aaaf12e1-ac86-438c-aa36-5887b38a7c4a",
   "metadata": {},
   "outputs": [
    {
     "name": "stdout",
     "output_type": "stream",
     "text": [
      "100%|██████████████████████████████████████████████████████████| 313/313 [00:21<00:00, 14.27it/s, loss=2.0769]\n",
      "Epoch 1 | Training loss: 2.0769, validation accuracy: 0.2676, validation loss: 1.9881\n",
      "100%|██████████████████████████████████████████████████████████| 313/313 [00:21<00:00, 14.44it/s, loss=1.7477]\n",
      "Epoch 2 | Training loss: 1.7477, validation accuracy: 0.4170, validation loss: 1.5209\n",
      "100%|██████████████████████████████████████████████████████████| 313/313 [00:21<00:00, 14.43it/s, loss=1.5488]\n",
      "Epoch 3 | Training loss: 1.5488, validation accuracy: 0.4623, validation loss: 1.4217\n",
      "100%|██████████████████████████████████████████████████████████| 313/313 [00:21<00:00, 14.41it/s, loss=1.3787]\n",
      "Epoch 4 | Training loss: 1.3787, validation accuracy: 0.5573, validation loss: 1.2151\n",
      "100%|██████████████████████████████████████████████████████████| 313/313 [00:21<00:00, 14.38it/s, loss=1.2382]\n",
      "Epoch 5 | Training loss: 1.2382, validation accuracy: 0.5784, validation loss: 1.1616\n",
      "100%|██████████████████████████████████████████████████████████| 313/313 [00:21<00:00, 14.38it/s, loss=1.1108]\n",
      "Epoch 6 | Training loss: 1.1108, validation accuracy: 0.6643, validation loss: 0.9320\n",
      "100%|██████████████████████████████████████████████████████████| 313/313 [00:21<00:00, 14.38it/s, loss=1.0084]\n",
      "Epoch 7 | Training loss: 1.0084, validation accuracy: 0.7059, validation loss: 0.8187\n",
      "100%|██████████████████████████████████████████████████████████| 313/313 [00:21<00:00, 14.36it/s, loss=0.9344]\n",
      "Epoch 8 | Training loss: 0.9344, validation accuracy: 0.7218, validation loss: 0.8084\n",
      "100%|██████████████████████████████████████████████████████████| 313/313 [00:21<00:00, 14.38it/s, loss=0.8679]\n",
      "Epoch 9 | Training loss: 0.8679, validation accuracy: 0.7406, validation loss: 0.7652\n",
      "100%|██████████████████████████████████████████████████████████| 313/313 [00:21<00:00, 14.35it/s, loss=0.8162]\n",
      "Epoch 10 | Training loss: 0.8162, validation accuracy: 0.7603, validation loss: 0.7040\n",
      "100%|██████████████████████████████████████████████████████████| 313/313 [00:21<00:00, 14.37it/s, loss=0.7716]\n",
      "Epoch 11 | Training loss: 0.7716, validation accuracy: 0.7583, validation loss: 0.7165\n",
      "100%|██████████████████████████████████████████████████████████| 313/313 [00:21<00:00, 14.37it/s, loss=0.7182]\n",
      "Epoch 12 | Training loss: 0.7182, validation accuracy: 0.7801, validation loss: 0.6489\n",
      "100%|██████████████████████████████████████████████████████████| 313/313 [00:21<00:00, 14.37it/s, loss=0.6931]\n",
      "Epoch 13 | Training loss: 0.6931, validation accuracy: 0.7870, validation loss: 0.6295\n",
      "100%|██████████████████████████████████████████████████████████| 313/313 [00:21<00:00, 14.37it/s, loss=0.6550]\n",
      "Epoch 14 | Training loss: 0.6550, validation accuracy: 0.7891, validation loss: 0.6231\n",
      "100%|██████████████████████████████████████████████████████████| 313/313 [00:21<00:00, 14.36it/s, loss=0.6193]\n",
      "Epoch 15 | Training loss: 0.6193, validation accuracy: 0.8089, validation loss: 0.5696\n",
      "100%|██████████████████████████████████████████████████████████| 313/313 [00:21<00:00, 14.34it/s, loss=0.5946]\n",
      "Epoch 16 | Training loss: 0.5946, validation accuracy: 0.8092, validation loss: 0.5813\n",
      "100%|██████████████████████████████████████████████████████████| 313/313 [00:21<00:00, 14.36it/s, loss=0.5555]\n",
      "Epoch 17 | Training loss: 0.5555, validation accuracy: 0.8058, validation loss: 0.5731\n",
      "100%|██████████████████████████████████████████████████████████| 313/313 [00:21<00:00, 14.36it/s, loss=0.5313]\n",
      "Epoch 18 | Training loss: 0.5313, validation accuracy: 0.8215, validation loss: 0.5395\n",
      "100%|██████████████████████████████████████████████████████████| 313/313 [00:21<00:00, 14.37it/s, loss=0.5021]\n",
      "Epoch 19 | Training loss: 0.5021, validation accuracy: 0.8176, validation loss: 0.5440\n",
      "100%|██████████████████████████████████████████████████████████| 313/313 [00:21<00:00, 14.35it/s, loss=0.4855]\n",
      "Epoch 20 | Training loss: 0.4855, validation accuracy: 0.8214, validation loss: 0.5371\n",
      "100%|██████████████████████████████████████████████████████████| 313/313 [00:21<00:00, 14.36it/s, loss=0.4617]\n",
      "Epoch 21 | Training loss: 0.4617, validation accuracy: 0.8265, validation loss: 0.5286\n",
      "100%|██████████████████████████████████████████████████████████| 313/313 [00:21<00:00, 14.37it/s, loss=0.4456]\n",
      "Epoch 22 | Training loss: 0.4456, validation accuracy: 0.8323, validation loss: 0.5198\n",
      "100%|██████████████████████████████████████████████████████████| 313/313 [00:21<00:00, 14.35it/s, loss=0.4306]\n",
      "Epoch 23 | Training loss: 0.4306, validation accuracy: 0.8234, validation loss: 0.5269\n",
      "100%|██████████████████████████████████████████████████████████| 313/313 [00:21<00:00, 14.36it/s, loss=0.4206]\n",
      "Epoch 24 | Training loss: 0.4206, validation accuracy: 0.8423, validation loss: 0.4711\n",
      "100%|██████████████████████████████████████████████████████████| 313/313 [00:21<00:00, 14.34it/s, loss=0.3939]\n",
      "Epoch 25 | Training loss: 0.3939, validation accuracy: 0.8343, validation loss: 0.5049\n",
      "100%|██████████████████████████████████████████████████████████| 313/313 [00:21<00:00, 14.37it/s, loss=0.3740]\n",
      "Epoch 26 | Training loss: 0.3740, validation accuracy: 0.8297, validation loss: 0.5286\n",
      "100%|██████████████████████████████████████████████████████████| 313/313 [00:21<00:00, 14.36it/s, loss=0.3631]\n",
      "Epoch 27 | Training loss: 0.3631, validation accuracy: 0.8306, validation loss: 0.5351\n",
      "100%|██████████████████████████████████████████████████████████| 313/313 [00:21<00:00, 14.33it/s, loss=0.3415]\n",
      "Epoch 28 | Training loss: 0.3415, validation accuracy: 0.8274, validation loss: 0.5428\n",
      "100%|██████████████████████████████████████████████████████████| 313/313 [00:21<00:00, 14.37it/s, loss=0.3294]\n",
      "Epoch 29 | Training loss: 0.3294, validation accuracy: 0.8289, validation loss: 0.5286\n"
     ]
    }
   ],
   "source": [
    "torch.manual_seed(2020)\n",
    "max_epochs = 300\n",
    "early_stopping = EarlyStopping(5)\n",
    "\n",
    "for epoch in range(max_epochs):\n",
    "    train_loss = trainer.train_epoch(model, optimizer, dl[\"train\"])\n",
    "    optimizer.finish_epoch()\n",
    "    val_acc, val_loss = trainer.validation(model, dl[\"valid\"])\n",
    "    logger.log(\"Epoch\", epoch+1, \"|\", \n",
    "          f\"Training loss: {train_loss:.4f}, validation accuracy: {val_acc:.4f}, validation loss: {val_loss:.4f}\")\n",
    "    if early_stopping.should_stop(val_loss):\n",
    "        break"
   ]
  },
  {
   "cell_type": "code",
   "execution_count": 9,
   "id": "e9c00ce7-66e5-4032-9d14-5c197eea3453",
   "metadata": {},
   "outputs": [
    {
     "name": "stdout",
     "output_type": "stream",
     "text": [
      "Train: (0.883575, 0.333403667473793)\n",
      "Valid: (0.8289, 0.5285954370498657)\n"
     ]
    }
   ],
   "source": [
    "train_score = trainer.validation(model, dl[\"train\"])\n",
    "valid_score = trainer.validation(model, dl[\"valid\"])\n",
    "logger.log(\"Train:\", train_score)\n",
    "logger.log(\"Valid:\", valid_score)"
   ]
  },
  {
   "cell_type": "code",
   "execution_count": 10,
   "id": "a16e771f-a466-4568-8644-bf7210b7fabb",
   "metadata": {},
   "outputs": [
    {
     "name": "stdout",
     "output_type": "stream",
     "text": [
      "Train: (0.8967, 0.31249006004333496)\n",
      "Valid: (0.853, 0.4314487959861755)\n",
      "Train: (0.921475, 0.23516985907554627)\n",
      "Valid: (0.8622, 0.4163259819984436)\n",
      "Train: (0.9254, 0.2260812639117241)\n",
      "Valid: (0.855, 0.44542790412902833)\n"
     ]
    }
   ],
   "source": [
    "for k in ks:\n",
    "    model_acc = deepcopy(model)\n",
    "    optimizer.param_groups[0][\"k\"] = k\n",
    "    optimizer.accelerate()\n",
    "    optimizer.store_parameters([model_acc.parameters()])\n",
    "    model_acc.to(trainer.device)\n",
    "    train_score = trainer.validation(model_acc, dl[\"train\"])\n",
    "    valid_score = trainer.validation(model_acc, dl[\"valid\"])\n",
    "    k_loggers[k].log(\"Train:\", train_score)\n",
    "    k_loggers[k].log(\"Valid:\", valid_score)\n",
    "optimizer.param_groups[0][\"k\"] = max(ks)"
   ]
  },
  {
   "cell_type": "code",
   "execution_count": 11,
   "id": "98d34b34-9cc9-49a3-b087-b5ec1f2798f9",
   "metadata": {},
   "outputs": [],
   "source": [
    "optimizer.param_groups[0][\"lr\"] = 1e-3"
   ]
  },
  {
   "cell_type": "code",
   "execution_count": 12,
   "id": "bd9d4373-9791-4cfc-868b-2595c406c45e",
   "metadata": {
    "tags": []
   },
   "outputs": [
    {
     "name": "stdout",
     "output_type": "stream",
     "text": [
      "100%|██████████████████████████████████████████████████████████| 313/313 [00:22<00:00, 13.96it/s, loss=0.2294]\n",
      "Epoch 1 | Training loss: 0.2294, validation accuracy: 0.8595, validation loss: 0.4620\n",
      "100%|██████████████████████████████████████████████████████████| 313/313 [00:22<00:00, 14.08it/s, loss=0.1955]\n",
      "Epoch 2 | Training loss: 0.1955, validation accuracy: 0.8632, validation loss: 0.4569\n",
      "100%|██████████████████████████████████████████████████████████| 313/313 [00:22<00:00, 14.08it/s, loss=0.1843]\n",
      "Epoch 3 | Training loss: 0.1843, validation accuracy: 0.8646, validation loss: 0.4608\n",
      "100%|██████████████████████████████████████████████████████████| 313/313 [00:22<00:00, 14.09it/s, loss=0.1815]\n",
      "Epoch 4 | Training loss: 0.1815, validation accuracy: 0.8681, validation loss: 0.4535\n",
      "100%|██████████████████████████████████████████████████████████| 313/313 [00:22<00:00, 14.10it/s, loss=0.1706]\n",
      "Epoch 5 | Training loss: 0.1706, validation accuracy: 0.8696, validation loss: 0.4594\n",
      "100%|██████████████████████████████████████████████████████████| 313/313 [00:22<00:00, 14.10it/s, loss=0.1599]\n",
      "Epoch 6 | Training loss: 0.1599, validation accuracy: 0.8676, validation loss: 0.4812\n",
      "100%|██████████████████████████████████████████████████████████| 313/313 [00:22<00:00, 14.10it/s, loss=0.1650]\n",
      "Epoch 7 | Training loss: 0.1650, validation accuracy: 0.8645, validation loss: 0.4658\n",
      "100%|██████████████████████████████████████████████████████████| 313/313 [00:22<00:00, 14.12it/s, loss=0.1589]\n",
      "Epoch 8 | Training loss: 0.1589, validation accuracy: 0.8640, validation loss: 0.4804\n",
      "100%|██████████████████████████████████████████████████████████| 313/313 [00:22<00:00, 14.15it/s, loss=0.1524]\n",
      "Epoch 9 | Training loss: 0.1524, validation accuracy: 0.8661, validation loss: 0.4788\n",
      "100%|██████████████████████████████████████████████████████████| 313/313 [00:22<00:00, 14.16it/s, loss=0.1475]\n",
      "Epoch 10 | Training loss: 0.1475, validation accuracy: 0.8670, validation loss: 0.4835\n",
      "100%|██████████████████████████████████████████████████████████| 313/313 [00:22<00:00, 14.18it/s, loss=0.1450]\n",
      "Epoch 11 | Training loss: 0.1450, validation accuracy: 0.8671, validation loss: 0.4796\n",
      "100%|██████████████████████████████████████████████████████████| 313/313 [00:22<00:00, 14.21it/s, loss=0.1369]\n",
      "Epoch 12 | Training loss: 0.1369, validation accuracy: 0.8673, validation loss: 0.5008\n",
      "100%|██████████████████████████████████████████████████████████| 313/313 [00:22<00:00, 14.22it/s, loss=0.1383]\n",
      "Epoch 13 | Training loss: 0.1383, validation accuracy: 0.8680, validation loss: 0.4909\n",
      "100%|██████████████████████████████████████████████████████████| 313/313 [00:21<00:00, 14.24it/s, loss=0.1352]\n",
      "Epoch 14 | Training loss: 0.1352, validation accuracy: 0.8641, validation loss: 0.4905\n"
     ]
    }
   ],
   "source": [
    "max_epochs = 300\n",
    "early_stopping = EarlyStopping(10)\n",
    "\n",
    "for epoch in range(max_epochs):\n",
    "    train_loss = trainer.train_epoch(model, optimizer, dl[\"train\"])\n",
    "    optimizer.finish_epoch()\n",
    "    val_acc, val_loss = trainer.validation(model, dl[\"valid\"])\n",
    "    logger.log(\"Epoch\", epoch+1, \"|\", \n",
    "          f\"Training loss: {train_loss:.4f}, validation accuracy: {val_acc:.4f}, validation loss: {val_loss:.4f}\")\n",
    "    if early_stopping.should_stop(val_loss):\n",
    "        break"
   ]
  },
  {
   "cell_type": "code",
   "execution_count": 13,
   "id": "d241872b-318b-4667-b9a0-c076c0c8c547",
   "metadata": {},
   "outputs": [
    {
     "name": "stdout",
     "output_type": "stream",
     "text": [
      "Train: (0.955975, 0.12859068150520325)\n",
      "Valid: (0.8641, 0.4905152772903442)\n"
     ]
    }
   ],
   "source": [
    "train_score = trainer.validation(model, dl[\"train\"])\n",
    "valid_score = trainer.validation(model, dl[\"valid\"])\n",
    "logger.log(\"Train:\", train_score)\n",
    "logger.log(\"Valid:\", valid_score)"
   ]
  },
  {
   "cell_type": "code",
   "execution_count": 14,
   "id": "d7ffc3c3-c929-42e6-87ba-eb5de340d512",
   "metadata": {},
   "outputs": [
    {
     "name": "stdout",
     "output_type": "stream",
     "text": [
      "Train: (0.952175, 0.13988058605194092)\n",
      "Valid: (0.87, 0.4663050844192505)\n",
      "Train: (0.953775, 0.13276294705867767)\n",
      "Valid: (0.8694, 0.47475941944122313)\n",
      "Train: (0.955825, 0.12781404001712798)\n",
      "Valid: (0.8689, 0.48250939292907713)\n"
     ]
    }
   ],
   "source": [
    "for k in ks:\n",
    "    model_acc = deepcopy(model)\n",
    "    optimizer.param_groups[0][\"k\"] = k\n",
    "    optimizer.accelerate()\n",
    "    optimizer.store_parameters([model_acc.parameters()])\n",
    "    model_acc.to(trainer.device)\n",
    "    train_score = trainer.validation(model_acc, dl[\"train\"])\n",
    "    valid_score = trainer.validation(model_acc, dl[\"valid\"])\n",
    "    k_loggers[k].log(\"Train:\", train_score)\n",
    "    k_loggers[k].log(\"Valid:\", valid_score)\n",
    "optimizer.param_groups[0][\"k\"] = max(ks)"
   ]
  },
  {
   "cell_type": "code",
   "execution_count": 15,
   "id": "53cf0935-beb7-422d-812e-9171603e2078",
   "metadata": {},
   "outputs": [],
   "source": [
    "optimizer.param_groups[0][\"lr\"] = 1e-4"
   ]
  },
  {
   "cell_type": "code",
   "execution_count": 16,
   "id": "197c9125-0fce-4f03-8991-c0b86f1f4d10",
   "metadata": {},
   "outputs": [
    {
     "name": "stdout",
     "output_type": "stream",
     "text": [
      "100%|██████████████████████████████████████████████████████████| 313/313 [00:22<00:00, 13.93it/s, loss=0.1292]\n",
      "Epoch 1 | Training loss: 0.1292, validation accuracy: 0.8669, validation loss: 0.4865\n",
      "100%|██████████████████████████████████████████████████████████| 313/313 [00:22<00:00, 13.94it/s, loss=0.1201]\n",
      "Epoch 2 | Training loss: 0.1201, validation accuracy: 0.8668, validation loss: 0.4887\n",
      "100%|██████████████████████████████████████████████████████████| 313/313 [00:22<00:00, 13.94it/s, loss=0.1206]\n",
      "Epoch 3 | Training loss: 0.1206, validation accuracy: 0.8687, validation loss: 0.4892\n",
      "100%|██████████████████████████████████████████████████████████| 313/313 [00:22<00:00, 13.91it/s, loss=0.1228]\n",
      "Epoch 4 | Training loss: 0.1228, validation accuracy: 0.8683, validation loss: 0.4929\n",
      "100%|██████████████████████████████████████████████████████████| 313/313 [00:22<00:00, 13.91it/s, loss=0.1245]\n",
      "Epoch 5 | Training loss: 0.1245, validation accuracy: 0.8688, validation loss: 0.4906\n",
      "100%|██████████████████████████████████████████████████████████| 313/313 [00:22<00:00, 13.95it/s, loss=0.1192]\n",
      "Epoch 6 | Training loss: 0.1192, validation accuracy: 0.8686, validation loss: 0.4942\n",
      "100%|██████████████████████████████████████████████████████████| 313/313 [00:22<00:00, 13.96it/s, loss=0.1194]\n",
      "Epoch 7 | Training loss: 0.1194, validation accuracy: 0.8692, validation loss: 0.4965\n",
      "100%|██████████████████████████████████████████████████████████| 313/313 [00:22<00:00, 13.97it/s, loss=0.1211]\n",
      "Epoch 8 | Training loss: 0.1211, validation accuracy: 0.8691, validation loss: 0.4964\n",
      "100%|██████████████████████████████████████████████████████████| 313/313 [00:22<00:00, 14.01it/s, loss=0.1152]\n",
      "Epoch 9 | Training loss: 0.1152, validation accuracy: 0.8675, validation loss: 0.4982\n",
      "100%|██████████████████████████████████████████████████████████| 313/313 [00:22<00:00, 14.00it/s, loss=0.1201]\n",
      "Epoch 10 | Training loss: 0.1201, validation accuracy: 0.8681, validation loss: 0.4985\n",
      "100%|██████████████████████████████████████████████████████████| 313/313 [00:22<00:00, 13.99it/s, loss=0.1207]\n",
      "Epoch 11 | Training loss: 0.1207, validation accuracy: 0.8688, validation loss: 0.4952\n"
     ]
    }
   ],
   "source": [
    "max_epochs = 300\n",
    "early_stopping = EarlyStopping(10)\n",
    "\n",
    "for epoch in range(max_epochs):\n",
    "    train_loss = trainer.train_epoch(model, optimizer, dl[\"train\"])\n",
    "    optimizer.finish_epoch()\n",
    "    val_acc, val_loss = trainer.validation(model, dl[\"valid\"])\n",
    "    logger.log(\"Epoch\", epoch+1, \"|\", \n",
    "          f\"Training loss: {train_loss:.4f}, validation accuracy: {val_acc:.4f}, validation loss: {val_loss:.4f}\")\n",
    "    if early_stopping.should_stop(val_loss):\n",
    "        break"
   ]
  },
  {
   "cell_type": "code",
   "execution_count": 17,
   "id": "7f168298-62bf-4e41-8607-f9036bd0ba9e",
   "metadata": {},
   "outputs": [
    {
     "name": "stdout",
     "output_type": "stream",
     "text": [
      "Train: (0.961125, 0.11509836530685424)\n",
      "Valid: (0.8688, 0.4952331829071045)\n"
     ]
    }
   ],
   "source": [
    "train_score = trainer.validation(model, dl[\"train\"])\n",
    "valid_score = trainer.validation(model, dl[\"valid\"])\n",
    "logger.log(\"Train:\", train_score)\n",
    "logger.log(\"Valid:\", valid_score)"
   ]
  },
  {
   "cell_type": "code",
   "execution_count": 18,
   "id": "a94605ed-afc1-4e7a-8bc8-46197f9e6b31",
   "metadata": {},
   "outputs": [
    {
     "name": "stdout",
     "output_type": "stream",
     "text": [
      "Train: (0.96155, 0.11272089142203331)\n",
      "Valid: (0.8683, 0.49355858478546144)\n",
      "Train: (0.960275, 0.11707456923723221)\n",
      "Valid: (0.8679, 0.49414962043762206)\n",
      "Train: (0.960575, 0.11554838743209839)\n",
      "Valid: (0.8682, 0.4965355113983154)\n"
     ]
    }
   ],
   "source": [
    "for k in ks:\n",
    "    model_acc = deepcopy(model)\n",
    "    optimizer.param_groups[0][\"k\"] = k\n",
    "    optimizer.accelerate()\n",
    "    optimizer.store_parameters([model_acc.parameters()])\n",
    "    model_acc.to(trainer.device)\n",
    "    train_score = trainer.validation(model_acc, dl[\"train\"])\n",
    "    valid_score = trainer.validation(model_acc, dl[\"valid\"])\n",
    "    k_loggers[k].log(\"Train:\", train_score)\n",
    "    k_loggers[k].log(\"Valid:\", valid_score)\n",
    "optimizer.param_groups[0][\"k\"] = max(ks)"
   ]
  },
  {
   "cell_type": "markdown",
   "id": "36480044-8c29-4ac1-9169-0cd1c3a5bec9",
   "metadata": {},
   "source": [
    "## Epoch average, span = 10"
   ]
  },
  {
   "cell_type": "code",
   "execution_count": 7,
   "id": "341aafdd-7470-4a32-ab64-556c210ac444",
   "metadata": {},
   "outputs": [
    {
     "data": {
      "text/plain": [
       "VGG(\n",
       "  (features): Sequential(\n",
       "    (0): Conv2d(3, 64, kernel_size=(3, 3), stride=(1, 1), padding=(1, 1))\n",
       "    (1): ReLU(inplace=True)\n",
       "    (2): Conv2d(64, 64, kernel_size=(3, 3), stride=(1, 1), padding=(1, 1))\n",
       "    (3): ReLU(inplace=True)\n",
       "    (4): MaxPool2d(kernel_size=2, stride=2, padding=0, dilation=1, ceil_mode=False)\n",
       "    (5): Conv2d(64, 128, kernel_size=(3, 3), stride=(1, 1), padding=(1, 1))\n",
       "    (6): ReLU(inplace=True)\n",
       "    (7): Conv2d(128, 128, kernel_size=(3, 3), stride=(1, 1), padding=(1, 1))\n",
       "    (8): ReLU(inplace=True)\n",
       "    (9): MaxPool2d(kernel_size=2, stride=2, padding=0, dilation=1, ceil_mode=False)\n",
       "    (10): Conv2d(128, 256, kernel_size=(3, 3), stride=(1, 1), padding=(1, 1))\n",
       "    (11): ReLU(inplace=True)\n",
       "    (12): Conv2d(256, 256, kernel_size=(3, 3), stride=(1, 1), padding=(1, 1))\n",
       "    (13): ReLU(inplace=True)\n",
       "    (14): Conv2d(256, 256, kernel_size=(3, 3), stride=(1, 1), padding=(1, 1))\n",
       "    (15): ReLU(inplace=True)\n",
       "    (16): MaxPool2d(kernel_size=2, stride=2, padding=0, dilation=1, ceil_mode=False)\n",
       "    (17): Conv2d(256, 512, kernel_size=(3, 3), stride=(1, 1), padding=(1, 1))\n",
       "    (18): ReLU(inplace=True)\n",
       "    (19): Conv2d(512, 512, kernel_size=(3, 3), stride=(1, 1), padding=(1, 1))\n",
       "    (20): ReLU(inplace=True)\n",
       "    (21): Conv2d(512, 512, kernel_size=(3, 3), stride=(1, 1), padding=(1, 1))\n",
       "    (22): ReLU(inplace=True)\n",
       "    (23): MaxPool2d(kernel_size=2, stride=2, padding=0, dilation=1, ceil_mode=False)\n",
       "    (24): Conv2d(512, 512, kernel_size=(3, 3), stride=(1, 1), padding=(1, 1))\n",
       "    (25): ReLU(inplace=True)\n",
       "    (26): Conv2d(512, 512, kernel_size=(3, 3), stride=(1, 1), padding=(1, 1))\n",
       "    (27): ReLU(inplace=True)\n",
       "    (28): Conv2d(512, 512, kernel_size=(3, 3), stride=(1, 1), padding=(1, 1))\n",
       "    (29): ReLU(inplace=True)\n",
       "    (30): MaxPool2d(kernel_size=2, stride=2, padding=0, dilation=1, ceil_mode=False)\n",
       "  )\n",
       "  (avgpool): AdaptiveAvgPool2d(output_size=(7, 7))\n",
       "  (classifier): Sequential(\n",
       "    (0): Linear(in_features=25088, out_features=4096, bias=True)\n",
       "    (1): ReLU(inplace=True)\n",
       "    (2): Dropout(p=0.5, inplace=False)\n",
       "    (3): Linear(in_features=4096, out_features=4096, bias=True)\n",
       "    (4): ReLU(inplace=True)\n",
       "    (5): Dropout(p=0.5, inplace=False)\n",
       "    (6): Linear(in_features=4096, out_features=10, bias=True)\n",
       "    (7): LogSoftmax(dim=-1)\n",
       "  )\n",
       ")"
      ]
     },
     "execution_count": 7,
     "metadata": {},
     "output_type": "execute_result"
    }
   ],
   "source": [
    "model.load_state_dict(initial_state)\n",
    "model.to(trainer.device)"
   ]
  },
  {
   "cell_type": "code",
   "execution_count": 8,
   "id": "50a8167a-7dab-4eaa-bb7a-704782bc80c9",
   "metadata": {},
   "outputs": [
    {
     "data": {
      "text/plain": [
       "(0.0875, 2.3028329822540283)"
      ]
     },
     "execution_count": 8,
     "metadata": {},
     "output_type": "execute_result"
    }
   ],
   "source": [
    "trainer.validation(model, dl[\"valid\"])"
   ]
  },
  {
   "cell_type": "code",
   "execution_count": 9,
   "id": "8485dbc6-591a-44b7-b072-0648d55c76c0",
   "metadata": {},
   "outputs": [],
   "source": [
    "optimizer = AcceleratedSGD(model.parameters(), 1e-2, k=10, momentum=0.9, weight_decay=1e-5, lambda_=1e-8, mode=\"epoch_avg\", avg_alpha=2 / (10 + 1))\n",
    "logger = Logger(\"vgg_log_augmentation_averaging_span10-early_stopping.txt\")"
   ]
  },
  {
   "cell_type": "code",
   "execution_count": 10,
   "id": "aa917089-03e4-4b4a-ba8f-f122e2995d89",
   "metadata": {},
   "outputs": [
    {
     "name": "stdout",
     "output_type": "stream",
     "text": [
      "100%|██████████████████████████████████████████████████████████| 313/313 [00:25<00:00, 12.43it/s, loss=2.1162]\n",
      "Epoch 1 | Training loss: 2.1162, validation accuracy: 0.2941, validation loss: 1.8020\n",
      "100%|██████████████████████████████████████████████████████████| 313/313 [00:25<00:00, 12.37it/s, loss=1.7647]\n",
      "Epoch 2 | Training loss: 1.7647, validation accuracy: 0.4005, validation loss: 1.5425\n",
      "100%|██████████████████████████████████████████████████████████| 313/313 [00:25<00:00, 12.36it/s, loss=1.5520]\n",
      "Epoch 3 | Training loss: 1.5520, validation accuracy: 0.4661, validation loss: 1.4122\n",
      "100%|██████████████████████████████████████████████████████████| 313/313 [00:25<00:00, 12.37it/s, loss=1.3848]\n",
      "Epoch 4 | Training loss: 1.3848, validation accuracy: 0.5636, validation loss: 1.1928\n",
      "100%|██████████████████████████████████████████████████████████| 313/313 [00:25<00:00, 12.37it/s, loss=1.2572]\n",
      "Epoch 5 | Training loss: 1.2572, validation accuracy: 0.5833, validation loss: 1.1647\n",
      "100%|██████████████████████████████████████████████████████████| 313/313 [00:25<00:00, 12.37it/s, loss=1.1232]\n",
      "Epoch 6 | Training loss: 1.1232, validation accuracy: 0.6243, validation loss: 1.0484\n",
      "100%|██████████████████████████████████████████████████████████| 313/313 [00:25<00:00, 12.36it/s, loss=1.0450]\n",
      "Epoch 7 | Training loss: 1.0450, validation accuracy: 0.6866, validation loss: 0.8941\n",
      "100%|██████████████████████████████████████████████████████████| 313/313 [00:25<00:00, 12.37it/s, loss=0.9525]\n",
      "Epoch 8 | Training loss: 0.9525, validation accuracy: 0.7062, validation loss: 0.8517\n",
      "100%|██████████████████████████████████████████████████████████| 313/313 [00:25<00:00, 12.37it/s, loss=0.8908]\n",
      "Epoch 9 | Training loss: 0.8908, validation accuracy: 0.7148, validation loss: 0.8332\n",
      "100%|██████████████████████████████████████████████████████████| 313/313 [00:25<00:00, 12.36it/s, loss=0.8292]\n",
      "Epoch 10 | Training loss: 0.8292, validation accuracy: 0.7465, validation loss: 0.7295\n",
      "100%|██████████████████████████████████████████████████████████| 313/313 [00:25<00:00, 12.36it/s, loss=0.7878]\n",
      "Epoch 11 | Training loss: 0.7878, validation accuracy: 0.7376, validation loss: 0.7614\n",
      "100%|██████████████████████████████████████████████████████████| 313/313 [00:25<00:00, 12.36it/s, loss=0.7400]\n",
      "Epoch 12 | Training loss: 0.7400, validation accuracy: 0.7599, validation loss: 0.7135\n",
      "100%|██████████████████████████████████████████████████████████| 313/313 [00:25<00:00, 12.37it/s, loss=0.6956]\n",
      "Epoch 13 | Training loss: 0.6956, validation accuracy: 0.7773, validation loss: 0.6629\n",
      "100%|██████████████████████████████████████████████████████████| 313/313 [00:25<00:00, 12.37it/s, loss=0.6645]\n",
      "Epoch 14 | Training loss: 0.6645, validation accuracy: 0.7818, validation loss: 0.6418\n",
      "100%|██████████████████████████████████████████████████████████| 313/313 [00:25<00:00, 12.37it/s, loss=0.6176]\n",
      "Epoch 15 | Training loss: 0.6176, validation accuracy: 0.8060, validation loss: 0.5744\n",
      "100%|██████████████████████████████████████████████████████████| 313/313 [00:25<00:00, 12.36it/s, loss=0.5945]\n",
      "Epoch 16 | Training loss: 0.5945, validation accuracy: 0.8094, validation loss: 0.5717\n",
      "100%|██████████████████████████████████████████████████████████| 313/313 [00:25<00:00, 12.36it/s, loss=0.5669]\n",
      "Epoch 17 | Training loss: 0.5669, validation accuracy: 0.8122, validation loss: 0.5439\n",
      "100%|██████████████████████████████████████████████████████████| 313/313 [00:25<00:00, 12.36it/s, loss=0.5400]\n",
      "Epoch 18 | Training loss: 0.5400, validation accuracy: 0.8240, validation loss: 0.5284\n",
      "100%|██████████████████████████████████████████████████████████| 313/313 [00:25<00:00, 12.36it/s, loss=0.5140]\n",
      "Epoch 19 | Training loss: 0.5140, validation accuracy: 0.8193, validation loss: 0.5358\n",
      "100%|██████████████████████████████████████████████████████████| 313/313 [00:25<00:00, 12.37it/s, loss=0.5015]\n",
      "Epoch 20 | Training loss: 0.5015, validation accuracy: 0.8147, validation loss: 0.5437\n",
      "100%|██████████████████████████████████████████████████████████| 313/313 [00:25<00:00, 12.36it/s, loss=0.4666]\n",
      "Epoch 21 | Training loss: 0.4666, validation accuracy: 0.8290, validation loss: 0.5231\n",
      "100%|██████████████████████████████████████████████████████████| 313/313 [00:25<00:00, 12.37it/s, loss=0.4450]\n",
      "Epoch 22 | Training loss: 0.4450, validation accuracy: 0.8361, validation loss: 0.5020\n",
      "100%|██████████████████████████████████████████████████████████| 313/313 [00:25<00:00, 12.36it/s, loss=0.4300]\n",
      "Epoch 23 | Training loss: 0.4300, validation accuracy: 0.8338, validation loss: 0.5253\n",
      "100%|██████████████████████████████████████████████████████████| 313/313 [00:25<00:00, 12.36it/s, loss=0.4116]\n",
      "Epoch 24 | Training loss: 0.4116, validation accuracy: 0.8270, validation loss: 0.5126\n",
      "100%|██████████████████████████████████████████████████████████| 313/313 [00:25<00:00, 12.36it/s, loss=0.3969]\n",
      "Epoch 25 | Training loss: 0.3969, validation accuracy: 0.8401, validation loss: 0.4988\n",
      "100%|██████████████████████████████████████████████████████████| 313/313 [00:25<00:00, 12.36it/s, loss=0.3771]\n",
      "Epoch 26 | Training loss: 0.3771, validation accuracy: 0.8347, validation loss: 0.5254\n",
      "100%|██████████████████████████████████████████████████████████| 313/313 [00:25<00:00, 12.36it/s, loss=0.3678]\n",
      "Epoch 27 | Training loss: 0.3678, validation accuracy: 0.8383, validation loss: 0.4963\n",
      "100%|██████████████████████████████████████████████████████████| 313/313 [00:25<00:00, 12.36it/s, loss=0.3508]\n",
      "Epoch 28 | Training loss: 0.3508, validation accuracy: 0.8381, validation loss: 0.5152\n",
      "100%|██████████████████████████████████████████████████████████| 313/313 [00:25<00:00, 12.36it/s, loss=0.3251]\n",
      "Epoch 29 | Training loss: 0.3251, validation accuracy: 0.8339, validation loss: 0.5458\n",
      "100%|██████████████████████████████████████████████████████████| 313/313 [00:25<00:00, 12.37it/s, loss=0.3257]\n",
      "Epoch 30 | Training loss: 0.3257, validation accuracy: 0.8463, validation loss: 0.5038\n",
      "100%|██████████████████████████████████████████████████████████| 313/313 [00:25<00:00, 12.37it/s, loss=0.3137]\n",
      "Epoch 31 | Training loss: 0.3137, validation accuracy: 0.8489, validation loss: 0.5178\n",
      "100%|██████████████████████████████████████████████████████████| 313/313 [00:25<00:00, 12.36it/s, loss=0.3035]\n",
      "Epoch 32 | Training loss: 0.3035, validation accuracy: 0.8448, validation loss: 0.5077\n",
      "100%|██████████████████████████████████████████████████████████| 313/313 [00:25<00:00, 12.37it/s, loss=0.2846]\n",
      "Epoch 33 | Training loss: 0.2846, validation accuracy: 0.8492, validation loss: 0.4971\n",
      "100%|██████████████████████████████████████████████████████████| 313/313 [00:25<00:00, 12.34it/s, loss=0.2738]\n",
      "Epoch 34 | Training loss: 0.2738, validation accuracy: 0.8519, validation loss: 0.4885\n",
      "100%|██████████████████████████████████████████████████████████| 313/313 [00:25<00:00, 12.36it/s, loss=0.2743]\n",
      "Epoch 35 | Training loss: 0.2743, validation accuracy: 0.8413, validation loss: 0.5453\n",
      "100%|██████████████████████████████████████████████████████████| 313/313 [00:25<00:00, 12.36it/s, loss=0.2545]\n",
      "Epoch 36 | Training loss: 0.2545, validation accuracy: 0.8440, validation loss: 0.5284\n",
      "100%|██████████████████████████████████████████████████████████| 313/313 [00:25<00:00, 12.36it/s, loss=0.2491]\n",
      "Epoch 37 | Training loss: 0.2491, validation accuracy: 0.8459, validation loss: 0.5337\n",
      "100%|██████████████████████████████████████████████████████████| 313/313 [00:25<00:00, 12.36it/s, loss=0.2452]\n",
      "Epoch 38 | Training loss: 0.2452, validation accuracy: 0.8482, validation loss: 0.5048\n",
      "100%|██████████████████████████████████████████████████████████| 313/313 [00:25<00:00, 12.36it/s, loss=0.2271]\n",
      "Epoch 39 | Training loss: 0.2271, validation accuracy: 0.8501, validation loss: 0.4952\n",
      "100%|██████████████████████████████████████████████████████████| 313/313 [00:25<00:00, 12.36it/s, loss=0.2223]\n",
      "Epoch 40 | Training loss: 0.2223, validation accuracy: 0.8533, validation loss: 0.4919\n",
      "100%|██████████████████████████████████████████████████████████| 313/313 [00:25<00:00, 12.36it/s, loss=0.2235]\n",
      "Epoch 41 | Training loss: 0.2235, validation accuracy: 0.8546, validation loss: 0.5068\n",
      "100%|██████████████████████████████████████████████████████████| 313/313 [00:25<00:00, 12.36it/s, loss=0.2070]\n",
      "Epoch 42 | Training loss: 0.2070, validation accuracy: 0.8620, validation loss: 0.4610\n",
      "100%|██████████████████████████████████████████████████████████| 313/313 [00:25<00:00, 12.36it/s, loss=0.2004]\n",
      "Epoch 43 | Training loss: 0.2004, validation accuracy: 0.8491, validation loss: 0.5188\n",
      "100%|██████████████████████████████████████████████████████████| 313/313 [00:25<00:00, 12.36it/s, loss=0.1887]\n",
      "Epoch 44 | Training loss: 0.1887, validation accuracy: 0.8529, validation loss: 0.5202\n",
      "100%|██████████████████████████████████████████████████████████| 313/313 [00:25<00:00, 12.36it/s, loss=0.1862]\n",
      "Epoch 45 | Training loss: 0.1862, validation accuracy: 0.8600, validation loss: 0.5246\n",
      "100%|██████████████████████████████████████████████████████████| 313/313 [00:25<00:00, 12.36it/s, loss=0.1837]\n",
      "Epoch 46 | Training loss: 0.1837, validation accuracy: 0.8538, validation loss: 0.5293\n",
      "100%|██████████████████████████████████████████████████████████| 313/313 [00:25<00:00, 12.36it/s, loss=0.1702]\n",
      "Epoch 47 | Training loss: 0.1702, validation accuracy: 0.8570, validation loss: 0.5103\n",
      "100%|██████████████████████████████████████████████████████████| 313/313 [00:25<00:00, 12.37it/s, loss=0.1721]\n",
      "Epoch 48 | Training loss: 0.1721, validation accuracy: 0.8655, validation loss: 0.4879\n",
      "100%|██████████████████████████████████████████████████████████| 313/313 [00:25<00:00, 12.36it/s, loss=0.1682]\n",
      "Epoch 49 | Training loss: 0.1682, validation accuracy: 0.8639, validation loss: 0.5064\n",
      "100%|██████████████████████████████████████████████████████████| 313/313 [00:25<00:00, 12.36it/s, loss=0.1630]\n",
      "Epoch 50 | Training loss: 0.1630, validation accuracy: 0.8645, validation loss: 0.4799\n",
      "100%|██████████████████████████████████████████████████████████| 313/313 [00:25<00:00, 12.36it/s, loss=0.1540]\n",
      "Epoch 51 | Training loss: 0.1540, validation accuracy: 0.8613, validation loss: 0.5186\n",
      "100%|██████████████████████████████████████████████████████████| 313/313 [00:25<00:00, 12.37it/s, loss=0.1441]\n",
      "Epoch 52 | Training loss: 0.1441, validation accuracy: 0.8540, validation loss: 0.5654\n"
     ]
    }
   ],
   "source": [
    "torch.manual_seed(2020)\n",
    "max_epochs = 300\n",
    "early_stopping = EarlyStopping(10)\n",
    "\n",
    "for epoch in range(max_epochs):\n",
    "    train_loss = trainer.train_epoch(model, optimizer, dl[\"train\"])\n",
    "    optimizer.finish_epoch()\n",
    "    val_acc, val_loss = trainer.validation(model, dl[\"valid\"])\n",
    "    logger.log(\"Epoch\", epoch+1, \"|\", \n",
    "          f\"Training loss: {train_loss:.4f}, validation accuracy: {val_acc:.4f}, validation loss: {val_loss:.4f}\")\n",
    "    if early_stopping.should_stop(val_loss):\n",
    "        break"
   ]
  },
  {
   "cell_type": "code",
   "execution_count": 11,
   "id": "5fb04264-a64e-46c0-b214-ee1e40ebfbca",
   "metadata": {},
   "outputs": [
    {
     "name": "stdout",
     "output_type": "stream",
     "text": [
      "Train: (0.949775, 0.14794875841140748)\n",
      "Valid: (0.854, 0.5653819366455078)\n"
     ]
    }
   ],
   "source": [
    "train_score = trainer.validation(model, dl[\"train\"])\n",
    "valid_score = trainer.validation(model, dl[\"valid\"])\n",
    "logger.log(\"Train:\", train_score)\n",
    "logger.log(\"Valid:\", valid_score)"
   ]
  },
  {
   "cell_type": "code",
   "execution_count": 12,
   "id": "93a66663-fecb-4f26-b839-99b51aff18d2",
   "metadata": {},
   "outputs": [
    {
     "data": {
      "text/plain": [
       "VGG(\n",
       "  (features): Sequential(\n",
       "    (0): Conv2d(3, 64, kernel_size=(3, 3), stride=(1, 1), padding=(1, 1))\n",
       "    (1): ReLU(inplace=True)\n",
       "    (2): Conv2d(64, 64, kernel_size=(3, 3), stride=(1, 1), padding=(1, 1))\n",
       "    (3): ReLU(inplace=True)\n",
       "    (4): MaxPool2d(kernel_size=2, stride=2, padding=0, dilation=1, ceil_mode=False)\n",
       "    (5): Conv2d(64, 128, kernel_size=(3, 3), stride=(1, 1), padding=(1, 1))\n",
       "    (6): ReLU(inplace=True)\n",
       "    (7): Conv2d(128, 128, kernel_size=(3, 3), stride=(1, 1), padding=(1, 1))\n",
       "    (8): ReLU(inplace=True)\n",
       "    (9): MaxPool2d(kernel_size=2, stride=2, padding=0, dilation=1, ceil_mode=False)\n",
       "    (10): Conv2d(128, 256, kernel_size=(3, 3), stride=(1, 1), padding=(1, 1))\n",
       "    (11): ReLU(inplace=True)\n",
       "    (12): Conv2d(256, 256, kernel_size=(3, 3), stride=(1, 1), padding=(1, 1))\n",
       "    (13): ReLU(inplace=True)\n",
       "    (14): Conv2d(256, 256, kernel_size=(3, 3), stride=(1, 1), padding=(1, 1))\n",
       "    (15): ReLU(inplace=True)\n",
       "    (16): MaxPool2d(kernel_size=2, stride=2, padding=0, dilation=1, ceil_mode=False)\n",
       "    (17): Conv2d(256, 512, kernel_size=(3, 3), stride=(1, 1), padding=(1, 1))\n",
       "    (18): ReLU(inplace=True)\n",
       "    (19): Conv2d(512, 512, kernel_size=(3, 3), stride=(1, 1), padding=(1, 1))\n",
       "    (20): ReLU(inplace=True)\n",
       "    (21): Conv2d(512, 512, kernel_size=(3, 3), stride=(1, 1), padding=(1, 1))\n",
       "    (22): ReLU(inplace=True)\n",
       "    (23): MaxPool2d(kernel_size=2, stride=2, padding=0, dilation=1, ceil_mode=False)\n",
       "    (24): Conv2d(512, 512, kernel_size=(3, 3), stride=(1, 1), padding=(1, 1))\n",
       "    (25): ReLU(inplace=True)\n",
       "    (26): Conv2d(512, 512, kernel_size=(3, 3), stride=(1, 1), padding=(1, 1))\n",
       "    (27): ReLU(inplace=True)\n",
       "    (28): Conv2d(512, 512, kernel_size=(3, 3), stride=(1, 1), padding=(1, 1))\n",
       "    (29): ReLU(inplace=True)\n",
       "    (30): MaxPool2d(kernel_size=2, stride=2, padding=0, dilation=1, ceil_mode=False)\n",
       "  )\n",
       "  (avgpool): AdaptiveAvgPool2d(output_size=(7, 7))\n",
       "  (classifier): Sequential(\n",
       "    (0): Linear(in_features=25088, out_features=4096, bias=True)\n",
       "    (1): ReLU(inplace=True)\n",
       "    (2): Dropout(p=0.5, inplace=False)\n",
       "    (3): Linear(in_features=4096, out_features=4096, bias=True)\n",
       "    (4): ReLU(inplace=True)\n",
       "    (5): Dropout(p=0.5, inplace=False)\n",
       "    (6): Linear(in_features=4096, out_features=10, bias=True)\n",
       "    (7): LogSoftmax(dim=-1)\n",
       "  )\n",
       ")"
      ]
     },
     "execution_count": 12,
     "metadata": {},
     "output_type": "execute_result"
    }
   ],
   "source": [
    "model_acc = deepcopy(model)\n",
    "optimizer.accelerate()\n",
    "optimizer.store_parameters([model_acc.parameters()])\n",
    "model_acc.to(trainer.device)"
   ]
  },
  {
   "cell_type": "code",
   "execution_count": 13,
   "id": "b91a7564-90b7-43f1-9847-be07a2c7d37d",
   "metadata": {},
   "outputs": [
    {
     "name": "stdout",
     "output_type": "stream",
     "text": [
      "Train: (0.98125, 0.06213511547744274)\n",
      "Valid: (0.8814, 0.4210780303955078)\n"
     ]
    }
   ],
   "source": [
    "train_score = trainer.validation(model_acc, dl[\"train\"])\n",
    "valid_score = trainer.validation(model_acc, dl[\"valid\"])\n",
    "logger.log(\"Train:\", train_score)\n",
    "logger.log(\"Valid:\", valid_score)"
   ]
  },
  {
   "cell_type": "code",
   "execution_count": 14,
   "id": "5eaa409d-b220-42bb-ba86-05b88f62f90c",
   "metadata": {},
   "outputs": [],
   "source": [
    "optimizer.param_groups[0][\"lr\"] = 1e-3"
   ]
  },
  {
   "cell_type": "code",
   "execution_count": 15,
   "id": "c2c240f0-2fb2-4d7c-95e4-bb36cbc18180",
   "metadata": {},
   "outputs": [
    {
     "name": "stdout",
     "output_type": "stream",
     "text": [
      "100%|██████████████████████████████████████████████████████████| 313/313 [00:25<00:00, 12.36it/s, loss=0.0898]\n",
      "Epoch 1 | Training loss: 0.0898, validation accuracy: 0.8730, validation loss: 0.5054\n",
      "100%|██████████████████████████████████████████████████████████| 313/313 [00:25<00:00, 12.34it/s, loss=0.0676]\n",
      "Epoch 2 | Training loss: 0.0676, validation accuracy: 0.8766, validation loss: 0.5170\n",
      "100%|██████████████████████████████████████████████████████████| 313/313 [00:25<00:00, 12.35it/s, loss=0.0610]\n",
      "Epoch 3 | Training loss: 0.0610, validation accuracy: 0.8759, validation loss: 0.5363\n",
      "100%|██████████████████████████████████████████████████████████| 313/313 [00:25<00:00, 12.36it/s, loss=0.0588]\n",
      "Epoch 4 | Training loss: 0.0588, validation accuracy: 0.8767, validation loss: 0.5291\n",
      "100%|██████████████████████████████████████████████████████████| 313/313 [00:25<00:00, 12.36it/s, loss=0.0544]\n",
      "Epoch 5 | Training loss: 0.0544, validation accuracy: 0.8798, validation loss: 0.5334\n",
      "100%|██████████████████████████████████████████████████████████| 313/313 [00:25<00:00, 12.36it/s, loss=0.0523]\n",
      "Epoch 6 | Training loss: 0.0523, validation accuracy: 0.8782, validation loss: 0.5452\n",
      "100%|██████████████████████████████████████████████████████████| 313/313 [00:25<00:00, 12.36it/s, loss=0.0482]\n",
      "Epoch 7 | Training loss: 0.0482, validation accuracy: 0.8792, validation loss: 0.5469\n",
      "100%|██████████████████████████████████████████████████████████| 313/313 [00:25<00:00, 12.35it/s, loss=0.0491]\n",
      "Epoch 8 | Training loss: 0.0491, validation accuracy: 0.8785, validation loss: 0.5461\n",
      "100%|██████████████████████████████████████████████████████████| 313/313 [00:25<00:00, 12.35it/s, loss=0.0474]\n",
      "Epoch 9 | Training loss: 0.0474, validation accuracy: 0.8786, validation loss: 0.5561\n",
      "100%|██████████████████████████████████████████████████████████| 313/313 [00:25<00:00, 12.35it/s, loss=0.0458]\n",
      "Epoch 10 | Training loss: 0.0458, validation accuracy: 0.8799, validation loss: 0.5483\n",
      "100%|██████████████████████████████████████████████████████████| 313/313 [00:25<00:00, 12.36it/s, loss=0.0438]\n",
      "Epoch 11 | Training loss: 0.0438, validation accuracy: 0.8789, validation loss: 0.5515\n"
     ]
    }
   ],
   "source": [
    "max_epochs = 300\n",
    "early_stopping = EarlyStopping(10)\n",
    "\n",
    "for epoch in range(max_epochs):\n",
    "    train_loss = trainer.train_epoch(model, optimizer, dl[\"train\"])\n",
    "    optimizer.finish_epoch()\n",
    "    val_acc, val_loss = trainer.validation(model, dl[\"valid\"])\n",
    "    logger.log(\"Epoch\", epoch+1, \"|\", \n",
    "          f\"Training loss: {train_loss:.4f}, validation accuracy: {val_acc:.4f}, validation loss: {val_loss:.4f}\")\n",
    "    if early_stopping.should_stop(val_loss):\n",
    "        break"
   ]
  },
  {
   "cell_type": "code",
   "execution_count": 16,
   "id": "dad01cf3-90fb-4da7-844e-0d7ae7e6dbba",
   "metadata": {},
   "outputs": [
    {
     "name": "stdout",
     "output_type": "stream",
     "text": [
      "Train: (0.985775, 0.04270667671114206)\n",
      "Valid: (0.8789, 0.5515179138183594)\n"
     ]
    }
   ],
   "source": [
    "train_score = trainer.validation(model, dl[\"train\"])\n",
    "valid_score = trainer.validation(model, dl[\"valid\"])\n",
    "logger.log(\"Train:\", train_score)\n",
    "logger.log(\"Valid:\", valid_score)"
   ]
  },
  {
   "cell_type": "code",
   "execution_count": 17,
   "id": "a7d237e7-6496-453f-a44a-43a45f8c10fc",
   "metadata": {},
   "outputs": [
    {
     "data": {
      "text/plain": [
       "VGG(\n",
       "  (features): Sequential(\n",
       "    (0): Conv2d(3, 64, kernel_size=(3, 3), stride=(1, 1), padding=(1, 1))\n",
       "    (1): ReLU(inplace=True)\n",
       "    (2): Conv2d(64, 64, kernel_size=(3, 3), stride=(1, 1), padding=(1, 1))\n",
       "    (3): ReLU(inplace=True)\n",
       "    (4): MaxPool2d(kernel_size=2, stride=2, padding=0, dilation=1, ceil_mode=False)\n",
       "    (5): Conv2d(64, 128, kernel_size=(3, 3), stride=(1, 1), padding=(1, 1))\n",
       "    (6): ReLU(inplace=True)\n",
       "    (7): Conv2d(128, 128, kernel_size=(3, 3), stride=(1, 1), padding=(1, 1))\n",
       "    (8): ReLU(inplace=True)\n",
       "    (9): MaxPool2d(kernel_size=2, stride=2, padding=0, dilation=1, ceil_mode=False)\n",
       "    (10): Conv2d(128, 256, kernel_size=(3, 3), stride=(1, 1), padding=(1, 1))\n",
       "    (11): ReLU(inplace=True)\n",
       "    (12): Conv2d(256, 256, kernel_size=(3, 3), stride=(1, 1), padding=(1, 1))\n",
       "    (13): ReLU(inplace=True)\n",
       "    (14): Conv2d(256, 256, kernel_size=(3, 3), stride=(1, 1), padding=(1, 1))\n",
       "    (15): ReLU(inplace=True)\n",
       "    (16): MaxPool2d(kernel_size=2, stride=2, padding=0, dilation=1, ceil_mode=False)\n",
       "    (17): Conv2d(256, 512, kernel_size=(3, 3), stride=(1, 1), padding=(1, 1))\n",
       "    (18): ReLU(inplace=True)\n",
       "    (19): Conv2d(512, 512, kernel_size=(3, 3), stride=(1, 1), padding=(1, 1))\n",
       "    (20): ReLU(inplace=True)\n",
       "    (21): Conv2d(512, 512, kernel_size=(3, 3), stride=(1, 1), padding=(1, 1))\n",
       "    (22): ReLU(inplace=True)\n",
       "    (23): MaxPool2d(kernel_size=2, stride=2, padding=0, dilation=1, ceil_mode=False)\n",
       "    (24): Conv2d(512, 512, kernel_size=(3, 3), stride=(1, 1), padding=(1, 1))\n",
       "    (25): ReLU(inplace=True)\n",
       "    (26): Conv2d(512, 512, kernel_size=(3, 3), stride=(1, 1), padding=(1, 1))\n",
       "    (27): ReLU(inplace=True)\n",
       "    (28): Conv2d(512, 512, kernel_size=(3, 3), stride=(1, 1), padding=(1, 1))\n",
       "    (29): ReLU(inplace=True)\n",
       "    (30): MaxPool2d(kernel_size=2, stride=2, padding=0, dilation=1, ceil_mode=False)\n",
       "  )\n",
       "  (avgpool): AdaptiveAvgPool2d(output_size=(7, 7))\n",
       "  (classifier): Sequential(\n",
       "    (0): Linear(in_features=25088, out_features=4096, bias=True)\n",
       "    (1): ReLU(inplace=True)\n",
       "    (2): Dropout(p=0.5, inplace=False)\n",
       "    (3): Linear(in_features=4096, out_features=4096, bias=True)\n",
       "    (4): ReLU(inplace=True)\n",
       "    (5): Dropout(p=0.5, inplace=False)\n",
       "    (6): Linear(in_features=4096, out_features=10, bias=True)\n",
       "    (7): LogSoftmax(dim=-1)\n",
       "  )\n",
       ")"
      ]
     },
     "execution_count": 17,
     "metadata": {},
     "output_type": "execute_result"
    }
   ],
   "source": [
    "model_acc = deepcopy(model)\n",
    "optimizer.accelerate()\n",
    "optimizer.store_parameters([model_acc.parameters()])\n",
    "model_acc.to(trainer.device)"
   ]
  },
  {
   "cell_type": "code",
   "execution_count": 18,
   "id": "af23df32-ea96-4481-a0c6-1c3f895ded0f",
   "metadata": {},
   "outputs": [
    {
     "name": "stdout",
     "output_type": "stream",
     "text": [
      "Train: (0.98585, 0.04149313524737954)\n",
      "Valid: (0.8789, 0.5515179138183594)\n"
     ]
    }
   ],
   "source": [
    "train_score = trainer.validation(model, dl[\"train\"])\n",
    "valid_score = trainer.validation(model, dl[\"valid\"])\n",
    "logger.log(\"Train:\", train_score)\n",
    "logger.log(\"Valid:\", valid_score)"
   ]
  },
  {
   "cell_type": "code",
   "execution_count": null,
   "id": "acbcceb4-6ab3-4189-98f9-e62477fbc533",
   "metadata": {},
   "outputs": [],
   "source": []
  }
 ],
 "metadata": {
  "kernelspec": {
   "display_name": "Python 3 (magister)",
   "language": "python",
   "name": "mgr"
  },
  "language_info": {
   "codemirror_mode": {
    "name": "ipython",
    "version": 3
   },
   "file_extension": ".py",
   "mimetype": "text/x-python",
   "name": "python",
   "nbconvert_exporter": "python",
   "pygments_lexer": "ipython3",
   "version": "3.8.13"
  }
 },
 "nbformat": 4,
 "nbformat_minor": 5
}
