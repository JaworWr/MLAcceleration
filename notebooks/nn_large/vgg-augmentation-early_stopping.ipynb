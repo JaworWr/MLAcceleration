{
 "cells": [
  {
   "cell_type": "code",
   "execution_count": 1,
   "id": "0526fa72-75e2-473e-9874-ad26d773923f",
   "metadata": {},
   "outputs": [],
   "source": [
    "import sys\n",
    "sys.path.insert(0, \"../..\")"
   ]
  },
  {
   "cell_type": "code",
   "execution_count": 2,
   "id": "noticed-jimmy",
   "metadata": {},
   "outputs": [],
   "source": [
    "import torch\n",
    "from torch import nn\n",
    "from torchvision import models\n",
    "from copy import deepcopy\n",
    "import os\n",
    "\n",
    "from nn_extrapolation import AcceleratedSGD\n",
    "from nn_utils import *"
   ]
  },
  {
   "cell_type": "code",
   "execution_count": 3,
   "id": "increasing-alignment",
   "metadata": {},
   "outputs": [],
   "source": [
    "trainer = Trainer(\n",
    "    device=\"cuda:3\",\n",
    "    loss_fn=nn.NLLLoss(reduction=\"mean\"),\n",
    "    val_loss_fn=nn.NLLLoss(reduction=\"sum\"),\n",
    ")"
   ]
  },
  {
   "cell_type": "code",
   "execution_count": 4,
   "id": "willing-bathroom",
   "metadata": {},
   "outputs": [
    {
     "name": "stdout",
     "output_type": "stream",
     "text": [
      "Files already downloaded and verified\n",
      "Files already downloaded and verified\n"
     ]
    }
   ],
   "source": [
    "dl = load_dataset(\n",
    "    dataset=\"CIFAR10\",\n",
    "    root=os.path.join(\"/tmp\", os.environ[\"USER\"], \"CIFAR\"),\n",
    "    augmentation=transforms.RandomAffine(10, scale=(0.9, 1.1), translate=(0.2, 0.2)),\n",
    "    validation_split=0.2,\n",
    "    batch_size=128,\n",
    "    num_workers=10,\n",
    ")"
   ]
  },
  {
   "cell_type": "code",
   "execution_count": 5,
   "id": "numeric-injury",
   "metadata": {},
   "outputs": [
    {
     "data": {
      "text/plain": [
       "VGG(\n",
       "  (features): Sequential(\n",
       "    (0): Conv2d(3, 64, kernel_size=(3, 3), stride=(1, 1), padding=(1, 1))\n",
       "    (1): ReLU(inplace=True)\n",
       "    (2): Conv2d(64, 64, kernel_size=(3, 3), stride=(1, 1), padding=(1, 1))\n",
       "    (3): ReLU(inplace=True)\n",
       "    (4): MaxPool2d(kernel_size=2, stride=2, padding=0, dilation=1, ceil_mode=False)\n",
       "    (5): Conv2d(64, 128, kernel_size=(3, 3), stride=(1, 1), padding=(1, 1))\n",
       "    (6): ReLU(inplace=True)\n",
       "    (7): Conv2d(128, 128, kernel_size=(3, 3), stride=(1, 1), padding=(1, 1))\n",
       "    (8): ReLU(inplace=True)\n",
       "    (9): MaxPool2d(kernel_size=2, stride=2, padding=0, dilation=1, ceil_mode=False)\n",
       "    (10): Conv2d(128, 256, kernel_size=(3, 3), stride=(1, 1), padding=(1, 1))\n",
       "    (11): ReLU(inplace=True)\n",
       "    (12): Conv2d(256, 256, kernel_size=(3, 3), stride=(1, 1), padding=(1, 1))\n",
       "    (13): ReLU(inplace=True)\n",
       "    (14): Conv2d(256, 256, kernel_size=(3, 3), stride=(1, 1), padding=(1, 1))\n",
       "    (15): ReLU(inplace=True)\n",
       "    (16): MaxPool2d(kernel_size=2, stride=2, padding=0, dilation=1, ceil_mode=False)\n",
       "    (17): Conv2d(256, 512, kernel_size=(3, 3), stride=(1, 1), padding=(1, 1))\n",
       "    (18): ReLU(inplace=True)\n",
       "    (19): Conv2d(512, 512, kernel_size=(3, 3), stride=(1, 1), padding=(1, 1))\n",
       "    (20): ReLU(inplace=True)\n",
       "    (21): Conv2d(512, 512, kernel_size=(3, 3), stride=(1, 1), padding=(1, 1))\n",
       "    (22): ReLU(inplace=True)\n",
       "    (23): MaxPool2d(kernel_size=2, stride=2, padding=0, dilation=1, ceil_mode=False)\n",
       "    (24): Conv2d(512, 512, kernel_size=(3, 3), stride=(1, 1), padding=(1, 1))\n",
       "    (25): ReLU(inplace=True)\n",
       "    (26): Conv2d(512, 512, kernel_size=(3, 3), stride=(1, 1), padding=(1, 1))\n",
       "    (27): ReLU(inplace=True)\n",
       "    (28): Conv2d(512, 512, kernel_size=(3, 3), stride=(1, 1), padding=(1, 1))\n",
       "    (29): ReLU(inplace=True)\n",
       "    (30): MaxPool2d(kernel_size=2, stride=2, padding=0, dilation=1, ceil_mode=False)\n",
       "  )\n",
       "  (avgpool): AdaptiveAvgPool2d(output_size=(7, 7))\n",
       "  (classifier): Sequential(\n",
       "    (0): Linear(in_features=25088, out_features=4096, bias=True)\n",
       "    (1): ReLU(inplace=True)\n",
       "    (2): Dropout(p=0.5, inplace=False)\n",
       "    (3): Linear(in_features=4096, out_features=4096, bias=True)\n",
       "    (4): ReLU(inplace=True)\n",
       "    (5): Dropout(p=0.5, inplace=False)\n",
       "    (6): Linear(in_features=4096, out_features=10, bias=True)\n",
       "    (7): LogSoftmax(dim=-1)\n",
       "  )\n",
       ")"
      ]
     },
     "execution_count": 5,
     "metadata": {},
     "output_type": "execute_result"
    }
   ],
   "source": [
    "model = models.vgg16(pretrained=False)\n",
    "model.classifier[6] = nn.Linear(4096, 10)\n",
    "model.classifier.add_module(\"7\", nn.LogSoftmax(-1))\n",
    "initial_state = deepcopy(model.state_dict())\n",
    "model.to(trainer.device)"
   ]
  },
  {
   "cell_type": "markdown",
   "id": "expired-award",
   "metadata": {},
   "source": [
    "## Momentum"
   ]
  },
  {
   "cell_type": "markdown",
   "id": "eff06f45-a56d-4c75-829a-4690d16b9bbe",
   "metadata": {},
   "source": [
    "### k = 20"
   ]
  },
  {
   "cell_type": "code",
   "execution_count": 6,
   "id": "8205186b-2be5-495c-aed6-0c36e21d5e00",
   "metadata": {},
   "outputs": [],
   "source": [
    "optimizer = AcceleratedSGD(model.parameters(), 1e-2, k=20, momentum=0.9, weight_decay=1e-5, lambda_=1e-8)\n",
    "loss_fn = nn.NLLLoss()\n",
    "logger = Logger(\"vgg_log_augmentation-early_stopping-k=20.txt.no_resizing\")"
   ]
  },
  {
   "cell_type": "code",
   "execution_count": null,
   "id": "aaaf12e1-ac86-438c-aa36-5887b38a7c4a",
   "metadata": {},
   "outputs": [
    {
     "name": "stdout",
     "output_type": "stream",
     "text": [
      "100%|██████████| 313/313 [00:39<00:00,  7.91it/s, loss=2.0519]\n",
      "Epoch 1 | Training loss: 2.0519, validation accuracy: 0.2895, validation loss: 1.8314\n",
      "100%|██████████| 313/313 [00:40<00:00,  7.67it/s, loss=1.7372]\n",
      "Epoch 2 | Training loss: 1.7372, validation accuracy: 0.4067, validation loss: 1.5368\n",
      "100%|██████████| 313/313 [00:41<00:00,  7.55it/s, loss=1.5400]\n",
      "Epoch 3 | Training loss: 1.5400, validation accuracy: 0.4982, validation loss: 1.3415\n",
      "100%|██████████| 313/313 [00:41<00:00,  7.56it/s, loss=1.3580]\n",
      "Epoch 4 | Training loss: 1.3580, validation accuracy: 0.5632, validation loss: 1.2054\n",
      "100%|██████████| 313/313 [00:41<00:00,  7.57it/s, loss=1.2318]\n",
      "Epoch 5 | Training loss: 1.2318, validation accuracy: 0.6036, validation loss: 1.1044\n",
      "100%|██████████| 313/313 [00:41<00:00,  7.58it/s, loss=1.1211]\n",
      "Epoch 6 | Training loss: 1.1211, validation accuracy: 0.6453, validation loss: 0.9916\n",
      "100%|██████████| 313/313 [00:41<00:00,  7.57it/s, loss=1.0302]\n",
      "Epoch 7 | Training loss: 1.0302, validation accuracy: 0.6931, validation loss: 0.8699\n",
      "100%|██████████| 313/313 [00:41<00:00,  7.56it/s, loss=0.9450]\n",
      "Epoch 8 | Training loss: 0.9450, validation accuracy: 0.7104, validation loss: 0.8309\n",
      "100%|██████████| 313/313 [00:41<00:00,  7.59it/s, loss=0.8751]\n",
      "Epoch 9 | Training loss: 0.8751, validation accuracy: 0.7227, validation loss: 0.8139\n",
      "100%|██████████| 313/313 [00:41<00:00,  7.57it/s, loss=0.8223]\n",
      "Epoch 10 | Training loss: 0.8223, validation accuracy: 0.7500, validation loss: 0.7277\n",
      "100%|██████████| 313/313 [00:41<00:00,  7.55it/s, loss=0.7823]\n"
     ]
    }
   ],
   "source": [
    "torch.manual_seed(2020)\n",
    "max_epochs = 300\n",
    "early_stopping = EarlyStopping(15)\n",
    "\n",
    "for epoch in range(max_epochs):\n",
    "    train_loss = trainer.train_epoch(model, optimizer, dl[\"train\"])\n",
    "    optimizer.finish_epoch()\n",
    "    val_acc, val_loss = trainer.validation(model, dl[\"valid\"])\n",
    "    logger.log(\"Epoch\", epoch+1, \"|\", \n",
    "          f\"Training loss: {train_loss:.4f}, validation accuracy: {val_acc:.4f}, validation loss: {val_loss:.4f}\")\n",
    "    if early_stopping.should_stop(val_loss):\n",
    "        break"
   ]
  },
  {
   "cell_type": "code",
   "execution_count": null,
   "id": "e9c00ce7-66e5-4032-9d14-5c197eea3453",
   "metadata": {},
   "outputs": [],
   "source": [
    "train_score = trainer.validation(model, dl[\"train\"])\n",
    "valid_score = trainer.validation(model, dl[\"valid\"])\n",
    "logger.log(\"Train:\", train_score)\n",
    "logger.log(\"Valid:\", valid_score)"
   ]
  },
  {
   "cell_type": "code",
   "execution_count": null,
   "id": "a16e771f-a466-4568-8644-bf7210b7fabb",
   "metadata": {},
   "outputs": [],
   "source": [
    "model_acc = deepcopy(model)\n",
    "optimizer.accelerate()\n",
    "optimizer.store_parameters([model_acc.parameters()])"
   ]
  },
  {
   "cell_type": "code",
   "execution_count": null,
   "id": "4fc69fff-85ee-4e93-8b0a-aa33314e6b83",
   "metadata": {
    "tags": []
   },
   "outputs": [],
   "source": [
    "model_acc.to(trainer.device)\n",
    "train_score = trainer.validation(model_acc, dl[\"train\"])\n",
    "valid_score = trainer.validation(model_acc, dl[\"valid\"])\n",
    "logger.log(\"Train:\", train_score)\n",
    "logger.log(\"Valid:\", valid_score)\n",
    "model_acc.cpu()"
   ]
  },
  {
   "cell_type": "code",
   "execution_count": null,
   "id": "98d34b34-9cc9-49a3-b087-b5ec1f2798f9",
   "metadata": {},
   "outputs": [],
   "source": [
    "optimizer.param_groups[0][\"lr\"] = 1e-3"
   ]
  },
  {
   "cell_type": "code",
   "execution_count": null,
   "id": "bd9d4373-9791-4cfc-868b-2595c406c45e",
   "metadata": {
    "tags": []
   },
   "outputs": [],
   "source": [
    "max_epochs = 300\n",
    "early_stopping = EarlyStopping(15)\n",
    "\n",
    "for epoch in range(max_epochs):\n",
    "    train_loss = trainer.train_epoch(model, optimizer, dl[\"train\"])\n",
    "    optimizer.finish_epoch()\n",
    "    val_acc, val_loss = trainer.validation(model, dl[\"valid\"])\n",
    "    logger.log(\"Epoch\", epoch+1, \"|\", \n",
    "          f\"Training loss: {train_loss:.4f}, validation accuracy: {val_acc:.4f}, validation loss: {val_loss:.4f}\")\n",
    "    if early_stopping.should_stop(val_loss):\n",
    "        break"
   ]
  },
  {
   "cell_type": "code",
   "execution_count": null,
   "id": "d241872b-318b-4667-b9a0-c076c0c8c547",
   "metadata": {},
   "outputs": [],
   "source": [
    "train_score = trainer.validation(model, dl[\"train\"])\n",
    "valid_score = trainer.validation(model, dl[\"valid\"])\n",
    "logger.log(\"Train:\", train_score)\n",
    "logger.log(\"Valid:\", valid_score)"
   ]
  },
  {
   "cell_type": "code",
   "execution_count": null,
   "id": "d7ffc3c3-c929-42e6-87ba-eb5de340d512",
   "metadata": {},
   "outputs": [],
   "source": [
    "model_acc = deepcopy(model)\n",
    "optimizer.accelerate()\n",
    "optimizer.store_parameters([model_acc.parameters()])"
   ]
  },
  {
   "cell_type": "code",
   "execution_count": null,
   "id": "8f209481-a107-4c85-87cf-c9673dc64ac8",
   "metadata": {},
   "outputs": [],
   "source": [
    "model_acc.to(trainer.device)\n",
    "train_score = trainer.validation(model_acc, dl[\"train\"])\n",
    "valid_score = trainer.validation(model_acc, dl[\"valid\"])\n",
    "logger.log(\"Train:\", train_score)\n",
    "logger.log(\"Valid:\", valid_score)\n",
    "model_acc.cpu()"
   ]
  },
  {
   "cell_type": "code",
   "execution_count": null,
   "id": "53cf0935-beb7-422d-812e-9171603e2078",
   "metadata": {},
   "outputs": [],
   "source": [
    "optimizer.param_groups[0][\"lr\"] = 1e-4"
   ]
  },
  {
   "cell_type": "code",
   "execution_count": null,
   "id": "197c9125-0fce-4f03-8991-c0b86f1f4d10",
   "metadata": {},
   "outputs": [],
   "source": [
    "max_epochs = 300\n",
    "early_stopping = EarlyStopping(15)\n",
    "\n",
    "for epoch in range(max_epochs):\n",
    "    train_loss = trainer.train_epoch(model, optimizer, dl[\"train\"])\n",
    "    optimizer.finish_epoch()\n",
    "    val_acc, val_loss = trainer.validation(model, dl[\"valid\"])\n",
    "    logger.log(\"Epoch\", epoch+1, \"|\", \n",
    "          f\"Training loss: {train_loss:.4f}, validation accuracy: {val_acc:.4f}, validation loss: {val_loss:.4f}\")\n",
    "    if early_stopping.should_stop(val_loss):\n",
    "        break"
   ]
  },
  {
   "cell_type": "code",
   "execution_count": null,
   "id": "7f168298-62bf-4e41-8607-f9036bd0ba9e",
   "metadata": {},
   "outputs": [],
   "source": [
    "train_score = trainer.validation(model, dl[\"train\"])\n",
    "valid_score = trainer.validation(model, dl[\"valid\"])\n",
    "logger.log(\"Train:\", train_score)\n",
    "logger.log(\"Valid:\", valid_score)"
   ]
  },
  {
   "cell_type": "code",
   "execution_count": null,
   "id": "a94605ed-afc1-4e7a-8bc8-46197f9e6b31",
   "metadata": {},
   "outputs": [],
   "source": [
    "model_acc = deepcopy(model)\n",
    "optimizer.accelerate()\n",
    "optimizer.store_parameters([model_acc.parameters()])"
   ]
  },
  {
   "cell_type": "code",
   "execution_count": null,
   "id": "f88cbc22-fbd6-49ab-b421-2af53f090f27",
   "metadata": {},
   "outputs": [],
   "source": [
    "model_acc.to(trainer.device)\n",
    "train_score = trainer.validation(model_acc, dl[\"train\"])\n",
    "valid_score = trainer.validation(model_acc, dl[\"valid\"])\n",
    "logger.log(\"Train:\", train_score)\n",
    "logger.log(\"Valid:\", valid_score)\n",
    "model_acc.cpu()"
   ]
  },
  {
   "cell_type": "markdown",
   "id": "bfb3bf8f-b8a5-4811-98db-57ed5f710343",
   "metadata": {},
   "source": [
    "### k = 10"
   ]
  },
  {
   "cell_type": "code",
   "execution_count": null,
   "id": "0c678bcc-edfc-4d5a-a42f-675cf8e70660",
   "metadata": {},
   "outputs": [],
   "source": [
    "model.load_state_dict(initial_state)\n",
    "model.to(trainer.device)"
   ]
  },
  {
   "cell_type": "code",
   "execution_count": null,
   "id": "crazy-connectivity",
   "metadata": {},
   "outputs": [],
   "source": [
    "optimizer = AcceleratedSGD(model.parameters(), 1e-2, k=10, momentum=0.9, weight_decay=1e-5, lambda_=1e-8)\n",
    "loss_fn = nn.NLLLoss()\n",
    "logger = Logger(\"vgg_log_augmentation-early_stopping.txt.no_resizing\")"
   ]
  },
  {
   "cell_type": "code",
   "execution_count": null,
   "id": "forced-prisoner",
   "metadata": {},
   "outputs": [],
   "source": [
    "torch.manual_seed(2020)\n",
    "max_epochs = 300\n",
    "early_stopping = EarlyStopping(15)\n",
    "\n",
    "for epoch in range(max_epochs):\n",
    "    train_loss = trainer.train_epoch(model, optimizer, dl[\"train\"])\n",
    "    optimizer.finish_epoch()\n",
    "    val_acc, val_loss = trainer.validation(model, dl[\"valid\"])\n",
    "    logger.log(\"Epoch\", epoch+1, \"|\", \n",
    "          f\"Training loss: {train_loss:.4f}, validation accuracy: {val_acc:.4f}, validation loss: {val_loss:.4f}\")\n",
    "    if early_stopping.should_stop(val_loss):\n",
    "        break"
   ]
  },
  {
   "cell_type": "code",
   "execution_count": null,
   "id": "visible-curtis",
   "metadata": {},
   "outputs": [],
   "source": [
    "train_score = trainer.validation(model, dl[\"train\"])\n",
    "valid_score = trainer.validation(model, dl[\"valid\"])\n",
    "logger.log(\"Train:\", train_score)\n",
    "logger.log(\"Valid:\", valid_score)"
   ]
  },
  {
   "cell_type": "code",
   "execution_count": null,
   "id": "together-community",
   "metadata": {},
   "outputs": [],
   "source": [
    "model_acc = deepcopy(model)\n",
    "optimizer.accelerate()\n",
    "optimizer.store_parameters([model_acc.parameters()])"
   ]
  },
  {
   "cell_type": "code",
   "execution_count": null,
   "id": "rapid-trustee",
   "metadata": {
    "tags": []
   },
   "outputs": [],
   "source": [
    "model_acc.to(trainer.device)\n",
    "train_score = trainer.validation(model_acc, dl[\"train\"])\n",
    "valid_score = trainer.validation(model_acc, dl[\"valid\"])\n",
    "logger.log(\"Train:\", train_score)\n",
    "logger.log(\"Valid:\", valid_score)\n",
    "model_acc.cpu()"
   ]
  },
  {
   "cell_type": "code",
   "execution_count": null,
   "id": "deadly-charleston",
   "metadata": {},
   "outputs": [],
   "source": [
    "optimizer.param_groups[0][\"lr\"] = 1e-3"
   ]
  },
  {
   "cell_type": "code",
   "execution_count": null,
   "id": "unable-cologne",
   "metadata": {
    "tags": []
   },
   "outputs": [],
   "source": [
    "max_epochs = 300\n",
    "early_stopping = EarlyStopping(15)\n",
    "\n",
    "for epoch in range(max_epochs):\n",
    "    train_loss = trainer.train_epoch(model, optimizer, dl[\"train\"])\n",
    "    optimizer.finish_epoch()\n",
    "    val_acc, val_loss = trainer.validation(model, dl[\"valid\"])\n",
    "    logger.log(\"Epoch\", epoch+1, \"|\", \n",
    "          f\"Training loss: {train_loss:.4f}, validation accuracy: {val_acc:.4f}, validation loss: {val_loss:.4f}\")\n",
    "    if early_stopping.should_stop(val_loss):\n",
    "        break"
   ]
  },
  {
   "cell_type": "code",
   "execution_count": null,
   "id": "7c37dca0-e109-4b8d-871c-832d506e97fb",
   "metadata": {},
   "outputs": [],
   "source": [
    "train_score = trainer.validation(model, dl[\"train\"])\n",
    "valid_score = trainer.validation(model, dl[\"valid\"])\n",
    "logger.log(\"Train:\", train_score)\n",
    "logger.log(\"Valid:\", valid_score)"
   ]
  },
  {
   "cell_type": "code",
   "execution_count": null,
   "id": "cbaa00d4-af71-443e-8bc7-94c801047441",
   "metadata": {},
   "outputs": [],
   "source": [
    "model_acc = deepcopy(model)\n",
    "optimizer.accelerate()\n",
    "optimizer.store_parameters([model_acc.parameters()])"
   ]
  },
  {
   "cell_type": "code",
   "execution_count": null,
   "id": "87ce324c-3893-4e25-bf02-72d83b208d70",
   "metadata": {},
   "outputs": [],
   "source": [
    "model_acc.to(trainer.device)\n",
    "train_score = trainer.validation(model_acc, dl[\"train\"])\n",
    "valid_score = trainer.validation(model_acc, dl[\"valid\"])\n",
    "logger.log(\"Train:\", train_score)\n",
    "logger.log(\"Valid:\", valid_score)\n",
    "model_acc.cpu()"
   ]
  },
  {
   "cell_type": "code",
   "execution_count": null,
   "id": "df5e577c-16f5-4523-828e-8094692d5c3c",
   "metadata": {},
   "outputs": [],
   "source": [
    "optimizer.param_groups[0][\"lr\"] = 1e-4"
   ]
  },
  {
   "cell_type": "code",
   "execution_count": null,
   "id": "02345e50-f2df-4713-b93f-564cedbbf3f2",
   "metadata": {},
   "outputs": [],
   "source": [
    "max_epochs = 300\n",
    "early_stopping = EarlyStopping(15)\n",
    "\n",
    "for epoch in range(max_epochs):\n",
    "    train_loss = trainer.train_epoch(model, optimizer, dl[\"train\"])\n",
    "    optimizer.finish_epoch()\n",
    "    val_acc, val_loss = trainer.validation(model, dl[\"valid\"])\n",
    "    logger.log(\"Epoch\", epoch+1, \"|\", \n",
    "          f\"Training loss: {train_loss:.4f}, validation accuracy: {val_acc:.4f}, validation loss: {val_loss:.4f}\")\n",
    "    if early_stopping.should_stop(val_loss):\n",
    "        break"
   ]
  },
  {
   "cell_type": "code",
   "execution_count": null,
   "id": "baead0d6-5c6f-4941-bd69-a56fea40dab1",
   "metadata": {},
   "outputs": [],
   "source": [
    "train_score = trainer.validation(model, dl[\"train\"])\n",
    "valid_score = trainer.validation(model, dl[\"valid\"])\n",
    "logger.log(\"Train:\", train_score)\n",
    "logger.log(\"Valid:\", valid_score)"
   ]
  },
  {
   "cell_type": "code",
   "execution_count": null,
   "id": "6ad4379e-5c55-4d8f-ac1c-b02184a5fa17",
   "metadata": {},
   "outputs": [],
   "source": [
    "model_acc = deepcopy(model)\n",
    "optimizer.accelerate()\n",
    "optimizer.store_parameters([model_acc.parameters()])"
   ]
  },
  {
   "cell_type": "code",
   "execution_count": null,
   "id": "527ec57b-b99f-4825-b88f-0760f435c6a5",
   "metadata": {},
   "outputs": [],
   "source": [
    "model_acc.to(trainer.device)\n",
    "train_score = trainer.validation(model_acc, dl[\"train\"])\n",
    "valid_score = trainer.validation(model_acc, dl[\"valid\"])\n",
    "logger.log(\"Train:\", train_score)\n",
    "logger.log(\"Valid:\", valid_score)\n",
    "model_acc.cpu()"
   ]
  },
  {
   "cell_type": "markdown",
   "id": "2e07751a-e644-464f-b938-b0303656c320",
   "metadata": {},
   "source": [
    "### k = 5"
   ]
  },
  {
   "cell_type": "code",
   "execution_count": null,
   "id": "6e2d93ab-5a83-4110-8be2-8ad1f263b768",
   "metadata": {
    "tags": []
   },
   "outputs": [],
   "source": [
    "model.load_state_dict(initial_state)\n",
    "model.to(trainer.device)"
   ]
  },
  {
   "cell_type": "code",
   "execution_count": null,
   "id": "f00d204f-dec4-4dc1-8e99-00a8dda60c66",
   "metadata": {},
   "outputs": [],
   "source": [
    "optimizer = AcceleratedSGD(model.parameters(), 1e-2, k=5, momentum=0.9, weight_decay=1e-5, lambda_=1e-8)\n",
    "loss_fn = nn.NLLLoss()\n",
    "logger = Logger(\"vgg_log_augmentation-early_stopping-k=5.txt.no_resizing\")"
   ]
  },
  {
   "cell_type": "code",
   "execution_count": null,
   "id": "749709d4-7b1b-4506-8cb6-93382f479e9a",
   "metadata": {},
   "outputs": [],
   "source": [
    "torch.manual_seed(2020)\n",
    "max_epochs = 300\n",
    "early_stopping = EarlyStopping(15)\n",
    "\n",
    "for epoch in range(max_epochs):\n",
    "    train_loss = trainer.train_epoch(model, optimizer, dl[\"train\"])\n",
    "    optimizer.finish_epoch()\n",
    "    val_acc, val_loss = trainer.validation(model, dl[\"valid\"])\n",
    "    logger.log(\"Epoch\", epoch+1, \"|\", \n",
    "          f\"Training loss: {train_loss:.4f}, validation accuracy: {val_acc:.4f}, validation loss: {val_loss:.4f}\")\n",
    "    if early_stopping.should_stop(val_loss):\n",
    "        break"
   ]
  },
  {
   "cell_type": "code",
   "execution_count": null,
   "id": "9f3e2b5a-94d3-41e2-8508-b0f893e1e818",
   "metadata": {},
   "outputs": [],
   "source": [
    "train_score = trainer.validation(model, dl[\"train\"])\n",
    "valid_score = trainer.validation(model, dl[\"valid\"])\n",
    "logger.log(\"Train:\", train_score)\n",
    "logger.log(\"Valid:\", valid_score)"
   ]
  },
  {
   "cell_type": "code",
   "execution_count": null,
   "id": "b8e577bf-580e-4337-9e4c-4b31826138d2",
   "metadata": {},
   "outputs": [],
   "source": [
    "model_acc = deepcopy(model)\n",
    "optimizer.accelerate()\n",
    "optimizer.store_parameters([model_acc.parameters()])"
   ]
  },
  {
   "cell_type": "code",
   "execution_count": null,
   "id": "cb2c8200-bd2e-42aa-bc40-ca7b5c6993c7",
   "metadata": {
    "tags": []
   },
   "outputs": [],
   "source": [
    "model_acc.to(trainer.device)\n",
    "train_score = trainer.validation(model_acc, dl[\"train\"])\n",
    "valid_score = trainer.validation(model_acc, dl[\"valid\"])\n",
    "logger.log(\"Train:\", train_score)\n",
    "logger.log(\"Valid:\", valid_score)\n",
    "model_acc.cpu()\n",
    "None"
   ]
  },
  {
   "cell_type": "code",
   "execution_count": null,
   "id": "784810bb-ba06-4765-8f1e-757d71532fab",
   "metadata": {},
   "outputs": [],
   "source": [
    "optimizer.param_groups[0][\"lr\"] = 1e-3"
   ]
  },
  {
   "cell_type": "code",
   "execution_count": null,
   "id": "7bb83ea2-4acd-4211-b3de-44f33410c56f",
   "metadata": {
    "tags": []
   },
   "outputs": [],
   "source": [
    "max_epochs = 300\n",
    "early_stopping = EarlyStopping(15)\n",
    "\n",
    "for epoch in range(max_epochs):\n",
    "    train_loss = trainer.train_epoch(model, optimizer, dl[\"train\"])\n",
    "    optimizer.finish_epoch()\n",
    "    val_acc, val_loss = trainer.validation(model, dl[\"valid\"])\n",
    "    logger.log(\"Epoch\", epoch+1, \"|\", \n",
    "          f\"Training loss: {train_loss:.4f}, validation accuracy: {val_acc:.4f}, validation loss: {val_loss:.4f}\")\n",
    "    if early_stopping.should_stop(val_loss):\n",
    "        break"
   ]
  },
  {
   "cell_type": "code",
   "execution_count": null,
   "id": "3dbd02dd-7c94-4a23-868a-63273d662923",
   "metadata": {},
   "outputs": [],
   "source": [
    "train_score = trainer.validation(model, dl[\"train\"])\n",
    "valid_score = trainer.validation(model, dl[\"valid\"])\n",
    "logger.log(\"Train:\", train_score)\n",
    "logger.log(\"Valid:\", valid_score)"
   ]
  },
  {
   "cell_type": "code",
   "execution_count": null,
   "id": "5f846bcc-fc53-472e-aec5-177008b82e28",
   "metadata": {},
   "outputs": [],
   "source": [
    "model_acc = deepcopy(model)\n",
    "optimizer.accelerate()\n",
    "optimizer.store_parameters([model_acc.parameters()])"
   ]
  },
  {
   "cell_type": "code",
   "execution_count": null,
   "id": "80198b28-efa9-4623-8f4d-cd1d7c697dab",
   "metadata": {},
   "outputs": [],
   "source": [
    "model_acc.to(trainer.device)\n",
    "train_score = trainer.validation(model_acc, dl[\"train\"])\n",
    "valid_score = trainer.validation(model_acc, dl[\"valid\"])\n",
    "logger.log(\"Train:\", train_score)\n",
    "logger.log(\"Valid:\", valid_score)\n",
    "model_acc.cpu()"
   ]
  },
  {
   "cell_type": "code",
   "execution_count": null,
   "id": "1a381b83-4257-4805-a3da-d1d550c441cf",
   "metadata": {},
   "outputs": [],
   "source": [
    "optimizer.param_groups[0][\"lr\"] = 1e-4"
   ]
  },
  {
   "cell_type": "code",
   "execution_count": null,
   "id": "641ff5fe-5c9a-4064-b41d-73375b28a513",
   "metadata": {},
   "outputs": [],
   "source": [
    "max_epochs = 300\n",
    "early_stopping = EarlyStopping(15)\n",
    "\n",
    "for epoch in range(max_epochs):\n",
    "    train_loss = trainer.train_epoch(model, optimizer, dl[\"train\"])\n",
    "    optimizer.finish_epoch()\n",
    "    val_acc, val_loss = trainer.validation(model, dl[\"valid\"])\n",
    "    logger.log(\"Epoch\", epoch+1, \"|\", \n",
    "          f\"Training loss: {train_loss:.4f}, validation accuracy: {val_acc:.4f}, validation loss: {val_loss:.4f}\")\n",
    "    if early_stopping.should_stop(val_loss):\n",
    "        break"
   ]
  },
  {
   "cell_type": "code",
   "execution_count": null,
   "id": "7d6d8a30-97ea-4e05-90fa-46902ef7ad33",
   "metadata": {},
   "outputs": [],
   "source": [
    "train_score = trainer.validation(model, dl[\"train\"])\n",
    "valid_score = trainer.validation(model, dl[\"valid\"])\n",
    "logger.log(\"Train:\", train_score)\n",
    "logger.log(\"Valid:\", valid_score)"
   ]
  },
  {
   "cell_type": "code",
   "execution_count": null,
   "id": "aa3faafb-97c5-4e9e-ba1e-286e64b82550",
   "metadata": {},
   "outputs": [],
   "source": [
    "model_acc = deepcopy(model)\n",
    "optimizer.accelerate()\n",
    "optimizer.store_parameters([model_acc.parameters()])"
   ]
  },
  {
   "cell_type": "code",
   "execution_count": null,
   "id": "d4e616f0-2b78-4e06-82ba-6c82b0387448",
   "metadata": {},
   "outputs": [],
   "source": [
    "model_acc.to(trainer.device)\n",
    "train_score = trainer.validation(model_acc, dl[\"train\"])\n",
    "valid_score = trainer.validation(model_acc, dl[\"valid\"])\n",
    "logger.log(\"Train:\", train_score)\n",
    "logger.log(\"Valid:\", valid_score)\n",
    "model_acc.cpu()\n",
    "None"
   ]
  },
  {
   "cell_type": "code",
   "execution_count": null,
   "id": "9c208445-ca87-4655-ae6f-6fc3cad76d59",
   "metadata": {},
   "outputs": [],
   "source": [
    "exit"
   ]
  },
  {
   "cell_type": "code",
   "execution_count": null,
   "id": "acbcceb4-6ab3-4189-98f9-e62477fbc533",
   "metadata": {},
   "outputs": [],
   "source": []
  }
 ],
 "metadata": {
  "kernelspec": {
   "display_name": "Python 3",
   "language": "python",
   "name": "python3"
  },
  "language_info": {
   "codemirror_mode": {
    "name": "ipython",
    "version": 3
   },
   "file_extension": ".py",
   "mimetype": "text/x-python",
   "name": "python",
   "nbconvert_exporter": "python",
   "pygments_lexer": "ipython3",
   "version": "3.8.13"
  }
 },
 "nbformat": 4,
 "nbformat_minor": 5
}
