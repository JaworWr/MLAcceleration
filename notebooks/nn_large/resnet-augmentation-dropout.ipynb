{
 "cells": [
  {
   "cell_type": "code",
   "execution_count": 1,
   "id": "anonymous-tackle",
   "metadata": {},
   "outputs": [],
   "source": [
    "import torch\n",
    "from torch import nn\n",
    "from torchvision import models\n",
    "from copy import deepcopy\n",
    "import os\n",
    "\n",
    "from nn_extrapolation import AcceleratedSGD\n",
    "from nn_utils import *"
   ]
  },
  {
   "cell_type": "code",
   "execution_count": 2,
   "id": "18c86948-09d6-4e27-804f-dd415a0c371c",
   "metadata": {},
   "outputs": [
    {
     "data": {
      "text/plain": [
       "True"
      ]
     },
     "execution_count": 2,
     "metadata": {},
     "output_type": "execute_result"
    }
   ],
   "source": [
    "torch.cuda.is_available()"
   ]
  },
  {
   "cell_type": "code",
   "execution_count": 3,
   "id": "through-stopping",
   "metadata": {},
   "outputs": [],
   "source": [
    "trainer = Trainer(\n",
    "    device=\"cuda:1\",\n",
    "    loss_fn=nn.NLLLoss(reduction=\"mean\"),\n",
    "    val_loss_fn=nn.NLLLoss(reduction=\"sum\"),\n",
    ")"
   ]
  },
  {
   "cell_type": "code",
   "execution_count": 4,
   "id": "e1f93199-29a0-45a5-ac52-24e9eafd4c90",
   "metadata": {},
   "outputs": [
    {
     "name": "stdout",
     "output_type": "stream",
     "text": [
      "Files already downloaded and verified\n",
      "Files already downloaded and verified\n"
     ]
    }
   ],
   "source": [
    "dl = load_dataset(\n",
    "    dataset=\"CIFAR10\",\n",
    "    root=os.path.join(\"/tmp\", os.environ[\"USER\"], \"CIFAR\"),\n",
    "    augmentation=transforms.RandomAffine(10, scale=(0.9, 1.1), translate=(0.2, 0.2)),\n",
    "    validation_split=0.2,\n",
    "    batch_size=128,\n",
    "    num_workers=10,\n",
    ")"
   ]
  },
  {
   "cell_type": "code",
   "execution_count": 5,
   "id": "80c75b8f-000c-453c-b66e-90762695c23a",
   "metadata": {},
   "outputs": [],
   "source": [
    "model = models.resnet18(pretrained=False)"
   ]
  },
  {
   "cell_type": "code",
   "execution_count": 30,
   "id": "726f639b-5fcb-4d0c-86bf-c034e0387b1a",
   "metadata": {},
   "outputs": [],
   "source": [
    "def replace_bn(model, **kwargs):\n",
    "    to_replace = []\n",
    "    for name, _ in model.named_children():\n",
    "        if name.startswith(\"bn\"):\n",
    "            to_replace.append(name)\n",
    "    for name in to_replace:\n",
    "        setattr(model, name, nn.Dropout(**kwargs))\n",
    "        \n",
    "def make_model():\n",
    "    model = models.resnet18(pretrained=False)\n",
    "    model.fc = nn.Sequential(\n",
    "        nn.Linear(512, 10),\n",
    "        nn.LogSoftmax(-1)\n",
    "    )\n",
    "    replace_bn(model, p=0.2)\n",
    "    for name in [\"layer1\", \"layer2\", \"layer3\", \"layer4\"]:\n",
    "        layer = getattr(model, name)\n",
    "        replace_bn(layer[0], p=0.2)\n",
    "        replace_bn(layer[1], p=0.2)\n",
    "        try:\n",
    "            replace_bn(layer[0].downsample, p=0.2)\n",
    "        except AttributeError:\n",
    "            pass\n",
    "    return model"
   ]
  },
  {
   "cell_type": "code",
   "execution_count": 31,
   "id": "broke-filename",
   "metadata": {},
   "outputs": [
    {
     "data": {
      "text/plain": [
       "ResNet(\n",
       "  (conv1): Conv2d(3, 64, kernel_size=(7, 7), stride=(2, 2), padding=(3, 3), bias=False)\n",
       "  (bn1): Dropout(p=0.2, inplace=False)\n",
       "  (relu): ReLU(inplace=True)\n",
       "  (maxpool): MaxPool2d(kernel_size=3, stride=2, padding=1, dilation=1, ceil_mode=False)\n",
       "  (layer1): Sequential(\n",
       "    (0): BasicBlock(\n",
       "      (conv1): Conv2d(64, 64, kernel_size=(3, 3), stride=(1, 1), padding=(1, 1), bias=False)\n",
       "      (bn1): Dropout(p=0.2, inplace=False)\n",
       "      (relu): ReLU(inplace=True)\n",
       "      (conv2): Conv2d(64, 64, kernel_size=(3, 3), stride=(1, 1), padding=(1, 1), bias=False)\n",
       "      (bn2): Dropout(p=0.2, inplace=False)\n",
       "    )\n",
       "    (1): BasicBlock(\n",
       "      (conv1): Conv2d(64, 64, kernel_size=(3, 3), stride=(1, 1), padding=(1, 1), bias=False)\n",
       "      (bn1): Dropout(p=0.2, inplace=False)\n",
       "      (relu): ReLU(inplace=True)\n",
       "      (conv2): Conv2d(64, 64, kernel_size=(3, 3), stride=(1, 1), padding=(1, 1), bias=False)\n",
       "      (bn2): Dropout(p=0.2, inplace=False)\n",
       "    )\n",
       "  )\n",
       "  (layer2): Sequential(\n",
       "    (0): BasicBlock(\n",
       "      (conv1): Conv2d(64, 128, kernel_size=(3, 3), stride=(2, 2), padding=(1, 1), bias=False)\n",
       "      (bn1): Dropout(p=0.2, inplace=False)\n",
       "      (relu): ReLU(inplace=True)\n",
       "      (conv2): Conv2d(128, 128, kernel_size=(3, 3), stride=(1, 1), padding=(1, 1), bias=False)\n",
       "      (bn2): Dropout(p=0.2, inplace=False)\n",
       "      (downsample): Sequential(\n",
       "        (0): Conv2d(64, 128, kernel_size=(1, 1), stride=(2, 2), bias=False)\n",
       "        (1): BatchNorm2d(128, eps=1e-05, momentum=0.1, affine=True, track_running_stats=True)\n",
       "      )\n",
       "    )\n",
       "    (1): BasicBlock(\n",
       "      (conv1): Conv2d(128, 128, kernel_size=(3, 3), stride=(1, 1), padding=(1, 1), bias=False)\n",
       "      (bn1): Dropout(p=0.2, inplace=False)\n",
       "      (relu): ReLU(inplace=True)\n",
       "      (conv2): Conv2d(128, 128, kernel_size=(3, 3), stride=(1, 1), padding=(1, 1), bias=False)\n",
       "      (bn2): Dropout(p=0.2, inplace=False)\n",
       "    )\n",
       "  )\n",
       "  (layer3): Sequential(\n",
       "    (0): BasicBlock(\n",
       "      (conv1): Conv2d(128, 256, kernel_size=(3, 3), stride=(2, 2), padding=(1, 1), bias=False)\n",
       "      (bn1): Dropout(p=0.2, inplace=False)\n",
       "      (relu): ReLU(inplace=True)\n",
       "      (conv2): Conv2d(256, 256, kernel_size=(3, 3), stride=(1, 1), padding=(1, 1), bias=False)\n",
       "      (bn2): Dropout(p=0.2, inplace=False)\n",
       "      (downsample): Sequential(\n",
       "        (0): Conv2d(128, 256, kernel_size=(1, 1), stride=(2, 2), bias=False)\n",
       "        (1): BatchNorm2d(256, eps=1e-05, momentum=0.1, affine=True, track_running_stats=True)\n",
       "      )\n",
       "    )\n",
       "    (1): BasicBlock(\n",
       "      (conv1): Conv2d(256, 256, kernel_size=(3, 3), stride=(1, 1), padding=(1, 1), bias=False)\n",
       "      (bn1): Dropout(p=0.2, inplace=False)\n",
       "      (relu): ReLU(inplace=True)\n",
       "      (conv2): Conv2d(256, 256, kernel_size=(3, 3), stride=(1, 1), padding=(1, 1), bias=False)\n",
       "      (bn2): Dropout(p=0.2, inplace=False)\n",
       "    )\n",
       "  )\n",
       "  (layer4): Sequential(\n",
       "    (0): BasicBlock(\n",
       "      (conv1): Conv2d(256, 512, kernel_size=(3, 3), stride=(2, 2), padding=(1, 1), bias=False)\n",
       "      (bn1): Dropout(p=0.2, inplace=False)\n",
       "      (relu): ReLU(inplace=True)\n",
       "      (conv2): Conv2d(512, 512, kernel_size=(3, 3), stride=(1, 1), padding=(1, 1), bias=False)\n",
       "      (bn2): Dropout(p=0.2, inplace=False)\n",
       "      (downsample): Sequential(\n",
       "        (0): Conv2d(256, 512, kernel_size=(1, 1), stride=(2, 2), bias=False)\n",
       "        (1): BatchNorm2d(512, eps=1e-05, momentum=0.1, affine=True, track_running_stats=True)\n",
       "      )\n",
       "    )\n",
       "    (1): BasicBlock(\n",
       "      (conv1): Conv2d(512, 512, kernel_size=(3, 3), stride=(1, 1), padding=(1, 1), bias=False)\n",
       "      (bn1): Dropout(p=0.2, inplace=False)\n",
       "      (relu): ReLU(inplace=True)\n",
       "      (conv2): Conv2d(512, 512, kernel_size=(3, 3), stride=(1, 1), padding=(1, 1), bias=False)\n",
       "      (bn2): Dropout(p=0.2, inplace=False)\n",
       "    )\n",
       "  )\n",
       "  (avgpool): AdaptiveAvgPool2d(output_size=(1, 1))\n",
       "  (fc): Sequential(\n",
       "    (0): Linear(in_features=512, out_features=10, bias=True)\n",
       "    (1): LogSoftmax(dim=-1)\n",
       "  )\n",
       ")"
      ]
     },
     "execution_count": 31,
     "metadata": {},
     "output_type": "execute_result"
    }
   ],
   "source": [
    "model = make_model()\n",
    "model.to(trainer.device)"
   ]
  },
  {
   "cell_type": "code",
   "execution_count": 32,
   "id": "careful-suspect",
   "metadata": {},
   "outputs": [
    {
     "data": {
      "text/plain": [
       "(0.0975, 2.338772444152832)"
      ]
     },
     "execution_count": 32,
     "metadata": {},
     "output_type": "execute_result"
    }
   ],
   "source": [
    "trainer.validation(model, dl[\"valid\"])"
   ]
  },
  {
   "cell_type": "markdown",
   "id": "proud-routine",
   "metadata": {},
   "source": [
    "## No momentum"
   ]
  },
  {
   "cell_type": "code",
   "execution_count": 33,
   "id": "employed-tennis",
   "metadata": {},
   "outputs": [],
   "source": [
    "optimizer = AcceleratedSGD(model.parameters(), 1e-1, k=10, momentum=0, weight_decay=0, lambda_=1e-8)\n",
    "logger = Logger(\"resnet_log_augmentation_dropout_no_momentum.txt.no_resizing\")"
   ]
  },
  {
   "cell_type": "code",
   "execution_count": 34,
   "id": "fatty-pendant",
   "metadata": {},
   "outputs": [
    {
     "name": "stdout",
     "output_type": "stream",
     "text": [
      "100%|██████████| 313/313 [00:14<00:00, 21.48it/s, loss=1.9946]\n",
      "Epoch 1 | Training loss: 1.9946, validation accuracy: 0.2292, validation loss: 2.1591\n",
      "100%|██████████| 313/313 [00:14<00:00, 21.20it/s, loss=1.7706]\n",
      "Epoch 2 | Training loss: 1.7706, validation accuracy: 0.2815, validation loss: 2.0057\n",
      "100%|██████████| 313/313 [00:14<00:00, 21.10it/s, loss=1.6507]\n",
      "Epoch 3 | Training loss: 1.6507, validation accuracy: 0.4238, validation loss: 1.5625\n",
      "100%|██████████| 313/313 [00:14<00:00, 20.95it/s, loss=1.5684]\n",
      "Epoch 4 | Training loss: 1.5684, validation accuracy: 0.4422, validation loss: 1.5212\n",
      "100%|██████████| 313/313 [00:15<00:00, 20.72it/s, loss=1.5042]\n",
      "Epoch 5 | Training loss: 1.5042, validation accuracy: 0.4477, validation loss: 1.6121\n",
      "100%|██████████| 313/313 [00:15<00:00, 20.40it/s, loss=1.4600]\n",
      "Epoch 6 | Training loss: 1.4600, validation accuracy: 0.4480, validation loss: 1.6679\n",
      "100%|██████████| 313/313 [00:15<00:00, 20.48it/s, loss=1.4098]\n",
      "Epoch 7 | Training loss: 1.4098, validation accuracy: 0.4356, validation loss: 1.6702\n",
      "100%|██████████| 313/313 [00:15<00:00, 20.70it/s, loss=1.3667]\n",
      "Epoch 8 | Training loss: 1.3667, validation accuracy: 0.5303, validation loss: 1.3065\n",
      "100%|██████████| 313/313 [00:15<00:00, 20.58it/s, loss=1.3294]\n",
      "Epoch 9 | Training loss: 1.3294, validation accuracy: 0.5641, validation loss: 1.1953\n",
      "100%|██████████| 313/313 [00:15<00:00, 20.43it/s, loss=1.2947]\n",
      "Epoch 10 | Training loss: 1.2947, validation accuracy: 0.4390, validation loss: 1.7044\n",
      "100%|██████████| 313/313 [00:15<00:00, 20.58it/s, loss=1.2590]\n",
      "Epoch 11 | Training loss: 1.2590, validation accuracy: 0.5162, validation loss: 1.4366\n",
      "100%|██████████| 313/313 [00:15<00:00, 20.41it/s, loss=1.2302]\n",
      "Epoch 12 | Training loss: 1.2302, validation accuracy: 0.5487, validation loss: 1.3415\n",
      "100%|██████████| 313/313 [00:15<00:00, 20.58it/s, loss=1.2039]\n",
      "Epoch 13 | Training loss: 1.2039, validation accuracy: 0.5698, validation loss: 1.1877\n",
      "100%|██████████| 313/313 [00:15<00:00, 20.63it/s, loss=1.1891]\n",
      "Epoch 14 | Training loss: 1.1891, validation accuracy: 0.6009, validation loss: 1.1412\n",
      "100%|██████████| 313/313 [00:15<00:00, 20.57it/s, loss=1.1593]\n",
      "Epoch 15 | Training loss: 1.1593, validation accuracy: 0.6040, validation loss: 1.1352\n",
      "100%|██████████| 313/313 [00:15<00:00, 20.46it/s, loss=1.1394]\n",
      "Epoch 16 | Training loss: 1.1394, validation accuracy: 0.6159, validation loss: 1.0914\n",
      "100%|██████████| 313/313 [00:15<00:00, 20.54it/s, loss=1.1220]\n",
      "Epoch 17 | Training loss: 1.1220, validation accuracy: 0.6136, validation loss: 1.1127\n",
      "100%|██████████| 313/313 [00:15<00:00, 20.48it/s, loss=1.0990]\n",
      "Epoch 18 | Training loss: 1.0990, validation accuracy: 0.6484, validation loss: 0.9811\n",
      "100%|██████████| 313/313 [00:15<00:00, 20.68it/s, loss=1.0890]\n",
      "Epoch 19 | Training loss: 1.0890, validation accuracy: 0.6583, validation loss: 0.9752\n",
      "100%|██████████| 313/313 [00:15<00:00, 20.64it/s, loss=1.0743]\n",
      "Epoch 20 | Training loss: 1.0743, validation accuracy: 0.5959, validation loss: 1.2094\n",
      "100%|██████████| 313/313 [00:15<00:00, 20.62it/s, loss=1.0623]\n",
      "Epoch 21 | Training loss: 1.0623, validation accuracy: 0.6340, validation loss: 1.0877\n",
      "100%|██████████| 313/313 [00:15<00:00, 20.66it/s, loss=1.0391]\n",
      "Epoch 22 | Training loss: 1.0391, validation accuracy: 0.6671, validation loss: 0.9490\n",
      "100%|██████████| 313/313 [00:15<00:00, 20.80it/s, loss=1.0299]\n",
      "Epoch 23 | Training loss: 1.0299, validation accuracy: 0.6613, validation loss: 0.9783\n",
      "100%|██████████| 313/313 [00:15<00:00, 20.77it/s, loss=1.0177]\n",
      "Epoch 24 | Training loss: 1.0177, validation accuracy: 0.6238, validation loss: 1.1403\n",
      "100%|██████████| 313/313 [00:15<00:00, 20.83it/s, loss=1.0064]\n",
      "Epoch 25 | Training loss: 1.0064, validation accuracy: 0.6581, validation loss: 0.9965\n"
     ]
    }
   ],
   "source": [
    "epochs = 25\n",
    "\n",
    "for epoch in range(epochs):\n",
    "    train_loss = trainer.train_epoch(model, optimizer, dl[\"train\"])\n",
    "    optimizer.finish_epoch()\n",
    "    val_acc, val_loss = trainer.validation(model, dl[\"valid\"])\n",
    "    logger.log(\"Epoch\", epoch+1, \"|\", \n",
    "          f\"Training loss: {train_loss:.4f}, validation accuracy: {val_acc:.4f}, validation loss: {val_loss:.4f}\")"
   ]
  },
  {
   "cell_type": "code",
   "execution_count": 35,
   "id": "metallic-workstation",
   "metadata": {},
   "outputs": [
    {
     "name": "stdout",
     "output_type": "stream",
     "text": [
      "Train: (0.643025, 1.0297035776138306)\n",
      "Valid: (0.6581, 0.9965353843688964)\n"
     ]
    }
   ],
   "source": [
    "train_score = trainer.validation(model, dl[\"train\"])\n",
    "valid_score = trainer.validation(model, dl[\"valid\"])\n",
    "logger.log(\"Train:\", train_score)\n",
    "logger.log(\"Valid:\", valid_score)"
   ]
  },
  {
   "cell_type": "code",
   "execution_count": 36,
   "id": "pacific-thirty",
   "metadata": {},
   "outputs": [
    {
     "name": "stdout",
     "output_type": "stream",
     "text": [
      "RNA\n"
     ]
    }
   ],
   "source": [
    "optimizer.param_groups[0][\"method\"] = \"RNA\"\n",
    "logger.log(\"RNA\")\n",
    "model_acc = deepcopy(model)\n",
    "optimizer.accelerate()\n",
    "optimizer.store_parameters([model_acc.parameters()])"
   ]
  },
  {
   "cell_type": "code",
   "execution_count": 37,
   "id": "faced-tribe",
   "metadata": {
    "tags": []
   },
   "outputs": [
    {
     "name": "stdout",
     "output_type": "stream",
     "text": [
      "Train: (0.678625, 0.9105850963592529)\n",
      "Valid: (0.692, 0.8713434221267701)\n"
     ]
    }
   ],
   "source": [
    "model_acc.to(trainer.device)\n",
    "train_score = trainer.validation(model_acc, dl[\"train\"])\n",
    "valid_score = trainer.validation(model_acc, dl[\"valid\"])\n",
    "logger.log(\"Train:\", train_score)\n",
    "logger.log(\"Valid:\", valid_score)"
   ]
  },
  {
   "cell_type": "code",
   "execution_count": 38,
   "id": "0a99436e-e283-4601-a51b-99ced3943b0b",
   "metadata": {},
   "outputs": [
    {
     "name": "stdout",
     "output_type": "stream",
     "text": [
      "RRE\n"
     ]
    }
   ],
   "source": [
    "optimizer.param_groups[0][\"method\"] = \"RRE\"\n",
    "logger.log(\"RRE\")\n",
    "model_acc = deepcopy(model)\n",
    "optimizer.accelerate()\n",
    "optimizer.store_parameters([model_acc.parameters()])"
   ]
  },
  {
   "cell_type": "code",
   "execution_count": 39,
   "id": "f44305f0-dc05-4bea-b6be-139178f10489",
   "metadata": {
    "tags": []
   },
   "outputs": [
    {
     "name": "stdout",
     "output_type": "stream",
     "text": [
      "Train: (0.6749, 0.9116784420967102)\n",
      "Valid: (0.692, 0.8713433927536011)\n"
     ]
    }
   ],
   "source": [
    "model_acc.to(trainer.device)\n",
    "train_score = trainer.validation(model_acc, dl[\"train\"])\n",
    "valid_score = trainer.validation(model_acc, dl[\"valid\"])\n",
    "logger.log(\"Train:\", train_score)\n",
    "logger.log(\"Valid:\", valid_score)"
   ]
  },
  {
   "cell_type": "code",
   "execution_count": 40,
   "id": "regulated-globe",
   "metadata": {},
   "outputs": [],
   "source": [
    "optimizer.param_groups[0][\"lr\"] = 1e-2"
   ]
  },
  {
   "cell_type": "code",
   "execution_count": 41,
   "id": "4926f98f-aed8-43dc-9c6a-eb426240eadd",
   "metadata": {},
   "outputs": [
    {
     "name": "stdout",
     "output_type": "stream",
     "text": [
      "100%|██████████| 313/313 [00:14<00:00, 21.24it/s, loss=0.9246]\n",
      "Epoch 1 | Training loss: 0.9246, validation accuracy: 0.7055, validation loss: 0.8556\n",
      "100%|██████████| 313/313 [00:15<00:00, 20.83it/s, loss=0.9122]\n",
      "Epoch 2 | Training loss: 0.9122, validation accuracy: 0.7049, validation loss: 0.8542\n",
      "100%|██████████| 313/313 [00:15<00:00, 20.56it/s, loss=0.9023]\n",
      "Epoch 3 | Training loss: 0.9023, validation accuracy: 0.7032, validation loss: 0.8557\n",
      "100%|██████████| 313/313 [00:15<00:00, 20.04it/s, loss=0.8999]\n",
      "Epoch 4 | Training loss: 0.8999, validation accuracy: 0.7111, validation loss: 0.8377\n",
      "100%|██████████| 313/313 [00:15<00:00, 20.42it/s, loss=0.8961]\n",
      "Epoch 5 | Training loss: 0.8961, validation accuracy: 0.7120, validation loss: 0.8312\n",
      "100%|██████████| 313/313 [00:15<00:00, 20.21it/s, loss=0.8880]\n",
      "Epoch 6 | Training loss: 0.8880, validation accuracy: 0.7169, validation loss: 0.8194\n",
      "100%|██████████| 313/313 [00:15<00:00, 20.44it/s, loss=0.8892]\n",
      "Epoch 7 | Training loss: 0.8892, validation accuracy: 0.7115, validation loss: 0.8358\n",
      "100%|██████████| 313/313 [00:15<00:00, 20.37it/s, loss=0.8850]\n",
      "Epoch 8 | Training loss: 0.8850, validation accuracy: 0.7164, validation loss: 0.8145\n",
      "100%|██████████| 313/313 [00:15<00:00, 20.47it/s, loss=0.8795]\n",
      "Epoch 9 | Training loss: 0.8795, validation accuracy: 0.7154, validation loss: 0.8250\n",
      "100%|██████████| 313/313 [00:15<00:00, 20.58it/s, loss=0.8762]\n",
      "Epoch 10 | Training loss: 0.8762, validation accuracy: 0.7183, validation loss: 0.8101\n",
      "100%|██████████| 313/313 [00:15<00:00, 20.33it/s, loss=0.8809]\n",
      "Epoch 11 | Training loss: 0.8809, validation accuracy: 0.7148, validation loss: 0.8239\n",
      "100%|██████████| 313/313 [00:15<00:00, 20.55it/s, loss=0.8735]\n",
      "Epoch 12 | Training loss: 0.8735, validation accuracy: 0.7203, validation loss: 0.8089\n",
      "100%|██████████| 313/313 [00:15<00:00, 20.65it/s, loss=0.8765]\n",
      "Epoch 13 | Training loss: 0.8765, validation accuracy: 0.7130, validation loss: 0.8348\n",
      "100%|██████████| 313/313 [00:15<00:00, 20.60it/s, loss=0.8756]\n",
      "Epoch 14 | Training loss: 0.8756, validation accuracy: 0.7191, validation loss: 0.8160\n",
      "100%|██████████| 313/313 [00:15<00:00, 20.65it/s, loss=0.8701]\n",
      "Epoch 15 | Training loss: 0.8701, validation accuracy: 0.7186, validation loss: 0.8106\n",
      "100%|██████████| 313/313 [00:15<00:00, 20.50it/s, loss=0.8599]\n",
      "Epoch 16 | Training loss: 0.8599, validation accuracy: 0.7190, validation loss: 0.8149\n",
      "100%|██████████| 313/313 [00:15<00:00, 20.66it/s, loss=0.8599]\n",
      "Epoch 17 | Training loss: 0.8599, validation accuracy: 0.7190, validation loss: 0.8084\n",
      "100%|██████████| 313/313 [00:15<00:00, 20.76it/s, loss=0.8530]\n",
      "Epoch 18 | Training loss: 0.8530, validation accuracy: 0.7164, validation loss: 0.8189\n",
      "100%|██████████| 313/313 [00:15<00:00, 20.47it/s, loss=0.8584]\n",
      "Epoch 19 | Training loss: 0.8584, validation accuracy: 0.7251, validation loss: 0.8050\n",
      "100%|██████████| 313/313 [00:15<00:00, 20.71it/s, loss=0.8553]\n",
      "Epoch 20 | Training loss: 0.8553, validation accuracy: 0.7259, validation loss: 0.7988\n",
      "100%|██████████| 313/313 [00:15<00:00, 20.69it/s, loss=0.8488]\n",
      "Epoch 21 | Training loss: 0.8488, validation accuracy: 0.7173, validation loss: 0.8184\n",
      "100%|██████████| 313/313 [00:15<00:00, 20.41it/s, loss=0.8498]\n",
      "Epoch 22 | Training loss: 0.8498, validation accuracy: 0.7251, validation loss: 0.7929\n",
      "100%|██████████| 313/313 [00:15<00:00, 20.85it/s, loss=0.8543]\n",
      "Epoch 23 | Training loss: 0.8543, validation accuracy: 0.7216, validation loss: 0.8058\n",
      "100%|██████████| 313/313 [00:15<00:00, 20.73it/s, loss=0.8447]\n",
      "Epoch 24 | Training loss: 0.8447, validation accuracy: 0.7235, validation loss: 0.8021\n",
      "100%|██████████| 313/313 [00:15<00:00, 20.26it/s, loss=0.8539]\n",
      "Epoch 25 | Training loss: 0.8539, validation accuracy: 0.7300, validation loss: 0.7811\n"
     ]
    }
   ],
   "source": [
    "epochs = 25\n",
    "\n",
    "for epoch in range(epochs):\n",
    "    train_loss = trainer.train_epoch(model, optimizer, dl[\"train\"])\n",
    "    optimizer.finish_epoch()\n",
    "    val_acc, val_loss = trainer.validation(model, dl[\"valid\"])\n",
    "    logger.log(\"Epoch\", epoch+1, \"|\", \n",
    "          f\"Training loss: {train_loss:.4f}, validation accuracy: {val_acc:.4f}, validation loss: {val_loss:.4f}\")"
   ]
  },
  {
   "cell_type": "code",
   "execution_count": 42,
   "id": "ef0d1930-865b-43a8-9e38-c4d96f0af7b0",
   "metadata": {},
   "outputs": [
    {
     "name": "stdout",
     "output_type": "stream",
     "text": [
      "Train: (0.724175, 0.784323591709137)\n",
      "Valid: (0.73, 0.7811445056915283)\n"
     ]
    }
   ],
   "source": [
    "train_score = trainer.validation(model, dl[\"train\"])\n",
    "valid_score = trainer.validation(model, dl[\"valid\"])\n",
    "logger.log(\"Train:\", train_score)\n",
    "logger.log(\"Valid:\", valid_score)"
   ]
  },
  {
   "cell_type": "code",
   "execution_count": 43,
   "id": "bdd5482c-7e9e-43e1-8c8e-449ae33b2875",
   "metadata": {},
   "outputs": [
    {
     "name": "stdout",
     "output_type": "stream",
     "text": [
      "RNA\n"
     ]
    }
   ],
   "source": [
    "optimizer.param_groups[0][\"method\"] = \"RNA\"\n",
    "logger.log(\"RNA\")\n",
    "model_acc = deepcopy(model)\n",
    "optimizer.accelerate()\n",
    "optimizer.store_parameters([model_acc.parameters()])"
   ]
  },
  {
   "cell_type": "code",
   "execution_count": 44,
   "id": "d647e197-1782-45e4-84f1-83bc9672b9fd",
   "metadata": {
    "tags": []
   },
   "outputs": [
    {
     "name": "stdout",
     "output_type": "stream",
     "text": [
      "Train: (0.716925, 0.8059598308563233)\n",
      "Valid: (0.7255, 0.7975503099441529)\n"
     ]
    }
   ],
   "source": [
    "model_acc.to(trainer.device)\n",
    "train_score = trainer.validation(model_acc, dl[\"train\"])\n",
    "valid_score = trainer.validation(model_acc, dl[\"valid\"])\n",
    "logger.log(\"Train:\", train_score)\n",
    "logger.log(\"Valid:\", valid_score)"
   ]
  },
  {
   "cell_type": "code",
   "execution_count": 45,
   "id": "896d8044-691c-42a9-91c1-006274b52c2e",
   "metadata": {},
   "outputs": [
    {
     "name": "stdout",
     "output_type": "stream",
     "text": [
      "RRE\n"
     ]
    }
   ],
   "source": [
    "optimizer.param_groups[0][\"method\"] = \"RRE\"\n",
    "logger.log(\"RRE\")\n",
    "model_acc = deepcopy(model)\n",
    "optimizer.accelerate()\n",
    "optimizer.store_parameters([model_acc.parameters()])"
   ]
  },
  {
   "cell_type": "code",
   "execution_count": 46,
   "id": "a9b512a3-5d7f-4d25-9785-681534162bae",
   "metadata": {
    "tags": []
   },
   "outputs": [
    {
     "name": "stdout",
     "output_type": "stream",
     "text": [
      "Train: (0.714475, 0.8085428611755371)\n",
      "Valid: (0.7255, 0.7975505010604859)\n"
     ]
    }
   ],
   "source": [
    "model_acc.to(trainer.device)\n",
    "train_score = trainer.validation(model_acc, dl[\"train\"])\n",
    "valid_score = trainer.validation(model_acc, dl[\"valid\"])\n",
    "logger.log(\"Train:\", train_score)\n",
    "logger.log(\"Valid:\", valid_score)"
   ]
  },
  {
   "cell_type": "code",
   "execution_count": 47,
   "id": "respected-console",
   "metadata": {},
   "outputs": [],
   "source": [
    "optimizer.param_groups[0][\"lr\"] = 1e-3"
   ]
  },
  {
   "cell_type": "code",
   "execution_count": 48,
   "id": "62375dd1-2950-4c7d-94cc-97077713c51b",
   "metadata": {},
   "outputs": [
    {
     "name": "stdout",
     "output_type": "stream",
     "text": [
      "100%|██████████| 313/313 [00:15<00:00, 19.63it/s, loss=0.8381]\n",
      "Epoch 1 | Training loss: 0.8381, validation accuracy: 0.7268, validation loss: 0.7875\n",
      "100%|██████████| 313/313 [00:17<00:00, 18.05it/s, loss=0.8351]\n",
      "Epoch 2 | Training loss: 0.8351, validation accuracy: 0.7259, validation loss: 0.7880\n",
      "100%|██████████| 313/313 [00:14<00:00, 21.34it/s, loss=0.8404]\n",
      "Epoch 3 | Training loss: 0.8404, validation accuracy: 0.7283, validation loss: 0.7833\n",
      "100%|██████████| 313/313 [00:15<00:00, 20.00it/s, loss=0.8330]\n",
      "Epoch 4 | Training loss: 0.8330, validation accuracy: 0.7277, validation loss: 0.7855\n",
      "100%|██████████| 313/313 [00:15<00:00, 20.26it/s, loss=0.8390]\n",
      "Epoch 5 | Training loss: 0.8390, validation accuracy: 0.7290, validation loss: 0.7828\n",
      "100%|██████████| 313/313 [00:15<00:00, 20.29it/s, loss=0.8369]\n",
      "Epoch 6 | Training loss: 0.8369, validation accuracy: 0.7268, validation loss: 0.7908\n",
      "100%|██████████| 313/313 [00:15<00:00, 20.27it/s, loss=0.8297]\n",
      "Epoch 7 | Training loss: 0.8297, validation accuracy: 0.7267, validation loss: 0.7891\n",
      "100%|██████████| 313/313 [00:15<00:00, 20.59it/s, loss=0.8342]\n",
      "Epoch 8 | Training loss: 0.8342, validation accuracy: 0.7276, validation loss: 0.7848\n",
      "100%|██████████| 313/313 [00:15<00:00, 20.49it/s, loss=0.8304]\n",
      "Epoch 9 | Training loss: 0.8304, validation accuracy: 0.7295, validation loss: 0.7814\n",
      "100%|██████████| 313/313 [00:15<00:00, 20.62it/s, loss=0.8310]\n",
      "Epoch 10 | Training loss: 0.8310, validation accuracy: 0.7262, validation loss: 0.7896\n",
      "100%|██████████| 313/313 [00:15<00:00, 20.66it/s, loss=0.8348]\n",
      "Epoch 11 | Training loss: 0.8348, validation accuracy: 0.7285, validation loss: 0.7853\n",
      "100%|██████████| 313/313 [00:15<00:00, 20.70it/s, loss=0.8337]\n",
      "Epoch 12 | Training loss: 0.8337, validation accuracy: 0.7291, validation loss: 0.7844\n",
      "100%|██████████| 313/313 [00:15<00:00, 20.68it/s, loss=0.8304]\n",
      "Epoch 13 | Training loss: 0.8304, validation accuracy: 0.7271, validation loss: 0.7888\n",
      "100%|██████████| 313/313 [00:14<00:00, 20.88it/s, loss=0.8283]\n",
      "Epoch 14 | Training loss: 0.8283, validation accuracy: 0.7276, validation loss: 0.7901\n",
      "100%|██████████| 313/313 [00:15<00:00, 20.76it/s, loss=0.8329]\n",
      "Epoch 15 | Training loss: 0.8329, validation accuracy: 0.7301, validation loss: 0.7812\n",
      "100%|██████████| 313/313 [00:15<00:00, 20.86it/s, loss=0.8334]\n",
      "Epoch 16 | Training loss: 0.8334, validation accuracy: 0.7281, validation loss: 0.7844\n",
      "100%|██████████| 313/313 [00:14<00:00, 20.89it/s, loss=0.8356]\n",
      "Epoch 17 | Training loss: 0.8356, validation accuracy: 0.7257, validation loss: 0.7951\n",
      "100%|██████████| 313/313 [00:14<00:00, 20.90it/s, loss=0.8352]\n",
      "Epoch 18 | Training loss: 0.8352, validation accuracy: 0.7278, validation loss: 0.7868\n",
      "100%|██████████| 313/313 [00:15<00:00, 20.86it/s, loss=0.8274]\n",
      "Epoch 19 | Training loss: 0.8274, validation accuracy: 0.7296, validation loss: 0.7825\n",
      "100%|██████████| 313/313 [00:14<00:00, 20.94it/s, loss=0.8302]\n",
      "Epoch 20 | Training loss: 0.8302, validation accuracy: 0.7292, validation loss: 0.7816\n",
      "100%|██████████| 313/313 [00:14<00:00, 20.91it/s, loss=0.8330]\n",
      "Epoch 21 | Training loss: 0.8330, validation accuracy: 0.7270, validation loss: 0.7901\n",
      "100%|██████████| 313/313 [00:14<00:00, 20.97it/s, loss=0.8285]\n",
      "Epoch 22 | Training loss: 0.8285, validation accuracy: 0.7282, validation loss: 0.7863\n",
      "100%|██████████| 313/313 [00:14<00:00, 20.90it/s, loss=0.8356]\n",
      "Epoch 23 | Training loss: 0.8356, validation accuracy: 0.7289, validation loss: 0.7876\n",
      "100%|██████████| 313/313 [00:14<00:00, 20.95it/s, loss=0.8264]\n",
      "Epoch 24 | Training loss: 0.8264, validation accuracy: 0.7302, validation loss: 0.7795\n",
      "100%|██████████| 313/313 [00:14<00:00, 21.00it/s, loss=0.8284]\n",
      "Epoch 25 | Training loss: 0.8284, validation accuracy: 0.7292, validation loss: 0.7884\n"
     ]
    }
   ],
   "source": [
    "epochs = 25\n",
    "\n",
    "for epoch in range(epochs):\n",
    "    train_loss = trainer.train_epoch(model, optimizer, dl[\"train\"])\n",
    "    optimizer.finish_epoch()\n",
    "    val_acc, val_loss = trainer.validation(model, dl[\"valid\"])\n",
    "    logger.log(\"Epoch\", epoch+1, \"|\", \n",
    "          f\"Training loss: {train_loss:.4f}, validation accuracy: {val_acc:.4f}, validation loss: {val_loss:.4f}\")"
   ]
  },
  {
   "cell_type": "code",
   "execution_count": 49,
   "id": "27806692-f100-465a-bfe8-a4be64e36d88",
   "metadata": {},
   "outputs": [
    {
     "name": "stdout",
     "output_type": "stream",
     "text": [
      "Train: (0.725725, 0.7799556538581848)\n",
      "Valid: (0.7292, 0.7883560613632202)\n"
     ]
    }
   ],
   "source": [
    "train_score = trainer.validation(model, dl[\"train\"])\n",
    "valid_score = trainer.validation(model, dl[\"valid\"])\n",
    "logger.log(\"Train:\", train_score)\n",
    "logger.log(\"Valid:\", valid_score)"
   ]
  },
  {
   "cell_type": "code",
   "execution_count": 50,
   "id": "0830e6e8-7291-495f-9a82-9a02f53004fd",
   "metadata": {},
   "outputs": [
    {
     "name": "stdout",
     "output_type": "stream",
     "text": [
      "RNA\n"
     ]
    }
   ],
   "source": [
    "optimizer.param_groups[0][\"method\"] = \"RNA\"\n",
    "logger.log(\"RNA\")\n",
    "model_acc = deepcopy(model)\n",
    "optimizer.accelerate()\n",
    "optimizer.store_parameters([model_acc.parameters()])"
   ]
  },
  {
   "cell_type": "code",
   "execution_count": 51,
   "id": "f06d768e-5785-4c03-93da-89d45a2c8f6e",
   "metadata": {
    "tags": []
   },
   "outputs": [
    {
     "name": "stdout",
     "output_type": "stream",
     "text": [
      "Train: (0.7245, 0.7831740236282348)\n",
      "Valid: (0.7276, 0.791721588897705)\n"
     ]
    }
   ],
   "source": [
    "model_acc.to(trainer.device)\n",
    "train_score = trainer.validation(model_acc, dl[\"train\"])\n",
    "valid_score = trainer.validation(model_acc, dl[\"valid\"])\n",
    "logger.log(\"Train:\", train_score)\n",
    "logger.log(\"Valid:\", valid_score)"
   ]
  },
  {
   "cell_type": "code",
   "execution_count": 52,
   "id": "6e2fa71e-2253-470f-9e8f-34904aefe3af",
   "metadata": {},
   "outputs": [
    {
     "name": "stdout",
     "output_type": "stream",
     "text": [
      "RRE\n"
     ]
    }
   ],
   "source": [
    "optimizer.param_groups[0][\"method\"] = \"RRE\"\n",
    "logger.log(\"RRE\")\n",
    "model_acc = deepcopy(model)\n",
    "optimizer.accelerate()\n",
    "optimizer.store_parameters([model_acc.parameters()])"
   ]
  },
  {
   "cell_type": "code",
   "execution_count": 53,
   "id": "03bfdb39-45d6-4d77-9f6a-6885227b9c08",
   "metadata": {
    "tags": []
   },
   "outputs": [
    {
     "name": "stdout",
     "output_type": "stream",
     "text": [
      "Train: (0.72275, 0.789233359336853)\n",
      "Valid: (0.7276, 0.7917215955734253)\n"
     ]
    }
   ],
   "source": [
    "model_acc.to(trainer.device)\n",
    "train_score = trainer.validation(model_acc, dl[\"train\"])\n",
    "valid_score = trainer.validation(model_acc, dl[\"valid\"])\n",
    "logger.log(\"Train:\", train_score)\n",
    "logger.log(\"Valid:\", valid_score)"
   ]
  },
  {
   "cell_type": "markdown",
   "id": "careful-basin",
   "metadata": {},
   "source": [
    "## Momentum"
   ]
  },
  {
   "cell_type": "code",
   "execution_count": 54,
   "id": "front-train",
   "metadata": {},
   "outputs": [
    {
     "data": {
      "text/plain": [
       "ResNet(\n",
       "  (conv1): Conv2d(3, 64, kernel_size=(7, 7), stride=(2, 2), padding=(3, 3), bias=False)\n",
       "  (bn1): Dropout(p=0.2, inplace=False)\n",
       "  (relu): ReLU(inplace=True)\n",
       "  (maxpool): MaxPool2d(kernel_size=3, stride=2, padding=1, dilation=1, ceil_mode=False)\n",
       "  (layer1): Sequential(\n",
       "    (0): BasicBlock(\n",
       "      (conv1): Conv2d(64, 64, kernel_size=(3, 3), stride=(1, 1), padding=(1, 1), bias=False)\n",
       "      (bn1): Dropout(p=0.2, inplace=False)\n",
       "      (relu): ReLU(inplace=True)\n",
       "      (conv2): Conv2d(64, 64, kernel_size=(3, 3), stride=(1, 1), padding=(1, 1), bias=False)\n",
       "      (bn2): Dropout(p=0.2, inplace=False)\n",
       "    )\n",
       "    (1): BasicBlock(\n",
       "      (conv1): Conv2d(64, 64, kernel_size=(3, 3), stride=(1, 1), padding=(1, 1), bias=False)\n",
       "      (bn1): Dropout(p=0.2, inplace=False)\n",
       "      (relu): ReLU(inplace=True)\n",
       "      (conv2): Conv2d(64, 64, kernel_size=(3, 3), stride=(1, 1), padding=(1, 1), bias=False)\n",
       "      (bn2): Dropout(p=0.2, inplace=False)\n",
       "    )\n",
       "  )\n",
       "  (layer2): Sequential(\n",
       "    (0): BasicBlock(\n",
       "      (conv1): Conv2d(64, 128, kernel_size=(3, 3), stride=(2, 2), padding=(1, 1), bias=False)\n",
       "      (bn1): Dropout(p=0.2, inplace=False)\n",
       "      (relu): ReLU(inplace=True)\n",
       "      (conv2): Conv2d(128, 128, kernel_size=(3, 3), stride=(1, 1), padding=(1, 1), bias=False)\n",
       "      (bn2): Dropout(p=0.2, inplace=False)\n",
       "      (downsample): Sequential(\n",
       "        (0): Conv2d(64, 128, kernel_size=(1, 1), stride=(2, 2), bias=False)\n",
       "        (1): BatchNorm2d(128, eps=1e-05, momentum=0.1, affine=True, track_running_stats=True)\n",
       "      )\n",
       "    )\n",
       "    (1): BasicBlock(\n",
       "      (conv1): Conv2d(128, 128, kernel_size=(3, 3), stride=(1, 1), padding=(1, 1), bias=False)\n",
       "      (bn1): Dropout(p=0.2, inplace=False)\n",
       "      (relu): ReLU(inplace=True)\n",
       "      (conv2): Conv2d(128, 128, kernel_size=(3, 3), stride=(1, 1), padding=(1, 1), bias=False)\n",
       "      (bn2): Dropout(p=0.2, inplace=False)\n",
       "    )\n",
       "  )\n",
       "  (layer3): Sequential(\n",
       "    (0): BasicBlock(\n",
       "      (conv1): Conv2d(128, 256, kernel_size=(3, 3), stride=(2, 2), padding=(1, 1), bias=False)\n",
       "      (bn1): Dropout(p=0.2, inplace=False)\n",
       "      (relu): ReLU(inplace=True)\n",
       "      (conv2): Conv2d(256, 256, kernel_size=(3, 3), stride=(1, 1), padding=(1, 1), bias=False)\n",
       "      (bn2): Dropout(p=0.2, inplace=False)\n",
       "      (downsample): Sequential(\n",
       "        (0): Conv2d(128, 256, kernel_size=(1, 1), stride=(2, 2), bias=False)\n",
       "        (1): BatchNorm2d(256, eps=1e-05, momentum=0.1, affine=True, track_running_stats=True)\n",
       "      )\n",
       "    )\n",
       "    (1): BasicBlock(\n",
       "      (conv1): Conv2d(256, 256, kernel_size=(3, 3), stride=(1, 1), padding=(1, 1), bias=False)\n",
       "      (bn1): Dropout(p=0.2, inplace=False)\n",
       "      (relu): ReLU(inplace=True)\n",
       "      (conv2): Conv2d(256, 256, kernel_size=(3, 3), stride=(1, 1), padding=(1, 1), bias=False)\n",
       "      (bn2): Dropout(p=0.2, inplace=False)\n",
       "    )\n",
       "  )\n",
       "  (layer4): Sequential(\n",
       "    (0): BasicBlock(\n",
       "      (conv1): Conv2d(256, 512, kernel_size=(3, 3), stride=(2, 2), padding=(1, 1), bias=False)\n",
       "      (bn1): Dropout(p=0.2, inplace=False)\n",
       "      (relu): ReLU(inplace=True)\n",
       "      (conv2): Conv2d(512, 512, kernel_size=(3, 3), stride=(1, 1), padding=(1, 1), bias=False)\n",
       "      (bn2): Dropout(p=0.2, inplace=False)\n",
       "      (downsample): Sequential(\n",
       "        (0): Conv2d(256, 512, kernel_size=(1, 1), stride=(2, 2), bias=False)\n",
       "        (1): BatchNorm2d(512, eps=1e-05, momentum=0.1, affine=True, track_running_stats=True)\n",
       "      )\n",
       "    )\n",
       "    (1): BasicBlock(\n",
       "      (conv1): Conv2d(512, 512, kernel_size=(3, 3), stride=(1, 1), padding=(1, 1), bias=False)\n",
       "      (bn1): Dropout(p=0.2, inplace=False)\n",
       "      (relu): ReLU(inplace=True)\n",
       "      (conv2): Conv2d(512, 512, kernel_size=(3, 3), stride=(1, 1), padding=(1, 1), bias=False)\n",
       "      (bn2): Dropout(p=0.2, inplace=False)\n",
       "    )\n",
       "  )\n",
       "  (avgpool): AdaptiveAvgPool2d(output_size=(1, 1))\n",
       "  (fc): Sequential(\n",
       "    (0): Linear(in_features=512, out_features=10, bias=True)\n",
       "    (1): LogSoftmax(dim=-1)\n",
       "  )\n",
       ")"
      ]
     },
     "execution_count": 54,
     "metadata": {},
     "output_type": "execute_result"
    }
   ],
   "source": [
    "model = make_model()\n",
    "model.to(trainer.device)"
   ]
  },
  {
   "cell_type": "code",
   "execution_count": 55,
   "id": "ead40ba4-397d-4405-bad5-8348857018a2",
   "metadata": {},
   "outputs": [
    {
     "data": {
      "text/plain": [
       "(0.1004, 2.3497232345581054)"
      ]
     },
     "execution_count": 55,
     "metadata": {},
     "output_type": "execute_result"
    }
   ],
   "source": [
    "trainer.validation(model, dl[\"valid\"])"
   ]
  },
  {
   "cell_type": "code",
   "execution_count": 56,
   "id": "sweet-judge",
   "metadata": {},
   "outputs": [],
   "source": [
    "optimizer = AcceleratedSGD(model.parameters(), 1e-1, k=10, momentum=0.9, weight_decay=1e-5, lambda_=1e-8)\n",
    "logger = Logger(\"resnet_log_augmentation_dropout.txt.no_resizing\")"
   ]
  },
  {
   "cell_type": "code",
   "execution_count": 57,
   "id": "6ccec233-bb10-416e-a52b-f51d1cf7d84f",
   "metadata": {},
   "outputs": [
    {
     "name": "stdout",
     "output_type": "stream",
     "text": [
      "100%|██████████| 313/313 [00:15<00:00, 20.82it/s, loss=2.0669]\n",
      "Epoch 1 | Training loss: 2.0669, validation accuracy: 0.2770, validation loss: 1.9935\n",
      "100%|██████████| 313/313 [00:15<00:00, 20.70it/s, loss=1.8792]\n",
      "Epoch 2 | Training loss: 1.8792, validation accuracy: 0.3178, validation loss: 1.8271\n",
      "100%|██████████| 313/313 [00:15<00:00, 20.60it/s, loss=1.7621]\n",
      "Epoch 3 | Training loss: 1.7621, validation accuracy: 0.3626, validation loss: 1.6871\n",
      "100%|██████████| 313/313 [00:15<00:00, 20.31it/s, loss=1.6733]\n",
      "Epoch 4 | Training loss: 1.6733, validation accuracy: 0.4206, validation loss: 1.5620\n",
      "100%|██████████| 313/313 [00:15<00:00, 20.09it/s, loss=1.6111]\n",
      "Epoch 5 | Training loss: 1.6111, validation accuracy: 0.4448, validation loss: 1.5225\n",
      "100%|██████████| 313/313 [00:15<00:00, 20.31it/s, loss=1.5456]\n",
      "Epoch 6 | Training loss: 1.5456, validation accuracy: 0.4608, validation loss: 1.5300\n",
      "100%|██████████| 313/313 [00:15<00:00, 20.27it/s, loss=1.4924]\n",
      "Epoch 7 | Training loss: 1.4924, validation accuracy: 0.4773, validation loss: 1.4722\n",
      "100%|██████████| 313/313 [00:15<00:00, 20.35it/s, loss=1.4494]\n",
      "Epoch 8 | Training loss: 1.4494, validation accuracy: 0.5300, validation loss: 1.3231\n",
      "100%|██████████| 313/313 [00:15<00:00, 20.41it/s, loss=1.3956]\n",
      "Epoch 9 | Training loss: 1.3956, validation accuracy: 0.5201, validation loss: 1.3458\n",
      "100%|██████████| 313/313 [00:15<00:00, 20.42it/s, loss=1.3548]\n",
      "Epoch 10 | Training loss: 1.3548, validation accuracy: 0.5351, validation loss: 1.3354\n",
      "100%|██████████| 313/313 [00:15<00:00, 20.44it/s, loss=1.3047]\n",
      "Epoch 11 | Training loss: 1.3047, validation accuracy: 0.5587, validation loss: 1.2310\n",
      "100%|██████████| 313/313 [00:15<00:00, 20.35it/s, loss=1.2700]\n",
      "Epoch 12 | Training loss: 1.2700, validation accuracy: 0.5764, validation loss: 1.1837\n",
      "100%|██████████| 313/313 [00:15<00:00, 20.55it/s, loss=1.2421]\n",
      "Epoch 13 | Training loss: 1.2421, validation accuracy: 0.5811, validation loss: 1.1895\n",
      "100%|██████████| 313/313 [00:15<00:00, 20.44it/s, loss=1.2096]\n",
      "Epoch 14 | Training loss: 1.2096, validation accuracy: 0.5889, validation loss: 1.1862\n",
      "100%|██████████| 313/313 [00:15<00:00, 20.44it/s, loss=1.1966]\n",
      "Epoch 15 | Training loss: 1.1966, validation accuracy: 0.5889, validation loss: 1.2059\n",
      "100%|██████████| 313/313 [00:15<00:00, 20.50it/s, loss=1.1692]\n",
      "Epoch 16 | Training loss: 1.1692, validation accuracy: 0.6138, validation loss: 1.0820\n",
      "100%|██████████| 313/313 [00:15<00:00, 20.40it/s, loss=1.1464]\n",
      "Epoch 17 | Training loss: 1.1464, validation accuracy: 0.6205, validation loss: 1.0855\n",
      "100%|██████████| 313/313 [00:15<00:00, 20.46it/s, loss=1.1307]\n",
      "Epoch 18 | Training loss: 1.1307, validation accuracy: 0.6311, validation loss: 1.0400\n",
      "100%|██████████| 313/313 [00:15<00:00, 20.49it/s, loss=1.1194]\n",
      "Epoch 19 | Training loss: 1.1194, validation accuracy: 0.6361, validation loss: 1.0348\n",
      "100%|██████████| 313/313 [00:15<00:00, 20.48it/s, loss=1.0944]\n",
      "Epoch 20 | Training loss: 1.0944, validation accuracy: 0.6575, validation loss: 0.9642\n",
      "100%|██████████| 313/313 [00:15<00:00, 20.49it/s, loss=1.0822]\n",
      "Epoch 21 | Training loss: 1.0822, validation accuracy: 0.6699, validation loss: 0.9299\n",
      "100%|██████████| 313/313 [00:15<00:00, 20.50it/s, loss=1.0694]\n",
      "Epoch 22 | Training loss: 1.0694, validation accuracy: 0.6669, validation loss: 0.9495\n",
      "100%|██████████| 313/313 [00:15<00:00, 20.47it/s, loss=1.0538]\n",
      "Epoch 23 | Training loss: 1.0538, validation accuracy: 0.6729, validation loss: 0.9380\n",
      "100%|██████████| 313/313 [00:15<00:00, 20.44it/s, loss=1.0484]\n",
      "Epoch 24 | Training loss: 1.0484, validation accuracy: 0.6521, validation loss: 1.0121\n",
      "100%|██████████| 313/313 [00:15<00:00, 20.47it/s, loss=1.0396]\n",
      "Epoch 25 | Training loss: 1.0396, validation accuracy: 0.6739, validation loss: 0.9304\n"
     ]
    }
   ],
   "source": [
    "epochs = 25\n",
    "\n",
    "for epoch in range(epochs):\n",
    "    train_loss = trainer.train_epoch(model, optimizer, dl[\"train\"])\n",
    "    optimizer.finish_epoch()\n",
    "    val_acc, val_loss = trainer.validation(model, dl[\"valid\"])\n",
    "    logger.log(\"Epoch\", epoch+1, \"|\", \n",
    "          f\"Training loss: {train_loss:.4f}, validation accuracy: {val_acc:.4f}, validation loss: {val_loss:.4f}\")"
   ]
  },
  {
   "cell_type": "code",
   "execution_count": 58,
   "id": "d7f57b14-1e56-4ecf-91a7-0fe00a7a73b2",
   "metadata": {},
   "outputs": [
    {
     "name": "stdout",
     "output_type": "stream",
     "text": [
      "Train: (0.654, 0.9836876014709472)\n",
      "Valid: (0.6739, 0.9303822853088379)\n"
     ]
    }
   ],
   "source": [
    "train_score = trainer.validation(model, dl[\"train\"])\n",
    "valid_score = trainer.validation(model, dl[\"valid\"])\n",
    "logger.log(\"Train:\", train_score)\n",
    "logger.log(\"Valid:\", valid_score)"
   ]
  },
  {
   "cell_type": "code",
   "execution_count": 59,
   "id": "feaeeebe-6668-4026-b1be-6da4d9428960",
   "metadata": {},
   "outputs": [
    {
     "name": "stdout",
     "output_type": "stream",
     "text": [
      "RNA\n"
     ]
    }
   ],
   "source": [
    "optimizer.param_groups[0][\"method\"] = \"RNA\"\n",
    "logger.log(\"RNA\")\n",
    "model_acc = deepcopy(model)\n",
    "optimizer.accelerate()\n",
    "optimizer.store_parameters([model_acc.parameters()])"
   ]
  },
  {
   "cell_type": "code",
   "execution_count": 60,
   "id": "ecda995e-26e1-48be-b5fb-09c71dc1a5f1",
   "metadata": {
    "tags": []
   },
   "outputs": [
    {
     "name": "stdout",
     "output_type": "stream",
     "text": [
      "Train: (0.6217, 1.0990787353515625)\n",
      "Valid: (0.6528, 1.0022801303863524)\n"
     ]
    }
   ],
   "source": [
    "model_acc.to(trainer.device)\n",
    "train_score = trainer.validation(model_acc, dl[\"train\"])\n",
    "valid_score = trainer.validation(model_acc, dl[\"valid\"])\n",
    "logger.log(\"Train:\", train_score)\n",
    "logger.log(\"Valid:\", valid_score)"
   ]
  },
  {
   "cell_type": "code",
   "execution_count": 61,
   "id": "f8fc2877-8ff7-4604-818e-d35af6ab2e2f",
   "metadata": {},
   "outputs": [
    {
     "name": "stdout",
     "output_type": "stream",
     "text": [
      "RRE\n"
     ]
    }
   ],
   "source": [
    "optimizer.param_groups[0][\"method\"] = \"RRE\"\n",
    "logger.log(\"RRE\")\n",
    "model_acc = deepcopy(model)\n",
    "optimizer.accelerate()\n",
    "optimizer.store_parameters([model_acc.parameters()])"
   ]
  },
  {
   "cell_type": "code",
   "execution_count": 62,
   "id": "ce69a19f-e2d5-453d-9a75-744a4a27e17b",
   "metadata": {
    "tags": []
   },
   "outputs": [
    {
     "name": "stdout",
     "output_type": "stream",
     "text": [
      "Train: (0.622075, 1.0969384763717651)\n",
      "Valid: (0.6528, 1.0022829542160034)\n"
     ]
    }
   ],
   "source": [
    "model_acc.to(trainer.device)\n",
    "train_score = trainer.validation(model_acc, dl[\"train\"])\n",
    "valid_score = trainer.validation(model_acc, dl[\"valid\"])\n",
    "logger.log(\"Train:\", train_score)\n",
    "logger.log(\"Valid:\", valid_score)"
   ]
  },
  {
   "cell_type": "code",
   "execution_count": 63,
   "id": "4c30eee8-c114-4233-b421-58123888ebf1",
   "metadata": {},
   "outputs": [],
   "source": [
    "optimizer.param_groups[0][\"lr\"] = 1e-2"
   ]
  },
  {
   "cell_type": "code",
   "execution_count": 64,
   "id": "6baec32a-71fa-45a4-99e0-7f3ff9aca932",
   "metadata": {},
   "outputs": [
    {
     "name": "stdout",
     "output_type": "stream",
     "text": [
      "100%|██████████| 313/313 [00:15<00:00, 20.64it/s, loss=0.9516]\n",
      "Epoch 1 | Training loss: 0.9516, validation accuracy: 0.7059, validation loss: 0.8490\n",
      "100%|██████████| 313/313 [00:15<00:00, 20.47it/s, loss=0.9323]\n",
      "Epoch 2 | Training loss: 0.9323, validation accuracy: 0.7088, validation loss: 0.8376\n",
      "100%|██████████| 313/313 [00:15<00:00, 20.45it/s, loss=0.9242]\n",
      "Epoch 3 | Training loss: 0.9242, validation accuracy: 0.7073, validation loss: 0.8434\n",
      "100%|██████████| 313/313 [00:15<00:00, 20.45it/s, loss=0.9242]\n",
      "Epoch 4 | Training loss: 0.9242, validation accuracy: 0.7051, validation loss: 0.8524\n",
      "100%|██████████| 313/313 [00:15<00:00, 20.10it/s, loss=0.9106]\n",
      "Epoch 5 | Training loss: 0.9106, validation accuracy: 0.7082, validation loss: 0.8339\n",
      "100%|██████████| 313/313 [00:15<00:00, 20.29it/s, loss=0.9062]\n",
      "Epoch 6 | Training loss: 0.9062, validation accuracy: 0.7128, validation loss: 0.8269\n",
      "100%|██████████| 313/313 [00:15<00:00, 20.50it/s, loss=0.8990]\n",
      "Epoch 7 | Training loss: 0.8990, validation accuracy: 0.7125, validation loss: 0.8345\n",
      "100%|██████████| 313/313 [00:15<00:00, 20.36it/s, loss=0.8953]\n",
      "Epoch 8 | Training loss: 0.8953, validation accuracy: 0.7142, validation loss: 0.8287\n",
      "100%|██████████| 313/313 [00:15<00:00, 20.42it/s, loss=0.8936]\n",
      "Epoch 9 | Training loss: 0.8936, validation accuracy: 0.7143, validation loss: 0.8180\n",
      "100%|██████████| 313/313 [00:15<00:00, 20.34it/s, loss=0.8824]\n",
      "Epoch 10 | Training loss: 0.8824, validation accuracy: 0.7185, validation loss: 0.8147\n",
      "100%|██████████| 313/313 [00:15<00:00, 20.53it/s, loss=0.8836]\n",
      "Epoch 11 | Training loss: 0.8836, validation accuracy: 0.7125, validation loss: 0.8234\n",
      "100%|██████████| 313/313 [00:15<00:00, 20.47it/s, loss=0.8795]\n",
      "Epoch 12 | Training loss: 0.8795, validation accuracy: 0.7190, validation loss: 0.8103\n",
      "100%|██████████| 313/313 [00:15<00:00, 20.39it/s, loss=0.8786]\n",
      "Epoch 13 | Training loss: 0.8786, validation accuracy: 0.7160, validation loss: 0.8210\n",
      "100%|██████████| 313/313 [00:15<00:00, 20.57it/s, loss=0.8790]\n",
      "Epoch 14 | Training loss: 0.8790, validation accuracy: 0.7222, validation loss: 0.8006\n",
      "100%|██████████| 313/313 [00:15<00:00, 20.43it/s, loss=0.8781]\n",
      "Epoch 15 | Training loss: 0.8781, validation accuracy: 0.7224, validation loss: 0.7994\n",
      "100%|██████████| 313/313 [00:15<00:00, 20.45it/s, loss=0.8729]\n",
      "Epoch 16 | Training loss: 0.8729, validation accuracy: 0.7193, validation loss: 0.8094\n",
      "100%|██████████| 313/313 [00:15<00:00, 20.46it/s, loss=0.8686]\n",
      "Epoch 17 | Training loss: 0.8686, validation accuracy: 0.7242, validation loss: 0.7958\n",
      "100%|██████████| 313/313 [00:15<00:00, 20.70it/s, loss=0.8700]\n",
      "Epoch 18 | Training loss: 0.8700, validation accuracy: 0.7223, validation loss: 0.8097\n",
      "100%|██████████| 313/313 [00:15<00:00, 20.58it/s, loss=0.8660]\n",
      "Epoch 19 | Training loss: 0.8660, validation accuracy: 0.7238, validation loss: 0.8030\n",
      "100%|██████████| 313/313 [00:15<00:00, 20.74it/s, loss=0.8682]\n",
      "Epoch 20 | Training loss: 0.8682, validation accuracy: 0.7241, validation loss: 0.7974\n",
      "100%|██████████| 313/313 [00:15<00:00, 20.40it/s, loss=0.8616]\n",
      "Epoch 21 | Training loss: 0.8616, validation accuracy: 0.7217, validation loss: 0.7976\n",
      "100%|██████████| 313/313 [00:15<00:00, 20.67it/s, loss=0.8606]\n",
      "Epoch 22 | Training loss: 0.8606, validation accuracy: 0.7201, validation loss: 0.8062\n",
      "100%|██████████| 313/313 [00:15<00:00, 20.38it/s, loss=0.8551]\n",
      "Epoch 23 | Training loss: 0.8551, validation accuracy: 0.7249, validation loss: 0.7971\n",
      "100%|██████████| 313/313 [00:15<00:00, 20.39it/s, loss=0.8558]\n",
      "Epoch 24 | Training loss: 0.8558, validation accuracy: 0.7275, validation loss: 0.7864\n",
      "100%|██████████| 313/313 [00:15<00:00, 20.35it/s, loss=0.8443]\n",
      "Epoch 25 | Training loss: 0.8443, validation accuracy: 0.7262, validation loss: 0.7920\n"
     ]
    }
   ],
   "source": [
    "epochs = 25\n",
    "\n",
    "for epoch in range(epochs):\n",
    "    train_loss = trainer.train_epoch(model, optimizer, dl[\"train\"])\n",
    "    optimizer.finish_epoch()\n",
    "    val_acc, val_loss = trainer.validation(model, dl[\"valid\"])\n",
    "    logger.log(\"Epoch\", epoch+1, \"|\", \n",
    "          f\"Training loss: {train_loss:.4f}, validation accuracy: {val_acc:.4f}, validation loss: {val_loss:.4f}\")"
   ]
  },
  {
   "cell_type": "code",
   "execution_count": 65,
   "id": "8f71a083-9be9-46a6-9171-61738b54e143",
   "metadata": {},
   "outputs": [
    {
     "name": "stdout",
     "output_type": "stream",
     "text": [
      "Train: (0.72105, 0.796857222366333)\n",
      "Valid: (0.7262, 0.7920450061798096)\n"
     ]
    }
   ],
   "source": [
    "train_score = trainer.validation(model, dl[\"train\"])\n",
    "valid_score = trainer.validation(model, dl[\"valid\"])\n",
    "logger.log(\"Train:\", train_score)\n",
    "logger.log(\"Valid:\", valid_score)"
   ]
  },
  {
   "cell_type": "code",
   "execution_count": 66,
   "id": "b47c4321-b1af-4aa9-be43-5d91757bd5d2",
   "metadata": {},
   "outputs": [
    {
     "name": "stdout",
     "output_type": "stream",
     "text": [
      "RNA\n"
     ]
    }
   ],
   "source": [
    "optimizer.param_groups[0][\"method\"] = \"RNA\"\n",
    "logger.log(\"RNA\")\n",
    "model_acc = deepcopy(model)\n",
    "optimizer.accelerate()\n",
    "optimizer.store_parameters([model_acc.parameters()])"
   ]
  },
  {
   "cell_type": "code",
   "execution_count": 67,
   "id": "c6e6d044-79ae-4caa-bf4c-cd50176cd234",
   "metadata": {
    "tags": []
   },
   "outputs": [
    {
     "name": "stdout",
     "output_type": "stream",
     "text": [
      "Train: (0.71915, 0.8034924876213074)\n",
      "Valid: (0.7258, 0.7971745235443115)\n"
     ]
    }
   ],
   "source": [
    "model_acc.to(trainer.device)\n",
    "train_score = trainer.validation(model_acc, dl[\"train\"])\n",
    "valid_score = trainer.validation(model_acc, dl[\"valid\"])\n",
    "logger.log(\"Train:\", train_score)\n",
    "logger.log(\"Valid:\", valid_score)"
   ]
  },
  {
   "cell_type": "code",
   "execution_count": 68,
   "id": "aaad4ad1-0f4e-4514-8e3f-9fd30e09f7e5",
   "metadata": {},
   "outputs": [
    {
     "name": "stdout",
     "output_type": "stream",
     "text": [
      "RRE\n"
     ]
    }
   ],
   "source": [
    "optimizer.param_groups[0][\"method\"] = \"RRE\"\n",
    "logger.log(\"RRE\")\n",
    "model_acc = deepcopy(model)\n",
    "optimizer.accelerate()\n",
    "optimizer.store_parameters([model_acc.parameters()])"
   ]
  },
  {
   "cell_type": "code",
   "execution_count": 69,
   "id": "eba3c71a-ecf9-443f-a993-cd3bc0c06ae4",
   "metadata": {
    "tags": []
   },
   "outputs": [
    {
     "name": "stdout",
     "output_type": "stream",
     "text": [
      "Train: (0.719075, 0.8057135431289673)\n",
      "Valid: (0.7258, 0.7971746562957763)\n"
     ]
    }
   ],
   "source": [
    "model_acc.to(trainer.device)\n",
    "train_score = trainer.validation(model_acc, dl[\"train\"])\n",
    "valid_score = trainer.validation(model_acc, dl[\"valid\"])\n",
    "logger.log(\"Train:\", train_score)\n",
    "logger.log(\"Valid:\", valid_score)"
   ]
  },
  {
   "cell_type": "code",
   "execution_count": 70,
   "id": "82e6b5c4-8c10-49fd-9098-24db99510557",
   "metadata": {},
   "outputs": [],
   "source": [
    "optimizer.param_groups[0][\"lr\"] = 1e-3"
   ]
  },
  {
   "cell_type": "code",
   "execution_count": 71,
   "id": "46d845b2-7f65-4256-bbc1-72dc61087c4c",
   "metadata": {},
   "outputs": [
    {
     "name": "stdout",
     "output_type": "stream",
     "text": [
      "100%|██████████| 313/313 [00:15<00:00, 20.85it/s, loss=0.8477]\n",
      "Epoch 1 | Training loss: 0.8477, validation accuracy: 0.7284, validation loss: 0.7861\n",
      "100%|██████████| 313/313 [00:15<00:00, 20.50it/s, loss=0.8412]\n",
      "Epoch 2 | Training loss: 0.8412, validation accuracy: 0.7286, validation loss: 0.7859\n",
      "100%|██████████| 313/313 [00:15<00:00, 20.33it/s, loss=0.8387]\n",
      "Epoch 3 | Training loss: 0.8387, validation accuracy: 0.7306, validation loss: 0.7801\n",
      "100%|██████████| 313/313 [00:15<00:00, 20.30it/s, loss=0.8410]\n",
      "Epoch 4 | Training loss: 0.8410, validation accuracy: 0.7285, validation loss: 0.7821\n",
      "100%|██████████| 313/313 [00:15<00:00, 20.25it/s, loss=0.8404]\n",
      "Epoch 5 | Training loss: 0.8404, validation accuracy: 0.7274, validation loss: 0.7850\n",
      "100%|██████████| 313/313 [00:15<00:00, 20.33it/s, loss=0.8343]\n",
      "Epoch 6 | Training loss: 0.8343, validation accuracy: 0.7274, validation loss: 0.7849\n",
      "100%|██████████| 313/313 [00:15<00:00, 20.25it/s, loss=0.8362]\n",
      "Epoch 7 | Training loss: 0.8362, validation accuracy: 0.7268, validation loss: 0.7874\n",
      "100%|██████████| 313/313 [00:15<00:00, 20.42it/s, loss=0.8354]\n",
      "Epoch 8 | Training loss: 0.8354, validation accuracy: 0.7317, validation loss: 0.7762\n",
      "100%|██████████| 313/313 [00:15<00:00, 20.28it/s, loss=0.8363]\n",
      "Epoch 9 | Training loss: 0.8363, validation accuracy: 0.7311, validation loss: 0.7791\n",
      "100%|██████████| 313/313 [00:15<00:00, 20.21it/s, loss=0.8344]\n",
      "Epoch 10 | Training loss: 0.8344, validation accuracy: 0.7314, validation loss: 0.7743\n",
      "100%|██████████| 313/313 [00:15<00:00, 20.35it/s, loss=0.8359]\n",
      "Epoch 11 | Training loss: 0.8359, validation accuracy: 0.7281, validation loss: 0.7853\n",
      "100%|██████████| 313/313 [00:15<00:00, 20.23it/s, loss=0.8353]\n",
      "Epoch 12 | Training loss: 0.8353, validation accuracy: 0.7281, validation loss: 0.7831\n",
      "100%|██████████| 313/313 [00:15<00:00, 20.48it/s, loss=0.8336]\n",
      "Epoch 13 | Training loss: 0.8336, validation accuracy: 0.7281, validation loss: 0.7852\n",
      "100%|██████████| 313/313 [00:15<00:00, 20.43it/s, loss=0.8339]\n",
      "Epoch 14 | Training loss: 0.8339, validation accuracy: 0.7271, validation loss: 0.7874\n",
      "100%|██████████| 313/313 [00:15<00:00, 20.38it/s, loss=0.8293]\n",
      "Epoch 15 | Training loss: 0.8293, validation accuracy: 0.7306, validation loss: 0.7800\n",
      "100%|██████████| 313/313 [00:15<00:00, 20.51it/s, loss=0.8308]\n",
      "Epoch 16 | Training loss: 0.8308, validation accuracy: 0.7325, validation loss: 0.7755\n",
      "100%|██████████| 313/313 [00:15<00:00, 20.27it/s, loss=0.8323]\n",
      "Epoch 17 | Training loss: 0.8323, validation accuracy: 0.7307, validation loss: 0.7798\n",
      "100%|██████████| 313/313 [00:15<00:00, 20.07it/s, loss=0.8337]\n",
      "Epoch 18 | Training loss: 0.8337, validation accuracy: 0.7295, validation loss: 0.7840\n",
      "100%|██████████| 313/313 [00:15<00:00, 20.21it/s, loss=0.8329]\n",
      "Epoch 19 | Training loss: 0.8329, validation accuracy: 0.7297, validation loss: 0.7786\n",
      "100%|██████████| 313/313 [00:15<00:00, 20.16it/s, loss=0.8363]\n",
      "Epoch 20 | Training loss: 0.8363, validation accuracy: 0.7332, validation loss: 0.7743\n",
      "100%|██████████| 313/313 [00:15<00:00, 20.16it/s, loss=0.8373]\n",
      "Epoch 21 | Training loss: 0.8373, validation accuracy: 0.7304, validation loss: 0.7789\n",
      "100%|██████████| 313/313 [00:15<00:00, 20.09it/s, loss=0.8282]\n",
      "Epoch 22 | Training loss: 0.8282, validation accuracy: 0.7314, validation loss: 0.7772\n",
      "100%|██████████| 313/313 [00:15<00:00, 20.22it/s, loss=0.8321]\n",
      "Epoch 23 | Training loss: 0.8321, validation accuracy: 0.7335, validation loss: 0.7716\n",
      "100%|██████████| 313/313 [00:15<00:00, 20.16it/s, loss=0.8238]\n",
      "Epoch 24 | Training loss: 0.8238, validation accuracy: 0.7320, validation loss: 0.7799\n",
      "100%|██████████| 313/313 [00:15<00:00, 20.40it/s, loss=0.8303]\n",
      "Epoch 25 | Training loss: 0.8303, validation accuracy: 0.7309, validation loss: 0.7789\n"
     ]
    }
   ],
   "source": [
    "epochs = 25\n",
    "\n",
    "for epoch in range(epochs):\n",
    "    train_loss = trainer.train_epoch(model, optimizer, dl[\"train\"])\n",
    "    optimizer.finish_epoch()\n",
    "    val_acc, val_loss = trainer.validation(model, dl[\"valid\"])\n",
    "    logger.log(\"Epoch\", epoch+1, \"|\", \n",
    "          f\"Training loss: {train_loss:.4f}, validation accuracy: {val_acc:.4f}, validation loss: {val_loss:.4f}\")"
   ]
  },
  {
   "cell_type": "code",
   "execution_count": 72,
   "id": "5bd01370-37cb-40e9-89b9-a28bc00653fc",
   "metadata": {},
   "outputs": [
    {
     "name": "stdout",
     "output_type": "stream",
     "text": [
      "Train: (0.719625, 0.792577197265625)\n",
      "Valid: (0.7309, 0.7789380920410156)\n"
     ]
    }
   ],
   "source": [
    "train_score = trainer.validation(model, dl[\"train\"])\n",
    "valid_score = trainer.validation(model, dl[\"valid\"])\n",
    "logger.log(\"Train:\", train_score)\n",
    "logger.log(\"Valid:\", valid_score)"
   ]
  },
  {
   "cell_type": "code",
   "execution_count": 73,
   "id": "dabe6aef-c3cc-469f-b737-1ac87ff40870",
   "metadata": {},
   "outputs": [
    {
     "name": "stdout",
     "output_type": "stream",
     "text": [
      "RNA\n"
     ]
    }
   ],
   "source": [
    "optimizer.param_groups[0][\"method\"] = \"RNA\"\n",
    "logger.log(\"RNA\")\n",
    "model_acc = deepcopy(model)\n",
    "optimizer.accelerate()\n",
    "optimizer.store_parameters([model_acc.parameters()])"
   ]
  },
  {
   "cell_type": "code",
   "execution_count": 74,
   "id": "78fdcf45-4537-4ff0-89c4-9ee72ca27c5e",
   "metadata": {
    "tags": []
   },
   "outputs": [
    {
     "name": "stdout",
     "output_type": "stream",
     "text": [
      "Train: (0.722125, 0.7873786575317383)\n",
      "Valid: (0.7319, 0.7732045806884765)\n"
     ]
    }
   ],
   "source": [
    "model_acc.to(trainer.device)\n",
    "train_score = trainer.validation(model_acc, dl[\"train\"])\n",
    "valid_score = trainer.validation(model_acc, dl[\"valid\"])\n",
    "logger.log(\"Train:\", train_score)\n",
    "logger.log(\"Valid:\", valid_score)"
   ]
  },
  {
   "cell_type": "code",
   "execution_count": 75,
   "id": "2ff9139d-cfa8-477b-8faa-22d242f92f1f",
   "metadata": {},
   "outputs": [
    {
     "name": "stdout",
     "output_type": "stream",
     "text": [
      "RRE\n"
     ]
    }
   ],
   "source": [
    "optimizer.param_groups[0][\"method\"] = \"RRE\"\n",
    "logger.log(\"RRE\")\n",
    "model_acc = deepcopy(model)\n",
    "optimizer.accelerate()\n",
    "optimizer.store_parameters([model_acc.parameters()])"
   ]
  },
  {
   "cell_type": "code",
   "execution_count": 76,
   "id": "ce348e6b-0a11-4bed-b710-2a56d747a337",
   "metadata": {
    "tags": []
   },
   "outputs": [
    {
     "name": "stdout",
     "output_type": "stream",
     "text": [
      "Train: (0.726125, 0.7809732400894165)\n",
      "Valid: (0.7319, 0.773204490852356)\n"
     ]
    }
   ],
   "source": [
    "model_acc.to(trainer.device)\n",
    "train_score = trainer.validation(model_acc, dl[\"train\"])\n",
    "valid_score = trainer.validation(model_acc, dl[\"valid\"])\n",
    "logger.log(\"Train:\", train_score)\n",
    "logger.log(\"Valid:\", valid_score)"
   ]
  },
  {
   "cell_type": "code",
   "execution_count": 77,
   "id": "d981e76f-b8e1-429d-9557-077f795e9f39",
   "metadata": {},
   "outputs": [],
   "source": [
    "exit"
   ]
  },
  {
   "cell_type": "code",
   "execution_count": null,
   "id": "6e5e2f3b-f21e-47c5-be3d-c2155fd67538",
   "metadata": {},
   "outputs": [],
   "source": []
  }
 ],
 "metadata": {
  "kernelspec": {
   "display_name": "Python 3",
   "language": "python",
   "name": "python3"
  },
  "language_info": {
   "codemirror_mode": {
    "name": "ipython",
    "version": 3
   },
   "file_extension": ".py",
   "mimetype": "text/x-python",
   "name": "python",
   "nbconvert_exporter": "python",
   "pygments_lexer": "ipython3",
   "version": "3.8.5"
  }
 },
 "nbformat": 4,
 "nbformat_minor": 5
}
