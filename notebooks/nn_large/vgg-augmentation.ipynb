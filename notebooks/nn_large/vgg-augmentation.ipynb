{
 "cells": [
  {
   "cell_type": "code",
   "execution_count": 1,
   "id": "345219e1-d84b-4ff5-bca4-edd913fe338a",
   "metadata": {},
   "outputs": [],
   "source": [
    "import sys\n",
    "sys.path.insert(0, \"../..\")"
   ]
  },
  {
   "cell_type": "code",
   "execution_count": 2,
   "id": "noticed-jimmy",
   "metadata": {
    "tags": []
   },
   "outputs": [],
   "source": [
    "import torch\n",
    "from torch import nn\n",
    "from torchvision import models\n",
    "from copy import deepcopy\n",
    "import os\n",
    "\n",
    "from nn_extrapolation import AcceleratedSGD\n",
    "from nn_utils import *"
   ]
  },
  {
   "cell_type": "code",
   "execution_count": 3,
   "id": "increasing-alignment",
   "metadata": {},
   "outputs": [],
   "source": [
    "trainer = Trainer(\n",
    "    device=\"cuda\",\n",
    "    loss_fn=nn.NLLLoss(reduction=\"mean\"),\n",
    "    val_loss_fn=nn.NLLLoss(reduction=\"sum\"),\n",
    ")"
   ]
  },
  {
   "cell_type": "code",
   "execution_count": 4,
   "id": "willing-bathroom",
   "metadata": {},
   "outputs": [
    {
     "name": "stdout",
     "output_type": "stream",
     "text": [
      "Downloading https://www.cs.toronto.edu/~kriz/cifar-10-python.tar.gz to /tmp/michal/CIFAR/cifar-10-python.tar.gz\n"
     ]
    },
    {
     "data": {
      "application/vnd.jupyter.widget-view+json": {
       "model_id": "aaeac1f35d824dd28c464014eee33553",
       "version_major": 2,
       "version_minor": 0
      },
      "text/plain": [
       "  0%|          | 0/170498071 [00:00<?, ?it/s]"
      ]
     },
     "metadata": {},
     "output_type": "display_data"
    },
    {
     "name": "stdout",
     "output_type": "stream",
     "text": [
      "Extracting /tmp/michal/CIFAR/cifar-10-python.tar.gz to /tmp/michal/CIFAR\n",
      "Files already downloaded and verified\n"
     ]
    }
   ],
   "source": [
    "dl = load_dataset(\n",
    "    dataset=\"CIFAR10\",\n",
    "    root=os.path.join(\"/tmp\", os.environ[\"USER\"], \"CIFAR\"),\n",
    "    augmentation=transforms.RandomAffine(10, scale=(0.9, 1.1), translate=(0.2, 0.2)),\n",
    "    validation_split=0.2,\n",
    "    batch_size=128,\n",
    "    num_workers=10,\n",
    ")"
   ]
  },
  {
   "cell_type": "code",
   "execution_count": 5,
   "id": "numeric-injury",
   "metadata": {},
   "outputs": [
    {
     "data": {
      "text/plain": [
       "VGG(\n",
       "  (features): Sequential(\n",
       "    (0): Conv2d(3, 64, kernel_size=(3, 3), stride=(1, 1), padding=(1, 1))\n",
       "    (1): ReLU(inplace=True)\n",
       "    (2): Conv2d(64, 64, kernel_size=(3, 3), stride=(1, 1), padding=(1, 1))\n",
       "    (3): ReLU(inplace=True)\n",
       "    (4): MaxPool2d(kernel_size=2, stride=2, padding=0, dilation=1, ceil_mode=False)\n",
       "    (5): Conv2d(64, 128, kernel_size=(3, 3), stride=(1, 1), padding=(1, 1))\n",
       "    (6): ReLU(inplace=True)\n",
       "    (7): Conv2d(128, 128, kernel_size=(3, 3), stride=(1, 1), padding=(1, 1))\n",
       "    (8): ReLU(inplace=True)\n",
       "    (9): MaxPool2d(kernel_size=2, stride=2, padding=0, dilation=1, ceil_mode=False)\n",
       "    (10): Conv2d(128, 256, kernel_size=(3, 3), stride=(1, 1), padding=(1, 1))\n",
       "    (11): ReLU(inplace=True)\n",
       "    (12): Conv2d(256, 256, kernel_size=(3, 3), stride=(1, 1), padding=(1, 1))\n",
       "    (13): ReLU(inplace=True)\n",
       "    (14): Conv2d(256, 256, kernel_size=(3, 3), stride=(1, 1), padding=(1, 1))\n",
       "    (15): ReLU(inplace=True)\n",
       "    (16): MaxPool2d(kernel_size=2, stride=2, padding=0, dilation=1, ceil_mode=False)\n",
       "    (17): Conv2d(256, 512, kernel_size=(3, 3), stride=(1, 1), padding=(1, 1))\n",
       "    (18): ReLU(inplace=True)\n",
       "    (19): Conv2d(512, 512, kernel_size=(3, 3), stride=(1, 1), padding=(1, 1))\n",
       "    (20): ReLU(inplace=True)\n",
       "    (21): Conv2d(512, 512, kernel_size=(3, 3), stride=(1, 1), padding=(1, 1))\n",
       "    (22): ReLU(inplace=True)\n",
       "    (23): MaxPool2d(kernel_size=2, stride=2, padding=0, dilation=1, ceil_mode=False)\n",
       "    (24): Conv2d(512, 512, kernel_size=(3, 3), stride=(1, 1), padding=(1, 1))\n",
       "    (25): ReLU(inplace=True)\n",
       "    (26): Conv2d(512, 512, kernel_size=(3, 3), stride=(1, 1), padding=(1, 1))\n",
       "    (27): ReLU(inplace=True)\n",
       "    (28): Conv2d(512, 512, kernel_size=(3, 3), stride=(1, 1), padding=(1, 1))\n",
       "    (29): ReLU(inplace=True)\n",
       "    (30): MaxPool2d(kernel_size=2, stride=2, padding=0, dilation=1, ceil_mode=False)\n",
       "  )\n",
       "  (avgpool): AdaptiveAvgPool2d(output_size=(7, 7))\n",
       "  (classifier): Sequential(\n",
       "    (0): Linear(in_features=25088, out_features=4096, bias=True)\n",
       "    (1): ReLU(inplace=True)\n",
       "    (2): Dropout(p=0.5, inplace=False)\n",
       "    (3): Linear(in_features=4096, out_features=4096, bias=True)\n",
       "    (4): ReLU(inplace=True)\n",
       "    (5): Dropout(p=0.5, inplace=False)\n",
       "    (6): Linear(in_features=4096, out_features=10, bias=True)\n",
       "    (7): LogSoftmax(dim=-1)\n",
       "  )\n",
       ")"
      ]
     },
     "execution_count": 5,
     "metadata": {},
     "output_type": "execute_result"
    }
   ],
   "source": [
    "model = models.vgg16(pretrained=False)\n",
    "model.classifier[6] = nn.Linear(4096, 10)\n",
    "model.classifier.add_module(\"7\", nn.LogSoftmax(-1))\n",
    "initial_state = deepcopy(model.state_dict())\n",
    "model.to(trainer.device)"
   ]
  },
  {
   "cell_type": "code",
   "execution_count": 6,
   "id": "ed93474b-e77a-416c-b8ca-5eec10edf174",
   "metadata": {},
   "outputs": [
    {
     "data": {
      "text/plain": [
       "134301514"
      ]
     },
     "execution_count": 6,
     "metadata": {},
     "output_type": "execute_result"
    }
   ],
   "source": [
    "sum(param.numel() for param in model.parameters())"
   ]
  },
  {
   "cell_type": "code",
   "execution_count": 7,
   "id": "f2f4d8dc-6c56-44af-8624-b163f7879c3d",
   "metadata": {},
   "outputs": [],
   "source": [
    "state_path = \"vgg_initial_state.pth\"\n",
    "if os.path.exists(state_path):\n",
    "    initial_state = torch.load(state_path)\n",
    "    model.load_state_dict(initial_state)\n",
    "    model.to(trainer.device)\n",
    "else:\n",
    "    torch.save(initial_state, state_path)"
   ]
  },
  {
   "cell_type": "code",
   "execution_count": 8,
   "id": "indian-facility",
   "metadata": {},
   "outputs": [
    {
     "data": {
      "text/plain": [
       "(0.1021, 2.3028841983795165)"
      ]
     },
     "execution_count": 8,
     "metadata": {},
     "output_type": "execute_result"
    }
   ],
   "source": [
    "trainer.validation(model, dl[\"valid\"])"
   ]
  },
  {
   "cell_type": "markdown",
   "id": "expired-award",
   "metadata": {},
   "source": [
    "## Momentum"
   ]
  },
  {
   "cell_type": "markdown",
   "id": "b576e48e-fa46-420f-87c7-03be4464540b",
   "metadata": {},
   "source": [
    "### Lambda = 1e-16"
   ]
  },
  {
   "cell_type": "code",
   "execution_count": 10,
   "id": "23df7be3-768f-4dce-ba01-c0bf58c46257",
   "metadata": {},
   "outputs": [],
   "source": [
    "optimizer = AcceleratedSGD(model.parameters(), 1e-2, k=10, momentum=0.9, weight_decay=1e-5, lambda_=1e-16)\n",
    "logger = Logger(\"vgg_log_augmentation_lambda=1e-16.txt.no_resizing\")"
   ]
  },
  {
   "cell_type": "code",
   "execution_count": 11,
   "id": "9de2fbf5-6fb6-4ca2-9011-7804d98ee754",
   "metadata": {},
   "outputs": [
    {
     "name": "stdout",
     "output_type": "stream",
     "text": [
      "100%|██████████████████████████████████████████████████████████| 313/313 [00:21<00:00, 14.49it/s, loss=2.0907]\n",
      "Epoch 1 | Training loss: 2.0907, validation accuracy: 0.2792, validation loss: 1.8200\n",
      "100%|██████████████████████████████████████████████████████████| 313/313 [00:21<00:00, 14.33it/s, loss=1.7683]\n",
      "Epoch 2 | Training loss: 1.7683, validation accuracy: 0.3958, validation loss: 1.5794\n",
      "100%|██████████████████████████████████████████████████████████| 313/313 [00:21<00:00, 14.33it/s, loss=1.5611]\n",
      "Epoch 3 | Training loss: 1.5611, validation accuracy: 0.4686, validation loss: 1.4015\n",
      "100%|██████████████████████████████████████████████████████████| 313/313 [00:22<00:00, 14.20it/s, loss=1.3847]\n",
      "Epoch 4 | Training loss: 1.3847, validation accuracy: 0.5676, validation loss: 1.1729\n",
      "100%|██████████████████████████████████████████████████████████| 313/313 [00:22<00:00, 14.07it/s, loss=1.2430]\n",
      "Epoch 5 | Training loss: 1.2430, validation accuracy: 0.6210, validation loss: 1.0554\n",
      "100%|██████████████████████████████████████████████████████████| 313/313 [00:22<00:00, 14.05it/s, loss=1.1101]\n",
      "Epoch 6 | Training loss: 1.1101, validation accuracy: 0.6280, validation loss: 1.0477\n",
      "100%|██████████████████████████████████████████████████████████| 313/313 [00:22<00:00, 13.97it/s, loss=1.0136]\n",
      "Epoch 7 | Training loss: 1.0136, validation accuracy: 0.6951, validation loss: 0.8638\n",
      "100%|██████████████████████████████████████████████████████████| 313/313 [00:22<00:00, 13.87it/s, loss=0.9360]\n",
      "Epoch 8 | Training loss: 0.9360, validation accuracy: 0.7102, validation loss: 0.8156\n",
      "100%|██████████████████████████████████████████████████████████| 313/313 [00:22<00:00, 13.99it/s, loss=0.8761]\n",
      "Epoch 9 | Training loss: 0.8761, validation accuracy: 0.7211, validation loss: 0.7976\n",
      "100%|██████████████████████████████████████████████████████████| 313/313 [00:22<00:00, 13.84it/s, loss=0.8259]\n",
      "Epoch 10 | Training loss: 0.8259, validation accuracy: 0.7434, validation loss: 0.7230\n",
      "100%|██████████████████████████████████████████████████████████| 313/313 [00:22<00:00, 13.72it/s, loss=0.7905]\n",
      "Epoch 11 | Training loss: 0.7905, validation accuracy: 0.7572, validation loss: 0.7160\n",
      "100%|██████████████████████████████████████████████████████████| 313/313 [00:22<00:00, 13.70it/s, loss=0.7299]\n",
      "Epoch 12 | Training loss: 0.7299, validation accuracy: 0.7750, validation loss: 0.6451\n",
      "100%|██████████████████████████████████████████████████████████| 313/313 [00:22<00:00, 13.63it/s, loss=0.6874]\n",
      "Epoch 13 | Training loss: 0.6874, validation accuracy: 0.7772, validation loss: 0.6916\n",
      "100%|██████████████████████████████████████████████████████████| 313/313 [00:22<00:00, 13.76it/s, loss=0.6540]\n",
      "Epoch 14 | Training loss: 0.6540, validation accuracy: 0.7969, validation loss: 0.6009\n",
      "100%|██████████████████████████████████████████████████████████| 313/313 [00:22<00:00, 13.77it/s, loss=0.6231]\n",
      "Epoch 15 | Training loss: 0.6231, validation accuracy: 0.7896, validation loss: 0.6180\n",
      "100%|██████████████████████████████████████████████████████████| 313/313 [00:22<00:00, 13.79it/s, loss=0.5978]\n",
      "Epoch 16 | Training loss: 0.5978, validation accuracy: 0.8045, validation loss: 0.5773\n",
      "100%|██████████████████████████████████████████████████████████| 313/313 [00:22<00:00, 13.73it/s, loss=0.5580]\n",
      "Epoch 17 | Training loss: 0.5580, validation accuracy: 0.8234, validation loss: 0.5298\n",
      "100%|██████████████████████████████████████████████████████████| 313/313 [00:22<00:00, 13.69it/s, loss=0.5362]\n",
      "Epoch 18 | Training loss: 0.5362, validation accuracy: 0.8245, validation loss: 0.5307\n",
      "100%|██████████████████████████████████████████████████████████| 313/313 [00:22<00:00, 13.81it/s, loss=0.5179]\n",
      "Epoch 19 | Training loss: 0.5179, validation accuracy: 0.8219, validation loss: 0.5416\n",
      "100%|██████████████████████████████████████████████████████████| 313/313 [00:22<00:00, 13.71it/s, loss=0.4990]\n",
      "Epoch 20 | Training loss: 0.4990, validation accuracy: 0.8318, validation loss: 0.5100\n",
      "100%|██████████████████████████████████████████████████████████| 313/313 [00:22<00:00, 13.74it/s, loss=0.4695]\n",
      "Epoch 21 | Training loss: 0.4695, validation accuracy: 0.8272, validation loss: 0.5238\n",
      "100%|██████████████████████████████████████████████████████████| 313/313 [00:22<00:00, 13.62it/s, loss=0.4484]\n",
      "Epoch 22 | Training loss: 0.4484, validation accuracy: 0.8365, validation loss: 0.5075\n",
      "100%|██████████████████████████████████████████████████████████| 313/313 [00:22<00:00, 13.74it/s, loss=0.4394]\n",
      "Epoch 23 | Training loss: 0.4394, validation accuracy: 0.8345, validation loss: 0.5089\n",
      "100%|██████████████████████████████████████████████████████████| 313/313 [00:22<00:00, 13.75it/s, loss=0.4196]\n",
      "Epoch 24 | Training loss: 0.4196, validation accuracy: 0.8415, validation loss: 0.4929\n",
      "100%|██████████████████████████████████████████████████████████| 313/313 [00:22<00:00, 13.70it/s, loss=0.4016]\n",
      "Epoch 25 | Training loss: 0.4016, validation accuracy: 0.8389, validation loss: 0.4886\n",
      "100%|██████████████████████████████████████████████████████████| 313/313 [00:22<00:00, 13.86it/s, loss=0.3837]\n",
      "Epoch 26 | Training loss: 0.3837, validation accuracy: 0.8363, validation loss: 0.5184\n",
      "100%|██████████████████████████████████████████████████████████| 313/313 [00:22<00:00, 13.76it/s, loss=0.3788]\n",
      "Epoch 27 | Training loss: 0.3788, validation accuracy: 0.8361, validation loss: 0.4987\n",
      "100%|██████████████████████████████████████████████████████████| 313/313 [00:22<00:00, 13.83it/s, loss=0.3571]\n",
      "Epoch 28 | Training loss: 0.3571, validation accuracy: 0.8449, validation loss: 0.4851\n",
      "100%|██████████████████████████████████████████████████████████| 313/313 [00:22<00:00, 13.79it/s, loss=0.3411]\n",
      "Epoch 29 | Training loss: 0.3411, validation accuracy: 0.8484, validation loss: 0.4844\n",
      "100%|██████████████████████████████████████████████████████████| 313/313 [00:22<00:00, 13.77it/s, loss=0.3277]\n",
      "Epoch 30 | Training loss: 0.3277, validation accuracy: 0.8432, validation loss: 0.5161\n",
      "100%|██████████████████████████████████████████████████████████| 313/313 [00:22<00:00, 13.81it/s, loss=0.3210]\n",
      "Epoch 31 | Training loss: 0.3210, validation accuracy: 0.8471, validation loss: 0.4651\n",
      "100%|██████████████████████████████████████████████████████████| 313/313 [00:22<00:00, 13.80it/s, loss=0.2979]\n",
      "Epoch 32 | Training loss: 0.2979, validation accuracy: 0.8471, validation loss: 0.4919\n",
      "100%|██████████████████████████████████████████████████████████| 313/313 [00:22<00:00, 13.70it/s, loss=0.2912]\n",
      "Epoch 33 | Training loss: 0.2912, validation accuracy: 0.8541, validation loss: 0.4747\n",
      "100%|██████████████████████████████████████████████████████████| 313/313 [00:22<00:00, 13.73it/s, loss=0.2890]\n",
      "Epoch 34 | Training loss: 0.2890, validation accuracy: 0.8487, validation loss: 0.4933\n",
      "100%|██████████████████████████████████████████████████████████| 313/313 [00:22<00:00, 13.84it/s, loss=0.2736]\n",
      "Epoch 35 | Training loss: 0.2736, validation accuracy: 0.8480, validation loss: 0.4838\n",
      "100%|██████████████████████████████████████████████████████████| 313/313 [00:22<00:00, 13.81it/s, loss=0.2671]\n",
      "Epoch 36 | Training loss: 0.2671, validation accuracy: 0.8500, validation loss: 0.4808\n",
      "100%|██████████████████████████████████████████████████████████| 313/313 [00:22<00:00, 13.82it/s, loss=0.2548]\n",
      "Epoch 37 | Training loss: 0.2548, validation accuracy: 0.8562, validation loss: 0.4689\n",
      "100%|██████████████████████████████████████████████████████████| 313/313 [00:22<00:00, 13.87it/s, loss=0.2470]\n",
      "Epoch 38 | Training loss: 0.2470, validation accuracy: 0.8586, validation loss: 0.4633\n",
      "100%|██████████████████████████████████████████████████████████| 313/313 [00:22<00:00, 13.85it/s, loss=0.2278]\n",
      "Epoch 39 | Training loss: 0.2278, validation accuracy: 0.8590, validation loss: 0.4796\n",
      "100%|██████████████████████████████████████████████████████████| 313/313 [00:22<00:00, 13.83it/s, loss=0.2283]\n",
      "Epoch 40 | Training loss: 0.2283, validation accuracy: 0.8619, validation loss: 0.4700\n",
      "100%|██████████████████████████████████████████████████████████| 313/313 [00:22<00:00, 13.87it/s, loss=0.2166]\n",
      "Epoch 41 | Training loss: 0.2166, validation accuracy: 0.8606, validation loss: 0.4827\n",
      "100%|██████████████████████████████████████████████████████████| 313/313 [00:22<00:00, 13.89it/s, loss=0.2093]\n",
      "Epoch 42 | Training loss: 0.2093, validation accuracy: 0.8596, validation loss: 0.4680\n",
      "100%|██████████████████████████████████████████████████████████| 313/313 [00:22<00:00, 13.80it/s, loss=0.2026]\n",
      "Epoch 43 | Training loss: 0.2026, validation accuracy: 0.8610, validation loss: 0.4907\n",
      "100%|██████████████████████████████████████████████████████████| 313/313 [00:22<00:00, 13.83it/s, loss=0.2018]\n",
      "Epoch 44 | Training loss: 0.2018, validation accuracy: 0.8599, validation loss: 0.4954\n",
      "100%|██████████████████████████████████████████████████████████| 313/313 [00:22<00:00, 13.84it/s, loss=0.1940]\n",
      "Epoch 45 | Training loss: 0.1940, validation accuracy: 0.8586, validation loss: 0.5058\n"
     ]
    }
   ],
   "source": [
    "torch.manual_seed(2020)\n",
    "epochs = 45\n",
    "\n",
    "for epoch in range(epochs):\n",
    "    train_loss = trainer.train_epoch(model, optimizer, dl[\"train\"])\n",
    "    optimizer.finish_epoch()\n",
    "    val_acc, val_loss = trainer.validation(model, dl[\"valid\"])\n",
    "    logger.log(\"Epoch\", epoch+1, \"|\", \n",
    "          f\"Training loss: {train_loss:.4f}, validation accuracy: {val_acc:.4f}, validation loss: {val_loss:.4f}\")"
   ]
  },
  {
   "cell_type": "code",
   "execution_count": 12,
   "id": "d7433fda-4808-40e3-96b2-a43aa5e837ce",
   "metadata": {},
   "outputs": [
    {
     "name": "stdout",
     "output_type": "stream",
     "text": [
      "Train: (0.94235, 0.1702565127968788)\n",
      "Valid: (0.8586, 0.5058353942871093)\n"
     ]
    }
   ],
   "source": [
    "train_score = trainer.validation(model, dl[\"train\"])\n",
    "valid_score = trainer.validation(model, dl[\"valid\"])\n",
    "logger.log(\"Train:\", train_score)\n",
    "logger.log(\"Valid:\", valid_score)"
   ]
  },
  {
   "cell_type": "code",
   "execution_count": 13,
   "id": "c6e438bb-6b97-4d5b-ba36-8ef0fab9d4df",
   "metadata": {},
   "outputs": [
    {
     "name": "stdout",
     "output_type": "stream",
     "text": [
      "RNA\n"
     ]
    }
   ],
   "source": [
    "optimizer.param_groups[0][\"method\"] = \"RNA\"\n",
    "logger.log(\"RNA\")\n",
    "model_acc = deepcopy(model)\n",
    "optimizer.accelerate()\n",
    "optimizer.store_parameters([model_acc.parameters()])"
   ]
  },
  {
   "cell_type": "code",
   "execution_count": 14,
   "id": "6938976c-0987-4c4b-8938-ce89cad326d3",
   "metadata": {
    "tags": []
   },
   "outputs": [
    {
     "name": "stdout",
     "output_type": "stream",
     "text": [
      "Train: (0.969375, 0.0969354386806488)\n",
      "Valid: (0.8797, 0.4009284397125244)\n"
     ]
    }
   ],
   "source": [
    "model_acc.to(trainer.device)\n",
    "train_score = trainer.validation(model_acc, dl[\"train\"])\n",
    "valid_score = trainer.validation(model_acc, dl[\"valid\"])\n",
    "logger.log(\"Train:\", train_score)\n",
    "logger.log(\"Valid:\", valid_score)"
   ]
  },
  {
   "cell_type": "code",
   "execution_count": 15,
   "id": "e2ea643a-a989-4957-9f03-584a2aaa2d52",
   "metadata": {},
   "outputs": [
    {
     "name": "stdout",
     "output_type": "stream",
     "text": [
      "RRE\n"
     ]
    }
   ],
   "source": [
    "optimizer.param_groups[0][\"method\"] = \"RRE\"\n",
    "logger.log(\"RRE\")\n",
    "model_acc = deepcopy(model)\n",
    "optimizer.accelerate()\n",
    "optimizer.store_parameters([model_acc.parameters()])"
   ]
  },
  {
   "cell_type": "code",
   "execution_count": 16,
   "id": "82019e96-c474-4df6-b8b7-28876f9103fc",
   "metadata": {
    "tags": []
   },
   "outputs": [
    {
     "name": "stdout",
     "output_type": "stream",
     "text": [
      "Train: (0.971275, 0.09501042534708977)\n",
      "Valid: (0.88, 0.40091258058547974)\n"
     ]
    }
   ],
   "source": [
    "model_acc.to(trainer.device)\n",
    "train_score = trainer.validation(model_acc, dl[\"train\"])\n",
    "valid_score = trainer.validation(model_acc, dl[\"valid\"])\n",
    "logger.log(\"Train:\", train_score)\n",
    "logger.log(\"Valid:\", valid_score)"
   ]
  },
  {
   "cell_type": "code",
   "execution_count": 17,
   "id": "721310fd-c55d-4a7c-9560-eba8f2abf869",
   "metadata": {},
   "outputs": [],
   "source": [
    "optimizer.param_groups[0][\"lr\"] = 1e-3"
   ]
  },
  {
   "cell_type": "code",
   "execution_count": 18,
   "id": "eeaaa0f6-1a14-48b2-b2b0-442818fbe16c",
   "metadata": {},
   "outputs": [
    {
     "name": "stdout",
     "output_type": "stream",
     "text": [
      "100%|██████████████████████████████████████████████████████████| 313/313 [00:22<00:00, 13.83it/s, loss=0.1141]\n",
      "Epoch 1 | Training loss: 0.1141, validation accuracy: 0.8784, validation loss: 0.4729\n",
      "100%|██████████████████████████████████████████████████████████| 313/313 [00:22<00:00, 13.87it/s, loss=0.0910]\n",
      "Epoch 2 | Training loss: 0.0910, validation accuracy: 0.8781, validation loss: 0.4904\n",
      "100%|██████████████████████████████████████████████████████████| 313/313 [00:22<00:00, 13.81it/s, loss=0.0848]\n",
      "Epoch 3 | Training loss: 0.0848, validation accuracy: 0.8792, validation loss: 0.4886\n",
      "100%|██████████████████████████████████████████████████████████| 313/313 [00:22<00:00, 13.81it/s, loss=0.0780]\n",
      "Epoch 4 | Training loss: 0.0780, validation accuracy: 0.8798, validation loss: 0.4958\n",
      "100%|██████████████████████████████████████████████████████████| 313/313 [00:22<00:00, 13.90it/s, loss=0.0778]\n",
      "Epoch 5 | Training loss: 0.0778, validation accuracy: 0.8776, validation loss: 0.4865\n",
      "100%|██████████████████████████████████████████████████████████| 313/313 [00:22<00:00, 13.91it/s, loss=0.0700]\n",
      "Epoch 6 | Training loss: 0.0700, validation accuracy: 0.8780, validation loss: 0.5101\n",
      "100%|██████████████████████████████████████████████████████████| 313/313 [00:22<00:00, 13.89it/s, loss=0.0715]\n",
      "Epoch 7 | Training loss: 0.0715, validation accuracy: 0.8779, validation loss: 0.5205\n",
      "100%|██████████████████████████████████████████████████████████| 313/313 [00:22<00:00, 13.99it/s, loss=0.0684]\n",
      "Epoch 8 | Training loss: 0.0684, validation accuracy: 0.8775, validation loss: 0.5163\n",
      "100%|██████████████████████████████████████████████████████████| 313/313 [00:22<00:00, 14.06it/s, loss=0.0689]\n",
      "Epoch 9 | Training loss: 0.0689, validation accuracy: 0.8757, validation loss: 0.5266\n",
      "100%|██████████████████████████████████████████████████████████| 313/313 [00:22<00:00, 14.03it/s, loss=0.0645]\n",
      "Epoch 10 | Training loss: 0.0645, validation accuracy: 0.8760, validation loss: 0.5265\n",
      "100%|██████████████████████████████████████████████████████████| 313/313 [00:22<00:00, 14.08it/s, loss=0.0614]\n",
      "Epoch 11 | Training loss: 0.0614, validation accuracy: 0.8781, validation loss: 0.5167\n",
      "100%|██████████████████████████████████████████████████████████| 313/313 [00:22<00:00, 14.09it/s, loss=0.0591]\n",
      "Epoch 12 | Training loss: 0.0591, validation accuracy: 0.8780, validation loss: 0.5319\n",
      "100%|██████████████████████████████████████████████████████████| 313/313 [00:22<00:00, 14.06it/s, loss=0.0617]\n",
      "Epoch 13 | Training loss: 0.0617, validation accuracy: 0.8777, validation loss: 0.5319\n",
      "100%|██████████████████████████████████████████████████████████| 313/313 [00:22<00:00, 14.08it/s, loss=0.0569]\n",
      "Epoch 14 | Training loss: 0.0569, validation accuracy: 0.8800, validation loss: 0.5360\n",
      "100%|██████████████████████████████████████████████████████████| 313/313 [00:22<00:00, 14.09it/s, loss=0.0569]\n",
      "Epoch 15 | Training loss: 0.0569, validation accuracy: 0.8793, validation loss: 0.5476\n",
      "100%|██████████████████████████████████████████████████████████| 313/313 [00:22<00:00, 14.08it/s, loss=0.0544]\n",
      "Epoch 16 | Training loss: 0.0544, validation accuracy: 0.8802, validation loss: 0.5406\n",
      "100%|██████████████████████████████████████████████████████████| 313/313 [00:22<00:00, 14.05it/s, loss=0.0538]\n",
      "Epoch 17 | Training loss: 0.0538, validation accuracy: 0.8795, validation loss: 0.5530\n",
      "100%|██████████████████████████████████████████████████████████| 313/313 [00:22<00:00, 14.08it/s, loss=0.0547]\n",
      "Epoch 18 | Training loss: 0.0547, validation accuracy: 0.8789, validation loss: 0.5472\n",
      "100%|██████████████████████████████████████████████████████████| 313/313 [00:22<00:00, 14.07it/s, loss=0.0527]\n",
      "Epoch 19 | Training loss: 0.0527, validation accuracy: 0.8765, validation loss: 0.5657\n",
      "100%|██████████████████████████████████████████████████████████| 313/313 [00:22<00:00, 14.09it/s, loss=0.0511]\n",
      "Epoch 20 | Training loss: 0.0511, validation accuracy: 0.8782, validation loss: 0.5584\n",
      "100%|██████████████████████████████████████████████████████████| 313/313 [00:22<00:00, 14.08it/s, loss=0.0511]\n",
      "Epoch 21 | Training loss: 0.0511, validation accuracy: 0.8827, validation loss: 0.5388\n",
      "100%|██████████████████████████████████████████████████████████| 313/313 [00:22<00:00, 14.09it/s, loss=0.0527]\n",
      "Epoch 22 | Training loss: 0.0527, validation accuracy: 0.8770, validation loss: 0.5638\n",
      "100%|██████████████████████████████████████████████████████████| 313/313 [00:22<00:00, 14.10it/s, loss=0.0479]\n",
      "Epoch 23 | Training loss: 0.0479, validation accuracy: 0.8773, validation loss: 0.5714\n",
      "100%|██████████████████████████████████████████████████████████| 313/313 [00:22<00:00, 14.07it/s, loss=0.0490]\n",
      "Epoch 24 | Training loss: 0.0490, validation accuracy: 0.8768, validation loss: 0.5684\n",
      "100%|██████████████████████████████████████████████████████████| 313/313 [00:22<00:00, 14.12it/s, loss=0.0479]\n",
      "Epoch 25 | Training loss: 0.0479, validation accuracy: 0.8771, validation loss: 0.5543\n",
      "100%|██████████████████████████████████████████████████████████| 313/313 [00:22<00:00, 14.12it/s, loss=0.0483]\n",
      "Epoch 26 | Training loss: 0.0483, validation accuracy: 0.8792, validation loss: 0.5654\n",
      "100%|██████████████████████████████████████████████████████████| 313/313 [00:22<00:00, 14.11it/s, loss=0.0458]\n",
      "Epoch 27 | Training loss: 0.0458, validation accuracy: 0.8791, validation loss: 0.5644\n",
      "100%|██████████████████████████████████████████████████████████| 313/313 [00:22<00:00, 14.09it/s, loss=0.0467]\n",
      "Epoch 28 | Training loss: 0.0467, validation accuracy: 0.8805, validation loss: 0.5644\n",
      "100%|██████████████████████████████████████████████████████████| 313/313 [00:22<00:00, 14.16it/s, loss=0.0432]\n",
      "Epoch 29 | Training loss: 0.0432, validation accuracy: 0.8783, validation loss: 0.5737\n",
      "100%|██████████████████████████████████████████████████████████| 313/313 [00:22<00:00, 14.14it/s, loss=0.0464]\n",
      "Epoch 30 | Training loss: 0.0464, validation accuracy: 0.8805, validation loss: 0.5522\n"
     ]
    }
   ],
   "source": [
    "epochs = 30\n",
    "\n",
    "for epoch in range(epochs):\n",
    "    train_loss = trainer.train_epoch(model, optimizer, dl[\"train\"])\n",
    "    optimizer.finish_epoch()\n",
    "    val_acc, val_loss = trainer.validation(model, dl[\"valid\"])\n",
    "    logger.log(\"Epoch\", epoch+1, \"|\", \n",
    "          f\"Training loss: {train_loss:.4f}, validation accuracy: {val_acc:.4f}, validation loss: {val_loss:.4f}\")"
   ]
  },
  {
   "cell_type": "code",
   "execution_count": 19,
   "id": "72c13c5b-3672-440e-9112-6bfbede0a604",
   "metadata": {},
   "outputs": [
    {
     "name": "stdout",
     "output_type": "stream",
     "text": [
      "Train: (0.985675, 0.04322471878305077)\n",
      "Valid: (0.8805, 0.5522485641479492)\n"
     ]
    }
   ],
   "source": [
    "train_score = trainer.validation(model, dl[\"train\"])\n",
    "valid_score = trainer.validation(model, dl[\"valid\"])\n",
    "logger.log(\"Train:\", train_score)\n",
    "logger.log(\"Valid:\", valid_score)"
   ]
  },
  {
   "cell_type": "code",
   "execution_count": 20,
   "id": "19d01024-6cb2-47e5-84a1-99ab89b76966",
   "metadata": {},
   "outputs": [
    {
     "name": "stdout",
     "output_type": "stream",
     "text": [
      "RNA\n"
     ]
    }
   ],
   "source": [
    "optimizer.param_groups[0][\"method\"] = \"RNA\"\n",
    "logger.log(\"RNA\")\n",
    "model_acc = deepcopy(model)\n",
    "optimizer.accelerate()\n",
    "optimizer.store_parameters([model_acc.parameters()])"
   ]
  },
  {
   "cell_type": "code",
   "execution_count": 21,
   "id": "4a0683e7-02e4-4ef9-9a56-96d7c243e22a",
   "metadata": {
    "tags": []
   },
   "outputs": [
    {
     "name": "stdout",
     "output_type": "stream",
     "text": [
      "Train: (0.98565, 0.041061229557543995)\n",
      "Valid: (0.8814, 0.553578140258789)\n"
     ]
    }
   ],
   "source": [
    "model_acc.to(trainer.device)\n",
    "train_score = trainer.validation(model_acc, dl[\"train\"])\n",
    "valid_score = trainer.validation(model_acc, dl[\"valid\"])\n",
    "logger.log(\"Train:\", train_score)\n",
    "logger.log(\"Valid:\", valid_score)"
   ]
  },
  {
   "cell_type": "code",
   "execution_count": 22,
   "id": "a8003af9-ab2f-4d7b-a6b8-29007f19b588",
   "metadata": {},
   "outputs": [
    {
     "name": "stdout",
     "output_type": "stream",
     "text": [
      "RRE\n"
     ]
    }
   ],
   "source": [
    "optimizer.param_groups[0][\"method\"] = \"RRE\"\n",
    "logger.log(\"RRE\")\n",
    "model_acc = deepcopy(model)\n",
    "optimizer.accelerate()\n",
    "optimizer.store_parameters([model_acc.parameters()])"
   ]
  },
  {
   "cell_type": "code",
   "execution_count": 23,
   "id": "2212d611-2549-4eaf-9db1-badb5c06fc0b",
   "metadata": {
    "tags": []
   },
   "outputs": [
    {
     "name": "stdout",
     "output_type": "stream",
     "text": [
      "Train: (0.9871, 0.03952537299245596)\n",
      "Valid: (0.8814, 0.5535913507461547)\n"
     ]
    }
   ],
   "source": [
    "model_acc.to(trainer.device)\n",
    "train_score = trainer.validation(model_acc, dl[\"train\"])\n",
    "valid_score = trainer.validation(model_acc, dl[\"valid\"])\n",
    "logger.log(\"Train:\", train_score)\n",
    "logger.log(\"Valid:\", valid_score)"
   ]
  },
  {
   "cell_type": "markdown",
   "id": "4541796f-acaa-4973-8f7a-81d144ff0928",
   "metadata": {},
   "source": [
    "### Lambda = 1e-8"
   ]
  },
  {
   "cell_type": "code",
   "execution_count": 24,
   "id": "crazy-connectivity",
   "metadata": {},
   "outputs": [],
   "source": [
    "model.load_state_dict(initial_state)\n",
    "optimizer = AcceleratedSGD(model.parameters(), 1e-2, k=10, momentum=0.9, weight_decay=1e-5, lambda_=1e-8)\n",
    "logger = Logger(\"vgg_log_augmentation.txt.no_resizing\")"
   ]
  },
  {
   "cell_type": "code",
   "execution_count": 25,
   "id": "forced-prisoner",
   "metadata": {},
   "outputs": [
    {
     "name": "stdout",
     "output_type": "stream",
     "text": [
      "100%|██████████████████████████████████████████████████████████| 313/313 [00:21<00:00, 14.24it/s, loss=2.1057]\n",
      "Epoch 1 | Training loss: 2.1057, validation accuracy: 0.2138, validation loss: 1.9433\n",
      "100%|██████████████████████████████████████████████████████████| 313/313 [00:22<00:00, 14.21it/s, loss=1.7576]\n",
      "Epoch 2 | Training loss: 1.7576, validation accuracy: 0.4141, validation loss: 1.5410\n",
      "100%|██████████████████████████████████████████████████████████| 313/313 [00:22<00:00, 14.20it/s, loss=1.5501]\n",
      "Epoch 3 | Training loss: 1.5501, validation accuracy: 0.4501, validation loss: 1.4603\n",
      "100%|██████████████████████████████████████████████████████████| 313/313 [00:22<00:00, 14.18it/s, loss=1.3714]\n",
      "Epoch 4 | Training loss: 1.3714, validation accuracy: 0.5810, validation loss: 1.1591\n",
      "100%|██████████████████████████████████████████████████████████| 313/313 [00:22<00:00, 14.17it/s, loss=1.2295]\n",
      "Epoch 5 | Training loss: 1.2295, validation accuracy: 0.6017, validation loss: 1.1007\n",
      "100%|██████████████████████████████████████████████████████████| 313/313 [00:22<00:00, 14.19it/s, loss=1.1044]\n",
      "Epoch 6 | Training loss: 1.1044, validation accuracy: 0.6617, validation loss: 0.9373\n",
      "100%|██████████████████████████████████████████████████████████| 313/313 [00:22<00:00, 14.18it/s, loss=1.0155]\n",
      "Epoch 7 | Training loss: 1.0155, validation accuracy: 0.6656, validation loss: 0.9512\n",
      "100%|██████████████████████████████████████████████████████████| 313/313 [00:22<00:00, 14.18it/s, loss=0.9366]\n",
      "Epoch 8 | Training loss: 0.9366, validation accuracy: 0.7094, validation loss: 0.8293\n",
      "100%|██████████████████████████████████████████████████████████| 313/313 [00:22<00:00, 14.20it/s, loss=0.8702]\n",
      "Epoch 9 | Training loss: 0.8702, validation accuracy: 0.7177, validation loss: 0.8084\n",
      "100%|██████████████████████████████████████████████████████████| 313/313 [00:22<00:00, 14.16it/s, loss=0.8227]\n",
      "Epoch 10 | Training loss: 0.8227, validation accuracy: 0.7418, validation loss: 0.7373\n",
      "100%|██████████████████████████████████████████████████████████| 313/313 [00:22<00:00, 14.16it/s, loss=0.7905]\n",
      "Epoch 11 | Training loss: 0.7905, validation accuracy: 0.7593, validation loss: 0.7112\n",
      "100%|██████████████████████████████████████████████████████████| 313/313 [00:22<00:00, 14.14it/s, loss=0.7264]\n",
      "Epoch 12 | Training loss: 0.7264, validation accuracy: 0.7773, validation loss: 0.6420\n",
      "100%|██████████████████████████████████████████████████████████| 313/313 [00:22<00:00, 14.16it/s, loss=0.6892]\n",
      "Epoch 13 | Training loss: 0.6892, validation accuracy: 0.7915, validation loss: 0.6120\n",
      "100%|██████████████████████████████████████████████████████████| 313/313 [00:22<00:00, 14.19it/s, loss=0.6572]\n",
      "Epoch 14 | Training loss: 0.6572, validation accuracy: 0.7721, validation loss: 0.6731\n",
      "100%|██████████████████████████████████████████████████████████| 313/313 [00:22<00:00, 14.16it/s, loss=0.6241]\n",
      "Epoch 15 | Training loss: 0.6241, validation accuracy: 0.7975, validation loss: 0.6150\n",
      "100%|██████████████████████████████████████████████████████████| 313/313 [00:22<00:00, 14.16it/s, loss=0.5962]\n",
      "Epoch 16 | Training loss: 0.5962, validation accuracy: 0.8146, validation loss: 0.5670\n",
      "100%|██████████████████████████████████████████████████████████| 313/313 [00:22<00:00, 14.14it/s, loss=0.5642]\n",
      "Epoch 17 | Training loss: 0.5642, validation accuracy: 0.8125, validation loss: 0.5686\n",
      "100%|██████████████████████████████████████████████████████████| 313/313 [00:22<00:00, 14.17it/s, loss=0.5366]\n",
      "Epoch 18 | Training loss: 0.5366, validation accuracy: 0.8295, validation loss: 0.5129\n",
      "100%|██████████████████████████████████████████████████████████| 313/313 [00:22<00:00, 14.16it/s, loss=0.5097]\n",
      "Epoch 19 | Training loss: 0.5097, validation accuracy: 0.8226, validation loss: 0.5287\n",
      "100%|██████████████████████████████████████████████████████████| 313/313 [00:22<00:00, 14.13it/s, loss=0.4943]\n",
      "Epoch 20 | Training loss: 0.4943, validation accuracy: 0.8364, validation loss: 0.5024\n",
      "100%|██████████████████████████████████████████████████████████| 313/313 [00:22<00:00, 14.19it/s, loss=0.4736]\n",
      "Epoch 21 | Training loss: 0.4736, validation accuracy: 0.8275, validation loss: 0.5289\n",
      "100%|██████████████████████████████████████████████████████████| 313/313 [00:22<00:00, 14.18it/s, loss=0.4513]\n",
      "Epoch 22 | Training loss: 0.4513, validation accuracy: 0.8326, validation loss: 0.5125\n",
      "100%|██████████████████████████████████████████████████████████| 313/313 [00:22<00:00, 14.16it/s, loss=0.4335]\n",
      "Epoch 23 | Training loss: 0.4335, validation accuracy: 0.8309, validation loss: 0.5372\n",
      "100%|██████████████████████████████████████████████████████████| 313/313 [00:22<00:00, 14.16it/s, loss=0.4200]\n",
      "Epoch 24 | Training loss: 0.4200, validation accuracy: 0.8244, validation loss: 0.5427\n",
      "100%|██████████████████████████████████████████████████████████| 313/313 [00:22<00:00, 14.17it/s, loss=0.3913]\n",
      "Epoch 25 | Training loss: 0.3913, validation accuracy: 0.8480, validation loss: 0.4647\n",
      "100%|██████████████████████████████████████████████████████████| 313/313 [00:22<00:00, 14.15it/s, loss=0.3780]\n",
      "Epoch 26 | Training loss: 0.3780, validation accuracy: 0.8326, validation loss: 0.5136\n",
      "100%|██████████████████████████████████████████████████████████| 313/313 [00:22<00:00, 14.17it/s, loss=0.3734]\n",
      "Epoch 27 | Training loss: 0.3734, validation accuracy: 0.8411, validation loss: 0.5037\n",
      "100%|██████████████████████████████████████████████████████████| 313/313 [00:22<00:00, 14.18it/s, loss=0.3552]\n",
      "Epoch 28 | Training loss: 0.3552, validation accuracy: 0.8415, validation loss: 0.4895\n",
      "100%|██████████████████████████████████████████████████████████| 313/313 [00:22<00:00, 14.16it/s, loss=0.3357]\n",
      "Epoch 29 | Training loss: 0.3357, validation accuracy: 0.8466, validation loss: 0.4786\n",
      "100%|██████████████████████████████████████████████████████████| 313/313 [00:22<00:00, 14.16it/s, loss=0.3282]\n",
      "Epoch 30 | Training loss: 0.3282, validation accuracy: 0.8503, validation loss: 0.4787\n",
      "100%|██████████████████████████████████████████████████████████| 313/313 [00:22<00:00, 14.15it/s, loss=0.3176]\n",
      "Epoch 31 | Training loss: 0.3176, validation accuracy: 0.8515, validation loss: 0.4498\n",
      "100%|██████████████████████████████████████████████████████████| 313/313 [00:22<00:00, 14.16it/s, loss=0.3078]\n",
      "Epoch 32 | Training loss: 0.3078, validation accuracy: 0.8335, validation loss: 0.5430\n",
      "100%|██████████████████████████████████████████████████████████| 313/313 [00:22<00:00, 14.19it/s, loss=0.2869]\n",
      "Epoch 33 | Training loss: 0.2869, validation accuracy: 0.8396, validation loss: 0.5299\n",
      "100%|██████████████████████████████████████████████████████████| 313/313 [00:22<00:00, 14.18it/s, loss=0.2782]\n",
      "Epoch 34 | Training loss: 0.2782, validation accuracy: 0.8460, validation loss: 0.5168\n",
      "100%|██████████████████████████████████████████████████████████| 313/313 [00:22<00:00, 14.18it/s, loss=0.2778]\n",
      "Epoch 35 | Training loss: 0.2778, validation accuracy: 0.8585, validation loss: 0.4714\n",
      "100%|██████████████████████████████████████████████████████████| 313/313 [00:22<00:00, 14.19it/s, loss=0.2619]\n",
      "Epoch 36 | Training loss: 0.2619, validation accuracy: 0.8539, validation loss: 0.4734\n",
      "100%|██████████████████████████████████████████████████████████| 313/313 [00:22<00:00, 14.20it/s, loss=0.2554]\n",
      "Epoch 37 | Training loss: 0.2554, validation accuracy: 0.8612, validation loss: 0.4651\n",
      "100%|██████████████████████████████████████████████████████████| 313/313 [00:22<00:00, 14.17it/s, loss=0.2432]\n",
      "Epoch 38 | Training loss: 0.2432, validation accuracy: 0.8536, validation loss: 0.4746\n",
      "100%|██████████████████████████████████████████████████████████| 313/313 [00:22<00:00, 14.18it/s, loss=0.2409]\n",
      "Epoch 39 | Training loss: 0.2409, validation accuracy: 0.8520, validation loss: 0.4905\n",
      "100%|██████████████████████████████████████████████████████████| 313/313 [00:22<00:00, 14.18it/s, loss=0.2240]\n",
      "Epoch 40 | Training loss: 0.2240, validation accuracy: 0.8624, validation loss: 0.4602\n",
      "100%|██████████████████████████████████████████████████████████| 313/313 [00:22<00:00, 14.19it/s, loss=0.2133]\n",
      "Epoch 41 | Training loss: 0.2133, validation accuracy: 0.8531, validation loss: 0.5143\n",
      "100%|██████████████████████████████████████████████████████████| 313/313 [00:22<00:00, 14.19it/s, loss=0.2160]\n",
      "Epoch 42 | Training loss: 0.2160, validation accuracy: 0.8588, validation loss: 0.4562\n",
      "100%|██████████████████████████████████████████████████████████| 313/313 [00:22<00:00, 14.15it/s, loss=0.2004]\n",
      "Epoch 43 | Training loss: 0.2004, validation accuracy: 0.8601, validation loss: 0.4757\n",
      "100%|██████████████████████████████████████████████████████████| 313/313 [00:22<00:00, 14.18it/s, loss=0.2038]\n",
      "Epoch 44 | Training loss: 0.2038, validation accuracy: 0.8526, validation loss: 0.4735\n",
      "100%|██████████████████████████████████████████████████████████| 313/313 [00:22<00:00, 14.17it/s, loss=0.1892]\n",
      "Epoch 45 | Training loss: 0.1892, validation accuracy: 0.8584, validation loss: 0.5160\n"
     ]
    }
   ],
   "source": [
    "torch.manual_seed(2020)\n",
    "epochs = 45\n",
    "\n",
    "for epoch in range(epochs):\n",
    "    train_loss = trainer.train_epoch(model, optimizer, dl[\"train\"])\n",
    "    optimizer.finish_epoch()\n",
    "    val_acc, val_loss = trainer.validation(model, dl[\"valid\"])\n",
    "    logger.log(\"Epoch\", epoch+1, \"|\", \n",
    "          f\"Training loss: {train_loss:.4f}, validation accuracy: {val_acc:.4f}, validation loss: {val_loss:.4f}\")"
   ]
  },
  {
   "cell_type": "code",
   "execution_count": 26,
   "id": "da58f2d9-8245-44a5-bb4a-d14811e82cc0",
   "metadata": {},
   "outputs": [
    {
     "name": "stdout",
     "output_type": "stream",
     "text": [
      "Train: (0.94135, 0.16899394929409028)\n",
      "Valid: (0.8584, 0.5159762786865234)\n"
     ]
    }
   ],
   "source": [
    "train_score = trainer.validation(model, dl[\"train\"])\n",
    "valid_score = trainer.validation(model, dl[\"valid\"])\n",
    "logger.log(\"Train:\", train_score)\n",
    "logger.log(\"Valid:\", valid_score)"
   ]
  },
  {
   "cell_type": "code",
   "execution_count": 27,
   "id": "9e072e60-a6fb-4178-93cd-305d2660e77e",
   "metadata": {},
   "outputs": [
    {
     "name": "stdout",
     "output_type": "stream",
     "text": [
      "RNA\n"
     ]
    }
   ],
   "source": [
    "optimizer.param_groups[0][\"method\"] = \"RNA\"\n",
    "logger.log(\"RNA\")\n",
    "model_acc = deepcopy(model)\n",
    "optimizer.accelerate()\n",
    "optimizer.store_parameters([model_acc.parameters()])"
   ]
  },
  {
   "cell_type": "code",
   "execution_count": 28,
   "id": "aabb7de2-b1ee-4fb1-9495-cfac2437add8",
   "metadata": {
    "tags": []
   },
   "outputs": [
    {
     "name": "stdout",
     "output_type": "stream",
     "text": [
      "Train: (0.97015, 0.09646140650510789)\n",
      "Valid: (0.8819, 0.3910102800369263)\n"
     ]
    }
   ],
   "source": [
    "model_acc.to(trainer.device)\n",
    "train_score = trainer.validation(model_acc, dl[\"train\"])\n",
    "valid_score = trainer.validation(model_acc, dl[\"valid\"])\n",
    "logger.log(\"Train:\", train_score)\n",
    "logger.log(\"Valid:\", valid_score)"
   ]
  },
  {
   "cell_type": "code",
   "execution_count": 29,
   "id": "b36e0278-06b5-4c10-8e84-d28f3952edac",
   "metadata": {},
   "outputs": [
    {
     "name": "stdout",
     "output_type": "stream",
     "text": [
      "RRE\n"
     ]
    }
   ],
   "source": [
    "optimizer.param_groups[0][\"method\"] = \"RRE\"\n",
    "logger.log(\"RRE\")\n",
    "model_acc = deepcopy(model)\n",
    "optimizer.accelerate()\n",
    "optimizer.store_parameters([model_acc.parameters()])"
   ]
  },
  {
   "cell_type": "code",
   "execution_count": 30,
   "id": "0e9525d3-56d3-4f1a-8822-fd39617e0d40",
   "metadata": {
    "tags": []
   },
   "outputs": [
    {
     "name": "stdout",
     "output_type": "stream",
     "text": [
      "Train: (0.9706, 0.09521213583946228)\n",
      "Valid: (0.8817, 0.3910058512687683)\n"
     ]
    }
   ],
   "source": [
    "model_acc.to(trainer.device)\n",
    "train_score = trainer.validation(model_acc, dl[\"train\"])\n",
    "valid_score = trainer.validation(model_acc, dl[\"valid\"])\n",
    "logger.log(\"Train:\", train_score)\n",
    "logger.log(\"Valid:\", valid_score)"
   ]
  },
  {
   "cell_type": "code",
   "execution_count": 31,
   "id": "deadly-charleston",
   "metadata": {},
   "outputs": [],
   "source": [
    "optimizer.param_groups[0][\"lr\"] = 1e-3"
   ]
  },
  {
   "cell_type": "code",
   "execution_count": 32,
   "id": "393de7fd-4498-4682-8011-f21f1da3c182",
   "metadata": {},
   "outputs": [
    {
     "name": "stdout",
     "output_type": "stream",
     "text": [
      "100%|██████████████████████████████████████████████████████████| 313/313 [00:22<00:00, 14.18it/s, loss=0.1145]\n",
      "Epoch 1 | Training loss: 0.1145, validation accuracy: 0.8777, validation loss: 0.4648\n",
      "100%|██████████████████████████████████████████████████████████| 313/313 [00:22<00:00, 14.15it/s, loss=0.0924]\n",
      "Epoch 2 | Training loss: 0.0924, validation accuracy: 0.8800, validation loss: 0.4734\n",
      "100%|██████████████████████████████████████████████████████████| 313/313 [00:22<00:00, 14.13it/s, loss=0.0829]\n",
      "Epoch 3 | Training loss: 0.0829, validation accuracy: 0.8779, validation loss: 0.4921\n",
      "100%|██████████████████████████████████████████████████████████| 313/313 [00:22<00:00, 14.12it/s, loss=0.0822]\n",
      "Epoch 4 | Training loss: 0.0822, validation accuracy: 0.8790, validation loss: 0.4906\n",
      "100%|██████████████████████████████████████████████████████████| 313/313 [00:22<00:00, 14.12it/s, loss=0.0771]\n",
      "Epoch 5 | Training loss: 0.0771, validation accuracy: 0.8807, validation loss: 0.4856\n",
      "100%|██████████████████████████████████████████████████████████| 313/313 [00:22<00:00, 14.16it/s, loss=0.0719]\n",
      "Epoch 6 | Training loss: 0.0719, validation accuracy: 0.8814, validation loss: 0.4976\n",
      "100%|██████████████████████████████████████████████████████████| 313/313 [00:22<00:00, 14.13it/s, loss=0.0709]\n",
      "Epoch 7 | Training loss: 0.0709, validation accuracy: 0.8804, validation loss: 0.5017\n",
      "100%|██████████████████████████████████████████████████████████| 313/313 [00:22<00:00, 14.11it/s, loss=0.0711]\n",
      "Epoch 8 | Training loss: 0.0711, validation accuracy: 0.8795, validation loss: 0.5139\n",
      "100%|██████████████████████████████████████████████████████████| 313/313 [00:22<00:00, 14.14it/s, loss=0.0663]\n",
      "Epoch 9 | Training loss: 0.0663, validation accuracy: 0.8762, validation loss: 0.5324\n",
      "100%|██████████████████████████████████████████████████████████| 313/313 [00:22<00:00, 14.11it/s, loss=0.0663]\n",
      "Epoch 10 | Training loss: 0.0663, validation accuracy: 0.8784, validation loss: 0.5152\n",
      "100%|██████████████████████████████████████████████████████████| 313/313 [00:22<00:00, 14.12it/s, loss=0.0599]\n",
      "Epoch 11 | Training loss: 0.0599, validation accuracy: 0.8792, validation loss: 0.5138\n",
      "100%|██████████████████████████████████████████████████████████| 313/313 [00:22<00:00, 14.11it/s, loss=0.0615]\n",
      "Epoch 12 | Training loss: 0.0615, validation accuracy: 0.8791, validation loss: 0.5299\n",
      "100%|██████████████████████████████████████████████████████████| 313/313 [00:22<00:00, 14.13it/s, loss=0.0580]\n",
      "Epoch 13 | Training loss: 0.0580, validation accuracy: 0.8797, validation loss: 0.5255\n",
      "100%|██████████████████████████████████████████████████████████| 313/313 [00:22<00:00, 14.12it/s, loss=0.0582]\n",
      "Epoch 14 | Training loss: 0.0582, validation accuracy: 0.8787, validation loss: 0.5252\n",
      "100%|██████████████████████████████████████████████████████████| 313/313 [00:22<00:00, 14.09it/s, loss=0.0558]\n",
      "Epoch 15 | Training loss: 0.0558, validation accuracy: 0.8810, validation loss: 0.5357\n",
      "100%|██████████████████████████████████████████████████████████| 313/313 [00:22<00:00, 14.12it/s, loss=0.0556]\n",
      "Epoch 16 | Training loss: 0.0556, validation accuracy: 0.8816, validation loss: 0.5256\n",
      "100%|██████████████████████████████████████████████████████████| 313/313 [00:22<00:00, 14.12it/s, loss=0.0529]\n",
      "Epoch 17 | Training loss: 0.0529, validation accuracy: 0.8796, validation loss: 0.5334\n",
      "100%|██████████████████████████████████████████████████████████| 313/313 [00:22<00:00, 14.12it/s, loss=0.0554]\n",
      "Epoch 18 | Training loss: 0.0554, validation accuracy: 0.8815, validation loss: 0.5314\n",
      "100%|██████████████████████████████████████████████████████████| 313/313 [00:22<00:00, 14.12it/s, loss=0.0537]\n",
      "Epoch 19 | Training loss: 0.0537, validation accuracy: 0.8801, validation loss: 0.5405\n",
      "100%|██████████████████████████████████████████████████████████| 313/313 [00:22<00:00, 14.14it/s, loss=0.0524]\n",
      "Epoch 20 | Training loss: 0.0524, validation accuracy: 0.8811, validation loss: 0.5408\n",
      "100%|██████████████████████████████████████████████████████████| 313/313 [00:22<00:00, 14.10it/s, loss=0.0502]\n",
      "Epoch 21 | Training loss: 0.0502, validation accuracy: 0.8816, validation loss: 0.5281\n",
      "100%|██████████████████████████████████████████████████████████| 313/313 [00:22<00:00, 14.12it/s, loss=0.0491]\n",
      "Epoch 22 | Training loss: 0.0491, validation accuracy: 0.8824, validation loss: 0.5467\n",
      "100%|██████████████████████████████████████████████████████████| 313/313 [00:22<00:00, 14.11it/s, loss=0.0508]\n",
      "Epoch 23 | Training loss: 0.0508, validation accuracy: 0.8803, validation loss: 0.5468\n",
      "100%|██████████████████████████████████████████████████████████| 313/313 [00:22<00:00, 14.12it/s, loss=0.0469]\n",
      "Epoch 24 | Training loss: 0.0469, validation accuracy: 0.8823, validation loss: 0.5478\n",
      "100%|██████████████████████████████████████████████████████████| 313/313 [00:22<00:00, 14.14it/s, loss=0.0477]\n",
      "Epoch 25 | Training loss: 0.0477, validation accuracy: 0.8799, validation loss: 0.5375\n",
      "100%|██████████████████████████████████████████████████████████| 313/313 [00:22<00:00, 14.10it/s, loss=0.0459]\n",
      "Epoch 26 | Training loss: 0.0459, validation accuracy: 0.8815, validation loss: 0.5541\n",
      "100%|██████████████████████████████████████████████████████████| 313/313 [00:22<00:00, 14.15it/s, loss=0.0468]\n",
      "Epoch 27 | Training loss: 0.0468, validation accuracy: 0.8795, validation loss: 0.5472\n",
      "100%|██████████████████████████████████████████████████████████| 313/313 [00:22<00:00, 14.12it/s, loss=0.0440]\n",
      "Epoch 28 | Training loss: 0.0440, validation accuracy: 0.8787, validation loss: 0.5648\n",
      "100%|██████████████████████████████████████████████████████████| 313/313 [00:22<00:00, 14.13it/s, loss=0.0427]\n",
      "Epoch 29 | Training loss: 0.0427, validation accuracy: 0.8784, validation loss: 0.5700\n",
      "100%|██████████████████████████████████████████████████████████| 313/313 [00:22<00:00, 14.11it/s, loss=0.0462]\n",
      "Epoch 30 | Training loss: 0.0462, validation accuracy: 0.8799, validation loss: 0.5692\n"
     ]
    }
   ],
   "source": [
    "epochs = 30\n",
    "\n",
    "for epoch in range(epochs):\n",
    "    train_loss = trainer.train_epoch(model, optimizer, dl[\"train\"])\n",
    "    optimizer.finish_epoch()\n",
    "    val_acc, val_loss = trainer.validation(model, dl[\"valid\"])\n",
    "    logger.log(\"Epoch\", epoch+1, \"|\", \n",
    "          f\"Training loss: {train_loss:.4f}, validation accuracy: {val_acc:.4f}, validation loss: {val_loss:.4f}\")"
   ]
  },
  {
   "cell_type": "code",
   "execution_count": 33,
   "id": "35152ee5-fd41-4648-a5f7-ccf594eaa6a9",
   "metadata": {},
   "outputs": [
    {
     "name": "stdout",
     "output_type": "stream",
     "text": [
      "Train: (0.985225, 0.04357198261991143)\n",
      "Valid: (0.8799, 0.5692433110237122)\n"
     ]
    }
   ],
   "source": [
    "train_score = trainer.validation(model, dl[\"train\"])\n",
    "valid_score = trainer.validation(model, dl[\"valid\"])\n",
    "logger.log(\"Train:\", train_score)\n",
    "logger.log(\"Valid:\", valid_score)"
   ]
  },
  {
   "cell_type": "code",
   "execution_count": 34,
   "id": "e548ae04-fb7c-4e77-9d99-900f936da04b",
   "metadata": {},
   "outputs": [
    {
     "name": "stdout",
     "output_type": "stream",
     "text": [
      "RNA\n"
     ]
    }
   ],
   "source": [
    "optimizer.param_groups[0][\"method\"] = \"RNA\"\n",
    "logger.log(\"RNA\")\n",
    "model_acc = deepcopy(model)\n",
    "optimizer.accelerate()\n",
    "optimizer.store_parameters([model_acc.parameters()])"
   ]
  },
  {
   "cell_type": "code",
   "execution_count": 35,
   "id": "cd806c72-14f6-459a-8131-0e973315591f",
   "metadata": {
    "tags": []
   },
   "outputs": [
    {
     "name": "stdout",
     "output_type": "stream",
     "text": [
      "Train: (0.987625, 0.03726983153373003)\n",
      "Valid: (0.8821, 0.5420897490501404)\n"
     ]
    }
   ],
   "source": [
    "model_acc.to(trainer.device)\n",
    "train_score = trainer.validation(model_acc, dl[\"train\"])\n",
    "valid_score = trainer.validation(model_acc, dl[\"valid\"])\n",
    "logger.log(\"Train:\", train_score)\n",
    "logger.log(\"Valid:\", valid_score)"
   ]
  },
  {
   "cell_type": "code",
   "execution_count": 36,
   "id": "cc872b77-de0d-4685-a8dc-4d64dddf64da",
   "metadata": {},
   "outputs": [
    {
     "name": "stdout",
     "output_type": "stream",
     "text": [
      "RRE\n"
     ]
    }
   ],
   "source": [
    "optimizer.param_groups[0][\"method\"] = \"RRE\"\n",
    "logger.log(\"RRE\")\n",
    "model_acc = deepcopy(model)\n",
    "optimizer.accelerate()\n",
    "optimizer.store_parameters([model_acc.parameters()])"
   ]
  },
  {
   "cell_type": "code",
   "execution_count": 37,
   "id": "3e45f7ee-47c8-4e6e-ba97-2bd2b119e890",
   "metadata": {
    "tags": []
   },
   "outputs": [
    {
     "name": "stdout",
     "output_type": "stream",
     "text": [
      "Train: (0.9866, 0.039733015621453524)\n",
      "Valid: (0.8821, 0.5420750851631164)\n"
     ]
    }
   ],
   "source": [
    "model_acc.to(trainer.device)\n",
    "train_score = trainer.validation(model_acc, dl[\"train\"])\n",
    "valid_score = trainer.validation(model_acc, dl[\"valid\"])\n",
    "logger.log(\"Train:\", train_score)\n",
    "logger.log(\"Valid:\", valid_score)"
   ]
  },
  {
   "cell_type": "markdown",
   "id": "459e2bfb-c81a-4f35-a72d-99794b144c79",
   "metadata": {},
   "source": [
    "### Lambda = 1e-4"
   ]
  },
  {
   "cell_type": "code",
   "execution_count": 38,
   "id": "a5e10877-cf3d-4b3c-ad36-8503f804f9b1",
   "metadata": {},
   "outputs": [],
   "source": [
    "model.load_state_dict(initial_state)\n",
    "optimizer = AcceleratedSGD(model.parameters(), 1e-2, k=10, momentum=0.9, weight_decay=1e-5, lambda_=1e-4)\n",
    "logger = Logger(\"vgg_log_augmentation_lambda=1e-4.txt.no_resizing\")"
   ]
  },
  {
   "cell_type": "code",
   "execution_count": 39,
   "id": "7250d52d-8e7b-4ae8-9978-1db2b8183adf",
   "metadata": {},
   "outputs": [
    {
     "name": "stdout",
     "output_type": "stream",
     "text": [
      "100%|██████████████████████████████████████████████████████████| 313/313 [00:21<00:00, 14.23it/s, loss=2.1114]\n",
      "Epoch 1 | Training loss: 2.1114, validation accuracy: 0.2785, validation loss: 1.8693\n",
      "100%|██████████████████████████████████████████████████████████| 313/313 [00:22<00:00, 14.18it/s, loss=1.7766]\n",
      "Epoch 2 | Training loss: 1.7766, validation accuracy: 0.3857, validation loss: 1.5792\n",
      "100%|██████████████████████████████████████████████████████████| 313/313 [00:22<00:00, 14.16it/s, loss=1.5649]\n",
      "Epoch 3 | Training loss: 1.5649, validation accuracy: 0.4610, validation loss: 1.4182\n",
      "100%|██████████████████████████████████████████████████████████| 313/313 [00:22<00:00, 14.16it/s, loss=1.3860]\n",
      "Epoch 4 | Training loss: 1.3860, validation accuracy: 0.5615, validation loss: 1.2020\n",
      "100%|██████████████████████████████████████████████████████████| 313/313 [00:22<00:00, 14.19it/s, loss=1.2405]\n",
      "Epoch 5 | Training loss: 1.2405, validation accuracy: 0.5902, validation loss: 1.1372\n",
      "100%|██████████████████████████████████████████████████████████| 313/313 [00:22<00:00, 14.16it/s, loss=1.1080]\n",
      "Epoch 6 | Training loss: 1.1080, validation accuracy: 0.6246, validation loss: 1.0291\n",
      "100%|██████████████████████████████████████████████████████████| 313/313 [00:22<00:00, 14.16it/s, loss=1.0055]\n",
      "Epoch 7 | Training loss: 1.0055, validation accuracy: 0.7023, validation loss: 0.8392\n",
      "100%|██████████████████████████████████████████████████████████| 313/313 [00:22<00:00, 14.14it/s, loss=0.9384]\n",
      "Epoch 8 | Training loss: 0.9384, validation accuracy: 0.7011, validation loss: 0.8581\n",
      "100%|██████████████████████████████████████████████████████████| 313/313 [00:22<00:00, 14.16it/s, loss=0.8781]\n",
      "Epoch 9 | Training loss: 0.8781, validation accuracy: 0.6875, validation loss: 0.9194\n",
      "100%|██████████████████████████████████████████████████████████| 313/313 [00:22<00:00, 14.17it/s, loss=0.8171]\n",
      "Epoch 10 | Training loss: 0.8171, validation accuracy: 0.7243, validation loss: 0.8064\n",
      "100%|██████████████████████████████████████████████████████████| 313/313 [00:22<00:00, 14.18it/s, loss=0.7808]\n",
      "Epoch 11 | Training loss: 0.7808, validation accuracy: 0.7580, validation loss: 0.7061\n",
      "100%|██████████████████████████████████████████████████████████| 313/313 [00:22<00:00, 14.15it/s, loss=0.7268]\n",
      "Epoch 12 | Training loss: 0.7268, validation accuracy: 0.7848, validation loss: 0.6364\n",
      "100%|██████████████████████████████████████████████████████████| 313/313 [00:22<00:00, 14.15it/s, loss=0.6906]\n",
      "Epoch 13 | Training loss: 0.6906, validation accuracy: 0.7886, validation loss: 0.6217\n",
      "100%|██████████████████████████████████████████████████████████| 313/313 [00:22<00:00, 14.15it/s, loss=0.6529]\n",
      "Epoch 14 | Training loss: 0.6529, validation accuracy: 0.7939, validation loss: 0.6093\n",
      "100%|██████████████████████████████████████████████████████████| 313/313 [00:22<00:00, 14.16it/s, loss=0.6232]\n",
      "Epoch 15 | Training loss: 0.6232, validation accuracy: 0.7975, validation loss: 0.6029\n",
      "100%|██████████████████████████████████████████████████████████| 313/313 [00:22<00:00, 14.12it/s, loss=0.5967]\n",
      "Epoch 16 | Training loss: 0.5967, validation accuracy: 0.7937, validation loss: 0.6226\n",
      "100%|██████████████████████████████████████████████████████████| 313/313 [00:22<00:00, 14.12it/s, loss=0.5688]\n",
      "Epoch 17 | Training loss: 0.5688, validation accuracy: 0.8166, validation loss: 0.5511\n",
      "100%|██████████████████████████████████████████████████████████| 313/313 [00:22<00:00, 14.16it/s, loss=0.5438]\n",
      "Epoch 18 | Training loss: 0.5438, validation accuracy: 0.8260, validation loss: 0.5250\n",
      "100%|██████████████████████████████████████████████████████████| 313/313 [00:22<00:00, 14.13it/s, loss=0.5158]\n",
      "Epoch 19 | Training loss: 0.5158, validation accuracy: 0.8282, validation loss: 0.5201\n",
      "100%|██████████████████████████████████████████████████████████| 313/313 [00:22<00:00, 14.14it/s, loss=0.4889]\n",
      "Epoch 20 | Training loss: 0.4889, validation accuracy: 0.8255, validation loss: 0.5153\n",
      "100%|██████████████████████████████████████████████████████████| 313/313 [00:22<00:00, 14.12it/s, loss=0.4721]\n",
      "Epoch 21 | Training loss: 0.4721, validation accuracy: 0.8267, validation loss: 0.5391\n",
      "100%|██████████████████████████████████████████████████████████| 313/313 [00:22<00:00, 14.15it/s, loss=0.4440]\n",
      "Epoch 22 | Training loss: 0.4440, validation accuracy: 0.8333, validation loss: 0.5076\n",
      "100%|██████████████████████████████████████████████████████████| 313/313 [00:22<00:00, 14.15it/s, loss=0.4362]\n",
      "Epoch 23 | Training loss: 0.4362, validation accuracy: 0.8253, validation loss: 0.5391\n",
      "100%|██████████████████████████████████████████████████████████| 313/313 [00:22<00:00, 14.16it/s, loss=0.4186]\n",
      "Epoch 24 | Training loss: 0.4186, validation accuracy: 0.8447, validation loss: 0.4774\n",
      "100%|██████████████████████████████████████████████████████████| 313/313 [00:22<00:00, 14.17it/s, loss=0.3978]\n",
      "Epoch 25 | Training loss: 0.3978, validation accuracy: 0.8315, validation loss: 0.5249\n",
      "100%|██████████████████████████████████████████████████████████| 313/313 [00:22<00:00, 14.14it/s, loss=0.3762]\n",
      "Epoch 26 | Training loss: 0.3762, validation accuracy: 0.8335, validation loss: 0.5157\n",
      "100%|██████████████████████████████████████████████████████████| 313/313 [00:22<00:00, 14.14it/s, loss=0.3655]\n",
      "Epoch 27 | Training loss: 0.3655, validation accuracy: 0.8414, validation loss: 0.4937\n",
      "100%|██████████████████████████████████████████████████████████| 313/313 [00:22<00:00, 14.17it/s, loss=0.3474]\n",
      "Epoch 28 | Training loss: 0.3474, validation accuracy: 0.8496, validation loss: 0.4774\n",
      "100%|██████████████████████████████████████████████████████████| 313/313 [00:22<00:00, 14.15it/s, loss=0.3391]\n",
      "Epoch 29 | Training loss: 0.3391, validation accuracy: 0.8380, validation loss: 0.5187\n",
      "100%|██████████████████████████████████████████████████████████| 313/313 [00:22<00:00, 14.12it/s, loss=0.3211]\n",
      "Epoch 30 | Training loss: 0.3211, validation accuracy: 0.8470, validation loss: 0.4941\n",
      "100%|██████████████████████████████████████████████████████████| 313/313 [00:22<00:00, 14.16it/s, loss=0.3131]\n",
      "Epoch 31 | Training loss: 0.3131, validation accuracy: 0.8381, validation loss: 0.5035\n",
      "100%|██████████████████████████████████████████████████████████| 313/313 [00:22<00:00, 14.13it/s, loss=0.2955]\n",
      "Epoch 32 | Training loss: 0.2955, validation accuracy: 0.8403, validation loss: 0.5174\n",
      "100%|██████████████████████████████████████████████████████████| 313/313 [00:22<00:00, 14.14it/s, loss=0.2850]\n",
      "Epoch 33 | Training loss: 0.2850, validation accuracy: 0.8469, validation loss: 0.5139\n",
      "100%|██████████████████████████████████████████████████████████| 313/313 [00:22<00:00, 14.17it/s, loss=0.2775]\n",
      "Epoch 34 | Training loss: 0.2775, validation accuracy: 0.8454, validation loss: 0.5178\n",
      "100%|██████████████████████████████████████████████████████████| 313/313 [00:22<00:00, 14.15it/s, loss=0.2694]\n",
      "Epoch 35 | Training loss: 0.2694, validation accuracy: 0.8576, validation loss: 0.4712\n",
      "100%|██████████████████████████████████████████████████████████| 313/313 [00:22<00:00, 14.17it/s, loss=0.2607]\n",
      "Epoch 36 | Training loss: 0.2607, validation accuracy: 0.8585, validation loss: 0.4649\n",
      "100%|██████████████████████████████████████████████████████████| 313/313 [00:22<00:00, 14.13it/s, loss=0.2515]\n",
      "Epoch 37 | Training loss: 0.2515, validation accuracy: 0.8503, validation loss: 0.4856\n",
      "100%|██████████████████████████████████████████████████████████| 313/313 [00:22<00:00, 14.16it/s, loss=0.2410]\n",
      "Epoch 38 | Training loss: 0.2410, validation accuracy: 0.8573, validation loss: 0.4690\n",
      "100%|██████████████████████████████████████████████████████████| 313/313 [00:22<00:00, 14.13it/s, loss=0.2334]\n",
      "Epoch 39 | Training loss: 0.2334, validation accuracy: 0.8610, validation loss: 0.4848\n",
      "100%|██████████████████████████████████████████████████████████| 313/313 [00:22<00:00, 14.17it/s, loss=0.2212]\n",
      "Epoch 40 | Training loss: 0.2212, validation accuracy: 0.8554, validation loss: 0.4853\n",
      "100%|██████████████████████████████████████████████████████████| 313/313 [00:22<00:00, 14.14it/s, loss=0.2182]\n",
      "Epoch 41 | Training loss: 0.2182, validation accuracy: 0.8628, validation loss: 0.4684\n",
      "100%|██████████████████████████████████████████████████████████| 313/313 [00:22<00:00, 14.15it/s, loss=0.2063]\n",
      "Epoch 42 | Training loss: 0.2063, validation accuracy: 0.8624, validation loss: 0.4529\n",
      "100%|██████████████████████████████████████████████████████████| 313/313 [00:22<00:00, 14.17it/s, loss=0.2069]\n",
      "Epoch 43 | Training loss: 0.2069, validation accuracy: 0.8542, validation loss: 0.4915\n",
      "100%|██████████████████████████████████████████████████████████| 313/313 [00:22<00:00, 14.13it/s, loss=0.1952]\n",
      "Epoch 44 | Training loss: 0.1952, validation accuracy: 0.8596, validation loss: 0.4690\n",
      "100%|██████████████████████████████████████████████████████████| 313/313 [00:22<00:00, 14.14it/s, loss=0.1841]\n",
      "Epoch 45 | Training loss: 0.1841, validation accuracy: 0.8610, validation loss: 0.4798\n"
     ]
    }
   ],
   "source": [
    "torch.manual_seed(2020)\n",
    "epochs = 45\n",
    "\n",
    "for epoch in range(epochs):\n",
    "    train_loss = trainer.train_epoch(model, optimizer, dl[\"train\"])\n",
    "    optimizer.finish_epoch()\n",
    "    val_acc, val_loss = trainer.validation(model, dl[\"valid\"])\n",
    "    logger.log(\"Epoch\", epoch+1, \"|\", \n",
    "          f\"Training loss: {train_loss:.4f}, validation accuracy: {val_acc:.4f}, validation loss: {val_loss:.4f}\")"
   ]
  },
  {
   "cell_type": "code",
   "execution_count": 40,
   "id": "b2062da2-795a-4fc9-a36b-7703111f53c1",
   "metadata": {},
   "outputs": [
    {
     "name": "stdout",
     "output_type": "stream",
     "text": [
      "Train: (0.942475, 0.17267852897644043)\n",
      "Valid: (0.861, 0.4798047291755676)\n"
     ]
    }
   ],
   "source": [
    "train_score = trainer.validation(model, dl[\"train\"])\n",
    "valid_score = trainer.validation(model, dl[\"valid\"])\n",
    "logger.log(\"Train:\", train_score)\n",
    "logger.log(\"Valid:\", valid_score)"
   ]
  },
  {
   "cell_type": "code",
   "execution_count": 41,
   "id": "573e3d9b-0c54-4a5b-b3ff-54849be78518",
   "metadata": {},
   "outputs": [
    {
     "name": "stdout",
     "output_type": "stream",
     "text": [
      "RNA\n"
     ]
    }
   ],
   "source": [
    "optimizer.param_groups[0][\"method\"] = \"RNA\"\n",
    "logger.log(\"RNA\")\n",
    "model_acc = deepcopy(model)\n",
    "optimizer.accelerate()\n",
    "optimizer.store_parameters([model_acc.parameters()])"
   ]
  },
  {
   "cell_type": "code",
   "execution_count": 42,
   "id": "89cae116-2a6b-4091-9303-7340d1e51ea6",
   "metadata": {
    "tags": []
   },
   "outputs": [
    {
     "name": "stdout",
     "output_type": "stream",
     "text": [
      "Train: (0.9704, 0.09356355343461037)\n",
      "Valid: (0.8815, 0.39055089263916015)\n"
     ]
    }
   ],
   "source": [
    "model_acc.to(trainer.device)\n",
    "train_score = trainer.validation(model_acc, dl[\"train\"])\n",
    "valid_score = trainer.validation(model_acc, dl[\"valid\"])\n",
    "logger.log(\"Train:\", train_score)\n",
    "logger.log(\"Valid:\", valid_score)"
   ]
  },
  {
   "cell_type": "code",
   "execution_count": 43,
   "id": "97ced75c-86c7-4b13-a861-35fa666f1d5a",
   "metadata": {},
   "outputs": [
    {
     "name": "stdout",
     "output_type": "stream",
     "text": [
      "RRE\n"
     ]
    }
   ],
   "source": [
    "optimizer.param_groups[0][\"method\"] = \"RRE\"\n",
    "logger.log(\"RRE\")\n",
    "model_acc = deepcopy(model)\n",
    "optimizer.accelerate()\n",
    "optimizer.store_parameters([model_acc.parameters()])"
   ]
  },
  {
   "cell_type": "code",
   "execution_count": 44,
   "id": "c3c4ede2-e3d0-4312-a850-1b3bb2eab85d",
   "metadata": {
    "tags": []
   },
   "outputs": [
    {
     "name": "stdout",
     "output_type": "stream",
     "text": [
      "Train: (0.97135, 0.09292823143005371)\n",
      "Valid: (0.8815, 0.39056040353775023)\n"
     ]
    }
   ],
   "source": [
    "model_acc.to(trainer.device)\n",
    "train_score = trainer.validation(model_acc, dl[\"train\"])\n",
    "valid_score = trainer.validation(model_acc, dl[\"valid\"])\n",
    "logger.log(\"Train:\", train_score)\n",
    "logger.log(\"Valid:\", valid_score)"
   ]
  },
  {
   "cell_type": "code",
   "execution_count": 45,
   "id": "3305acfe-f6b7-42cb-9b83-b7e651c840fd",
   "metadata": {},
   "outputs": [],
   "source": [
    "optimizer.param_groups[0][\"lr\"] = 1e-3"
   ]
  },
  {
   "cell_type": "code",
   "execution_count": 46,
   "id": "b8a3ad49-c403-4162-b61d-e9448b46f8d5",
   "metadata": {},
   "outputs": [
    {
     "name": "stdout",
     "output_type": "stream",
     "text": [
      "100%|██████████████████████████████████████████████████████████| 313/313 [00:22<00:00, 14.15it/s, loss=0.1124]\n",
      "Epoch 1 | Training loss: 0.1124, validation accuracy: 0.8755, validation loss: 0.4796\n",
      "100%|██████████████████████████████████████████████████████████| 313/313 [00:22<00:00, 14.11it/s, loss=0.0897]\n",
      "Epoch 2 | Training loss: 0.0897, validation accuracy: 0.8764, validation loss: 0.4926\n",
      "100%|██████████████████████████████████████████████████████████| 313/313 [00:22<00:00, 14.12it/s, loss=0.0845]\n",
      "Epoch 3 | Training loss: 0.0845, validation accuracy: 0.8791, validation loss: 0.4938\n",
      "100%|██████████████████████████████████████████████████████████| 313/313 [00:22<00:00, 14.11it/s, loss=0.0803]\n",
      "Epoch 4 | Training loss: 0.0803, validation accuracy: 0.8798, validation loss: 0.4929\n",
      "100%|██████████████████████████████████████████████████████████| 313/313 [00:22<00:00, 14.11it/s, loss=0.0737]\n",
      "Epoch 5 | Training loss: 0.0737, validation accuracy: 0.8783, validation loss: 0.4952\n",
      "100%|██████████████████████████████████████████████████████████| 313/313 [00:22<00:00, 14.08it/s, loss=0.0719]\n",
      "Epoch 6 | Training loss: 0.0719, validation accuracy: 0.8822, validation loss: 0.4940\n",
      "100%|██████████████████████████████████████████████████████████| 313/313 [00:22<00:00, 14.10it/s, loss=0.0709]\n",
      "Epoch 7 | Training loss: 0.0709, validation accuracy: 0.8805, validation loss: 0.4951\n",
      "100%|██████████████████████████████████████████████████████████| 313/313 [00:22<00:00, 14.12it/s, loss=0.0690]\n",
      "Epoch 8 | Training loss: 0.0690, validation accuracy: 0.8801, validation loss: 0.5092\n",
      "100%|██████████████████████████████████████████████████████████| 313/313 [00:22<00:00, 14.09it/s, loss=0.0643]\n",
      "Epoch 9 | Training loss: 0.0643, validation accuracy: 0.8774, validation loss: 0.5184\n",
      "100%|██████████████████████████████████████████████████████████| 313/313 [00:22<00:00, 14.07it/s, loss=0.0652]\n",
      "Epoch 10 | Training loss: 0.0652, validation accuracy: 0.8795, validation loss: 0.5090\n",
      "100%|██████████████████████████████████████████████████████████| 313/313 [00:22<00:00, 14.12it/s, loss=0.0617]\n",
      "Epoch 11 | Training loss: 0.0617, validation accuracy: 0.8795, validation loss: 0.5152\n",
      "100%|██████████████████████████████████████████████████████████| 313/313 [00:22<00:00, 14.11it/s, loss=0.0641]\n",
      "Epoch 12 | Training loss: 0.0641, validation accuracy: 0.8823, validation loss: 0.5107\n",
      "100%|██████████████████████████████████████████████████████████| 313/313 [00:22<00:00, 14.10it/s, loss=0.0586]\n",
      "Epoch 13 | Training loss: 0.0586, validation accuracy: 0.8807, validation loss: 0.5277\n",
      "100%|██████████████████████████████████████████████████████████| 313/313 [00:22<00:00, 14.09it/s, loss=0.0578]\n",
      "Epoch 14 | Training loss: 0.0578, validation accuracy: 0.8815, validation loss: 0.5357\n",
      "100%|██████████████████████████████████████████████████████████| 313/313 [00:22<00:00, 14.09it/s, loss=0.0605]\n",
      "Epoch 15 | Training loss: 0.0605, validation accuracy: 0.8797, validation loss: 0.5216\n",
      "100%|██████████████████████████████████████████████████████████| 313/313 [00:22<00:00, 14.13it/s, loss=0.0548]\n",
      "Epoch 16 | Training loss: 0.0548, validation accuracy: 0.8792, validation loss: 0.5245\n",
      "100%|██████████████████████████████████████████████████████████| 313/313 [00:22<00:00, 14.05it/s, loss=0.0586]\n",
      "Epoch 17 | Training loss: 0.0586, validation accuracy: 0.8806, validation loss: 0.5204\n",
      "100%|██████████████████████████████████████████████████████████| 313/313 [00:22<00:00, 14.12it/s, loss=0.0528]\n",
      "Epoch 18 | Training loss: 0.0528, validation accuracy: 0.8818, validation loss: 0.5254\n",
      "100%|██████████████████████████████████████████████████████████| 313/313 [00:22<00:00, 14.10it/s, loss=0.0499]\n",
      "Epoch 19 | Training loss: 0.0499, validation accuracy: 0.8787, validation loss: 0.5488\n",
      "100%|██████████████████████████████████████████████████████████| 313/313 [00:22<00:00, 14.11it/s, loss=0.0492]\n",
      "Epoch 20 | Training loss: 0.0492, validation accuracy: 0.8789, validation loss: 0.5532\n",
      "100%|██████████████████████████████████████████████████████████| 313/313 [00:22<00:00, 14.07it/s, loss=0.0506]\n",
      "Epoch 21 | Training loss: 0.0506, validation accuracy: 0.8813, validation loss: 0.5432\n",
      "100%|██████████████████████████████████████████████████████████| 313/313 [00:22<00:00, 14.05it/s, loss=0.0512]\n",
      "Epoch 22 | Training loss: 0.0512, validation accuracy: 0.8815, validation loss: 0.5423\n",
      "100%|██████████████████████████████████████████████████████████| 313/313 [00:22<00:00, 14.05it/s, loss=0.0529]\n",
      "Epoch 23 | Training loss: 0.0529, validation accuracy: 0.8795, validation loss: 0.5528\n",
      "100%|██████████████████████████████████████████████████████████| 313/313 [00:22<00:00, 14.08it/s, loss=0.0488]\n",
      "Epoch 24 | Training loss: 0.0488, validation accuracy: 0.8838, validation loss: 0.5425\n",
      "100%|██████████████████████████████████████████████████████████| 313/313 [00:22<00:00, 14.12it/s, loss=0.0482]\n",
      "Epoch 25 | Training loss: 0.0482, validation accuracy: 0.8817, validation loss: 0.5442\n",
      "100%|██████████████████████████████████████████████████████████| 313/313 [00:22<00:00, 14.10it/s, loss=0.0504]\n",
      "Epoch 26 | Training loss: 0.0504, validation accuracy: 0.8799, validation loss: 0.5560\n",
      "100%|██████████████████████████████████████████████████████████| 313/313 [00:22<00:00, 14.11it/s, loss=0.0447]\n",
      "Epoch 27 | Training loss: 0.0447, validation accuracy: 0.8811, validation loss: 0.5552\n",
      "100%|██████████████████████████████████████████████████████████| 313/313 [00:22<00:00, 14.08it/s, loss=0.0448]\n",
      "Epoch 28 | Training loss: 0.0448, validation accuracy: 0.8775, validation loss: 0.5684\n",
      "100%|██████████████████████████████████████████████████████████| 313/313 [00:22<00:00, 14.10it/s, loss=0.0412]\n",
      "Epoch 29 | Training loss: 0.0412, validation accuracy: 0.8819, validation loss: 0.5684\n",
      "100%|██████████████████████████████████████████████████████████| 313/313 [00:22<00:00, 14.09it/s, loss=0.0452]\n",
      "Epoch 30 | Training loss: 0.0452, validation accuracy: 0.8823, validation loss: 0.5605\n"
     ]
    }
   ],
   "source": [
    "epochs = 30\n",
    "\n",
    "for epoch in range(epochs):\n",
    "    train_loss = trainer.train_epoch(model, optimizer, dl[\"train\"])\n",
    "    optimizer.finish_epoch()\n",
    "    val_acc, val_loss = trainer.validation(model, dl[\"valid\"])\n",
    "    logger.log(\"Epoch\", epoch+1, \"|\", \n",
    "          f\"Training loss: {train_loss:.4f}, validation accuracy: {val_acc:.4f}, validation loss: {val_loss:.4f}\")"
   ]
  },
  {
   "cell_type": "code",
   "execution_count": 47,
   "id": "8f8f8b3e-e166-4100-9ebd-c782cca96013",
   "metadata": {},
   "outputs": [
    {
     "name": "stdout",
     "output_type": "stream",
     "text": [
      "Train: (0.985325, 0.04265370637327433)\n",
      "Valid: (0.8823, 0.560452561378479)\n"
     ]
    }
   ],
   "source": [
    "train_score = trainer.validation(model, dl[\"train\"])\n",
    "valid_score = trainer.validation(model, dl[\"valid\"])\n",
    "logger.log(\"Train:\", train_score)\n",
    "logger.log(\"Valid:\", valid_score)"
   ]
  },
  {
   "cell_type": "code",
   "execution_count": 48,
   "id": "39faadb8-e9b6-4e44-a3fc-e62d6fd7b9fd",
   "metadata": {},
   "outputs": [
    {
     "name": "stdout",
     "output_type": "stream",
     "text": [
      "RNA\n"
     ]
    }
   ],
   "source": [
    "optimizer.param_groups[0][\"method\"] = \"RNA\"\n",
    "logger.log(\"RNA\")\n",
    "model_acc = deepcopy(model)\n",
    "optimizer.accelerate()\n",
    "optimizer.store_parameters([model_acc.parameters()])"
   ]
  },
  {
   "cell_type": "code",
   "execution_count": 49,
   "id": "3469ea8e-2048-4692-bc35-7d9393f8485a",
   "metadata": {
    "tags": []
   },
   "outputs": [
    {
     "name": "stdout",
     "output_type": "stream",
     "text": [
      "Train: (0.986875, 0.039506063325703146)\n",
      "Valid: (0.8831, 0.5457372913360595)\n"
     ]
    }
   ],
   "source": [
    "model_acc.to(trainer.device)\n",
    "train_score = trainer.validation(model_acc, dl[\"train\"])\n",
    "valid_score = trainer.validation(model_acc, dl[\"valid\"])\n",
    "logger.log(\"Train:\", train_score)\n",
    "logger.log(\"Valid:\", valid_score)"
   ]
  },
  {
   "cell_type": "code",
   "execution_count": 50,
   "id": "c6f6e638-e950-45b9-a504-5b258e28b0a0",
   "metadata": {},
   "outputs": [
    {
     "name": "stdout",
     "output_type": "stream",
     "text": [
      "RRE\n"
     ]
    }
   ],
   "source": [
    "optimizer.param_groups[0][\"method\"] = \"RRE\"\n",
    "logger.log(\"RRE\")\n",
    "model_acc = deepcopy(model)\n",
    "optimizer.accelerate()\n",
    "optimizer.store_parameters([model_acc.parameters()])"
   ]
  },
  {
   "cell_type": "code",
   "execution_count": 51,
   "id": "9736c45c-44de-4c50-9bbe-287d1f7f0216",
   "metadata": {
    "tags": []
   },
   "outputs": [
    {
     "name": "stdout",
     "output_type": "stream",
     "text": [
      "Train: (0.98695, 0.038688352712243794)\n",
      "Valid: (0.8831, 0.5457269618988038)\n"
     ]
    }
   ],
   "source": [
    "model_acc.to(trainer.device)\n",
    "train_score = trainer.validation(model_acc, dl[\"train\"])\n",
    "valid_score = trainer.validation(model_acc, dl[\"valid\"])\n",
    "logger.log(\"Train:\", train_score)\n",
    "logger.log(\"Valid:\", valid_score)"
   ]
  },
  {
   "cell_type": "markdown",
   "id": "white-prediction",
   "metadata": {},
   "source": [
    "## Epoch average"
   ]
  },
  {
   "cell_type": "code",
   "execution_count": 52,
   "id": "e0a3fd16-4f18-470c-b04e-73df2e48e89b",
   "metadata": {},
   "outputs": [
    {
     "data": {
      "text/plain": [
       "VGG(\n",
       "  (features): Sequential(\n",
       "    (0): Conv2d(3, 64, kernel_size=(3, 3), stride=(1, 1), padding=(1, 1))\n",
       "    (1): ReLU(inplace=True)\n",
       "    (2): Conv2d(64, 64, kernel_size=(3, 3), stride=(1, 1), padding=(1, 1))\n",
       "    (3): ReLU(inplace=True)\n",
       "    (4): MaxPool2d(kernel_size=2, stride=2, padding=0, dilation=1, ceil_mode=False)\n",
       "    (5): Conv2d(64, 128, kernel_size=(3, 3), stride=(1, 1), padding=(1, 1))\n",
       "    (6): ReLU(inplace=True)\n",
       "    (7): Conv2d(128, 128, kernel_size=(3, 3), stride=(1, 1), padding=(1, 1))\n",
       "    (8): ReLU(inplace=True)\n",
       "    (9): MaxPool2d(kernel_size=2, stride=2, padding=0, dilation=1, ceil_mode=False)\n",
       "    (10): Conv2d(128, 256, kernel_size=(3, 3), stride=(1, 1), padding=(1, 1))\n",
       "    (11): ReLU(inplace=True)\n",
       "    (12): Conv2d(256, 256, kernel_size=(3, 3), stride=(1, 1), padding=(1, 1))\n",
       "    (13): ReLU(inplace=True)\n",
       "    (14): Conv2d(256, 256, kernel_size=(3, 3), stride=(1, 1), padding=(1, 1))\n",
       "    (15): ReLU(inplace=True)\n",
       "    (16): MaxPool2d(kernel_size=2, stride=2, padding=0, dilation=1, ceil_mode=False)\n",
       "    (17): Conv2d(256, 512, kernel_size=(3, 3), stride=(1, 1), padding=(1, 1))\n",
       "    (18): ReLU(inplace=True)\n",
       "    (19): Conv2d(512, 512, kernel_size=(3, 3), stride=(1, 1), padding=(1, 1))\n",
       "    (20): ReLU(inplace=True)\n",
       "    (21): Conv2d(512, 512, kernel_size=(3, 3), stride=(1, 1), padding=(1, 1))\n",
       "    (22): ReLU(inplace=True)\n",
       "    (23): MaxPool2d(kernel_size=2, stride=2, padding=0, dilation=1, ceil_mode=False)\n",
       "    (24): Conv2d(512, 512, kernel_size=(3, 3), stride=(1, 1), padding=(1, 1))\n",
       "    (25): ReLU(inplace=True)\n",
       "    (26): Conv2d(512, 512, kernel_size=(3, 3), stride=(1, 1), padding=(1, 1))\n",
       "    (27): ReLU(inplace=True)\n",
       "    (28): Conv2d(512, 512, kernel_size=(3, 3), stride=(1, 1), padding=(1, 1))\n",
       "    (29): ReLU(inplace=True)\n",
       "    (30): MaxPool2d(kernel_size=2, stride=2, padding=0, dilation=1, ceil_mode=False)\n",
       "  )\n",
       "  (avgpool): AdaptiveAvgPool2d(output_size=(7, 7))\n",
       "  (classifier): Sequential(\n",
       "    (0): Linear(in_features=25088, out_features=4096, bias=True)\n",
       "    (1): ReLU(inplace=True)\n",
       "    (2): Dropout(p=0.5, inplace=False)\n",
       "    (3): Linear(in_features=4096, out_features=4096, bias=True)\n",
       "    (4): ReLU(inplace=True)\n",
       "    (5): Dropout(p=0.5, inplace=False)\n",
       "    (6): Linear(in_features=4096, out_features=10, bias=True)\n",
       "    (7): LogSoftmax(dim=-1)\n",
       "  )\n",
       ")"
      ]
     },
     "execution_count": 52,
     "metadata": {},
     "output_type": "execute_result"
    }
   ],
   "source": [
    "model.load_state_dict(initial_state)\n",
    "model.to(trainer.device)"
   ]
  },
  {
   "cell_type": "code",
   "execution_count": 53,
   "id": "7615767f-b1f7-447f-bfcd-9d5b324d5141",
   "metadata": {},
   "outputs": [],
   "source": [
    "optimizer = AcceleratedSGD(model.parameters(), 1e-2, k=10, momentum=0.9, weight_decay=1e-5, lambda_=1e-8, \n",
    "                           mode=\"epoch_avg\")\n",
    "logger = Logger(\"vgg_log_augmentation_average.txt.no_resizing\")"
   ]
  },
  {
   "cell_type": "code",
   "execution_count": 54,
   "id": "a374dd4a-3825-4ddc-9772-3d8284ca9396",
   "metadata": {},
   "outputs": [
    {
     "name": "stdout",
     "output_type": "stream",
     "text": [
      "100%|██████████████████████████████████████████████████████████| 313/313 [00:25<00:00, 12.27it/s, loss=2.0912]\n",
      "Epoch 1 | Training loss: 2.0912, validation accuracy: 0.2706, validation loss: 1.8731\n",
      "100%|██████████████████████████████████████████████████████████| 313/313 [00:25<00:00, 12.24it/s, loss=1.7733]\n",
      "Epoch 2 | Training loss: 1.7733, validation accuracy: 0.3971, validation loss: 1.5606\n",
      "100%|██████████████████████████████████████████████████████████| 313/313 [00:25<00:00, 12.23it/s, loss=1.5655]\n",
      "Epoch 3 | Training loss: 1.5655, validation accuracy: 0.4388, validation loss: 1.5265\n",
      "100%|██████████████████████████████████████████████████████████| 313/313 [00:25<00:00, 12.24it/s, loss=1.3787]\n",
      "Epoch 4 | Training loss: 1.3787, validation accuracy: 0.5741, validation loss: 1.1734\n",
      "100%|██████████████████████████████████████████████████████████| 313/313 [00:25<00:00, 12.21it/s, loss=1.2496]\n",
      "Epoch 5 | Training loss: 1.2496, validation accuracy: 0.6061, validation loss: 1.1240\n",
      "100%|██████████████████████████████████████████████████████████| 313/313 [00:25<00:00, 12.24it/s, loss=1.1183]\n",
      "Epoch 6 | Training loss: 1.1183, validation accuracy: 0.6374, validation loss: 1.0214\n",
      "100%|██████████████████████████████████████████████████████████| 313/313 [00:25<00:00, 12.21it/s, loss=1.0229]\n",
      "Epoch 7 | Training loss: 1.0229, validation accuracy: 0.6868, validation loss: 0.8628\n",
      "100%|██████████████████████████████████████████████████████████| 313/313 [00:25<00:00, 12.20it/s, loss=0.9399]\n",
      "Epoch 8 | Training loss: 0.9399, validation accuracy: 0.7070, validation loss: 0.8287\n",
      "100%|██████████████████████████████████████████████████████████| 313/313 [00:25<00:00, 12.20it/s, loss=0.8812]\n",
      "Epoch 9 | Training loss: 0.8812, validation accuracy: 0.7067, validation loss: 0.8629\n",
      "100%|██████████████████████████████████████████████████████████| 313/313 [00:25<00:00, 12.20it/s, loss=0.8169]\n",
      "Epoch 10 | Training loss: 0.8169, validation accuracy: 0.7352, validation loss: 0.7489\n",
      "100%|██████████████████████████████████████████████████████████| 313/313 [00:25<00:00, 12.21it/s, loss=0.7861]\n",
      "Epoch 11 | Training loss: 0.7861, validation accuracy: 0.7612, validation loss: 0.7051\n",
      "100%|██████████████████████████████████████████████████████████| 313/313 [00:25<00:00, 12.22it/s, loss=0.7287]\n",
      "Epoch 12 | Training loss: 0.7287, validation accuracy: 0.7834, validation loss: 0.6408\n",
      "100%|██████████████████████████████████████████████████████████| 313/313 [00:25<00:00, 12.21it/s, loss=0.6964]\n",
      "Epoch 13 | Training loss: 0.6964, validation accuracy: 0.7900, validation loss: 0.6203\n",
      "100%|██████████████████████████████████████████████████████████| 313/313 [00:25<00:00, 12.22it/s, loss=0.6533]\n",
      "Epoch 14 | Training loss: 0.6533, validation accuracy: 0.7893, validation loss: 0.6356\n",
      "100%|██████████████████████████████████████████████████████████| 313/313 [00:25<00:00, 12.21it/s, loss=0.6116]\n",
      "Epoch 15 | Training loss: 0.6116, validation accuracy: 0.8071, validation loss: 0.5737\n",
      "100%|██████████████████████████████████████████████████████████| 313/313 [00:25<00:00, 12.22it/s, loss=0.5910]\n",
      "Epoch 16 | Training loss: 0.5910, validation accuracy: 0.7997, validation loss: 0.6005\n",
      "100%|██████████████████████████████████████████████████████████| 313/313 [00:25<00:00, 12.22it/s, loss=0.5555]\n",
      "Epoch 17 | Training loss: 0.5555, validation accuracy: 0.8232, validation loss: 0.5289\n",
      "100%|██████████████████████████████████████████████████████████| 313/313 [00:25<00:00, 12.19it/s, loss=0.5348]\n",
      "Epoch 18 | Training loss: 0.5348, validation accuracy: 0.8072, validation loss: 0.5929\n",
      "100%|██████████████████████████████████████████████████████████| 313/313 [00:25<00:00, 12.24it/s, loss=0.5066]\n",
      "Epoch 19 | Training loss: 0.5066, validation accuracy: 0.8242, validation loss: 0.5365\n",
      "100%|██████████████████████████████████████████████████████████| 313/313 [00:25<00:00, 12.19it/s, loss=0.4918]\n",
      "Epoch 20 | Training loss: 0.4918, validation accuracy: 0.8348, validation loss: 0.5090\n",
      "100%|██████████████████████████████████████████████████████████| 313/313 [00:25<00:00, 12.21it/s, loss=0.4679]\n",
      "Epoch 21 | Training loss: 0.4679, validation accuracy: 0.8271, validation loss: 0.5408\n",
      "100%|██████████████████████████████████████████████████████████| 313/313 [00:25<00:00, 12.22it/s, loss=0.4489]\n",
      "Epoch 22 | Training loss: 0.4489, validation accuracy: 0.8404, validation loss: 0.4923\n",
      "100%|██████████████████████████████████████████████████████████| 313/313 [00:25<00:00, 12.21it/s, loss=0.4263]\n",
      "Epoch 23 | Training loss: 0.4263, validation accuracy: 0.8368, validation loss: 0.5099\n",
      "100%|██████████████████████████████████████████████████████████| 313/313 [00:25<00:00, 12.21it/s, loss=0.4202]\n",
      "Epoch 24 | Training loss: 0.4202, validation accuracy: 0.8513, validation loss: 0.4617\n",
      "100%|██████████████████████████████████████████████████████████| 313/313 [00:25<00:00, 12.22it/s, loss=0.3957]\n",
      "Epoch 25 | Training loss: 0.3957, validation accuracy: 0.8384, validation loss: 0.4992\n",
      "100%|██████████████████████████████████████████████████████████| 313/313 [00:25<00:00, 12.20it/s, loss=0.3836]\n",
      "Epoch 26 | Training loss: 0.3836, validation accuracy: 0.8444, validation loss: 0.5000\n",
      "100%|██████████████████████████████████████████████████████████| 313/313 [00:25<00:00, 12.21it/s, loss=0.3712]\n",
      "Epoch 27 | Training loss: 0.3712, validation accuracy: 0.8546, validation loss: 0.4679\n",
      "100%|██████████████████████████████████████████████████████████| 313/313 [00:25<00:00, 12.21it/s, loss=0.3541]\n",
      "Epoch 28 | Training loss: 0.3541, validation accuracy: 0.8529, validation loss: 0.4554\n",
      "100%|██████████████████████████████████████████████████████████| 313/313 [00:25<00:00, 12.21it/s, loss=0.3382]\n",
      "Epoch 29 | Training loss: 0.3382, validation accuracy: 0.8441, validation loss: 0.4896\n",
      "100%|██████████████████████████████████████████████████████████| 313/313 [00:25<00:00, 12.22it/s, loss=0.3205]\n",
      "Epoch 30 | Training loss: 0.3205, validation accuracy: 0.8499, validation loss: 0.4788\n",
      "100%|██████████████████████████████████████████████████████████| 313/313 [00:25<00:00, 12.22it/s, loss=0.3141]\n",
      "Epoch 31 | Training loss: 0.3141, validation accuracy: 0.8544, validation loss: 0.4697\n",
      "100%|██████████████████████████████████████████████████████████| 313/313 [00:25<00:00, 12.21it/s, loss=0.2976]\n",
      "Epoch 32 | Training loss: 0.2976, validation accuracy: 0.8509, validation loss: 0.4703\n",
      "100%|██████████████████████████████████████████████████████████| 313/313 [00:25<00:00, 12.22it/s, loss=0.2928]\n",
      "Epoch 33 | Training loss: 0.2928, validation accuracy: 0.8468, validation loss: 0.4979\n",
      "100%|██████████████████████████████████████████████████████████| 313/313 [00:25<00:00, 12.20it/s, loss=0.2860]\n",
      "Epoch 34 | Training loss: 0.2860, validation accuracy: 0.8588, validation loss: 0.4651\n",
      "100%|██████████████████████████████████████████████████████████| 313/313 [00:25<00:00, 12.21it/s, loss=0.2659]\n",
      "Epoch 35 | Training loss: 0.2659, validation accuracy: 0.8541, validation loss: 0.4590\n",
      "100%|██████████████████████████████████████████████████████████| 313/313 [00:25<00:00, 12.22it/s, loss=0.2558]\n",
      "Epoch 36 | Training loss: 0.2558, validation accuracy: 0.8532, validation loss: 0.4758\n",
      "100%|██████████████████████████████████████████████████████████| 313/313 [00:25<00:00, 12.22it/s, loss=0.2508]\n",
      "Epoch 37 | Training loss: 0.2508, validation accuracy: 0.8609, validation loss: 0.4504\n",
      "100%|██████████████████████████████████████████████████████████| 313/313 [00:25<00:00, 12.21it/s, loss=0.2480]\n",
      "Epoch 38 | Training loss: 0.2480, validation accuracy: 0.8556, validation loss: 0.4641\n",
      "100%|██████████████████████████████████████████████████████████| 313/313 [00:25<00:00, 12.21it/s, loss=0.2309]\n",
      "Epoch 39 | Training loss: 0.2309, validation accuracy: 0.8494, validation loss: 0.5013\n",
      "100%|██████████████████████████████████████████████████████████| 313/313 [00:25<00:00, 12.21it/s, loss=0.2262]\n",
      "Epoch 40 | Training loss: 0.2262, validation accuracy: 0.8562, validation loss: 0.4760\n",
      "100%|██████████████████████████████████████████████████████████| 313/313 [00:25<00:00, 12.21it/s, loss=0.2206]\n",
      "Epoch 41 | Training loss: 0.2206, validation accuracy: 0.8541, validation loss: 0.5335\n",
      "100%|██████████████████████████████████████████████████████████| 313/313 [00:25<00:00, 12.24it/s, loss=0.2132]\n",
      "Epoch 42 | Training loss: 0.2132, validation accuracy: 0.8631, validation loss: 0.4736\n",
      "100%|██████████████████████████████████████████████████████████| 313/313 [00:25<00:00, 12.21it/s, loss=0.1963]\n",
      "Epoch 43 | Training loss: 0.1963, validation accuracy: 0.8524, validation loss: 0.5330\n",
      "100%|██████████████████████████████████████████████████████████| 313/313 [00:25<00:00, 12.21it/s, loss=0.1995]\n",
      "Epoch 44 | Training loss: 0.1995, validation accuracy: 0.8590, validation loss: 0.4661\n",
      "100%|██████████████████████████████████████████████████████████| 313/313 [00:25<00:00, 12.20it/s, loss=0.1860]\n",
      "Epoch 45 | Training loss: 0.1860, validation accuracy: 0.8592, validation loss: 0.5085\n"
     ]
    }
   ],
   "source": [
    "torch.manual_seed(2020)\n",
    "epochs = 45\n",
    "\n",
    "for epoch in range(epochs):\n",
    "    train_loss = trainer.train_epoch(model, optimizer, dl[\"train\"])\n",
    "    optimizer.finish_epoch()\n",
    "    val_acc, val_loss = trainer.validation(model, dl[\"valid\"])\n",
    "    logger.log(\"Epoch\", epoch+1, \"|\", \n",
    "          f\"Training loss: {train_loss:.4f}, validation accuracy: {val_acc:.4f}, validation loss: {val_loss:.4f}\")"
   ]
  },
  {
   "cell_type": "code",
   "execution_count": 55,
   "id": "951bc8aa-740e-4b54-8877-b976bfc82b57",
   "metadata": {},
   "outputs": [
    {
     "name": "stdout",
     "output_type": "stream",
     "text": [
      "Train: (0.9398, 0.18006726288795472)\n",
      "Valid: (0.8592, 0.5084918577194214)\n"
     ]
    }
   ],
   "source": [
    "train_score = trainer.validation(model, dl[\"train\"])\n",
    "valid_score = trainer.validation(model, dl[\"valid\"])\n",
    "logger.log(\"Train:\", train_score)\n",
    "logger.log(\"Valid:\", valid_score)"
   ]
  },
  {
   "cell_type": "code",
   "execution_count": 56,
   "id": "4395df4d-abb8-4c65-8cfd-f30ee2186940",
   "metadata": {},
   "outputs": [
    {
     "name": "stdout",
     "output_type": "stream",
     "text": [
      "RNA\n"
     ]
    }
   ],
   "source": [
    "optimizer.param_groups[0][\"method\"] = \"RNA\"\n",
    "logger.log(\"RNA\")\n",
    "model_acc = deepcopy(model)\n",
    "optimizer.accelerate()\n",
    "optimizer.store_parameters([model_acc.parameters()])"
   ]
  },
  {
   "cell_type": "code",
   "execution_count": 57,
   "id": "3467fc5a-bd45-4a98-aa64-9dd1374e4668",
   "metadata": {
    "tags": []
   },
   "outputs": [
    {
     "name": "stdout",
     "output_type": "stream",
     "text": [
      "Train: (0.870825, 0.4372392312049866)\n",
      "Valid: (0.8403, 0.49424679012298584)\n"
     ]
    }
   ],
   "source": [
    "model_acc.to(trainer.device)\n",
    "train_score = trainer.validation(model_acc, dl[\"train\"])\n",
    "valid_score = trainer.validation(model_acc, dl[\"valid\"])\n",
    "logger.log(\"Train:\", train_score)\n",
    "logger.log(\"Valid:\", valid_score)"
   ]
  },
  {
   "cell_type": "code",
   "execution_count": 58,
   "id": "6fe972d3-88a3-4220-b7b9-b2633a4041ee",
   "metadata": {},
   "outputs": [
    {
     "name": "stdout",
     "output_type": "stream",
     "text": [
      "RRE\n"
     ]
    }
   ],
   "source": [
    "optimizer.param_groups[0][\"method\"] = \"RRE\"\n",
    "logger.log(\"RRE\")\n",
    "model_acc = deepcopy(model)\n",
    "optimizer.accelerate()\n",
    "optimizer.store_parameters([model_acc.parameters()])"
   ]
  },
  {
   "cell_type": "code",
   "execution_count": 59,
   "id": "93b721c3-19d8-4962-a8e7-6d6b5e4e1161",
   "metadata": {
    "tags": []
   },
   "outputs": [
    {
     "name": "stdout",
     "output_type": "stream",
     "text": [
      "Train: (0.8686, 0.44026174283027647)\n",
      "Valid: (0.8394, 0.49633121128082275)\n"
     ]
    }
   ],
   "source": [
    "model_acc.to(trainer.device)\n",
    "train_score = trainer.validation(model_acc, dl[\"train\"])\n",
    "valid_score = trainer.validation(model_acc, dl[\"valid\"])\n",
    "logger.log(\"Train:\", train_score)\n",
    "logger.log(\"Valid:\", valid_score)"
   ]
  },
  {
   "cell_type": "code",
   "execution_count": 60,
   "id": "2b3b041e-1549-4d6d-9ba4-349b27e6ec19",
   "metadata": {},
   "outputs": [],
   "source": [
    "optimizer.param_groups[0][\"lr\"] = 1e-3"
   ]
  },
  {
   "cell_type": "code",
   "execution_count": 61,
   "id": "eb031f08-c430-42ac-9566-6227e5868ed7",
   "metadata": {},
   "outputs": [
    {
     "name": "stdout",
     "output_type": "stream",
     "text": [
      "100%|██████████████████████████████████████████████████████████| 313/313 [00:25<00:00, 12.21it/s, loss=0.1113]\n",
      "Epoch 1 | Training loss: 0.1113, validation accuracy: 0.8738, validation loss: 0.4672\n",
      "100%|██████████████████████████████████████████████████████████| 313/313 [00:25<00:00, 12.20it/s, loss=0.0892]\n",
      "Epoch 2 | Training loss: 0.0892, validation accuracy: 0.8735, validation loss: 0.4936\n",
      "100%|██████████████████████████████████████████████████████████| 313/313 [00:25<00:00, 12.20it/s, loss=0.0860]\n",
      "Epoch 3 | Training loss: 0.0860, validation accuracy: 0.8764, validation loss: 0.4866\n",
      "100%|██████████████████████████████████████████████████████████| 313/313 [00:25<00:00, 12.18it/s, loss=0.0757]\n",
      "Epoch 4 | Training loss: 0.0757, validation accuracy: 0.8763, validation loss: 0.4989\n",
      "100%|██████████████████████████████████████████████████████████| 313/313 [00:25<00:00, 12.19it/s, loss=0.0749]\n",
      "Epoch 5 | Training loss: 0.0749, validation accuracy: 0.8774, validation loss: 0.4930\n",
      "100%|██████████████████████████████████████████████████████████| 313/313 [00:25<00:00, 12.14it/s, loss=0.0701]\n",
      "Epoch 6 | Training loss: 0.0701, validation accuracy: 0.8784, validation loss: 0.5114\n",
      "100%|██████████████████████████████████████████████████████████| 313/313 [00:25<00:00, 12.19it/s, loss=0.0701]\n",
      "Epoch 7 | Training loss: 0.0701, validation accuracy: 0.8777, validation loss: 0.5132\n",
      "100%|██████████████████████████████████████████████████████████| 313/313 [00:25<00:00, 12.17it/s, loss=0.0698]\n",
      "Epoch 8 | Training loss: 0.0698, validation accuracy: 0.8759, validation loss: 0.5164\n",
      "100%|██████████████████████████████████████████████████████████| 313/313 [00:25<00:00, 12.20it/s, loss=0.0681]\n",
      "Epoch 9 | Training loss: 0.0681, validation accuracy: 0.8776, validation loss: 0.5129\n",
      "100%|██████████████████████████████████████████████████████████| 313/313 [00:25<00:00, 12.19it/s, loss=0.0624]\n",
      "Epoch 10 | Training loss: 0.0624, validation accuracy: 0.8774, validation loss: 0.5340\n",
      "100%|██████████████████████████████████████████████████████████| 313/313 [00:25<00:00, 12.18it/s, loss=0.0581]\n",
      "Epoch 11 | Training loss: 0.0581, validation accuracy: 0.8742, validation loss: 0.5311\n",
      "100%|██████████████████████████████████████████████████████████| 313/313 [00:25<00:00, 12.18it/s, loss=0.0616]\n",
      "Epoch 12 | Training loss: 0.0616, validation accuracy: 0.8771, validation loss: 0.5227\n",
      "100%|██████████████████████████████████████████████████████████| 313/313 [00:25<00:00, 12.16it/s, loss=0.0581]\n",
      "Epoch 13 | Training loss: 0.0581, validation accuracy: 0.8767, validation loss: 0.5413\n",
      "100%|██████████████████████████████████████████████████████████| 313/313 [00:25<00:00, 12.17it/s, loss=0.0558]\n",
      "Epoch 14 | Training loss: 0.0558, validation accuracy: 0.8793, validation loss: 0.5353\n",
      "100%|██████████████████████████████████████████████████████████| 313/313 [00:25<00:00, 12.17it/s, loss=0.0564]\n",
      "Epoch 15 | Training loss: 0.0564, validation accuracy: 0.8792, validation loss: 0.5412\n",
      "100%|██████████████████████████████████████████████████████████| 313/313 [00:25<00:00, 12.16it/s, loss=0.0543]\n",
      "Epoch 16 | Training loss: 0.0543, validation accuracy: 0.8801, validation loss: 0.5429\n",
      "100%|██████████████████████████████████████████████████████████| 313/313 [00:25<00:00, 12.18it/s, loss=0.0558]\n",
      "Epoch 17 | Training loss: 0.0558, validation accuracy: 0.8772, validation loss: 0.5509\n",
      "100%|██████████████████████████████████████████████████████████| 313/313 [00:25<00:00, 12.19it/s, loss=0.0573]\n",
      "Epoch 18 | Training loss: 0.0573, validation accuracy: 0.8792, validation loss: 0.5419\n",
      "100%|██████████████████████████████████████████████████████████| 313/313 [00:25<00:00, 12.19it/s, loss=0.0522]\n",
      "Epoch 19 | Training loss: 0.0522, validation accuracy: 0.8782, validation loss: 0.5587\n",
      "100%|██████████████████████████████████████████████████████████| 313/313 [00:25<00:00, 12.17it/s, loss=0.0521]\n",
      "Epoch 20 | Training loss: 0.0521, validation accuracy: 0.8786, validation loss: 0.5551\n",
      "100%|██████████████████████████████████████████████████████████| 313/313 [00:25<00:00, 12.16it/s, loss=0.0506]\n",
      "Epoch 21 | Training loss: 0.0506, validation accuracy: 0.8771, validation loss: 0.5653\n",
      "100%|██████████████████████████████████████████████████████████| 313/313 [00:25<00:00, 12.16it/s, loss=0.0501]\n",
      "Epoch 22 | Training loss: 0.0501, validation accuracy: 0.8792, validation loss: 0.5592\n",
      "100%|██████████████████████████████████████████████████████████| 313/313 [00:25<00:00, 12.16it/s, loss=0.0492]\n",
      "Epoch 23 | Training loss: 0.0492, validation accuracy: 0.8770, validation loss: 0.5695\n",
      "100%|██████████████████████████████████████████████████████████| 313/313 [00:25<00:00, 12.15it/s, loss=0.0491]\n",
      "Epoch 24 | Training loss: 0.0491, validation accuracy: 0.8770, validation loss: 0.5694\n",
      "100%|██████████████████████████████████████████████████████████| 313/313 [00:25<00:00, 12.16it/s, loss=0.0507]\n",
      "Epoch 25 | Training loss: 0.0507, validation accuracy: 0.8751, validation loss: 0.5693\n",
      "100%|██████████████████████████████████████████████████████████| 313/313 [00:25<00:00, 12.18it/s, loss=0.0462]\n",
      "Epoch 26 | Training loss: 0.0462, validation accuracy: 0.8769, validation loss: 0.5656\n",
      "100%|██████████████████████████████████████████████████████████| 313/313 [00:25<00:00, 12.17it/s, loss=0.0432]\n",
      "Epoch 27 | Training loss: 0.0432, validation accuracy: 0.8794, validation loss: 0.5719\n",
      "100%|██████████████████████████████████████████████████████████| 313/313 [00:25<00:00, 12.16it/s, loss=0.0449]\n",
      "Epoch 28 | Training loss: 0.0449, validation accuracy: 0.8787, validation loss: 0.5748\n",
      "100%|██████████████████████████████████████████████████████████| 313/313 [00:25<00:00, 12.16it/s, loss=0.0435]\n",
      "Epoch 29 | Training loss: 0.0435, validation accuracy: 0.8792, validation loss: 0.5731\n",
      "100%|██████████████████████████████████████████████████████████| 313/313 [00:25<00:00, 12.14it/s, loss=0.0473]\n",
      "Epoch 30 | Training loss: 0.0473, validation accuracy: 0.8761, validation loss: 0.5806\n"
     ]
    }
   ],
   "source": [
    "epochs = 30\n",
    "\n",
    "for epoch in range(epochs):\n",
    "    train_loss = trainer.train_epoch(model, optimizer, dl[\"train\"])\n",
    "    optimizer.finish_epoch()\n",
    "    val_acc, val_loss = trainer.validation(model, dl[\"valid\"])\n",
    "    logger.log(\"Epoch\", epoch+1, \"|\", \n",
    "          f\"Training loss: {train_loss:.4f}, validation accuracy: {val_acc:.4f}, validation loss: {val_loss:.4f}\")"
   ]
  },
  {
   "cell_type": "code",
   "execution_count": 62,
   "id": "36def2de-e7e4-4d56-8a5b-7e67411a28a5",
   "metadata": {},
   "outputs": [
    {
     "name": "stdout",
     "output_type": "stream",
     "text": [
      "Train: (0.98535, 0.042094461554288864)\n",
      "Valid: (0.8761, 0.580595885848999)\n"
     ]
    }
   ],
   "source": [
    "train_score = trainer.validation(model, dl[\"train\"])\n",
    "valid_score = trainer.validation(model, dl[\"valid\"])\n",
    "logger.log(\"Train:\", train_score)\n",
    "logger.log(\"Valid:\", valid_score)"
   ]
  },
  {
   "cell_type": "code",
   "execution_count": 63,
   "id": "d823203b-514b-44dd-845a-c1d7a4fbd9e1",
   "metadata": {},
   "outputs": [
    {
     "name": "stdout",
     "output_type": "stream",
     "text": [
      "RNA\n"
     ]
    }
   ],
   "source": [
    "optimizer.param_groups[0][\"method\"] = \"RNA\"\n",
    "logger.log(\"RNA\")\n",
    "model_acc = deepcopy(model)\n",
    "optimizer.accelerate()\n",
    "optimizer.store_parameters([model_acc.parameters()])"
   ]
  },
  {
   "cell_type": "code",
   "execution_count": 64,
   "id": "e1c6e2f2-a0f2-4805-ba29-28f06f5e9d98",
   "metadata": {
    "tags": []
   },
   "outputs": [
    {
     "name": "stdout",
     "output_type": "stream",
     "text": [
      "Train: (0.967075, 0.10842742094993592)\n",
      "Valid: (0.8777, 0.3873641902923584)\n"
     ]
    }
   ],
   "source": [
    "model_acc.to(trainer.device)\n",
    "train_score = trainer.validation(model_acc, dl[\"train\"])\n",
    "valid_score = trainer.validation(model_acc, dl[\"valid\"])\n",
    "logger.log(\"Train:\", train_score)\n",
    "logger.log(\"Valid:\", valid_score)"
   ]
  },
  {
   "cell_type": "code",
   "execution_count": 65,
   "id": "075b2795-35d4-4040-b48f-1407e1e92f6d",
   "metadata": {},
   "outputs": [
    {
     "name": "stdout",
     "output_type": "stream",
     "text": [
      "RRE\n"
     ]
    }
   ],
   "source": [
    "optimizer.param_groups[0][\"method\"] = \"RRE\"\n",
    "logger.log(\"RRE\")\n",
    "model_acc = deepcopy(model)\n",
    "optimizer.accelerate()\n",
    "optimizer.store_parameters([model_acc.parameters()])"
   ]
  },
  {
   "cell_type": "code",
   "execution_count": 66,
   "id": "c8ee19c9-7003-4686-b365-2b8b45bae051",
   "metadata": {
    "tags": []
   },
   "outputs": [
    {
     "name": "stdout",
     "output_type": "stream",
     "text": [
      "Train: (0.970325, 0.09669469264149666)\n",
      "Valid: (0.8786, 0.3929103065490723)\n"
     ]
    }
   ],
   "source": [
    "model_acc.to(trainer.device)\n",
    "train_score = trainer.validation(model_acc, dl[\"train\"])\n",
    "valid_score = trainer.validation(model_acc, dl[\"valid\"])\n",
    "logger.log(\"Train:\", train_score)\n",
    "logger.log(\"Valid:\", valid_score)"
   ]
  },
  {
   "cell_type": "markdown",
   "id": "d209400d-da0d-4e21-a8b4-eee23415adcd",
   "metadata": {},
   "source": [
    "## Epoch average, span = 100"
   ]
  },
  {
   "cell_type": "code",
   "execution_count": 67,
   "id": "081f748b-8d33-4701-a5b2-f30ff570a031",
   "metadata": {},
   "outputs": [
    {
     "data": {
      "text/plain": [
       "VGG(\n",
       "  (features): Sequential(\n",
       "    (0): Conv2d(3, 64, kernel_size=(3, 3), stride=(1, 1), padding=(1, 1))\n",
       "    (1): ReLU(inplace=True)\n",
       "    (2): Conv2d(64, 64, kernel_size=(3, 3), stride=(1, 1), padding=(1, 1))\n",
       "    (3): ReLU(inplace=True)\n",
       "    (4): MaxPool2d(kernel_size=2, stride=2, padding=0, dilation=1, ceil_mode=False)\n",
       "    (5): Conv2d(64, 128, kernel_size=(3, 3), stride=(1, 1), padding=(1, 1))\n",
       "    (6): ReLU(inplace=True)\n",
       "    (7): Conv2d(128, 128, kernel_size=(3, 3), stride=(1, 1), padding=(1, 1))\n",
       "    (8): ReLU(inplace=True)\n",
       "    (9): MaxPool2d(kernel_size=2, stride=2, padding=0, dilation=1, ceil_mode=False)\n",
       "    (10): Conv2d(128, 256, kernel_size=(3, 3), stride=(1, 1), padding=(1, 1))\n",
       "    (11): ReLU(inplace=True)\n",
       "    (12): Conv2d(256, 256, kernel_size=(3, 3), stride=(1, 1), padding=(1, 1))\n",
       "    (13): ReLU(inplace=True)\n",
       "    (14): Conv2d(256, 256, kernel_size=(3, 3), stride=(1, 1), padding=(1, 1))\n",
       "    (15): ReLU(inplace=True)\n",
       "    (16): MaxPool2d(kernel_size=2, stride=2, padding=0, dilation=1, ceil_mode=False)\n",
       "    (17): Conv2d(256, 512, kernel_size=(3, 3), stride=(1, 1), padding=(1, 1))\n",
       "    (18): ReLU(inplace=True)\n",
       "    (19): Conv2d(512, 512, kernel_size=(3, 3), stride=(1, 1), padding=(1, 1))\n",
       "    (20): ReLU(inplace=True)\n",
       "    (21): Conv2d(512, 512, kernel_size=(3, 3), stride=(1, 1), padding=(1, 1))\n",
       "    (22): ReLU(inplace=True)\n",
       "    (23): MaxPool2d(kernel_size=2, stride=2, padding=0, dilation=1, ceil_mode=False)\n",
       "    (24): Conv2d(512, 512, kernel_size=(3, 3), stride=(1, 1), padding=(1, 1))\n",
       "    (25): ReLU(inplace=True)\n",
       "    (26): Conv2d(512, 512, kernel_size=(3, 3), stride=(1, 1), padding=(1, 1))\n",
       "    (27): ReLU(inplace=True)\n",
       "    (28): Conv2d(512, 512, kernel_size=(3, 3), stride=(1, 1), padding=(1, 1))\n",
       "    (29): ReLU(inplace=True)\n",
       "    (30): MaxPool2d(kernel_size=2, stride=2, padding=0, dilation=1, ceil_mode=False)\n",
       "  )\n",
       "  (avgpool): AdaptiveAvgPool2d(output_size=(7, 7))\n",
       "  (classifier): Sequential(\n",
       "    (0): Linear(in_features=25088, out_features=4096, bias=True)\n",
       "    (1): ReLU(inplace=True)\n",
       "    (2): Dropout(p=0.5, inplace=False)\n",
       "    (3): Linear(in_features=4096, out_features=4096, bias=True)\n",
       "    (4): ReLU(inplace=True)\n",
       "    (5): Dropout(p=0.5, inplace=False)\n",
       "    (6): Linear(in_features=4096, out_features=10, bias=True)\n",
       "    (7): LogSoftmax(dim=-1)\n",
       "  )\n",
       ")"
      ]
     },
     "execution_count": 67,
     "metadata": {},
     "output_type": "execute_result"
    }
   ],
   "source": [
    "model.load_state_dict(initial_state)\n",
    "model.to(trainer.device)"
   ]
  },
  {
   "cell_type": "code",
   "execution_count": 68,
   "id": "7c20e30e-facd-4d87-b423-25cd4e7f3da5",
   "metadata": {},
   "outputs": [],
   "source": [
    "optimizer = AcceleratedSGD(model.parameters(), 1e-2, k=10, momentum=0.9, weight_decay=1e-5, lambda_=1e-8, \n",
    "                           mode=\"epoch_avg\", avg_alpha=2 / (100 + 1))\n",
    "logger = Logger(\"vgg_log_augmentation_span100.txt.no_resizing\")"
   ]
  },
  {
   "cell_type": "code",
   "execution_count": 69,
   "id": "75c25d49-e093-4186-a714-5724df7f3d9d",
   "metadata": {},
   "outputs": [
    {
     "name": "stdout",
     "output_type": "stream",
     "text": [
      "100%|██████████████████████████████████████████████████████████| 313/313 [00:25<00:00, 12.28it/s, loss=2.0947]\n",
      "Epoch 1 | Training loss: 2.0947, validation accuracy: 0.2766, validation loss: 1.8416\n",
      "100%|██████████████████████████████████████████████████████████| 313/313 [00:25<00:00, 12.24it/s, loss=1.7715]\n",
      "Epoch 2 | Training loss: 1.7715, validation accuracy: 0.4127, validation loss: 1.5381\n",
      "100%|██████████████████████████████████████████████████████████| 313/313 [00:25<00:00, 12.21it/s, loss=1.5534]\n",
      "Epoch 3 | Training loss: 1.5534, validation accuracy: 0.4561, validation loss: 1.4414\n",
      "100%|██████████████████████████████████████████████████████████| 313/313 [00:25<00:00, 12.22it/s, loss=1.3651]\n",
      "Epoch 4 | Training loss: 1.3651, validation accuracy: 0.5594, validation loss: 1.2247\n",
      "100%|██████████████████████████████████████████████████████████| 313/313 [00:25<00:00, 12.23it/s, loss=1.2241]\n",
      "Epoch 5 | Training loss: 1.2241, validation accuracy: 0.5989, validation loss: 1.0845\n",
      "100%|██████████████████████████████████████████████████████████| 313/313 [00:25<00:00, 12.23it/s, loss=1.1002]\n",
      "Epoch 6 | Training loss: 1.1002, validation accuracy: 0.6256, validation loss: 1.0318\n",
      "100%|██████████████████████████████████████████████████████████| 313/313 [00:25<00:00, 12.21it/s, loss=1.0193]\n",
      "Epoch 7 | Training loss: 1.0193, validation accuracy: 0.6780, validation loss: 0.9103\n",
      "100%|██████████████████████████████████████████████████████████| 313/313 [00:25<00:00, 12.22it/s, loss=0.9226]\n",
      "Epoch 8 | Training loss: 0.9226, validation accuracy: 0.7160, validation loss: 0.8073\n",
      "100%|██████████████████████████████████████████████████████████| 313/313 [00:25<00:00, 12.23it/s, loss=0.8755]\n",
      "Epoch 9 | Training loss: 0.8755, validation accuracy: 0.7302, validation loss: 0.7925\n",
      "100%|██████████████████████████████████████████████████████████| 313/313 [00:25<00:00, 12.23it/s, loss=0.8055]\n",
      "Epoch 10 | Training loss: 0.8055, validation accuracy: 0.7292, validation loss: 0.7594\n",
      "100%|██████████████████████████████████████████████████████████| 313/313 [00:25<00:00, 12.20it/s, loss=0.7793]\n",
      "Epoch 11 | Training loss: 0.7793, validation accuracy: 0.7664, validation loss: 0.6876\n",
      "100%|██████████████████████████████████████████████████████████| 313/313 [00:25<00:00, 12.21it/s, loss=0.7105]\n",
      "Epoch 12 | Training loss: 0.7105, validation accuracy: 0.7890, validation loss: 0.6159\n",
      "100%|██████████████████████████████████████████████████████████| 313/313 [00:25<00:00, 12.22it/s, loss=0.6824]\n",
      "Epoch 13 | Training loss: 0.6824, validation accuracy: 0.7903, validation loss: 0.6102\n",
      "100%|██████████████████████████████████████████████████████████| 313/313 [00:25<00:00, 12.21it/s, loss=0.6540]\n",
      "Epoch 14 | Training loss: 0.6540, validation accuracy: 0.7971, validation loss: 0.6013\n",
      "100%|██████████████████████████████████████████████████████████| 313/313 [00:25<00:00, 12.23it/s, loss=0.6118]\n",
      "Epoch 15 | Training loss: 0.6118, validation accuracy: 0.8071, validation loss: 0.5740\n",
      "100%|██████████████████████████████████████████████████████████| 313/313 [00:25<00:00, 12.21it/s, loss=0.5873]\n",
      "Epoch 16 | Training loss: 0.5873, validation accuracy: 0.8121, validation loss: 0.5616\n",
      "100%|██████████████████████████████████████████████████████████| 313/313 [00:25<00:00, 12.21it/s, loss=0.5568]\n",
      "Epoch 17 | Training loss: 0.5568, validation accuracy: 0.8228, validation loss: 0.5376\n",
      "100%|██████████████████████████████████████████████████████████| 313/313 [00:25<00:00, 12.19it/s, loss=0.5251]\n",
      "Epoch 18 | Training loss: 0.5251, validation accuracy: 0.8143, validation loss: 0.5618\n",
      "100%|██████████████████████████████████████████████████████████| 313/313 [00:25<00:00, 12.21it/s, loss=0.5114]\n",
      "Epoch 19 | Training loss: 0.5114, validation accuracy: 0.8362, validation loss: 0.4906\n",
      "100%|██████████████████████████████████████████████████████████| 313/313 [00:25<00:00, 12.20it/s, loss=0.5028]\n",
      "Epoch 20 | Training loss: 0.5028, validation accuracy: 0.8275, validation loss: 0.5110\n",
      "100%|██████████████████████████████████████████████████████████| 313/313 [00:25<00:00, 12.20it/s, loss=0.4628]\n",
      "Epoch 21 | Training loss: 0.4628, validation accuracy: 0.8295, validation loss: 0.5336\n",
      "100%|██████████████████████████████████████████████████████████| 313/313 [00:25<00:00, 12.20it/s, loss=0.4499]\n",
      "Epoch 22 | Training loss: 0.4499, validation accuracy: 0.8333, validation loss: 0.5234\n",
      "100%|██████████████████████████████████████████████████████████| 313/313 [00:25<00:00, 12.19it/s, loss=0.4335]\n",
      "Epoch 23 | Training loss: 0.4335, validation accuracy: 0.8299, validation loss: 0.5299\n",
      "100%|██████████████████████████████████████████████████████████| 313/313 [00:25<00:00, 12.21it/s, loss=0.4155]\n",
      "Epoch 24 | Training loss: 0.4155, validation accuracy: 0.8471, validation loss: 0.4703\n",
      "100%|██████████████████████████████████████████████████████████| 313/313 [00:25<00:00, 12.20it/s, loss=0.3959]\n",
      "Epoch 25 | Training loss: 0.3959, validation accuracy: 0.8343, validation loss: 0.5084\n",
      "100%|██████████████████████████████████████████████████████████| 313/313 [00:25<00:00, 12.24it/s, loss=0.3809]\n",
      "Epoch 26 | Training loss: 0.3809, validation accuracy: 0.8387, validation loss: 0.5176\n",
      "100%|██████████████████████████████████████████████████████████| 313/313 [00:25<00:00, 12.20it/s, loss=0.3642]\n",
      "Epoch 27 | Training loss: 0.3642, validation accuracy: 0.8447, validation loss: 0.5075\n",
      "100%|██████████████████████████████████████████████████████████| 313/313 [00:25<00:00, 12.22it/s, loss=0.3509]\n",
      "Epoch 28 | Training loss: 0.3509, validation accuracy: 0.8438, validation loss: 0.5035\n",
      "100%|██████████████████████████████████████████████████████████| 313/313 [00:25<00:00, 12.21it/s, loss=0.3389]\n",
      "Epoch 29 | Training loss: 0.3389, validation accuracy: 0.8348, validation loss: 0.5368\n",
      "100%|██████████████████████████████████████████████████████████| 313/313 [00:25<00:00, 12.22it/s, loss=0.3289]\n",
      "Epoch 30 | Training loss: 0.3289, validation accuracy: 0.8485, validation loss: 0.4740\n",
      "100%|██████████████████████████████████████████████████████████| 313/313 [00:25<00:00, 12.22it/s, loss=0.3195]\n",
      "Epoch 31 | Training loss: 0.3195, validation accuracy: 0.8455, validation loss: 0.4820\n",
      "100%|██████████████████████████████████████████████████████████| 313/313 [00:25<00:00, 12.20it/s, loss=0.2972]\n",
      "Epoch 32 | Training loss: 0.2972, validation accuracy: 0.8423, validation loss: 0.5643\n",
      "100%|██████████████████████████████████████████████████████████| 313/313 [00:25<00:00, 12.19it/s, loss=0.2891]\n",
      "Epoch 33 | Training loss: 0.2891, validation accuracy: 0.8584, validation loss: 0.4737\n",
      "100%|██████████████████████████████████████████████████████████| 313/313 [00:25<00:00, 12.21it/s, loss=0.2812]\n",
      "Epoch 34 | Training loss: 0.2812, validation accuracy: 0.8460, validation loss: 0.5035\n",
      "100%|██████████████████████████████████████████████████████████| 313/313 [00:25<00:00, 12.22it/s, loss=0.2718]\n",
      "Epoch 35 | Training loss: 0.2718, validation accuracy: 0.8584, validation loss: 0.4690\n",
      "100%|██████████████████████████████████████████████████████████| 313/313 [00:25<00:00, 12.20it/s, loss=0.2603]\n",
      "Epoch 36 | Training loss: 0.2603, validation accuracy: 0.8540, validation loss: 0.4828\n",
      "100%|██████████████████████████████████████████████████████████| 313/313 [00:25<00:00, 12.22it/s, loss=0.2463]\n",
      "Epoch 37 | Training loss: 0.2463, validation accuracy: 0.8515, validation loss: 0.4874\n",
      "100%|██████████████████████████████████████████████████████████| 313/313 [00:25<00:00, 12.18it/s, loss=0.2439]\n",
      "Epoch 38 | Training loss: 0.2439, validation accuracy: 0.8540, validation loss: 0.4999\n",
      "100%|██████████████████████████████████████████████████████████| 313/313 [00:25<00:00, 12.20it/s, loss=0.2198]\n",
      "Epoch 39 | Training loss: 0.2198, validation accuracy: 0.8512, validation loss: 0.5190\n",
      "100%|██████████████████████████████████████████████████████████| 313/313 [00:25<00:00, 12.24it/s, loss=0.2267]\n",
      "Epoch 40 | Training loss: 0.2267, validation accuracy: 0.8569, validation loss: 0.4802\n",
      "100%|██████████████████████████████████████████████████████████| 313/313 [00:25<00:00, 12.21it/s, loss=0.2177]\n",
      "Epoch 41 | Training loss: 0.2177, validation accuracy: 0.8545, validation loss: 0.4765\n",
      "100%|██████████████████████████████████████████████████████████| 313/313 [00:25<00:00, 12.21it/s, loss=0.2067]\n",
      "Epoch 42 | Training loss: 0.2067, validation accuracy: 0.8531, validation loss: 0.4737\n",
      "100%|██████████████████████████████████████████████████████████| 313/313 [00:25<00:00, 12.17it/s, loss=0.1948]\n",
      "Epoch 43 | Training loss: 0.1948, validation accuracy: 0.8641, validation loss: 0.4837\n",
      "100%|██████████████████████████████████████████████████████████| 313/313 [00:25<00:00, 12.20it/s, loss=0.1979]\n",
      "Epoch 44 | Training loss: 0.1979, validation accuracy: 0.8647, validation loss: 0.4795\n",
      "100%|██████████████████████████████████████████████████████████| 313/313 [00:25<00:00, 12.22it/s, loss=0.1918]\n",
      "Epoch 45 | Training loss: 0.1918, validation accuracy: 0.8476, validation loss: 0.5474\n"
     ]
    }
   ],
   "source": [
    "torch.manual_seed(2020)\n",
    "epochs = 45\n",
    "\n",
    "for epoch in range(epochs):\n",
    "    train_loss = trainer.train_epoch(model, optimizer, dl[\"train\"])\n",
    "    optimizer.finish_epoch()\n",
    "    val_acc, val_loss = trainer.validation(model, dl[\"valid\"])\n",
    "    logger.log(\"Epoch\", epoch+1, \"|\", \n",
    "          f\"Training loss: {train_loss:.4f}, validation accuracy: {val_acc:.4f}, validation loss: {val_loss:.4f}\")"
   ]
  },
  {
   "cell_type": "code",
   "execution_count": 70,
   "id": "093dbd05-98cb-4edc-97f4-07d82a1b9866",
   "metadata": {},
   "outputs": [
    {
     "name": "stdout",
     "output_type": "stream",
     "text": [
      "Train: (0.93215, 0.20444189097881318)\n",
      "Valid: (0.8476, 0.5474414356231689)\n"
     ]
    }
   ],
   "source": [
    "train_score = trainer.validation(model, dl[\"train\"])\n",
    "valid_score = trainer.validation(model, dl[\"valid\"])\n",
    "logger.log(\"Train:\", train_score)\n",
    "logger.log(\"Valid:\", valid_score)"
   ]
  },
  {
   "cell_type": "code",
   "execution_count": 71,
   "id": "b9822cd1-5a0b-4780-9fca-f5fac5b9ca53",
   "metadata": {},
   "outputs": [
    {
     "name": "stdout",
     "output_type": "stream",
     "text": [
      "RNA\n"
     ]
    }
   ],
   "source": [
    "optimizer.param_groups[0][\"method\"] = \"RNA\"\n",
    "logger.log(\"RNA\")\n",
    "model_acc = deepcopy(model)\n",
    "optimizer.accelerate()\n",
    "optimizer.store_parameters([model_acc.parameters()])"
   ]
  },
  {
   "cell_type": "code",
   "execution_count": 72,
   "id": "703148c3-385b-46f0-931b-9f5692d7891e",
   "metadata": {
    "tags": []
   },
   "outputs": [
    {
     "name": "stdout",
     "output_type": "stream",
     "text": [
      "Train: (0.97335, 0.08969548756480217)\n",
      "Valid: (0.8815, 0.3939942355155945)\n"
     ]
    }
   ],
   "source": [
    "model_acc.to(trainer.device)\n",
    "train_score = trainer.validation(model_acc, dl[\"train\"])\n",
    "valid_score = trainer.validation(model_acc, dl[\"valid\"])\n",
    "logger.log(\"Train:\", train_score)\n",
    "logger.log(\"Valid:\", valid_score)"
   ]
  },
  {
   "cell_type": "code",
   "execution_count": 73,
   "id": "79275ea2-cdcc-4050-b0b4-03cf17eec3b9",
   "metadata": {},
   "outputs": [
    {
     "name": "stdout",
     "output_type": "stream",
     "text": [
      "RRE\n"
     ]
    }
   ],
   "source": [
    "optimizer.param_groups[0][\"method\"] = \"RRE\"\n",
    "logger.log(\"RRE\")\n",
    "model_acc = deepcopy(model)\n",
    "optimizer.accelerate()\n",
    "optimizer.store_parameters([model_acc.parameters()])"
   ]
  },
  {
   "cell_type": "code",
   "execution_count": 74,
   "id": "ac06e508-d4f7-4f5b-92cd-4d215b33cb4f",
   "metadata": {
    "tags": []
   },
   "outputs": [
    {
     "name": "stdout",
     "output_type": "stream",
     "text": [
      "Train: (0.9734, 0.08802065689563751)\n",
      "Valid: (0.8816, 0.393991511631012)\n"
     ]
    }
   ],
   "source": [
    "model_acc.to(trainer.device)\n",
    "train_score = trainer.validation(model_acc, dl[\"train\"])\n",
    "valid_score = trainer.validation(model_acc, dl[\"valid\"])\n",
    "logger.log(\"Train:\", train_score)\n",
    "logger.log(\"Valid:\", valid_score)"
   ]
  },
  {
   "cell_type": "code",
   "execution_count": 75,
   "id": "c94b5526-953d-42c9-a345-2ac2811c792e",
   "metadata": {},
   "outputs": [],
   "source": [
    "optimizer.param_groups[0][\"lr\"] = 1e-3"
   ]
  },
  {
   "cell_type": "code",
   "execution_count": 76,
   "id": "fb285aba-ce44-4432-8a2f-b2482a5eacc5",
   "metadata": {},
   "outputs": [
    {
     "name": "stdout",
     "output_type": "stream",
     "text": [
      "100%|██████████████████████████████████████████████████████████| 313/313 [00:25<00:00, 12.19it/s, loss=0.1113]\n",
      "Epoch 1 | Training loss: 0.1113, validation accuracy: 0.8754, validation loss: 0.4813\n",
      "100%|██████████████████████████████████████████████████████████| 313/313 [00:25<00:00, 12.19it/s, loss=0.0846]\n",
      "Epoch 2 | Training loss: 0.0846, validation accuracy: 0.8785, validation loss: 0.5058\n",
      "100%|██████████████████████████████████████████████████████████| 313/313 [00:25<00:00, 12.17it/s, loss=0.0803]\n",
      "Epoch 3 | Training loss: 0.0803, validation accuracy: 0.8799, validation loss: 0.4945\n",
      "100%|██████████████████████████████████████████████████████████| 313/313 [00:25<00:00, 12.21it/s, loss=0.0784]\n",
      "Epoch 4 | Training loss: 0.0784, validation accuracy: 0.8797, validation loss: 0.5098\n",
      "100%|██████████████████████████████████████████████████████████| 313/313 [00:25<00:00, 12.16it/s, loss=0.0735]\n",
      "Epoch 5 | Training loss: 0.0735, validation accuracy: 0.8792, validation loss: 0.4986\n",
      "100%|██████████████████████████████████████████████████████████| 313/313 [00:25<00:00, 12.14it/s, loss=0.0682]\n",
      "Epoch 6 | Training loss: 0.0682, validation accuracy: 0.8810, validation loss: 0.5082\n",
      "100%|██████████████████████████████████████████████████████████| 313/313 [00:25<00:00, 12.19it/s, loss=0.0676]\n",
      "Epoch 7 | Training loss: 0.0676, validation accuracy: 0.8808, validation loss: 0.5042\n",
      "100%|██████████████████████████████████████████████████████████| 313/313 [00:25<00:00, 12.19it/s, loss=0.0668]\n",
      "Epoch 8 | Training loss: 0.0668, validation accuracy: 0.8804, validation loss: 0.5109\n",
      "100%|██████████████████████████████████████████████████████████| 313/313 [00:25<00:00, 12.19it/s, loss=0.0645]\n",
      "Epoch 9 | Training loss: 0.0645, validation accuracy: 0.8814, validation loss: 0.5098\n",
      "100%|██████████████████████████████████████████████████████████| 313/313 [00:25<00:00, 12.18it/s, loss=0.0652]\n",
      "Epoch 10 | Training loss: 0.0652, validation accuracy: 0.8796, validation loss: 0.5166\n",
      "100%|██████████████████████████████████████████████████████████| 313/313 [00:25<00:00, 12.16it/s, loss=0.0620]\n",
      "Epoch 11 | Training loss: 0.0620, validation accuracy: 0.8801, validation loss: 0.5225\n",
      "100%|██████████████████████████████████████████████████████████| 313/313 [00:25<00:00, 12.17it/s, loss=0.0578]\n",
      "Epoch 12 | Training loss: 0.0578, validation accuracy: 0.8816, validation loss: 0.5222\n",
      "100%|██████████████████████████████████████████████████████████| 313/313 [00:25<00:00, 12.15it/s, loss=0.0568]\n",
      "Epoch 13 | Training loss: 0.0568, validation accuracy: 0.8784, validation loss: 0.5387\n",
      "100%|██████████████████████████████████████████████████████████| 313/313 [00:25<00:00, 12.18it/s, loss=0.0562]\n",
      "Epoch 14 | Training loss: 0.0562, validation accuracy: 0.8824, validation loss: 0.5327\n",
      "100%|██████████████████████████████████████████████████████████| 313/313 [00:25<00:00, 12.16it/s, loss=0.0587]\n",
      "Epoch 15 | Training loss: 0.0587, validation accuracy: 0.8804, validation loss: 0.5295\n",
      "100%|██████████████████████████████████████████████████████████| 313/313 [00:25<00:00, 12.19it/s, loss=0.0545]\n",
      "Epoch 16 | Training loss: 0.0545, validation accuracy: 0.8853, validation loss: 0.5321\n",
      "100%|██████████████████████████████████████████████████████████| 313/313 [00:25<00:00, 12.17it/s, loss=0.0533]\n",
      "Epoch 17 | Training loss: 0.0533, validation accuracy: 0.8796, validation loss: 0.5353\n",
      "100%|██████████████████████████████████████████████████████████| 313/313 [00:25<00:00, 12.16it/s, loss=0.0513]\n",
      "Epoch 18 | Training loss: 0.0513, validation accuracy: 0.8831, validation loss: 0.5454\n",
      "100%|██████████████████████████████████████████████████████████| 313/313 [00:25<00:00, 12.17it/s, loss=0.0524]\n",
      "Epoch 19 | Training loss: 0.0524, validation accuracy: 0.8807, validation loss: 0.5402\n",
      "100%|██████████████████████████████████████████████████████████| 313/313 [00:25<00:00, 12.17it/s, loss=0.0504]\n",
      "Epoch 20 | Training loss: 0.0504, validation accuracy: 0.8819, validation loss: 0.5405\n",
      "100%|██████████████████████████████████████████████████████████| 313/313 [00:25<00:00, 12.16it/s, loss=0.0479]\n",
      "Epoch 21 | Training loss: 0.0479, validation accuracy: 0.8794, validation loss: 0.5580\n",
      "100%|██████████████████████████████████████████████████████████| 313/313 [00:25<00:00, 12.19it/s, loss=0.0493]\n",
      "Epoch 22 | Training loss: 0.0493, validation accuracy: 0.8791, validation loss: 0.5560\n",
      "100%|██████████████████████████████████████████████████████████| 313/313 [00:25<00:00, 12.17it/s, loss=0.0476]\n",
      "Epoch 23 | Training loss: 0.0476, validation accuracy: 0.8811, validation loss: 0.5503\n",
      "100%|██████████████████████████████████████████████████████████| 313/313 [00:25<00:00, 12.17it/s, loss=0.0491]\n",
      "Epoch 24 | Training loss: 0.0491, validation accuracy: 0.8772, validation loss: 0.5600\n",
      "100%|██████████████████████████████████████████████████████████| 313/313 [00:25<00:00, 12.17it/s, loss=0.0484]\n",
      "Epoch 25 | Training loss: 0.0484, validation accuracy: 0.8769, validation loss: 0.5582\n",
      "100%|██████████████████████████████████████████████████████████| 313/313 [00:25<00:00, 12.14it/s, loss=0.0444]\n",
      "Epoch 26 | Training loss: 0.0444, validation accuracy: 0.8791, validation loss: 0.5662\n",
      "100%|██████████████████████████████████████████████████████████| 313/313 [00:25<00:00, 12.19it/s, loss=0.0438]\n",
      "Epoch 27 | Training loss: 0.0438, validation accuracy: 0.8795, validation loss: 0.5750\n",
      "100%|██████████████████████████████████████████████████████████| 313/313 [00:25<00:00, 12.18it/s, loss=0.0396]\n",
      "Epoch 28 | Training loss: 0.0396, validation accuracy: 0.8818, validation loss: 0.5739\n",
      "100%|██████████████████████████████████████████████████████████| 313/313 [00:25<00:00, 12.15it/s, loss=0.0444]\n",
      "Epoch 29 | Training loss: 0.0444, validation accuracy: 0.8787, validation loss: 0.5646\n",
      "100%|██████████████████████████████████████████████████████████| 313/313 [00:25<00:00, 12.16it/s, loss=0.0426]\n",
      "Epoch 30 | Training loss: 0.0426, validation accuracy: 0.8805, validation loss: 0.5660\n"
     ]
    }
   ],
   "source": [
    "epochs = 30\n",
    "\n",
    "for epoch in range(epochs):\n",
    "    train_loss = trainer.train_epoch(model, optimizer, dl[\"train\"])\n",
    "    optimizer.finish_epoch()\n",
    "    val_acc, val_loss = trainer.validation(model, dl[\"valid\"])\n",
    "    logger.log(\"Epoch\", epoch+1, \"|\", \n",
    "          f\"Training loss: {train_loss:.4f}, validation accuracy: {val_acc:.4f}, validation loss: {val_loss:.4f}\")"
   ]
  },
  {
   "cell_type": "code",
   "execution_count": 77,
   "id": "30f390d5-ca93-4074-aa1c-018a09343762",
   "metadata": {},
   "outputs": [
    {
     "name": "stdout",
     "output_type": "stream",
     "text": [
      "Train: (0.986975, 0.0395649989373982)\n",
      "Valid: (0.8805, 0.5659612306594849)\n"
     ]
    }
   ],
   "source": [
    "train_score = trainer.validation(model, dl[\"train\"])\n",
    "valid_score = trainer.validation(model, dl[\"valid\"])\n",
    "logger.log(\"Train:\", train_score)\n",
    "logger.log(\"Valid:\", valid_score)"
   ]
  },
  {
   "cell_type": "code",
   "execution_count": 78,
   "id": "09b517b8-6cdf-438f-af9a-e01657a77b13",
   "metadata": {},
   "outputs": [
    {
     "name": "stdout",
     "output_type": "stream",
     "text": [
      "RNA\n"
     ]
    }
   ],
   "source": [
    "optimizer.param_groups[0][\"method\"] = \"RNA\"\n",
    "logger.log(\"RNA\")\n",
    "model_acc = deepcopy(model)\n",
    "optimizer.accelerate()\n",
    "optimizer.store_parameters([model_acc.parameters()])"
   ]
  },
  {
   "cell_type": "code",
   "execution_count": 79,
   "id": "d67cad54-cdff-4a03-96ad-2e5d6ee9cffb",
   "metadata": {
    "tags": []
   },
   "outputs": [
    {
     "name": "stdout",
     "output_type": "stream",
     "text": [
      "Train: (0.987425, 0.038295551287382844)\n",
      "Valid: (0.8824, 0.5524765687942504)\n"
     ]
    }
   ],
   "source": [
    "model_acc.to(trainer.device)\n",
    "train_score = trainer.validation(model_acc, dl[\"train\"])\n",
    "valid_score = trainer.validation(model_acc, dl[\"valid\"])\n",
    "logger.log(\"Train:\", train_score)\n",
    "logger.log(\"Valid:\", valid_score)"
   ]
  },
  {
   "cell_type": "code",
   "execution_count": 80,
   "id": "0f7b23a6-fd63-46c5-b620-bbba0bd59498",
   "metadata": {},
   "outputs": [
    {
     "name": "stdout",
     "output_type": "stream",
     "text": [
      "RRE\n"
     ]
    }
   ],
   "source": [
    "optimizer.param_groups[0][\"method\"] = \"RRE\"\n",
    "logger.log(\"RRE\")\n",
    "model_acc = deepcopy(model)\n",
    "optimizer.accelerate()\n",
    "optimizer.store_parameters([model_acc.parameters()])"
   ]
  },
  {
   "cell_type": "code",
   "execution_count": 81,
   "id": "aec8c4e4-ccf9-478c-81ef-146410e32705",
   "metadata": {
    "tags": []
   },
   "outputs": [
    {
     "name": "stdout",
     "output_type": "stream",
     "text": [
      "Train: (0.986825, 0.037698678241670135)\n",
      "Valid: (0.8825, 0.5524682126998901)\n"
     ]
    }
   ],
   "source": [
    "model_acc.to(trainer.device)\n",
    "train_score = trainer.validation(model_acc, dl[\"train\"])\n",
    "valid_score = trainer.validation(model_acc, dl[\"valid\"])\n",
    "logger.log(\"Train:\", train_score)\n",
    "logger.log(\"Valid:\", valid_score)"
   ]
  },
  {
   "cell_type": "markdown",
   "id": "ca6be171-c4ea-4f34-a36a-cc311deabfcc",
   "metadata": {},
   "source": [
    "## Epoch average, span = 50"
   ]
  },
  {
   "cell_type": "code",
   "execution_count": 82,
   "id": "b0b86ab2-40eb-4a5e-a8bf-8f39524f4a7a",
   "metadata": {},
   "outputs": [
    {
     "data": {
      "text/plain": [
       "VGG(\n",
       "  (features): Sequential(\n",
       "    (0): Conv2d(3, 64, kernel_size=(3, 3), stride=(1, 1), padding=(1, 1))\n",
       "    (1): ReLU(inplace=True)\n",
       "    (2): Conv2d(64, 64, kernel_size=(3, 3), stride=(1, 1), padding=(1, 1))\n",
       "    (3): ReLU(inplace=True)\n",
       "    (4): MaxPool2d(kernel_size=2, stride=2, padding=0, dilation=1, ceil_mode=False)\n",
       "    (5): Conv2d(64, 128, kernel_size=(3, 3), stride=(1, 1), padding=(1, 1))\n",
       "    (6): ReLU(inplace=True)\n",
       "    (7): Conv2d(128, 128, kernel_size=(3, 3), stride=(1, 1), padding=(1, 1))\n",
       "    (8): ReLU(inplace=True)\n",
       "    (9): MaxPool2d(kernel_size=2, stride=2, padding=0, dilation=1, ceil_mode=False)\n",
       "    (10): Conv2d(128, 256, kernel_size=(3, 3), stride=(1, 1), padding=(1, 1))\n",
       "    (11): ReLU(inplace=True)\n",
       "    (12): Conv2d(256, 256, kernel_size=(3, 3), stride=(1, 1), padding=(1, 1))\n",
       "    (13): ReLU(inplace=True)\n",
       "    (14): Conv2d(256, 256, kernel_size=(3, 3), stride=(1, 1), padding=(1, 1))\n",
       "    (15): ReLU(inplace=True)\n",
       "    (16): MaxPool2d(kernel_size=2, stride=2, padding=0, dilation=1, ceil_mode=False)\n",
       "    (17): Conv2d(256, 512, kernel_size=(3, 3), stride=(1, 1), padding=(1, 1))\n",
       "    (18): ReLU(inplace=True)\n",
       "    (19): Conv2d(512, 512, kernel_size=(3, 3), stride=(1, 1), padding=(1, 1))\n",
       "    (20): ReLU(inplace=True)\n",
       "    (21): Conv2d(512, 512, kernel_size=(3, 3), stride=(1, 1), padding=(1, 1))\n",
       "    (22): ReLU(inplace=True)\n",
       "    (23): MaxPool2d(kernel_size=2, stride=2, padding=0, dilation=1, ceil_mode=False)\n",
       "    (24): Conv2d(512, 512, kernel_size=(3, 3), stride=(1, 1), padding=(1, 1))\n",
       "    (25): ReLU(inplace=True)\n",
       "    (26): Conv2d(512, 512, kernel_size=(3, 3), stride=(1, 1), padding=(1, 1))\n",
       "    (27): ReLU(inplace=True)\n",
       "    (28): Conv2d(512, 512, kernel_size=(3, 3), stride=(1, 1), padding=(1, 1))\n",
       "    (29): ReLU(inplace=True)\n",
       "    (30): MaxPool2d(kernel_size=2, stride=2, padding=0, dilation=1, ceil_mode=False)\n",
       "  )\n",
       "  (avgpool): AdaptiveAvgPool2d(output_size=(7, 7))\n",
       "  (classifier): Sequential(\n",
       "    (0): Linear(in_features=25088, out_features=4096, bias=True)\n",
       "    (1): ReLU(inplace=True)\n",
       "    (2): Dropout(p=0.5, inplace=False)\n",
       "    (3): Linear(in_features=4096, out_features=4096, bias=True)\n",
       "    (4): ReLU(inplace=True)\n",
       "    (5): Dropout(p=0.5, inplace=False)\n",
       "    (6): Linear(in_features=4096, out_features=10, bias=True)\n",
       "    (7): LogSoftmax(dim=-1)\n",
       "  )\n",
       ")"
      ]
     },
     "execution_count": 82,
     "metadata": {},
     "output_type": "execute_result"
    }
   ],
   "source": [
    "model.load_state_dict(initial_state)\n",
    "model.to(trainer.device)"
   ]
  },
  {
   "cell_type": "code",
   "execution_count": 83,
   "id": "7b8ad11d-76e7-47ec-9f87-cd605f76ab41",
   "metadata": {},
   "outputs": [],
   "source": [
    "optimizer = AcceleratedSGD(model.parameters(), 1e-2, k=10, momentum=0.9, weight_decay=1e-5, lambda_=1e-8, \n",
    "                           mode=\"epoch_avg\", avg_alpha=2 / (50 + 1))\n",
    "logger = Logger(\"vgg_log_augmentation_span50.txt.no_resizing\")"
   ]
  },
  {
   "cell_type": "code",
   "execution_count": 84,
   "id": "7332211d-d159-4135-b4c2-16921d208ad1",
   "metadata": {},
   "outputs": [
    {
     "name": "stdout",
     "output_type": "stream",
     "text": [
      "100%|██████████████████████████████████████████████████████████| 313/313 [00:25<00:00, 12.28it/s, loss=2.0956]\n",
      "Epoch 1 | Training loss: 2.0956, validation accuracy: 0.2659, validation loss: 1.8612\n",
      "100%|██████████████████████████████████████████████████████████| 313/313 [00:25<00:00, 12.26it/s, loss=1.7643]\n",
      "Epoch 2 | Training loss: 1.7643, validation accuracy: 0.3944, validation loss: 1.5618\n",
      "100%|██████████████████████████████████████████████████████████| 313/313 [00:25<00:00, 12.23it/s, loss=1.5519]\n",
      "Epoch 3 | Training loss: 1.5519, validation accuracy: 0.4192, validation loss: 1.5592\n",
      "100%|██████████████████████████████████████████████████████████| 313/313 [00:25<00:00, 12.23it/s, loss=1.3819]\n",
      "Epoch 4 | Training loss: 1.3819, validation accuracy: 0.5652, validation loss: 1.1922\n",
      "100%|██████████████████████████████████████████████████████████| 313/313 [00:25<00:00, 12.22it/s, loss=1.2422]\n",
      "Epoch 5 | Training loss: 1.2422, validation accuracy: 0.6101, validation loss: 1.0908\n",
      "100%|██████████████████████████████████████████████████████████| 313/313 [00:25<00:00, 12.22it/s, loss=1.1105]\n",
      "Epoch 6 | Training loss: 1.1105, validation accuracy: 0.6450, validation loss: 0.9807\n",
      "100%|██████████████████████████████████████████████████████████| 313/313 [00:25<00:00, 12.22it/s, loss=1.0053]\n",
      "Epoch 7 | Training loss: 1.0053, validation accuracy: 0.7044, validation loss: 0.8339\n",
      "100%|██████████████████████████████████████████████████████████| 313/313 [00:25<00:00, 12.21it/s, loss=0.9384]\n",
      "Epoch 8 | Training loss: 0.9384, validation accuracy: 0.7097, validation loss: 0.8420\n",
      "100%|██████████████████████████████████████████████████████████| 313/313 [00:25<00:00, 12.19it/s, loss=0.8777]\n",
      "Epoch 9 | Training loss: 0.8777, validation accuracy: 0.7117, validation loss: 0.8526\n",
      "100%|██████████████████████████████████████████████████████████| 313/313 [00:25<00:00, 12.21it/s, loss=0.8228]\n",
      "Epoch 10 | Training loss: 0.8228, validation accuracy: 0.7374, validation loss: 0.7664\n",
      "100%|██████████████████████████████████████████████████████████| 313/313 [00:25<00:00, 12.21it/s, loss=0.7877]\n",
      "Epoch 11 | Training loss: 0.7877, validation accuracy: 0.7546, validation loss: 0.7119\n",
      "100%|██████████████████████████████████████████████████████████| 313/313 [00:25<00:00, 12.21it/s, loss=0.7161]\n",
      "Epoch 12 | Training loss: 0.7161, validation accuracy: 0.7747, validation loss: 0.6612\n",
      "100%|██████████████████████████████████████████████████████████| 313/313 [00:25<00:00, 12.21it/s, loss=0.6904]\n",
      "Epoch 13 | Training loss: 0.6904, validation accuracy: 0.7779, validation loss: 0.6549\n",
      "100%|██████████████████████████████████████████████████████████| 313/313 [00:25<00:00, 12.22it/s, loss=0.6513]\n",
      "Epoch 14 | Training loss: 0.6513, validation accuracy: 0.7725, validation loss: 0.6699\n",
      "100%|██████████████████████████████████████████████████████████| 313/313 [00:25<00:00, 12.21it/s, loss=0.6217]\n",
      "Epoch 15 | Training loss: 0.6217, validation accuracy: 0.7952, validation loss: 0.5976\n",
      "100%|██████████████████████████████████████████████████████████| 313/313 [00:25<00:00, 12.21it/s, loss=0.5994]\n",
      "Epoch 16 | Training loss: 0.5994, validation accuracy: 0.7948, validation loss: 0.6188\n",
      "100%|██████████████████████████████████████████████████████████| 313/313 [00:25<00:00, 12.21it/s, loss=0.5613]\n",
      "Epoch 17 | Training loss: 0.5613, validation accuracy: 0.8087, validation loss: 0.5639\n",
      "100%|██████████████████████████████████████████████████████████| 313/313 [00:25<00:00, 12.23it/s, loss=0.5376]\n",
      "Epoch 18 | Training loss: 0.5376, validation accuracy: 0.8260, validation loss: 0.5245\n",
      "100%|██████████████████████████████████████████████████████████| 313/313 [00:25<00:00, 12.20it/s, loss=0.5102]\n",
      "Epoch 19 | Training loss: 0.5102, validation accuracy: 0.8239, validation loss: 0.5314\n",
      "100%|██████████████████████████████████████████████████████████| 313/313 [00:25<00:00, 12.21it/s, loss=0.4936]\n",
      "Epoch 20 | Training loss: 0.4936, validation accuracy: 0.8210, validation loss: 0.5446\n",
      "100%|██████████████████████████████████████████████████████████| 313/313 [00:25<00:00, 12.21it/s, loss=0.4702]\n",
      "Epoch 21 | Training loss: 0.4702, validation accuracy: 0.8351, validation loss: 0.5084\n",
      "100%|██████████████████████████████████████████████████████████| 313/313 [00:25<00:00, 12.21it/s, loss=0.4514]\n",
      "Epoch 22 | Training loss: 0.4514, validation accuracy: 0.8274, validation loss: 0.5435\n",
      "100%|██████████████████████████████████████████████████████████| 313/313 [00:25<00:00, 12.22it/s, loss=0.4296]\n",
      "Epoch 23 | Training loss: 0.4296, validation accuracy: 0.8307, validation loss: 0.5106\n",
      "100%|██████████████████████████████████████████████████████████| 313/313 [00:25<00:00, 12.20it/s, loss=0.4176]\n",
      "Epoch 24 | Training loss: 0.4176, validation accuracy: 0.8355, validation loss: 0.5094\n",
      "100%|██████████████████████████████████████████████████████████| 313/313 [00:25<00:00, 12.22it/s, loss=0.4028]\n",
      "Epoch 25 | Training loss: 0.4028, validation accuracy: 0.8402, validation loss: 0.4910\n",
      "100%|██████████████████████████████████████████████████████████| 313/313 [00:25<00:00, 12.22it/s, loss=0.3843]\n",
      "Epoch 26 | Training loss: 0.3843, validation accuracy: 0.8393, validation loss: 0.4913\n",
      "100%|██████████████████████████████████████████████████████████| 313/313 [00:25<00:00, 12.22it/s, loss=0.3705]\n",
      "Epoch 27 | Training loss: 0.3705, validation accuracy: 0.8389, validation loss: 0.5208\n",
      "100%|██████████████████████████████████████████████████████████| 313/313 [00:25<00:00, 12.19it/s, loss=0.3538]\n",
      "Epoch 28 | Training loss: 0.3538, validation accuracy: 0.8440, validation loss: 0.5107\n",
      "100%|██████████████████████████████████████████████████████████| 313/313 [00:25<00:00, 12.20it/s, loss=0.3373]\n",
      "Epoch 29 | Training loss: 0.3373, validation accuracy: 0.8324, validation loss: 0.5514\n",
      "100%|██████████████████████████████████████████████████████████| 313/313 [00:25<00:00, 12.21it/s, loss=0.3239]\n",
      "Epoch 30 | Training loss: 0.3239, validation accuracy: 0.8454, validation loss: 0.5009\n",
      "100%|██████████████████████████████████████████████████████████| 313/313 [00:25<00:00, 12.21it/s, loss=0.3161]\n",
      "Epoch 31 | Training loss: 0.3161, validation accuracy: 0.8363, validation loss: 0.5314\n",
      "100%|██████████████████████████████████████████████████████████| 313/313 [00:25<00:00, 12.19it/s, loss=0.3033]\n",
      "Epoch 32 | Training loss: 0.3033, validation accuracy: 0.8370, validation loss: 0.5336\n",
      "100%|██████████████████████████████████████████████████████████| 313/313 [00:25<00:00, 12.20it/s, loss=0.2942]\n",
      "Epoch 33 | Training loss: 0.2942, validation accuracy: 0.8444, validation loss: 0.5187\n",
      "100%|██████████████████████████████████████████████████████████| 313/313 [00:25<00:00, 12.20it/s, loss=0.2848]\n",
      "Epoch 34 | Training loss: 0.2848, validation accuracy: 0.8471, validation loss: 0.4948\n",
      "100%|██████████████████████████████████████████████████████████| 313/313 [00:25<00:00, 12.22it/s, loss=0.2695]\n",
      "Epoch 35 | Training loss: 0.2695, validation accuracy: 0.8520, validation loss: 0.4886\n",
      "100%|██████████████████████████████████████████████████████████| 313/313 [00:25<00:00, 12.21it/s, loss=0.2649]\n",
      "Epoch 36 | Training loss: 0.2649, validation accuracy: 0.8501, validation loss: 0.5061\n",
      "100%|██████████████████████████████████████████████████████████| 313/313 [00:25<00:00, 12.20it/s, loss=0.2522]\n",
      "Epoch 37 | Training loss: 0.2522, validation accuracy: 0.8486, validation loss: 0.4857\n",
      "100%|██████████████████████████████████████████████████████████| 313/313 [00:25<00:00, 12.19it/s, loss=0.2459]\n",
      "Epoch 38 | Training loss: 0.2459, validation accuracy: 0.8563, validation loss: 0.4917\n",
      "100%|██████████████████████████████████████████████████████████| 313/313 [00:25<00:00, 12.19it/s, loss=0.2357]\n",
      "Epoch 39 | Training loss: 0.2357, validation accuracy: 0.8510, validation loss: 0.5166\n",
      "100%|██████████████████████████████████████████████████████████| 313/313 [00:25<00:00, 12.20it/s, loss=0.2278]\n",
      "Epoch 40 | Training loss: 0.2278, validation accuracy: 0.8536, validation loss: 0.5044\n",
      "100%|██████████████████████████████████████████████████████████| 313/313 [00:25<00:00, 12.22it/s, loss=0.2265]\n",
      "Epoch 41 | Training loss: 0.2265, validation accuracy: 0.8530, validation loss: 0.4934\n",
      "100%|██████████████████████████████████████████████████████████| 313/313 [00:25<00:00, 12.21it/s, loss=0.2102]\n",
      "Epoch 42 | Training loss: 0.2102, validation accuracy: 0.8475, validation loss: 0.5207\n",
      "100%|██████████████████████████████████████████████████████████| 313/313 [00:25<00:00, 12.21it/s, loss=0.2045]\n",
      "Epoch 43 | Training loss: 0.2045, validation accuracy: 0.8583, validation loss: 0.5045\n",
      "100%|██████████████████████████████████████████████████████████| 313/313 [00:25<00:00, 12.20it/s, loss=0.1975]\n",
      "Epoch 44 | Training loss: 0.1975, validation accuracy: 0.8553, validation loss: 0.4989\n",
      "100%|██████████████████████████████████████████████████████████| 313/313 [00:25<00:00, 12.20it/s, loss=0.1880]\n",
      "Epoch 45 | Training loss: 0.1880, validation accuracy: 0.8613, validation loss: 0.4975\n"
     ]
    }
   ],
   "source": [
    "torch.manual_seed(2020)\n",
    "epochs = 45\n",
    "\n",
    "for epoch in range(epochs):\n",
    "    train_loss = trainer.train_epoch(model, optimizer, dl[\"train\"])\n",
    "    optimizer.finish_epoch()\n",
    "    val_acc, val_loss = trainer.validation(model, dl[\"valid\"])\n",
    "    logger.log(\"Epoch\", epoch+1, \"|\", \n",
    "          f\"Training loss: {train_loss:.4f}, validation accuracy: {val_acc:.4f}, validation loss: {val_loss:.4f}\")"
   ]
  },
  {
   "cell_type": "code",
   "execution_count": 85,
   "id": "cecdecd9-7726-4a33-9456-1793d0238098",
   "metadata": {},
   "outputs": [
    {
     "name": "stdout",
     "output_type": "stream",
     "text": [
      "Train: (0.947025, 0.16146137601137162)\n",
      "Valid: (0.8613, 0.497474157333374)\n"
     ]
    }
   ],
   "source": [
    "train_score = trainer.validation(model, dl[\"train\"])\n",
    "valid_score = trainer.validation(model, dl[\"valid\"])\n",
    "logger.log(\"Train:\", train_score)\n",
    "logger.log(\"Valid:\", valid_score)"
   ]
  },
  {
   "cell_type": "code",
   "execution_count": 86,
   "id": "72c09db4-387a-471b-9af3-2307e6542bf9",
   "metadata": {},
   "outputs": [
    {
     "name": "stdout",
     "output_type": "stream",
     "text": [
      "RNA\n"
     ]
    }
   ],
   "source": [
    "optimizer.param_groups[0][\"method\"] = \"RNA\"\n",
    "logger.log(\"RNA\")\n",
    "model_acc = deepcopy(model)\n",
    "optimizer.accelerate()\n",
    "optimizer.store_parameters([model_acc.parameters()])"
   ]
  },
  {
   "cell_type": "code",
   "execution_count": 87,
   "id": "63207fbd-094a-454d-8b18-f0b425f401a5",
   "metadata": {
    "tags": []
   },
   "outputs": [
    {
     "name": "stdout",
     "output_type": "stream",
     "text": [
      "Train: (0.971, 0.09410841317176818)\n",
      "Valid: (0.8776, 0.41523076324462893)\n"
     ]
    }
   ],
   "source": [
    "model_acc.to(trainer.device)\n",
    "train_score = trainer.validation(model_acc, dl[\"train\"])\n",
    "valid_score = trainer.validation(model_acc, dl[\"valid\"])\n",
    "logger.log(\"Train:\", train_score)\n",
    "logger.log(\"Valid:\", valid_score)"
   ]
  },
  {
   "cell_type": "code",
   "execution_count": 88,
   "id": "6c9e50dc-dc5c-4037-9451-1b25236ddcd2",
   "metadata": {},
   "outputs": [
    {
     "name": "stdout",
     "output_type": "stream",
     "text": [
      "RRE\n"
     ]
    }
   ],
   "source": [
    "optimizer.param_groups[0][\"method\"] = \"RRE\"\n",
    "logger.log(\"RRE\")\n",
    "model_acc = deepcopy(model)\n",
    "optimizer.accelerate()\n",
    "optimizer.store_parameters([model_acc.parameters()])"
   ]
  },
  {
   "cell_type": "code",
   "execution_count": 89,
   "id": "cb330c37-731b-4ef8-94f7-ae5baa64fb32",
   "metadata": {
    "tags": []
   },
   "outputs": [
    {
     "name": "stdout",
     "output_type": "stream",
     "text": [
      "Train: (0.970875, 0.09302963387966157)\n",
      "Valid: (0.8776, 0.41520702381134034)\n"
     ]
    }
   ],
   "source": [
    "model_acc.to(trainer.device)\n",
    "train_score = trainer.validation(model_acc, dl[\"train\"])\n",
    "valid_score = trainer.validation(model_acc, dl[\"valid\"])\n",
    "logger.log(\"Train:\", train_score)\n",
    "logger.log(\"Valid:\", valid_score)"
   ]
  },
  {
   "cell_type": "code",
   "execution_count": 90,
   "id": "827ce3bc-cff1-466e-a612-42d1651f546d",
   "metadata": {},
   "outputs": [],
   "source": [
    "optimizer.param_groups[0][\"lr\"] = 1e-3"
   ]
  },
  {
   "cell_type": "code",
   "execution_count": 91,
   "id": "4618932a-e123-4f95-a815-60ba20109092",
   "metadata": {},
   "outputs": [
    {
     "name": "stdout",
     "output_type": "stream",
     "text": [
      "100%|██████████████████████████████████████████████████████████| 313/313 [00:25<00:00, 12.19it/s, loss=0.1130]\n",
      "Epoch 1 | Training loss: 0.1130, validation accuracy: 0.8715, validation loss: 0.4981\n",
      "100%|██████████████████████████████████████████████████████████| 313/313 [00:25<00:00, 12.18it/s, loss=0.0906]\n",
      "Epoch 2 | Training loss: 0.0906, validation accuracy: 0.8725, validation loss: 0.5187\n",
      "100%|██████████████████████████████████████████████████████████| 313/313 [00:25<00:00, 12.18it/s, loss=0.0834]\n",
      "Epoch 3 | Training loss: 0.0834, validation accuracy: 0.8729, validation loss: 0.5177\n",
      "100%|██████████████████████████████████████████████████████████| 313/313 [00:25<00:00, 12.18it/s, loss=0.0798]\n",
      "Epoch 4 | Training loss: 0.0798, validation accuracy: 0.8723, validation loss: 0.5291\n",
      "100%|██████████████████████████████████████████████████████████| 313/313 [00:25<00:00, 12.17it/s, loss=0.0760]\n",
      "Epoch 5 | Training loss: 0.0760, validation accuracy: 0.8731, validation loss: 0.5353\n",
      "100%|██████████████████████████████████████████████████████████| 313/313 [00:25<00:00, 12.17it/s, loss=0.0717]\n",
      "Epoch 6 | Training loss: 0.0717, validation accuracy: 0.8753, validation loss: 0.5372\n",
      "100%|██████████████████████████████████████████████████████████| 313/313 [00:25<00:00, 12.18it/s, loss=0.0719]\n",
      "Epoch 7 | Training loss: 0.0719, validation accuracy: 0.8731, validation loss: 0.5370\n",
      "100%|██████████████████████████████████████████████████████████| 313/313 [00:25<00:00, 12.19it/s, loss=0.0724]\n",
      "Epoch 8 | Training loss: 0.0724, validation accuracy: 0.8723, validation loss: 0.5529\n",
      "100%|██████████████████████████████████████████████████████████| 313/313 [00:25<00:00, 12.19it/s, loss=0.0670]\n",
      "Epoch 9 | Training loss: 0.0670, validation accuracy: 0.8735, validation loss: 0.5532\n",
      "100%|██████████████████████████████████████████████████████████| 313/313 [00:25<00:00, 12.18it/s, loss=0.0642]\n",
      "Epoch 10 | Training loss: 0.0642, validation accuracy: 0.8753, validation loss: 0.5568\n",
      "100%|██████████████████████████████████████████████████████████| 313/313 [00:25<00:00, 12.18it/s, loss=0.0642]\n",
      "Epoch 11 | Training loss: 0.0642, validation accuracy: 0.8728, validation loss: 0.5586\n",
      "100%|██████████████████████████████████████████████████████████| 313/313 [00:25<00:00, 12.17it/s, loss=0.0633]\n",
      "Epoch 12 | Training loss: 0.0633, validation accuracy: 0.8744, validation loss: 0.5676\n",
      "100%|██████████████████████████████████████████████████████████| 313/313 [00:25<00:00, 12.19it/s, loss=0.0590]\n",
      "Epoch 13 | Training loss: 0.0590, validation accuracy: 0.8738, validation loss: 0.5662\n",
      "100%|██████████████████████████████████████████████████████████| 313/313 [00:25<00:00, 12.19it/s, loss=0.0596]\n",
      "Epoch 14 | Training loss: 0.0596, validation accuracy: 0.8729, validation loss: 0.5701\n",
      "100%|██████████████████████████████████████████████████████████| 313/313 [00:25<00:00, 12.17it/s, loss=0.0563]\n",
      "Epoch 15 | Training loss: 0.0563, validation accuracy: 0.8730, validation loss: 0.5785\n",
      "100%|██████████████████████████████████████████████████████████| 313/313 [00:25<00:00, 12.16it/s, loss=0.0575]\n",
      "Epoch 16 | Training loss: 0.0575, validation accuracy: 0.8757, validation loss: 0.5633\n",
      "100%|██████████████████████████████████████████████████████████| 313/313 [00:25<00:00, 12.15it/s, loss=0.0552]\n",
      "Epoch 17 | Training loss: 0.0552, validation accuracy: 0.8739, validation loss: 0.5782\n",
      "100%|██████████████████████████████████████████████████████████| 313/313 [00:25<00:00, 12.16it/s, loss=0.0562]\n",
      "Epoch 18 | Training loss: 0.0562, validation accuracy: 0.8758, validation loss: 0.5647\n",
      "100%|██████████████████████████████████████████████████████████| 313/313 [00:25<00:00, 12.17it/s, loss=0.0532]\n",
      "Epoch 19 | Training loss: 0.0532, validation accuracy: 0.8739, validation loss: 0.5936\n",
      "100%|██████████████████████████████████████████████████████████| 313/313 [00:25<00:00, 12.19it/s, loss=0.0518]\n",
      "Epoch 20 | Training loss: 0.0518, validation accuracy: 0.8737, validation loss: 0.5849\n",
      "100%|██████████████████████████████████████████████████████████| 313/313 [00:25<00:00, 12.17it/s, loss=0.0504]\n",
      "Epoch 21 | Training loss: 0.0504, validation accuracy: 0.8735, validation loss: 0.5824\n",
      "100%|██████████████████████████████████████████████████████████| 313/313 [00:25<00:00, 12.16it/s, loss=0.0512]\n",
      "Epoch 22 | Training loss: 0.0512, validation accuracy: 0.8746, validation loss: 0.5837\n",
      "100%|██████████████████████████████████████████████████████████| 313/313 [00:25<00:00, 12.17it/s, loss=0.0513]\n",
      "Epoch 23 | Training loss: 0.0513, validation accuracy: 0.8732, validation loss: 0.5915\n",
      "100%|██████████████████████████████████████████████████████████| 313/313 [00:25<00:00, 12.18it/s, loss=0.0496]\n",
      "Epoch 24 | Training loss: 0.0496, validation accuracy: 0.8760, validation loss: 0.5807\n",
      "100%|██████████████████████████████████████████████████████████| 313/313 [00:25<00:00, 12.19it/s, loss=0.0490]\n",
      "Epoch 25 | Training loss: 0.0490, validation accuracy: 0.8746, validation loss: 0.5815\n",
      "100%|██████████████████████████████████████████████████████████| 313/313 [00:25<00:00, 12.17it/s, loss=0.0471]\n",
      "Epoch 26 | Training loss: 0.0471, validation accuracy: 0.8768, validation loss: 0.5907\n",
      "100%|██████████████████████████████████████████████████████████| 313/313 [00:25<00:00, 12.19it/s, loss=0.0458]\n",
      "Epoch 27 | Training loss: 0.0458, validation accuracy: 0.8754, validation loss: 0.6021\n",
      "100%|██████████████████████████████████████████████████████████| 313/313 [00:25<00:00, 12.19it/s, loss=0.0445]\n",
      "Epoch 28 | Training loss: 0.0445, validation accuracy: 0.8741, validation loss: 0.6068\n",
      "100%|██████████████████████████████████████████████████████████| 313/313 [00:25<00:00, 12.17it/s, loss=0.0417]\n",
      "Epoch 29 | Training loss: 0.0417, validation accuracy: 0.8752, validation loss: 0.6112\n",
      "100%|██████████████████████████████████████████████████████████| 313/313 [00:25<00:00, 12.17it/s, loss=0.0443]\n",
      "Epoch 30 | Training loss: 0.0443, validation accuracy: 0.8746, validation loss: 0.6011\n"
     ]
    }
   ],
   "source": [
    "epochs = 30\n",
    "\n",
    "for epoch in range(epochs):\n",
    "    train_loss = trainer.train_epoch(model, optimizer, dl[\"train\"])\n",
    "    optimizer.finish_epoch()\n",
    "    val_acc, val_loss = trainer.validation(model, dl[\"valid\"])\n",
    "    logger.log(\"Epoch\", epoch+1, \"|\", \n",
    "          f\"Training loss: {train_loss:.4f}, validation accuracy: {val_acc:.4f}, validation loss: {val_loss:.4f}\")"
   ]
  },
  {
   "cell_type": "code",
   "execution_count": 92,
   "id": "becc45d5-d278-41c2-93d4-bcf2f890664c",
   "metadata": {},
   "outputs": [
    {
     "name": "stdout",
     "output_type": "stream",
     "text": [
      "Train: (0.98645, 0.039574689316749574)\n",
      "Valid: (0.8746, 0.6010501583099366)\n"
     ]
    }
   ],
   "source": [
    "train_score = trainer.validation(model, dl[\"train\"])\n",
    "valid_score = trainer.validation(model, dl[\"valid\"])\n",
    "logger.log(\"Train:\", train_score)\n",
    "logger.log(\"Valid:\", valid_score)"
   ]
  },
  {
   "cell_type": "code",
   "execution_count": 93,
   "id": "073a59ad-e05b-4825-b662-e89d80fc0b21",
   "metadata": {},
   "outputs": [
    {
     "name": "stdout",
     "output_type": "stream",
     "text": [
      "RNA\n"
     ]
    }
   ],
   "source": [
    "optimizer.param_groups[0][\"method\"] = \"RNA\"\n",
    "logger.log(\"RNA\")\n",
    "model_acc = deepcopy(model)\n",
    "optimizer.accelerate()\n",
    "optimizer.store_parameters([model_acc.parameters()])"
   ]
  },
  {
   "cell_type": "code",
   "execution_count": 94,
   "id": "c73d2748-6c3e-4c4f-a7f3-62f34dc6c0a7",
   "metadata": {
    "tags": []
   },
   "outputs": [
    {
     "name": "stdout",
     "output_type": "stream",
     "text": [
      "Train: (0.987125, 0.03959940095469355)\n",
      "Valid: (0.8777, 0.5853159385681153)\n"
     ]
    }
   ],
   "source": [
    "model_acc.to(trainer.device)\n",
    "train_score = trainer.validation(model_acc, dl[\"train\"])\n",
    "valid_score = trainer.validation(model_acc, dl[\"valid\"])\n",
    "logger.log(\"Train:\", train_score)\n",
    "logger.log(\"Valid:\", valid_score)"
   ]
  },
  {
   "cell_type": "code",
   "execution_count": 95,
   "id": "11760b96-e730-4ce5-b7a3-f1eb1c473eb3",
   "metadata": {},
   "outputs": [
    {
     "name": "stdout",
     "output_type": "stream",
     "text": [
      "RRE\n"
     ]
    }
   ],
   "source": [
    "optimizer.param_groups[0][\"method\"] = \"RRE\"\n",
    "logger.log(\"RRE\")\n",
    "model_acc = deepcopy(model)\n",
    "optimizer.accelerate()\n",
    "optimizer.store_parameters([model_acc.parameters()])"
   ]
  },
  {
   "cell_type": "code",
   "execution_count": 96,
   "id": "8446fca3-c0a2-4fcb-8c59-fb8688878b6e",
   "metadata": {
    "tags": []
   },
   "outputs": [
    {
     "name": "stdout",
     "output_type": "stream",
     "text": [
      "Train: (0.986275, 0.03967122686877847)\n",
      "Valid: (0.8777, 0.5853097663879394)\n"
     ]
    }
   ],
   "source": [
    "model_acc.to(trainer.device)\n",
    "train_score = trainer.validation(model_acc, dl[\"train\"])\n",
    "valid_score = trainer.validation(model_acc, dl[\"valid\"])\n",
    "logger.log(\"Train:\", train_score)\n",
    "logger.log(\"Valid:\", valid_score)"
   ]
  },
  {
   "cell_type": "markdown",
   "id": "destroyed-yesterday",
   "metadata": {},
   "source": [
    "## Epoch average, span = 10"
   ]
  },
  {
   "cell_type": "code",
   "execution_count": 97,
   "id": "caf01fc8-789a-4a37-b91c-9ed3f67d5162",
   "metadata": {},
   "outputs": [
    {
     "data": {
      "text/plain": [
       "VGG(\n",
       "  (features): Sequential(\n",
       "    (0): Conv2d(3, 64, kernel_size=(3, 3), stride=(1, 1), padding=(1, 1))\n",
       "    (1): ReLU(inplace=True)\n",
       "    (2): Conv2d(64, 64, kernel_size=(3, 3), stride=(1, 1), padding=(1, 1))\n",
       "    (3): ReLU(inplace=True)\n",
       "    (4): MaxPool2d(kernel_size=2, stride=2, padding=0, dilation=1, ceil_mode=False)\n",
       "    (5): Conv2d(64, 128, kernel_size=(3, 3), stride=(1, 1), padding=(1, 1))\n",
       "    (6): ReLU(inplace=True)\n",
       "    (7): Conv2d(128, 128, kernel_size=(3, 3), stride=(1, 1), padding=(1, 1))\n",
       "    (8): ReLU(inplace=True)\n",
       "    (9): MaxPool2d(kernel_size=2, stride=2, padding=0, dilation=1, ceil_mode=False)\n",
       "    (10): Conv2d(128, 256, kernel_size=(3, 3), stride=(1, 1), padding=(1, 1))\n",
       "    (11): ReLU(inplace=True)\n",
       "    (12): Conv2d(256, 256, kernel_size=(3, 3), stride=(1, 1), padding=(1, 1))\n",
       "    (13): ReLU(inplace=True)\n",
       "    (14): Conv2d(256, 256, kernel_size=(3, 3), stride=(1, 1), padding=(1, 1))\n",
       "    (15): ReLU(inplace=True)\n",
       "    (16): MaxPool2d(kernel_size=2, stride=2, padding=0, dilation=1, ceil_mode=False)\n",
       "    (17): Conv2d(256, 512, kernel_size=(3, 3), stride=(1, 1), padding=(1, 1))\n",
       "    (18): ReLU(inplace=True)\n",
       "    (19): Conv2d(512, 512, kernel_size=(3, 3), stride=(1, 1), padding=(1, 1))\n",
       "    (20): ReLU(inplace=True)\n",
       "    (21): Conv2d(512, 512, kernel_size=(3, 3), stride=(1, 1), padding=(1, 1))\n",
       "    (22): ReLU(inplace=True)\n",
       "    (23): MaxPool2d(kernel_size=2, stride=2, padding=0, dilation=1, ceil_mode=False)\n",
       "    (24): Conv2d(512, 512, kernel_size=(3, 3), stride=(1, 1), padding=(1, 1))\n",
       "    (25): ReLU(inplace=True)\n",
       "    (26): Conv2d(512, 512, kernel_size=(3, 3), stride=(1, 1), padding=(1, 1))\n",
       "    (27): ReLU(inplace=True)\n",
       "    (28): Conv2d(512, 512, kernel_size=(3, 3), stride=(1, 1), padding=(1, 1))\n",
       "    (29): ReLU(inplace=True)\n",
       "    (30): MaxPool2d(kernel_size=2, stride=2, padding=0, dilation=1, ceil_mode=False)\n",
       "  )\n",
       "  (avgpool): AdaptiveAvgPool2d(output_size=(7, 7))\n",
       "  (classifier): Sequential(\n",
       "    (0): Linear(in_features=25088, out_features=4096, bias=True)\n",
       "    (1): ReLU(inplace=True)\n",
       "    (2): Dropout(p=0.5, inplace=False)\n",
       "    (3): Linear(in_features=4096, out_features=4096, bias=True)\n",
       "    (4): ReLU(inplace=True)\n",
       "    (5): Dropout(p=0.5, inplace=False)\n",
       "    (6): Linear(in_features=4096, out_features=10, bias=True)\n",
       "    (7): LogSoftmax(dim=-1)\n",
       "  )\n",
       ")"
      ]
     },
     "execution_count": 97,
     "metadata": {},
     "output_type": "execute_result"
    }
   ],
   "source": [
    "model.load_state_dict(initial_state)\n",
    "model.to(trainer.device)"
   ]
  },
  {
   "cell_type": "code",
   "execution_count": 98,
   "id": "58588f90-2bb9-4aeb-915d-34a97705a156",
   "metadata": {},
   "outputs": [],
   "source": [
    "optimizer = AcceleratedSGD(model.parameters(), 1e-2, k=10, momentum=0.9, weight_decay=1e-5, lambda_=1e-8, \n",
    "                           mode=\"epoch_avg\", avg_alpha=2 / (10 + 1))\n",
    "logger = Logger(\"vgg_log_augmentation_span10.txt.no_resizing\")"
   ]
  },
  {
   "cell_type": "code",
   "execution_count": 99,
   "id": "9ef1abbe-a302-47bd-8d59-7f22f76d90ba",
   "metadata": {},
   "outputs": [
    {
     "name": "stdout",
     "output_type": "stream",
     "text": [
      "100%|██████████████████████████████████████████████████████████| 313/313 [00:25<00:00, 12.27it/s, loss=2.0803]\n",
      "Epoch 1 | Training loss: 2.0803, validation accuracy: 0.2927, validation loss: 1.7931\n",
      "100%|██████████████████████████████████████████████████████████| 313/313 [00:25<00:00, 12.24it/s, loss=1.7657]\n",
      "Epoch 2 | Training loss: 1.7657, validation accuracy: 0.4020, validation loss: 1.5578\n",
      "100%|██████████████████████████████████████████████████████████| 313/313 [00:25<00:00, 12.23it/s, loss=1.5593]\n",
      "Epoch 3 | Training loss: 1.5593, validation accuracy: 0.4419, validation loss: 1.4899\n",
      "100%|██████████████████████████████████████████████████████████| 313/313 [00:25<00:00, 12.23it/s, loss=1.3841]\n",
      "Epoch 4 | Training loss: 1.3841, validation accuracy: 0.5712, validation loss: 1.1810\n",
      "100%|██████████████████████████████████████████████████████████| 313/313 [00:25<00:00, 12.24it/s, loss=1.2283]\n",
      "Epoch 5 | Training loss: 1.2283, validation accuracy: 0.6297, validation loss: 1.0486\n",
      "100%|██████████████████████████████████████████████████████████| 313/313 [00:25<00:00, 12.22it/s, loss=1.1047]\n",
      "Epoch 6 | Training loss: 1.1047, validation accuracy: 0.6505, validation loss: 0.9658\n",
      "100%|██████████████████████████████████████████████████████████| 313/313 [00:25<00:00, 12.23it/s, loss=1.0176]\n",
      "Epoch 7 | Training loss: 1.0176, validation accuracy: 0.6938, validation loss: 0.8520\n",
      "100%|██████████████████████████████████████████████████████████| 313/313 [00:25<00:00, 12.19it/s, loss=0.9327]\n",
      "Epoch 8 | Training loss: 0.9327, validation accuracy: 0.7168, validation loss: 0.8144\n",
      "100%|██████████████████████████████████████████████████████████| 313/313 [00:25<00:00, 12.20it/s, loss=0.8841]\n",
      "Epoch 9 | Training loss: 0.8841, validation accuracy: 0.7152, validation loss: 0.8343\n",
      "100%|██████████████████████████████████████████████████████████| 313/313 [00:25<00:00, 12.23it/s, loss=0.8201]\n",
      "Epoch 10 | Training loss: 0.8201, validation accuracy: 0.7500, validation loss: 0.7226\n",
      "100%|██████████████████████████████████████████████████████████| 313/313 [00:25<00:00, 12.21it/s, loss=0.7809]\n",
      "Epoch 11 | Training loss: 0.7809, validation accuracy: 0.7554, validation loss: 0.7181\n",
      "100%|██████████████████████████████████████████████████████████| 313/313 [00:25<00:00, 12.21it/s, loss=0.7263]\n",
      "Epoch 12 | Training loss: 0.7263, validation accuracy: 0.7757, validation loss: 0.6537\n",
      "100%|██████████████████████████████████████████████████████████| 313/313 [00:25<00:00, 12.20it/s, loss=0.6936]\n",
      "Epoch 13 | Training loss: 0.6936, validation accuracy: 0.7896, validation loss: 0.6237\n",
      "100%|██████████████████████████████████████████████████████████| 313/313 [00:25<00:00, 12.20it/s, loss=0.6531]\n",
      "Epoch 14 | Training loss: 0.6531, validation accuracy: 0.7957, validation loss: 0.6185\n",
      "100%|██████████████████████████████████████████████████████████| 313/313 [00:25<00:00, 12.20it/s, loss=0.6268]\n",
      "Epoch 15 | Training loss: 0.6268, validation accuracy: 0.7967, validation loss: 0.6146\n",
      "100%|██████████████████████████████████████████████████████████| 313/313 [00:25<00:00, 12.22it/s, loss=0.6013]\n",
      "Epoch 16 | Training loss: 0.6013, validation accuracy: 0.8105, validation loss: 0.5728\n",
      "100%|██████████████████████████████████████████████████████████| 313/313 [00:25<00:00, 12.23it/s, loss=0.5558]\n",
      "Epoch 17 | Training loss: 0.5558, validation accuracy: 0.8187, validation loss: 0.5489\n",
      "100%|██████████████████████████████████████████████████████████| 313/313 [00:25<00:00, 12.22it/s, loss=0.5449]\n",
      "Epoch 18 | Training loss: 0.5449, validation accuracy: 0.8187, validation loss: 0.5277\n",
      "100%|██████████████████████████████████████████████████████████| 313/313 [00:25<00:00, 12.22it/s, loss=0.5182]\n",
      "Epoch 19 | Training loss: 0.5182, validation accuracy: 0.8228, validation loss: 0.5333\n",
      "100%|██████████████████████████████████████████████████████████| 313/313 [00:25<00:00, 12.22it/s, loss=0.4976]\n",
      "Epoch 20 | Training loss: 0.4976, validation accuracy: 0.8235, validation loss: 0.5291\n",
      "100%|██████████████████████████████████████████████████████████| 313/313 [00:25<00:00, 12.21it/s, loss=0.4753]\n",
      "Epoch 21 | Training loss: 0.4753, validation accuracy: 0.8307, validation loss: 0.5276\n",
      "100%|██████████████████████████████████████████████████████████| 313/313 [00:25<00:00, 12.22it/s, loss=0.4538]\n",
      "Epoch 22 | Training loss: 0.4538, validation accuracy: 0.8375, validation loss: 0.5102\n",
      "100%|██████████████████████████████████████████████████████████| 313/313 [00:25<00:00, 12.20it/s, loss=0.4354]\n",
      "Epoch 23 | Training loss: 0.4354, validation accuracy: 0.8342, validation loss: 0.5197\n",
      "100%|██████████████████████████████████████████████████████████| 313/313 [00:25<00:00, 12.20it/s, loss=0.4212]\n",
      "Epoch 24 | Training loss: 0.4212, validation accuracy: 0.8439, validation loss: 0.4765\n",
      "100%|██████████████████████████████████████████████████████████| 313/313 [00:25<00:00, 12.18it/s, loss=0.3936]\n",
      "Epoch 25 | Training loss: 0.3936, validation accuracy: 0.8349, validation loss: 0.5122\n",
      "100%|██████████████████████████████████████████████████████████| 313/313 [00:25<00:00, 12.21it/s, loss=0.3832]\n",
      "Epoch 26 | Training loss: 0.3832, validation accuracy: 0.8437, validation loss: 0.4740\n",
      "100%|██████████████████████████████████████████████████████████| 313/313 [00:25<00:00, 12.21it/s, loss=0.3667]\n",
      "Epoch 27 | Training loss: 0.3667, validation accuracy: 0.8419, validation loss: 0.5039\n",
      "100%|██████████████████████████████████████████████████████████| 313/313 [00:25<00:00, 12.20it/s, loss=0.3621]\n",
      "Epoch 28 | Training loss: 0.3621, validation accuracy: 0.8420, validation loss: 0.4858\n",
      "100%|██████████████████████████████████████████████████████████| 313/313 [00:25<00:00, 12.20it/s, loss=0.3345]\n",
      "Epoch 29 | Training loss: 0.3345, validation accuracy: 0.8423, validation loss: 0.4998\n",
      "100%|██████████████████████████████████████████████████████████| 313/313 [00:25<00:00, 12.22it/s, loss=0.3274]\n",
      "Epoch 30 | Training loss: 0.3274, validation accuracy: 0.8458, validation loss: 0.4931\n",
      "100%|██████████████████████████████████████████████████████████| 313/313 [00:25<00:00, 12.21it/s, loss=0.3158]\n",
      "Epoch 31 | Training loss: 0.3158, validation accuracy: 0.8344, validation loss: 0.5261\n",
      "100%|██████████████████████████████████████████████████████████| 313/313 [00:25<00:00, 12.19it/s, loss=0.3115]\n",
      "Epoch 32 | Training loss: 0.3115, validation accuracy: 0.8573, validation loss: 0.4665\n",
      "100%|██████████████████████████████████████████████████████████| 313/313 [00:25<00:00, 12.21it/s, loss=0.2876]\n",
      "Epoch 33 | Training loss: 0.2876, validation accuracy: 0.8568, validation loss: 0.4703\n",
      "100%|██████████████████████████████████████████████████████████| 313/313 [00:25<00:00, 12.22it/s, loss=0.2809]\n",
      "Epoch 34 | Training loss: 0.2809, validation accuracy: 0.8488, validation loss: 0.4803\n",
      "100%|██████████████████████████████████████████████████████████| 313/313 [00:25<00:00, 12.22it/s, loss=0.2742]\n",
      "Epoch 35 | Training loss: 0.2742, validation accuracy: 0.8506, validation loss: 0.4947\n",
      "100%|██████████████████████████████████████████████████████████| 313/313 [00:25<00:00, 12.19it/s, loss=0.2649]\n",
      "Epoch 36 | Training loss: 0.2649, validation accuracy: 0.8466, validation loss: 0.4919\n",
      "100%|██████████████████████████████████████████████████████████| 313/313 [00:25<00:00, 12.22it/s, loss=0.2549]\n",
      "Epoch 37 | Training loss: 0.2549, validation accuracy: 0.8540, validation loss: 0.4676\n",
      "100%|██████████████████████████████████████████████████████████| 313/313 [00:25<00:00, 12.21it/s, loss=0.2437]\n",
      "Epoch 38 | Training loss: 0.2437, validation accuracy: 0.8439, validation loss: 0.5399\n",
      "100%|██████████████████████████████████████████████████████████| 313/313 [00:25<00:00, 12.20it/s, loss=0.2378]\n",
      "Epoch 39 | Training loss: 0.2378, validation accuracy: 0.8581, validation loss: 0.4725\n",
      "100%|██████████████████████████████████████████████████████████| 313/313 [00:25<00:00, 12.21it/s, loss=0.2284]\n",
      "Epoch 40 | Training loss: 0.2284, validation accuracy: 0.8630, validation loss: 0.4585\n",
      "100%|██████████████████████████████████████████████████████████| 313/313 [00:25<00:00, 12.21it/s, loss=0.2211]\n",
      "Epoch 41 | Training loss: 0.2211, validation accuracy: 0.8498, validation loss: 0.5175\n",
      "100%|██████████████████████████████████████████████████████████| 313/313 [00:25<00:00, 12.20it/s, loss=0.2140]\n",
      "Epoch 42 | Training loss: 0.2140, validation accuracy: 0.8541, validation loss: 0.4934\n",
      "100%|██████████████████████████████████████████████████████████| 313/313 [00:25<00:00, 12.20it/s, loss=0.2022]\n",
      "Epoch 43 | Training loss: 0.2022, validation accuracy: 0.8602, validation loss: 0.4986\n",
      "100%|██████████████████████████████████████████████████████████| 313/313 [00:25<00:00, 12.21it/s, loss=0.1945]\n",
      "Epoch 44 | Training loss: 0.1945, validation accuracy: 0.8652, validation loss: 0.4644\n",
      "100%|██████████████████████████████████████████████████████████| 313/313 [00:25<00:00, 12.21it/s, loss=0.1867]\n",
      "Epoch 45 | Training loss: 0.1867, validation accuracy: 0.8628, validation loss: 0.5324\n"
     ]
    }
   ],
   "source": [
    "torch.manual_seed(2020)\n",
    "epochs = 45\n",
    "\n",
    "for epoch in range(epochs):\n",
    "    train_loss = trainer.train_epoch(model, optimizer, dl[\"train\"])\n",
    "    optimizer.finish_epoch()\n",
    "    val_acc, val_loss = trainer.validation(model, dl[\"valid\"])\n",
    "    logger.log(\"Epoch\", epoch+1, \"|\", \n",
    "          f\"Training loss: {train_loss:.4f}, validation accuracy: {val_acc:.4f}, validation loss: {val_loss:.4f}\")"
   ]
  },
  {
   "cell_type": "code",
   "execution_count": 100,
   "id": "a96ba2b5-481e-43ab-bb80-931885d99d30",
   "metadata": {},
   "outputs": [
    {
     "name": "stdout",
     "output_type": "stream",
     "text": [
      "Train: (0.94465, 0.16465158625841142)\n",
      "Valid: (0.8628, 0.5324086793899536)\n"
     ]
    }
   ],
   "source": [
    "train_score = trainer.validation(model, dl[\"train\"])\n",
    "valid_score = trainer.validation(model, dl[\"valid\"])\n",
    "logger.log(\"Train:\", train_score)\n",
    "logger.log(\"Valid:\", valid_score)"
   ]
  },
  {
   "cell_type": "code",
   "execution_count": 101,
   "id": "a3f43414-182f-4897-b810-4e9c8e7bb411",
   "metadata": {},
   "outputs": [
    {
     "name": "stdout",
     "output_type": "stream",
     "text": [
      "RNA\n"
     ]
    }
   ],
   "source": [
    "optimizer.param_groups[0][\"method\"] = \"RNA\"\n",
    "logger.log(\"RNA\")\n",
    "model_acc = deepcopy(model)\n",
    "optimizer.accelerate()\n",
    "optimizer.store_parameters([model_acc.parameters()])"
   ]
  },
  {
   "cell_type": "code",
   "execution_count": 102,
   "id": "8b4f66bb-feb9-4880-8b2f-ff16f08740b4",
   "metadata": {
    "tags": []
   },
   "outputs": [
    {
     "name": "stdout",
     "output_type": "stream",
     "text": [
      "Train: (0.9703, 0.09419253569245338)\n",
      "Valid: (0.88, 0.4036796995162964)\n"
     ]
    }
   ],
   "source": [
    "model_acc.to(trainer.device)\n",
    "train_score = trainer.validation(model_acc, dl[\"train\"])\n",
    "valid_score = trainer.validation(model_acc, dl[\"valid\"])\n",
    "logger.log(\"Train:\", train_score)\n",
    "logger.log(\"Valid:\", valid_score)"
   ]
  },
  {
   "cell_type": "code",
   "execution_count": 103,
   "id": "97045dd5-aa03-4f51-8817-63435fcb696d",
   "metadata": {},
   "outputs": [
    {
     "name": "stdout",
     "output_type": "stream",
     "text": [
      "RRE\n"
     ]
    }
   ],
   "source": [
    "optimizer.param_groups[0][\"method\"] = \"RRE\"\n",
    "logger.log(\"RRE\")\n",
    "model_acc = deepcopy(model)\n",
    "optimizer.accelerate()\n",
    "optimizer.store_parameters([model_acc.parameters()])"
   ]
  },
  {
   "cell_type": "code",
   "execution_count": 104,
   "id": "10f90449-5940-41db-8033-d8bb47cd8393",
   "metadata": {
    "tags": []
   },
   "outputs": [
    {
     "name": "stdout",
     "output_type": "stream",
     "text": [
      "Train: (0.9724, 0.09156930482387543)\n",
      "Valid: (0.8799, 0.40365803604125977)\n"
     ]
    }
   ],
   "source": [
    "model_acc.to(trainer.device)\n",
    "train_score = trainer.validation(model_acc, dl[\"train\"])\n",
    "valid_score = trainer.validation(model_acc, dl[\"valid\"])\n",
    "logger.log(\"Train:\", train_score)\n",
    "logger.log(\"Valid:\", valid_score)"
   ]
  },
  {
   "cell_type": "code",
   "execution_count": 105,
   "id": "3a386553-6377-47c1-a539-c5808d63526d",
   "metadata": {},
   "outputs": [],
   "source": [
    "optimizer.param_groups[0][\"lr\"] = 1e-3"
   ]
  },
  {
   "cell_type": "code",
   "execution_count": 106,
   "id": "b3903c1f-6798-4e76-afc5-d31e3c11392e",
   "metadata": {},
   "outputs": [
    {
     "name": "stdout",
     "output_type": "stream",
     "text": [
      "100%|██████████████████████████████████████████████████████████| 313/313 [00:25<00:00, 12.22it/s, loss=0.1125]\n",
      "Epoch 1 | Training loss: 0.1125, validation accuracy: 0.8750, validation loss: 0.4864\n",
      "100%|██████████████████████████████████████████████████████████| 313/313 [00:25<00:00, 12.17it/s, loss=0.0903]\n",
      "Epoch 2 | Training loss: 0.0903, validation accuracy: 0.8747, validation loss: 0.4994\n",
      "100%|██████████████████████████████████████████████████████████| 313/313 [00:25<00:00, 12.19it/s, loss=0.0857]\n",
      "Epoch 3 | Training loss: 0.0857, validation accuracy: 0.8755, validation loss: 0.4980\n",
      "100%|██████████████████████████████████████████████████████████| 313/313 [00:25<00:00, 12.18it/s, loss=0.0793]\n",
      "Epoch 4 | Training loss: 0.0793, validation accuracy: 0.8754, validation loss: 0.5178\n",
      "100%|██████████████████████████████████████████████████████████| 313/313 [00:25<00:00, 12.20it/s, loss=0.0759]\n",
      "Epoch 5 | Training loss: 0.0759, validation accuracy: 0.8765, validation loss: 0.5059\n",
      "100%|██████████████████████████████████████████████████████████| 313/313 [00:25<00:00, 12.18it/s, loss=0.0692]\n",
      "Epoch 6 | Training loss: 0.0692, validation accuracy: 0.8780, validation loss: 0.5210\n",
      "100%|██████████████████████████████████████████████████████████| 313/313 [00:25<00:00, 12.17it/s, loss=0.0707]\n",
      "Epoch 7 | Training loss: 0.0707, validation accuracy: 0.8775, validation loss: 0.5219\n",
      "100%|██████████████████████████████████████████████████████████| 313/313 [00:25<00:00, 12.17it/s, loss=0.0673]\n",
      "Epoch 8 | Training loss: 0.0673, validation accuracy: 0.8754, validation loss: 0.5373\n",
      "100%|██████████████████████████████████████████████████████████| 313/313 [00:25<00:00, 12.17it/s, loss=0.0661]\n",
      "Epoch 9 | Training loss: 0.0661, validation accuracy: 0.8746, validation loss: 0.5346\n",
      "100%|██████████████████████████████████████████████████████████| 313/313 [00:25<00:00, 12.16it/s, loss=0.0643]\n",
      "Epoch 10 | Training loss: 0.0643, validation accuracy: 0.8760, validation loss: 0.5335\n",
      "100%|██████████████████████████████████████████████████████████| 313/313 [00:25<00:00, 12.16it/s, loss=0.0608]\n",
      "Epoch 11 | Training loss: 0.0608, validation accuracy: 0.8759, validation loss: 0.5403\n",
      "100%|██████████████████████████████████████████████████████████| 313/313 [00:25<00:00, 12.16it/s, loss=0.0620]\n",
      "Epoch 12 | Training loss: 0.0620, validation accuracy: 0.8756, validation loss: 0.5381\n",
      "100%|██████████████████████████████████████████████████████████| 313/313 [00:25<00:00, 12.14it/s, loss=0.0592]\n",
      "Epoch 13 | Training loss: 0.0592, validation accuracy: 0.8750, validation loss: 0.5396\n",
      "100%|██████████████████████████████████████████████████████████| 313/313 [00:25<00:00, 12.14it/s, loss=0.0575]\n",
      "Epoch 14 | Training loss: 0.0575, validation accuracy: 0.8757, validation loss: 0.5473\n",
      "100%|██████████████████████████████████████████████████████████| 313/313 [00:25<00:00, 12.20it/s, loss=0.0568]\n",
      "Epoch 15 | Training loss: 0.0568, validation accuracy: 0.8750, validation loss: 0.5586\n",
      "100%|██████████████████████████████████████████████████████████| 313/313 [00:25<00:00, 12.15it/s, loss=0.0573]\n",
      "Epoch 16 | Training loss: 0.0573, validation accuracy: 0.8762, validation loss: 0.5327\n",
      "100%|██████████████████████████████████████████████████████████| 313/313 [00:25<00:00, 12.16it/s, loss=0.0567]\n",
      "Epoch 17 | Training loss: 0.0567, validation accuracy: 0.8747, validation loss: 0.5510\n",
      "100%|██████████████████████████████████████████████████████████| 313/313 [00:25<00:00, 12.14it/s, loss=0.0540]\n",
      "Epoch 18 | Training loss: 0.0540, validation accuracy: 0.8755, validation loss: 0.5563\n",
      "100%|██████████████████████████████████████████████████████████| 313/313 [00:25<00:00, 12.18it/s, loss=0.0536]\n",
      "Epoch 19 | Training loss: 0.0536, validation accuracy: 0.8742, validation loss: 0.5570\n",
      "100%|██████████████████████████████████████████████████████████| 313/313 [00:25<00:00, 12.17it/s, loss=0.0520]\n",
      "Epoch 20 | Training loss: 0.0520, validation accuracy: 0.8752, validation loss: 0.5568\n",
      "100%|██████████████████████████████████████████████████████████| 313/313 [00:25<00:00, 12.14it/s, loss=0.0499]\n",
      "Epoch 21 | Training loss: 0.0499, validation accuracy: 0.8751, validation loss: 0.5575\n",
      "100%|██████████████████████████████████████████████████████████| 313/313 [00:25<00:00, 12.14it/s, loss=0.0525]\n",
      "Epoch 22 | Training loss: 0.0525, validation accuracy: 0.8770, validation loss: 0.5381\n",
      "100%|██████████████████████████████████████████████████████████| 313/313 [00:25<00:00, 12.17it/s, loss=0.0501]\n",
      "Epoch 23 | Training loss: 0.0501, validation accuracy: 0.8775, validation loss: 0.5471\n",
      "100%|██████████████████████████████████████████████████████████| 313/313 [00:25<00:00, 12.20it/s, loss=0.0476]\n",
      "Epoch 24 | Training loss: 0.0476, validation accuracy: 0.8780, validation loss: 0.5541\n",
      "100%|██████████████████████████████████████████████████████████| 313/313 [00:25<00:00, 12.16it/s, loss=0.0472]\n",
      "Epoch 25 | Training loss: 0.0472, validation accuracy: 0.8750, validation loss: 0.5772\n",
      "100%|██████████████████████████████████████████████████████████| 313/313 [00:25<00:00, 12.16it/s, loss=0.0456]\n",
      "Epoch 26 | Training loss: 0.0456, validation accuracy: 0.8766, validation loss: 0.5727\n",
      "100%|██████████████████████████████████████████████████████████| 313/313 [00:25<00:00, 12.19it/s, loss=0.0434]\n",
      "Epoch 27 | Training loss: 0.0434, validation accuracy: 0.8726, validation loss: 0.6205\n",
      "100%|██████████████████████████████████████████████████████████| 313/313 [00:25<00:00, 12.17it/s, loss=0.0484]\n",
      "Epoch 28 | Training loss: 0.0484, validation accuracy: 0.8741, validation loss: 0.5880\n",
      "100%|██████████████████████████████████████████████████████████| 313/313 [00:25<00:00, 12.16it/s, loss=0.0422]\n",
      "Epoch 29 | Training loss: 0.0422, validation accuracy: 0.8777, validation loss: 0.5779\n",
      "100%|██████████████████████████████████████████████████████████| 313/313 [00:25<00:00, 12.19it/s, loss=0.0455]\n",
      "Epoch 30 | Training loss: 0.0455, validation accuracy: 0.8778, validation loss: 0.5651\n"
     ]
    }
   ],
   "source": [
    "epochs = 30\n",
    "\n",
    "for epoch in range(epochs):\n",
    "    train_loss = trainer.train_epoch(model, optimizer, dl[\"train\"])\n",
    "    optimizer.finish_epoch()\n",
    "    val_acc, val_loss = trainer.validation(model, dl[\"valid\"])\n",
    "    logger.log(\"Epoch\", epoch+1, \"|\", \n",
    "          f\"Training loss: {train_loss:.4f}, validation accuracy: {val_acc:.4f}, validation loss: {val_loss:.4f}\")"
   ]
  },
  {
   "cell_type": "code",
   "execution_count": 107,
   "id": "cf69c692-548c-408e-befa-260f52b483bf",
   "metadata": {},
   "outputs": [
    {
     "name": "stdout",
     "output_type": "stream",
     "text": [
      "Train: (0.98555, 0.041348774747550485)\n",
      "Valid: (0.8778, 0.5650828149795533)\n"
     ]
    }
   ],
   "source": [
    "train_score = trainer.validation(model, dl[\"train\"])\n",
    "valid_score = trainer.validation(model, dl[\"valid\"])\n",
    "logger.log(\"Train:\", train_score)\n",
    "logger.log(\"Valid:\", valid_score)"
   ]
  },
  {
   "cell_type": "code",
   "execution_count": 108,
   "id": "20c78ca9-e39f-46f0-b08a-5911dcb25f2a",
   "metadata": {},
   "outputs": [
    {
     "name": "stdout",
     "output_type": "stream",
     "text": [
      "RNA\n"
     ]
    }
   ],
   "source": [
    "optimizer.param_groups[0][\"method\"] = \"RNA\"\n",
    "logger.log(\"RNA\")\n",
    "model_acc = deepcopy(model)\n",
    "optimizer.accelerate()\n",
    "optimizer.store_parameters([model_acc.parameters()])"
   ]
  },
  {
   "cell_type": "code",
   "execution_count": 109,
   "id": "7bf73f11-dbb1-40ff-a5cb-c914dac8af57",
   "metadata": {
    "tags": []
   },
   "outputs": [
    {
     "name": "stdout",
     "output_type": "stream",
     "text": [
      "Train: (0.98755, 0.03792667396739125)\n",
      "Valid: (0.8777, 0.5602526610374451)\n"
     ]
    }
   ],
   "source": [
    "model_acc.to(trainer.device)\n",
    "train_score = trainer.validation(model_acc, dl[\"train\"])\n",
    "valid_score = trainer.validation(model_acc, dl[\"valid\"])\n",
    "logger.log(\"Train:\", train_score)\n",
    "logger.log(\"Valid:\", valid_score)"
   ]
  },
  {
   "cell_type": "code",
   "execution_count": 110,
   "id": "7a6de253-1f21-4aa0-a9dd-cbfc161b4ec1",
   "metadata": {},
   "outputs": [
    {
     "name": "stdout",
     "output_type": "stream",
     "text": [
      "RRE\n"
     ]
    }
   ],
   "source": [
    "optimizer.param_groups[0][\"method\"] = \"RRE\"\n",
    "logger.log(\"RRE\")\n",
    "model_acc = deepcopy(model)\n",
    "optimizer.accelerate()\n",
    "optimizer.store_parameters([model_acc.parameters()])"
   ]
  },
  {
   "cell_type": "code",
   "execution_count": 111,
   "id": "ca607ac6-a29a-4b3d-b4de-e0d1e55e7a16",
   "metadata": {
    "tags": []
   },
   "outputs": [
    {
     "name": "stdout",
     "output_type": "stream",
     "text": [
      "Train: (0.986525, 0.03883714797794819)\n",
      "Valid: (0.8777, 0.5602180318832397)\n"
     ]
    }
   ],
   "source": [
    "model_acc.to(trainer.device)\n",
    "train_score = trainer.validation(model_acc, dl[\"train\"])\n",
    "valid_score = trainer.validation(model_acc, dl[\"valid\"])\n",
    "logger.log(\"Train:\", train_score)\n",
    "logger.log(\"Valid:\", valid_score)"
   ]
  },
  {
   "cell_type": "markdown",
   "id": "greenhouse-belarus",
   "metadata": {},
   "source": [
    "## Epoch average, alpha = 0.9"
   ]
  },
  {
   "cell_type": "code",
   "execution_count": 112,
   "id": "68abb457-0b41-40c4-a502-ff5eac480bab",
   "metadata": {},
   "outputs": [
    {
     "data": {
      "text/plain": [
       "VGG(\n",
       "  (features): Sequential(\n",
       "    (0): Conv2d(3, 64, kernel_size=(3, 3), stride=(1, 1), padding=(1, 1))\n",
       "    (1): ReLU(inplace=True)\n",
       "    (2): Conv2d(64, 64, kernel_size=(3, 3), stride=(1, 1), padding=(1, 1))\n",
       "    (3): ReLU(inplace=True)\n",
       "    (4): MaxPool2d(kernel_size=2, stride=2, padding=0, dilation=1, ceil_mode=False)\n",
       "    (5): Conv2d(64, 128, kernel_size=(3, 3), stride=(1, 1), padding=(1, 1))\n",
       "    (6): ReLU(inplace=True)\n",
       "    (7): Conv2d(128, 128, kernel_size=(3, 3), stride=(1, 1), padding=(1, 1))\n",
       "    (8): ReLU(inplace=True)\n",
       "    (9): MaxPool2d(kernel_size=2, stride=2, padding=0, dilation=1, ceil_mode=False)\n",
       "    (10): Conv2d(128, 256, kernel_size=(3, 3), stride=(1, 1), padding=(1, 1))\n",
       "    (11): ReLU(inplace=True)\n",
       "    (12): Conv2d(256, 256, kernel_size=(3, 3), stride=(1, 1), padding=(1, 1))\n",
       "    (13): ReLU(inplace=True)\n",
       "    (14): Conv2d(256, 256, kernel_size=(3, 3), stride=(1, 1), padding=(1, 1))\n",
       "    (15): ReLU(inplace=True)\n",
       "    (16): MaxPool2d(kernel_size=2, stride=2, padding=0, dilation=1, ceil_mode=False)\n",
       "    (17): Conv2d(256, 512, kernel_size=(3, 3), stride=(1, 1), padding=(1, 1))\n",
       "    (18): ReLU(inplace=True)\n",
       "    (19): Conv2d(512, 512, kernel_size=(3, 3), stride=(1, 1), padding=(1, 1))\n",
       "    (20): ReLU(inplace=True)\n",
       "    (21): Conv2d(512, 512, kernel_size=(3, 3), stride=(1, 1), padding=(1, 1))\n",
       "    (22): ReLU(inplace=True)\n",
       "    (23): MaxPool2d(kernel_size=2, stride=2, padding=0, dilation=1, ceil_mode=False)\n",
       "    (24): Conv2d(512, 512, kernel_size=(3, 3), stride=(1, 1), padding=(1, 1))\n",
       "    (25): ReLU(inplace=True)\n",
       "    (26): Conv2d(512, 512, kernel_size=(3, 3), stride=(1, 1), padding=(1, 1))\n",
       "    (27): ReLU(inplace=True)\n",
       "    (28): Conv2d(512, 512, kernel_size=(3, 3), stride=(1, 1), padding=(1, 1))\n",
       "    (29): ReLU(inplace=True)\n",
       "    (30): MaxPool2d(kernel_size=2, stride=2, padding=0, dilation=1, ceil_mode=False)\n",
       "  )\n",
       "  (avgpool): AdaptiveAvgPool2d(output_size=(7, 7))\n",
       "  (classifier): Sequential(\n",
       "    (0): Linear(in_features=25088, out_features=4096, bias=True)\n",
       "    (1): ReLU(inplace=True)\n",
       "    (2): Dropout(p=0.5, inplace=False)\n",
       "    (3): Linear(in_features=4096, out_features=4096, bias=True)\n",
       "    (4): ReLU(inplace=True)\n",
       "    (5): Dropout(p=0.5, inplace=False)\n",
       "    (6): Linear(in_features=4096, out_features=10, bias=True)\n",
       "    (7): LogSoftmax(dim=-1)\n",
       "  )\n",
       ")"
      ]
     },
     "execution_count": 112,
     "metadata": {},
     "output_type": "execute_result"
    }
   ],
   "source": [
    "model.load_state_dict(initial_state)\n",
    "model.to(trainer.device)"
   ]
  },
  {
   "cell_type": "code",
   "execution_count": 113,
   "id": "b2e37a13-a6f0-4aa8-aff4-f76e7554fc4c",
   "metadata": {},
   "outputs": [],
   "source": [
    "optimizer = AcceleratedSGD(model.parameters(), 1e-2, k=10, momentum=0.9, weight_decay=1e-5, lambda_=1e-8, \n",
    "                           mode=\"epoch_avg\", avg_alpha=0.9)\n",
    "logger = Logger(\"vgg_log_augmentation_alpha_09.txt.no_resizing\")"
   ]
  },
  {
   "cell_type": "code",
   "execution_count": 114,
   "id": "b549525e-1b2b-4a10-819e-31d5b0bd6aff",
   "metadata": {},
   "outputs": [
    {
     "name": "stdout",
     "output_type": "stream",
     "text": [
      "100%|██████████████████████████████████████████████████████████| 313/313 [00:25<00:00, 12.28it/s, loss=2.0887]\n",
      "Epoch 1 | Training loss: 2.0887, validation accuracy: 0.2760, validation loss: 1.8180\n",
      "100%|██████████████████████████████████████████████████████████| 313/313 [00:25<00:00, 12.25it/s, loss=1.7669]\n",
      "Epoch 2 | Training loss: 1.7669, validation accuracy: 0.3875, validation loss: 1.5624\n",
      "100%|██████████████████████████████████████████████████████████| 313/313 [00:25<00:00, 12.23it/s, loss=1.5616]\n",
      "Epoch 3 | Training loss: 1.5616, validation accuracy: 0.4223, validation loss: 1.5375\n",
      "100%|██████████████████████████████████████████████████████████| 313/313 [00:25<00:00, 12.24it/s, loss=1.3857]\n",
      "Epoch 4 | Training loss: 1.3857, validation accuracy: 0.5804, validation loss: 1.1481\n",
      "100%|██████████████████████████████████████████████████████████| 313/313 [00:25<00:00, 12.24it/s, loss=1.2403]\n",
      "Epoch 5 | Training loss: 1.2403, validation accuracy: 0.6188, validation loss: 1.0620\n",
      "100%|██████████████████████████████████████████████████████████| 313/313 [00:25<00:00, 12.23it/s, loss=1.1020]\n",
      "Epoch 6 | Training loss: 1.1020, validation accuracy: 0.6553, validation loss: 0.9716\n",
      "100%|██████████████████████████████████████████████████████████| 313/313 [00:25<00:00, 12.23it/s, loss=1.0166]\n",
      "Epoch 7 | Training loss: 1.0166, validation accuracy: 0.7006, validation loss: 0.8455\n",
      "100%|██████████████████████████████████████████████████████████| 313/313 [00:25<00:00, 12.20it/s, loss=0.9408]\n",
      "Epoch 8 | Training loss: 0.9408, validation accuracy: 0.6886, validation loss: 0.8861\n",
      "100%|██████████████████████████████████████████████████████████| 313/313 [00:25<00:00, 12.20it/s, loss=0.8888]\n",
      "Epoch 9 | Training loss: 0.8888, validation accuracy: 0.7238, validation loss: 0.8048\n",
      "100%|██████████████████████████████████████████████████████████| 313/313 [00:25<00:00, 12.21it/s, loss=0.8271]\n",
      "Epoch 10 | Training loss: 0.8271, validation accuracy: 0.7297, validation loss: 0.7798\n",
      "100%|██████████████████████████████████████████████████████████| 313/313 [00:25<00:00, 12.22it/s, loss=0.7786]\n",
      "Epoch 11 | Training loss: 0.7786, validation accuracy: 0.7591, validation loss: 0.6942\n",
      "100%|██████████████████████████████████████████████████████████| 313/313 [00:25<00:00, 12.20it/s, loss=0.7247]\n",
      "Epoch 12 | Training loss: 0.7247, validation accuracy: 0.7775, validation loss: 0.6515\n",
      "100%|██████████████████████████████████████████████████████████| 313/313 [00:25<00:00, 12.19it/s, loss=0.6885]\n",
      "Epoch 13 | Training loss: 0.6885, validation accuracy: 0.7852, validation loss: 0.6429\n",
      "100%|██████████████████████████████████████████████████████████| 313/313 [00:25<00:00, 12.19it/s, loss=0.6546]\n",
      "Epoch 14 | Training loss: 0.6546, validation accuracy: 0.7706, validation loss: 0.6863\n",
      "100%|██████████████████████████████████████████████████████████| 313/313 [00:25<00:00, 12.19it/s, loss=0.6275]\n",
      "Epoch 15 | Training loss: 0.6275, validation accuracy: 0.8071, validation loss: 0.5832\n",
      "100%|██████████████████████████████████████████████████████████| 313/313 [00:25<00:00, 12.20it/s, loss=0.6005]\n",
      "Epoch 16 | Training loss: 0.6005, validation accuracy: 0.8090, validation loss: 0.5718\n",
      "100%|██████████████████████████████████████████████████████████| 313/313 [00:25<00:00, 12.22it/s, loss=0.5649]\n",
      "Epoch 17 | Training loss: 0.5649, validation accuracy: 0.8158, validation loss: 0.5491\n",
      "100%|██████████████████████████████████████████████████████████| 313/313 [00:25<00:00, 12.21it/s, loss=0.5513]\n",
      "Epoch 18 | Training loss: 0.5513, validation accuracy: 0.8216, validation loss: 0.5397\n",
      "100%|██████████████████████████████████████████████████████████| 313/313 [00:25<00:00, 12.20it/s, loss=0.5172]\n",
      "Epoch 19 | Training loss: 0.5172, validation accuracy: 0.8236, validation loss: 0.5282\n",
      "100%|██████████████████████████████████████████████████████████| 313/313 [00:25<00:00, 12.22it/s, loss=0.5018]\n",
      "Epoch 20 | Training loss: 0.5018, validation accuracy: 0.8281, validation loss: 0.5182\n",
      "100%|██████████████████████████████████████████████████████████| 313/313 [00:25<00:00, 12.18it/s, loss=0.4694]\n",
      "Epoch 21 | Training loss: 0.4694, validation accuracy: 0.8278, validation loss: 0.5422\n",
      "100%|██████████████████████████████████████████████████████████| 313/313 [00:25<00:00, 12.21it/s, loss=0.4487]\n",
      "Epoch 22 | Training loss: 0.4487, validation accuracy: 0.8343, validation loss: 0.5026\n",
      "100%|██████████████████████████████████████████████████████████| 313/313 [00:25<00:00, 12.21it/s, loss=0.4357]\n",
      "Epoch 23 | Training loss: 0.4357, validation accuracy: 0.8340, validation loss: 0.5140\n",
      "100%|██████████████████████████████████████████████████████████| 313/313 [00:25<00:00, 12.22it/s, loss=0.4233]\n",
      "Epoch 24 | Training loss: 0.4233, validation accuracy: 0.8328, validation loss: 0.5078\n",
      "100%|██████████████████████████████████████████████████████████| 313/313 [00:25<00:00, 12.20it/s, loss=0.4002]\n",
      "Epoch 25 | Training loss: 0.4002, validation accuracy: 0.8402, validation loss: 0.4773\n",
      "100%|██████████████████████████████████████████████████████████| 313/313 [00:25<00:00, 12.19it/s, loss=0.3846]\n",
      "Epoch 26 | Training loss: 0.3846, validation accuracy: 0.8486, validation loss: 0.4711\n",
      "100%|██████████████████████████████████████████████████████████| 313/313 [00:25<00:00, 12.19it/s, loss=0.3728]\n",
      "Epoch 27 | Training loss: 0.3728, validation accuracy: 0.8496, validation loss: 0.4714\n",
      "100%|██████████████████████████████████████████████████████████| 313/313 [00:25<00:00, 12.21it/s, loss=0.3559]\n",
      "Epoch 28 | Training loss: 0.3559, validation accuracy: 0.8422, validation loss: 0.4818\n",
      "100%|██████████████████████████████████████████████████████████| 313/313 [00:25<00:00, 12.18it/s, loss=0.3347]\n",
      "Epoch 29 | Training loss: 0.3347, validation accuracy: 0.8423, validation loss: 0.4993\n",
      "100%|██████████████████████████████████████████████████████████| 313/313 [00:25<00:00, 12.21it/s, loss=0.3235]\n",
      "Epoch 30 | Training loss: 0.3235, validation accuracy: 0.8535, validation loss: 0.4722\n",
      "100%|██████████████████████████████████████████████████████████| 313/313 [00:25<00:00, 12.23it/s, loss=0.3213]\n",
      "Epoch 31 | Training loss: 0.3213, validation accuracy: 0.8286, validation loss: 0.5600\n",
      "100%|██████████████████████████████████████████████████████████| 313/313 [00:25<00:00, 12.21it/s, loss=0.3104]\n",
      "Epoch 32 | Training loss: 0.3104, validation accuracy: 0.8478, validation loss: 0.4957\n",
      "100%|██████████████████████████████████████████████████████████| 313/313 [00:25<00:00, 12.22it/s, loss=0.2994]\n",
      "Epoch 33 | Training loss: 0.2994, validation accuracy: 0.8549, validation loss: 0.4619\n",
      "100%|██████████████████████████████████████████████████████████| 313/313 [00:25<00:00, 12.23it/s, loss=0.2840]\n",
      "Epoch 34 | Training loss: 0.2840, validation accuracy: 0.8433, validation loss: 0.5140\n",
      "100%|██████████████████████████████████████████████████████████| 313/313 [00:25<00:00, 12.22it/s, loss=0.2764]\n",
      "Epoch 35 | Training loss: 0.2764, validation accuracy: 0.8523, validation loss: 0.4624\n",
      "100%|██████████████████████████████████████████████████████████| 313/313 [00:25<00:00, 12.22it/s, loss=0.2669]\n",
      "Epoch 36 | Training loss: 0.2669, validation accuracy: 0.8578, validation loss: 0.4506\n",
      "100%|██████████████████████████████████████████████████████████| 313/313 [00:25<00:00, 12.19it/s, loss=0.2500]\n",
      "Epoch 37 | Training loss: 0.2500, validation accuracy: 0.8485, validation loss: 0.4821\n",
      "100%|██████████████████████████████████████████████████████████| 313/313 [00:25<00:00, 12.20it/s, loss=0.2516]\n",
      "Epoch 38 | Training loss: 0.2516, validation accuracy: 0.8611, validation loss: 0.4512\n",
      "100%|██████████████████████████████████████████████████████████| 313/313 [00:25<00:00, 12.20it/s, loss=0.2348]\n",
      "Epoch 39 | Training loss: 0.2348, validation accuracy: 0.8544, validation loss: 0.4784\n",
      "100%|██████████████████████████████████████████████████████████| 313/313 [00:25<00:00, 12.21it/s, loss=0.2274]\n",
      "Epoch 40 | Training loss: 0.2274, validation accuracy: 0.8629, validation loss: 0.4663\n",
      "100%|██████████████████████████████████████████████████████████| 313/313 [00:25<00:00, 12.22it/s, loss=0.2241]\n",
      "Epoch 41 | Training loss: 0.2241, validation accuracy: 0.8581, validation loss: 0.4897\n",
      "100%|██████████████████████████████████████████████████████████| 313/313 [00:25<00:00, 12.22it/s, loss=0.2074]\n",
      "Epoch 42 | Training loss: 0.2074, validation accuracy: 0.8527, validation loss: 0.5019\n",
      "100%|██████████████████████████████████████████████████████████| 313/313 [00:25<00:00, 12.22it/s, loss=0.2035]\n",
      "Epoch 43 | Training loss: 0.2035, validation accuracy: 0.8608, validation loss: 0.4963\n",
      "100%|██████████████████████████████████████████████████████████| 313/313 [00:25<00:00, 12.22it/s, loss=0.2006]\n",
      "Epoch 44 | Training loss: 0.2006, validation accuracy: 0.8576, validation loss: 0.4841\n",
      "100%|██████████████████████████████████████████████████████████| 313/313 [00:25<00:00, 12.21it/s, loss=0.1945]\n",
      "Epoch 45 | Training loss: 0.1945, validation accuracy: 0.8631, validation loss: 0.4949\n"
     ]
    }
   ],
   "source": [
    "torch.manual_seed(2020)\n",
    "epochs = 45\n",
    "\n",
    "for epoch in range(epochs):\n",
    "    train_loss = trainer.train_epoch(model, optimizer, dl[\"train\"])\n",
    "    optimizer.finish_epoch()\n",
    "    val_acc, val_loss = trainer.validation(model, dl[\"valid\"])\n",
    "    logger.log(\"Epoch\", epoch+1, \"|\", \n",
    "          f\"Training loss: {train_loss:.4f}, validation accuracy: {val_acc:.4f}, validation loss: {val_loss:.4f}\")"
   ]
  },
  {
   "cell_type": "code",
   "execution_count": 115,
   "id": "4b527db6-7479-431d-878a-ed0a63053f4d",
   "metadata": {},
   "outputs": [
    {
     "name": "stdout",
     "output_type": "stream",
     "text": [
      "Train: (0.94145, 0.17383630282878876)\n",
      "Valid: (0.8631, 0.4949284041404724)\n"
     ]
    }
   ],
   "source": [
    "train_score = trainer.validation(model, dl[\"train\"])\n",
    "valid_score = trainer.validation(model, dl[\"valid\"])\n",
    "logger.log(\"Train:\", train_score)\n",
    "logger.log(\"Valid:\", valid_score)"
   ]
  },
  {
   "cell_type": "code",
   "execution_count": 116,
   "id": "94388050-68ea-40aa-a4fa-a42af53f0cbd",
   "metadata": {},
   "outputs": [
    {
     "name": "stdout",
     "output_type": "stream",
     "text": [
      "RNA\n"
     ]
    }
   ],
   "source": [
    "optimizer.param_groups[0][\"method\"] = \"RNA\"\n",
    "logger.log(\"RNA\")\n",
    "model_acc = deepcopy(model)\n",
    "optimizer.accelerate()\n",
    "optimizer.store_parameters([model_acc.parameters()])"
   ]
  },
  {
   "cell_type": "code",
   "execution_count": 117,
   "id": "f5d8e661-88a3-4eb9-bd1e-39f4a9f56ff7",
   "metadata": {
    "tags": []
   },
   "outputs": [
    {
     "name": "stdout",
     "output_type": "stream",
     "text": [
      "Train: (0.96975, 0.0962745177090168)\n",
      "Valid: (0.8832, 0.3893376468658447)\n"
     ]
    }
   ],
   "source": [
    "model_acc.to(trainer.device)\n",
    "train_score = trainer.validation(model_acc, dl[\"train\"])\n",
    "valid_score = trainer.validation(model_acc, dl[\"valid\"])\n",
    "logger.log(\"Train:\", train_score)\n",
    "logger.log(\"Valid:\", valid_score)"
   ]
  },
  {
   "cell_type": "code",
   "execution_count": 118,
   "id": "0efa4d1e-04d8-4691-ad2f-f443290eee9b",
   "metadata": {},
   "outputs": [
    {
     "name": "stdout",
     "output_type": "stream",
     "text": [
      "RRE\n"
     ]
    }
   ],
   "source": [
    "optimizer.param_groups[0][\"method\"] = \"RRE\"\n",
    "logger.log(\"RRE\")\n",
    "model_acc = deepcopy(model)\n",
    "optimizer.accelerate()\n",
    "optimizer.store_parameters([model_acc.parameters()])"
   ]
  },
  {
   "cell_type": "code",
   "execution_count": 119,
   "id": "a0fce1ab-a054-4524-805d-467ae59ec6ea",
   "metadata": {
    "tags": []
   },
   "outputs": [
    {
     "name": "stdout",
     "output_type": "stream",
     "text": [
      "Train: (0.9699, 0.0959766697049141)\n",
      "Valid: (0.8832, 0.38928272047042844)\n"
     ]
    }
   ],
   "source": [
    "model_acc.to(trainer.device)\n",
    "train_score = trainer.validation(model_acc, dl[\"train\"])\n",
    "valid_score = trainer.validation(model_acc, dl[\"valid\"])\n",
    "logger.log(\"Train:\", train_score)\n",
    "logger.log(\"Valid:\", valid_score)"
   ]
  },
  {
   "cell_type": "code",
   "execution_count": 120,
   "id": "9c0bea3b-91c2-4425-9541-7195504bd6ba",
   "metadata": {},
   "outputs": [],
   "source": [
    "optimizer.param_groups[0][\"lr\"] = 1e-3"
   ]
  },
  {
   "cell_type": "code",
   "execution_count": 121,
   "id": "c34cee51-5198-49ab-aa5d-56b6c715e1de",
   "metadata": {},
   "outputs": [
    {
     "name": "stdout",
     "output_type": "stream",
     "text": [
      "100%|██████████████████████████████████████████████████████████| 313/313 [00:25<00:00, 12.17it/s, loss=0.1121]\n",
      "Epoch 1 | Training loss: 0.1121, validation accuracy: 0.8807, validation loss: 0.4551\n",
      "100%|██████████████████████████████████████████████████████████| 313/313 [00:25<00:00, 12.16it/s, loss=0.0919]\n",
      "Epoch 2 | Training loss: 0.0919, validation accuracy: 0.8803, validation loss: 0.4736\n",
      "100%|██████████████████████████████████████████████████████████| 313/313 [00:25<00:00, 12.19it/s, loss=0.0857]\n",
      "Epoch 3 | Training loss: 0.0857, validation accuracy: 0.8816, validation loss: 0.4709\n",
      "100%|██████████████████████████████████████████████████████████| 313/313 [00:25<00:00, 12.16it/s, loss=0.0817]\n",
      "Epoch 4 | Training loss: 0.0817, validation accuracy: 0.8817, validation loss: 0.4843\n",
      "100%|██████████████████████████████████████████████████████████| 313/313 [00:25<00:00, 12.19it/s, loss=0.0779]\n",
      "Epoch 5 | Training loss: 0.0779, validation accuracy: 0.8836, validation loss: 0.4732\n",
      "100%|██████████████████████████████████████████████████████████| 313/313 [00:25<00:00, 12.17it/s, loss=0.0758]\n",
      "Epoch 6 | Training loss: 0.0758, validation accuracy: 0.8817, validation loss: 0.4839\n",
      "100%|██████████████████████████████████████████████████████████| 313/313 [00:25<00:00, 12.16it/s, loss=0.0708]\n",
      "Epoch 7 | Training loss: 0.0708, validation accuracy: 0.8838, validation loss: 0.4971\n",
      "100%|██████████████████████████████████████████████████████████| 313/313 [00:25<00:00, 12.18it/s, loss=0.0707]\n",
      "Epoch 8 | Training loss: 0.0707, validation accuracy: 0.8845, validation loss: 0.4981\n",
      "100%|██████████████████████████████████████████████████████████| 313/313 [00:25<00:00, 12.17it/s, loss=0.0665]\n",
      "Epoch 9 | Training loss: 0.0665, validation accuracy: 0.8819, validation loss: 0.5013\n",
      "100%|██████████████████████████████████████████████████████████| 313/313 [00:25<00:00, 12.14it/s, loss=0.0670]\n",
      "Epoch 10 | Training loss: 0.0670, validation accuracy: 0.8824, validation loss: 0.5105\n",
      "100%|██████████████████████████████████████████████████████████| 313/313 [00:25<00:00, 12.17it/s, loss=0.0639]\n",
      "Epoch 11 | Training loss: 0.0639, validation accuracy: 0.8840, validation loss: 0.5014\n",
      "100%|██████████████████████████████████████████████████████████| 313/313 [00:25<00:00, 12.18it/s, loss=0.0622]\n",
      "Epoch 12 | Training loss: 0.0622, validation accuracy: 0.8813, validation loss: 0.5055\n",
      "100%|██████████████████████████████████████████████████████████| 313/313 [00:25<00:00, 12.15it/s, loss=0.0586]\n",
      "Epoch 13 | Training loss: 0.0586, validation accuracy: 0.8811, validation loss: 0.5299\n",
      "100%|██████████████████████████████████████████████████████████| 313/313 [00:25<00:00, 12.14it/s, loss=0.0578]\n",
      "Epoch 14 | Training loss: 0.0578, validation accuracy: 0.8819, validation loss: 0.5263\n",
      "100%|██████████████████████████████████████████████████████████| 313/313 [00:25<00:00, 12.17it/s, loss=0.0588]\n",
      "Epoch 15 | Training loss: 0.0588, validation accuracy: 0.8835, validation loss: 0.5260\n",
      "100%|██████████████████████████████████████████████████████████| 313/313 [00:25<00:00, 12.17it/s, loss=0.0537]\n",
      "Epoch 16 | Training loss: 0.0537, validation accuracy: 0.8835, validation loss: 0.5247\n",
      "100%|██████████████████████████████████████████████████████████| 313/313 [00:25<00:00, 12.16it/s, loss=0.0564]\n",
      "Epoch 17 | Training loss: 0.0564, validation accuracy: 0.8840, validation loss: 0.5235\n",
      "100%|██████████████████████████████████████████████████████████| 313/313 [00:25<00:00, 12.17it/s, loss=0.0571]\n",
      "Epoch 18 | Training loss: 0.0571, validation accuracy: 0.8829, validation loss: 0.5301\n",
      "100%|██████████████████████████████████████████████████████████| 313/313 [00:25<00:00, 12.15it/s, loss=0.0537]\n",
      "Epoch 19 | Training loss: 0.0537, validation accuracy: 0.8811, validation loss: 0.5396\n",
      "100%|██████████████████████████████████████████████████████████| 313/313 [00:25<00:00, 12.16it/s, loss=0.0494]\n",
      "Epoch 20 | Training loss: 0.0494, validation accuracy: 0.8848, validation loss: 0.5348\n",
      "100%|██████████████████████████████████████████████████████████| 313/313 [00:25<00:00, 12.18it/s, loss=0.0495]\n",
      "Epoch 21 | Training loss: 0.0495, validation accuracy: 0.8841, validation loss: 0.5330\n",
      "100%|██████████████████████████████████████████████████████████| 313/313 [00:25<00:00, 12.15it/s, loss=0.0515]\n",
      "Epoch 22 | Training loss: 0.0515, validation accuracy: 0.8806, validation loss: 0.5504\n",
      "100%|██████████████████████████████████████████████████████████| 313/313 [00:25<00:00, 12.15it/s, loss=0.0506]\n",
      "Epoch 23 | Training loss: 0.0506, validation accuracy: 0.8797, validation loss: 0.5514\n",
      "100%|██████████████████████████████████████████████████████████| 313/313 [00:25<00:00, 12.17it/s, loss=0.0489]\n",
      "Epoch 24 | Training loss: 0.0489, validation accuracy: 0.8840, validation loss: 0.5397\n",
      "100%|██████████████████████████████████████████████████████████| 313/313 [00:25<00:00, 12.15it/s, loss=0.0497]\n",
      "Epoch 25 | Training loss: 0.0497, validation accuracy: 0.8812, validation loss: 0.5425\n",
      "100%|██████████████████████████████████████████████████████████| 313/313 [00:25<00:00, 12.13it/s, loss=0.0474]\n",
      "Epoch 26 | Training loss: 0.0474, validation accuracy: 0.8820, validation loss: 0.5671\n",
      "100%|██████████████████████████████████████████████████████████| 313/313 [00:25<00:00, 12.18it/s, loss=0.0463]\n",
      "Epoch 27 | Training loss: 0.0463, validation accuracy: 0.8812, validation loss: 0.5508\n",
      "100%|██████████████████████████████████████████████████████████| 313/313 [00:25<00:00, 12.15it/s, loss=0.0466]\n",
      "Epoch 28 | Training loss: 0.0466, validation accuracy: 0.8811, validation loss: 0.5524\n",
      "100%|██████████████████████████████████████████████████████████| 313/313 [00:25<00:00, 12.12it/s, loss=0.0426]\n",
      "Epoch 29 | Training loss: 0.0426, validation accuracy: 0.8795, validation loss: 0.5804\n",
      "100%|██████████████████████████████████████████████████████████| 313/313 [00:25<00:00, 12.17it/s, loss=0.0462]\n",
      "Epoch 30 | Training loss: 0.0462, validation accuracy: 0.8842, validation loss: 0.5525\n"
     ]
    }
   ],
   "source": [
    "epochs = 30\n",
    "\n",
    "for epoch in range(epochs):\n",
    "    train_loss = trainer.train_epoch(model, optimizer, dl[\"train\"])\n",
    "    optimizer.finish_epoch()\n",
    "    val_acc, val_loss = trainer.validation(model, dl[\"valid\"])\n",
    "    logger.log(\"Epoch\", epoch+1, \"|\", \n",
    "          f\"Training loss: {train_loss:.4f}, validation accuracy: {val_acc:.4f}, validation loss: {val_loss:.4f}\")"
   ]
  },
  {
   "cell_type": "code",
   "execution_count": 122,
   "id": "1db913f1-5f68-455f-9a31-e42609ec882a",
   "metadata": {},
   "outputs": [
    {
     "name": "stdout",
     "output_type": "stream",
     "text": [
      "Train: (0.98485, 0.04473927171379328)\n",
      "Valid: (0.8842, 0.5525007114410401)\n"
     ]
    }
   ],
   "source": [
    "train_score = trainer.validation(model, dl[\"train\"])\n",
    "valid_score = trainer.validation(model, dl[\"valid\"])\n",
    "logger.log(\"Train:\", train_score)\n",
    "logger.log(\"Valid:\", valid_score)"
   ]
  },
  {
   "cell_type": "code",
   "execution_count": 123,
   "id": "90148716-f6df-4236-b82b-545fbc1098c9",
   "metadata": {},
   "outputs": [
    {
     "name": "stdout",
     "output_type": "stream",
     "text": [
      "RNA\n"
     ]
    }
   ],
   "source": [
    "optimizer.param_groups[0][\"method\"] = \"RNA\"\n",
    "logger.log(\"RNA\")\n",
    "model_acc = deepcopy(model)\n",
    "optimizer.accelerate()\n",
    "optimizer.store_parameters([model_acc.parameters()])"
   ]
  },
  {
   "cell_type": "code",
   "execution_count": 124,
   "id": "112a02bd-6479-4d34-a6d1-924d316fc89d",
   "metadata": {
    "tags": []
   },
   "outputs": [
    {
     "name": "stdout",
     "output_type": "stream",
     "text": [
      "Train: (0.986425, 0.04133399092853069)\n",
      "Valid: (0.8849, 0.5423776842117309)\n"
     ]
    }
   ],
   "source": [
    "model_acc.to(trainer.device)\n",
    "train_score = trainer.validation(model_acc, dl[\"train\"])\n",
    "valid_score = trainer.validation(model_acc, dl[\"valid\"])\n",
    "logger.log(\"Train:\", train_score)\n",
    "logger.log(\"Valid:\", valid_score)"
   ]
  },
  {
   "cell_type": "code",
   "execution_count": 125,
   "id": "affa9fe4-ba10-4eaf-9eaa-a894dab2e71d",
   "metadata": {},
   "outputs": [
    {
     "name": "stdout",
     "output_type": "stream",
     "text": [
      "RRE\n"
     ]
    }
   ],
   "source": [
    "optimizer.param_groups[0][\"method\"] = \"RRE\"\n",
    "logger.log(\"RRE\")\n",
    "model_acc = deepcopy(model)\n",
    "optimizer.accelerate()\n",
    "optimizer.store_parameters([model_acc.parameters()])"
   ]
  },
  {
   "cell_type": "code",
   "execution_count": 126,
   "id": "7ba105f7-d71a-4546-91a6-d7b8fa8a9091",
   "metadata": {
    "tags": []
   },
   "outputs": [
    {
     "name": "stdout",
     "output_type": "stream",
     "text": [
      "Train: (0.98605, 0.041012950982153414)\n",
      "Valid: (0.8849, 0.5423800123214721)\n"
     ]
    }
   ],
   "source": [
    "model_acc.to(trainer.device)\n",
    "train_score = trainer.validation(model_acc, dl[\"train\"])\n",
    "valid_score = trainer.validation(model_acc, dl[\"valid\"])\n",
    "logger.log(\"Train:\", train_score)\n",
    "logger.log(\"Valid:\", valid_score)"
   ]
  },
  {
   "cell_type": "code",
   "execution_count": null,
   "id": "collective-identifier",
   "metadata": {},
   "outputs": [],
   "source": []
  }
 ],
 "metadata": {
  "kernelspec": {
   "display_name": "Python 3 (magister)",
   "language": "python",
   "name": "mgr"
  },
  "language_info": {
   "codemirror_mode": {
    "name": "ipython",
    "version": 3
   },
   "file_extension": ".py",
   "mimetype": "text/x-python",
   "name": "python",
   "nbconvert_exporter": "python",
   "pygments_lexer": "ipython3",
   "version": "3.8.13"
  }
 },
 "nbformat": 4,
 "nbformat_minor": 5
}
