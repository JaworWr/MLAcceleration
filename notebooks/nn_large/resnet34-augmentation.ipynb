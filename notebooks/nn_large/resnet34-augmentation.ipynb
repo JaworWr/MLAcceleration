{
 "cells": [
  {
   "cell_type": "code",
   "execution_count": 1,
   "id": "f5d6ddbd-8ce5-428c-847c-c4e262ed995f",
   "metadata": {},
   "outputs": [],
   "source": [
    "import sys\n",
    "sys.path.insert(0, \"../..\")"
   ]
  },
  {
   "cell_type": "code",
   "execution_count": 2,
   "id": "compact-ozone",
   "metadata": {},
   "outputs": [],
   "source": [
    "import torch\n",
    "from torch import nn\n",
    "from torchvision import models\n",
    "from copy import deepcopy\n",
    "import os\n",
    "\n",
    "from nn_extrapolation import AcceleratedSGD\n",
    "from nn_utils import *"
   ]
  },
  {
   "cell_type": "code",
   "execution_count": 3,
   "id": "8ef2bebf-d43d-4cde-b953-fc90d052adda",
   "metadata": {},
   "outputs": [],
   "source": [
    "trainer = Trainer(\n",
    "    device=\"cuda:0\",\n",
    "    loss_fn=nn.NLLLoss(reduction=\"mean\"),\n",
    "    val_loss_fn=nn.NLLLoss(reduction=\"sum\"),\n",
    ")"
   ]
  },
  {
   "cell_type": "code",
   "execution_count": 4,
   "id": "individual-hearing",
   "metadata": {},
   "outputs": [
    {
     "name": "stdout",
     "output_type": "stream",
     "text": [
      "Files already downloaded and verified\n",
      "Files already downloaded and verified\n"
     ]
    }
   ],
   "source": [
    "dl = load_dataset(\n",
    "    dataset=\"CIFAR10\",\n",
    "    root=os.path.join(\"/tmp\", os.environ[\"USER\"], \"CIFAR\"),\n",
    "    augmentation=transforms.RandomAffine(10, scale=(0.9, 1.1), translate=(0.2, 0.2)),\n",
    "    validation_split=0.2,\n",
    "    batch_size=128,\n",
    "    num_workers=10,\n",
    ")"
   ]
  },
  {
   "cell_type": "code",
   "execution_count": 5,
   "id": "naked-heath",
   "metadata": {
    "tags": []
   },
   "outputs": [
    {
     "data": {
      "text/plain": [
       "ResNet(\n",
       "  (conv1): Conv2d(3, 64, kernel_size=(7, 7), stride=(2, 2), padding=(3, 3), bias=False)\n",
       "  (bn1): BatchNorm2d(64, eps=1e-05, momentum=0.1, affine=True, track_running_stats=True)\n",
       "  (relu): ReLU(inplace=True)\n",
       "  (maxpool): MaxPool2d(kernel_size=3, stride=2, padding=1, dilation=1, ceil_mode=False)\n",
       "  (layer1): Sequential(\n",
       "    (0): BasicBlock(\n",
       "      (conv1): Conv2d(64, 64, kernel_size=(3, 3), stride=(1, 1), padding=(1, 1), bias=False)\n",
       "      (bn1): BatchNorm2d(64, eps=1e-05, momentum=0.1, affine=True, track_running_stats=True)\n",
       "      (relu): ReLU(inplace=True)\n",
       "      (conv2): Conv2d(64, 64, kernel_size=(3, 3), stride=(1, 1), padding=(1, 1), bias=False)\n",
       "      (bn2): BatchNorm2d(64, eps=1e-05, momentum=0.1, affine=True, track_running_stats=True)\n",
       "    )\n",
       "    (1): BasicBlock(\n",
       "      (conv1): Conv2d(64, 64, kernel_size=(3, 3), stride=(1, 1), padding=(1, 1), bias=False)\n",
       "      (bn1): BatchNorm2d(64, eps=1e-05, momentum=0.1, affine=True, track_running_stats=True)\n",
       "      (relu): ReLU(inplace=True)\n",
       "      (conv2): Conv2d(64, 64, kernel_size=(3, 3), stride=(1, 1), padding=(1, 1), bias=False)\n",
       "      (bn2): BatchNorm2d(64, eps=1e-05, momentum=0.1, affine=True, track_running_stats=True)\n",
       "    )\n",
       "    (2): BasicBlock(\n",
       "      (conv1): Conv2d(64, 64, kernel_size=(3, 3), stride=(1, 1), padding=(1, 1), bias=False)\n",
       "      (bn1): BatchNorm2d(64, eps=1e-05, momentum=0.1, affine=True, track_running_stats=True)\n",
       "      (relu): ReLU(inplace=True)\n",
       "      (conv2): Conv2d(64, 64, kernel_size=(3, 3), stride=(1, 1), padding=(1, 1), bias=False)\n",
       "      (bn2): BatchNorm2d(64, eps=1e-05, momentum=0.1, affine=True, track_running_stats=True)\n",
       "    )\n",
       "  )\n",
       "  (layer2): Sequential(\n",
       "    (0): BasicBlock(\n",
       "      (conv1): Conv2d(64, 128, kernel_size=(3, 3), stride=(2, 2), padding=(1, 1), bias=False)\n",
       "      (bn1): BatchNorm2d(128, eps=1e-05, momentum=0.1, affine=True, track_running_stats=True)\n",
       "      (relu): ReLU(inplace=True)\n",
       "      (conv2): Conv2d(128, 128, kernel_size=(3, 3), stride=(1, 1), padding=(1, 1), bias=False)\n",
       "      (bn2): BatchNorm2d(128, eps=1e-05, momentum=0.1, affine=True, track_running_stats=True)\n",
       "      (downsample): Sequential(\n",
       "        (0): Conv2d(64, 128, kernel_size=(1, 1), stride=(2, 2), bias=False)\n",
       "        (1): BatchNorm2d(128, eps=1e-05, momentum=0.1, affine=True, track_running_stats=True)\n",
       "      )\n",
       "    )\n",
       "    (1): BasicBlock(\n",
       "      (conv1): Conv2d(128, 128, kernel_size=(3, 3), stride=(1, 1), padding=(1, 1), bias=False)\n",
       "      (bn1): BatchNorm2d(128, eps=1e-05, momentum=0.1, affine=True, track_running_stats=True)\n",
       "      (relu): ReLU(inplace=True)\n",
       "      (conv2): Conv2d(128, 128, kernel_size=(3, 3), stride=(1, 1), padding=(1, 1), bias=False)\n",
       "      (bn2): BatchNorm2d(128, eps=1e-05, momentum=0.1, affine=True, track_running_stats=True)\n",
       "    )\n",
       "    (2): BasicBlock(\n",
       "      (conv1): Conv2d(128, 128, kernel_size=(3, 3), stride=(1, 1), padding=(1, 1), bias=False)\n",
       "      (bn1): BatchNorm2d(128, eps=1e-05, momentum=0.1, affine=True, track_running_stats=True)\n",
       "      (relu): ReLU(inplace=True)\n",
       "      (conv2): Conv2d(128, 128, kernel_size=(3, 3), stride=(1, 1), padding=(1, 1), bias=False)\n",
       "      (bn2): BatchNorm2d(128, eps=1e-05, momentum=0.1, affine=True, track_running_stats=True)\n",
       "    )\n",
       "    (3): BasicBlock(\n",
       "      (conv1): Conv2d(128, 128, kernel_size=(3, 3), stride=(1, 1), padding=(1, 1), bias=False)\n",
       "      (bn1): BatchNorm2d(128, eps=1e-05, momentum=0.1, affine=True, track_running_stats=True)\n",
       "      (relu): ReLU(inplace=True)\n",
       "      (conv2): Conv2d(128, 128, kernel_size=(3, 3), stride=(1, 1), padding=(1, 1), bias=False)\n",
       "      (bn2): BatchNorm2d(128, eps=1e-05, momentum=0.1, affine=True, track_running_stats=True)\n",
       "    )\n",
       "  )\n",
       "  (layer3): Sequential(\n",
       "    (0): BasicBlock(\n",
       "      (conv1): Conv2d(128, 256, kernel_size=(3, 3), stride=(2, 2), padding=(1, 1), bias=False)\n",
       "      (bn1): BatchNorm2d(256, eps=1e-05, momentum=0.1, affine=True, track_running_stats=True)\n",
       "      (relu): ReLU(inplace=True)\n",
       "      (conv2): Conv2d(256, 256, kernel_size=(3, 3), stride=(1, 1), padding=(1, 1), bias=False)\n",
       "      (bn2): BatchNorm2d(256, eps=1e-05, momentum=0.1, affine=True, track_running_stats=True)\n",
       "      (downsample): Sequential(\n",
       "        (0): Conv2d(128, 256, kernel_size=(1, 1), stride=(2, 2), bias=False)\n",
       "        (1): BatchNorm2d(256, eps=1e-05, momentum=0.1, affine=True, track_running_stats=True)\n",
       "      )\n",
       "    )\n",
       "    (1): BasicBlock(\n",
       "      (conv1): Conv2d(256, 256, kernel_size=(3, 3), stride=(1, 1), padding=(1, 1), bias=False)\n",
       "      (bn1): BatchNorm2d(256, eps=1e-05, momentum=0.1, affine=True, track_running_stats=True)\n",
       "      (relu): ReLU(inplace=True)\n",
       "      (conv2): Conv2d(256, 256, kernel_size=(3, 3), stride=(1, 1), padding=(1, 1), bias=False)\n",
       "      (bn2): BatchNorm2d(256, eps=1e-05, momentum=0.1, affine=True, track_running_stats=True)\n",
       "    )\n",
       "    (2): BasicBlock(\n",
       "      (conv1): Conv2d(256, 256, kernel_size=(3, 3), stride=(1, 1), padding=(1, 1), bias=False)\n",
       "      (bn1): BatchNorm2d(256, eps=1e-05, momentum=0.1, affine=True, track_running_stats=True)\n",
       "      (relu): ReLU(inplace=True)\n",
       "      (conv2): Conv2d(256, 256, kernel_size=(3, 3), stride=(1, 1), padding=(1, 1), bias=False)\n",
       "      (bn2): BatchNorm2d(256, eps=1e-05, momentum=0.1, affine=True, track_running_stats=True)\n",
       "    )\n",
       "    (3): BasicBlock(\n",
       "      (conv1): Conv2d(256, 256, kernel_size=(3, 3), stride=(1, 1), padding=(1, 1), bias=False)\n",
       "      (bn1): BatchNorm2d(256, eps=1e-05, momentum=0.1, affine=True, track_running_stats=True)\n",
       "      (relu): ReLU(inplace=True)\n",
       "      (conv2): Conv2d(256, 256, kernel_size=(3, 3), stride=(1, 1), padding=(1, 1), bias=False)\n",
       "      (bn2): BatchNorm2d(256, eps=1e-05, momentum=0.1, affine=True, track_running_stats=True)\n",
       "    )\n",
       "    (4): BasicBlock(\n",
       "      (conv1): Conv2d(256, 256, kernel_size=(3, 3), stride=(1, 1), padding=(1, 1), bias=False)\n",
       "      (bn1): BatchNorm2d(256, eps=1e-05, momentum=0.1, affine=True, track_running_stats=True)\n",
       "      (relu): ReLU(inplace=True)\n",
       "      (conv2): Conv2d(256, 256, kernel_size=(3, 3), stride=(1, 1), padding=(1, 1), bias=False)\n",
       "      (bn2): BatchNorm2d(256, eps=1e-05, momentum=0.1, affine=True, track_running_stats=True)\n",
       "    )\n",
       "    (5): BasicBlock(\n",
       "      (conv1): Conv2d(256, 256, kernel_size=(3, 3), stride=(1, 1), padding=(1, 1), bias=False)\n",
       "      (bn1): BatchNorm2d(256, eps=1e-05, momentum=0.1, affine=True, track_running_stats=True)\n",
       "      (relu): ReLU(inplace=True)\n",
       "      (conv2): Conv2d(256, 256, kernel_size=(3, 3), stride=(1, 1), padding=(1, 1), bias=False)\n",
       "      (bn2): BatchNorm2d(256, eps=1e-05, momentum=0.1, affine=True, track_running_stats=True)\n",
       "    )\n",
       "  )\n",
       "  (layer4): Sequential(\n",
       "    (0): BasicBlock(\n",
       "      (conv1): Conv2d(256, 512, kernel_size=(3, 3), stride=(2, 2), padding=(1, 1), bias=False)\n",
       "      (bn1): BatchNorm2d(512, eps=1e-05, momentum=0.1, affine=True, track_running_stats=True)\n",
       "      (relu): ReLU(inplace=True)\n",
       "      (conv2): Conv2d(512, 512, kernel_size=(3, 3), stride=(1, 1), padding=(1, 1), bias=False)\n",
       "      (bn2): BatchNorm2d(512, eps=1e-05, momentum=0.1, affine=True, track_running_stats=True)\n",
       "      (downsample): Sequential(\n",
       "        (0): Conv2d(256, 512, kernel_size=(1, 1), stride=(2, 2), bias=False)\n",
       "        (1): BatchNorm2d(512, eps=1e-05, momentum=0.1, affine=True, track_running_stats=True)\n",
       "      )\n",
       "    )\n",
       "    (1): BasicBlock(\n",
       "      (conv1): Conv2d(512, 512, kernel_size=(3, 3), stride=(1, 1), padding=(1, 1), bias=False)\n",
       "      (bn1): BatchNorm2d(512, eps=1e-05, momentum=0.1, affine=True, track_running_stats=True)\n",
       "      (relu): ReLU(inplace=True)\n",
       "      (conv2): Conv2d(512, 512, kernel_size=(3, 3), stride=(1, 1), padding=(1, 1), bias=False)\n",
       "      (bn2): BatchNorm2d(512, eps=1e-05, momentum=0.1, affine=True, track_running_stats=True)\n",
       "    )\n",
       "    (2): BasicBlock(\n",
       "      (conv1): Conv2d(512, 512, kernel_size=(3, 3), stride=(1, 1), padding=(1, 1), bias=False)\n",
       "      (bn1): BatchNorm2d(512, eps=1e-05, momentum=0.1, affine=True, track_running_stats=True)\n",
       "      (relu): ReLU(inplace=True)\n",
       "      (conv2): Conv2d(512, 512, kernel_size=(3, 3), stride=(1, 1), padding=(1, 1), bias=False)\n",
       "      (bn2): BatchNorm2d(512, eps=1e-05, momentum=0.1, affine=True, track_running_stats=True)\n",
       "    )\n",
       "  )\n",
       "  (avgpool): AdaptiveAvgPool2d(output_size=(1, 1))\n",
       "  (fc): Sequential(\n",
       "    (0): Linear(in_features=512, out_features=10, bias=True)\n",
       "    (1): LogSoftmax(dim=-1)\n",
       "  )\n",
       ")"
      ]
     },
     "execution_count": 5,
     "metadata": {},
     "output_type": "execute_result"
    }
   ],
   "source": [
    "model = models.resnet34(pretrained=False)\n",
    "model.fc = nn.Sequential(\n",
    "    nn.Linear(512, 10),\n",
    "    nn.LogSoftmax(-1)\n",
    ")\n",
    "initial_state = deepcopy(model.state_dict())\n",
    "model.to(trainer.device)"
   ]
  },
  {
   "cell_type": "code",
   "execution_count": 6,
   "id": "052e2438-8990-49c1-be79-5f9527c90a3b",
   "metadata": {},
   "outputs": [
    {
     "data": {
      "text/plain": [
       "21289802"
      ]
     },
     "execution_count": 6,
     "metadata": {},
     "output_type": "execute_result"
    }
   ],
   "source": [
    "sum(param.numel() for param in model.parameters())"
   ]
  },
  {
   "cell_type": "code",
   "execution_count": 7,
   "id": "egyptian-apparel",
   "metadata": {},
   "outputs": [
    {
     "data": {
      "text/plain": [
       "(0.0936, 2.5926870376586915)"
      ]
     },
     "execution_count": 7,
     "metadata": {},
     "output_type": "execute_result"
    }
   ],
   "source": [
    "trainer.validation(model, dl[\"valid\"])"
   ]
  },
  {
   "cell_type": "markdown",
   "id": "organized-sellers",
   "metadata": {},
   "source": [
    "## No momentum"
   ]
  },
  {
   "cell_type": "code",
   "execution_count": 8,
   "id": "established-killer",
   "metadata": {},
   "outputs": [
    {
     "data": {
      "text/plain": [
       "<torch._C.Generator at 0x7f4bd03003b0>"
      ]
     },
     "execution_count": 8,
     "metadata": {},
     "output_type": "execute_result"
    }
   ],
   "source": [
    "optimizer = AcceleratedSGD(model.parameters(), 1e-1, k=10, momentum=0, weight_decay=0, lambda_=1e-8)\n",
    "logger = Logger(\"resnet34_log_augmentation_no_momentum.txt.no_resizing\")\n",
    "torch.manual_seed(2020)"
   ]
  },
  {
   "cell_type": "code",
   "execution_count": 9,
   "id": "ef6a193b-e3a8-4291-b79f-177051ebafa7",
   "metadata": {},
   "outputs": [
    {
     "name": "stdout",
     "output_type": "stream",
     "text": [
      "100%|██████████████████████████████████████████████████████████| 313/313 [00:08<00:00, 35.73it/s, loss=2.1418]\n",
      "Epoch 1 | Training loss: 2.1418, validation accuracy: 0.3445, validation loss: 1.9445\n",
      "100%|██████████████████████████████████████████████████████████| 313/313 [00:08<00:00, 35.77it/s, loss=1.6584]\n",
      "Epoch 2 | Training loss: 1.6584, validation accuracy: 0.3831, validation loss: 2.4550\n",
      "100%|██████████████████████████████████████████████████████████| 313/313 [00:08<00:00, 35.31it/s, loss=1.5359]\n",
      "Epoch 3 | Training loss: 1.5359, validation accuracy: 0.4975, validation loss: 1.4326\n",
      "100%|██████████████████████████████████████████████████████████| 313/313 [00:08<00:00, 35.22it/s, loss=1.4069]\n",
      "Epoch 4 | Training loss: 1.4069, validation accuracy: 0.4929, validation loss: 1.6508\n",
      "100%|██████████████████████████████████████████████████████████| 313/313 [00:08<00:00, 35.18it/s, loss=1.3077]\n",
      "Epoch 5 | Training loss: 1.3077, validation accuracy: 0.5087, validation loss: 1.5419\n",
      "100%|██████████████████████████████████████████████████████████| 313/313 [00:08<00:00, 35.22it/s, loss=1.2273]\n",
      "Epoch 6 | Training loss: 1.2273, validation accuracy: 0.5479, validation loss: 1.2607\n",
      "100%|██████████████████████████████████████████████████████████| 313/313 [00:08<00:00, 35.09it/s, loss=1.1719]\n",
      "Epoch 7 | Training loss: 1.1719, validation accuracy: 0.5912, validation loss: 1.4191\n",
      "100%|██████████████████████████████████████████████████████████| 313/313 [00:09<00:00, 34.60it/s, loss=1.1106]\n",
      "Epoch 8 | Training loss: 1.1106, validation accuracy: 0.6100, validation loss: 1.3075\n",
      "100%|██████████████████████████████████████████████████████████| 313/313 [00:09<00:00, 34.14it/s, loss=1.0566]\n",
      "Epoch 9 | Training loss: 1.0566, validation accuracy: 0.5834, validation loss: 1.5090\n",
      "100%|██████████████████████████████████████████████████████████| 313/313 [00:09<00:00, 34.32it/s, loss=1.0153]\n",
      "Epoch 10 | Training loss: 1.0153, validation accuracy: 0.6038, validation loss: 1.1255\n",
      "100%|██████████████████████████████████████████████████████████| 313/313 [00:08<00:00, 35.12it/s, loss=0.9770]\n",
      "Epoch 11 | Training loss: 0.9770, validation accuracy: 0.6132, validation loss: 1.1313\n",
      "100%|██████████████████████████████████████████████████████████| 313/313 [00:08<00:00, 35.22it/s, loss=0.9437]\n",
      "Epoch 12 | Training loss: 0.9437, validation accuracy: 0.6429, validation loss: 1.0329\n",
      "100%|██████████████████████████████████████████████████████████| 313/313 [00:08<00:00, 35.05it/s, loss=0.9075]\n",
      "Epoch 13 | Training loss: 0.9075, validation accuracy: 0.6836, validation loss: 0.9239\n",
      "100%|██████████████████████████████████████████████████████████| 313/313 [00:09<00:00, 34.34it/s, loss=0.8823]\n",
      "Epoch 14 | Training loss: 0.8823, validation accuracy: 0.6351, validation loss: 1.1101\n",
      "100%|██████████████████████████████████████████████████████████| 313/313 [00:09<00:00, 34.38it/s, loss=0.8523]\n",
      "Epoch 15 | Training loss: 0.8523, validation accuracy: 0.6787, validation loss: 0.9208\n",
      "100%|██████████████████████████████████████████████████████████| 313/313 [00:08<00:00, 35.09it/s, loss=0.8302]\n",
      "Epoch 16 | Training loss: 0.8302, validation accuracy: 0.6978, validation loss: 0.8693\n",
      "100%|██████████████████████████████████████████████████████████| 313/313 [00:08<00:00, 35.06it/s, loss=0.8028]\n",
      "Epoch 17 | Training loss: 0.8028, validation accuracy: 0.7054, validation loss: 0.8674\n",
      "100%|██████████████████████████████████████████████████████████| 313/313 [00:08<00:00, 34.87it/s, loss=0.7880]\n",
      "Epoch 18 | Training loss: 0.7880, validation accuracy: 0.7202, validation loss: 0.8185\n",
      "100%|██████████████████████████████████████████████████████████| 313/313 [00:09<00:00, 34.53it/s, loss=0.7645]\n",
      "Epoch 19 | Training loss: 0.7645, validation accuracy: 0.7141, validation loss: 0.8410\n",
      "100%|██████████████████████████████████████████████████████████| 313/313 [00:08<00:00, 34.80it/s, loss=0.7482]\n",
      "Epoch 20 | Training loss: 0.7482, validation accuracy: 0.7183, validation loss: 0.8118\n",
      "100%|██████████████████████████████████████████████████████████| 313/313 [00:09<00:00, 34.75it/s, loss=0.7234]\n",
      "Epoch 21 | Training loss: 0.7234, validation accuracy: 0.7274, validation loss: 0.7933\n",
      "100%|██████████████████████████████████████████████████████████| 313/313 [00:09<00:00, 34.44it/s, loss=0.7064]\n",
      "Epoch 22 | Training loss: 0.7064, validation accuracy: 0.7237, validation loss: 0.8213\n",
      "100%|██████████████████████████████████████████████████████████| 313/313 [00:09<00:00, 34.50it/s, loss=0.6904]\n",
      "Epoch 23 | Training loss: 0.6904, validation accuracy: 0.7302, validation loss: 0.8173\n",
      "100%|██████████████████████████████████████████████████████████| 313/313 [00:08<00:00, 34.81it/s, loss=0.6746]\n",
      "Epoch 24 | Training loss: 0.6746, validation accuracy: 0.7226, validation loss: 0.8483\n",
      "100%|██████████████████████████████████████████████████████████| 313/313 [00:09<00:00, 34.64it/s, loss=0.6650]\n",
      "Epoch 25 | Training loss: 0.6650, validation accuracy: 0.7562, validation loss: 0.7066\n"
     ]
    }
   ],
   "source": [
    "epochs = 25\n",
    "\n",
    "for epoch in range(epochs):\n",
    "    train_loss = trainer.train_epoch(model, optimizer, dl[\"train\"])\n",
    "    optimizer.finish_epoch()\n",
    "    val_acc, val_loss = trainer.validation(model, dl[\"valid\"])\n",
    "    logger.log(\"Epoch\", epoch+1, \"|\", \n",
    "          f\"Training loss: {train_loss:.4f}, validation accuracy: {val_acc:.4f}, validation loss: {val_loss:.4f}\")"
   ]
  },
  {
   "cell_type": "code",
   "execution_count": 10,
   "id": "ed56c043-7e32-47fd-960e-ac482c72f31a",
   "metadata": {},
   "outputs": [
    {
     "name": "stdout",
     "output_type": "stream",
     "text": [
      "Train: (0.765175, 0.6567683944702148)\n",
      "Valid: (0.7562, 0.7065862510681152)\n"
     ]
    }
   ],
   "source": [
    "train_score = trainer.validation(model, dl[\"train\"])\n",
    "valid_score = trainer.validation(model, dl[\"valid\"])\n",
    "logger.log(\"Train:\", train_score)\n",
    "logger.log(\"Valid:\", valid_score)"
   ]
  },
  {
   "cell_type": "code",
   "execution_count": 11,
   "id": "6e639af5-c104-4d9a-b6e5-3992a77391b1",
   "metadata": {},
   "outputs": [
    {
     "name": "stdout",
     "output_type": "stream",
     "text": [
      "RNA\n"
     ]
    }
   ],
   "source": [
    "optimizer.param_groups[0][\"method\"] = \"RNA\"\n",
    "logger.log(\"RNA\")\n",
    "model_acc = deepcopy(model)\n",
    "optimizer.accelerate()\n",
    "optimizer.store_parameters([model_acc.parameters()])"
   ]
  },
  {
   "cell_type": "code",
   "execution_count": 12,
   "id": "a7a85565-84b9-49ce-8819-267536459f8c",
   "metadata": {
    "tags": []
   },
   "outputs": [
    {
     "name": "stdout",
     "output_type": "stream",
     "text": [
      "Train: (0.765725, 0.6632355155944825)\n",
      "Valid: (0.7561, 0.7060411434173584)\n"
     ]
    }
   ],
   "source": [
    "model_acc.to(trainer.device)\n",
    "train_score = trainer.validation(model_acc, dl[\"train\"])\n",
    "valid_score = trainer.validation(model_acc, dl[\"valid\"])\n",
    "logger.log(\"Train:\", train_score)\n",
    "logger.log(\"Valid:\", valid_score)"
   ]
  },
  {
   "cell_type": "code",
   "execution_count": 13,
   "id": "3b7549bf-4308-4f4c-921b-ea5377332485",
   "metadata": {},
   "outputs": [
    {
     "name": "stdout",
     "output_type": "stream",
     "text": [
      "RRE\n"
     ]
    }
   ],
   "source": [
    "optimizer.param_groups[0][\"method\"] = \"RRE\"\n",
    "logger.log(\"RRE\")\n",
    "model_acc = deepcopy(model)\n",
    "optimizer.accelerate()\n",
    "optimizer.store_parameters([model_acc.parameters()])"
   ]
  },
  {
   "cell_type": "code",
   "execution_count": 14,
   "id": "0461990d-503f-4111-9ebf-ba2ce6aba6a6",
   "metadata": {
    "tags": []
   },
   "outputs": [
    {
     "name": "stdout",
     "output_type": "stream",
     "text": [
      "Train: (0.7669, 0.6606591187477112)\n",
      "Valid: (0.756, 0.7061777219772339)\n"
     ]
    }
   ],
   "source": [
    "model_acc.to(trainer.device)\n",
    "train_score = trainer.validation(model_acc, dl[\"train\"])\n",
    "valid_score = trainer.validation(model_acc, dl[\"valid\"])\n",
    "logger.log(\"Train:\", train_score)\n",
    "logger.log(\"Valid:\", valid_score)"
   ]
  },
  {
   "cell_type": "code",
   "execution_count": 15,
   "id": "f48b4c12-47ab-406f-a324-be24c56c4c03",
   "metadata": {},
   "outputs": [],
   "source": [
    "optimizer.param_groups[0][\"lr\"] = 1e-2"
   ]
  },
  {
   "cell_type": "code",
   "execution_count": 16,
   "id": "b5b208c9-9cf8-435a-a84a-446491b24251",
   "metadata": {},
   "outputs": [
    {
     "name": "stdout",
     "output_type": "stream",
     "text": [
      "100%|██████████████████████████████████████████████████████████| 313/313 [00:09<00:00, 34.35it/s, loss=0.5732]\n",
      "Epoch 1 | Training loss: 0.5732, validation accuracy: 0.7905, validation loss: 0.6225\n",
      "100%|██████████████████████████████████████████████████████████| 313/313 [00:09<00:00, 34.57it/s, loss=0.5496]\n",
      "Epoch 2 | Training loss: 0.5496, validation accuracy: 0.7913, validation loss: 0.6230\n",
      "100%|██████████████████████████████████████████████████████████| 313/313 [00:09<00:00, 34.57it/s, loss=0.5400]\n",
      "Epoch 3 | Training loss: 0.5400, validation accuracy: 0.7855, validation loss: 0.6219\n",
      "100%|██████████████████████████████████████████████████████████| 313/313 [00:09<00:00, 34.62it/s, loss=0.5319]\n",
      "Epoch 4 | Training loss: 0.5319, validation accuracy: 0.7886, validation loss: 0.6225\n",
      "100%|██████████████████████████████████████████████████████████| 313/313 [00:09<00:00, 33.76it/s, loss=0.5274]\n",
      "Epoch 5 | Training loss: 0.5274, validation accuracy: 0.7917, validation loss: 0.6200\n",
      "100%|██████████████████████████████████████████████████████████| 313/313 [00:09<00:00, 34.09it/s, loss=0.5231]\n",
      "Epoch 6 | Training loss: 0.5231, validation accuracy: 0.7932, validation loss: 0.6194\n",
      "100%|██████████████████████████████████████████████████████████| 313/313 [00:09<00:00, 34.31it/s, loss=0.5155]\n",
      "Epoch 7 | Training loss: 0.5155, validation accuracy: 0.7907, validation loss: 0.6241\n",
      "100%|██████████████████████████████████████████████████████████| 313/313 [00:09<00:00, 34.52it/s, loss=0.5078]\n",
      "Epoch 8 | Training loss: 0.5078, validation accuracy: 0.7929, validation loss: 0.6161\n",
      "100%|██████████████████████████████████████████████████████████| 313/313 [00:09<00:00, 34.49it/s, loss=0.5095]\n",
      "Epoch 9 | Training loss: 0.5095, validation accuracy: 0.7926, validation loss: 0.6178\n",
      "100%|██████████████████████████████████████████████████████████| 313/313 [00:09<00:00, 34.09it/s, loss=0.5101]\n",
      "Epoch 10 | Training loss: 0.5101, validation accuracy: 0.7927, validation loss: 0.6242\n",
      "100%|██████████████████████████████████████████████████████████| 313/313 [00:09<00:00, 34.45it/s, loss=0.4975]\n",
      "Epoch 11 | Training loss: 0.4975, validation accuracy: 0.7923, validation loss: 0.6207\n",
      "100%|██████████████████████████████████████████████████████████| 313/313 [00:09<00:00, 33.95it/s, loss=0.4953]\n",
      "Epoch 12 | Training loss: 0.4953, validation accuracy: 0.7919, validation loss: 0.6221\n",
      "100%|██████████████████████████████████████████████████████████| 313/313 [00:09<00:00, 34.21it/s, loss=0.4927]\n",
      "Epoch 13 | Training loss: 0.4927, validation accuracy: 0.7943, validation loss: 0.6139\n",
      "100%|██████████████████████████████████████████████████████████| 313/313 [00:09<00:00, 34.10it/s, loss=0.4939]\n",
      "Epoch 14 | Training loss: 0.4939, validation accuracy: 0.7930, validation loss: 0.6200\n",
      "100%|██████████████████████████████████████████████████████████| 313/313 [00:09<00:00, 34.29it/s, loss=0.4906]\n",
      "Epoch 15 | Training loss: 0.4906, validation accuracy: 0.7922, validation loss: 0.6226\n",
      "100%|██████████████████████████████████████████████████████████| 313/313 [00:09<00:00, 34.30it/s, loss=0.4852]\n",
      "Epoch 16 | Training loss: 0.4852, validation accuracy: 0.7914, validation loss: 0.6241\n",
      "100%|██████████████████████████████████████████████████████████| 313/313 [00:09<00:00, 33.96it/s, loss=0.4777]\n",
      "Epoch 17 | Training loss: 0.4777, validation accuracy: 0.7942, validation loss: 0.6217\n",
      "100%|██████████████████████████████████████████████████████████| 313/313 [00:09<00:00, 33.87it/s, loss=0.4777]\n",
      "Epoch 18 | Training loss: 0.4777, validation accuracy: 0.7945, validation loss: 0.6161\n",
      "100%|██████████████████████████████████████████████████████████| 313/313 [00:09<00:00, 34.02it/s, loss=0.4719]\n",
      "Epoch 19 | Training loss: 0.4719, validation accuracy: 0.7938, validation loss: 0.6222\n",
      "100%|██████████████████████████████████████████████████████████| 313/313 [00:09<00:00, 34.50it/s, loss=0.4700]\n",
      "Epoch 20 | Training loss: 0.4700, validation accuracy: 0.7976, validation loss: 0.6228\n",
      "100%|██████████████████████████████████████████████████████████| 313/313 [00:09<00:00, 34.17it/s, loss=0.4687]\n",
      "Epoch 21 | Training loss: 0.4687, validation accuracy: 0.7957, validation loss: 0.6231\n",
      "100%|██████████████████████████████████████████████████████████| 313/313 [00:09<00:00, 34.19it/s, loss=0.4716]\n",
      "Epoch 22 | Training loss: 0.4716, validation accuracy: 0.7981, validation loss: 0.6139\n",
      "100%|██████████████████████████████████████████████████████████| 313/313 [00:09<00:00, 34.09it/s, loss=0.4618]\n",
      "Epoch 23 | Training loss: 0.4618, validation accuracy: 0.7950, validation loss: 0.6283\n",
      "100%|██████████████████████████████████████████████████████████| 313/313 [00:09<00:00, 33.72it/s, loss=0.4633]\n",
      "Epoch 24 | Training loss: 0.4633, validation accuracy: 0.7899, validation loss: 0.6470\n",
      "100%|██████████████████████████████████████████████████████████| 313/313 [00:09<00:00, 33.97it/s, loss=0.4600]\n",
      "Epoch 25 | Training loss: 0.4600, validation accuracy: 0.7947, validation loss: 0.6249\n"
     ]
    }
   ],
   "source": [
    "epochs = 25\n",
    "\n",
    "for epoch in range(epochs):\n",
    "    train_loss = trainer.train_epoch(model, optimizer, dl[\"train\"])\n",
    "    optimizer.finish_epoch()\n",
    "    val_acc, val_loss = trainer.validation(model, dl[\"valid\"])\n",
    "    logger.log(\"Epoch\", epoch+1, \"|\", \n",
    "          f\"Training loss: {train_loss:.4f}, validation accuracy: {val_acc:.4f}, validation loss: {val_loss:.4f}\")"
   ]
  },
  {
   "cell_type": "code",
   "execution_count": 17,
   "id": "1aa8b610-fa4b-4513-8bcd-37d149b44e83",
   "metadata": {},
   "outputs": [
    {
     "name": "stdout",
     "output_type": "stream",
     "text": [
      "Train: (0.847675, 0.431540719461441)\n",
      "Valid: (0.7947, 0.6249418844223023)\n"
     ]
    }
   ],
   "source": [
    "train_score = trainer.validation(model, dl[\"train\"])\n",
    "valid_score = trainer.validation(model, dl[\"valid\"])\n",
    "logger.log(\"Train:\", train_score)\n",
    "logger.log(\"Valid:\", valid_score)"
   ]
  },
  {
   "cell_type": "code",
   "execution_count": 18,
   "id": "fa7f8d13-b228-45ca-bf6d-56ccf5692d2f",
   "metadata": {},
   "outputs": [
    {
     "name": "stdout",
     "output_type": "stream",
     "text": [
      "RNA\n"
     ]
    }
   ],
   "source": [
    "optimizer.param_groups[0][\"method\"] = \"RNA\"\n",
    "logger.log(\"RNA\")\n",
    "model_acc = deepcopy(model)\n",
    "optimizer.accelerate()\n",
    "optimizer.store_parameters([model_acc.parameters()])"
   ]
  },
  {
   "cell_type": "code",
   "execution_count": 19,
   "id": "105a0020-14ed-4592-a989-016282043748",
   "metadata": {
    "tags": []
   },
   "outputs": [
    {
     "name": "stdout",
     "output_type": "stream",
     "text": [
      "Train: (0.844925, 0.4386705246448517)\n",
      "Valid: (0.7979, 0.631107096862793)\n"
     ]
    }
   ],
   "source": [
    "model_acc.to(trainer.device)\n",
    "train_score = trainer.validation(model_acc, dl[\"train\"])\n",
    "valid_score = trainer.validation(model_acc, dl[\"valid\"])\n",
    "logger.log(\"Train:\", train_score)\n",
    "logger.log(\"Valid:\", valid_score)"
   ]
  },
  {
   "cell_type": "code",
   "execution_count": 20,
   "id": "0c521ec1-eb7c-4cd6-9512-a983f7afd6cd",
   "metadata": {},
   "outputs": [
    {
     "name": "stdout",
     "output_type": "stream",
     "text": [
      "RRE\n"
     ]
    }
   ],
   "source": [
    "optimizer.param_groups[0][\"method\"] = \"RRE\"\n",
    "logger.log(\"RRE\")\n",
    "model_acc = deepcopy(model)\n",
    "optimizer.accelerate()\n",
    "optimizer.store_parameters([model_acc.parameters()])"
   ]
  },
  {
   "cell_type": "code",
   "execution_count": 21,
   "id": "a27abec1-6558-4f83-8ec4-0a93fdce670e",
   "metadata": {
    "tags": []
   },
   "outputs": [
    {
     "name": "stdout",
     "output_type": "stream",
     "text": [
      "Train: (0.84045, 0.4458770673751831)\n",
      "Valid: (0.7979, 0.6311119369506836)\n"
     ]
    }
   ],
   "source": [
    "model_acc.to(trainer.device)\n",
    "train_score = trainer.validation(model_acc, dl[\"train\"])\n",
    "valid_score = trainer.validation(model_acc, dl[\"valid\"])\n",
    "logger.log(\"Train:\", train_score)\n",
    "logger.log(\"Valid:\", valid_score)"
   ]
  },
  {
   "cell_type": "code",
   "execution_count": 22,
   "id": "99ad45d0-e207-4f5e-a470-4657fc650786",
   "metadata": {},
   "outputs": [],
   "source": [
    "optimizer.param_groups[0][\"lr\"] = 1e-3"
   ]
  },
  {
   "cell_type": "code",
   "execution_count": 23,
   "id": "22229149-1817-41b3-abc8-b5a88b18e381",
   "metadata": {},
   "outputs": [
    {
     "name": "stdout",
     "output_type": "stream",
     "text": [
      "100%|██████████████████████████████████████████████████████████| 313/313 [00:09<00:00, 34.03it/s, loss=0.4451]\n",
      "Epoch 1 | Training loss: 0.4451, validation accuracy: 0.7971, validation loss: 0.6162\n",
      "100%|██████████████████████████████████████████████████████████| 313/313 [00:09<00:00, 33.92it/s, loss=0.4470]\n",
      "Epoch 2 | Training loss: 0.4470, validation accuracy: 0.7985, validation loss: 0.6185\n",
      "100%|██████████████████████████████████████████████████████████| 313/313 [00:09<00:00, 34.09it/s, loss=0.4398]\n",
      "Epoch 3 | Training loss: 0.4398, validation accuracy: 0.7998, validation loss: 0.6170\n",
      "100%|██████████████████████████████████████████████████████████| 313/313 [00:09<00:00, 33.76it/s, loss=0.4390]\n",
      "Epoch 4 | Training loss: 0.4390, validation accuracy: 0.7966, validation loss: 0.6164\n",
      "100%|██████████████████████████████████████████████████████████| 313/313 [00:09<00:00, 34.11it/s, loss=0.4390]\n",
      "Epoch 5 | Training loss: 0.4390, validation accuracy: 0.8001, validation loss: 0.6132\n",
      "100%|██████████████████████████████████████████████████████████| 313/313 [00:09<00:00, 33.68it/s, loss=0.4419]\n",
      "Epoch 6 | Training loss: 0.4419, validation accuracy: 0.7993, validation loss: 0.6184\n",
      "100%|██████████████████████████████████████████████████████████| 313/313 [00:09<00:00, 33.68it/s, loss=0.4387]\n",
      "Epoch 7 | Training loss: 0.4387, validation accuracy: 0.7987, validation loss: 0.6187\n",
      "100%|██████████████████████████████████████████████████████████| 313/313 [00:09<00:00, 34.19it/s, loss=0.4356]\n",
      "Epoch 8 | Training loss: 0.4356, validation accuracy: 0.7987, validation loss: 0.6199\n",
      "100%|██████████████████████████████████████████████████████████| 313/313 [00:09<00:00, 34.23it/s, loss=0.4370]\n",
      "Epoch 9 | Training loss: 0.4370, validation accuracy: 0.7979, validation loss: 0.6198\n",
      "100%|██████████████████████████████████████████████████████████| 313/313 [00:09<00:00, 34.23it/s, loss=0.4386]\n",
      "Epoch 10 | Training loss: 0.4386, validation accuracy: 0.7973, validation loss: 0.6222\n",
      "100%|██████████████████████████████████████████████████████████| 313/313 [00:09<00:00, 34.07it/s, loss=0.4364]\n",
      "Epoch 11 | Training loss: 0.4364, validation accuracy: 0.7974, validation loss: 0.6198\n",
      "100%|██████████████████████████████████████████████████████████| 313/313 [00:09<00:00, 34.04it/s, loss=0.4342]\n",
      "Epoch 12 | Training loss: 0.4342, validation accuracy: 0.7977, validation loss: 0.6222\n",
      "100%|██████████████████████████████████████████████████████████| 313/313 [00:09<00:00, 33.58it/s, loss=0.4390]\n",
      "Epoch 13 | Training loss: 0.4390, validation accuracy: 0.7970, validation loss: 0.6264\n",
      "100%|██████████████████████████████████████████████████████████| 313/313 [00:09<00:00, 34.24it/s, loss=0.4334]\n",
      "Epoch 14 | Training loss: 0.4334, validation accuracy: 0.7996, validation loss: 0.6225\n",
      "100%|██████████████████████████████████████████████████████████| 313/313 [00:09<00:00, 33.98it/s, loss=0.4353]\n",
      "Epoch 15 | Training loss: 0.4353, validation accuracy: 0.7972, validation loss: 0.6232\n",
      "100%|██████████████████████████████████████████████████████████| 313/313 [00:09<00:00, 34.21it/s, loss=0.4370]\n",
      "Epoch 16 | Training loss: 0.4370, validation accuracy: 0.7986, validation loss: 0.6182\n",
      "100%|██████████████████████████████████████████████████████████| 313/313 [00:09<00:00, 34.11it/s, loss=0.4338]\n",
      "Epoch 17 | Training loss: 0.4338, validation accuracy: 0.8020, validation loss: 0.6173\n",
      "100%|██████████████████████████████████████████████████████████| 313/313 [00:09<00:00, 33.79it/s, loss=0.4345]\n",
      "Epoch 18 | Training loss: 0.4345, validation accuracy: 0.7957, validation loss: 0.6276\n",
      "100%|██████████████████████████████████████████████████████████| 313/313 [00:09<00:00, 34.02it/s, loss=0.4384]\n",
      "Epoch 19 | Training loss: 0.4384, validation accuracy: 0.7978, validation loss: 0.6244\n",
      "100%|██████████████████████████████████████████████████████████| 313/313 [00:09<00:00, 34.21it/s, loss=0.4337]\n",
      "Epoch 20 | Training loss: 0.4337, validation accuracy: 0.7991, validation loss: 0.6202\n",
      "100%|██████████████████████████████████████████████████████████| 313/313 [00:09<00:00, 34.06it/s, loss=0.4371]\n",
      "Epoch 21 | Training loss: 0.4371, validation accuracy: 0.7986, validation loss: 0.6152\n",
      "100%|██████████████████████████████████████████████████████████| 313/313 [00:09<00:00, 33.86it/s, loss=0.4361]\n",
      "Epoch 22 | Training loss: 0.4361, validation accuracy: 0.7991, validation loss: 0.6200\n",
      "100%|██████████████████████████████████████████████████████████| 313/313 [00:09<00:00, 33.89it/s, loss=0.4312]\n",
      "Epoch 23 | Training loss: 0.4312, validation accuracy: 0.7992, validation loss: 0.6169\n",
      "100%|██████████████████████████████████████████████████████████| 313/313 [00:09<00:00, 34.18it/s, loss=0.4329]\n",
      "Epoch 24 | Training loss: 0.4329, validation accuracy: 0.7971, validation loss: 0.6212\n",
      "100%|██████████████████████████████████████████████████████████| 313/313 [00:09<00:00, 34.20it/s, loss=0.4335]\n",
      "Epoch 25 | Training loss: 0.4335, validation accuracy: 0.7982, validation loss: 0.6192\n"
     ]
    }
   ],
   "source": [
    "epochs = 25\n",
    "\n",
    "for epoch in range(epochs):\n",
    "    train_loss = trainer.train_epoch(model, optimizer, dl[\"train\"])\n",
    "    optimizer.finish_epoch()\n",
    "    val_acc, val_loss = trainer.validation(model, dl[\"valid\"])\n",
    "    logger.log(\"Epoch\", epoch+1, \"|\", \n",
    "          f\"Training loss: {train_loss:.4f}, validation accuracy: {val_acc:.4f}, validation loss: {val_loss:.4f}\")"
   ]
  },
  {
   "cell_type": "code",
   "execution_count": 24,
   "id": "e16133e0-4862-4d45-a960-c9fafdd331dd",
   "metadata": {},
   "outputs": [
    {
     "name": "stdout",
     "output_type": "stream",
     "text": [
      "Train: (0.854375, 0.4096952498435974)\n",
      "Valid: (0.7982, 0.6191634141921997)\n"
     ]
    }
   ],
   "source": [
    "train_score = trainer.validation(model, dl[\"train\"])\n",
    "valid_score = trainer.validation(model, dl[\"valid\"])\n",
    "logger.log(\"Train:\", train_score)\n",
    "logger.log(\"Valid:\", valid_score)"
   ]
  },
  {
   "cell_type": "code",
   "execution_count": 25,
   "id": "b5cb7d76-31e9-476d-bdaa-2a9bcd9528d8",
   "metadata": {},
   "outputs": [
    {
     "name": "stdout",
     "output_type": "stream",
     "text": [
      "RNA\n"
     ]
    }
   ],
   "source": [
    "optimizer.param_groups[0][\"method\"] = \"RNA\"\n",
    "logger.log(\"RNA\")\n",
    "model_acc = deepcopy(model)\n",
    "optimizer.accelerate()\n",
    "optimizer.store_parameters([model_acc.parameters()])"
   ]
  },
  {
   "cell_type": "code",
   "execution_count": 26,
   "id": "f32c7d6c-ed5f-4e78-a3f6-e563c71a8eb7",
   "metadata": {
    "tags": []
   },
   "outputs": [
    {
     "name": "stdout",
     "output_type": "stream",
     "text": [
      "Train: (0.854175, 0.41333082404136656)\n",
      "Valid: (0.7981, 0.6218553371429444)\n"
     ]
    }
   ],
   "source": [
    "model_acc.to(trainer.device)\n",
    "train_score = trainer.validation(model_acc, dl[\"train\"])\n",
    "valid_score = trainer.validation(model_acc, dl[\"valid\"])\n",
    "logger.log(\"Train:\", train_score)\n",
    "logger.log(\"Valid:\", valid_score)"
   ]
  },
  {
   "cell_type": "code",
   "execution_count": 27,
   "id": "c55b7172-917f-41e1-8545-269ad6b51fdf",
   "metadata": {},
   "outputs": [
    {
     "name": "stdout",
     "output_type": "stream",
     "text": [
      "RRE\n"
     ]
    }
   ],
   "source": [
    "optimizer.param_groups[0][\"method\"] = \"RRE\"\n",
    "logger.log(\"RRE\")\n",
    "model_acc = deepcopy(model)\n",
    "optimizer.accelerate()\n",
    "optimizer.store_parameters([model_acc.parameters()])"
   ]
  },
  {
   "cell_type": "code",
   "execution_count": 28,
   "id": "46dbf7f0-e866-435e-9694-ca9cd704212c",
   "metadata": {
    "tags": []
   },
   "outputs": [
    {
     "name": "stdout",
     "output_type": "stream",
     "text": [
      "Train: (0.8531, 0.4100926302433014)\n",
      "Valid: (0.7981, 0.6218560708999634)\n"
     ]
    }
   ],
   "source": [
    "model_acc.to(trainer.device)\n",
    "train_score = trainer.validation(model_acc, dl[\"train\"])\n",
    "valid_score = trainer.validation(model_acc, dl[\"valid\"])\n",
    "logger.log(\"Train:\", train_score)\n",
    "logger.log(\"Valid:\", valid_score)"
   ]
  },
  {
   "cell_type": "markdown",
   "id": "animal-player",
   "metadata": {},
   "source": [
    "## Momentum"
   ]
  },
  {
   "cell_type": "code",
   "execution_count": 29,
   "id": "4a9a4f42-6c60-4bff-a49a-a218f4fbb416",
   "metadata": {},
   "outputs": [],
   "source": [
    "model.load_state_dict(initial_state)\n",
    "model.to(trainer.device)\n",
    "None"
   ]
  },
  {
   "cell_type": "code",
   "execution_count": 30,
   "id": "dc2077af-5f11-44bd-925e-938a4d37c87f",
   "metadata": {},
   "outputs": [
    {
     "data": {
      "text/plain": [
       "(0.0936, 2.5926870376586915)"
      ]
     },
     "execution_count": 30,
     "metadata": {},
     "output_type": "execute_result"
    }
   ],
   "source": [
    "trainer.validation(model, dl[\"valid\"])"
   ]
  },
  {
   "cell_type": "code",
   "execution_count": 31,
   "id": "inappropriate-shape",
   "metadata": {},
   "outputs": [
    {
     "data": {
      "text/plain": [
       "<torch._C.Generator at 0x7f4bd03003b0>"
      ]
     },
     "execution_count": 31,
     "metadata": {},
     "output_type": "execute_result"
    }
   ],
   "source": [
    "optimizer = AcceleratedSGD(model.parameters(), 1e-1, k=10, momentum=0, weight_decay=0, lambda_=1e-8)\n",
    "logger = Logger(\"resnet34_log_augmentation.txt.no_resizing\")\n",
    "torch.manual_seed(2020)"
   ]
  },
  {
   "cell_type": "code",
   "execution_count": 32,
   "id": "716e8bb8-f095-4946-955a-813323882e52",
   "metadata": {},
   "outputs": [
    {
     "name": "stdout",
     "output_type": "stream",
     "text": [
      "100%|██████████████████████████████████████████████████████████| 313/313 [00:09<00:00, 34.32it/s, loss=2.1017]\n",
      "Epoch 1 | Training loss: 2.1017, validation accuracy: 0.3332, validation loss: 5.4656\n",
      "100%|██████████████████████████████████████████████████████████| 313/313 [00:09<00:00, 33.95it/s, loss=1.6294]\n",
      "Epoch 2 | Training loss: 1.6294, validation accuracy: 0.3185, validation loss: 2.1533\n",
      "100%|██████████████████████████████████████████████████████████| 313/313 [00:09<00:00, 34.15it/s, loss=1.4835]\n",
      "Epoch 3 | Training loss: 1.4835, validation accuracy: 0.4622, validation loss: 1.4778\n",
      "100%|██████████████████████████████████████████████████████████| 313/313 [00:16<00:00, 19.52it/s, loss=1.3766]\n",
      "Epoch 4 | Training loss: 1.3766, validation accuracy: 0.4389, validation loss: 2.1726\n",
      "100%|██████████████████████████████████████████████████████████| 313/313 [00:12<00:00, 25.35it/s, loss=1.2893]\n",
      "Epoch 5 | Training loss: 1.2893, validation accuracy: 0.4768, validation loss: 2.7873\n",
      "100%|██████████████████████████████████████████████████████████| 313/313 [00:09<00:00, 34.24it/s, loss=1.2238]\n",
      "Epoch 6 | Training loss: 1.2238, validation accuracy: 0.5402, validation loss: 1.4679\n",
      "100%|██████████████████████████████████████████████████████████| 313/313 [00:09<00:00, 34.05it/s, loss=1.1679]\n",
      "Epoch 7 | Training loss: 1.1679, validation accuracy: 0.5769, validation loss: 1.6869\n",
      "100%|██████████████████████████████████████████████████████████| 313/313 [00:09<00:00, 34.19it/s, loss=1.1123]\n",
      "Epoch 8 | Training loss: 1.1123, validation accuracy: 0.5900, validation loss: 1.1626\n",
      "100%|██████████████████████████████████████████████████████████| 313/313 [00:09<00:00, 34.15it/s, loss=1.0619]\n",
      "Epoch 9 | Training loss: 1.0619, validation accuracy: 0.6123, validation loss: 1.1375\n",
      "100%|██████████████████████████████████████████████████████████| 313/313 [00:09<00:00, 33.95it/s, loss=1.0124]\n",
      "Epoch 10 | Training loss: 1.0124, validation accuracy: 0.6422, validation loss: 1.0074\n",
      "100%|██████████████████████████████████████████████████████████| 313/313 [00:09<00:00, 33.78it/s, loss=0.9823]\n",
      "Epoch 11 | Training loss: 0.9823, validation accuracy: 0.6062, validation loss: 1.1523\n",
      "100%|██████████████████████████████████████████████████████████| 313/313 [00:09<00:00, 33.68it/s, loss=0.9492]\n",
      "Epoch 12 | Training loss: 0.9492, validation accuracy: 0.6695, validation loss: 0.9205\n",
      "100%|██████████████████████████████████████████████████████████| 313/313 [00:09<00:00, 33.92it/s, loss=0.9122]\n",
      "Epoch 13 | Training loss: 0.9122, validation accuracy: 0.6554, validation loss: 0.9871\n",
      "100%|██████████████████████████████████████████████████████████| 313/313 [00:09<00:00, 34.11it/s, loss=0.8983]\n",
      "Epoch 14 | Training loss: 0.8983, validation accuracy: 0.5909, validation loss: 1.2178\n",
      "100%|██████████████████████████████████████████████████████████| 313/313 [00:09<00:00, 34.06it/s, loss=0.8583]\n",
      "Epoch 15 | Training loss: 0.8583, validation accuracy: 0.6625, validation loss: 1.0048\n",
      "100%|██████████████████████████████████████████████████████████| 313/313 [00:09<00:00, 34.04it/s, loss=0.8349]\n",
      "Epoch 16 | Training loss: 0.8349, validation accuracy: 0.6841, validation loss: 1.0769\n",
      "100%|██████████████████████████████████████████████████████████| 313/313 [00:09<00:00, 33.83it/s, loss=0.8130]\n",
      "Epoch 17 | Training loss: 0.8130, validation accuracy: 0.6851, validation loss: 0.9234\n",
      "100%|██████████████████████████████████████████████████████████| 313/313 [00:09<00:00, 33.96it/s, loss=0.7948]\n",
      "Epoch 18 | Training loss: 0.7948, validation accuracy: 0.7170, validation loss: 0.8164\n",
      "100%|██████████████████████████████████████████████████████████| 313/313 [00:09<00:00, 34.20it/s, loss=0.7835]\n",
      "Epoch 19 | Training loss: 0.7835, validation accuracy: 0.7254, validation loss: 0.7912\n",
      "100%|██████████████████████████████████████████████████████████| 313/313 [00:09<00:00, 34.04it/s, loss=0.7628]\n",
      "Epoch 20 | Training loss: 0.7628, validation accuracy: 0.7083, validation loss: 0.8659\n",
      "100%|██████████████████████████████████████████████████████████| 313/313 [00:09<00:00, 34.16it/s, loss=0.7376]\n",
      "Epoch 21 | Training loss: 0.7376, validation accuracy: 0.7173, validation loss: 0.8137\n",
      "100%|██████████████████████████████████████████████████████████| 313/313 [00:09<00:00, 34.13it/s, loss=0.7151]\n",
      "Epoch 22 | Training loss: 0.7151, validation accuracy: 0.7086, validation loss: 0.8656\n",
      "100%|██████████████████████████████████████████████████████████| 313/313 [00:09<00:00, 34.13it/s, loss=0.7034]\n",
      "Epoch 23 | Training loss: 0.7034, validation accuracy: 0.7454, validation loss: 0.7600\n",
      "100%|██████████████████████████████████████████████████████████| 313/313 [00:09<00:00, 34.19it/s, loss=0.6892]\n",
      "Epoch 24 | Training loss: 0.6892, validation accuracy: 0.6896, validation loss: 0.9665\n",
      "100%|██████████████████████████████████████████████████████████| 313/313 [00:09<00:00, 34.13it/s, loss=0.6723]\n",
      "Epoch 25 | Training loss: 0.6723, validation accuracy: 0.7378, validation loss: 0.7769\n"
     ]
    }
   ],
   "source": [
    "epochs = 25\n",
    "\n",
    "for epoch in range(epochs):\n",
    "    train_loss = trainer.train_epoch(model, optimizer, dl[\"train\"])\n",
    "    optimizer.finish_epoch()\n",
    "    val_acc, val_loss = trainer.validation(model, dl[\"valid\"])\n",
    "    logger.log(\"Epoch\", epoch+1, \"|\", \n",
    "          f\"Training loss: {train_loss:.4f}, validation accuracy: {val_acc:.4f}, validation loss: {val_loss:.4f}\")"
   ]
  },
  {
   "cell_type": "code",
   "execution_count": 33,
   "id": "ae5278fa-ebb7-4cab-aa37-8f7ad87ea768",
   "metadata": {},
   "outputs": [
    {
     "name": "stdout",
     "output_type": "stream",
     "text": [
      "Train: (0.74695, 0.7144866751670838)\n",
      "Valid: (0.7378, 0.7768762789726257)\n"
     ]
    }
   ],
   "source": [
    "train_score = trainer.validation(model, dl[\"train\"])\n",
    "valid_score = trainer.validation(model, dl[\"valid\"])\n",
    "logger.log(\"Train:\", train_score)\n",
    "logger.log(\"Valid:\", valid_score)"
   ]
  },
  {
   "cell_type": "code",
   "execution_count": 34,
   "id": "a512cfcc-9e41-4b20-afe1-8c17aba9a249",
   "metadata": {},
   "outputs": [
    {
     "name": "stdout",
     "output_type": "stream",
     "text": [
      "RNA\n"
     ]
    }
   ],
   "source": [
    "optimizer.param_groups[0][\"method\"] = \"RNA\"\n",
    "logger.log(\"RNA\")\n",
    "model_acc = deepcopy(model)\n",
    "optimizer.accelerate()\n",
    "optimizer.store_parameters([model_acc.parameters()])"
   ]
  },
  {
   "cell_type": "code",
   "execution_count": 35,
   "id": "598de508-7e00-4689-be61-02c6c6ca68f2",
   "metadata": {
    "tags": []
   },
   "outputs": [
    {
     "name": "stdout",
     "output_type": "stream",
     "text": [
      "Train: (0.761075, 0.6842308477401733)\n",
      "Valid: (0.7516, 0.7148696293830872)\n"
     ]
    }
   ],
   "source": [
    "model_acc.to(trainer.device)\n",
    "train_score = trainer.validation(model_acc, dl[\"train\"])\n",
    "valid_score = trainer.validation(model_acc, dl[\"valid\"])\n",
    "logger.log(\"Train:\", train_score)\n",
    "logger.log(\"Valid:\", valid_score)"
   ]
  },
  {
   "cell_type": "code",
   "execution_count": 36,
   "id": "f99123bf-7879-4686-a923-3d2af0bd4bca",
   "metadata": {},
   "outputs": [
    {
     "name": "stdout",
     "output_type": "stream",
     "text": [
      "RRE\n"
     ]
    }
   ],
   "source": [
    "optimizer.param_groups[0][\"method\"] = \"RRE\"\n",
    "logger.log(\"RRE\")\n",
    "model_acc = deepcopy(model)\n",
    "optimizer.accelerate()\n",
    "optimizer.store_parameters([model_acc.parameters()])"
   ]
  },
  {
   "cell_type": "code",
   "execution_count": 37,
   "id": "1fab54d9-0767-4a9b-9dcc-2becfbe81794",
   "metadata": {
    "tags": []
   },
   "outputs": [
    {
     "name": "stdout",
     "output_type": "stream",
     "text": [
      "Train: (0.7597, 0.68345962266922)\n",
      "Valid: (0.7517, 0.7149833367347718)\n"
     ]
    }
   ],
   "source": [
    "model_acc.to(trainer.device)\n",
    "train_score = trainer.validation(model_acc, dl[\"train\"])\n",
    "valid_score = trainer.validation(model_acc, dl[\"valid\"])\n",
    "logger.log(\"Train:\", train_score)\n",
    "logger.log(\"Valid:\", valid_score)"
   ]
  },
  {
   "cell_type": "code",
   "execution_count": 38,
   "id": "a5ee49d3-778a-4ffb-bd81-738175ac918d",
   "metadata": {},
   "outputs": [],
   "source": [
    "optimizer.param_groups[0][\"lr\"] = 1e-2"
   ]
  },
  {
   "cell_type": "code",
   "execution_count": 39,
   "id": "c1bdc94d-3257-462c-b84d-09491c16404e",
   "metadata": {},
   "outputs": [
    {
     "name": "stdout",
     "output_type": "stream",
     "text": [
      "100%|██████████████████████████████████████████████████████████| 313/313 [00:09<00:00, 34.41it/s, loss=0.5799]\n",
      "Epoch 1 | Training loss: 0.5799, validation accuracy: 0.7852, validation loss: 0.6344\n",
      "100%|██████████████████████████████████████████████████████████| 313/313 [00:09<00:00, 34.52it/s, loss=0.5554]\n",
      "Epoch 2 | Training loss: 0.5554, validation accuracy: 0.7862, validation loss: 0.6317\n",
      "100%|██████████████████████████████████████████████████████████| 313/313 [00:09<00:00, 34.61it/s, loss=0.5457]\n",
      "Epoch 3 | Training loss: 0.5457, validation accuracy: 0.7877, validation loss: 0.6302\n",
      "100%|██████████████████████████████████████████████████████████| 313/313 [00:09<00:00, 34.61it/s, loss=0.5386]\n",
      "Epoch 4 | Training loss: 0.5386, validation accuracy: 0.7868, validation loss: 0.6358\n",
      "100%|██████████████████████████████████████████████████████████| 313/313 [00:09<00:00, 34.56it/s, loss=0.5325]\n",
      "Epoch 5 | Training loss: 0.5325, validation accuracy: 0.7912, validation loss: 0.6295\n",
      "100%|██████████████████████████████████████████████████████████| 313/313 [00:09<00:00, 34.19it/s, loss=0.5246]\n",
      "Epoch 6 | Training loss: 0.5246, validation accuracy: 0.7892, validation loss: 0.6296\n",
      "100%|██████████████████████████████████████████████████████████| 313/313 [00:09<00:00, 34.57it/s, loss=0.5205]\n",
      "Epoch 7 | Training loss: 0.5205, validation accuracy: 0.7884, validation loss: 0.6364\n",
      "100%|██████████████████████████████████████████████████████████| 313/313 [00:09<00:00, 34.38it/s, loss=0.5166]\n",
      "Epoch 8 | Training loss: 0.5166, validation accuracy: 0.7898, validation loss: 0.6291\n",
      "100%|██████████████████████████████████████████████████████████| 313/313 [00:09<00:00, 34.63it/s, loss=0.5135]\n",
      "Epoch 9 | Training loss: 0.5135, validation accuracy: 0.7914, validation loss: 0.6297\n",
      "100%|██████████████████████████████████████████████████████████| 313/313 [00:09<00:00, 34.61it/s, loss=0.5158]\n",
      "Epoch 10 | Training loss: 0.5158, validation accuracy: 0.7883, validation loss: 0.6275\n",
      "100%|██████████████████████████████████████████████████████████| 313/313 [00:09<00:00, 34.42it/s, loss=0.5033]\n",
      "Epoch 11 | Training loss: 0.5033, validation accuracy: 0.7924, validation loss: 0.6283\n",
      "100%|██████████████████████████████████████████████████████████| 313/313 [00:09<00:00, 34.45it/s, loss=0.5007]\n",
      "Epoch 12 | Training loss: 0.5007, validation accuracy: 0.7910, validation loss: 0.6363\n",
      "100%|██████████████████████████████████████████████████████████| 313/313 [00:09<00:00, 34.58it/s, loss=0.4935]\n",
      "Epoch 13 | Training loss: 0.4935, validation accuracy: 0.7892, validation loss: 0.6338\n",
      "100%|██████████████████████████████████████████████████████████| 313/313 [00:09<00:00, 34.55it/s, loss=0.4936]\n",
      "Epoch 14 | Training loss: 0.4936, validation accuracy: 0.7942, validation loss: 0.6259\n",
      "100%|██████████████████████████████████████████████████████████| 313/313 [00:09<00:00, 34.52it/s, loss=0.4922]\n",
      "Epoch 15 | Training loss: 0.4922, validation accuracy: 0.7933, validation loss: 0.6305\n",
      "100%|██████████████████████████████████████████████████████████| 313/313 [00:09<00:00, 34.62it/s, loss=0.4909]\n",
      "Epoch 16 | Training loss: 0.4909, validation accuracy: 0.7884, validation loss: 0.6366\n",
      "100%|██████████████████████████████████████████████████████████| 313/313 [00:09<00:00, 34.53it/s, loss=0.4845]\n",
      "Epoch 17 | Training loss: 0.4845, validation accuracy: 0.7946, validation loss: 0.6329\n",
      "100%|██████████████████████████████████████████████████████████| 313/313 [00:09<00:00, 34.54it/s, loss=0.4812]\n",
      "Epoch 18 | Training loss: 0.4812, validation accuracy: 0.7942, validation loss: 0.6317\n",
      "100%|██████████████████████████████████████████████████████████| 313/313 [00:09<00:00, 34.42it/s, loss=0.4804]\n",
      "Epoch 19 | Training loss: 0.4804, validation accuracy: 0.7919, validation loss: 0.6403\n",
      "100%|██████████████████████████████████████████████████████████| 313/313 [00:09<00:00, 34.55it/s, loss=0.4729]\n",
      "Epoch 20 | Training loss: 0.4729, validation accuracy: 0.7925, validation loss: 0.6289\n",
      "100%|██████████████████████████████████████████████████████████| 313/313 [00:08<00:00, 34.80it/s, loss=0.4766]\n",
      "Epoch 21 | Training loss: 0.4766, validation accuracy: 0.7953, validation loss: 0.6379\n",
      "100%|██████████████████████████████████████████████████████████| 313/313 [00:09<00:00, 34.32it/s, loss=0.4727]\n",
      "Epoch 22 | Training loss: 0.4727, validation accuracy: 0.7928, validation loss: 0.6328\n",
      "100%|██████████████████████████████████████████████████████████| 313/313 [00:09<00:00, 34.49it/s, loss=0.4678]\n",
      "Epoch 23 | Training loss: 0.4678, validation accuracy: 0.7947, validation loss: 0.6328\n",
      "100%|██████████████████████████████████████████████████████████| 313/313 [00:09<00:00, 34.40it/s, loss=0.4669]\n",
      "Epoch 24 | Training loss: 0.4669, validation accuracy: 0.7921, validation loss: 0.6414\n",
      "100%|██████████████████████████████████████████████████████████| 313/313 [00:09<00:00, 34.25it/s, loss=0.4624]\n",
      "Epoch 25 | Training loss: 0.4624, validation accuracy: 0.7939, validation loss: 0.6406\n"
     ]
    }
   ],
   "source": [
    "epochs = 25\n",
    "\n",
    "for epoch in range(epochs):\n",
    "    train_loss = trainer.train_epoch(model, optimizer, dl[\"train\"])\n",
    "    optimizer.finish_epoch()\n",
    "    val_acc, val_loss = trainer.validation(model, dl[\"valid\"])\n",
    "    logger.log(\"Epoch\", epoch+1, \"|\", \n",
    "          f\"Training loss: {train_loss:.4f}, validation accuracy: {val_acc:.4f}, validation loss: {val_loss:.4f}\")"
   ]
  },
  {
   "cell_type": "code",
   "execution_count": 40,
   "id": "9491b771-2162-4d5f-a723-487889432ab7",
   "metadata": {},
   "outputs": [
    {
     "name": "stdout",
     "output_type": "stream",
     "text": [
      "Train: (0.841975, 0.4354125330448151)\n",
      "Valid: (0.7939, 0.6406325536727905)\n"
     ]
    }
   ],
   "source": [
    "train_score = trainer.validation(model, dl[\"train\"])\n",
    "valid_score = trainer.validation(model, dl[\"valid\"])\n",
    "logger.log(\"Train:\", train_score)\n",
    "logger.log(\"Valid:\", valid_score)"
   ]
  },
  {
   "cell_type": "code",
   "execution_count": 41,
   "id": "83e307fd-cb58-4c99-86c7-180c3c740834",
   "metadata": {},
   "outputs": [
    {
     "name": "stdout",
     "output_type": "stream",
     "text": [
      "RNA\n"
     ]
    }
   ],
   "source": [
    "optimizer.param_groups[0][\"method\"] = \"RNA\"\n",
    "logger.log(\"RNA\")\n",
    "model_acc = deepcopy(model)\n",
    "optimizer.accelerate()\n",
    "optimizer.store_parameters([model_acc.parameters()])"
   ]
  },
  {
   "cell_type": "code",
   "execution_count": 42,
   "id": "04867796-117e-4b8f-a519-9822a2c91fd2",
   "metadata": {
    "tags": []
   },
   "outputs": [
    {
     "name": "stdout",
     "output_type": "stream",
     "text": [
      "Train: (0.8423, 0.44416335334777834)\n",
      "Valid: (0.7911, 0.6476818460464477)\n"
     ]
    }
   ],
   "source": [
    "model_acc.to(trainer.device)\n",
    "train_score = trainer.validation(model_acc, dl[\"train\"])\n",
    "valid_score = trainer.validation(model_acc, dl[\"valid\"])\n",
    "logger.log(\"Train:\", train_score)\n",
    "logger.log(\"Valid:\", valid_score)"
   ]
  },
  {
   "cell_type": "code",
   "execution_count": 43,
   "id": "a2154896-9c11-48d8-b0a6-9afc0a848418",
   "metadata": {},
   "outputs": [
    {
     "name": "stdout",
     "output_type": "stream",
     "text": [
      "RRE\n"
     ]
    }
   ],
   "source": [
    "optimizer.param_groups[0][\"method\"] = \"RRE\"\n",
    "logger.log(\"RRE\")\n",
    "model_acc = deepcopy(model)\n",
    "optimizer.accelerate()\n",
    "optimizer.store_parameters([model_acc.parameters()])"
   ]
  },
  {
   "cell_type": "code",
   "execution_count": 44,
   "id": "c23ee008-ba39-44e0-8da4-5428816cda0d",
   "metadata": {
    "tags": []
   },
   "outputs": [
    {
     "name": "stdout",
     "output_type": "stream",
     "text": [
      "Train: (0.8394, 0.44526529016494754)\n",
      "Valid: (0.791, 0.6476817321777344)\n"
     ]
    }
   ],
   "source": [
    "model_acc.to(trainer.device)\n",
    "train_score = trainer.validation(model_acc, dl[\"train\"])\n",
    "valid_score = trainer.validation(model_acc, dl[\"valid\"])\n",
    "logger.log(\"Train:\", train_score)\n",
    "logger.log(\"Valid:\", valid_score)"
   ]
  },
  {
   "cell_type": "code",
   "execution_count": 45,
   "id": "1f9ecff6-81aa-4859-8d35-bb79272c7e90",
   "metadata": {},
   "outputs": [],
   "source": [
    "optimizer.param_groups[0][\"lr\"] = 1e-3"
   ]
  },
  {
   "cell_type": "code",
   "execution_count": 46,
   "id": "bd4a572e-82ed-4df0-8df4-1724dbe4ff31",
   "metadata": {},
   "outputs": [
    {
     "name": "stdout",
     "output_type": "stream",
     "text": [
      "100%|██████████████████████████████████████████████████████████| 313/313 [00:09<00:00, 34.45it/s, loss=0.4492]\n",
      "Epoch 1 | Training loss: 0.4492, validation accuracy: 0.7948, validation loss: 0.6316\n",
      "100%|██████████████████████████████████████████████████████████| 313/313 [00:09<00:00, 34.25it/s, loss=0.4521]\n",
      "Epoch 2 | Training loss: 0.4521, validation accuracy: 0.7961, validation loss: 0.6372\n",
      "100%|██████████████████████████████████████████████████████████| 313/313 [00:09<00:00, 34.28it/s, loss=0.4435]\n",
      "Epoch 3 | Training loss: 0.4435, validation accuracy: 0.7955, validation loss: 0.6335\n",
      "100%|██████████████████████████████████████████████████████████| 313/313 [00:09<00:00, 34.25it/s, loss=0.4472]\n",
      "Epoch 4 | Training loss: 0.4472, validation accuracy: 0.7931, validation loss: 0.6351\n",
      "100%|██████████████████████████████████████████████████████████| 313/313 [00:09<00:00, 34.31it/s, loss=0.4438]\n",
      "Epoch 5 | Training loss: 0.4438, validation accuracy: 0.7943, validation loss: 0.6336\n",
      "100%|██████████████████████████████████████████████████████████| 313/313 [00:09<00:00, 34.45it/s, loss=0.4457]\n",
      "Epoch 6 | Training loss: 0.4457, validation accuracy: 0.7951, validation loss: 0.6357\n",
      "100%|██████████████████████████████████████████████████████████| 313/313 [00:09<00:00, 34.40it/s, loss=0.4421]\n",
      "Epoch 7 | Training loss: 0.4421, validation accuracy: 0.7967, validation loss: 0.6330\n",
      "100%|██████████████████████████████████████████████████████████| 313/313 [00:09<00:00, 34.34it/s, loss=0.4411]\n",
      "Epoch 8 | Training loss: 0.4411, validation accuracy: 0.7968, validation loss: 0.6340\n",
      "100%|██████████████████████████████████████████████████████████| 313/313 [00:09<00:00, 34.40it/s, loss=0.4348]\n",
      "Epoch 9 | Training loss: 0.4348, validation accuracy: 0.7953, validation loss: 0.6413\n",
      "100%|██████████████████████████████████████████████████████████| 313/313 [00:09<00:00, 34.48it/s, loss=0.4395]\n",
      "Epoch 10 | Training loss: 0.4395, validation accuracy: 0.7962, validation loss: 0.6347\n",
      "100%|██████████████████████████████████████████████████████████| 313/313 [00:09<00:00, 34.41it/s, loss=0.4385]\n",
      "Epoch 11 | Training loss: 0.4385, validation accuracy: 0.7950, validation loss: 0.6379\n",
      "100%|██████████████████████████████████████████████████████████| 313/313 [00:09<00:00, 34.22it/s, loss=0.4311]\n",
      "Epoch 12 | Training loss: 0.4311, validation accuracy: 0.7948, validation loss: 0.6367\n",
      "100%|██████████████████████████████████████████████████████████| 313/313 [00:09<00:00, 34.40it/s, loss=0.4397]\n",
      "Epoch 13 | Training loss: 0.4397, validation accuracy: 0.7946, validation loss: 0.6390\n",
      "100%|██████████████████████████████████████████████████████████| 313/313 [00:09<00:00, 34.43it/s, loss=0.4394]\n",
      "Epoch 14 | Training loss: 0.4394, validation accuracy: 0.7951, validation loss: 0.6358\n",
      "100%|██████████████████████████████████████████████████████████| 313/313 [00:09<00:00, 34.33it/s, loss=0.4368]\n",
      "Epoch 15 | Training loss: 0.4368, validation accuracy: 0.7944, validation loss: 0.6377\n",
      "100%|██████████████████████████████████████████████████████████| 313/313 [00:09<00:00, 34.45it/s, loss=0.4387]\n",
      "Epoch 16 | Training loss: 0.4387, validation accuracy: 0.7973, validation loss: 0.6303\n",
      "100%|██████████████████████████████████████████████████████████| 313/313 [00:09<00:00, 34.26it/s, loss=0.4429]\n",
      "Epoch 17 | Training loss: 0.4429, validation accuracy: 0.7961, validation loss: 0.6290\n",
      "100%|██████████████████████████████████████████████████████████| 313/313 [00:09<00:00, 34.34it/s, loss=0.4371]\n",
      "Epoch 18 | Training loss: 0.4371, validation accuracy: 0.7917, validation loss: 0.6508\n",
      "100%|██████████████████████████████████████████████████████████| 313/313 [00:09<00:00, 34.38it/s, loss=0.4398]\n",
      "Epoch 19 | Training loss: 0.4398, validation accuracy: 0.7954, validation loss: 0.6402\n",
      "100%|██████████████████████████████████████████████████████████| 313/313 [00:09<00:00, 34.23it/s, loss=0.4350]\n",
      "Epoch 20 | Training loss: 0.4350, validation accuracy: 0.7965, validation loss: 0.6312\n",
      "100%|██████████████████████████████████████████████████████████| 313/313 [00:09<00:00, 34.38it/s, loss=0.4356]\n",
      "Epoch 21 | Training loss: 0.4356, validation accuracy: 0.7953, validation loss: 0.6343\n",
      "100%|██████████████████████████████████████████████████████████| 313/313 [00:09<00:00, 34.37it/s, loss=0.4324]\n",
      "Epoch 22 | Training loss: 0.4324, validation accuracy: 0.7958, validation loss: 0.6393\n",
      "100%|██████████████████████████████████████████████████████████| 313/313 [00:09<00:00, 34.26it/s, loss=0.4320]\n",
      "Epoch 23 | Training loss: 0.4320, validation accuracy: 0.7970, validation loss: 0.6359\n",
      "100%|██████████████████████████████████████████████████████████| 313/313 [00:09<00:00, 34.31it/s, loss=0.4340]\n",
      "Epoch 24 | Training loss: 0.4340, validation accuracy: 0.7961, validation loss: 0.6354\n",
      "100%|██████████████████████████████████████████████████████████| 313/313 [00:09<00:00, 34.37it/s, loss=0.4371]\n",
      "Epoch 25 | Training loss: 0.4371, validation accuracy: 0.7969, validation loss: 0.6360\n"
     ]
    }
   ],
   "source": [
    "epochs = 25\n",
    "\n",
    "for epoch in range(epochs):\n",
    "    train_loss = trainer.train_epoch(model, optimizer, dl[\"train\"])\n",
    "    optimizer.finish_epoch()\n",
    "    val_acc, val_loss = trainer.validation(model, dl[\"valid\"])\n",
    "    logger.log(\"Epoch\", epoch+1, \"|\", \n",
    "          f\"Training loss: {train_loss:.4f}, validation accuracy: {val_acc:.4f}, validation loss: {val_loss:.4f}\")"
   ]
  },
  {
   "cell_type": "code",
   "execution_count": 47,
   "id": "9cb7dc42-7a68-4a1a-9d6f-bd349a641977",
   "metadata": {},
   "outputs": [
    {
     "name": "stdout",
     "output_type": "stream",
     "text": [
      "Train: (0.8538, 0.4085409345149994)\n",
      "Valid: (0.7969, 0.6360045793533325)\n"
     ]
    }
   ],
   "source": [
    "train_score = trainer.validation(model, dl[\"train\"])\n",
    "valid_score = trainer.validation(model, dl[\"valid\"])\n",
    "logger.log(\"Train:\", train_score)\n",
    "logger.log(\"Valid:\", valid_score)"
   ]
  },
  {
   "cell_type": "code",
   "execution_count": 48,
   "id": "452306ae-db7f-4cfa-8163-bbd0eadd272e",
   "metadata": {},
   "outputs": [
    {
     "name": "stdout",
     "output_type": "stream",
     "text": [
      "RNA\n"
     ]
    }
   ],
   "source": [
    "optimizer.param_groups[0][\"method\"] = \"RNA\"\n",
    "logger.log(\"RNA\")\n",
    "model_acc = deepcopy(model)\n",
    "optimizer.accelerate()\n",
    "optimizer.store_parameters([model_acc.parameters()])"
   ]
  },
  {
   "cell_type": "code",
   "execution_count": 49,
   "id": "5dcd2fa9-8a9c-4fba-a0e7-73107a4b327f",
   "metadata": {
    "tags": []
   },
   "outputs": [
    {
     "name": "stdout",
     "output_type": "stream",
     "text": [
      "Train: (0.850325, 0.414179242515564)\n",
      "Valid: (0.7956, 0.6398091527938843)\n"
     ]
    }
   ],
   "source": [
    "model_acc.to(trainer.device)\n",
    "train_score = trainer.validation(model_acc, dl[\"train\"])\n",
    "valid_score = trainer.validation(model_acc, dl[\"valid\"])\n",
    "logger.log(\"Train:\", train_score)\n",
    "logger.log(\"Valid:\", valid_score)"
   ]
  },
  {
   "cell_type": "code",
   "execution_count": 50,
   "id": "8dddb392-57a3-4a16-8ee0-1724a4db9f96",
   "metadata": {},
   "outputs": [
    {
     "name": "stdout",
     "output_type": "stream",
     "text": [
      "RRE\n"
     ]
    }
   ],
   "source": [
    "optimizer.param_groups[0][\"method\"] = \"RRE\"\n",
    "logger.log(\"RRE\")\n",
    "model_acc = deepcopy(model)\n",
    "optimizer.accelerate()\n",
    "optimizer.store_parameters([model_acc.parameters()])"
   ]
  },
  {
   "cell_type": "code",
   "execution_count": 51,
   "id": "3c45c571-111a-4782-a9ce-9f08023a39a4",
   "metadata": {
    "tags": []
   },
   "outputs": [
    {
     "name": "stdout",
     "output_type": "stream",
     "text": [
      "Train: (0.852225, 0.41267845845222473)\n",
      "Valid: (0.7956, 0.6398136833190918)\n"
     ]
    }
   ],
   "source": [
    "model_acc.to(trainer.device)\n",
    "train_score = trainer.validation(model_acc, dl[\"train\"])\n",
    "valid_score = trainer.validation(model_acc, dl[\"valid\"])\n",
    "logger.log(\"Train:\", train_score)\n",
    "logger.log(\"Valid:\", valid_score)"
   ]
  },
  {
   "cell_type": "code",
   "execution_count": null,
   "id": "69b6726e-8d0c-4713-a1e4-385554da7511",
   "metadata": {},
   "outputs": [],
   "source": []
  }
 ],
 "metadata": {
  "kernelspec": {
   "display_name": "Python 3 (magister)",
   "language": "python",
   "name": "mgr"
  },
  "language_info": {
   "codemirror_mode": {
    "name": "ipython",
    "version": 3
   },
   "file_extension": ".py",
   "mimetype": "text/x-python",
   "name": "python",
   "nbconvert_exporter": "python",
   "pygments_lexer": "ipython3",
   "version": "3.8.13"
  }
 },
 "nbformat": 4,
 "nbformat_minor": 5
}
