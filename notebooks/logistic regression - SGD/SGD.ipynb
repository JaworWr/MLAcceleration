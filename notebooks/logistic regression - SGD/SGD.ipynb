{
 "cells": [
  {
   "cell_type": "code",
   "execution_count": 1,
   "metadata": {},
   "outputs": [],
   "source": [
    "import sys\n",
    "sys.path.insert(0, \"../..\")"
   ]
  },
  {
   "cell_type": "code",
   "execution_count": 2,
   "metadata": {},
   "outputs": [],
   "source": [
    "import torch\n",
    "from torch import nn\n",
    "from torch.utils import data\n",
    "from torchvision import datasets, transforms\n",
    "from tqdm.notebook import tqdm\n",
    "import numpy as np\n",
    "from copy import deepcopy\n",
    "\n",
    "from nn_extrapolation import AcceleratedSGD"
   ]
  },
  {
   "cell_type": "code",
   "execution_count": 3,
   "metadata": {},
   "outputs": [
    {
     "data": {
      "text/plain": [
       "True"
      ]
     },
     "execution_count": 3,
     "metadata": {},
     "output_type": "execute_result"
    }
   ],
   "source": [
    "torch.cuda.is_available()"
   ]
  },
  {
   "cell_type": "code",
   "execution_count": 4,
   "metadata": {},
   "outputs": [],
   "source": [
    "val_loss_fn = nn.NLLLoss(reduction=\"sum\")\n",
    "\n",
    "def validation(model, loader):\n",
    "    ok = 0\n",
    "    loss_sum = 0\n",
    "    total = 0\n",
    "    model.eval()\n",
    "    with torch.no_grad():\n",
    "        for x, y in loader:\n",
    "            x = x.cuda()\n",
    "            y = y.cuda()\n",
    "            out = model(x)\n",
    "            loss_sum += val_loss_fn(out, y)\n",
    "            preds = out.argmax(1)\n",
    "            ok += (y == preds).sum()\n",
    "            total += len(y)\n",
    "    return ok / total, loss_sum / total\n",
    "\n",
    "def train_epoch(loss_log):\n",
    "    model.train()\n",
    "    for x, y in train_loader:\n",
    "        x = x.cuda()\n",
    "        y = y.cuda()\n",
    "        optimizer.zero_grad()\n",
    "        out = model(x)\n",
    "        loss = loss_fn(out, y)\n",
    "        loss_log += list(loss.flatten().cpu().detach().numpy())\n",
    "        loss.backward()\n",
    "        optimizer.step()"
   ]
  },
  {
   "cell_type": "code",
   "execution_count": 5,
   "metadata": {},
   "outputs": [],
   "source": [
    "train_ds = datasets.MNIST(\"../../../MNIST\", download=True, train=True, transform=transforms.ToTensor())\n",
    "test_ds = datasets.MNIST(\"../../../MNIST\", download=True, train=False, transform=transforms.ToTensor())\n",
    "valid_size = int(0.2 * len(train_ds))\n",
    "train_ds, valid_ds = data.random_split(train_ds, [len(train_ds) - valid_size, valid_size])\n",
    "\n",
    "train_loader = data.DataLoader(train_ds, batch_size=64, shuffle=True, num_workers=2)\n",
    "valid_loader = data.DataLoader(valid_ds, batch_size=64, shuffle=True, num_workers=2)\n",
    "test_loader = data.DataLoader(test_ds, batch_size=64, shuffle=False, num_workers=2)"
   ]
  },
  {
   "cell_type": "code",
   "execution_count": 6,
   "metadata": {},
   "outputs": [],
   "source": [
    "model = nn.Sequential(\n",
    "    nn.Flatten(),\n",
    "    nn.Linear(28*28, 10),\n",
    "    nn.LogSoftmax(-1),\n",
    ")\n",
    "model.cuda()"
   ]
  },
  {
   "cell_type": "code",
   "execution_count": 8,
   "metadata": {},
   "outputs": [
    {
     "data": {
      "text/plain": [
       "7850"
      ]
     },
     "execution_count": 8,
     "metadata": {},
     "output_type": "execute_result"
    }
   ],
   "source": [
    "sum(param.numel() for param in model.parameters())"
   ]
  },
  {
   "cell_type": "code",
   "execution_count": 7,
   "metadata": {},
   "outputs": [],
   "source": [
    "optimizer = AcceleratedSGD(model.parameters(), 1e-3, k=10, mode=\"epoch\")\n",
    "loss_fn = nn.NLLLoss()"
   ]
  },
  {
   "cell_type": "code",
   "execution_count": 8,
   "metadata": {},
   "outputs": [],
   "source": [
    "log_file = open(\"SGD.txt\", \"w\")"
   ]
  },
  {
   "cell_type": "markdown",
   "metadata": {},
   "source": [
    "## Epoch"
   ]
  },
  {
   "cell_type": "code",
   "execution_count": 9,
   "metadata": {
    "tags": []
   },
   "outputs": [
    {
     "name": "stdout",
     "output_type": "stream",
     "text": [
      "Epoch 1\n",
      "Training loss: 1.9764\n",
      "Validation accuracy: 0.7077, validation loss: 1.6995\n",
      "Epoch 2\n",
      "Training loss: 1.5101\n",
      "Validation accuracy: 0.7834, validation loss: 1.3490\n",
      "Epoch 3\n",
      "Training loss: 1.2380\n",
      "Validation accuracy: 0.8058, validation loss: 1.1378\n",
      "Epoch 4\n",
      "Training loss: 1.0683\n",
      "Validation accuracy: 0.8211, validation loss: 1.0007\n",
      "Epoch 5\n",
      "Training loss: 0.9545\n",
      "Validation accuracy: 0.8292, validation loss: 0.9055\n",
      "Epoch 6\n",
      "Training loss: 0.8731\n",
      "Validation accuracy: 0.8365, validation loss: 0.8356\n",
      "Epoch 7\n",
      "Training loss: 0.8120\n",
      "Validation accuracy: 0.8401, validation loss: 0.7820\n",
      "Epoch 8\n",
      "Training loss: 0.7644\n",
      "Validation accuracy: 0.8447, validation loss: 0.7396\n",
      "Epoch 9\n",
      "Training loss: 0.7261\n",
      "Validation accuracy: 0.8496, validation loss: 0.7051\n",
      "Epoch 10\n",
      "Training loss: 0.6947\n",
      "Validation accuracy: 0.8533, validation loss: 0.6764\n",
      "Epoch 11\n",
      "Training loss: 0.6682\n",
      "Validation accuracy: 0.8561, validation loss: 0.6522\n",
      "Epoch 12\n",
      "Training loss: 0.6457\n",
      "Validation accuracy: 0.8583, validation loss: 0.6313\n",
      "Epoch 13\n",
      "Training loss: 0.6262\n",
      "Validation accuracy: 0.8604, validation loss: 0.6132\n",
      "Epoch 14\n",
      "Training loss: 0.6091\n",
      "Validation accuracy: 0.8617, validation loss: 0.5972\n",
      "Epoch 15\n",
      "Training loss: 0.5940\n",
      "Validation accuracy: 0.8634, validation loss: 0.5831\n",
      "Epoch 16\n",
      "Training loss: 0.5806\n",
      "Validation accuracy: 0.8649, validation loss: 0.5705\n",
      "Epoch 17\n",
      "Training loss: 0.5685\n",
      "Validation accuracy: 0.8672, validation loss: 0.5592\n",
      "Epoch 18\n",
      "Training loss: 0.5576\n",
      "Validation accuracy: 0.8687, validation loss: 0.5488\n",
      "Epoch 19\n",
      "Training loss: 0.5477\n",
      "Validation accuracy: 0.8698, validation loss: 0.5394\n",
      "Epoch 20\n",
      "Training loss: 0.5386\n",
      "Validation accuracy: 0.8712, validation loss: 0.5309\n",
      "Epoch 21\n",
      "Training loss: 0.5303\n",
      "Validation accuracy: 0.8729, validation loss: 0.5230\n",
      "Epoch 22\n",
      "Training loss: 0.5226\n",
      "Validation accuracy: 0.8734, validation loss: 0.5157\n",
      "Epoch 23\n",
      "Training loss: 0.5155\n",
      "Validation accuracy: 0.8738, validation loss: 0.5089\n",
      "Epoch 24\n",
      "Training loss: 0.5089\n",
      "Validation accuracy: 0.8742, validation loss: 0.5026\n",
      "Epoch 25\n",
      "Training loss: 0.5028\n",
      "Validation accuracy: 0.8754, validation loss: 0.4967\n",
      "Epoch 26\n",
      "Training loss: 0.4970\n",
      "Validation accuracy: 0.8766, validation loss: 0.4912\n",
      "Epoch 27\n",
      "Training loss: 0.4916\n",
      "Validation accuracy: 0.8775, validation loss: 0.4861\n",
      "Epoch 28\n",
      "Training loss: 0.4865\n",
      "Validation accuracy: 0.8783, validation loss: 0.4812\n",
      "Epoch 29\n",
      "Training loss: 0.4818\n",
      "Validation accuracy: 0.8795, validation loss: 0.4766\n",
      "Epoch 30\n",
      "Training loss: 0.4773\n",
      "Validation accuracy: 0.8798, validation loss: 0.4723\n"
     ]
    }
   ],
   "source": [
    "epochs = 30\n",
    "\n",
    "for epoch in range(epochs):\n",
    "    print(\"Epoch\", epoch+1)\n",
    "    loss_log = []\n",
    "    train_epoch(loss_log)\n",
    "    print(f\"Training loss: {np.mean(loss_log):.4f}\")\n",
    "    optimizer.finish_epoch()\n",
    "    val_acc, val_loss = validation(model, valid_loader)\n",
    "    print(f\"Validation accuracy: {val_acc:.4f}, validation loss: {val_loss:.4f}\")\n",
    "    print(\"Epoch\", epoch+1, \n",
    "          f\"Training loss: {np.mean(loss_log):.4f}, validation accuracy: {val_acc:.4f}, validation loss: {val_loss:.4f}\",\n",
    "          file=log_file, flush=True\n",
    "         )"
   ]
  },
  {
   "cell_type": "code",
   "execution_count": 10,
   "metadata": {},
   "outputs": [
    {
     "name": "stdout",
     "output_type": "stream",
     "text": [
      "Train: (tensor(0.8795, device='cuda:0'), tensor(0.4750, device='cuda:0'))\n",
      "Valid: (tensor(0.8798, device='cuda:0'), tensor(0.4723, device='cuda:0'))\n"
     ]
    }
   ],
   "source": [
    "train_score = validation(model, train_loader)\n",
    "valid_score = validation(model, valid_loader)\n",
    "print(\"Train:\", train_score)\n",
    "print(\"Valid:\", valid_score)\n",
    "print(\"Train:\", train_score, flush=True, file=log_file)\n",
    "print(\"Valid:\", valid_score, flush=True, file=log_file)"
   ]
  },
  {
   "cell_type": "code",
   "execution_count": 11,
   "metadata": {},
   "outputs": [],
   "source": [
    "optimizer.param_groups[0][\"method\"] = \"RNA\"\n",
    "optimizer.accelerate()"
   ]
  },
  {
   "cell_type": "code",
   "execution_count": 12,
   "metadata": {},
   "outputs": [
    {
     "data": {
      "text/plain": [
       "Sequential(\n",
       "  (0): Flatten(start_dim=1, end_dim=-1)\n",
       "  (1): Linear(in_features=784, out_features=10, bias=True)\n",
       "  (2): LogSoftmax(dim=-1)\n",
       ")"
      ]
     },
     "execution_count": 12,
     "metadata": {},
     "output_type": "execute_result"
    }
   ],
   "source": [
    "model_acc = deepcopy(model)\n",
    "optimizer.store_parameters([model_acc.parameters()])\n",
    "model_acc.cuda()"
   ]
  },
  {
   "cell_type": "code",
   "execution_count": 13,
   "metadata": {},
   "outputs": [
    {
     "name": "stdout",
     "output_type": "stream",
     "text": [
      "Train: (tensor(0.8907, device='cuda:0'), tensor(0.3947, device='cuda:0'))\n",
      "Valid: (tensor(0.8916, device='cuda:0'), tensor(0.3935, device='cuda:0'))\n"
     ]
    }
   ],
   "source": [
    "train_score = validation(model_acc, train_loader)\n",
    "valid_score = validation(model_acc, valid_loader)\n",
    "print(\"Train:\", train_score)\n",
    "print(\"Valid:\", valid_score)\n",
    "print(\"Train:\", train_score, flush=True, file=log_file)\n",
    "print(\"Valid:\", valid_score, flush=True, file=log_file)"
   ]
  },
  {
   "cell_type": "code",
   "execution_count": 14,
   "metadata": {},
   "outputs": [],
   "source": [
    "optimizer.param_groups[0][\"method\"] = \"RRE\"\n",
    "optimizer.accelerate()"
   ]
  },
  {
   "cell_type": "code",
   "execution_count": 15,
   "metadata": {},
   "outputs": [
    {
     "data": {
      "text/plain": [
       "Sequential(\n",
       "  (0): Flatten(start_dim=1, end_dim=-1)\n",
       "  (1): Linear(in_features=784, out_features=10, bias=True)\n",
       "  (2): LogSoftmax(dim=-1)\n",
       ")"
      ]
     },
     "execution_count": 15,
     "metadata": {},
     "output_type": "execute_result"
    }
   ],
   "source": [
    "model_acc = deepcopy(model)\n",
    "optimizer.store_parameters([model_acc.parameters()])\n",
    "model_acc.cuda()"
   ]
  },
  {
   "cell_type": "code",
   "execution_count": 16,
   "metadata": {},
   "outputs": [
    {
     "name": "stdout",
     "output_type": "stream",
     "text": [
      "Train: (tensor(0.8907, device='cuda:0'), tensor(0.3947, device='cuda:0'))\n",
      "Valid: (tensor(0.8916, device='cuda:0'), tensor(0.3935, device='cuda:0'))\n"
     ]
    }
   ],
   "source": [
    "train_score = validation(model_acc, train_loader)\n",
    "valid_score = validation(model_acc, valid_loader)\n",
    "print(\"Train:\", train_score)\n",
    "print(\"Valid:\", valid_score)\n",
    "print(\"Train:\", train_score, flush=True, file=log_file)\n",
    "print(\"Valid:\", valid_score, flush=True, file=log_file)"
   ]
  },
  {
   "cell_type": "markdown",
   "metadata": {},
   "source": [
    "## Epoch average"
   ]
  },
  {
   "cell_type": "code",
   "execution_count": 17,
   "metadata": {},
   "outputs": [
    {
     "data": {
      "text/plain": [
       "Sequential(\n",
       "  (0): Flatten(start_dim=1, end_dim=-1)\n",
       "  (1): Linear(in_features=784, out_features=10, bias=True)\n",
       "  (2): LogSoftmax(dim=-1)\n",
       ")"
      ]
     },
     "execution_count": 17,
     "metadata": {},
     "output_type": "execute_result"
    }
   ],
   "source": [
    "model = nn.Sequential(\n",
    "    nn.Flatten(),\n",
    "    nn.Linear(28*28, 10),\n",
    "    nn.LogSoftmax(-1),\n",
    ")\n",
    "model.cuda()"
   ]
  },
  {
   "cell_type": "code",
   "execution_count": 18,
   "metadata": {},
   "outputs": [],
   "source": [
    "log_file = open(\"SGD-avg.txt\", \"w\")\n",
    "optimizer = AcceleratedSGD(model.parameters(), 1e-3, k=10, mode=\"epoch_avg\")"
   ]
  },
  {
   "cell_type": "code",
   "execution_count": 19,
   "metadata": {
    "tags": []
   },
   "outputs": [
    {
     "name": "stdout",
     "output_type": "stream",
     "text": [
      "Epoch 1\n",
      "Training loss: 1.9689\n",
      "Validation accuracy: 0.7349, validation loss: 1.6909\n",
      "Epoch 2\n",
      "Training loss: 1.5030\n",
      "Validation accuracy: 0.7851, validation loss: 1.3429\n",
      "Epoch 3\n",
      "Training loss: 1.2332\n",
      "Validation accuracy: 0.8055, validation loss: 1.1338\n",
      "Epoch 4\n",
      "Training loss: 1.0655\n",
      "Validation accuracy: 0.8192, validation loss: 0.9985\n",
      "Epoch 5\n",
      "Training loss: 0.9530\n",
      "Validation accuracy: 0.8268, validation loss: 0.9045\n",
      "Epoch 6\n",
      "Training loss: 0.8726\n",
      "Validation accuracy: 0.8322, validation loss: 0.8355\n",
      "Epoch 7\n",
      "Training loss: 0.8122\n",
      "Validation accuracy: 0.8395, validation loss: 0.7824\n",
      "Epoch 8\n",
      "Training loss: 0.7650\n",
      "Validation accuracy: 0.8446, validation loss: 0.7404\n",
      "Epoch 9\n",
      "Training loss: 0.7270\n",
      "Validation accuracy: 0.8481, validation loss: 0.7062\n",
      "Epoch 10\n",
      "Training loss: 0.6957\n",
      "Validation accuracy: 0.8510, validation loss: 0.6777\n",
      "Epoch 11\n",
      "Training loss: 0.6694\n",
      "Validation accuracy: 0.8543, validation loss: 0.6537\n",
      "Epoch 12\n",
      "Training loss: 0.6470\n",
      "Validation accuracy: 0.8565, validation loss: 0.6328\n",
      "Epoch 13\n",
      "Training loss: 0.6275\n",
      "Validation accuracy: 0.8584, validation loss: 0.6147\n",
      "Epoch 14\n",
      "Training loss: 0.6105\n",
      "Validation accuracy: 0.8610, validation loss: 0.5988\n",
      "Epoch 15\n",
      "Training loss: 0.5954\n",
      "Validation accuracy: 0.8623, validation loss: 0.5847\n",
      "Epoch 16\n",
      "Training loss: 0.5820\n",
      "Validation accuracy: 0.8641, validation loss: 0.5721\n",
      "Epoch 17\n",
      "Training loss: 0.5699\n",
      "Validation accuracy: 0.8661, validation loss: 0.5607\n",
      "Epoch 18\n",
      "Training loss: 0.5590\n",
      "Validation accuracy: 0.8674, validation loss: 0.5504\n",
      "Epoch 19\n",
      "Training loss: 0.5490\n",
      "Validation accuracy: 0.8690, validation loss: 0.5410\n",
      "Epoch 20\n",
      "Training loss: 0.5400\n",
      "Validation accuracy: 0.8697, validation loss: 0.5324\n",
      "Epoch 21\n",
      "Training loss: 0.5316\n",
      "Validation accuracy: 0.8708, validation loss: 0.5244\n",
      "Epoch 22\n",
      "Training loss: 0.5239\n",
      "Validation accuracy: 0.8724, validation loss: 0.5171\n",
      "Epoch 23\n",
      "Training loss: 0.5168\n",
      "Validation accuracy: 0.8732, validation loss: 0.5103\n",
      "Epoch 24\n",
      "Training loss: 0.5101\n",
      "Validation accuracy: 0.8742, validation loss: 0.5040\n",
      "Epoch 25\n",
      "Training loss: 0.5040\n",
      "Validation accuracy: 0.8746, validation loss: 0.4981\n",
      "Epoch 26\n",
      "Training loss: 0.4982\n",
      "Validation accuracy: 0.8753, validation loss: 0.4926\n",
      "Epoch 27\n",
      "Training loss: 0.4928\n",
      "Validation accuracy: 0.8754, validation loss: 0.4875\n",
      "Epoch 28\n",
      "Training loss: 0.4877\n",
      "Validation accuracy: 0.8767, validation loss: 0.4826\n",
      "Epoch 29\n",
      "Training loss: 0.4829\n",
      "Validation accuracy: 0.8778, validation loss: 0.4779\n",
      "Epoch 30\n",
      "Training loss: 0.4783\n",
      "Validation accuracy: 0.8792, validation loss: 0.4736\n"
     ]
    }
   ],
   "source": [
    "epochs = 30\n",
    "\n",
    "for epoch in range(epochs):\n",
    "    print(\"Epoch\", epoch+1)\n",
    "    loss_log = []\n",
    "    train_epoch(loss_log)\n",
    "    print(f\"Training loss: {np.mean(loss_log):.4f}\")\n",
    "    optimizer.finish_epoch()\n",
    "    val_acc, val_loss = validation(model, valid_loader)\n",
    "    print(f\"Validation accuracy: {val_acc:.4f}, validation loss: {val_loss:.4f}\")\n",
    "    print(\"Epoch\", epoch+1, \n",
    "          f\"Training loss: {np.mean(loss_log):.4f}, validation accuracy: {val_acc:.4f}, validation loss: {val_loss:.4f}\",\n",
    "          file=log_file, flush=True\n",
    "         )"
   ]
  },
  {
   "cell_type": "code",
   "execution_count": 20,
   "metadata": {},
   "outputs": [
    {
     "name": "stdout",
     "output_type": "stream",
     "text": [
      "Train: (tensor(0.8780, device='cuda:0'), tensor(0.4760, device='cuda:0'))\n",
      "Valid: (tensor(0.8792, device='cuda:0'), tensor(0.4736, device='cuda:0'))\n"
     ]
    }
   ],
   "source": [
    "train_score = validation(model, train_loader)\n",
    "valid_score = validation(model, valid_loader)\n",
    "print(\"Train:\", train_score)\n",
    "print(\"Valid:\", valid_score)\n",
    "print(\"Train:\", train_score, flush=True, file=log_file)\n",
    "print(\"Valid:\", valid_score, flush=True, file=log_file)"
   ]
  },
  {
   "cell_type": "code",
   "execution_count": 21,
   "metadata": {},
   "outputs": [],
   "source": [
    "optimizer.param_groups[0][\"method\"] = \"RNA\"\n",
    "optimizer.accelerate()"
   ]
  },
  {
   "cell_type": "code",
   "execution_count": 22,
   "metadata": {},
   "outputs": [
    {
     "data": {
      "text/plain": [
       "Sequential(\n",
       "  (0): Flatten(start_dim=1, end_dim=-1)\n",
       "  (1): Linear(in_features=784, out_features=10, bias=True)\n",
       "  (2): LogSoftmax(dim=-1)\n",
       ")"
      ]
     },
     "execution_count": 22,
     "metadata": {},
     "output_type": "execute_result"
    }
   ],
   "source": [
    "model_acc = deepcopy(model)\n",
    "optimizer.store_parameters([model_acc.parameters()])\n",
    "model_acc.cuda()"
   ]
  },
  {
   "cell_type": "code",
   "execution_count": 23,
   "metadata": {},
   "outputs": [
    {
     "name": "stdout",
     "output_type": "stream",
     "text": [
      "Train: (tensor(0.8855, device='cuda:0'), tensor(0.4292, device='cuda:0'))\n",
      "Valid: (tensor(0.8861, device='cuda:0'), tensor(0.4275, device='cuda:0'))\n"
     ]
    }
   ],
   "source": [
    "train_score = validation(model_acc, train_loader)\n",
    "valid_score = validation(model_acc, valid_loader)\n",
    "print(\"Train:\", train_score)\n",
    "print(\"Valid:\", valid_score)\n",
    "print(\"Train:\", train_score, flush=True, file=log_file)\n",
    "print(\"Valid:\", valid_score, flush=True, file=log_file)"
   ]
  },
  {
   "cell_type": "code",
   "execution_count": 24,
   "metadata": {},
   "outputs": [],
   "source": [
    "optimizer.param_groups[0][\"method\"] = \"RRE\"\n",
    "optimizer.accelerate()"
   ]
  },
  {
   "cell_type": "code",
   "execution_count": 25,
   "metadata": {},
   "outputs": [
    {
     "data": {
      "text/plain": [
       "Sequential(\n",
       "  (0): Flatten(start_dim=1, end_dim=-1)\n",
       "  (1): Linear(in_features=784, out_features=10, bias=True)\n",
       "  (2): LogSoftmax(dim=-1)\n",
       ")"
      ]
     },
     "execution_count": 25,
     "metadata": {},
     "output_type": "execute_result"
    }
   ],
   "source": [
    "model_acc = deepcopy(model)\n",
    "optimizer.store_parameters([model_acc.parameters()])\n",
    "model_acc.cuda()"
   ]
  },
  {
   "cell_type": "code",
   "execution_count": 26,
   "metadata": {},
   "outputs": [
    {
     "name": "stdout",
     "output_type": "stream",
     "text": [
      "Train: (tensor(0.8856, device='cuda:0'), tensor(0.4288, device='cuda:0'))\n",
      "Valid: (tensor(0.8862, device='cuda:0'), tensor(0.4271, device='cuda:0'))\n"
     ]
    }
   ],
   "source": [
    "train_score = validation(model_acc, train_loader)\n",
    "valid_score = validation(model_acc, valid_loader)\n",
    "print(\"Train:\", train_score)\n",
    "print(\"Valid:\", valid_score)\n",
    "print(\"Train:\", train_score, flush=True, file=log_file)\n",
    "print(\"Valid:\", valid_score, flush=True, file=log_file)"
   ]
  },
  {
   "cell_type": "code",
   "execution_count": null,
   "metadata": {},
   "outputs": [],
   "source": []
  }
 ],
 "metadata": {
  "kernelspec": {
   "display_name": "Python 3 (Torch)",
   "language": "python",
   "name": "torch"
  },
  "language_info": {
   "codemirror_mode": {
    "name": "ipython",
    "version": 3
   },
   "file_extension": ".py",
   "mimetype": "text/x-python",
   "name": "python",
   "nbconvert_exporter": "python",
   "pygments_lexer": "ipython3",
   "version": "3.8.11"
  }
 },
 "nbformat": 4,
 "nbformat_minor": 4
}
