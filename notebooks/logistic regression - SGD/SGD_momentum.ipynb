{
 "cells": [
  {
   "cell_type": "code",
   "execution_count": 1,
   "metadata": {},
   "outputs": [],
   "source": [
    "import sys\n",
    "sys.path.insert(0, \"../..\")"
   ]
  },
  {
   "cell_type": "code",
   "execution_count": 2,
   "metadata": {},
   "outputs": [],
   "source": [
    "import torch\n",
    "from torch import nn\n",
    "from torch.utils import data\n",
    "from torchvision import datasets, transforms\n",
    "from tqdm.notebook import tqdm\n",
    "import numpy as np\n",
    "from copy import deepcopy\n",
    "\n",
    "from nn_extrapolation import AcceleratedSGD"
   ]
  },
  {
   "cell_type": "code",
   "execution_count": 3,
   "metadata": {},
   "outputs": [
    {
     "data": {
      "text/plain": [
       "True"
      ]
     },
     "execution_count": 3,
     "metadata": {},
     "output_type": "execute_result"
    }
   ],
   "source": [
    "torch.cuda.is_available()"
   ]
  },
  {
   "cell_type": "code",
   "execution_count": 4,
   "metadata": {},
   "outputs": [],
   "source": [
    "val_loss_fn = nn.NLLLoss(reduction=\"sum\")\n",
    "\n",
    "def validation(model, loader):\n",
    "    ok = 0\n",
    "    loss_sum = 0\n",
    "    total = 0\n",
    "    model.eval()\n",
    "    with torch.no_grad():\n",
    "        for x, y in loader:\n",
    "            x = x.cuda()\n",
    "            y = y.cuda()\n",
    "            out = model(x)\n",
    "            loss_sum += val_loss_fn(out, y)\n",
    "            preds = out.argmax(1)\n",
    "            ok += (y == preds).sum()\n",
    "            total += len(y)\n",
    "    return ok / total, loss_sum / total\n",
    "\n",
    "def train_epoch(loss_log):\n",
    "    model.train()\n",
    "    for x, y in train_loader:\n",
    "        x = x.cuda()\n",
    "        y = y.cuda()\n",
    "        optimizer.zero_grad()\n",
    "        out = model(x)\n",
    "        loss = loss_fn(out, y)\n",
    "        loss_log += list(loss.flatten().cpu().detach().numpy())\n",
    "        loss.backward()\n",
    "        optimizer.step()"
   ]
  },
  {
   "cell_type": "code",
   "execution_count": 5,
   "metadata": {},
   "outputs": [],
   "source": [
    "train_ds = datasets.MNIST(\"../../../MNIST\", download=True, train=True, transform=transforms.ToTensor())\n",
    "test_ds = datasets.MNIST(\"../../../MNIST\", download=True, train=False, transform=transforms.ToTensor())\n",
    "valid_size = int(0.2 * len(train_ds))\n",
    "train_ds, valid_ds = data.random_split(train_ds, [len(train_ds) - valid_size, valid_size])\n",
    "\n",
    "train_loader = data.DataLoader(train_ds, batch_size=64, shuffle=True, num_workers=2)\n",
    "valid_loader = data.DataLoader(valid_ds, batch_size=64, shuffle=True, num_workers=2)\n",
    "test_loader = data.DataLoader(test_ds, batch_size=64, shuffle=False, num_workers=2)"
   ]
  },
  {
   "cell_type": "code",
   "execution_count": 6,
   "metadata": {},
   "outputs": [
    {
     "data": {
      "text/plain": [
       "Sequential(\n",
       "  (0): Flatten(start_dim=1, end_dim=-1)\n",
       "  (1): Linear(in_features=784, out_features=10, bias=True)\n",
       "  (2): LogSoftmax(dim=-1)\n",
       ")"
      ]
     },
     "execution_count": 6,
     "metadata": {},
     "output_type": "execute_result"
    }
   ],
   "source": [
    "model = nn.Sequential(\n",
    "    nn.Flatten(),\n",
    "    nn.Linear(28*28, 10),\n",
    "    nn.LogSoftmax(-1),\n",
    ")\n",
    "model.cuda()"
   ]
  },
  {
   "cell_type": "code",
   "execution_count": 7,
   "metadata": {},
   "outputs": [],
   "source": [
    "optimizer = AcceleratedSGD(model.parameters(), 1e-3, k=10, momentum=0.5, weight_decay=1e-5, mode=\"epoch\")\n",
    "loss_fn = nn.NLLLoss()"
   ]
  },
  {
   "cell_type": "code",
   "execution_count": 8,
   "metadata": {},
   "outputs": [],
   "source": [
    "log_file = open(\"SGD_momentum.txt\", \"w\")"
   ]
  },
  {
   "cell_type": "markdown",
   "metadata": {},
   "source": [
    "## Epoch"
   ]
  },
  {
   "cell_type": "code",
   "execution_count": 9,
   "metadata": {
    "tags": []
   },
   "outputs": [
    {
     "name": "stdout",
     "output_type": "stream",
     "text": [
      "Epoch 1\n",
      "Training loss: 1.7480\n",
      "Validation accuracy: 0.7748, validation loss: 1.3486\n",
      "Epoch 2\n",
      "Training loss: 1.1531\n",
      "Validation accuracy: 0.8178, validation loss: 1.0026\n",
      "Epoch 3\n",
      "Training loss: 0.9133\n",
      "Validation accuracy: 0.8344, validation loss: 0.8397\n",
      "Epoch 4\n",
      "Training loss: 0.7876\n",
      "Validation accuracy: 0.8442, validation loss: 0.7446\n",
      "Epoch 5\n",
      "Training loss: 0.7096\n",
      "Validation accuracy: 0.8507, validation loss: 0.6821\n",
      "Epoch 6\n",
      "Training loss: 0.6559\n",
      "Validation accuracy: 0.8560, validation loss: 0.6374\n",
      "Epoch 7\n",
      "Training loss: 0.6165\n",
      "Validation accuracy: 0.8603, validation loss: 0.6038\n",
      "Epoch 8\n",
      "Training loss: 0.5860\n",
      "Validation accuracy: 0.8647, validation loss: 0.5773\n",
      "Epoch 9\n",
      "Training loss: 0.5617\n",
      "Validation accuracy: 0.8665, validation loss: 0.5557\n",
      "Epoch 10\n",
      "Training loss: 0.5417\n",
      "Validation accuracy: 0.8704, validation loss: 0.5379\n",
      "Epoch 11\n",
      "Training loss: 0.5249\n",
      "Validation accuracy: 0.8727, validation loss: 0.5229\n",
      "Epoch 12\n",
      "Training loss: 0.5106\n",
      "Validation accuracy: 0.8748, validation loss: 0.5099\n",
      "Epoch 13\n",
      "Training loss: 0.4982\n",
      "Validation accuracy: 0.8756, validation loss: 0.4986\n",
      "Epoch 14\n",
      "Training loss: 0.4873\n",
      "Validation accuracy: 0.8767, validation loss: 0.4888\n",
      "Epoch 15\n",
      "Training loss: 0.4776\n",
      "Validation accuracy: 0.8779, validation loss: 0.4800\n",
      "Epoch 16\n",
      "Training loss: 0.4691\n",
      "Validation accuracy: 0.8786, validation loss: 0.4721\n",
      "Epoch 17\n",
      "Training loss: 0.4613\n",
      "Validation accuracy: 0.8798, validation loss: 0.4650\n",
      "Epoch 18\n",
      "Training loss: 0.4543\n",
      "Validation accuracy: 0.8813, validation loss: 0.4586\n",
      "Epoch 19\n",
      "Training loss: 0.4479\n",
      "Validation accuracy: 0.8818, validation loss: 0.4527\n",
      "Epoch 20\n",
      "Training loss: 0.4420\n",
      "Validation accuracy: 0.8827, validation loss: 0.4473\n",
      "Epoch 21\n",
      "Training loss: 0.4366\n",
      "Validation accuracy: 0.8835, validation loss: 0.4423\n",
      "Epoch 22\n",
      "Training loss: 0.4316\n",
      "Validation accuracy: 0.8845, validation loss: 0.4377\n",
      "Epoch 23\n",
      "Training loss: 0.4270\n",
      "Validation accuracy: 0.8852, validation loss: 0.4335\n",
      "Epoch 24\n",
      "Training loss: 0.4227\n",
      "Validation accuracy: 0.8854, validation loss: 0.4295\n",
      "Epoch 25\n",
      "Training loss: 0.4186\n",
      "Validation accuracy: 0.8863, validation loss: 0.4257\n",
      "Epoch 26\n",
      "Training loss: 0.4148\n",
      "Validation accuracy: 0.8873, validation loss: 0.4223\n",
      "Epoch 27\n",
      "Training loss: 0.4113\n",
      "Validation accuracy: 0.8881, validation loss: 0.4192\n",
      "Epoch 28\n",
      "Training loss: 0.4079\n",
      "Validation accuracy: 0.8892, validation loss: 0.4159\n",
      "Epoch 29\n",
      "Training loss: 0.4048\n",
      "Validation accuracy: 0.8903, validation loss: 0.4131\n",
      "Epoch 30\n",
      "Training loss: 0.4018\n",
      "Validation accuracy: 0.8902, validation loss: 0.4103\n"
     ]
    }
   ],
   "source": [
    "epochs = 30\n",
    "\n",
    "for epoch in range(epochs):\n",
    "    print(\"Epoch\", epoch+1)\n",
    "    loss_log = []\n",
    "    train_epoch(loss_log)\n",
    "    print(f\"Training loss: {np.mean(loss_log):.4f}\")\n",
    "    optimizer.finish_epoch()\n",
    "    val_acc, val_loss = validation(model, valid_loader)\n",
    "    print(f\"Validation accuracy: {val_acc:.4f}, validation loss: {val_loss:.4f}\")\n",
    "    print(\"Epoch\", epoch+1, \n",
    "          f\"Training loss: {np.mean(loss_log):.4f}, validation accuracy: {val_acc:.4f}, validation loss: {val_loss:.4f}\",\n",
    "          file=log_file, flush=True\n",
    "         )"
   ]
  },
  {
   "cell_type": "code",
   "execution_count": 10,
   "metadata": {},
   "outputs": [
    {
     "name": "stdout",
     "output_type": "stream",
     "text": [
      "Train: (tensor(0.8933, device='cuda:0'), tensor(0.4001, device='cuda:0'))\n",
      "Valid: (tensor(0.8902, device='cuda:0'), tensor(0.4103, device='cuda:0'))\n"
     ]
    }
   ],
   "source": [
    "train_score = validation(model, train_loader)\n",
    "valid_score = validation(model, valid_loader)\n",
    "print(\"Train:\", train_score)\n",
    "print(\"Valid:\", valid_score)\n",
    "print(\"Train:\", train_score, flush=True, file=log_file)\n",
    "print(\"Valid:\", valid_score, flush=True, file=log_file)"
   ]
  },
  {
   "cell_type": "code",
   "execution_count": 11,
   "metadata": {},
   "outputs": [],
   "source": [
    "optimizer.param_groups[0][\"method\"] = \"RNA\"\n",
    "optimizer.accelerate()"
   ]
  },
  {
   "cell_type": "code",
   "execution_count": 12,
   "metadata": {},
   "outputs": [
    {
     "data": {
      "text/plain": [
       "Sequential(\n",
       "  (0): Flatten(start_dim=1, end_dim=-1)\n",
       "  (1): Linear(in_features=784, out_features=10, bias=True)\n",
       "  (2): LogSoftmax(dim=-1)\n",
       ")"
      ]
     },
     "execution_count": 12,
     "metadata": {},
     "output_type": "execute_result"
    }
   ],
   "source": [
    "model_acc = deepcopy(model)\n",
    "optimizer.store_parameters([model_acc.parameters()])\n",
    "model_acc.cuda()"
   ]
  },
  {
   "cell_type": "code",
   "execution_count": 13,
   "metadata": {},
   "outputs": [
    {
     "name": "stdout",
     "output_type": "stream",
     "text": [
      "Train: (tensor(0.9022, device='cuda:0'), tensor(0.3478, device='cuda:0'))\n",
      "Valid: (tensor(0.8995, device='cuda:0'), tensor(0.3621, device='cuda:0'))\n"
     ]
    }
   ],
   "source": [
    "train_score = validation(model_acc, train_loader)\n",
    "valid_score = validation(model_acc, valid_loader)\n",
    "print(\"Train:\", train_score)\n",
    "print(\"Valid:\", valid_score)\n",
    "print(\"Train:\", train_score, flush=True, file=log_file)\n",
    "print(\"Valid:\", valid_score, flush=True, file=log_file)"
   ]
  },
  {
   "cell_type": "code",
   "execution_count": 14,
   "metadata": {},
   "outputs": [],
   "source": [
    "optimizer.param_groups[0][\"method\"] = \"RRE\"\n",
    "optimizer.accelerate()"
   ]
  },
  {
   "cell_type": "code",
   "execution_count": 15,
   "metadata": {},
   "outputs": [
    {
     "data": {
      "text/plain": [
       "Sequential(\n",
       "  (0): Flatten(start_dim=1, end_dim=-1)\n",
       "  (1): Linear(in_features=784, out_features=10, bias=True)\n",
       "  (2): LogSoftmax(dim=-1)\n",
       ")"
      ]
     },
     "execution_count": 15,
     "metadata": {},
     "output_type": "execute_result"
    }
   ],
   "source": [
    "model_acc = deepcopy(model)\n",
    "optimizer.store_parameters([model_acc.parameters()])\n",
    "model_acc.cuda()"
   ]
  },
  {
   "cell_type": "code",
   "execution_count": 16,
   "metadata": {},
   "outputs": [
    {
     "name": "stdout",
     "output_type": "stream",
     "text": [
      "Train: (tensor(0.9022, device='cuda:0'), tensor(0.3478, device='cuda:0'))\n",
      "Valid: (tensor(0.8995, device='cuda:0'), tensor(0.3621, device='cuda:0'))\n"
     ]
    }
   ],
   "source": [
    "train_score = validation(model_acc, train_loader)\n",
    "valid_score = validation(model_acc, valid_loader)\n",
    "print(\"Train:\", train_score)\n",
    "print(\"Valid:\", valid_score)\n",
    "print(\"Train:\", train_score, flush=True, file=log_file)\n",
    "print(\"Valid:\", valid_score, flush=True, file=log_file)"
   ]
  },
  {
   "cell_type": "markdown",
   "metadata": {},
   "source": [
    "## Epoch average"
   ]
  },
  {
   "cell_type": "code",
   "execution_count": 27,
   "metadata": {},
   "outputs": [
    {
     "data": {
      "text/plain": [
       "Sequential(\n",
       "  (0): Flatten(start_dim=1, end_dim=-1)\n",
       "  (1): Linear(in_features=784, out_features=10, bias=True)\n",
       "  (2): LogSoftmax(dim=-1)\n",
       ")"
      ]
     },
     "execution_count": 27,
     "metadata": {},
     "output_type": "execute_result"
    }
   ],
   "source": [
    "model = nn.Sequential(\n",
    "    nn.Flatten(),\n",
    "    nn.Linear(28*28, 10),\n",
    "    nn.LogSoftmax(-1),\n",
    ")\n",
    "model.cuda()"
   ]
  },
  {
   "cell_type": "code",
   "execution_count": 28,
   "metadata": {},
   "outputs": [],
   "source": [
    "log_file = open(\"SGD_momentum-avg.txt\", \"w\")\n",
    "optimizer = AcceleratedSGD(model.parameters(), 1e-3, k=10, momentum=0.5, weight_decay=1e-5, mode=\"epoch_avg\")"
   ]
  },
  {
   "cell_type": "code",
   "execution_count": 29,
   "metadata": {
    "tags": []
   },
   "outputs": [
    {
     "name": "stdout",
     "output_type": "stream",
     "text": [
      "Epoch 1\n",
      "Training loss: 1.7550\n",
      "Validation accuracy: 0.7809, validation loss: 1.3521\n",
      "Epoch 2\n",
      "Training loss: 1.1554\n",
      "Validation accuracy: 0.8200, validation loss: 1.0038\n",
      "Epoch 3\n",
      "Training loss: 0.9144\n",
      "Validation accuracy: 0.8337, validation loss: 0.8402\n",
      "Epoch 4\n",
      "Training loss: 0.7886\n",
      "Validation accuracy: 0.8431, validation loss: 0.7456\n",
      "Epoch 5\n",
      "Training loss: 0.7107\n",
      "Validation accuracy: 0.8499, validation loss: 0.6832\n",
      "Epoch 6\n",
      "Training loss: 0.6572\n",
      "Validation accuracy: 0.8545, validation loss: 0.6389\n",
      "Epoch 7\n",
      "Training loss: 0.6179\n",
      "Validation accuracy: 0.8582, validation loss: 0.6053\n",
      "Epoch 8\n",
      "Training loss: 0.5875\n",
      "Validation accuracy: 0.8613, validation loss: 0.5788\n",
      "Epoch 9\n",
      "Training loss: 0.5632\n",
      "Validation accuracy: 0.8658, validation loss: 0.5574\n",
      "Epoch 10\n",
      "Training loss: 0.5432\n",
      "Validation accuracy: 0.8683, validation loss: 0.5395\n",
      "Epoch 11\n",
      "Training loss: 0.5263\n",
      "Validation accuracy: 0.8697, validation loss: 0.5245\n",
      "Epoch 12\n",
      "Training loss: 0.5121\n",
      "Validation accuracy: 0.8721, validation loss: 0.5115\n",
      "Epoch 13\n",
      "Training loss: 0.4996\n",
      "Validation accuracy: 0.8748, validation loss: 0.5003\n",
      "Epoch 14\n",
      "Training loss: 0.4887\n",
      "Validation accuracy: 0.8760, validation loss: 0.4903\n",
      "Epoch 15\n",
      "Training loss: 0.4791\n",
      "Validation accuracy: 0.8775, validation loss: 0.4815\n",
      "Epoch 16\n",
      "Training loss: 0.4704\n",
      "Validation accuracy: 0.8787, validation loss: 0.4737\n",
      "Epoch 17\n",
      "Training loss: 0.4626\n",
      "Validation accuracy: 0.8794, validation loss: 0.4666\n",
      "Epoch 18\n",
      "Training loss: 0.4556\n",
      "Validation accuracy: 0.8808, validation loss: 0.4600\n",
      "Epoch 19\n",
      "Training loss: 0.4492\n",
      "Validation accuracy: 0.8811, validation loss: 0.4542\n",
      "Epoch 20\n",
      "Training loss: 0.4433\n",
      "Validation accuracy: 0.8826, validation loss: 0.4488\n",
      "Epoch 21\n",
      "Training loss: 0.4378\n",
      "Validation accuracy: 0.8831, validation loss: 0.4437\n",
      "Epoch 22\n",
      "Training loss: 0.4328\n",
      "Validation accuracy: 0.8841, validation loss: 0.4392\n",
      "Epoch 23\n",
      "Training loss: 0.4281\n",
      "Validation accuracy: 0.8844, validation loss: 0.4348\n",
      "Epoch 24\n",
      "Training loss: 0.4238\n",
      "Validation accuracy: 0.8845, validation loss: 0.4308\n",
      "Epoch 25\n",
      "Training loss: 0.4197\n",
      "Validation accuracy: 0.8857, validation loss: 0.4271\n",
      "Epoch 26\n",
      "Training loss: 0.4159\n",
      "Validation accuracy: 0.8860, validation loss: 0.4237\n",
      "Epoch 27\n",
      "Training loss: 0.4123\n",
      "Validation accuracy: 0.8868, validation loss: 0.4203\n",
      "Epoch 28\n",
      "Training loss: 0.4090\n",
      "Validation accuracy: 0.8879, validation loss: 0.4172\n",
      "Epoch 29\n",
      "Training loss: 0.4058\n",
      "Validation accuracy: 0.8882, validation loss: 0.4143\n",
      "Epoch 30\n",
      "Training loss: 0.4027\n",
      "Validation accuracy: 0.8888, validation loss: 0.4114\n"
     ]
    }
   ],
   "source": [
    "epochs = 30\n",
    "\n",
    "for epoch in range(epochs):\n",
    "    print(\"Epoch\", epoch+1)\n",
    "    loss_log = []\n",
    "    train_epoch(loss_log)\n",
    "    print(f\"Training loss: {np.mean(loss_log):.4f}\")\n",
    "    optimizer.finish_epoch()\n",
    "    val_acc, val_loss = validation(model, valid_loader)\n",
    "    print(f\"Validation accuracy: {val_acc:.4f}, validation loss: {val_loss:.4f}\")\n",
    "    print(\"Epoch\", epoch+1, \n",
    "          f\"Training loss: {np.mean(loss_log):.4f}, validation accuracy: {val_acc:.4f}, validation loss: {val_loss:.4f}\",\n",
    "          file=log_file, flush=True\n",
    "         )"
   ]
  },
  {
   "cell_type": "code",
   "execution_count": 30,
   "metadata": {},
   "outputs": [
    {
     "name": "stdout",
     "output_type": "stream",
     "text": [
      "Train: (tensor(0.8925, device='cuda:0'), tensor(0.4011, device='cuda:0'))\n",
      "Valid: (tensor(0.8888, device='cuda:0'), tensor(0.4114, device='cuda:0'))\n"
     ]
    }
   ],
   "source": [
    "train_score = validation(model, train_loader)\n",
    "valid_score = validation(model, valid_loader)\n",
    "print(\"Train:\", train_score)\n",
    "print(\"Valid:\", valid_score)\n",
    "print(\"Train:\", train_score, flush=True, file=log_file)\n",
    "print(\"Valid:\", valid_score, flush=True, file=log_file)"
   ]
  },
  {
   "cell_type": "code",
   "execution_count": 31,
   "metadata": {},
   "outputs": [],
   "source": [
    "optimizer.param_groups[0][\"method\"] = \"RNA\"\n",
    "optimizer.accelerate()"
   ]
  },
  {
   "cell_type": "code",
   "execution_count": 32,
   "metadata": {},
   "outputs": [
    {
     "data": {
      "text/plain": [
       "Sequential(\n",
       "  (0): Flatten(start_dim=1, end_dim=-1)\n",
       "  (1): Linear(in_features=784, out_features=10, bias=True)\n",
       "  (2): LogSoftmax(dim=-1)\n",
       ")"
      ]
     },
     "execution_count": 32,
     "metadata": {},
     "output_type": "execute_result"
    }
   ],
   "source": [
    "model_acc = deepcopy(model)\n",
    "optimizer.store_parameters([model_acc.parameters()])\n",
    "model_acc.cuda()"
   ]
  },
  {
   "cell_type": "code",
   "execution_count": 33,
   "metadata": {},
   "outputs": [
    {
     "name": "stdout",
     "output_type": "stream",
     "text": [
      "Train: (tensor(0.8963, device='cuda:0'), tensor(0.3821, device='cuda:0'))\n",
      "Valid: (tensor(0.8913, device='cuda:0'), tensor(0.3936, device='cuda:0'))\n"
     ]
    }
   ],
   "source": [
    "train_score = validation(model_acc, train_loader)\n",
    "valid_score = validation(model_acc, valid_loader)\n",
    "print(\"Train:\", train_score)\n",
    "print(\"Valid:\", valid_score)\n",
    "print(\"Train:\", train_score, flush=True, file=log_file)\n",
    "print(\"Valid:\", valid_score, flush=True, file=log_file)"
   ]
  },
  {
   "cell_type": "code",
   "execution_count": 34,
   "metadata": {},
   "outputs": [],
   "source": [
    "optimizer.param_groups[0][\"method\"] = \"RRE\"\n",
    "optimizer.accelerate()"
   ]
  },
  {
   "cell_type": "code",
   "execution_count": 35,
   "metadata": {},
   "outputs": [
    {
     "data": {
      "text/plain": [
       "Sequential(\n",
       "  (0): Flatten(start_dim=1, end_dim=-1)\n",
       "  (1): Linear(in_features=784, out_features=10, bias=True)\n",
       "  (2): LogSoftmax(dim=-1)\n",
       ")"
      ]
     },
     "execution_count": 35,
     "metadata": {},
     "output_type": "execute_result"
    }
   ],
   "source": [
    "model_acc = deepcopy(model)\n",
    "optimizer.store_parameters([model_acc.parameters()])\n",
    "model_acc.cuda()"
   ]
  },
  {
   "cell_type": "code",
   "execution_count": 36,
   "metadata": {},
   "outputs": [
    {
     "name": "stdout",
     "output_type": "stream",
     "text": [
      "Train: (tensor(0.8964, device='cuda:0'), tensor(0.3819, device='cuda:0'))\n",
      "Valid: (tensor(0.8915, device='cuda:0'), tensor(0.3934, device='cuda:0'))\n"
     ]
    }
   ],
   "source": [
    "train_score = validation(model_acc, train_loader)\n",
    "valid_score = validation(model_acc, valid_loader)\n",
    "print(\"Train:\", train_score)\n",
    "print(\"Valid:\", valid_score)\n",
    "print(\"Train:\", train_score, flush=True, file=log_file)\n",
    "print(\"Valid:\", valid_score, flush=True, file=log_file)"
   ]
  },
  {
   "cell_type": "code",
   "execution_count": null,
   "metadata": {},
   "outputs": [],
   "source": []
  }
 ],
 "metadata": {
  "kernelspec": {
   "display_name": "Python 3 (Torch)",
   "language": "python",
   "name": "torch"
  },
  "language_info": {
   "codemirror_mode": {
    "name": "ipython",
    "version": 3
   },
   "file_extension": ".py",
   "mimetype": "text/x-python",
   "name": "python",
   "nbconvert_exporter": "python",
   "pygments_lexer": "ipython3",
   "version": "3.8.11"
  }
 },
 "nbformat": 4,
 "nbformat_minor": 4
}
