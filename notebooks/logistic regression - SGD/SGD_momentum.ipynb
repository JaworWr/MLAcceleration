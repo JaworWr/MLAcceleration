{
 "cells": [
  {
   "cell_type": "code",
   "execution_count": 1,
   "metadata": {},
   "outputs": [],
   "source": [
    "import sys\n",
    "sys.path.insert(0, \"../..\")"
   ]
  },
  {
   "cell_type": "code",
   "execution_count": 2,
   "metadata": {},
   "outputs": [],
   "source": [
    "import torch\n",
    "from torch import nn\n",
    "from torch.utils import data\n",
    "from torchvision import datasets, transforms\n",
    "from tqdm.notebook import tqdm\n",
    "import numpy as np\n",
    "from copy import deepcopy\n",
    "\n",
    "from nn_extrapolation import AcceleratedSGD"
   ]
  },
  {
   "cell_type": "code",
   "execution_count": 3,
   "metadata": {},
   "outputs": [
    {
     "data": {
      "text/plain": [
       "True"
      ]
     },
     "execution_count": 3,
     "metadata": {},
     "output_type": "execute_result"
    }
   ],
   "source": [
    "torch.cuda.is_available()"
   ]
  },
  {
   "cell_type": "code",
   "execution_count": 4,
   "metadata": {},
   "outputs": [],
   "source": [
    "val_loss_fn = nn.NLLLoss(reduction=\"sum\")\n",
    "\n",
    "def validation(model, loader):\n",
    "    ok = 0\n",
    "    loss_sum = 0\n",
    "    total = 0\n",
    "    model.eval()\n",
    "    with torch.no_grad():\n",
    "        for x, y in loader:\n",
    "            x = x.cuda()\n",
    "            y = y.cuda()\n",
    "            out = model(x)\n",
    "            loss_sum += val_loss_fn(out, y)\n",
    "            preds = out.argmax(1)\n",
    "            ok += (y == preds).sum()\n",
    "            total += len(y)\n",
    "    return ok / total, loss_sum / total\n",
    "\n",
    "def train_epoch(loss_log):\n",
    "    model.train()\n",
    "    for x, y in train_loader:\n",
    "        x = x.cuda()\n",
    "        y = y.cuda()\n",
    "        optimizer.zero_grad()\n",
    "        out = model(x)\n",
    "        loss = loss_fn(out, y)\n",
    "        loss_log += list(loss.flatten().cpu().detach().numpy())\n",
    "        loss.backward()\n",
    "        optimizer.step()"
   ]
  },
  {
   "cell_type": "code",
   "execution_count": 5,
   "metadata": {},
   "outputs": [],
   "source": [
    "train_ds = datasets.MNIST(\"../../../MNIST\", download=True, train=True, transform=transforms.ToTensor())\n",
    "test_ds = datasets.MNIST(\"../../../MNIST\", download=True, train=False, transform=transforms.ToTensor())\n",
    "valid_size = int(0.2 * len(train_ds))\n",
    "train_ds, valid_ds = data.random_split(train_ds, [len(train_ds) - valid_size, valid_size])\n",
    "\n",
    "train_loader = data.DataLoader(train_ds, batch_size=64, shuffle=True, num_workers=2)\n",
    "valid_loader = data.DataLoader(valid_ds, batch_size=64, shuffle=True, num_workers=2)\n",
    "test_loader = data.DataLoader(test_ds, batch_size=64, shuffle=False, num_workers=2)"
   ]
  },
  {
   "cell_type": "code",
   "execution_count": 6,
   "metadata": {},
   "outputs": [
    {
     "data": {
      "text/plain": [
       "Sequential(\n",
       "  (0): Flatten(start_dim=1, end_dim=-1)\n",
       "  (1): Linear(in_features=784, out_features=10, bias=True)\n",
       "  (2): LogSoftmax(dim=-1)\n",
       ")"
      ]
     },
     "execution_count": 6,
     "metadata": {},
     "output_type": "execute_result"
    }
   ],
   "source": [
    "model = nn.Sequential(\n",
    "    nn.Flatten(),\n",
    "    nn.Linear(28*28, 10),\n",
    "    nn.LogSoftmax(-1),\n",
    ")\n",
    "model.cuda()"
   ]
  },
  {
   "cell_type": "code",
   "execution_count": 7,
   "metadata": {},
   "outputs": [],
   "source": [
    "optimizer = AcceleratedSGD(model.parameters(), 1e-3, k=10, momentum=0.8, weight_decay=1e-5, mode=\"epoch\")\n",
    "loss_fn = nn.NLLLoss()"
   ]
  },
  {
   "cell_type": "code",
   "execution_count": 8,
   "metadata": {},
   "outputs": [],
   "source": [
    "log_file = open(\"SGD_momentum.txt\", \"w\")"
   ]
  },
  {
   "cell_type": "markdown",
   "metadata": {},
   "source": [
    "## Epoch"
   ]
  },
  {
   "cell_type": "code",
   "execution_count": 9,
   "metadata": {
    "tags": []
   },
   "outputs": [
    {
     "name": "stdout",
     "output_type": "stream",
     "text": [
      "Epoch 1\n",
      "Training loss: 1.3505\n",
      "Validation accuracy: 0.8257, validation loss: 0.9096\n",
      "Epoch 2\n",
      "Training loss: 0.7708\n",
      "Validation accuracy: 0.8518, validation loss: 0.6832\n",
      "Epoch 3\n",
      "Training loss: 0.6259\n",
      "Validation accuracy: 0.8621, validation loss: 0.5911\n",
      "Epoch 4\n",
      "Training loss: 0.5560\n",
      "Validation accuracy: 0.8692, validation loss: 0.5398\n",
      "Epoch 5\n",
      "Training loss: 0.5134\n",
      "Validation accuracy: 0.8733, validation loss: 0.5060\n",
      "Epoch 6\n",
      "Training loss: 0.4842\n",
      "Validation accuracy: 0.8758, validation loss: 0.4820\n",
      "Epoch 7\n",
      "Training loss: 0.4626\n",
      "Validation accuracy: 0.8797, validation loss: 0.4640\n",
      "Epoch 8\n",
      "Training loss: 0.4457\n",
      "Validation accuracy: 0.8825, validation loss: 0.4497\n",
      "Epoch 9\n",
      "Training loss: 0.4322\n",
      "Validation accuracy: 0.8836, validation loss: 0.4380\n",
      "Epoch 10\n",
      "Training loss: 0.4210\n",
      "Validation accuracy: 0.8853, validation loss: 0.4284\n",
      "Epoch 11\n",
      "Training loss: 0.4115\n",
      "Validation accuracy: 0.8866, validation loss: 0.4203\n",
      "Epoch 12\n",
      "Training loss: 0.4033\n",
      "Validation accuracy: 0.8881, validation loss: 0.4132\n",
      "Epoch 13\n",
      "Training loss: 0.3962\n",
      "Validation accuracy: 0.8888, validation loss: 0.4068\n",
      "Epoch 14\n",
      "Training loss: 0.3898\n",
      "Validation accuracy: 0.8898, validation loss: 0.4013\n",
      "Epoch 15\n",
      "Training loss: 0.3842\n",
      "Validation accuracy: 0.8908, validation loss: 0.3966\n",
      "Epoch 16\n",
      "Training loss: 0.3792\n",
      "Validation accuracy: 0.8923, validation loss: 0.3921\n",
      "Epoch 17\n",
      "Training loss: 0.3746\n",
      "Validation accuracy: 0.8932, validation loss: 0.3881\n",
      "Epoch 18\n",
      "Training loss: 0.3704\n",
      "Validation accuracy: 0.8934, validation loss: 0.3849\n",
      "Epoch 19\n",
      "Training loss: 0.3666\n",
      "Validation accuracy: 0.8952, validation loss: 0.3812\n",
      "Epoch 20\n",
      "Training loss: 0.3631\n",
      "Validation accuracy: 0.8963, validation loss: 0.3785\n",
      "Epoch 21\n",
      "Training loss: 0.3598\n",
      "Validation accuracy: 0.8968, validation loss: 0.3754\n",
      "Epoch 22\n",
      "Training loss: 0.3568\n",
      "Validation accuracy: 0.8966, validation loss: 0.3728\n",
      "Epoch 23\n",
      "Training loss: 0.3539\n",
      "Validation accuracy: 0.8970, validation loss: 0.3704\n",
      "Epoch 24\n",
      "Training loss: 0.3513\n",
      "Validation accuracy: 0.8977, validation loss: 0.3682\n",
      "Epoch 25\n",
      "Training loss: 0.3488\n",
      "Validation accuracy: 0.8981, validation loss: 0.3663\n",
      "Epoch 26\n",
      "Training loss: 0.3465\n",
      "Validation accuracy: 0.8981, validation loss: 0.3642\n",
      "Epoch 27\n",
      "Training loss: 0.3443\n",
      "Validation accuracy: 0.8989, validation loss: 0.3623\n",
      "Epoch 28\n",
      "Training loss: 0.3422\n",
      "Validation accuracy: 0.8998, validation loss: 0.3604\n",
      "Epoch 29\n",
      "Training loss: 0.3402\n",
      "Validation accuracy: 0.9000, validation loss: 0.3590\n",
      "Epoch 30\n",
      "Training loss: 0.3384\n",
      "Validation accuracy: 0.9007, validation loss: 0.3572\n"
     ]
    }
   ],
   "source": [
    "epochs = 30\n",
    "\n",
    "for epoch in range(epochs):\n",
    "    print(\"Epoch\", epoch+1)\n",
    "    loss_log = []\n",
    "    train_epoch(loss_log)\n",
    "    print(f\"Training loss: {np.mean(loss_log):.4f}\")\n",
    "    optimizer.finish_epoch()\n",
    "    val_acc, val_loss = validation(model, valid_loader)\n",
    "    print(f\"Validation accuracy: {val_acc:.4f}, validation loss: {val_loss:.4f}\")\n",
    "    print(\"Epoch\", epoch+1, \n",
    "          f\"Training loss: {np.mean(loss_log):.4f}, validation accuracy: {val_acc:.4f}, validation loss: {val_loss:.4f}\",\n",
    "          file=log_file, flush=True\n",
    "         )"
   ]
  },
  {
   "cell_type": "code",
   "execution_count": 10,
   "metadata": {},
   "outputs": [
    {
     "name": "stdout",
     "output_type": "stream",
     "text": [
      "Train: (tensor(0.9069, device='cuda:0'), tensor(0.3371, device='cuda:0'))\n",
      "Valid: (tensor(0.9007, device='cuda:0'), tensor(0.3572, device='cuda:0'))\n"
     ]
    }
   ],
   "source": [
    "train_score = validation(model, train_loader)\n",
    "valid_score = validation(model, valid_loader)\n",
    "print(\"Train:\", train_score)\n",
    "print(\"Valid:\", valid_score)\n",
    "print(\"Train:\", train_score, flush=True, file=log_file)\n",
    "print(\"Valid:\", valid_score, flush=True, file=log_file)"
   ]
  },
  {
   "cell_type": "code",
   "execution_count": 11,
   "metadata": {},
   "outputs": [],
   "source": [
    "optimizer.param_groups[0][\"method\"] = \"RNA\"\n",
    "optimizer.accelerate()"
   ]
  },
  {
   "cell_type": "code",
   "execution_count": 12,
   "metadata": {},
   "outputs": [
    {
     "data": {
      "text/plain": [
       "Sequential(\n",
       "  (0): Flatten(start_dim=1, end_dim=-1)\n",
       "  (1): Linear(in_features=784, out_features=10, bias=True)\n",
       "  (2): LogSoftmax(dim=-1)\n",
       ")"
      ]
     },
     "execution_count": 12,
     "metadata": {},
     "output_type": "execute_result"
    }
   ],
   "source": [
    "model_acc = deepcopy(model)\n",
    "optimizer.store_parameters([model_acc.parameters()])\n",
    "model_acc.cuda()"
   ]
  },
  {
   "cell_type": "code",
   "execution_count": 13,
   "metadata": {},
   "outputs": [
    {
     "name": "stdout",
     "output_type": "stream",
     "text": [
      "Train: (tensor(0.9144, device='cuda:0'), tensor(0.3070, device='cuda:0'))\n",
      "Valid: (tensor(0.9064, device='cuda:0'), tensor(0.3332, device='cuda:0'))\n"
     ]
    }
   ],
   "source": [
    "train_score = validation(model_acc, train_loader)\n",
    "valid_score = validation(model_acc, valid_loader)\n",
    "print(\"Train:\", train_score)\n",
    "print(\"Valid:\", valid_score)\n",
    "print(\"Train:\", train_score, flush=True, file=log_file)\n",
    "print(\"Valid:\", valid_score, flush=True, file=log_file)"
   ]
  },
  {
   "cell_type": "code",
   "execution_count": 14,
   "metadata": {},
   "outputs": [],
   "source": [
    "optimizer.param_groups[0][\"method\"] = \"RRE\"\n",
    "optimizer.accelerate()"
   ]
  },
  {
   "cell_type": "code",
   "execution_count": 15,
   "metadata": {},
   "outputs": [
    {
     "data": {
      "text/plain": [
       "Sequential(\n",
       "  (0): Flatten(start_dim=1, end_dim=-1)\n",
       "  (1): Linear(in_features=784, out_features=10, bias=True)\n",
       "  (2): LogSoftmax(dim=-1)\n",
       ")"
      ]
     },
     "execution_count": 15,
     "metadata": {},
     "output_type": "execute_result"
    }
   ],
   "source": [
    "model_acc = deepcopy(model)\n",
    "optimizer.store_parameters([model_acc.parameters()])\n",
    "model_acc.cuda()"
   ]
  },
  {
   "cell_type": "code",
   "execution_count": 16,
   "metadata": {},
   "outputs": [
    {
     "name": "stdout",
     "output_type": "stream",
     "text": [
      "Train: (tensor(0.9144, device='cuda:0'), tensor(0.3070, device='cuda:0'))\n",
      "Valid: (tensor(0.9064, device='cuda:0'), tensor(0.3332, device='cuda:0'))\n"
     ]
    }
   ],
   "source": [
    "train_score = validation(model_acc, train_loader)\n",
    "valid_score = validation(model_acc, valid_loader)\n",
    "print(\"Train:\", train_score)\n",
    "print(\"Valid:\", valid_score)\n",
    "print(\"Train:\", train_score, flush=True, file=log_file)\n",
    "print(\"Valid:\", valid_score, flush=True, file=log_file)"
   ]
  },
  {
   "cell_type": "markdown",
   "metadata": {},
   "source": [
    "## Epoch average"
   ]
  },
  {
   "cell_type": "code",
   "execution_count": 17,
   "metadata": {},
   "outputs": [
    {
     "data": {
      "text/plain": [
       "Sequential(\n",
       "  (0): Flatten(start_dim=1, end_dim=-1)\n",
       "  (1): Linear(in_features=784, out_features=10, bias=True)\n",
       "  (2): LogSoftmax(dim=-1)\n",
       ")"
      ]
     },
     "execution_count": 17,
     "metadata": {},
     "output_type": "execute_result"
    }
   ],
   "source": [
    "model = nn.Sequential(\n",
    "    nn.Flatten(),\n",
    "    nn.Linear(28*28, 10),\n",
    "    nn.LogSoftmax(-1),\n",
    ")\n",
    "model.cuda()"
   ]
  },
  {
   "cell_type": "code",
   "execution_count": 18,
   "metadata": {},
   "outputs": [],
   "source": [
    "log_file = open(\"SGD_momentum-avg.txt\", \"w\")\n",
    "optimizer = AcceleratedSGD(model.parameters(), 1e-3, k=10, momentum=0.8, weight_decay=1e-5, mode=\"epoch_avg\")"
   ]
  },
  {
   "cell_type": "code",
   "execution_count": 19,
   "metadata": {
    "tags": []
   },
   "outputs": [
    {
     "name": "stdout",
     "output_type": "stream",
     "text": [
      "Epoch 1\n",
      "Training loss: 1.3505\n",
      "Validation accuracy: 0.8313, validation loss: 0.9120\n",
      "Epoch 2\n",
      "Training loss: 0.7718\n",
      "Validation accuracy: 0.8523, validation loss: 0.6838\n",
      "Epoch 3\n",
      "Training loss: 0.6259\n",
      "Validation accuracy: 0.8621, validation loss: 0.5914\n",
      "Epoch 4\n",
      "Training loss: 0.5557\n",
      "Validation accuracy: 0.8695, validation loss: 0.5394\n",
      "Epoch 5\n",
      "Training loss: 0.5130\n",
      "Validation accuracy: 0.8735, validation loss: 0.5057\n",
      "Epoch 6\n",
      "Training loss: 0.4836\n",
      "Validation accuracy: 0.8775, validation loss: 0.4817\n",
      "Epoch 7\n",
      "Training loss: 0.4620\n",
      "Validation accuracy: 0.8792, validation loss: 0.4634\n",
      "Epoch 8\n",
      "Training loss: 0.4452\n",
      "Validation accuracy: 0.8823, validation loss: 0.4493\n",
      "Epoch 9\n",
      "Training loss: 0.4316\n",
      "Validation accuracy: 0.8834, validation loss: 0.4376\n",
      "Epoch 10\n",
      "Training loss: 0.4203\n",
      "Validation accuracy: 0.8846, validation loss: 0.4279\n",
      "Epoch 11\n",
      "Training loss: 0.4109\n",
      "Validation accuracy: 0.8871, validation loss: 0.4198\n",
      "Epoch 12\n",
      "Training loss: 0.4027\n",
      "Validation accuracy: 0.8882, validation loss: 0.4127\n",
      "Epoch 13\n",
      "Training loss: 0.3956\n",
      "Validation accuracy: 0.8906, validation loss: 0.4063\n",
      "Epoch 14\n",
      "Training loss: 0.3893\n",
      "Validation accuracy: 0.8913, validation loss: 0.4010\n",
      "Epoch 15\n",
      "Training loss: 0.3837\n",
      "Validation accuracy: 0.8933, validation loss: 0.3960\n",
      "Epoch 16\n",
      "Training loss: 0.3787\n",
      "Validation accuracy: 0.8941, validation loss: 0.3917\n",
      "Epoch 17\n",
      "Training loss: 0.3741\n",
      "Validation accuracy: 0.8947, validation loss: 0.3877\n",
      "Epoch 18\n",
      "Training loss: 0.3699\n",
      "Validation accuracy: 0.8952, validation loss: 0.3841\n",
      "Epoch 19\n",
      "Training loss: 0.3661\n",
      "Validation accuracy: 0.8949, validation loss: 0.3808\n",
      "Epoch 20\n",
      "Training loss: 0.3626\n",
      "Validation accuracy: 0.8965, validation loss: 0.3779\n",
      "Epoch 21\n",
      "Training loss: 0.3593\n",
      "Validation accuracy: 0.8969, validation loss: 0.3752\n",
      "Epoch 22\n",
      "Training loss: 0.3563\n",
      "Validation accuracy: 0.8972, validation loss: 0.3724\n",
      "Epoch 23\n",
      "Training loss: 0.3535\n",
      "Validation accuracy: 0.8980, validation loss: 0.3699\n",
      "Epoch 24\n",
      "Training loss: 0.3508\n",
      "Validation accuracy: 0.8980, validation loss: 0.3678\n",
      "Epoch 25\n",
      "Training loss: 0.3484\n",
      "Validation accuracy: 0.8982, validation loss: 0.3655\n",
      "Epoch 26\n",
      "Training loss: 0.3461\n",
      "Validation accuracy: 0.8982, validation loss: 0.3636\n",
      "Epoch 27\n",
      "Training loss: 0.3438\n",
      "Validation accuracy: 0.8989, validation loss: 0.3618\n",
      "Epoch 28\n",
      "Training loss: 0.3418\n",
      "Validation accuracy: 0.8993, validation loss: 0.3599\n",
      "Epoch 29\n",
      "Training loss: 0.3398\n",
      "Validation accuracy: 0.8993, validation loss: 0.3585\n",
      "Epoch 30\n",
      "Training loss: 0.3379\n",
      "Validation accuracy: 0.8997, validation loss: 0.3568\n"
     ]
    }
   ],
   "source": [
    "epochs = 30\n",
    "\n",
    "for epoch in range(epochs):\n",
    "    print(\"Epoch\", epoch+1)\n",
    "    loss_log = []\n",
    "    train_epoch(loss_log)\n",
    "    print(f\"Training loss: {np.mean(loss_log):.4f}\")\n",
    "    optimizer.finish_epoch()\n",
    "    val_acc, val_loss = validation(model, valid_loader)\n",
    "    print(f\"Validation accuracy: {val_acc:.4f}, validation loss: {val_loss:.4f}\")\n",
    "    print(\"Epoch\", epoch+1, \n",
    "          f\"Training loss: {np.mean(loss_log):.4f}, validation accuracy: {val_acc:.4f}, validation loss: {val_loss:.4f}\",\n",
    "          file=log_file, flush=True\n",
    "         )"
   ]
  },
  {
   "cell_type": "code",
   "execution_count": 20,
   "metadata": {},
   "outputs": [
    {
     "name": "stdout",
     "output_type": "stream",
     "text": [
      "Train: (tensor(0.9069, device='cuda:0'), tensor(0.3367, device='cuda:0'))\n",
      "Valid: (tensor(0.8997, device='cuda:0'), tensor(0.3568, device='cuda:0'))\n"
     ]
    }
   ],
   "source": [
    "train_score = validation(model, train_loader)\n",
    "valid_score = validation(model, valid_loader)\n",
    "print(\"Train:\", train_score)\n",
    "print(\"Valid:\", valid_score)\n",
    "print(\"Train:\", train_score, flush=True, file=log_file)\n",
    "print(\"Valid:\", valid_score, flush=True, file=log_file)"
   ]
  },
  {
   "cell_type": "code",
   "execution_count": 21,
   "metadata": {},
   "outputs": [],
   "source": [
    "optimizer.param_groups[0][\"method\"] = \"RNA\"\n",
    "optimizer.accelerate()"
   ]
  },
  {
   "cell_type": "code",
   "execution_count": 22,
   "metadata": {},
   "outputs": [
    {
     "data": {
      "text/plain": [
       "Sequential(\n",
       "  (0): Flatten(start_dim=1, end_dim=-1)\n",
       "  (1): Linear(in_features=784, out_features=10, bias=True)\n",
       "  (2): LogSoftmax(dim=-1)\n",
       ")"
      ]
     },
     "execution_count": 22,
     "metadata": {},
     "output_type": "execute_result"
    }
   ],
   "source": [
    "model_acc = deepcopy(model)\n",
    "optimizer.store_parameters([model_acc.parameters()])\n",
    "model_acc.cuda()"
   ]
  },
  {
   "cell_type": "code",
   "execution_count": 23,
   "metadata": {},
   "outputs": [
    {
     "name": "stdout",
     "output_type": "stream",
     "text": [
      "Train: (tensor(0.9079, device='cuda:0'), tensor(0.3312, device='cuda:0'))\n",
      "Valid: (tensor(0.9009, device='cuda:0'), tensor(0.3520, device='cuda:0'))\n"
     ]
    }
   ],
   "source": [
    "train_score = validation(model_acc, train_loader)\n",
    "valid_score = validation(model_acc, valid_loader)\n",
    "print(\"Train:\", train_score)\n",
    "print(\"Valid:\", valid_score)\n",
    "print(\"Train:\", train_score, flush=True, file=log_file)\n",
    "print(\"Valid:\", valid_score, flush=True, file=log_file)"
   ]
  },
  {
   "cell_type": "code",
   "execution_count": 24,
   "metadata": {},
   "outputs": [],
   "source": [
    "optimizer.param_groups[0][\"method\"] = \"RRE\"\n",
    "optimizer.accelerate()"
   ]
  },
  {
   "cell_type": "code",
   "execution_count": 25,
   "metadata": {},
   "outputs": [
    {
     "data": {
      "text/plain": [
       "Sequential(\n",
       "  (0): Flatten(start_dim=1, end_dim=-1)\n",
       "  (1): Linear(in_features=784, out_features=10, bias=True)\n",
       "  (2): LogSoftmax(dim=-1)\n",
       ")"
      ]
     },
     "execution_count": 25,
     "metadata": {},
     "output_type": "execute_result"
    }
   ],
   "source": [
    "model_acc = deepcopy(model)\n",
    "optimizer.store_parameters([model_acc.parameters()])\n",
    "model_acc.cuda()"
   ]
  },
  {
   "cell_type": "code",
   "execution_count": 26,
   "metadata": {},
   "outputs": [
    {
     "name": "stdout",
     "output_type": "stream",
     "text": [
      "Train: (tensor(0.9079, device='cuda:0'), tensor(0.3312, device='cuda:0'))\n",
      "Valid: (tensor(0.9009, device='cuda:0'), tensor(0.3520, device='cuda:0'))\n"
     ]
    }
   ],
   "source": [
    "train_score = validation(model_acc, train_loader)\n",
    "valid_score = validation(model_acc, valid_loader)\n",
    "print(\"Train:\", train_score)\n",
    "print(\"Valid:\", valid_score)\n",
    "print(\"Train:\", train_score, flush=True, file=log_file)\n",
    "print(\"Valid:\", valid_score, flush=True, file=log_file)"
   ]
  },
  {
   "cell_type": "code",
   "execution_count": null,
   "metadata": {},
   "outputs": [],
   "source": []
  }
 ],
 "metadata": {
  "kernelspec": {
   "display_name": "Python 3 (Torch)",
   "language": "python",
   "name": "torch"
  },
  "language_info": {
   "codemirror_mode": {
    "name": "ipython",
    "version": 3
   },
   "file_extension": ".py",
   "mimetype": "text/x-python",
   "name": "python",
   "nbconvert_exporter": "python",
   "pygments_lexer": "ipython3",
   "version": "3.8.11"
  }
 },
 "nbformat": 4,
 "nbformat_minor": 4
}
