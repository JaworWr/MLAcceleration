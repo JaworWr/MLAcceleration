{
 "cells": [
  {
   "cell_type": "code",
   "execution_count": 1,
   "metadata": {},
   "outputs": [],
   "source": [
    "import sys\n",
    "sys.path.insert(0, \"../..\")"
   ]
  },
  {
   "cell_type": "code",
   "execution_count": 2,
   "metadata": {},
   "outputs": [],
   "source": [
    "import torch\n",
    "from torch import nn\n",
    "from torch.utils import data\n",
    "from torchvision import datasets, transforms\n",
    "from tqdm.notebook import tqdm\n",
    "import numpy as np\n",
    "from copy import deepcopy\n",
    "\n",
    "from nn_extrapolation import AcceleratedSGD"
   ]
  },
  {
   "cell_type": "code",
   "execution_count": 3,
   "metadata": {},
   "outputs": [
    {
     "data": {
      "text/plain": [
       "True"
      ]
     },
     "execution_count": 3,
     "metadata": {},
     "output_type": "execute_result"
    }
   ],
   "source": [
    "torch.cuda.is_available()"
   ]
  },
  {
   "cell_type": "code",
   "execution_count": 4,
   "metadata": {},
   "outputs": [],
   "source": [
    "val_loss_fn = nn.NLLLoss(reduction=\"sum\")\n",
    "\n",
    "def validation(model, loader):\n",
    "    ok = 0\n",
    "    loss_sum = 0\n",
    "    total = 0\n",
    "    model.eval()\n",
    "    with torch.no_grad():\n",
    "        for x, y in loader:\n",
    "            x = x.cuda()\n",
    "            y = y.cuda()\n",
    "            out = model(x)\n",
    "            loss_sum += val_loss_fn(out, y)\n",
    "            preds = out.argmax(1)\n",
    "            ok += (y == preds).sum()\n",
    "            total += len(y)\n",
    "    return ok / total, loss_sum / total\n",
    "\n",
    "def train_epoch(loss_log):\n",
    "    model.train()\n",
    "    for x, y in train_loader:\n",
    "        x = x.cuda()\n",
    "        y = y.cuda()\n",
    "        optimizer.zero_grad()\n",
    "        out = model(x)\n",
    "        loss = loss_fn(out, y)\n",
    "        loss_log += list(loss.flatten().cpu().detach().numpy())\n",
    "        loss.backward()\n",
    "        optimizer.step()"
   ]
  },
  {
   "cell_type": "code",
   "execution_count": 5,
   "metadata": {},
   "outputs": [],
   "source": [
    "train_ds = datasets.MNIST(\"../../../MNIST\", download=True, train=True, transform=transforms.ToTensor())\n",
    "test_ds = datasets.MNIST(\"../../../MNIST\", download=True, train=False, transform=transforms.ToTensor())\n",
    "valid_size = int(0.2 * len(train_ds))\n",
    "train_ds, valid_ds = data.random_split(train_ds, [len(train_ds) - valid_size, valid_size])\n",
    "\n",
    "train_loader = data.DataLoader(train_ds, batch_size=64, shuffle=True, num_workers=2)\n",
    "valid_loader = data.DataLoader(valid_ds, batch_size=64, shuffle=True, num_workers=2)\n",
    "test_loader = data.DataLoader(test_ds, batch_size=64, shuffle=False, num_workers=2)"
   ]
  },
  {
   "cell_type": "code",
   "execution_count": 6,
   "metadata": {},
   "outputs": [
    {
     "data": {
      "text/plain": [
       "Sequential(\n",
       "  (0): Flatten(start_dim=1, end_dim=-1)\n",
       "  (1): Linear(in_features=784, out_features=512, bias=True)\n",
       "  (2): ReLU()\n",
       "  (3): Linear(in_features=512, out_features=10, bias=True)\n",
       "  (4): LogSoftmax(dim=-1)\n",
       ")"
      ]
     },
     "execution_count": 6,
     "metadata": {},
     "output_type": "execute_result"
    }
   ],
   "source": [
    "model = nn.Sequential(\n",
    "    nn.Flatten(),\n",
    "    nn.Linear(28*28, 512),\n",
    "    nn.ReLU(),\n",
    "    nn.Linear(512, 10),\n",
    "    nn.LogSoftmax(-1),\n",
    ")\n",
    "model.cuda()"
   ]
  },
  {
   "cell_type": "code",
   "execution_count": 7,
   "metadata": {},
   "outputs": [],
   "source": [
    "optimizer = AcceleratedSGD(model.parameters(), 1e-3, k=10, mode=\"epoch\")\n",
    "loss_fn = nn.NLLLoss()"
   ]
  },
  {
   "cell_type": "code",
   "execution_count": 8,
   "metadata": {},
   "outputs": [],
   "source": [
    "log_file = open(\"SGD-2l.txt\", \"w\")"
   ]
  },
  {
   "cell_type": "markdown",
   "metadata": {},
   "source": [
    "## Epoch"
   ]
  },
  {
   "cell_type": "code",
   "execution_count": 9,
   "metadata": {
    "tags": []
   },
   "outputs": [
    {
     "name": "stdout",
     "output_type": "stream",
     "text": [
      "Epoch 1\n",
      "Training loss: 2.2213\n",
      "Validation accuracy: 0.5662, validation loss: 2.1283\n",
      "Epoch 2\n",
      "Training loss: 2.0220\n",
      "Validation accuracy: 0.7180, validation loss: 1.9077\n",
      "Epoch 3\n",
      "Training loss: 1.7774\n",
      "Validation accuracy: 0.7513, validation loss: 1.6458\n",
      "Epoch 4\n",
      "Training loss: 1.5109\n",
      "Validation accuracy: 0.7717, validation loss: 1.3867\n",
      "Epoch 5\n",
      "Training loss: 1.2696\n",
      "Validation accuracy: 0.7918, validation loss: 1.1711\n",
      "Epoch 6\n",
      "Training loss: 1.0792\n",
      "Validation accuracy: 0.8087, validation loss: 1.0084\n",
      "Epoch 7\n",
      "Training loss: 0.9380\n",
      "Validation accuracy: 0.8247, validation loss: 0.8891\n",
      "Epoch 8\n",
      "Training loss: 0.8340\n",
      "Validation accuracy: 0.8312, validation loss: 0.8010\n",
      "Epoch 9\n",
      "Training loss: 0.7562\n",
      "Validation accuracy: 0.8401, validation loss: 0.7342\n",
      "Epoch 10\n",
      "Training loss: 0.6964\n",
      "Validation accuracy: 0.8486, validation loss: 0.6820\n",
      "Epoch 11\n",
      "Training loss: 0.6492\n",
      "Validation accuracy: 0.8529, validation loss: 0.6405\n",
      "Epoch 12\n",
      "Training loss: 0.6112\n",
      "Validation accuracy: 0.8582, validation loss: 0.6066\n",
      "Epoch 13\n",
      "Training loss: 0.5799\n",
      "Validation accuracy: 0.8627, validation loss: 0.5788\n",
      "Epoch 14\n",
      "Training loss: 0.5538\n",
      "Validation accuracy: 0.8669, validation loss: 0.5552\n",
      "Epoch 15\n",
      "Training loss: 0.5316\n",
      "Validation accuracy: 0.8702, validation loss: 0.5350\n",
      "Epoch 16\n",
      "Training loss: 0.5125\n",
      "Validation accuracy: 0.8720, validation loss: 0.5176\n",
      "Epoch 17\n",
      "Training loss: 0.4960\n",
      "Validation accuracy: 0.8747, validation loss: 0.5025\n",
      "Epoch 18\n",
      "Training loss: 0.4815\n",
      "Validation accuracy: 0.8774, validation loss: 0.4894\n",
      "Epoch 19\n",
      "Training loss: 0.4686\n",
      "Validation accuracy: 0.8795, validation loss: 0.4775\n",
      "Epoch 20\n",
      "Training loss: 0.4572\n",
      "Validation accuracy: 0.8816, validation loss: 0.4669\n",
      "Epoch 21\n",
      "Training loss: 0.4470\n",
      "Validation accuracy: 0.8837, validation loss: 0.4575\n",
      "Epoch 22\n",
      "Training loss: 0.4378\n",
      "Validation accuracy: 0.8847, validation loss: 0.4490\n",
      "Epoch 23\n",
      "Training loss: 0.4295\n",
      "Validation accuracy: 0.8868, validation loss: 0.4412\n",
      "Epoch 24\n",
      "Training loss: 0.4218\n",
      "Validation accuracy: 0.8881, validation loss: 0.4341\n",
      "Epoch 25\n",
      "Training loss: 0.4149\n",
      "Validation accuracy: 0.8893, validation loss: 0.4276\n",
      "Epoch 26\n",
      "Training loss: 0.4084\n",
      "Validation accuracy: 0.8897, validation loss: 0.4216\n",
      "Epoch 27\n",
      "Training loss: 0.4025\n",
      "Validation accuracy: 0.8908, validation loss: 0.4159\n",
      "Epoch 28\n",
      "Training loss: 0.3970\n",
      "Validation accuracy: 0.8910, validation loss: 0.4111\n",
      "Epoch 29\n",
      "Training loss: 0.3918\n",
      "Validation accuracy: 0.8918, validation loss: 0.4062\n",
      "Epoch 30\n",
      "Training loss: 0.3871\n",
      "Validation accuracy: 0.8931, validation loss: 0.4017\n"
     ]
    }
   ],
   "source": [
    "epochs = 30\n",
    "\n",
    "for epoch in range(epochs):\n",
    "    print(\"Epoch\", epoch+1)\n",
    "    loss_log = []\n",
    "    train_epoch(loss_log)\n",
    "    print(f\"Training loss: {np.mean(loss_log):.4f}\")\n",
    "    optimizer.finish_epoch()\n",
    "    val_acc, val_loss = validation(model, valid_loader)\n",
    "    print(f\"Validation accuracy: {val_acc:.4f}, validation loss: {val_loss:.4f}\")\n",
    "    print(\"Epoch\", epoch+1, \n",
    "          f\"Training loss: {np.mean(loss_log):.4f}, validation accuracy: {val_acc:.4f}, validation loss: {val_loss:.4f}\",\n",
    "          file=log_file, flush=True\n",
    "         )"
   ]
  },
  {
   "cell_type": "code",
   "execution_count": 10,
   "metadata": {},
   "outputs": [
    {
     "name": "stdout",
     "output_type": "stream",
     "text": [
      "Train: (tensor(0.8950, device='cuda:0'), tensor(0.3845, device='cuda:0'))\n",
      "Valid: (tensor(0.8931, device='cuda:0'), tensor(0.4017, device='cuda:0'))\n"
     ]
    }
   ],
   "source": [
    "train_score = validation(model, train_loader)\n",
    "valid_score = validation(model, valid_loader)\n",
    "print(\"Train:\", train_score)\n",
    "print(\"Valid:\", valid_score)\n",
    "print(\"Train:\", train_score, flush=True, file=log_file)\n",
    "print(\"Valid:\", valid_score, flush=True, file=log_file)"
   ]
  },
  {
   "cell_type": "code",
   "execution_count": 11,
   "metadata": {},
   "outputs": [],
   "source": [
    "optimizer.param_groups[0][\"method\"] = \"RNA\"\n",
    "optimizer.accelerate()"
   ]
  },
  {
   "cell_type": "code",
   "execution_count": 12,
   "metadata": {},
   "outputs": [
    {
     "data": {
      "text/plain": [
       "Sequential(\n",
       "  (0): Flatten(start_dim=1, end_dim=-1)\n",
       "  (1): Linear(in_features=784, out_features=512, bias=True)\n",
       "  (2): ReLU()\n",
       "  (3): Linear(in_features=512, out_features=10, bias=True)\n",
       "  (4): LogSoftmax(dim=-1)\n",
       ")"
      ]
     },
     "execution_count": 12,
     "metadata": {},
     "output_type": "execute_result"
    }
   ],
   "source": [
    "model_acc = deepcopy(model)\n",
    "optimizer.store_parameters([model_acc.parameters()])\n",
    "model_acc.cuda()"
   ]
  },
  {
   "cell_type": "code",
   "execution_count": 13,
   "metadata": {},
   "outputs": [
    {
     "name": "stdout",
     "output_type": "stream",
     "text": [
      "Train: (tensor(0.9041, device='cuda:0'), tensor(0.3308, device='cuda:0'))\n",
      "Valid: (tensor(0.9019, device='cuda:0'), tensor(0.3513, device='cuda:0'))\n"
     ]
    }
   ],
   "source": [
    "train_score = validation(model_acc, train_loader)\n",
    "valid_score = validation(model_acc, valid_loader)\n",
    "print(\"Train:\", train_score)\n",
    "print(\"Valid:\", valid_score)\n",
    "print(\"Train:\", train_score, flush=True, file=log_file)\n",
    "print(\"Valid:\", valid_score, flush=True, file=log_file)"
   ]
  },
  {
   "cell_type": "code",
   "execution_count": 14,
   "metadata": {},
   "outputs": [],
   "source": [
    "optimizer.param_groups[0][\"method\"] = \"RRE\"\n",
    "optimizer.accelerate()"
   ]
  },
  {
   "cell_type": "code",
   "execution_count": 15,
   "metadata": {},
   "outputs": [
    {
     "data": {
      "text/plain": [
       "Sequential(\n",
       "  (0): Flatten(start_dim=1, end_dim=-1)\n",
       "  (1): Linear(in_features=784, out_features=512, bias=True)\n",
       "  (2): ReLU()\n",
       "  (3): Linear(in_features=512, out_features=10, bias=True)\n",
       "  (4): LogSoftmax(dim=-1)\n",
       ")"
      ]
     },
     "execution_count": 15,
     "metadata": {},
     "output_type": "execute_result"
    }
   ],
   "source": [
    "model_acc = deepcopy(model)\n",
    "optimizer.store_parameters([model_acc.parameters()])\n",
    "model_acc.cuda()"
   ]
  },
  {
   "cell_type": "code",
   "execution_count": 16,
   "metadata": {},
   "outputs": [
    {
     "name": "stdout",
     "output_type": "stream",
     "text": [
      "Train: (tensor(0.9041, device='cuda:0'), tensor(0.3308, device='cuda:0'))\n",
      "Valid: (tensor(0.9019, device='cuda:0'), tensor(0.3513, device='cuda:0'))\n"
     ]
    }
   ],
   "source": [
    "train_score = validation(model_acc, train_loader)\n",
    "valid_score = validation(model_acc, valid_loader)\n",
    "print(\"Train:\", train_score)\n",
    "print(\"Valid:\", valid_score)\n",
    "print(\"Train:\", train_score, flush=True, file=log_file)\n",
    "print(\"Valid:\", valid_score, flush=True, file=log_file)"
   ]
  },
  {
   "cell_type": "markdown",
   "metadata": {},
   "source": [
    "## Epoch average"
   ]
  },
  {
   "cell_type": "code",
   "execution_count": 17,
   "metadata": {},
   "outputs": [
    {
     "data": {
      "text/plain": [
       "Sequential(\n",
       "  (0): Flatten(start_dim=1, end_dim=-1)\n",
       "  (1): Linear(in_features=784, out_features=512, bias=True)\n",
       "  (2): ReLU()\n",
       "  (3): Linear(in_features=512, out_features=10, bias=True)\n",
       "  (4): LogSoftmax(dim=-1)\n",
       ")"
      ]
     },
     "execution_count": 17,
     "metadata": {},
     "output_type": "execute_result"
    }
   ],
   "source": [
    "model = nn.Sequential(\n",
    "    nn.Flatten(),\n",
    "    nn.Linear(28*28, 512),\n",
    "    nn.ReLU(),\n",
    "    nn.Linear(512, 10),\n",
    "    nn.LogSoftmax(-1),\n",
    ")\n",
    "model.cuda()"
   ]
  },
  {
   "cell_type": "code",
   "execution_count": 18,
   "metadata": {},
   "outputs": [],
   "source": [
    "log_file = open(\"SGD-2l-avg.txt\", \"w\")\n",
    "optimizer = AcceleratedSGD(model.parameters(), 1e-3, k=10, mode=\"epoch_avg\")"
   ]
  },
  {
   "cell_type": "code",
   "execution_count": 19,
   "metadata": {
    "tags": []
   },
   "outputs": [
    {
     "name": "stdout",
     "output_type": "stream",
     "text": [
      "Epoch 1\n",
      "Training loss: 2.2226\n",
      "Validation accuracy: 0.5534, validation loss: 2.1378\n",
      "Epoch 2\n",
      "Training loss: 2.0376\n",
      "Validation accuracy: 0.6856, validation loss: 1.9303\n",
      "Epoch 3\n",
      "Training loss: 1.8037\n",
      "Validation accuracy: 0.7319, validation loss: 1.6763\n",
      "Epoch 4\n",
      "Training loss: 1.5406\n",
      "Validation accuracy: 0.7672, validation loss: 1.4161\n",
      "Epoch 5\n",
      "Training loss: 1.2951\n",
      "Validation accuracy: 0.7941, validation loss: 1.1940\n",
      "Epoch 6\n",
      "Training loss: 1.0980\n",
      "Validation accuracy: 0.8126, validation loss: 1.0249\n",
      "Epoch 7\n",
      "Training loss: 0.9510\n",
      "Validation accuracy: 0.8274, validation loss: 0.9007\n",
      "Epoch 8\n",
      "Training loss: 0.8429\n",
      "Validation accuracy: 0.8367, validation loss: 0.8090\n",
      "Epoch 9\n",
      "Training loss: 0.7622\n",
      "Validation accuracy: 0.8429, validation loss: 0.7399\n",
      "Epoch 10\n",
      "Training loss: 0.7005\n",
      "Validation accuracy: 0.8502, validation loss: 0.6862\n",
      "Epoch 11\n",
      "Training loss: 0.6521\n",
      "Validation accuracy: 0.8553, validation loss: 0.6437\n",
      "Epoch 12\n",
      "Training loss: 0.6131\n",
      "Validation accuracy: 0.8597, validation loss: 0.6090\n",
      "Epoch 13\n",
      "Training loss: 0.5812\n",
      "Validation accuracy: 0.8632, validation loss: 0.5805\n",
      "Epoch 14\n",
      "Training loss: 0.5546\n",
      "Validation accuracy: 0.8665, validation loss: 0.5566\n",
      "Epoch 15\n",
      "Training loss: 0.5320\n",
      "Validation accuracy: 0.8698, validation loss: 0.5361\n",
      "Epoch 16\n",
      "Training loss: 0.5127\n",
      "Validation accuracy: 0.8735, validation loss: 0.5185\n",
      "Epoch 17\n",
      "Training loss: 0.4960\n",
      "Validation accuracy: 0.8758, validation loss: 0.5032\n",
      "Epoch 18\n",
      "Training loss: 0.4814\n",
      "Validation accuracy: 0.8775, validation loss: 0.4899\n",
      "Epoch 19\n",
      "Training loss: 0.4685\n",
      "Validation accuracy: 0.8797, validation loss: 0.4781\n",
      "Epoch 20\n",
      "Training loss: 0.4571\n",
      "Validation accuracy: 0.8815, validation loss: 0.4675\n",
      "Epoch 21\n",
      "Training loss: 0.4469\n",
      "Validation accuracy: 0.8834, validation loss: 0.4578\n",
      "Epoch 22\n",
      "Training loss: 0.4376\n",
      "Validation accuracy: 0.8845, validation loss: 0.4494\n",
      "Epoch 23\n",
      "Training loss: 0.4294\n",
      "Validation accuracy: 0.8858, validation loss: 0.4415\n",
      "Epoch 24\n",
      "Training loss: 0.4218\n",
      "Validation accuracy: 0.8861, validation loss: 0.4344\n",
      "Epoch 25\n",
      "Training loss: 0.4148\n",
      "Validation accuracy: 0.8877, validation loss: 0.4280\n",
      "Epoch 26\n",
      "Training loss: 0.4084\n",
      "Validation accuracy: 0.8884, validation loss: 0.4221\n",
      "Epoch 27\n",
      "Training loss: 0.4025\n",
      "Validation accuracy: 0.8898, validation loss: 0.4164\n",
      "Epoch 28\n",
      "Training loss: 0.3971\n",
      "Validation accuracy: 0.8903, validation loss: 0.4115\n",
      "Epoch 29\n",
      "Training loss: 0.3920\n",
      "Validation accuracy: 0.8919, validation loss: 0.4068\n",
      "Epoch 30\n",
      "Training loss: 0.3873\n",
      "Validation accuracy: 0.8918, validation loss: 0.4023\n"
     ]
    }
   ],
   "source": [
    "epochs = 30\n",
    "\n",
    "for epoch in range(epochs):\n",
    "    print(\"Epoch\", epoch+1)\n",
    "    loss_log = []\n",
    "    train_epoch(loss_log)\n",
    "    print(f\"Training loss: {np.mean(loss_log):.4f}\")\n",
    "    optimizer.finish_epoch()\n",
    "    val_acc, val_loss = validation(model, valid_loader)\n",
    "    print(f\"Validation accuracy: {val_acc:.4f}, validation loss: {val_loss:.4f}\")\n",
    "    print(\"Epoch\", epoch+1, \n",
    "          f\"Training loss: {np.mean(loss_log):.4f}, validation accuracy: {val_acc:.4f}, validation loss: {val_loss:.4f}\",\n",
    "          file=log_file, flush=True\n",
    "         )"
   ]
  },
  {
   "cell_type": "code",
   "execution_count": 20,
   "metadata": {},
   "outputs": [
    {
     "name": "stdout",
     "output_type": "stream",
     "text": [
      "Train: (tensor(0.8950, device='cuda:0'), tensor(0.3847, device='cuda:0'))\n",
      "Valid: (tensor(0.8918, device='cuda:0'), tensor(0.4023, device='cuda:0'))\n"
     ]
    }
   ],
   "source": [
    "train_score = validation(model, train_loader)\n",
    "valid_score = validation(model, valid_loader)\n",
    "print(\"Train:\", train_score)\n",
    "print(\"Valid:\", valid_score)\n",
    "print(\"Train:\", train_score, flush=True, file=log_file)\n",
    "print(\"Valid:\", valid_score, flush=True, file=log_file)"
   ]
  },
  {
   "cell_type": "code",
   "execution_count": 21,
   "metadata": {},
   "outputs": [],
   "source": [
    "optimizer.param_groups[0][\"method\"] = \"RNA\"\n",
    "optimizer.accelerate()"
   ]
  },
  {
   "cell_type": "code",
   "execution_count": 22,
   "metadata": {},
   "outputs": [
    {
     "data": {
      "text/plain": [
       "Sequential(\n",
       "  (0): Flatten(start_dim=1, end_dim=-1)\n",
       "  (1): Linear(in_features=784, out_features=512, bias=True)\n",
       "  (2): ReLU()\n",
       "  (3): Linear(in_features=512, out_features=10, bias=True)\n",
       "  (4): LogSoftmax(dim=-1)\n",
       ")"
      ]
     },
     "execution_count": 22,
     "metadata": {},
     "output_type": "execute_result"
    }
   ],
   "source": [
    "model_acc = deepcopy(model)\n",
    "optimizer.store_parameters([model_acc.parameters()])\n",
    "model_acc.cuda()"
   ]
  },
  {
   "cell_type": "code",
   "execution_count": 23,
   "metadata": {},
   "outputs": [
    {
     "name": "stdout",
     "output_type": "stream",
     "text": [
      "Train: (tensor(0.8990, device='cuda:0'), tensor(0.3715, device='cuda:0'))\n",
      "Valid: (tensor(0.8954, device='cuda:0'), tensor(0.3892, device='cuda:0'))\n"
     ]
    }
   ],
   "source": [
    "train_score = validation(model_acc, train_loader)\n",
    "valid_score = validation(model_acc, valid_loader)\n",
    "print(\"Train:\", train_score)\n",
    "print(\"Valid:\", valid_score)\n",
    "print(\"Train:\", train_score, flush=True, file=log_file)\n",
    "print(\"Valid:\", valid_score, flush=True, file=log_file)"
   ]
  },
  {
   "cell_type": "code",
   "execution_count": 24,
   "metadata": {},
   "outputs": [],
   "source": [
    "optimizer.param_groups[0][\"method\"] = \"RRE\"\n",
    "optimizer.accelerate()"
   ]
  },
  {
   "cell_type": "code",
   "execution_count": 25,
   "metadata": {},
   "outputs": [
    {
     "data": {
      "text/plain": [
       "Sequential(\n",
       "  (0): Flatten(start_dim=1, end_dim=-1)\n",
       "  (1): Linear(in_features=784, out_features=512, bias=True)\n",
       "  (2): ReLU()\n",
       "  (3): Linear(in_features=512, out_features=10, bias=True)\n",
       "  (4): LogSoftmax(dim=-1)\n",
       ")"
      ]
     },
     "execution_count": 25,
     "metadata": {},
     "output_type": "execute_result"
    }
   ],
   "source": [
    "model_acc = deepcopy(model)\n",
    "optimizer.store_parameters([model_acc.parameters()])\n",
    "model_acc.cuda()"
   ]
  },
  {
   "cell_type": "code",
   "execution_count": 26,
   "metadata": {},
   "outputs": [
    {
     "name": "stdout",
     "output_type": "stream",
     "text": [
      "Train: (tensor(0.8990, device='cuda:0'), tensor(0.3720, device='cuda:0'))\n",
      "Valid: (tensor(0.8954, device='cuda:0'), tensor(0.3897, device='cuda:0'))\n"
     ]
    }
   ],
   "source": [
    "train_score = validation(model_acc, train_loader)\n",
    "valid_score = validation(model_acc, valid_loader)\n",
    "print(\"Train:\", train_score)\n",
    "print(\"Valid:\", valid_score)\n",
    "print(\"Train:\", train_score, flush=True, file=log_file)\n",
    "print(\"Valid:\", valid_score, flush=True, file=log_file)"
   ]
  },
  {
   "cell_type": "code",
   "execution_count": null,
   "metadata": {},
   "outputs": [],
   "source": []
  }
 ],
 "metadata": {
  "kernelspec": {
   "display_name": "Python 3 (Torch)",
   "language": "python",
   "name": "torch"
  },
  "language_info": {
   "codemirror_mode": {
    "name": "ipython",
    "version": 3
   },
   "file_extension": ".py",
   "mimetype": "text/x-python",
   "name": "python",
   "nbconvert_exporter": "python",
   "pygments_lexer": "ipython3",
   "version": "3.8.5"
  }
 },
 "nbformat": 4,
 "nbformat_minor": 4
}
