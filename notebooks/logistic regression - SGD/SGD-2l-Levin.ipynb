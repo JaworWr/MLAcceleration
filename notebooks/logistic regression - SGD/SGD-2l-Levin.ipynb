{
 "cells": [
  {
   "cell_type": "code",
   "execution_count": 1,
   "metadata": {},
   "outputs": [],
   "source": [
    "import sys\n",
    "sys.path.insert(0, \"../..\")"
   ]
  },
  {
   "cell_type": "code",
   "execution_count": 2,
   "metadata": {},
   "outputs": [],
   "source": [
    "import torch\n",
    "from torch import nn\n",
    "from torch.utils import data\n",
    "from torchvision import datasets, transforms\n",
    "from tqdm.notebook import tqdm\n",
    "import numpy as np\n",
    "from copy import deepcopy\n",
    "\n",
    "from nn_extrapolation import AcceleratedSGD"
   ]
  },
  {
   "cell_type": "code",
   "execution_count": 3,
   "metadata": {},
   "outputs": [
    {
     "data": {
      "text/plain": [
       "True"
      ]
     },
     "execution_count": 3,
     "metadata": {},
     "output_type": "execute_result"
    }
   ],
   "source": [
    "torch.cuda.is_available()"
   ]
  },
  {
   "cell_type": "code",
   "execution_count": 4,
   "metadata": {},
   "outputs": [],
   "source": [
    "val_loss_fn = nn.NLLLoss(reduction=\"sum\")\n",
    "\n",
    "def validation(model, loader):\n",
    "    ok = 0\n",
    "    loss_sum = 0\n",
    "    total = 0\n",
    "    model.eval()\n",
    "    with torch.no_grad():\n",
    "        for x, y in loader:\n",
    "            x = x.cuda()\n",
    "            y = y.cuda()\n",
    "            out = model(x)\n",
    "            loss_sum += val_loss_fn(out, y)\n",
    "            preds = out.argmax(1)\n",
    "            ok += (y == preds).sum()\n",
    "            total += len(y)\n",
    "    return ok / total, loss_sum / total\n",
    "\n",
    "def train_epoch(loss_log):\n",
    "    model.train()\n",
    "    for x, y in train_loader:\n",
    "        x = x.cuda()\n",
    "        y = y.cuda()\n",
    "        optimizer.zero_grad()\n",
    "        out = model(x)\n",
    "        loss = loss_fn(out, y)\n",
    "        loss_log += list(loss.flatten().cpu().detach().numpy())\n",
    "        loss.backward()\n",
    "        optimizer.step()"
   ]
  },
  {
   "cell_type": "code",
   "execution_count": 5,
   "metadata": {},
   "outputs": [],
   "source": [
    "train_ds = datasets.MNIST(\"../../../MNIST\", download=True, train=True, transform=transforms.ToTensor())\n",
    "test_ds = datasets.MNIST(\"../../../MNIST\", download=True, train=False, transform=transforms.ToTensor())\n",
    "valid_size = int(0.2 * len(train_ds))\n",
    "train_ds, valid_ds = data.random_split(train_ds, [len(train_ds) - valid_size, valid_size])\n",
    "\n",
    "train_loader = data.DataLoader(train_ds, batch_size=64, shuffle=True, num_workers=2)\n",
    "valid_loader = data.DataLoader(valid_ds, batch_size=64, shuffle=True, num_workers=2)\n",
    "test_loader = data.DataLoader(test_ds, batch_size=64, shuffle=False, num_workers=2)"
   ]
  },
  {
   "cell_type": "markdown",
   "metadata": {},
   "source": [
    "## Levin t"
   ]
  },
  {
   "cell_type": "code",
   "execution_count": 6,
   "metadata": {
    "tags": []
   },
   "outputs": [
    {
     "data": {
      "text/plain": [
       "Sequential(\n",
       "  (0): Flatten(start_dim=1, end_dim=-1)\n",
       "  (1): Linear(in_features=784, out_features=512, bias=True)\n",
       "  (2): ReLU()\n",
       "  (3): Linear(in_features=512, out_features=10, bias=True)\n",
       "  (4): LogSoftmax(dim=-1)\n",
       ")"
      ]
     },
     "execution_count": 6,
     "metadata": {},
     "output_type": "execute_result"
    }
   ],
   "source": [
    "model = nn.Sequential(\n",
    "    nn.Flatten(),\n",
    "    nn.Linear(28*28, 512),\n",
    "    nn.ReLU(),\n",
    "    nn.Linear(512, 10),\n",
    "    nn.LogSoftmax(-1),\n",
    ")\n",
    "model.cuda()"
   ]
  },
  {
   "cell_type": "code",
   "execution_count": 7,
   "metadata": {},
   "outputs": [],
   "source": [
    "optimizer = AcceleratedSGD(model.parameters(), 1e-3, k=10, mode=\"epoch\", method=\"Levin:t\")\n",
    "loss_fn = nn.NLLLoss()"
   ]
  },
  {
   "cell_type": "code",
   "execution_count": 8,
   "metadata": {},
   "outputs": [],
   "source": [
    "log_file = open(\"SGD-2l-Levin:t.txt\", \"w\")"
   ]
  },
  {
   "cell_type": "code",
   "execution_count": 9,
   "metadata": {
    "tags": []
   },
   "outputs": [
    {
     "name": "stdout",
     "output_type": "stream",
     "text": [
      "Epoch 1\n",
      "Training loss: 2.2107\n",
      "Validation accuracy: 0.6197, validation loss: 2.1172\n",
      "Epoch 2\n",
      "Training loss: 2.0145\n",
      "Validation accuracy: 0.7005, validation loss: 1.8979\n",
      "Epoch 3\n",
      "Training loss: 1.7735\n",
      "Validation accuracy: 0.7360, validation loss: 1.6366\n",
      "Epoch 4\n",
      "Training loss: 1.5096\n",
      "Validation accuracy: 0.7651, validation loss: 1.3766\n",
      "Epoch 5\n",
      "Training loss: 1.2696\n",
      "Validation accuracy: 0.7934, validation loss: 1.1602\n",
      "Epoch 6\n",
      "Training loss: 1.0803\n",
      "Validation accuracy: 0.8152, validation loss: 0.9967\n",
      "Epoch 7\n",
      "Training loss: 0.9401\n",
      "Validation accuracy: 0.8288, validation loss: 0.8771\n",
      "Epoch 8\n",
      "Training loss: 0.8369\n",
      "Validation accuracy: 0.8405, validation loss: 0.7887\n",
      "Epoch 9\n",
      "Training loss: 0.7597\n",
      "Validation accuracy: 0.8482, validation loss: 0.7215\n",
      "Epoch 10\n",
      "Training loss: 0.7003\n",
      "Validation accuracy: 0.8557, validation loss: 0.6691\n",
      "Epoch 11\n",
      "Training loss: 0.6535\n",
      "Validation accuracy: 0.8597, validation loss: 0.6273\n",
      "Epoch 12\n",
      "Training loss: 0.6157\n",
      "Validation accuracy: 0.8642, validation loss: 0.5931\n",
      "Epoch 13\n",
      "Training loss: 0.5846\n",
      "Validation accuracy: 0.8673, validation loss: 0.5646\n",
      "Epoch 14\n",
      "Training loss: 0.5585\n",
      "Validation accuracy: 0.8699, validation loss: 0.5407\n",
      "Epoch 15\n",
      "Training loss: 0.5364\n",
      "Validation accuracy: 0.8732, validation loss: 0.5202\n",
      "Epoch 16\n",
      "Training loss: 0.5173\n",
      "Validation accuracy: 0.8758, validation loss: 0.5026\n",
      "Epoch 17\n",
      "Training loss: 0.5008\n",
      "Validation accuracy: 0.8789, validation loss: 0.4873\n",
      "Epoch 18\n",
      "Training loss: 0.4863\n",
      "Validation accuracy: 0.8816, validation loss: 0.4735\n",
      "Epoch 19\n",
      "Training loss: 0.4734\n",
      "Validation accuracy: 0.8836, validation loss: 0.4615\n",
      "Epoch 20\n",
      "Training loss: 0.4620\n",
      "Validation accuracy: 0.8854, validation loss: 0.4509\n",
      "Epoch 21\n",
      "Training loss: 0.4518\n",
      "Validation accuracy: 0.8874, validation loss: 0.4413\n",
      "Epoch 22\n",
      "Training loss: 0.4426\n",
      "Validation accuracy: 0.8882, validation loss: 0.4325\n",
      "Epoch 23\n",
      "Training loss: 0.4342\n",
      "Validation accuracy: 0.8895, validation loss: 0.4245\n",
      "Epoch 24\n",
      "Training loss: 0.4266\n",
      "Validation accuracy: 0.8910, validation loss: 0.4175\n",
      "Epoch 25\n",
      "Training loss: 0.4196\n",
      "Validation accuracy: 0.8930, validation loss: 0.4107\n",
      "Epoch 26\n",
      "Training loss: 0.4132\n",
      "Validation accuracy: 0.8938, validation loss: 0.4047\n",
      "Epoch 27\n",
      "Training loss: 0.4072\n",
      "Validation accuracy: 0.8944, validation loss: 0.3992\n",
      "Epoch 28\n",
      "Training loss: 0.4017\n",
      "Validation accuracy: 0.8959, validation loss: 0.3939\n",
      "Epoch 29\n",
      "Training loss: 0.3965\n",
      "Validation accuracy: 0.8964, validation loss: 0.3892\n",
      "Epoch 30\n",
      "Training loss: 0.3918\n",
      "Validation accuracy: 0.8979, validation loss: 0.3846\n"
     ]
    }
   ],
   "source": [
    "epochs = 30\n",
    "\n",
    "for epoch in range(epochs):\n",
    "    print(\"Epoch\", epoch+1)\n",
    "    loss_log = []\n",
    "    train_epoch(loss_log)\n",
    "    print(f\"Training loss: {np.mean(loss_log):.4f}\")\n",
    "    optimizer.finish_epoch()\n",
    "    val_acc, val_loss = validation(model, valid_loader)\n",
    "    print(f\"Validation accuracy: {val_acc:.4f}, validation loss: {val_loss:.4f}\")\n",
    "    print(\"Epoch\", epoch+1, \n",
    "          f\"Training loss: {np.mean(loss_log):.4f}, validation accuracy: {val_acc:.4f}, validation loss: {val_loss:.4f}\",\n",
    "          file=log_file, flush=True\n",
    "         )"
   ]
  },
  {
   "cell_type": "code",
   "execution_count": 10,
   "metadata": {},
   "outputs": [
    {
     "name": "stdout",
     "output_type": "stream",
     "text": [
      "Train: (tensor(0.8935, device='cuda:0'), tensor(0.3892, device='cuda:0'))\n",
      "Valid: (tensor(0.8979, device='cuda:0'), tensor(0.3846, device='cuda:0'))\n"
     ]
    }
   ],
   "source": [
    "train_score = validation(model, train_loader)\n",
    "valid_score = validation(model, valid_loader)\n",
    "print(\"Train:\", train_score)\n",
    "print(\"Valid:\", valid_score)\n",
    "print(\"Train:\", train_score, flush=True, file=log_file)\n",
    "print(\"Valid:\", valid_score, flush=True, file=log_file)"
   ]
  },
  {
   "cell_type": "code",
   "execution_count": 11,
   "metadata": {},
   "outputs": [],
   "source": [
    "optimizer.accelerate()"
   ]
  },
  {
   "cell_type": "code",
   "execution_count": 12,
   "metadata": {},
   "outputs": [
    {
     "data": {
      "text/plain": [
       "Sequential(\n",
       "  (0): Flatten(start_dim=1, end_dim=-1)\n",
       "  (1): Linear(in_features=784, out_features=512, bias=True)\n",
       "  (2): ReLU()\n",
       "  (3): Linear(in_features=512, out_features=10, bias=True)\n",
       "  (4): LogSoftmax(dim=-1)\n",
       ")"
      ]
     },
     "execution_count": 12,
     "metadata": {},
     "output_type": "execute_result"
    }
   ],
   "source": [
    "optimizer.store_parameters()\n",
    "model.cuda()"
   ]
  },
  {
   "cell_type": "code",
   "execution_count": 13,
   "metadata": {},
   "outputs": [
    {
     "name": "stdout",
     "output_type": "stream",
     "text": [
      "Train: (tensor(0.8823, device='cuda:0'), tensor(0.4170, device='cuda:0'))\n",
      "Valid: (tensor(0.8863, device='cuda:0'), tensor(0.4123, device='cuda:0'))\n"
     ]
    }
   ],
   "source": [
    "train_score = validation(model, train_loader)\n",
    "valid_score = validation(model, valid_loader)\n",
    "print(\"Train:\", train_score)\n",
    "print(\"Valid:\", valid_score)\n",
    "print(\"Train:\", train_score, flush=True, file=log_file)\n",
    "print(\"Valid:\", valid_score, flush=True, file=log_file)"
   ]
  },
  {
   "cell_type": "markdown",
   "metadata": {},
   "source": [
    "## Levin u"
   ]
  },
  {
   "cell_type": "code",
   "execution_count": 14,
   "metadata": {
    "tags": []
   },
   "outputs": [
    {
     "data": {
      "text/plain": [
       "Sequential(\n",
       "  (0): Flatten(start_dim=1, end_dim=-1)\n",
       "  (1): Linear(in_features=784, out_features=512, bias=True)\n",
       "  (2): ReLU()\n",
       "  (3): Linear(in_features=512, out_features=10, bias=True)\n",
       "  (4): LogSoftmax(dim=-1)\n",
       ")"
      ]
     },
     "execution_count": 14,
     "metadata": {},
     "output_type": "execute_result"
    }
   ],
   "source": [
    "model = nn.Sequential(\n",
    "    nn.Flatten(),\n",
    "    nn.Linear(28*28, 512),\n",
    "    nn.ReLU(),\n",
    "    nn.Linear(512, 10),\n",
    "    nn.LogSoftmax(-1),\n",
    ")\n",
    "model.cuda()"
   ]
  },
  {
   "cell_type": "code",
   "execution_count": 15,
   "metadata": {},
   "outputs": [],
   "source": [
    "optimizer = AcceleratedSGD(model.parameters(), 1e-3, k=10, mode=\"epoch\", method=\"Levin:u\")\n",
    "loss_fn = nn.NLLLoss()"
   ]
  },
  {
   "cell_type": "code",
   "execution_count": 16,
   "metadata": {},
   "outputs": [],
   "source": [
    "log_file = open(\"SGD-2l-Levin:u.txt\", \"w\")"
   ]
  },
  {
   "cell_type": "code",
   "execution_count": 17,
   "metadata": {
    "tags": []
   },
   "outputs": [
    {
     "name": "stdout",
     "output_type": "stream",
     "text": [
      "Epoch 1\n",
      "Training loss: 2.2245\n",
      "Validation accuracy: 0.6273, validation loss: 2.1346\n",
      "Epoch 2\n",
      "Training loss: 2.0353\n",
      "Validation accuracy: 0.7180, validation loss: 1.9205\n",
      "Epoch 3\n",
      "Training loss: 1.7975\n",
      "Validation accuracy: 0.7447, validation loss: 1.6603\n",
      "Epoch 4\n",
      "Training loss: 1.5322\n",
      "Validation accuracy: 0.7665, validation loss: 1.3968\n",
      "Epoch 5\n",
      "Training loss: 1.2872\n",
      "Validation accuracy: 0.7907, validation loss: 1.1744\n",
      "Epoch 6\n",
      "Training loss: 1.0923\n",
      "Validation accuracy: 0.8130, validation loss: 1.0064\n",
      "Epoch 7\n",
      "Training loss: 0.9477\n",
      "Validation accuracy: 0.8306, validation loss: 0.8832\n",
      "Epoch 8\n",
      "Training loss: 0.8418\n",
      "Validation accuracy: 0.8381, validation loss: 0.7925\n",
      "Epoch 9\n",
      "Training loss: 0.7626\n",
      "Validation accuracy: 0.8442, validation loss: 0.7237\n",
      "Epoch 10\n",
      "Training loss: 0.7020\n",
      "Validation accuracy: 0.8537, validation loss: 0.6703\n",
      "Epoch 11\n",
      "Training loss: 0.6544\n",
      "Validation accuracy: 0.8593, validation loss: 0.6278\n",
      "Epoch 12\n",
      "Training loss: 0.6160\n",
      "Validation accuracy: 0.8648, validation loss: 0.5932\n",
      "Epoch 13\n",
      "Training loss: 0.5845\n",
      "Validation accuracy: 0.8686, validation loss: 0.5645\n",
      "Epoch 14\n",
      "Training loss: 0.5582\n",
      "Validation accuracy: 0.8726, validation loss: 0.5403\n",
      "Epoch 15\n",
      "Training loss: 0.5359\n",
      "Validation accuracy: 0.8758, validation loss: 0.5197\n",
      "Epoch 16\n",
      "Training loss: 0.5168\n",
      "Validation accuracy: 0.8771, validation loss: 0.5019\n",
      "Epoch 17\n",
      "Training loss: 0.5001\n",
      "Validation accuracy: 0.8802, validation loss: 0.4864\n",
      "Epoch 18\n",
      "Training loss: 0.4856\n",
      "Validation accuracy: 0.8827, validation loss: 0.4730\n",
      "Epoch 19\n",
      "Training loss: 0.4727\n",
      "Validation accuracy: 0.8849, validation loss: 0.4607\n",
      "Epoch 20\n",
      "Training loss: 0.4612\n",
      "Validation accuracy: 0.8872, validation loss: 0.4501\n",
      "Epoch 21\n",
      "Training loss: 0.4510\n",
      "Validation accuracy: 0.8895, validation loss: 0.4402\n",
      "Epoch 22\n",
      "Training loss: 0.4418\n",
      "Validation accuracy: 0.8908, validation loss: 0.4316\n",
      "Epoch 23\n",
      "Training loss: 0.4334\n",
      "Validation accuracy: 0.8928, validation loss: 0.4237\n",
      "Epoch 24\n",
      "Training loss: 0.4257\n",
      "Validation accuracy: 0.8940, validation loss: 0.4164\n",
      "Epoch 25\n",
      "Training loss: 0.4188\n",
      "Validation accuracy: 0.8951, validation loss: 0.4097\n",
      "Epoch 26\n",
      "Training loss: 0.4123\n",
      "Validation accuracy: 0.8958, validation loss: 0.4037\n",
      "Epoch 27\n",
      "Training loss: 0.4064\n",
      "Validation accuracy: 0.8972, validation loss: 0.3980\n",
      "Epoch 28\n",
      "Training loss: 0.4009\n",
      "Validation accuracy: 0.8988, validation loss: 0.3928\n",
      "Epoch 29\n",
      "Training loss: 0.3957\n",
      "Validation accuracy: 0.8990, validation loss: 0.3880\n",
      "Epoch 30\n",
      "Training loss: 0.3909\n",
      "Validation accuracy: 0.8998, validation loss: 0.3835\n"
     ]
    }
   ],
   "source": [
    "epochs = 30\n",
    "\n",
    "for epoch in range(epochs):\n",
    "    print(\"Epoch\", epoch+1)\n",
    "    loss_log = []\n",
    "    train_epoch(loss_log)\n",
    "    print(f\"Training loss: {np.mean(loss_log):.4f}\")\n",
    "    optimizer.finish_epoch()\n",
    "    val_acc, val_loss = validation(model, valid_loader)\n",
    "    print(f\"Validation accuracy: {val_acc:.4f}, validation loss: {val_loss:.4f}\")\n",
    "    print(\"Epoch\", epoch+1, \n",
    "          f\"Training loss: {np.mean(loss_log):.4f}, validation accuracy: {val_acc:.4f}, validation loss: {val_loss:.4f}\",\n",
    "          file=log_file, flush=True\n",
    "         )"
   ]
  },
  {
   "cell_type": "code",
   "execution_count": 18,
   "metadata": {},
   "outputs": [
    {
     "name": "stdout",
     "output_type": "stream",
     "text": [
      "Train: (tensor(0.8941, device='cuda:0'), tensor(0.3884, device='cuda:0'))\n",
      "Valid: (tensor(0.8998, device='cuda:0'), tensor(0.3835, device='cuda:0'))\n"
     ]
    }
   ],
   "source": [
    "train_score = validation(model, train_loader)\n",
    "valid_score = validation(model, valid_loader)\n",
    "print(\"Train:\", train_score)\n",
    "print(\"Valid:\", valid_score)\n",
    "print(\"Train:\", train_score, flush=True, file=log_file)\n",
    "print(\"Valid:\", valid_score, flush=True, file=log_file)"
   ]
  },
  {
   "cell_type": "code",
   "execution_count": 19,
   "metadata": {},
   "outputs": [],
   "source": [
    "optimizer.accelerate()"
   ]
  },
  {
   "cell_type": "code",
   "execution_count": 20,
   "metadata": {
    "tags": []
   },
   "outputs": [
    {
     "data": {
      "text/plain": [
       "Sequential(\n",
       "  (0): Flatten(start_dim=1, end_dim=-1)\n",
       "  (1): Linear(in_features=784, out_features=512, bias=True)\n",
       "  (2): ReLU()\n",
       "  (3): Linear(in_features=512, out_features=10, bias=True)\n",
       "  (4): LogSoftmax(dim=-1)\n",
       ")"
      ]
     },
     "execution_count": 20,
     "metadata": {},
     "output_type": "execute_result"
    }
   ],
   "source": [
    "optimizer.store_parameters()\n",
    "model.cuda()"
   ]
  },
  {
   "cell_type": "code",
   "execution_count": 21,
   "metadata": {},
   "outputs": [
    {
     "name": "stdout",
     "output_type": "stream",
     "text": [
      "Train: (tensor(0.6390, device='cuda:0'), tensor(0.9743, device='cuda:0'))\n",
      "Valid: (tensor(0.6349, device='cuda:0'), tensor(0.9715, device='cuda:0'))\n"
     ]
    }
   ],
   "source": [
    "train_score = validation(model, train_loader)\n",
    "valid_score = validation(model, valid_loader)\n",
    "print(\"Train:\", train_score)\n",
    "print(\"Valid:\", valid_score)\n",
    "print(\"Train:\", train_score, flush=True, file=log_file)\n",
    "print(\"Valid:\", valid_score, flush=True, file=log_file)"
   ]
  },
  {
   "cell_type": "markdown",
   "metadata": {},
   "source": [
    "## Levin v"
   ]
  },
  {
   "cell_type": "code",
   "execution_count": 22,
   "metadata": {
    "tags": []
   },
   "outputs": [
    {
     "data": {
      "text/plain": [
       "Sequential(\n",
       "  (0): Flatten(start_dim=1, end_dim=-1)\n",
       "  (1): Linear(in_features=784, out_features=512, bias=True)\n",
       "  (2): ReLU()\n",
       "  (3): Linear(in_features=512, out_features=10, bias=True)\n",
       "  (4): LogSoftmax(dim=-1)\n",
       ")"
      ]
     },
     "execution_count": 22,
     "metadata": {},
     "output_type": "execute_result"
    }
   ],
   "source": [
    "model = nn.Sequential(\n",
    "    nn.Flatten(),\n",
    "    nn.Linear(28*28, 512),\n",
    "    nn.ReLU(),\n",
    "    nn.Linear(512, 10),\n",
    "    nn.LogSoftmax(-1),\n",
    ")\n",
    "model.cuda()"
   ]
  },
  {
   "cell_type": "code",
   "execution_count": 23,
   "metadata": {},
   "outputs": [],
   "source": [
    "optimizer = AcceleratedSGD(model.parameters(), 1e-3, k=10, mode=\"epoch\", method=\"Levin:v\")\n",
    "loss_fn = nn.NLLLoss()"
   ]
  },
  {
   "cell_type": "code",
   "execution_count": 24,
   "metadata": {},
   "outputs": [],
   "source": [
    "log_file = open(\"SGD-2l-Levin:v.txt\", \"w\")"
   ]
  },
  {
   "cell_type": "code",
   "execution_count": 25,
   "metadata": {
    "tags": []
   },
   "outputs": [
    {
     "name": "stdout",
     "output_type": "stream",
     "text": [
      "Epoch 1\n",
      "Training loss: 2.2161\n",
      "Validation accuracy: 0.6587, validation loss: 2.1263\n",
      "Epoch 2\n",
      "Training loss: 2.0242\n",
      "Validation accuracy: 0.7496, validation loss: 1.9101\n",
      "Epoch 3\n",
      "Training loss: 1.7842\n",
      "Validation accuracy: 0.7591, validation loss: 1.6476\n",
      "Epoch 4\n",
      "Training loss: 1.5174\n",
      "Validation accuracy: 0.7756, validation loss: 1.3837\n",
      "Epoch 5\n",
      "Training loss: 1.2733\n",
      "Validation accuracy: 0.8013, validation loss: 1.1632\n",
      "Epoch 6\n",
      "Training loss: 1.0804\n",
      "Validation accuracy: 0.8215, validation loss: 0.9966\n",
      "Epoch 7\n",
      "Training loss: 0.9373\n",
      "Validation accuracy: 0.8359, validation loss: 0.8748\n",
      "Epoch 8\n",
      "Training loss: 0.8324\n",
      "Validation accuracy: 0.8439, validation loss: 0.7847\n",
      "Epoch 9\n",
      "Training loss: 0.7539\n",
      "Validation accuracy: 0.8517, validation loss: 0.7164\n",
      "Epoch 10\n",
      "Training loss: 0.6938\n",
      "Validation accuracy: 0.8600, validation loss: 0.6635\n",
      "Epoch 11\n",
      "Training loss: 0.6467\n",
      "Validation accuracy: 0.8637, validation loss: 0.6213\n",
      "Epoch 12\n",
      "Training loss: 0.6088\n",
      "Validation accuracy: 0.8683, validation loss: 0.5871\n",
      "Epoch 13\n",
      "Training loss: 0.5778\n",
      "Validation accuracy: 0.8701, validation loss: 0.5588\n",
      "Epoch 14\n",
      "Training loss: 0.5519\n",
      "Validation accuracy: 0.8731, validation loss: 0.5349\n",
      "Epoch 15\n",
      "Training loss: 0.5300\n",
      "Validation accuracy: 0.8767, validation loss: 0.5147\n",
      "Epoch 16\n",
      "Training loss: 0.5113\n",
      "Validation accuracy: 0.8798, validation loss: 0.4973\n",
      "Epoch 17\n",
      "Training loss: 0.4951\n",
      "Validation accuracy: 0.8832, validation loss: 0.4821\n",
      "Epoch 18\n",
      "Training loss: 0.4809\n",
      "Validation accuracy: 0.8842, validation loss: 0.4689\n",
      "Epoch 19\n",
      "Training loss: 0.4684\n",
      "Validation accuracy: 0.8872, validation loss: 0.4570\n",
      "Epoch 20\n",
      "Training loss: 0.4573\n",
      "Validation accuracy: 0.8888, validation loss: 0.4465\n",
      "Epoch 21\n",
      "Training loss: 0.4473\n",
      "Validation accuracy: 0.8902, validation loss: 0.4371\n",
      "Epoch 22\n",
      "Training loss: 0.4383\n",
      "Validation accuracy: 0.8913, validation loss: 0.4286\n",
      "Epoch 23\n",
      "Training loss: 0.4302\n",
      "Validation accuracy: 0.8933, validation loss: 0.4210\n",
      "Epoch 24\n",
      "Training loss: 0.4228\n",
      "Validation accuracy: 0.8944, validation loss: 0.4139\n",
      "Epoch 25\n",
      "Training loss: 0.4160\n",
      "Validation accuracy: 0.8954, validation loss: 0.4075\n",
      "Epoch 26\n",
      "Training loss: 0.4097\n",
      "Validation accuracy: 0.8962, validation loss: 0.4014\n",
      "Epoch 27\n",
      "Training loss: 0.4039\n",
      "Validation accuracy: 0.8978, validation loss: 0.3961\n",
      "Epoch 28\n",
      "Training loss: 0.3985\n",
      "Validation accuracy: 0.8982, validation loss: 0.3910\n",
      "Epoch 29\n",
      "Training loss: 0.3935\n",
      "Validation accuracy: 0.8993, validation loss: 0.3862\n",
      "Epoch 30\n",
      "Training loss: 0.3888\n",
      "Validation accuracy: 0.9002, validation loss: 0.3817\n"
     ]
    }
   ],
   "source": [
    "epochs = 30\n",
    "\n",
    "for epoch in range(epochs):\n",
    "    print(\"Epoch\", epoch+1)\n",
    "    loss_log = []\n",
    "    train_epoch(loss_log)\n",
    "    print(f\"Training loss: {np.mean(loss_log):.4f}\")\n",
    "    optimizer.finish_epoch()\n",
    "    val_acc, val_loss = validation(model, valid_loader)\n",
    "    print(f\"Validation accuracy: {val_acc:.4f}, validation loss: {val_loss:.4f}\")\n",
    "    print(\"Epoch\", epoch+1, \n",
    "          f\"Training loss: {np.mean(loss_log):.4f}, validation accuracy: {val_acc:.4f}, validation loss: {val_loss:.4f}\",\n",
    "          file=log_file, flush=True\n",
    "         )"
   ]
  },
  {
   "cell_type": "code",
   "execution_count": 26,
   "metadata": {},
   "outputs": [
    {
     "name": "stdout",
     "output_type": "stream",
     "text": [
      "Train: (tensor(0.8942, device='cuda:0'), tensor(0.3863, device='cuda:0'))\n",
      "Valid: (tensor(0.9002, device='cuda:0'), tensor(0.3817, device='cuda:0'))\n"
     ]
    }
   ],
   "source": [
    "train_score = validation(model, train_loader)\n",
    "valid_score = validation(model, valid_loader)\n",
    "print(\"Train:\", train_score)\n",
    "print(\"Valid:\", valid_score)\n",
    "print(\"Train:\", train_score, flush=True, file=log_file)\n",
    "print(\"Valid:\", valid_score, flush=True, file=log_file)"
   ]
  },
  {
   "cell_type": "code",
   "execution_count": 27,
   "metadata": {},
   "outputs": [],
   "source": [
    "optimizer.accelerate()"
   ]
  },
  {
   "cell_type": "code",
   "execution_count": 28,
   "metadata": {},
   "outputs": [
    {
     "data": {
      "text/plain": [
       "Sequential(\n",
       "  (0): Flatten(start_dim=1, end_dim=-1)\n",
       "  (1): Linear(in_features=784, out_features=512, bias=True)\n",
       "  (2): ReLU()\n",
       "  (3): Linear(in_features=512, out_features=10, bias=True)\n",
       "  (4): LogSoftmax(dim=-1)\n",
       ")"
      ]
     },
     "execution_count": 28,
     "metadata": {},
     "output_type": "execute_result"
    }
   ],
   "source": [
    "optimizer.store_parameters()\n",
    "model.cuda()"
   ]
  },
  {
   "cell_type": "code",
   "execution_count": 29,
   "metadata": {},
   "outputs": [
    {
     "name": "stdout",
     "output_type": "stream",
     "text": [
      "Train: (tensor(0.8910, device='cuda:0'), tensor(0.4065, device='cuda:0'))\n",
      "Valid: (tensor(0.8961, device='cuda:0'), tensor(0.4015, device='cuda:0'))\n"
     ]
    }
   ],
   "source": [
    "train_score = validation(model, train_loader)\n",
    "valid_score = validation(model, valid_loader)\n",
    "print(\"Train:\", train_score)\n",
    "print(\"Valid:\", valid_score)\n",
    "print(\"Train:\", train_score, flush=True, file=log_file)\n",
    "print(\"Valid:\", valid_score, flush=True, file=log_file)"
   ]
  },
  {
   "cell_type": "code",
   "execution_count": null,
   "metadata": {},
   "outputs": [],
   "source": []
  }
 ],
 "metadata": {
  "kernelspec": {
   "display_name": "Python 3 (Torch)",
   "language": "python",
   "name": "torch"
  },
  "language_info": {
   "codemirror_mode": {
    "name": "ipython",
    "version": 3
   },
   "file_extension": ".py",
   "mimetype": "text/x-python",
   "name": "python",
   "nbconvert_exporter": "python",
   "pygments_lexer": "ipython3",
   "version": "3.8.5"
  }
 },
 "nbformat": 4,
 "nbformat_minor": 4
}
