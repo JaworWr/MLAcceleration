{
 "cells": [
  {
   "cell_type": "code",
   "execution_count": 1,
   "metadata": {},
   "outputs": [],
   "source": [
    "import sys\n",
    "sys.path.insert(0, \"../..\")"
   ]
  },
  {
   "cell_type": "code",
   "execution_count": 2,
   "metadata": {},
   "outputs": [],
   "source": [
    "import torch\n",
    "from torch import nn\n",
    "from torch.utils import data\n",
    "from torchvision import datasets, transforms\n",
    "from tqdm.notebook import tqdm\n",
    "import numpy as np\n",
    "from copy import deepcopy\n",
    "\n",
    "from nn_extrapolation import AcceleratedSGD"
   ]
  },
  {
   "cell_type": "code",
   "execution_count": 3,
   "metadata": {},
   "outputs": [
    {
     "data": {
      "text/plain": [
       "True"
      ]
     },
     "execution_count": 3,
     "metadata": {},
     "output_type": "execute_result"
    }
   ],
   "source": [
    "torch.cuda.is_available()"
   ]
  },
  {
   "cell_type": "code",
   "execution_count": 4,
   "metadata": {},
   "outputs": [],
   "source": [
    "val_loss_fn = nn.NLLLoss(reduction=\"sum\")\n",
    "\n",
    "def validation(model, loader):\n",
    "    ok = 0\n",
    "    loss_sum = 0\n",
    "    total = 0\n",
    "    model.eval()\n",
    "    with torch.no_grad():\n",
    "        for x, y in loader:\n",
    "            x = x.cuda()\n",
    "            y = y.cuda()\n",
    "            out = model(x)\n",
    "            loss_sum += val_loss_fn(out, y)\n",
    "            preds = out.argmax(1)\n",
    "            ok += (y == preds).sum()\n",
    "            total += len(y)\n",
    "    return ok / total, loss_sum / total\n",
    "\n",
    "def train_epoch(loss_log):\n",
    "    model.train()\n",
    "    for x, y in train_loader:\n",
    "        x = x.cuda()\n",
    "        y = y.cuda()\n",
    "        optimizer.zero_grad()\n",
    "        out = model(x)\n",
    "        loss = loss_fn(out, y)\n",
    "        loss_log += list(loss.flatten().cpu().detach().numpy())\n",
    "        loss.backward()\n",
    "        optimizer.step()"
   ]
  },
  {
   "cell_type": "code",
   "execution_count": 5,
   "metadata": {},
   "outputs": [],
   "source": [
    "train_ds = datasets.MNIST(\"../../../MNIST\", download=True, train=True, transform=transforms.ToTensor())\n",
    "test_ds = datasets.MNIST(\"../../../MNIST\", download=True, train=False, transform=transforms.ToTensor())\n",
    "valid_size = int(0.2 * len(train_ds))\n",
    "train_ds, valid_ds = data.random_split(train_ds, [len(train_ds) - valid_size, valid_size])\n",
    "\n",
    "train_loader = data.DataLoader(train_ds, batch_size=64, shuffle=True, num_workers=2)\n",
    "valid_loader = data.DataLoader(valid_ds, batch_size=64, shuffle=True, num_workers=2)\n",
    "test_loader = data.DataLoader(test_ds, batch_size=64, shuffle=False, num_workers=2)"
   ]
  },
  {
   "cell_type": "code",
   "execution_count": 6,
   "metadata": {},
   "outputs": [
    {
     "data": {
      "text/plain": [
       "Sequential(\n",
       "  (0): Flatten(start_dim=1, end_dim=-1)\n",
       "  (1): Linear(in_features=784, out_features=512, bias=True)\n",
       "  (2): ReLU()\n",
       "  (3): Linear(in_features=512, out_features=10, bias=True)\n",
       "  (4): LogSoftmax(dim=-1)\n",
       ")"
      ]
     },
     "execution_count": 6,
     "metadata": {},
     "output_type": "execute_result"
    }
   ],
   "source": [
    "model = nn.Sequential(\n",
    "    nn.Flatten(),\n",
    "    nn.Linear(28*28, 512),\n",
    "    nn.ReLU(),\n",
    "    nn.Linear(512, 10),\n",
    "    nn.LogSoftmax(-1),\n",
    ")\n",
    "model.cuda()"
   ]
  },
  {
   "cell_type": "code",
   "execution_count": 7,
   "metadata": {},
   "outputs": [],
   "source": [
    "optimizer = AcceleratedSGD(model.parameters(), 1e-3, k=10, momentum=0.5, weight_decay=1e-5, mode=\"epoch\")\n",
    "loss_fn = nn.NLLLoss()"
   ]
  },
  {
   "cell_type": "code",
   "execution_count": 8,
   "metadata": {},
   "outputs": [],
   "source": [
    "log_file = open(\"SGD-2l_momentum.txt\", \"w\")"
   ]
  },
  {
   "cell_type": "markdown",
   "metadata": {},
   "source": [
    "## Epoch"
   ]
  },
  {
   "cell_type": "code",
   "execution_count": 9,
   "metadata": {
    "tags": []
   },
   "outputs": [
    {
     "name": "stdout",
     "output_type": "stream",
     "text": [
      "Epoch 1\n",
      "Training loss: 2.1066\n",
      "Validation accuracy: 0.7222, validation loss: 1.8848\n",
      "Epoch 2\n",
      "Training loss: 1.6168\n",
      "Validation accuracy: 0.7880, validation loss: 1.3583\n",
      "Epoch 3\n",
      "Training loss: 1.1503\n",
      "Validation accuracy: 0.8148, validation loss: 0.9900\n",
      "Epoch 4\n",
      "Training loss: 0.8709\n",
      "Validation accuracy: 0.8380, validation loss: 0.7910\n",
      "Epoch 5\n",
      "Training loss: 0.7174\n",
      "Validation accuracy: 0.8503, validation loss: 0.6762\n",
      "Epoch 6\n",
      "Training loss: 0.6247\n",
      "Validation accuracy: 0.8612, validation loss: 0.6029\n",
      "Epoch 7\n",
      "Training loss: 0.5633\n",
      "Validation accuracy: 0.8693, validation loss: 0.5522\n",
      "Epoch 8\n",
      "Training loss: 0.5196\n",
      "Validation accuracy: 0.8746, validation loss: 0.5158\n",
      "Epoch 9\n",
      "Training loss: 0.4868\n",
      "Validation accuracy: 0.8792, validation loss: 0.4870\n",
      "Epoch 10\n",
      "Training loss: 0.4614\n",
      "Validation accuracy: 0.8828, validation loss: 0.4652\n",
      "Epoch 11\n",
      "Training loss: 0.4412\n",
      "Validation accuracy: 0.8855, validation loss: 0.4471\n",
      "Epoch 12\n",
      "Training loss: 0.4245\n",
      "Validation accuracy: 0.8877, validation loss: 0.4324\n",
      "Epoch 13\n",
      "Training loss: 0.4106\n",
      "Validation accuracy: 0.8892, validation loss: 0.4193\n",
      "Epoch 14\n",
      "Training loss: 0.3988\n",
      "Validation accuracy: 0.8907, validation loss: 0.4085\n",
      "Epoch 15\n",
      "Training loss: 0.3885\n",
      "Validation accuracy: 0.8927, validation loss: 0.3996\n",
      "Epoch 16\n",
      "Training loss: 0.3796\n",
      "Validation accuracy: 0.8938, validation loss: 0.3908\n",
      "Epoch 17\n",
      "Training loss: 0.3716\n",
      "Validation accuracy: 0.8958, validation loss: 0.3836\n",
      "Epoch 18\n",
      "Training loss: 0.3646\n",
      "Validation accuracy: 0.8965, validation loss: 0.3770\n",
      "Epoch 19\n",
      "Training loss: 0.3581\n",
      "Validation accuracy: 0.8978, validation loss: 0.3709\n",
      "Epoch 20\n",
      "Training loss: 0.3523\n",
      "Validation accuracy: 0.8988, validation loss: 0.3653\n",
      "Epoch 21\n",
      "Training loss: 0.3468\n",
      "Validation accuracy: 0.8991, validation loss: 0.3608\n",
      "Epoch 22\n",
      "Training loss: 0.3419\n",
      "Validation accuracy: 0.9011, validation loss: 0.3558\n",
      "Epoch 23\n",
      "Training loss: 0.3372\n",
      "Validation accuracy: 0.9015, validation loss: 0.3517\n",
      "Epoch 24\n",
      "Training loss: 0.3328\n",
      "Validation accuracy: 0.9033, validation loss: 0.3475\n",
      "Epoch 25\n",
      "Training loss: 0.3288\n",
      "Validation accuracy: 0.9032, validation loss: 0.3436\n",
      "Epoch 26\n",
      "Training loss: 0.3250\n",
      "Validation accuracy: 0.9044, validation loss: 0.3399\n",
      "Epoch 27\n",
      "Training loss: 0.3212\n",
      "Validation accuracy: 0.9054, validation loss: 0.3369\n",
      "Epoch 28\n",
      "Training loss: 0.3178\n",
      "Validation accuracy: 0.9057, validation loss: 0.3329\n",
      "Epoch 29\n",
      "Training loss: 0.3145\n",
      "Validation accuracy: 0.9075, validation loss: 0.3303\n",
      "Epoch 30\n",
      "Training loss: 0.3113\n",
      "Validation accuracy: 0.9077, validation loss: 0.3269\n"
     ]
    }
   ],
   "source": [
    "epochs = 30\n",
    "\n",
    "for epoch in range(epochs):\n",
    "    print(\"Epoch\", epoch+1)\n",
    "    loss_log = []\n",
    "    train_epoch(loss_log)\n",
    "    print(f\"Training loss: {np.mean(loss_log):.4f}\")\n",
    "    optimizer.finish_epoch()\n",
    "    val_acc, val_loss = validation(model, valid_loader)\n",
    "    print(f\"Validation accuracy: {val_acc:.4f}, validation loss: {val_loss:.4f}\")\n",
    "    print(\"Epoch\", epoch+1, \n",
    "          f\"Training loss: {np.mean(loss_log):.4f}, validation accuracy: {val_acc:.4f}, validation loss: {val_loss:.4f}\",\n",
    "          file=log_file, flush=True\n",
    "         )"
   ]
  },
  {
   "cell_type": "code",
   "execution_count": 10,
   "metadata": {},
   "outputs": [
    {
     "name": "stdout",
     "output_type": "stream",
     "text": [
      "Train: (tensor(0.9121, device='cuda:0'), tensor(0.3094, device='cuda:0'))\n",
      "Valid: (tensor(0.9077, device='cuda:0'), tensor(0.3269, device='cuda:0'))\n"
     ]
    }
   ],
   "source": [
    "train_score = validation(model, train_loader)\n",
    "valid_score = validation(model, valid_loader)\n",
    "print(\"Train:\", train_score)\n",
    "print(\"Valid:\", valid_score)\n",
    "print(\"Train:\", train_score, flush=True, file=log_file)\n",
    "print(\"Valid:\", valid_score, flush=True, file=log_file)"
   ]
  },
  {
   "cell_type": "code",
   "execution_count": 11,
   "metadata": {},
   "outputs": [],
   "source": [
    "optimizer.param_groups[0][\"method\"] = \"RNA\"\n",
    "optimizer.accelerate()"
   ]
  },
  {
   "cell_type": "code",
   "execution_count": 12,
   "metadata": {},
   "outputs": [
    {
     "data": {
      "text/plain": [
       "Sequential(\n",
       "  (0): Flatten(start_dim=1, end_dim=-1)\n",
       "  (1): Linear(in_features=784, out_features=512, bias=True)\n",
       "  (2): ReLU()\n",
       "  (3): Linear(in_features=512, out_features=10, bias=True)\n",
       "  (4): LogSoftmax(dim=-1)\n",
       ")"
      ]
     },
     "execution_count": 12,
     "metadata": {},
     "output_type": "execute_result"
    }
   ],
   "source": [
    "model_acc = deepcopy(model)\n",
    "optimizer.store_parameters([model_acc.parameters()])\n",
    "model_acc.cuda()"
   ]
  },
  {
   "cell_type": "code",
   "execution_count": 13,
   "metadata": {},
   "outputs": [
    {
     "name": "stdout",
     "output_type": "stream",
     "text": [
      "Train: (tensor(0.9212, device='cuda:0'), tensor(0.2773, device='cuda:0'))\n",
      "Valid: (tensor(0.9178, device='cuda:0'), tensor(0.2959, device='cuda:0'))\n"
     ]
    }
   ],
   "source": [
    "train_score = validation(model_acc, train_loader)\n",
    "valid_score = validation(model_acc, valid_loader)\n",
    "print(\"Train:\", train_score)\n",
    "print(\"Valid:\", valid_score)\n",
    "print(\"Train:\", train_score, flush=True, file=log_file)\n",
    "print(\"Valid:\", valid_score, flush=True, file=log_file)"
   ]
  },
  {
   "cell_type": "code",
   "execution_count": 14,
   "metadata": {},
   "outputs": [],
   "source": [
    "optimizer.param_groups[0][\"method\"] = \"RRE\"\n",
    "optimizer.accelerate()"
   ]
  },
  {
   "cell_type": "code",
   "execution_count": 15,
   "metadata": {},
   "outputs": [
    {
     "data": {
      "text/plain": [
       "Sequential(\n",
       "  (0): Flatten(start_dim=1, end_dim=-1)\n",
       "  (1): Linear(in_features=784, out_features=512, bias=True)\n",
       "  (2): ReLU()\n",
       "  (3): Linear(in_features=512, out_features=10, bias=True)\n",
       "  (4): LogSoftmax(dim=-1)\n",
       ")"
      ]
     },
     "execution_count": 15,
     "metadata": {},
     "output_type": "execute_result"
    }
   ],
   "source": [
    "model_acc = deepcopy(model)\n",
    "optimizer.store_parameters([model_acc.parameters()])\n",
    "model_acc.cuda()"
   ]
  },
  {
   "cell_type": "code",
   "execution_count": 16,
   "metadata": {},
   "outputs": [
    {
     "name": "stdout",
     "output_type": "stream",
     "text": [
      "Train: (tensor(0.9212, device='cuda:0'), tensor(0.2773, device='cuda:0'))\n",
      "Valid: (tensor(0.9178, device='cuda:0'), tensor(0.2959, device='cuda:0'))\n"
     ]
    }
   ],
   "source": [
    "train_score = validation(model_acc, train_loader)\n",
    "valid_score = validation(model_acc, valid_loader)\n",
    "print(\"Train:\", train_score)\n",
    "print(\"Valid:\", valid_score)\n",
    "print(\"Train:\", train_score, flush=True, file=log_file)\n",
    "print(\"Valid:\", valid_score, flush=True, file=log_file)"
   ]
  },
  {
   "cell_type": "markdown",
   "metadata": {},
   "source": [
    "## Epoch average"
   ]
  },
  {
   "cell_type": "code",
   "execution_count": 17,
   "metadata": {},
   "outputs": [
    {
     "data": {
      "text/plain": [
       "Sequential(\n",
       "  (0): Flatten(start_dim=1, end_dim=-1)\n",
       "  (1): Linear(in_features=784, out_features=512, bias=True)\n",
       "  (2): ReLU()\n",
       "  (3): Linear(in_features=512, out_features=10, bias=True)\n",
       "  (4): LogSoftmax(dim=-1)\n",
       ")"
      ]
     },
     "execution_count": 17,
     "metadata": {},
     "output_type": "execute_result"
    }
   ],
   "source": [
    "model = nn.Sequential(\n",
    "    nn.Flatten(),\n",
    "    nn.Linear(28*28, 512),\n",
    "    nn.ReLU(),\n",
    "    nn.Linear(512, 10),\n",
    "    nn.LogSoftmax(-1),\n",
    ")\n",
    "model.cuda()"
   ]
  },
  {
   "cell_type": "code",
   "execution_count": 18,
   "metadata": {},
   "outputs": [],
   "source": [
    "log_file = open(\"SGD-2l_momentum-avg.txt\", \"w\")\n",
    "optimizer = AcceleratedSGD(model.parameters(), 1e-3, k=10, momentum=0.5, weight_decay=1e-5, mode=\"epoch_avg\")"
   ]
  },
  {
   "cell_type": "code",
   "execution_count": 19,
   "metadata": {
    "tags": []
   },
   "outputs": [
    {
     "name": "stdout",
     "output_type": "stream",
     "text": [
      "Epoch 1\n",
      "Training loss: 2.1194\n",
      "Validation accuracy: 0.7188, validation loss: 1.9168\n",
      "Epoch 2\n",
      "Training loss: 1.6605\n",
      "Validation accuracy: 0.7731, validation loss: 1.4067\n",
      "Epoch 3\n",
      "Training loss: 1.1904\n",
      "Validation accuracy: 0.8108, validation loss: 1.0217\n",
      "Epoch 4\n",
      "Training loss: 0.8949\n",
      "Validation accuracy: 0.8306, validation loss: 0.8093\n",
      "Epoch 5\n",
      "Training loss: 0.7312\n",
      "Validation accuracy: 0.8458, validation loss: 0.6870\n",
      "Epoch 6\n",
      "Training loss: 0.6331\n",
      "Validation accuracy: 0.8585, validation loss: 0.6099\n",
      "Epoch 7\n",
      "Training loss: 0.5685\n",
      "Validation accuracy: 0.8662, validation loss: 0.5570\n",
      "Epoch 8\n",
      "Training loss: 0.5228\n",
      "Validation accuracy: 0.8722, validation loss: 0.5191\n",
      "Epoch 9\n",
      "Training loss: 0.4890\n",
      "Validation accuracy: 0.8781, validation loss: 0.4893\n",
      "Epoch 10\n",
      "Training loss: 0.4628\n",
      "Validation accuracy: 0.8813, validation loss: 0.4667\n",
      "Epoch 11\n",
      "Training loss: 0.4420\n",
      "Validation accuracy: 0.8850, validation loss: 0.4482\n",
      "Epoch 12\n",
      "Training loss: 0.4249\n",
      "Validation accuracy: 0.8872, validation loss: 0.4330\n",
      "Epoch 13\n",
      "Training loss: 0.4108\n",
      "Validation accuracy: 0.8899, validation loss: 0.4213\n",
      "Epoch 14\n",
      "Training loss: 0.3989\n",
      "Validation accuracy: 0.8910, validation loss: 0.4096\n",
      "Epoch 15\n",
      "Training loss: 0.3884\n",
      "Validation accuracy: 0.8918, validation loss: 0.3997\n",
      "Epoch 16\n",
      "Training loss: 0.3794\n",
      "Validation accuracy: 0.8935, validation loss: 0.3915\n",
      "Epoch 17\n",
      "Training loss: 0.3714\n",
      "Validation accuracy: 0.8942, validation loss: 0.3839\n",
      "Epoch 18\n",
      "Training loss: 0.3642\n",
      "Validation accuracy: 0.8957, validation loss: 0.3774\n",
      "Epoch 19\n",
      "Training loss: 0.3577\n",
      "Validation accuracy: 0.8961, validation loss: 0.3715\n",
      "Epoch 20\n",
      "Training loss: 0.3518\n",
      "Validation accuracy: 0.8978, validation loss: 0.3664\n",
      "Epoch 21\n",
      "Training loss: 0.3464\n",
      "Validation accuracy: 0.8982, validation loss: 0.3609\n",
      "Epoch 22\n",
      "Training loss: 0.3414\n",
      "Validation accuracy: 0.8997, validation loss: 0.3559\n",
      "Epoch 23\n",
      "Training loss: 0.3368\n",
      "Validation accuracy: 0.9007, validation loss: 0.3519\n",
      "Epoch 24\n",
      "Training loss: 0.3324\n",
      "Validation accuracy: 0.9015, validation loss: 0.3476\n",
      "Epoch 25\n",
      "Training loss: 0.3284\n",
      "Validation accuracy: 0.9019, validation loss: 0.3437\n",
      "Epoch 26\n",
      "Training loss: 0.3245\n",
      "Validation accuracy: 0.9032, validation loss: 0.3400\n",
      "Epoch 27\n",
      "Training loss: 0.3208\n",
      "Validation accuracy: 0.9045, validation loss: 0.3366\n",
      "Epoch 28\n",
      "Training loss: 0.3174\n",
      "Validation accuracy: 0.9052, validation loss: 0.3338\n",
      "Epoch 29\n",
      "Training loss: 0.3141\n",
      "Validation accuracy: 0.9062, validation loss: 0.3302\n",
      "Epoch 30\n",
      "Training loss: 0.3109\n",
      "Validation accuracy: 0.9077, validation loss: 0.3272\n"
     ]
    }
   ],
   "source": [
    "epochs = 30\n",
    "\n",
    "for epoch in range(epochs):\n",
    "    print(\"Epoch\", epoch+1)\n",
    "    loss_log = []\n",
    "    train_epoch(loss_log)\n",
    "    print(f\"Training loss: {np.mean(loss_log):.4f}\")\n",
    "    optimizer.finish_epoch()\n",
    "    val_acc, val_loss = validation(model, valid_loader)\n",
    "    print(f\"Validation accuracy: {val_acc:.4f}, validation loss: {val_loss:.4f}\")\n",
    "    print(\"Epoch\", epoch+1, \n",
    "          f\"Training loss: {np.mean(loss_log):.4f}, validation accuracy: {val_acc:.4f}, validation loss: {val_loss:.4f}\",\n",
    "          file=log_file, flush=True\n",
    "         )"
   ]
  },
  {
   "cell_type": "code",
   "execution_count": 20,
   "metadata": {},
   "outputs": [
    {
     "name": "stdout",
     "output_type": "stream",
     "text": [
      "Train: (tensor(0.9137, device='cuda:0'), tensor(0.3089, device='cuda:0'))\n",
      "Valid: (tensor(0.9077, device='cuda:0'), tensor(0.3272, device='cuda:0'))\n"
     ]
    }
   ],
   "source": [
    "train_score = validation(model, train_loader)\n",
    "valid_score = validation(model, valid_loader)\n",
    "print(\"Train:\", train_score)\n",
    "print(\"Valid:\", valid_score)\n",
    "print(\"Train:\", train_score, flush=True, file=log_file)\n",
    "print(\"Valid:\", valid_score, flush=True, file=log_file)"
   ]
  },
  {
   "cell_type": "code",
   "execution_count": 21,
   "metadata": {},
   "outputs": [],
   "source": [
    "optimizer.param_groups[0][\"method\"] = \"RNA\"\n",
    "optimizer.accelerate()"
   ]
  },
  {
   "cell_type": "code",
   "execution_count": 22,
   "metadata": {},
   "outputs": [
    {
     "data": {
      "text/plain": [
       "Sequential(\n",
       "  (0): Flatten(start_dim=1, end_dim=-1)\n",
       "  (1): Linear(in_features=784, out_features=512, bias=True)\n",
       "  (2): ReLU()\n",
       "  (3): Linear(in_features=512, out_features=10, bias=True)\n",
       "  (4): LogSoftmax(dim=-1)\n",
       ")"
      ]
     },
     "execution_count": 22,
     "metadata": {},
     "output_type": "execute_result"
    }
   ],
   "source": [
    "model_acc = deepcopy(model)\n",
    "optimizer.store_parameters([model_acc.parameters()])\n",
    "model_acc.cuda()"
   ]
  },
  {
   "cell_type": "code",
   "execution_count": 23,
   "metadata": {},
   "outputs": [
    {
     "name": "stdout",
     "output_type": "stream",
     "text": [
      "Train: (tensor(0.9131, device='cuda:0'), tensor(0.3157, device='cuda:0'))\n",
      "Valid: (tensor(0.9074, device='cuda:0'), tensor(0.3334, device='cuda:0'))\n"
     ]
    }
   ],
   "source": [
    "train_score = validation(model_acc, train_loader)\n",
    "valid_score = validation(model_acc, valid_loader)\n",
    "print(\"Train:\", train_score)\n",
    "print(\"Valid:\", valid_score)\n",
    "print(\"Train:\", train_score, flush=True, file=log_file)\n",
    "print(\"Valid:\", valid_score, flush=True, file=log_file)"
   ]
  },
  {
   "cell_type": "code",
   "execution_count": 24,
   "metadata": {},
   "outputs": [],
   "source": [
    "optimizer.param_groups[0][\"method\"] = \"RRE\"\n",
    "optimizer.accelerate()"
   ]
  },
  {
   "cell_type": "code",
   "execution_count": 25,
   "metadata": {},
   "outputs": [
    {
     "data": {
      "text/plain": [
       "Sequential(\n",
       "  (0): Flatten(start_dim=1, end_dim=-1)\n",
       "  (1): Linear(in_features=784, out_features=512, bias=True)\n",
       "  (2): ReLU()\n",
       "  (3): Linear(in_features=512, out_features=10, bias=True)\n",
       "  (4): LogSoftmax(dim=-1)\n",
       ")"
      ]
     },
     "execution_count": 25,
     "metadata": {},
     "output_type": "execute_result"
    }
   ],
   "source": [
    "model_acc = deepcopy(model)\n",
    "optimizer.store_parameters([model_acc.parameters()])\n",
    "model_acc.cuda()"
   ]
  },
  {
   "cell_type": "code",
   "execution_count": 26,
   "metadata": {},
   "outputs": [
    {
     "name": "stdout",
     "output_type": "stream",
     "text": [
      "Train: (tensor(0.9132, device='cuda:0'), tensor(0.3155, device='cuda:0'))\n",
      "Valid: (tensor(0.9075, device='cuda:0'), tensor(0.3332, device='cuda:0'))\n"
     ]
    }
   ],
   "source": [
    "train_score = validation(model_acc, train_loader)\n",
    "valid_score = validation(model_acc, valid_loader)\n",
    "print(\"Train:\", train_score)\n",
    "print(\"Valid:\", valid_score)\n",
    "print(\"Train:\", train_score, flush=True, file=log_file)\n",
    "print(\"Valid:\", valid_score, flush=True, file=log_file)"
   ]
  },
  {
   "cell_type": "code",
   "execution_count": null,
   "metadata": {},
   "outputs": [],
   "source": []
  }
 ],
 "metadata": {
  "kernelspec": {
   "display_name": "Python 3 (Torch)",
   "language": "python",
   "name": "torch"
  },
  "language_info": {
   "codemirror_mode": {
    "name": "ipython",
    "version": 3
   },
   "file_extension": ".py",
   "mimetype": "text/x-python",
   "name": "python",
   "nbconvert_exporter": "python",
   "pygments_lexer": "ipython3",
   "version": "3.8.5"
  }
 },
 "nbformat": 4,
 "nbformat_minor": 4
}
