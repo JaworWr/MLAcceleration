{
 "cells": [
  {
   "cell_type": "code",
   "execution_count": 1,
   "metadata": {},
   "outputs": [],
   "source": [
    "import sys\n",
    "sys.path.insert(0, \"../..\")"
   ]
  },
  {
   "cell_type": "code",
   "execution_count": 2,
   "metadata": {},
   "outputs": [],
   "source": [
    "import torch\n",
    "from torch import nn\n",
    "from torch.utils import data\n",
    "from torchvision import datasets, transforms\n",
    "from tqdm.notebook import tqdm\n",
    "import numpy as np\n",
    "from copy import deepcopy\n",
    "\n",
    "from nn_extrapolation import AcceleratedSGD"
   ]
  },
  {
   "cell_type": "code",
   "execution_count": 3,
   "metadata": {},
   "outputs": [
    {
     "data": {
      "text/plain": [
       "True"
      ]
     },
     "execution_count": 3,
     "metadata": {},
     "output_type": "execute_result"
    }
   ],
   "source": [
    "torch.cuda.is_available()"
   ]
  },
  {
   "cell_type": "code",
   "execution_count": 4,
   "metadata": {},
   "outputs": [],
   "source": [
    "val_loss_fn = nn.NLLLoss(reduction=\"sum\")\n",
    "\n",
    "def validation(model, loader):\n",
    "    ok = 0\n",
    "    loss_sum = 0\n",
    "    total = 0\n",
    "    model.eval()\n",
    "    with torch.no_grad():\n",
    "        for x, y in loader:\n",
    "            x = x.cuda()\n",
    "            y = y.cuda()\n",
    "            out = model(x)\n",
    "            loss_sum += val_loss_fn(out, y)\n",
    "            preds = out.argmax(1)\n",
    "            ok += (y == preds).sum()\n",
    "            total += len(y)\n",
    "    return ok / total, loss_sum / total\n",
    "\n",
    "def train_epoch(loss_log):\n",
    "    model.train()\n",
    "    for x, y in train_loader:\n",
    "        x = x.cuda()\n",
    "        y = y.cuda()\n",
    "        optimizer.zero_grad()\n",
    "        out = model(x)\n",
    "        loss = loss_fn(out, y)\n",
    "        loss_log += list(loss.flatten().cpu().detach().numpy())\n",
    "        loss.backward()\n",
    "        optimizer.step()"
   ]
  },
  {
   "cell_type": "code",
   "execution_count": 5,
   "metadata": {},
   "outputs": [],
   "source": [
    "train_ds = datasets.MNIST(\"../../../MNIST\", download=True, train=True, transform=transforms.ToTensor())\n",
    "test_ds = datasets.MNIST(\"../../../MNIST\", download=True, train=False, transform=transforms.ToTensor())\n",
    "valid_size = int(0.2 * len(train_ds))\n",
    "train_ds, valid_ds = data.random_split(train_ds, [len(train_ds) - valid_size, valid_size])\n",
    "\n",
    "train_loader = data.DataLoader(train_ds, batch_size=64, shuffle=True, num_workers=2)\n",
    "valid_loader = data.DataLoader(valid_ds, batch_size=64, shuffle=True, num_workers=2)\n",
    "test_loader = data.DataLoader(test_ds, batch_size=64, shuffle=False, num_workers=2)"
   ]
  },
  {
   "cell_type": "code",
   "execution_count": 7,
   "metadata": {},
   "outputs": [],
   "source": [
    "model = nn.Sequential(\n",
    "    nn.Flatten(),\n",
    "    nn.Linear(28*28, 512),\n",
    "    nn.ReLU(),\n",
    "    nn.Linear(512, 10),\n",
    "    nn.LogSoftmax(-1),\n",
    ")\n",
    "model.cuda()"
   ]
  },
  {
   "cell_type": "code",
   "execution_count": 7,
   "metadata": {},
   "outputs": [],
   "source": [
    "optimizer = AcceleratedSGD(model.parameters(), 1e-3, k=10, momentum=0.8, weight_decay=1e-5, mode=\"epoch\")\n",
    "loss_fn = nn.NLLLoss()"
   ]
  },
  {
   "cell_type": "code",
   "execution_count": 8,
   "metadata": {},
   "outputs": [],
   "source": [
    "log_file = open(\"SGD-2l_momentum.txt\", \"w\")"
   ]
  },
  {
   "cell_type": "markdown",
   "metadata": {},
   "source": [
    "## Epoch"
   ]
  },
  {
   "cell_type": "code",
   "execution_count": 9,
   "metadata": {
    "tags": []
   },
   "outputs": [
    {
     "name": "stdout",
     "output_type": "stream",
     "text": [
      "Epoch 1\n",
      "Training loss: 1.7946\n",
      "Validation accuracy: 0.7852, validation loss: 1.2079\n",
      "Epoch 2\n",
      "Training loss: 0.8806\n",
      "Validation accuracy: 0.8393, validation loss: 0.6935\n",
      "Epoch 3\n",
      "Training loss: 0.5906\n",
      "Validation accuracy: 0.8636, validation loss: 0.5442\n",
      "Epoch 4\n",
      "Training loss: 0.4846\n",
      "Validation accuracy: 0.8747, validation loss: 0.4753\n",
      "Epoch 5\n",
      "Training loss: 0.4301\n",
      "Validation accuracy: 0.8822, validation loss: 0.4360\n",
      "Epoch 6\n",
      "Training loss: 0.3964\n",
      "Validation accuracy: 0.8867, validation loss: 0.4102\n",
      "Epoch 7\n",
      "Training loss: 0.3734\n",
      "Validation accuracy: 0.8906, validation loss: 0.3916\n",
      "Epoch 8\n",
      "Training loss: 0.3561\n",
      "Validation accuracy: 0.8926, validation loss: 0.3777\n",
      "Epoch 9\n",
      "Training loss: 0.3425\n",
      "Validation accuracy: 0.8943, validation loss: 0.3655\n",
      "Epoch 10\n",
      "Training loss: 0.3312\n",
      "Validation accuracy: 0.8978, validation loss: 0.3561\n",
      "Epoch 11\n",
      "Training loss: 0.3216\n",
      "Validation accuracy: 0.9002, validation loss: 0.3474\n",
      "Epoch 12\n",
      "Training loss: 0.3131\n",
      "Validation accuracy: 0.9012, validation loss: 0.3397\n",
      "Epoch 13\n",
      "Training loss: 0.3056\n",
      "Validation accuracy: 0.9038, validation loss: 0.3328\n",
      "Epoch 14\n",
      "Training loss: 0.2986\n",
      "Validation accuracy: 0.9058, validation loss: 0.3264\n",
      "Epoch 15\n",
      "Training loss: 0.2922\n",
      "Validation accuracy: 0.9074, validation loss: 0.3201\n",
      "Epoch 16\n",
      "Training loss: 0.2862\n",
      "Validation accuracy: 0.9096, validation loss: 0.3147\n",
      "Epoch 17\n",
      "Training loss: 0.2806\n",
      "Validation accuracy: 0.9111, validation loss: 0.3092\n",
      "Epoch 18\n",
      "Training loss: 0.2753\n",
      "Validation accuracy: 0.9126, validation loss: 0.3043\n",
      "Epoch 19\n",
      "Training loss: 0.2703\n",
      "Validation accuracy: 0.9143, validation loss: 0.2994\n",
      "Epoch 20\n",
      "Training loss: 0.2655\n",
      "Validation accuracy: 0.9158, validation loss: 0.2946\n",
      "Epoch 21\n",
      "Training loss: 0.2608\n",
      "Validation accuracy: 0.9172, validation loss: 0.2904\n",
      "Epoch 22\n",
      "Training loss: 0.2564\n",
      "Validation accuracy: 0.9195, validation loss: 0.2858\n",
      "Epoch 23\n",
      "Training loss: 0.2521\n",
      "Validation accuracy: 0.9197, validation loss: 0.2818\n",
      "Epoch 24\n",
      "Training loss: 0.2479\n",
      "Validation accuracy: 0.9220, validation loss: 0.2777\n",
      "Epoch 25\n",
      "Training loss: 0.2440\n",
      "Validation accuracy: 0.9223, validation loss: 0.2731\n",
      "Epoch 26\n",
      "Training loss: 0.2402\n",
      "Validation accuracy: 0.9242, validation loss: 0.2693\n",
      "Epoch 27\n",
      "Training loss: 0.2364\n",
      "Validation accuracy: 0.9253, validation loss: 0.2661\n",
      "Epoch 28\n",
      "Training loss: 0.2327\n",
      "Validation accuracy: 0.9267, validation loss: 0.2629\n",
      "Epoch 29\n",
      "Training loss: 0.2293\n",
      "Validation accuracy: 0.9280, validation loss: 0.2587\n",
      "Epoch 30\n",
      "Training loss: 0.2257\n",
      "Validation accuracy: 0.9292, validation loss: 0.2554\n"
     ]
    }
   ],
   "source": [
    "epochs = 30\n",
    "\n",
    "for epoch in range(epochs):\n",
    "    print(\"Epoch\", epoch+1)\n",
    "    loss_log = []\n",
    "    train_epoch(loss_log)\n",
    "    print(f\"Training loss: {np.mean(loss_log):.4f}\")\n",
    "    optimizer.finish_epoch()\n",
    "    val_acc, val_loss = validation(model, valid_loader)\n",
    "    print(f\"Validation accuracy: {val_acc:.4f}, validation loss: {val_loss:.4f}\")\n",
    "    print(\"Epoch\", epoch+1, \n",
    "          f\"Training loss: {np.mean(loss_log):.4f}, validation accuracy: {val_acc:.4f}, validation loss: {val_loss:.4f}\",\n",
    "          file=log_file, flush=True\n",
    "         )"
   ]
  },
  {
   "cell_type": "code",
   "execution_count": 10,
   "metadata": {},
   "outputs": [
    {
     "name": "stdout",
     "output_type": "stream",
     "text": [
      "Train: (tensor(0.9374, device='cuda:0'), tensor(0.2233, device='cuda:0'))\n",
      "Valid: (tensor(0.9292, device='cuda:0'), tensor(0.2554, device='cuda:0'))\n"
     ]
    }
   ],
   "source": [
    "train_score = validation(model, train_loader)\n",
    "valid_score = validation(model, valid_loader)\n",
    "print(\"Train:\", train_score)\n",
    "print(\"Valid:\", valid_score)\n",
    "print(\"Train:\", train_score, flush=True, file=log_file)\n",
    "print(\"Valid:\", valid_score, flush=True, file=log_file)"
   ]
  },
  {
   "cell_type": "code",
   "execution_count": 11,
   "metadata": {},
   "outputs": [],
   "source": [
    "optimizer.param_groups[0][\"method\"] = \"RNA\"\n",
    "optimizer.accelerate()"
   ]
  },
  {
   "cell_type": "code",
   "execution_count": 12,
   "metadata": {},
   "outputs": [
    {
     "data": {
      "text/plain": [
       "Sequential(\n",
       "  (0): Flatten(start_dim=1, end_dim=-1)\n",
       "  (1): Linear(in_features=784, out_features=512, bias=True)\n",
       "  (2): ReLU()\n",
       "  (3): Linear(in_features=512, out_features=10, bias=True)\n",
       "  (4): LogSoftmax(dim=-1)\n",
       ")"
      ]
     },
     "execution_count": 12,
     "metadata": {},
     "output_type": "execute_result"
    }
   ],
   "source": [
    "model_acc = deepcopy(model)\n",
    "optimizer.store_parameters([model_acc.parameters()])\n",
    "model_acc.cuda()"
   ]
  },
  {
   "cell_type": "code",
   "execution_count": 13,
   "metadata": {},
   "outputs": [
    {
     "name": "stdout",
     "output_type": "stream",
     "text": [
      "Train: (tensor(0.9418, device='cuda:0'), tensor(0.2076, device='cuda:0'))\n",
      "Valid: (tensor(0.9331, device='cuda:0'), tensor(0.2396, device='cuda:0'))\n"
     ]
    }
   ],
   "source": [
    "train_score = validation(model_acc, train_loader)\n",
    "valid_score = validation(model_acc, valid_loader)\n",
    "print(\"Train:\", train_score)\n",
    "print(\"Valid:\", valid_score)\n",
    "print(\"Train:\", train_score, flush=True, file=log_file)\n",
    "print(\"Valid:\", valid_score, flush=True, file=log_file)"
   ]
  },
  {
   "cell_type": "code",
   "execution_count": 14,
   "metadata": {},
   "outputs": [],
   "source": [
    "optimizer.param_groups[0][\"method\"] = \"RRE\"\n",
    "optimizer.accelerate()"
   ]
  },
  {
   "cell_type": "code",
   "execution_count": 15,
   "metadata": {},
   "outputs": [
    {
     "data": {
      "text/plain": [
       "Sequential(\n",
       "  (0): Flatten(start_dim=1, end_dim=-1)\n",
       "  (1): Linear(in_features=784, out_features=512, bias=True)\n",
       "  (2): ReLU()\n",
       "  (3): Linear(in_features=512, out_features=10, bias=True)\n",
       "  (4): LogSoftmax(dim=-1)\n",
       ")"
      ]
     },
     "execution_count": 15,
     "metadata": {},
     "output_type": "execute_result"
    }
   ],
   "source": [
    "model_acc = deepcopy(model)\n",
    "optimizer.store_parameters([model_acc.parameters()])\n",
    "model_acc.cuda()"
   ]
  },
  {
   "cell_type": "code",
   "execution_count": 16,
   "metadata": {},
   "outputs": [
    {
     "name": "stdout",
     "output_type": "stream",
     "text": [
      "Train: (tensor(0.9418, device='cuda:0'), tensor(0.2076, device='cuda:0'))\n",
      "Valid: (tensor(0.9331, device='cuda:0'), tensor(0.2396, device='cuda:0'))\n"
     ]
    }
   ],
   "source": [
    "train_score = validation(model_acc, train_loader)\n",
    "valid_score = validation(model_acc, valid_loader)\n",
    "print(\"Train:\", train_score)\n",
    "print(\"Valid:\", valid_score)\n",
    "print(\"Train:\", train_score, flush=True, file=log_file)\n",
    "print(\"Valid:\", valid_score, flush=True, file=log_file)"
   ]
  },
  {
   "cell_type": "markdown",
   "metadata": {},
   "source": [
    "## Epoch average"
   ]
  },
  {
   "cell_type": "code",
   "execution_count": 17,
   "metadata": {},
   "outputs": [
    {
     "data": {
      "text/plain": [
       "Sequential(\n",
       "  (0): Flatten(start_dim=1, end_dim=-1)\n",
       "  (1): Linear(in_features=784, out_features=512, bias=True)\n",
       "  (2): ReLU()\n",
       "  (3): Linear(in_features=512, out_features=10, bias=True)\n",
       "  (4): LogSoftmax(dim=-1)\n",
       ")"
      ]
     },
     "execution_count": 17,
     "metadata": {},
     "output_type": "execute_result"
    }
   ],
   "source": [
    "model = nn.Sequential(\n",
    "    nn.Flatten(),\n",
    "    nn.Linear(28*28, 512),\n",
    "    nn.ReLU(),\n",
    "    nn.Linear(512, 10),\n",
    "    nn.LogSoftmax(-1),\n",
    ")\n",
    "model.cuda()"
   ]
  },
  {
   "cell_type": "code",
   "execution_count": 18,
   "metadata": {},
   "outputs": [],
   "source": [
    "log_file = open(\"SGD-2l_momentum-avg.txt\", \"w\")\n",
    "optimizer = AcceleratedSGD(model.parameters(), 1e-3, k=10, momentum=0.8, weight_decay=1e-5, mode=\"epoch_avg\")"
   ]
  },
  {
   "cell_type": "code",
   "execution_count": 19,
   "metadata": {
    "tags": []
   },
   "outputs": [
    {
     "name": "stdout",
     "output_type": "stream",
     "text": [
      "Epoch 1\n",
      "Training loss: 1.7747\n",
      "Validation accuracy: 0.7963, validation loss: 1.1880\n",
      "Epoch 2\n",
      "Training loss: 0.8673\n",
      "Validation accuracy: 0.8440, validation loss: 0.6869\n",
      "Epoch 3\n",
      "Training loss: 0.5856\n",
      "Validation accuracy: 0.8628, validation loss: 0.5413\n",
      "Epoch 4\n",
      "Training loss: 0.4831\n",
      "Validation accuracy: 0.8740, validation loss: 0.4755\n",
      "Epoch 5\n",
      "Training loss: 0.4299\n",
      "Validation accuracy: 0.8801, validation loss: 0.4368\n",
      "Epoch 6\n",
      "Training loss: 0.3971\n",
      "Validation accuracy: 0.8837, validation loss: 0.4121\n",
      "Epoch 7\n",
      "Training loss: 0.3743\n",
      "Validation accuracy: 0.8880, validation loss: 0.3942\n",
      "Epoch 8\n",
      "Training loss: 0.3573\n",
      "Validation accuracy: 0.8916, validation loss: 0.3787\n",
      "Epoch 9\n",
      "Training loss: 0.3439\n",
      "Validation accuracy: 0.8936, validation loss: 0.3673\n",
      "Epoch 10\n",
      "Training loss: 0.3326\n",
      "Validation accuracy: 0.8966, validation loss: 0.3574\n",
      "Epoch 11\n",
      "Training loss: 0.3229\n",
      "Validation accuracy: 0.8992, validation loss: 0.3497\n",
      "Epoch 12\n",
      "Training loss: 0.3147\n",
      "Validation accuracy: 0.9009, validation loss: 0.3414\n",
      "Epoch 13\n",
      "Training loss: 0.3072\n",
      "Validation accuracy: 0.9038, validation loss: 0.3346\n",
      "Epoch 14\n",
      "Training loss: 0.3003\n",
      "Validation accuracy: 0.9045, validation loss: 0.3280\n",
      "Epoch 15\n",
      "Training loss: 0.2939\n",
      "Validation accuracy: 0.9080, validation loss: 0.3227\n",
      "Epoch 16\n",
      "Training loss: 0.2882\n",
      "Validation accuracy: 0.9091, validation loss: 0.3169\n",
      "Epoch 17\n",
      "Training loss: 0.2827\n",
      "Validation accuracy: 0.9101, validation loss: 0.3110\n",
      "Epoch 18\n",
      "Training loss: 0.2774\n",
      "Validation accuracy: 0.9119, validation loss: 0.3065\n",
      "Epoch 19\n",
      "Training loss: 0.2724\n",
      "Validation accuracy: 0.9124, validation loss: 0.3027\n",
      "Epoch 20\n",
      "Training loss: 0.2676\n",
      "Validation accuracy: 0.9147, validation loss: 0.2969\n",
      "Epoch 21\n",
      "Training loss: 0.2631\n",
      "Validation accuracy: 0.9166, validation loss: 0.2926\n",
      "Epoch 22\n",
      "Training loss: 0.2587\n",
      "Validation accuracy: 0.9202, validation loss: 0.2874\n",
      "Epoch 23\n",
      "Training loss: 0.2544\n",
      "Validation accuracy: 0.9212, validation loss: 0.2835\n",
      "Epoch 24\n",
      "Training loss: 0.2502\n",
      "Validation accuracy: 0.9217, validation loss: 0.2793\n",
      "Epoch 25\n",
      "Training loss: 0.2463\n",
      "Validation accuracy: 0.9229, validation loss: 0.2753\n",
      "Epoch 26\n",
      "Training loss: 0.2423\n",
      "Validation accuracy: 0.9244, validation loss: 0.2721\n",
      "Epoch 27\n",
      "Training loss: 0.2387\n",
      "Validation accuracy: 0.9255, validation loss: 0.2682\n",
      "Epoch 28\n",
      "Training loss: 0.2350\n",
      "Validation accuracy: 0.9267, validation loss: 0.2643\n",
      "Epoch 29\n",
      "Training loss: 0.2314\n",
      "Validation accuracy: 0.9275, validation loss: 0.2611\n",
      "Epoch 30\n",
      "Training loss: 0.2280\n",
      "Validation accuracy: 0.9286, validation loss: 0.2586\n"
     ]
    }
   ],
   "source": [
    "epochs = 30\n",
    "\n",
    "for epoch in range(epochs):\n",
    "    print(\"Epoch\", epoch+1)\n",
    "    loss_log = []\n",
    "    train_epoch(loss_log)\n",
    "    print(f\"Training loss: {np.mean(loss_log):.4f}\")\n",
    "    optimizer.finish_epoch()\n",
    "    val_acc, val_loss = validation(model, valid_loader)\n",
    "    print(f\"Validation accuracy: {val_acc:.4f}, validation loss: {val_loss:.4f}\")\n",
    "    print(\"Epoch\", epoch+1, \n",
    "          f\"Training loss: {np.mean(loss_log):.4f}, validation accuracy: {val_acc:.4f}, validation loss: {val_loss:.4f}\",\n",
    "          file=log_file, flush=True\n",
    "         )"
   ]
  },
  {
   "cell_type": "code",
   "execution_count": 20,
   "metadata": {},
   "outputs": [
    {
     "name": "stdout",
     "output_type": "stream",
     "text": [
      "Train: (tensor(0.9367, device='cuda:0'), tensor(0.2258, device='cuda:0'))\n",
      "Valid: (tensor(0.9286, device='cuda:0'), tensor(0.2586, device='cuda:0'))\n"
     ]
    }
   ],
   "source": [
    "train_score = validation(model, train_loader)\n",
    "valid_score = validation(model, valid_loader)\n",
    "print(\"Train:\", train_score)\n",
    "print(\"Valid:\", valid_score)\n",
    "print(\"Train:\", train_score, flush=True, file=log_file)\n",
    "print(\"Valid:\", valid_score, flush=True, file=log_file)"
   ]
  },
  {
   "cell_type": "code",
   "execution_count": 21,
   "metadata": {},
   "outputs": [],
   "source": [
    "optimizer.param_groups[0][\"method\"] = \"RNA\"\n",
    "optimizer.accelerate()"
   ]
  },
  {
   "cell_type": "code",
   "execution_count": 22,
   "metadata": {},
   "outputs": [
    {
     "data": {
      "text/plain": [
       "Sequential(\n",
       "  (0): Flatten(start_dim=1, end_dim=-1)\n",
       "  (1): Linear(in_features=784, out_features=512, bias=True)\n",
       "  (2): ReLU()\n",
       "  (3): Linear(in_features=512, out_features=10, bias=True)\n",
       "  (4): LogSoftmax(dim=-1)\n",
       ")"
      ]
     },
     "execution_count": 22,
     "metadata": {},
     "output_type": "execute_result"
    }
   ],
   "source": [
    "model_acc = deepcopy(model)\n",
    "optimizer.store_parameters([model_acc.parameters()])\n",
    "model_acc.cuda()"
   ]
  },
  {
   "cell_type": "code",
   "execution_count": 23,
   "metadata": {},
   "outputs": [
    {
     "name": "stdout",
     "output_type": "stream",
     "text": [
      "Train: (tensor(0.9321, device='cuda:0'), tensor(0.2463, device='cuda:0'))\n",
      "Valid: (tensor(0.9228, device='cuda:0'), tensor(0.2774, device='cuda:0'))\n"
     ]
    }
   ],
   "source": [
    "train_score = validation(model_acc, train_loader)\n",
    "valid_score = validation(model_acc, valid_loader)\n",
    "print(\"Train:\", train_score)\n",
    "print(\"Valid:\", valid_score)\n",
    "print(\"Train:\", train_score, flush=True, file=log_file)\n",
    "print(\"Valid:\", valid_score, flush=True, file=log_file)"
   ]
  },
  {
   "cell_type": "code",
   "execution_count": 24,
   "metadata": {},
   "outputs": [],
   "source": [
    "optimizer.param_groups[0][\"method\"] = \"RRE\"\n",
    "optimizer.accelerate()"
   ]
  },
  {
   "cell_type": "code",
   "execution_count": 25,
   "metadata": {},
   "outputs": [
    {
     "data": {
      "text/plain": [
       "Sequential(\n",
       "  (0): Flatten(start_dim=1, end_dim=-1)\n",
       "  (1): Linear(in_features=784, out_features=512, bias=True)\n",
       "  (2): ReLU()\n",
       "  (3): Linear(in_features=512, out_features=10, bias=True)\n",
       "  (4): LogSoftmax(dim=-1)\n",
       ")"
      ]
     },
     "execution_count": 25,
     "metadata": {},
     "output_type": "execute_result"
    }
   ],
   "source": [
    "model_acc = deepcopy(model)\n",
    "optimizer.store_parameters([model_acc.parameters()])\n",
    "model_acc.cuda()"
   ]
  },
  {
   "cell_type": "code",
   "execution_count": 26,
   "metadata": {},
   "outputs": [
    {
     "name": "stdout",
     "output_type": "stream",
     "text": [
      "Train: (tensor(0.9321, device='cuda:0'), tensor(0.2463, device='cuda:0'))\n",
      "Valid: (tensor(0.9228, device='cuda:0'), tensor(0.2774, device='cuda:0'))\n"
     ]
    }
   ],
   "source": [
    "train_score = validation(model_acc, train_loader)\n",
    "valid_score = validation(model_acc, valid_loader)\n",
    "print(\"Train:\", train_score)\n",
    "print(\"Valid:\", valid_score)\n",
    "print(\"Train:\", train_score, flush=True, file=log_file)\n",
    "print(\"Valid:\", valid_score, flush=True, file=log_file)"
   ]
  },
  {
   "cell_type": "code",
   "execution_count": null,
   "metadata": {},
   "outputs": [],
   "source": []
  }
 ],
 "metadata": {
  "kernelspec": {
   "display_name": "Python 3 (Torch)",
   "language": "python",
   "name": "torch"
  },
  "language_info": {
   "codemirror_mode": {
    "name": "ipython",
    "version": 3
   },
   "file_extension": ".py",
   "mimetype": "text/x-python",
   "name": "python",
   "nbconvert_exporter": "python",
   "pygments_lexer": "ipython3",
   "version": "3.8.11"
  }
 },
 "nbformat": 4,
 "nbformat_minor": 4
}
