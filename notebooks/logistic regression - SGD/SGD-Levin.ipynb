{
 "cells": [
  {
   "cell_type": "code",
   "execution_count": 1,
   "metadata": {},
   "outputs": [],
   "source": [
    "import sys\n",
    "sys.path.insert(0, \"../..\")"
   ]
  },
  {
   "cell_type": "code",
   "execution_count": 2,
   "metadata": {},
   "outputs": [],
   "source": [
    "import torch\n",
    "from torch import nn\n",
    "from torch.utils import data\n",
    "from torchvision import datasets, transforms\n",
    "from tqdm.notebook import tqdm\n",
    "import numpy as np\n",
    "from copy import deepcopy\n",
    "\n",
    "from nn_extrapolation import AcceleratedSGD"
   ]
  },
  {
   "cell_type": "code",
   "execution_count": 3,
   "metadata": {},
   "outputs": [
    {
     "data": {
      "text/plain": [
       "True"
      ]
     },
     "execution_count": 3,
     "metadata": {},
     "output_type": "execute_result"
    }
   ],
   "source": [
    "torch.cuda.is_available()"
   ]
  },
  {
   "cell_type": "code",
   "execution_count": 4,
   "metadata": {},
   "outputs": [],
   "source": [
    "val_loss_fn = nn.NLLLoss(reduction=\"sum\")\n",
    "\n",
    "def validation(model, loader):\n",
    "    ok = 0\n",
    "    loss_sum = 0\n",
    "    total = 0\n",
    "    model.eval()\n",
    "    with torch.no_grad():\n",
    "        for x, y in loader:\n",
    "            x = x.cuda()\n",
    "            y = y.cuda()\n",
    "            out = model(x)\n",
    "            loss_sum += val_loss_fn(out, y)\n",
    "            preds = out.argmax(1)\n",
    "            ok += (y == preds).sum()\n",
    "            total += len(y)\n",
    "    return ok / total, loss_sum / total\n",
    "\n",
    "def train_epoch(loss_log):\n",
    "    model.train()\n",
    "    for x, y in train_loader:\n",
    "        x = x.cuda()\n",
    "        y = y.cuda()\n",
    "        optimizer.zero_grad()\n",
    "        out = model(x)\n",
    "        loss = loss_fn(out, y)\n",
    "        loss_log += list(loss.flatten().cpu().detach().numpy())\n",
    "        loss.backward()\n",
    "        optimizer.step()"
   ]
  },
  {
   "cell_type": "code",
   "execution_count": 5,
   "metadata": {},
   "outputs": [],
   "source": [
    "train_ds = datasets.MNIST(\"../../../MNIST\", download=True, train=True, transform=transforms.ToTensor())\n",
    "test_ds = datasets.MNIST(\"../../../MNIST\", download=True, train=False, transform=transforms.ToTensor())\n",
    "valid_size = int(0.2 * len(train_ds))\n",
    "train_ds, valid_ds = data.random_split(train_ds, [len(train_ds) - valid_size, valid_size])\n",
    "\n",
    "train_loader = data.DataLoader(train_ds, batch_size=64, shuffle=True, num_workers=2)\n",
    "valid_loader = data.DataLoader(valid_ds, batch_size=64, shuffle=True, num_workers=2)\n",
    "test_loader = data.DataLoader(test_ds, batch_size=64, shuffle=False, num_workers=2)"
   ]
  },
  {
   "cell_type": "markdown",
   "metadata": {},
   "source": [
    "## Levin t"
   ]
  },
  {
   "cell_type": "code",
   "execution_count": 6,
   "metadata": {
    "tags": []
   },
   "outputs": [
    {
     "data": {
      "text/plain": [
       "Sequential(\n",
       "  (0): Flatten(start_dim=1, end_dim=-1)\n",
       "  (1): Linear(in_features=784, out_features=10, bias=True)\n",
       "  (2): LogSoftmax(dim=-1)\n",
       ")"
      ]
     },
     "execution_count": 6,
     "metadata": {},
     "output_type": "execute_result"
    }
   ],
   "source": [
    "model = nn.Sequential(\n",
    "    nn.Flatten(),\n",
    "    nn.Linear(28*28, 10),\n",
    "    nn.LogSoftmax(-1),\n",
    ")\n",
    "model.cuda()"
   ]
  },
  {
   "cell_type": "code",
   "execution_count": 7,
   "metadata": {},
   "outputs": [],
   "source": [
    "optimizer = AcceleratedSGD(model.parameters(), 1e-3, k=10, mode=\"epoch\", method=\"Levin:t\")\n",
    "loss_fn = nn.NLLLoss()"
   ]
  },
  {
   "cell_type": "code",
   "execution_count": 8,
   "metadata": {},
   "outputs": [],
   "source": [
    "log_file = open(\"SGD-Levin:t.txt\", \"w\")"
   ]
  },
  {
   "cell_type": "code",
   "execution_count": 9,
   "metadata": {
    "tags": []
   },
   "outputs": [
    {
     "name": "stdout",
     "output_type": "stream",
     "text": [
      "Epoch 1\n",
      "Training loss: 1.9848\n",
      "Validation accuracy: 0.7210, validation loss: 1.7053\n",
      "Epoch 2\n",
      "Training loss: 1.5156\n",
      "Validation accuracy: 0.7837, validation loss: 1.3520\n",
      "Epoch 3\n",
      "Training loss: 1.2413\n",
      "Validation accuracy: 0.8080, validation loss: 1.1394\n",
      "Epoch 4\n",
      "Training loss: 1.0708\n",
      "Validation accuracy: 0.8207, validation loss: 1.0015\n",
      "Epoch 5\n",
      "Training loss: 0.9566\n",
      "Validation accuracy: 0.8277, validation loss: 0.9059\n",
      "Epoch 6\n",
      "Training loss: 0.8752\n",
      "Validation accuracy: 0.8352, validation loss: 0.8357\n",
      "Epoch 7\n",
      "Training loss: 0.8141\n",
      "Validation accuracy: 0.8414, validation loss: 0.7820\n",
      "Epoch 8\n",
      "Training loss: 0.7665\n",
      "Validation accuracy: 0.8459, validation loss: 0.7395\n",
      "Epoch 9\n",
      "Training loss: 0.7283\n",
      "Validation accuracy: 0.8499, validation loss: 0.7047\n",
      "Epoch 10\n",
      "Training loss: 0.6968\n",
      "Validation accuracy: 0.8532, validation loss: 0.6759\n",
      "Epoch 11\n",
      "Training loss: 0.6704\n",
      "Validation accuracy: 0.8570, validation loss: 0.6514\n",
      "Epoch 12\n",
      "Training loss: 0.6478\n",
      "Validation accuracy: 0.8586, validation loss: 0.6304\n",
      "Epoch 13\n",
      "Training loss: 0.6283\n",
      "Validation accuracy: 0.8618, validation loss: 0.6122\n",
      "Epoch 14\n",
      "Training loss: 0.6112\n",
      "Validation accuracy: 0.8639, validation loss: 0.5961\n",
      "Epoch 15\n",
      "Training loss: 0.5961\n",
      "Validation accuracy: 0.8657, validation loss: 0.5819\n",
      "Epoch 16\n",
      "Training loss: 0.5826\n",
      "Validation accuracy: 0.8677, validation loss: 0.5691\n",
      "Epoch 17\n",
      "Training loss: 0.5706\n",
      "Validation accuracy: 0.8686, validation loss: 0.5576\n",
      "Epoch 18\n",
      "Training loss: 0.5596\n",
      "Validation accuracy: 0.8697, validation loss: 0.5472\n",
      "Epoch 19\n",
      "Training loss: 0.5497\n",
      "Validation accuracy: 0.8709, validation loss: 0.5377\n",
      "Epoch 20\n",
      "Training loss: 0.5406\n",
      "Validation accuracy: 0.8717, validation loss: 0.5290\n",
      "Epoch 21\n",
      "Training loss: 0.5323\n",
      "Validation accuracy: 0.8732, validation loss: 0.5211\n",
      "Epoch 22\n",
      "Training loss: 0.5246\n",
      "Validation accuracy: 0.8743, validation loss: 0.5136\n",
      "Epoch 23\n",
      "Training loss: 0.5175\n",
      "Validation accuracy: 0.8757, validation loss: 0.5068\n",
      "Epoch 24\n",
      "Training loss: 0.5108\n",
      "Validation accuracy: 0.8768, validation loss: 0.5004\n",
      "Epoch 25\n",
      "Training loss: 0.5047\n",
      "Validation accuracy: 0.8786, validation loss: 0.4944\n",
      "Epoch 26\n",
      "Training loss: 0.4989\n",
      "Validation accuracy: 0.8796, validation loss: 0.4888\n",
      "Epoch 27\n",
      "Training loss: 0.4935\n",
      "Validation accuracy: 0.8804, validation loss: 0.4836\n",
      "Epoch 28\n",
      "Training loss: 0.4884\n",
      "Validation accuracy: 0.8817, validation loss: 0.4787\n",
      "Epoch 29\n",
      "Training loss: 0.4836\n",
      "Validation accuracy: 0.8824, validation loss: 0.4740\n",
      "Epoch 30\n",
      "Training loss: 0.4791\n",
      "Validation accuracy: 0.8828, validation loss: 0.4696\n"
     ]
    }
   ],
   "source": [
    "epochs = 30\n",
    "\n",
    "for epoch in range(epochs):\n",
    "    print(\"Epoch\", epoch+1)\n",
    "    loss_log = []\n",
    "    train_epoch(loss_log)\n",
    "    print(f\"Training loss: {np.mean(loss_log):.4f}\")\n",
    "    optimizer.finish_epoch()\n",
    "    val_acc, val_loss = validation(model, valid_loader)\n",
    "    print(f\"Validation accuracy: {val_acc:.4f}, validation loss: {val_loss:.4f}\")\n",
    "    print(\"Epoch\", epoch+1, \n",
    "          f\"Training loss: {np.mean(loss_log):.4f}, validation accuracy: {val_acc:.4f}, validation loss: {val_loss:.4f}\",\n",
    "          file=log_file, flush=True\n",
    "         )"
   ]
  },
  {
   "cell_type": "code",
   "execution_count": 10,
   "metadata": {},
   "outputs": [
    {
     "name": "stdout",
     "output_type": "stream",
     "text": [
      "Train: (tensor(0.8786, device='cuda:0'), tensor(0.4768, device='cuda:0'))\n",
      "Valid: (tensor(0.8828, device='cuda:0'), tensor(0.4696, device='cuda:0'))\n"
     ]
    }
   ],
   "source": [
    "train_score = validation(model, train_loader)\n",
    "valid_score = validation(model, valid_loader)\n",
    "print(\"Train:\", train_score)\n",
    "print(\"Valid:\", valid_score)\n",
    "print(\"Train:\", train_score, flush=True, file=log_file)\n",
    "print(\"Valid:\", valid_score, flush=True, file=log_file)"
   ]
  },
  {
   "cell_type": "code",
   "execution_count": 11,
   "metadata": {},
   "outputs": [],
   "source": [
    "optimizer.accelerate()"
   ]
  },
  {
   "cell_type": "code",
   "execution_count": 12,
   "metadata": {},
   "outputs": [
    {
     "data": {
      "text/plain": [
       "Sequential(\n",
       "  (0): Flatten(start_dim=1, end_dim=-1)\n",
       "  (1): Linear(in_features=784, out_features=10, bias=True)\n",
       "  (2): LogSoftmax(dim=-1)\n",
       ")"
      ]
     },
     "execution_count": 12,
     "metadata": {},
     "output_type": "execute_result"
    }
   ],
   "source": [
    "optimizer.store_parameters()\n",
    "model.cuda()"
   ]
  },
  {
   "cell_type": "code",
   "execution_count": 13,
   "metadata": {},
   "outputs": [
    {
     "name": "stdout",
     "output_type": "stream",
     "text": [
      "Train: (tensor(0.8620, device='cuda:0'), tensor(0.5093, device='cuda:0'))\n",
      "Valid: (tensor(0.8686, device='cuda:0'), tensor(0.5014, device='cuda:0'))\n"
     ]
    }
   ],
   "source": [
    "train_score = validation(model, train_loader)\n",
    "valid_score = validation(model, valid_loader)\n",
    "print(\"Train:\", train_score)\n",
    "print(\"Valid:\", valid_score)\n",
    "print(\"Train:\", train_score, flush=True, file=log_file)\n",
    "print(\"Valid:\", valid_score, flush=True, file=log_file)"
   ]
  },
  {
   "cell_type": "markdown",
   "metadata": {},
   "source": [
    "## Levin u"
   ]
  },
  {
   "cell_type": "code",
   "execution_count": 14,
   "metadata": {
    "tags": []
   },
   "outputs": [
    {
     "data": {
      "text/plain": [
       "Sequential(\n",
       "  (0): Flatten(start_dim=1, end_dim=-1)\n",
       "  (1): Linear(in_features=784, out_features=10, bias=True)\n",
       "  (2): LogSoftmax(dim=-1)\n",
       ")"
      ]
     },
     "execution_count": 14,
     "metadata": {},
     "output_type": "execute_result"
    }
   ],
   "source": [
    "model = nn.Sequential(\n",
    "    nn.Flatten(),\n",
    "    nn.Linear(28*28, 10),\n",
    "    nn.LogSoftmax(-1),\n",
    ")\n",
    "model.cuda()"
   ]
  },
  {
   "cell_type": "code",
   "execution_count": 15,
   "metadata": {},
   "outputs": [],
   "source": [
    "optimizer = AcceleratedSGD(model.parameters(), 1e-3, k=10, mode=\"epoch\", method=\"Levin:u\")\n",
    "loss_fn = nn.NLLLoss()"
   ]
  },
  {
   "cell_type": "code",
   "execution_count": 16,
   "metadata": {},
   "outputs": [],
   "source": [
    "log_file = open(\"SGD-Levin:u.txt\", \"w\")"
   ]
  },
  {
   "cell_type": "code",
   "execution_count": 17,
   "metadata": {
    "tags": []
   },
   "outputs": [
    {
     "name": "stdout",
     "output_type": "stream",
     "text": [
      "Epoch 1\n",
      "Training loss: 1.9598\n",
      "Validation accuracy: 0.7303, validation loss: 1.6877\n",
      "Epoch 2\n",
      "Training loss: 1.4994\n",
      "Validation accuracy: 0.7810, validation loss: 1.3406\n",
      "Epoch 3\n",
      "Training loss: 1.2305\n",
      "Validation accuracy: 0.8053, validation loss: 1.1318\n",
      "Epoch 4\n",
      "Training loss: 1.0632\n",
      "Validation accuracy: 0.8179, validation loss: 0.9961\n",
      "Epoch 5\n",
      "Training loss: 0.9510\n",
      "Validation accuracy: 0.8287, validation loss: 0.9017\n",
      "Epoch 6\n",
      "Training loss: 0.8708\n",
      "Validation accuracy: 0.8355, validation loss: 0.8325\n",
      "Epoch 7\n",
      "Training loss: 0.8106\n",
      "Validation accuracy: 0.8420, validation loss: 0.7793\n",
      "Epoch 8\n",
      "Training loss: 0.7636\n",
      "Validation accuracy: 0.8466, validation loss: 0.7371\n",
      "Epoch 9\n",
      "Training loss: 0.7258\n",
      "Validation accuracy: 0.8510, validation loss: 0.7028\n",
      "Epoch 10\n",
      "Training loss: 0.6946\n",
      "Validation accuracy: 0.8550, validation loss: 0.6741\n",
      "Epoch 11\n",
      "Training loss: 0.6684\n",
      "Validation accuracy: 0.8572, validation loss: 0.6498\n",
      "Epoch 12\n",
      "Training loss: 0.6461\n",
      "Validation accuracy: 0.8596, validation loss: 0.6290\n",
      "Epoch 13\n",
      "Training loss: 0.6268\n",
      "Validation accuracy: 0.8618, validation loss: 0.6109\n",
      "Epoch 14\n",
      "Training loss: 0.6098\n",
      "Validation accuracy: 0.8640, validation loss: 0.5949\n",
      "Epoch 15\n",
      "Training loss: 0.5949\n",
      "Validation accuracy: 0.8653, validation loss: 0.5808\n",
      "Epoch 16\n",
      "Training loss: 0.5815\n",
      "Validation accuracy: 0.8665, validation loss: 0.5681\n",
      "Epoch 17\n",
      "Training loss: 0.5696\n",
      "Validation accuracy: 0.8681, validation loss: 0.5567\n",
      "Epoch 18\n",
      "Training loss: 0.5587\n",
      "Validation accuracy: 0.8692, validation loss: 0.5463\n",
      "Epoch 19\n",
      "Training loss: 0.5489\n",
      "Validation accuracy: 0.8708, validation loss: 0.5369\n",
      "Epoch 20\n",
      "Training loss: 0.5398\n",
      "Validation accuracy: 0.8718, validation loss: 0.5282\n",
      "Epoch 21\n",
      "Training loss: 0.5316\n",
      "Validation accuracy: 0.8731, validation loss: 0.5203\n",
      "Epoch 22\n",
      "Training loss: 0.5239\n",
      "Validation accuracy: 0.8743, validation loss: 0.5129\n",
      "Epoch 23\n",
      "Training loss: 0.5169\n",
      "Validation accuracy: 0.8755, validation loss: 0.5061\n",
      "Epoch 24\n",
      "Training loss: 0.5103\n",
      "Validation accuracy: 0.8769, validation loss: 0.4997\n",
      "Epoch 25\n",
      "Training loss: 0.5042\n",
      "Validation accuracy: 0.8782, validation loss: 0.4938\n",
      "Epoch 26\n",
      "Training loss: 0.4984\n",
      "Validation accuracy: 0.8792, validation loss: 0.4882\n",
      "Epoch 27\n",
      "Training loss: 0.4930\n",
      "Validation accuracy: 0.8805, validation loss: 0.4830\n",
      "Epoch 28\n",
      "Training loss: 0.4880\n",
      "Validation accuracy: 0.8814, validation loss: 0.4781\n",
      "Epoch 29\n",
      "Training loss: 0.4832\n",
      "Validation accuracy: 0.8823, validation loss: 0.4735\n",
      "Epoch 30\n",
      "Training loss: 0.4787\n",
      "Validation accuracy: 0.8831, validation loss: 0.4691\n"
     ]
    }
   ],
   "source": [
    "epochs = 30\n",
    "\n",
    "for epoch in range(epochs):\n",
    "    print(\"Epoch\", epoch+1)\n",
    "    loss_log = []\n",
    "    train_epoch(loss_log)\n",
    "    print(f\"Training loss: {np.mean(loss_log):.4f}\")\n",
    "    optimizer.finish_epoch()\n",
    "    val_acc, val_loss = validation(model, valid_loader)\n",
    "    print(f\"Validation accuracy: {val_acc:.4f}, validation loss: {val_loss:.4f}\")\n",
    "    print(\"Epoch\", epoch+1, \n",
    "          f\"Training loss: {np.mean(loss_log):.4f}, validation accuracy: {val_acc:.4f}, validation loss: {val_loss:.4f}\",\n",
    "          file=log_file, flush=True\n",
    "         )"
   ]
  },
  {
   "cell_type": "code",
   "execution_count": 18,
   "metadata": {},
   "outputs": [
    {
     "name": "stdout",
     "output_type": "stream",
     "text": [
      "Train: (tensor(0.8792, device='cuda:0'), tensor(0.4764, device='cuda:0'))\n",
      "Valid: (tensor(0.8831, device='cuda:0'), tensor(0.4691, device='cuda:0'))\n"
     ]
    }
   ],
   "source": [
    "train_score = validation(model, train_loader)\n",
    "valid_score = validation(model, valid_loader)\n",
    "print(\"Train:\", train_score)\n",
    "print(\"Valid:\", valid_score)\n",
    "print(\"Train:\", train_score, flush=True, file=log_file)\n",
    "print(\"Valid:\", valid_score, flush=True, file=log_file)"
   ]
  },
  {
   "cell_type": "code",
   "execution_count": 19,
   "metadata": {},
   "outputs": [],
   "source": [
    "optimizer.accelerate()"
   ]
  },
  {
   "cell_type": "code",
   "execution_count": 20,
   "metadata": {
    "tags": []
   },
   "outputs": [
    {
     "data": {
      "text/plain": [
       "Sequential(\n",
       "  (0): Flatten(start_dim=1, end_dim=-1)\n",
       "  (1): Linear(in_features=784, out_features=10, bias=True)\n",
       "  (2): LogSoftmax(dim=-1)\n",
       ")"
      ]
     },
     "execution_count": 20,
     "metadata": {},
     "output_type": "execute_result"
    }
   ],
   "source": [
    "optimizer.store_parameters()\n",
    "model.cuda()"
   ]
  },
  {
   "cell_type": "code",
   "execution_count": 21,
   "metadata": {},
   "outputs": [
    {
     "name": "stdout",
     "output_type": "stream",
     "text": [
      "Train: (tensor(0.8800, device='cuda:0'), tensor(0.4736, device='cuda:0'))\n",
      "Valid: (tensor(0.8837, device='cuda:0'), tensor(0.4663, device='cuda:0'))\n"
     ]
    }
   ],
   "source": [
    "train_score = validation(model, train_loader)\n",
    "valid_score = validation(model, valid_loader)\n",
    "print(\"Train:\", train_score)\n",
    "print(\"Valid:\", valid_score)\n",
    "print(\"Train:\", train_score, flush=True, file=log_file)\n",
    "print(\"Valid:\", valid_score, flush=True, file=log_file)"
   ]
  },
  {
   "cell_type": "markdown",
   "metadata": {},
   "source": [
    "## Levin v"
   ]
  },
  {
   "cell_type": "code",
   "execution_count": 22,
   "metadata": {
    "tags": []
   },
   "outputs": [
    {
     "data": {
      "text/plain": [
       "Sequential(\n",
       "  (0): Flatten(start_dim=1, end_dim=-1)\n",
       "  (1): Linear(in_features=784, out_features=10, bias=True)\n",
       "  (2): LogSoftmax(dim=-1)\n",
       ")"
      ]
     },
     "execution_count": 22,
     "metadata": {},
     "output_type": "execute_result"
    }
   ],
   "source": [
    "model = nn.Sequential(\n",
    "    nn.Flatten(),\n",
    "    nn.Linear(28*28, 10),\n",
    "    nn.LogSoftmax(-1),\n",
    ")\n",
    "model.cuda()"
   ]
  },
  {
   "cell_type": "code",
   "execution_count": 23,
   "metadata": {},
   "outputs": [],
   "source": [
    "optimizer = AcceleratedSGD(model.parameters(), 1e-3, k=10, mode=\"epoch\", method=\"Levin:v\")\n",
    "loss_fn = nn.NLLLoss()"
   ]
  },
  {
   "cell_type": "code",
   "execution_count": 24,
   "metadata": {},
   "outputs": [],
   "source": [
    "log_file = open(\"SGD-Levin:v.txt\", \"w\")"
   ]
  },
  {
   "cell_type": "code",
   "execution_count": 25,
   "metadata": {
    "tags": []
   },
   "outputs": [
    {
     "name": "stdout",
     "output_type": "stream",
     "text": [
      "Epoch 1\n",
      "Training loss: 1.9812\n",
      "Validation accuracy: 0.7346, validation loss: 1.7001\n",
      "Epoch 2\n",
      "Training loss: 1.5075\n",
      "Validation accuracy: 0.7923, validation loss: 1.3468\n",
      "Epoch 3\n",
      "Training loss: 1.2341\n",
      "Validation accuracy: 0.8110, validation loss: 1.1350\n",
      "Epoch 4\n",
      "Training loss: 1.0648\n",
      "Validation accuracy: 0.8241, validation loss: 0.9979\n",
      "Epoch 5\n",
      "Training loss: 0.9516\n",
      "Validation accuracy: 0.8322, validation loss: 0.9030\n",
      "Epoch 6\n",
      "Training loss: 0.8710\n",
      "Validation accuracy: 0.8390, validation loss: 0.8334\n",
      "Epoch 7\n",
      "Training loss: 0.8105\n",
      "Validation accuracy: 0.8448, validation loss: 0.7801\n",
      "Epoch 8\n",
      "Training loss: 0.7634\n",
      "Validation accuracy: 0.8487, validation loss: 0.7379\n",
      "Epoch 9\n",
      "Training loss: 0.7256\n",
      "Validation accuracy: 0.8519, validation loss: 0.7035\n",
      "Epoch 10\n",
      "Training loss: 0.6944\n",
      "Validation accuracy: 0.8553, validation loss: 0.6748\n",
      "Epoch 11\n",
      "Training loss: 0.6683\n",
      "Validation accuracy: 0.8579, validation loss: 0.6507\n",
      "Epoch 12\n",
      "Training loss: 0.6460\n",
      "Validation accuracy: 0.8612, validation loss: 0.6298\n",
      "Epoch 13\n",
      "Training loss: 0.6267\n",
      "Validation accuracy: 0.8628, validation loss: 0.6117\n",
      "Epoch 14\n",
      "Training loss: 0.6097\n",
      "Validation accuracy: 0.8645, validation loss: 0.5958\n",
      "Epoch 15\n",
      "Training loss: 0.5948\n",
      "Validation accuracy: 0.8658, validation loss: 0.5816\n",
      "Epoch 16\n",
      "Training loss: 0.5815\n",
      "Validation accuracy: 0.8683, validation loss: 0.5690\n",
      "Epoch 17\n",
      "Training loss: 0.5695\n",
      "Validation accuracy: 0.8700, validation loss: 0.5576\n",
      "Epoch 18\n",
      "Training loss: 0.5587\n",
      "Validation accuracy: 0.8707, validation loss: 0.5472\n",
      "Epoch 19\n",
      "Training loss: 0.5489\n",
      "Validation accuracy: 0.8720, validation loss: 0.5378\n",
      "Epoch 20\n",
      "Training loss: 0.5399\n",
      "Validation accuracy: 0.8735, validation loss: 0.5291\n",
      "Epoch 21\n",
      "Training loss: 0.5316\n",
      "Validation accuracy: 0.8749, validation loss: 0.5212\n",
      "Epoch 22\n",
      "Training loss: 0.5239\n",
      "Validation accuracy: 0.8766, validation loss: 0.5138\n",
      "Epoch 23\n",
      "Training loss: 0.5169\n",
      "Validation accuracy: 0.8782, validation loss: 0.5070\n",
      "Epoch 24\n",
      "Training loss: 0.5103\n",
      "Validation accuracy: 0.8792, validation loss: 0.5006\n",
      "Epoch 25\n",
      "Training loss: 0.5042\n",
      "Validation accuracy: 0.8802, validation loss: 0.4947\n",
      "Epoch 26\n",
      "Training loss: 0.4985\n",
      "Validation accuracy: 0.8815, validation loss: 0.4892\n",
      "Epoch 27\n",
      "Training loss: 0.4931\n",
      "Validation accuracy: 0.8823, validation loss: 0.4839\n",
      "Epoch 28\n",
      "Training loss: 0.4880\n",
      "Validation accuracy: 0.8827, validation loss: 0.4790\n",
      "Epoch 29\n",
      "Training loss: 0.4833\n",
      "Validation accuracy: 0.8830, validation loss: 0.4744\n",
      "Epoch 30\n",
      "Training loss: 0.4788\n",
      "Validation accuracy: 0.8837, validation loss: 0.4700\n"
     ]
    }
   ],
   "source": [
    "epochs = 30\n",
    "\n",
    "for epoch in range(epochs):\n",
    "    print(\"Epoch\", epoch+1)\n",
    "    loss_log = []\n",
    "    train_epoch(loss_log)\n",
    "    print(f\"Training loss: {np.mean(loss_log):.4f}\")\n",
    "    optimizer.finish_epoch()\n",
    "    val_acc, val_loss = validation(model, valid_loader)\n",
    "    print(f\"Validation accuracy: {val_acc:.4f}, validation loss: {val_loss:.4f}\")\n",
    "    print(\"Epoch\", epoch+1, \n",
    "          f\"Training loss: {np.mean(loss_log):.4f}, validation accuracy: {val_acc:.4f}, validation loss: {val_loss:.4f}\",\n",
    "          file=log_file, flush=True\n",
    "         )"
   ]
  },
  {
   "cell_type": "code",
   "execution_count": 26,
   "metadata": {},
   "outputs": [
    {
     "name": "stdout",
     "output_type": "stream",
     "text": [
      "Train: (tensor(0.8787, device='cuda:0'), tensor(0.4765, device='cuda:0'))\n",
      "Valid: (tensor(0.8837, device='cuda:0'), tensor(0.4700, device='cuda:0'))\n"
     ]
    }
   ],
   "source": [
    "train_score = validation(model, train_loader)\n",
    "valid_score = validation(model, valid_loader)\n",
    "print(\"Train:\", train_score)\n",
    "print(\"Valid:\", valid_score)\n",
    "print(\"Train:\", train_score, flush=True, file=log_file)\n",
    "print(\"Valid:\", valid_score, flush=True, file=log_file)"
   ]
  },
  {
   "cell_type": "code",
   "execution_count": 27,
   "metadata": {},
   "outputs": [],
   "source": [
    "optimizer.accelerate()"
   ]
  },
  {
   "cell_type": "code",
   "execution_count": 28,
   "metadata": {},
   "outputs": [
    {
     "data": {
      "text/plain": [
       "Sequential(\n",
       "  (0): Flatten(start_dim=1, end_dim=-1)\n",
       "  (1): Linear(in_features=784, out_features=10, bias=True)\n",
       "  (2): LogSoftmax(dim=-1)\n",
       ")"
      ]
     },
     "execution_count": 28,
     "metadata": {},
     "output_type": "execute_result"
    }
   ],
   "source": [
    "optimizer.store_parameters()\n",
    "model.cuda()"
   ]
  },
  {
   "cell_type": "code",
   "execution_count": 29,
   "metadata": {},
   "outputs": [
    {
     "name": "stdout",
     "output_type": "stream",
     "text": [
      "Train: (tensor(0.8757, device='cuda:0'), tensor(0.4929, device='cuda:0'))\n",
      "Valid: (tensor(0.8819, device='cuda:0'), tensor(0.4865, device='cuda:0'))\n"
     ]
    }
   ],
   "source": [
    "train_score = validation(model, train_loader)\n",
    "valid_score = validation(model, valid_loader)\n",
    "print(\"Train:\", train_score)\n",
    "print(\"Valid:\", valid_score)\n",
    "print(\"Train:\", train_score, flush=True, file=log_file)\n",
    "print(\"Valid:\", valid_score, flush=True, file=log_file)"
   ]
  },
  {
   "cell_type": "code",
   "execution_count": null,
   "metadata": {},
   "outputs": [],
   "source": []
  }
 ],
 "metadata": {
  "kernelspec": {
   "display_name": "Python 3 (Torch)",
   "language": "python",
   "name": "torch"
  },
  "language_info": {
   "codemirror_mode": {
    "name": "ipython",
    "version": 3
   },
   "file_extension": ".py",
   "mimetype": "text/x-python",
   "name": "python",
   "nbconvert_exporter": "python",
   "pygments_lexer": "ipython3",
   "version": "3.8.5"
  }
 },
 "nbformat": 4,
 "nbformat_minor": 4
}
