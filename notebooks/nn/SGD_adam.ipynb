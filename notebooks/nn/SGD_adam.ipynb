{
 "cells": [
  {
   "cell_type": "code",
   "execution_count": 8,
   "metadata": {},
   "outputs": [],
   "source": [
    "import sys\n",
    "sys.path.insert(0, \"../..\")"
   ]
  },
  {
   "cell_type": "code",
   "execution_count": 9,
   "metadata": {},
   "outputs": [],
   "source": [
    "import torch\n",
    "from torch import nn\n",
    "import numpy as np\n",
    "from copy import deepcopy\n",
    "\n",
    "from nn_extrapolation import AcceleratedSGD\n",
    "from nn_utils import *"
   ]
  },
  {
   "cell_type": "code",
   "execution_count": 10,
   "metadata": {},
   "outputs": [
    {
     "data": {
      "text/plain": [
       "True"
      ]
     },
     "execution_count": 10,
     "metadata": {},
     "output_type": "execute_result"
    }
   ],
   "source": [
    "torch.cuda.is_available()"
   ]
  },
  {
   "cell_type": "code",
   "execution_count": 11,
   "metadata": {},
   "outputs": [],
   "source": [
    "trainer = Trainer(\n",
    "    device=\"cuda\",\n",
    "    loss_fn=nn.NLLLoss(reduction=\"mean\"),\n",
    "    val_loss_fn=nn.NLLLoss(reduction=\"sum\"),\n",
    ")"
   ]
  },
  {
   "cell_type": "code",
   "execution_count": 12,
   "metadata": {},
   "outputs": [],
   "source": [
    "dl = load_dataset(\n",
    "    dataset=\"mnist\", \n",
    "    root=\"../../../MNIST\", \n",
    "    download=False, \n",
    "    validation_split=0.2,\n",
    "    batch_size=64, \n",
    "    num_workers=2,\n",
    ")"
   ]
  },
  {
   "cell_type": "code",
   "execution_count": 13,
   "metadata": {},
   "outputs": [],
   "source": [
    "def make_model():\n",
    "    return nn.Sequential(\n",
    "        nn.Conv2d(1, 32, 3),\n",
    "        nn.ReLU(),\n",
    "        nn.Conv2d(32, 32, 3),\n",
    "        nn.ReLU(),\n",
    "        nn.MaxPool2d(2),\n",
    "        nn.Conv2d(32, 64, 3),\n",
    "        nn.ReLU(),\n",
    "        nn.Conv2d(64, 64, 3),\n",
    "        nn.ReLU(),\n",
    "        nn.MaxPool2d(2),\n",
    "        nn.Flatten(),\n",
    "        nn.Linear(4*4*64, 128),\n",
    "        nn.ReLU(),\n",
    "        nn.Linear(128, 10),\n",
    "        nn.LogSoftmax(-1),\n",
    "    )"
   ]
  },
  {
   "cell_type": "markdown",
   "metadata": {
    "tags": []
   },
   "source": [
    "## Epoch"
   ]
  },
  {
   "cell_type": "code",
   "execution_count": 17,
   "metadata": {},
   "outputs": [
    {
     "data": {
      "text/plain": [
       "Sequential(\n",
       "  (0): Conv2d(1, 32, kernel_size=(3, 3), stride=(1, 1))\n",
       "  (1): ReLU()\n",
       "  (2): Conv2d(32, 32, kernel_size=(3, 3), stride=(1, 1))\n",
       "  (3): ReLU()\n",
       "  (4): MaxPool2d(kernel_size=2, stride=2, padding=0, dilation=1, ceil_mode=False)\n",
       "  (5): Conv2d(32, 64, kernel_size=(3, 3), stride=(1, 1))\n",
       "  (6): ReLU()\n",
       "  (7): Conv2d(64, 64, kernel_size=(3, 3), stride=(1, 1))\n",
       "  (8): ReLU()\n",
       "  (9): MaxPool2d(kernel_size=2, stride=2, padding=0, dilation=1, ceil_mode=False)\n",
       "  (10): Flatten(start_dim=1, end_dim=-1)\n",
       "  (11): Linear(in_features=1024, out_features=128, bias=True)\n",
       "  (12): ReLU()\n",
       "  (13): Linear(in_features=128, out_features=10, bias=True)\n",
       "  (14): LogSoftmax(dim=-1)\n",
       ")"
      ]
     },
     "execution_count": 17,
     "metadata": {},
     "output_type": "execute_result"
    }
   ],
   "source": [
    "model = make_model()\n",
    "model.to(trainer.device)"
   ]
  },
  {
   "cell_type": "code",
   "execution_count": 18,
   "metadata": {},
   "outputs": [],
   "source": [
    "optimizer = torch.optim.Adam(model.parameters(), 1e-3, weight_decay=1e-5)\n",
    "logger = Logger(\"SGD_momentum_adam.txt\")"
   ]
  },
  {
   "cell_type": "code",
   "execution_count": 19,
   "metadata": {
    "tags": []
   },
   "outputs": [
    {
     "name": "stdout",
     "output_type": "stream",
     "text": [
      "100%|██████████| 750/750 [00:13<00:00, 54.91it/s, loss=0.1697]\n",
      "Epoch 1 | Training loss: 0.1697, validation accuracy: 0.9838, validation loss: 0.0576\n",
      "100%|██████████| 750/750 [00:13<00:00, 56.90it/s, loss=0.0461]\n",
      "Epoch 2 | Training loss: 0.0461, validation accuracy: 0.9871, validation loss: 0.0445\n",
      "100%|██████████| 750/750 [00:13<00:00, 56.62it/s, loss=0.0319]\n",
      "Epoch 3 | Training loss: 0.0319, validation accuracy: 0.9892, validation loss: 0.0375\n",
      "100%|██████████| 750/750 [00:13<00:00, 54.73it/s, loss=0.0252]\n",
      "Epoch 4 | Training loss: 0.0252, validation accuracy: 0.9872, validation loss: 0.0402\n",
      "100%|██████████| 750/750 [00:13<00:00, 56.45it/s, loss=0.0197]\n",
      "Epoch 5 | Training loss: 0.0197, validation accuracy: 0.9890, validation loss: 0.0383\n",
      "100%|██████████| 750/750 [00:13<00:00, 56.72it/s, loss=0.0157]\n",
      "Epoch 6 | Training loss: 0.0157, validation accuracy: 0.9891, validation loss: 0.0414\n",
      "100%|██████████| 750/750 [00:13<00:00, 55.29it/s, loss=0.0134]\n",
      "Epoch 7 | Training loss: 0.0134, validation accuracy: 0.9902, validation loss: 0.0415\n",
      "100%|██████████| 750/750 [00:13<00:00, 54.78it/s, loss=0.0125]\n",
      "Epoch 8 | Training loss: 0.0125, validation accuracy: 0.9898, validation loss: 0.0467\n",
      "100%|██████████| 750/750 [00:13<00:00, 56.72it/s, loss=0.0115]\n",
      "Epoch 9 | Training loss: 0.0115, validation accuracy: 0.9903, validation loss: 0.0391\n",
      "100%|██████████| 750/750 [00:13<00:00, 54.40it/s, loss=0.0076]\n",
      "Epoch 10 | Training loss: 0.0076, validation accuracy: 0.9889, validation loss: 0.0459\n",
      "100%|██████████| 750/750 [00:13<00:00, 57.06it/s, loss=0.0097]\n",
      "Epoch 11 | Training loss: 0.0097, validation accuracy: 0.9922, validation loss: 0.0349\n",
      "100%|██████████| 750/750 [00:13<00:00, 56.83it/s, loss=0.0065]\n",
      "Epoch 12 | Training loss: 0.0065, validation accuracy: 0.9904, validation loss: 0.0400\n",
      "100%|██████████| 750/750 [00:13<00:00, 56.05it/s, loss=0.0068]\n",
      "Epoch 13 | Training loss: 0.0068, validation accuracy: 0.9915, validation loss: 0.0477\n",
      "100%|██████████| 750/750 [00:13<00:00, 53.78it/s, loss=0.0076]\n",
      "Epoch 14 | Training loss: 0.0076, validation accuracy: 0.9912, validation loss: 0.0384\n",
      "100%|██████████| 750/750 [00:13<00:00, 56.61it/s, loss=0.0051]\n",
      "Epoch 15 | Training loss: 0.0051, validation accuracy: 0.9912, validation loss: 0.0548\n",
      "100%|██████████| 750/750 [00:13<00:00, 54.18it/s, loss=0.0069]\n",
      "Epoch 16 | Training loss: 0.0069, validation accuracy: 0.9902, validation loss: 0.0548\n",
      "100%|██████████| 750/750 [00:13<00:00, 56.95it/s, loss=0.0079]\n",
      "Epoch 17 | Training loss: 0.0079, validation accuracy: 0.9912, validation loss: 0.0430\n",
      "100%|██████████| 750/750 [00:13<00:00, 57.33it/s, loss=0.0032]\n",
      "Epoch 18 | Training loss: 0.0032, validation accuracy: 0.9898, validation loss: 0.0504\n",
      "100%|██████████| 750/750 [00:12<00:00, 57.81it/s, loss=0.0029]\n",
      "Epoch 19 | Training loss: 0.0029, validation accuracy: 0.9907, validation loss: 0.0591\n",
      "100%|██████████| 750/750 [00:13<00:00, 57.06it/s, loss=0.0069]\n",
      "Epoch 20 | Training loss: 0.0069, validation accuracy: 0.9922, validation loss: 0.0415\n",
      "100%|██████████| 750/750 [00:13<00:00, 56.53it/s, loss=0.0051]\n",
      "Epoch 21 | Training loss: 0.0051, validation accuracy: 0.9900, validation loss: 0.0546\n",
      "100%|██████████| 750/750 [00:13<00:00, 57.09it/s, loss=0.0044]\n",
      "Epoch 22 | Training loss: 0.0044, validation accuracy: 0.9928, validation loss: 0.0437\n",
      "100%|██████████| 750/750 [00:13<00:00, 56.63it/s, loss=0.0035]\n",
      "Epoch 23 | Training loss: 0.0035, validation accuracy: 0.9923, validation loss: 0.0438\n",
      "100%|██████████| 750/750 [00:13<00:00, 55.88it/s, loss=0.0046]\n",
      "Epoch 24 | Training loss: 0.0046, validation accuracy: 0.9909, validation loss: 0.0516\n",
      "100%|██████████| 750/750 [00:13<00:00, 57.53it/s, loss=0.0048]\n",
      "Epoch 25 | Training loss: 0.0048, validation accuracy: 0.9913, validation loss: 0.0512\n",
      "100%|██████████| 750/750 [00:12<00:00, 58.29it/s, loss=0.0037]\n",
      "Epoch 26 | Training loss: 0.0037, validation accuracy: 0.9896, validation loss: 0.0619\n",
      "100%|██████████| 750/750 [00:13<00:00, 57.63it/s, loss=0.0046]\n",
      "Epoch 27 | Training loss: 0.0046, validation accuracy: 0.9914, validation loss: 0.0459\n",
      "100%|██████████| 750/750 [00:12<00:00, 58.00it/s, loss=0.0031]\n",
      "Epoch 28 | Training loss: 0.0031, validation accuracy: 0.9924, validation loss: 0.0449\n",
      "100%|██████████| 750/750 [00:13<00:00, 56.01it/s, loss=0.0035]\n",
      "Epoch 29 | Training loss: 0.0035, validation accuracy: 0.9929, validation loss: 0.0488\n",
      "100%|██████████| 750/750 [00:13<00:00, 57.63it/s, loss=0.0037]\n",
      "Epoch 30 | Training loss: 0.0037, validation accuracy: 0.9896, validation loss: 0.0642\n"
     ]
    }
   ],
   "source": [
    "epochs = 30\n",
    "\n",
    "for epoch in range(epochs):\n",
    "    train_loss = trainer.train_epoch(model, optimizer, dl[\"train\"])\n",
    "    val_acc, val_loss = trainer.validation(model, dl[\"valid\"])\n",
    "    logger.log(\"Epoch\", epoch+1, \"|\", \n",
    "          f\"Training loss: {train_loss:.4f}, validation accuracy: {val_acc:.4f}, validation loss: {val_loss:.4f}\")"
   ]
  },
  {
   "cell_type": "code",
   "execution_count": 20,
   "metadata": {},
   "outputs": [
    {
     "name": "stdout",
     "output_type": "stream",
     "text": [
      "Train: (0.9985833333333334, 0.004241814148521134)\n",
      "Valid: (0.9895833333333334, 0.06418128799728837)\n"
     ]
    }
   ],
   "source": [
    "train_score = trainer.validation(model, dl[\"train\"])\n",
    "valid_score = trainer.validation(model, dl[\"valid\"])\n",
    "logger.log(\"Train:\", train_score)\n",
    "logger.log(\"Valid:\", valid_score)"
   ]
  },
  {
   "cell_type": "code",
   "execution_count": null,
   "metadata": {},
   "outputs": [],
   "source": []
  }
 ],
 "metadata": {
  "kernelspec": {
   "display_name": "Python 3 (Torch)",
   "language": "python",
   "name": "torch"
  },
  "language_info": {
   "codemirror_mode": {
    "name": "ipython",
    "version": 3
   },
   "file_extension": ".py",
   "mimetype": "text/x-python",
   "name": "python",
   "nbconvert_exporter": "python",
   "pygments_lexer": "ipython3",
   "version": "3.8.11"
  }
 },
 "nbformat": 4,
 "nbformat_minor": 4
}
