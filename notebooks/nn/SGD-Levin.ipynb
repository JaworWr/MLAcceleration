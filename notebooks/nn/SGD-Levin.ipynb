{
 "cells": [
  {
   "cell_type": "code",
   "execution_count": 1,
   "metadata": {},
   "outputs": [],
   "source": [
    "import sys\n",
    "sys.path.insert(0, \"../..\")"
   ]
  },
  {
   "cell_type": "code",
   "execution_count": 2,
   "metadata": {},
   "outputs": [],
   "source": [
    "import torch\n",
    "from torch import nn\n",
    "import numpy as np\n",
    "from copy import deepcopy\n",
    "\n",
    "from nn_extrapolation import AcceleratedSGD\n",
    "from nn_utils import *"
   ]
  },
  {
   "cell_type": "code",
   "execution_count": 3,
   "metadata": {},
   "outputs": [
    {
     "data": {
      "text/plain": [
       "True"
      ]
     },
     "execution_count": 3,
     "metadata": {},
     "output_type": "execute_result"
    }
   ],
   "source": [
    "torch.cuda.is_available()"
   ]
  },
  {
   "cell_type": "code",
   "execution_count": 4,
   "metadata": {},
   "outputs": [],
   "source": [
    "trainer = Trainer(\n",
    "    device=\"cuda\",\n",
    "    loss_fn=nn.NLLLoss(reduction=\"mean\"),\n",
    "    val_loss_fn=nn.NLLLoss(reduction=\"sum\"),\n",
    ")"
   ]
  },
  {
   "cell_type": "code",
   "execution_count": 5,
   "metadata": {},
   "outputs": [],
   "source": [
    "dl = load_dataset(\n",
    "    dataset=\"mnist\", \n",
    "    root=\"../../../MNIST\", \n",
    "    download=False, \n",
    "    validation_split=0.2,\n",
    "    batch_size=64, \n",
    "    num_workers=2,\n",
    ")"
   ]
  },
  {
   "cell_type": "markdown",
   "metadata": {},
   "source": [
    "## Levin t"
   ]
  },
  {
   "cell_type": "code",
   "execution_count": 6,
   "metadata": {
    "tags": []
   },
   "outputs": [
    {
     "data": {
      "text/plain": [
       "Sequential(\n",
       "  (0): Conv2d(1, 32, kernel_size=(3, 3), stride=(1, 1))\n",
       "  (1): ReLU()\n",
       "  (2): Conv2d(32, 32, kernel_size=(3, 3), stride=(1, 1))\n",
       "  (3): ReLU()\n",
       "  (4): MaxPool2d(kernel_size=2, stride=2, padding=0, dilation=1, ceil_mode=False)\n",
       "  (5): Conv2d(32, 64, kernel_size=(3, 3), stride=(1, 1))\n",
       "  (6): ReLU()\n",
       "  (7): Conv2d(64, 64, kernel_size=(3, 3), stride=(1, 1))\n",
       "  (8): ReLU()\n",
       "  (9): MaxPool2d(kernel_size=2, stride=2, padding=0, dilation=1, ceil_mode=False)\n",
       "  (10): Flatten(start_dim=1, end_dim=-1)\n",
       "  (11): Linear(in_features=1024, out_features=128, bias=True)\n",
       "  (12): ReLU()\n",
       "  (13): Linear(in_features=128, out_features=10, bias=True)\n",
       "  (14): LogSoftmax(dim=-1)\n",
       ")"
      ]
     },
     "execution_count": 6,
     "metadata": {},
     "output_type": "execute_result"
    }
   ],
   "source": [
    "model = nn.Sequential(\n",
    "    nn.Conv2d(1, 32, 3),\n",
    "    nn.ReLU(),\n",
    "    nn.Conv2d(32, 32, 3),\n",
    "    nn.ReLU(),\n",
    "    nn.MaxPool2d(2),\n",
    "    nn.Conv2d(32, 64, 3),\n",
    "    nn.ReLU(),\n",
    "    nn.Conv2d(64, 64, 3),\n",
    "    nn.ReLU(),\n",
    "    nn.MaxPool2d(2),\n",
    "    nn.Flatten(),\n",
    "    nn.Linear(4*4*64, 128),\n",
    "    nn.ReLU(),\n",
    "    nn.Linear(128, 10),\n",
    "    nn.LogSoftmax(-1),\n",
    ")\n",
    "model.cuda()"
   ]
  },
  {
   "cell_type": "code",
   "execution_count": 7,
   "metadata": {},
   "outputs": [],
   "source": [
    "optimizer = AcceleratedSGD(model.parameters(), 1e-3, k=4, mode=\"epoch\", method=\"Levin:t\")\n",
    "logger = Logger(\"SGD-levin:t:ep20:k=4\")"
   ]
  },
  {
   "cell_type": "code",
   "execution_count": 8,
   "metadata": {
    "tags": []
   },
   "outputs": [
    {
     "name": "stdout",
     "output_type": "stream",
     "text": [
      "100%|██████████| 750/750 [00:12<00:00, 57.71it/s, loss=2.2994]\n",
      "Epoch 1 | Training loss: 2.2994, validation accuracy: 0.0975, validation loss: 2.2951\n",
      "100%|██████████| 750/750 [00:12<00:00, 58.25it/s, loss=2.2871]\n",
      "Epoch 2 | Training loss: 2.2871, validation accuracy: 0.3467, validation loss: 2.2762\n",
      "100%|██████████| 750/750 [00:12<00:00, 59.30it/s, loss=2.2388]\n",
      "Epoch 3 | Training loss: 2.2388, validation accuracy: 0.5018, validation loss: 2.1553\n",
      "100%|██████████| 750/750 [00:12<00:00, 59.48it/s, loss=1.4344]\n",
      "Epoch 4 | Training loss: 1.4344, validation accuracy: 0.8310, validation loss: 0.5880\n",
      "100%|██████████| 750/750 [00:12<00:00, 59.58it/s, loss=0.4990]\n",
      "Epoch 5 | Training loss: 0.4990, validation accuracy: 0.8776, validation loss: 0.4064\n",
      "100%|██████████| 750/750 [00:12<00:00, 59.39it/s, loss=0.3933]\n",
      "Epoch 6 | Training loss: 0.3933, validation accuracy: 0.8976, validation loss: 0.3315\n",
      "100%|██████████| 750/750 [00:13<00:00, 56.59it/s, loss=0.3324]\n",
      "Epoch 7 | Training loss: 0.3324, validation accuracy: 0.9132, validation loss: 0.2870\n",
      "100%|██████████| 750/750 [00:13<00:00, 56.83it/s, loss=0.2857]\n",
      "Epoch 8 | Training loss: 0.2857, validation accuracy: 0.9226, validation loss: 0.2556\n",
      "100%|██████████| 750/750 [00:13<00:00, 57.66it/s, loss=0.2497]\n",
      "Epoch 9 | Training loss: 0.2497, validation accuracy: 0.9324, validation loss: 0.2223\n",
      "100%|██████████| 750/750 [00:13<00:00, 56.28it/s, loss=0.2193]\n",
      "Epoch 10 | Training loss: 0.2193, validation accuracy: 0.9426, validation loss: 0.1944\n",
      "100%|██████████| 750/750 [00:13<00:00, 57.55it/s, loss=0.1951]\n",
      "Epoch 11 | Training loss: 0.1951, validation accuracy: 0.9508, validation loss: 0.1690\n",
      "100%|██████████| 750/750 [00:12<00:00, 58.81it/s, loss=0.1751]\n",
      "Epoch 12 | Training loss: 0.1751, validation accuracy: 0.9528, validation loss: 0.1630\n",
      "100%|██████████| 750/750 [00:12<00:00, 58.43it/s, loss=0.1591]\n",
      "Epoch 13 | Training loss: 0.1591, validation accuracy: 0.9533, validation loss: 0.1548\n",
      "100%|██████████| 750/750 [00:13<00:00, 56.30it/s, loss=0.1448]\n",
      "Epoch 14 | Training loss: 0.1448, validation accuracy: 0.9623, validation loss: 0.1321\n",
      "100%|██████████| 750/750 [00:12<00:00, 59.35it/s, loss=0.1348]\n",
      "Epoch 15 | Training loss: 0.1348, validation accuracy: 0.9624, validation loss: 0.1280\n",
      "100%|██████████| 750/750 [00:13<00:00, 56.91it/s, loss=0.1252]\n",
      "Epoch 16 | Training loss: 0.1252, validation accuracy: 0.9621, validation loss: 0.1293\n",
      "100%|██████████| 750/750 [00:13<00:00, 56.98it/s, loss=0.1165]\n",
      "Epoch 17 | Training loss: 0.1165, validation accuracy: 0.9662, validation loss: 0.1132\n",
      "100%|██████████| 750/750 [00:13<00:00, 55.10it/s, loss=0.1101]\n",
      "Epoch 18 | Training loss: 0.1101, validation accuracy: 0.9671, validation loss: 0.1099\n",
      "100%|██████████| 750/750 [00:12<00:00, 59.05it/s, loss=0.1034]\n",
      "Epoch 19 | Training loss: 0.1034, validation accuracy: 0.9698, validation loss: 0.1040\n",
      "100%|██████████| 750/750 [00:13<00:00, 57.59it/s, loss=0.0982]\n",
      "Epoch 20 | Training loss: 0.0982, validation accuracy: 0.9704, validation loss: 0.0979\n"
     ]
    }
   ],
   "source": [
    "epochs = 20\n",
    "\n",
    "for epoch in range(epochs):\n",
    "    train_loss = trainer.train_epoch(model, optimizer, dl[\"train\"])\n",
    "    optimizer.finish_epoch()\n",
    "    val_acc, val_loss = trainer.validation(model, dl[\"valid\"])\n",
    "    logger.log(\"Epoch\", epoch+1, \"|\", \n",
    "          f\"Training loss: {train_loss:.4f}, validation accuracy: {val_acc:.4f}, validation loss: {val_loss:.4f}\")"
   ]
  },
  {
   "cell_type": "code",
   "execution_count": 9,
   "metadata": {},
   "outputs": [
    {
     "name": "stdout",
     "output_type": "stream",
     "text": [
      "Train: (0.973, 0.0901744787854453)\n",
      "Valid: (0.9704166666666667, 0.09790041659027338)\n"
     ]
    }
   ],
   "source": [
    "train_score = trainer.validation(model, dl[\"train\"])\n",
    "valid_score = trainer.validation(model, dl[\"valid\"])\n",
    "logger.log(\"Train:\", train_score)\n",
    "logger.log(\"Valid:\", valid_score)"
   ]
  },
  {
   "cell_type": "code",
   "execution_count": 10,
   "metadata": {},
   "outputs": [],
   "source": [
    "optimizer.accelerate()"
   ]
  },
  {
   "cell_type": "code",
   "execution_count": 11,
   "metadata": {},
   "outputs": [
    {
     "data": {
      "text/plain": [
       "Sequential(\n",
       "  (0): Conv2d(1, 32, kernel_size=(3, 3), stride=(1, 1))\n",
       "  (1): ReLU()\n",
       "  (2): Conv2d(32, 32, kernel_size=(3, 3), stride=(1, 1))\n",
       "  (3): ReLU()\n",
       "  (4): MaxPool2d(kernel_size=2, stride=2, padding=0, dilation=1, ceil_mode=False)\n",
       "  (5): Conv2d(32, 64, kernel_size=(3, 3), stride=(1, 1))\n",
       "  (6): ReLU()\n",
       "  (7): Conv2d(64, 64, kernel_size=(3, 3), stride=(1, 1))\n",
       "  (8): ReLU()\n",
       "  (9): MaxPool2d(kernel_size=2, stride=2, padding=0, dilation=1, ceil_mode=False)\n",
       "  (10): Flatten(start_dim=1, end_dim=-1)\n",
       "  (11): Linear(in_features=1024, out_features=128, bias=True)\n",
       "  (12): ReLU()\n",
       "  (13): Linear(in_features=128, out_features=10, bias=True)\n",
       "  (14): LogSoftmax(dim=-1)\n",
       ")"
      ]
     },
     "execution_count": 11,
     "metadata": {},
     "output_type": "execute_result"
    }
   ],
   "source": [
    "optimizer.store_parameters()\n",
    "model.cuda()"
   ]
  },
  {
   "cell_type": "code",
   "execution_count": 12,
   "metadata": {},
   "outputs": [
    {
     "name": "stdout",
     "output_type": "stream",
     "text": [
      "Train: (0.9709166666666667, 0.0966013014105459)\n",
      "Valid: (0.9701666666666666, 0.1036723493685325)\n"
     ]
    }
   ],
   "source": [
    "train_score = trainer.validation(model, dl[\"train\"])\n",
    "valid_score = trainer.validation(model, dl[\"valid\"])\n",
    "logger.log(\"Train:\", train_score)\n",
    "logger.log(\"Valid:\", valid_score)"
   ]
  },
  {
   "cell_type": "markdown",
   "metadata": {},
   "source": [
    "## Levin u"
   ]
  },
  {
   "cell_type": "code",
   "execution_count": 13,
   "metadata": {
    "tags": []
   },
   "outputs": [
    {
     "data": {
      "text/plain": [
       "Sequential(\n",
       "  (0): Conv2d(1, 32, kernel_size=(3, 3), stride=(1, 1))\n",
       "  (1): ReLU()\n",
       "  (2): Conv2d(32, 32, kernel_size=(3, 3), stride=(1, 1))\n",
       "  (3): ReLU()\n",
       "  (4): MaxPool2d(kernel_size=2, stride=2, padding=0, dilation=1, ceil_mode=False)\n",
       "  (5): Conv2d(32, 64, kernel_size=(3, 3), stride=(1, 1))\n",
       "  (6): ReLU()\n",
       "  (7): Conv2d(64, 64, kernel_size=(3, 3), stride=(1, 1))\n",
       "  (8): ReLU()\n",
       "  (9): MaxPool2d(kernel_size=2, stride=2, padding=0, dilation=1, ceil_mode=False)\n",
       "  (10): Flatten(start_dim=1, end_dim=-1)\n",
       "  (11): Linear(in_features=1024, out_features=128, bias=True)\n",
       "  (12): ReLU()\n",
       "  (13): Linear(in_features=128, out_features=10, bias=True)\n",
       "  (14): LogSoftmax(dim=-1)\n",
       ")"
      ]
     },
     "execution_count": 13,
     "metadata": {},
     "output_type": "execute_result"
    }
   ],
   "source": [
    "model = nn.Sequential(\n",
    "    nn.Conv2d(1, 32, 3),\n",
    "    nn.ReLU(),\n",
    "    nn.Conv2d(32, 32, 3),\n",
    "    nn.ReLU(),\n",
    "    nn.MaxPool2d(2),\n",
    "    nn.Conv2d(32, 64, 3),\n",
    "    nn.ReLU(),\n",
    "    nn.Conv2d(64, 64, 3),\n",
    "    nn.ReLU(),\n",
    "    nn.MaxPool2d(2),\n",
    "    nn.Flatten(),\n",
    "    nn.Linear(4*4*64, 128),\n",
    "    nn.ReLU(),\n",
    "    nn.Linear(128, 10),\n",
    "    nn.LogSoftmax(-1),\n",
    ")\n",
    "model.cuda()"
   ]
  },
  {
   "cell_type": "code",
   "execution_count": 14,
   "metadata": {},
   "outputs": [],
   "source": [
    "optimizer = AcceleratedSGD(model.parameters(), 1e-3, k=4, mode=\"epoch\", method=\"Levin:u\")\n",
    "logger = Logger(\"SGD-levin:u:ep20:k=4\")"
   ]
  },
  {
   "cell_type": "code",
   "execution_count": 15,
   "metadata": {
    "tags": []
   },
   "outputs": [
    {
     "name": "stdout",
     "output_type": "stream",
     "text": [
      "100%|██████████| 750/750 [00:12<00:00, 58.11it/s, loss=2.2953]\n",
      "Epoch 1 | Training loss: 2.2953, validation accuracy: 0.1350, validation loss: 2.2847\n",
      "100%|██████████| 750/750 [00:12<00:00, 58.62it/s, loss=2.2561]\n",
      "Epoch 2 | Training loss: 2.2561, validation accuracy: 0.5682, validation loss: 2.1973\n",
      "100%|██████████| 750/750 [00:12<00:00, 58.31it/s, loss=1.6071]\n",
      "Epoch 3 | Training loss: 1.6071, validation accuracy: 0.8318, validation loss: 0.6260\n",
      "100%|██████████| 750/750 [00:12<00:00, 58.04it/s, loss=0.4850]\n",
      "Epoch 4 | Training loss: 0.4850, validation accuracy: 0.8898, validation loss: 0.3704\n",
      "100%|██████████| 750/750 [00:12<00:00, 59.03it/s, loss=0.3578]\n",
      "Epoch 5 | Training loss: 0.3578, validation accuracy: 0.9116, validation loss: 0.2971\n",
      "100%|██████████| 750/750 [00:12<00:00, 59.15it/s, loss=0.2947]\n",
      "Epoch 6 | Training loss: 0.2947, validation accuracy: 0.9308, validation loss: 0.2448\n",
      "100%|██████████| 750/750 [00:12<00:00, 58.99it/s, loss=0.2503]\n",
      "Epoch 7 | Training loss: 0.2503, validation accuracy: 0.9391, validation loss: 0.2101\n",
      "100%|██████████| 750/750 [00:12<00:00, 58.75it/s, loss=0.2161]\n",
      "Epoch 8 | Training loss: 0.2161, validation accuracy: 0.9453, validation loss: 0.1940\n",
      "100%|██████████| 750/750 [00:12<00:00, 58.22it/s, loss=0.1905]\n",
      "Epoch 9 | Training loss: 0.1905, validation accuracy: 0.9502, validation loss: 0.1699\n",
      "100%|██████████| 750/750 [00:13<00:00, 57.47it/s, loss=0.1703]\n",
      "Epoch 10 | Training loss: 0.1703, validation accuracy: 0.9554, validation loss: 0.1547\n",
      "100%|██████████| 750/750 [00:13<00:00, 57.58it/s, loss=0.1545]\n",
      "Epoch 11 | Training loss: 0.1545, validation accuracy: 0.9578, validation loss: 0.1464\n",
      "100%|██████████| 750/750 [00:13<00:00, 57.01it/s, loss=0.1397]\n",
      "Epoch 12 | Training loss: 0.1397, validation accuracy: 0.9617, validation loss: 0.1305\n",
      "100%|██████████| 750/750 [00:13<00:00, 57.41it/s, loss=0.1304]\n",
      "Epoch 13 | Training loss: 0.1304, validation accuracy: 0.9633, validation loss: 0.1271\n",
      "100%|██████████| 750/750 [00:13<00:00, 56.80it/s, loss=0.1206]\n",
      "Epoch 14 | Training loss: 0.1206, validation accuracy: 0.9647, validation loss: 0.1249\n",
      "100%|██████████| 750/750 [00:13<00:00, 56.34it/s, loss=0.1131]\n",
      "Epoch 15 | Training loss: 0.1131, validation accuracy: 0.9677, validation loss: 0.1120\n",
      "100%|██████████| 750/750 [00:13<00:00, 55.49it/s, loss=0.1070]\n",
      "Epoch 16 | Training loss: 0.1070, validation accuracy: 0.9673, validation loss: 0.1125\n",
      "100%|██████████| 750/750 [00:13<00:00, 53.74it/s, loss=0.1014]\n",
      "Epoch 17 | Training loss: 0.1014, validation accuracy: 0.9689, validation loss: 0.1065\n",
      "100%|██████████| 750/750 [00:13<00:00, 54.71it/s, loss=0.0961]\n",
      "Epoch 18 | Training loss: 0.0961, validation accuracy: 0.9718, validation loss: 0.0967\n",
      "100%|██████████| 750/750 [00:13<00:00, 55.81it/s, loss=0.0913]\n",
      "Epoch 19 | Training loss: 0.0913, validation accuracy: 0.9716, validation loss: 0.0954\n",
      "100%|██████████| 750/750 [00:13<00:00, 54.61it/s, loss=0.0878]\n",
      "Epoch 20 | Training loss: 0.0878, validation accuracy: 0.9727, validation loss: 0.0907\n"
     ]
    }
   ],
   "source": [
    "epochs = 20\n",
    "\n",
    "for epoch in range(epochs):\n",
    "    train_loss = trainer.train_epoch(model, optimizer, dl[\"train\"])\n",
    "    optimizer.finish_epoch()\n",
    "    val_acc, val_loss = trainer.validation(model, dl[\"valid\"])\n",
    "    logger.log(\"Epoch\", epoch+1, \"|\", \n",
    "          f\"Training loss: {train_loss:.4f}, validation accuracy: {val_acc:.4f}, validation loss: {val_loss:.4f}\")"
   ]
  },
  {
   "cell_type": "code",
   "execution_count": 16,
   "metadata": {},
   "outputs": [
    {
     "name": "stdout",
     "output_type": "stream",
     "text": [
      "Train: (0.9756458333333333, 0.08024124085282286)\n",
      "Valid: (0.9726666666666667, 0.09067367375890414)\n"
     ]
    }
   ],
   "source": [
    "train_score = trainer.validation(model, dl[\"train\"])\n",
    "valid_score = trainer.validation(model, dl[\"valid\"])\n",
    "logger.log(\"Train:\", train_score)\n",
    "logger.log(\"Valid:\", valid_score)"
   ]
  },
  {
   "cell_type": "code",
   "execution_count": 17,
   "metadata": {},
   "outputs": [],
   "source": [
    "optimizer.accelerate()"
   ]
  },
  {
   "cell_type": "code",
   "execution_count": 18,
   "metadata": {},
   "outputs": [
    {
     "data": {
      "text/plain": [
       "Sequential(\n",
       "  (0): Conv2d(1, 32, kernel_size=(3, 3), stride=(1, 1))\n",
       "  (1): ReLU()\n",
       "  (2): Conv2d(32, 32, kernel_size=(3, 3), stride=(1, 1))\n",
       "  (3): ReLU()\n",
       "  (4): MaxPool2d(kernel_size=2, stride=2, padding=0, dilation=1, ceil_mode=False)\n",
       "  (5): Conv2d(32, 64, kernel_size=(3, 3), stride=(1, 1))\n",
       "  (6): ReLU()\n",
       "  (7): Conv2d(64, 64, kernel_size=(3, 3), stride=(1, 1))\n",
       "  (8): ReLU()\n",
       "  (9): MaxPool2d(kernel_size=2, stride=2, padding=0, dilation=1, ceil_mode=False)\n",
       "  (10): Flatten(start_dim=1, end_dim=-1)\n",
       "  (11): Linear(in_features=1024, out_features=128, bias=True)\n",
       "  (12): ReLU()\n",
       "  (13): Linear(in_features=128, out_features=10, bias=True)\n",
       "  (14): LogSoftmax(dim=-1)\n",
       ")"
      ]
     },
     "execution_count": 18,
     "metadata": {},
     "output_type": "execute_result"
    }
   ],
   "source": [
    "optimizer.store_parameters()\n",
    "model.cuda()"
   ]
  },
  {
   "cell_type": "code",
   "execution_count": 19,
   "metadata": {},
   "outputs": [
    {
     "name": "stdout",
     "output_type": "stream",
     "text": [
      "Train: (0.2939375, 7.032645418802897)\n",
      "Valid: (0.28541666666666665, 6.914684150695801)\n"
     ]
    }
   ],
   "source": [
    "train_score = trainer.validation(model, dl[\"train\"])\n",
    "valid_score = trainer.validation(model, dl[\"valid\"])\n",
    "logger.log(\"Train:\", train_score)\n",
    "logger.log(\"Valid:\", valid_score)"
   ]
  },
  {
   "cell_type": "markdown",
   "metadata": {},
   "source": [
    "## Levin v"
   ]
  },
  {
   "cell_type": "code",
   "execution_count": 20,
   "metadata": {
    "tags": []
   },
   "outputs": [
    {
     "data": {
      "text/plain": [
       "Sequential(\n",
       "  (0): Conv2d(1, 32, kernel_size=(3, 3), stride=(1, 1))\n",
       "  (1): ReLU()\n",
       "  (2): Conv2d(32, 32, kernel_size=(3, 3), stride=(1, 1))\n",
       "  (3): ReLU()\n",
       "  (4): MaxPool2d(kernel_size=2, stride=2, padding=0, dilation=1, ceil_mode=False)\n",
       "  (5): Conv2d(32, 64, kernel_size=(3, 3), stride=(1, 1))\n",
       "  (6): ReLU()\n",
       "  (7): Conv2d(64, 64, kernel_size=(3, 3), stride=(1, 1))\n",
       "  (8): ReLU()\n",
       "  (9): MaxPool2d(kernel_size=2, stride=2, padding=0, dilation=1, ceil_mode=False)\n",
       "  (10): Flatten(start_dim=1, end_dim=-1)\n",
       "  (11): Linear(in_features=1024, out_features=128, bias=True)\n",
       "  (12): ReLU()\n",
       "  (13): Linear(in_features=128, out_features=10, bias=True)\n",
       "  (14): LogSoftmax(dim=-1)\n",
       ")"
      ]
     },
     "execution_count": 20,
     "metadata": {},
     "output_type": "execute_result"
    }
   ],
   "source": [
    "model = nn.Sequential(\n",
    "    nn.Conv2d(1, 32, 3),\n",
    "    nn.ReLU(),\n",
    "    nn.Conv2d(32, 32, 3),\n",
    "    nn.ReLU(),\n",
    "    nn.MaxPool2d(2),\n",
    "    nn.Conv2d(32, 64, 3),\n",
    "    nn.ReLU(),\n",
    "    nn.Conv2d(64, 64, 3),\n",
    "    nn.ReLU(),\n",
    "    nn.MaxPool2d(2),\n",
    "    nn.Flatten(),\n",
    "    nn.Linear(4*4*64, 128),\n",
    "    nn.ReLU(),\n",
    "    nn.Linear(128, 10),\n",
    "    nn.LogSoftmax(-1),\n",
    ")\n",
    "model.cuda()"
   ]
  },
  {
   "cell_type": "code",
   "execution_count": 21,
   "metadata": {},
   "outputs": [],
   "source": [
    "optimizer = AcceleratedSGD(model.parameters(), 1e-3, k=4, mode=\"epoch\", method=\"Levin:v\")\n",
    "logger = Logger(\"SGD-levin:v:ep20:k=4\")"
   ]
  },
  {
   "cell_type": "code",
   "execution_count": 22,
   "metadata": {
    "tags": []
   },
   "outputs": [
    {
     "name": "stdout",
     "output_type": "stream",
     "text": [
      "100%|██████████| 750/750 [00:13<00:00, 53.95it/s, loss=2.2989]\n",
      "Epoch 1 | Training loss: 2.2989, validation accuracy: 0.1081, validation loss: 2.2919\n",
      "100%|██████████| 750/750 [00:13<00:00, 54.88it/s, loss=2.2819]\n",
      "Epoch 2 | Training loss: 2.2819, validation accuracy: 0.3173, validation loss: 2.2632\n",
      "100%|██████████| 750/750 [00:13<00:00, 55.29it/s, loss=2.1814]\n",
      "Epoch 3 | Training loss: 2.1814, validation accuracy: 0.6442, validation loss: 1.9236\n",
      "100%|██████████| 750/750 [00:13<00:00, 55.62it/s, loss=0.9821]\n",
      "Epoch 4 | Training loss: 0.9821, validation accuracy: 0.8458, validation loss: 0.5208\n",
      "100%|██████████| 750/750 [00:13<00:00, 55.39it/s, loss=0.4801]\n",
      "Epoch 5 | Training loss: 0.4801, validation accuracy: 0.8835, validation loss: 0.3892\n",
      "100%|██████████| 750/750 [00:13<00:00, 55.14it/s, loss=0.3821]\n",
      "Epoch 6 | Training loss: 0.3821, validation accuracy: 0.8955, validation loss: 0.3357\n",
      "100%|██████████| 750/750 [00:13<00:00, 55.54it/s, loss=0.3210]\n",
      "Epoch 7 | Training loss: 0.3210, validation accuracy: 0.9183, validation loss: 0.2707\n",
      "100%|██████████| 750/750 [00:13<00:00, 54.89it/s, loss=0.2761]\n",
      "Epoch 8 | Training loss: 0.2761, validation accuracy: 0.9285, validation loss: 0.2380\n",
      "100%|██████████| 750/750 [00:13<00:00, 53.74it/s, loss=0.2395]\n",
      "Epoch 9 | Training loss: 0.2395, validation accuracy: 0.9361, validation loss: 0.2144\n",
      "100%|██████████| 750/750 [00:13<00:00, 54.90it/s, loss=0.2119]\n",
      "Epoch 10 | Training loss: 0.2119, validation accuracy: 0.9433, validation loss: 0.1923\n",
      "100%|██████████| 750/750 [00:13<00:00, 54.88it/s, loss=0.1891]\n",
      "Epoch 11 | Training loss: 0.1891, validation accuracy: 0.9453, validation loss: 0.1797\n",
      "100%|██████████| 750/750 [00:13<00:00, 53.99it/s, loss=0.1712]\n",
      "Epoch 12 | Training loss: 0.1712, validation accuracy: 0.9487, validation loss: 0.1691\n",
      "100%|██████████| 750/750 [00:14<00:00, 53.29it/s, loss=0.1570]\n",
      "Epoch 13 | Training loss: 0.1570, validation accuracy: 0.9580, validation loss: 0.1448\n",
      "100%|██████████| 750/750 [00:13<00:00, 54.15it/s, loss=0.1444]\n",
      "Epoch 14 | Training loss: 0.1444, validation accuracy: 0.9583, validation loss: 0.1417\n",
      "100%|██████████| 750/750 [00:13<00:00, 54.70it/s, loss=0.1336]\n",
      "Epoch 15 | Training loss: 0.1336, validation accuracy: 0.9615, validation loss: 0.1296\n",
      "100%|██████████| 750/750 [00:13<00:00, 53.89it/s, loss=0.1261]\n",
      "Epoch 16 | Training loss: 0.1261, validation accuracy: 0.9623, validation loss: 0.1242\n",
      "100%|██████████| 750/750 [00:13<00:00, 54.54it/s, loss=0.1178]\n",
      "Epoch 17 | Training loss: 0.1178, validation accuracy: 0.9652, validation loss: 0.1157\n",
      "100%|██████████| 750/750 [00:13<00:00, 54.87it/s, loss=0.1110]\n",
      "Epoch 18 | Training loss: 0.1110, validation accuracy: 0.9652, validation loss: 0.1142\n",
      "100%|██████████| 750/750 [00:13<00:00, 54.31it/s, loss=0.1056]\n",
      "Epoch 19 | Training loss: 0.1056, validation accuracy: 0.9679, validation loss: 0.1083\n",
      "100%|██████████| 750/750 [00:13<00:00, 54.74it/s, loss=0.1002]\n",
      "Epoch 20 | Training loss: 0.1002, validation accuracy: 0.9694, validation loss: 0.1011\n"
     ]
    }
   ],
   "source": [
    "epochs = 20\n",
    "\n",
    "for epoch in range(epochs):\n",
    "    train_loss = trainer.train_epoch(model, optimizer, dl[\"train\"])\n",
    "    optimizer.finish_epoch()\n",
    "    val_acc, val_loss = trainer.validation(model, dl[\"valid\"])\n",
    "    logger.log(\"Epoch\", epoch+1, \"|\", \n",
    "          f\"Training loss: {train_loss:.4f}, validation accuracy: {val_acc:.4f}, validation loss: {val_loss:.4f}\")"
   ]
  },
  {
   "cell_type": "code",
   "execution_count": 23,
   "metadata": {},
   "outputs": [
    {
     "name": "stdout",
     "output_type": "stream",
     "text": [
      "Train: (0.9719375, 0.09182257438451051)\n",
      "Valid: (0.9694166666666667, 0.10108074158926805)\n"
     ]
    }
   ],
   "source": [
    "train_score = trainer.validation(model, dl[\"train\"])\n",
    "valid_score = trainer.validation(model, dl[\"valid\"])\n",
    "logger.log(\"Train:\", train_score)\n",
    "logger.log(\"Valid:\", valid_score)"
   ]
  },
  {
   "cell_type": "code",
   "execution_count": 24,
   "metadata": {},
   "outputs": [],
   "source": [
    "optimizer.accelerate()"
   ]
  },
  {
   "cell_type": "code",
   "execution_count": 25,
   "metadata": {},
   "outputs": [
    {
     "data": {
      "text/plain": [
       "Sequential(\n",
       "  (0): Conv2d(1, 32, kernel_size=(3, 3), stride=(1, 1))\n",
       "  (1): ReLU()\n",
       "  (2): Conv2d(32, 32, kernel_size=(3, 3), stride=(1, 1))\n",
       "  (3): ReLU()\n",
       "  (4): MaxPool2d(kernel_size=2, stride=2, padding=0, dilation=1, ceil_mode=False)\n",
       "  (5): Conv2d(32, 64, kernel_size=(3, 3), stride=(1, 1))\n",
       "  (6): ReLU()\n",
       "  (7): Conv2d(64, 64, kernel_size=(3, 3), stride=(1, 1))\n",
       "  (8): ReLU()\n",
       "  (9): MaxPool2d(kernel_size=2, stride=2, padding=0, dilation=1, ceil_mode=False)\n",
       "  (10): Flatten(start_dim=1, end_dim=-1)\n",
       "  (11): Linear(in_features=1024, out_features=128, bias=True)\n",
       "  (12): ReLU()\n",
       "  (13): Linear(in_features=128, out_features=10, bias=True)\n",
       "  (14): LogSoftmax(dim=-1)\n",
       ")"
      ]
     },
     "execution_count": 25,
     "metadata": {},
     "output_type": "execute_result"
    }
   ],
   "source": [
    "optimizer.store_parameters()\n",
    "model.cuda()"
   ]
  },
  {
   "cell_type": "code",
   "execution_count": 26,
   "metadata": {},
   "outputs": [
    {
     "name": "stdout",
     "output_type": "stream",
     "text": [
      "Train: (0.9684791666666667, 0.104595688033849)\n",
      "Valid: (0.9650833333333333, 0.11421944808214902)\n"
     ]
    }
   ],
   "source": [
    "train_score = trainer.validation(model, dl[\"train\"])\n",
    "valid_score = trainer.validation(model, dl[\"valid\"])\n",
    "logger.log(\"Train:\", train_score)\n",
    "logger.log(\"Valid:\", valid_score)"
   ]
  },
  {
   "cell_type": "code",
   "execution_count": null,
   "metadata": {},
   "outputs": [],
   "source": []
  }
 ],
 "metadata": {
  "kernelspec": {
   "display_name": "Python 3 (Torch)",
   "language": "python",
   "name": "torch"
  },
  "language_info": {
   "codemirror_mode": {
    "name": "ipython",
    "version": 3
   },
   "file_extension": ".py",
   "mimetype": "text/x-python",
   "name": "python",
   "nbconvert_exporter": "python",
   "pygments_lexer": "ipython3",
   "version": "3.8.11"
  }
 },
 "nbformat": 4,
 "nbformat_minor": 4
}
