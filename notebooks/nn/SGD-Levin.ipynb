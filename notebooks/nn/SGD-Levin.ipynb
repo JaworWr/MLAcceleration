{
 "cells": [
  {
   "cell_type": "code",
   "execution_count": 1,
   "metadata": {},
   "outputs": [],
   "source": [
    "import sys\n",
    "sys.path.insert(0, \"../..\")"
   ]
  },
  {
   "cell_type": "code",
   "execution_count": 2,
   "metadata": {},
   "outputs": [],
   "source": [
    "import torch\n",
    "from torch import nn\n",
    "import numpy as np\n",
    "from copy import deepcopy\n",
    "\n",
    "from nn_extrapolation import AcceleratedSGD\n",
    "from nn_utils import *"
   ]
  },
  {
   "cell_type": "code",
   "execution_count": 3,
   "metadata": {},
   "outputs": [
    {
     "data": {
      "text/plain": [
       "True"
      ]
     },
     "execution_count": 3,
     "metadata": {},
     "output_type": "execute_result"
    }
   ],
   "source": [
    "torch.cuda.is_available()"
   ]
  },
  {
   "cell_type": "code",
   "execution_count": 4,
   "metadata": {},
   "outputs": [],
   "source": [
    "trainer = Trainer(\n",
    "    device=\"cuda\",\n",
    "    loss_fn=nn.NLLLoss(reduction=\"mean\"),\n",
    "    val_loss_fn=nn.NLLLoss(reduction=\"sum\"),\n",
    ")"
   ]
  },
  {
   "cell_type": "code",
   "execution_count": 5,
   "metadata": {},
   "outputs": [],
   "source": [
    "dl = load_dataset(\n",
    "    dataset=\"mnist\", \n",
    "    root=\"../../../MNIST\", \n",
    "    download=False, \n",
    "    validation_split=0.2,\n",
    "    batch_size=64, \n",
    "    num_workers=2,\n",
    ")"
   ]
  },
  {
   "cell_type": "markdown",
   "metadata": {},
   "source": [
    "## Levin t"
   ]
  },
  {
   "cell_type": "code",
   "execution_count": 6,
   "metadata": {
    "tags": []
   },
   "outputs": [
    {
     "data": {
      "text/plain": [
       "Sequential(\n",
       "  (0): Conv2d(1, 32, kernel_size=(3, 3), stride=(1, 1))\n",
       "  (1): ReLU()\n",
       "  (2): Conv2d(32, 32, kernel_size=(3, 3), stride=(1, 1))\n",
       "  (3): ReLU()\n",
       "  (4): MaxPool2d(kernel_size=2, stride=2, padding=0, dilation=1, ceil_mode=False)\n",
       "  (5): Conv2d(32, 64, kernel_size=(3, 3), stride=(1, 1))\n",
       "  (6): ReLU()\n",
       "  (7): Conv2d(64, 64, kernel_size=(3, 3), stride=(1, 1))\n",
       "  (8): ReLU()\n",
       "  (9): MaxPool2d(kernel_size=2, stride=2, padding=0, dilation=1, ceil_mode=False)\n",
       "  (10): Flatten(start_dim=1, end_dim=-1)\n",
       "  (11): Linear(in_features=1024, out_features=128, bias=True)\n",
       "  (12): ReLU()\n",
       "  (13): Linear(in_features=128, out_features=10, bias=True)\n",
       "  (14): LogSoftmax(dim=-1)\n",
       ")"
      ]
     },
     "execution_count": 6,
     "metadata": {},
     "output_type": "execute_result"
    }
   ],
   "source": [
    "model = nn.Sequential(\n",
    "    nn.Conv2d(1, 32, 3),\n",
    "    nn.ReLU(),\n",
    "    nn.Conv2d(32, 32, 3),\n",
    "    nn.ReLU(),\n",
    "    nn.MaxPool2d(2),\n",
    "    nn.Conv2d(32, 64, 3),\n",
    "    nn.ReLU(),\n",
    "    nn.Conv2d(64, 64, 3),\n",
    "    nn.ReLU(),\n",
    "    nn.MaxPool2d(2),\n",
    "    nn.Flatten(),\n",
    "    nn.Linear(4*4*64, 128),\n",
    "    nn.ReLU(),\n",
    "    nn.Linear(128, 10),\n",
    "    nn.LogSoftmax(-1),\n",
    ")\n",
    "model.cuda()"
   ]
  },
  {
   "cell_type": "code",
   "execution_count": 7,
   "metadata": {},
   "outputs": [],
   "source": [
    "optimizer = AcceleratedSGD(model.parameters(), 1e-3, k=8, mode=\"epoch\", method=\"Levin:t\")\n",
    "logger = Logger(\"SGD-levin:t2\")"
   ]
  },
  {
   "cell_type": "code",
   "execution_count": 8,
   "metadata": {
    "tags": []
   },
   "outputs": [
    {
     "name": "stdout",
     "output_type": "stream",
     "text": [
      "100%|██████████| 750/750 [00:15<00:00, 49.77it/s, loss=2.3002]\n",
      "Epoch 1 | Training loss: 2.3002, validation accuracy: 0.1784, validation loss: 2.2951\n",
      "100%|██████████| 750/750 [00:13<00:00, 54.01it/s, loss=2.2882]\n",
      "Epoch 2 | Training loss: 2.2882, validation accuracy: 0.2983, validation loss: 2.2773\n",
      "100%|██████████| 750/750 [00:14<00:00, 53.05it/s, loss=2.2472]\n",
      "Epoch 3 | Training loss: 2.2472, validation accuracy: 0.4923, validation loss: 2.1775\n",
      "100%|██████████| 750/750 [00:14<00:00, 53.10it/s, loss=1.5423]\n",
      "Epoch 4 | Training loss: 1.5423, validation accuracy: 0.8037, validation loss: 0.6540\n",
      "100%|██████████| 750/750 [00:14<00:00, 50.97it/s, loss=0.5278]\n",
      "Epoch 5 | Training loss: 0.5278, validation accuracy: 0.8751, validation loss: 0.4153\n",
      "100%|██████████| 750/750 [00:13<00:00, 55.79it/s, loss=0.4005]\n",
      "Epoch 6 | Training loss: 0.4005, validation accuracy: 0.9020, validation loss: 0.3310\n",
      "100%|██████████| 750/750 [00:13<00:00, 56.47it/s, loss=0.3354]\n",
      "Epoch 7 | Training loss: 0.3354, validation accuracy: 0.9142, validation loss: 0.2886\n",
      "100%|██████████| 750/750 [00:13<00:00, 56.11it/s, loss=0.2869]\n",
      "Epoch 8 | Training loss: 0.2869, validation accuracy: 0.9249, validation loss: 0.2474\n",
      "100%|██████████| 750/750 [00:13<00:00, 54.57it/s, loss=0.2483]\n",
      "Epoch 9 | Training loss: 0.2483, validation accuracy: 0.9351, validation loss: 0.2140\n",
      "100%|██████████| 750/750 [00:13<00:00, 55.71it/s, loss=0.2168]\n",
      "Epoch 10 | Training loss: 0.2168, validation accuracy: 0.9378, validation loss: 0.2066\n",
      "100%|██████████| 750/750 [00:13<00:00, 55.70it/s, loss=0.1952]\n",
      "Epoch 11 | Training loss: 0.1952, validation accuracy: 0.9497, validation loss: 0.1725\n",
      "100%|██████████| 750/750 [00:13<00:00, 55.10it/s, loss=0.1744]\n",
      "Epoch 12 | Training loss: 0.1744, validation accuracy: 0.9525, validation loss: 0.1639\n",
      "100%|██████████| 750/750 [00:13<00:00, 53.73it/s, loss=0.1586]\n",
      "Epoch 13 | Training loss: 0.1586, validation accuracy: 0.9550, validation loss: 0.1481\n",
      "100%|██████████| 750/750 [00:13<00:00, 54.74it/s, loss=0.1448]\n",
      "Epoch 14 | Training loss: 0.1448, validation accuracy: 0.9606, validation loss: 0.1353\n",
      "100%|██████████| 750/750 [00:13<00:00, 55.24it/s, loss=0.1338]\n",
      "Epoch 15 | Training loss: 0.1338, validation accuracy: 0.9615, validation loss: 0.1287\n",
      "100%|██████████| 750/750 [00:13<00:00, 55.03it/s, loss=0.1242]\n",
      "Epoch 16 | Training loss: 0.1242, validation accuracy: 0.9637, validation loss: 0.1238\n",
      "100%|██████████| 750/750 [00:13<00:00, 54.01it/s, loss=0.1176]\n",
      "Epoch 17 | Training loss: 0.1176, validation accuracy: 0.9651, validation loss: 0.1158\n",
      "100%|██████████| 750/750 [00:13<00:00, 55.52it/s, loss=0.1102]\n",
      "Epoch 18 | Training loss: 0.1102, validation accuracy: 0.9572, validation loss: 0.1362\n",
      "100%|██████████| 750/750 [00:13<00:00, 54.48it/s, loss=0.1050]\n",
      "Epoch 19 | Training loss: 0.1050, validation accuracy: 0.9681, validation loss: 0.1049\n",
      "100%|██████████| 750/750 [00:13<00:00, 54.25it/s, loss=0.0993]\n",
      "Epoch 20 | Training loss: 0.0993, validation accuracy: 0.9707, validation loss: 0.1024\n",
      "100%|██████████| 750/750 [00:13<00:00, 54.75it/s, loss=0.0950]\n",
      "Epoch 21 | Training loss: 0.0950, validation accuracy: 0.9700, validation loss: 0.0981\n",
      "100%|██████████| 750/750 [00:13<00:00, 54.11it/s, loss=0.0914]\n",
      "Epoch 22 | Training loss: 0.0914, validation accuracy: 0.9711, validation loss: 0.0956\n",
      "100%|██████████| 750/750 [00:13<00:00, 54.36it/s, loss=0.0885]\n",
      "Epoch 23 | Training loss: 0.0885, validation accuracy: 0.9725, validation loss: 0.0936\n",
      "100%|██████████| 750/750 [00:13<00:00, 53.89it/s, loss=0.0850]\n",
      "Epoch 24 | Training loss: 0.0850, validation accuracy: 0.9742, validation loss: 0.0883\n",
      "100%|██████████| 750/750 [00:13<00:00, 53.80it/s, loss=0.0822]\n",
      "Epoch 25 | Training loss: 0.0822, validation accuracy: 0.9722, validation loss: 0.0916\n",
      "100%|██████████| 750/750 [00:14<00:00, 53.14it/s, loss=0.0793]\n",
      "Epoch 26 | Training loss: 0.0793, validation accuracy: 0.9752, validation loss: 0.0846\n",
      "100%|██████████| 750/750 [00:13<00:00, 54.23it/s, loss=0.0769]\n",
      "Epoch 27 | Training loss: 0.0769, validation accuracy: 0.9753, validation loss: 0.0826\n",
      "100%|██████████| 750/750 [00:13<00:00, 55.02it/s, loss=0.0743]\n",
      "Epoch 28 | Training loss: 0.0743, validation accuracy: 0.9748, validation loss: 0.0828\n",
      "100%|██████████| 750/750 [00:13<00:00, 54.28it/s, loss=0.0726]\n",
      "Epoch 29 | Training loss: 0.0726, validation accuracy: 0.9709, validation loss: 0.0966\n",
      "100%|██████████| 750/750 [00:13<00:00, 53.80it/s, loss=0.0703]\n",
      "Epoch 30 | Training loss: 0.0703, validation accuracy: 0.9752, validation loss: 0.0837\n"
     ]
    }
   ],
   "source": [
    "epochs = 30\n",
    "\n",
    "for epoch in range(epochs):\n",
    "    train_loss = trainer.train_epoch(model, optimizer, dl[\"train\"])\n",
    "    optimizer.finish_epoch()\n",
    "    val_acc, val_loss = trainer.validation(model, dl[\"valid\"])\n",
    "    logger.log(\"Epoch\", epoch+1, \"|\", \n",
    "          f\"Training loss: {train_loss:.4f}, validation accuracy: {val_acc:.4f}, validation loss: {val_loss:.4f}\")"
   ]
  },
  {
   "cell_type": "code",
   "execution_count": 9,
   "metadata": {},
   "outputs": [
    {
     "name": "stdout",
     "output_type": "stream",
     "text": [
      "Train: (0.9794583333333333, 0.06719030682742595)\n",
      "Valid: (0.97525, 0.08373364659336706)\n"
     ]
    }
   ],
   "source": [
    "train_score = trainer.validation(model, dl[\"train\"])\n",
    "valid_score = trainer.validation(model, dl[\"valid\"])\n",
    "logger.log(\"Train:\", train_score)\n",
    "logger.log(\"Valid:\", valid_score)"
   ]
  },
  {
   "cell_type": "code",
   "execution_count": 10,
   "metadata": {},
   "outputs": [],
   "source": [
    "optimizer.accelerate()"
   ]
  },
  {
   "cell_type": "code",
   "execution_count": 11,
   "metadata": {},
   "outputs": [
    {
     "data": {
      "text/plain": [
       "Sequential(\n",
       "  (0): Conv2d(1, 32, kernel_size=(3, 3), stride=(1, 1))\n",
       "  (1): ReLU()\n",
       "  (2): Conv2d(32, 32, kernel_size=(3, 3), stride=(1, 1))\n",
       "  (3): ReLU()\n",
       "  (4): MaxPool2d(kernel_size=2, stride=2, padding=0, dilation=1, ceil_mode=False)\n",
       "  (5): Conv2d(32, 64, kernel_size=(3, 3), stride=(1, 1))\n",
       "  (6): ReLU()\n",
       "  (7): Conv2d(64, 64, kernel_size=(3, 3), stride=(1, 1))\n",
       "  (8): ReLU()\n",
       "  (9): MaxPool2d(kernel_size=2, stride=2, padding=0, dilation=1, ceil_mode=False)\n",
       "  (10): Flatten(start_dim=1, end_dim=-1)\n",
       "  (11): Linear(in_features=1024, out_features=128, bias=True)\n",
       "  (12): ReLU()\n",
       "  (13): Linear(in_features=128, out_features=10, bias=True)\n",
       "  (14): LogSoftmax(dim=-1)\n",
       ")"
      ]
     },
     "execution_count": 11,
     "metadata": {},
     "output_type": "execute_result"
    }
   ],
   "source": [
    "optimizer.store_parameters()\n",
    "model.cuda()"
   ]
  },
  {
   "cell_type": "code",
   "execution_count": 12,
   "metadata": {},
   "outputs": [
    {
     "name": "stdout",
     "output_type": "stream",
     "text": [
      "Train: (0.8101666666666667, 0.7286712407867114)\n",
      "Valid: (0.8155, 0.7012091176509857)\n"
     ]
    }
   ],
   "source": [
    "train_score = trainer.validation(model, dl[\"train\"])\n",
    "valid_score = trainer.validation(model, dl[\"valid\"])\n",
    "logger.log(\"Train:\", train_score)\n",
    "logger.log(\"Valid:\", valid_score)"
   ]
  },
  {
   "cell_type": "markdown",
   "metadata": {},
   "source": [
    "## Levin u"
   ]
  },
  {
   "cell_type": "code",
   "execution_count": 13,
   "metadata": {
    "tags": []
   },
   "outputs": [
    {
     "data": {
      "text/plain": [
       "Sequential(\n",
       "  (0): Conv2d(1, 32, kernel_size=(3, 3), stride=(1, 1))\n",
       "  (1): ReLU()\n",
       "  (2): Conv2d(32, 32, kernel_size=(3, 3), stride=(1, 1))\n",
       "  (3): ReLU()\n",
       "  (4): MaxPool2d(kernel_size=2, stride=2, padding=0, dilation=1, ceil_mode=False)\n",
       "  (5): Conv2d(32, 64, kernel_size=(3, 3), stride=(1, 1))\n",
       "  (6): ReLU()\n",
       "  (7): Conv2d(64, 64, kernel_size=(3, 3), stride=(1, 1))\n",
       "  (8): ReLU()\n",
       "  (9): MaxPool2d(kernel_size=2, stride=2, padding=0, dilation=1, ceil_mode=False)\n",
       "  (10): Flatten(start_dim=1, end_dim=-1)\n",
       "  (11): Linear(in_features=1024, out_features=128, bias=True)\n",
       "  (12): ReLU()\n",
       "  (13): Linear(in_features=128, out_features=10, bias=True)\n",
       "  (14): LogSoftmax(dim=-1)\n",
       ")"
      ]
     },
     "execution_count": 13,
     "metadata": {},
     "output_type": "execute_result"
    }
   ],
   "source": [
    "model = nn.Sequential(\n",
    "    nn.Conv2d(1, 32, 3),\n",
    "    nn.ReLU(),\n",
    "    nn.Conv2d(32, 32, 3),\n",
    "    nn.ReLU(),\n",
    "    nn.MaxPool2d(2),\n",
    "    nn.Conv2d(32, 64, 3),\n",
    "    nn.ReLU(),\n",
    "    nn.Conv2d(64, 64, 3),\n",
    "    nn.ReLU(),\n",
    "    nn.MaxPool2d(2),\n",
    "    nn.Flatten(),\n",
    "    nn.Linear(4*4*64, 128),\n",
    "    nn.ReLU(),\n",
    "    nn.Linear(128, 10),\n",
    "    nn.LogSoftmax(-1),\n",
    ")\n",
    "model.cuda()"
   ]
  },
  {
   "cell_type": "code",
   "execution_count": 14,
   "metadata": {},
   "outputs": [],
   "source": [
    "optimizer = AcceleratedSGD(model.parameters(), 1e-3, k=8, mode=\"epoch\", method=\"Levin:u\")\n",
    "logger = Logger(\"SGD-levin:u2\")"
   ]
  },
  {
   "cell_type": "code",
   "execution_count": 15,
   "metadata": {
    "tags": []
   },
   "outputs": [
    {
     "name": "stdout",
     "output_type": "stream",
     "text": [
      "100%|██████████| 750/750 [00:13<00:00, 56.69it/s, loss=2.2992]\n",
      "Epoch 1 | Training loss: 2.2992, validation accuracy: 0.2289, validation loss: 2.2914\n",
      "100%|██████████| 750/750 [00:13<00:00, 57.06it/s, loss=2.2786]\n",
      "Epoch 2 | Training loss: 2.2786, validation accuracy: 0.2469, validation loss: 2.2553\n",
      "100%|██████████| 750/750 [00:13<00:00, 57.24it/s, loss=2.1310]\n",
      "Epoch 3 | Training loss: 2.1310, validation accuracy: 0.6774, validation loss: 1.7008\n",
      "100%|██████████| 750/750 [00:13<00:00, 56.88it/s, loss=0.8341]\n",
      "Epoch 4 | Training loss: 0.8341, validation accuracy: 0.8553, validation loss: 0.4897\n",
      "100%|██████████| 750/750 [00:13<00:00, 56.17it/s, loss=0.4617]\n",
      "Epoch 5 | Training loss: 0.4617, validation accuracy: 0.8806, validation loss: 0.3882\n",
      "100%|██████████| 750/750 [00:14<00:00, 53.23it/s, loss=0.3727]\n",
      "Epoch 6 | Training loss: 0.3727, validation accuracy: 0.9074, validation loss: 0.3106\n",
      "100%|██████████| 750/750 [00:13<00:00, 56.40it/s, loss=0.3129]\n",
      "Epoch 7 | Training loss: 0.3129, validation accuracy: 0.9245, validation loss: 0.2567\n",
      "100%|██████████| 750/750 [00:13<00:00, 56.67it/s, loss=0.2675]\n",
      "Epoch 8 | Training loss: 0.2675, validation accuracy: 0.9353, validation loss: 0.2231\n",
      "100%|██████████| 750/750 [00:13<00:00, 56.80it/s, loss=0.2325]\n",
      "Epoch 9 | Training loss: 0.2325, validation accuracy: 0.9413, validation loss: 0.1977\n",
      "100%|██████████| 750/750 [00:13<00:00, 57.17it/s, loss=0.2044]\n",
      "Epoch 10 | Training loss: 0.2044, validation accuracy: 0.9473, validation loss: 0.1778\n",
      "100%|██████████| 750/750 [00:13<00:00, 56.31it/s, loss=0.1820]\n",
      "Epoch 11 | Training loss: 0.1820, validation accuracy: 0.9489, validation loss: 0.1747\n",
      "100%|██████████| 750/750 [00:13<00:00, 57.00it/s, loss=0.1634]\n",
      "Epoch 12 | Training loss: 0.1634, validation accuracy: 0.9536, validation loss: 0.1510\n",
      "100%|██████████| 750/750 [00:13<00:00, 56.84it/s, loss=0.1479]\n",
      "Epoch 13 | Training loss: 0.1479, validation accuracy: 0.9590, validation loss: 0.1373\n",
      "100%|██████████| 750/750 [00:13<00:00, 56.19it/s, loss=0.1358]\n",
      "Epoch 14 | Training loss: 0.1358, validation accuracy: 0.9638, validation loss: 0.1261\n",
      "100%|██████████| 750/750 [00:13<00:00, 56.27it/s, loss=0.1258]\n",
      "Epoch 15 | Training loss: 0.1258, validation accuracy: 0.9586, validation loss: 0.1364\n",
      "100%|██████████| 750/750 [00:13<00:00, 56.62it/s, loss=0.1169]\n",
      "Epoch 16 | Training loss: 0.1169, validation accuracy: 0.9647, validation loss: 0.1226\n",
      "100%|██████████| 750/750 [00:13<00:00, 56.17it/s, loss=0.1093]\n",
      "Epoch 17 | Training loss: 0.1093, validation accuracy: 0.9675, validation loss: 0.1084\n",
      "100%|██████████| 750/750 [00:13<00:00, 56.73it/s, loss=0.1034]\n",
      "Epoch 18 | Training loss: 0.1034, validation accuracy: 0.9709, validation loss: 0.0991\n",
      "100%|██████████| 750/750 [00:13<00:00, 56.27it/s, loss=0.0975]\n",
      "Epoch 19 | Training loss: 0.0975, validation accuracy: 0.9725, validation loss: 0.0970\n",
      "100%|██████████| 750/750 [00:13<00:00, 56.13it/s, loss=0.0933]\n",
      "Epoch 20 | Training loss: 0.0933, validation accuracy: 0.9725, validation loss: 0.0954\n",
      "100%|██████████| 750/750 [00:13<00:00, 56.08it/s, loss=0.0882]\n",
      "Epoch 21 | Training loss: 0.0882, validation accuracy: 0.9718, validation loss: 0.0961\n",
      "100%|██████████| 750/750 [00:13<00:00, 56.63it/s, loss=0.0850]\n",
      "Epoch 22 | Training loss: 0.0850, validation accuracy: 0.9731, validation loss: 0.0975\n",
      "100%|██████████| 750/750 [00:13<00:00, 54.92it/s, loss=0.0810]\n",
      "Epoch 23 | Training loss: 0.0810, validation accuracy: 0.9741, validation loss: 0.0899\n",
      "100%|██████████| 750/750 [00:13<00:00, 55.88it/s, loss=0.0777]\n",
      "Epoch 24 | Training loss: 0.0777, validation accuracy: 0.9744, validation loss: 0.0846\n",
      "100%|██████████| 750/750 [00:13<00:00, 55.19it/s, loss=0.0753]\n",
      "Epoch 25 | Training loss: 0.0753, validation accuracy: 0.9757, validation loss: 0.0838\n",
      "100%|██████████| 750/750 [00:15<00:00, 48.95it/s, loss=0.0730]\n",
      "Epoch 26 | Training loss: 0.0730, validation accuracy: 0.9744, validation loss: 0.0854\n",
      "100%|██████████| 750/750 [00:13<00:00, 56.98it/s, loss=0.0707]\n",
      "Epoch 27 | Training loss: 0.0707, validation accuracy: 0.9770, validation loss: 0.0781\n",
      "100%|██████████| 750/750 [00:13<00:00, 56.89it/s, loss=0.0683]\n",
      "Epoch 28 | Training loss: 0.0683, validation accuracy: 0.9780, validation loss: 0.0783\n",
      "100%|██████████| 750/750 [00:13<00:00, 55.70it/s, loss=0.0660]\n",
      "Epoch 29 | Training loss: 0.0660, validation accuracy: 0.9775, validation loss: 0.0762\n",
      "100%|██████████| 750/750 [00:13<00:00, 54.65it/s, loss=0.0648]\n",
      "Epoch 30 | Training loss: 0.0648, validation accuracy: 0.9742, validation loss: 0.0834\n"
     ]
    }
   ],
   "source": [
    "epochs = 30\n",
    "\n",
    "for epoch in range(epochs):\n",
    "    train_loss = trainer.train_epoch(model, optimizer, dl[\"train\"])\n",
    "    optimizer.finish_epoch()\n",
    "    val_acc, val_loss = trainer.validation(model, dl[\"valid\"])\n",
    "    logger.log(\"Epoch\", epoch+1, \"|\", \n",
    "          f\"Training loss: {train_loss:.4f}, validation accuracy: {val_acc:.4f}, validation loss: {val_loss:.4f}\")"
   ]
  },
  {
   "cell_type": "code",
   "execution_count": 16,
   "metadata": {},
   "outputs": [
    {
     "name": "stdout",
     "output_type": "stream",
     "text": [
      "Train: (0.9793541666666666, 0.06807203026550511)\n",
      "Valid: (0.9741666666666666, 0.08341941005301973)\n"
     ]
    }
   ],
   "source": [
    "train_score = trainer.validation(model, dl[\"train\"])\n",
    "valid_score = trainer.validation(model, dl[\"valid\"])\n",
    "logger.log(\"Train:\", train_score)\n",
    "logger.log(\"Valid:\", valid_score)"
   ]
  },
  {
   "cell_type": "code",
   "execution_count": 17,
   "metadata": {},
   "outputs": [],
   "source": [
    "optimizer.accelerate()"
   ]
  },
  {
   "cell_type": "code",
   "execution_count": 18,
   "metadata": {},
   "outputs": [
    {
     "data": {
      "text/plain": [
       "Sequential(\n",
       "  (0): Conv2d(1, 32, kernel_size=(3, 3), stride=(1, 1))\n",
       "  (1): ReLU()\n",
       "  (2): Conv2d(32, 32, kernel_size=(3, 3), stride=(1, 1))\n",
       "  (3): ReLU()\n",
       "  (4): MaxPool2d(kernel_size=2, stride=2, padding=0, dilation=1, ceil_mode=False)\n",
       "  (5): Conv2d(32, 64, kernel_size=(3, 3), stride=(1, 1))\n",
       "  (6): ReLU()\n",
       "  (7): Conv2d(64, 64, kernel_size=(3, 3), stride=(1, 1))\n",
       "  (8): ReLU()\n",
       "  (9): MaxPool2d(kernel_size=2, stride=2, padding=0, dilation=1, ceil_mode=False)\n",
       "  (10): Flatten(start_dim=1, end_dim=-1)\n",
       "  (11): Linear(in_features=1024, out_features=128, bias=True)\n",
       "  (12): ReLU()\n",
       "  (13): Linear(in_features=128, out_features=10, bias=True)\n",
       "  (14): LogSoftmax(dim=-1)\n",
       ")"
      ]
     },
     "execution_count": 18,
     "metadata": {},
     "output_type": "execute_result"
    }
   ],
   "source": [
    "optimizer.store_parameters()\n",
    "model.cuda()"
   ]
  },
  {
   "cell_type": "code",
   "execution_count": 19,
   "metadata": {},
   "outputs": [
    {
     "name": "stdout",
     "output_type": "stream",
     "text": [
      "Train: (0.7462708333333333, 0.8923707112272581)\n",
      "Valid: (0.7598333333333334, 0.8656922217210133)\n"
     ]
    }
   ],
   "source": [
    "train_score = trainer.validation(model, dl[\"train\"])\n",
    "valid_score = trainer.validation(model, dl[\"valid\"])\n",
    "logger.log(\"Train:\", train_score)\n",
    "logger.log(\"Valid:\", valid_score)"
   ]
  },
  {
   "cell_type": "markdown",
   "metadata": {},
   "source": [
    "## Levin v"
   ]
  },
  {
   "cell_type": "code",
   "execution_count": 20,
   "metadata": {
    "tags": []
   },
   "outputs": [
    {
     "data": {
      "text/plain": [
       "Sequential(\n",
       "  (0): Conv2d(1, 32, kernel_size=(3, 3), stride=(1, 1))\n",
       "  (1): ReLU()\n",
       "  (2): Conv2d(32, 32, kernel_size=(3, 3), stride=(1, 1))\n",
       "  (3): ReLU()\n",
       "  (4): MaxPool2d(kernel_size=2, stride=2, padding=0, dilation=1, ceil_mode=False)\n",
       "  (5): Conv2d(32, 64, kernel_size=(3, 3), stride=(1, 1))\n",
       "  (6): ReLU()\n",
       "  (7): Conv2d(64, 64, kernel_size=(3, 3), stride=(1, 1))\n",
       "  (8): ReLU()\n",
       "  (9): MaxPool2d(kernel_size=2, stride=2, padding=0, dilation=1, ceil_mode=False)\n",
       "  (10): Flatten(start_dim=1, end_dim=-1)\n",
       "  (11): Linear(in_features=1024, out_features=128, bias=True)\n",
       "  (12): ReLU()\n",
       "  (13): Linear(in_features=128, out_features=10, bias=True)\n",
       "  (14): LogSoftmax(dim=-1)\n",
       ")"
      ]
     },
     "execution_count": 20,
     "metadata": {},
     "output_type": "execute_result"
    }
   ],
   "source": [
    "model = nn.Sequential(\n",
    "    nn.Conv2d(1, 32, 3),\n",
    "    nn.ReLU(),\n",
    "    nn.Conv2d(32, 32, 3),\n",
    "    nn.ReLU(),\n",
    "    nn.MaxPool2d(2),\n",
    "    nn.Conv2d(32, 64, 3),\n",
    "    nn.ReLU(),\n",
    "    nn.Conv2d(64, 64, 3),\n",
    "    nn.ReLU(),\n",
    "    nn.MaxPool2d(2),\n",
    "    nn.Flatten(),\n",
    "    nn.Linear(4*4*64, 128),\n",
    "    nn.ReLU(),\n",
    "    nn.Linear(128, 10),\n",
    "    nn.LogSoftmax(-1),\n",
    ")\n",
    "model.cuda()"
   ]
  },
  {
   "cell_type": "code",
   "execution_count": 21,
   "metadata": {},
   "outputs": [],
   "source": [
    "optimizer = AcceleratedSGD(model.parameters(), 1e-3, k=8, mode=\"epoch\", method=\"Levin:v\")\n",
    "logger = Logger(\"SGD-levin:v2\")"
   ]
  },
  {
   "cell_type": "code",
   "execution_count": 22,
   "metadata": {
    "tags": []
   },
   "outputs": [
    {
     "name": "stdout",
     "output_type": "stream",
     "text": [
      "100%|██████████| 750/750 [00:13<00:00, 56.16it/s, loss=2.3005]\n",
      "Epoch 1 | Training loss: 2.3005, validation accuracy: 0.1060, validation loss: 2.2977\n",
      "100%|██████████| 750/750 [00:13<00:00, 54.69it/s, loss=2.2922]\n",
      "Epoch 2 | Training loss: 2.2922, validation accuracy: 0.1076, validation loss: 2.2864\n",
      "100%|██████████| 750/750 [00:13<00:00, 54.68it/s, loss=2.2711]\n",
      "Epoch 3 | Training loss: 2.2711, validation accuracy: 0.5406, validation loss: 2.2445\n",
      "100%|██████████| 750/750 [00:13<00:00, 55.16it/s, loss=2.0400]\n",
      "Epoch 4 | Training loss: 2.0400, validation accuracy: 0.7024, validation loss: 1.3331\n",
      "100%|██████████| 750/750 [00:13<00:00, 55.12it/s, loss=0.7081]\n",
      "Epoch 5 | Training loss: 0.7081, validation accuracy: 0.8393, validation loss: 0.4918\n",
      "100%|██████████| 750/750 [00:12<00:00, 58.27it/s, loss=0.4452]\n",
      "Epoch 6 | Training loss: 0.4452, validation accuracy: 0.8870, validation loss: 0.3728\n",
      "100%|██████████| 750/750 [00:12<00:00, 57.74it/s, loss=0.3696]\n",
      "Epoch 7 | Training loss: 0.3696, validation accuracy: 0.9008, validation loss: 0.3212\n",
      "100%|██████████| 750/750 [00:14<00:00, 51.75it/s, loss=0.3173]\n",
      "Epoch 8 | Training loss: 0.3173, validation accuracy: 0.9195, validation loss: 0.2722\n",
      "100%|██████████| 750/750 [00:12<00:00, 58.52it/s, loss=0.2750]\n",
      "Epoch 9 | Training loss: 0.2750, validation accuracy: 0.9297, validation loss: 0.2352\n",
      "100%|██████████| 750/750 [00:13<00:00, 57.00it/s, loss=0.2420]\n",
      "Epoch 10 | Training loss: 0.2420, validation accuracy: 0.9383, validation loss: 0.2053\n",
      "100%|██████████| 750/750 [00:13<00:00, 54.66it/s, loss=0.2138]\n",
      "Epoch 11 | Training loss: 0.2138, validation accuracy: 0.9456, validation loss: 0.1871\n",
      "100%|██████████| 750/750 [00:13<00:00, 56.67it/s, loss=0.1922]\n",
      "Epoch 12 | Training loss: 0.1922, validation accuracy: 0.9485, validation loss: 0.1740\n",
      "100%|██████████| 750/750 [00:13<00:00, 55.18it/s, loss=0.1730]\n",
      "Epoch 13 | Training loss: 0.1730, validation accuracy: 0.9529, validation loss: 0.1556\n",
      "100%|██████████| 750/750 [00:12<00:00, 58.01it/s, loss=0.1577]\n",
      "Epoch 14 | Training loss: 0.1577, validation accuracy: 0.9561, validation loss: 0.1508\n",
      "100%|██████████| 750/750 [00:13<00:00, 54.76it/s, loss=0.1461]\n",
      "Epoch 15 | Training loss: 0.1461, validation accuracy: 0.9623, validation loss: 0.1365\n",
      "100%|██████████| 750/750 [00:13<00:00, 55.27it/s, loss=0.1347]\n",
      "Epoch 16 | Training loss: 0.1347, validation accuracy: 0.9636, validation loss: 0.1252\n",
      "100%|██████████| 750/750 [00:13<00:00, 56.47it/s, loss=0.1256]\n",
      "Epoch 17 | Training loss: 0.1256, validation accuracy: 0.9626, validation loss: 0.1294\n",
      "100%|██████████| 750/750 [00:13<00:00, 57.62it/s, loss=0.1172]\n",
      "Epoch 18 | Training loss: 0.1172, validation accuracy: 0.9674, validation loss: 0.1131\n",
      "100%|██████████| 750/750 [00:13<00:00, 57.25it/s, loss=0.1116]\n",
      "Epoch 19 | Training loss: 0.1116, validation accuracy: 0.9672, validation loss: 0.1120\n",
      "100%|██████████| 750/750 [00:13<00:00, 56.69it/s, loss=0.1058]\n",
      "Epoch 20 | Training loss: 0.1058, validation accuracy: 0.9669, validation loss: 0.1126\n",
      "100%|██████████| 750/750 [00:12<00:00, 58.13it/s, loss=0.1004]\n",
      "Epoch 21 | Training loss: 0.1004, validation accuracy: 0.9699, validation loss: 0.0994\n",
      "100%|██████████| 750/750 [00:14<00:00, 51.67it/s, loss=0.0959]\n",
      "Epoch 22 | Training loss: 0.0959, validation accuracy: 0.9687, validation loss: 0.0993\n",
      "100%|██████████| 750/750 [00:13<00:00, 54.72it/s, loss=0.0910]\n",
      "Epoch 23 | Training loss: 0.0910, validation accuracy: 0.9699, validation loss: 0.0972\n",
      "100%|██████████| 750/750 [00:13<00:00, 54.67it/s, loss=0.0879]\n",
      "Epoch 24 | Training loss: 0.0879, validation accuracy: 0.9735, validation loss: 0.0887\n",
      "100%|██████████| 750/750 [00:12<00:00, 58.00it/s, loss=0.0851]\n",
      "Epoch 25 | Training loss: 0.0851, validation accuracy: 0.9710, validation loss: 0.0934\n",
      "100%|██████████| 750/750 [00:13<00:00, 57.11it/s, loss=0.0819]\n",
      "Epoch 26 | Training loss: 0.0819, validation accuracy: 0.9734, validation loss: 0.0859\n",
      "100%|██████████| 750/750 [00:12<00:00, 58.40it/s, loss=0.0786]\n",
      "Epoch 27 | Training loss: 0.0786, validation accuracy: 0.9742, validation loss: 0.0858\n",
      "100%|██████████| 750/750 [00:13<00:00, 57.64it/s, loss=0.0762]\n",
      "Epoch 28 | Training loss: 0.0762, validation accuracy: 0.9741, validation loss: 0.0846\n",
      "100%|██████████| 750/750 [00:13<00:00, 55.13it/s, loss=0.0730]\n",
      "Epoch 29 | Training loss: 0.0730, validation accuracy: 0.9758, validation loss: 0.0800\n",
      "100%|██████████| 750/750 [00:13<00:00, 56.82it/s, loss=0.0710]\n",
      "Epoch 30 | Training loss: 0.0710, validation accuracy: 0.9762, validation loss: 0.0797\n"
     ]
    }
   ],
   "source": [
    "epochs = 30\n",
    "\n",
    "for epoch in range(epochs):\n",
    "    train_loss = trainer.train_epoch(model, optimizer, dl[\"train\"])\n",
    "    optimizer.finish_epoch()\n",
    "    val_acc, val_loss = trainer.validation(model, dl[\"valid\"])\n",
    "    logger.log(\"Epoch\", epoch+1, \"|\", \n",
    "          f\"Training loss: {train_loss:.4f}, validation accuracy: {val_acc:.4f}, validation loss: {val_loss:.4f}\")"
   ]
  },
  {
   "cell_type": "code",
   "execution_count": 23,
   "metadata": {},
   "outputs": [
    {
     "name": "stdout",
     "output_type": "stream",
     "text": [
      "Train: (0.9799375, 0.06498752380969623)\n",
      "Valid: (0.9761666666666666, 0.07972234211799999)\n"
     ]
    }
   ],
   "source": [
    "train_score = trainer.validation(model, dl[\"train\"])\n",
    "valid_score = trainer.validation(model, dl[\"valid\"])\n",
    "logger.log(\"Train:\", train_score)\n",
    "logger.log(\"Valid:\", valid_score)"
   ]
  },
  {
   "cell_type": "code",
   "execution_count": 24,
   "metadata": {},
   "outputs": [],
   "source": [
    "optimizer.accelerate()"
   ]
  },
  {
   "cell_type": "code",
   "execution_count": 25,
   "metadata": {},
   "outputs": [
    {
     "data": {
      "text/plain": [
       "Sequential(\n",
       "  (0): Conv2d(1, 32, kernel_size=(3, 3), stride=(1, 1))\n",
       "  (1): ReLU()\n",
       "  (2): Conv2d(32, 32, kernel_size=(3, 3), stride=(1, 1))\n",
       "  (3): ReLU()\n",
       "  (4): MaxPool2d(kernel_size=2, stride=2, padding=0, dilation=1, ceil_mode=False)\n",
       "  (5): Conv2d(32, 64, kernel_size=(3, 3), stride=(1, 1))\n",
       "  (6): ReLU()\n",
       "  (7): Conv2d(64, 64, kernel_size=(3, 3), stride=(1, 1))\n",
       "  (8): ReLU()\n",
       "  (9): MaxPool2d(kernel_size=2, stride=2, padding=0, dilation=1, ceil_mode=False)\n",
       "  (10): Flatten(start_dim=1, end_dim=-1)\n",
       "  (11): Linear(in_features=1024, out_features=128, bias=True)\n",
       "  (12): ReLU()\n",
       "  (13): Linear(in_features=128, out_features=10, bias=True)\n",
       "  (14): LogSoftmax(dim=-1)\n",
       ")"
      ]
     },
     "execution_count": 25,
     "metadata": {},
     "output_type": "execute_result"
    }
   ],
   "source": [
    "optimizer.store_parameters()\n",
    "model.cuda()"
   ]
  },
  {
   "cell_type": "code",
   "execution_count": 26,
   "metadata": {},
   "outputs": [
    {
     "name": "stdout",
     "output_type": "stream",
     "text": [
      "Train: (0.9762083333333333, 0.07590009386464953)\n",
      "Valid: (0.9741666666666666, 0.08678819672514995)\n"
     ]
    }
   ],
   "source": [
    "train_score = trainer.validation(model, dl[\"train\"])\n",
    "valid_score = trainer.validation(model, dl[\"valid\"])\n",
    "logger.log(\"Train:\", train_score)\n",
    "logger.log(\"Valid:\", valid_score)"
   ]
  },
  {
   "cell_type": "code",
   "execution_count": null,
   "metadata": {},
   "outputs": [],
   "source": []
  }
 ],
 "metadata": {
  "kernelspec": {
   "display_name": "Python 3 (Torch)",
   "language": "python",
   "name": "torch"
  },
  "language_info": {
   "codemirror_mode": {
    "name": "ipython",
    "version": 3
   },
   "file_extension": ".py",
   "mimetype": "text/x-python",
   "name": "python",
   "nbconvert_exporter": "python",
   "pygments_lexer": "ipython3",
   "version": "3.8.11"
  }
 },
 "nbformat": 4,
 "nbformat_minor": 4
}
