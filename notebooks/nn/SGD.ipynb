{
 "cells": [
  {
   "cell_type": "code",
   "execution_count": 1,
   "metadata": {},
   "outputs": [],
   "source": [
    "import sys\n",
    "sys.path.insert(0, \"../..\")"
   ]
  },
  {
   "cell_type": "code",
   "execution_count": 2,
   "metadata": {},
   "outputs": [],
   "source": [
    "import torch\n",
    "from torch import nn\n",
    "import numpy as np\n",
    "from copy import deepcopy\n",
    "\n",
    "from nn_extrapolation import AcceleratedSGD\n",
    "from nn_utils import *"
   ]
  },
  {
   "cell_type": "code",
   "execution_count": 3,
   "metadata": {},
   "outputs": [
    {
     "data": {
      "text/plain": [
       "True"
      ]
     },
     "execution_count": 3,
     "metadata": {},
     "output_type": "execute_result"
    }
   ],
   "source": [
    "torch.cuda.is_available()"
   ]
  },
  {
   "cell_type": "code",
   "execution_count": 4,
   "metadata": {},
   "outputs": [],
   "source": [
    "trainer = Trainer(\n",
    "    device=\"cuda\",\n",
    "    loss_fn=nn.NLLLoss(reduction=\"mean\"),\n",
    "    val_loss_fn=nn.NLLLoss(reduction=\"sum\"),\n",
    ")"
   ]
  },
  {
   "cell_type": "code",
   "execution_count": 5,
   "metadata": {},
   "outputs": [],
   "source": [
    "dl = load_dataset(\n",
    "    dataset=\"mnist\", \n",
    "    root=\"../../../MNIST\", \n",
    "    download=False, \n",
    "    validation_split=0.2,\n",
    "    batch_size=64, \n",
    "    num_workers=12,\n",
    ")"
   ]
  },
  {
   "cell_type": "code",
   "execution_count": 6,
   "metadata": {},
   "outputs": [
    {
     "data": {
      "text/plain": [
       "Sequential(\n",
       "  (0): Conv2d(1, 32, kernel_size=(3, 3), stride=(1, 1))\n",
       "  (1): ReLU()\n",
       "  (2): Conv2d(32, 32, kernel_size=(3, 3), stride=(1, 1))\n",
       "  (3): ReLU()\n",
       "  (4): MaxPool2d(kernel_size=2, stride=2, padding=0, dilation=1, ceil_mode=False)\n",
       "  (5): Conv2d(32, 64, kernel_size=(3, 3), stride=(1, 1))\n",
       "  (6): ReLU()\n",
       "  (7): Conv2d(64, 64, kernel_size=(3, 3), stride=(1, 1))\n",
       "  (8): ReLU()\n",
       "  (9): MaxPool2d(kernel_size=2, stride=2, padding=0, dilation=1, ceil_mode=False)\n",
       "  (10): Flatten(start_dim=1, end_dim=-1)\n",
       "  (11): Linear(in_features=1024, out_features=128, bias=True)\n",
       "  (12): ReLU()\n",
       "  (13): Linear(in_features=128, out_features=10, bias=True)\n",
       "  (14): LogSoftmax(dim=-1)\n",
       ")"
      ]
     },
     "execution_count": 6,
     "metadata": {},
     "output_type": "execute_result"
    }
   ],
   "source": [
    "model = nn.Sequential(\n",
    "    nn.Conv2d(1, 32, 3),\n",
    "    nn.ReLU(),\n",
    "    nn.Conv2d(32, 32, 3),\n",
    "    nn.ReLU(),\n",
    "    nn.MaxPool2d(2),\n",
    "    nn.Conv2d(32, 64, 3),\n",
    "    nn.ReLU(),\n",
    "    nn.Conv2d(64, 64, 3),\n",
    "    nn.ReLU(),\n",
    "    nn.MaxPool2d(2),\n",
    "    nn.Flatten(),\n",
    "    nn.Linear(4*4*64, 128),\n",
    "    nn.ReLU(),\n",
    "    nn.Linear(128, 10),\n",
    "    nn.LogSoftmax(-1),\n",
    ")\n",
    "model.cuda()"
   ]
  },
  {
   "cell_type": "code",
   "execution_count": 7,
   "metadata": {},
   "outputs": [],
   "source": [
    "initial_state = deepcopy(model.state_dict())"
   ]
  },
  {
   "cell_type": "code",
   "execution_count": 8,
   "metadata": {},
   "outputs": [],
   "source": [
    "optimizer = AcceleratedSGD(model.parameters(), 1e-3, k=10, mode=\"epoch\", method=\"RNA\")\n",
    "logger = Logger(\"SGD.txt\")"
   ]
  },
  {
   "cell_type": "markdown",
   "metadata": {},
   "source": [
    "## Epoch"
   ]
  },
  {
   "cell_type": "code",
   "execution_count": 9,
   "metadata": {
    "tags": []
   },
   "outputs": [
    {
     "name": "stdout",
     "output_type": "stream",
     "text": [
      "100%|██████████| 750/750 [00:07<00:00, 100.08it/s, loss=2.3001]\n",
      "Epoch 1 | Training loss: 2.3001, validation accuracy: 0.0973, validation loss: 2.2968\n",
      "100%|██████████| 750/750 [00:07<00:00, 99.85it/s, loss=2.2890] \n",
      "Epoch 2 | Training loss: 2.2890, validation accuracy: 0.2014, validation loss: 2.2806\n",
      "100%|██████████| 750/750 [00:07<00:00, 103.60it/s, loss=2.2543]\n",
      "Epoch 3 | Training loss: 2.2543, validation accuracy: 0.4482, validation loss: 2.2046\n",
      "100%|██████████| 750/750 [00:07<00:00, 102.61it/s, loss=1.7666]\n",
      "Epoch 4 | Training loss: 1.7666, validation accuracy: 0.7831, validation loss: 0.8356\n",
      "100%|██████████| 750/750 [00:07<00:00, 103.56it/s, loss=0.5810]\n",
      "Epoch 5 | Training loss: 0.5810, validation accuracy: 0.8716, validation loss: 0.4288\n",
      "100%|██████████| 750/750 [00:07<00:00, 102.40it/s, loss=0.4092]\n",
      "Epoch 6 | Training loss: 0.4092, validation accuracy: 0.9009, validation loss: 0.3326\n",
      "100%|██████████| 750/750 [00:07<00:00, 104.90it/s, loss=0.3325]\n",
      "Epoch 7 | Training loss: 0.3325, validation accuracy: 0.9185, validation loss: 0.2738\n",
      "100%|██████████| 750/750 [00:07<00:00, 102.40it/s, loss=0.2786]\n",
      "Epoch 8 | Training loss: 0.2786, validation accuracy: 0.9295, validation loss: 0.2405\n",
      "100%|██████████| 750/750 [00:07<00:00, 101.84it/s, loss=0.2422]\n",
      "Epoch 9 | Training loss: 0.2422, validation accuracy: 0.9363, validation loss: 0.2132\n",
      "100%|██████████| 750/750 [00:07<00:00, 100.10it/s, loss=0.2111]\n",
      "Epoch 10 | Training loss: 0.2111, validation accuracy: 0.9410, validation loss: 0.1926\n",
      "100%|██████████| 750/750 [00:07<00:00, 101.30it/s, loss=0.1890]\n",
      "Epoch 11 | Training loss: 0.1890, validation accuracy: 0.9507, validation loss: 0.1661\n",
      "100%|██████████| 750/750 [00:07<00:00, 101.40it/s, loss=0.1714]\n",
      "Epoch 12 | Training loss: 0.1714, validation accuracy: 0.9544, validation loss: 0.1571\n",
      "100%|██████████| 750/750 [00:07<00:00, 101.38it/s, loss=0.1551]\n",
      "Epoch 13 | Training loss: 0.1551, validation accuracy: 0.9521, validation loss: 0.1567\n",
      "100%|██████████| 750/750 [00:07<00:00, 103.46it/s, loss=0.1431]\n",
      "Epoch 14 | Training loss: 0.1431, validation accuracy: 0.9591, validation loss: 0.1390\n",
      "100%|██████████| 750/750 [00:07<00:00, 101.70it/s, loss=0.1326]\n",
      "Epoch 15 | Training loss: 0.1326, validation accuracy: 0.9604, validation loss: 0.1301\n",
      "100%|██████████| 750/750 [00:07<00:00, 102.21it/s, loss=0.1240]\n",
      "Epoch 16 | Training loss: 0.1240, validation accuracy: 0.9653, validation loss: 0.1196\n",
      "100%|██████████| 750/750 [00:07<00:00, 103.02it/s, loss=0.1171]\n",
      "Epoch 17 | Training loss: 0.1171, validation accuracy: 0.9657, validation loss: 0.1130\n",
      "100%|██████████| 750/750 [00:07<00:00, 101.77it/s, loss=0.1098]\n",
      "Epoch 18 | Training loss: 0.1098, validation accuracy: 0.9670, validation loss: 0.1111\n",
      "100%|██████████| 750/750 [00:07<00:00, 101.40it/s, loss=0.1043]\n",
      "Epoch 19 | Training loss: 0.1043, validation accuracy: 0.9683, validation loss: 0.1090\n",
      "100%|██████████| 750/750 [00:07<00:00, 101.29it/s, loss=0.0985]\n",
      "Epoch 20 | Training loss: 0.0985, validation accuracy: 0.9667, validation loss: 0.1096\n",
      "100%|██████████| 750/750 [00:07<00:00, 103.42it/s, loss=0.0945]\n",
      "Epoch 21 | Training loss: 0.0945, validation accuracy: 0.9677, validation loss: 0.1060\n",
      "100%|██████████| 750/750 [00:07<00:00, 103.38it/s, loss=0.0910]\n",
      "Epoch 22 | Training loss: 0.0910, validation accuracy: 0.9728, validation loss: 0.0944\n",
      "100%|██████████| 750/750 [00:07<00:00, 105.18it/s, loss=0.0872]\n",
      "Epoch 23 | Training loss: 0.0872, validation accuracy: 0.9712, validation loss: 0.0951\n",
      "100%|██████████| 750/750 [00:07<00:00, 103.60it/s, loss=0.0841]\n",
      "Epoch 24 | Training loss: 0.0841, validation accuracy: 0.9719, validation loss: 0.0943\n",
      "100%|██████████| 750/750 [00:07<00:00, 103.08it/s, loss=0.0806]\n",
      "Epoch 25 | Training loss: 0.0806, validation accuracy: 0.9723, validation loss: 0.0890\n",
      "100%|██████████| 750/750 [00:07<00:00, 102.87it/s, loss=0.0782]\n",
      "Epoch 26 | Training loss: 0.0782, validation accuracy: 0.9727, validation loss: 0.0904\n",
      "100%|██████████| 750/750 [00:07<00:00, 99.39it/s, loss=0.0759] \n",
      "Epoch 27 | Training loss: 0.0759, validation accuracy: 0.9743, validation loss: 0.0840\n",
      "100%|██████████| 750/750 [00:07<00:00, 102.33it/s, loss=0.0732]\n",
      "Epoch 28 | Training loss: 0.0732, validation accuracy: 0.9748, validation loss: 0.0826\n",
      "100%|██████████| 750/750 [00:07<00:00, 102.49it/s, loss=0.0703]\n",
      "Epoch 29 | Training loss: 0.0703, validation accuracy: 0.9751, validation loss: 0.0805\n",
      "100%|██████████| 750/750 [00:07<00:00, 102.97it/s, loss=0.0689]\n",
      "Epoch 30 | Training loss: 0.0689, validation accuracy: 0.9749, validation loss: 0.0811\n"
     ]
    }
   ],
   "source": [
    "torch.manual_seed(2020)\n",
    "epochs = 30\n",
    "\n",
    "for epoch in range(epochs):\n",
    "    train_loss = trainer.train_epoch(model, optimizer, dl[\"train\"])\n",
    "    optimizer.finish_epoch()\n",
    "    val_acc, val_loss = trainer.validation(model, dl[\"valid\"])\n",
    "    logger.log(\"Epoch\", epoch+1, \"|\", \n",
    "          f\"Training loss: {train_loss:.4f}, validation accuracy: {val_acc:.4f}, validation loss: {val_loss:.4f}\")"
   ]
  },
  {
   "cell_type": "code",
   "execution_count": 10,
   "metadata": {},
   "outputs": [
    {
     "name": "stdout",
     "output_type": "stream",
     "text": [
      "Train: (0.98025, 0.06479943061837305)\n",
      "Valid: (0.9749166666666667, 0.0810826615827779)\n"
     ]
    }
   ],
   "source": [
    "train_score = trainer.validation(model, dl[\"train\"])\n",
    "valid_score = trainer.validation(model, dl[\"valid\"])\n",
    "logger.log(\"Train:\", train_score)\n",
    "logger.log(\"Valid:\", valid_score)"
   ]
  },
  {
   "cell_type": "code",
   "execution_count": 11,
   "metadata": {},
   "outputs": [],
   "source": [
    "optimizer.accelerate()"
   ]
  },
  {
   "cell_type": "code",
   "execution_count": 12,
   "metadata": {},
   "outputs": [
    {
     "data": {
      "text/plain": [
       "Sequential(\n",
       "  (0): Conv2d(1, 32, kernel_size=(3, 3), stride=(1, 1))\n",
       "  (1): ReLU()\n",
       "  (2): Conv2d(32, 32, kernel_size=(3, 3), stride=(1, 1))\n",
       "  (3): ReLU()\n",
       "  (4): MaxPool2d(kernel_size=2, stride=2, padding=0, dilation=1, ceil_mode=False)\n",
       "  (5): Conv2d(32, 64, kernel_size=(3, 3), stride=(1, 1))\n",
       "  (6): ReLU()\n",
       "  (7): Conv2d(64, 64, kernel_size=(3, 3), stride=(1, 1))\n",
       "  (8): ReLU()\n",
       "  (9): MaxPool2d(kernel_size=2, stride=2, padding=0, dilation=1, ceil_mode=False)\n",
       "  (10): Flatten(start_dim=1, end_dim=-1)\n",
       "  (11): Linear(in_features=1024, out_features=128, bias=True)\n",
       "  (12): ReLU()\n",
       "  (13): Linear(in_features=128, out_features=10, bias=True)\n",
       "  (14): LogSoftmax(dim=-1)\n",
       ")"
      ]
     },
     "execution_count": 12,
     "metadata": {},
     "output_type": "execute_result"
    }
   ],
   "source": [
    "optimizer.store_parameters()\n",
    "model.cuda()"
   ]
  },
  {
   "cell_type": "code",
   "execution_count": 13,
   "metadata": {},
   "outputs": [
    {
     "name": "stdout",
     "output_type": "stream",
     "text": [
      "Train: (0.9812083333333333, 0.06093290462344885)\n",
      "Valid: (0.97575, 0.07702405818800132)\n"
     ]
    }
   ],
   "source": [
    "train_score = trainer.validation(model, dl[\"train\"])\n",
    "valid_score = trainer.validation(model, dl[\"valid\"])\n",
    "logger.log(\"Train:\", train_score)\n",
    "logger.log(\"Valid:\", valid_score)"
   ]
  },
  {
   "cell_type": "markdown",
   "metadata": {},
   "source": [
    "## Epoch average"
   ]
  },
  {
   "cell_type": "code",
   "execution_count": 14,
   "metadata": {},
   "outputs": [
    {
     "data": {
      "text/plain": [
       "<All keys matched successfully>"
      ]
     },
     "execution_count": 14,
     "metadata": {},
     "output_type": "execute_result"
    }
   ],
   "source": [
    "optimizer = AcceleratedSGD(model.parameters(), 1e-3, k=10, mode=\"epoch_avg\", method=\"RNA\")\n",
    "logger = Logger(\"SGD-avg.txt\")\n",
    "model.load_state_dict(initial_state)"
   ]
  },
  {
   "cell_type": "code",
   "execution_count": 15,
   "metadata": {},
   "outputs": [
    {
     "name": "stdout",
     "output_type": "stream",
     "text": [
      "100%|██████████| 750/750 [00:07<00:00, 98.64it/s, loss=2.3001] \n",
      "Epoch 1 | Training loss: 2.3001, validation accuracy: 0.0973, validation loss: 2.2968\n",
      "100%|██████████| 750/750 [00:07<00:00, 94.93it/s, loss=2.2890] \n",
      "Epoch 2 | Training loss: 2.2890, validation accuracy: 0.2014, validation loss: 2.2806\n",
      "100%|██████████| 750/750 [00:07<00:00, 98.46it/s, loss=2.2543] \n",
      "Epoch 3 | Training loss: 2.2543, validation accuracy: 0.4482, validation loss: 2.2046\n",
      "100%|██████████| 750/750 [00:07<00:00, 100.03it/s, loss=1.7666]\n",
      "Epoch 4 | Training loss: 1.7666, validation accuracy: 0.7831, validation loss: 0.8357\n",
      "100%|██████████| 750/750 [00:07<00:00, 99.74it/s, loss=0.5811] \n",
      "Epoch 5 | Training loss: 0.5811, validation accuracy: 0.8718, validation loss: 0.4288\n",
      "100%|██████████| 750/750 [00:07<00:00, 96.74it/s, loss=0.4091] \n",
      "Epoch 6 | Training loss: 0.4091, validation accuracy: 0.9010, validation loss: 0.3324\n",
      "100%|██████████| 750/750 [00:07<00:00, 99.45it/s, loss=0.3325] \n",
      "Epoch 7 | Training loss: 0.3325, validation accuracy: 0.9187, validation loss: 0.2739\n",
      "100%|██████████| 750/750 [00:07<00:00, 100.99it/s, loss=0.2787]\n",
      "Epoch 8 | Training loss: 0.2787, validation accuracy: 0.9292, validation loss: 0.2407\n",
      "100%|██████████| 750/750 [00:07<00:00, 98.82it/s, loss=0.2423] \n",
      "Epoch 9 | Training loss: 0.2423, validation accuracy: 0.9367, validation loss: 0.2130\n",
      "100%|██████████| 750/750 [00:07<00:00, 97.67it/s, loss=0.2111] \n",
      "Epoch 10 | Training loss: 0.2111, validation accuracy: 0.9414, validation loss: 0.1926\n",
      "100%|██████████| 750/750 [00:07<00:00, 98.81it/s, loss=0.1889] \n",
      "Epoch 11 | Training loss: 0.1889, validation accuracy: 0.9505, validation loss: 0.1662\n",
      "100%|██████████| 750/750 [00:07<00:00, 101.30it/s, loss=0.1713]\n",
      "Epoch 12 | Training loss: 0.1713, validation accuracy: 0.9546, validation loss: 0.1574\n",
      "100%|██████████| 750/750 [00:07<00:00, 99.34it/s, loss=0.1550] \n",
      "Epoch 13 | Training loss: 0.1550, validation accuracy: 0.9527, validation loss: 0.1566\n",
      "100%|██████████| 750/750 [00:07<00:00, 104.14it/s, loss=0.1430]\n",
      "Epoch 14 | Training loss: 0.1430, validation accuracy: 0.9586, validation loss: 0.1392\n",
      "100%|██████████| 750/750 [00:07<00:00, 100.96it/s, loss=0.1325]\n",
      "Epoch 15 | Training loss: 0.1325, validation accuracy: 0.9611, validation loss: 0.1300\n",
      "100%|██████████| 750/750 [00:07<00:00, 100.38it/s, loss=0.1238]\n",
      "Epoch 16 | Training loss: 0.1238, validation accuracy: 0.9653, validation loss: 0.1194\n",
      "100%|██████████| 750/750 [00:07<00:00, 103.11it/s, loss=0.1169]\n",
      "Epoch 17 | Training loss: 0.1169, validation accuracy: 0.9653, validation loss: 0.1129\n",
      "100%|██████████| 750/750 [00:07<00:00, 100.07it/s, loss=0.1097]\n",
      "Epoch 18 | Training loss: 0.1097, validation accuracy: 0.9667, validation loss: 0.1112\n",
      "100%|██████████| 750/750 [00:07<00:00, 100.89it/s, loss=0.1042]\n",
      "Epoch 19 | Training loss: 0.1042, validation accuracy: 0.9683, validation loss: 0.1094\n",
      "100%|██████████| 750/750 [00:07<00:00, 98.74it/s, loss=0.0984] \n",
      "Epoch 20 | Training loss: 0.0984, validation accuracy: 0.9667, validation loss: 0.1100\n",
      "100%|██████████| 750/750 [00:07<00:00, 101.72it/s, loss=0.0944]\n",
      "Epoch 21 | Training loss: 0.0944, validation accuracy: 0.9672, validation loss: 0.1061\n",
      "100%|██████████| 750/750 [00:07<00:00, 99.88it/s, loss=0.0908] \n",
      "Epoch 22 | Training loss: 0.0908, validation accuracy: 0.9736, validation loss: 0.0942\n",
      "100%|██████████| 750/750 [00:07<00:00, 99.92it/s, loss=0.0871] \n",
      "Epoch 23 | Training loss: 0.0871, validation accuracy: 0.9718, validation loss: 0.0951\n",
      "100%|██████████| 750/750 [00:07<00:00, 101.02it/s, loss=0.0840]\n",
      "Epoch 24 | Training loss: 0.0840, validation accuracy: 0.9718, validation loss: 0.0946\n",
      "100%|██████████| 750/750 [00:07<00:00, 100.47it/s, loss=0.0804]\n",
      "Epoch 25 | Training loss: 0.0804, validation accuracy: 0.9727, validation loss: 0.0891\n",
      "100%|██████████| 750/750 [00:07<00:00, 97.69it/s, loss=0.0780] \n",
      "Epoch 26 | Training loss: 0.0780, validation accuracy: 0.9730, validation loss: 0.0901\n",
      "100%|██████████| 750/750 [00:07<00:00, 101.42it/s, loss=0.0758]\n",
      "Epoch 27 | Training loss: 0.0758, validation accuracy: 0.9739, validation loss: 0.0838\n",
      "100%|██████████| 750/750 [00:07<00:00, 102.21it/s, loss=0.0732]\n",
      "Epoch 28 | Training loss: 0.0732, validation accuracy: 0.9744, validation loss: 0.0826\n",
      "100%|██████████| 750/750 [00:07<00:00, 101.36it/s, loss=0.0703]\n",
      "Epoch 29 | Training loss: 0.0703, validation accuracy: 0.9756, validation loss: 0.0808\n",
      "100%|██████████| 750/750 [00:07<00:00, 100.33it/s, loss=0.0689]\n",
      "Epoch 30 | Training loss: 0.0689, validation accuracy: 0.9752, validation loss: 0.0807\n"
     ]
    }
   ],
   "source": [
    "torch.manual_seed(2020)\n",
    "epochs = 30\n",
    "\n",
    "for epoch in range(epochs):\n",
    "    train_loss = trainer.train_epoch(model, optimizer, dl[\"train\"])\n",
    "    optimizer.finish_epoch()\n",
    "    val_acc, val_loss = trainer.validation(model, dl[\"valid\"])\n",
    "    logger.log(\"Epoch\", epoch+1, \"|\", \n",
    "          f\"Training loss: {train_loss:.4f}, validation accuracy: {val_acc:.4f}, validation loss: {val_loss:.4f}\")"
   ]
  },
  {
   "cell_type": "code",
   "execution_count": 16,
   "metadata": {},
   "outputs": [
    {
     "name": "stdout",
     "output_type": "stream",
     "text": [
      "Train: (0.9803958333333334, 0.06431959083303809)\n",
      "Valid: (0.97525, 0.08072126029680173)\n"
     ]
    }
   ],
   "source": [
    "train_score = trainer.validation(model, dl[\"train\"])\n",
    "valid_score = trainer.validation(model, dl[\"valid\"])\n",
    "logger.log(\"Train:\", train_score)\n",
    "logger.log(\"Valid:\", valid_score)"
   ]
  },
  {
   "cell_type": "code",
   "execution_count": 17,
   "metadata": {},
   "outputs": [],
   "source": [
    "optimizer.accelerate()"
   ]
  },
  {
   "cell_type": "code",
   "execution_count": 18,
   "metadata": {},
   "outputs": [
    {
     "data": {
      "text/plain": [
       "Sequential(\n",
       "  (0): Conv2d(1, 32, kernel_size=(3, 3), stride=(1, 1))\n",
       "  (1): ReLU()\n",
       "  (2): Conv2d(32, 32, kernel_size=(3, 3), stride=(1, 1))\n",
       "  (3): ReLU()\n",
       "  (4): MaxPool2d(kernel_size=2, stride=2, padding=0, dilation=1, ceil_mode=False)\n",
       "  (5): Conv2d(32, 64, kernel_size=(3, 3), stride=(1, 1))\n",
       "  (6): ReLU()\n",
       "  (7): Conv2d(64, 64, kernel_size=(3, 3), stride=(1, 1))\n",
       "  (8): ReLU()\n",
       "  (9): MaxPool2d(kernel_size=2, stride=2, padding=0, dilation=1, ceil_mode=False)\n",
       "  (10): Flatten(start_dim=1, end_dim=-1)\n",
       "  (11): Linear(in_features=1024, out_features=128, bias=True)\n",
       "  (12): ReLU()\n",
       "  (13): Linear(in_features=128, out_features=10, bias=True)\n",
       "  (14): LogSoftmax(dim=-1)\n",
       ")"
      ]
     },
     "execution_count": 18,
     "metadata": {},
     "output_type": "execute_result"
    }
   ],
   "source": [
    "optimizer.store_parameters()\n",
    "model.cuda()"
   ]
  },
  {
   "cell_type": "code",
   "execution_count": 19,
   "metadata": {},
   "outputs": [
    {
     "name": "stdout",
     "output_type": "stream",
     "text": [
      "Train: (0.9751041666666667, 0.08772928147763014)\n",
      "Valid: (0.9718333333333333, 0.09713368124514818)\n"
     ]
    }
   ],
   "source": [
    "train_score = trainer.validation(model, dl[\"train\"])\n",
    "valid_score = trainer.validation(model, dl[\"valid\"])\n",
    "logger.log(\"Train:\", train_score)\n",
    "logger.log(\"Valid:\", valid_score)"
   ]
  },
  {
   "cell_type": "markdown",
   "metadata": {},
   "source": [
    "## Split + epoch"
   ]
  },
  {
   "cell_type": "code",
   "execution_count": 32,
   "metadata": {},
   "outputs": [],
   "source": [
    "logger = Logger(\"SGD-split.txt\")\n",
    "model.load_state_dict(initial_state)\n",
    "groups = [{\"params\": [param]} for param in model.parameters()]\n",
    "optimizer = AcceleratedSGD(groups, 1e-3, k=10, mode=\"epoch\")"
   ]
  },
  {
   "cell_type": "code",
   "execution_count": 33,
   "metadata": {
    "tags": []
   },
   "outputs": [
    {
     "name": "stdout",
     "output_type": "stream",
     "text": [
      "100%|██████████| 750/750 [00:07<00:00, 99.17it/s, loss=2.3001] \n",
      "Epoch 1 | Training loss: 2.3001, validation accuracy: 0.0973, validation loss: 2.2968\n",
      "100%|██████████| 750/750 [00:07<00:00, 100.42it/s, loss=2.2890]\n",
      "Epoch 2 | Training loss: 2.2890, validation accuracy: 0.2015, validation loss: 2.2806\n",
      "100%|██████████| 750/750 [00:07<00:00, 103.58it/s, loss=2.2543]\n",
      "Epoch 3 | Training loss: 2.2543, validation accuracy: 0.4482, validation loss: 2.2046\n",
      "100%|██████████| 750/750 [00:07<00:00, 99.06it/s, loss=1.7664] \n",
      "Epoch 4 | Training loss: 1.7664, validation accuracy: 0.7831, validation loss: 0.8354\n",
      "100%|██████████| 750/750 [00:07<00:00, 101.39it/s, loss=0.5811]\n",
      "Epoch 5 | Training loss: 0.5811, validation accuracy: 0.8718, validation loss: 0.4288\n",
      "100%|██████████| 750/750 [00:07<00:00, 99.29it/s, loss=0.4092] \n",
      "Epoch 6 | Training loss: 0.4092, validation accuracy: 0.9010, validation loss: 0.3324\n",
      "100%|██████████| 750/750 [00:07<00:00, 100.14it/s, loss=0.3326]\n",
      "Epoch 7 | Training loss: 0.3326, validation accuracy: 0.9188, validation loss: 0.2738\n",
      "100%|██████████| 750/750 [00:07<00:00, 103.05it/s, loss=0.2787]\n",
      "Epoch 8 | Training loss: 0.2787, validation accuracy: 0.9295, validation loss: 0.2408\n",
      "100%|██████████| 750/750 [00:07<00:00, 99.81it/s, loss=0.2423] \n",
      "Epoch 9 | Training loss: 0.2423, validation accuracy: 0.9368, validation loss: 0.2130\n",
      "100%|██████████| 750/750 [00:07<00:00, 102.58it/s, loss=0.2112]\n",
      "Epoch 10 | Training loss: 0.2112, validation accuracy: 0.9408, validation loss: 0.1926\n",
      "100%|██████████| 750/750 [00:07<00:00, 101.69it/s, loss=0.1890]\n",
      "Epoch 11 | Training loss: 0.1890, validation accuracy: 0.9505, validation loss: 0.1662\n",
      "100%|██████████| 750/750 [00:07<00:00, 101.52it/s, loss=0.1714]\n",
      "Epoch 12 | Training loss: 0.1714, validation accuracy: 0.9547, validation loss: 0.1571\n",
      "100%|██████████| 750/750 [00:07<00:00, 100.92it/s, loss=0.1552]\n",
      "Epoch 13 | Training loss: 0.1552, validation accuracy: 0.9520, validation loss: 0.1568\n",
      "100%|██████████| 750/750 [00:07<00:00, 105.47it/s, loss=0.1432]\n",
      "Epoch 14 | Training loss: 0.1432, validation accuracy: 0.9588, validation loss: 0.1392\n",
      "100%|██████████| 750/750 [00:07<00:00, 103.19it/s, loss=0.1327]\n",
      "Epoch 15 | Training loss: 0.1327, validation accuracy: 0.9609, validation loss: 0.1302\n",
      "100%|██████████| 750/750 [00:07<00:00, 100.88it/s, loss=0.1240]\n",
      "Epoch 16 | Training loss: 0.1240, validation accuracy: 0.9653, validation loss: 0.1197\n",
      "100%|██████████| 750/750 [00:07<00:00, 103.25it/s, loss=0.1171]\n",
      "Epoch 17 | Training loss: 0.1171, validation accuracy: 0.9654, validation loss: 0.1130\n",
      "100%|██████████| 750/750 [00:07<00:00, 102.86it/s, loss=0.1098]\n",
      "Epoch 18 | Training loss: 0.1098, validation accuracy: 0.9669, validation loss: 0.1110\n",
      "100%|██████████| 750/750 [00:07<00:00, 102.01it/s, loss=0.1043]\n",
      "Epoch 19 | Training loss: 0.1043, validation accuracy: 0.9686, validation loss: 0.1092\n",
      "100%|██████████| 750/750 [00:07<00:00, 103.10it/s, loss=0.0985]\n",
      "Epoch 20 | Training loss: 0.0985, validation accuracy: 0.9667, validation loss: 0.1097\n",
      "100%|██████████| 750/750 [00:07<00:00, 100.34it/s, loss=0.0945]\n",
      "Epoch 21 | Training loss: 0.0945, validation accuracy: 0.9674, validation loss: 0.1060\n",
      "100%|██████████| 750/750 [00:07<00:00, 104.48it/s, loss=0.0910]\n",
      "Epoch 22 | Training loss: 0.0910, validation accuracy: 0.9727, validation loss: 0.0943\n",
      "100%|██████████| 750/750 [00:07<00:00, 103.21it/s, loss=0.0873]\n",
      "Epoch 23 | Training loss: 0.0873, validation accuracy: 0.9712, validation loss: 0.0950\n",
      "100%|██████████| 750/750 [00:07<00:00, 101.62it/s, loss=0.0842]\n",
      "Epoch 24 | Training loss: 0.0842, validation accuracy: 0.9718, validation loss: 0.0945\n",
      "100%|██████████| 750/750 [00:07<00:00, 103.38it/s, loss=0.0806]\n",
      "Epoch 25 | Training loss: 0.0806, validation accuracy: 0.9726, validation loss: 0.0890\n",
      "100%|██████████| 750/750 [00:07<00:00, 104.03it/s, loss=0.0782]\n",
      "Epoch 26 | Training loss: 0.0782, validation accuracy: 0.9726, validation loss: 0.0903\n",
      "100%|██████████| 750/750 [00:07<00:00, 102.77it/s, loss=0.0759]\n",
      "Epoch 27 | Training loss: 0.0759, validation accuracy: 0.9739, validation loss: 0.0839\n",
      "100%|██████████| 750/750 [00:07<00:00, 105.49it/s, loss=0.0733]\n",
      "Epoch 28 | Training loss: 0.0733, validation accuracy: 0.9748, validation loss: 0.0825\n",
      "100%|██████████| 750/750 [00:07<00:00, 101.61it/s, loss=0.0705]\n",
      "Epoch 29 | Training loss: 0.0705, validation accuracy: 0.9753, validation loss: 0.0809\n",
      "100%|██████████| 750/750 [00:07<00:00, 102.74it/s, loss=0.0691]\n",
      "Epoch 30 | Training loss: 0.0691, validation accuracy: 0.9750, validation loss: 0.0811\n"
     ]
    }
   ],
   "source": [
    "torch.manual_seed(2020)\n",
    "epochs = 30\n",
    "\n",
    "for epoch in range(epochs):\n",
    "    train_loss = trainer.train_epoch(model, optimizer, dl[\"train\"])\n",
    "    optimizer.finish_epoch()\n",
    "    val_acc, val_loss = trainer.validation(model, dl[\"valid\"])\n",
    "    logger.log(\"Epoch\", epoch+1, \"|\", \n",
    "          f\"Training loss: {train_loss:.4f}, validation accuracy: {val_acc:.4f}, validation loss: {val_loss:.4f}\")"
   ]
  },
  {
   "cell_type": "code",
   "execution_count": 34,
   "metadata": {},
   "outputs": [
    {
     "name": "stdout",
     "output_type": "stream",
     "text": [
      "Train: (0.9800625, 0.06498881517040232)\n",
      "Valid: (0.975, 0.08112968947614232)\n"
     ]
    }
   ],
   "source": [
    "train_score = trainer.validation(model, dl[\"train\"])\n",
    "valid_score = trainer.validation(model, dl[\"valid\"])\n",
    "logger.log(\"Train:\", train_score)\n",
    "logger.log(\"Valid:\", valid_score)"
   ]
  },
  {
   "cell_type": "code",
   "execution_count": 35,
   "metadata": {},
   "outputs": [],
   "source": [
    "optimizer.accelerate()"
   ]
  },
  {
   "cell_type": "code",
   "execution_count": 36,
   "metadata": {},
   "outputs": [
    {
     "data": {
      "text/plain": [
       "Sequential(\n",
       "  (0): Conv2d(1, 32, kernel_size=(3, 3), stride=(1, 1))\n",
       "  (1): ReLU()\n",
       "  (2): Conv2d(32, 32, kernel_size=(3, 3), stride=(1, 1))\n",
       "  (3): ReLU()\n",
       "  (4): MaxPool2d(kernel_size=2, stride=2, padding=0, dilation=1, ceil_mode=False)\n",
       "  (5): Conv2d(32, 64, kernel_size=(3, 3), stride=(1, 1))\n",
       "  (6): ReLU()\n",
       "  (7): Conv2d(64, 64, kernel_size=(3, 3), stride=(1, 1))\n",
       "  (8): ReLU()\n",
       "  (9): MaxPool2d(kernel_size=2, stride=2, padding=0, dilation=1, ceil_mode=False)\n",
       "  (10): Flatten(start_dim=1, end_dim=-1)\n",
       "  (11): Linear(in_features=1024, out_features=128, bias=True)\n",
       "  (12): ReLU()\n",
       "  (13): Linear(in_features=128, out_features=10, bias=True)\n",
       "  (14): LogSoftmax(dim=-1)\n",
       ")"
      ]
     },
     "execution_count": 36,
     "metadata": {},
     "output_type": "execute_result"
    }
   ],
   "source": [
    "optimizer.store_parameters([[param] for param in model.parameters()])\n",
    "model.cuda()"
   ]
  },
  {
   "cell_type": "code",
   "execution_count": 37,
   "metadata": {},
   "outputs": [
    {
     "name": "stdout",
     "output_type": "stream",
     "text": [
      "Train: (0.9785, 0.06886476942043131)\n",
      "Valid: (0.9743333333333334, 0.08699206533686568)\n"
     ]
    }
   ],
   "source": [
    "train_score = trainer.validation(model, dl[\"train\"])\n",
    "valid_score = trainer.validation(model, dl[\"valid\"])\n",
    "logger.log(\"Train:\", train_score)\n",
    "logger.log(\"Valid:\", valid_score)"
   ]
  },
  {
   "cell_type": "markdown",
   "metadata": {},
   "source": [
    "## Split + epoch average"
   ]
  },
  {
   "cell_type": "code",
   "execution_count": 26,
   "metadata": {},
   "outputs": [],
   "source": [
    "logger = Logger(\"SGD-split-avg.txt\")\n",
    "model.load_state_dict(initial_state)\n",
    "groups = [{\"params\": [param]} for param in model.parameters()]\n",
    "optimizer = AcceleratedSGD(groups, 1e-3, k=10, mode=\"epoch_avg\")"
   ]
  },
  {
   "cell_type": "code",
   "execution_count": 27,
   "metadata": {
    "tags": []
   },
   "outputs": [
    {
     "name": "stdout",
     "output_type": "stream",
     "text": [
      "100%|██████████| 750/750 [00:09<00:00, 80.04it/s, loss=2.3001]\n",
      "Epoch 1 | Training loss: 2.3001, validation accuracy: 0.0973, validation loss: 2.2968\n",
      "100%|██████████| 750/750 [00:09<00:00, 81.56it/s, loss=2.2890]\n",
      "Epoch 2 | Training loss: 2.2890, validation accuracy: 0.2014, validation loss: 2.2806\n",
      "100%|██████████| 750/750 [00:09<00:00, 80.98it/s, loss=2.2543]\n",
      "Epoch 3 | Training loss: 2.2543, validation accuracy: 0.4482, validation loss: 2.2046\n",
      "100%|██████████| 750/750 [00:09<00:00, 82.98it/s, loss=1.7665]\n",
      "Epoch 4 | Training loss: 1.7665, validation accuracy: 0.7831, validation loss: 0.8355\n",
      "100%|██████████| 750/750 [00:09<00:00, 80.27it/s, loss=0.5811]\n",
      "Epoch 5 | Training loss: 0.5811, validation accuracy: 0.8721, validation loss: 0.4288\n",
      "100%|██████████| 750/750 [00:09<00:00, 80.74it/s, loss=0.4092]\n",
      "Epoch 6 | Training loss: 0.4092, validation accuracy: 0.9010, validation loss: 0.3326\n",
      "100%|██████████| 750/750 [00:09<00:00, 81.51it/s, loss=0.3326]\n",
      "Epoch 7 | Training loss: 0.3326, validation accuracy: 0.9187, validation loss: 0.2737\n",
      "100%|██████████| 750/750 [00:09<00:00, 81.16it/s, loss=0.2787]\n",
      "Epoch 8 | Training loss: 0.2787, validation accuracy: 0.9295, validation loss: 0.2407\n",
      "100%|██████████| 750/750 [00:09<00:00, 80.56it/s, loss=0.2423]\n",
      "Epoch 9 | Training loss: 0.2423, validation accuracy: 0.9365, validation loss: 0.2129\n",
      "100%|██████████| 750/750 [00:09<00:00, 81.62it/s, loss=0.2112]\n",
      "Epoch 10 | Training loss: 0.2112, validation accuracy: 0.9410, validation loss: 0.1925\n",
      "100%|██████████| 750/750 [00:09<00:00, 80.06it/s, loss=0.1890]\n",
      "Epoch 11 | Training loss: 0.1890, validation accuracy: 0.9503, validation loss: 0.1661\n",
      "100%|██████████| 750/750 [00:09<00:00, 79.56it/s, loss=0.1714]\n",
      "Epoch 12 | Training loss: 0.1714, validation accuracy: 0.9547, validation loss: 0.1570\n",
      "100%|██████████| 750/750 [00:09<00:00, 82.88it/s, loss=0.1551]\n",
      "Epoch 13 | Training loss: 0.1551, validation accuracy: 0.9521, validation loss: 0.1567\n",
      "100%|██████████| 750/750 [00:09<00:00, 79.84it/s, loss=0.1431]\n",
      "Epoch 14 | Training loss: 0.1431, validation accuracy: 0.9585, validation loss: 0.1392\n",
      "100%|██████████| 750/750 [00:09<00:00, 81.45it/s, loss=0.1327]\n",
      "Epoch 15 | Training loss: 0.1327, validation accuracy: 0.9606, validation loss: 0.1304\n",
      "100%|██████████| 750/750 [00:09<00:00, 80.44it/s, loss=0.1240]\n",
      "Epoch 16 | Training loss: 0.1240, validation accuracy: 0.9653, validation loss: 0.1195\n",
      "100%|██████████| 750/750 [00:09<00:00, 82.16it/s, loss=0.1171]\n",
      "Epoch 17 | Training loss: 0.1171, validation accuracy: 0.9655, validation loss: 0.1128\n",
      "100%|██████████| 750/750 [00:09<00:00, 81.33it/s, loss=0.1098]\n",
      "Epoch 18 | Training loss: 0.1098, validation accuracy: 0.9663, validation loss: 0.1111\n",
      "100%|██████████| 750/750 [00:09<00:00, 81.83it/s, loss=0.1042]\n",
      "Epoch 19 | Training loss: 0.1042, validation accuracy: 0.9688, validation loss: 0.1091\n",
      "100%|██████████| 750/750 [00:09<00:00, 81.85it/s, loss=0.0985]\n",
      "Epoch 20 | Training loss: 0.0985, validation accuracy: 0.9669, validation loss: 0.1095\n",
      "100%|██████████| 750/750 [00:09<00:00, 81.48it/s, loss=0.0945]\n",
      "Epoch 21 | Training loss: 0.0945, validation accuracy: 0.9673, validation loss: 0.1060\n",
      "100%|██████████| 750/750 [00:09<00:00, 80.23it/s, loss=0.0910]\n",
      "Epoch 22 | Training loss: 0.0910, validation accuracy: 0.9731, validation loss: 0.0941\n",
      "100%|██████████| 750/750 [00:09<00:00, 81.12it/s, loss=0.0872]\n",
      "Epoch 23 | Training loss: 0.0872, validation accuracy: 0.9713, validation loss: 0.0950\n",
      "100%|██████████| 750/750 [00:09<00:00, 81.89it/s, loss=0.0841]\n",
      "Epoch 24 | Training loss: 0.0841, validation accuracy: 0.9718, validation loss: 0.0942\n",
      "100%|██████████| 750/750 [00:09<00:00, 83.07it/s, loss=0.0806]\n",
      "Epoch 25 | Training loss: 0.0806, validation accuracy: 0.9725, validation loss: 0.0891\n",
      "100%|██████████| 750/750 [00:09<00:00, 82.13it/s, loss=0.0781]\n",
      "Epoch 26 | Training loss: 0.0781, validation accuracy: 0.9721, validation loss: 0.0903\n",
      "100%|██████████| 750/750 [00:09<00:00, 81.26it/s, loss=0.0759]\n",
      "Epoch 27 | Training loss: 0.0759, validation accuracy: 0.9743, validation loss: 0.0837\n",
      "100%|██████████| 750/750 [00:09<00:00, 81.10it/s, loss=0.0733]\n",
      "Epoch 28 | Training loss: 0.0733, validation accuracy: 0.9747, validation loss: 0.0826\n",
      "100%|██████████| 750/750 [00:09<00:00, 80.99it/s, loss=0.0704]\n",
      "Epoch 29 | Training loss: 0.0704, validation accuracy: 0.9752, validation loss: 0.0804\n",
      "100%|██████████| 750/750 [00:09<00:00, 81.43it/s, loss=0.0690]\n",
      "Epoch 30 | Training loss: 0.0690, validation accuracy: 0.9751, validation loss: 0.0810\n"
     ]
    }
   ],
   "source": [
    "torch.manual_seed(2020)\n",
    "epochs = 30\n",
    "\n",
    "for epoch in range(epochs):\n",
    "    train_loss = trainer.train_epoch(model, optimizer, dl[\"train\"])\n",
    "    optimizer.finish_epoch()\n",
    "    val_acc, val_loss = trainer.validation(model, dl[\"valid\"])\n",
    "    logger.log(\"Epoch\", epoch+1, \"|\", \n",
    "          f\"Training loss: {train_loss:.4f}, validation accuracy: {val_acc:.4f}, validation loss: {val_loss:.4f}\")"
   ]
  },
  {
   "cell_type": "code",
   "execution_count": 28,
   "metadata": {},
   "outputs": [
    {
     "name": "stdout",
     "output_type": "stream",
     "text": [
      "Train: (0.98, 0.064899891360042)\n",
      "Valid: (0.9750833333333333, 0.08100792063275973)\n"
     ]
    }
   ],
   "source": [
    "train_score = trainer.validation(model, dl[\"train\"])\n",
    "valid_score = trainer.validation(model, dl[\"valid\"])\n",
    "logger.log(\"Train:\", train_score)\n",
    "logger.log(\"Valid:\", valid_score)"
   ]
  },
  {
   "cell_type": "code",
   "execution_count": 29,
   "metadata": {},
   "outputs": [],
   "source": [
    "optimizer.accelerate()"
   ]
  },
  {
   "cell_type": "code",
   "execution_count": 30,
   "metadata": {},
   "outputs": [
    {
     "data": {
      "text/plain": [
       "Sequential(\n",
       "  (0): Conv2d(1, 32, kernel_size=(3, 3), stride=(1, 1))\n",
       "  (1): ReLU()\n",
       "  (2): Conv2d(32, 32, kernel_size=(3, 3), stride=(1, 1))\n",
       "  (3): ReLU()\n",
       "  (4): MaxPool2d(kernel_size=2, stride=2, padding=0, dilation=1, ceil_mode=False)\n",
       "  (5): Conv2d(32, 64, kernel_size=(3, 3), stride=(1, 1))\n",
       "  (6): ReLU()\n",
       "  (7): Conv2d(64, 64, kernel_size=(3, 3), stride=(1, 1))\n",
       "  (8): ReLU()\n",
       "  (9): MaxPool2d(kernel_size=2, stride=2, padding=0, dilation=1, ceil_mode=False)\n",
       "  (10): Flatten(start_dim=1, end_dim=-1)\n",
       "  (11): Linear(in_features=1024, out_features=128, bias=True)\n",
       "  (12): ReLU()\n",
       "  (13): Linear(in_features=128, out_features=10, bias=True)\n",
       "  (14): LogSoftmax(dim=-1)\n",
       ")"
      ]
     },
     "execution_count": 30,
     "metadata": {},
     "output_type": "execute_result"
    }
   ],
   "source": [
    "optimizer.store_parameters([[param] for param in model.parameters()])\n",
    "model.cuda()"
   ]
  },
  {
   "cell_type": "code",
   "execution_count": 31,
   "metadata": {},
   "outputs": [
    {
     "name": "stdout",
     "output_type": "stream",
     "text": [
      "Train: (0.9740625, 0.08288766444909076)\n",
      "Valid: (0.9721666666666666, 0.09380900078018506)\n"
     ]
    }
   ],
   "source": [
    "train_score = trainer.validation(model, dl[\"train\"])\n",
    "valid_score = trainer.validation(model, dl[\"valid\"])\n",
    "logger.log(\"Train:\", train_score)\n",
    "logger.log(\"Valid:\", valid_score)"
   ]
  },
  {
   "cell_type": "code",
   "execution_count": null,
   "metadata": {},
   "outputs": [],
   "source": []
  }
 ],
 "metadata": {
  "kernelspec": {
   "display_name": "Python 3",
   "language": "python",
   "name": "python3"
  },
  "language_info": {
   "codemirror_mode": {
    "name": "ipython",
    "version": 3
   },
   "file_extension": ".py",
   "mimetype": "text/x-python",
   "name": "python",
   "nbconvert_exporter": "python",
   "pygments_lexer": "ipython3",
   "version": "3.8.13"
  }
 },
 "nbformat": 4,
 "nbformat_minor": 4
}
