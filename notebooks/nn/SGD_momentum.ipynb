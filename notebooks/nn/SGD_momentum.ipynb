{
 "cells": [
  {
   "cell_type": "code",
   "execution_count": 1,
   "metadata": {},
   "outputs": [],
   "source": [
    "import sys\n",
    "sys.path.insert(0, \"../..\")"
   ]
  },
  {
   "cell_type": "code",
   "execution_count": 2,
   "metadata": {},
   "outputs": [],
   "source": [
    "import torch\n",
    "from torch import nn\n",
    "import numpy as np\n",
    "from copy import deepcopy\n",
    "\n",
    "from nn_extrapolation import AcceleratedSGD\n",
    "from nn_utils import *"
   ]
  },
  {
   "cell_type": "code",
   "execution_count": 3,
   "metadata": {},
   "outputs": [
    {
     "data": {
      "text/plain": [
       "True"
      ]
     },
     "execution_count": 3,
     "metadata": {},
     "output_type": "execute_result"
    }
   ],
   "source": [
    "torch.cuda.is_available()"
   ]
  },
  {
   "cell_type": "code",
   "execution_count": 4,
   "metadata": {},
   "outputs": [],
   "source": [
    "trainer = Trainer(\n",
    "    device=\"cuda\",\n",
    "    loss_fn=nn.NLLLoss(reduction=\"mean\"),\n",
    "    val_loss_fn=nn.NLLLoss(reduction=\"sum\"),\n",
    ")"
   ]
  },
  {
   "cell_type": "code",
   "execution_count": 5,
   "metadata": {},
   "outputs": [],
   "source": [
    "dl = load_dataset(\n",
    "    dataset=\"mnist\", \n",
    "    root=\"../../../MNIST\", \n",
    "    download=False, \n",
    "    validation_split=0.2,\n",
    "    batch_size=64, \n",
    "    num_workers=2,\n",
    ")"
   ]
  },
  {
   "cell_type": "code",
   "execution_count": 6,
   "metadata": {},
   "outputs": [],
   "source": [
    "def make_model():\n",
    "    return nn.Sequential(\n",
    "        nn.Conv2d(1, 32, 3),\n",
    "        nn.ReLU(),\n",
    "        nn.Conv2d(32, 32, 3),\n",
    "        nn.ReLU(),\n",
    "        nn.MaxPool2d(2),\n",
    "        nn.Conv2d(32, 64, 3),\n",
    "        nn.ReLU(),\n",
    "        nn.Conv2d(64, 64, 3),\n",
    "        nn.ReLU(),\n",
    "        nn.MaxPool2d(2),\n",
    "        nn.Flatten(),\n",
    "        nn.Linear(4*4*64, 128),\n",
    "        nn.ReLU(),\n",
    "        nn.Linear(128, 10),\n",
    "        nn.LogSoftmax(-1),\n",
    "    )"
   ]
  },
  {
   "cell_type": "markdown",
   "metadata": {
    "tags": []
   },
   "source": [
    "## Epoch"
   ]
  },
  {
   "cell_type": "code",
   "execution_count": 7,
   "metadata": {},
   "outputs": [
    {
     "data": {
      "text/plain": [
       "Sequential(\n",
       "  (0): Conv2d(1, 32, kernel_size=(3, 3), stride=(1, 1))\n",
       "  (1): ReLU()\n",
       "  (2): Conv2d(32, 32, kernel_size=(3, 3), stride=(1, 1))\n",
       "  (3): ReLU()\n",
       "  (4): MaxPool2d(kernel_size=2, stride=2, padding=0, dilation=1, ceil_mode=False)\n",
       "  (5): Conv2d(32, 64, kernel_size=(3, 3), stride=(1, 1))\n",
       "  (6): ReLU()\n",
       "  (7): Conv2d(64, 64, kernel_size=(3, 3), stride=(1, 1))\n",
       "  (8): ReLU()\n",
       "  (9): MaxPool2d(kernel_size=2, stride=2, padding=0, dilation=1, ceil_mode=False)\n",
       "  (10): Flatten(start_dim=1, end_dim=-1)\n",
       "  (11): Linear(in_features=1024, out_features=128, bias=True)\n",
       "  (12): ReLU()\n",
       "  (13): Linear(in_features=128, out_features=10, bias=True)\n",
       "  (14): LogSoftmax(dim=-1)\n",
       ")"
      ]
     },
     "execution_count": 7,
     "metadata": {},
     "output_type": "execute_result"
    }
   ],
   "source": [
    "model = make_model()\n",
    "model.to(trainer.device)"
   ]
  },
  {
   "cell_type": "markdown",
   "metadata": {
    "tags": []
   },
   "source": [
    "### Lambda = 1e-10"
   ]
  },
  {
   "cell_type": "code",
   "execution_count": 8,
   "metadata": {},
   "outputs": [],
   "source": [
    "optimizer = AcceleratedSGD(model.parameters(), 1e-3, k=10, momentum=0.5, weight_decay=1e-5, mode=\"epoch\")\n",
    "logger = Logger(\"SGD_momentum2.txt\")"
   ]
  },
  {
   "cell_type": "code",
   "execution_count": 9,
   "metadata": {
    "tags": []
   },
   "outputs": [
    {
     "name": "stdout",
     "output_type": "stream",
     "text": [
      "100%|██████████| 750/750 [00:13<00:00, 54.24it/s, loss=2.2990]\n",
      "Epoch 1 | Training loss: 2.2990, validation accuracy: 0.1552, validation loss: 2.2878\n",
      "100%|██████████| 750/750 [00:13<00:00, 56.67it/s, loss=2.1467]\n",
      "Epoch 2 | Training loss: 2.1467, validation accuracy: 0.6899, validation loss: 1.3216\n",
      "100%|██████████| 750/750 [00:12<00:00, 58.27it/s, loss=0.5990]\n",
      "Epoch 3 | Training loss: 0.5990, validation accuracy: 0.8728, validation loss: 0.4100\n",
      "100%|██████████| 750/750 [00:12<00:00, 58.49it/s, loss=0.3524]\n",
      "Epoch 4 | Training loss: 0.3524, validation accuracy: 0.9179, validation loss: 0.2779\n",
      "100%|██████████| 750/750 [00:12<00:00, 58.88it/s, loss=0.2594]\n",
      "Epoch 5 | Training loss: 0.2594, validation accuracy: 0.9377, validation loss: 0.2105\n",
      "100%|██████████| 750/750 [00:12<00:00, 58.10it/s, loss=0.2019]\n",
      "Epoch 6 | Training loss: 0.2019, validation accuracy: 0.9484, validation loss: 0.1698\n",
      "100%|██████████| 750/750 [00:13<00:00, 57.58it/s, loss=0.1649]\n",
      "Epoch 7 | Training loss: 0.1649, validation accuracy: 0.9572, validation loss: 0.1444\n",
      "100%|██████████| 750/750 [00:13<00:00, 57.02it/s, loss=0.1392]\n",
      "Epoch 8 | Training loss: 0.1392, validation accuracy: 0.9598, validation loss: 0.1307\n",
      "100%|██████████| 750/750 [00:13<00:00, 57.03it/s, loss=0.1226]\n",
      "Epoch 9 | Training loss: 0.1226, validation accuracy: 0.9667, validation loss: 0.1097\n",
      "100%|██████████| 750/750 [00:12<00:00, 58.05it/s, loss=0.1094]\n",
      "Epoch 10 | Training loss: 0.1094, validation accuracy: 0.9667, validation loss: 0.1078\n",
      "100%|██████████| 750/750 [00:13<00:00, 57.66it/s, loss=0.1003]\n",
      "Epoch 11 | Training loss: 0.1003, validation accuracy: 0.9701, validation loss: 0.0992\n",
      "100%|██████████| 750/750 [00:17<00:00, 43.58it/s, loss=0.0922]\n",
      "Epoch 12 | Training loss: 0.0922, validation accuracy: 0.9730, validation loss: 0.0897\n",
      "100%|██████████| 750/750 [00:20<00:00, 37.44it/s, loss=0.0859]\n",
      "Epoch 13 | Training loss: 0.0859, validation accuracy: 0.9718, validation loss: 0.0890\n",
      "100%|██████████| 750/750 [00:15<00:00, 48.53it/s, loss=0.0794]\n",
      "Epoch 14 | Training loss: 0.0794, validation accuracy: 0.9739, validation loss: 0.0839\n",
      "100%|██████████| 750/750 [00:12<00:00, 58.86it/s, loss=0.0746]\n",
      "Epoch 15 | Training loss: 0.0746, validation accuracy: 0.9724, validation loss: 0.0855\n",
      "100%|██████████| 750/750 [00:13<00:00, 55.26it/s, loss=0.0717]\n",
      "Epoch 16 | Training loss: 0.0717, validation accuracy: 0.9753, validation loss: 0.0794\n",
      "100%|██████████| 750/750 [00:13<00:00, 55.45it/s, loss=0.0667]\n",
      "Epoch 17 | Training loss: 0.0667, validation accuracy: 0.9760, validation loss: 0.0777\n",
      "100%|██████████| 750/750 [00:13<00:00, 56.51it/s, loss=0.0632]\n",
      "Epoch 18 | Training loss: 0.0632, validation accuracy: 0.9773, validation loss: 0.0755\n",
      "100%|██████████| 750/750 [00:12<00:00, 58.62it/s, loss=0.0600]\n",
      "Epoch 19 | Training loss: 0.0600, validation accuracy: 0.9765, validation loss: 0.0760\n",
      "100%|██████████| 750/750 [00:13<00:00, 56.05it/s, loss=0.0575]\n",
      "Epoch 20 | Training loss: 0.0575, validation accuracy: 0.9794, validation loss: 0.0697\n",
      "100%|██████████| 750/750 [00:12<00:00, 58.36it/s, loss=0.0551]\n",
      "Epoch 21 | Training loss: 0.0551, validation accuracy: 0.9796, validation loss: 0.0677\n",
      "100%|██████████| 750/750 [00:12<00:00, 59.14it/s, loss=0.0525]\n",
      "Epoch 22 | Training loss: 0.0525, validation accuracy: 0.9791, validation loss: 0.0696\n",
      "100%|██████████| 750/750 [00:12<00:00, 59.09it/s, loss=0.0501]\n",
      "Epoch 23 | Training loss: 0.0501, validation accuracy: 0.9803, validation loss: 0.0666\n",
      "100%|██████████| 750/750 [00:12<00:00, 58.25it/s, loss=0.0482]\n",
      "Epoch 24 | Training loss: 0.0482, validation accuracy: 0.9810, validation loss: 0.0653\n",
      "100%|██████████| 750/750 [00:12<00:00, 59.09it/s, loss=0.0465]\n",
      "Epoch 25 | Training loss: 0.0465, validation accuracy: 0.9799, validation loss: 0.0664\n",
      "100%|██████████| 750/750 [00:12<00:00, 58.10it/s, loss=0.0441]\n",
      "Epoch 26 | Training loss: 0.0441, validation accuracy: 0.9815, validation loss: 0.0620\n",
      "100%|██████████| 750/750 [00:13<00:00, 54.47it/s, loss=0.0421]\n",
      "Epoch 27 | Training loss: 0.0421, validation accuracy: 0.9800, validation loss: 0.0659\n",
      "100%|██████████| 750/750 [00:14<00:00, 53.55it/s, loss=0.0407]\n",
      "Epoch 28 | Training loss: 0.0407, validation accuracy: 0.9820, validation loss: 0.0617\n",
      "100%|██████████| 750/750 [00:13<00:00, 53.66it/s, loss=0.0392]\n",
      "Epoch 29 | Training loss: 0.0392, validation accuracy: 0.9821, validation loss: 0.0616\n",
      "100%|██████████| 750/750 [00:12<00:00, 58.21it/s, loss=0.0388]\n",
      "Epoch 30 | Training loss: 0.0388, validation accuracy: 0.9812, validation loss: 0.0628\n"
     ]
    }
   ],
   "source": [
    "epochs = 30\n",
    "\n",
    "for epoch in range(epochs):\n",
    "    train_loss = trainer.train_epoch(model, optimizer, dl[\"train\"])\n",
    "    optimizer.finish_epoch()\n",
    "    val_acc, val_loss = trainer.validation(model, dl[\"valid\"])\n",
    "    logger.log(\"Epoch\", epoch+1, \"|\", \n",
    "          f\"Training loss: {train_loss:.4f}, validation accuracy: {val_acc:.4f}, validation loss: {val_loss:.4f}\")"
   ]
  },
  {
   "cell_type": "code",
   "execution_count": 10,
   "metadata": {},
   "outputs": [
    {
     "name": "stdout",
     "output_type": "stream",
     "text": [
      "Train: (0.99, 0.0328793765764373)\n",
      "Valid: (0.9811666666666666, 0.06281401680440953)\n"
     ]
    }
   ],
   "source": [
    "train_score = trainer.validation(model, dl[\"train\"])\n",
    "valid_score = trainer.validation(model, dl[\"valid\"])\n",
    "logger.log(\"Train:\", train_score)\n",
    "logger.log(\"Valid:\", valid_score)"
   ]
  },
  {
   "cell_type": "code",
   "execution_count": 11,
   "metadata": {},
   "outputs": [],
   "source": [
    "optimizer.accelerate()"
   ]
  },
  {
   "cell_type": "code",
   "execution_count": 12,
   "metadata": {},
   "outputs": [],
   "source": [
    "optimizer.store_parameters()\n",
    "model.cuda()\n",
    "None"
   ]
  },
  {
   "cell_type": "code",
   "execution_count": 13,
   "metadata": {},
   "outputs": [
    {
     "name": "stdout",
     "output_type": "stream",
     "text": [
      "Train: (0.9908958333333333, 0.03196341497482111)\n",
      "Valid: (0.9836666666666667, 0.058639409329742195)\n"
     ]
    }
   ],
   "source": [
    "train_score = trainer.validation(model, dl[\"train\"])\n",
    "valid_score = trainer.validation(model, dl[\"valid\"])\n",
    "logger.log(\"Train:\", train_score)\n",
    "logger.log(\"Valid:\", valid_score)"
   ]
  },
  {
   "cell_type": "markdown",
   "metadata": {
    "tags": []
   },
   "source": [
    "### Lambda = 1e-5"
   ]
  },
  {
   "cell_type": "code",
   "execution_count": 14,
   "metadata": {},
   "outputs": [],
   "source": [
    "optimizer = AcceleratedSGD(model.parameters(), 1e-3, k=10, momentum=0.5, weight_decay=1e-5, mode=\"epoch\", lambda_=1e-5)\n",
    "logger = Logger(\"SGD_momentum_lambda=1e-5_2.txt\")"
   ]
  },
  {
   "cell_type": "code",
   "execution_count": 15,
   "metadata": {
    "tags": []
   },
   "outputs": [
    {
     "name": "stdout",
     "output_type": "stream",
     "text": [
      "100%|██████████| 750/750 [00:12<00:00, 58.61it/s, loss=0.0384]\n",
      "Epoch 1 | Training loss: 0.0384, validation accuracy: 0.9807, validation loss: 0.0683\n",
      "100%|██████████| 750/750 [00:12<00:00, 58.58it/s, loss=0.0376]\n",
      "Epoch 2 | Training loss: 0.0376, validation accuracy: 0.9808, validation loss: 0.0675\n",
      "100%|██████████| 750/750 [00:13<00:00, 54.35it/s, loss=0.0365]\n",
      "Epoch 3 | Training loss: 0.0365, validation accuracy: 0.9799, validation loss: 0.0690\n",
      "100%|██████████| 750/750 [00:12<00:00, 58.01it/s, loss=0.0344]\n",
      "Epoch 4 | Training loss: 0.0344, validation accuracy: 0.9802, validation loss: 0.0685\n",
      "100%|██████████| 750/750 [00:12<00:00, 57.84it/s, loss=0.0332]\n",
      "Epoch 5 | Training loss: 0.0332, validation accuracy: 0.9832, validation loss: 0.0596\n",
      "100%|██████████| 750/750 [00:13<00:00, 57.48it/s, loss=0.0326]\n",
      "Epoch 6 | Training loss: 0.0326, validation accuracy: 0.9826, validation loss: 0.0591\n",
      "100%|██████████| 750/750 [00:13<00:00, 56.52it/s, loss=0.0311]\n",
      "Epoch 7 | Training loss: 0.0311, validation accuracy: 0.9813, validation loss: 0.0636\n",
      "100%|██████████| 750/750 [00:13<00:00, 54.91it/s, loss=0.0297]\n",
      "Epoch 8 | Training loss: 0.0297, validation accuracy: 0.9825, validation loss: 0.0620\n",
      "100%|██████████| 750/750 [00:12<00:00, 58.15it/s, loss=0.0285]\n",
      "Epoch 9 | Training loss: 0.0285, validation accuracy: 0.9829, validation loss: 0.0572\n",
      "100%|██████████| 750/750 [00:13<00:00, 57.39it/s, loss=0.0277]\n",
      "Epoch 10 | Training loss: 0.0277, validation accuracy: 0.9818, validation loss: 0.0631\n",
      "100%|██████████| 750/750 [00:13<00:00, 56.60it/s, loss=0.0267]\n",
      "Epoch 11 | Training loss: 0.0267, validation accuracy: 0.9831, validation loss: 0.0593\n",
      "100%|██████████| 750/750 [00:13<00:00, 57.41it/s, loss=0.0261]\n",
      "Epoch 12 | Training loss: 0.0261, validation accuracy: 0.9832, validation loss: 0.0602\n",
      "100%|██████████| 750/750 [00:12<00:00, 58.50it/s, loss=0.0254]\n",
      "Epoch 13 | Training loss: 0.0254, validation accuracy: 0.9833, validation loss: 0.0580\n",
      "100%|██████████| 750/750 [00:12<00:00, 59.08it/s, loss=0.0235]\n",
      "Epoch 14 | Training loss: 0.0235, validation accuracy: 0.9836, validation loss: 0.0571\n",
      "100%|██████████| 750/750 [00:13<00:00, 57.54it/s, loss=0.0237]\n",
      "Epoch 15 | Training loss: 0.0237, validation accuracy: 0.9837, validation loss: 0.0586\n",
      "100%|██████████| 750/750 [00:13<00:00, 55.98it/s, loss=0.0229]\n",
      "Epoch 16 | Training loss: 0.0229, validation accuracy: 0.9758, validation loss: 0.0791\n",
      "100%|██████████| 750/750 [00:12<00:00, 58.11it/s, loss=0.0227]\n",
      "Epoch 17 | Training loss: 0.0227, validation accuracy: 0.9833, validation loss: 0.0590\n",
      "100%|██████████| 750/750 [00:13<00:00, 57.02it/s, loss=0.0212]\n",
      "Epoch 18 | Training loss: 0.0212, validation accuracy: 0.9837, validation loss: 0.0582\n",
      "100%|██████████| 750/750 [00:13<00:00, 57.05it/s, loss=0.0204]\n",
      "Epoch 19 | Training loss: 0.0204, validation accuracy: 0.9828, validation loss: 0.0631\n",
      "100%|██████████| 750/750 [00:13<00:00, 56.90it/s, loss=0.0199]\n",
      "Epoch 20 | Training loss: 0.0199, validation accuracy: 0.9827, validation loss: 0.0628\n",
      "100%|██████████| 750/750 [00:14<00:00, 50.71it/s, loss=0.0192]\n",
      "Epoch 21 | Training loss: 0.0192, validation accuracy: 0.9853, validation loss: 0.0569\n",
      "100%|██████████| 750/750 [00:13<00:00, 55.05it/s, loss=0.0181]\n",
      "Epoch 22 | Training loss: 0.0181, validation accuracy: 0.9851, validation loss: 0.0613\n",
      "100%|██████████| 750/750 [00:13<00:00, 54.83it/s, loss=0.0176]\n",
      "Epoch 23 | Training loss: 0.0176, validation accuracy: 0.9844, validation loss: 0.0585\n",
      "100%|██████████| 750/750 [00:13<00:00, 56.17it/s, loss=0.0172]\n",
      "Epoch 24 | Training loss: 0.0172, validation accuracy: 0.9854, validation loss: 0.0562\n",
      "100%|██████████| 750/750 [00:13<00:00, 56.25it/s, loss=0.0168]\n",
      "Epoch 25 | Training loss: 0.0168, validation accuracy: 0.9849, validation loss: 0.0570\n",
      "100%|██████████| 750/750 [00:13<00:00, 55.51it/s, loss=0.0159]\n",
      "Epoch 26 | Training loss: 0.0159, validation accuracy: 0.9853, validation loss: 0.0585\n",
      "100%|██████████| 750/750 [00:13<00:00, 56.71it/s, loss=0.0153]\n",
      "Epoch 27 | Training loss: 0.0153, validation accuracy: 0.9842, validation loss: 0.0580\n",
      "100%|██████████| 750/750 [00:13<00:00, 56.51it/s, loss=0.0147]\n",
      "Epoch 28 | Training loss: 0.0147, validation accuracy: 0.9839, validation loss: 0.0607\n",
      "100%|██████████| 750/750 [00:13<00:00, 56.34it/s, loss=0.0145]\n",
      "Epoch 29 | Training loss: 0.0145, validation accuracy: 0.9845, validation loss: 0.0580\n",
      "100%|██████████| 750/750 [00:12<00:00, 58.21it/s, loss=0.0139]\n",
      "Epoch 30 | Training loss: 0.0139, validation accuracy: 0.9848, validation loss: 0.0594\n"
     ]
    }
   ],
   "source": [
    "epochs = 30\n",
    "\n",
    "for epoch in range(epochs):\n",
    "    train_loss = trainer.train_epoch(model, optimizer, dl[\"train\"])\n",
    "    optimizer.finish_epoch()\n",
    "    val_acc, val_loss = trainer.validation(model, dl[\"valid\"])\n",
    "    logger.log(\"Epoch\", epoch+1, \"|\", \n",
    "          f\"Training loss: {train_loss:.4f}, validation accuracy: {val_acc:.4f}, validation loss: {val_loss:.4f}\")"
   ]
  },
  {
   "cell_type": "code",
   "execution_count": 16,
   "metadata": {},
   "outputs": [
    {
     "name": "stdout",
     "output_type": "stream",
     "text": [
      "Train: (0.9966666666666667, 0.011765114218501063)\n",
      "Valid: (0.9848333333333333, 0.05939000487828162)\n"
     ]
    }
   ],
   "source": [
    "train_score = trainer.validation(model, dl[\"train\"])\n",
    "valid_score = trainer.validation(model, dl[\"valid\"])\n",
    "logger.log(\"Train:\", train_score)\n",
    "logger.log(\"Valid:\", valid_score)"
   ]
  },
  {
   "cell_type": "code",
   "execution_count": 17,
   "metadata": {},
   "outputs": [],
   "source": [
    "optimizer.accelerate()"
   ]
  },
  {
   "cell_type": "code",
   "execution_count": 18,
   "metadata": {},
   "outputs": [],
   "source": [
    "optimizer.store_parameters()\n",
    "model.cuda()\n",
    "None"
   ]
  },
  {
   "cell_type": "code",
   "execution_count": 19,
   "metadata": {},
   "outputs": [
    {
     "name": "stdout",
     "output_type": "stream",
     "text": [
      "Train: (0.9976875, 0.010387330086668953)\n",
      "Valid: (0.9855, 0.05503412218927406)\n"
     ]
    }
   ],
   "source": [
    "train_score = trainer.validation(model, dl[\"train\"])\n",
    "valid_score = trainer.validation(model, dl[\"valid\"])\n",
    "logger.log(\"Train:\", train_score)\n",
    "logger.log(\"Valid:\", valid_score)"
   ]
  },
  {
   "cell_type": "markdown",
   "metadata": {
    "tags": []
   },
   "source": [
    "### Lambda = 1e-2"
   ]
  },
  {
   "cell_type": "code",
   "execution_count": 22,
   "metadata": {},
   "outputs": [],
   "source": [
    "optimizer = AcceleratedSGD(model.parameters(), 1e-3, k=10, momentum=0.5, weight_decay=1e-5, mode=\"epoch\", lambda_=1e-2)\n",
    "logger = Logger(\"SGD_momentum_lambda=1e-2.txt\")"
   ]
  },
  {
   "cell_type": "code",
   "execution_count": 23,
   "metadata": {
    "tags": []
   },
   "outputs": [
    {
     "name": "stdout",
     "output_type": "stream",
     "text": [
      "100%|██████████| 750/750 [00:13<00:00, 57.18it/s, loss=2.2916]\n",
      "Epoch 1 | Training loss: 2.2916, validation accuracy: 0.2213, validation loss: 2.2673\n",
      "100%|██████████| 750/750 [00:13<00:00, 56.96it/s, loss=1.6294]\n",
      "Epoch 2 | Training loss: 1.6294, validation accuracy: 0.8552, validation loss: 0.5024\n",
      "100%|██████████| 750/750 [00:13<00:00, 56.92it/s, loss=0.4307]\n",
      "Epoch 3 | Training loss: 0.4307, validation accuracy: 0.8996, validation loss: 0.3240\n",
      "100%|██████████| 750/750 [00:12<00:00, 57.84it/s, loss=0.3069]\n",
      "Epoch 4 | Training loss: 0.3069, validation accuracy: 0.9252, validation loss: 0.2443\n",
      "100%|██████████| 750/750 [00:12<00:00, 58.69it/s, loss=0.2397]\n",
      "Epoch 5 | Training loss: 0.2397, validation accuracy: 0.9426, validation loss: 0.1965\n",
      "100%|██████████| 750/750 [00:12<00:00, 59.01it/s, loss=0.1923]\n",
      "Epoch 6 | Training loss: 0.1923, validation accuracy: 0.9517, validation loss: 0.1626\n",
      "100%|██████████| 750/750 [00:12<00:00, 58.58it/s, loss=0.1597]\n",
      "Epoch 7 | Training loss: 0.1597, validation accuracy: 0.9554, validation loss: 0.1500\n",
      "100%|██████████| 750/750 [00:12<00:00, 58.21it/s, loss=0.1361]\n",
      "Epoch 8 | Training loss: 0.1361, validation accuracy: 0.9624, validation loss: 0.1278\n",
      "100%|██████████| 750/750 [00:13<00:00, 57.06it/s, loss=0.1200]\n",
      "Epoch 9 | Training loss: 0.1200, validation accuracy: 0.9609, validation loss: 0.1257\n",
      "100%|██████████| 750/750 [00:12<00:00, 58.08it/s, loss=0.1076]\n",
      "Epoch 10 | Training loss: 0.1076, validation accuracy: 0.9701, validation loss: 0.1028\n",
      "100%|██████████| 750/750 [00:12<00:00, 58.52it/s, loss=0.0980]\n",
      "Epoch 11 | Training loss: 0.0980, validation accuracy: 0.9713, validation loss: 0.0975\n",
      "100%|██████████| 750/750 [00:12<00:00, 58.20it/s, loss=0.0909]\n",
      "Epoch 12 | Training loss: 0.0909, validation accuracy: 0.9729, validation loss: 0.0892\n",
      "100%|██████████| 750/750 [00:12<00:00, 58.69it/s, loss=0.0840]\n",
      "Epoch 13 | Training loss: 0.0840, validation accuracy: 0.9720, validation loss: 0.0916\n",
      "100%|██████████| 750/750 [00:12<00:00, 58.25it/s, loss=0.0791]\n",
      "Epoch 14 | Training loss: 0.0791, validation accuracy: 0.9741, validation loss: 0.0872\n",
      "100%|██████████| 750/750 [00:12<00:00, 58.66it/s, loss=0.0742]\n",
      "Epoch 15 | Training loss: 0.0742, validation accuracy: 0.9758, validation loss: 0.0812\n",
      "100%|██████████| 750/750 [00:12<00:00, 58.26it/s, loss=0.0702]\n",
      "Epoch 16 | Training loss: 0.0702, validation accuracy: 0.9767, validation loss: 0.0792\n",
      "100%|██████████| 750/750 [00:12<00:00, 59.01it/s, loss=0.0665]\n",
      "Epoch 17 | Training loss: 0.0665, validation accuracy: 0.9750, validation loss: 0.0813\n",
      "100%|██████████| 750/750 [00:12<00:00, 58.46it/s, loss=0.0629]\n",
      "Epoch 18 | Training loss: 0.0629, validation accuracy: 0.9768, validation loss: 0.0748\n",
      "100%|██████████| 750/750 [00:13<00:00, 57.66it/s, loss=0.0602]\n",
      "Epoch 19 | Training loss: 0.0602, validation accuracy: 0.9753, validation loss: 0.0800\n",
      "100%|██████████| 750/750 [00:13<00:00, 57.64it/s, loss=0.0570]\n",
      "Epoch 20 | Training loss: 0.0570, validation accuracy: 0.9762, validation loss: 0.0791\n",
      "100%|██████████| 750/750 [00:13<00:00, 57.68it/s, loss=0.0543]\n",
      "Epoch 21 | Training loss: 0.0543, validation accuracy: 0.9782, validation loss: 0.0694\n",
      "100%|██████████| 750/750 [00:12<00:00, 58.37it/s, loss=0.0518]\n",
      "Epoch 22 | Training loss: 0.0518, validation accuracy: 0.9797, validation loss: 0.0678\n",
      "100%|██████████| 750/750 [00:12<00:00, 58.60it/s, loss=0.0499]\n",
      "Epoch 23 | Training loss: 0.0499, validation accuracy: 0.9813, validation loss: 0.0649\n",
      "100%|██████████| 750/750 [00:13<00:00, 55.86it/s, loss=0.0479]\n",
      "Epoch 24 | Training loss: 0.0479, validation accuracy: 0.9807, validation loss: 0.0643\n",
      "100%|██████████| 750/750 [00:12<00:00, 57.74it/s, loss=0.0455]\n",
      "Epoch 25 | Training loss: 0.0455, validation accuracy: 0.9795, validation loss: 0.0695\n",
      "100%|██████████| 750/750 [00:13<00:00, 55.88it/s, loss=0.0438]\n",
      "Epoch 26 | Training loss: 0.0438, validation accuracy: 0.9808, validation loss: 0.0691\n",
      "100%|██████████| 750/750 [00:12<00:00, 58.15it/s, loss=0.0427]\n",
      "Epoch 27 | Training loss: 0.0427, validation accuracy: 0.9808, validation loss: 0.0643\n",
      "100%|██████████| 750/750 [00:13<00:00, 56.45it/s, loss=0.0411]\n",
      "Epoch 28 | Training loss: 0.0411, validation accuracy: 0.9810, validation loss: 0.0646\n",
      "100%|██████████| 750/750 [00:12<00:00, 58.08it/s, loss=0.0389]\n",
      "Epoch 29 | Training loss: 0.0389, validation accuracy: 0.9818, validation loss: 0.0636\n",
      "100%|██████████| 750/750 [00:13<00:00, 56.97it/s, loss=0.0377]\n",
      "Epoch 30 | Training loss: 0.0377, validation accuracy: 0.9810, validation loss: 0.0636\n"
     ]
    }
   ],
   "source": [
    "epochs = 30\n",
    "\n",
    "for epoch in range(epochs):\n",
    "    train_loss = trainer.train_epoch(model, optimizer, dl[\"train\"])\n",
    "    optimizer.finish_epoch()\n",
    "    val_acc, val_loss = trainer.validation(model, dl[\"valid\"])\n",
    "    logger.log(\"Epoch\", epoch+1, \"|\", \n",
    "          f\"Training loss: {train_loss:.4f}, validation accuracy: {val_acc:.4f}, validation loss: {val_loss:.4f}\")"
   ]
  },
  {
   "cell_type": "code",
   "execution_count": 24,
   "metadata": {},
   "outputs": [
    {
     "name": "stdout",
     "output_type": "stream",
     "text": [
      "Train: (0.9895833333333334, 0.03415543323522434)\n",
      "Valid: (0.981, 0.06364911372043813)\n"
     ]
    }
   ],
   "source": [
    "train_score = trainer.validation(model, dl[\"train\"])\n",
    "valid_score = trainer.validation(model, dl[\"valid\"])\n",
    "logger.log(\"Train:\", train_score)\n",
    "logger.log(\"Valid:\", valid_score)"
   ]
  },
  {
   "cell_type": "code",
   "execution_count": 25,
   "metadata": {},
   "outputs": [],
   "source": [
    "optimizer.accelerate()"
   ]
  },
  {
   "cell_type": "code",
   "execution_count": 26,
   "metadata": {},
   "outputs": [],
   "source": [
    "optimizer.store_parameters()\n",
    "model.cuda()\n",
    "None"
   ]
  },
  {
   "cell_type": "code",
   "execution_count": 27,
   "metadata": {},
   "outputs": [
    {
     "name": "stdout",
     "output_type": "stream",
     "text": [
      "Train: (0.9904583333333333, 0.032220454464045666)\n",
      "Valid: (0.9824166666666667, 0.05974859910442804)\n"
     ]
    }
   ],
   "source": [
    "train_score = trainer.validation(model, dl[\"train\"])\n",
    "valid_score = trainer.validation(model, dl[\"valid\"])\n",
    "logger.log(\"Train:\", train_score)\n",
    "logger.log(\"Valid:\", valid_score)"
   ]
  },
  {
   "cell_type": "markdown",
   "metadata": {},
   "source": [
    "## Epoch average"
   ]
  },
  {
   "cell_type": "code",
   "execution_count": 20,
   "metadata": {},
   "outputs": [
    {
     "data": {
      "text/plain": [
       "Sequential(\n",
       "  (0): Conv2d(1, 32, kernel_size=(3, 3), stride=(1, 1))\n",
       "  (1): ReLU()\n",
       "  (2): Conv2d(32, 32, kernel_size=(3, 3), stride=(1, 1))\n",
       "  (3): ReLU()\n",
       "  (4): MaxPool2d(kernel_size=2, stride=2, padding=0, dilation=1, ceil_mode=False)\n",
       "  (5): Conv2d(32, 64, kernel_size=(3, 3), stride=(1, 1))\n",
       "  (6): ReLU()\n",
       "  (7): Conv2d(64, 64, kernel_size=(3, 3), stride=(1, 1))\n",
       "  (8): ReLU()\n",
       "  (9): MaxPool2d(kernel_size=2, stride=2, padding=0, dilation=1, ceil_mode=False)\n",
       "  (10): Flatten(start_dim=1, end_dim=-1)\n",
       "  (11): Linear(in_features=1024, out_features=128, bias=True)\n",
       "  (12): ReLU()\n",
       "  (13): Linear(in_features=128, out_features=10, bias=True)\n",
       "  (14): LogSoftmax(dim=-1)\n",
       ")"
      ]
     },
     "execution_count": 20,
     "metadata": {},
     "output_type": "execute_result"
    }
   ],
   "source": [
    "model = make_model()\n",
    "model.to(trainer.device)"
   ]
  },
  {
   "cell_type": "code",
   "execution_count": 24,
   "metadata": {},
   "outputs": [],
   "source": [
    "optimizer = AcceleratedSGD(model.parameters(), 1e-3, k=10, momentum=0.5, weight_decay=1e-5, mode=\"epoch_avg\")\n",
    "logger = Logger(\"SGD_momentum-avg.txt\")"
   ]
  },
  {
   "cell_type": "code",
   "execution_count": 25,
   "metadata": {
    "tags": []
   },
   "outputs": [
    {
     "name": "stdout",
     "output_type": "stream",
     "text": [
      "100%|██████████| 750/750 [00:12<00:00, 58.54it/s, loss=2.2948]\n",
      "Epoch 1 | Training loss: 2.2948, validation accuracy: 0.3392, validation loss: 2.2834\n",
      "100%|██████████| 750/750 [00:12<00:00, 58.87it/s, loss=2.1638]\n",
      "Epoch 2 | Training loss: 2.1638, validation accuracy: 0.7480, validation loss: 1.4245\n",
      "100%|██████████| 750/750 [00:12<00:00, 58.95it/s, loss=0.5741]\n",
      "Epoch 3 | Training loss: 0.5741, validation accuracy: 0.8956, validation loss: 0.3469\n",
      "100%|██████████| 750/750 [00:12<00:00, 58.82it/s, loss=0.3348]\n",
      "Epoch 4 | Training loss: 0.3348, validation accuracy: 0.9178, validation loss: 0.2648\n",
      "100%|██████████| 750/750 [00:12<00:00, 58.42it/s, loss=0.2508]\n",
      "Epoch 5 | Training loss: 0.2508, validation accuracy: 0.9355, validation loss: 0.2086\n",
      "100%|██████████| 750/750 [00:12<00:00, 58.91it/s, loss=0.1987]\n",
      "Epoch 6 | Training loss: 0.1987, validation accuracy: 0.9499, validation loss: 0.1704\n",
      "100%|██████████| 750/750 [00:12<00:00, 58.85it/s, loss=0.1641]\n",
      "Epoch 7 | Training loss: 0.1641, validation accuracy: 0.9563, validation loss: 0.1459\n",
      "100%|██████████| 750/750 [00:12<00:00, 58.96it/s, loss=0.1398]\n",
      "Epoch 8 | Training loss: 0.1398, validation accuracy: 0.9642, validation loss: 0.1250\n",
      "100%|██████████| 750/750 [00:12<00:00, 58.86it/s, loss=0.1233]\n",
      "Epoch 9 | Training loss: 0.1233, validation accuracy: 0.9623, validation loss: 0.1219\n",
      "100%|██████████| 750/750 [00:12<00:00, 58.78it/s, loss=0.1104]\n",
      "Epoch 10 | Training loss: 0.1104, validation accuracy: 0.9633, validation loss: 0.1163\n",
      "100%|██████████| 750/750 [00:12<00:00, 58.86it/s, loss=0.1002]\n",
      "Epoch 11 | Training loss: 0.1002, validation accuracy: 0.9606, validation loss: 0.1213\n",
      "100%|██████████| 750/750 [00:12<00:00, 58.82it/s, loss=0.0927]\n",
      "Epoch 12 | Training loss: 0.0927, validation accuracy: 0.9687, validation loss: 0.1010\n",
      "100%|██████████| 750/750 [00:12<00:00, 58.84it/s, loss=0.0861]\n",
      "Epoch 13 | Training loss: 0.0861, validation accuracy: 0.9725, validation loss: 0.0919\n",
      "100%|██████████| 750/750 [00:12<00:00, 59.04it/s, loss=0.0805]\n",
      "Epoch 14 | Training loss: 0.0805, validation accuracy: 0.9732, validation loss: 0.0910\n",
      "100%|██████████| 750/750 [00:12<00:00, 59.02it/s, loss=0.0757]\n",
      "Epoch 15 | Training loss: 0.0757, validation accuracy: 0.9764, validation loss: 0.0814\n",
      "100%|██████████| 750/750 [00:12<00:00, 58.97it/s, loss=0.0721]\n",
      "Epoch 16 | Training loss: 0.0721, validation accuracy: 0.9748, validation loss: 0.0859\n",
      "100%|██████████| 750/750 [00:12<00:00, 59.01it/s, loss=0.0678]\n",
      "Epoch 17 | Training loss: 0.0678, validation accuracy: 0.9756, validation loss: 0.0865\n",
      "100%|██████████| 750/750 [00:12<00:00, 58.77it/s, loss=0.0645]\n",
      "Epoch 18 | Training loss: 0.0645, validation accuracy: 0.9771, validation loss: 0.0796\n",
      "100%|██████████| 750/750 [00:12<00:00, 58.99it/s, loss=0.0612]\n",
      "Epoch 19 | Training loss: 0.0612, validation accuracy: 0.9788, validation loss: 0.0728\n",
      "100%|██████████| 750/750 [00:12<00:00, 58.66it/s, loss=0.0595]\n",
      "Epoch 20 | Training loss: 0.0595, validation accuracy: 0.9802, validation loss: 0.0740\n",
      "100%|██████████| 750/750 [00:12<00:00, 58.87it/s, loss=0.0560]\n",
      "Epoch 21 | Training loss: 0.0560, validation accuracy: 0.9802, validation loss: 0.0696\n",
      "100%|██████████| 750/750 [00:12<00:00, 58.32it/s, loss=0.0544]\n",
      "Epoch 22 | Training loss: 0.0544, validation accuracy: 0.9804, validation loss: 0.0684\n",
      "100%|██████████| 750/750 [00:12<00:00, 58.96it/s, loss=0.0515]\n",
      "Epoch 23 | Training loss: 0.0515, validation accuracy: 0.9807, validation loss: 0.0707\n",
      "100%|██████████| 750/750 [00:12<00:00, 58.94it/s, loss=0.0492]\n",
      "Epoch 24 | Training loss: 0.0492, validation accuracy: 0.9787, validation loss: 0.0731\n",
      "100%|██████████| 750/750 [00:12<00:00, 58.91it/s, loss=0.0477]\n",
      "Epoch 25 | Training loss: 0.0477, validation accuracy: 0.9818, validation loss: 0.0642\n",
      "100%|██████████| 750/750 [00:12<00:00, 58.80it/s, loss=0.0457]\n",
      "Epoch 26 | Training loss: 0.0457, validation accuracy: 0.9815, validation loss: 0.0642\n",
      "100%|██████████| 750/750 [00:12<00:00, 58.72it/s, loss=0.0444]\n",
      "Epoch 27 | Training loss: 0.0444, validation accuracy: 0.9807, validation loss: 0.0671\n",
      "100%|██████████| 750/750 [00:12<00:00, 58.88it/s, loss=0.0431]\n",
      "Epoch 28 | Training loss: 0.0431, validation accuracy: 0.9832, validation loss: 0.0625\n",
      "100%|██████████| 750/750 [00:12<00:00, 58.45it/s, loss=0.0415]\n",
      "Epoch 29 | Training loss: 0.0415, validation accuracy: 0.9812, validation loss: 0.0639\n",
      "100%|██████████| 750/750 [00:12<00:00, 58.85it/s, loss=0.0400]\n",
      "Epoch 30 | Training loss: 0.0400, validation accuracy: 0.9824, validation loss: 0.0605\n"
     ]
    }
   ],
   "source": [
    "epochs = 30\n",
    "\n",
    "for epoch in range(epochs):\n",
    "    train_loss = trainer.train_epoch(model, optimizer, dl[\"train\"])\n",
    "    optimizer.finish_epoch()\n",
    "    val_acc, val_loss = trainer.validation(model, dl[\"valid\"])\n",
    "    logger.log(\"Epoch\", epoch+1, \"|\", \n",
    "          f\"Training loss: {train_loss:.4f}, validation accuracy: {val_acc:.4f}, validation loss: {val_loss:.4f}\")"
   ]
  },
  {
   "cell_type": "code",
   "execution_count": 26,
   "metadata": {},
   "outputs": [
    {
     "name": "stdout",
     "output_type": "stream",
     "text": [
      "Train: (0.9895625, 0.03502268844128897)\n",
      "Valid: (0.9824166666666667, 0.0605216880949835)\n"
     ]
    }
   ],
   "source": [
    "train_score = trainer.validation(model, dl[\"train\"])\n",
    "valid_score = trainer.validation(model, dl[\"valid\"])\n",
    "logger.log(\"Train:\", train_score)\n",
    "logger.log(\"Valid:\", valid_score)"
   ]
  },
  {
   "cell_type": "code",
   "execution_count": 27,
   "metadata": {},
   "outputs": [],
   "source": [
    "optimizer.accelerate()"
   ]
  },
  {
   "cell_type": "code",
   "execution_count": 28,
   "metadata": {},
   "outputs": [],
   "source": [
    "optimizer.store_parameters()\n",
    "model.cuda()\n",
    "None"
   ]
  },
  {
   "cell_type": "code",
   "execution_count": 29,
   "metadata": {},
   "outputs": [
    {
     "name": "stdout",
     "output_type": "stream",
     "text": [
      "Train: (0.9853333333333333, 0.050679075373957556)\n",
      "Valid: (0.98, 0.06859579290946324)\n"
     ]
    }
   ],
   "source": [
    "train_score = trainer.validation(model, dl[\"train\"])\n",
    "valid_score = trainer.validation(model, dl[\"valid\"])\n",
    "logger.log(\"Train:\", train_score)\n",
    "logger.log(\"Valid:\", valid_score)"
   ]
  },
  {
   "cell_type": "markdown",
   "metadata": {},
   "source": [
    "## Epoch average, with span = 20"
   ]
  },
  {
   "cell_type": "code",
   "execution_count": 30,
   "metadata": {},
   "outputs": [
    {
     "data": {
      "text/plain": [
       "Sequential(\n",
       "  (0): Conv2d(1, 32, kernel_size=(3, 3), stride=(1, 1))\n",
       "  (1): ReLU()\n",
       "  (2): Conv2d(32, 32, kernel_size=(3, 3), stride=(1, 1))\n",
       "  (3): ReLU()\n",
       "  (4): MaxPool2d(kernel_size=2, stride=2, padding=0, dilation=1, ceil_mode=False)\n",
       "  (5): Conv2d(32, 64, kernel_size=(3, 3), stride=(1, 1))\n",
       "  (6): ReLU()\n",
       "  (7): Conv2d(64, 64, kernel_size=(3, 3), stride=(1, 1))\n",
       "  (8): ReLU()\n",
       "  (9): MaxPool2d(kernel_size=2, stride=2, padding=0, dilation=1, ceil_mode=False)\n",
       "  (10): Flatten(start_dim=1, end_dim=-1)\n",
       "  (11): Linear(in_features=1024, out_features=128, bias=True)\n",
       "  (12): ReLU()\n",
       "  (13): Linear(in_features=128, out_features=10, bias=True)\n",
       "  (14): LogSoftmax(dim=-1)\n",
       ")"
      ]
     },
     "execution_count": 30,
     "metadata": {},
     "output_type": "execute_result"
    }
   ],
   "source": [
    "model = make_model()\n",
    "model.to(trainer.device)"
   ]
  },
  {
   "cell_type": "code",
   "execution_count": 31,
   "metadata": {},
   "outputs": [],
   "source": [
    "optimizer = AcceleratedSGD(model.parameters(), 1e-3, k=10, momentum=0.5, weight_decay=1e-5, mode=\"epoch_avg\", avg_alpha=(2 / (20 + 1)))\n",
    "logger = Logger(\"SGD_momentum-avg_span_20.txt\")"
   ]
  },
  {
   "cell_type": "code",
   "execution_count": 32,
   "metadata": {
    "tags": []
   },
   "outputs": [
    {
     "name": "stdout",
     "output_type": "stream",
     "text": [
      "100%|██████████| 750/750 [00:12<00:00, 58.00it/s, loss=2.2948]\n",
      "Epoch 1 | Training loss: 2.2948, validation accuracy: 0.2427, validation loss: 2.2836\n",
      "100%|██████████| 750/750 [00:12<00:00, 58.30it/s, loss=2.1289]\n",
      "Epoch 2 | Training loss: 2.1289, validation accuracy: 0.7519, validation loss: 1.1900\n",
      "100%|██████████| 750/750 [00:12<00:00, 58.63it/s, loss=0.5330]\n",
      "Epoch 3 | Training loss: 0.5330, validation accuracy: 0.8986, validation loss: 0.3425\n",
      "100%|██████████| 750/750 [00:12<00:00, 58.15it/s, loss=0.3211]\n",
      "Epoch 4 | Training loss: 0.3211, validation accuracy: 0.9276, validation loss: 0.2503\n",
      "100%|██████████| 750/750 [00:12<00:00, 58.18it/s, loss=0.2434]\n",
      "Epoch 5 | Training loss: 0.2434, validation accuracy: 0.9418, validation loss: 0.2012\n",
      "100%|██████████| 750/750 [00:12<00:00, 58.39it/s, loss=0.1928]\n",
      "Epoch 6 | Training loss: 0.1928, validation accuracy: 0.9499, validation loss: 0.1692\n",
      "100%|██████████| 750/750 [00:12<00:00, 58.39it/s, loss=0.1602]\n",
      "Epoch 7 | Training loss: 0.1602, validation accuracy: 0.9590, validation loss: 0.1449\n",
      "100%|██████████| 750/750 [00:12<00:00, 58.50it/s, loss=0.1365]\n",
      "Epoch 8 | Training loss: 0.1365, validation accuracy: 0.9647, validation loss: 0.1241\n",
      "100%|██████████| 750/750 [00:12<00:00, 58.33it/s, loss=0.1204]\n",
      "Epoch 9 | Training loss: 0.1204, validation accuracy: 0.9663, validation loss: 0.1147\n",
      "100%|██████████| 750/750 [00:12<00:00, 58.36it/s, loss=0.1082]\n",
      "Epoch 10 | Training loss: 0.1082, validation accuracy: 0.9695, validation loss: 0.1061\n",
      "100%|██████████| 750/750 [00:12<00:00, 58.11it/s, loss=0.0987]\n",
      "Epoch 11 | Training loss: 0.0987, validation accuracy: 0.9705, validation loss: 0.1028\n",
      "100%|██████████| 750/750 [00:12<00:00, 58.42it/s, loss=0.0911]\n",
      "Epoch 12 | Training loss: 0.0911, validation accuracy: 0.9681, validation loss: 0.1063\n",
      "100%|██████████| 750/750 [00:12<00:00, 58.29it/s, loss=0.0847]\n",
      "Epoch 13 | Training loss: 0.0847, validation accuracy: 0.9753, validation loss: 0.0865\n",
      "100%|██████████| 750/750 [00:12<00:00, 58.07it/s, loss=0.0795]\n",
      "Epoch 14 | Training loss: 0.0795, validation accuracy: 0.9727, validation loss: 0.0945\n",
      "100%|██████████| 750/750 [00:12<00:00, 58.33it/s, loss=0.0743]\n",
      "Epoch 15 | Training loss: 0.0743, validation accuracy: 0.9756, validation loss: 0.0824\n",
      "100%|██████████| 750/750 [00:12<00:00, 58.51it/s, loss=0.0694]\n",
      "Epoch 16 | Training loss: 0.0694, validation accuracy: 0.9740, validation loss: 0.0875\n",
      "100%|██████████| 750/750 [00:12<00:00, 58.39it/s, loss=0.0665]\n",
      "Epoch 17 | Training loss: 0.0665, validation accuracy: 0.9764, validation loss: 0.0770\n",
      "100%|██████████| 750/750 [00:12<00:00, 58.31it/s, loss=0.0634]\n",
      "Epoch 18 | Training loss: 0.0634, validation accuracy: 0.9775, validation loss: 0.0733\n",
      "100%|██████████| 750/750 [00:12<00:00, 58.30it/s, loss=0.0594]\n",
      "Epoch 19 | Training loss: 0.0594, validation accuracy: 0.9767, validation loss: 0.0785\n",
      "100%|██████████| 750/750 [00:12<00:00, 58.33it/s, loss=0.0574]\n",
      "Epoch 20 | Training loss: 0.0574, validation accuracy: 0.9777, validation loss: 0.0759\n",
      "100%|██████████| 750/750 [00:13<00:00, 54.97it/s, loss=0.0546]\n",
      "Epoch 21 | Training loss: 0.0546, validation accuracy: 0.9800, validation loss: 0.0694\n",
      "100%|██████████| 750/750 [00:13<00:00, 56.80it/s, loss=0.0525]\n",
      "Epoch 22 | Training loss: 0.0525, validation accuracy: 0.9778, validation loss: 0.0740\n",
      "100%|██████████| 750/750 [00:14<00:00, 51.85it/s, loss=0.0497]\n",
      "Epoch 23 | Training loss: 0.0497, validation accuracy: 0.9803, validation loss: 0.0685\n",
      "100%|██████████| 750/750 [00:12<00:00, 58.59it/s, loss=0.0482]\n",
      "Epoch 24 | Training loss: 0.0482, validation accuracy: 0.9818, validation loss: 0.0633\n",
      "100%|██████████| 750/750 [00:13<00:00, 57.34it/s, loss=0.0460]\n",
      "Epoch 25 | Training loss: 0.0460, validation accuracy: 0.9807, validation loss: 0.0645\n",
      "100%|██████████| 750/750 [00:12<00:00, 58.00it/s, loss=0.0443]\n",
      "Epoch 26 | Training loss: 0.0443, validation accuracy: 0.9799, validation loss: 0.0687\n",
      "100%|██████████| 750/750 [00:12<00:00, 57.88it/s, loss=0.0423]\n",
      "Epoch 27 | Training loss: 0.0423, validation accuracy: 0.9814, validation loss: 0.0638\n",
      "100%|██████████| 750/750 [00:13<00:00, 57.64it/s, loss=0.0413]\n",
      "Epoch 28 | Training loss: 0.0413, validation accuracy: 0.9812, validation loss: 0.0682\n",
      "100%|██████████| 750/750 [00:13<00:00, 57.47it/s, loss=0.0399]\n",
      "Epoch 29 | Training loss: 0.0399, validation accuracy: 0.9838, validation loss: 0.0600\n",
      "100%|██████████| 750/750 [00:12<00:00, 58.16it/s, loss=0.0380]\n",
      "Epoch 30 | Training loss: 0.0380, validation accuracy: 0.9829, validation loss: 0.0601\n"
     ]
    }
   ],
   "source": [
    "epochs = 30\n",
    "\n",
    "for epoch in range(epochs):\n",
    "    train_loss = trainer.train_epoch(model, optimizer, dl[\"train\"])\n",
    "    optimizer.finish_epoch()\n",
    "    val_acc, val_loss = trainer.validation(model, dl[\"valid\"])\n",
    "    logger.log(\"Epoch\", epoch+1, \"|\", \n",
    "          f\"Training loss: {train_loss:.4f}, validation accuracy: {val_acc:.4f}, validation loss: {val_loss:.4f}\")"
   ]
  },
  {
   "cell_type": "code",
   "execution_count": 33,
   "metadata": {},
   "outputs": [
    {
     "name": "stdout",
     "output_type": "stream",
     "text": [
      "Train: (0.9902916666666667, 0.03297150648067084)\n",
      "Valid: (0.9829166666666667, 0.060114016773644835)\n"
     ]
    }
   ],
   "source": [
    "train_score = trainer.validation(model, dl[\"train\"])\n",
    "valid_score = trainer.validation(model, dl[\"valid\"])\n",
    "logger.log(\"Train:\", train_score)\n",
    "logger.log(\"Valid:\", valid_score)"
   ]
  },
  {
   "cell_type": "code",
   "execution_count": 34,
   "metadata": {},
   "outputs": [],
   "source": [
    "optimizer.accelerate()"
   ]
  },
  {
   "cell_type": "code",
   "execution_count": 35,
   "metadata": {},
   "outputs": [],
   "source": [
    "optimizer.store_parameters()\n",
    "model.cuda()\n",
    "None"
   ]
  },
  {
   "cell_type": "code",
   "execution_count": 36,
   "metadata": {},
   "outputs": [
    {
     "name": "stdout",
     "output_type": "stream",
     "text": [
      "Train: (0.9907083333333333, 0.03163718872750178)\n",
      "Valid: (0.9828333333333333, 0.058318879128588984)\n"
     ]
    }
   ],
   "source": [
    "train_score = trainer.validation(model, dl[\"train\"])\n",
    "valid_score = trainer.validation(model, dl[\"valid\"])\n",
    "logger.log(\"Train:\", train_score)\n",
    "logger.log(\"Valid:\", valid_score)"
   ]
  },
  {
   "cell_type": "markdown",
   "metadata": {},
   "source": [
    "## Epoch average, with span = 15"
   ]
  },
  {
   "cell_type": "code",
   "execution_count": 37,
   "metadata": {},
   "outputs": [
    {
     "data": {
      "text/plain": [
       "Sequential(\n",
       "  (0): Conv2d(1, 32, kernel_size=(3, 3), stride=(1, 1))\n",
       "  (1): ReLU()\n",
       "  (2): Conv2d(32, 32, kernel_size=(3, 3), stride=(1, 1))\n",
       "  (3): ReLU()\n",
       "  (4): MaxPool2d(kernel_size=2, stride=2, padding=0, dilation=1, ceil_mode=False)\n",
       "  (5): Conv2d(32, 64, kernel_size=(3, 3), stride=(1, 1))\n",
       "  (6): ReLU()\n",
       "  (7): Conv2d(64, 64, kernel_size=(3, 3), stride=(1, 1))\n",
       "  (8): ReLU()\n",
       "  (9): MaxPool2d(kernel_size=2, stride=2, padding=0, dilation=1, ceil_mode=False)\n",
       "  (10): Flatten(start_dim=1, end_dim=-1)\n",
       "  (11): Linear(in_features=1024, out_features=128, bias=True)\n",
       "  (12): ReLU()\n",
       "  (13): Linear(in_features=128, out_features=10, bias=True)\n",
       "  (14): LogSoftmax(dim=-1)\n",
       ")"
      ]
     },
     "execution_count": 37,
     "metadata": {},
     "output_type": "execute_result"
    }
   ],
   "source": [
    "model = make_model()\n",
    "model.to(trainer.device)"
   ]
  },
  {
   "cell_type": "code",
   "execution_count": 38,
   "metadata": {},
   "outputs": [],
   "source": [
    "optimizer = AcceleratedSGD(model.parameters(), 1e-3, k=10, momentum=0.5, weight_decay=1e-5, mode=\"epoch_avg\", avg_alpha=(2 / (15 + 1)))\n",
    "logger = Logger(\"SGD_momentum-avg_span_15.txt\")"
   ]
  },
  {
   "cell_type": "code",
   "execution_count": 39,
   "metadata": {
    "tags": []
   },
   "outputs": [
    {
     "name": "stdout",
     "output_type": "stream",
     "text": [
      "100%|██████████| 750/750 [00:12<00:00, 57.82it/s, loss=2.2893]\n",
      "Epoch 1 | Training loss: 2.2893, validation accuracy: 0.2376, validation loss: 2.2610\n",
      "100%|██████████| 750/750 [00:12<00:00, 57.93it/s, loss=1.5748]\n",
      "Epoch 2 | Training loss: 1.5748, validation accuracy: 0.8377, validation loss: 0.5393\n",
      "100%|██████████| 750/750 [00:12<00:00, 58.60it/s, loss=0.4447]\n",
      "Epoch 3 | Training loss: 0.4447, validation accuracy: 0.9035, validation loss: 0.3362\n",
      "100%|██████████| 750/750 [00:13<00:00, 57.58it/s, loss=0.3109]\n",
      "Epoch 4 | Training loss: 0.3109, validation accuracy: 0.9275, validation loss: 0.2392\n",
      "100%|██████████| 750/750 [00:12<00:00, 57.79it/s, loss=0.2386]\n",
      "Epoch 5 | Training loss: 0.2386, validation accuracy: 0.9422, validation loss: 0.1944\n",
      "100%|██████████| 750/750 [00:12<00:00, 57.71it/s, loss=0.1906]\n",
      "Epoch 6 | Training loss: 0.1906, validation accuracy: 0.9534, validation loss: 0.1629\n",
      "100%|██████████| 750/750 [00:12<00:00, 57.71it/s, loss=0.1597]\n",
      "Epoch 7 | Training loss: 0.1597, validation accuracy: 0.9601, validation loss: 0.1367\n",
      "100%|██████████| 750/750 [00:13<00:00, 55.98it/s, loss=0.1372]\n",
      "Epoch 8 | Training loss: 0.1372, validation accuracy: 0.9596, validation loss: 0.1309\n",
      "100%|██████████| 750/750 [00:13<00:00, 57.67it/s, loss=0.1224]\n",
      "Epoch 9 | Training loss: 0.1224, validation accuracy: 0.9647, validation loss: 0.1160\n",
      "100%|██████████| 750/750 [00:12<00:00, 57.87it/s, loss=0.1103]\n",
      "Epoch 10 | Training loss: 0.1103, validation accuracy: 0.9694, validation loss: 0.1040\n",
      "100%|██████████| 750/750 [00:12<00:00, 58.04it/s, loss=0.0991]\n",
      "Epoch 11 | Training loss: 0.0991, validation accuracy: 0.9673, validation loss: 0.1065\n",
      "100%|██████████| 750/750 [00:13<00:00, 53.96it/s, loss=0.0917]\n",
      "Epoch 12 | Training loss: 0.0917, validation accuracy: 0.9715, validation loss: 0.0943\n",
      "100%|██████████| 750/750 [00:13<00:00, 57.30it/s, loss=0.0848]\n",
      "Epoch 13 | Training loss: 0.0848, validation accuracy: 0.9707, validation loss: 0.0943\n",
      "100%|██████████| 750/750 [00:12<00:00, 58.13it/s, loss=0.0809]\n",
      "Epoch 14 | Training loss: 0.0809, validation accuracy: 0.9753, validation loss: 0.0823\n",
      "100%|██████████| 750/750 [00:12<00:00, 57.89it/s, loss=0.0754]\n",
      "Epoch 15 | Training loss: 0.0754, validation accuracy: 0.9732, validation loss: 0.0905\n",
      "100%|██████████| 750/750 [00:12<00:00, 57.73it/s, loss=0.0702]\n",
      "Epoch 16 | Training loss: 0.0702, validation accuracy: 0.9756, validation loss: 0.0839\n",
      "100%|██████████| 750/750 [00:12<00:00, 58.16it/s, loss=0.0681]\n",
      "Epoch 17 | Training loss: 0.0681, validation accuracy: 0.9776, validation loss: 0.0751\n",
      "100%|██████████| 750/750 [00:13<00:00, 57.66it/s, loss=0.0634]\n",
      "Epoch 18 | Training loss: 0.0634, validation accuracy: 0.9772, validation loss: 0.0751\n",
      "100%|██████████| 750/750 [00:12<00:00, 57.71it/s, loss=0.0604]\n",
      "Epoch 19 | Training loss: 0.0604, validation accuracy: 0.9742, validation loss: 0.0862\n",
      "100%|██████████| 750/750 [00:12<00:00, 58.29it/s, loss=0.0575]\n",
      "Epoch 20 | Training loss: 0.0575, validation accuracy: 0.9782, validation loss: 0.0692\n",
      "100%|██████████| 750/750 [00:12<00:00, 58.04it/s, loss=0.0552]\n",
      "Epoch 21 | Training loss: 0.0552, validation accuracy: 0.9805, validation loss: 0.0672\n",
      "100%|██████████| 750/750 [00:12<00:00, 57.78it/s, loss=0.0531]\n",
      "Epoch 22 | Training loss: 0.0531, validation accuracy: 0.9813, validation loss: 0.0628\n",
      "100%|██████████| 750/750 [00:12<00:00, 58.00it/s, loss=0.0505]\n",
      "Epoch 23 | Training loss: 0.0505, validation accuracy: 0.9789, validation loss: 0.0679\n",
      "100%|██████████| 750/750 [00:12<00:00, 57.97it/s, loss=0.0479]\n",
      "Epoch 24 | Training loss: 0.0479, validation accuracy: 0.9780, validation loss: 0.0709\n",
      "100%|██████████| 750/750 [00:12<00:00, 58.03it/s, loss=0.0463]\n",
      "Epoch 25 | Training loss: 0.0463, validation accuracy: 0.9812, validation loss: 0.0618\n",
      "100%|██████████| 750/750 [00:12<00:00, 58.00it/s, loss=0.0449]\n",
      "Epoch 26 | Training loss: 0.0449, validation accuracy: 0.9801, validation loss: 0.0652\n",
      "100%|██████████| 750/750 [00:12<00:00, 58.00it/s, loss=0.0432]\n",
      "Epoch 27 | Training loss: 0.0432, validation accuracy: 0.9809, validation loss: 0.0626\n",
      "100%|██████████| 750/750 [00:12<00:00, 58.00it/s, loss=0.0411]\n",
      "Epoch 28 | Training loss: 0.0411, validation accuracy: 0.9822, validation loss: 0.0598\n",
      "100%|██████████| 750/750 [00:13<00:00, 57.69it/s, loss=0.0401]\n",
      "Epoch 29 | Training loss: 0.0401, validation accuracy: 0.9818, validation loss: 0.0612\n",
      "100%|██████████| 750/750 [00:12<00:00, 58.46it/s, loss=0.0386]\n",
      "Epoch 30 | Training loss: 0.0386, validation accuracy: 0.9831, validation loss: 0.0574\n"
     ]
    }
   ],
   "source": [
    "epochs = 30\n",
    "\n",
    "for epoch in range(epochs):\n",
    "    train_loss = trainer.train_epoch(model, optimizer, dl[\"train\"])\n",
    "    optimizer.finish_epoch()\n",
    "    val_acc, val_loss = trainer.validation(model, dl[\"valid\"])\n",
    "    logger.log(\"Epoch\", epoch+1, \"|\", \n",
    "          f\"Training loss: {train_loss:.4f}, validation accuracy: {val_acc:.4f}, validation loss: {val_loss:.4f}\")"
   ]
  },
  {
   "cell_type": "code",
   "execution_count": 40,
   "metadata": {},
   "outputs": [
    {
     "name": "stdout",
     "output_type": "stream",
     "text": [
      "Train: (0.9896875, 0.0338580307077306)\n",
      "Valid: (0.9830833333333333, 0.05742358929710463)\n"
     ]
    }
   ],
   "source": [
    "train_score = trainer.validation(model, dl[\"train\"])\n",
    "valid_score = trainer.validation(model, dl[\"valid\"])\n",
    "logger.log(\"Train:\", train_score)\n",
    "logger.log(\"Valid:\", valid_score)"
   ]
  },
  {
   "cell_type": "code",
   "execution_count": 41,
   "metadata": {},
   "outputs": [],
   "source": [
    "optimizer.accelerate()"
   ]
  },
  {
   "cell_type": "code",
   "execution_count": 42,
   "metadata": {},
   "outputs": [],
   "source": [
    "optimizer.store_parameters()\n",
    "model.cuda()\n",
    "None"
   ]
  },
  {
   "cell_type": "code",
   "execution_count": 43,
   "metadata": {},
   "outputs": [
    {
     "name": "stdout",
     "output_type": "stream",
     "text": [
      "Train: (0.990375, 0.03216092803166248)\n",
      "Valid: (0.98375, 0.056568290886934845)\n"
     ]
    }
   ],
   "source": [
    "train_score = trainer.validation(model, dl[\"train\"])\n",
    "valid_score = trainer.validation(model, dl[\"valid\"])\n",
    "logger.log(\"Train:\", train_score)\n",
    "logger.log(\"Valid:\", valid_score)"
   ]
  },
  {
   "cell_type": "markdown",
   "metadata": {},
   "source": [
    "## Epoch average, with span = 10"
   ]
  },
  {
   "cell_type": "code",
   "execution_count": 44,
   "metadata": {},
   "outputs": [
    {
     "data": {
      "text/plain": [
       "Sequential(\n",
       "  (0): Conv2d(1, 32, kernel_size=(3, 3), stride=(1, 1))\n",
       "  (1): ReLU()\n",
       "  (2): Conv2d(32, 32, kernel_size=(3, 3), stride=(1, 1))\n",
       "  (3): ReLU()\n",
       "  (4): MaxPool2d(kernel_size=2, stride=2, padding=0, dilation=1, ceil_mode=False)\n",
       "  (5): Conv2d(32, 64, kernel_size=(3, 3), stride=(1, 1))\n",
       "  (6): ReLU()\n",
       "  (7): Conv2d(64, 64, kernel_size=(3, 3), stride=(1, 1))\n",
       "  (8): ReLU()\n",
       "  (9): MaxPool2d(kernel_size=2, stride=2, padding=0, dilation=1, ceil_mode=False)\n",
       "  (10): Flatten(start_dim=1, end_dim=-1)\n",
       "  (11): Linear(in_features=1024, out_features=128, bias=True)\n",
       "  (12): ReLU()\n",
       "  (13): Linear(in_features=128, out_features=10, bias=True)\n",
       "  (14): LogSoftmax(dim=-1)\n",
       ")"
      ]
     },
     "execution_count": 44,
     "metadata": {},
     "output_type": "execute_result"
    }
   ],
   "source": [
    "model = make_model()\n",
    "model.to(trainer.device)"
   ]
  },
  {
   "cell_type": "code",
   "execution_count": 45,
   "metadata": {},
   "outputs": [],
   "source": [
    "optimizer = AcceleratedSGD(model.parameters(), 1e-3, k=10, momentum=0.5, weight_decay=1e-5, mode=\"epoch_avg\", avg_alpha=(2 / (10 + 1)))\n",
    "logger = Logger(\"SGD_momentum-avg_span_10.txt\")"
   ]
  },
  {
   "cell_type": "code",
   "execution_count": 46,
   "metadata": {
    "tags": []
   },
   "outputs": [
    {
     "name": "stdout",
     "output_type": "stream",
     "text": [
      "100%|██████████| 750/750 [00:12<00:00, 58.53it/s, loss=2.3012]\n",
      "Epoch 1 | Training loss: 2.3012, validation accuracy: 0.2513, validation loss: 2.2979\n",
      "100%|██████████| 750/750 [00:12<00:00, 58.65it/s, loss=2.2930]\n",
      "Epoch 2 | Training loss: 2.2930, validation accuracy: 0.2069, validation loss: 2.2850\n",
      "100%|██████████| 750/750 [00:13<00:00, 56.10it/s, loss=2.2420]\n",
      "Epoch 3 | Training loss: 2.2420, validation accuracy: 0.5530, validation loss: 2.0761\n",
      "100%|██████████| 750/750 [00:14<00:00, 52.61it/s, loss=0.8874]\n",
      "Epoch 4 | Training loss: 0.8874, validation accuracy: 0.8747, validation loss: 0.4132\n",
      "100%|██████████| 750/750 [00:13<00:00, 55.95it/s, loss=0.3751]\n",
      "Epoch 5 | Training loss: 0.3751, validation accuracy: 0.9149, validation loss: 0.2929\n",
      "100%|██████████| 750/750 [00:12<00:00, 58.64it/s, loss=0.2752]\n",
      "Epoch 6 | Training loss: 0.2752, validation accuracy: 0.9349, validation loss: 0.2226\n",
      "100%|██████████| 750/750 [00:12<00:00, 58.65it/s, loss=0.2136]\n",
      "Epoch 7 | Training loss: 0.2136, validation accuracy: 0.9441, validation loss: 0.1887\n",
      "100%|██████████| 750/750 [00:12<00:00, 58.68it/s, loss=0.1731]\n",
      "Epoch 8 | Training loss: 0.1731, validation accuracy: 0.9524, validation loss: 0.1584\n",
      "100%|██████████| 750/750 [00:12<00:00, 58.61it/s, loss=0.1454]\n",
      "Epoch 9 | Training loss: 0.1454, validation accuracy: 0.9617, validation loss: 0.1372\n",
      "100%|██████████| 750/750 [00:12<00:00, 58.38it/s, loss=0.1288]\n",
      "Epoch 10 | Training loss: 0.1288, validation accuracy: 0.9630, validation loss: 0.1260\n",
      "100%|██████████| 750/750 [00:13<00:00, 57.14it/s, loss=0.1155]\n",
      "Epoch 11 | Training loss: 0.1155, validation accuracy: 0.9683, validation loss: 0.1121\n",
      "100%|██████████| 750/750 [00:12<00:00, 58.44it/s, loss=0.1052]\n",
      "Epoch 12 | Training loss: 0.1052, validation accuracy: 0.9688, validation loss: 0.1059\n",
      "100%|██████████| 750/750 [00:13<00:00, 56.54it/s, loss=0.0981]\n",
      "Epoch 13 | Training loss: 0.0981, validation accuracy: 0.9696, validation loss: 0.1008\n",
      "100%|██████████| 750/750 [00:13<00:00, 57.34it/s, loss=0.0900]\n",
      "Epoch 14 | Training loss: 0.0900, validation accuracy: 0.9708, validation loss: 0.0979\n",
      "100%|██████████| 750/750 [00:13<00:00, 56.68it/s, loss=0.0843]\n",
      "Epoch 15 | Training loss: 0.0843, validation accuracy: 0.9712, validation loss: 0.0909\n",
      "100%|██████████| 750/750 [00:12<00:00, 58.08it/s, loss=0.0798]\n",
      "Epoch 16 | Training loss: 0.0798, validation accuracy: 0.9742, validation loss: 0.0855\n",
      "100%|██████████| 750/750 [00:12<00:00, 57.85it/s, loss=0.0759]\n",
      "Epoch 17 | Training loss: 0.0759, validation accuracy: 0.9757, validation loss: 0.0804\n",
      "100%|██████████| 750/750 [00:13<00:00, 55.64it/s, loss=0.0720]\n",
      "Epoch 18 | Training loss: 0.0720, validation accuracy: 0.9744, validation loss: 0.0827\n",
      "100%|██████████| 750/750 [00:13<00:00, 57.44it/s, loss=0.0684]\n",
      "Epoch 19 | Training loss: 0.0684, validation accuracy: 0.9760, validation loss: 0.0832\n",
      "100%|██████████| 750/750 [00:13<00:00, 56.35it/s, loss=0.0643]\n",
      "Epoch 20 | Training loss: 0.0643, validation accuracy: 0.9772, validation loss: 0.0762\n",
      "100%|██████████| 750/750 [00:13<00:00, 57.46it/s, loss=0.0618]\n",
      "Epoch 21 | Training loss: 0.0618, validation accuracy: 0.9787, validation loss: 0.0713\n",
      "100%|██████████| 750/750 [00:13<00:00, 55.61it/s, loss=0.0588]\n",
      "Epoch 22 | Training loss: 0.0588, validation accuracy: 0.9772, validation loss: 0.0748\n",
      "100%|██████████| 750/750 [00:13<00:00, 57.32it/s, loss=0.0564]\n",
      "Epoch 23 | Training loss: 0.0564, validation accuracy: 0.9776, validation loss: 0.0761\n",
      "100%|██████████| 750/750 [00:13<00:00, 56.52it/s, loss=0.0541]\n",
      "Epoch 24 | Training loss: 0.0541, validation accuracy: 0.9787, validation loss: 0.0692\n",
      "100%|██████████| 750/750 [00:13<00:00, 57.37it/s, loss=0.0522]\n",
      "Epoch 25 | Training loss: 0.0522, validation accuracy: 0.9790, validation loss: 0.0672\n",
      "100%|██████████| 750/750 [00:13<00:00, 57.59it/s, loss=0.0501]\n",
      "Epoch 26 | Training loss: 0.0501, validation accuracy: 0.9797, validation loss: 0.0677\n",
      "100%|██████████| 750/750 [00:13<00:00, 57.31it/s, loss=0.0485]\n",
      "Epoch 27 | Training loss: 0.0485, validation accuracy: 0.9808, validation loss: 0.0647\n",
      "100%|██████████| 750/750 [00:13<00:00, 56.80it/s, loss=0.0461]\n",
      "Epoch 28 | Training loss: 0.0461, validation accuracy: 0.9811, validation loss: 0.0623\n",
      "100%|██████████| 750/750 [00:13<00:00, 56.21it/s, loss=0.0448]\n",
      "Epoch 29 | Training loss: 0.0448, validation accuracy: 0.9817, validation loss: 0.0608\n",
      "100%|██████████| 750/750 [00:13<00:00, 57.07it/s, loss=0.0430]\n",
      "Epoch 30 | Training loss: 0.0430, validation accuracy: 0.9809, validation loss: 0.0651\n"
     ]
    }
   ],
   "source": [
    "epochs = 30\n",
    "\n",
    "for epoch in range(epochs):\n",
    "    train_loss = trainer.train_epoch(model, optimizer, dl[\"train\"])\n",
    "    optimizer.finish_epoch()\n",
    "    val_acc, val_loss = trainer.validation(model, dl[\"valid\"])\n",
    "    logger.log(\"Epoch\", epoch+1, \"|\", \n",
    "          f\"Training loss: {train_loss:.4f}, validation accuracy: {val_acc:.4f}, validation loss: {val_loss:.4f}\")"
   ]
  },
  {
   "cell_type": "code",
   "execution_count": 47,
   "metadata": {},
   "outputs": [
    {
     "name": "stdout",
     "output_type": "stream",
     "text": [
      "Train: (0.9874791666666667, 0.040641075562064845)\n",
      "Valid: (0.9809166666666667, 0.06505878606423114)\n"
     ]
    }
   ],
   "source": [
    "train_score = trainer.validation(model, dl[\"train\"])\n",
    "valid_score = trainer.validation(model, dl[\"valid\"])\n",
    "logger.log(\"Train:\", train_score)\n",
    "logger.log(\"Valid:\", valid_score)"
   ]
  },
  {
   "cell_type": "code",
   "execution_count": 48,
   "metadata": {},
   "outputs": [],
   "source": [
    "optimizer.accelerate()"
   ]
  },
  {
   "cell_type": "code",
   "execution_count": 49,
   "metadata": {},
   "outputs": [],
   "source": [
    "optimizer.store_parameters()\n",
    "model.cuda()\n",
    "None"
   ]
  },
  {
   "cell_type": "code",
   "execution_count": 50,
   "metadata": {},
   "outputs": [
    {
     "name": "stdout",
     "output_type": "stream",
     "text": [
      "Train: (0.9892083333333334, 0.03670764370728284)\n",
      "Valid: (0.982, 0.06022620059705029)\n"
     ]
    }
   ],
   "source": [
    "train_score = trainer.validation(model, dl[\"train\"])\n",
    "valid_score = trainer.validation(model, dl[\"valid\"])\n",
    "logger.log(\"Train:\", train_score)\n",
    "logger.log(\"Valid:\", valid_score)"
   ]
  },
  {
   "cell_type": "markdown",
   "metadata": {},
   "source": [
    "## Epoch average, with span = 5"
   ]
  },
  {
   "cell_type": "code",
   "execution_count": 10,
   "metadata": {},
   "outputs": [
    {
     "data": {
      "text/plain": [
       "Sequential(\n",
       "  (0): Conv2d(1, 32, kernel_size=(3, 3), stride=(1, 1))\n",
       "  (1): ReLU()\n",
       "  (2): Conv2d(32, 32, kernel_size=(3, 3), stride=(1, 1))\n",
       "  (3): ReLU()\n",
       "  (4): MaxPool2d(kernel_size=2, stride=2, padding=0, dilation=1, ceil_mode=False)\n",
       "  (5): Conv2d(32, 64, kernel_size=(3, 3), stride=(1, 1))\n",
       "  (6): ReLU()\n",
       "  (7): Conv2d(64, 64, kernel_size=(3, 3), stride=(1, 1))\n",
       "  (8): ReLU()\n",
       "  (9): MaxPool2d(kernel_size=2, stride=2, padding=0, dilation=1, ceil_mode=False)\n",
       "  (10): Flatten(start_dim=1, end_dim=-1)\n",
       "  (11): Linear(in_features=1024, out_features=128, bias=True)\n",
       "  (12): ReLU()\n",
       "  (13): Linear(in_features=128, out_features=10, bias=True)\n",
       "  (14): LogSoftmax(dim=-1)\n",
       ")"
      ]
     },
     "execution_count": 10,
     "metadata": {},
     "output_type": "execute_result"
    }
   ],
   "source": [
    "model = make_model()\n",
    "model.to(trainer.device)"
   ]
  },
  {
   "cell_type": "code",
   "execution_count": 12,
   "metadata": {},
   "outputs": [],
   "source": [
    "optimizer = AcceleratedSGD(model.parameters(), 1e-3, k=10, momentum=0.5, weight_decay=1e-5, mode=\"epoch_avg\", avg_alpha = (2 / (5 + 1)))\n",
    "logger = Logger(\"SGD_momentum-avg_span_5.txt\")"
   ]
  },
  {
   "cell_type": "code",
   "execution_count": 13,
   "metadata": {
    "tags": []
   },
   "outputs": [
    {
     "name": "stdout",
     "output_type": "stream",
     "text": [
      "100%|██████████| 750/750 [00:14<00:00, 52.12it/s, loss=2.2817]\n",
      "Epoch 1 | Training loss: 2.2817, validation accuracy: 0.4597, validation loss: 2.2244\n",
      "100%|██████████| 750/750 [00:14<00:00, 51.81it/s, loss=1.1693]\n",
      "Epoch 2 | Training loss: 1.1693, validation accuracy: 0.8622, validation loss: 0.4646\n",
      "100%|██████████| 750/750 [00:13<00:00, 55.07it/s, loss=0.4020]\n",
      "Epoch 3 | Training loss: 0.4020, validation accuracy: 0.8876, validation loss: 0.3594\n",
      "100%|██████████| 750/750 [00:13<00:00, 55.52it/s, loss=0.2927]\n",
      "Epoch 4 | Training loss: 0.2927, validation accuracy: 0.9314, validation loss: 0.2345\n",
      "100%|██████████| 750/750 [00:13<00:00, 55.42it/s, loss=0.2260]\n",
      "Epoch 5 | Training loss: 0.2260, validation accuracy: 0.9414, validation loss: 0.1945\n",
      "100%|██████████| 750/750 [00:13<00:00, 54.91it/s, loss=0.1805]\n",
      "Epoch 6 | Training loss: 0.1805, validation accuracy: 0.9548, validation loss: 0.1524\n",
      "100%|██████████| 750/750 [00:13<00:00, 54.71it/s, loss=0.1515]\n",
      "Epoch 7 | Training loss: 0.1515, validation accuracy: 0.9575, validation loss: 0.1411\n",
      "100%|██████████| 750/750 [00:13<00:00, 54.36it/s, loss=0.1303]\n",
      "Epoch 8 | Training loss: 0.1303, validation accuracy: 0.9592, validation loss: 0.1329\n",
      "100%|██████████| 750/750 [00:13<00:00, 54.40it/s, loss=0.1158]\n",
      "Epoch 9 | Training loss: 0.1158, validation accuracy: 0.9637, validation loss: 0.1151\n",
      "100%|██████████| 750/750 [00:13<00:00, 54.14it/s, loss=0.1029]\n",
      "Epoch 10 | Training loss: 0.1029, validation accuracy: 0.9697, validation loss: 0.1023\n",
      "100%|██████████| 750/750 [00:13<00:00, 54.28it/s, loss=0.0970]\n",
      "Epoch 11 | Training loss: 0.0970, validation accuracy: 0.9737, validation loss: 0.0933\n",
      "100%|██████████| 750/750 [00:13<00:00, 54.41it/s, loss=0.0880]\n",
      "Epoch 12 | Training loss: 0.0880, validation accuracy: 0.9732, validation loss: 0.0880\n",
      "100%|██████████| 750/750 [00:13<00:00, 53.72it/s, loss=0.0830]\n",
      "Epoch 13 | Training loss: 0.0830, validation accuracy: 0.9751, validation loss: 0.0830\n",
      "100%|██████████| 750/750 [00:13<00:00, 53.83it/s, loss=0.0780]\n",
      "Epoch 14 | Training loss: 0.0780, validation accuracy: 0.9740, validation loss: 0.0863\n",
      "100%|██████████| 750/750 [00:14<00:00, 53.04it/s, loss=0.0730]\n",
      "Epoch 15 | Training loss: 0.0730, validation accuracy: 0.9742, validation loss: 0.0839\n",
      "100%|██████████| 750/750 [00:13<00:00, 53.61it/s, loss=0.0700]\n",
      "Epoch 16 | Training loss: 0.0700, validation accuracy: 0.9782, validation loss: 0.0756\n",
      "100%|██████████| 750/750 [00:13<00:00, 53.74it/s, loss=0.0653]\n",
      "Epoch 17 | Training loss: 0.0653, validation accuracy: 0.9767, validation loss: 0.0771\n",
      "100%|██████████| 750/750 [00:13<00:00, 53.71it/s, loss=0.0636]\n",
      "Epoch 18 | Training loss: 0.0636, validation accuracy: 0.9777, validation loss: 0.0761\n",
      "100%|██████████| 750/750 [00:14<00:00, 53.57it/s, loss=0.0594]\n",
      "Epoch 19 | Training loss: 0.0594, validation accuracy: 0.9775, validation loss: 0.0784\n",
      "100%|██████████| 750/750 [00:14<00:00, 53.46it/s, loss=0.0564]\n",
      "Epoch 20 | Training loss: 0.0564, validation accuracy: 0.9816, validation loss: 0.0688\n",
      "100%|██████████| 750/750 [00:13<00:00, 53.59it/s, loss=0.0546]\n",
      "Epoch 21 | Training loss: 0.0546, validation accuracy: 0.9818, validation loss: 0.0666\n",
      "100%|██████████| 750/750 [00:14<00:00, 53.56it/s, loss=0.0522]\n",
      "Epoch 22 | Training loss: 0.0522, validation accuracy: 0.9823, validation loss: 0.0650\n",
      "100%|██████████| 750/750 [00:14<00:00, 53.38it/s, loss=0.0503]\n",
      "Epoch 23 | Training loss: 0.0503, validation accuracy: 0.9812, validation loss: 0.0652\n",
      "100%|██████████| 750/750 [00:13<00:00, 53.74it/s, loss=0.0474]\n",
      "Epoch 24 | Training loss: 0.0474, validation accuracy: 0.9798, validation loss: 0.0719\n",
      "100%|██████████| 750/750 [00:14<00:00, 53.51it/s, loss=0.0462]\n",
      "Epoch 25 | Training loss: 0.0462, validation accuracy: 0.9811, validation loss: 0.0669\n",
      "100%|██████████| 750/750 [00:13<00:00, 53.60it/s, loss=0.0442]\n",
      "Epoch 26 | Training loss: 0.0442, validation accuracy: 0.9783, validation loss: 0.0762\n",
      "100%|██████████| 750/750 [00:13<00:00, 53.67it/s, loss=0.0420]\n",
      "Epoch 27 | Training loss: 0.0420, validation accuracy: 0.9828, validation loss: 0.0624\n",
      "100%|██████████| 750/750 [00:14<00:00, 53.41it/s, loss=0.0405]\n",
      "Epoch 28 | Training loss: 0.0405, validation accuracy: 0.9803, validation loss: 0.0705\n",
      "100%|██████████| 750/750 [00:14<00:00, 53.56it/s, loss=0.0399]\n",
      "Epoch 29 | Training loss: 0.0399, validation accuracy: 0.9837, validation loss: 0.0591\n",
      "100%|██████████| 750/750 [00:14<00:00, 53.56it/s, loss=0.0386]\n",
      "Epoch 30 | Training loss: 0.0386, validation accuracy: 0.9832, validation loss: 0.0618\n"
     ]
    }
   ],
   "source": [
    "epochs = 30\n",
    "\n",
    "for epoch in range(epochs):\n",
    "    train_loss = trainer.train_epoch(model, optimizer, dl[\"train\"])\n",
    "    optimizer.finish_epoch()\n",
    "    val_acc, val_loss = trainer.validation(model, dl[\"valid\"])\n",
    "    logger.log(\"Epoch\", epoch+1, \"|\", \n",
    "          f\"Training loss: {train_loss:.4f}, validation accuracy: {val_acc:.4f}, validation loss: {val_loss:.4f}\")"
   ]
  },
  {
   "cell_type": "code",
   "execution_count": 14,
   "metadata": {},
   "outputs": [
    {
     "name": "stdout",
     "output_type": "stream",
     "text": [
      "Train: (0.9882708333333333, 0.03823670375036697)\n",
      "Valid: (0.9831666666666666, 0.06175728642366206)\n"
     ]
    }
   ],
   "source": [
    "train_score = trainer.validation(model, dl[\"train\"])\n",
    "valid_score = trainer.validation(model, dl[\"valid\"])\n",
    "logger.log(\"Train:\", train_score)\n",
    "logger.log(\"Valid:\", valid_score)"
   ]
  },
  {
   "cell_type": "code",
   "execution_count": 15,
   "metadata": {},
   "outputs": [],
   "source": [
    "optimizer.accelerate()"
   ]
  },
  {
   "cell_type": "code",
   "execution_count": 17,
   "metadata": {},
   "outputs": [],
   "source": [
    "optimizer.store_parameters()\n",
    "model.to(trainer.device)\n",
    "None"
   ]
  },
  {
   "cell_type": "code",
   "execution_count": 18,
   "metadata": {},
   "outputs": [
    {
     "name": "stdout",
     "output_type": "stream",
     "text": [
      "Train: (0.9910208333333334, 0.03151546738048395)\n",
      "Valid: (0.9838333333333333, 0.056970573332936814)\n"
     ]
    }
   ],
   "source": [
    "train_score = trainer.validation(model, dl[\"train\"])\n",
    "valid_score = trainer.validation(model, dl[\"valid\"])\n",
    "logger.log(\"Train:\", train_score)\n",
    "logger.log(\"Valid:\", valid_score)"
   ]
  },
  {
   "cell_type": "code",
   "execution_count": null,
   "metadata": {},
   "outputs": [],
   "source": []
  }
 ],
 "metadata": {
  "kernelspec": {
   "display_name": "Python 3 (Torch)",
   "language": "python",
   "name": "torch"
  },
  "language_info": {
   "codemirror_mode": {
    "name": "ipython",
    "version": 3
   },
   "file_extension": ".py",
   "mimetype": "text/x-python",
   "name": "python",
   "nbconvert_exporter": "python",
   "pygments_lexer": "ipython3",
   "version": "3.8.11"
  }
 },
 "nbformat": 4,
 "nbformat_minor": 4
}
