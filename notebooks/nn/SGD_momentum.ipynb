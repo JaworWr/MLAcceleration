{
 "cells": [
  {
   "cell_type": "code",
   "execution_count": 1,
   "metadata": {},
   "outputs": [],
   "source": [
    "import sys\n",
    "sys.path.insert(0, \"../..\")"
   ]
  },
  {
   "cell_type": "code",
   "execution_count": 2,
   "metadata": {},
   "outputs": [],
   "source": [
    "import torch\n",
    "from torch import nn\n",
    "import numpy as np\n",
    "from copy import deepcopy\n",
    "\n",
    "from nn_extrapolation import AcceleratedSGD\n",
    "from nn_utils import *"
   ]
  },
  {
   "cell_type": "code",
   "execution_count": 3,
   "metadata": {},
   "outputs": [
    {
     "data": {
      "text/plain": [
       "True"
      ]
     },
     "execution_count": 3,
     "metadata": {},
     "output_type": "execute_result"
    }
   ],
   "source": [
    "torch.cuda.is_available()"
   ]
  },
  {
   "cell_type": "code",
   "execution_count": 4,
   "metadata": {},
   "outputs": [],
   "source": [
    "trainer = Trainer(\n",
    "    device=\"cuda:1\",\n",
    "    loss_fn=nn.NLLLoss(reduction=\"mean\"),\n",
    "    val_loss_fn=nn.NLLLoss(reduction=\"sum\"),\n",
    ")"
   ]
  },
  {
   "cell_type": "code",
   "execution_count": 5,
   "metadata": {},
   "outputs": [],
   "source": [
    "dl = load_dataset(\n",
    "    dataset=\"mnist\", \n",
    "    root=\"../../../MNIST\", \n",
    "    download=False, \n",
    "    validation_split=0.2,\n",
    "    batch_size=64, \n",
    "    num_workers=2,\n",
    ")"
   ]
  },
  {
   "cell_type": "code",
   "execution_count": 6,
   "metadata": {},
   "outputs": [],
   "source": [
    "def make_model():\n",
    "    return nn.Sequential(\n",
    "        nn.Conv2d(1, 32, 3),\n",
    "        nn.ReLU(),\n",
    "        nn.Conv2d(32, 32, 3),\n",
    "        nn.ReLU(),\n",
    "        nn.MaxPool2d(2),\n",
    "        nn.Conv2d(32, 64, 3),\n",
    "        nn.ReLU(),\n",
    "        nn.Conv2d(64, 64, 3),\n",
    "        nn.ReLU(),\n",
    "        nn.MaxPool2d(2),\n",
    "        nn.Flatten(),\n",
    "        nn.Linear(4*4*64, 128),\n",
    "        nn.ReLU(),\n",
    "        nn.Linear(128, 10),\n",
    "        nn.LogSoftmax(-1),\n",
    "    )"
   ]
  },
  {
   "cell_type": "markdown",
   "metadata": {
    "tags": []
   },
   "source": [
    "## Epoch"
   ]
  },
  {
   "cell_type": "code",
   "execution_count": 7,
   "metadata": {},
   "outputs": [
    {
     "data": {
      "text/plain": [
       "Sequential(\n",
       "  (0): Conv2d(1, 32, kernel_size=(3, 3), stride=(1, 1))\n",
       "  (1): ReLU()\n",
       "  (2): Conv2d(32, 32, kernel_size=(3, 3), stride=(1, 1))\n",
       "  (3): ReLU()\n",
       "  (4): MaxPool2d(kernel_size=2, stride=2, padding=0, dilation=1, ceil_mode=False)\n",
       "  (5): Conv2d(32, 64, kernel_size=(3, 3), stride=(1, 1))\n",
       "  (6): ReLU()\n",
       "  (7): Conv2d(64, 64, kernel_size=(3, 3), stride=(1, 1))\n",
       "  (8): ReLU()\n",
       "  (9): MaxPool2d(kernel_size=2, stride=2, padding=0, dilation=1, ceil_mode=False)\n",
       "  (10): Flatten(start_dim=1, end_dim=-1)\n",
       "  (11): Linear(in_features=1024, out_features=128, bias=True)\n",
       "  (12): ReLU()\n",
       "  (13): Linear(in_features=128, out_features=10, bias=True)\n",
       "  (14): LogSoftmax(dim=-1)\n",
       ")"
      ]
     },
     "execution_count": 7,
     "metadata": {},
     "output_type": "execute_result"
    }
   ],
   "source": [
    "model = make_model()\n",
    "initial_state = deepcopy(model.state_dict())\n",
    "model.to(trainer.device)"
   ]
  },
  {
   "cell_type": "markdown",
   "metadata": {
    "tags": []
   },
   "source": [
    "### Lambda = 1e-10"
   ]
  },
  {
   "cell_type": "code",
   "execution_count": 8,
   "metadata": {},
   "outputs": [],
   "source": [
    "optimizer = AcceleratedSGD(model.parameters(), 1e-3, k=10, momentum=0.5, weight_decay=1e-5, mode=\"epoch\")\n",
    "logger = Logger(\"SGD_momentum2.txt\")"
   ]
  },
  {
   "cell_type": "code",
   "execution_count": 9,
   "metadata": {
    "tags": []
   },
   "outputs": [
    {
     "name": "stdout",
     "output_type": "stream",
     "text": [
      "100%|██████████| 750/750 [00:09<00:00, 81.12it/s, loss=2.2952]\n",
      "Epoch 1 | Training loss: 2.2952, validation accuracy: 0.2307, validation loss: 2.2780\n",
      "100%|██████████| 750/750 [00:09<00:00, 79.99it/s, loss=1.9824]\n",
      "Epoch 2 | Training loss: 1.9824, validation accuracy: 0.7867, validation loss: 0.7826\n",
      "100%|██████████| 750/750 [00:09<00:00, 81.48it/s, loss=0.4920]\n",
      "Epoch 3 | Training loss: 0.4920, validation accuracy: 0.8973, validation loss: 0.3334\n",
      "100%|██████████| 750/750 [00:08<00:00, 83.61it/s, loss=0.3123]\n",
      "Epoch 4 | Training loss: 0.3123, validation accuracy: 0.9278, validation loss: 0.2451\n",
      "100%|██████████| 750/750 [00:09<00:00, 82.10it/s, loss=0.2293]\n",
      "Epoch 5 | Training loss: 0.2293, validation accuracy: 0.9437, validation loss: 0.1867\n",
      "100%|██████████| 750/750 [00:09<00:00, 83.28it/s, loss=0.1787]\n",
      "Epoch 6 | Training loss: 0.1787, validation accuracy: 0.9564, validation loss: 0.1499\n",
      "100%|██████████| 750/750 [00:09<00:00, 82.31it/s, loss=0.1471]\n",
      "Epoch 7 | Training loss: 0.1471, validation accuracy: 0.9609, validation loss: 0.1316\n",
      "100%|██████████| 750/750 [00:09<00:00, 82.89it/s, loss=0.1267]\n",
      "Epoch 8 | Training loss: 0.1267, validation accuracy: 0.9670, validation loss: 0.1121\n",
      "100%|██████████| 750/750 [00:09<00:00, 83.02it/s, loss=0.1121]\n",
      "Epoch 9 | Training loss: 0.1121, validation accuracy: 0.9676, validation loss: 0.1072\n",
      "100%|██████████| 750/750 [00:09<00:00, 82.97it/s, loss=0.1011]\n",
      "Epoch 10 | Training loss: 0.1011, validation accuracy: 0.9692, validation loss: 0.1033\n",
      "100%|██████████| 750/750 [00:09<00:00, 81.51it/s, loss=0.0925]\n",
      "Epoch 11 | Training loss: 0.0925, validation accuracy: 0.9722, validation loss: 0.0937\n",
      "100%|██████████| 750/750 [00:09<00:00, 82.27it/s, loss=0.0859]\n",
      "Epoch 12 | Training loss: 0.0859, validation accuracy: 0.9722, validation loss: 0.0880\n",
      "100%|██████████| 750/750 [00:09<00:00, 81.20it/s, loss=0.0793]\n",
      "Epoch 13 | Training loss: 0.0793, validation accuracy: 0.9752, validation loss: 0.0863\n",
      "100%|██████████| 750/750 [00:08<00:00, 83.85it/s, loss=0.0752]\n",
      "Epoch 14 | Training loss: 0.0752, validation accuracy: 0.9760, validation loss: 0.0779\n",
      "100%|██████████| 750/750 [00:08<00:00, 84.18it/s, loss=0.0701]\n",
      "Epoch 15 | Training loss: 0.0701, validation accuracy: 0.9723, validation loss: 0.0934\n",
      "100%|██████████| 750/750 [00:09<00:00, 83.03it/s, loss=0.0665]\n",
      "Epoch 16 | Training loss: 0.0665, validation accuracy: 0.9763, validation loss: 0.0760\n",
      "100%|██████████| 750/750 [00:09<00:00, 82.26it/s, loss=0.0629]\n",
      "Epoch 17 | Training loss: 0.0629, validation accuracy: 0.9777, validation loss: 0.0735\n",
      "100%|██████████| 750/750 [00:09<00:00, 76.46it/s, loss=0.0593]\n",
      "Epoch 18 | Training loss: 0.0593, validation accuracy: 0.9785, validation loss: 0.0755\n",
      "100%|██████████| 750/750 [00:09<00:00, 82.79it/s, loss=0.0567]\n",
      "Epoch 19 | Training loss: 0.0567, validation accuracy: 0.9795, validation loss: 0.0697\n",
      "100%|██████████| 750/750 [00:09<00:00, 82.21it/s, loss=0.0537]\n",
      "Epoch 20 | Training loss: 0.0537, validation accuracy: 0.9793, validation loss: 0.0701\n",
      "100%|██████████| 750/750 [00:09<00:00, 81.63it/s, loss=0.0514]\n",
      "Epoch 21 | Training loss: 0.0514, validation accuracy: 0.9763, validation loss: 0.0778\n",
      "100%|██████████| 750/750 [00:08<00:00, 83.70it/s, loss=0.0493]\n",
      "Epoch 22 | Training loss: 0.0493, validation accuracy: 0.9807, validation loss: 0.0675\n",
      "100%|██████████| 750/750 [00:09<00:00, 81.69it/s, loss=0.0471]\n",
      "Epoch 23 | Training loss: 0.0471, validation accuracy: 0.9799, validation loss: 0.0696\n",
      "100%|██████████| 750/750 [00:09<00:00, 83.18it/s, loss=0.0458]\n",
      "Epoch 24 | Training loss: 0.0458, validation accuracy: 0.9823, validation loss: 0.0615\n",
      "100%|██████████| 750/750 [00:08<00:00, 84.26it/s, loss=0.0436]\n",
      "Epoch 25 | Training loss: 0.0436, validation accuracy: 0.9818, validation loss: 0.0604\n",
      "100%|██████████| 750/750 [00:09<00:00, 83.26it/s, loss=0.0415]\n",
      "Epoch 26 | Training loss: 0.0415, validation accuracy: 0.9815, validation loss: 0.0612\n",
      "100%|██████████| 750/750 [00:09<00:00, 80.54it/s, loss=0.0401]\n",
      "Epoch 27 | Training loss: 0.0401, validation accuracy: 0.9819, validation loss: 0.0605\n",
      "100%|██████████| 750/750 [00:09<00:00, 80.99it/s, loss=0.0382]\n",
      "Epoch 28 | Training loss: 0.0382, validation accuracy: 0.9810, validation loss: 0.0629\n",
      "100%|██████████| 750/750 [00:09<00:00, 82.46it/s, loss=0.0365]\n",
      "Epoch 29 | Training loss: 0.0365, validation accuracy: 0.9819, validation loss: 0.0605\n",
      "100%|██████████| 750/750 [00:09<00:00, 82.84it/s, loss=0.0359]\n",
      "Epoch 30 | Training loss: 0.0359, validation accuracy: 0.9822, validation loss: 0.0592\n"
     ]
    }
   ],
   "source": [
    "torch.manual_seed(2020)\n",
    "epochs = 30\n",
    "\n",
    "for epoch in range(epochs):\n",
    "    train_loss = trainer.train_epoch(model, optimizer, dl[\"train\"])\n",
    "    optimizer.finish_epoch()\n",
    "    val_acc, val_loss = trainer.validation(model, dl[\"valid\"])\n",
    "    logger.log(\"Epoch\", epoch+1, \"|\", \n",
    "          f\"Training loss: {train_loss:.4f}, validation accuracy: {val_acc:.4f}, validation loss: {val_loss:.4f}\")"
   ]
  },
  {
   "cell_type": "code",
   "execution_count": 10,
   "metadata": {},
   "outputs": [
    {
     "name": "stdout",
     "output_type": "stream",
     "text": [
      "Train: (0.98975, 0.03250145790306851)\n",
      "Valid: (0.98225, 0.05921080670940379)\n"
     ]
    }
   ],
   "source": [
    "train_score = trainer.validation(model, dl[\"train\"])\n",
    "valid_score = trainer.validation(model, dl[\"valid\"])\n",
    "logger.log(\"Train:\", train_score)\n",
    "logger.log(\"Valid:\", valid_score)"
   ]
  },
  {
   "cell_type": "code",
   "execution_count": 11,
   "metadata": {},
   "outputs": [],
   "source": [
    "optimizer.accelerate()"
   ]
  },
  {
   "cell_type": "code",
   "execution_count": 12,
   "metadata": {},
   "outputs": [],
   "source": [
    "optimizer.store_parameters()\n",
    "model.to(trainer.device)\n",
    "None"
   ]
  },
  {
   "cell_type": "code",
   "execution_count": 13,
   "metadata": {},
   "outputs": [
    {
     "name": "stdout",
     "output_type": "stream",
     "text": [
      "Train: (0.9911666666666666, 0.030389028998169428)\n",
      "Valid: (0.98325, 0.05647537519518907)\n"
     ]
    }
   ],
   "source": [
    "train_score = trainer.validation(model, dl[\"train\"])\n",
    "valid_score = trainer.validation(model, dl[\"valid\"])\n",
    "logger.log(\"Train:\", train_score)\n",
    "logger.log(\"Valid:\", valid_score)"
   ]
  },
  {
   "cell_type": "markdown",
   "metadata": {
    "tags": []
   },
   "source": [
    "### Lambda = 1e-5"
   ]
  },
  {
   "cell_type": "code",
   "execution_count": 14,
   "metadata": {},
   "outputs": [],
   "source": [
    "model.load_state_dict(initial_state)\n",
    "optimizer = AcceleratedSGD(model.parameters(), 1e-3, k=10, momentum=0.5, weight_decay=1e-5, mode=\"epoch\", lambda_=1e-5)\n",
    "logger = Logger(\"SGD_momentum_lambda=1e-5_2.txt\")"
   ]
  },
  {
   "cell_type": "code",
   "execution_count": 15,
   "metadata": {
    "tags": []
   },
   "outputs": [
    {
     "name": "stdout",
     "output_type": "stream",
     "text": [
      "100%|██████████| 750/750 [00:08<00:00, 83.75it/s, loss=2.2952]\n",
      "Epoch 1 | Training loss: 2.2952, validation accuracy: 0.2307, validation loss: 2.2780\n",
      "100%|██████████| 750/750 [00:09<00:00, 81.31it/s, loss=1.9824]\n",
      "Epoch 2 | Training loss: 1.9824, validation accuracy: 0.7863, validation loss: 0.7826\n",
      "100%|██████████| 750/750 [00:09<00:00, 81.15it/s, loss=0.4920]\n",
      "Epoch 3 | Training loss: 0.4920, validation accuracy: 0.8969, validation loss: 0.3335\n",
      "100%|██████████| 750/750 [00:08<00:00, 84.16it/s, loss=0.3125]\n",
      "Epoch 4 | Training loss: 0.3125, validation accuracy: 0.9273, validation loss: 0.2453\n",
      "100%|██████████| 750/750 [00:09<00:00, 83.26it/s, loss=0.2295]\n",
      "Epoch 5 | Training loss: 0.2295, validation accuracy: 0.9436, validation loss: 0.1873\n",
      "100%|██████████| 750/750 [00:09<00:00, 82.30it/s, loss=0.1789]\n",
      "Epoch 6 | Training loss: 0.1789, validation accuracy: 0.9563, validation loss: 0.1499\n",
      "100%|██████████| 750/750 [00:08<00:00, 84.55it/s, loss=0.1472]\n",
      "Epoch 7 | Training loss: 0.1472, validation accuracy: 0.9614, validation loss: 0.1316\n",
      "100%|██████████| 750/750 [00:09<00:00, 82.62it/s, loss=0.1269]\n",
      "Epoch 8 | Training loss: 0.1269, validation accuracy: 0.9667, validation loss: 0.1120\n",
      "100%|██████████| 750/750 [00:09<00:00, 82.20it/s, loss=0.1123]\n",
      "Epoch 9 | Training loss: 0.1123, validation accuracy: 0.9671, validation loss: 0.1076\n",
      "100%|██████████| 750/750 [00:08<00:00, 84.33it/s, loss=0.1013]\n",
      "Epoch 10 | Training loss: 0.1013, validation accuracy: 0.9688, validation loss: 0.1036\n",
      "100%|██████████| 750/750 [00:09<00:00, 82.86it/s, loss=0.0926]\n",
      "Epoch 11 | Training loss: 0.0926, validation accuracy: 0.9722, validation loss: 0.0938\n",
      "100%|██████████| 750/750 [00:09<00:00, 80.47it/s, loss=0.0861]\n",
      "Epoch 12 | Training loss: 0.0861, validation accuracy: 0.9723, validation loss: 0.0885\n",
      "100%|██████████| 750/750 [00:08<00:00, 85.51it/s, loss=0.0794]\n",
      "Epoch 13 | Training loss: 0.0794, validation accuracy: 0.9744, validation loss: 0.0867\n",
      "100%|██████████| 750/750 [00:08<00:00, 85.59it/s, loss=0.0754]\n",
      "Epoch 14 | Training loss: 0.0754, validation accuracy: 0.9759, validation loss: 0.0782\n",
      "100%|██████████| 750/750 [00:09<00:00, 83.13it/s, loss=0.0703]\n",
      "Epoch 15 | Training loss: 0.0703, validation accuracy: 0.9713, validation loss: 0.0958\n",
      "100%|██████████| 750/750 [00:09<00:00, 80.75it/s, loss=0.0668]\n",
      "Epoch 16 | Training loss: 0.0668, validation accuracy: 0.9762, validation loss: 0.0764\n",
      "100%|██████████| 750/750 [00:09<00:00, 82.76it/s, loss=0.0631]\n",
      "Epoch 17 | Training loss: 0.0631, validation accuracy: 0.9778, validation loss: 0.0737\n",
      "100%|██████████| 750/750 [00:09<00:00, 81.69it/s, loss=0.0596]\n",
      "Epoch 18 | Training loss: 0.0596, validation accuracy: 0.9780, validation loss: 0.0759\n",
      "100%|██████████| 750/750 [00:09<00:00, 82.50it/s, loss=0.0569]\n",
      "Epoch 19 | Training loss: 0.0569, validation accuracy: 0.9792, validation loss: 0.0702\n",
      "100%|██████████| 750/750 [00:08<00:00, 83.55it/s, loss=0.0539]\n",
      "Epoch 20 | Training loss: 0.0539, validation accuracy: 0.9790, validation loss: 0.0705\n",
      "100%|██████████| 750/750 [00:08<00:00, 84.61it/s, loss=0.0516]\n",
      "Epoch 21 | Training loss: 0.0516, validation accuracy: 0.9757, validation loss: 0.0795\n",
      "100%|██████████| 750/750 [00:09<00:00, 82.63it/s, loss=0.0495]\n",
      "Epoch 22 | Training loss: 0.0495, validation accuracy: 0.9808, validation loss: 0.0681\n",
      "100%|██████████| 750/750 [00:08<00:00, 85.16it/s, loss=0.0472]\n",
      "Epoch 23 | Training loss: 0.0472, validation accuracy: 0.9796, validation loss: 0.0694\n",
      "100%|██████████| 750/750 [00:08<00:00, 83.68it/s, loss=0.0460]\n",
      "Epoch 24 | Training loss: 0.0460, validation accuracy: 0.9822, validation loss: 0.0617\n",
      "100%|██████████| 750/750 [00:08<00:00, 84.14it/s, loss=0.0437]\n",
      "Epoch 25 | Training loss: 0.0437, validation accuracy: 0.9819, validation loss: 0.0611\n",
      "100%|██████████| 750/750 [00:08<00:00, 83.58it/s, loss=0.0417]\n",
      "Epoch 26 | Training loss: 0.0417, validation accuracy: 0.9813, validation loss: 0.0616\n",
      "100%|██████████| 750/750 [00:08<00:00, 83.61it/s, loss=0.0402]\n",
      "Epoch 27 | Training loss: 0.0402, validation accuracy: 0.9821, validation loss: 0.0609\n",
      "100%|██████████| 750/750 [00:08<00:00, 85.61it/s, loss=0.0385]\n",
      "Epoch 28 | Training loss: 0.0385, validation accuracy: 0.9806, validation loss: 0.0638\n",
      "100%|██████████| 750/750 [00:08<00:00, 86.19it/s, loss=0.0366]\n",
      "Epoch 29 | Training loss: 0.0366, validation accuracy: 0.9818, validation loss: 0.0607\n",
      "100%|██████████| 750/750 [00:09<00:00, 83.28it/s, loss=0.0361]\n",
      "Epoch 30 | Training loss: 0.0361, validation accuracy: 0.9818, validation loss: 0.0593\n"
     ]
    }
   ],
   "source": [
    "torch.manual_seed(2020)\n",
    "epochs = 30\n",
    "\n",
    "for epoch in range(epochs):\n",
    "    train_loss = trainer.train_epoch(model, optimizer, dl[\"train\"])\n",
    "    optimizer.finish_epoch()\n",
    "    val_acc, val_loss = trainer.validation(model, dl[\"valid\"])\n",
    "    logger.log(\"Epoch\", epoch+1, \"|\", \n",
    "          f\"Training loss: {train_loss:.4f}, validation accuracy: {val_acc:.4f}, validation loss: {val_loss:.4f}\")"
   ]
  },
  {
   "cell_type": "code",
   "execution_count": 16,
   "metadata": {},
   "outputs": [
    {
     "name": "stdout",
     "output_type": "stream",
     "text": [
      "Train: (0.9898125, 0.0323003632936161)\n",
      "Valid: (0.98175, 0.059265850248746574)\n"
     ]
    }
   ],
   "source": [
    "train_score = trainer.validation(model, dl[\"train\"])\n",
    "valid_score = trainer.validation(model, dl[\"valid\"])\n",
    "logger.log(\"Train:\", train_score)\n",
    "logger.log(\"Valid:\", valid_score)"
   ]
  },
  {
   "cell_type": "code",
   "execution_count": 17,
   "metadata": {},
   "outputs": [],
   "source": [
    "optimizer.accelerate()"
   ]
  },
  {
   "cell_type": "code",
   "execution_count": 18,
   "metadata": {},
   "outputs": [],
   "source": [
    "optimizer.store_parameters()\n",
    "model.to(trainer.device)\n",
    "None"
   ]
  },
  {
   "cell_type": "code",
   "execution_count": 19,
   "metadata": {},
   "outputs": [
    {
     "name": "stdout",
     "output_type": "stream",
     "text": [
      "Train: (0.9911458333333333, 0.030479643390513955)\n",
      "Valid: (0.9830833333333333, 0.05683630394128462)\n"
     ]
    }
   ],
   "source": [
    "train_score = trainer.validation(model, dl[\"train\"])\n",
    "valid_score = trainer.validation(model, dl[\"valid\"])\n",
    "logger.log(\"Train:\", train_score)\n",
    "logger.log(\"Valid:\", valid_score)"
   ]
  },
  {
   "cell_type": "markdown",
   "metadata": {
    "tags": []
   },
   "source": [
    "### Lambda = 1e-2"
   ]
  },
  {
   "cell_type": "code",
   "execution_count": 20,
   "metadata": {},
   "outputs": [],
   "source": [
    "model.load_state_dict(initial_state)\n",
    "optimizer = AcceleratedSGD(model.parameters(), 1e-3, k=10, momentum=0.5, weight_decay=1e-5, mode=\"epoch\", lambda_=1e-2)\n",
    "logger = Logger(\"SGD_momentum_lambda=1e-2.txt\")"
   ]
  },
  {
   "cell_type": "code",
   "execution_count": 21,
   "metadata": {
    "tags": []
   },
   "outputs": [
    {
     "name": "stdout",
     "output_type": "stream",
     "text": [
      "100%|██████████| 750/750 [00:08<00:00, 83.35it/s, loss=2.2952]\n",
      "Epoch 1 | Training loss: 2.2952, validation accuracy: 0.2307, validation loss: 2.2780\n",
      "100%|██████████| 750/750 [00:09<00:00, 82.13it/s, loss=1.9824]\n",
      "Epoch 2 | Training loss: 1.9824, validation accuracy: 0.7863, validation loss: 0.7827\n",
      "100%|██████████| 750/750 [00:09<00:00, 80.62it/s, loss=0.4920]\n",
      "Epoch 3 | Training loss: 0.4920, validation accuracy: 0.8968, validation loss: 0.3334\n",
      "100%|██████████| 750/750 [00:08<00:00, 83.57it/s, loss=0.3125]\n",
      "Epoch 4 | Training loss: 0.3125, validation accuracy: 0.9275, validation loss: 0.2456\n",
      "100%|██████████| 750/750 [00:09<00:00, 82.05it/s, loss=0.2294]\n",
      "Epoch 5 | Training loss: 0.2294, validation accuracy: 0.9439, validation loss: 0.1867\n",
      "100%|██████████| 750/750 [00:09<00:00, 81.96it/s, loss=0.1787]\n",
      "Epoch 6 | Training loss: 0.1787, validation accuracy: 0.9557, validation loss: 0.1500\n",
      "100%|██████████| 750/750 [00:08<00:00, 84.78it/s, loss=0.1471]\n",
      "Epoch 7 | Training loss: 0.1471, validation accuracy: 0.9612, validation loss: 0.1315\n",
      "100%|██████████| 750/750 [00:09<00:00, 82.33it/s, loss=0.1266]\n",
      "Epoch 8 | Training loss: 0.1266, validation accuracy: 0.9663, validation loss: 0.1118\n",
      "100%|██████████| 750/750 [00:09<00:00, 80.19it/s, loss=0.1121]\n",
      "Epoch 9 | Training loss: 0.1121, validation accuracy: 0.9671, validation loss: 0.1072\n",
      "100%|██████████| 750/750 [00:08<00:00, 88.19it/s, loss=0.1012]\n",
      "Epoch 10 | Training loss: 0.1012, validation accuracy: 0.9688, validation loss: 0.1034\n",
      "100%|██████████| 750/750 [00:08<00:00, 88.02it/s, loss=0.0925]\n",
      "Epoch 11 | Training loss: 0.0925, validation accuracy: 0.9721, validation loss: 0.0937\n",
      "100%|██████████| 750/750 [00:08<00:00, 87.74it/s, loss=0.0859]\n",
      "Epoch 12 | Training loss: 0.0859, validation accuracy: 0.9724, validation loss: 0.0882\n",
      "100%|██████████| 750/750 [00:08<00:00, 86.40it/s, loss=0.0792]\n",
      "Epoch 13 | Training loss: 0.0792, validation accuracy: 0.9748, validation loss: 0.0865\n",
      "100%|██████████| 750/750 [00:08<00:00, 88.24it/s, loss=0.0751]\n",
      "Epoch 14 | Training loss: 0.0751, validation accuracy: 0.9762, validation loss: 0.0777\n",
      "100%|██████████| 750/750 [00:08<00:00, 84.41it/s, loss=0.0700]\n",
      "Epoch 15 | Training loss: 0.0700, validation accuracy: 0.9719, validation loss: 0.0942\n",
      "100%|██████████| 750/750 [00:08<00:00, 87.10it/s, loss=0.0665]\n",
      "Epoch 16 | Training loss: 0.0665, validation accuracy: 0.9767, validation loss: 0.0760\n",
      "100%|██████████| 750/750 [00:08<00:00, 87.22it/s, loss=0.0628]\n",
      "Epoch 17 | Training loss: 0.0628, validation accuracy: 0.9777, validation loss: 0.0731\n",
      "100%|██████████| 750/750 [00:08<00:00, 85.79it/s, loss=0.0591]\n",
      "Epoch 18 | Training loss: 0.0591, validation accuracy: 0.9785, validation loss: 0.0757\n",
      "100%|██████████| 750/750 [00:08<00:00, 87.62it/s, loss=0.0567]\n",
      "Epoch 19 | Training loss: 0.0567, validation accuracy: 0.9793, validation loss: 0.0695\n",
      "100%|██████████| 750/750 [00:08<00:00, 86.61it/s, loss=0.0535]\n",
      "Epoch 20 | Training loss: 0.0535, validation accuracy: 0.9790, validation loss: 0.0703\n",
      "100%|██████████| 750/750 [00:08<00:00, 84.97it/s, loss=0.0513]\n",
      "Epoch 21 | Training loss: 0.0513, validation accuracy: 0.9765, validation loss: 0.0778\n",
      "100%|██████████| 750/750 [00:08<00:00, 86.70it/s, loss=0.0492]\n",
      "Epoch 22 | Training loss: 0.0492, validation accuracy: 0.9808, validation loss: 0.0677\n",
      "100%|██████████| 750/750 [00:08<00:00, 86.66it/s, loss=0.0470]\n",
      "Epoch 23 | Training loss: 0.0470, validation accuracy: 0.9798, validation loss: 0.0691\n",
      "100%|██████████| 750/750 [00:08<00:00, 83.37it/s, loss=0.0457]\n",
      "Epoch 24 | Training loss: 0.0457, validation accuracy: 0.9823, validation loss: 0.0615\n",
      "100%|██████████| 750/750 [00:08<00:00, 86.28it/s, loss=0.0436]\n",
      "Epoch 25 | Training loss: 0.0436, validation accuracy: 0.9820, validation loss: 0.0609\n",
      "100%|██████████| 750/750 [00:08<00:00, 88.26it/s, loss=0.0415]\n",
      "Epoch 26 | Training loss: 0.0415, validation accuracy: 0.9813, validation loss: 0.0614\n",
      "100%|██████████| 750/750 [00:08<00:00, 85.48it/s, loss=0.0400]\n",
      "Epoch 27 | Training loss: 0.0400, validation accuracy: 0.9822, validation loss: 0.0608\n",
      "100%|██████████| 750/750 [00:08<00:00, 87.46it/s, loss=0.0382]\n",
      "Epoch 28 | Training loss: 0.0382, validation accuracy: 0.9809, validation loss: 0.0635\n",
      "100%|██████████| 750/750 [00:08<00:00, 87.25it/s, loss=0.0364]\n",
      "Epoch 29 | Training loss: 0.0364, validation accuracy: 0.9822, validation loss: 0.0613\n",
      "100%|██████████| 750/750 [00:08<00:00, 87.13it/s, loss=0.0359]\n",
      "Epoch 30 | Training loss: 0.0359, validation accuracy: 0.9821, validation loss: 0.0596\n"
     ]
    }
   ],
   "source": [
    "torch.manual_seed(2020)\n",
    "epochs = 30\n",
    "\n",
    "for epoch in range(epochs):\n",
    "    train_loss = trainer.train_epoch(model, optimizer, dl[\"train\"])\n",
    "    optimizer.finish_epoch()\n",
    "    val_acc, val_loss = trainer.validation(model, dl[\"valid\"])\n",
    "    logger.log(\"Epoch\", epoch+1, \"|\", \n",
    "          f\"Training loss: {train_loss:.4f}, validation accuracy: {val_acc:.4f}, validation loss: {val_loss:.4f}\")"
   ]
  },
  {
   "cell_type": "code",
   "execution_count": 22,
   "metadata": {},
   "outputs": [
    {
     "name": "stdout",
     "output_type": "stream",
     "text": [
      "Train: (0.9899166666666667, 0.032230870001173265)\n",
      "Valid: (0.9820833333333333, 0.05960622924364482)\n"
     ]
    }
   ],
   "source": [
    "train_score = trainer.validation(model, dl[\"train\"])\n",
    "valid_score = trainer.validation(model, dl[\"valid\"])\n",
    "logger.log(\"Train:\", train_score)\n",
    "logger.log(\"Valid:\", valid_score)"
   ]
  },
  {
   "cell_type": "code",
   "execution_count": 23,
   "metadata": {},
   "outputs": [],
   "source": [
    "optimizer.accelerate()"
   ]
  },
  {
   "cell_type": "code",
   "execution_count": 24,
   "metadata": {},
   "outputs": [],
   "source": [
    "optimizer.store_parameters()\n",
    "model.to(trainer.device)\n",
    "None"
   ]
  },
  {
   "cell_type": "code",
   "execution_count": 25,
   "metadata": {},
   "outputs": [
    {
     "name": "stdout",
     "output_type": "stream",
     "text": [
      "Train: (0.9909166666666667, 0.030724221766150247)\n",
      "Valid: (0.983, 0.057033593920214724)\n"
     ]
    }
   ],
   "source": [
    "train_score = trainer.validation(model, dl[\"train\"])\n",
    "valid_score = trainer.validation(model, dl[\"valid\"])\n",
    "logger.log(\"Train:\", train_score)\n",
    "logger.log(\"Valid:\", valid_score)"
   ]
  },
  {
   "cell_type": "markdown",
   "metadata": {},
   "source": [
    "## Epoch average"
   ]
  },
  {
   "cell_type": "code",
   "execution_count": 26,
   "metadata": {},
   "outputs": [
    {
     "data": {
      "text/plain": [
       "Sequential(\n",
       "  (0): Conv2d(1, 32, kernel_size=(3, 3), stride=(1, 1))\n",
       "  (1): ReLU()\n",
       "  (2): Conv2d(32, 32, kernel_size=(3, 3), stride=(1, 1))\n",
       "  (3): ReLU()\n",
       "  (4): MaxPool2d(kernel_size=2, stride=2, padding=0, dilation=1, ceil_mode=False)\n",
       "  (5): Conv2d(32, 64, kernel_size=(3, 3), stride=(1, 1))\n",
       "  (6): ReLU()\n",
       "  (7): Conv2d(64, 64, kernel_size=(3, 3), stride=(1, 1))\n",
       "  (8): ReLU()\n",
       "  (9): MaxPool2d(kernel_size=2, stride=2, padding=0, dilation=1, ceil_mode=False)\n",
       "  (10): Flatten(start_dim=1, end_dim=-1)\n",
       "  (11): Linear(in_features=1024, out_features=128, bias=True)\n",
       "  (12): ReLU()\n",
       "  (13): Linear(in_features=128, out_features=10, bias=True)\n",
       "  (14): LogSoftmax(dim=-1)\n",
       ")"
      ]
     },
     "execution_count": 26,
     "metadata": {},
     "output_type": "execute_result"
    }
   ],
   "source": [
    "model.load_state_dict(initial_state)\n",
    "model.to(trainer.device)"
   ]
  },
  {
   "cell_type": "code",
   "execution_count": 27,
   "metadata": {},
   "outputs": [],
   "source": [
    "optimizer = AcceleratedSGD(model.parameters(), 1e-3, k=10, momentum=0.5, weight_decay=1e-5, mode=\"epoch_avg\")\n",
    "logger = Logger(\"SGD_momentum-avg.txt\")"
   ]
  },
  {
   "cell_type": "code",
   "execution_count": 28,
   "metadata": {
    "tags": []
   },
   "outputs": [
    {
     "name": "stdout",
     "output_type": "stream",
     "text": [
      "100%|██████████| 750/750 [00:08<00:00, 87.66it/s, loss=2.2952]\n",
      "Epoch 1 | Training loss: 2.2952, validation accuracy: 0.2307, validation loss: 2.2780\n",
      "100%|██████████| 750/750 [00:09<00:00, 82.39it/s, loss=1.9823]\n",
      "Epoch 2 | Training loss: 1.9823, validation accuracy: 0.7866, validation loss: 0.7825\n",
      "100%|██████████| 750/750 [00:08<00:00, 86.31it/s, loss=0.4920]\n",
      "Epoch 3 | Training loss: 0.4920, validation accuracy: 0.8964, validation loss: 0.3332\n",
      "100%|██████████| 750/750 [00:08<00:00, 86.00it/s, loss=0.3126]\n",
      "Epoch 4 | Training loss: 0.3126, validation accuracy: 0.9277, validation loss: 0.2452\n",
      "100%|██████████| 750/750 [00:08<00:00, 87.01it/s, loss=0.2295]\n",
      "Epoch 5 | Training loss: 0.2295, validation accuracy: 0.9436, validation loss: 0.1868\n",
      "100%|██████████| 750/750 [00:08<00:00, 87.53it/s, loss=0.1787]\n",
      "Epoch 6 | Training loss: 0.1787, validation accuracy: 0.9563, validation loss: 0.1501\n",
      "100%|██████████| 750/750 [00:08<00:00, 86.62it/s, loss=0.1470]\n",
      "Epoch 7 | Training loss: 0.1470, validation accuracy: 0.9613, validation loss: 0.1316\n",
      "100%|██████████| 750/750 [00:08<00:00, 87.31it/s, loss=0.1267]\n",
      "Epoch 8 | Training loss: 0.1267, validation accuracy: 0.9663, validation loss: 0.1118\n",
      "100%|██████████| 750/750 [00:08<00:00, 86.67it/s, loss=0.1122]\n",
      "Epoch 9 | Training loss: 0.1122, validation accuracy: 0.9673, validation loss: 0.1073\n",
      "100%|██████████| 750/750 [00:08<00:00, 85.99it/s, loss=0.1013]\n",
      "Epoch 10 | Training loss: 0.1013, validation accuracy: 0.9691, validation loss: 0.1034\n",
      "100%|██████████| 750/750 [00:08<00:00, 85.88it/s, loss=0.0925]\n",
      "Epoch 11 | Training loss: 0.0925, validation accuracy: 0.9723, validation loss: 0.0940\n",
      "100%|██████████| 750/750 [00:08<00:00, 83.61it/s, loss=0.0860]\n",
      "Epoch 12 | Training loss: 0.0860, validation accuracy: 0.9727, validation loss: 0.0883\n",
      "100%|██████████| 750/750 [00:08<00:00, 88.09it/s, loss=0.0793]\n",
      "Epoch 13 | Training loss: 0.0793, validation accuracy: 0.9751, validation loss: 0.0863\n",
      "100%|██████████| 750/750 [00:09<00:00, 82.88it/s, loss=0.0752]\n",
      "Epoch 14 | Training loss: 0.0752, validation accuracy: 0.9763, validation loss: 0.0782\n",
      "100%|██████████| 750/750 [00:09<00:00, 81.53it/s, loss=0.0703]\n",
      "Epoch 15 | Training loss: 0.0703, validation accuracy: 0.9723, validation loss: 0.0948\n",
      "100%|██████████| 750/750 [00:09<00:00, 80.12it/s, loss=0.0666]\n",
      "Epoch 16 | Training loss: 0.0666, validation accuracy: 0.9761, validation loss: 0.0766\n",
      "100%|██████████| 750/750 [00:09<00:00, 83.31it/s, loss=0.0630]\n",
      "Epoch 17 | Training loss: 0.0630, validation accuracy: 0.9781, validation loss: 0.0734\n",
      "100%|██████████| 750/750 [00:09<00:00, 82.02it/s, loss=0.0594]\n",
      "Epoch 18 | Training loss: 0.0594, validation accuracy: 0.9782, validation loss: 0.0758\n",
      "100%|██████████| 750/750 [00:09<00:00, 78.16it/s, loss=0.0569]\n",
      "Epoch 19 | Training loss: 0.0569, validation accuracy: 0.9793, validation loss: 0.0694\n",
      "100%|██████████| 750/750 [00:09<00:00, 80.91it/s, loss=0.0538]\n",
      "Epoch 20 | Training loss: 0.0538, validation accuracy: 0.9792, validation loss: 0.0700\n",
      "100%|██████████| 750/750 [00:09<00:00, 81.47it/s, loss=0.0515]\n",
      "Epoch 21 | Training loss: 0.0515, validation accuracy: 0.9766, validation loss: 0.0778\n",
      "100%|██████████| 750/750 [00:08<00:00, 83.94it/s, loss=0.0494]\n",
      "Epoch 22 | Training loss: 0.0494, validation accuracy: 0.9808, validation loss: 0.0675\n",
      "100%|██████████| 750/750 [00:09<00:00, 82.53it/s, loss=0.0473]\n",
      "Epoch 23 | Training loss: 0.0473, validation accuracy: 0.9797, validation loss: 0.0687\n",
      "100%|██████████| 750/750 [00:09<00:00, 82.79it/s, loss=0.0459]\n",
      "Epoch 24 | Training loss: 0.0459, validation accuracy: 0.9819, validation loss: 0.0611\n",
      "100%|██████████| 750/750 [00:09<00:00, 82.03it/s, loss=0.0438]\n",
      "Epoch 25 | Training loss: 0.0438, validation accuracy: 0.9818, validation loss: 0.0605\n",
      "100%|██████████| 750/750 [00:09<00:00, 83.07it/s, loss=0.0416]\n",
      "Epoch 26 | Training loss: 0.0416, validation accuracy: 0.9815, validation loss: 0.0613\n",
      "100%|██████████| 750/750 [00:09<00:00, 80.01it/s, loss=0.0402]\n",
      "Epoch 27 | Training loss: 0.0402, validation accuracy: 0.9822, validation loss: 0.0605\n",
      "100%|██████████| 750/750 [00:09<00:00, 79.63it/s, loss=0.0383]\n",
      "Epoch 28 | Training loss: 0.0383, validation accuracy: 0.9806, validation loss: 0.0633\n",
      "100%|██████████| 750/750 [00:09<00:00, 83.13it/s, loss=0.0364]\n",
      "Epoch 29 | Training loss: 0.0364, validation accuracy: 0.9812, validation loss: 0.0610\n",
      "100%|██████████| 750/750 [00:08<00:00, 83.60it/s, loss=0.0361]\n",
      "Epoch 30 | Training loss: 0.0361, validation accuracy: 0.9822, validation loss: 0.0588\n"
     ]
    }
   ],
   "source": [
    "torch.manual_seed(2020)\n",
    "epochs = 30\n",
    "\n",
    "for epoch in range(epochs):\n",
    "    train_loss = trainer.train_epoch(model, optimizer, dl[\"train\"])\n",
    "    optimizer.finish_epoch()\n",
    "    val_acc, val_loss = trainer.validation(model, dl[\"valid\"])\n",
    "    logger.log(\"Epoch\", epoch+1, \"|\", \n",
    "          f\"Training loss: {train_loss:.4f}, validation accuracy: {val_acc:.4f}, validation loss: {val_loss:.4f}\")"
   ]
  },
  {
   "cell_type": "code",
   "execution_count": 29,
   "metadata": {},
   "outputs": [
    {
     "name": "stdout",
     "output_type": "stream",
     "text": [
      "Train: (0.9899791666666666, 0.03208676589505437)\n",
      "Valid: (0.9821666666666666, 0.05884942181020354)\n"
     ]
    }
   ],
   "source": [
    "train_score = trainer.validation(model, dl[\"train\"])\n",
    "valid_score = trainer.validation(model, dl[\"valid\"])\n",
    "logger.log(\"Train:\", train_score)\n",
    "logger.log(\"Valid:\", valid_score)"
   ]
  },
  {
   "cell_type": "code",
   "execution_count": 30,
   "metadata": {},
   "outputs": [],
   "source": [
    "optimizer.accelerate()"
   ]
  },
  {
   "cell_type": "code",
   "execution_count": 31,
   "metadata": {},
   "outputs": [],
   "source": [
    "optimizer.store_parameters()\n",
    "model.to(trainer.device)\n",
    "None"
   ]
  },
  {
   "cell_type": "code",
   "execution_count": 32,
   "metadata": {},
   "outputs": [
    {
     "name": "stdout",
     "output_type": "stream",
     "text": [
      "Train: (0.9862916666666667, 0.045984817957816025)\n",
      "Valid: (0.98, 0.06431335149084529)\n"
     ]
    }
   ],
   "source": [
    "train_score = trainer.validation(model, dl[\"train\"])\n",
    "valid_score = trainer.validation(model, dl[\"valid\"])\n",
    "logger.log(\"Train:\", train_score)\n",
    "logger.log(\"Valid:\", valid_score)"
   ]
  },
  {
   "cell_type": "markdown",
   "metadata": {},
   "source": [
    "## Epoch average, with span = 100"
   ]
  },
  {
   "cell_type": "code",
   "execution_count": 33,
   "metadata": {},
   "outputs": [
    {
     "data": {
      "text/plain": [
       "Sequential(\n",
       "  (0): Conv2d(1, 32, kernel_size=(3, 3), stride=(1, 1))\n",
       "  (1): ReLU()\n",
       "  (2): Conv2d(32, 32, kernel_size=(3, 3), stride=(1, 1))\n",
       "  (3): ReLU()\n",
       "  (4): MaxPool2d(kernel_size=2, stride=2, padding=0, dilation=1, ceil_mode=False)\n",
       "  (5): Conv2d(32, 64, kernel_size=(3, 3), stride=(1, 1))\n",
       "  (6): ReLU()\n",
       "  (7): Conv2d(64, 64, kernel_size=(3, 3), stride=(1, 1))\n",
       "  (8): ReLU()\n",
       "  (9): MaxPool2d(kernel_size=2, stride=2, padding=0, dilation=1, ceil_mode=False)\n",
       "  (10): Flatten(start_dim=1, end_dim=-1)\n",
       "  (11): Linear(in_features=1024, out_features=128, bias=True)\n",
       "  (12): ReLU()\n",
       "  (13): Linear(in_features=128, out_features=10, bias=True)\n",
       "  (14): LogSoftmax(dim=-1)\n",
       ")"
      ]
     },
     "execution_count": 33,
     "metadata": {},
     "output_type": "execute_result"
    }
   ],
   "source": [
    "model.load_state_dict(initial_state)\n",
    "model.to(trainer.device)"
   ]
  },
  {
   "cell_type": "code",
   "execution_count": 34,
   "metadata": {},
   "outputs": [],
   "source": [
    "optimizer = AcceleratedSGD(model.parameters(), 1e-3, k=10, momentum=0.5, weight_decay=1e-5, mode=\"epoch_avg\", avg_alpha=(2 / (100 + 1)))\n",
    "logger = Logger(\"SGD_momentum-avg_span_100.txt\")"
   ]
  },
  {
   "cell_type": "code",
   "execution_count": 35,
   "metadata": {
    "tags": []
   },
   "outputs": [
    {
     "name": "stdout",
     "output_type": "stream",
     "text": [
      "100%|██████████| 750/750 [00:09<00:00, 81.32it/s, loss=2.2952]\n",
      "Epoch 1 | Training loss: 2.2952, validation accuracy: 0.2306, validation loss: 2.2780\n",
      "100%|██████████| 750/750 [00:09<00:00, 81.92it/s, loss=1.9824]\n",
      "Epoch 2 | Training loss: 1.9824, validation accuracy: 0.7867, validation loss: 0.7825\n",
      "100%|██████████| 750/750 [00:09<00:00, 82.88it/s, loss=0.4920]\n",
      "Epoch 3 | Training loss: 0.4920, validation accuracy: 0.8968, validation loss: 0.3335\n",
      "100%|██████████| 750/750 [00:09<00:00, 80.12it/s, loss=0.3123]\n",
      "Epoch 4 | Training loss: 0.3123, validation accuracy: 0.9277, validation loss: 0.2455\n",
      "100%|██████████| 750/750 [00:09<00:00, 81.24it/s, loss=0.2292]\n",
      "Epoch 5 | Training loss: 0.2292, validation accuracy: 0.9433, validation loss: 0.1870\n",
      "100%|██████████| 750/750 [00:09<00:00, 78.31it/s, loss=0.1785]\n",
      "Epoch 6 | Training loss: 0.1785, validation accuracy: 0.9560, validation loss: 0.1500\n",
      "100%|██████████| 750/750 [00:08<00:00, 83.89it/s, loss=0.1468]\n",
      "Epoch 7 | Training loss: 0.1468, validation accuracy: 0.9610, validation loss: 0.1315\n",
      "100%|██████████| 750/750 [00:08<00:00, 86.61it/s, loss=0.1264]\n",
      "Epoch 8 | Training loss: 0.1264, validation accuracy: 0.9663, validation loss: 0.1115\n",
      "100%|██████████| 750/750 [00:08<00:00, 85.72it/s, loss=0.1120]\n",
      "Epoch 9 | Training loss: 0.1120, validation accuracy: 0.9677, validation loss: 0.1067\n",
      "100%|██████████| 750/750 [00:08<00:00, 86.34it/s, loss=0.1011]\n",
      "Epoch 10 | Training loss: 0.1011, validation accuracy: 0.9688, validation loss: 0.1037\n",
      "100%|██████████| 750/750 [00:08<00:00, 86.51it/s, loss=0.0924]\n",
      "Epoch 11 | Training loss: 0.0924, validation accuracy: 0.9718, validation loss: 0.0933\n",
      "100%|██████████| 750/750 [00:08<00:00, 87.86it/s, loss=0.0858]\n",
      "Epoch 12 | Training loss: 0.0858, validation accuracy: 0.9726, validation loss: 0.0884\n",
      "100%|██████████| 750/750 [00:08<00:00, 85.15it/s, loss=0.0792]\n",
      "Epoch 13 | Training loss: 0.0792, validation accuracy: 0.9750, validation loss: 0.0863\n",
      "100%|██████████| 750/750 [00:08<00:00, 86.58it/s, loss=0.0751]\n",
      "Epoch 14 | Training loss: 0.0751, validation accuracy: 0.9762, validation loss: 0.0782\n",
      "100%|██████████| 750/750 [00:08<00:00, 84.77it/s, loss=0.0701]\n",
      "Epoch 15 | Training loss: 0.0701, validation accuracy: 0.9720, validation loss: 0.0940\n",
      "100%|██████████| 750/750 [00:08<00:00, 87.07it/s, loss=0.0666]\n",
      "Epoch 16 | Training loss: 0.0666, validation accuracy: 0.9759, validation loss: 0.0761\n",
      "100%|██████████| 750/750 [00:08<00:00, 83.89it/s, loss=0.0630]\n",
      "Epoch 17 | Training loss: 0.0630, validation accuracy: 0.9780, validation loss: 0.0738\n",
      "100%|██████████| 750/750 [00:08<00:00, 88.63it/s, loss=0.0594]\n",
      "Epoch 18 | Training loss: 0.0594, validation accuracy: 0.9782, validation loss: 0.0752\n",
      "100%|██████████| 750/750 [00:08<00:00, 87.30it/s, loss=0.0568]\n",
      "Epoch 19 | Training loss: 0.0568, validation accuracy: 0.9796, validation loss: 0.0697\n",
      "100%|██████████| 750/750 [00:08<00:00, 87.43it/s, loss=0.0538]\n",
      "Epoch 20 | Training loss: 0.0538, validation accuracy: 0.9788, validation loss: 0.0699\n",
      "100%|██████████| 750/750 [00:08<00:00, 86.58it/s, loss=0.0514]\n",
      "Epoch 21 | Training loss: 0.0514, validation accuracy: 0.9759, validation loss: 0.0794\n",
      "100%|██████████| 750/750 [00:08<00:00, 86.61it/s, loss=0.0493]\n",
      "Epoch 22 | Training loss: 0.0493, validation accuracy: 0.9807, validation loss: 0.0673\n",
      "100%|██████████| 750/750 [00:08<00:00, 87.40it/s, loss=0.0472]\n",
      "Epoch 23 | Training loss: 0.0472, validation accuracy: 0.9798, validation loss: 0.0691\n",
      "100%|██████████| 750/750 [00:08<00:00, 87.95it/s, loss=0.0459]\n",
      "Epoch 24 | Training loss: 0.0459, validation accuracy: 0.9820, validation loss: 0.0617\n",
      "100%|██████████| 750/750 [00:08<00:00, 87.44it/s, loss=0.0437]\n",
      "Epoch 25 | Training loss: 0.0437, validation accuracy: 0.9818, validation loss: 0.0608\n",
      "100%|██████████| 750/750 [00:08<00:00, 86.97it/s, loss=0.0417]\n",
      "Epoch 26 | Training loss: 0.0417, validation accuracy: 0.9813, validation loss: 0.0619\n",
      "100%|██████████| 750/750 [00:08<00:00, 83.78it/s, loss=0.0402]\n",
      "Epoch 27 | Training loss: 0.0402, validation accuracy: 0.9821, validation loss: 0.0607\n",
      "100%|██████████| 750/750 [00:08<00:00, 87.52it/s, loss=0.0384]\n",
      "Epoch 28 | Training loss: 0.0384, validation accuracy: 0.9811, validation loss: 0.0635\n",
      "100%|██████████| 750/750 [00:08<00:00, 86.60it/s, loss=0.0366]\n",
      "Epoch 29 | Training loss: 0.0366, validation accuracy: 0.9820, validation loss: 0.0612\n",
      "100%|██████████| 750/750 [00:08<00:00, 87.74it/s, loss=0.0361]\n",
      "Epoch 30 | Training loss: 0.0361, validation accuracy: 0.9820, validation loss: 0.0593\n"
     ]
    }
   ],
   "source": [
    "torch.manual_seed(2020)\n",
    "epochs = 30\n",
    "\n",
    "for epoch in range(epochs):\n",
    "    train_loss = trainer.train_epoch(model, optimizer, dl[\"train\"])\n",
    "    optimizer.finish_epoch()\n",
    "    val_acc, val_loss = trainer.validation(model, dl[\"valid\"])\n",
    "    logger.log(\"Epoch\", epoch+1, \"|\", \n",
    "          f\"Training loss: {train_loss:.4f}, validation accuracy: {val_acc:.4f}, validation loss: {val_loss:.4f}\")"
   ]
  },
  {
   "cell_type": "code",
   "execution_count": 36,
   "metadata": {},
   "outputs": [
    {
     "name": "stdout",
     "output_type": "stream",
     "text": [
      "Train: (0.9899166666666667, 0.032112725746352225)\n",
      "Valid: (0.982, 0.05929478842578828)\n"
     ]
    }
   ],
   "source": [
    "train_score = trainer.validation(model, dl[\"train\"])\n",
    "valid_score = trainer.validation(model, dl[\"valid\"])\n",
    "logger.log(\"Train:\", train_score)\n",
    "logger.log(\"Valid:\", valid_score)"
   ]
  },
  {
   "cell_type": "code",
   "execution_count": 37,
   "metadata": {},
   "outputs": [],
   "source": [
    "optimizer.accelerate()"
   ]
  },
  {
   "cell_type": "code",
   "execution_count": 38,
   "metadata": {},
   "outputs": [],
   "source": [
    "optimizer.store_parameters()\n",
    "model.to(trainer.device)\n",
    "None"
   ]
  },
  {
   "cell_type": "code",
   "execution_count": 39,
   "metadata": {},
   "outputs": [
    {
     "name": "stdout",
     "output_type": "stream",
     "text": [
      "Train: (0.9913958333333334, 0.029459121460095047)\n",
      "Valid: (0.9835, 0.0570049082779636)\n"
     ]
    }
   ],
   "source": [
    "train_score = trainer.validation(model, dl[\"train\"])\n",
    "valid_score = trainer.validation(model, dl[\"valid\"])\n",
    "logger.log(\"Train:\", train_score)\n",
    "logger.log(\"Valid:\", valid_score)"
   ]
  },
  {
   "cell_type": "markdown",
   "metadata": {},
   "source": [
    "## Epoch average, with span = 50"
   ]
  },
  {
   "cell_type": "code",
   "execution_count": 40,
   "metadata": {},
   "outputs": [
    {
     "data": {
      "text/plain": [
       "Sequential(\n",
       "  (0): Conv2d(1, 32, kernel_size=(3, 3), stride=(1, 1))\n",
       "  (1): ReLU()\n",
       "  (2): Conv2d(32, 32, kernel_size=(3, 3), stride=(1, 1))\n",
       "  (3): ReLU()\n",
       "  (4): MaxPool2d(kernel_size=2, stride=2, padding=0, dilation=1, ceil_mode=False)\n",
       "  (5): Conv2d(32, 64, kernel_size=(3, 3), stride=(1, 1))\n",
       "  (6): ReLU()\n",
       "  (7): Conv2d(64, 64, kernel_size=(3, 3), stride=(1, 1))\n",
       "  (8): ReLU()\n",
       "  (9): MaxPool2d(kernel_size=2, stride=2, padding=0, dilation=1, ceil_mode=False)\n",
       "  (10): Flatten(start_dim=1, end_dim=-1)\n",
       "  (11): Linear(in_features=1024, out_features=128, bias=True)\n",
       "  (12): ReLU()\n",
       "  (13): Linear(in_features=128, out_features=10, bias=True)\n",
       "  (14): LogSoftmax(dim=-1)\n",
       ")"
      ]
     },
     "execution_count": 40,
     "metadata": {},
     "output_type": "execute_result"
    }
   ],
   "source": [
    "model.load_state_dict(initial_state)\n",
    "model.to(trainer.device)"
   ]
  },
  {
   "cell_type": "code",
   "execution_count": 41,
   "metadata": {},
   "outputs": [],
   "source": [
    "optimizer = AcceleratedSGD(model.parameters(), 1e-3, k=10, momentum=0.5, weight_decay=1e-5, mode=\"epoch_avg\", avg_alpha=(2 / (50 + 1)))\n",
    "logger = Logger(\"SGD_momentum-avg_span_50.txt\")"
   ]
  },
  {
   "cell_type": "code",
   "execution_count": 42,
   "metadata": {
    "tags": []
   },
   "outputs": [
    {
     "name": "stdout",
     "output_type": "stream",
     "text": [
      "100%|██████████| 750/750 [00:08<00:00, 87.47it/s, loss=2.2952]\n",
      "Epoch 1 | Training loss: 2.2952, validation accuracy: 0.2288, validation loss: 2.2781\n",
      "100%|██████████| 750/750 [00:08<00:00, 85.25it/s, loss=1.9861]\n",
      "Epoch 2 | Training loss: 1.9861, validation accuracy: 0.8002, validation loss: 0.7786\n",
      "100%|██████████| 750/750 [00:08<00:00, 88.09it/s, loss=0.4941]\n",
      "Epoch 3 | Training loss: 0.4941, validation accuracy: 0.8790, validation loss: 0.3798\n",
      "100%|██████████| 750/750 [00:08<00:00, 85.25it/s, loss=0.3130]\n",
      "Epoch 4 | Training loss: 0.3130, validation accuracy: 0.9291, validation loss: 0.2431\n",
      "100%|██████████| 750/750 [00:08<00:00, 85.55it/s, loss=0.2293]\n",
      "Epoch 5 | Training loss: 0.2293, validation accuracy: 0.9424, validation loss: 0.1954\n",
      "100%|██████████| 750/750 [00:08<00:00, 87.05it/s, loss=0.1794]\n",
      "Epoch 6 | Training loss: 0.1794, validation accuracy: 0.9561, validation loss: 0.1502\n",
      "100%|██████████| 750/750 [00:08<00:00, 86.15it/s, loss=0.1484]\n",
      "Epoch 7 | Training loss: 0.1484, validation accuracy: 0.9595, validation loss: 0.1350\n",
      "100%|██████████| 750/750 [00:08<00:00, 86.11it/s, loss=0.1260]\n",
      "Epoch 8 | Training loss: 0.1260, validation accuracy: 0.9649, validation loss: 0.1155\n",
      "100%|██████████| 750/750 [00:08<00:00, 87.44it/s, loss=0.1116]\n",
      "Epoch 9 | Training loss: 0.1116, validation accuracy: 0.9666, validation loss: 0.1108\n",
      "100%|██████████| 750/750 [00:08<00:00, 85.21it/s, loss=0.1007]\n",
      "Epoch 10 | Training loss: 0.1007, validation accuracy: 0.9722, validation loss: 0.0955\n",
      "100%|██████████| 750/750 [00:08<00:00, 87.80it/s, loss=0.0915]\n",
      "Epoch 11 | Training loss: 0.0915, validation accuracy: 0.9716, validation loss: 0.0947\n",
      "100%|██████████| 750/750 [00:08<00:00, 87.94it/s, loss=0.0848]\n",
      "Epoch 12 | Training loss: 0.0848, validation accuracy: 0.9720, validation loss: 0.0951\n",
      "100%|██████████| 750/750 [00:08<00:00, 86.74it/s, loss=0.0788]\n",
      "Epoch 13 | Training loss: 0.0788, validation accuracy: 0.9730, validation loss: 0.0873\n",
      "100%|██████████| 750/750 [00:08<00:00, 87.75it/s, loss=0.0748]\n",
      "Epoch 14 | Training loss: 0.0748, validation accuracy: 0.9761, validation loss: 0.0816\n",
      "100%|██████████| 750/750 [00:08<00:00, 85.89it/s, loss=0.0698]\n",
      "Epoch 15 | Training loss: 0.0698, validation accuracy: 0.9774, validation loss: 0.0797\n",
      "100%|██████████| 750/750 [00:08<00:00, 84.47it/s, loss=0.0661]\n",
      "Epoch 16 | Training loss: 0.0661, validation accuracy: 0.9762, validation loss: 0.0768\n",
      "100%|██████████| 750/750 [00:08<00:00, 86.98it/s, loss=0.0622]\n",
      "Epoch 17 | Training loss: 0.0622, validation accuracy: 0.9772, validation loss: 0.0736\n",
      "100%|██████████| 750/750 [00:08<00:00, 87.35it/s, loss=0.0593]\n",
      "Epoch 18 | Training loss: 0.0593, validation accuracy: 0.9768, validation loss: 0.0783\n",
      "100%|██████████| 750/750 [00:08<00:00, 83.62it/s, loss=0.0563]\n",
      "Epoch 19 | Training loss: 0.0563, validation accuracy: 0.9776, validation loss: 0.0722\n",
      "100%|██████████| 750/750 [00:08<00:00, 86.57it/s, loss=0.0539]\n",
      "Epoch 20 | Training loss: 0.0539, validation accuracy: 0.9801, validation loss: 0.0685\n",
      "100%|██████████| 750/750 [00:08<00:00, 86.63it/s, loss=0.0512]\n",
      "Epoch 21 | Training loss: 0.0512, validation accuracy: 0.9804, validation loss: 0.0661\n",
      "100%|██████████| 750/750 [00:08<00:00, 87.32it/s, loss=0.0486]\n",
      "Epoch 22 | Training loss: 0.0486, validation accuracy: 0.9801, validation loss: 0.0719\n",
      "100%|██████████| 750/750 [00:08<00:00, 84.70it/s, loss=0.0473]\n",
      "Epoch 23 | Training loss: 0.0473, validation accuracy: 0.9805, validation loss: 0.0648\n",
      "100%|██████████| 750/750 [00:08<00:00, 86.87it/s, loss=0.0453]\n",
      "Epoch 24 | Training loss: 0.0453, validation accuracy: 0.9786, validation loss: 0.0702\n",
      "100%|██████████| 750/750 [00:08<00:00, 85.82it/s, loss=0.0437]\n",
      "Epoch 25 | Training loss: 0.0437, validation accuracy: 0.9812, validation loss: 0.0620\n",
      "100%|██████████| 750/750 [00:08<00:00, 86.21it/s, loss=0.0417]\n",
      "Epoch 26 | Training loss: 0.0417, validation accuracy: 0.9806, validation loss: 0.0681\n",
      "100%|██████████| 750/750 [00:08<00:00, 87.15it/s, loss=0.0402]\n",
      "Epoch 27 | Training loss: 0.0402, validation accuracy: 0.9809, validation loss: 0.0678\n",
      "100%|██████████| 750/750 [00:08<00:00, 85.35it/s, loss=0.0375]\n",
      "Epoch 28 | Training loss: 0.0375, validation accuracy: 0.9825, validation loss: 0.0630\n",
      "100%|██████████| 750/750 [00:08<00:00, 84.89it/s, loss=0.0367]\n",
      "Epoch 29 | Training loss: 0.0367, validation accuracy: 0.9831, validation loss: 0.0612\n",
      "100%|██████████| 750/750 [00:08<00:00, 84.62it/s, loss=0.0360]\n",
      "Epoch 30 | Training loss: 0.0360, validation accuracy: 0.9818, validation loss: 0.0621\n"
     ]
    }
   ],
   "source": [
    "epochs = 30\n",
    "\n",
    "for epoch in range(epochs):\n",
    "    train_loss = trainer.train_epoch(model, optimizer, dl[\"train\"])\n",
    "    optimizer.finish_epoch()\n",
    "    val_acc, val_loss = trainer.validation(model, dl[\"valid\"])\n",
    "    logger.log(\"Epoch\", epoch+1, \"|\", \n",
    "          f\"Training loss: {train_loss:.4f}, validation accuracy: {val_acc:.4f}, validation loss: {val_loss:.4f}\")"
   ]
  },
  {
   "cell_type": "code",
   "execution_count": 43,
   "metadata": {},
   "outputs": [
    {
     "name": "stdout",
     "output_type": "stream",
     "text": [
      "Train: (0.99025, 0.03290733187684479)\n",
      "Valid: (0.98175, 0.06210598905943334)\n"
     ]
    }
   ],
   "source": [
    "train_score = trainer.validation(model, dl[\"train\"])\n",
    "valid_score = trainer.validation(model, dl[\"valid\"])\n",
    "logger.log(\"Train:\", train_score)\n",
    "logger.log(\"Valid:\", valid_score)"
   ]
  },
  {
   "cell_type": "code",
   "execution_count": 44,
   "metadata": {},
   "outputs": [],
   "source": [
    "optimizer.accelerate()"
   ]
  },
  {
   "cell_type": "code",
   "execution_count": 45,
   "metadata": {},
   "outputs": [],
   "source": [
    "optimizer.store_parameters()\n",
    "model.to(trainer.device)\n",
    "None"
   ]
  },
  {
   "cell_type": "code",
   "execution_count": 46,
   "metadata": {},
   "outputs": [
    {
     "name": "stdout",
     "output_type": "stream",
     "text": [
      "Train: (0.9915, 0.02952898053638637)\n",
      "Valid: (0.9834166666666667, 0.057382562783857186)\n"
     ]
    }
   ],
   "source": [
    "train_score = trainer.validation(model, dl[\"train\"])\n",
    "valid_score = trainer.validation(model, dl[\"valid\"])\n",
    "logger.log(\"Train:\", train_score)\n",
    "logger.log(\"Valid:\", valid_score)"
   ]
  },
  {
   "cell_type": "markdown",
   "metadata": {},
   "source": [
    "## Epoch average, with span = 20"
   ]
  },
  {
   "cell_type": "code",
   "execution_count": 47,
   "metadata": {},
   "outputs": [
    {
     "data": {
      "text/plain": [
       "Sequential(\n",
       "  (0): Conv2d(1, 32, kernel_size=(3, 3), stride=(1, 1))\n",
       "  (1): ReLU()\n",
       "  (2): Conv2d(32, 32, kernel_size=(3, 3), stride=(1, 1))\n",
       "  (3): ReLU()\n",
       "  (4): MaxPool2d(kernel_size=2, stride=2, padding=0, dilation=1, ceil_mode=False)\n",
       "  (5): Conv2d(32, 64, kernel_size=(3, 3), stride=(1, 1))\n",
       "  (6): ReLU()\n",
       "  (7): Conv2d(64, 64, kernel_size=(3, 3), stride=(1, 1))\n",
       "  (8): ReLU()\n",
       "  (9): MaxPool2d(kernel_size=2, stride=2, padding=0, dilation=1, ceil_mode=False)\n",
       "  (10): Flatten(start_dim=1, end_dim=-1)\n",
       "  (11): Linear(in_features=1024, out_features=128, bias=True)\n",
       "  (12): ReLU()\n",
       "  (13): Linear(in_features=128, out_features=10, bias=True)\n",
       "  (14): LogSoftmax(dim=-1)\n",
       ")"
      ]
     },
     "execution_count": 47,
     "metadata": {},
     "output_type": "execute_result"
    }
   ],
   "source": [
    "model.load_state_dict(initial_state)\n",
    "model.to(trainer.device)"
   ]
  },
  {
   "cell_type": "code",
   "execution_count": 48,
   "metadata": {},
   "outputs": [],
   "source": [
    "optimizer = AcceleratedSGD(model.parameters(), 1e-3, k=10, momentum=0.5, weight_decay=1e-5, mode=\"epoch_avg\", avg_alpha=(2 / (20 + 1)))\n",
    "logger = Logger(\"SGD_momentum-avg_span_20.txt\")"
   ]
  },
  {
   "cell_type": "code",
   "execution_count": 49,
   "metadata": {
    "tags": []
   },
   "outputs": [
    {
     "name": "stdout",
     "output_type": "stream",
     "text": [
      "100%|██████████| 750/750 [00:08<00:00, 87.05it/s, loss=2.2952]\n",
      "Epoch 1 | Training loss: 2.2952, validation accuracy: 0.2306, validation loss: 2.2780\n",
      "100%|██████████| 750/750 [00:08<00:00, 87.24it/s, loss=1.9824]\n",
      "Epoch 2 | Training loss: 1.9824, validation accuracy: 0.7863, validation loss: 0.7827\n",
      "100%|██████████| 750/750 [00:08<00:00, 87.46it/s, loss=0.4921]\n",
      "Epoch 3 | Training loss: 0.4921, validation accuracy: 0.8969, validation loss: 0.3337\n",
      "100%|██████████| 750/750 [00:08<00:00, 85.77it/s, loss=0.3124]\n",
      "Epoch 4 | Training loss: 0.3124, validation accuracy: 0.9283, validation loss: 0.2452\n",
      "100%|██████████| 750/750 [00:08<00:00, 86.93it/s, loss=0.2294]\n",
      "Epoch 5 | Training loss: 0.2294, validation accuracy: 0.9432, validation loss: 0.1872\n",
      "100%|██████████| 750/750 [00:08<00:00, 85.93it/s, loss=0.1788]\n",
      "Epoch 6 | Training loss: 0.1788, validation accuracy: 0.9561, validation loss: 0.1502\n",
      "100%|██████████| 750/750 [00:08<00:00, 86.62it/s, loss=0.1471]\n",
      "Epoch 7 | Training loss: 0.1471, validation accuracy: 0.9608, validation loss: 0.1318\n",
      "100%|██████████| 750/750 [00:08<00:00, 87.61it/s, loss=0.1268]\n",
      "Epoch 8 | Training loss: 0.1268, validation accuracy: 0.9663, validation loss: 0.1119\n",
      "100%|██████████| 750/750 [00:08<00:00, 86.48it/s, loss=0.1121]\n",
      "Epoch 9 | Training loss: 0.1121, validation accuracy: 0.9677, validation loss: 0.1070\n",
      "100%|██████████| 750/750 [00:08<00:00, 83.45it/s, loss=0.1012]\n",
      "Epoch 10 | Training loss: 0.1012, validation accuracy: 0.9688, validation loss: 0.1035\n",
      "100%|██████████| 750/750 [00:08<00:00, 87.69it/s, loss=0.0925]\n",
      "Epoch 11 | Training loss: 0.0925, validation accuracy: 0.9717, validation loss: 0.0937\n",
      "100%|██████████| 750/750 [00:08<00:00, 86.93it/s, loss=0.0859]\n",
      "Epoch 12 | Training loss: 0.0859, validation accuracy: 0.9719, validation loss: 0.0883\n",
      "100%|██████████| 750/750 [00:08<00:00, 85.29it/s, loss=0.0793]\n",
      "Epoch 13 | Training loss: 0.0793, validation accuracy: 0.9750, validation loss: 0.0863\n",
      "100%|██████████| 750/750 [00:08<00:00, 83.79it/s, loss=0.0752]\n",
      "Epoch 14 | Training loss: 0.0752, validation accuracy: 0.9763, validation loss: 0.0779\n",
      "100%|██████████| 750/750 [00:08<00:00, 84.86it/s, loss=0.0702]\n",
      "Epoch 15 | Training loss: 0.0702, validation accuracy: 0.9719, validation loss: 0.0941\n",
      "100%|██████████| 750/750 [00:08<00:00, 87.44it/s, loss=0.0666]\n",
      "Epoch 16 | Training loss: 0.0666, validation accuracy: 0.9762, validation loss: 0.0761\n",
      "100%|██████████| 750/750 [00:08<00:00, 86.74it/s, loss=0.0629]\n",
      "Epoch 17 | Training loss: 0.0629, validation accuracy: 0.9777, validation loss: 0.0735\n",
      "100%|██████████| 750/750 [00:08<00:00, 86.45it/s, loss=0.0594]\n",
      "Epoch 18 | Training loss: 0.0594, validation accuracy: 0.9786, validation loss: 0.0753\n",
      "100%|██████████| 750/750 [00:08<00:00, 85.69it/s, loss=0.0567]\n",
      "Epoch 19 | Training loss: 0.0567, validation accuracy: 0.9794, validation loss: 0.0695\n",
      "100%|██████████| 750/750 [00:08<00:00, 85.23it/s, loss=0.0537]\n",
      "Epoch 20 | Training loss: 0.0537, validation accuracy: 0.9789, validation loss: 0.0702\n",
      "100%|██████████| 750/750 [00:08<00:00, 85.11it/s, loss=0.0514]\n",
      "Epoch 21 | Training loss: 0.0514, validation accuracy: 0.9760, validation loss: 0.0783\n",
      "100%|██████████| 750/750 [00:08<00:00, 84.40it/s, loss=0.0494]\n",
      "Epoch 22 | Training loss: 0.0494, validation accuracy: 0.9808, validation loss: 0.0674\n",
      "100%|██████████| 750/750 [00:08<00:00, 86.49it/s, loss=0.0471]\n",
      "Epoch 23 | Training loss: 0.0471, validation accuracy: 0.9795, validation loss: 0.0692\n",
      "100%|██████████| 750/750 [00:08<00:00, 83.50it/s, loss=0.0458]\n",
      "Epoch 24 | Training loss: 0.0458, validation accuracy: 0.9821, validation loss: 0.0616\n",
      "100%|██████████| 750/750 [00:08<00:00, 87.04it/s, loss=0.0436]\n",
      "Epoch 25 | Training loss: 0.0436, validation accuracy: 0.9818, validation loss: 0.0604\n",
      "100%|██████████| 750/750 [00:08<00:00, 85.24it/s, loss=0.0415]\n",
      "Epoch 26 | Training loss: 0.0415, validation accuracy: 0.9817, validation loss: 0.0613\n",
      "100%|██████████| 750/750 [00:08<00:00, 85.61it/s, loss=0.0401]\n",
      "Epoch 27 | Training loss: 0.0401, validation accuracy: 0.9820, validation loss: 0.0605\n",
      "100%|██████████| 750/750 [00:08<00:00, 87.08it/s, loss=0.0381]\n",
      "Epoch 28 | Training loss: 0.0381, validation accuracy: 0.9807, validation loss: 0.0640\n",
      "100%|██████████| 750/750 [00:08<00:00, 86.27it/s, loss=0.0364]\n",
      "Epoch 29 | Training loss: 0.0364, validation accuracy: 0.9821, validation loss: 0.0609\n",
      "100%|██████████| 750/750 [00:08<00:00, 85.56it/s, loss=0.0360]\n",
      "Epoch 30 | Training loss: 0.0360, validation accuracy: 0.9821, validation loss: 0.0593\n"
     ]
    }
   ],
   "source": [
    "torch.manual_seed(2020)\n",
    "epochs = 30\n",
    "\n",
    "for epoch in range(epochs):\n",
    "    train_loss = trainer.train_epoch(model, optimizer, dl[\"train\"])\n",
    "    optimizer.finish_epoch()\n",
    "    val_acc, val_loss = trainer.validation(model, dl[\"valid\"])\n",
    "    logger.log(\"Epoch\", epoch+1, \"|\", \n",
    "          f\"Training loss: {train_loss:.4f}, validation accuracy: {val_acc:.4f}, validation loss: {val_loss:.4f}\")"
   ]
  },
  {
   "cell_type": "code",
   "execution_count": 50,
   "metadata": {},
   "outputs": [
    {
     "name": "stdout",
     "output_type": "stream",
     "text": [
      "Train: (0.9897916666666666, 0.03247240138938651)\n",
      "Valid: (0.9820833333333333, 0.059331939990166574)\n"
     ]
    }
   ],
   "source": [
    "train_score = trainer.validation(model, dl[\"train\"])\n",
    "valid_score = trainer.validation(model, dl[\"valid\"])\n",
    "logger.log(\"Train:\", train_score)\n",
    "logger.log(\"Valid:\", valid_score)"
   ]
  },
  {
   "cell_type": "code",
   "execution_count": 51,
   "metadata": {},
   "outputs": [],
   "source": [
    "optimizer.accelerate()"
   ]
  },
  {
   "cell_type": "code",
   "execution_count": 52,
   "metadata": {},
   "outputs": [],
   "source": [
    "optimizer.store_parameters()\n",
    "model.to(trainer.device)\n",
    "None"
   ]
  },
  {
   "cell_type": "code",
   "execution_count": 53,
   "metadata": {},
   "outputs": [
    {
     "name": "stdout",
     "output_type": "stream",
     "text": [
      "Train: (0.9913333333333333, 0.02995359788167601)\n",
      "Valid: (0.9833333333333333, 0.05707832488107185)\n"
     ]
    }
   ],
   "source": [
    "train_score = trainer.validation(model, dl[\"train\"])\n",
    "valid_score = trainer.validation(model, dl[\"valid\"])\n",
    "logger.log(\"Train:\", train_score)\n",
    "logger.log(\"Valid:\", valid_score)"
   ]
  },
  {
   "cell_type": "markdown",
   "metadata": {},
   "source": [
    "## Epoch average, with span = 15"
   ]
  },
  {
   "cell_type": "code",
   "execution_count": 54,
   "metadata": {},
   "outputs": [
    {
     "data": {
      "text/plain": [
       "Sequential(\n",
       "  (0): Conv2d(1, 32, kernel_size=(3, 3), stride=(1, 1))\n",
       "  (1): ReLU()\n",
       "  (2): Conv2d(32, 32, kernel_size=(3, 3), stride=(1, 1))\n",
       "  (3): ReLU()\n",
       "  (4): MaxPool2d(kernel_size=2, stride=2, padding=0, dilation=1, ceil_mode=False)\n",
       "  (5): Conv2d(32, 64, kernel_size=(3, 3), stride=(1, 1))\n",
       "  (6): ReLU()\n",
       "  (7): Conv2d(64, 64, kernel_size=(3, 3), stride=(1, 1))\n",
       "  (8): ReLU()\n",
       "  (9): MaxPool2d(kernel_size=2, stride=2, padding=0, dilation=1, ceil_mode=False)\n",
       "  (10): Flatten(start_dim=1, end_dim=-1)\n",
       "  (11): Linear(in_features=1024, out_features=128, bias=True)\n",
       "  (12): ReLU()\n",
       "  (13): Linear(in_features=128, out_features=10, bias=True)\n",
       "  (14): LogSoftmax(dim=-1)\n",
       ")"
      ]
     },
     "execution_count": 54,
     "metadata": {},
     "output_type": "execute_result"
    }
   ],
   "source": [
    "model.load_state_dict(initial_state)\n",
    "model.to(trainer.device)"
   ]
  },
  {
   "cell_type": "code",
   "execution_count": 55,
   "metadata": {},
   "outputs": [],
   "source": [
    "optimizer = AcceleratedSGD(model.parameters(), 1e-3, k=10, momentum=0.5, weight_decay=1e-5, mode=\"epoch_avg\", avg_alpha=(2 / (15 + 1)))\n",
    "logger = Logger(\"SGD_momentum-avg_span_15.txt\")"
   ]
  },
  {
   "cell_type": "code",
   "execution_count": 56,
   "metadata": {
    "tags": []
   },
   "outputs": [
    {
     "name": "stdout",
     "output_type": "stream",
     "text": [
      "100%|██████████| 750/750 [00:08<00:00, 87.80it/s, loss=2.2952]\n",
      "Epoch 1 | Training loss: 2.2952, validation accuracy: 0.2305, validation loss: 2.2780\n",
      "100%|██████████| 750/750 [00:08<00:00, 86.13it/s, loss=1.9824]\n",
      "Epoch 2 | Training loss: 1.9824, validation accuracy: 0.7864, validation loss: 0.7826\n",
      "100%|██████████| 750/750 [00:08<00:00, 87.12it/s, loss=0.4921]\n",
      "Epoch 3 | Training loss: 0.4921, validation accuracy: 0.8968, validation loss: 0.3334\n",
      "100%|██████████| 750/750 [00:08<00:00, 87.77it/s, loss=0.3125]\n",
      "Epoch 4 | Training loss: 0.3125, validation accuracy: 0.9280, validation loss: 0.2456\n",
      "100%|██████████| 750/750 [00:09<00:00, 81.83it/s, loss=0.2295]\n",
      "Epoch 5 | Training loss: 0.2295, validation accuracy: 0.9433, validation loss: 0.1871\n",
      "100%|██████████| 750/750 [00:08<00:00, 84.72it/s, loss=0.1788]\n",
      "Epoch 6 | Training loss: 0.1788, validation accuracy: 0.9563, validation loss: 0.1501\n",
      "100%|██████████| 750/750 [00:08<00:00, 85.91it/s, loss=0.1471]\n",
      "Epoch 7 | Training loss: 0.1471, validation accuracy: 0.9608, validation loss: 0.1317\n",
      "100%|██████████| 750/750 [00:08<00:00, 86.77it/s, loss=0.1267]\n",
      "Epoch 8 | Training loss: 0.1267, validation accuracy: 0.9669, validation loss: 0.1116\n",
      "100%|██████████| 750/750 [00:08<00:00, 83.40it/s, loss=0.1122]\n",
      "Epoch 9 | Training loss: 0.1122, validation accuracy: 0.9677, validation loss: 0.1068\n",
      "100%|██████████| 750/750 [00:08<00:00, 84.74it/s, loss=0.1011]\n",
      "Epoch 10 | Training loss: 0.1011, validation accuracy: 0.9693, validation loss: 0.1028\n",
      "100%|██████████| 750/750 [00:08<00:00, 86.79it/s, loss=0.0925]\n",
      "Epoch 11 | Training loss: 0.0925, validation accuracy: 0.9718, validation loss: 0.0938\n",
      "100%|██████████| 750/750 [00:08<00:00, 85.31it/s, loss=0.0859]\n",
      "Epoch 12 | Training loss: 0.0859, validation accuracy: 0.9726, validation loss: 0.0882\n",
      "100%|██████████| 750/750 [00:08<00:00, 85.42it/s, loss=0.0791]\n",
      "Epoch 13 | Training loss: 0.0791, validation accuracy: 0.9753, validation loss: 0.0862\n",
      "100%|██████████| 750/750 [00:08<00:00, 84.71it/s, loss=0.0751]\n",
      "Epoch 14 | Training loss: 0.0751, validation accuracy: 0.9763, validation loss: 0.0777\n",
      "100%|██████████| 750/750 [00:08<00:00, 87.12it/s, loss=0.0701]\n",
      "Epoch 15 | Training loss: 0.0701, validation accuracy: 0.9722, validation loss: 0.0935\n",
      "100%|██████████| 750/750 [00:08<00:00, 85.95it/s, loss=0.0666]\n",
      "Epoch 16 | Training loss: 0.0666, validation accuracy: 0.9762, validation loss: 0.0757\n",
      "100%|██████████| 750/750 [00:08<00:00, 84.41it/s, loss=0.0628]\n",
      "Epoch 17 | Training loss: 0.0628, validation accuracy: 0.9778, validation loss: 0.0735\n",
      "100%|██████████| 750/750 [00:08<00:00, 84.52it/s, loss=0.0592]\n",
      "Epoch 18 | Training loss: 0.0592, validation accuracy: 0.9787, validation loss: 0.0753\n",
      "100%|██████████| 750/750 [00:08<00:00, 84.05it/s, loss=0.0567]\n",
      "Epoch 19 | Training loss: 0.0567, validation accuracy: 0.9796, validation loss: 0.0694\n",
      "100%|██████████| 750/750 [00:08<00:00, 86.45it/s, loss=0.0537]\n",
      "Epoch 20 | Training loss: 0.0537, validation accuracy: 0.9788, validation loss: 0.0701\n",
      "100%|██████████| 750/750 [00:09<00:00, 82.58it/s, loss=0.0513]\n",
      "Epoch 21 | Training loss: 0.0513, validation accuracy: 0.9759, validation loss: 0.0783\n",
      "100%|██████████| 750/750 [00:09<00:00, 83.29it/s, loss=0.0493]\n",
      "Epoch 22 | Training loss: 0.0493, validation accuracy: 0.9809, validation loss: 0.0675\n",
      "100%|██████████| 750/750 [00:08<00:00, 85.46it/s, loss=0.0471]\n",
      "Epoch 23 | Training loss: 0.0471, validation accuracy: 0.9800, validation loss: 0.0689\n",
      "100%|██████████| 750/750 [00:09<00:00, 82.08it/s, loss=0.0458]\n",
      "Epoch 24 | Training loss: 0.0458, validation accuracy: 0.9818, validation loss: 0.0614\n",
      "100%|██████████| 750/750 [00:08<00:00, 85.97it/s, loss=0.0436]\n",
      "Epoch 25 | Training loss: 0.0436, validation accuracy: 0.9823, validation loss: 0.0606\n",
      "100%|██████████| 750/750 [00:08<00:00, 86.62it/s, loss=0.0416]\n",
      "Epoch 26 | Training loss: 0.0416, validation accuracy: 0.9813, validation loss: 0.0607\n",
      "100%|██████████| 750/750 [00:08<00:00, 85.59it/s, loss=0.0400]\n",
      "Epoch 27 | Training loss: 0.0400, validation accuracy: 0.9821, validation loss: 0.0608\n",
      "100%|██████████| 750/750 [00:08<00:00, 85.01it/s, loss=0.0381]\n",
      "Epoch 28 | Training loss: 0.0381, validation accuracy: 0.9812, validation loss: 0.0630\n",
      "100%|██████████| 750/750 [00:08<00:00, 84.01it/s, loss=0.0363]\n",
      "Epoch 29 | Training loss: 0.0363, validation accuracy: 0.9822, validation loss: 0.0610\n",
      "100%|██████████| 750/750 [00:08<00:00, 85.88it/s, loss=0.0359]\n",
      "Epoch 30 | Training loss: 0.0359, validation accuracy: 0.9821, validation loss: 0.0588\n"
     ]
    }
   ],
   "source": [
    "torch.manual_seed(2020)\n",
    "epochs = 30\n",
    "\n",
    "for epoch in range(epochs):\n",
    "    train_loss = trainer.train_epoch(model, optimizer, dl[\"train\"])\n",
    "    optimizer.finish_epoch()\n",
    "    val_acc, val_loss = trainer.validation(model, dl[\"valid\"])\n",
    "    logger.log(\"Epoch\", epoch+1, \"|\", \n",
    "          f\"Training loss: {train_loss:.4f}, validation accuracy: {val_acc:.4f}, validation loss: {val_loss:.4f}\")"
   ]
  },
  {
   "cell_type": "code",
   "execution_count": 57,
   "metadata": {},
   "outputs": [
    {
     "name": "stdout",
     "output_type": "stream",
     "text": [
      "Train: (0.989875, 0.0321807465457047)\n",
      "Valid: (0.9820833333333333, 0.05877002091783409)\n"
     ]
    }
   ],
   "source": [
    "train_score = trainer.validation(model, dl[\"train\"])\n",
    "valid_score = trainer.validation(model, dl[\"valid\"])\n",
    "logger.log(\"Train:\", train_score)\n",
    "logger.log(\"Valid:\", valid_score)"
   ]
  },
  {
   "cell_type": "code",
   "execution_count": 58,
   "metadata": {},
   "outputs": [],
   "source": [
    "optimizer.accelerate()"
   ]
  },
  {
   "cell_type": "code",
   "execution_count": 59,
   "metadata": {},
   "outputs": [],
   "source": [
    "optimizer.store_parameters()\n",
    "model.to(trainer.device)\n",
    "None"
   ]
  },
  {
   "cell_type": "code",
   "execution_count": 60,
   "metadata": {},
   "outputs": [
    {
     "name": "stdout",
     "output_type": "stream",
     "text": [
      "Train: (0.9912708333333333, 0.029978158516266073)\n",
      "Valid: (0.9829166666666667, 0.05700672493486976)\n"
     ]
    }
   ],
   "source": [
    "train_score = trainer.validation(model, dl[\"train\"])\n",
    "valid_score = trainer.validation(model, dl[\"valid\"])\n",
    "logger.log(\"Train:\", train_score)\n",
    "logger.log(\"Valid:\", valid_score)"
   ]
  },
  {
   "cell_type": "markdown",
   "metadata": {},
   "source": [
    "## Epoch average, with span = 10"
   ]
  },
  {
   "cell_type": "code",
   "execution_count": 61,
   "metadata": {},
   "outputs": [
    {
     "data": {
      "text/plain": [
       "Sequential(\n",
       "  (0): Conv2d(1, 32, kernel_size=(3, 3), stride=(1, 1))\n",
       "  (1): ReLU()\n",
       "  (2): Conv2d(32, 32, kernel_size=(3, 3), stride=(1, 1))\n",
       "  (3): ReLU()\n",
       "  (4): MaxPool2d(kernel_size=2, stride=2, padding=0, dilation=1, ceil_mode=False)\n",
       "  (5): Conv2d(32, 64, kernel_size=(3, 3), stride=(1, 1))\n",
       "  (6): ReLU()\n",
       "  (7): Conv2d(64, 64, kernel_size=(3, 3), stride=(1, 1))\n",
       "  (8): ReLU()\n",
       "  (9): MaxPool2d(kernel_size=2, stride=2, padding=0, dilation=1, ceil_mode=False)\n",
       "  (10): Flatten(start_dim=1, end_dim=-1)\n",
       "  (11): Linear(in_features=1024, out_features=128, bias=True)\n",
       "  (12): ReLU()\n",
       "  (13): Linear(in_features=128, out_features=10, bias=True)\n",
       "  (14): LogSoftmax(dim=-1)\n",
       ")"
      ]
     },
     "execution_count": 61,
     "metadata": {},
     "output_type": "execute_result"
    }
   ],
   "source": [
    "model.load_state_dict(initial_state)\n",
    "model.to(trainer.device)"
   ]
  },
  {
   "cell_type": "code",
   "execution_count": 62,
   "metadata": {},
   "outputs": [],
   "source": [
    "optimizer = AcceleratedSGD(model.parameters(), 1e-3, k=10, momentum=0.5, weight_decay=1e-5, mode=\"epoch_avg\", avg_alpha=(2 / (10 + 1)))\n",
    "logger = Logger(\"SGD_momentum-avg_span_10.txt\")"
   ]
  },
  {
   "cell_type": "code",
   "execution_count": 63,
   "metadata": {
    "tags": []
   },
   "outputs": [
    {
     "name": "stdout",
     "output_type": "stream",
     "text": [
      "100%|██████████| 750/750 [00:08<00:00, 85.54it/s, loss=2.2952]\n",
      "Epoch 1 | Training loss: 2.2952, validation accuracy: 0.2307, validation loss: 2.2780\n",
      "100%|██████████| 750/750 [00:08<00:00, 85.12it/s, loss=1.9824]\n",
      "Epoch 2 | Training loss: 1.9824, validation accuracy: 0.7866, validation loss: 0.7827\n",
      "100%|██████████| 750/750 [00:08<00:00, 84.26it/s, loss=0.4920]\n",
      "Epoch 3 | Training loss: 0.4920, validation accuracy: 0.8965, validation loss: 0.3331\n",
      "100%|██████████| 750/750 [00:08<00:00, 86.05it/s, loss=0.3124]\n",
      "Epoch 4 | Training loss: 0.3124, validation accuracy: 0.9277, validation loss: 0.2453\n",
      "100%|██████████| 750/750 [00:08<00:00, 84.08it/s, loss=0.2295]\n",
      "Epoch 5 | Training loss: 0.2295, validation accuracy: 0.9432, validation loss: 0.1869\n",
      "100%|██████████| 750/750 [00:08<00:00, 86.83it/s, loss=0.1788]\n",
      "Epoch 6 | Training loss: 0.1788, validation accuracy: 0.9561, validation loss: 0.1500\n",
      "100%|██████████| 750/750 [00:09<00:00, 82.36it/s, loss=0.1471]\n",
      "Epoch 7 | Training loss: 0.1471, validation accuracy: 0.9615, validation loss: 0.1314\n",
      "100%|██████████| 750/750 [00:08<00:00, 86.58it/s, loss=0.1268]\n",
      "Epoch 8 | Training loss: 0.1268, validation accuracy: 0.9664, validation loss: 0.1119\n",
      "100%|██████████| 750/750 [00:08<00:00, 85.29it/s, loss=0.1122]\n",
      "Epoch 9 | Training loss: 0.1122, validation accuracy: 0.9672, validation loss: 0.1071\n",
      "100%|██████████| 750/750 [00:08<00:00, 83.64it/s, loss=0.1012]\n",
      "Epoch 10 | Training loss: 0.1012, validation accuracy: 0.9686, validation loss: 0.1032\n",
      "100%|██████████| 750/750 [00:08<00:00, 85.14it/s, loss=0.0926]\n",
      "Epoch 11 | Training loss: 0.0926, validation accuracy: 0.9717, validation loss: 0.0940\n",
      "100%|██████████| 750/750 [00:08<00:00, 84.08it/s, loss=0.0860]\n",
      "Epoch 12 | Training loss: 0.0860, validation accuracy: 0.9722, validation loss: 0.0890\n",
      "100%|██████████| 750/750 [00:08<00:00, 84.23it/s, loss=0.0794]\n",
      "Epoch 13 | Training loss: 0.0794, validation accuracy: 0.9745, validation loss: 0.0862\n",
      "100%|██████████| 750/750 [00:08<00:00, 85.08it/s, loss=0.0752]\n",
      "Epoch 14 | Training loss: 0.0752, validation accuracy: 0.9762, validation loss: 0.0780\n",
      "100%|██████████| 750/750 [00:09<00:00, 81.68it/s, loss=0.0701]\n",
      "Epoch 15 | Training loss: 0.0701, validation accuracy: 0.9718, validation loss: 0.0948\n",
      "100%|██████████| 750/750 [00:09<00:00, 77.82it/s, loss=0.0666]\n",
      "Epoch 16 | Training loss: 0.0666, validation accuracy: 0.9762, validation loss: 0.0761\n",
      "100%|██████████| 750/750 [00:09<00:00, 82.33it/s, loss=0.0630]\n",
      "Epoch 17 | Training loss: 0.0630, validation accuracy: 0.9778, validation loss: 0.0735\n",
      "100%|██████████| 750/750 [00:08<00:00, 85.23it/s, loss=0.0593]\n",
      "Epoch 18 | Training loss: 0.0593, validation accuracy: 0.9774, validation loss: 0.0755\n",
      "100%|██████████| 750/750 [00:08<00:00, 86.15it/s, loss=0.0568]\n",
      "Epoch 19 | Training loss: 0.0568, validation accuracy: 0.9792, validation loss: 0.0695\n",
      "100%|██████████| 750/750 [00:08<00:00, 84.71it/s, loss=0.0538]\n",
      "Epoch 20 | Training loss: 0.0538, validation accuracy: 0.9790, validation loss: 0.0704\n",
      "100%|██████████| 750/750 [00:08<00:00, 86.93it/s, loss=0.0514]\n",
      "Epoch 21 | Training loss: 0.0514, validation accuracy: 0.9760, validation loss: 0.0784\n",
      "100%|██████████| 750/750 [00:08<00:00, 85.31it/s, loss=0.0494]\n",
      "Epoch 22 | Training loss: 0.0494, validation accuracy: 0.9807, validation loss: 0.0671\n",
      "100%|██████████| 750/750 [00:08<00:00, 86.65it/s, loss=0.0471]\n",
      "Epoch 23 | Training loss: 0.0471, validation accuracy: 0.9798, validation loss: 0.0686\n",
      "100%|██████████| 750/750 [00:08<00:00, 84.54it/s, loss=0.0458]\n",
      "Epoch 24 | Training loss: 0.0458, validation accuracy: 0.9819, validation loss: 0.0612\n",
      "100%|██████████| 750/750 [00:09<00:00, 82.63it/s, loss=0.0436]\n",
      "Epoch 25 | Training loss: 0.0436, validation accuracy: 0.9822, validation loss: 0.0605\n",
      "100%|██████████| 750/750 [00:08<00:00, 86.60it/s, loss=0.0417]\n",
      "Epoch 26 | Training loss: 0.0417, validation accuracy: 0.9812, validation loss: 0.0612\n",
      "100%|██████████| 750/750 [00:08<00:00, 84.46it/s, loss=0.0401]\n",
      "Epoch 27 | Training loss: 0.0401, validation accuracy: 0.9821, validation loss: 0.0609\n",
      "100%|██████████| 750/750 [00:08<00:00, 85.65it/s, loss=0.0383]\n",
      "Epoch 28 | Training loss: 0.0383, validation accuracy: 0.9808, validation loss: 0.0640\n",
      "100%|██████████| 750/750 [00:08<00:00, 86.50it/s, loss=0.0365]\n",
      "Epoch 29 | Training loss: 0.0365, validation accuracy: 0.9815, validation loss: 0.0608\n",
      "100%|██████████| 750/750 [00:09<00:00, 82.89it/s, loss=0.0360]\n",
      "Epoch 30 | Training loss: 0.0360, validation accuracy: 0.9821, validation loss: 0.0588\n"
     ]
    }
   ],
   "source": [
    "torch.manual_seed(2020)\n",
    "epochs = 30\n",
    "\n",
    "for epoch in range(epochs):\n",
    "    train_loss = trainer.train_epoch(model, optimizer, dl[\"train\"])\n",
    "    optimizer.finish_epoch()\n",
    "    val_acc, val_loss = trainer.validation(model, dl[\"valid\"])\n",
    "    logger.log(\"Epoch\", epoch+1, \"|\", \n",
    "          f\"Training loss: {train_loss:.4f}, validation accuracy: {val_acc:.4f}, validation loss: {val_loss:.4f}\")"
   ]
  },
  {
   "cell_type": "code",
   "execution_count": 64,
   "metadata": {},
   "outputs": [
    {
     "name": "stdout",
     "output_type": "stream",
     "text": [
      "Train: (0.9901041666666667, 0.032095543530924864)\n",
      "Valid: (0.9820833333333333, 0.05878527865000069)\n"
     ]
    }
   ],
   "source": [
    "train_score = trainer.validation(model, dl[\"train\"])\n",
    "valid_score = trainer.validation(model, dl[\"valid\"])\n",
    "logger.log(\"Train:\", train_score)\n",
    "logger.log(\"Valid:\", valid_score)"
   ]
  },
  {
   "cell_type": "code",
   "execution_count": 65,
   "metadata": {},
   "outputs": [],
   "source": [
    "optimizer.accelerate()"
   ]
  },
  {
   "cell_type": "code",
   "execution_count": 66,
   "metadata": {},
   "outputs": [],
   "source": [
    "optimizer.store_parameters()\n",
    "model.to(trainer.device)\n",
    "None"
   ]
  },
  {
   "cell_type": "code",
   "execution_count": 67,
   "metadata": {},
   "outputs": [
    {
     "name": "stdout",
     "output_type": "stream",
     "text": [
      "Train: (0.9912083333333334, 0.03028397676581517)\n",
      "Valid: (0.9831666666666666, 0.05725179621841137)\n"
     ]
    }
   ],
   "source": [
    "train_score = trainer.validation(model, dl[\"train\"])\n",
    "valid_score = trainer.validation(model, dl[\"valid\"])\n",
    "logger.log(\"Train:\", train_score)\n",
    "logger.log(\"Valid:\", valid_score)"
   ]
  },
  {
   "cell_type": "markdown",
   "metadata": {},
   "source": [
    "## Epoch average, with span = 5"
   ]
  },
  {
   "cell_type": "code",
   "execution_count": 68,
   "metadata": {},
   "outputs": [
    {
     "data": {
      "text/plain": [
       "Sequential(\n",
       "  (0): Conv2d(1, 32, kernel_size=(3, 3), stride=(1, 1))\n",
       "  (1): ReLU()\n",
       "  (2): Conv2d(32, 32, kernel_size=(3, 3), stride=(1, 1))\n",
       "  (3): ReLU()\n",
       "  (4): MaxPool2d(kernel_size=2, stride=2, padding=0, dilation=1, ceil_mode=False)\n",
       "  (5): Conv2d(32, 64, kernel_size=(3, 3), stride=(1, 1))\n",
       "  (6): ReLU()\n",
       "  (7): Conv2d(64, 64, kernel_size=(3, 3), stride=(1, 1))\n",
       "  (8): ReLU()\n",
       "  (9): MaxPool2d(kernel_size=2, stride=2, padding=0, dilation=1, ceil_mode=False)\n",
       "  (10): Flatten(start_dim=1, end_dim=-1)\n",
       "  (11): Linear(in_features=1024, out_features=128, bias=True)\n",
       "  (12): ReLU()\n",
       "  (13): Linear(in_features=128, out_features=10, bias=True)\n",
       "  (14): LogSoftmax(dim=-1)\n",
       ")"
      ]
     },
     "execution_count": 68,
     "metadata": {},
     "output_type": "execute_result"
    }
   ],
   "source": [
    "model.load_state_dict(initial_state)\n",
    "model.to(trainer.device)"
   ]
  },
  {
   "cell_type": "code",
   "execution_count": 69,
   "metadata": {},
   "outputs": [],
   "source": [
    "optimizer = AcceleratedSGD(model.parameters(), 1e-3, k=10, momentum=0.5, weight_decay=1e-5, mode=\"epoch_avg\", avg_alpha = (2 / (5 + 1)))\n",
    "logger = Logger(\"SGD_momentum-avg_span_5.txt\")"
   ]
  },
  {
   "cell_type": "code",
   "execution_count": 70,
   "metadata": {
    "tags": []
   },
   "outputs": [
    {
     "name": "stdout",
     "output_type": "stream",
     "text": [
      "100%|██████████| 750/750 [00:08<00:00, 84.64it/s, loss=2.2952]\n",
      "Epoch 1 | Training loss: 2.2952, validation accuracy: 0.2306, validation loss: 2.2780\n",
      "100%|██████████| 750/750 [00:08<00:00, 86.58it/s, loss=1.9825]\n",
      "Epoch 2 | Training loss: 1.9825, validation accuracy: 0.7864, validation loss: 0.7827\n",
      "100%|██████████| 750/750 [00:08<00:00, 85.10it/s, loss=0.4920]\n",
      "Epoch 3 | Training loss: 0.4920, validation accuracy: 0.8968, validation loss: 0.3333\n",
      "100%|██████████| 750/750 [00:08<00:00, 85.67it/s, loss=0.3125]\n",
      "Epoch 4 | Training loss: 0.3125, validation accuracy: 0.9278, validation loss: 0.2455\n",
      "100%|██████████| 750/750 [00:08<00:00, 84.59it/s, loss=0.2295]\n",
      "Epoch 5 | Training loss: 0.2295, validation accuracy: 0.9434, validation loss: 0.1871\n",
      "100%|██████████| 750/750 [00:08<00:00, 85.70it/s, loss=0.1790]\n",
      "Epoch 6 | Training loss: 0.1790, validation accuracy: 0.9562, validation loss: 0.1503\n",
      "100%|██████████| 750/750 [00:08<00:00, 86.71it/s, loss=0.1473]\n",
      "Epoch 7 | Training loss: 0.1473, validation accuracy: 0.9615, validation loss: 0.1313\n",
      "100%|██████████| 750/750 [00:09<00:00, 82.55it/s, loss=0.1268]\n",
      "Epoch 8 | Training loss: 0.1268, validation accuracy: 0.9663, validation loss: 0.1118\n",
      "100%|██████████| 750/750 [00:08<00:00, 84.64it/s, loss=0.1123]\n",
      "Epoch 9 | Training loss: 0.1123, validation accuracy: 0.9676, validation loss: 0.1067\n",
      "100%|██████████| 750/750 [00:09<00:00, 83.15it/s, loss=0.1013]\n",
      "Epoch 10 | Training loss: 0.1013, validation accuracy: 0.9684, validation loss: 0.1037\n",
      "100%|██████████| 750/750 [00:09<00:00, 82.61it/s, loss=0.0925]\n",
      "Epoch 11 | Training loss: 0.0925, validation accuracy: 0.9720, validation loss: 0.0937\n",
      "100%|██████████| 750/750 [00:08<00:00, 83.87it/s, loss=0.0860]\n",
      "Epoch 12 | Training loss: 0.0860, validation accuracy: 0.9723, validation loss: 0.0883\n",
      "100%|██████████| 750/750 [00:08<00:00, 83.39it/s, loss=0.0793]\n",
      "Epoch 13 | Training loss: 0.0793, validation accuracy: 0.9752, validation loss: 0.0862\n",
      "100%|██████████| 750/750 [00:08<00:00, 87.05it/s, loss=0.0752]\n",
      "Epoch 14 | Training loss: 0.0752, validation accuracy: 0.9763, validation loss: 0.0776\n",
      "100%|██████████| 750/750 [00:08<00:00, 84.35it/s, loss=0.0702]\n",
      "Epoch 15 | Training loss: 0.0702, validation accuracy: 0.9718, validation loss: 0.0934\n",
      "100%|██████████| 750/750 [00:08<00:00, 85.52it/s, loss=0.0666]\n",
      "Epoch 16 | Training loss: 0.0666, validation accuracy: 0.9760, validation loss: 0.0759\n",
      "100%|██████████| 750/750 [00:08<00:00, 85.65it/s, loss=0.0630]\n",
      "Epoch 17 | Training loss: 0.0630, validation accuracy: 0.9778, validation loss: 0.0730\n",
      "100%|██████████| 750/750 [00:08<00:00, 84.34it/s, loss=0.0593]\n",
      "Epoch 18 | Training loss: 0.0593, validation accuracy: 0.9786, validation loss: 0.0754\n",
      "100%|██████████| 750/750 [00:08<00:00, 85.39it/s, loss=0.0568]\n",
      "Epoch 19 | Training loss: 0.0568, validation accuracy: 0.9793, validation loss: 0.0695\n",
      "100%|██████████| 750/750 [00:08<00:00, 85.32it/s, loss=0.0537]\n",
      "Epoch 20 | Training loss: 0.0537, validation accuracy: 0.9788, validation loss: 0.0698\n",
      "100%|██████████| 750/750 [00:08<00:00, 84.47it/s, loss=0.0514]\n",
      "Epoch 21 | Training loss: 0.0514, validation accuracy: 0.9765, validation loss: 0.0776\n",
      "100%|██████████| 750/750 [00:08<00:00, 87.30it/s, loss=0.0494]\n",
      "Epoch 22 | Training loss: 0.0494, validation accuracy: 0.9802, validation loss: 0.0679\n",
      "100%|██████████| 750/750 [00:08<00:00, 84.28it/s, loss=0.0472]\n",
      "Epoch 23 | Training loss: 0.0472, validation accuracy: 0.9801, validation loss: 0.0691\n",
      "100%|██████████| 750/750 [00:08<00:00, 84.74it/s, loss=0.0459]\n",
      "Epoch 24 | Training loss: 0.0459, validation accuracy: 0.9821, validation loss: 0.0612\n",
      "100%|██████████| 750/750 [00:08<00:00, 85.38it/s, loss=0.0437]\n",
      "Epoch 25 | Training loss: 0.0437, validation accuracy: 0.9818, validation loss: 0.0604\n",
      "100%|██████████| 750/750 [00:08<00:00, 84.76it/s, loss=0.0417]\n",
      "Epoch 26 | Training loss: 0.0417, validation accuracy: 0.9809, validation loss: 0.0609\n",
      "100%|██████████| 750/750 [00:09<00:00, 77.84it/s, loss=0.0402]\n",
      "Epoch 27 | Training loss: 0.0402, validation accuracy: 0.9821, validation loss: 0.0602\n",
      "100%|██████████| 750/750 [00:09<00:00, 82.41it/s, loss=0.0384]\n",
      "Epoch 28 | Training loss: 0.0384, validation accuracy: 0.9808, validation loss: 0.0628\n",
      "100%|██████████| 750/750 [00:08<00:00, 84.69it/s, loss=0.0366]\n",
      "Epoch 29 | Training loss: 0.0366, validation accuracy: 0.9818, validation loss: 0.0604\n",
      "100%|██████████| 750/750 [00:09<00:00, 81.31it/s, loss=0.0361]\n",
      "Epoch 30 | Training loss: 0.0361, validation accuracy: 0.9823, validation loss: 0.0585\n"
     ]
    }
   ],
   "source": [
    "torch.manual_seed(2020)\n",
    "epochs = 30\n",
    "\n",
    "for epoch in range(epochs):\n",
    "    train_loss = trainer.train_epoch(model, optimizer, dl[\"train\"])\n",
    "    optimizer.finish_epoch()\n",
    "    val_acc, val_loss = trainer.validation(model, dl[\"valid\"])\n",
    "    logger.log(\"Epoch\", epoch+1, \"|\", \n",
    "          f\"Training loss: {train_loss:.4f}, validation accuracy: {val_acc:.4f}, validation loss: {val_loss:.4f}\")"
   ]
  },
  {
   "cell_type": "code",
   "execution_count": 71,
   "metadata": {},
   "outputs": [
    {
     "name": "stdout",
     "output_type": "stream",
     "text": [
      "Train: (0.9900208333333333, 0.032129305653972554)\n",
      "Valid: (0.9823333333333333, 0.05854459940797339)\n"
     ]
    }
   ],
   "source": [
    "train_score = trainer.validation(model, dl[\"train\"])\n",
    "valid_score = trainer.validation(model, dl[\"valid\"])\n",
    "logger.log(\"Train:\", train_score)\n",
    "logger.log(\"Valid:\", valid_score)"
   ]
  },
  {
   "cell_type": "code",
   "execution_count": 72,
   "metadata": {},
   "outputs": [],
   "source": [
    "optimizer.accelerate()"
   ]
  },
  {
   "cell_type": "code",
   "execution_count": 73,
   "metadata": {},
   "outputs": [],
   "source": [
    "optimizer.store_parameters()\n",
    "model.to(trainer.device)\n",
    "None"
   ]
  },
  {
   "cell_type": "code",
   "execution_count": 74,
   "metadata": {},
   "outputs": [
    {
     "name": "stdout",
     "output_type": "stream",
     "text": [
      "Train: (0.9908541666666667, 0.030489669628441334)\n",
      "Valid: (0.9829166666666667, 0.05682149266917259)\n"
     ]
    }
   ],
   "source": [
    "train_score = trainer.validation(model, dl[\"train\"])\n",
    "valid_score = trainer.validation(model, dl[\"valid\"])\n",
    "logger.log(\"Train:\", train_score)\n",
    "logger.log(\"Valid:\", valid_score)"
   ]
  },
  {
   "cell_type": "markdown",
   "metadata": {
    "tags": []
   },
   "source": [
    "## Split + epoch"
   ]
  },
  {
   "cell_type": "code",
   "execution_count": 75,
   "metadata": {},
   "outputs": [],
   "source": [
    "model.load_state_dict(initial_state)\n",
    "model.to(trainer.device)\n",
    "None"
   ]
  },
  {
   "cell_type": "code",
   "execution_count": 76,
   "metadata": {},
   "outputs": [],
   "source": [
    "groups = [{\"params\": [param]} for param in model.parameters()]\n",
    "optimizer = AcceleratedSGD(groups, 1e-3, k=10, momentum=0.5, weight_decay=1e-5, mode=\"epoch\")\n",
    "logger = Logger(\"SGD_momentum-split.txt\")"
   ]
  },
  {
   "cell_type": "code",
   "execution_count": 77,
   "metadata": {
    "tags": []
   },
   "outputs": [
    {
     "name": "stdout",
     "output_type": "stream",
     "text": [
      "100%|██████████| 750/750 [00:08<00:00, 84.42it/s, loss=2.2952]\n",
      "Epoch 1 | Training loss: 2.2952, validation accuracy: 0.2307, validation loss: 2.2780\n",
      "100%|██████████| 750/750 [00:08<00:00, 86.01it/s, loss=1.9824]\n",
      "Epoch 2 | Training loss: 1.9824, validation accuracy: 0.7867, validation loss: 0.7826\n",
      "100%|██████████| 750/750 [00:09<00:00, 81.15it/s, loss=0.4920]\n",
      "Epoch 3 | Training loss: 0.4920, validation accuracy: 0.8969, validation loss: 0.3331\n",
      "100%|██████████| 750/750 [00:09<00:00, 82.42it/s, loss=0.3123]\n",
      "Epoch 4 | Training loss: 0.3123, validation accuracy: 0.9281, validation loss: 0.2453\n",
      "100%|██████████| 750/750 [00:08<00:00, 85.00it/s, loss=0.2293]\n",
      "Epoch 5 | Training loss: 0.2293, validation accuracy: 0.9433, validation loss: 0.1869\n",
      "100%|██████████| 750/750 [00:09<00:00, 80.96it/s, loss=0.1786]\n",
      "Epoch 6 | Training loss: 0.1786, validation accuracy: 0.9562, validation loss: 0.1498\n",
      "100%|██████████| 750/750 [00:08<00:00, 83.36it/s, loss=0.1471]\n",
      "Epoch 7 | Training loss: 0.1471, validation accuracy: 0.9617, validation loss: 0.1313\n",
      "100%|██████████| 750/750 [00:08<00:00, 85.55it/s, loss=0.1266]\n",
      "Epoch 8 | Training loss: 0.1266, validation accuracy: 0.9661, validation loss: 0.1118\n",
      "100%|██████████| 750/750 [00:09<00:00, 81.26it/s, loss=0.1120]\n",
      "Epoch 9 | Training loss: 0.1120, validation accuracy: 0.9677, validation loss: 0.1071\n",
      "100%|██████████| 750/750 [00:08<00:00, 84.78it/s, loss=0.1011]\n",
      "Epoch 10 | Training loss: 0.1011, validation accuracy: 0.9688, validation loss: 0.1039\n",
      "100%|██████████| 750/750 [00:09<00:00, 82.15it/s, loss=0.0924]\n",
      "Epoch 11 | Training loss: 0.0924, validation accuracy: 0.9721, validation loss: 0.0939\n",
      "100%|██████████| 750/750 [00:09<00:00, 83.31it/s, loss=0.0858]\n",
      "Epoch 12 | Training loss: 0.0858, validation accuracy: 0.9723, validation loss: 0.0882\n",
      "100%|██████████| 750/750 [00:09<00:00, 80.07it/s, loss=0.0793]\n",
      "Epoch 13 | Training loss: 0.0793, validation accuracy: 0.9752, validation loss: 0.0861\n",
      "100%|██████████| 750/750 [00:09<00:00, 81.24it/s, loss=0.0751]\n",
      "Epoch 14 | Training loss: 0.0751, validation accuracy: 0.9762, validation loss: 0.0781\n",
      "100%|██████████| 750/750 [00:08<00:00, 83.44it/s, loss=0.0701]\n",
      "Epoch 15 | Training loss: 0.0701, validation accuracy: 0.9728, validation loss: 0.0932\n",
      "100%|██████████| 750/750 [00:09<00:00, 82.46it/s, loss=0.0665]\n",
      "Epoch 16 | Training loss: 0.0665, validation accuracy: 0.9761, validation loss: 0.0762\n",
      "100%|██████████| 750/750 [00:09<00:00, 80.42it/s, loss=0.0630]\n",
      "Epoch 17 | Training loss: 0.0630, validation accuracy: 0.9777, validation loss: 0.0739\n",
      "100%|██████████| 750/750 [00:08<00:00, 86.97it/s, loss=0.0594]\n",
      "Epoch 18 | Training loss: 0.0594, validation accuracy: 0.9786, validation loss: 0.0754\n",
      "100%|██████████| 750/750 [00:09<00:00, 82.73it/s, loss=0.0569]\n",
      "Epoch 19 | Training loss: 0.0569, validation accuracy: 0.9794, validation loss: 0.0696\n",
      "100%|██████████| 750/750 [00:09<00:00, 81.85it/s, loss=0.0537]\n",
      "Epoch 20 | Training loss: 0.0537, validation accuracy: 0.9788, validation loss: 0.0698\n",
      "100%|██████████| 750/750 [00:08<00:00, 84.40it/s, loss=0.0515]\n",
      "Epoch 21 | Training loss: 0.0515, validation accuracy: 0.9763, validation loss: 0.0780\n",
      "100%|██████████| 750/750 [00:09<00:00, 80.46it/s, loss=0.0494]\n",
      "Epoch 22 | Training loss: 0.0494, validation accuracy: 0.9807, validation loss: 0.0674\n",
      "100%|██████████| 750/750 [00:08<00:00, 84.75it/s, loss=0.0472]\n",
      "Epoch 23 | Training loss: 0.0472, validation accuracy: 0.9795, validation loss: 0.0692\n",
      "100%|██████████| 750/750 [00:08<00:00, 84.05it/s, loss=0.0458]\n",
      "Epoch 24 | Training loss: 0.0458, validation accuracy: 0.9819, validation loss: 0.0616\n",
      "100%|██████████| 750/750 [00:08<00:00, 84.57it/s, loss=0.0436]\n",
      "Epoch 25 | Training loss: 0.0436, validation accuracy: 0.9822, validation loss: 0.0605\n",
      "100%|██████████| 750/750 [00:09<00:00, 83.33it/s, loss=0.0417]\n",
      "Epoch 26 | Training loss: 0.0417, validation accuracy: 0.9813, validation loss: 0.0618\n",
      "100%|██████████| 750/750 [00:08<00:00, 84.19it/s, loss=0.0402]\n",
      "Epoch 27 | Training loss: 0.0402, validation accuracy: 0.9822, validation loss: 0.0605\n",
      "100%|██████████| 750/750 [00:08<00:00, 83.67it/s, loss=0.0383]\n",
      "Epoch 28 | Training loss: 0.0383, validation accuracy: 0.9808, validation loss: 0.0636\n",
      "100%|██████████| 750/750 [00:09<00:00, 82.08it/s, loss=0.0365]\n",
      "Epoch 29 | Training loss: 0.0365, validation accuracy: 0.9818, validation loss: 0.0608\n",
      "100%|██████████| 750/750 [00:09<00:00, 82.34it/s, loss=0.0362]\n",
      "Epoch 30 | Training loss: 0.0362, validation accuracy: 0.9819, validation loss: 0.0591\n"
     ]
    }
   ],
   "source": [
    "torch.manual_seed(2020)\n",
    "epochs = 30\n",
    "\n",
    "for epoch in range(epochs):\n",
    "    train_loss = trainer.train_epoch(model, optimizer, dl[\"train\"])\n",
    "    optimizer.finish_epoch()\n",
    "    val_acc, val_loss = trainer.validation(model, dl[\"valid\"])\n",
    "    logger.log(\"Epoch\", epoch+1, \"|\", \n",
    "          f\"Training loss: {train_loss:.4f}, validation accuracy: {val_acc:.4f}, validation loss: {val_loss:.4f}\")"
   ]
  },
  {
   "cell_type": "code",
   "execution_count": 78,
   "metadata": {},
   "outputs": [
    {
     "name": "stdout",
     "output_type": "stream",
     "text": [
      "Train: (0.9898333333333333, 0.032251678868662564)\n",
      "Valid: (0.9819166666666667, 0.05914909615786746)\n"
     ]
    }
   ],
   "source": [
    "train_score = trainer.validation(model, dl[\"train\"])\n",
    "valid_score = trainer.validation(model, dl[\"valid\"])\n",
    "logger.log(\"Train:\", train_score)\n",
    "logger.log(\"Valid:\", valid_score)"
   ]
  },
  {
   "cell_type": "code",
   "execution_count": 79,
   "metadata": {},
   "outputs": [],
   "source": [
    "optimizer.accelerate()"
   ]
  },
  {
   "cell_type": "code",
   "execution_count": 80,
   "metadata": {},
   "outputs": [],
   "source": [
    "optimizer.store_parameters()\n",
    "model.to(trainer.device)\n",
    "None"
   ]
  },
  {
   "cell_type": "code",
   "execution_count": 81,
   "metadata": {},
   "outputs": [
    {
     "name": "stdout",
     "output_type": "stream",
     "text": [
      "Train: (0.9910625, 0.029343846139633874)\n",
      "Valid: (0.9828333333333333, 0.06293854748888407)\n"
     ]
    }
   ],
   "source": [
    "train_score = trainer.validation(model, dl[\"train\"])\n",
    "valid_score = trainer.validation(model, dl[\"valid\"])\n",
    "logger.log(\"Train:\", train_score)\n",
    "logger.log(\"Valid:\", valid_score)"
   ]
  },
  {
   "cell_type": "markdown",
   "metadata": {
    "tags": []
   },
   "source": [
    "## Linear only"
   ]
  },
  {
   "cell_type": "code",
   "execution_count": 82,
   "metadata": {},
   "outputs": [],
   "source": [
    "model.load_state_dict(initial_state)\n",
    "model.to(trainer.device)\n",
    "None"
   ]
  },
  {
   "cell_type": "code",
   "execution_count": 83,
   "metadata": {},
   "outputs": [],
   "source": [
    "conv_group = {\n",
    "    \"params\": [param for child in list(model.children())[:10] for param in child.parameters()],\n",
    "    \"method\": None\n",
    "}\n",
    "fc_group = {\n",
    "    \"params\": [param for child in list(model.children())[10:] for param in child.parameters()]\n",
    "}\n",
    "groups = [conv_group, fc_group]\n",
    "optimizer = AcceleratedSGD(groups, 1e-3, k=10, momentum=0.5, weight_decay=1e-5, mode=\"epoch\")\n",
    "logger = Logger(\"SGD_momentum-linear_only.txt\")"
   ]
  },
  {
   "cell_type": "code",
   "execution_count": 84,
   "metadata": {
    "tags": []
   },
   "outputs": [
    {
     "name": "stdout",
     "output_type": "stream",
     "text": [
      "100%|██████████| 750/750 [00:09<00:00, 83.16it/s, loss=2.2952]\n",
      "Epoch 1 | Training loss: 2.2952, validation accuracy: 0.2307, validation loss: 2.2780\n",
      "100%|██████████| 750/750 [00:09<00:00, 80.68it/s, loss=1.9824]\n",
      "Epoch 2 | Training loss: 1.9824, validation accuracy: 0.7866, validation loss: 0.7826\n",
      "100%|██████████| 750/750 [00:09<00:00, 82.62it/s, loss=0.4921]\n",
      "Epoch 3 | Training loss: 0.4921, validation accuracy: 0.8968, validation loss: 0.3333\n",
      "100%|██████████| 750/750 [00:09<00:00, 79.93it/s, loss=0.3124]\n",
      "Epoch 4 | Training loss: 0.3124, validation accuracy: 0.9277, validation loss: 0.2451\n",
      "100%|██████████| 750/750 [00:09<00:00, 82.36it/s, loss=0.2293]\n",
      "Epoch 5 | Training loss: 0.2293, validation accuracy: 0.9433, validation loss: 0.1869\n",
      "100%|██████████| 750/750 [00:09<00:00, 76.19it/s, loss=0.1788]\n",
      "Epoch 6 | Training loss: 0.1788, validation accuracy: 0.9562, validation loss: 0.1500\n",
      "100%|██████████| 750/750 [00:09<00:00, 82.14it/s, loss=0.1471]\n",
      "Epoch 7 | Training loss: 0.1471, validation accuracy: 0.9615, validation loss: 0.1315\n",
      "100%|██████████| 750/750 [00:09<00:00, 82.69it/s, loss=0.1268]\n",
      "Epoch 8 | Training loss: 0.1268, validation accuracy: 0.9660, validation loss: 0.1118\n",
      "100%|██████████| 750/750 [00:09<00:00, 82.27it/s, loss=0.1122]\n",
      "Epoch 9 | Training loss: 0.1122, validation accuracy: 0.9673, validation loss: 0.1070\n",
      "100%|██████████| 750/750 [00:09<00:00, 83.07it/s, loss=0.1012]\n",
      "Epoch 10 | Training loss: 0.1012, validation accuracy: 0.9690, validation loss: 0.1035\n",
      "100%|██████████| 750/750 [00:08<00:00, 84.75it/s, loss=0.0925]\n",
      "Epoch 11 | Training loss: 0.0925, validation accuracy: 0.9721, validation loss: 0.0938\n",
      "100%|██████████| 750/750 [00:09<00:00, 82.22it/s, loss=0.0859]\n",
      "Epoch 12 | Training loss: 0.0859, validation accuracy: 0.9722, validation loss: 0.0881\n",
      "100%|██████████| 750/750 [00:08<00:00, 84.02it/s, loss=0.0793]\n",
      "Epoch 13 | Training loss: 0.0793, validation accuracy: 0.9751, validation loss: 0.0861\n",
      "100%|██████████| 750/750 [00:08<00:00, 84.91it/s, loss=0.0752]\n",
      "Epoch 14 | Training loss: 0.0752, validation accuracy: 0.9761, validation loss: 0.0778\n",
      "100%|██████████| 750/750 [00:09<00:00, 82.59it/s, loss=0.0700]\n",
      "Epoch 15 | Training loss: 0.0700, validation accuracy: 0.9729, validation loss: 0.0933\n",
      "100%|██████████| 750/750 [00:08<00:00, 85.38it/s, loss=0.0666]\n",
      "Epoch 16 | Training loss: 0.0666, validation accuracy: 0.9765, validation loss: 0.0764\n",
      "100%|██████████| 750/750 [00:08<00:00, 84.68it/s, loss=0.0629]\n",
      "Epoch 17 | Training loss: 0.0629, validation accuracy: 0.9774, validation loss: 0.0738\n",
      "100%|██████████| 750/750 [00:08<00:00, 84.61it/s, loss=0.0594]\n",
      "Epoch 18 | Training loss: 0.0594, validation accuracy: 0.9781, validation loss: 0.0756\n",
      "100%|██████████| 750/750 [00:08<00:00, 84.43it/s, loss=0.0568]\n",
      "Epoch 19 | Training loss: 0.0568, validation accuracy: 0.9793, validation loss: 0.0699\n",
      "100%|██████████| 750/750 [00:09<00:00, 80.06it/s, loss=0.0538]\n",
      "Epoch 20 | Training loss: 0.0538, validation accuracy: 0.9791, validation loss: 0.0699\n",
      "100%|██████████| 750/750 [00:08<00:00, 84.20it/s, loss=0.0514]\n",
      "Epoch 21 | Training loss: 0.0514, validation accuracy: 0.9762, validation loss: 0.0781\n",
      "100%|██████████| 750/750 [00:08<00:00, 84.00it/s, loss=0.0494]\n",
      "Epoch 22 | Training loss: 0.0494, validation accuracy: 0.9807, validation loss: 0.0674\n",
      "100%|██████████| 750/750 [00:09<00:00, 82.89it/s, loss=0.0472]\n",
      "Epoch 23 | Training loss: 0.0472, validation accuracy: 0.9798, validation loss: 0.0694\n",
      "100%|██████████| 750/750 [00:08<00:00, 84.71it/s, loss=0.0458]\n",
      "Epoch 24 | Training loss: 0.0458, validation accuracy: 0.9819, validation loss: 0.0619\n",
      "100%|██████████| 750/750 [00:09<00:00, 82.11it/s, loss=0.0436]\n",
      "Epoch 25 | Training loss: 0.0436, validation accuracy: 0.9812, validation loss: 0.0605\n",
      "100%|██████████| 750/750 [00:09<00:00, 83.06it/s, loss=0.0417]\n",
      "Epoch 26 | Training loss: 0.0417, validation accuracy: 0.9810, validation loss: 0.0621\n",
      "100%|██████████| 750/750 [00:08<00:00, 84.61it/s, loss=0.0402]\n",
      "Epoch 27 | Training loss: 0.0402, validation accuracy: 0.9820, validation loss: 0.0610\n",
      "100%|██████████| 750/750 [00:08<00:00, 84.81it/s, loss=0.0384]\n",
      "Epoch 28 | Training loss: 0.0384, validation accuracy: 0.9810, validation loss: 0.0635\n",
      "100%|██████████| 750/750 [00:08<00:00, 84.95it/s, loss=0.0365]\n",
      "Epoch 29 | Training loss: 0.0365, validation accuracy: 0.9821, validation loss: 0.0603\n",
      "100%|██████████| 750/750 [00:08<00:00, 84.09it/s, loss=0.0361]\n",
      "Epoch 30 | Training loss: 0.0361, validation accuracy: 0.9820, validation loss: 0.0591\n"
     ]
    }
   ],
   "source": [
    "torch.manual_seed(2020)\n",
    "epochs = 30\n",
    "\n",
    "for epoch in range(epochs):\n",
    "    train_loss = trainer.train_epoch(model, optimizer, dl[\"train\"])\n",
    "    optimizer.finish_epoch()\n",
    "    val_acc, val_loss = trainer.validation(model, dl[\"valid\"])\n",
    "    logger.log(\"Epoch\", epoch+1, \"|\", \n",
    "          f\"Training loss: {train_loss:.4f}, validation accuracy: {val_acc:.4f}, validation loss: {val_loss:.4f}\")"
   ]
  },
  {
   "cell_type": "code",
   "execution_count": 85,
   "metadata": {},
   "outputs": [
    {
     "name": "stdout",
     "output_type": "stream",
     "text": [
      "Train: (0.989625, 0.032427263285421455)\n",
      "Valid: (0.982, 0.05911266437987797)\n"
     ]
    }
   ],
   "source": [
    "train_score = trainer.validation(model, dl[\"train\"])\n",
    "valid_score = trainer.validation(model, dl[\"valid\"])\n",
    "logger.log(\"Train:\", train_score)\n",
    "logger.log(\"Valid:\", valid_score)"
   ]
  },
  {
   "cell_type": "code",
   "execution_count": 86,
   "metadata": {},
   "outputs": [],
   "source": [
    "optimizer.accelerate()"
   ]
  },
  {
   "cell_type": "code",
   "execution_count": 87,
   "metadata": {},
   "outputs": [],
   "source": [
    "optimizer.store_parameters()\n",
    "model.to(trainer.device)\n",
    "None"
   ]
  },
  {
   "cell_type": "code",
   "execution_count": 88,
   "metadata": {},
   "outputs": [
    {
     "name": "stdout",
     "output_type": "stream",
     "text": [
      "Train: (0.9907916666666666, 0.030542890603809308)\n",
      "Valid: (0.98225, 0.05680294658135002)\n"
     ]
    }
   ],
   "source": [
    "train_score = trainer.validation(model, dl[\"train\"])\n",
    "valid_score = trainer.validation(model, dl[\"valid\"])\n",
    "logger.log(\"Train:\", train_score)\n",
    "logger.log(\"Valid:\", valid_score)"
   ]
  },
  {
   "cell_type": "markdown",
   "metadata": {
    "tags": []
   },
   "source": [
    "## Linear + conv separately"
   ]
  },
  {
   "cell_type": "code",
   "execution_count": 89,
   "metadata": {},
   "outputs": [],
   "source": [
    "model.load_state_dict(initial_state)\n",
    "model.to(trainer.device)\n",
    "None"
   ]
  },
  {
   "cell_type": "code",
   "execution_count": 90,
   "metadata": {},
   "outputs": [],
   "source": [
    "conv_group = {\n",
    "    \"params\": [param for child in list(model.children())[:10] for param in child.parameters()],\n",
    "}\n",
    "fc_group = {\n",
    "    \"params\": [param for child in list(model.children())[10:] for param in child.parameters()]\n",
    "}\n",
    "groups = [conv_group, fc_group]\n",
    "optimizer = AcceleratedSGD(groups, 1e-3, k=10, momentum=0.5, weight_decay=1e-5, mode=\"epoch\")\n",
    "logger = Logger(\"SGD_momentum-linear_conv.txt\")"
   ]
  },
  {
   "cell_type": "code",
   "execution_count": 91,
   "metadata": {
    "tags": []
   },
   "outputs": [
    {
     "name": "stdout",
     "output_type": "stream",
     "text": [
      "100%|██████████| 750/750 [00:08<00:00, 86.02it/s, loss=2.2952]\n",
      "Epoch 1 | Training loss: 2.2952, validation accuracy: 0.2306, validation loss: 2.2780\n",
      "100%|██████████| 750/750 [00:08<00:00, 84.36it/s, loss=1.9824]\n",
      "Epoch 2 | Training loss: 1.9824, validation accuracy: 0.7867, validation loss: 0.7826\n",
      "100%|██████████| 750/750 [00:08<00:00, 85.13it/s, loss=0.4921]\n",
      "Epoch 3 | Training loss: 0.4921, validation accuracy: 0.8970, validation loss: 0.3332\n",
      "100%|██████████| 750/750 [00:08<00:00, 85.11it/s, loss=0.3124]\n",
      "Epoch 4 | Training loss: 0.3124, validation accuracy: 0.9277, validation loss: 0.2454\n",
      "100%|██████████| 750/750 [00:08<00:00, 84.30it/s, loss=0.2295]\n",
      "Epoch 5 | Training loss: 0.2295, validation accuracy: 0.9433, validation loss: 0.1872\n",
      "100%|██████████| 750/750 [00:08<00:00, 86.59it/s, loss=0.1789]\n",
      "Epoch 6 | Training loss: 0.1789, validation accuracy: 0.9563, validation loss: 0.1505\n",
      "100%|██████████| 750/750 [00:08<00:00, 84.76it/s, loss=0.1472]\n",
      "Epoch 7 | Training loss: 0.1472, validation accuracy: 0.9613, validation loss: 0.1315\n",
      "100%|██████████| 750/750 [00:08<00:00, 86.64it/s, loss=0.1269]\n",
      "Epoch 8 | Training loss: 0.1269, validation accuracy: 0.9667, validation loss: 0.1119\n",
      "100%|██████████| 750/750 [00:08<00:00, 85.18it/s, loss=0.1123]\n",
      "Epoch 9 | Training loss: 0.1123, validation accuracy: 0.9677, validation loss: 0.1070\n",
      "100%|██████████| 750/750 [00:08<00:00, 84.52it/s, loss=0.1013]\n",
      "Epoch 10 | Training loss: 0.1013, validation accuracy: 0.9685, validation loss: 0.1040\n",
      "100%|██████████| 750/750 [00:08<00:00, 85.57it/s, loss=0.0926]\n",
      "Epoch 11 | Training loss: 0.0926, validation accuracy: 0.9720, validation loss: 0.0937\n",
      "100%|██████████| 750/750 [00:08<00:00, 83.49it/s, loss=0.0860]\n",
      "Epoch 12 | Training loss: 0.0860, validation accuracy: 0.9721, validation loss: 0.0889\n",
      "100%|██████████| 750/750 [00:08<00:00, 83.39it/s, loss=0.0793]\n",
      "Epoch 13 | Training loss: 0.0793, validation accuracy: 0.9748, validation loss: 0.0862\n",
      "100%|██████████| 750/750 [00:08<00:00, 83.89it/s, loss=0.0752]\n",
      "Epoch 14 | Training loss: 0.0752, validation accuracy: 0.9758, validation loss: 0.0784\n",
      "100%|██████████| 750/750 [00:08<00:00, 84.77it/s, loss=0.0701]\n",
      "Epoch 15 | Training loss: 0.0701, validation accuracy: 0.9721, validation loss: 0.0948\n",
      "100%|██████████| 750/750 [00:08<00:00, 85.12it/s, loss=0.0666]\n",
      "Epoch 16 | Training loss: 0.0666, validation accuracy: 0.9765, validation loss: 0.0763\n",
      "100%|██████████| 750/750 [00:08<00:00, 83.38it/s, loss=0.0630]\n",
      "Epoch 17 | Training loss: 0.0630, validation accuracy: 0.9776, validation loss: 0.0738\n",
      "100%|██████████| 750/750 [00:09<00:00, 78.37it/s, loss=0.0593]\n",
      "Epoch 18 | Training loss: 0.0593, validation accuracy: 0.9779, validation loss: 0.0754\n",
      "100%|██████████| 750/750 [00:09<00:00, 81.42it/s, loss=0.0568]\n",
      "Epoch 19 | Training loss: 0.0568, validation accuracy: 0.9794, validation loss: 0.0695\n",
      "100%|██████████| 750/750 [00:08<00:00, 84.30it/s, loss=0.0537]\n",
      "Epoch 20 | Training loss: 0.0537, validation accuracy: 0.9783, validation loss: 0.0702\n",
      "100%|██████████| 750/750 [00:08<00:00, 84.53it/s, loss=0.0514]\n",
      "Epoch 21 | Training loss: 0.0514, validation accuracy: 0.9759, validation loss: 0.0787\n",
      "100%|██████████| 750/750 [00:08<00:00, 85.07it/s, loss=0.0493]\n",
      "Epoch 22 | Training loss: 0.0493, validation accuracy: 0.9807, validation loss: 0.0674\n",
      "100%|██████████| 750/750 [00:09<00:00, 83.32it/s, loss=0.0472]\n",
      "Epoch 23 | Training loss: 0.0472, validation accuracy: 0.9800, validation loss: 0.0682\n",
      "100%|██████████| 750/750 [00:09<00:00, 83.13it/s, loss=0.0458]\n",
      "Epoch 24 | Training loss: 0.0458, validation accuracy: 0.9820, validation loss: 0.0612\n",
      "100%|██████████| 750/750 [00:08<00:00, 85.85it/s, loss=0.0436]\n",
      "Epoch 25 | Training loss: 0.0436, validation accuracy: 0.9821, validation loss: 0.0605\n",
      "100%|██████████| 750/750 [00:08<00:00, 83.96it/s, loss=0.0416]\n",
      "Epoch 26 | Training loss: 0.0416, validation accuracy: 0.9814, validation loss: 0.0612\n",
      "100%|██████████| 750/750 [00:08<00:00, 86.77it/s, loss=0.0401]\n",
      "Epoch 27 | Training loss: 0.0401, validation accuracy: 0.9822, validation loss: 0.0609\n",
      "100%|██████████| 750/750 [00:09<00:00, 81.50it/s, loss=0.0382]\n",
      "Epoch 28 | Training loss: 0.0382, validation accuracy: 0.9806, validation loss: 0.0633\n",
      "100%|██████████| 750/750 [00:09<00:00, 81.57it/s, loss=0.0365]\n",
      "Epoch 29 | Training loss: 0.0365, validation accuracy: 0.9818, validation loss: 0.0607\n",
      "100%|██████████| 750/750 [00:08<00:00, 86.97it/s, loss=0.0360]\n",
      "Epoch 30 | Training loss: 0.0360, validation accuracy: 0.9823, validation loss: 0.0589\n"
     ]
    }
   ],
   "source": [
    "torch.manual_seed(2020)\n",
    "epochs = 30\n",
    "\n",
    "for epoch in range(epochs):\n",
    "    train_loss = trainer.train_epoch(model, optimizer, dl[\"train\"])\n",
    "    optimizer.finish_epoch()\n",
    "    val_acc, val_loss = trainer.validation(model, dl[\"valid\"])\n",
    "    logger.log(\"Epoch\", epoch+1, \"|\", \n",
    "          f\"Training loss: {train_loss:.4f}, validation accuracy: {val_acc:.4f}, validation loss: {val_loss:.4f}\")"
   ]
  },
  {
   "cell_type": "code",
   "execution_count": 92,
   "metadata": {},
   "outputs": [
    {
     "name": "stdout",
     "output_type": "stream",
     "text": [
      "Train: (0.9900208333333333, 0.03202596840658225)\n",
      "Valid: (0.9823333333333333, 0.058900529234359664)\n"
     ]
    }
   ],
   "source": [
    "train_score = trainer.validation(model, dl[\"train\"])\n",
    "valid_score = trainer.validation(model, dl[\"valid\"])\n",
    "logger.log(\"Train:\", train_score)\n",
    "logger.log(\"Valid:\", valid_score)"
   ]
  },
  {
   "cell_type": "code",
   "execution_count": 93,
   "metadata": {},
   "outputs": [],
   "source": [
    "optimizer.accelerate()"
   ]
  },
  {
   "cell_type": "code",
   "execution_count": 94,
   "metadata": {},
   "outputs": [],
   "source": [
    "optimizer.store_parameters()\n",
    "model.to(trainer.device)\n",
    "None"
   ]
  },
  {
   "cell_type": "code",
   "execution_count": 95,
   "metadata": {},
   "outputs": [
    {
     "name": "stdout",
     "output_type": "stream",
     "text": [
      "Train: (0.9909166666666667, 0.03049213180830702)\n",
      "Valid: (0.9826666666666667, 0.05718373842506359)\n"
     ]
    }
   ],
   "source": [
    "train_score = trainer.validation(model, dl[\"train\"])\n",
    "valid_score = trainer.validation(model, dl[\"valid\"])\n",
    "logger.log(\"Train:\", train_score)\n",
    "logger.log(\"Valid:\", valid_score)"
   ]
  },
  {
   "cell_type": "code",
   "execution_count": null,
   "metadata": {},
   "outputs": [],
   "source": []
  }
 ],
 "metadata": {
  "kernelspec": {
   "display_name": "Python 3 (ipykernel)",
   "language": "python",
   "name": "python3"
  },
  "language_info": {
   "codemirror_mode": {
    "name": "ipython",
    "version": 3
   },
   "file_extension": ".py",
   "mimetype": "text/x-python",
   "name": "python",
   "nbconvert_exporter": "python",
   "pygments_lexer": "ipython3",
   "version": "3.9.12"
  }
 },
 "nbformat": 4,
 "nbformat_minor": 4
}
