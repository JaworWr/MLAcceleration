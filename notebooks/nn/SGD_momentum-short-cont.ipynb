{
 "cells": [
  {
   "cell_type": "code",
   "execution_count": 1,
   "metadata": {},
   "outputs": [],
   "source": [
    "import sys\n",
    "sys.path.insert(0, \"../..\")"
   ]
  },
  {
   "cell_type": "code",
   "execution_count": 2,
   "metadata": {},
   "outputs": [],
   "source": [
    "import torch\n",
    "from torch import nn\n",
    "import numpy as np\n",
    "from copy import deepcopy\n",
    "\n",
    "from nn_extrapolation import AcceleratedSGD\n",
    "from nn_utils import *"
   ]
  },
  {
   "cell_type": "code",
   "execution_count": 3,
   "metadata": {},
   "outputs": [
    {
     "data": {
      "text/plain": [
       "True"
      ]
     },
     "execution_count": 3,
     "metadata": {},
     "output_type": "execute_result"
    }
   ],
   "source": [
    "torch.cuda.is_available()"
   ]
  },
  {
   "cell_type": "code",
   "execution_count": 5,
   "metadata": {},
   "outputs": [],
   "source": [
    "trainer = Trainer(\n",
    "    device=\"cuda\",\n",
    "    loss_fn=nn.NLLLoss(reduction=\"mean\"),\n",
    "    val_loss_fn=nn.NLLLoss(reduction=\"sum\"),\n",
    ")"
   ]
  },
  {
   "cell_type": "code",
   "execution_count": 22,
   "metadata": {},
   "outputs": [],
   "source": [
    "dl = load_dataset(\n",
    "    dataset=\"mnist\", \n",
    "    root=\"../../../MNIST\", \n",
    "    download=False, \n",
    "    validation_split=0.2,\n",
    "    batch_size=64, \n",
    "    num_workers=2,\n",
    ")"
   ]
  },
  {
   "cell_type": "code",
   "execution_count": 23,
   "metadata": {},
   "outputs": [],
   "source": [
    "def make_model():\n",
    "    return nn.Sequential(\n",
    "        nn.Conv2d(1, 32, 3),\n",
    "        nn.ReLU(),\n",
    "        nn.Conv2d(32, 32, 3),\n",
    "        nn.ReLU(),\n",
    "        nn.MaxPool2d(2),\n",
    "        nn.Conv2d(32, 64, 3),\n",
    "        nn.ReLU(),\n",
    "        nn.Conv2d(64, 64, 3),\n",
    "        nn.ReLU(),\n",
    "        nn.MaxPool2d(2),\n",
    "        nn.Flatten(),\n",
    "        nn.Linear(4*4*64, 128),\n",
    "        nn.ReLU(),\n",
    "        nn.Linear(128, 10),\n",
    "        nn.LogSoftmax(-1),\n",
    "    )"
   ]
  },
  {
   "cell_type": "code",
   "execution_count": 24,
   "metadata": {},
   "outputs": [
    {
     "data": {
      "text/plain": [
       "Sequential(\n",
       "  (0): Conv2d(1, 32, kernel_size=(3, 3), stride=(1, 1))\n",
       "  (1): ReLU()\n",
       "  (2): Conv2d(32, 32, kernel_size=(3, 3), stride=(1, 1))\n",
       "  (3): ReLU()\n",
       "  (4): MaxPool2d(kernel_size=2, stride=2, padding=0, dilation=1, ceil_mode=False)\n",
       "  (5): Conv2d(32, 64, kernel_size=(3, 3), stride=(1, 1))\n",
       "  (6): ReLU()\n",
       "  (7): Conv2d(64, 64, kernel_size=(3, 3), stride=(1, 1))\n",
       "  (8): ReLU()\n",
       "  (9): MaxPool2d(kernel_size=2, stride=2, padding=0, dilation=1, ceil_mode=False)\n",
       "  (10): Flatten(start_dim=1, end_dim=-1)\n",
       "  (11): Linear(in_features=1024, out_features=128, bias=True)\n",
       "  (12): ReLU()\n",
       "  (13): Linear(in_features=128, out_features=10, bias=True)\n",
       "  (14): LogSoftmax(dim=-1)\n",
       ")"
      ]
     },
     "execution_count": 24,
     "metadata": {},
     "output_type": "execute_result"
    }
   ],
   "source": [
    "model = make_model()\n",
    "model.to(trainer.device)"
   ]
  },
  {
   "cell_type": "code",
   "execution_count": 25,
   "metadata": {},
   "outputs": [],
   "source": [
    "optimizer = AcceleratedSGD(model.parameters(), 1e-3, k=10, momentum=0.5, weight_decay=1e-5, mode=\"epoch\")\n",
    "logger = Logger(\"SGD_momentum-short-cont.txt\")"
   ]
  },
  {
   "cell_type": "markdown",
   "metadata": {},
   "source": [
    "## Epoch"
   ]
  },
  {
   "cell_type": "code",
   "execution_count": 26,
   "metadata": {
    "tags": []
   },
   "outputs": [
    {
     "name": "stdout",
     "output_type": "stream",
     "text": [
      "100%|██████████| 750/750 [00:12<00:00, 58.76it/s, loss=2.2987]\n",
      "Epoch 1 | Training loss: 2.2987, validation accuracy: 0.1209, validation loss: 2.2932\n",
      "100%|██████████| 750/750 [00:12<00:00, 58.95it/s, loss=2.2761]\n",
      "Epoch 2 | Training loss: 2.2761, validation accuracy: 0.3397, validation loss: 2.2350\n",
      "100%|██████████| 750/750 [00:12<00:00, 58.59it/s, loss=1.3827]\n",
      "Epoch 3 | Training loss: 1.3827, validation accuracy: 0.8638, validation loss: 0.4631\n",
      "100%|██████████| 750/750 [00:12<00:00, 58.19it/s, loss=0.3929]\n",
      "Epoch 4 | Training loss: 0.3929, validation accuracy: 0.9178, validation loss: 0.2847\n",
      "100%|██████████| 750/750 [00:12<00:00, 58.78it/s, loss=0.2789]\n",
      "Epoch 5 | Training loss: 0.2789, validation accuracy: 0.9354, validation loss: 0.2176\n",
      "100%|██████████| 750/750 [00:12<00:00, 58.83it/s, loss=0.2123]\n",
      "Epoch 6 | Training loss: 0.2123, validation accuracy: 0.9452, validation loss: 0.1856\n",
      "100%|██████████| 750/750 [00:13<00:00, 57.02it/s, loss=0.1692]\n",
      "Epoch 7 | Training loss: 0.1692, validation accuracy: 0.9567, validation loss: 0.1447\n",
      "100%|██████████| 750/750 [00:12<00:00, 58.13it/s, loss=0.1405]\n",
      "Epoch 8 | Training loss: 0.1405, validation accuracy: 0.9644, validation loss: 0.1233\n",
      "100%|██████████| 750/750 [00:12<00:00, 58.78it/s, loss=0.1206]\n",
      "Epoch 9 | Training loss: 0.1206, validation accuracy: 0.9670, validation loss: 0.1113\n",
      "100%|██████████| 750/750 [00:12<00:00, 58.63it/s, loss=0.1076]\n",
      "Epoch 10 | Training loss: 0.1076, validation accuracy: 0.9696, validation loss: 0.1051\n",
      "100%|██████████| 750/750 [00:12<00:00, 57.83it/s, loss=0.0972]\n",
      "Epoch 11 | Training loss: 0.0972, validation accuracy: 0.9701, validation loss: 0.1015\n",
      "100%|██████████| 750/750 [00:13<00:00, 57.67it/s, loss=0.0895]\n",
      "Epoch 12 | Training loss: 0.0895, validation accuracy: 0.9714, validation loss: 0.0930\n",
      "100%|██████████| 750/750 [00:13<00:00, 57.69it/s, loss=0.0824]\n",
      "Epoch 13 | Training loss: 0.0824, validation accuracy: 0.9737, validation loss: 0.0859\n",
      "100%|██████████| 750/750 [00:13<00:00, 57.50it/s, loss=0.0778]\n",
      "Epoch 14 | Training loss: 0.0778, validation accuracy: 0.9717, validation loss: 0.0920\n",
      "100%|██████████| 750/750 [00:13<00:00, 56.59it/s, loss=0.0735]\n",
      "Epoch 15 | Training loss: 0.0735, validation accuracy: 0.9747, validation loss: 0.0899\n",
      "100%|██████████| 750/750 [00:13<00:00, 56.53it/s, loss=0.0690]\n",
      "Epoch 16 | Training loss: 0.0690, validation accuracy: 0.9752, validation loss: 0.0788\n",
      "100%|██████████| 750/750 [00:13<00:00, 57.27it/s, loss=0.0647]\n",
      "Epoch 17 | Training loss: 0.0647, validation accuracy: 0.9766, validation loss: 0.0791\n",
      "100%|██████████| 750/750 [00:13<00:00, 57.13it/s, loss=0.0621]\n",
      "Epoch 18 | Training loss: 0.0621, validation accuracy: 0.9759, validation loss: 0.0774\n",
      "100%|██████████| 750/750 [00:12<00:00, 58.39it/s, loss=0.0592]\n",
      "Epoch 19 | Training loss: 0.0592, validation accuracy: 0.9785, validation loss: 0.0704\n",
      "100%|██████████| 750/750 [00:13<00:00, 57.67it/s, loss=0.0564]\n",
      "Epoch 20 | Training loss: 0.0564, validation accuracy: 0.9798, validation loss: 0.0681\n"
     ]
    }
   ],
   "source": [
    "epochs = 20\n",
    "\n",
    "for epoch in range(epochs):\n",
    "    train_loss = trainer.train_epoch(model, optimizer, dl[\"train\"])\n",
    "    optimizer.finish_epoch()\n",
    "    val_acc, val_loss = trainer.validation(model, dl[\"valid\"])\n",
    "    logger.log(\"Epoch\", epoch+1, \"|\", \n",
    "          f\"Training loss: {train_loss:.4f}, validation accuracy: {val_acc:.4f}, validation loss: {val_loss:.4f}\")"
   ]
  },
  {
   "cell_type": "code",
   "execution_count": 29,
   "metadata": {},
   "outputs": [
    {
     "name": "stdout",
     "output_type": "stream",
     "text": [
      "Train: (0.9850416666666667, 0.05008074772513161)\n",
      "Valid: (0.9798333333333333, 0.06808133846521378)\n"
     ]
    }
   ],
   "source": [
    "train_score = trainer.validation(model, dl[\"train\"])\n",
    "valid_score = trainer.validation(model, dl[\"valid\"])\n",
    "logger.log(\"Train:\", train_score)\n",
    "logger.log(\"Valid:\", valid_score)"
   ]
  },
  {
   "cell_type": "code",
   "execution_count": 30,
   "metadata": {},
   "outputs": [
    {
     "name": "stdout",
     "output_type": "stream",
     "text": [
      "CPU times: user 234 ms, sys: 20.6 ms, total: 254 ms\n",
      "Wall time: 111 ms\n"
     ]
    }
   ],
   "source": [
    "%%time\n",
    "optimizer.accelerate()"
   ]
  },
  {
   "cell_type": "code",
   "execution_count": 34,
   "metadata": {},
   "outputs": [
    {
     "name": "stdout",
     "output_type": "stream",
     "text": [
      "Train: (0.9863958333333334, 0.04579724781960249)\n",
      "Valid: (0.9806666666666667, 0.06394591045286506)\n"
     ]
    }
   ],
   "source": [
    "model_acc = deepcopy(model)\n",
    "optimizer.store_parameters([model_acc.parameters()])\n",
    "model_acc.cuda()\n",
    "train_score = trainer.validation(model_acc, dl[\"train\"])\n",
    "valid_score = trainer.validation(model_acc, dl[\"valid\"])\n",
    "logger.log(\"Train:\", train_score)\n",
    "logger.log(\"Valid:\", valid_score)\n",
    "model_acc.cpu()\n",
    "None"
   ]
  },
  {
   "cell_type": "code",
   "execution_count": 35,
   "metadata": {
    "tags": []
   },
   "outputs": [
    {
     "name": "stdout",
     "output_type": "stream",
     "text": [
      "100%|██████████| 750/750 [00:12<00:00, 57.85it/s, loss=0.0542]\n",
      "Epoch 1 | Training loss: 0.0542, validation accuracy: 0.9797, validation loss: 0.0671\n",
      "100%|██████████| 750/750 [00:12<00:00, 58.25it/s, loss=0.0516]\n",
      "Epoch 2 | Training loss: 0.0516, validation accuracy: 0.9793, validation loss: 0.0675\n",
      "100%|██████████| 750/750 [00:12<00:00, 58.59it/s, loss=0.0499]\n",
      "Epoch 3 | Training loss: 0.0499, validation accuracy: 0.9806, validation loss: 0.0642\n",
      "100%|██████████| 750/750 [00:12<00:00, 58.59it/s, loss=0.0480]\n",
      "Epoch 4 | Training loss: 0.0480, validation accuracy: 0.9793, validation loss: 0.0662\n",
      "100%|██████████| 750/750 [00:13<00:00, 56.47it/s, loss=0.0464]\n",
      "Epoch 5 | Training loss: 0.0464, validation accuracy: 0.9783, validation loss: 0.0724\n",
      "100%|██████████| 750/750 [00:13<00:00, 56.99it/s, loss=0.0443]\n",
      "Epoch 6 | Training loss: 0.0443, validation accuracy: 0.9812, validation loss: 0.0625\n",
      "100%|██████████| 750/750 [00:13<00:00, 56.57it/s, loss=0.0423]\n",
      "Epoch 7 | Training loss: 0.0423, validation accuracy: 0.9802, validation loss: 0.0673\n",
      "100%|██████████| 750/750 [00:13<00:00, 56.23it/s, loss=0.0418]\n",
      "Epoch 8 | Training loss: 0.0418, validation accuracy: 0.9808, validation loss: 0.0633\n",
      "100%|██████████| 750/750 [00:13<00:00, 56.50it/s, loss=0.0398]\n",
      "Epoch 9 | Training loss: 0.0398, validation accuracy: 0.9818, validation loss: 0.0612\n",
      "100%|██████████| 750/750 [00:13<00:00, 55.91it/s, loss=0.0387]\n",
      "Epoch 10 | Training loss: 0.0387, validation accuracy: 0.9812, validation loss: 0.0622\n"
     ]
    }
   ],
   "source": [
    "epochs = 10\n",
    "\n",
    "for epoch in range(epochs):\n",
    "    train_loss = trainer.train_epoch(model, optimizer, dl[\"train\"])\n",
    "    optimizer.finish_epoch()\n",
    "    val_acc, val_loss = trainer.validation(model, dl[\"valid\"])\n",
    "    logger.log(\"Epoch\", epoch+1, \"|\", \n",
    "          f\"Training loss: {train_loss:.4f}, validation accuracy: {val_acc:.4f}, validation loss: {val_loss:.4f}\")"
   ]
  },
  {
   "cell_type": "code",
   "execution_count": 36,
   "metadata": {},
   "outputs": [
    {
     "name": "stdout",
     "output_type": "stream",
     "text": [
      "Train: (0.9895833333333334, 0.035504481708320476)\n",
      "Valid: (0.98125, 0.06216497187719991)\n"
     ]
    }
   ],
   "source": [
    "train_score = trainer.validation(model, dl[\"train\"])\n",
    "valid_score = trainer.validation(model, dl[\"valid\"])\n",
    "logger.log(\"Train:\", train_score)\n",
    "logger.log(\"Valid:\", valid_score)"
   ]
  },
  {
   "cell_type": "code",
   "execution_count": 37,
   "metadata": {},
   "outputs": [
    {
     "name": "stdout",
     "output_type": "stream",
     "text": [
      "CPU times: user 209 ms, sys: 3.57 ms, total: 212 ms\n",
      "Wall time: 81.8 ms\n"
     ]
    }
   ],
   "source": [
    "%%time\n",
    "optimizer.accelerate()"
   ]
  },
  {
   "cell_type": "code",
   "execution_count": 38,
   "metadata": {},
   "outputs": [
    {
     "name": "stdout",
     "output_type": "stream",
     "text": [
      "Train: (0.9901458333333333, 0.03358460598718375)\n",
      "Valid: (0.9815, 0.05974481407242516)\n"
     ]
    }
   ],
   "source": [
    "model_acc = deepcopy(model)\n",
    "optimizer.store_parameters([model_acc.parameters()])\n",
    "model_acc.cuda()\n",
    "train_score = trainer.validation(model_acc, dl[\"train\"])\n",
    "valid_score = trainer.validation(model_acc, dl[\"valid\"])\n",
    "logger.log(\"Train:\", train_score)\n",
    "logger.log(\"Valid:\", valid_score)\n",
    "model_acc.cpu()\n",
    "None"
   ]
  },
  {
   "cell_type": "code",
   "execution_count": 39,
   "metadata": {
    "tags": []
   },
   "outputs": [
    {
     "name": "stdout",
     "output_type": "stream",
     "text": [
      "100%|██████████| 750/750 [00:13<00:00, 57.26it/s, loss=0.0373]\n",
      "Epoch 1 | Training loss: 0.0373, validation accuracy: 0.9820, validation loss: 0.0610\n",
      "100%|██████████| 750/750 [00:12<00:00, 58.22it/s, loss=0.0360]\n",
      "Epoch 2 | Training loss: 0.0360, validation accuracy: 0.9824, validation loss: 0.0626\n",
      "100%|██████████| 750/750 [00:12<00:00, 58.50it/s, loss=0.0350]\n",
      "Epoch 3 | Training loss: 0.0350, validation accuracy: 0.9817, validation loss: 0.0641\n",
      "100%|██████████| 750/750 [00:13<00:00, 57.65it/s, loss=0.0330]\n",
      "Epoch 4 | Training loss: 0.0330, validation accuracy: 0.9827, validation loss: 0.0607\n",
      "100%|██████████| 750/750 [00:12<00:00, 58.24it/s, loss=0.0325]\n",
      "Epoch 5 | Training loss: 0.0325, validation accuracy: 0.9827, validation loss: 0.0600\n",
      "100%|██████████| 750/750 [00:13<00:00, 57.31it/s, loss=0.0316]\n",
      "Epoch 6 | Training loss: 0.0316, validation accuracy: 0.9832, validation loss: 0.0573\n",
      "100%|██████████| 750/750 [00:12<00:00, 58.21it/s, loss=0.0306]\n",
      "Epoch 7 | Training loss: 0.0306, validation accuracy: 0.9832, validation loss: 0.0588\n",
      "100%|██████████| 750/750 [00:12<00:00, 58.04it/s, loss=0.0289]\n",
      "Epoch 8 | Training loss: 0.0289, validation accuracy: 0.9837, validation loss: 0.0573\n",
      "100%|██████████| 750/750 [00:12<00:00, 58.51it/s, loss=0.0288]\n",
      "Epoch 9 | Training loss: 0.0288, validation accuracy: 0.9830, validation loss: 0.0605\n",
      "100%|██████████| 750/750 [00:12<00:00, 58.77it/s, loss=0.0276]\n",
      "Epoch 10 | Training loss: 0.0276, validation accuracy: 0.9808, validation loss: 0.0631\n"
     ]
    }
   ],
   "source": [
    "epochs = 10\n",
    "\n",
    "for epoch in range(epochs):\n",
    "    train_loss = trainer.train_epoch(model, optimizer, dl[\"train\"])\n",
    "    optimizer.finish_epoch()\n",
    "    val_acc, val_loss = trainer.validation(model, dl[\"valid\"])\n",
    "    logger.log(\"Epoch\", epoch+1, \"|\", \n",
    "          f\"Training loss: {train_loss:.4f}, validation accuracy: {val_acc:.4f}, validation loss: {val_loss:.4f}\")"
   ]
  },
  {
   "cell_type": "code",
   "execution_count": 40,
   "metadata": {},
   "outputs": [
    {
     "name": "stdout",
     "output_type": "stream",
     "text": [
      "Train: (0.9910833333333333, 0.02918727777626676)\n",
      "Valid: (0.9808333333333333, 0.06308799447724596)\n"
     ]
    }
   ],
   "source": [
    "train_score = trainer.validation(model, dl[\"train\"])\n",
    "valid_score = trainer.validation(model, dl[\"valid\"])\n",
    "logger.log(\"Train:\", train_score)\n",
    "logger.log(\"Valid:\", valid_score)"
   ]
  },
  {
   "cell_type": "code",
   "execution_count": 41,
   "metadata": {},
   "outputs": [
    {
     "name": "stdout",
     "output_type": "stream",
     "text": [
      "CPU times: user 378 ms, sys: 2.76 ms, total: 380 ms\n",
      "Wall time: 146 ms\n"
     ]
    }
   ],
   "source": [
    "%%time\n",
    "optimizer.accelerate()"
   ]
  },
  {
   "cell_type": "code",
   "execution_count": 42,
   "metadata": {},
   "outputs": [
    {
     "name": "stdout",
     "output_type": "stream",
     "text": [
      "Train: (0.9930416666666667, 0.024613907935951525)\n",
      "Valid: (0.98375, 0.05598679292652135)\n"
     ]
    }
   ],
   "source": [
    "model_acc = deepcopy(model)\n",
    "optimizer.store_parameters([model_acc.parameters()])\n",
    "model_acc.cuda()\n",
    "train_score = trainer.validation(model_acc, dl[\"train\"])\n",
    "valid_score = trainer.validation(model_acc, dl[\"valid\"])\n",
    "logger.log(\"Train:\", train_score)\n",
    "logger.log(\"Valid:\", valid_score)\n",
    "model_acc.cpu()\n",
    "None"
   ]
  },
  {
   "cell_type": "code",
   "execution_count": 43,
   "metadata": {
    "tags": []
   },
   "outputs": [
    {
     "name": "stdout",
     "output_type": "stream",
     "text": [
      "100%|██████████| 750/750 [00:12<00:00, 58.18it/s, loss=0.0273]\n",
      "Epoch 1 | Training loss: 0.0273, validation accuracy: 0.9828, validation loss: 0.0595\n",
      "100%|██████████| 750/750 [00:12<00:00, 58.06it/s, loss=0.0261]\n",
      "Epoch 2 | Training loss: 0.0261, validation accuracy: 0.9844, validation loss: 0.0547\n",
      "100%|██████████| 750/750 [00:13<00:00, 57.61it/s, loss=0.0255]\n",
      "Epoch 3 | Training loss: 0.0255, validation accuracy: 0.9837, validation loss: 0.0559\n",
      "100%|██████████| 750/750 [00:13<00:00, 57.69it/s, loss=0.0241]\n",
      "Epoch 4 | Training loss: 0.0241, validation accuracy: 0.9835, validation loss: 0.0582\n",
      "100%|██████████| 750/750 [00:12<00:00, 57.75it/s, loss=0.0235]\n",
      "Epoch 5 | Training loss: 0.0235, validation accuracy: 0.9842, validation loss: 0.0550\n",
      "100%|██████████| 750/750 [00:13<00:00, 56.71it/s, loss=0.0227]\n",
      "Epoch 6 | Training loss: 0.0227, validation accuracy: 0.9838, validation loss: 0.0572\n",
      "100%|██████████| 750/750 [00:12<00:00, 57.82it/s, loss=0.0220]\n",
      "Epoch 7 | Training loss: 0.0220, validation accuracy: 0.9836, validation loss: 0.0573\n",
      "100%|██████████| 750/750 [00:13<00:00, 57.24it/s, loss=0.0216]\n",
      "Epoch 8 | Training loss: 0.0216, validation accuracy: 0.9840, validation loss: 0.0576\n",
      "100%|██████████| 750/750 [00:13<00:00, 56.92it/s, loss=0.0208]\n",
      "Epoch 9 | Training loss: 0.0208, validation accuracy: 0.9849, validation loss: 0.0571\n",
      "100%|██████████| 750/750 [00:13<00:00, 56.82it/s, loss=0.0204]\n",
      "Epoch 10 | Training loss: 0.0204, validation accuracy: 0.9852, validation loss: 0.0555\n"
     ]
    }
   ],
   "source": [
    "epochs = 10\n",
    "\n",
    "for epoch in range(epochs):\n",
    "    train_loss = trainer.train_epoch(model, optimizer, dl[\"train\"])\n",
    "    optimizer.finish_epoch()\n",
    "    val_acc, val_loss = trainer.validation(model, dl[\"valid\"])\n",
    "    logger.log(\"Epoch\", epoch+1, \"|\", \n",
    "          f\"Training loss: {train_loss:.4f}, validation accuracy: {val_acc:.4f}, validation loss: {val_loss:.4f}\")"
   ]
  },
  {
   "cell_type": "code",
   "execution_count": 44,
   "metadata": {},
   "outputs": [
    {
     "name": "stdout",
     "output_type": "stream",
     "text": [
      "Train: (0.9957083333333333, 0.016038188162783625)\n",
      "Valid: (0.98525, 0.05553407273973183)\n"
     ]
    }
   ],
   "source": [
    "train_score = trainer.validation(model, dl[\"train\"])\n",
    "valid_score = trainer.validation(model, dl[\"valid\"])\n",
    "logger.log(\"Train:\", train_score)\n",
    "logger.log(\"Valid:\", valid_score)"
   ]
  },
  {
   "cell_type": "code",
   "execution_count": 45,
   "metadata": {},
   "outputs": [
    {
     "name": "stdout",
     "output_type": "stream",
     "text": [
      "CPU times: user 126 ms, sys: 228 µs, total: 126 ms\n",
      "Wall time: 45.4 ms\n"
     ]
    }
   ],
   "source": [
    "%%time\n",
    "optimizer.accelerate()"
   ]
  },
  {
   "cell_type": "code",
   "execution_count": 46,
   "metadata": {},
   "outputs": [
    {
     "name": "stdout",
     "output_type": "stream",
     "text": [
      "Train: (0.995875, 0.01646603027166566)\n",
      "Valid: (0.9854166666666667, 0.0537477698623746)\n"
     ]
    }
   ],
   "source": [
    "model_acc = deepcopy(model)\n",
    "optimizer.store_parameters([model_acc.parameters()])\n",
    "model_acc.cuda()\n",
    "train_score = trainer.validation(model_acc, dl[\"train\"])\n",
    "valid_score = trainer.validation(model_acc, dl[\"valid\"])\n",
    "logger.log(\"Train:\", train_score)\n",
    "logger.log(\"Valid:\", valid_score)\n",
    "model_acc.cpu()\n",
    "None"
   ]
  },
  {
   "cell_type": "code",
   "execution_count": 47,
   "metadata": {
    "tags": []
   },
   "outputs": [
    {
     "name": "stdout",
     "output_type": "stream",
     "text": [
      "100%|██████████| 750/750 [00:12<00:00, 58.22it/s, loss=0.0192]\n",
      "Epoch 1 | Training loss: 0.0192, validation accuracy: 0.9847, validation loss: 0.0552\n",
      "100%|██████████| 750/750 [00:12<00:00, 57.98it/s, loss=0.0187]\n",
      "Epoch 2 | Training loss: 0.0187, validation accuracy: 0.9840, validation loss: 0.0576\n",
      "100%|██████████| 750/750 [00:13<00:00, 57.01it/s, loss=0.0180]\n",
      "Epoch 3 | Training loss: 0.0180, validation accuracy: 0.9826, validation loss: 0.0613\n",
      "100%|██████████| 750/750 [00:13<00:00, 55.94it/s, loss=0.0177]\n",
      "Epoch 4 | Training loss: 0.0177, validation accuracy: 0.9827, validation loss: 0.0620\n",
      "100%|██████████| 750/750 [00:13<00:00, 56.52it/s, loss=0.0170]\n",
      "Epoch 5 | Training loss: 0.0170, validation accuracy: 0.9843, validation loss: 0.0571\n",
      "100%|██████████| 750/750 [00:13<00:00, 55.37it/s, loss=0.0161]\n",
      "Epoch 6 | Training loss: 0.0161, validation accuracy: 0.9827, validation loss: 0.0669\n",
      "100%|██████████| 750/750 [00:13<00:00, 56.45it/s, loss=0.0163]\n",
      "Epoch 7 | Training loss: 0.0163, validation accuracy: 0.9845, validation loss: 0.0565\n",
      "100%|██████████| 750/750 [00:13<00:00, 57.32it/s, loss=0.0152]\n",
      "Epoch 8 | Training loss: 0.0152, validation accuracy: 0.9853, validation loss: 0.0567\n",
      "100%|██████████| 750/750 [00:14<00:00, 52.53it/s, loss=0.0147]\n",
      "Epoch 9 | Training loss: 0.0147, validation accuracy: 0.9848, validation loss: 0.0574\n",
      "100%|██████████| 750/750 [00:13<00:00, 55.43it/s, loss=0.0142]\n",
      "Epoch 10 | Training loss: 0.0142, validation accuracy: 0.9846, validation loss: 0.0584\n"
     ]
    }
   ],
   "source": [
    "epochs = 10\n",
    "\n",
    "for epoch in range(epochs):\n",
    "    train_loss = trainer.train_epoch(model, optimizer, dl[\"train\"])\n",
    "    optimizer.finish_epoch()\n",
    "    val_acc, val_loss = trainer.validation(model, dl[\"valid\"])\n",
    "    logger.log(\"Epoch\", epoch+1, \"|\", \n",
    "          f\"Training loss: {train_loss:.4f}, validation accuracy: {val_acc:.4f}, validation loss: {val_loss:.4f}\")"
   ]
  },
  {
   "cell_type": "code",
   "execution_count": 48,
   "metadata": {},
   "outputs": [
    {
     "name": "stdout",
     "output_type": "stream",
     "text": [
      "Train: (0.997, 0.011815481963159982)\n",
      "Valid: (0.9845833333333334, 0.05835768977042365)\n"
     ]
    }
   ],
   "source": [
    "train_score = trainer.validation(model, dl[\"train\"])\n",
    "valid_score = trainer.validation(model, dl[\"valid\"])\n",
    "logger.log(\"Train:\", train_score)\n",
    "logger.log(\"Valid:\", valid_score)"
   ]
  },
  {
   "cell_type": "code",
   "execution_count": 49,
   "metadata": {},
   "outputs": [
    {
     "name": "stdout",
     "output_type": "stream",
     "text": [
      "CPU times: user 256 ms, sys: 7.18 ms, total: 263 ms\n",
      "Wall time: 110 ms\n"
     ]
    }
   ],
   "source": [
    "%%time\n",
    "optimizer.accelerate()"
   ]
  },
  {
   "cell_type": "code",
   "execution_count": 50,
   "metadata": {},
   "outputs": [
    {
     "name": "stdout",
     "output_type": "stream",
     "text": [
      "Train: (0.9973958333333334, 0.011270788766045977)\n",
      "Valid: (0.9853333333333333, 0.05516895678074798)\n"
     ]
    }
   ],
   "source": [
    "model_acc = deepcopy(model)\n",
    "optimizer.store_parameters([model_acc.parameters()])\n",
    "model_acc.cuda()\n",
    "train_score = trainer.validation(model_acc, dl[\"train\"])\n",
    "valid_score = trainer.validation(model_acc, dl[\"valid\"])\n",
    "logger.log(\"Train:\", train_score)\n",
    "logger.log(\"Valid:\", valid_score)\n",
    "model_acc.cpu()\n",
    "None"
   ]
  },
  {
   "cell_type": "code",
   "execution_count": null,
   "metadata": {},
   "outputs": [],
   "source": []
  }
 ],
 "metadata": {
  "kernelspec": {
   "display_name": "Python 3 (Torch)",
   "language": "python",
   "name": "torch"
  },
  "language_info": {
   "codemirror_mode": {
    "name": "ipython",
    "version": 3
   },
   "file_extension": ".py",
   "mimetype": "text/x-python",
   "name": "python",
   "nbconvert_exporter": "python",
   "pygments_lexer": "ipython3",
   "version": "3.8.5"
  }
 },
 "nbformat": 4,
 "nbformat_minor": 4
}
