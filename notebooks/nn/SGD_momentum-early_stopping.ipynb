{
 "cells": [
  {
   "cell_type": "code",
   "execution_count": 1,
   "metadata": {},
   "outputs": [],
   "source": [
    "import sys\n",
    "sys.path.insert(0, \"../..\")"
   ]
  },
  {
   "cell_type": "code",
   "execution_count": 2,
   "metadata": {},
   "outputs": [],
   "source": [
    "import torch\n",
    "from torch import nn\n",
    "import numpy as np\n",
    "from copy import deepcopy\n",
    "\n",
    "from nn_extrapolation import AcceleratedSGD\n",
    "from nn_utils import *"
   ]
  },
  {
   "cell_type": "code",
   "execution_count": 3,
   "metadata": {},
   "outputs": [
    {
     "data": {
      "text/plain": [
       "True"
      ]
     },
     "execution_count": 3,
     "metadata": {},
     "output_type": "execute_result"
    }
   ],
   "source": [
    "torch.cuda.is_available()"
   ]
  },
  {
   "cell_type": "code",
   "execution_count": 4,
   "metadata": {},
   "outputs": [],
   "source": [
    "trainer = Trainer(\n",
    "    device=\"cuda\",\n",
    "    loss_fn=nn.NLLLoss(reduction=\"mean\"),\n",
    "    val_loss_fn=nn.NLLLoss(reduction=\"sum\"),\n",
    ")"
   ]
  },
  {
   "cell_type": "code",
   "execution_count": 5,
   "metadata": {},
   "outputs": [],
   "source": [
    "dl = load_dataset(\n",
    "    dataset=\"mnist\", \n",
    "    root=\"../../../MNIST\", \n",
    "    download=False, \n",
    "    validation_split=0.2,\n",
    "    batch_size=64, \n",
    "    num_workers=2,\n",
    ")"
   ]
  },
  {
   "cell_type": "code",
   "execution_count": 6,
   "metadata": {},
   "outputs": [],
   "source": [
    "def make_model():\n",
    "    return nn.Sequential(\n",
    "        nn.Conv2d(1, 32, 3),\n",
    "        nn.ReLU(),\n",
    "        nn.Conv2d(32, 32, 3),\n",
    "        nn.ReLU(),\n",
    "        nn.MaxPool2d(2),\n",
    "        nn.Conv2d(32, 64, 3),\n",
    "        nn.ReLU(),\n",
    "        nn.Conv2d(64, 64, 3),\n",
    "        nn.ReLU(),\n",
    "        nn.MaxPool2d(2),\n",
    "        nn.Flatten(),\n",
    "        nn.Linear(4*4*64, 128),\n",
    "        nn.ReLU(),\n",
    "        nn.Linear(128, 10),\n",
    "        nn.LogSoftmax(-1),\n",
    "    )"
   ]
  },
  {
   "cell_type": "markdown",
   "metadata": {},
   "source": [
    "## Epoch"
   ]
  },
  {
   "cell_type": "code",
   "execution_count": 7,
   "metadata": {},
   "outputs": [
    {
     "data": {
      "text/plain": [
       "Sequential(\n",
       "  (0): Conv2d(1, 32, kernel_size=(3, 3), stride=(1, 1))\n",
       "  (1): ReLU()\n",
       "  (2): Conv2d(32, 32, kernel_size=(3, 3), stride=(1, 1))\n",
       "  (3): ReLU()\n",
       "  (4): MaxPool2d(kernel_size=2, stride=2, padding=0, dilation=1, ceil_mode=False)\n",
       "  (5): Conv2d(32, 64, kernel_size=(3, 3), stride=(1, 1))\n",
       "  (6): ReLU()\n",
       "  (7): Conv2d(64, 64, kernel_size=(3, 3), stride=(1, 1))\n",
       "  (8): ReLU()\n",
       "  (9): MaxPool2d(kernel_size=2, stride=2, padding=0, dilation=1, ceil_mode=False)\n",
       "  (10): Flatten(start_dim=1, end_dim=-1)\n",
       "  (11): Linear(in_features=1024, out_features=128, bias=True)\n",
       "  (12): ReLU()\n",
       "  (13): Linear(in_features=128, out_features=10, bias=True)\n",
       "  (14): LogSoftmax(dim=-1)\n",
       ")"
      ]
     },
     "execution_count": 7,
     "metadata": {},
     "output_type": "execute_result"
    }
   ],
   "source": [
    "model = make_model()\n",
    "model.to(trainer.device)"
   ]
  },
  {
   "cell_type": "code",
   "execution_count": 8,
   "metadata": {},
   "outputs": [],
   "source": [
    "optimizer = AcceleratedSGD(model.parameters(), 1e-3, k=10, momentum=0.5, weight_decay=1e-5, mode=\"epoch\")\n",
    "logger = Logger(\"SGD_momentum-early_stopping.txt\")"
   ]
  },
  {
   "cell_type": "code",
   "execution_count": 9,
   "metadata": {
    "tags": []
   },
   "outputs": [
    {
     "name": "stdout",
     "output_type": "stream",
     "text": [
      "100%|██████████| 750/750 [00:13<00:00, 53.99it/s, loss=2.2969]\n",
      "Epoch 1 | Training loss: 2.2969, validation accuracy: 0.1784, validation loss: 2.2900\n",
      "100%|██████████| 750/750 [00:13<00:00, 56.42it/s, loss=2.2453]\n",
      "Epoch 2 | Training loss: 2.2453, validation accuracy: 0.6081, validation loss: 2.0571\n",
      "100%|██████████| 750/750 [00:13<00:00, 53.91it/s, loss=0.8322]\n",
      "Epoch 3 | Training loss: 0.8322, validation accuracy: 0.8721, validation loss: 0.4183\n",
      "100%|██████████| 750/750 [00:13<00:00, 56.60it/s, loss=0.3828]\n",
      "Epoch 4 | Training loss: 0.3828, validation accuracy: 0.8999, validation loss: 0.3218\n",
      "100%|██████████| 750/750 [00:15<00:00, 47.66it/s, loss=0.2831]\n",
      "Epoch 5 | Training loss: 0.2831, validation accuracy: 0.9277, validation loss: 0.2429\n",
      "100%|██████████| 750/750 [00:15<00:00, 49.28it/s, loss=0.2190]\n",
      "Epoch 6 | Training loss: 0.2190, validation accuracy: 0.9476, validation loss: 0.1788\n",
      "100%|██████████| 750/750 [00:13<00:00, 55.68it/s, loss=0.1778]\n",
      "Epoch 7 | Training loss: 0.1778, validation accuracy: 0.9533, validation loss: 0.1542\n",
      "100%|██████████| 750/750 [00:14<00:00, 53.46it/s, loss=0.1492]\n",
      "Epoch 8 | Training loss: 0.1492, validation accuracy: 0.9583, validation loss: 0.1394\n",
      "100%|██████████| 750/750 [00:13<00:00, 57.42it/s, loss=0.1306]\n",
      "Epoch 9 | Training loss: 0.1306, validation accuracy: 0.9612, validation loss: 0.1306\n",
      "100%|██████████| 750/750 [00:13<00:00, 54.56it/s, loss=0.1162]\n",
      "Epoch 10 | Training loss: 0.1162, validation accuracy: 0.9617, validation loss: 0.1256\n",
      "100%|██████████| 750/750 [00:13<00:00, 56.05it/s, loss=0.1055]\n",
      "Epoch 11 | Training loss: 0.1055, validation accuracy: 0.9698, validation loss: 0.1055\n",
      "100%|██████████| 750/750 [00:15<00:00, 47.87it/s, loss=0.0959]\n",
      "Epoch 12 | Training loss: 0.0959, validation accuracy: 0.9692, validation loss: 0.1015\n",
      "100%|██████████| 750/750 [00:13<00:00, 56.29it/s, loss=0.0907]\n",
      "Epoch 13 | Training loss: 0.0907, validation accuracy: 0.9708, validation loss: 0.0963\n",
      "100%|██████████| 750/750 [00:13<00:00, 56.75it/s, loss=0.0842]\n",
      "Epoch 14 | Training loss: 0.0842, validation accuracy: 0.9686, validation loss: 0.1026\n",
      "100%|██████████| 750/750 [00:13<00:00, 57.13it/s, loss=0.0793]\n",
      "Epoch 15 | Training loss: 0.0793, validation accuracy: 0.9718, validation loss: 0.0901\n",
      "100%|██████████| 750/750 [00:13<00:00, 56.86it/s, loss=0.0750]\n",
      "Epoch 16 | Training loss: 0.0750, validation accuracy: 0.9750, validation loss: 0.0854\n",
      "100%|██████████| 750/750 [00:13<00:00, 57.35it/s, loss=0.0707]\n",
      "Epoch 17 | Training loss: 0.0707, validation accuracy: 0.9738, validation loss: 0.0861\n",
      "100%|██████████| 750/750 [00:13<00:00, 55.12it/s, loss=0.0670]\n",
      "Epoch 18 | Training loss: 0.0670, validation accuracy: 0.9738, validation loss: 0.0860\n",
      "100%|██████████| 750/750 [00:13<00:00, 56.39it/s, loss=0.0637]\n",
      "Epoch 19 | Training loss: 0.0637, validation accuracy: 0.9747, validation loss: 0.0857\n",
      "100%|██████████| 750/750 [00:13<00:00, 56.19it/s, loss=0.0610]\n",
      "Epoch 20 | Training loss: 0.0610, validation accuracy: 0.9768, validation loss: 0.0791\n",
      "100%|██████████| 750/750 [00:13<00:00, 53.67it/s, loss=0.0579]\n",
      "Epoch 21 | Training loss: 0.0579, validation accuracy: 0.9764, validation loss: 0.0810\n",
      "100%|██████████| 750/750 [00:14<00:00, 51.85it/s, loss=0.0558]\n",
      "Epoch 22 | Training loss: 0.0558, validation accuracy: 0.9774, validation loss: 0.0759\n",
      "100%|██████████| 750/750 [00:14<00:00, 51.92it/s, loss=0.0534]\n",
      "Epoch 23 | Training loss: 0.0534, validation accuracy: 0.9785, validation loss: 0.0725\n",
      "100%|██████████| 750/750 [00:13<00:00, 56.28it/s, loss=0.0510]\n",
      "Epoch 24 | Training loss: 0.0510, validation accuracy: 0.9744, validation loss: 0.0849\n",
      "100%|██████████| 750/750 [00:13<00:00, 55.14it/s, loss=0.0497]\n",
      "Epoch 25 | Training loss: 0.0497, validation accuracy: 0.9792, validation loss: 0.0699\n",
      "100%|██████████| 750/750 [00:13<00:00, 55.36it/s, loss=0.0477]\n",
      "Epoch 26 | Training loss: 0.0477, validation accuracy: 0.9786, validation loss: 0.0734\n",
      "100%|██████████| 750/750 [00:13<00:00, 55.50it/s, loss=0.0456]\n",
      "Epoch 27 | Training loss: 0.0456, validation accuracy: 0.9791, validation loss: 0.0706\n",
      "100%|██████████| 750/750 [00:13<00:00, 55.76it/s, loss=0.0442]\n",
      "Epoch 28 | Training loss: 0.0442, validation accuracy: 0.9817, validation loss: 0.0642\n",
      "100%|██████████| 750/750 [00:13<00:00, 56.06it/s, loss=0.0423]\n",
      "Epoch 29 | Training loss: 0.0423, validation accuracy: 0.9800, validation loss: 0.0691\n",
      "100%|██████████| 750/750 [00:13<00:00, 55.07it/s, loss=0.0421]\n",
      "Epoch 30 | Training loss: 0.0421, validation accuracy: 0.9801, validation loss: 0.0660\n",
      "100%|██████████| 750/750 [00:14<00:00, 52.78it/s, loss=0.0393]\n",
      "Epoch 31 | Training loss: 0.0393, validation accuracy: 0.9813, validation loss: 0.0667\n",
      "100%|██████████| 750/750 [00:13<00:00, 56.39it/s, loss=0.0381]\n",
      "Epoch 32 | Training loss: 0.0381, validation accuracy: 0.9792, validation loss: 0.0691\n",
      "100%|██████████| 750/750 [00:13<00:00, 57.10it/s, loss=0.0375]\n",
      "Epoch 33 | Training loss: 0.0375, validation accuracy: 0.9804, validation loss: 0.0636\n",
      "100%|██████████| 750/750 [00:12<00:00, 58.12it/s, loss=0.0358]\n",
      "Epoch 34 | Training loss: 0.0358, validation accuracy: 0.9820, validation loss: 0.0633\n",
      "100%|██████████| 750/750 [00:12<00:00, 57.84it/s, loss=0.0346]\n",
      "Epoch 35 | Training loss: 0.0346, validation accuracy: 0.9803, validation loss: 0.0651\n",
      "100%|██████████| 750/750 [00:13<00:00, 57.54it/s, loss=0.0338]\n",
      "Epoch 36 | Training loss: 0.0338, validation accuracy: 0.9812, validation loss: 0.0644\n",
      "100%|██████████| 750/750 [00:13<00:00, 54.84it/s, loss=0.0325]\n",
      "Epoch 37 | Training loss: 0.0325, validation accuracy: 0.9815, validation loss: 0.0673\n",
      "100%|██████████| 750/750 [00:13<00:00, 57.67it/s, loss=0.0313]\n",
      "Epoch 38 | Training loss: 0.0313, validation accuracy: 0.9819, validation loss: 0.0607\n",
      "100%|██████████| 750/750 [00:13<00:00, 57.40it/s, loss=0.0301]\n",
      "Epoch 39 | Training loss: 0.0301, validation accuracy: 0.9800, validation loss: 0.0656\n",
      "100%|██████████| 750/750 [00:13<00:00, 55.45it/s, loss=0.0291]\n",
      "Epoch 40 | Training loss: 0.0291, validation accuracy: 0.9828, validation loss: 0.0577\n",
      "100%|██████████| 750/750 [00:12<00:00, 57.73it/s, loss=0.0286]\n",
      "Epoch 41 | Training loss: 0.0286, validation accuracy: 0.9801, validation loss: 0.0639\n",
      "100%|██████████| 750/750 [00:12<00:00, 57.82it/s, loss=0.0277]\n",
      "Epoch 42 | Training loss: 0.0277, validation accuracy: 0.9822, validation loss: 0.0579\n",
      "100%|██████████| 750/750 [00:13<00:00, 57.66it/s, loss=0.0268]\n",
      "Epoch 43 | Training loss: 0.0268, validation accuracy: 0.9828, validation loss: 0.0594\n",
      "100%|██████████| 750/750 [00:13<00:00, 57.56it/s, loss=0.0253]\n",
      "Epoch 44 | Training loss: 0.0253, validation accuracy: 0.9830, validation loss: 0.0576\n",
      "100%|██████████| 750/750 [00:13<00:00, 57.20it/s, loss=0.0245]\n",
      "Epoch 45 | Training loss: 0.0245, validation accuracy: 0.9817, validation loss: 0.0599\n",
      "100%|██████████| 750/750 [00:13<00:00, 57.00it/s, loss=0.0237]\n",
      "Epoch 46 | Training loss: 0.0237, validation accuracy: 0.9836, validation loss: 0.0569\n",
      "100%|██████████| 750/750 [00:12<00:00, 58.19it/s, loss=0.0233]\n",
      "Epoch 47 | Training loss: 0.0233, validation accuracy: 0.9818, validation loss: 0.0593\n",
      "100%|██████████| 750/750 [00:12<00:00, 58.47it/s, loss=0.0221]\n",
      "Epoch 48 | Training loss: 0.0221, validation accuracy: 0.9828, validation loss: 0.0603\n",
      "100%|██████████| 750/750 [00:13<00:00, 57.57it/s, loss=0.0217]\n",
      "Epoch 49 | Training loss: 0.0217, validation accuracy: 0.9808, validation loss: 0.0652\n",
      "100%|██████████| 750/750 [00:12<00:00, 58.22it/s, loss=0.0205]\n",
      "Epoch 50 | Training loss: 0.0205, validation accuracy: 0.9832, validation loss: 0.0596\n",
      "100%|██████████| 750/750 [00:12<00:00, 58.70it/s, loss=0.0202]\n",
      "Epoch 51 | Training loss: 0.0202, validation accuracy: 0.9836, validation loss: 0.0581\n"
     ]
    }
   ],
   "source": [
    "epochs = 1000\n",
    "early_stopping = EarlyStopping(5)\n",
    "\n",
    "for epoch in range(epochs):\n",
    "    train_loss = trainer.train_epoch(model, optimizer, dl[\"train\"])\n",
    "    optimizer.finish_epoch()\n",
    "    val_acc, val_loss = trainer.validation(model, dl[\"valid\"])\n",
    "    logger.log(\"Epoch\", epoch+1, \"|\", \n",
    "          f\"Training loss: {train_loss:.4f}, validation accuracy: {val_acc:.4f}, validation loss: {val_loss:.4f}\")\n",
    "    if early_stopping.should_stop(val_loss):\n",
    "        break"
   ]
  },
  {
   "cell_type": "code",
   "execution_count": 10,
   "metadata": {},
   "outputs": [
    {
     "name": "stdout",
     "output_type": "stream",
     "text": [
      "Train: (0.9950416666666667, 0.017324160625071576)\n",
      "Valid: (0.9835833333333334, 0.058141735661192795)\n"
     ]
    }
   ],
   "source": [
    "train_score = trainer.validation(model, dl[\"train\"])\n",
    "valid_score = trainer.validation(model, dl[\"valid\"])\n",
    "logger.log(\"Train:\", train_score)\n",
    "logger.log(\"Valid:\", valid_score)"
   ]
  },
  {
   "cell_type": "code",
   "execution_count": 11,
   "metadata": {},
   "outputs": [],
   "source": [
    "optimizer.accelerate()"
   ]
  },
  {
   "cell_type": "code",
   "execution_count": 12,
   "metadata": {},
   "outputs": [],
   "source": [
    "optimizer.store_parameters()\n",
    "model.cuda()\n",
    "None"
   ]
  },
  {
   "cell_type": "code",
   "execution_count": 13,
   "metadata": {},
   "outputs": [
    {
     "name": "stdout",
     "output_type": "stream",
     "text": [
      "Train: (0.9957291666666667, 0.016117793002359878)\n",
      "Valid: (0.9838333333333333, 0.05537520078022499)\n"
     ]
    }
   ],
   "source": [
    "train_score = trainer.validation(model, dl[\"train\"])\n",
    "valid_score = trainer.validation(model, dl[\"valid\"])\n",
    "logger.log(\"Train:\", train_score)\n",
    "logger.log(\"Valid:\", valid_score)"
   ]
  },
  {
   "cell_type": "markdown",
   "metadata": {},
   "source": [
    "## Epoch average"
   ]
  },
  {
   "cell_type": "code",
   "execution_count": 14,
   "metadata": {},
   "outputs": [],
   "source": [
    "model = make_model()\n",
    "model.cuda()\n",
    "optimizer = AcceleratedSGD(model.parameters(), 1e-3, k=10, momentum=0.5, weight_decay=1e-5, mode=\"epoch_avg\")\n",
    "logger = Logger(\"SGD_momentum-avg-early_stopping.txt\")"
   ]
  },
  {
   "cell_type": "code",
   "execution_count": 15,
   "metadata": {
    "tags": []
   },
   "outputs": [
    {
     "name": "stdout",
     "output_type": "stream",
     "text": [
      "100%|██████████| 750/750 [00:13<00:00, 56.48it/s, loss=2.2899]\n",
      "Epoch 1 | Training loss: 2.2899, validation accuracy: 0.2827, validation loss: 2.2619\n",
      "100%|██████████| 750/750 [00:12<00:00, 58.20it/s, loss=1.5885]\n",
      "Epoch 2 | Training loss: 1.5885, validation accuracy: 0.8377, validation loss: 0.5387\n",
      "100%|██████████| 750/750 [00:12<00:00, 58.04it/s, loss=0.4524]\n",
      "Epoch 3 | Training loss: 0.4524, validation accuracy: 0.8868, validation loss: 0.3528\n",
      "100%|██████████| 750/750 [00:12<00:00, 58.25it/s, loss=0.3197]\n",
      "Epoch 4 | Training loss: 0.3197, validation accuracy: 0.9276, validation loss: 0.2424\n",
      "100%|██████████| 750/750 [00:13<00:00, 57.46it/s, loss=0.2461]\n",
      "Epoch 5 | Training loss: 0.2461, validation accuracy: 0.9359, validation loss: 0.2142\n",
      "100%|██████████| 750/750 [00:13<00:00, 54.11it/s, loss=0.2004]\n",
      "Epoch 6 | Training loss: 0.2004, validation accuracy: 0.9508, validation loss: 0.1683\n",
      "100%|██████████| 750/750 [00:13<00:00, 57.08it/s, loss=0.1650]\n",
      "Epoch 7 | Training loss: 0.1650, validation accuracy: 0.9566, validation loss: 0.1514\n",
      "100%|██████████| 750/750 [00:12<00:00, 58.01it/s, loss=0.1420]\n",
      "Epoch 8 | Training loss: 0.1420, validation accuracy: 0.9578, validation loss: 0.1376\n",
      "100%|██████████| 750/750 [00:12<00:00, 57.85it/s, loss=0.1254]\n",
      "Epoch 9 | Training loss: 0.1254, validation accuracy: 0.9652, validation loss: 0.1165\n",
      "100%|██████████| 750/750 [00:12<00:00, 57.70it/s, loss=0.1100]\n",
      "Epoch 10 | Training loss: 0.1100, validation accuracy: 0.9662, validation loss: 0.1136\n",
      "100%|██████████| 750/750 [00:13<00:00, 57.37it/s, loss=0.1009]\n",
      "Epoch 11 | Training loss: 0.1009, validation accuracy: 0.9698, validation loss: 0.1057\n",
      "100%|██████████| 750/750 [00:13<00:00, 56.99it/s, loss=0.0911]\n",
      "Epoch 12 | Training loss: 0.0911, validation accuracy: 0.9727, validation loss: 0.0911\n",
      "100%|██████████| 750/750 [00:12<00:00, 57.89it/s, loss=0.0850]\n",
      "Epoch 13 | Training loss: 0.0850, validation accuracy: 0.9722, validation loss: 0.0939\n",
      "100%|██████████| 750/750 [00:13<00:00, 55.49it/s, loss=0.0793]\n",
      "Epoch 14 | Training loss: 0.0793, validation accuracy: 0.9740, validation loss: 0.0915\n",
      "100%|██████████| 750/750 [00:13<00:00, 55.56it/s, loss=0.0735]\n",
      "Epoch 15 | Training loss: 0.0735, validation accuracy: 0.9748, validation loss: 0.0819\n",
      "100%|██████████| 750/750 [00:13<00:00, 57.35it/s, loss=0.0703]\n",
      "Epoch 16 | Training loss: 0.0703, validation accuracy: 0.9756, validation loss: 0.0815\n",
      "100%|██████████| 750/750 [00:13<00:00, 56.11it/s, loss=0.0659]\n",
      "Epoch 17 | Training loss: 0.0659, validation accuracy: 0.9778, validation loss: 0.0740\n",
      "100%|██████████| 750/750 [00:13<00:00, 57.63it/s, loss=0.0629]\n",
      "Epoch 18 | Training loss: 0.0629, validation accuracy: 0.9788, validation loss: 0.0738\n",
      "100%|██████████| 750/750 [00:13<00:00, 57.46it/s, loss=0.0603]\n",
      "Epoch 19 | Training loss: 0.0603, validation accuracy: 0.9764, validation loss: 0.0781\n",
      "100%|██████████| 750/750 [00:13<00:00, 55.94it/s, loss=0.0570]\n",
      "Epoch 20 | Training loss: 0.0570, validation accuracy: 0.9784, validation loss: 0.0728\n",
      "100%|██████████| 750/750 [00:14<00:00, 51.81it/s, loss=0.0547]\n",
      "Epoch 21 | Training loss: 0.0547, validation accuracy: 0.9789, validation loss: 0.0678\n",
      "100%|██████████| 750/750 [00:13<00:00, 56.05it/s, loss=0.0527]\n",
      "Epoch 22 | Training loss: 0.0527, validation accuracy: 0.9789, validation loss: 0.0684\n",
      "100%|██████████| 750/750 [00:13<00:00, 56.27it/s, loss=0.0505]\n",
      "Epoch 23 | Training loss: 0.0505, validation accuracy: 0.9796, validation loss: 0.0684\n",
      "100%|██████████| 750/750 [00:13<00:00, 57.33it/s, loss=0.0481]\n",
      "Epoch 24 | Training loss: 0.0481, validation accuracy: 0.9792, validation loss: 0.0659\n",
      "100%|██████████| 750/750 [00:13<00:00, 56.95it/s, loss=0.0463]\n",
      "Epoch 25 | Training loss: 0.0463, validation accuracy: 0.9804, validation loss: 0.0640\n",
      "100%|██████████| 750/750 [00:13<00:00, 56.72it/s, loss=0.0445]\n",
      "Epoch 26 | Training loss: 0.0445, validation accuracy: 0.9728, validation loss: 0.0878\n",
      "100%|██████████| 750/750 [00:13<00:00, 56.89it/s, loss=0.0435]\n",
      "Epoch 27 | Training loss: 0.0435, validation accuracy: 0.9804, validation loss: 0.0625\n",
      "100%|██████████| 750/750 [00:13<00:00, 56.67it/s, loss=0.0412]\n",
      "Epoch 28 | Training loss: 0.0412, validation accuracy: 0.9787, validation loss: 0.0636\n",
      "100%|██████████| 750/750 [00:13<00:00, 57.02it/s, loss=0.0404]\n",
      "Epoch 29 | Training loss: 0.0404, validation accuracy: 0.9812, validation loss: 0.0613\n",
      "100%|██████████| 750/750 [00:13<00:00, 56.85it/s, loss=0.0386]\n",
      "Epoch 30 | Training loss: 0.0386, validation accuracy: 0.9812, validation loss: 0.0591\n",
      "100%|██████████| 750/750 [00:13<00:00, 57.13it/s, loss=0.0371]\n",
      "Epoch 31 | Training loss: 0.0371, validation accuracy: 0.9820, validation loss: 0.0595\n",
      "100%|██████████| 750/750 [00:13<00:00, 56.98it/s, loss=0.0359]\n",
      "Epoch 32 | Training loss: 0.0359, validation accuracy: 0.9809, validation loss: 0.0598\n",
      "100%|██████████| 750/750 [00:13<00:00, 57.24it/s, loss=0.0339]\n",
      "Epoch 33 | Training loss: 0.0339, validation accuracy: 0.9819, validation loss: 0.0617\n",
      "100%|██████████| 750/750 [00:13<00:00, 56.99it/s, loss=0.0337]\n",
      "Epoch 34 | Training loss: 0.0337, validation accuracy: 0.9822, validation loss: 0.0608\n",
      "100%|██████████| 750/750 [00:13<00:00, 56.94it/s, loss=0.0324]\n",
      "Epoch 35 | Training loss: 0.0324, validation accuracy: 0.9831, validation loss: 0.0586\n",
      "100%|██████████| 750/750 [00:13<00:00, 57.07it/s, loss=0.0315]\n",
      "Epoch 36 | Training loss: 0.0315, validation accuracy: 0.9818, validation loss: 0.0598\n",
      "100%|██████████| 750/750 [00:13<00:00, 56.71it/s, loss=0.0301]\n",
      "Epoch 37 | Training loss: 0.0301, validation accuracy: 0.9791, validation loss: 0.0667\n",
      "100%|██████████| 750/750 [00:13<00:00, 57.08it/s, loss=0.0291]\n",
      "Epoch 38 | Training loss: 0.0291, validation accuracy: 0.9826, validation loss: 0.0617\n",
      "100%|██████████| 750/750 [00:13<00:00, 57.07it/s, loss=0.0280]\n",
      "Epoch 39 | Training loss: 0.0280, validation accuracy: 0.9837, validation loss: 0.0570\n",
      "100%|██████████| 750/750 [00:13<00:00, 56.62it/s, loss=0.0275]\n",
      "Epoch 40 | Training loss: 0.0275, validation accuracy: 0.9842, validation loss: 0.0553\n",
      "100%|██████████| 750/750 [00:13<00:00, 56.86it/s, loss=0.0267]\n",
      "Epoch 41 | Training loss: 0.0267, validation accuracy: 0.9818, validation loss: 0.0593\n",
      "100%|██████████| 750/750 [00:13<00:00, 56.68it/s, loss=0.0255]\n",
      "Epoch 42 | Training loss: 0.0255, validation accuracy: 0.9827, validation loss: 0.0595\n",
      "100%|██████████| 750/750 [00:13<00:00, 57.01it/s, loss=0.0252]\n",
      "Epoch 43 | Training loss: 0.0252, validation accuracy: 0.9842, validation loss: 0.0542\n",
      "100%|██████████| 750/750 [00:13<00:00, 57.13it/s, loss=0.0244]\n",
      "Epoch 44 | Training loss: 0.0244, validation accuracy: 0.9832, validation loss: 0.0576\n",
      "100%|██████████| 750/750 [00:13<00:00, 57.02it/s, loss=0.0233]\n",
      "Epoch 45 | Training loss: 0.0233, validation accuracy: 0.9834, validation loss: 0.0568\n",
      "100%|██████████| 750/750 [00:13<00:00, 57.14it/s, loss=0.0230]\n",
      "Epoch 46 | Training loss: 0.0230, validation accuracy: 0.9823, validation loss: 0.0603\n",
      "100%|██████████| 750/750 [00:13<00:00, 57.01it/s, loss=0.0214]\n",
      "Epoch 47 | Training loss: 0.0214, validation accuracy: 0.9817, validation loss: 0.0647\n",
      "100%|██████████| 750/750 [00:13<00:00, 56.78it/s, loss=0.0208]\n",
      "Epoch 48 | Training loss: 0.0208, validation accuracy: 0.9842, validation loss: 0.0563\n"
     ]
    }
   ],
   "source": [
    "epochs = 1000\n",
    "early_stopping = EarlyStopping(5)\n",
    "\n",
    "for epoch in range(epochs):\n",
    "    train_loss = trainer.train_epoch(model, optimizer, dl[\"train\"])\n",
    "    optimizer.finish_epoch()\n",
    "    val_acc, val_loss = trainer.validation(model, dl[\"valid\"])\n",
    "    logger.log(\"Epoch\", epoch+1, \"|\", \n",
    "          f\"Training loss: {train_loss:.4f}, validation accuracy: {val_acc:.4f}, validation loss: {val_loss:.4f}\")\n",
    "    if early_stopping.should_stop(val_loss):\n",
    "        break"
   ]
  },
  {
   "cell_type": "code",
   "execution_count": 16,
   "metadata": {},
   "outputs": [
    {
     "name": "stdout",
     "output_type": "stream",
     "text": [
      "Train: (0.9936666666666667, 0.01943125759270818)\n",
      "Valid: (0.9841666666666666, 0.056276748875854536)\n"
     ]
    }
   ],
   "source": [
    "train_score = trainer.validation(model, dl[\"train\"])\n",
    "valid_score = trainer.validation(model, dl[\"valid\"])\n",
    "logger.log(\"Train:\", train_score)\n",
    "logger.log(\"Valid:\", valid_score)"
   ]
  },
  {
   "cell_type": "code",
   "execution_count": 17,
   "metadata": {},
   "outputs": [],
   "source": [
    "optimizer.accelerate()"
   ]
  },
  {
   "cell_type": "code",
   "execution_count": 18,
   "metadata": {},
   "outputs": [],
   "source": [
    "optimizer.store_parameters()\n",
    "model.cuda()\n",
    "None"
   ]
  },
  {
   "cell_type": "code",
   "execution_count": 19,
   "metadata": {},
   "outputs": [
    {
     "name": "stdout",
     "output_type": "stream",
     "text": [
      "Train: (0.9914583333333333, 0.028339443065226077)\n",
      "Valid: (0.9831666666666666, 0.056663194953463975)\n"
     ]
    }
   ],
   "source": [
    "train_score = trainer.validation(model, dl[\"train\"])\n",
    "valid_score = trainer.validation(model, dl[\"valid\"])\n",
    "logger.log(\"Train:\", train_score)\n",
    "logger.log(\"Valid:\", valid_score)"
   ]
  },
  {
   "cell_type": "markdown",
   "metadata": {},
   "source": [
    "## Epoch average, with span = 100"
   ]
  },
  {
   "cell_type": "code",
   "execution_count": 7,
   "metadata": {},
   "outputs": [],
   "source": [
    "model = make_model()\n",
    "model.cuda()\n",
    "optimizer = AcceleratedSGD(model.parameters(), 1e-3, k=10, momentum=0.5, weight_decay=1e-5, mode=\"epoch_avg\", avg_alpha = (2 / (100 + 1)))\n",
    "logger = Logger(\"SGD_momentum-avg_span_100-early_stopping.txt\")"
   ]
  },
  {
   "cell_type": "code",
   "execution_count": 8,
   "metadata": {},
   "outputs": [
    {
     "name": "stdout",
     "output_type": "stream",
     "text": [
      "100%|██████████| 750/750 [00:14<00:00, 53.57it/s, loss=2.2937]\n",
      "Epoch 1 | Training loss: 2.2937, validation accuracy: 0.2708, validation loss: 2.2780\n",
      "100%|██████████| 750/750 [00:15<00:00, 48.73it/s, loss=1.9645]\n",
      "Epoch 2 | Training loss: 1.9645, validation accuracy: 0.7950, validation loss: 0.7574\n",
      "100%|██████████| 750/750 [00:16<00:00, 45.69it/s, loss=0.5181]\n",
      "Epoch 3 | Training loss: 0.5181, validation accuracy: 0.8860, validation loss: 0.3746\n",
      "100%|██████████| 750/750 [00:16<00:00, 44.13it/s, loss=0.3462]\n",
      "Epoch 4 | Training loss: 0.3462, validation accuracy: 0.9165, validation loss: 0.2812\n",
      "100%|██████████| 750/750 [00:16<00:00, 46.22it/s, loss=0.2619]\n",
      "Epoch 5 | Training loss: 0.2619, validation accuracy: 0.9308, validation loss: 0.2287\n",
      "100%|██████████| 750/750 [00:15<00:00, 47.46it/s, loss=0.2093]\n",
      "Epoch 6 | Training loss: 0.2093, validation accuracy: 0.9463, validation loss: 0.1798\n",
      "100%|██████████| 750/750 [00:16<00:00, 46.15it/s, loss=0.1720]\n",
      "Epoch 7 | Training loss: 0.1720, validation accuracy: 0.9532, validation loss: 0.1594\n",
      "100%|██████████| 750/750 [00:16<00:00, 46.61it/s, loss=0.1463]\n",
      "Epoch 8 | Training loss: 0.1463, validation accuracy: 0.9583, validation loss: 0.1426\n",
      "100%|██████████| 750/750 [00:16<00:00, 44.99it/s, loss=0.1288]\n",
      "Epoch 9 | Training loss: 0.1288, validation accuracy: 0.9643, validation loss: 0.1170\n",
      "100%|██████████| 750/750 [00:15<00:00, 47.23it/s, loss=0.1153]\n",
      "Epoch 10 | Training loss: 0.1153, validation accuracy: 0.9667, validation loss: 0.1155\n",
      "100%|██████████| 750/750 [00:16<00:00, 45.61it/s, loss=0.1050]\n",
      "Epoch 11 | Training loss: 0.1050, validation accuracy: 0.9680, validation loss: 0.1096\n",
      "100%|██████████| 750/750 [00:16<00:00, 46.22it/s, loss=0.0958]\n",
      "Epoch 12 | Training loss: 0.0958, validation accuracy: 0.9718, validation loss: 0.0973\n",
      "100%|██████████| 750/750 [00:15<00:00, 46.90it/s, loss=0.0887]\n",
      "Epoch 13 | Training loss: 0.0887, validation accuracy: 0.9721, validation loss: 0.0952\n",
      "100%|██████████| 750/750 [00:15<00:00, 49.18it/s, loss=0.0832]\n",
      "Epoch 14 | Training loss: 0.0832, validation accuracy: 0.9728, validation loss: 0.0957\n",
      "100%|██████████| 750/750 [00:13<00:00, 53.71it/s, loss=0.0784]\n",
      "Epoch 15 | Training loss: 0.0784, validation accuracy: 0.9753, validation loss: 0.0869\n",
      "100%|██████████| 750/750 [00:14<00:00, 53.47it/s, loss=0.0737]\n",
      "Epoch 16 | Training loss: 0.0737, validation accuracy: 0.9726, validation loss: 0.0908\n",
      "100%|██████████| 750/750 [00:13<00:00, 54.61it/s, loss=0.0695]\n",
      "Epoch 17 | Training loss: 0.0695, validation accuracy: 0.9770, validation loss: 0.0813\n",
      "100%|██████████| 750/750 [00:13<00:00, 55.03it/s, loss=0.0663]\n",
      "Epoch 18 | Training loss: 0.0663, validation accuracy: 0.9762, validation loss: 0.0801\n",
      "100%|██████████| 750/750 [00:13<00:00, 55.02it/s, loss=0.0633]\n",
      "Epoch 19 | Training loss: 0.0633, validation accuracy: 0.9771, validation loss: 0.0774\n",
      "100%|██████████| 750/750 [00:13<00:00, 54.58it/s, loss=0.0595]\n",
      "Epoch 20 | Training loss: 0.0595, validation accuracy: 0.9774, validation loss: 0.0786\n",
      "100%|██████████| 750/750 [00:13<00:00, 54.88it/s, loss=0.0578]\n",
      "Epoch 21 | Training loss: 0.0578, validation accuracy: 0.9768, validation loss: 0.0746\n",
      "100%|██████████| 750/750 [00:13<00:00, 54.67it/s, loss=0.0546]\n",
      "Epoch 22 | Training loss: 0.0546, validation accuracy: 0.9793, validation loss: 0.0708\n",
      "100%|██████████| 750/750 [00:14<00:00, 52.43it/s, loss=0.0532]\n",
      "Epoch 23 | Training loss: 0.0532, validation accuracy: 0.9788, validation loss: 0.0716\n",
      "100%|██████████| 750/750 [00:13<00:00, 53.85it/s, loss=0.0510]\n",
      "Epoch 24 | Training loss: 0.0510, validation accuracy: 0.9785, validation loss: 0.0681\n",
      "100%|██████████| 750/750 [00:14<00:00, 51.99it/s, loss=0.0482]\n",
      "Epoch 25 | Training loss: 0.0482, validation accuracy: 0.9804, validation loss: 0.0690\n",
      "100%|██████████| 750/750 [00:14<00:00, 51.11it/s, loss=0.0470]\n",
      "Epoch 26 | Training loss: 0.0470, validation accuracy: 0.9805, validation loss: 0.0675\n",
      "100%|██████████| 750/750 [00:13<00:00, 54.48it/s, loss=0.0448]\n",
      "Epoch 27 | Training loss: 0.0448, validation accuracy: 0.9816, validation loss: 0.0646\n",
      "100%|██████████| 750/750 [00:13<00:00, 53.94it/s, loss=0.0434]\n",
      "Epoch 28 | Training loss: 0.0434, validation accuracy: 0.9822, validation loss: 0.0635\n",
      "100%|██████████| 750/750 [00:13<00:00, 55.01it/s, loss=0.0421]\n",
      "Epoch 29 | Training loss: 0.0421, validation accuracy: 0.9826, validation loss: 0.0613\n",
      "100%|██████████| 750/750 [00:12<00:00, 59.10it/s, loss=0.0400]\n",
      "Epoch 30 | Training loss: 0.0400, validation accuracy: 0.9795, validation loss: 0.0714\n",
      "100%|██████████| 750/750 [00:12<00:00, 58.44it/s, loss=0.0383]\n",
      "Epoch 31 | Training loss: 0.0383, validation accuracy: 0.9823, validation loss: 0.0602\n",
      "100%|██████████| 750/750 [00:13<00:00, 57.10it/s, loss=0.0376]\n",
      "Epoch 32 | Training loss: 0.0376, validation accuracy: 0.9827, validation loss: 0.0591\n",
      "100%|██████████| 750/750 [00:12<00:00, 57.92it/s, loss=0.0358]\n",
      "Epoch 33 | Training loss: 0.0358, validation accuracy: 0.9837, validation loss: 0.0586\n",
      "100%|██████████| 750/750 [00:13<00:00, 57.14it/s, loss=0.0355]\n",
      "Epoch 34 | Training loss: 0.0355, validation accuracy: 0.9816, validation loss: 0.0638\n",
      "100%|██████████| 750/750 [00:12<00:00, 58.15it/s, loss=0.0333]\n",
      "Epoch 35 | Training loss: 0.0333, validation accuracy: 0.9811, validation loss: 0.0644\n",
      "100%|██████████| 750/750 [00:12<00:00, 58.69it/s, loss=0.0329]\n",
      "Epoch 36 | Training loss: 0.0329, validation accuracy: 0.9792, validation loss: 0.0691\n",
      "100%|██████████| 750/750 [00:13<00:00, 56.08it/s, loss=0.0316]\n",
      "Epoch 37 | Training loss: 0.0316, validation accuracy: 0.9813, validation loss: 0.0605\n",
      "100%|██████████| 750/750 [00:13<00:00, 57.54it/s, loss=0.0305]\n",
      "Epoch 38 | Training loss: 0.0305, validation accuracy: 0.9816, validation loss: 0.0636\n"
     ]
    }
   ],
   "source": [
    "epochs = 1000\n",
    "early_stopping = EarlyStopping(5)\n",
    "\n",
    "for epoch in range(epochs):\n",
    "    train_loss = trainer.train_epoch(model, optimizer, dl[\"train\"])\n",
    "    optimizer.finish_epoch()\n",
    "    val_acc, val_loss = trainer.validation(model, dl[\"valid\"])\n",
    "    logger.log(\"Epoch\", epoch+1, \"|\", \n",
    "          f\"Training loss: {train_loss:.4f}, validation accuracy: {val_acc:.4f}, validation loss: {val_loss:.4f}\")\n",
    "    if early_stopping.should_stop(val_loss):\n",
    "        break"
   ]
  },
  {
   "cell_type": "code",
   "execution_count": 9,
   "metadata": {},
   "outputs": [
    {
     "name": "stdout",
     "output_type": "stream",
     "text": [
      "Train: (0.9903958333333334, 0.03071345314880212)\n",
      "Valid: (0.9815833333333334, 0.06359571423769618)\n"
     ]
    }
   ],
   "source": [
    "train_score = trainer.validation(model, dl[\"train\"])\n",
    "valid_score = trainer.validation(model, dl[\"valid\"])\n",
    "logger.log(\"Train:\", train_score)\n",
    "logger.log(\"Valid:\", valid_score)"
   ]
  },
  {
   "cell_type": "code",
   "execution_count": 10,
   "metadata": {},
   "outputs": [],
   "source": [
    "optimizer.accelerate()"
   ]
  },
  {
   "cell_type": "code",
   "execution_count": 11,
   "metadata": {},
   "outputs": [],
   "source": [
    "optimizer.store_parameters()\n",
    "model.cuda()\n",
    "None"
   ]
  },
  {
   "cell_type": "code",
   "execution_count": 12,
   "metadata": {},
   "outputs": [
    {
     "name": "stdout",
     "output_type": "stream",
     "text": [
      "Train: (0.9930833333333333, 0.02502107828987452)\n",
      "Valid: (0.9835833333333334, 0.05615078301091368)\n"
     ]
    }
   ],
   "source": [
    "train_score = trainer.validation(model, dl[\"train\"])\n",
    "valid_score = trainer.validation(model, dl[\"valid\"])\n",
    "logger.log(\"Train:\", train_score)\n",
    "logger.log(\"Valid:\", valid_score)"
   ]
  },
  {
   "cell_type": "markdown",
   "metadata": {},
   "source": [
    "## Epoch average, with span = 50"
   ]
  },
  {
   "cell_type": "code",
   "execution_count": 13,
   "metadata": {},
   "outputs": [],
   "source": [
    "model = make_model()\n",
    "model.cuda()\n",
    "optimizer = AcceleratedSGD(model.parameters(), 1e-3, k=10, momentum=0.5, weight_decay=1e-5, mode=\"epoch_avg\", avg_alpha = (2 / (50 + 1)))\n",
    "logger = Logger(\"SGD_momentum-avg_span_50-early_stopping.txt\")"
   ]
  },
  {
   "cell_type": "code",
   "execution_count": 14,
   "metadata": {},
   "outputs": [
    {
     "name": "stdout",
     "output_type": "stream",
     "text": [
      "100%|██████████| 750/750 [00:13<00:00, 57.28it/s, loss=2.2874]\n",
      "Epoch 1 | Training loss: 2.2874, validation accuracy: 0.1900, validation loss: 2.2533\n",
      "100%|██████████| 750/750 [00:13<00:00, 56.53it/s, loss=1.4535]\n",
      "Epoch 2 | Training loss: 1.4535, validation accuracy: 0.8669, validation loss: 0.4567\n",
      "100%|██████████| 750/750 [00:13<00:00, 56.69it/s, loss=0.3980]\n",
      "Epoch 3 | Training loss: 0.3980, validation accuracy: 0.9013, validation loss: 0.3134\n",
      "100%|██████████| 750/750 [00:13<00:00, 57.25it/s, loss=0.2835]\n",
      "Epoch 4 | Training loss: 0.2835, validation accuracy: 0.9335, validation loss: 0.2258\n",
      "100%|██████████| 750/750 [00:12<00:00, 58.00it/s, loss=0.2180]\n",
      "Epoch 5 | Training loss: 0.2180, validation accuracy: 0.9447, validation loss: 0.1834\n",
      "100%|██████████| 750/750 [00:12<00:00, 58.11it/s, loss=0.1757]\n",
      "Epoch 6 | Training loss: 0.1757, validation accuracy: 0.9534, validation loss: 0.1566\n",
      "100%|██████████| 750/750 [00:13<00:00, 56.82it/s, loss=0.1474]\n",
      "Epoch 7 | Training loss: 0.1474, validation accuracy: 0.9578, validation loss: 0.1407\n",
      "100%|██████████| 750/750 [00:12<00:00, 58.86it/s, loss=0.1282]\n",
      "Epoch 8 | Training loss: 0.1282, validation accuracy: 0.9639, validation loss: 0.1206\n",
      "100%|██████████| 750/750 [00:12<00:00, 58.62it/s, loss=0.1140]\n",
      "Epoch 9 | Training loss: 0.1140, validation accuracy: 0.9658, validation loss: 0.1155\n",
      "100%|██████████| 750/750 [00:12<00:00, 57.87it/s, loss=0.1036]\n",
      "Epoch 10 | Training loss: 0.1036, validation accuracy: 0.9664, validation loss: 0.1098\n",
      "100%|██████████| 750/750 [00:12<00:00, 58.09it/s, loss=0.0957]\n",
      "Epoch 11 | Training loss: 0.0957, validation accuracy: 0.9732, validation loss: 0.0928\n",
      "100%|██████████| 750/750 [00:13<00:00, 57.43it/s, loss=0.0883]\n",
      "Epoch 12 | Training loss: 0.0883, validation accuracy: 0.9722, validation loss: 0.0945\n",
      "100%|██████████| 750/750 [00:12<00:00, 58.39it/s, loss=0.0835]\n",
      "Epoch 13 | Training loss: 0.0835, validation accuracy: 0.9762, validation loss: 0.0847\n",
      "100%|██████████| 750/750 [00:12<00:00, 58.79it/s, loss=0.0774]\n",
      "Epoch 14 | Training loss: 0.0774, validation accuracy: 0.9711, validation loss: 0.0918\n",
      "100%|██████████| 750/750 [00:12<00:00, 58.50it/s, loss=0.0732]\n",
      "Epoch 15 | Training loss: 0.0732, validation accuracy: 0.9744, validation loss: 0.0878\n",
      "100%|██████████| 750/750 [00:12<00:00, 58.83it/s, loss=0.0702]\n",
      "Epoch 16 | Training loss: 0.0702, validation accuracy: 0.9751, validation loss: 0.0822\n",
      "100%|██████████| 750/750 [00:12<00:00, 58.69it/s, loss=0.0668]\n",
      "Epoch 17 | Training loss: 0.0668, validation accuracy: 0.9760, validation loss: 0.0801\n",
      "100%|██████████| 750/750 [00:12<00:00, 58.52it/s, loss=0.0635]\n",
      "Epoch 18 | Training loss: 0.0635, validation accuracy: 0.9753, validation loss: 0.0844\n",
      "100%|██████████| 750/750 [00:12<00:00, 58.74it/s, loss=0.0616]\n",
      "Epoch 19 | Training loss: 0.0616, validation accuracy: 0.9766, validation loss: 0.0820\n",
      "100%|██████████| 750/750 [00:12<00:00, 58.70it/s, loss=0.0579]\n",
      "Epoch 20 | Training loss: 0.0579, validation accuracy: 0.9776, validation loss: 0.0760\n",
      "100%|██████████| 750/750 [00:13<00:00, 57.24it/s, loss=0.0564]\n",
      "Epoch 21 | Training loss: 0.0564, validation accuracy: 0.9765, validation loss: 0.0770\n",
      "100%|██████████| 750/750 [00:13<00:00, 56.10it/s, loss=0.0539]\n",
      "Epoch 22 | Training loss: 0.0539, validation accuracy: 0.9785, validation loss: 0.0753\n",
      "100%|██████████| 750/750 [00:13<00:00, 56.57it/s, loss=0.0516]\n",
      "Epoch 23 | Training loss: 0.0516, validation accuracy: 0.9762, validation loss: 0.0773\n",
      "100%|██████████| 750/750 [00:13<00:00, 56.90it/s, loss=0.0505]\n",
      "Epoch 24 | Training loss: 0.0505, validation accuracy: 0.9814, validation loss: 0.0673\n",
      "100%|██████████| 750/750 [00:13<00:00, 56.54it/s, loss=0.0484]\n",
      "Epoch 25 | Training loss: 0.0484, validation accuracy: 0.9807, validation loss: 0.0701\n",
      "100%|██████████| 750/750 [00:13<00:00, 56.29it/s, loss=0.0470]\n",
      "Epoch 26 | Training loss: 0.0470, validation accuracy: 0.9808, validation loss: 0.0713\n",
      "100%|██████████| 750/750 [00:13<00:00, 56.23it/s, loss=0.0459]\n",
      "Epoch 27 | Training loss: 0.0459, validation accuracy: 0.9809, validation loss: 0.0653\n",
      "100%|██████████| 750/750 [00:13<00:00, 55.89it/s, loss=0.0432]\n",
      "Epoch 28 | Training loss: 0.0432, validation accuracy: 0.9829, validation loss: 0.0631\n",
      "100%|██████████| 750/750 [00:13<00:00, 56.67it/s, loss=0.0423]\n",
      "Epoch 29 | Training loss: 0.0423, validation accuracy: 0.9828, validation loss: 0.0620\n",
      "100%|██████████| 750/750 [00:13<00:00, 56.01it/s, loss=0.0405]\n",
      "Epoch 30 | Training loss: 0.0405, validation accuracy: 0.9808, validation loss: 0.0693\n",
      "100%|██████████| 750/750 [00:13<00:00, 56.37it/s, loss=0.0392]\n",
      "Epoch 31 | Training loss: 0.0392, validation accuracy: 0.9824, validation loss: 0.0612\n",
      "100%|██████████| 750/750 [00:13<00:00, 55.69it/s, loss=0.0378]\n",
      "Epoch 32 | Training loss: 0.0378, validation accuracy: 0.9800, validation loss: 0.0716\n",
      "100%|██████████| 750/750 [00:13<00:00, 56.20it/s, loss=0.0368]\n",
      "Epoch 33 | Training loss: 0.0368, validation accuracy: 0.9830, validation loss: 0.0624\n",
      "100%|██████████| 750/750 [00:13<00:00, 56.45it/s, loss=0.0358]\n",
      "Epoch 34 | Training loss: 0.0358, validation accuracy: 0.9825, validation loss: 0.0596\n",
      "100%|██████████| 750/750 [00:13<00:00, 55.85it/s, loss=0.0350]\n",
      "Epoch 35 | Training loss: 0.0350, validation accuracy: 0.9821, validation loss: 0.0616\n",
      "100%|██████████| 750/750 [00:13<00:00, 56.33it/s, loss=0.0333]\n",
      "Epoch 36 | Training loss: 0.0333, validation accuracy: 0.9831, validation loss: 0.0621\n",
      "100%|██████████| 750/750 [00:13<00:00, 55.86it/s, loss=0.0322]\n",
      "Epoch 37 | Training loss: 0.0322, validation accuracy: 0.9840, validation loss: 0.0587\n",
      "100%|██████████| 750/750 [00:13<00:00, 55.99it/s, loss=0.0312]\n",
      "Epoch 38 | Training loss: 0.0312, validation accuracy: 0.9840, validation loss: 0.0589\n",
      "100%|██████████| 750/750 [00:13<00:00, 55.82it/s, loss=0.0298]\n",
      "Epoch 39 | Training loss: 0.0298, validation accuracy: 0.9838, validation loss: 0.0616\n",
      "100%|██████████| 750/750 [00:13<00:00, 55.59it/s, loss=0.0294]\n",
      "Epoch 40 | Training loss: 0.0294, validation accuracy: 0.9838, validation loss: 0.0630\n",
      "100%|██████████| 750/750 [00:13<00:00, 56.00it/s, loss=0.0285]\n",
      "Epoch 41 | Training loss: 0.0285, validation accuracy: 0.9834, validation loss: 0.0606\n",
      "100%|██████████| 750/750 [00:14<00:00, 53.41it/s, loss=0.0274]\n",
      "Epoch 42 | Training loss: 0.0274, validation accuracy: 0.9822, validation loss: 0.0618\n"
     ]
    }
   ],
   "source": [
    "epochs = 1000\n",
    "early_stopping = EarlyStopping(5)\n",
    "\n",
    "for epoch in range(epochs):\n",
    "    train_loss = trainer.train_epoch(model, optimizer, dl[\"train\"])\n",
    "    optimizer.finish_epoch()\n",
    "    val_acc, val_loss = trainer.validation(model, dl[\"valid\"])\n",
    "    logger.log(\"Epoch\", epoch+1, \"|\", \n",
    "          f\"Training loss: {train_loss:.4f}, validation accuracy: {val_acc:.4f}, validation loss: {val_loss:.4f}\")\n",
    "    if early_stopping.should_stop(val_loss):\n",
    "        break"
   ]
  },
  {
   "cell_type": "code",
   "execution_count": 15,
   "metadata": {},
   "outputs": [
    {
     "name": "stdout",
     "output_type": "stream",
     "text": [
      "Train: (0.9914166666666666, 0.02713526949007064)\n",
      "Valid: (0.98225, 0.06181334049627185)\n"
     ]
    }
   ],
   "source": [
    "train_score = trainer.validation(model, dl[\"train\"])\n",
    "valid_score = trainer.validation(model, dl[\"valid\"])\n",
    "logger.log(\"Train:\", train_score)\n",
    "logger.log(\"Valid:\", valid_score)"
   ]
  },
  {
   "cell_type": "code",
   "execution_count": 16,
   "metadata": {},
   "outputs": [],
   "source": [
    "optimizer.accelerate()"
   ]
  },
  {
   "cell_type": "code",
   "execution_count": 17,
   "metadata": {},
   "outputs": [],
   "source": [
    "optimizer.store_parameters()\n",
    "model.cuda()\n",
    "None"
   ]
  },
  {
   "cell_type": "code",
   "execution_count": 18,
   "metadata": {},
   "outputs": [
    {
     "name": "stdout",
     "output_type": "stream",
     "text": [
      "Train: (0.9937291666666667, 0.02244178114986668)\n",
      "Valid: (0.9841666666666666, 0.056203421553752075)\n"
     ]
    }
   ],
   "source": [
    "train_score = trainer.validation(model, dl[\"train\"])\n",
    "valid_score = trainer.validation(model, dl[\"valid\"])\n",
    "logger.log(\"Train:\", train_score)\n",
    "logger.log(\"Valid:\", valid_score)"
   ]
  },
  {
   "cell_type": "markdown",
   "metadata": {},
   "source": [
    "## Epoch average, with span = 20"
   ]
  },
  {
   "cell_type": "code",
   "execution_count": 20,
   "metadata": {},
   "outputs": [],
   "source": [
    "model = make_model()\n",
    "model.cuda()\n",
    "optimizer = AcceleratedSGD(model.parameters(), 1e-3, k=10, momentum=0.5, weight_decay=1e-5, mode=\"epoch_avg\", avg_alpha = (2 / (20 + 1)))\n",
    "logger = Logger(\"SGD_momentum-avg_span_20-early_stopping.txt\")"
   ]
  },
  {
   "cell_type": "code",
   "execution_count": 21,
   "metadata": {},
   "outputs": [
    {
     "name": "stdout",
     "output_type": "stream",
     "text": [
      "100%|██████████| 750/750 [00:13<00:00, 56.87it/s, loss=2.2953]\n",
      "Epoch 1 | Training loss: 2.2953, validation accuracy: 0.2700, validation loss: 2.2825\n",
      "100%|██████████| 750/750 [00:13<00:00, 57.16it/s, loss=2.0959]\n",
      "Epoch 2 | Training loss: 2.0959, validation accuracy: 0.7572, validation loss: 1.0105\n",
      "100%|██████████| 750/750 [00:13<00:00, 57.40it/s, loss=0.5191]\n",
      "Epoch 3 | Training loss: 0.5191, validation accuracy: 0.8990, validation loss: 0.3467\n",
      "100%|██████████| 750/750 [00:13<00:00, 57.31it/s, loss=0.3205]\n",
      "Epoch 4 | Training loss: 0.3205, validation accuracy: 0.9277, validation loss: 0.2492\n",
      "100%|██████████| 750/750 [00:13<00:00, 57.06it/s, loss=0.2356]\n",
      "Epoch 5 | Training loss: 0.2356, validation accuracy: 0.9370, validation loss: 0.2145\n",
      "100%|██████████| 750/750 [00:13<00:00, 56.98it/s, loss=0.1871]\n",
      "Epoch 6 | Training loss: 0.1871, validation accuracy: 0.9540, validation loss: 0.1615\n",
      "100%|██████████| 750/750 [00:13<00:00, 57.11it/s, loss=0.1545]\n",
      "Epoch 7 | Training loss: 0.1545, validation accuracy: 0.9553, validation loss: 0.1492\n",
      "100%|██████████| 750/750 [00:13<00:00, 57.12it/s, loss=0.1335]\n",
      "Epoch 8 | Training loss: 0.1335, validation accuracy: 0.9618, validation loss: 0.1262\n",
      "100%|██████████| 750/750 [00:13<00:00, 57.11it/s, loss=0.1169]\n",
      "Epoch 9 | Training loss: 0.1169, validation accuracy: 0.9662, validation loss: 0.1124\n",
      "100%|██████████| 750/750 [00:13<00:00, 57.32it/s, loss=0.1054]\n",
      "Epoch 10 | Training loss: 0.1054, validation accuracy: 0.9672, validation loss: 0.1078\n",
      "100%|██████████| 750/750 [00:13<00:00, 57.20it/s, loss=0.0969]\n",
      "Epoch 11 | Training loss: 0.0969, validation accuracy: 0.9689, validation loss: 0.1006\n",
      "100%|██████████| 750/750 [00:13<00:00, 56.99it/s, loss=0.0902]\n",
      "Epoch 12 | Training loss: 0.0902, validation accuracy: 0.9709, validation loss: 0.0965\n",
      "100%|██████████| 750/750 [00:13<00:00, 57.22it/s, loss=0.0840]\n",
      "Epoch 13 | Training loss: 0.0840, validation accuracy: 0.9718, validation loss: 0.0944\n",
      "100%|██████████| 750/750 [00:13<00:00, 57.08it/s, loss=0.0790]\n",
      "Epoch 14 | Training loss: 0.0790, validation accuracy: 0.9735, validation loss: 0.0857\n",
      "100%|██████████| 750/750 [00:13<00:00, 57.13it/s, loss=0.0741]\n",
      "Epoch 15 | Training loss: 0.0741, validation accuracy: 0.9735, validation loss: 0.0831\n",
      "100%|██████████| 750/750 [00:13<00:00, 57.22it/s, loss=0.0704]\n",
      "Epoch 16 | Training loss: 0.0704, validation accuracy: 0.9766, validation loss: 0.0776\n",
      "100%|██████████| 750/750 [00:13<00:00, 57.18it/s, loss=0.0666]\n",
      "Epoch 17 | Training loss: 0.0666, validation accuracy: 0.9761, validation loss: 0.0757\n",
      "100%|██████████| 750/750 [00:13<00:00, 57.11it/s, loss=0.0632]\n",
      "Epoch 18 | Training loss: 0.0632, validation accuracy: 0.9768, validation loss: 0.0761\n",
      "100%|██████████| 750/750 [00:13<00:00, 57.25it/s, loss=0.0602]\n",
      "Epoch 19 | Training loss: 0.0602, validation accuracy: 0.9769, validation loss: 0.0763\n",
      "100%|██████████| 750/750 [00:13<00:00, 57.27it/s, loss=0.0577]\n",
      "Epoch 20 | Training loss: 0.0577, validation accuracy: 0.9801, validation loss: 0.0682\n",
      "100%|██████████| 750/750 [00:13<00:00, 57.20it/s, loss=0.0549]\n",
      "Epoch 21 | Training loss: 0.0549, validation accuracy: 0.9750, validation loss: 0.0815\n",
      "100%|██████████| 750/750 [00:13<00:00, 57.13it/s, loss=0.0525]\n",
      "Epoch 22 | Training loss: 0.0525, validation accuracy: 0.9799, validation loss: 0.0670\n",
      "100%|██████████| 750/750 [00:13<00:00, 57.13it/s, loss=0.0505]\n",
      "Epoch 23 | Training loss: 0.0505, validation accuracy: 0.9806, validation loss: 0.0650\n",
      "100%|██████████| 750/750 [00:13<00:00, 57.13it/s, loss=0.0488]\n",
      "Epoch 24 | Training loss: 0.0488, validation accuracy: 0.9784, validation loss: 0.0698\n",
      "100%|██████████| 750/750 [00:13<00:00, 57.32it/s, loss=0.0465]\n",
      "Epoch 25 | Training loss: 0.0465, validation accuracy: 0.9802, validation loss: 0.0692\n",
      "100%|██████████| 750/750 [00:13<00:00, 57.14it/s, loss=0.0443]\n",
      "Epoch 26 | Training loss: 0.0443, validation accuracy: 0.9815, validation loss: 0.0616\n",
      "100%|██████████| 750/750 [00:13<00:00, 57.06it/s, loss=0.0434]\n",
      "Epoch 27 | Training loss: 0.0434, validation accuracy: 0.9810, validation loss: 0.0666\n",
      "100%|██████████| 750/750 [00:13<00:00, 57.17it/s, loss=0.0410]\n",
      "Epoch 28 | Training loss: 0.0410, validation accuracy: 0.9823, validation loss: 0.0607\n",
      "100%|██████████| 750/750 [00:13<00:00, 56.87it/s, loss=0.0397]\n",
      "Epoch 29 | Training loss: 0.0397, validation accuracy: 0.9815, validation loss: 0.0624\n",
      "100%|██████████| 750/750 [00:13<00:00, 57.10it/s, loss=0.0380]\n",
      "Epoch 30 | Training loss: 0.0380, validation accuracy: 0.9825, validation loss: 0.0595\n",
      "100%|██████████| 750/750 [00:13<00:00, 57.07it/s, loss=0.0367]\n",
      "Epoch 31 | Training loss: 0.0367, validation accuracy: 0.9820, validation loss: 0.0628\n",
      "100%|██████████| 750/750 [00:13<00:00, 56.98it/s, loss=0.0356]\n",
      "Epoch 32 | Training loss: 0.0356, validation accuracy: 0.9818, validation loss: 0.0609\n",
      "100%|██████████| 750/750 [00:13<00:00, 57.20it/s, loss=0.0343]\n",
      "Epoch 33 | Training loss: 0.0343, validation accuracy: 0.9824, validation loss: 0.0600\n",
      "100%|██████████| 750/750 [00:13<00:00, 56.98it/s, loss=0.0325]\n",
      "Epoch 34 | Training loss: 0.0325, validation accuracy: 0.9824, validation loss: 0.0605\n",
      "100%|██████████| 750/750 [00:13<00:00, 57.17it/s, loss=0.0315]\n",
      "Epoch 35 | Training loss: 0.0315, validation accuracy: 0.9825, validation loss: 0.0604\n"
     ]
    }
   ],
   "source": [
    "epochs = 1000\n",
    "early_stopping = EarlyStopping(5)\n",
    "\n",
    "for epoch in range(epochs):\n",
    "    train_loss = trainer.train_epoch(model, optimizer, dl[\"train\"])\n",
    "    optimizer.finish_epoch()\n",
    "    val_acc, val_loss = trainer.validation(model, dl[\"valid\"])\n",
    "    logger.log(\"Epoch\", epoch+1, \"|\", \n",
    "          f\"Training loss: {train_loss:.4f}, validation accuracy: {val_acc:.4f}, validation loss: {val_loss:.4f}\")\n",
    "    if early_stopping.should_stop(val_loss):\n",
    "        break"
   ]
  },
  {
   "cell_type": "code",
   "execution_count": 22,
   "metadata": {},
   "outputs": [
    {
     "name": "stdout",
     "output_type": "stream",
     "text": [
      "Train: (0.9915833333333334, 0.02811048800110196)\n",
      "Valid: (0.9825, 0.060424668717353296)\n"
     ]
    }
   ],
   "source": [
    "train_score = trainer.validation(model, dl[\"train\"])\n",
    "valid_score = trainer.validation(model, dl[\"valid\"])\n",
    "logger.log(\"Train:\", train_score)\n",
    "logger.log(\"Valid:\", valid_score)"
   ]
  },
  {
   "cell_type": "code",
   "execution_count": 23,
   "metadata": {},
   "outputs": [],
   "source": [
    "optimizer.accelerate()"
   ]
  },
  {
   "cell_type": "code",
   "execution_count": 24,
   "metadata": {},
   "outputs": [],
   "source": [
    "optimizer.store_parameters()\n",
    "model.cuda()\n",
    "None"
   ]
  },
  {
   "cell_type": "code",
   "execution_count": 25,
   "metadata": {},
   "outputs": [
    {
     "name": "stdout",
     "output_type": "stream",
     "text": [
      "Train: (0.9926875, 0.026050740072503686)\n",
      "Valid: (0.984, 0.05607895925998067)\n"
     ]
    }
   ],
   "source": [
    "train_score = trainer.validation(model, dl[\"train\"])\n",
    "valid_score = trainer.validation(model, dl[\"valid\"])\n",
    "logger.log(\"Train:\", train_score)\n",
    "logger.log(\"Valid:\", valid_score)"
   ]
  },
  {
   "cell_type": "markdown",
   "metadata": {},
   "source": [
    "## Epoch average, with span = 15"
   ]
  },
  {
   "cell_type": "code",
   "execution_count": 26,
   "metadata": {},
   "outputs": [],
   "source": [
    "model = make_model()\n",
    "model.cuda()\n",
    "optimizer = AcceleratedSGD(model.parameters(), 1e-3, k=10, momentum=0.5, weight_decay=1e-5, mode=\"epoch_avg\", avg_alpha = (2 / (15 + 1)))\n",
    "logger = Logger(\"SGD_momentum-avg_span_15-early_stopping.txt\")"
   ]
  },
  {
   "cell_type": "code",
   "execution_count": 27,
   "metadata": {},
   "outputs": [
    {
     "name": "stdout",
     "output_type": "stream",
     "text": [
      "100%|██████████| 750/750 [00:12<00:00, 57.84it/s, loss=2.2969]\n",
      "Epoch 1 | Training loss: 2.2969, validation accuracy: 0.1794, validation loss: 2.2844\n",
      "100%|██████████| 750/750 [00:12<00:00, 57.74it/s, loss=2.1187]\n",
      "Epoch 2 | Training loss: 2.1187, validation accuracy: 0.7600, validation loss: 1.1245\n",
      "100%|██████████| 750/750 [00:12<00:00, 57.92it/s, loss=0.5478]\n",
      "Epoch 3 | Training loss: 0.5478, validation accuracy: 0.8782, validation loss: 0.3839\n",
      "100%|██████████| 750/750 [00:12<00:00, 57.92it/s, loss=0.3430]\n",
      "Epoch 4 | Training loss: 0.3430, validation accuracy: 0.9225, validation loss: 0.2615\n",
      "100%|██████████| 750/750 [00:12<00:00, 57.74it/s, loss=0.2544]\n",
      "Epoch 5 | Training loss: 0.2544, validation accuracy: 0.9316, validation loss: 0.2234\n",
      "100%|██████████| 750/750 [00:12<00:00, 57.78it/s, loss=0.1990]\n",
      "Epoch 6 | Training loss: 0.1990, validation accuracy: 0.9495, validation loss: 0.1675\n",
      "100%|██████████| 750/750 [00:12<00:00, 57.72it/s, loss=0.1618]\n",
      "Epoch 7 | Training loss: 0.1618, validation accuracy: 0.9521, validation loss: 0.1571\n",
      "100%|██████████| 750/750 [00:12<00:00, 57.84it/s, loss=0.1364]\n",
      "Epoch 8 | Training loss: 0.1364, validation accuracy: 0.9558, validation loss: 0.1461\n",
      "100%|██████████| 750/750 [00:12<00:00, 57.76it/s, loss=0.1193]\n",
      "Epoch 9 | Training loss: 0.1193, validation accuracy: 0.9678, validation loss: 0.1122\n",
      "100%|██████████| 750/750 [00:12<00:00, 57.88it/s, loss=0.1064]\n",
      "Epoch 10 | Training loss: 0.1064, validation accuracy: 0.9678, validation loss: 0.1094\n",
      "100%|██████████| 750/750 [00:12<00:00, 57.78it/s, loss=0.0965]\n",
      "Epoch 11 | Training loss: 0.0965, validation accuracy: 0.9699, validation loss: 0.0998\n",
      "100%|██████████| 750/750 [00:12<00:00, 57.74it/s, loss=0.0894]\n",
      "Epoch 12 | Training loss: 0.0894, validation accuracy: 0.9722, validation loss: 0.0954\n",
      "100%|██████████| 750/750 [00:12<00:00, 57.92it/s, loss=0.0819]\n",
      "Epoch 13 | Training loss: 0.0819, validation accuracy: 0.9739, validation loss: 0.0874\n",
      "100%|██████████| 750/750 [00:12<00:00, 57.77it/s, loss=0.0770]\n",
      "Epoch 14 | Training loss: 0.0770, validation accuracy: 0.9711, validation loss: 0.1008\n",
      "100%|██████████| 750/750 [00:12<00:00, 57.88it/s, loss=0.0729]\n",
      "Epoch 15 | Training loss: 0.0729, validation accuracy: 0.9768, validation loss: 0.0778\n",
      "100%|██████████| 750/750 [00:13<00:00, 57.63it/s, loss=0.0677]\n",
      "Epoch 16 | Training loss: 0.0677, validation accuracy: 0.9772, validation loss: 0.0756\n",
      "100%|██████████| 750/750 [00:13<00:00, 57.41it/s, loss=0.0639]\n",
      "Epoch 17 | Training loss: 0.0639, validation accuracy: 0.9773, validation loss: 0.0743\n",
      "100%|██████████| 750/750 [00:13<00:00, 57.42it/s, loss=0.0609]\n",
      "Epoch 18 | Training loss: 0.0609, validation accuracy: 0.9768, validation loss: 0.0757\n",
      "100%|██████████| 750/750 [00:13<00:00, 57.60it/s, loss=0.0583]\n",
      "Epoch 19 | Training loss: 0.0583, validation accuracy: 0.9758, validation loss: 0.0823\n",
      "100%|██████████| 750/750 [00:12<00:00, 57.80it/s, loss=0.0547]\n",
      "Epoch 20 | Training loss: 0.0547, validation accuracy: 0.9765, validation loss: 0.0818\n",
      "100%|██████████| 750/750 [00:13<00:00, 57.65it/s, loss=0.0531]\n",
      "Epoch 21 | Training loss: 0.0531, validation accuracy: 0.9801, validation loss: 0.0708\n",
      "100%|██████████| 750/750 [00:13<00:00, 57.66it/s, loss=0.0504]\n",
      "Epoch 22 | Training loss: 0.0504, validation accuracy: 0.9802, validation loss: 0.0669\n",
      "100%|██████████| 750/750 [00:13<00:00, 57.59it/s, loss=0.0483]\n",
      "Epoch 23 | Training loss: 0.0483, validation accuracy: 0.9814, validation loss: 0.0636\n",
      "100%|██████████| 750/750 [00:13<00:00, 57.57it/s, loss=0.0462]\n",
      "Epoch 24 | Training loss: 0.0462, validation accuracy: 0.9785, validation loss: 0.0672\n",
      "100%|██████████| 750/750 [00:12<00:00, 57.70it/s, loss=0.0447]\n",
      "Epoch 25 | Training loss: 0.0447, validation accuracy: 0.9801, validation loss: 0.0653\n",
      "100%|██████████| 750/750 [00:12<00:00, 57.91it/s, loss=0.0432]\n",
      "Epoch 26 | Training loss: 0.0432, validation accuracy: 0.9804, validation loss: 0.0633\n",
      "100%|██████████| 750/750 [00:12<00:00, 57.83it/s, loss=0.0414]\n",
      "Epoch 27 | Training loss: 0.0414, validation accuracy: 0.9818, validation loss: 0.0636\n",
      "100%|██████████| 750/750 [00:13<00:00, 57.63it/s, loss=0.0396]\n",
      "Epoch 28 | Training loss: 0.0396, validation accuracy: 0.9821, validation loss: 0.0624\n",
      "100%|██████████| 750/750 [00:13<00:00, 57.59it/s, loss=0.0378]\n",
      "Epoch 29 | Training loss: 0.0378, validation accuracy: 0.9813, validation loss: 0.0613\n",
      "100%|██████████| 750/750 [00:13<00:00, 57.07it/s, loss=0.0360]\n",
      "Epoch 30 | Training loss: 0.0360, validation accuracy: 0.9809, validation loss: 0.0672\n",
      "100%|██████████| 750/750 [00:13<00:00, 56.93it/s, loss=0.0352]\n",
      "Epoch 31 | Training loss: 0.0352, validation accuracy: 0.9819, validation loss: 0.0663\n",
      "100%|██████████| 750/750 [00:13<00:00, 57.08it/s, loss=0.0339]\n",
      "Epoch 32 | Training loss: 0.0339, validation accuracy: 0.9815, validation loss: 0.0621\n",
      "100%|██████████| 750/750 [00:13<00:00, 56.91it/s, loss=0.0326]\n",
      "Epoch 33 | Training loss: 0.0326, validation accuracy: 0.9832, validation loss: 0.0580\n",
      "100%|██████████| 750/750 [00:13<00:00, 57.26it/s, loss=0.0319]\n",
      "Epoch 34 | Training loss: 0.0319, validation accuracy: 0.9806, validation loss: 0.0638\n",
      "100%|██████████| 750/750 [00:13<00:00, 57.13it/s, loss=0.0306]\n",
      "Epoch 35 | Training loss: 0.0306, validation accuracy: 0.9818, validation loss: 0.0611\n",
      "100%|██████████| 750/750 [00:13<00:00, 56.83it/s, loss=0.0298]\n",
      "Epoch 36 | Training loss: 0.0298, validation accuracy: 0.9830, validation loss: 0.0584\n",
      "100%|██████████| 750/750 [00:13<00:00, 57.18it/s, loss=0.0287]\n",
      "Epoch 37 | Training loss: 0.0287, validation accuracy: 0.9810, validation loss: 0.0642\n",
      "100%|██████████| 750/750 [00:13<00:00, 57.14it/s, loss=0.0274]\n",
      "Epoch 38 | Training loss: 0.0274, validation accuracy: 0.9838, validation loss: 0.0557\n",
      "100%|██████████| 750/750 [00:13<00:00, 57.10it/s, loss=0.0267]\n",
      "Epoch 39 | Training loss: 0.0267, validation accuracy: 0.9839, validation loss: 0.0575\n",
      "100%|██████████| 750/750 [00:13<00:00, 56.90it/s, loss=0.0259]\n",
      "Epoch 40 | Training loss: 0.0259, validation accuracy: 0.9808, validation loss: 0.0670\n",
      "100%|██████████| 750/750 [00:13<00:00, 57.08it/s, loss=0.0247]\n",
      "Epoch 41 | Training loss: 0.0247, validation accuracy: 0.9835, validation loss: 0.0586\n",
      "100%|██████████| 750/750 [00:13<00:00, 57.04it/s, loss=0.0244]\n",
      "Epoch 42 | Training loss: 0.0244, validation accuracy: 0.9828, validation loss: 0.0609\n",
      "100%|██████████| 750/750 [00:13<00:00, 57.01it/s, loss=0.0231]\n",
      "Epoch 43 | Training loss: 0.0231, validation accuracy: 0.9831, validation loss: 0.0592\n"
     ]
    }
   ],
   "source": [
    "epochs = 1000\n",
    "early_stopping = EarlyStopping(5)\n",
    "\n",
    "for epoch in range(epochs):\n",
    "    train_loss = trainer.train_epoch(model, optimizer, dl[\"train\"])\n",
    "    optimizer.finish_epoch()\n",
    "    val_acc, val_loss = trainer.validation(model, dl[\"valid\"])\n",
    "    logger.log(\"Epoch\", epoch+1, \"|\", \n",
    "          f\"Training loss: {train_loss:.4f}, validation accuracy: {val_acc:.4f}, validation loss: {val_loss:.4f}\")\n",
    "    if early_stopping.should_stop(val_loss):\n",
    "        break"
   ]
  },
  {
   "cell_type": "code",
   "execution_count": 28,
   "metadata": {},
   "outputs": [
    {
     "name": "stdout",
     "output_type": "stream",
     "text": [
      "Train: (0.992875, 0.02253287366971684)\n",
      "Valid: (0.9830833333333333, 0.059153521404834465)\n"
     ]
    }
   ],
   "source": [
    "train_score = trainer.validation(model, dl[\"train\"])\n",
    "valid_score = trainer.validation(model, dl[\"valid\"])\n",
    "logger.log(\"Train:\", train_score)\n",
    "logger.log(\"Valid:\", valid_score)"
   ]
  },
  {
   "cell_type": "code",
   "execution_count": 29,
   "metadata": {},
   "outputs": [],
   "source": [
    "optimizer.accelerate()"
   ]
  },
  {
   "cell_type": "code",
   "execution_count": 30,
   "metadata": {},
   "outputs": [],
   "source": [
    "optimizer.store_parameters()\n",
    "model.cuda()\n",
    "None"
   ]
  },
  {
   "cell_type": "code",
   "execution_count": 31,
   "metadata": {},
   "outputs": [
    {
     "name": "stdout",
     "output_type": "stream",
     "text": [
      "Train: (0.9949583333333333, 0.018900427822217656)\n",
      "Valid: (0.985, 0.05393957465126489)\n"
     ]
    }
   ],
   "source": [
    "train_score = trainer.validation(model, dl[\"train\"])\n",
    "valid_score = trainer.validation(model, dl[\"valid\"])\n",
    "logger.log(\"Train:\", train_score)\n",
    "logger.log(\"Valid:\", valid_score)"
   ]
  },
  {
   "cell_type": "markdown",
   "metadata": {},
   "source": [
    "## Epoch average, with span = 10"
   ]
  },
  {
   "cell_type": "code",
   "execution_count": 32,
   "metadata": {},
   "outputs": [],
   "source": [
    "model = make_model()\n",
    "model.cuda()\n",
    "optimizer = AcceleratedSGD(model.parameters(), 1e-3, k=10, momentum=0.5, weight_decay=1e-5, mode=\"epoch_avg\", avg_alpha = (2 / (10 + 1)))\n",
    "logger = Logger(\"SGD_momentum-avg_span_10-early_stopping.txt\")"
   ]
  },
  {
   "cell_type": "code",
   "execution_count": 33,
   "metadata": {},
   "outputs": [
    {
     "name": "stdout",
     "output_type": "stream",
     "text": [
      "100%|██████████| 750/750 [00:13<00:00, 56.56it/s, loss=2.2958]\n",
      "Epoch 1 | Training loss: 2.2958, validation accuracy: 0.1129, validation loss: 2.2836\n",
      "100%|██████████| 750/750 [00:14<00:00, 52.89it/s, loss=2.0953]\n",
      "Epoch 2 | Training loss: 2.0953, validation accuracy: 0.7692, validation loss: 1.0024\n",
      "100%|██████████| 750/750 [00:13<00:00, 56.26it/s, loss=0.5282]\n",
      "Epoch 3 | Training loss: 0.5282, validation accuracy: 0.8942, validation loss: 0.3493\n",
      "100%|██████████| 750/750 [00:13<00:00, 54.32it/s, loss=0.3333]\n",
      "Epoch 4 | Training loss: 0.3333, validation accuracy: 0.9143, validation loss: 0.2766\n",
      "100%|██████████| 750/750 [00:13<00:00, 55.73it/s, loss=0.2460]\n",
      "Epoch 5 | Training loss: 0.2460, validation accuracy: 0.9378, validation loss: 0.2060\n",
      "100%|██████████| 750/750 [00:13<00:00, 56.15it/s, loss=0.1888]\n",
      "Epoch 6 | Training loss: 0.1888, validation accuracy: 0.9513, validation loss: 0.1628\n",
      "100%|██████████| 750/750 [00:13<00:00, 57.18it/s, loss=0.1546]\n",
      "Epoch 7 | Training loss: 0.1546, validation accuracy: 0.9578, validation loss: 0.1457\n",
      "100%|██████████| 750/750 [00:13<00:00, 56.77it/s, loss=0.1319]\n",
      "Epoch 8 | Training loss: 0.1319, validation accuracy: 0.9632, validation loss: 0.1261\n",
      "100%|██████████| 750/750 [00:13<00:00, 57.58it/s, loss=0.1144]\n",
      "Epoch 9 | Training loss: 0.1144, validation accuracy: 0.9689, validation loss: 0.1067\n",
      "100%|██████████| 750/750 [00:13<00:00, 55.41it/s, loss=0.1033]\n",
      "Epoch 10 | Training loss: 0.1033, validation accuracy: 0.9701, validation loss: 0.1027\n",
      "100%|██████████| 750/750 [00:13<00:00, 56.22it/s, loss=0.0951]\n",
      "Epoch 11 | Training loss: 0.0951, validation accuracy: 0.9706, validation loss: 0.0979\n",
      "100%|██████████| 750/750 [00:13<00:00, 56.72it/s, loss=0.0879]\n",
      "Epoch 12 | Training loss: 0.0879, validation accuracy: 0.9729, validation loss: 0.0917\n",
      "100%|██████████| 750/750 [00:13<00:00, 56.77it/s, loss=0.0808]\n",
      "Epoch 13 | Training loss: 0.0808, validation accuracy: 0.9752, validation loss: 0.0863\n",
      "100%|██████████| 750/750 [00:13<00:00, 56.56it/s, loss=0.0769]\n",
      "Epoch 14 | Training loss: 0.0769, validation accuracy: 0.9742, validation loss: 0.0883\n",
      "100%|██████████| 750/750 [00:13<00:00, 56.50it/s, loss=0.0716]\n",
      "Epoch 15 | Training loss: 0.0716, validation accuracy: 0.9722, validation loss: 0.0914\n",
      "100%|██████████| 750/750 [00:13<00:00, 56.39it/s, loss=0.0678]\n",
      "Epoch 16 | Training loss: 0.0678, validation accuracy: 0.9757, validation loss: 0.0841\n",
      "100%|██████████| 750/750 [00:13<00:00, 56.27it/s, loss=0.0645]\n",
      "Epoch 17 | Training loss: 0.0645, validation accuracy: 0.9780, validation loss: 0.0755\n",
      "100%|██████████| 750/750 [00:13<00:00, 55.83it/s, loss=0.0615]\n",
      "Epoch 18 | Training loss: 0.0615, validation accuracy: 0.9791, validation loss: 0.0746\n",
      "100%|██████████| 750/750 [00:13<00:00, 55.47it/s, loss=0.0596]\n",
      "Epoch 19 | Training loss: 0.0596, validation accuracy: 0.9783, validation loss: 0.0755\n",
      "100%|██████████| 750/750 [00:13<00:00, 56.26it/s, loss=0.0566]\n",
      "Epoch 20 | Training loss: 0.0566, validation accuracy: 0.9774, validation loss: 0.0756\n",
      "100%|██████████| 750/750 [00:13<00:00, 56.75it/s, loss=0.0543]\n",
      "Epoch 21 | Training loss: 0.0543, validation accuracy: 0.9799, validation loss: 0.0702\n",
      "100%|██████████| 750/750 [00:13<00:00, 56.64it/s, loss=0.0525]\n",
      "Epoch 22 | Training loss: 0.0525, validation accuracy: 0.9787, validation loss: 0.0685\n",
      "100%|██████████| 750/750 [00:13<00:00, 56.39it/s, loss=0.0497]\n",
      "Epoch 23 | Training loss: 0.0497, validation accuracy: 0.9808, validation loss: 0.0708\n",
      "100%|██████████| 750/750 [00:13<00:00, 56.59it/s, loss=0.0475]\n",
      "Epoch 24 | Training loss: 0.0475, validation accuracy: 0.9809, validation loss: 0.0627\n",
      "100%|██████████| 750/750 [00:13<00:00, 56.27it/s, loss=0.0462]\n",
      "Epoch 25 | Training loss: 0.0462, validation accuracy: 0.9793, validation loss: 0.0712\n",
      "100%|██████████| 750/750 [00:13<00:00, 55.84it/s, loss=0.0449]\n",
      "Epoch 26 | Training loss: 0.0449, validation accuracy: 0.9813, validation loss: 0.0622\n",
      "100%|██████████| 750/750 [00:13<00:00, 56.31it/s, loss=0.0432]\n",
      "Epoch 27 | Training loss: 0.0432, validation accuracy: 0.9803, validation loss: 0.0681\n",
      "100%|██████████| 750/750 [00:13<00:00, 56.03it/s, loss=0.0414]\n",
      "Epoch 28 | Training loss: 0.0414, validation accuracy: 0.9812, validation loss: 0.0648\n",
      "100%|██████████| 750/750 [00:13<00:00, 56.40it/s, loss=0.0398]\n",
      "Epoch 29 | Training loss: 0.0398, validation accuracy: 0.9809, validation loss: 0.0660\n",
      "100%|██████████| 750/750 [00:13<00:00, 55.95it/s, loss=0.0385]\n",
      "Epoch 30 | Training loss: 0.0385, validation accuracy: 0.9820, validation loss: 0.0641\n",
      "100%|██████████| 750/750 [00:13<00:00, 54.06it/s, loss=0.0366]\n",
      "Epoch 31 | Training loss: 0.0366, validation accuracy: 0.9824, validation loss: 0.0594\n",
      "100%|██████████| 750/750 [00:15<00:00, 49.33it/s, loss=0.0358]\n",
      "Epoch 32 | Training loss: 0.0358, validation accuracy: 0.9810, validation loss: 0.0659\n",
      "100%|██████████| 750/750 [00:14<00:00, 52.74it/s, loss=0.0348]\n",
      "Epoch 33 | Training loss: 0.0348, validation accuracy: 0.9822, validation loss: 0.0597\n",
      "100%|██████████| 750/750 [00:14<00:00, 51.96it/s, loss=0.0331]\n",
      "Epoch 34 | Training loss: 0.0331, validation accuracy: 0.9825, validation loss: 0.0608\n",
      "100%|██████████| 750/750 [00:13<00:00, 53.73it/s, loss=0.0317]\n",
      "Epoch 35 | Training loss: 0.0317, validation accuracy: 0.9800, validation loss: 0.0679\n",
      "100%|██████████| 750/750 [00:13<00:00, 55.07it/s, loss=0.0310]\n",
      "Epoch 36 | Training loss: 0.0310, validation accuracy: 0.9824, validation loss: 0.0584\n",
      "100%|██████████| 750/750 [00:14<00:00, 52.53it/s, loss=0.0301]\n",
      "Epoch 37 | Training loss: 0.0301, validation accuracy: 0.9822, validation loss: 0.0635\n",
      "100%|██████████| 750/750 [00:15<00:00, 49.99it/s, loss=0.0295]\n",
      "Epoch 38 | Training loss: 0.0295, validation accuracy: 0.9845, validation loss: 0.0572\n",
      "100%|██████████| 750/750 [00:16<00:00, 46.17it/s, loss=0.0281]\n",
      "Epoch 39 | Training loss: 0.0281, validation accuracy: 0.9842, validation loss: 0.0572\n",
      "100%|██████████| 750/750 [00:13<00:00, 54.16it/s, loss=0.0269]\n",
      "Epoch 40 | Training loss: 0.0269, validation accuracy: 0.9838, validation loss: 0.0583\n",
      "100%|██████████| 750/750 [00:14<00:00, 52.58it/s, loss=0.0259]\n",
      "Epoch 41 | Training loss: 0.0259, validation accuracy: 0.9811, validation loss: 0.0619\n",
      "100%|██████████| 750/750 [00:13<00:00, 55.10it/s, loss=0.0251]\n",
      "Epoch 42 | Training loss: 0.0251, validation accuracy: 0.9829, validation loss: 0.0570\n",
      "100%|██████████| 750/750 [00:13<00:00, 53.72it/s, loss=0.0244]\n",
      "Epoch 43 | Training loss: 0.0244, validation accuracy: 0.9824, validation loss: 0.0612\n",
      "100%|██████████| 750/750 [00:13<00:00, 54.49it/s, loss=0.0235]\n",
      "Epoch 44 | Training loss: 0.0235, validation accuracy: 0.9826, validation loss: 0.0621\n",
      "100%|██████████| 750/750 [00:13<00:00, 55.85it/s, loss=0.0233]\n",
      "Epoch 45 | Training loss: 0.0233, validation accuracy: 0.9835, validation loss: 0.0596\n",
      "100%|██████████| 750/750 [00:13<00:00, 55.98it/s, loss=0.0221]\n",
      "Epoch 46 | Training loss: 0.0221, validation accuracy: 0.9842, validation loss: 0.0570\n",
      "100%|██████████| 750/750 [00:13<00:00, 54.71it/s, loss=0.0213]\n",
      "Epoch 47 | Training loss: 0.0213, validation accuracy: 0.9842, validation loss: 0.0553\n",
      "100%|██████████| 750/750 [00:13<00:00, 55.83it/s, loss=0.0210]\n",
      "Epoch 48 | Training loss: 0.0210, validation accuracy: 0.9838, validation loss: 0.0576\n",
      "100%|██████████| 750/750 [00:13<00:00, 55.05it/s, loss=0.0198]\n",
      "Epoch 49 | Training loss: 0.0198, validation accuracy: 0.9843, validation loss: 0.0553\n",
      "100%|██████████| 750/750 [00:13<00:00, 54.93it/s, loss=0.0191]\n",
      "Epoch 50 | Training loss: 0.0191, validation accuracy: 0.9842, validation loss: 0.0603\n",
      "100%|██████████| 750/750 [00:13<00:00, 54.09it/s, loss=0.0182]\n",
      "Epoch 51 | Training loss: 0.0182, validation accuracy: 0.9845, validation loss: 0.0572\n",
      "100%|██████████| 750/750 [00:13<00:00, 54.80it/s, loss=0.0177]\n",
      "Epoch 52 | Training loss: 0.0177, validation accuracy: 0.9841, validation loss: 0.0560\n",
      "100%|██████████| 750/750 [00:13<00:00, 55.62it/s, loss=0.0175]\n",
      "Epoch 53 | Training loss: 0.0175, validation accuracy: 0.9849, validation loss: 0.0575\n",
      "100%|██████████| 750/750 [00:13<00:00, 54.64it/s, loss=0.0165]\n",
      "Epoch 54 | Training loss: 0.0165, validation accuracy: 0.9836, validation loss: 0.0612\n"
     ]
    }
   ],
   "source": [
    "epochs = 1000\n",
    "early_stopping = EarlyStopping(5)\n",
    "\n",
    "for epoch in range(epochs):\n",
    "    train_loss = trainer.train_epoch(model, optimizer, dl[\"train\"])\n",
    "    optimizer.finish_epoch()\n",
    "    val_acc, val_loss = trainer.validation(model, dl[\"valid\"])\n",
    "    logger.log(\"Epoch\", epoch+1, \"|\", \n",
    "          f\"Training loss: {train_loss:.4f}, validation accuracy: {val_acc:.4f}, validation loss: {val_loss:.4f}\")\n",
    "    if early_stopping.should_stop(val_loss):\n",
    "        break"
   ]
  },
  {
   "cell_type": "code",
   "execution_count": 34,
   "metadata": {},
   "outputs": [
    {
     "name": "stdout",
     "output_type": "stream",
     "text": [
      "Train: (0.9949166666666667, 0.016756944798340556)\n",
      "Valid: (0.9835833333333334, 0.06118708448329319)\n"
     ]
    }
   ],
   "source": [
    "train_score = trainer.validation(model, dl[\"train\"])\n",
    "valid_score = trainer.validation(model, dl[\"valid\"])\n",
    "logger.log(\"Train:\", train_score)\n",
    "logger.log(\"Valid:\", valid_score)"
   ]
  },
  {
   "cell_type": "code",
   "execution_count": 35,
   "metadata": {},
   "outputs": [],
   "source": [
    "optimizer.accelerate()"
   ]
  },
  {
   "cell_type": "code",
   "execution_count": 36,
   "metadata": {},
   "outputs": [],
   "source": [
    "optimizer.store_parameters()\n",
    "model.cuda()\n",
    "None"
   ]
  },
  {
   "cell_type": "code",
   "execution_count": 37,
   "metadata": {},
   "outputs": [
    {
     "name": "stdout",
     "output_type": "stream",
     "text": [
      "Train: (0.9969583333333333, 0.012952309324813541)\n",
      "Valid: (0.9854166666666667, 0.05370495984070779)\n"
     ]
    }
   ],
   "source": [
    "train_score = trainer.validation(model, dl[\"train\"])\n",
    "valid_score = trainer.validation(model, dl[\"valid\"])\n",
    "logger.log(\"Train:\", train_score)\n",
    "logger.log(\"Valid:\", valid_score)"
   ]
  },
  {
   "cell_type": "markdown",
   "metadata": {},
   "source": [
    "## Epoch average, with span = 5"
   ]
  },
  {
   "cell_type": "code",
   "execution_count": 38,
   "metadata": {},
   "outputs": [],
   "source": [
    "model = make_model()\n",
    "model.cuda()\n",
    "optimizer = AcceleratedSGD(model.parameters(), 1e-3, k=10, momentum=0.5, weight_decay=1e-5, mode=\"epoch_avg\", avg_alpha = (2 / (5 + 1)))\n",
    "logger = Logger(\"SGD_momentum-avg_span_5-early_stopping.txt\")"
   ]
  },
  {
   "cell_type": "code",
   "execution_count": 39,
   "metadata": {
    "tags": []
   },
   "outputs": [
    {
     "name": "stdout",
     "output_type": "stream",
     "text": [
      "100%|██████████| 750/750 [00:13<00:00, 56.04it/s, loss=2.2901]\n",
      "Epoch 1 | Training loss: 2.2901, validation accuracy: 0.2288, validation loss: 2.2640\n",
      "100%|██████████| 750/750 [00:13<00:00, 56.45it/s, loss=1.6426]\n",
      "Epoch 2 | Training loss: 1.6426, validation accuracy: 0.8390, validation loss: 0.5354\n",
      "100%|██████████| 750/750 [00:13<00:00, 56.13it/s, loss=0.4382]\n",
      "Epoch 3 | Training loss: 0.4382, validation accuracy: 0.9028, validation loss: 0.3304\n",
      "100%|██████████| 750/750 [00:13<00:00, 55.72it/s, loss=0.3186]\n",
      "Epoch 4 | Training loss: 0.3186, validation accuracy: 0.9255, validation loss: 0.2485\n",
      "100%|██████████| 750/750 [00:13<00:00, 56.54it/s, loss=0.2499]\n",
      "Epoch 5 | Training loss: 0.2499, validation accuracy: 0.9410, validation loss: 0.2006\n",
      "100%|██████████| 750/750 [00:13<00:00, 56.70it/s, loss=0.2063]\n",
      "Epoch 6 | Training loss: 0.2063, validation accuracy: 0.9404, validation loss: 0.1931\n",
      "100%|██████████| 750/750 [00:13<00:00, 56.43it/s, loss=0.1750]\n",
      "Epoch 7 | Training loss: 0.1750, validation accuracy: 0.9547, validation loss: 0.1523\n",
      "100%|██████████| 750/750 [00:13<00:00, 55.96it/s, loss=0.1496]\n",
      "Epoch 8 | Training loss: 0.1496, validation accuracy: 0.9586, validation loss: 0.1394\n",
      "100%|██████████| 750/750 [00:13<00:00, 55.30it/s, loss=0.1320]\n",
      "Epoch 9 | Training loss: 0.1320, validation accuracy: 0.9629, validation loss: 0.1265\n",
      "100%|██████████| 750/750 [00:13<00:00, 53.83it/s, loss=0.1174]\n",
      "Epoch 10 | Training loss: 0.1174, validation accuracy: 0.9634, validation loss: 0.1169\n",
      "100%|██████████| 750/750 [00:13<00:00, 54.98it/s, loss=0.1079]\n",
      "Epoch 11 | Training loss: 0.1079, validation accuracy: 0.9663, validation loss: 0.1129\n",
      "100%|██████████| 750/750 [00:13<00:00, 53.85it/s, loss=0.0983]\n",
      "Epoch 12 | Training loss: 0.0983, validation accuracy: 0.9667, validation loss: 0.1113\n",
      "100%|██████████| 750/750 [00:13<00:00, 55.70it/s, loss=0.0913]\n",
      "Epoch 13 | Training loss: 0.0913, validation accuracy: 0.9686, validation loss: 0.1030\n",
      "100%|██████████| 750/750 [00:13<00:00, 56.12it/s, loss=0.0851]\n",
      "Epoch 14 | Training loss: 0.0851, validation accuracy: 0.9738, validation loss: 0.0864\n",
      "100%|██████████| 750/750 [00:13<00:00, 55.89it/s, loss=0.0796]\n",
      "Epoch 15 | Training loss: 0.0796, validation accuracy: 0.9721, validation loss: 0.0906\n",
      "100%|██████████| 750/750 [00:13<00:00, 56.19it/s, loss=0.0745]\n",
      "Epoch 16 | Training loss: 0.0745, validation accuracy: 0.9752, validation loss: 0.0805\n",
      "100%|██████████| 750/750 [00:13<00:00, 56.66it/s, loss=0.0715]\n",
      "Epoch 17 | Training loss: 0.0715, validation accuracy: 0.9728, validation loss: 0.0900\n",
      "100%|██████████| 750/750 [00:13<00:00, 56.07it/s, loss=0.0677]\n",
      "Epoch 18 | Training loss: 0.0677, validation accuracy: 0.9769, validation loss: 0.0769\n",
      "100%|██████████| 750/750 [00:13<00:00, 55.84it/s, loss=0.0644]\n",
      "Epoch 19 | Training loss: 0.0644, validation accuracy: 0.9768, validation loss: 0.0774\n",
      "100%|██████████| 750/750 [00:13<00:00, 54.52it/s, loss=0.0616]\n",
      "Epoch 20 | Training loss: 0.0616, validation accuracy: 0.9772, validation loss: 0.0783\n",
      "100%|██████████| 750/750 [00:13<00:00, 56.04it/s, loss=0.0590]\n",
      "Epoch 21 | Training loss: 0.0590, validation accuracy: 0.9757, validation loss: 0.0783\n",
      "100%|██████████| 750/750 [00:13<00:00, 56.35it/s, loss=0.0567]\n",
      "Epoch 22 | Training loss: 0.0567, validation accuracy: 0.9778, validation loss: 0.0732\n",
      "100%|██████████| 750/750 [00:13<00:00, 54.55it/s, loss=0.0538]\n",
      "Epoch 23 | Training loss: 0.0538, validation accuracy: 0.9792, validation loss: 0.0688\n",
      "100%|██████████| 750/750 [00:13<00:00, 54.99it/s, loss=0.0513]\n",
      "Epoch 24 | Training loss: 0.0513, validation accuracy: 0.9792, validation loss: 0.0666\n",
      "100%|██████████| 750/750 [00:13<00:00, 56.01it/s, loss=0.0500]\n",
      "Epoch 25 | Training loss: 0.0500, validation accuracy: 0.9795, validation loss: 0.0662\n",
      "100%|██████████| 750/750 [00:13<00:00, 55.62it/s, loss=0.0479]\n",
      "Epoch 26 | Training loss: 0.0479, validation accuracy: 0.9798, validation loss: 0.0668\n",
      "100%|██████████| 750/750 [00:13<00:00, 54.94it/s, loss=0.0462]\n",
      "Epoch 27 | Training loss: 0.0462, validation accuracy: 0.9802, validation loss: 0.0682\n",
      "100%|██████████| 750/750 [00:13<00:00, 55.89it/s, loss=0.0444]\n",
      "Epoch 28 | Training loss: 0.0444, validation accuracy: 0.9800, validation loss: 0.0661\n",
      "100%|██████████| 750/750 [00:13<00:00, 54.36it/s, loss=0.0431]\n",
      "Epoch 29 | Training loss: 0.0431, validation accuracy: 0.9812, validation loss: 0.0640\n",
      "100%|██████████| 750/750 [00:14<00:00, 50.23it/s, loss=0.0415]\n",
      "Epoch 30 | Training loss: 0.0415, validation accuracy: 0.9816, validation loss: 0.0654\n",
      "100%|██████████| 750/750 [00:13<00:00, 53.89it/s, loss=0.0399]\n",
      "Epoch 31 | Training loss: 0.0399, validation accuracy: 0.9821, validation loss: 0.0607\n",
      "100%|██████████| 750/750 [00:14<00:00, 50.48it/s, loss=0.0393]\n",
      "Epoch 32 | Training loss: 0.0393, validation accuracy: 0.9817, validation loss: 0.0607\n",
      "100%|██████████| 750/750 [00:14<00:00, 52.36it/s, loss=0.0375]\n",
      "Epoch 33 | Training loss: 0.0375, validation accuracy: 0.9793, validation loss: 0.0665\n",
      "100%|██████████| 750/750 [00:15<00:00, 48.45it/s, loss=0.0362]\n",
      "Epoch 34 | Training loss: 0.0362, validation accuracy: 0.9812, validation loss: 0.0625\n",
      "100%|██████████| 750/750 [00:14<00:00, 51.62it/s, loss=0.0346]\n",
      "Epoch 35 | Training loss: 0.0346, validation accuracy: 0.9823, validation loss: 0.0594\n",
      "100%|██████████| 750/750 [00:15<00:00, 47.80it/s, loss=0.0334]\n",
      "Epoch 36 | Training loss: 0.0334, validation accuracy: 0.9823, validation loss: 0.0573\n",
      "100%|██████████| 750/750 [00:14<00:00, 51.86it/s, loss=0.0324]\n",
      "Epoch 37 | Training loss: 0.0324, validation accuracy: 0.9838, validation loss: 0.0591\n",
      "100%|██████████| 750/750 [00:16<00:00, 45.09it/s, loss=0.0317]\n",
      "Epoch 38 | Training loss: 0.0317, validation accuracy: 0.9824, validation loss: 0.0600\n",
      "100%|██████████| 750/750 [00:14<00:00, 52.20it/s, loss=0.0304]\n",
      "Epoch 39 | Training loss: 0.0304, validation accuracy: 0.9834, validation loss: 0.0596\n",
      "100%|██████████| 750/750 [00:13<00:00, 55.94it/s, loss=0.0299]\n",
      "Epoch 40 | Training loss: 0.0299, validation accuracy: 0.9820, validation loss: 0.0651\n",
      "100%|██████████| 750/750 [00:13<00:00, 56.22it/s, loss=0.0287]\n",
      "Epoch 41 | Training loss: 0.0287, validation accuracy: 0.9832, validation loss: 0.0571\n",
      "100%|██████████| 750/750 [00:13<00:00, 56.43it/s, loss=0.0275]\n",
      "Epoch 42 | Training loss: 0.0275, validation accuracy: 0.9835, validation loss: 0.0578\n",
      "100%|██████████| 750/750 [00:13<00:00, 57.09it/s, loss=0.0269]\n",
      "Epoch 43 | Training loss: 0.0269, validation accuracy: 0.9838, validation loss: 0.0571\n",
      "100%|██████████| 750/750 [00:13<00:00, 55.20it/s, loss=0.0253]\n",
      "Epoch 44 | Training loss: 0.0253, validation accuracy: 0.9834, validation loss: 0.0549\n",
      "100%|██████████| 750/750 [00:13<00:00, 55.94it/s, loss=0.0253]\n",
      "Epoch 45 | Training loss: 0.0253, validation accuracy: 0.9828, validation loss: 0.0584\n",
      "100%|██████████| 750/750 [00:13<00:00, 54.93it/s, loss=0.0240]\n",
      "Epoch 46 | Training loss: 0.0240, validation accuracy: 0.9840, validation loss: 0.0564\n",
      "100%|██████████| 750/750 [00:13<00:00, 54.77it/s, loss=0.0234]\n",
      "Epoch 47 | Training loss: 0.0234, validation accuracy: 0.9823, validation loss: 0.0588\n",
      "100%|██████████| 750/750 [00:13<00:00, 56.01it/s, loss=0.0226]\n",
      "Epoch 48 | Training loss: 0.0226, validation accuracy: 0.9839, validation loss: 0.0548\n",
      "100%|██████████| 750/750 [00:13<00:00, 56.07it/s, loss=0.0221]\n",
      "Epoch 49 | Training loss: 0.0221, validation accuracy: 0.9829, validation loss: 0.0565\n",
      "100%|██████████| 750/750 [00:13<00:00, 56.71it/s, loss=0.0216]\n",
      "Epoch 50 | Training loss: 0.0216, validation accuracy: 0.9838, validation loss: 0.0555\n",
      "100%|██████████| 750/750 [00:13<00:00, 56.39it/s, loss=0.0208]\n",
      "Epoch 51 | Training loss: 0.0208, validation accuracy: 0.9819, validation loss: 0.0611\n",
      "100%|██████████| 750/750 [00:15<00:00, 48.94it/s, loss=0.0203]\n",
      "Epoch 52 | Training loss: 0.0203, validation accuracy: 0.9845, validation loss: 0.0536\n",
      "100%|██████████| 750/750 [00:13<00:00, 55.53it/s, loss=0.0190]\n",
      "Epoch 53 | Training loss: 0.0190, validation accuracy: 0.9852, validation loss: 0.0531\n",
      "100%|██████████| 750/750 [00:13<00:00, 55.99it/s, loss=0.0186]\n",
      "Epoch 54 | Training loss: 0.0186, validation accuracy: 0.9843, validation loss: 0.0578\n",
      "100%|██████████| 750/750 [00:14<00:00, 51.13it/s, loss=0.0178]\n",
      "Epoch 55 | Training loss: 0.0178, validation accuracy: 0.9832, validation loss: 0.0608\n",
      "100%|██████████| 750/750 [00:13<00:00, 56.83it/s, loss=0.0176]\n",
      "Epoch 56 | Training loss: 0.0176, validation accuracy: 0.9830, validation loss: 0.0616\n",
      "100%|██████████| 750/750 [00:13<00:00, 56.68it/s, loss=0.0173]\n",
      "Epoch 57 | Training loss: 0.0173, validation accuracy: 0.9840, validation loss: 0.0568\n",
      "100%|██████████| 750/750 [00:13<00:00, 55.02it/s, loss=0.0158]\n",
      "Epoch 58 | Training loss: 0.0158, validation accuracy: 0.9849, validation loss: 0.0572\n"
     ]
    }
   ],
   "source": [
    "epochs = 1000\n",
    "early_stopping = EarlyStopping(5)\n",
    "\n",
    "for epoch in range(epochs):\n",
    "    train_loss = trainer.train_epoch(model, optimizer, dl[\"train\"])\n",
    "    optimizer.finish_epoch()\n",
    "    val_acc, val_loss = trainer.validation(model, dl[\"valid\"])\n",
    "    logger.log(\"Epoch\", epoch+1, \"|\", \n",
    "          f\"Training loss: {train_loss:.4f}, validation accuracy: {val_acc:.4f}, validation loss: {val_loss:.4f}\")\n",
    "    if early_stopping.should_stop(val_loss):\n",
    "        break"
   ]
  },
  {
   "cell_type": "code",
   "execution_count": 40,
   "metadata": {},
   "outputs": [
    {
     "name": "stdout",
     "output_type": "stream",
     "text": [
      "Train: (0.9958541666666667, 0.014195251921541058)\n",
      "Valid: (0.9849166666666667, 0.057167659000018224)\n"
     ]
    }
   ],
   "source": [
    "train_score = trainer.validation(model, dl[\"train\"])\n",
    "valid_score = trainer.validation(model, dl[\"valid\"])\n",
    "logger.log(\"Train:\", train_score)\n",
    "logger.log(\"Valid:\", valid_score)"
   ]
  },
  {
   "cell_type": "code",
   "execution_count": 41,
   "metadata": {},
   "outputs": [],
   "source": [
    "optimizer.accelerate()"
   ]
  },
  {
   "cell_type": "code",
   "execution_count": 42,
   "metadata": {},
   "outputs": [],
   "source": [
    "optimizer.store_parameters()\n",
    "model.cuda()\n",
    "None"
   ]
  },
  {
   "cell_type": "code",
   "execution_count": 43,
   "metadata": {},
   "outputs": [
    {
     "name": "stdout",
     "output_type": "stream",
     "text": [
      "Train: (0.997125, 0.012467049477835342)\n",
      "Valid: (0.9853333333333333, 0.052354587704777564)\n"
     ]
    }
   ],
   "source": [
    "train_score = trainer.validation(model, dl[\"train\"])\n",
    "valid_score = trainer.validation(model, dl[\"valid\"])\n",
    "logger.log(\"Train:\", train_score)\n",
    "logger.log(\"Valid:\", valid_score)"
   ]
  },
  {
   "cell_type": "code",
   "execution_count": null,
   "metadata": {},
   "outputs": [],
   "source": []
  }
 ],
 "metadata": {
  "kernelspec": {
   "display_name": "Python 3 (Torch)",
   "language": "python",
   "name": "torch"
  },
  "language_info": {
   "codemirror_mode": {
    "name": "ipython",
    "version": 3
   },
   "file_extension": ".py",
   "mimetype": "text/x-python",
   "name": "python",
   "nbconvert_exporter": "python",
   "pygments_lexer": "ipython3",
   "version": "3.8.11"
  }
 },
 "nbformat": 4,
 "nbformat_minor": 4
}
