{
 "cells": [
  {
   "cell_type": "code",
   "execution_count": 1,
   "metadata": {},
   "outputs": [],
   "source": [
    "import sys\n",
    "sys.path.insert(0, \"../..\")"
   ]
  },
  {
   "cell_type": "code",
   "execution_count": 2,
   "metadata": {},
   "outputs": [],
   "source": [
    "import torch\n",
    "from torch import nn\n",
    "import numpy as np\n",
    "from copy import deepcopy\n",
    "\n",
    "from nn_extrapolation import AcceleratedSGD\n",
    "from nn_utils import *"
   ]
  },
  {
   "cell_type": "code",
   "execution_count": 3,
   "metadata": {},
   "outputs": [
    {
     "data": {
      "text/plain": [
       "True"
      ]
     },
     "execution_count": 3,
     "metadata": {},
     "output_type": "execute_result"
    }
   ],
   "source": [
    "torch.cuda.is_available()"
   ]
  },
  {
   "cell_type": "code",
   "execution_count": 4,
   "metadata": {},
   "outputs": [],
   "source": [
    "trainer = Trainer(\n",
    "    device=\"cuda\",\n",
    "    loss_fn=nn.NLLLoss(reduction=\"mean\"),\n",
    "    val_loss_fn=nn.NLLLoss(reduction=\"sum\"),\n",
    ")"
   ]
  },
  {
   "cell_type": "code",
   "execution_count": 5,
   "metadata": {},
   "outputs": [],
   "source": [
    "dl = load_dataset(\n",
    "    dataset=\"mnist\", \n",
    "    root=\"../../../MNIST\", \n",
    "    download=False, \n",
    "    validation_split=0.2,\n",
    "    batch_size=64, \n",
    "    num_workers=2,\n",
    ")"
   ]
  },
  {
   "cell_type": "code",
   "execution_count": 6,
   "metadata": {},
   "outputs": [],
   "source": [
    "def make_model():\n",
    "    return nn.Sequential(\n",
    "        nn.Conv2d(1, 32, 3),\n",
    "        nn.ReLU(),\n",
    "        nn.Conv2d(32, 32, 3),\n",
    "        nn.ReLU(),\n",
    "        nn.MaxPool2d(2),\n",
    "        nn.Conv2d(32, 64, 3),\n",
    "        nn.ReLU(),\n",
    "        nn.Conv2d(64, 64, 3),\n",
    "        nn.ReLU(),\n",
    "        nn.MaxPool2d(2),\n",
    "        nn.Flatten(),\n",
    "        nn.Linear(4*4*64, 128),\n",
    "        nn.ReLU(),\n",
    "        nn.Linear(128, 10),\n",
    "        nn.LogSoftmax(-1),\n",
    "    )"
   ]
  },
  {
   "cell_type": "markdown",
   "metadata": {},
   "source": [
    "## Epoch"
   ]
  },
  {
   "cell_type": "code",
   "execution_count": 38,
   "metadata": {},
   "outputs": [
    {
     "data": {
      "text/plain": [
       "Sequential(\n",
       "  (0): Conv2d(1, 32, kernel_size=(3, 3), stride=(1, 1))\n",
       "  (1): ReLU()\n",
       "  (2): Conv2d(32, 32, kernel_size=(3, 3), stride=(1, 1))\n",
       "  (3): ReLU()\n",
       "  (4): MaxPool2d(kernel_size=2, stride=2, padding=0, dilation=1, ceil_mode=False)\n",
       "  (5): Conv2d(32, 64, kernel_size=(3, 3), stride=(1, 1))\n",
       "  (6): ReLU()\n",
       "  (7): Conv2d(64, 64, kernel_size=(3, 3), stride=(1, 1))\n",
       "  (8): ReLU()\n",
       "  (9): MaxPool2d(kernel_size=2, stride=2, padding=0, dilation=1, ceil_mode=False)\n",
       "  (10): Flatten(start_dim=1, end_dim=-1)\n",
       "  (11): Linear(in_features=1024, out_features=128, bias=True)\n",
       "  (12): ReLU()\n",
       "  (13): Linear(in_features=128, out_features=10, bias=True)\n",
       "  (14): LogSoftmax(dim=-1)\n",
       ")"
      ]
     },
     "execution_count": 38,
     "metadata": {},
     "output_type": "execute_result"
    }
   ],
   "source": [
    "model = make_model()\n",
    "model.to(trainer.device)"
   ]
  },
  {
   "cell_type": "code",
   "execution_count": 39,
   "metadata": {},
   "outputs": [],
   "source": [
    "optimizer = AcceleratedSGD(model.parameters(), 1e-3, k=10, momentum=0.5, weight_decay=1e-5, mode=\"epoch\")\n",
    "logger = Logger(\"SGD_momentum-early_stopping.txt\")"
   ]
  },
  {
   "cell_type": "code",
   "execution_count": 40,
   "metadata": {
    "tags": []
   },
   "outputs": [
    {
     "name": "stdout",
     "output_type": "stream",
     "text": [
      "100%|██████████| 750/750 [00:12<00:00, 58.20it/s, loss=2.2992]\n",
      "Epoch 1 | Training loss: 2.2992, validation accuracy: 0.1511, validation loss: 2.2926\n",
      "100%|██████████| 750/750 [00:13<00:00, 57.63it/s, loss=2.2726]\n",
      "Epoch 2 | Training loss: 2.2726, validation accuracy: 0.3871, validation loss: 2.2102\n",
      "100%|██████████| 750/750 [00:12<00:00, 57.92it/s, loss=1.1880]\n",
      "Epoch 3 | Training loss: 1.1880, validation accuracy: 0.8709, validation loss: 0.4423\n",
      "100%|██████████| 750/750 [00:13<00:00, 56.29it/s, loss=0.3963]\n",
      "Epoch 4 | Training loss: 0.3963, validation accuracy: 0.9091, validation loss: 0.3042\n",
      "100%|██████████| 750/750 [00:13<00:00, 54.59it/s, loss=0.2894]\n",
      "Epoch 5 | Training loss: 0.2894, validation accuracy: 0.9340, validation loss: 0.2288\n",
      "100%|██████████| 750/750 [00:14<00:00, 53.19it/s, loss=0.2237]\n",
      "Epoch 6 | Training loss: 0.2237, validation accuracy: 0.9453, validation loss: 0.1848\n",
      "100%|██████████| 750/750 [00:13<00:00, 57.33it/s, loss=0.1815]\n",
      "Epoch 7 | Training loss: 0.1815, validation accuracy: 0.9523, validation loss: 0.1594\n",
      "100%|██████████| 750/750 [00:13<00:00, 56.48it/s, loss=0.1516]\n",
      "Epoch 8 | Training loss: 0.1516, validation accuracy: 0.9573, validation loss: 0.1417\n",
      "100%|██████████| 750/750 [00:13<00:00, 55.54it/s, loss=0.1320]\n",
      "Epoch 9 | Training loss: 0.1320, validation accuracy: 0.9648, validation loss: 0.1177\n",
      "100%|██████████| 750/750 [00:13<00:00, 57.11it/s, loss=0.1185]\n",
      "Epoch 10 | Training loss: 0.1185, validation accuracy: 0.9632, validation loss: 0.1221\n",
      "100%|██████████| 750/750 [00:13<00:00, 57.48it/s, loss=0.1069]\n",
      "Epoch 11 | Training loss: 0.1069, validation accuracy: 0.9683, validation loss: 0.1051\n",
      "100%|██████████| 750/750 [00:13<00:00, 56.86it/s, loss=0.0986]\n",
      "Epoch 12 | Training loss: 0.0986, validation accuracy: 0.9695, validation loss: 0.0996\n",
      "100%|██████████| 750/750 [00:13<00:00, 56.47it/s, loss=0.0907]\n",
      "Epoch 13 | Training loss: 0.0907, validation accuracy: 0.9697, validation loss: 0.1022\n",
      "100%|██████████| 750/750 [00:14<00:00, 50.26it/s, loss=0.0855]\n",
      "Epoch 14 | Training loss: 0.0855, validation accuracy: 0.9702, validation loss: 0.0976\n",
      "100%|██████████| 750/750 [00:12<00:00, 58.53it/s, loss=0.0805]\n",
      "Epoch 15 | Training loss: 0.0805, validation accuracy: 0.9748, validation loss: 0.0868\n",
      "100%|██████████| 750/750 [00:12<00:00, 58.04it/s, loss=0.0761]\n",
      "Epoch 16 | Training loss: 0.0761, validation accuracy: 0.9732, validation loss: 0.0862\n",
      "100%|██████████| 750/750 [00:12<00:00, 57.98it/s, loss=0.0722]\n",
      "Epoch 17 | Training loss: 0.0722, validation accuracy: 0.9767, validation loss: 0.0814\n",
      "100%|██████████| 750/750 [00:12<00:00, 57.89it/s, loss=0.0688]\n",
      "Epoch 18 | Training loss: 0.0688, validation accuracy: 0.9762, validation loss: 0.0838\n",
      "100%|██████████| 750/750 [00:12<00:00, 58.23it/s, loss=0.0654]\n",
      "Epoch 19 | Training loss: 0.0654, validation accuracy: 0.9782, validation loss: 0.0736\n",
      "100%|██████████| 750/750 [00:13<00:00, 56.61it/s, loss=0.0627]\n",
      "Epoch 20 | Training loss: 0.0627, validation accuracy: 0.9735, validation loss: 0.0872\n",
      "100%|██████████| 750/750 [00:13<00:00, 56.67it/s, loss=0.0605]\n",
      "Epoch 21 | Training loss: 0.0605, validation accuracy: 0.9779, validation loss: 0.0775\n",
      "100%|██████████| 750/750 [00:13<00:00, 56.27it/s, loss=0.0574]\n",
      "Epoch 22 | Training loss: 0.0574, validation accuracy: 0.9784, validation loss: 0.0707\n",
      "100%|██████████| 750/750 [00:12<00:00, 58.31it/s, loss=0.0549]\n",
      "Epoch 23 | Training loss: 0.0549, validation accuracy: 0.9794, validation loss: 0.0720\n",
      "100%|██████████| 750/750 [00:12<00:00, 58.78it/s, loss=0.0530]\n",
      "Epoch 24 | Training loss: 0.0530, validation accuracy: 0.9785, validation loss: 0.0704\n",
      "100%|██████████| 750/750 [00:12<00:00, 58.19it/s, loss=0.0512]\n",
      "Epoch 25 | Training loss: 0.0512, validation accuracy: 0.9801, validation loss: 0.0694\n",
      "100%|██████████| 750/750 [00:12<00:00, 58.52it/s, loss=0.0491]\n",
      "Epoch 26 | Training loss: 0.0491, validation accuracy: 0.9798, validation loss: 0.0679\n",
      "100%|██████████| 750/750 [00:12<00:00, 58.46it/s, loss=0.0474]\n",
      "Epoch 27 | Training loss: 0.0474, validation accuracy: 0.9774, validation loss: 0.0754\n",
      "100%|██████████| 750/750 [00:12<00:00, 58.83it/s, loss=0.0451]\n",
      "Epoch 28 | Training loss: 0.0451, validation accuracy: 0.9802, validation loss: 0.0664\n",
      "100%|██████████| 750/750 [00:12<00:00, 58.54it/s, loss=0.0442]\n",
      "Epoch 29 | Training loss: 0.0442, validation accuracy: 0.9828, validation loss: 0.0610\n",
      "100%|██████████| 750/750 [00:13<00:00, 57.50it/s, loss=0.0427]\n",
      "Epoch 30 | Training loss: 0.0427, validation accuracy: 0.9819, validation loss: 0.0643\n",
      "100%|██████████| 750/750 [00:12<00:00, 58.50it/s, loss=0.0408]\n",
      "Epoch 31 | Training loss: 0.0408, validation accuracy: 0.9804, validation loss: 0.0652\n",
      "100%|██████████| 750/750 [00:12<00:00, 58.65it/s, loss=0.0402]\n",
      "Epoch 32 | Training loss: 0.0402, validation accuracy: 0.9825, validation loss: 0.0591\n",
      "100%|██████████| 750/750 [00:12<00:00, 58.79it/s, loss=0.0385]\n",
      "Epoch 33 | Training loss: 0.0385, validation accuracy: 0.9805, validation loss: 0.0662\n",
      "100%|██████████| 750/750 [00:12<00:00, 58.93it/s, loss=0.0373]\n",
      "Epoch 34 | Training loss: 0.0373, validation accuracy: 0.9837, validation loss: 0.0591\n",
      "100%|██████████| 750/750 [00:12<00:00, 58.88it/s, loss=0.0357]\n",
      "Epoch 35 | Training loss: 0.0357, validation accuracy: 0.9841, validation loss: 0.0567\n",
      "100%|██████████| 750/750 [00:12<00:00, 59.11it/s, loss=0.0345]\n",
      "Epoch 36 | Training loss: 0.0345, validation accuracy: 0.9818, validation loss: 0.0674\n",
      "100%|██████████| 750/750 [00:13<00:00, 57.22it/s, loss=0.0340]\n",
      "Epoch 37 | Training loss: 0.0340, validation accuracy: 0.9839, validation loss: 0.0605\n",
      "100%|██████████| 750/750 [00:12<00:00, 58.97it/s, loss=0.0331]\n",
      "Epoch 38 | Training loss: 0.0331, validation accuracy: 0.9820, validation loss: 0.0642\n",
      "100%|██████████| 750/750 [00:12<00:00, 58.83it/s, loss=0.0317]\n",
      "Epoch 39 | Training loss: 0.0317, validation accuracy: 0.9829, validation loss: 0.0600\n",
      "100%|██████████| 750/750 [00:12<00:00, 58.71it/s, loss=0.0308]\n",
      "Epoch 40 | Training loss: 0.0308, validation accuracy: 0.9820, validation loss: 0.0633\n"
     ]
    }
   ],
   "source": [
    "epochs = 1000\n",
    "early_stopping = EarlyStopping(5)\n",
    "\n",
    "for epoch in range(epochs):\n",
    "    train_loss = trainer.train_epoch(model, optimizer, dl[\"train\"])\n",
    "    optimizer.finish_epoch()\n",
    "    val_acc, val_loss = trainer.validation(model, dl[\"valid\"])\n",
    "    logger.log(\"Epoch\", epoch+1, \"|\", \n",
    "          f\"Training loss: {train_loss:.4f}, validation accuracy: {val_acc:.4f}, validation loss: {val_loss:.4f}\")\n",
    "    if early_stopping.should_stop(val_loss):\n",
    "        break"
   ]
  },
  {
   "cell_type": "code",
   "execution_count": 41,
   "metadata": {},
   "outputs": [
    {
     "name": "stdout",
     "output_type": "stream",
     "text": [
      "Train: (0.9901458333333333, 0.031363423331175)\n",
      "Valid: (0.982, 0.06327754400360087)\n"
     ]
    }
   ],
   "source": [
    "train_score = trainer.validation(model, dl[\"train\"])\n",
    "valid_score = trainer.validation(model, dl[\"valid\"])\n",
    "logger.log(\"Train:\", train_score)\n",
    "logger.log(\"Valid:\", valid_score)"
   ]
  },
  {
   "cell_type": "code",
   "execution_count": 42,
   "metadata": {},
   "outputs": [],
   "source": [
    "optimizer.accelerate()"
   ]
  },
  {
   "cell_type": "code",
   "execution_count": 43,
   "metadata": {},
   "outputs": [],
   "source": [
    "optimizer.store_parameters()\n",
    "model.cuda()\n",
    "None"
   ]
  },
  {
   "cell_type": "code",
   "execution_count": 44,
   "metadata": {},
   "outputs": [
    {
     "name": "stdout",
     "output_type": "stream",
     "text": [
      "Train: (0.9927708333333334, 0.02555174517771229)\n",
      "Valid: (0.9851666666666666, 0.0553959670245337)\n"
     ]
    }
   ],
   "source": [
    "train_score = trainer.validation(model, dl[\"train\"])\n",
    "valid_score = trainer.validation(model, dl[\"valid\"])\n",
    "logger.log(\"Train:\", train_score)\n",
    "logger.log(\"Valid:\", valid_score)"
   ]
  },
  {
   "cell_type": "markdown",
   "metadata": {},
   "source": [
    "## Epoch average"
   ]
  },
  {
   "cell_type": "code",
   "execution_count": 45,
   "metadata": {},
   "outputs": [],
   "source": [
    "model = make_model()\n",
    "model.cuda()\n",
    "optimizer = AcceleratedSGD(model.parameters(), 1e-3, k=10, momentum=0.5, weight_decay=1e-5, mode=\"epoch_avg\")\n",
    "logger = Logger(\"SGD_momentum-avg-early_stopping.txt\")"
   ]
  },
  {
   "cell_type": "code",
   "execution_count": 46,
   "metadata": {
    "tags": []
   },
   "outputs": [
    {
     "name": "stdout",
     "output_type": "stream",
     "text": [
      "100%|██████████| 750/750 [00:13<00:00, 56.97it/s, loss=2.2981]\n",
      "Epoch 1 | Training loss: 2.2981, validation accuracy: 0.0998, validation loss: 2.2918\n",
      "100%|██████████| 750/750 [00:13<00:00, 57.19it/s, loss=2.2707]\n",
      "Epoch 2 | Training loss: 2.2707, validation accuracy: 0.4677, validation loss: 2.2159\n",
      "100%|██████████| 750/750 [00:13<00:00, 57.28it/s, loss=1.2826]\n",
      "Epoch 3 | Training loss: 1.2826, validation accuracy: 0.8683, validation loss: 0.4352\n",
      "100%|██████████| 750/750 [00:13<00:00, 57.47it/s, loss=0.4021]\n",
      "Epoch 4 | Training loss: 0.4021, validation accuracy: 0.9037, validation loss: 0.3251\n",
      "100%|██████████| 750/750 [00:13<00:00, 57.27it/s, loss=0.2987]\n",
      "Epoch 5 | Training loss: 0.2987, validation accuracy: 0.9243, validation loss: 0.2460\n",
      "100%|██████████| 750/750 [00:13<00:00, 57.19it/s, loss=0.2280]\n",
      "Epoch 6 | Training loss: 0.2280, validation accuracy: 0.9435, validation loss: 0.1911\n",
      "100%|██████████| 750/750 [00:13<00:00, 55.58it/s, loss=0.1819]\n",
      "Epoch 7 | Training loss: 0.1819, validation accuracy: 0.9539, validation loss: 0.1594\n",
      "100%|██████████| 750/750 [00:13<00:00, 56.74it/s, loss=0.1507]\n",
      "Epoch 8 | Training loss: 0.1507, validation accuracy: 0.9631, validation loss: 0.1325\n",
      "100%|██████████| 750/750 [00:13<00:00, 55.70it/s, loss=0.1286]\n",
      "Epoch 9 | Training loss: 0.1286, validation accuracy: 0.9667, validation loss: 0.1141\n",
      "100%|██████████| 750/750 [00:13<00:00, 56.48it/s, loss=0.1135]\n",
      "Epoch 10 | Training loss: 0.1135, validation accuracy: 0.9631, validation loss: 0.1229\n",
      "100%|██████████| 750/750 [00:13<00:00, 55.99it/s, loss=0.1031]\n",
      "Epoch 11 | Training loss: 0.1031, validation accuracy: 0.9692, validation loss: 0.1035\n",
      "100%|██████████| 750/750 [00:13<00:00, 55.26it/s, loss=0.0938]\n",
      "Epoch 12 | Training loss: 0.0938, validation accuracy: 0.9723, validation loss: 0.0985\n",
      "100%|██████████| 750/750 [00:13<00:00, 56.16it/s, loss=0.0878]\n",
      "Epoch 13 | Training loss: 0.0878, validation accuracy: 0.9737, validation loss: 0.0907\n",
      "100%|██████████| 750/750 [00:13<00:00, 56.26it/s, loss=0.0811]\n",
      "Epoch 14 | Training loss: 0.0811, validation accuracy: 0.9739, validation loss: 0.0848\n",
      "100%|██████████| 750/750 [00:13<00:00, 55.76it/s, loss=0.0769]\n",
      "Epoch 15 | Training loss: 0.0769, validation accuracy: 0.9756, validation loss: 0.0829\n",
      "100%|██████████| 750/750 [00:13<00:00, 55.67it/s, loss=0.0727]\n",
      "Epoch 16 | Training loss: 0.0727, validation accuracy: 0.9740, validation loss: 0.0871\n",
      "100%|██████████| 750/750 [00:13<00:00, 57.20it/s, loss=0.0685]\n",
      "Epoch 17 | Training loss: 0.0685, validation accuracy: 0.9753, validation loss: 0.0809\n",
      "100%|██████████| 750/750 [00:13<00:00, 56.46it/s, loss=0.0662]\n",
      "Epoch 18 | Training loss: 0.0662, validation accuracy: 0.9758, validation loss: 0.0808\n",
      "100%|██████████| 750/750 [00:13<00:00, 55.20it/s, loss=0.0621]\n",
      "Epoch 19 | Training loss: 0.0621, validation accuracy: 0.9778, validation loss: 0.0754\n",
      "100%|██████████| 750/750 [00:13<00:00, 54.55it/s, loss=0.0589]\n",
      "Epoch 20 | Training loss: 0.0589, validation accuracy: 0.9756, validation loss: 0.0828\n",
      "100%|██████████| 750/750 [00:13<00:00, 57.27it/s, loss=0.0567]\n",
      "Epoch 21 | Training loss: 0.0567, validation accuracy: 0.9798, validation loss: 0.0697\n",
      "100%|██████████| 750/750 [00:13<00:00, 57.25it/s, loss=0.0545]\n",
      "Epoch 22 | Training loss: 0.0545, validation accuracy: 0.9812, validation loss: 0.0699\n",
      "100%|██████████| 750/750 [00:13<00:00, 55.48it/s, loss=0.0522]\n",
      "Epoch 23 | Training loss: 0.0522, validation accuracy: 0.9798, validation loss: 0.0672\n",
      "100%|██████████| 750/750 [00:13<00:00, 56.43it/s, loss=0.0505]\n",
      "Epoch 24 | Training loss: 0.0505, validation accuracy: 0.9813, validation loss: 0.0686\n",
      "100%|██████████| 750/750 [00:13<00:00, 55.06it/s, loss=0.0485]\n",
      "Epoch 25 | Training loss: 0.0485, validation accuracy: 0.9800, validation loss: 0.0679\n",
      "100%|██████████| 750/750 [00:13<00:00, 55.20it/s, loss=0.0467]\n",
      "Epoch 26 | Training loss: 0.0467, validation accuracy: 0.9808, validation loss: 0.0674\n",
      "100%|██████████| 750/750 [00:13<00:00, 56.75it/s, loss=0.0455]\n",
      "Epoch 27 | Training loss: 0.0455, validation accuracy: 0.9819, validation loss: 0.0637\n",
      "100%|██████████| 750/750 [00:13<00:00, 57.31it/s, loss=0.0435]\n",
      "Epoch 28 | Training loss: 0.0435, validation accuracy: 0.9808, validation loss: 0.0648\n",
      "100%|██████████| 750/750 [00:12<00:00, 58.04it/s, loss=0.0418]\n",
      "Epoch 29 | Training loss: 0.0418, validation accuracy: 0.9828, validation loss: 0.0634\n",
      "100%|██████████| 750/750 [00:12<00:00, 58.47it/s, loss=0.0401]\n",
      "Epoch 30 | Training loss: 0.0401, validation accuracy: 0.9818, validation loss: 0.0640\n",
      "100%|██████████| 750/750 [00:12<00:00, 58.02it/s, loss=0.0391]\n",
      "Epoch 31 | Training loss: 0.0391, validation accuracy: 0.9822, validation loss: 0.0619\n",
      "100%|██████████| 750/750 [00:13<00:00, 56.35it/s, loss=0.0373]\n",
      "Epoch 32 | Training loss: 0.0373, validation accuracy: 0.9818, validation loss: 0.0645\n",
      "100%|██████████| 750/750 [00:13<00:00, 56.55it/s, loss=0.0371]\n",
      "Epoch 33 | Training loss: 0.0371, validation accuracy: 0.9824, validation loss: 0.0605\n",
      "100%|██████████| 750/750 [00:12<00:00, 57.93it/s, loss=0.0352]\n",
      "Epoch 34 | Training loss: 0.0352, validation accuracy: 0.9825, validation loss: 0.0608\n",
      "100%|██████████| 750/750 [00:13<00:00, 56.93it/s, loss=0.0342]\n",
      "Epoch 35 | Training loss: 0.0342, validation accuracy: 0.9822, validation loss: 0.0606\n",
      "100%|██████████| 750/750 [00:13<00:00, 57.50it/s, loss=0.0323]\n",
      "Epoch 36 | Training loss: 0.0323, validation accuracy: 0.9818, validation loss: 0.0612\n",
      "100%|██████████| 750/750 [00:12<00:00, 58.38it/s, loss=0.0321]\n",
      "Epoch 37 | Training loss: 0.0321, validation accuracy: 0.9818, validation loss: 0.0629\n",
      "100%|██████████| 750/750 [00:12<00:00, 58.48it/s, loss=0.0303]\n",
      "Epoch 38 | Training loss: 0.0303, validation accuracy: 0.9835, validation loss: 0.0580\n",
      "100%|██████████| 750/750 [00:12<00:00, 58.29it/s, loss=0.0295]\n",
      "Epoch 39 | Training loss: 0.0295, validation accuracy: 0.9830, validation loss: 0.0580\n",
      "100%|██████████| 750/750 [00:13<00:00, 56.51it/s, loss=0.0288]\n",
      "Epoch 40 | Training loss: 0.0288, validation accuracy: 0.9842, validation loss: 0.0580\n",
      "100%|██████████| 750/750 [00:12<00:00, 58.20it/s, loss=0.0283]\n",
      "Epoch 41 | Training loss: 0.0283, validation accuracy: 0.9841, validation loss: 0.0546\n",
      "100%|██████████| 750/750 [00:12<00:00, 58.36it/s, loss=0.0268]\n",
      "Epoch 42 | Training loss: 0.0268, validation accuracy: 0.9846, validation loss: 0.0567\n",
      "100%|██████████| 750/750 [00:13<00:00, 57.27it/s, loss=0.0258]\n",
      "Epoch 43 | Training loss: 0.0258, validation accuracy: 0.9841, validation loss: 0.0582\n",
      "100%|██████████| 750/750 [00:13<00:00, 55.68it/s, loss=0.0255]\n",
      "Epoch 44 | Training loss: 0.0255, validation accuracy: 0.9826, validation loss: 0.0641\n",
      "100%|██████████| 750/750 [00:12<00:00, 57.75it/s, loss=0.0238]\n",
      "Epoch 45 | Training loss: 0.0238, validation accuracy: 0.9813, validation loss: 0.0677\n",
      "100%|██████████| 750/750 [00:13<00:00, 56.40it/s, loss=0.0237]\n",
      "Epoch 46 | Training loss: 0.0237, validation accuracy: 0.9825, validation loss: 0.0636\n"
     ]
    }
   ],
   "source": [
    "epochs = 1000\n",
    "early_stopping = EarlyStopping(5)\n",
    "\n",
    "for epoch in range(epochs):\n",
    "    train_loss = trainer.train_epoch(model, optimizer, dl[\"train\"])\n",
    "    optimizer.finish_epoch()\n",
    "    val_acc, val_loss = trainer.validation(model, dl[\"valid\"])\n",
    "    logger.log(\"Epoch\", epoch+1, \"|\", \n",
    "          f\"Training loss: {train_loss:.4f}, validation accuracy: {val_acc:.4f}, validation loss: {val_loss:.4f}\")\n",
    "    if early_stopping.should_stop(val_loss):\n",
    "        break"
   ]
  },
  {
   "cell_type": "code",
   "execution_count": 47,
   "metadata": {},
   "outputs": [
    {
     "name": "stdout",
     "output_type": "stream",
     "text": [
      "Train: (0.9924583333333333, 0.024017436567383508)\n",
      "Valid: (0.9825, 0.063618650574858)\n"
     ]
    }
   ],
   "source": [
    "train_score = trainer.validation(model, dl[\"train\"])\n",
    "valid_score = trainer.validation(model, dl[\"valid\"])\n",
    "logger.log(\"Train:\", train_score)\n",
    "logger.log(\"Valid:\", valid_score)"
   ]
  },
  {
   "cell_type": "code",
   "execution_count": 48,
   "metadata": {},
   "outputs": [],
   "source": [
    "optimizer.accelerate()"
   ]
  },
  {
   "cell_type": "code",
   "execution_count": 49,
   "metadata": {},
   "outputs": [],
   "source": [
    "optimizer.store_parameters()\n",
    "model.cuda()\n",
    "None"
   ]
  },
  {
   "cell_type": "code",
   "execution_count": 50,
   "metadata": {},
   "outputs": [
    {
     "name": "stdout",
     "output_type": "stream",
     "text": [
      "Train: (0.99075, 0.031733908565094074)\n",
      "Valid: (0.9831666666666666, 0.0573713893860889)\n"
     ]
    }
   ],
   "source": [
    "train_score = trainer.validation(model, dl[\"train\"])\n",
    "valid_score = trainer.validation(model, dl[\"valid\"])\n",
    "logger.log(\"Train:\", train_score)\n",
    "logger.log(\"Valid:\", valid_score)"
   ]
  },
  {
   "cell_type": "markdown",
   "metadata": {},
   "source": [
    "## Epoch average, with span = 20"
   ]
  },
  {
   "cell_type": "code",
   "execution_count": 51,
   "metadata": {},
   "outputs": [],
   "source": [
    "model = make_model()\n",
    "model.cuda()\n",
    "optimizer = AcceleratedSGD(model.parameters(), 1e-3, k=10, momentum=0.5, weight_decay=1e-5, mode=\"epoch_avg\", avg_alpha = (2 / (20 + 1)))\n",
    "logger = Logger(\"SGD_momentum-avg_span_20-early_stopping.txt\")"
   ]
  },
  {
   "cell_type": "code",
   "execution_count": 52,
   "metadata": {},
   "outputs": [
    {
     "name": "stdout",
     "output_type": "stream",
     "text": [
      "100%|██████████| 750/750 [00:13<00:00, 57.41it/s, loss=2.3007]\n",
      "Epoch 1 | Training loss: 2.3007, validation accuracy: 0.1477, validation loss: 2.2957\n",
      "100%|██████████| 750/750 [00:13<00:00, 56.88it/s, loss=2.2873]\n",
      "Epoch 2 | Training loss: 2.2873, validation accuracy: 0.3137, validation loss: 2.2699\n",
      "100%|██████████| 750/750 [00:12<00:00, 58.18it/s, loss=1.9593]\n",
      "Epoch 3 | Training loss: 1.9593, validation accuracy: 0.8196, validation loss: 0.7019\n",
      "100%|██████████| 750/750 [00:12<00:00, 57.74it/s, loss=0.4518]\n",
      "Epoch 4 | Training loss: 0.4518, validation accuracy: 0.9101, validation loss: 0.3042\n",
      "100%|██████████| 750/750 [00:12<00:00, 58.43it/s, loss=0.2956]\n",
      "Epoch 5 | Training loss: 0.2956, validation accuracy: 0.9192, validation loss: 0.2644\n",
      "100%|██████████| 750/750 [00:12<00:00, 58.49it/s, loss=0.2250]\n",
      "Epoch 6 | Training loss: 0.2250, validation accuracy: 0.9467, validation loss: 0.1848\n",
      "100%|██████████| 750/750 [00:12<00:00, 58.33it/s, loss=0.1808]\n",
      "Epoch 7 | Training loss: 0.1808, validation accuracy: 0.9523, validation loss: 0.1592\n",
      "100%|██████████| 750/750 [00:12<00:00, 58.29it/s, loss=0.1503]\n",
      "Epoch 8 | Training loss: 0.1503, validation accuracy: 0.9587, validation loss: 0.1399\n",
      "100%|██████████| 750/750 [00:12<00:00, 58.05it/s, loss=0.1306]\n",
      "Epoch 9 | Training loss: 0.1306, validation accuracy: 0.9603, validation loss: 0.1324\n",
      "100%|██████████| 750/750 [00:12<00:00, 58.19it/s, loss=0.1161]\n",
      "Epoch 10 | Training loss: 0.1161, validation accuracy: 0.9621, validation loss: 0.1251\n",
      "100%|██████████| 750/750 [00:12<00:00, 57.98it/s, loss=0.1044]\n",
      "Epoch 11 | Training loss: 0.1044, validation accuracy: 0.9674, validation loss: 0.1076\n",
      "100%|██████████| 750/750 [00:12<00:00, 57.96it/s, loss=0.0960]\n",
      "Epoch 12 | Training loss: 0.0960, validation accuracy: 0.9716, validation loss: 0.0971\n",
      "100%|██████████| 750/750 [00:12<00:00, 58.67it/s, loss=0.0878]\n",
      "Epoch 13 | Training loss: 0.0878, validation accuracy: 0.9731, validation loss: 0.0920\n",
      "100%|██████████| 750/750 [00:12<00:00, 58.52it/s, loss=0.0828]\n",
      "Epoch 14 | Training loss: 0.0828, validation accuracy: 0.9746, validation loss: 0.0862\n",
      "100%|██████████| 750/750 [00:12<00:00, 58.21it/s, loss=0.0774]\n",
      "Epoch 15 | Training loss: 0.0774, validation accuracy: 0.9740, validation loss: 0.0874\n",
      "100%|██████████| 750/750 [00:12<00:00, 58.17it/s, loss=0.0732]\n",
      "Epoch 16 | Training loss: 0.0732, validation accuracy: 0.9736, validation loss: 0.0913\n",
      "100%|██████████| 750/750 [00:12<00:00, 58.41it/s, loss=0.0693]\n",
      "Epoch 17 | Training loss: 0.0693, validation accuracy: 0.9771, validation loss: 0.0807\n",
      "100%|██████████| 750/750 [00:12<00:00, 58.41it/s, loss=0.0655]\n",
      "Epoch 18 | Training loss: 0.0655, validation accuracy: 0.9784, validation loss: 0.0753\n",
      "100%|██████████| 750/750 [00:12<00:00, 58.12it/s, loss=0.0629]\n",
      "Epoch 19 | Training loss: 0.0629, validation accuracy: 0.9772, validation loss: 0.0752\n",
      "100%|██████████| 750/750 [00:12<00:00, 58.17it/s, loss=0.0597]\n",
      "Epoch 20 | Training loss: 0.0597, validation accuracy: 0.9802, validation loss: 0.0720\n",
      "100%|██████████| 750/750 [00:12<00:00, 58.39it/s, loss=0.0572]\n",
      "Epoch 21 | Training loss: 0.0572, validation accuracy: 0.9793, validation loss: 0.0704\n",
      "100%|██████████| 750/750 [00:12<00:00, 58.37it/s, loss=0.0544]\n",
      "Epoch 22 | Training loss: 0.0544, validation accuracy: 0.9794, validation loss: 0.0731\n",
      "100%|██████████| 750/750 [00:12<00:00, 58.33it/s, loss=0.0525]\n",
      "Epoch 23 | Training loss: 0.0525, validation accuracy: 0.9808, validation loss: 0.0679\n",
      "100%|██████████| 750/750 [00:12<00:00, 58.28it/s, loss=0.0499]\n",
      "Epoch 24 | Training loss: 0.0499, validation accuracy: 0.9797, validation loss: 0.0711\n",
      "100%|██████████| 750/750 [00:12<00:00, 58.47it/s, loss=0.0490]\n",
      "Epoch 25 | Training loss: 0.0490, validation accuracy: 0.9822, validation loss: 0.0658\n",
      "100%|██████████| 750/750 [00:12<00:00, 58.15it/s, loss=0.0461]\n",
      "Epoch 26 | Training loss: 0.0461, validation accuracy: 0.9811, validation loss: 0.0669\n",
      "100%|██████████| 750/750 [00:12<00:00, 58.36it/s, loss=0.0449]\n",
      "Epoch 27 | Training loss: 0.0449, validation accuracy: 0.9829, validation loss: 0.0613\n",
      "100%|██████████| 750/750 [00:12<00:00, 58.24it/s, loss=0.0430]\n",
      "Epoch 28 | Training loss: 0.0430, validation accuracy: 0.9820, validation loss: 0.0627\n",
      "100%|██████████| 750/750 [00:12<00:00, 58.24it/s, loss=0.0414]\n",
      "Epoch 29 | Training loss: 0.0414, validation accuracy: 0.9822, validation loss: 0.0638\n",
      "100%|██████████| 750/750 [00:12<00:00, 58.40it/s, loss=0.0399]\n",
      "Epoch 30 | Training loss: 0.0399, validation accuracy: 0.9826, validation loss: 0.0621\n",
      "100%|██████████| 750/750 [00:12<00:00, 58.24it/s, loss=0.0387]\n",
      "Epoch 31 | Training loss: 0.0387, validation accuracy: 0.9815, validation loss: 0.0644\n",
      "100%|██████████| 750/750 [00:12<00:00, 57.89it/s, loss=0.0376]\n",
      "Epoch 32 | Training loss: 0.0376, validation accuracy: 0.9812, validation loss: 0.0667\n"
     ]
    }
   ],
   "source": [
    "epochs = 1000\n",
    "early_stopping = EarlyStopping(5)\n",
    "\n",
    "for epoch in range(epochs):\n",
    "    train_loss = trainer.train_epoch(model, optimizer, dl[\"train\"])\n",
    "    optimizer.finish_epoch()\n",
    "    val_acc, val_loss = trainer.validation(model, dl[\"valid\"])\n",
    "    logger.log(\"Epoch\", epoch+1, \"|\", \n",
    "          f\"Training loss: {train_loss:.4f}, validation accuracy: {val_acc:.4f}, validation loss: {val_loss:.4f}\")\n",
    "    if early_stopping.should_stop(val_loss):\n",
    "        break"
   ]
  },
  {
   "cell_type": "code",
   "execution_count": 53,
   "metadata": {},
   "outputs": [
    {
     "name": "stdout",
     "output_type": "stream",
     "text": [
      "Train: (0.9876041666666666, 0.03878446874084572)\n",
      "Valid: (0.9811666666666666, 0.06671205336274579)\n"
     ]
    }
   ],
   "source": [
    "train_score = trainer.validation(model, dl[\"train\"])\n",
    "valid_score = trainer.validation(model, dl[\"valid\"])\n",
    "logger.log(\"Train:\", train_score)\n",
    "logger.log(\"Valid:\", valid_score)"
   ]
  },
  {
   "cell_type": "code",
   "execution_count": 54,
   "metadata": {},
   "outputs": [],
   "source": [
    "optimizer.accelerate()"
   ]
  },
  {
   "cell_type": "code",
   "execution_count": 55,
   "metadata": {},
   "outputs": [],
   "source": [
    "optimizer.store_parameters()\n",
    "model.cuda()\n",
    "None"
   ]
  },
  {
   "cell_type": "code",
   "execution_count": 56,
   "metadata": {},
   "outputs": [
    {
     "name": "stdout",
     "output_type": "stream",
     "text": [
      "Train: (0.9906458333333333, 0.03162350018741563)\n",
      "Valid: (0.9840833333333333, 0.05809748757778046)\n"
     ]
    }
   ],
   "source": [
    "train_score = trainer.validation(model, dl[\"train\"])\n",
    "valid_score = trainer.validation(model, dl[\"valid\"])\n",
    "logger.log(\"Train:\", train_score)\n",
    "logger.log(\"Valid:\", valid_score)"
   ]
  },
  {
   "cell_type": "markdown",
   "metadata": {},
   "source": [
    "## Epoch average, with span = 15"
   ]
  },
  {
   "cell_type": "code",
   "execution_count": 57,
   "metadata": {},
   "outputs": [],
   "source": [
    "model = make_model()\n",
    "model.cuda()\n",
    "optimizer = AcceleratedSGD(model.parameters(), 1e-3, k=10, momentum=0.5, weight_decay=1e-5, mode=\"epoch_avg\", avg_alpha = (2 / (15 + 1)))\n",
    "logger = Logger(\"SGD_momentum-avg_span_15.txt\")"
   ]
  },
  {
   "cell_type": "code",
   "execution_count": 58,
   "metadata": {},
   "outputs": [
    {
     "name": "stdout",
     "output_type": "stream",
     "text": [
      "100%|██████████| 750/750 [00:13<00:00, 56.71it/s, loss=2.2811]\n",
      "Epoch 1 | Training loss: 2.2811, validation accuracy: 0.3981, validation loss: 2.2195\n",
      "100%|██████████| 750/750 [00:13<00:00, 57.08it/s, loss=1.1816]\n",
      "Epoch 2 | Training loss: 1.1816, validation accuracy: 0.8792, validation loss: 0.4092\n",
      "100%|██████████| 750/750 [00:13<00:00, 57.23it/s, loss=0.3728]\n",
      "Epoch 3 | Training loss: 0.3728, validation accuracy: 0.9155, validation loss: 0.2841\n",
      "100%|██████████| 750/750 [00:13<00:00, 57.50it/s, loss=0.2639]\n",
      "Epoch 4 | Training loss: 0.2639, validation accuracy: 0.9397, validation loss: 0.2078\n",
      "100%|██████████| 750/750 [00:13<00:00, 57.26it/s, loss=0.2044]\n",
      "Epoch 5 | Training loss: 0.2044, validation accuracy: 0.9468, validation loss: 0.1763\n",
      "100%|██████████| 750/750 [00:13<00:00, 57.05it/s, loss=0.1663]\n",
      "Epoch 6 | Training loss: 0.1663, validation accuracy: 0.9590, validation loss: 0.1432\n",
      "100%|██████████| 750/750 [00:13<00:00, 57.16it/s, loss=0.1407]\n",
      "Epoch 7 | Training loss: 0.1407, validation accuracy: 0.9623, validation loss: 0.1282\n",
      "100%|██████████| 750/750 [00:12<00:00, 57.86it/s, loss=0.1240]\n",
      "Epoch 8 | Training loss: 0.1240, validation accuracy: 0.9638, validation loss: 0.1251\n",
      "100%|██████████| 750/750 [00:12<00:00, 57.96it/s, loss=0.1116]\n",
      "Epoch 9 | Training loss: 0.1116, validation accuracy: 0.9683, validation loss: 0.1095\n",
      "100%|██████████| 750/750 [00:12<00:00, 58.04it/s, loss=0.1010]\n",
      "Epoch 10 | Training loss: 0.1010, validation accuracy: 0.9692, validation loss: 0.1104\n",
      "100%|██████████| 750/750 [00:12<00:00, 58.20it/s, loss=0.0931]\n",
      "Epoch 11 | Training loss: 0.0931, validation accuracy: 0.9718, validation loss: 0.0973\n",
      "100%|██████████| 750/750 [00:12<00:00, 58.24it/s, loss=0.0874]\n",
      "Epoch 12 | Training loss: 0.0874, validation accuracy: 0.9723, validation loss: 0.0940\n",
      "100%|██████████| 750/750 [00:12<00:00, 58.20it/s, loss=0.0825]\n",
      "Epoch 13 | Training loss: 0.0825, validation accuracy: 0.9730, validation loss: 0.0914\n",
      "100%|██████████| 750/750 [00:12<00:00, 58.18it/s, loss=0.0766]\n",
      "Epoch 14 | Training loss: 0.0766, validation accuracy: 0.9690, validation loss: 0.1039\n",
      "100%|██████████| 750/750 [00:12<00:00, 58.34it/s, loss=0.0724]\n",
      "Epoch 15 | Training loss: 0.0724, validation accuracy: 0.9755, validation loss: 0.0863\n",
      "100%|██████████| 750/750 [00:12<00:00, 57.73it/s, loss=0.0684]\n",
      "Epoch 16 | Training loss: 0.0684, validation accuracy: 0.9757, validation loss: 0.0859\n",
      "100%|██████████| 750/750 [00:13<00:00, 56.69it/s, loss=0.0653]\n",
      "Epoch 17 | Training loss: 0.0653, validation accuracy: 0.9769, validation loss: 0.0796\n",
      "100%|██████████| 750/750 [00:13<00:00, 57.68it/s, loss=0.0624]\n",
      "Epoch 18 | Training loss: 0.0624, validation accuracy: 0.9796, validation loss: 0.0714\n",
      "100%|██████████| 750/750 [00:12<00:00, 58.24it/s, loss=0.0593]\n",
      "Epoch 19 | Training loss: 0.0593, validation accuracy: 0.9803, validation loss: 0.0728\n",
      "100%|██████████| 750/750 [00:12<00:00, 58.33it/s, loss=0.0570]\n",
      "Epoch 20 | Training loss: 0.0570, validation accuracy: 0.9792, validation loss: 0.0756\n",
      "100%|██████████| 750/750 [00:12<00:00, 58.03it/s, loss=0.0548]\n",
      "Epoch 21 | Training loss: 0.0548, validation accuracy: 0.9811, validation loss: 0.0674\n",
      "100%|██████████| 750/750 [00:13<00:00, 56.12it/s, loss=0.0523]\n",
      "Epoch 22 | Training loss: 0.0523, validation accuracy: 0.9793, validation loss: 0.0723\n",
      "100%|██████████| 750/750 [00:13<00:00, 57.43it/s, loss=0.0496]\n",
      "Epoch 23 | Training loss: 0.0496, validation accuracy: 0.9798, validation loss: 0.0694\n",
      "100%|██████████| 750/750 [00:13<00:00, 57.20it/s, loss=0.0482]\n",
      "Epoch 24 | Training loss: 0.0482, validation accuracy: 0.9811, validation loss: 0.0657\n",
      "100%|██████████| 750/750 [00:12<00:00, 57.73it/s, loss=0.0459]\n",
      "Epoch 25 | Training loss: 0.0459, validation accuracy: 0.9808, validation loss: 0.0644\n",
      "100%|██████████| 750/750 [00:12<00:00, 58.17it/s, loss=0.0444]\n",
      "Epoch 26 | Training loss: 0.0444, validation accuracy: 0.9811, validation loss: 0.0661\n",
      "100%|██████████| 750/750 [00:13<00:00, 57.55it/s, loss=0.0429]\n",
      "Epoch 27 | Training loss: 0.0429, validation accuracy: 0.9821, validation loss: 0.0618\n",
      "100%|██████████| 750/750 [00:13<00:00, 57.67it/s, loss=0.0414]\n",
      "Epoch 28 | Training loss: 0.0414, validation accuracy: 0.9823, validation loss: 0.0613\n",
      "100%|██████████| 750/750 [00:13<00:00, 57.23it/s, loss=0.0397]\n",
      "Epoch 29 | Training loss: 0.0397, validation accuracy: 0.9829, validation loss: 0.0585\n",
      "100%|██████████| 750/750 [00:13<00:00, 57.27it/s, loss=0.0372]\n",
      "Epoch 30 | Training loss: 0.0372, validation accuracy: 0.9818, validation loss: 0.0672\n",
      "100%|██████████| 750/750 [00:13<00:00, 55.25it/s, loss=0.0369]\n",
      "Epoch 31 | Training loss: 0.0369, validation accuracy: 0.9830, validation loss: 0.0589\n",
      "100%|██████████| 750/750 [00:13<00:00, 55.25it/s, loss=0.0353]\n",
      "Epoch 32 | Training loss: 0.0353, validation accuracy: 0.9778, validation loss: 0.0741\n",
      "100%|██████████| 750/750 [00:13<00:00, 56.96it/s, loss=0.0342]\n",
      "Epoch 33 | Training loss: 0.0342, validation accuracy: 0.9820, validation loss: 0.0608\n",
      "100%|██████████| 750/750 [00:13<00:00, 57.12it/s, loss=0.0329]\n",
      "Epoch 34 | Training loss: 0.0329, validation accuracy: 0.9832, validation loss: 0.0576\n",
      "100%|██████████| 750/750 [00:13<00:00, 55.92it/s, loss=0.0318]\n",
      "Epoch 35 | Training loss: 0.0318, validation accuracy: 0.9819, validation loss: 0.0621\n",
      "100%|██████████| 750/750 [00:13<00:00, 53.99it/s, loss=0.0304]\n",
      "Epoch 36 | Training loss: 0.0304, validation accuracy: 0.9818, validation loss: 0.0597\n",
      "100%|██████████| 750/750 [00:13<00:00, 55.86it/s, loss=0.0297]\n",
      "Epoch 37 | Training loss: 0.0297, validation accuracy: 0.9838, validation loss: 0.0590\n",
      "100%|██████████| 750/750 [00:13<00:00, 56.61it/s, loss=0.0286]\n",
      "Epoch 38 | Training loss: 0.0286, validation accuracy: 0.9832, validation loss: 0.0574\n",
      "100%|██████████| 750/750 [00:13<00:00, 56.70it/s, loss=0.0277]\n",
      "Epoch 39 | Training loss: 0.0277, validation accuracy: 0.9842, validation loss: 0.0540\n",
      "100%|██████████| 750/750 [00:13<00:00, 56.08it/s, loss=0.0263]\n",
      "Epoch 40 | Training loss: 0.0263, validation accuracy: 0.9832, validation loss: 0.0571\n",
      "100%|██████████| 750/750 [00:12<00:00, 57.81it/s, loss=0.0255]\n",
      "Epoch 41 | Training loss: 0.0255, validation accuracy: 0.9830, validation loss: 0.0587\n",
      "100%|██████████| 750/750 [00:12<00:00, 58.28it/s, loss=0.0246]\n",
      "Epoch 42 | Training loss: 0.0246, validation accuracy: 0.9822, validation loss: 0.0665\n",
      "100%|██████████| 750/750 [00:12<00:00, 58.13it/s, loss=0.0236]\n",
      "Epoch 43 | Training loss: 0.0236, validation accuracy: 0.9841, validation loss: 0.0564\n",
      "100%|██████████| 750/750 [00:12<00:00, 58.32it/s, loss=0.0224]\n",
      "Epoch 44 | Training loss: 0.0224, validation accuracy: 0.9832, validation loss: 0.0609\n"
     ]
    }
   ],
   "source": [
    "epochs = 1000\n",
    "early_stopping = EarlyStopping(5)\n",
    "\n",
    "for epoch in range(epochs):\n",
    "    train_loss = trainer.train_epoch(model, optimizer, dl[\"train\"])\n",
    "    optimizer.finish_epoch()\n",
    "    val_acc, val_loss = trainer.validation(model, dl[\"valid\"])\n",
    "    logger.log(\"Epoch\", epoch+1, \"|\", \n",
    "          f\"Training loss: {train_loss:.4f}, validation accuracy: {val_acc:.4f}, validation loss: {val_loss:.4f}\")\n",
    "    if early_stopping.should_stop(val_loss):\n",
    "        break"
   ]
  },
  {
   "cell_type": "code",
   "execution_count": 59,
   "metadata": {},
   "outputs": [
    {
     "name": "stdout",
     "output_type": "stream",
     "text": [
      "Train: (0.9930208333333334, 0.02317388749010085)\n",
      "Valid: (0.9831666666666666, 0.06085876511565099)\n"
     ]
    }
   ],
   "source": [
    "train_score = trainer.validation(model, dl[\"train\"])\n",
    "valid_score = trainer.validation(model, dl[\"valid\"])\n",
    "logger.log(\"Train:\", train_score)\n",
    "logger.log(\"Valid:\", valid_score)"
   ]
  },
  {
   "cell_type": "code",
   "execution_count": 60,
   "metadata": {},
   "outputs": [],
   "source": [
    "optimizer.accelerate()"
   ]
  },
  {
   "cell_type": "code",
   "execution_count": 61,
   "metadata": {},
   "outputs": [],
   "source": [
    "optimizer.store_parameters()\n",
    "model.cuda()\n",
    "None"
   ]
  },
  {
   "cell_type": "code",
   "execution_count": 62,
   "metadata": {},
   "outputs": [
    {
     "name": "stdout",
     "output_type": "stream",
     "text": [
      "Train: (0.995, 0.01873590029787738)\n",
      "Valid: (0.9849166666666667, 0.05407277113137146)\n"
     ]
    }
   ],
   "source": [
    "train_score = trainer.validation(model, dl[\"train\"])\n",
    "valid_score = trainer.validation(model, dl[\"valid\"])\n",
    "logger.log(\"Train:\", train_score)\n",
    "logger.log(\"Valid:\", valid_score)"
   ]
  },
  {
   "cell_type": "markdown",
   "metadata": {},
   "source": [
    "## Epoch average, with span = 10"
   ]
  },
  {
   "cell_type": "code",
   "execution_count": 63,
   "metadata": {},
   "outputs": [],
   "source": [
    "model = make_model()\n",
    "model.cuda()\n",
    "optimizer = AcceleratedSGD(model.parameters(), 1e-3, k=10, momentum=0.5, weight_decay=1e-5, mode=\"epoch_avg\", avg_alpha = (2 / (10 + 1)))\n",
    "logger = Logger(\"SGD_momentum-avg_span_10.txt\")"
   ]
  },
  {
   "cell_type": "code",
   "execution_count": 64,
   "metadata": {},
   "outputs": [
    {
     "name": "stdout",
     "output_type": "stream",
     "text": [
      "100%|██████████| 750/750 [00:13<00:00, 57.26it/s, loss=2.2934]\n",
      "Epoch 1 | Training loss: 2.2934, validation accuracy: 0.3521, validation loss: 2.2806\n",
      "100%|██████████| 750/750 [00:12<00:00, 58.31it/s, loss=1.9816]\n",
      "Epoch 2 | Training loss: 1.9816, validation accuracy: 0.7953, validation loss: 0.7369\n",
      "100%|██████████| 750/750 [00:13<00:00, 56.91it/s, loss=0.5012]\n",
      "Epoch 3 | Training loss: 0.5012, validation accuracy: 0.8977, validation loss: 0.3449\n",
      "100%|██████████| 750/750 [00:13<00:00, 57.23it/s, loss=0.3298]\n",
      "Epoch 4 | Training loss: 0.3298, validation accuracy: 0.9147, validation loss: 0.2790\n",
      "100%|██████████| 750/750 [00:12<00:00, 57.76it/s, loss=0.2472]\n",
      "Epoch 5 | Training loss: 0.2472, validation accuracy: 0.9376, validation loss: 0.2150\n",
      "100%|██████████| 750/750 [00:13<00:00, 56.44it/s, loss=0.1948]\n",
      "Epoch 6 | Training loss: 0.1948, validation accuracy: 0.9530, validation loss: 0.1617\n",
      "100%|██████████| 750/750 [00:12<00:00, 58.29it/s, loss=0.1634]\n",
      "Epoch 7 | Training loss: 0.1634, validation accuracy: 0.9567, validation loss: 0.1459\n",
      "100%|██████████| 750/750 [00:12<00:00, 58.43it/s, loss=0.1397]\n",
      "Epoch 8 | Training loss: 0.1397, validation accuracy: 0.9627, validation loss: 0.1254\n",
      "100%|██████████| 750/750 [00:13<00:00, 57.37it/s, loss=0.1240]\n",
      "Epoch 9 | Training loss: 0.1240, validation accuracy: 0.9665, validation loss: 0.1129\n",
      "100%|██████████| 750/750 [00:13<00:00, 56.76it/s, loss=0.1111]\n",
      "Epoch 10 | Training loss: 0.1111, validation accuracy: 0.9654, validation loss: 0.1138\n",
      "100%|██████████| 750/750 [00:13<00:00, 54.54it/s, loss=0.1013]\n",
      "Epoch 11 | Training loss: 0.1013, validation accuracy: 0.9715, validation loss: 0.0983\n",
      "100%|██████████| 750/750 [00:14<00:00, 53.50it/s, loss=0.0935]\n",
      "Epoch 12 | Training loss: 0.0935, validation accuracy: 0.9699, validation loss: 0.0980\n",
      "100%|██████████| 750/750 [00:13<00:00, 55.65it/s, loss=0.0865]\n",
      "Epoch 13 | Training loss: 0.0865, validation accuracy: 0.9714, validation loss: 0.0934\n",
      "100%|██████████| 750/750 [00:13<00:00, 56.23it/s, loss=0.0802]\n",
      "Epoch 14 | Training loss: 0.0802, validation accuracy: 0.9740, validation loss: 0.0881\n",
      "100%|██████████| 750/750 [00:13<00:00, 55.73it/s, loss=0.0753]\n",
      "Epoch 15 | Training loss: 0.0753, validation accuracy: 0.9738, validation loss: 0.0860\n",
      "100%|██████████| 750/750 [00:13<00:00, 56.66it/s, loss=0.0712]\n",
      "Epoch 16 | Training loss: 0.0712, validation accuracy: 0.9731, validation loss: 0.0904\n",
      "100%|██████████| 750/750 [00:13<00:00, 55.84it/s, loss=0.0679]\n",
      "Epoch 17 | Training loss: 0.0679, validation accuracy: 0.9765, validation loss: 0.0822\n",
      "100%|██████████| 750/750 [00:13<00:00, 56.96it/s, loss=0.0637]\n",
      "Epoch 18 | Training loss: 0.0637, validation accuracy: 0.9774, validation loss: 0.0751\n",
      "100%|██████████| 750/750 [00:13<00:00, 56.21it/s, loss=0.0614]\n",
      "Epoch 19 | Training loss: 0.0614, validation accuracy: 0.9758, validation loss: 0.0790\n",
      "100%|██████████| 750/750 [00:12<00:00, 57.74it/s, loss=0.0583]\n",
      "Epoch 20 | Training loss: 0.0583, validation accuracy: 0.9787, validation loss: 0.0727\n",
      "100%|██████████| 750/750 [00:13<00:00, 55.53it/s, loss=0.0557]\n",
      "Epoch 21 | Training loss: 0.0557, validation accuracy: 0.9777, validation loss: 0.0736\n",
      "100%|██████████| 750/750 [00:12<00:00, 57.97it/s, loss=0.0535]\n",
      "Epoch 22 | Training loss: 0.0535, validation accuracy: 0.9796, validation loss: 0.0721\n",
      "100%|██████████| 750/750 [00:13<00:00, 56.61it/s, loss=0.0512]\n",
      "Epoch 23 | Training loss: 0.0512, validation accuracy: 0.9806, validation loss: 0.0669\n",
      "100%|██████████| 750/750 [00:13<00:00, 55.92it/s, loss=0.0488]\n",
      "Epoch 24 | Training loss: 0.0488, validation accuracy: 0.9795, validation loss: 0.0677\n",
      "100%|██████████| 750/750 [00:13<00:00, 57.54it/s, loss=0.0466]\n",
      "Epoch 25 | Training loss: 0.0466, validation accuracy: 0.9757, validation loss: 0.0820\n",
      "100%|██████████| 750/750 [00:13<00:00, 56.86it/s, loss=0.0455]\n",
      "Epoch 26 | Training loss: 0.0455, validation accuracy: 0.9797, validation loss: 0.0712\n",
      "100%|██████████| 750/750 [00:13<00:00, 54.46it/s, loss=0.0438]\n",
      "Epoch 27 | Training loss: 0.0438, validation accuracy: 0.9821, validation loss: 0.0623\n",
      "100%|██████████| 750/750 [00:14<00:00, 50.87it/s, loss=0.0422]\n",
      "Epoch 28 | Training loss: 0.0422, validation accuracy: 0.9807, validation loss: 0.0669\n",
      "100%|██████████| 750/750 [00:14<00:00, 52.54it/s, loss=0.0405]\n",
      "Epoch 29 | Training loss: 0.0405, validation accuracy: 0.9815, validation loss: 0.0640\n",
      "100%|██████████| 750/750 [00:13<00:00, 56.66it/s, loss=0.0390]\n",
      "Epoch 30 | Training loss: 0.0390, validation accuracy: 0.9808, validation loss: 0.0671\n",
      "100%|██████████| 750/750 [00:13<00:00, 55.74it/s, loss=0.0373]\n",
      "Epoch 31 | Training loss: 0.0373, validation accuracy: 0.9828, validation loss: 0.0621\n",
      "100%|██████████| 750/750 [00:14<00:00, 53.22it/s, loss=0.0367]\n",
      "Epoch 32 | Training loss: 0.0367, validation accuracy: 0.9827, validation loss: 0.0615\n",
      "100%|██████████| 750/750 [00:13<00:00, 56.97it/s, loss=0.0350]\n",
      "Epoch 33 | Training loss: 0.0350, validation accuracy: 0.9828, validation loss: 0.0609\n",
      "100%|██████████| 750/750 [00:13<00:00, 55.24it/s, loss=0.0343]\n",
      "Epoch 34 | Training loss: 0.0343, validation accuracy: 0.9825, validation loss: 0.0600\n",
      "100%|██████████| 750/750 [00:13<00:00, 56.17it/s, loss=0.0330]\n",
      "Epoch 35 | Training loss: 0.0330, validation accuracy: 0.9819, validation loss: 0.0656\n",
      "100%|██████████| 750/750 [00:13<00:00, 57.61it/s, loss=0.0316]\n",
      "Epoch 36 | Training loss: 0.0316, validation accuracy: 0.9831, validation loss: 0.0637\n",
      "100%|██████████| 750/750 [00:12<00:00, 57.69it/s, loss=0.0304]\n",
      "Epoch 37 | Training loss: 0.0304, validation accuracy: 0.9838, validation loss: 0.0586\n",
      "100%|██████████| 750/750 [00:13<00:00, 57.51it/s, loss=0.0295]\n",
      "Epoch 38 | Training loss: 0.0295, validation accuracy: 0.9831, validation loss: 0.0592\n",
      "100%|██████████| 750/750 [00:13<00:00, 57.69it/s, loss=0.0288]\n",
      "Epoch 39 | Training loss: 0.0288, validation accuracy: 0.9835, validation loss: 0.0610\n",
      "100%|██████████| 750/750 [00:13<00:00, 54.95it/s, loss=0.0282]\n",
      "Epoch 40 | Training loss: 0.0282, validation accuracy: 0.9801, validation loss: 0.0726\n",
      "100%|██████████| 750/750 [00:13<00:00, 54.10it/s, loss=0.0270]\n",
      "Epoch 41 | Training loss: 0.0270, validation accuracy: 0.9828, validation loss: 0.0611\n",
      "100%|██████████| 750/750 [00:13<00:00, 57.15it/s, loss=0.0260]\n",
      "Epoch 42 | Training loss: 0.0260, validation accuracy: 0.9842, validation loss: 0.0593\n"
     ]
    }
   ],
   "source": [
    "epochs = 1000\n",
    "early_stopping = EarlyStopping(5)\n",
    "\n",
    "for epoch in range(epochs):\n",
    "    train_loss = trainer.train_epoch(model, optimizer, dl[\"train\"])\n",
    "    optimizer.finish_epoch()\n",
    "    val_acc, val_loss = trainer.validation(model, dl[\"valid\"])\n",
    "    logger.log(\"Epoch\", epoch+1, \"|\", \n",
    "          f\"Training loss: {train_loss:.4f}, validation accuracy: {val_acc:.4f}, validation loss: {val_loss:.4f}\")\n",
    "    if early_stopping.should_stop(val_loss):\n",
    "        break"
   ]
  },
  {
   "cell_type": "code",
   "execution_count": 65,
   "metadata": {},
   "outputs": [
    {
     "name": "stdout",
     "output_type": "stream",
     "text": [
      "Train: (0.993625, 0.02147273684075723)\n",
      "Valid: (0.98425, 0.05929475574420454)\n"
     ]
    }
   ],
   "source": [
    "train_score = trainer.validation(model, dl[\"train\"])\n",
    "valid_score = trainer.validation(model, dl[\"valid\"])\n",
    "logger.log(\"Train:\", train_score)\n",
    "logger.log(\"Valid:\", valid_score)"
   ]
  },
  {
   "cell_type": "code",
   "execution_count": 66,
   "metadata": {},
   "outputs": [],
   "source": [
    "optimizer.accelerate()"
   ]
  },
  {
   "cell_type": "code",
   "execution_count": 67,
   "metadata": {},
   "outputs": [],
   "source": [
    "optimizer.store_parameters()\n",
    "model.cuda()\n",
    "None"
   ]
  },
  {
   "cell_type": "code",
   "execution_count": 68,
   "metadata": {},
   "outputs": [
    {
     "name": "stdout",
     "output_type": "stream",
     "text": [
      "Train: (0.9943958333333334, 0.021218339710030704)\n",
      "Valid: (0.9840833333333333, 0.055943363830912855)\n"
     ]
    }
   ],
   "source": [
    "train_score = trainer.validation(model, dl[\"train\"])\n",
    "valid_score = trainer.validation(model, dl[\"valid\"])\n",
    "logger.log(\"Train:\", train_score)\n",
    "logger.log(\"Valid:\", valid_score)"
   ]
  },
  {
   "cell_type": "markdown",
   "metadata": {},
   "source": [
    "## Epoch average, with span = 5"
   ]
  },
  {
   "cell_type": "code",
   "execution_count": 69,
   "metadata": {},
   "outputs": [],
   "source": [
    "model = make_model()\n",
    "model.cuda()\n",
    "optimizer = AcceleratedSGD(model.parameters(), 1e-3, k=10, momentum=0.5, weight_decay=1e-5, mode=\"epoch_avg\", avg_alpha = (2 / (5 + 1)))\n",
    "logger = Logger(\"SGD_momentum-avg_span_5.txt\")"
   ]
  },
  {
   "cell_type": "code",
   "execution_count": 70,
   "metadata": {
    "tags": []
   },
   "outputs": [
    {
     "name": "stdout",
     "output_type": "stream",
     "text": [
      "100%|██████████| 750/750 [00:13<00:00, 56.20it/s, loss=2.2822]\n",
      "Epoch 1 | Training loss: 2.2822, validation accuracy: 0.4733, validation loss: 2.2303\n",
      "100%|██████████| 750/750 [00:12<00:00, 58.21it/s, loss=1.2210]\n",
      "Epoch 2 | Training loss: 1.2210, validation accuracy: 0.8795, validation loss: 0.4153\n",
      "100%|██████████| 750/750 [00:12<00:00, 58.13it/s, loss=0.3777]\n",
      "Epoch 3 | Training loss: 0.3777, validation accuracy: 0.9143, validation loss: 0.2905\n",
      "100%|██████████| 750/750 [00:12<00:00, 57.99it/s, loss=0.2733]\n",
      "Epoch 4 | Training loss: 0.2733, validation accuracy: 0.9253, validation loss: 0.2524\n",
      "100%|██████████| 750/750 [00:13<00:00, 56.13it/s, loss=0.2096]\n",
      "Epoch 5 | Training loss: 0.2096, validation accuracy: 0.9432, validation loss: 0.1837\n",
      "100%|██████████| 750/750 [00:12<00:00, 57.78it/s, loss=0.1695]\n",
      "Epoch 6 | Training loss: 0.1695, validation accuracy: 0.9586, validation loss: 0.1419\n",
      "100%|██████████| 750/750 [00:12<00:00, 57.75it/s, loss=0.1434]\n",
      "Epoch 7 | Training loss: 0.1434, validation accuracy: 0.9589, validation loss: 0.1377\n",
      "100%|██████████| 750/750 [00:12<00:00, 57.82it/s, loss=0.1236]\n",
      "Epoch 8 | Training loss: 0.1236, validation accuracy: 0.9664, validation loss: 0.1110\n",
      "100%|██████████| 750/750 [00:13<00:00, 57.62it/s, loss=0.1103]\n",
      "Epoch 9 | Training loss: 0.1103, validation accuracy: 0.9642, validation loss: 0.1204\n",
      "100%|██████████| 750/750 [00:13<00:00, 57.62it/s, loss=0.0986]\n",
      "Epoch 10 | Training loss: 0.0986, validation accuracy: 0.9702, validation loss: 0.1004\n",
      "100%|██████████| 750/750 [00:12<00:00, 57.85it/s, loss=0.0906]\n",
      "Epoch 11 | Training loss: 0.0906, validation accuracy: 0.9725, validation loss: 0.0968\n",
      "100%|██████████| 750/750 [00:13<00:00, 57.44it/s, loss=0.0844]\n",
      "Epoch 12 | Training loss: 0.0844, validation accuracy: 0.9702, validation loss: 0.0966\n",
      "100%|██████████| 750/750 [00:13<00:00, 57.15it/s, loss=0.0777]\n",
      "Epoch 13 | Training loss: 0.0777, validation accuracy: 0.9728, validation loss: 0.0897\n",
      "100%|██████████| 750/750 [00:13<00:00, 57.68it/s, loss=0.0742]\n",
      "Epoch 14 | Training loss: 0.0742, validation accuracy: 0.9755, validation loss: 0.0817\n",
      "100%|██████████| 750/750 [00:12<00:00, 58.11it/s, loss=0.0699]\n",
      "Epoch 15 | Training loss: 0.0699, validation accuracy: 0.9733, validation loss: 0.0879\n",
      "100%|██████████| 750/750 [00:12<00:00, 58.20it/s, loss=0.0656]\n",
      "Epoch 16 | Training loss: 0.0656, validation accuracy: 0.9768, validation loss: 0.0761\n",
      "100%|██████████| 750/750 [00:12<00:00, 58.08it/s, loss=0.0630]\n",
      "Epoch 17 | Training loss: 0.0630, validation accuracy: 0.9779, validation loss: 0.0740\n",
      "100%|██████████| 750/750 [00:12<00:00, 58.04it/s, loss=0.0601]\n",
      "Epoch 18 | Training loss: 0.0601, validation accuracy: 0.9781, validation loss: 0.0710\n",
      "100%|██████████| 750/750 [00:12<00:00, 57.99it/s, loss=0.0568]\n",
      "Epoch 19 | Training loss: 0.0568, validation accuracy: 0.9797, validation loss: 0.0695\n",
      "100%|██████████| 750/750 [00:12<00:00, 58.23it/s, loss=0.0547]\n",
      "Epoch 20 | Training loss: 0.0547, validation accuracy: 0.9783, validation loss: 0.0697\n",
      "100%|██████████| 750/750 [00:12<00:00, 58.01it/s, loss=0.0526]\n",
      "Epoch 21 | Training loss: 0.0526, validation accuracy: 0.9780, validation loss: 0.0705\n",
      "100%|██████████| 750/750 [00:12<00:00, 57.95it/s, loss=0.0505]\n",
      "Epoch 22 | Training loss: 0.0505, validation accuracy: 0.9802, validation loss: 0.0693\n",
      "100%|██████████| 750/750 [00:12<00:00, 58.12it/s, loss=0.0481]\n",
      "Epoch 23 | Training loss: 0.0481, validation accuracy: 0.9788, validation loss: 0.0692\n",
      "100%|██████████| 750/750 [00:12<00:00, 58.06it/s, loss=0.0459]\n",
      "Epoch 24 | Training loss: 0.0459, validation accuracy: 0.9812, validation loss: 0.0647\n",
      "100%|██████████| 750/750 [00:12<00:00, 58.04it/s, loss=0.0441]\n",
      "Epoch 25 | Training loss: 0.0441, validation accuracy: 0.9816, validation loss: 0.0634\n",
      "100%|██████████| 750/750 [00:12<00:00, 57.99it/s, loss=0.0431]\n",
      "Epoch 26 | Training loss: 0.0431, validation accuracy: 0.9808, validation loss: 0.0654\n",
      "100%|██████████| 750/750 [00:12<00:00, 58.24it/s, loss=0.0409]\n",
      "Epoch 27 | Training loss: 0.0409, validation accuracy: 0.9819, validation loss: 0.0626\n",
      "100%|██████████| 750/750 [00:12<00:00, 58.05it/s, loss=0.0395]\n",
      "Epoch 28 | Training loss: 0.0395, validation accuracy: 0.9819, validation loss: 0.0626\n",
      "100%|██████████| 750/750 [00:12<00:00, 57.91it/s, loss=0.0389]\n",
      "Epoch 29 | Training loss: 0.0389, validation accuracy: 0.9810, validation loss: 0.0647\n",
      "100%|██████████| 750/750 [00:13<00:00, 57.14it/s, loss=0.0368]\n",
      "Epoch 30 | Training loss: 0.0368, validation accuracy: 0.9828, validation loss: 0.0613\n",
      "100%|██████████| 750/750 [00:12<00:00, 58.33it/s, loss=0.0355]\n",
      "Epoch 31 | Training loss: 0.0355, validation accuracy: 0.9827, validation loss: 0.0603\n",
      "100%|██████████| 750/750 [00:12<00:00, 58.08it/s, loss=0.0342]\n",
      "Epoch 32 | Training loss: 0.0342, validation accuracy: 0.9818, validation loss: 0.0607\n",
      "100%|██████████| 750/750 [00:12<00:00, 58.27it/s, loss=0.0326]\n",
      "Epoch 33 | Training loss: 0.0326, validation accuracy: 0.9823, validation loss: 0.0589\n",
      "100%|██████████| 750/750 [00:13<00:00, 57.63it/s, loss=0.0317]\n",
      "Epoch 34 | Training loss: 0.0317, validation accuracy: 0.9825, validation loss: 0.0587\n",
      "100%|██████████| 750/750 [00:13<00:00, 54.28it/s, loss=0.0309]\n",
      "Epoch 35 | Training loss: 0.0309, validation accuracy: 0.9830, validation loss: 0.0551\n",
      "100%|██████████| 750/750 [00:13<00:00, 54.68it/s, loss=0.0302]\n",
      "Epoch 36 | Training loss: 0.0302, validation accuracy: 0.9840, validation loss: 0.0571\n",
      "100%|██████████| 750/750 [00:13<00:00, 54.27it/s, loss=0.0288]\n",
      "Epoch 37 | Training loss: 0.0288, validation accuracy: 0.9820, validation loss: 0.0586\n",
      "100%|██████████| 750/750 [00:13<00:00, 56.83it/s, loss=0.0279]\n",
      "Epoch 38 | Training loss: 0.0279, validation accuracy: 0.9830, validation loss: 0.0608\n",
      "100%|██████████| 750/750 [00:12<00:00, 57.92it/s, loss=0.0262]\n",
      "Epoch 39 | Training loss: 0.0262, validation accuracy: 0.9844, validation loss: 0.0549\n",
      "100%|██████████| 750/750 [00:13<00:00, 56.55it/s, loss=0.0256]\n",
      "Epoch 40 | Training loss: 0.0256, validation accuracy: 0.9835, validation loss: 0.0578\n",
      "100%|██████████| 750/750 [00:13<00:00, 55.80it/s, loss=0.0248]\n",
      "Epoch 41 | Training loss: 0.0248, validation accuracy: 0.9856, validation loss: 0.0538\n",
      "100%|██████████| 750/750 [00:13<00:00, 55.49it/s, loss=0.0233]\n",
      "Epoch 42 | Training loss: 0.0233, validation accuracy: 0.9843, validation loss: 0.0545\n",
      "100%|██████████| 750/750 [00:13<00:00, 55.91it/s, loss=0.0227]\n",
      "Epoch 43 | Training loss: 0.0227, validation accuracy: 0.9853, validation loss: 0.0553\n",
      "100%|██████████| 750/750 [00:13<00:00, 54.84it/s, loss=0.0225]\n",
      "Epoch 44 | Training loss: 0.0225, validation accuracy: 0.9843, validation loss: 0.0556\n",
      "100%|██████████| 750/750 [00:14<00:00, 51.74it/s, loss=0.0213]\n",
      "Epoch 45 | Training loss: 0.0213, validation accuracy: 0.9853, validation loss: 0.0547\n",
      "100%|██████████| 750/750 [00:14<00:00, 51.32it/s, loss=0.0209]\n",
      "Epoch 46 | Training loss: 0.0209, validation accuracy: 0.9852, validation loss: 0.0572\n"
     ]
    }
   ],
   "source": [
    "epochs = 1000\n",
    "early_stopping = EarlyStopping(5)\n",
    "\n",
    "for epoch in range(epochs):\n",
    "    train_loss = trainer.train_epoch(model, optimizer, dl[\"train\"])\n",
    "    optimizer.finish_epoch()\n",
    "    val_acc, val_loss = trainer.validation(model, dl[\"valid\"])\n",
    "    logger.log(\"Epoch\", epoch+1, \"|\", \n",
    "          f\"Training loss: {train_loss:.4f}, validation accuracy: {val_acc:.4f}, validation loss: {val_loss:.4f}\")\n",
    "    if early_stopping.should_stop(val_loss):\n",
    "        break"
   ]
  },
  {
   "cell_type": "code",
   "execution_count": 71,
   "metadata": {},
   "outputs": [
    {
     "name": "stdout",
     "output_type": "stream",
     "text": [
      "Train: (0.9945625, 0.01829809874645434)\n",
      "Valid: (0.98525, 0.057204695962873905)\n"
     ]
    }
   ],
   "source": [
    "train_score = trainer.validation(model, dl[\"train\"])\n",
    "valid_score = trainer.validation(model, dl[\"valid\"])\n",
    "logger.log(\"Train:\", train_score)\n",
    "logger.log(\"Valid:\", valid_score)"
   ]
  },
  {
   "cell_type": "code",
   "execution_count": 72,
   "metadata": {},
   "outputs": [],
   "source": [
    "optimizer.accelerate()"
   ]
  },
  {
   "cell_type": "code",
   "execution_count": 73,
   "metadata": {},
   "outputs": [],
   "source": [
    "optimizer.store_parameters()\n",
    "model.cuda()\n",
    "None"
   ]
  },
  {
   "cell_type": "code",
   "execution_count": 74,
   "metadata": {},
   "outputs": [
    {
     "name": "stdout",
     "output_type": "stream",
     "text": [
      "Train: (0.9955416666666667, 0.016502816360560245)\n",
      "Valid: (0.9854166666666667, 0.052549691832003496)\n"
     ]
    }
   ],
   "source": [
    "train_score = trainer.validation(model, dl[\"train\"])\n",
    "valid_score = trainer.validation(model, dl[\"valid\"])\n",
    "logger.log(\"Train:\", train_score)\n",
    "logger.log(\"Valid:\", valid_score)"
   ]
  },
  {
   "cell_type": "code",
   "execution_count": null,
   "metadata": {},
   "outputs": [],
   "source": []
  }
 ],
 "metadata": {
  "kernelspec": {
   "display_name": "Python 3 (Torch)",
   "language": "python",
   "name": "torch"
  },
  "language_info": {
   "codemirror_mode": {
    "name": "ipython",
    "version": 3
   },
   "file_extension": ".py",
   "mimetype": "text/x-python",
   "name": "python",
   "nbconvert_exporter": "python",
   "pygments_lexer": "ipython3",
   "version": "3.8.5"
  }
 },
 "nbformat": 4,
 "nbformat_minor": 4
}
